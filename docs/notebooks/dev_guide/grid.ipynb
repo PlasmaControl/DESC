{
 "cells": [
  {
   "cell_type": "markdown",
   "id": "2e7b701c-daab-4c0a-941d-a731778260e7",
   "metadata": {
    "tags": []
   },
   "source": [
    "# `grid.py`"
   ]
  },
  {
   "cell_type": "markdown",
   "id": "fcafe02d-0ff9-487e-9487-9ffdecc08165",
   "metadata": {},
   "source": [
    "- explain symmetry and how that affects grid (delete lower half of poloidal plane)\n",
    " - show how it preserves FSA\n",
    "- why L M need to be specific things for concentric grid to work"
   ]
  },
  {
   "cell_type": "markdown",
   "id": "fb30021b-9e47-4ebf-8361-75668c21bbf9",
   "metadata": {},
   "source": []
  }
 ],
 "metadata": {
  "kernelspec": {
   "display_name": "Python 3 (ipykernel)",
   "language": "python",
   "name": "python3"
  },
  "language_info": {
   "codemirror_mode": {
    "name": "ipython",
    "version": 3
   },
   "file_extension": ".py",
   "mimetype": "text/x-python",
   "name": "python",
   "nbconvert_exporter": "python",
   "pygments_lexer": "ipython3",
   "version": "3.8.5"
  }
 },
 "nbformat": 4,
 "nbformat_minor": 5
}
