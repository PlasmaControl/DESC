{
 "cells": [
  {
   "cell_type": "code",
   "execution_count": 1,
   "id": "6157e070",
   "metadata": {
    "execution": {
     "iopub.execute_input": "2024-12-07T03:28:04.007072Z",
     "iopub.status.busy": "2024-12-07T03:28:04.006945Z",
     "iopub.status.idle": "2024-12-07T03:28:04.530528Z",
     "shell.execute_reply": "2024-12-07T03:28:04.530132Z"
    }
   },
   "outputs": [],
   "source": [
    "from desc import set_device\n",
    "set_device(\"gpu\")"
   ]
  },
  {
   "cell_type": "code",
   "execution_count": 2,
   "id": "82f24a59",
   "metadata": {
    "execution": {
     "iopub.execute_input": "2024-12-07T03:28:04.532606Z",
     "iopub.status.busy": "2024-12-07T03:28:04.532474Z",
     "iopub.status.idle": "2024-12-07T03:28:11.876994Z",
     "shell.execute_reply": "2024-12-07T03:28:11.876596Z"
    }
   },
   "outputs": [
    {
     "name": "stdout",
     "output_type": "stream",
     "text": [
      "DESC version 0.12.3+553.gcb761a802.dirty,using JAX backend, jax version=0.4.35, jaxlib version=0.4.34, dtype=float64"
     ]
    },
    {
     "name": "stdout",
     "output_type": "stream",
     "text": [
      "\n"
     ]
    },
    {
     "name": "stdout",
     "output_type": "stream",
     "text": [
      "Using device: NVIDIA A100-PCIE-40GB (id=0), with 40.00 GB available memory"
     ]
    },
    {
     "name": "stdout",
     "output_type": "stream",
     "text": [
      "\n"
     ]
    }
   ],
   "source": [
    "import numpy as np\n",
    "import os\n",
    "# os.environ[\"JAX_LOG_COMPILES\"] = \"True\"\n",
    "from scipy.io import netcdf_file\n",
    "import copy\n",
    "import matplotlib\n",
    "import matplotlib.pyplot as plt\n",
    "import scipy\n",
    "from scipy.constants import mu_0\n",
    "import sys\n",
    "import functools\n",
    "import pickle\n",
    "\n",
    "import jax\n",
    "import jax.numpy as jnp\n",
    "from jax import jit, jacfwd\n",
    "\n",
    "from netCDF4 import Dataset\n",
    "import h5py\n",
    "\n",
    "from desc.backend import put, fori_loop, jnp, sign\n",
    "\n",
    "from desc.basis import FourierZernikeBasis, DoubleFourierSeries, FourierSeries\n",
    "from desc.equilibrium import EquilibriaFamily, Equilibrium\n",
    "from desc.grid import ConcentricGrid, LinearGrid, Grid, QuadratureGrid\n",
    "from desc.io import InputReader, load\n",
    "from desc.objectives import *\n",
    "from desc.objectives.objective_funs import _Objective\n",
    "from desc.plotting import plot_1d, plot_2d, plot_3d, plot_section, plot_surfaces, plot_comparison\n",
    "\n",
    "from desc.plotting import *\n",
    "\n",
    "from desc.transform import Transform\n",
    "from desc.vmec import VMECIO\n",
    "from desc.derivatives import Derivative\n",
    "from desc.geometry import FourierRZToroidalSurface\n",
    "from desc.profiles import SplineProfile, PowerSeriesProfile\n",
    "\n",
    "from desc.magnetic_fields import ( SplineMagneticField, \n",
    "                                  #biot_savart_general, \n",
    "                                  FourierCurrentPotentialField, ToroidalMagneticField,\n",
    "                                  field_line_integrate)\n",
    "\n",
    "import desc.examples\n",
    "\n",
    "from desc.backend import fori_loop, jit, jnp, odeint, sign\n",
    "from desc.compute import rpz2xyz, rpz2xyz_vec, xyz2rpz, xyz2rpz_vec\n",
    "from desc.coils import *\n",
    "\n",
    "from desc.utils import Timer, copy_coeffs, errorif, setdefault, svd_inv_null, warnif\n",
    "from desc.utils import flatten_list\n",
    "\n",
    "#from ..utils import cross, dot, safediv, safenorm\n",
    "#from desc.compute.utils import cross\n",
    "#from desc.compute.utils import dot\n",
    "\n",
    "from desc.optimize import lsqtr, lsq_auglag\n",
    "\n",
    "from scipy.optimize import NonlinearConstraint \n",
    "\n",
    "from desc.magnetic_fields import ( SplineMagneticField, \n",
    "                                  #biot_savart_general, \n",
    "                                  FourierCurrentPotentialField, \n",
    "                                  ToroidalMagneticField,\n",
    "                                  field_line_integrate)\n",
    "\n",
    "import time\n",
    "\n",
    "import numpy as np\n",
    "from numpy.linalg import eig\n",
    "\n",
    "from scipy.linalg import null_space\n",
    "from numpy import ndarray\n",
    "\n",
    "\n",
    "from desc.derivatives import Derivative\n",
    "\n",
    "# Import my own functions\n",
    "from desc.fns_simp import (#data_eval, \n",
    "                           #_compute_magnetic_field_from_Current,\n",
    "                           plot_figure,\n",
    "                           plot_figure2,\n",
    "                           #plot_xy,\n",
    "                           #surf_int\n",
    "                          )"
   ]
  },
  {
   "cell_type": "code",
   "execution_count": 3,
   "id": "7facc8bb",
   "metadata": {
    "execution": {
     "iopub.execute_input": "2024-12-07T03:28:11.879096Z",
     "iopub.status.busy": "2024-12-07T03:28:11.878895Z",
     "iopub.status.idle": "2024-12-07T03:28:11.881879Z",
     "shell.execute_reply": "2024-12-07T03:28:11.881563Z"
    }
   },
   "outputs": [],
   "source": [
    "#from desc.continuation import solve_continuation_automatic\n",
    "\n",
    "from desc.objectives import (\n",
    "    #AspectRatio,\n",
    "    #FixBoundaryR,\n",
    "    #FixBoundaryZ,\n",
    "    #FixCurrent,\n",
    "    #FixPressure,\n",
    "    #FixPsi,\n",
    "    #ForceBalance,\n",
    "    ObjectiveFunction,\n",
    "    #QuasisymmetryTwoTerm,\n",
    "    #RotationalTransform,\n",
    "    FixParameters, \n",
    "    ShareParameters,\n",
    "    QuadraticFlux, \n",
    "    SurfaceCurrentRegularization, \n",
    "    bRegularization_fd,\n",
    "    CoilThicknessRegularization,\n",
    "    PlasmaVesselDistance,\n",
    "    MeanCurvature,\n",
    "    PrincipalCurvature,\n",
    ")\n",
    "from desc.optimize import Optimizer"
   ]
  },
  {
   "cell_type": "code",
   "execution_count": 4,
   "id": "8372a00d-f467-4978-9ce0-a74349ed71c9",
   "metadata": {
    "execution": {
     "iopub.execute_input": "2024-12-07T03:28:11.883405Z",
     "iopub.status.busy": "2024-12-07T03:28:11.883277Z",
     "iopub.status.idle": "2024-12-07T03:28:13.392624Z",
     "shell.execute_reply": "2024-12-07T03:28:13.392216Z"
    },
    "scrolled": true
   },
   "outputs": [],
   "source": [
    "# Plasma surfaces\n",
    "eqname_QA = \"/home/fcastro/LMStell/regcoil/rogerio/input.QA_final_output.h5\" #vacuum equilibrium\n",
    "eq_QA = desc.io.load(eqname_QA)[4]\n",
    "\n",
    "eqname_QH = \"/home/fcastro/LMStell/regcoil/rogerio/input.QH_final_output.h5\" #vacuum equilibrium\n",
    "eq_QH = desc.io.load(eqname_QH)[4]"
   ]
  },
  {
   "cell_type": "code",
   "execution_count": 5,
   "id": "6aa6bf12",
   "metadata": {
    "execution": {
     "iopub.execute_input": "2024-12-07T03:28:13.394690Z",
     "iopub.status.busy": "2024-12-07T03:28:13.394552Z",
     "iopub.status.idle": "2024-12-07T03:28:17.250790Z",
     "shell.execute_reply": "2024-12-07T03:28:17.250363Z"
    }
   },
   "outputs": [
    {
     "name": "stdout",
     "output_type": "stream",
     "text": [
      "<class 'numpy.ndarray'>"
     ]
    },
    {
     "name": "stdout",
     "output_type": "stream",
     "text": [
      "\n"
     ]
    },
    {
     "name": "stdout",
     "output_type": "stream",
     "text": [
      "<class 'numpy.ndarray'>"
     ]
    },
    {
     "name": "stdout",
     "output_type": "stream",
     "text": [
      "\n"
     ]
    }
   ],
   "source": [
    "#G_QA = eq_QA.compute(\"G\")[\"G\"][-1] / mu_0 * 2*np.pi\n",
    "G_QH = eq_QH.compute(\"G\")[\"G\"][-1] / mu_0 * 2*np.pi"
   ]
  },
  {
   "cell_type": "code",
   "execution_count": 6,
   "id": "c930a631",
   "metadata": {
    "execution": {
     "iopub.execute_input": "2024-12-07T03:28:17.252834Z",
     "iopub.status.busy": "2024-12-07T03:28:17.252694Z",
     "iopub.status.idle": "2024-12-07T03:28:17.483975Z",
     "shell.execute_reply": "2024-12-07T03:28:17.483576Z"
    }
   },
   "outputs": [],
   "source": [
    "eq = eq_QH\n",
    "\n",
    "#surf_name = \"/home/fcastro/DESC/docs/notebooks/R_Opt_old/opt7/surf_opt.h5\"\n",
    "surf_name = \"/home/fcastro/DESC/docs/notebooks/R_Opt/opt3/stell2/0p5/surf_opt.h5\"\n",
    "surf = load(surf_name)"
   ]
  },
  {
   "cell_type": "code",
   "execution_count": 7,
   "id": "a431ad3a",
   "metadata": {
    "execution": {
     "iopub.execute_input": "2024-12-07T03:28:17.485941Z",
     "iopub.status.busy": "2024-12-07T03:28:17.485808Z",
     "iopub.status.idle": "2024-12-07T03:28:17.488340Z",
     "shell.execute_reply": "2024-12-07T03:28:17.488023Z"
    }
   },
   "outputs": [],
   "source": [
    "surf1 = surf\n",
    "\n",
    "# Generate a Surface Current field for RQH\n",
    "surf2 = surf\n",
    "#surf2.G = G_QH\n",
    "\n",
    "#surf2.change_resolution(M = 10,N = 10)\n",
    "#surf2.change_Phi_resolution(M = 12,N = 12)"
   ]
  },
  {
   "cell_type": "code",
   "execution_count": 8,
   "id": "a78683c8",
   "metadata": {
    "execution": {
     "iopub.execute_input": "2024-12-07T03:28:17.489849Z",
     "iopub.status.busy": "2024-12-07T03:28:17.489719Z",
     "iopub.status.idle": "2024-12-07T03:28:19.051473Z",
     "shell.execute_reply": "2024-12-07T03:28:19.051062Z"
    }
   },
   "outputs": [
    {
     "name": "stderr",
     "output_type": "stream",
     "text": [
      "/home/fcastro/DESC/desc/transform.py:70: UserWarning: "
     ]
    },
    {
     "name": "stderr",
     "output_type": "stream",
     "text": [
      "Unequal number of field periods for grid 1 and basis 3."
     ]
    },
    {
     "name": "stderr",
     "output_type": "stream",
     "text": [
      "\n",
      "  warnings.warn(\n"
     ]
    },
    {
     "name": "stdout",
     "output_type": "stream",
     "text": [
      "<class 'numpy.ndarray'>"
     ]
    },
    {
     "name": "stdout",
     "output_type": "stream",
     "text": [
      "\n"
     ]
    },
    {
     "name": "stderr",
     "output_type": "stream",
     "text": [
      "/home/fcastro/DESC/desc/transform.py:70: UserWarning: "
     ]
    },
    {
     "name": "stderr",
     "output_type": "stream",
     "text": [
      "Unequal number of field periods for grid 1 and basis 3."
     ]
    },
    {
     "name": "stderr",
     "output_type": "stream",
     "text": [
      "\n",
      "  warnings.warn(\n"
     ]
    },
    {
     "name": "stdout",
     "output_type": "stream",
     "text": [
      "<class 'numpy.ndarray'>"
     ]
    },
    {
     "name": "stdout",
     "output_type": "stream",
     "text": [
      "\n"
     ]
    },
    {
     "name": "stderr",
     "output_type": "stream",
     "text": [
      "/home/fcastro/DESC/desc/transform.py:70: UserWarning: "
     ]
    },
    {
     "name": "stderr",
     "output_type": "stream",
     "text": [
      "Unequal number of field periods for grid 1 and basis 3."
     ]
    },
    {
     "name": "stderr",
     "output_type": "stream",
     "text": [
      "\n",
      "  warnings.warn(\n"
     ]
    },
    {
     "name": "stdout",
     "output_type": "stream",
     "text": [
      "<class 'numpy.ndarray'>"
     ]
    },
    {
     "name": "stdout",
     "output_type": "stream",
     "text": [
      "\n"
     ]
    },
    {
     "name": "stderr",
     "output_type": "stream",
     "text": [
      "/home/fcastro/DESC/desc/transform.py:70: UserWarning: "
     ]
    },
    {
     "name": "stderr",
     "output_type": "stream",
     "text": [
      "Unequal number of field periods for grid 1 and basis 3."
     ]
    },
    {
     "name": "stderr",
     "output_type": "stream",
     "text": [
      "\n",
      "  warnings.warn(\n"
     ]
    },
    {
     "name": "stdout",
     "output_type": "stream",
     "text": [
      "<class 'numpy.ndarray'>"
     ]
    },
    {
     "name": "stdout",
     "output_type": "stream",
     "text": [
      "\n"
     ]
    }
   ],
   "source": [
    "# Find B on plasma surface\n",
    "egrid = LinearGrid(M = 100, N = 100)\n",
    "\n",
    "coords = eq.compute([\"R\", \"phi\", \"Z\"], grid = egrid)\n",
    "\n",
    "n_rho = eq.compute(\"n_rho\", grid = egrid)[\"n_rho\"]\n",
    "\n",
    "#B = coords[\"B\"]\n",
    "coords = np.vstack([coords[\"R\"], coords[\"phi\"], coords[\"Z\"]]).T\n",
    "\n",
    "# surface_current_field.compute_magnetic_field actually computes the normal field only\n",
    "#B_from_surf = surf2.compute_magnetic_field(coords,)# grid=egrid)\n",
    "\n",
    "# Plot B on the plasma surface\n",
    "#mag_B = jnp.sqrt(dot(B_from_surf,B_from_surf))\n",
    "\n",
    "#Bn = abs(dot(B_from_surf,n_rho))*mag_B**(-1) \n",
    "\n",
    "#plot_figure(Bn,egrid,''r'$\\frac{|\\mathbf{B} \\cdot \\mathbf{n}|}{|\\mathbf{B}|}$')\n",
    "#plot_figure(mag_B,egrid,''r'$|\\mathbf{B}|$ (T)')"
   ]
  },
  {
   "cell_type": "code",
   "execution_count": 9,
   "id": "578a8996",
   "metadata": {
    "execution": {
     "iopub.execute_input": "2024-12-07T03:28:19.053451Z",
     "iopub.status.busy": "2024-12-07T03:28:19.053317Z",
     "iopub.status.idle": "2024-12-07T03:28:24.189655Z",
     "shell.execute_reply": "2024-12-07T03:28:24.189221Z"
    }
   },
   "outputs": [
    {
     "name": "stdout",
     "output_type": "stream",
     "text": [
      "<class 'jaxlib.xla_extension.ArrayImpl'>"
     ]
    },
    {
     "name": "stdout",
     "output_type": "stream",
     "text": [
      "\n"
     ]
    },
    {
     "name": "stdout",
     "output_type": "stream",
     "text": [
      "<class 'jaxlib.xla_extension.ArrayImpl'>"
     ]
    },
    {
     "name": "stdout",
     "output_type": "stream",
     "text": [
      "\n"
     ]
    },
    {
     "name": "stdout",
     "output_type": "stream",
     "text": [
      "<class 'jaxlib.xla_extension.ArrayImpl'>"
     ]
    },
    {
     "name": "stdout",
     "output_type": "stream",
     "text": [
      "\n"
     ]
    },
    {
     "name": "stdout",
     "output_type": "stream",
     "text": [
      "<class 'jaxlib.xla_extension.ArrayImpl'>"
     ]
    },
    {
     "name": "stdout",
     "output_type": "stream",
     "text": [
      "\n"
     ]
    },
    {
     "name": "stdout",
     "output_type": "stream",
     "text": [
      "<class 'jaxlib.xla_extension.ArrayImpl'>"
     ]
    },
    {
     "name": "stdout",
     "output_type": "stream",
     "text": [
      "\n"
     ]
    },
    {
     "name": "stdout",
     "output_type": "stream",
     "text": [
      "<class 'jaxlib.xla_extension.ArrayImpl'>"
     ]
    },
    {
     "name": "stdout",
     "output_type": "stream",
     "text": [
      "\n"
     ]
    },
    {
     "data": {
      "text/plain": [
       "(<Figure size 864x720 with 6 Axes>,\n",
       " array([<Axes: title={'center': '$\\\\phi \\\\cdot N_{FP}/2\\\\pi = 0.000$'}, xlabel='$R ~(\\\\mathrm{m})$', ylabel='$Z ~(\\\\mathrm{m})$'>,\n",
       "        <Axes: title={'center': '$\\\\phi \\\\cdot N_{FP}/2\\\\pi = 0.167$'}, xlabel='$R ~(\\\\mathrm{m})$', ylabel='$Z ~(\\\\mathrm{m})$'>,\n",
       "        <Axes: title={'center': '$\\\\phi \\\\cdot N_{FP}/2\\\\pi = 0.333$'}, xlabel='$R ~(\\\\mathrm{m})$', ylabel='$Z ~(\\\\mathrm{m})$'>,\n",
       "        <Axes: title={'center': '$\\\\phi \\\\cdot N_{FP}/2\\\\pi = 0.500$'}, xlabel='$R ~(\\\\mathrm{m})$', ylabel='$Z ~(\\\\mathrm{m})$'>,\n",
       "        <Axes: title={'center': '$\\\\phi \\\\cdot N_{FP}/2\\\\pi = 0.667$'}, xlabel='$R ~(\\\\mathrm{m})$', ylabel='$Z ~(\\\\mathrm{m})$'>,\n",
       "        <Axes: title={'center': '$\\\\phi \\\\cdot N_{FP}/2\\\\pi = 0.833$'}, xlabel='$R ~(\\\\mathrm{m})$', ylabel='$Z ~(\\\\mathrm{m})$'>],\n",
       "       dtype=object))"
      ]
     },
     "execution_count": 9,
     "metadata": {},
     "output_type": "execute_result"
    },
    {
     "data": {
      "image/png": "[encoded data removed]",
      "text/plain": [
       "<Figure size 864x720 with 6 Axes>"
      ]
     },
     "metadata": {},
     "output_type": "display_data"
    }
   ],
   "source": [
    "plot_comparison([surf1,eq_QA,eq_QH],\n",
    "                labels=[\"WS\",\"RQA\",\"RQH\"],\n",
    "                theta=0,rho=np.array(1.0)\n",
    "               )"
   ]
  },
  {
   "cell_type": "code",
   "execution_count": 10,
   "id": "1090221a",
   "metadata": {
    "execution": {
     "iopub.execute_input": "2024-12-07T03:28:24.191517Z",
     "iopub.status.busy": "2024-12-07T03:28:24.191369Z",
     "iopub.status.idle": "2024-12-07T03:28:24.215928Z",
     "shell.execute_reply": "2024-12-07T03:28:24.215605Z"
    }
   },
   "outputs": [],
   "source": [
    "# look at Phi and Bn\n",
    "denser_source_grid = LinearGrid(M=60,N=60,\n",
    "                                NFP=eq_QH.NFP\n",
    "                               )\n",
    "\n",
    "#plot_2d(eq_QH,\"B*n\",field=surf2, field_grid=denser_source_grid)\n",
    "#plt.title(\"Eq 2 Bn error from surf2\")\n",
    "\n",
    "#plot_2d(surf2, \"K\")\n",
    "#plt.title(\"K surf2\")"
   ]
  },
  {
   "cell_type": "code",
   "execution_count": 11,
   "id": "a182030f",
   "metadata": {
    "execution": {
     "iopub.execute_input": "2024-12-07T03:28:24.217448Z",
     "iopub.status.busy": "2024-12-07T03:28:24.217321Z",
     "iopub.status.idle": "2024-12-07T03:28:24.219633Z",
     "shell.execute_reply": "2024-12-07T03:28:24.219309Z"
    }
   },
   "outputs": [],
   "source": [
    "## setup opt problem\n",
    "# use QuadraticFlux as eq's are fixed and want fields to change\n",
    "# use ShareParameters to keep surface geoms constant equal to eachother as they vary with surface current to reduce Bn\n",
    "# first, keep surfs fixed too and just get regcoil-like solutions for each"
   ]
  },
  {
   "cell_type": "code",
   "execution_count": 12,
   "id": "79a82b9d",
   "metadata": {
    "execution": {
     "iopub.execute_input": "2024-12-07T03:28:24.221349Z",
     "iopub.status.busy": "2024-12-07T03:28:24.221223Z",
     "iopub.status.idle": "2024-12-07T03:28:24.228017Z",
     "shell.execute_reply": "2024-12-07T03:28:24.227700Z"
    }
   },
   "outputs": [],
   "source": [
    "# Grids\n",
    "Megrid = 10\n",
    "Negrid = 10\n",
    "\n",
    "Msgrid = 25\n",
    "Nsgrid = 15\n",
    "\n",
    "egrid = LinearGrid(M=Megrid,N=Negrid,\n",
    "                   NFP=eq.NFP,\n",
    "                   sym=False)\n",
    "\n",
    "sgrid = LinearGrid(M=Msgrid,N=Nsgrid,\n",
    "                   NFP=eq.NFP,\n",
    "                   sym=False) "
   ]
  },
  {
   "cell_type": "code",
   "execution_count": 13,
   "id": "1698fbf4",
   "metadata": {
    "execution": {
     "iopub.execute_input": "2024-12-07T03:28:24.229514Z",
     "iopub.status.busy": "2024-12-07T03:28:24.229384Z",
     "iopub.status.idle": "2024-12-07T03:28:24.231636Z",
     "shell.execute_reply": "2024-12-07T03:28:24.231320Z"
    }
   },
   "outputs": [],
   "source": [
    "## setup opt problem\n",
    "# use QuadraticFlux as eq's are fixed and want fields to change\n",
    "# use ShareParameters to keep surface geoms constant equal\n",
    "# to eachother as they vary with surface current to reduce Bn"
   ]
  },
  {
   "cell_type": "code",
   "execution_count": 14,
   "id": "c672cc36",
   "metadata": {
    "execution": {
     "iopub.execute_input": "2024-12-07T03:28:24.233049Z",
     "iopub.status.busy": "2024-12-07T03:28:24.232928Z",
     "iopub.status.idle": "2024-12-07T03:28:24.235924Z",
     "shell.execute_reply": "2024-12-07T03:28:24.235610Z"
    }
   },
   "outputs": [],
   "source": [
    "flux_QA = QuadraticFlux(eq_QA,\n",
    "                        surf1,\n",
    "                        field_grid=sgrid,\n",
    "                        eval_grid=egrid,\n",
    "                        vacuum=True,\n",
    "                        weight = 1e0,\n",
    "                        name=\"Bn error  eq_QA\")\n",
    "\n",
    "flux_QH = QuadraticFlux(eq_QH,\n",
    "                        surf2,\n",
    "                        field_grid=sgrid,\n",
    "                        eval_grid=egrid,\n",
    "                        vacuum=True,\n",
    "                        weight = 1e0,\n",
    "                        name=\"Bn error  eq_QH\")"
   ]
  },
  {
   "cell_type": "code",
   "execution_count": 15,
   "id": "7057e33e",
   "metadata": {
    "execution": {
     "iopub.execute_input": "2024-12-07T03:28:24.237400Z",
     "iopub.status.busy": "2024-12-07T03:28:24.237278Z",
     "iopub.status.idle": "2024-12-07T03:28:24.240683Z",
     "shell.execute_reply": "2024-12-07T03:28:24.240364Z"
    }
   },
   "outputs": [],
   "source": [
    "# Distance target\n",
    "min_QA = 0.07\n",
    "max_QA = 0.3\n",
    "\n",
    "min_QH = 0.07\n",
    "max_QH = 0.1#1#0.28\n",
    "\n",
    "# Distance to veseel penalization\n",
    "obj_dist_QA = PlasmaVesselDistance(\n",
    "    eq_QA,\n",
    "    surf1,\n",
    "    bounds=(min_QA,max_QA),\n",
    "    #target = 0.15,\n",
    "    plasma_grid=egrid,\n",
    "    surface_grid=sgrid,\n",
    "    eq_fixed=True,\n",
    "    #softmin_alpha = 1e6,\n",
    "    weight = 10,\n",
    "    #use_signed_distance=True,\n",
    "    name=\"distance error  RQA\"\n",
    ")\n",
    "\n",
    "obj_dist_QH = PlasmaVesselDistance(\n",
    "    eq_QH,\n",
    "    surf2,\n",
    "    #target = 0.15,\n",
    "    bounds=(min_QH,max_QH),\n",
    "    plasma_grid=egrid,\n",
    "    surface_grid=sgrid,\n",
    "    eq_fixed=True,\n",
    "    #softmin_alpha = 1e6,\n",
    "    #use_signed_distance=True,\n",
    "    weight = 7e2,#20\n",
    "    name=\"distance error  RQH\"\n",
    ")"
   ]
  },
  {
   "cell_type": "code",
   "execution_count": 16,
   "id": "a3c5efd6",
   "metadata": {
    "execution": {
     "iopub.execute_input": "2024-12-07T03:28:24.242145Z",
     "iopub.status.busy": "2024-12-07T03:28:24.242023Z",
     "iopub.status.idle": "2024-12-07T03:28:24.244931Z",
     "shell.execute_reply": "2024-12-07T03:28:24.244615Z"
    }
   },
   "outputs": [],
   "source": [
    "surf_curr_reg_QA = SurfaceCurrentRegularization(\n",
    "    surf1,\n",
    "    #target=None,\n",
    "    #bounds=None,\n",
    "    weight=1e0,\n",
    "    #normalize=True,\n",
    "    #normalize_target=True,\n",
    "    #loss_function=None,\n",
    "    #deriv_mode=\"auto\",\n",
    "    source_grid=sgrid,\n",
    "    name=\"surface-current-regularization QA\",\n",
    "    )\n",
    "\n",
    "surf_curr_reg_QH = SurfaceCurrentRegularization(\n",
    "    surf2,\n",
    "    #target=None,\n",
    "    #bounds=None,\n",
    "    weight=1e0,\n",
    "    #normalize=True,\n",
    "    #normalize_target=True,\n",
    "    #loss_function=None,\n",
    "    #deriv_mode=\"auto\",\n",
    "    source_grid=sgrid,\n",
    "    name=\"surface-current-regularization QA\",\n",
    "    )"
   ]
  },
  {
   "cell_type": "code",
   "execution_count": 17,
   "id": "c670843f",
   "metadata": {
    "execution": {
     "iopub.execute_input": "2024-12-07T03:28:24.246393Z",
     "iopub.status.busy": "2024-12-07T03:28:24.246272Z",
     "iopub.status.idle": "2024-12-07T03:28:24.249100Z",
     "shell.execute_reply": "2024-12-07T03:28:24.248785Z"
    }
   },
   "outputs": [],
   "source": [
    "mean_curv = -0.3\n",
    "min_mean_curv = 0#-0.5\n",
    "max_mean_curv = -0.15\n",
    "\n",
    "obj_mean_curv = MeanCurvature(\n",
    "    surf2,\n",
    "    target = 0,\n",
    "    #bounds = (-1,1),\n",
    "    weight = 1e-2,\n",
    "    normalize = True,\n",
    "    normalize_target = True,\n",
    "    deriv_mode = \"auto\",\n",
    "    grid = sgrid,\n",
    "    name = \"Mean curvature\",\n",
    ")"
   ]
  },
  {
   "cell_type": "code",
   "execution_count": 18,
   "id": "65848857",
   "metadata": {
    "execution": {
     "iopub.execute_input": "2024-12-07T03:28:24.250557Z",
     "iopub.status.busy": "2024-12-07T03:28:24.250429Z",
     "iopub.status.idle": "2024-12-07T03:28:24.253015Z",
     "shell.execute_reply": "2024-12-07T03:28:24.252699Z"
    }
   },
   "outputs": [],
   "source": [
    "obj_prin_curv = PrincipalCurvature(surf2,\n",
    "        target = 0,\n",
    "        #bounds=(-15,-10),\n",
    "        weight=1e1,\n",
    "        #normalize=True,\n",
    "        #normalize_target=True,\n",
    "        #loss_function=None,\n",
    "        #deriv_mode=\"auto\",\n",
    "        grid=sgrid,\n",
    "        name=\"principal-curvature\",\n",
    "        #jac_chunk_size=None,\n",
    "    )"
   ]
  },
  {
   "cell_type": "code",
   "execution_count": 19,
   "id": "8c4a514a",
   "metadata": {
    "execution": {
     "iopub.execute_input": "2024-12-07T03:28:24.254491Z",
     "iopub.status.busy": "2024-12-07T03:28:24.254362Z",
     "iopub.status.idle": "2024-12-07T03:28:24.257753Z",
     "shell.execute_reply": "2024-12-07T03:28:24.257437Z"
    }
   },
   "outputs": [],
   "source": [
    "Jmax = 5e7 # max current density 50 MA/m2\n",
    "tmax = 1.5e-1 # max thickness desired for coils: 10 cm\n",
    "\n",
    "obj_thickness_QA = bRegularization_fd(surf1,\n",
    "                                               #target=None,\n",
    "                                               bounds = (0,Jmax*tmax),\n",
    "                                               weight = 2e-6,\n",
    "                                               #normalize=True,\n",
    "                                               #normalize_target=True,\n",
    "                                               #loss_function=None,\n",
    "                                               deriv_mode=\"auto\",\n",
    "                                               source_grid = sgrid,\n",
    "                                               name = \"Coil Thickness Regularization: QA\",\n",
    "                                              )\n",
    "\n",
    "# 1e-1 for bs\n",
    "#1e10 for d_bs\n",
    "obj_thickness_QH = bRegularization_fd(surf2,\n",
    "                                               target=0,\n",
    "                                               #bounds = (0,Jmax*tmax),\n",
    "                                               weight = 6e-2,#6e-1,\n",
    "                                               #normalize=True,\n",
    "                                               #normalize_target=True,\n",
    "                                               #loss_function=None,\n",
    "                                               deriv_mode=\"auto\",\n",
    "                                               source_grid = sgrid,\n",
    "                                               name = \"Coil Thickness Regularization: QH\",\n",
    "                                              )"
   ]
  },
  {
   "cell_type": "code",
   "execution_count": 20,
   "id": "15770a22-d51a-4563-830c-661825292f47",
   "metadata": {
    "execution": {
     "iopub.execute_input": "2024-12-07T03:28:24.259213Z",
     "iopub.status.busy": "2024-12-07T03:28:24.259091Z",
     "iopub.status.idle": "2024-12-07T03:28:24.262059Z",
     "shell.execute_reply": "2024-12-07T03:28:24.261749Z"
    }
   },
   "outputs": [],
   "source": [
    "obj = ObjectiveFunction((#flux_QA,\n",
    "                         flux_QH,\n",
    "                         #obj_dist_QA,\n",
    "                         #obj_dist_QH,\n",
    "                         #obj_mean_curv,\n",
    "                         #obj_prin_curv,\n",
    "                         #surf_curr_reg_QA,\n",
    "                         #surf_curr_reg_QH,\n",
    "                         #obj_thickness_QA,\n",
    "                         obj_thickness_QH,\n",
    "                         #obj_sigma_QH,\n",
    "                        )\n",
    "                       )\n",
    "constraints = (\n",
    "    #FixParameters(surf1,{\"G\":True,}),# fix the secular poloidal current\n",
    "    FixParameters(surf2,{\"G\":True,\n",
    "                         \"R_lmn\":True, \n",
    "                         \"Z_lmn\":True,\n",
    "                         }\n",
    "                 ),# fix the secular poloidal current\n",
    "    # make the 2 surfaces have the same geometry, dont need bc geom is fixed here\n",
    "    #ShareParameters([surf1,surf2],params={\"R_lmn\":True, \"Z_lmn\":True}), \n",
    ")"
   ]
  },
  {
   "cell_type": "code",
   "execution_count": 21,
   "id": "afef6860",
   "metadata": {
    "execution": {
     "iopub.execute_input": "2024-12-07T03:28:24.263521Z",
     "iopub.status.busy": "2024-12-07T03:28:24.263393Z",
     "iopub.status.idle": "2024-12-07T03:28:24.265685Z",
     "shell.execute_reply": "2024-12-07T03:28:24.265369Z"
    }
   },
   "outputs": [],
   "source": [
    "# Choose the optimizer\n",
    "opt = Optimizer(\"lsq-exact\")"
   ]
  },
  {
   "cell_type": "code",
   "execution_count": 22,
   "id": "d2025a89",
   "metadata": {
    "execution": {
     "iopub.execute_input": "2024-12-07T03:28:24.267123Z",
     "iopub.status.busy": "2024-12-07T03:28:24.267002Z",
     "iopub.status.idle": "2024-12-07T03:28:24.270643Z",
     "shell.execute_reply": "2024-12-07T03:28:24.270333Z"
    }
   },
   "outputs": [
    {
     "data": {
      "text/plain": [
       "5326363.278365475"
      ]
     },
     "execution_count": 22,
     "metadata": {},
     "output_type": "execute_result"
    }
   ],
   "source": [
    "surf2.I"
   ]
  },
  {
   "cell_type": "code",
   "execution_count": 23,
   "id": "439ec502",
   "metadata": {
    "execution": {
     "iopub.execute_input": "2024-12-07T03:28:24.272020Z",
     "iopub.status.busy": "2024-12-07T03:28:24.271899Z",
     "iopub.status.idle": "2024-12-07T03:28:24.274103Z",
     "shell.execute_reply": "2024-12-07T03:28:24.273797Z"
    }
   },
   "outputs": [],
   "source": [
    "#surf2.I = 0"
   ]
  },
  {
   "cell_type": "code",
   "execution_count": 24,
   "id": "e705af34",
   "metadata": {
    "execution": {
     "iopub.execute_input": "2024-12-07T03:28:24.275483Z",
     "iopub.status.busy": "2024-12-07T03:28:24.275356Z",
     "iopub.status.idle": "2024-12-07T03:28:24.277554Z",
     "shell.execute_reply": "2024-12-07T03:28:24.277242Z"
    }
   },
   "outputs": [],
   "source": [
    "#surf2.I"
   ]
  },
  {
   "cell_type": "code",
   "execution_count": 25,
   "id": "d796fa7c",
   "metadata": {
    "execution": {
     "iopub.execute_input": "2024-12-07T03:28:24.278942Z",
     "iopub.status.busy": "2024-12-07T03:28:24.278821Z",
     "iopub.status.idle": "2024-12-07T03:31:09.779135Z",
     "shell.execute_reply": "2024-12-07T03:31:09.778775Z"
    },
    "scrolled": false
   },
   "outputs": [
    {
     "name": "stdout",
     "output_type": "stream",
     "text": [
      "Building objective: Bn error  eq_QH"
     ]
    },
    {
     "name": "stdout",
     "output_type": "stream",
     "text": [
      "\n"
     ]
    },
    {
     "name": "stdout",
     "output_type": "stream",
     "text": [
      "Precomputing transforms"
     ]
    },
    {
     "name": "stdout",
     "output_type": "stream",
     "text": [
      "\n"
     ]
    },
    {
     "name": "stdout",
     "output_type": "stream",
     "text": [
      "<class 'numpy.ndarray'>"
     ]
    },
    {
     "name": "stdout",
     "output_type": "stream",
     "text": [
      "\n"
     ]
    },
    {
     "name": "stdout",
     "output_type": "stream",
     "text": [
      "<class 'numpy.ndarray'>"
     ]
    },
    {
     "name": "stdout",
     "output_type": "stream",
     "text": [
      "\n"
     ]
    },
    {
     "name": "stdout",
     "output_type": "stream",
     "text": [
      "Timer: Precomputing transforms = 1.43 sec"
     ]
    },
    {
     "name": "stdout",
     "output_type": "stream",
     "text": [
      "\n"
     ]
    },
    {
     "name": "stdout",
     "output_type": "stream",
     "text": [
      "Building objective: Coil Thickness Regularization: QH"
     ]
    },
    {
     "name": "stdout",
     "output_type": "stream",
     "text": [
      "\n"
     ]
    },
    {
     "name": "stdout",
     "output_type": "stream",
     "text": [
      "Precomputing transforms"
     ]
    },
    {
     "name": "stdout",
     "output_type": "stream",
     "text": [
      "\n"
     ]
    },
    {
     "name": "stdout",
     "output_type": "stream",
     "text": [
      "<class 'numpy.ndarray'>"
     ]
    },
    {
     "name": "stdout",
     "output_type": "stream",
     "text": [
      "\n"
     ]
    },
    {
     "name": "stdout",
     "output_type": "stream",
     "text": [
      "<class 'numpy.ndarray'>"
     ]
    },
    {
     "name": "stdout",
     "output_type": "stream",
     "text": [
      "\n"
     ]
    },
    {
     "name": "stdout",
     "output_type": "stream",
     "text": [
      "Timer: Precomputing transforms = 252 ms"
     ]
    },
    {
     "name": "stdout",
     "output_type": "stream",
     "text": [
      "\n"
     ]
    },
    {
     "name": "stdout",
     "output_type": "stream",
     "text": [
      "Timer: Objective build = 2.16 sec"
     ]
    },
    {
     "name": "stdout",
     "output_type": "stream",
     "text": [
      "\n"
     ]
    },
    {
     "name": "stdout",
     "output_type": "stream",
     "text": [
      "Building objective: fixed parameters"
     ]
    },
    {
     "name": "stdout",
     "output_type": "stream",
     "text": [
      "\n"
     ]
    },
    {
     "name": "stdout",
     "output_type": "stream",
     "text": [
      "Timer: Objective build = 279 ms"
     ]
    },
    {
     "name": "stdout",
     "output_type": "stream",
     "text": [
      "\n"
     ]
    },
    {
     "name": "stdout",
     "output_type": "stream",
     "text": [
      "Timer: Linear constraint projection build = 1.18 sec"
     ]
    },
    {
     "name": "stdout",
     "output_type": "stream",
     "text": [
      "\n"
     ]
    },
    {
     "name": "stdout",
     "output_type": "stream",
     "text": [
      "Number of parameters: 313"
     ]
    },
    {
     "name": "stdout",
     "output_type": "stream",
     "text": [
      "\n"
     ]
    },
    {
     "name": "stdout",
     "output_type": "stream",
     "text": [
      "Number of objectives: 2022"
     ]
    },
    {
     "name": "stdout",
     "output_type": "stream",
     "text": [
      "\n"
     ]
    },
    {
     "name": "stdout",
     "output_type": "stream",
     "text": [
      "Timer: Initializing the optimization = 3.70 sec"
     ]
    },
    {
     "name": "stdout",
     "output_type": "stream",
     "text": [
      "\n"
     ]
    },
    {
     "name": "stdout",
     "output_type": "stream",
     "text": [
      "\n",
      "Starting optimization"
     ]
    },
    {
     "name": "stdout",
     "output_type": "stream",
     "text": [
      "\n"
     ]
    },
    {
     "name": "stdout",
     "output_type": "stream",
     "text": [
      "Using method: lsq-exact"
     ]
    },
    {
     "name": "stdout",
     "output_type": "stream",
     "text": [
      "\n"
     ]
    },
    {
     "name": "stdout",
     "output_type": "stream",
     "text": [
      "   Iteration     Total nfev        Cost      Cost reduction    Step norm     Optimality   "
     ]
    },
    {
     "name": "stdout",
     "output_type": "stream",
     "text": [
      "\n"
     ]
    },
    {
     "name": "stdout",
     "output_type": "stream",
     "text": [
      "       0              1          4.100e+00                                    1.243e+01   "
     ]
    },
    {
     "name": "stdout",
     "output_type": "stream",
     "text": [
      "\n"
     ]
    },
    {
     "name": "stdout",
     "output_type": "stream",
     "text": [
      "       1              3          1.613e+00      2.488e+00      9.329e+02      5.724e+00   "
     ]
    },
    {
     "name": "stdout",
     "output_type": "stream",
     "text": [
      "\n"
     ]
    },
    {
     "name": "stdout",
     "output_type": "stream",
     "text": [
      "       2              5          1.496e+00      1.172e-01      1.202e+03      5.866e+00   "
     ]
    },
    {
     "name": "stdout",
     "output_type": "stream",
     "text": [
      "\n"
     ]
    },
    {
     "name": "stdout",
     "output_type": "stream",
     "text": [
      "       3              6          1.225e+00      2.701e-01      7.449e+02      9.190e-01   "
     ]
    },
    {
     "name": "stdout",
     "output_type": "stream",
     "text": [
      "\n"
     ]
    },
    {
     "name": "stdout",
     "output_type": "stream",
     "text": [
      "       4              7          1.167e+00      5.845e-02      3.991e+02      8.527e-01   "
     ]
    },
    {
     "name": "stdout",
     "output_type": "stream",
     "text": [
      "\n"
     ]
    },
    {
     "name": "stdout",
     "output_type": "stream",
     "text": [
      "       5              9          1.149e+00      1.830e-02      9.491e+01      7.302e-01   "
     ]
    },
    {
     "name": "stdout",
     "output_type": "stream",
     "text": [
      "\n"
     ]
    },
    {
     "name": "stdout",
     "output_type": "stream",
     "text": [
      "       6             10          1.138e+00      1.019e-02      8.081e+01      7.507e-01   "
     ]
    },
    {
     "name": "stdout",
     "output_type": "stream",
     "text": [
      "\n"
     ]
    },
    {
     "name": "stdout",
     "output_type": "stream",
     "text": [
      "       7             11          1.131e+00      7.566e-03      6.859e+01      7.405e-01   "
     ]
    },
    {
     "name": "stdout",
     "output_type": "stream",
     "text": [
      "\n"
     ]
    },
    {
     "name": "stdout",
     "output_type": "stream",
     "text": [
      "       8             12          1.124e+00      7.348e-03      1.005e+02      7.186e-01   "
     ]
    },
    {
     "name": "stdout",
     "output_type": "stream",
     "text": [
      "\n"
     ]
    },
    {
     "name": "stdout",
     "output_type": "stream",
     "text": [
      "       9             13          1.117e+00      6.209e-03      8.268e+01      7.327e-01   "
     ]
    },
    {
     "name": "stdout",
     "output_type": "stream",
     "text": [
      "\n"
     ]
    },
    {
     "name": "stdout",
     "output_type": "stream",
     "text": [
      "      10             14          1.111e+00      6.756e-03      1.012e+02      6.904e-01   "
     ]
    },
    {
     "name": "stdout",
     "output_type": "stream",
     "text": [
      "\n"
     ]
    },
    {
     "name": "stdout",
     "output_type": "stream",
     "text": [
      "      11             15          1.105e+00      5.516e-03      8.660e+01      7.021e-01   "
     ]
    },
    {
     "name": "stdout",
     "output_type": "stream",
     "text": [
      "\n"
     ]
    },
    {
     "name": "stdout",
     "output_type": "stream",
     "text": [
      "      12             16          1.099e+00      6.100e-03      1.005e+02      6.636e-01   "
     ]
    },
    {
     "name": "stdout",
     "output_type": "stream",
     "text": [
      "\n"
     ]
    },
    {
     "name": "stdout",
     "output_type": "stream",
     "text": [
      "      13             17          1.094e+00      5.011e-03      8.974e+01      6.725e-01   "
     ]
    },
    {
     "name": "stdout",
     "output_type": "stream",
     "text": [
      "\n"
     ]
    },
    {
     "name": "stdout",
     "output_type": "stream",
     "text": [
      "      14             18          1.088e+00      5.554e-03      1.005e+02      6.390e-01   "
     ]
    },
    {
     "name": "stdout",
     "output_type": "stream",
     "text": [
      "\n"
     ]
    },
    {
     "name": "stdout",
     "output_type": "stream",
     "text": [
      "      15             19          1.084e+00      4.601e-03      9.196e+01      6.445e-01   "
     ]
    },
    {
     "name": "stdout",
     "output_type": "stream",
     "text": [
      "\n"
     ]
    },
    {
     "name": "stdout",
     "output_type": "stream",
     "text": [
      "      16             20          1.079e+00      5.069e-03      1.004e+02      6.167e-01   "
     ]
    },
    {
     "name": "stdout",
     "output_type": "stream",
     "text": [
      "\n"
     ]
    },
    {
     "name": "stdout",
     "output_type": "stream",
     "text": [
      "      17             21          1.074e+00      4.264e-03      9.349e+01      6.179e-01   "
     ]
    },
    {
     "name": "stdout",
     "output_type": "stream",
     "text": [
      "\n"
     ]
    },
    {
     "name": "stdout",
     "output_type": "stream",
     "text": [
      "      18             22          1.070e+00      4.540e-03      3.425e+01      5.398e-01   "
     ]
    },
    {
     "name": "stdout",
     "output_type": "stream",
     "text": [
      "\n"
     ]
    },
    {
     "name": "stdout",
     "output_type": "stream",
     "text": [
      "      19             23          1.067e+00      3.363e-03      4.140e+01      5.040e-01   "
     ]
    },
    {
     "name": "stdout",
     "output_type": "stream",
     "text": [
      "\n"
     ]
    },
    {
     "name": "stdout",
     "output_type": "stream",
     "text": [
      "      20             24          1.063e+00      3.225e-03      3.648e+01      4.979e-01   "
     ]
    },
    {
     "name": "stdout",
     "output_type": "stream",
     "text": [
      "\n"
     ]
    },
    {
     "name": "stdout",
     "output_type": "stream",
     "text": [
      "      21             25          1.060e+00      2.998e-03      4.365e+01      4.809e-01   "
     ]
    },
    {
     "name": "stdout",
     "output_type": "stream",
     "text": [
      "\n"
     ]
    },
    {
     "name": "stdout",
     "output_type": "stream",
     "text": [
      "      22             26          1.057e+00      2.911e-03      4.202e+01      4.856e-01   "
     ]
    },
    {
     "name": "stdout",
     "output_type": "stream",
     "text": [
      "\n"
     ]
    },
    {
     "name": "stdout",
     "output_type": "stream",
     "text": [
      "      23             27          1.055e+00      2.789e-03      4.790e+01      4.654e-01   "
     ]
    },
    {
     "name": "stdout",
     "output_type": "stream",
     "text": [
      "\n"
     ]
    },
    {
     "name": "stdout",
     "output_type": "stream",
     "text": [
      "      24             28          1.052e+00      2.776e-03      4.455e+01      4.751e-01   "
     ]
    },
    {
     "name": "stdout",
     "output_type": "stream",
     "text": [
      "\n"
     ]
    },
    {
     "name": "stdout",
     "output_type": "stream",
     "text": [
      "      25             29          1.049e+00      2.602e-03      4.973e+01      4.528e-01   "
     ]
    },
    {
     "name": "stdout",
     "output_type": "stream",
     "text": [
      "\n"
     ]
    },
    {
     "name": "stdout",
     "output_type": "stream",
     "text": [
      "      26             30          1.047e+00      2.674e-03      4.634e+01      4.660e-01   "
     ]
    },
    {
     "name": "stdout",
     "output_type": "stream",
     "text": [
      "\n"
     ]
    },
    {
     "name": "stdout",
     "output_type": "stream",
     "text": [
      "      27             31          1.044e+00      2.421e-03      5.091e+01      4.422e-01   "
     ]
    },
    {
     "name": "stdout",
     "output_type": "stream",
     "text": [
      "\n"
     ]
    },
    {
     "name": "stdout",
     "output_type": "stream",
     "text": [
      "      28             32          1.042e+00      2.584e-03      4.790e+01      4.584e-01   "
     ]
    },
    {
     "name": "stdout",
     "output_type": "stream",
     "text": [
      "\n"
     ]
    },
    {
     "name": "stdout",
     "output_type": "stream",
     "text": [
      "      29             33          1.039e+00      2.249e-03      5.194e+01      4.328e-01   "
     ]
    },
    {
     "name": "stdout",
     "output_type": "stream",
     "text": [
      "\n"
     ]
    },
    {
     "name": "stdout",
     "output_type": "stream",
     "text": [
      "      30             34          1.037e+00      2.504e-03      4.934e+01      4.520e-01   "
     ]
    },
    {
     "name": "stdout",
     "output_type": "stream",
     "text": [
      "\n"
     ]
    },
    {
     "name": "stdout",
     "output_type": "stream",
     "text": [
      "      31             35          1.035e+00      2.090e-03      5.294e+01      4.244e-01   "
     ]
    },
    {
     "name": "stdout",
     "output_type": "stream",
     "text": [
      "\n"
     ]
    },
    {
     "name": "stdout",
     "output_type": "stream",
     "text": [
      "      32             36          1.032e+00      2.429e-03      5.070e+01      4.464e-01   "
     ]
    },
    {
     "name": "stdout",
     "output_type": "stream",
     "text": [
      "\n"
     ]
    },
    {
     "name": "stdout",
     "output_type": "stream",
     "text": [
      "      33             37          1.030e+00      1.946e-03      5.390e+01      4.167e-01   "
     ]
    },
    {
     "name": "stdout",
     "output_type": "stream",
     "text": [
      "\n"
     ]
    },
    {
     "name": "stdout",
     "output_type": "stream",
     "text": [
      "      34             38          1.028e+00      2.358e-03      5.198e+01      4.415e-01   "
     ]
    },
    {
     "name": "stdout",
     "output_type": "stream",
     "text": [
      "\n"
     ]
    },
    {
     "name": "stdout",
     "output_type": "stream",
     "text": [
      "      35             39          1.026e+00      1.815e-03      5.482e+01      4.095e-01   "
     ]
    },
    {
     "name": "stdout",
     "output_type": "stream",
     "text": [
      "\n"
     ]
    },
    {
     "name": "stdout",
     "output_type": "stream",
     "text": [
      "      36             40          1.024e+00      2.289e-03      5.319e+01      4.371e-01   "
     ]
    },
    {
     "name": "stdout",
     "output_type": "stream",
     "text": [
      "\n"
     ]
    },
    {
     "name": "stdout",
     "output_type": "stream",
     "text": [
      "      37             41          1.022e+00      1.696e-03      5.570e+01      4.027e-01   "
     ]
    },
    {
     "name": "stdout",
     "output_type": "stream",
     "text": [
      "\n"
     ]
    },
    {
     "name": "stdout",
     "output_type": "stream",
     "text": [
      "      38             42          1.020e+00      2.220e-03      5.431e+01      4.333e-01   "
     ]
    },
    {
     "name": "stdout",
     "output_type": "stream",
     "text": [
      "\n"
     ]
    },
    {
     "name": "stdout",
     "output_type": "stream",
     "text": [
      "      39             43          1.018e+00      1.589e-03      5.653e+01      3.963e-01   "
     ]
    },
    {
     "name": "stdout",
     "output_type": "stream",
     "text": [
      "\n"
     ]
    },
    {
     "name": "stdout",
     "output_type": "stream",
     "text": [
      "      40             44          1.016e+00      2.153e-03      5.535e+01      4.298e-01   "
     ]
    },
    {
     "name": "stdout",
     "output_type": "stream",
     "text": [
      "\n"
     ]
    },
    {
     "name": "stdout",
     "output_type": "stream",
     "text": [
      "      41             45          1.015e+00      1.492e-03      5.730e+01      3.923e-01   "
     ]
    },
    {
     "name": "stdout",
     "output_type": "stream",
     "text": [
      "\n"
     ]
    },
    {
     "name": "stdout",
     "output_type": "stream",
     "text": [
      "      42             46          1.013e+00      2.086e-03      5.631e+01      4.268e-01   "
     ]
    },
    {
     "name": "stdout",
     "output_type": "stream",
     "text": [
      "\n"
     ]
    },
    {
     "name": "stdout",
     "output_type": "stream",
     "text": [
      "      43             47          1.011e+00      1.403e-03      5.803e+01      3.893e-01   "
     ]
    },
    {
     "name": "stdout",
     "output_type": "stream",
     "text": [
      "\n"
     ]
    },
    {
     "name": "stdout",
     "output_type": "stream",
     "text": [
      "      44             48          1.009e+00      2.021e-03      5.720e+01      4.240e-01   "
     ]
    },
    {
     "name": "stdout",
     "output_type": "stream",
     "text": [
      "\n"
     ]
    },
    {
     "name": "stdout",
     "output_type": "stream",
     "text": [
      "      45             49          1.008e+00      1.322e-03      5.871e+01      3.863e-01   "
     ]
    },
    {
     "name": "stdout",
     "output_type": "stream",
     "text": [
      "\n"
     ]
    },
    {
     "name": "stdout",
     "output_type": "stream",
     "text": [
      "      46             50          1.006e+00      1.460e-03      1.421e+01      3.893e-01   "
     ]
    },
    {
     "name": "stdout",
     "output_type": "stream",
     "text": [
      "\n"
     ]
    },
    {
     "name": "stdout",
     "output_type": "stream",
     "text": [
      "      47             51          1.005e+00      1.272e-03      2.053e+01      3.951e-01   "
     ]
    },
    {
     "name": "stdout",
     "output_type": "stream",
     "text": [
      "\n"
     ]
    },
    {
     "name": "stdout",
     "output_type": "stream",
     "text": [
      "      48             52          1.004e+00      1.181e-03      1.440e+01      3.875e-01   "
     ]
    },
    {
     "name": "stdout",
     "output_type": "stream",
     "text": [
      "\n"
     ]
    },
    {
     "name": "stdout",
     "output_type": "stream",
     "text": [
      "      49             53          1.003e+00      1.238e-03      1.316e+01      3.948e-01   "
     ]
    },
    {
     "name": "stdout",
     "output_type": "stream",
     "text": [
      "\n"
     ]
    },
    {
     "name": "stdout",
     "output_type": "stream",
     "text": [
      "      50             54          1.001e+00      1.948e-03      2.262e+01      3.803e-01   "
     ]
    },
    {
     "name": "stdout",
     "output_type": "stream",
     "text": [
      "\n"
     ]
    },
    {
     "name": "stdout",
     "output_type": "stream",
     "text": [
      "      51             55          9.993e-01      1.522e-03      3.946e+01      3.882e-01   "
     ]
    },
    {
     "name": "stdout",
     "output_type": "stream",
     "text": [
      "\n"
     ]
    },
    {
     "name": "stdout",
     "output_type": "stream",
     "text": [
      "      52             56          9.982e-01      1.082e-03      5.039e+01      3.771e-01   "
     ]
    },
    {
     "name": "stdout",
     "output_type": "stream",
     "text": [
      "\n"
     ]
    },
    {
     "name": "stdout",
     "output_type": "stream",
     "text": [
      "      53             57          9.968e-01      1.442e-03      1.314e+01      3.751e-01   "
     ]
    },
    {
     "name": "stdout",
     "output_type": "stream",
     "text": [
      "\n"
     ]
    },
    {
     "name": "stdout",
     "output_type": "stream",
     "text": [
      "      54             58          9.956e-01      1.152e-03      2.000e+01      3.799e-01   "
     ]
    },
    {
     "name": "stdout",
     "output_type": "stream",
     "text": [
      "\n"
     ]
    },
    {
     "name": "stdout",
     "output_type": "stream",
     "text": [
      "      55             59          9.946e-01      1.041e-03      1.549e+01      3.770e-01   "
     ]
    },
    {
     "name": "stdout",
     "output_type": "stream",
     "text": [
      "\n"
     ]
    },
    {
     "name": "stdout",
     "output_type": "stream",
     "text": [
      "      56             60          9.935e-01      1.123e-03      1.498e+01      3.800e-01   "
     ]
    },
    {
     "name": "stdout",
     "output_type": "stream",
     "text": [
      "\n"
     ]
    },
    {
     "name": "stdout",
     "output_type": "stream",
     "text": [
      "      57             61          9.925e-01      1.013e-03      1.488e+01      3.746e-01   "
     ]
    },
    {
     "name": "stdout",
     "output_type": "stream",
     "text": [
      "\n"
     ]
    },
    {
     "name": "stdout",
     "output_type": "stream",
     "text": [
      "      58             62          9.914e-01      1.098e-03      1.485e+01      3.776e-01   "
     ]
    },
    {
     "name": "stdout",
     "output_type": "stream",
     "text": [
      "\n"
     ]
    },
    {
     "name": "stdout",
     "output_type": "stream",
     "text": [
      "      59             63          9.904e-01      9.809e-04      1.504e+01      3.717e-01   "
     ]
    },
    {
     "name": "stdout",
     "output_type": "stream",
     "text": [
      "\n"
     ]
    },
    {
     "name": "stdout",
     "output_type": "stream",
     "text": [
      "      60             64          9.893e-01      1.073e-03      1.517e+01      3.746e-01   "
     ]
    },
    {
     "name": "stdout",
     "output_type": "stream",
     "text": [
      "\n"
     ]
    },
    {
     "name": "stdout",
     "output_type": "stream",
     "text": [
      "Warning: Maximum number of iterations has been exceeded."
     ]
    },
    {
     "name": "stdout",
     "output_type": "stream",
     "text": [
      "\n"
     ]
    },
    {
     "name": "stdout",
     "output_type": "stream",
     "text": [
      "         Current function value: 9.893e-01"
     ]
    },
    {
     "name": "stdout",
     "output_type": "stream",
     "text": [
      "\n"
     ]
    },
    {
     "name": "stdout",
     "output_type": "stream",
     "text": [
      "         Total delta_x: 6.555e+02"
     ]
    },
    {
     "name": "stdout",
     "output_type": "stream",
     "text": [
      "\n"
     ]
    },
    {
     "name": "stdout",
     "output_type": "stream",
     "text": [
      "         Iterations: 60"
     ]
    },
    {
     "name": "stdout",
     "output_type": "stream",
     "text": [
      "\n"
     ]
    },
    {
     "name": "stdout",
     "output_type": "stream",
     "text": [
      "         Function evaluations: 64"
     ]
    },
    {
     "name": "stdout",
     "output_type": "stream",
     "text": [
      "\n"
     ]
    },
    {
     "name": "stdout",
     "output_type": "stream",
     "text": [
      "         Jacobian evaluations: 61"
     ]
    },
    {
     "name": "stdout",
     "output_type": "stream",
     "text": [
      "\n"
     ]
    },
    {
     "name": "stdout",
     "output_type": "stream",
     "text": [
      "Timer: Solution time = 2.56 min"
     ]
    },
    {
     "name": "stdout",
     "output_type": "stream",
     "text": [
      "\n"
     ]
    },
    {
     "name": "stdout",
     "output_type": "stream",
     "text": [
      "Timer: Avg time per step = 2.52 sec"
     ]
    },
    {
     "name": "stdout",
     "output_type": "stream",
     "text": [
      "\n"
     ]
    },
    {
     "name": "stdout",
     "output_type": "stream",
     "text": [
      "=============================================================================================================="
     ]
    },
    {
     "name": "stdout",
     "output_type": "stream",
     "text": [
      "\n"
     ]
    },
    {
     "name": "stdout",
     "output_type": "stream",
     "text": [
      "                                                                 Start  -->   End"
     ]
    },
    {
     "name": "stdout",
     "output_type": "stream",
     "text": [
      "\n"
     ]
    },
    {
     "name": "stdout",
     "output_type": "stream",
     "text": [
      "Total (sum of squares):                                      4.100e+00  -->   9.893e-01, "
     ]
    },
    {
     "name": "stdout",
     "output_type": "stream",
     "text": [
      "\n"
     ]
    },
    {
     "name": "stdout",
     "output_type": "stream",
     "text": [
      "Maximum absolute Boundary normal field error:                8.254e-03  -->   5.915e-03 (T m^2)"
     ]
    },
    {
     "name": "stdout",
     "output_type": "stream",
     "text": [
      "\n"
     ]
    },
    {
     "name": "stdout",
     "output_type": "stream",
     "text": [
      "Minimum absolute Boundary normal field error:                1.269e-16  -->   1.705e-16 (T m^2)"
     ]
    },
    {
     "name": "stdout",
     "output_type": "stream",
     "text": [
      "\n"
     ]
    },
    {
     "name": "stdout",
     "output_type": "stream",
     "text": [
      "Average absolute Boundary normal field error:                1.394e-04  -->   7.027e-04 (T m^2)"
     ]
    },
    {
     "name": "stdout",
     "output_type": "stream",
     "text": [
      "\n"
     ]
    },
    {
     "name": "stdout",
     "output_type": "stream",
     "text": [
      "Maximum absolute Boundary normal field error:                1.448e-01  -->   1.038e-01 (normalized)"
     ]
    },
    {
     "name": "stdout",
     "output_type": "stream",
     "text": [
      "\n"
     ]
    },
    {
     "name": "stdout",
     "output_type": "stream",
     "text": [
      "Minimum absolute Boundary normal field error:                2.227e-15  -->   2.992e-15 (normalized)"
     ]
    },
    {
     "name": "stdout",
     "output_type": "stream",
     "text": [
      "\n"
     ]
    },
    {
     "name": "stdout",
     "output_type": "stream",
     "text": [
      "Average absolute Boundary normal field error:                2.447e-03  -->   1.233e-02 (normalized)"
     ]
    },
    {
     "name": "stdout",
     "output_type": "stream",
     "text": [
      "\n"
     ]
    },
    {
     "name": "stdout",
     "output_type": "stream",
     "text": [
      "Maximum absolute Sigma Regularization:                       4.962e+00  -->   1.313e+00 "
     ]
    },
    {
     "name": "stdout",
     "output_type": "stream",
     "text": [
      "\n"
     ]
    },
    {
     "name": "stdout",
     "output_type": "stream",
     "text": [
      "Minimum absolute Sigma Regularization:                       6.166e-13  -->   9.546e-14 "
     ]
    },
    {
     "name": "stdout",
     "output_type": "stream",
     "text": [
      "\n"
     ]
    },
    {
     "name": "stdout",
     "output_type": "stream",
     "text": [
      "Average absolute Sigma Regularization:                       9.718e-01  -->   4.697e-01 "
     ]
    },
    {
     "name": "stdout",
     "output_type": "stream",
     "text": [
      "\n"
     ]
    },
    {
     "name": "stdout",
     "output_type": "stream",
     "text": [
      "Maximum absolute Sigma Regularization:                       4.962e+00  -->   1.313e+00 (normalized)"
     ]
    },
    {
     "name": "stdout",
     "output_type": "stream",
     "text": [
      "\n"
     ]
    },
    {
     "name": "stdout",
     "output_type": "stream",
     "text": [
      "Minimum absolute Sigma Regularization:                       6.166e-13  -->   9.546e-14 (normalized)"
     ]
    },
    {
     "name": "stdout",
     "output_type": "stream",
     "text": [
      "\n"
     ]
    },
    {
     "name": "stdout",
     "output_type": "stream",
     "text": [
      "Average absolute Sigma Regularization:                       9.718e-01  -->   4.697e-01 (normalized)"
     ]
    },
    {
     "name": "stdout",
     "output_type": "stream",
     "text": [
      "\n"
     ]
    },
    {
     "name": "stdout",
     "output_type": "stream",
     "text": [
      "Fixed parameters error:                                      0.000e+00  -->   9.313e-10 (~)"
     ]
    },
    {
     "name": "stdout",
     "output_type": "stream",
     "text": [
      "\n"
     ]
    },
    {
     "name": "stdout",
     "output_type": "stream",
     "text": [
      "=============================================================================================================="
     ]
    },
    {
     "name": "stdout",
     "output_type": "stream",
     "text": [
      "\n"
     ]
    }
   ],
   "source": [
    "# Run optimization\n",
    "res,_ = opt.optimize(surf2, \n",
    "                                 objective=obj, \n",
    "                                 constraints=constraints,\n",
    "                                 verbose=3,\n",
    "                                 maxiter=60,\n",
    "                                ftol=0,\n",
    "                                gtol=0,\n",
    "                                xtol=0,\n",
    "                                 #options={\"initial_trust_radius\":np.inf}\n",
    "                      )\n",
    "\n",
    "surf2 = res[0]"
   ]
  },
  {
   "cell_type": "code",
   "execution_count": 26,
   "id": "28030b89",
   "metadata": {
    "execution": {
     "iopub.execute_input": "2024-12-07T03:31:09.780855Z",
     "iopub.status.busy": "2024-12-07T03:31:09.780721Z",
     "iopub.status.idle": "2024-12-07T03:31:12.597484Z",
     "shell.execute_reply": "2024-12-07T03:31:12.597066Z"
    },
    "scrolled": false
   },
   "outputs": [
    {
     "name": "stdout",
     "output_type": "stream",
     "text": [
      "<class 'jaxlib.xla_extension.ArrayImpl'>"
     ]
    },
    {
     "name": "stdout",
     "output_type": "stream",
     "text": [
      "\n"
     ]
    },
    {
     "name": "stdout",
     "output_type": "stream",
     "text": [
      "<class 'jaxlib.xla_extension.ArrayImpl'>"
     ]
    },
    {
     "name": "stdout",
     "output_type": "stream",
     "text": [
      "\n"
     ]
    },
    {
     "name": "stdout",
     "output_type": "stream",
     "text": [
      "<class 'jaxlib.xla_extension.ArrayImpl'>"
     ]
    },
    {
     "name": "stdout",
     "output_type": "stream",
     "text": [
      "\n"
     ]
    },
    {
     "name": "stdout",
     "output_type": "stream",
     "text": [
      "<class 'jaxlib.xla_extension.ArrayImpl'>"
     ]
    },
    {
     "name": "stdout",
     "output_type": "stream",
     "text": [
      "\n"
     ]
    },
    {
     "name": "stdout",
     "output_type": "stream",
     "text": [
      "<class 'jaxlib.xla_extension.ArrayImpl'>"
     ]
    },
    {
     "name": "stdout",
     "output_type": "stream",
     "text": [
      "\n"
     ]
    },
    {
     "name": "stdout",
     "output_type": "stream",
     "text": [
      "<class 'jaxlib.xla_extension.ArrayImpl'>"
     ]
    },
    {
     "name": "stdout",
     "output_type": "stream",
     "text": [
      "\n"
     ]
    },
    {
     "data": {
      "text/plain": [
       "(<Figure size 864x720 with 6 Axes>,\n",
       " array([<Axes: title={'center': '$\\\\phi \\\\cdot N_{FP}/2\\\\pi = 0.000$'}, xlabel='$R ~(\\\\mathrm{m})$', ylabel='$Z ~(\\\\mathrm{m})$'>,\n",
       "        <Axes: title={'center': '$\\\\phi \\\\cdot N_{FP}/2\\\\pi = 0.167$'}, xlabel='$R ~(\\\\mathrm{m})$', ylabel='$Z ~(\\\\mathrm{m})$'>,\n",
       "        <Axes: title={'center': '$\\\\phi \\\\cdot N_{FP}/2\\\\pi = 0.333$'}, xlabel='$R ~(\\\\mathrm{m})$', ylabel='$Z ~(\\\\mathrm{m})$'>,\n",
       "        <Axes: title={'center': '$\\\\phi \\\\cdot N_{FP}/2\\\\pi = 0.500$'}, xlabel='$R ~(\\\\mathrm{m})$', ylabel='$Z ~(\\\\mathrm{m})$'>,\n",
       "        <Axes: title={'center': '$\\\\phi \\\\cdot N_{FP}/2\\\\pi = 0.667$'}, xlabel='$R ~(\\\\mathrm{m})$', ylabel='$Z ~(\\\\mathrm{m})$'>,\n",
       "        <Axes: title={'center': '$\\\\phi \\\\cdot N_{FP}/2\\\\pi = 0.833$'}, xlabel='$R ~(\\\\mathrm{m})$', ylabel='$Z ~(\\\\mathrm{m})$'>],\n",
       "       dtype=object))"
      ]
     },
     "execution_count": 26,
     "metadata": {},
     "output_type": "execute_result"
    },
    {
     "data": {
      "image/png": "[encoded data removed]",
      "text/plain": [
       "<Figure size 864x720 with 6 Axes>"
      ]
     },
     "metadata": {},
     "output_type": "display_data"
    }
   ],
   "source": [
    "plot_comparison([surf2,\n",
    "                 eq_QA,\n",
    "                 eq_QH\n",
    "                ],\n",
    "                labels=[\"WS\",\"RQA\",\"RQH\"],\n",
    "                theta=0,rho=np.array(1.0)\n",
    "               )"
   ]
  },
  {
   "cell_type": "code",
   "execution_count": 27,
   "id": "b89cbf47",
   "metadata": {
    "execution": {
     "iopub.execute_input": "2024-12-07T03:31:12.599295Z",
     "iopub.status.busy": "2024-12-07T03:31:12.599158Z",
     "iopub.status.idle": "2024-12-07T03:31:12.602906Z",
     "shell.execute_reply": "2024-12-07T03:31:12.602596Z"
    }
   },
   "outputs": [
    {
     "data": {
      "text/plain": [
       "5352733.202297515"
      ]
     },
     "execution_count": 27,
     "metadata": {},
     "output_type": "execute_result"
    }
   ],
   "source": [
    "surf2.I"
   ]
  },
  {
   "cell_type": "code",
   "execution_count": 28,
   "id": "96069e32",
   "metadata": {
    "execution": {
     "iopub.execute_input": "2024-12-07T03:31:12.604318Z",
     "iopub.status.busy": "2024-12-07T03:31:12.604192Z",
     "iopub.status.idle": "2024-12-07T03:31:12.606428Z",
     "shell.execute_reply": "2024-12-07T03:31:12.606119Z"
    },
    "scrolled": false
   },
   "outputs": [],
   "source": [
    "#plot_comparison([surf,surf2],\n",
    "#                labels=[\"OWS\",\"NWS\"],\n",
    "#                theta=0,rho=np.array(1.0)\n",
    "#               )"
   ]
  },
  {
   "cell_type": "code",
   "execution_count": 29,
   "id": "871c8c00",
   "metadata": {
    "execution": {
     "iopub.execute_input": "2024-12-07T03:31:12.607853Z",
     "iopub.status.busy": "2024-12-07T03:31:12.607728Z",
     "iopub.status.idle": "2024-12-07T03:31:14.038372Z",
     "shell.execute_reply": "2024-12-07T03:31:14.038017Z"
    },
    "scrolled": false
   },
   "outputs": [
    {
     "name": "stdout",
     "output_type": "stream",
     "text": [
      "<class 'numpy.ndarray'>"
     ]
    },
    {
     "name": "stdout",
     "output_type": "stream",
     "text": [
      "\n"
     ]
    },
    {
     "name": "stdout",
     "output_type": "stream",
     "text": [
      "<class 'numpy.ndarray'>"
     ]
    },
    {
     "name": "stdout",
     "output_type": "stream",
     "text": [
      "\n"
     ]
    },
    {
     "data": {
      "text/plain": [
       "Text(0.5, 1.0, 'K surf2')"
      ]
     },
     "execution_count": 29,
     "metadata": {},
     "output_type": "execute_result"
    },
    {
     "data": {
      "image/png": "[encoded data removed]",
      "text/plain": [
       "<Figure size 432x432 with 2 Axes>"
      ]
     },
     "metadata": {},
     "output_type": "display_data"
    }
   ],
   "source": [
    "# look at Phi and Bn\n",
    "denser_source_grid = LinearGrid(M=60,N=60,\n",
    "                                NFP=eq_QH.NFP\n",
    "                               )\n",
    "#plot_2d(eq_QA,\"B*n\",field=surf1, field_grid=denser_source_grid)\n",
    "#plt.title(\"Eq 1 Bn error from surf1\")\n",
    "\n",
    "#plot_2d(surf1, \"K\")\n",
    "#plt.title(\"K surf1\")\n",
    "\n",
    "#plot_2d(eq_QH,\"B*n\",field=surf2, field_grid=denser_source_grid)\n",
    "#plt.title(\"Eq 2 Bn error from surf2\")\n",
    "\n",
    "plot_2d(surf2, \"K\")\n",
    "plt.title(\"K surf2\")"
   ]
  },
  {
   "cell_type": "code",
   "execution_count": 30,
   "id": "e16fb8e4",
   "metadata": {
    "execution": {
     "iopub.execute_input": "2024-12-07T03:31:14.040032Z",
     "iopub.status.busy": "2024-12-07T03:31:14.039900Z",
     "iopub.status.idle": "2024-12-07T03:31:14.042259Z",
     "shell.execute_reply": "2024-12-07T03:31:14.041947Z"
    }
   },
   "outputs": [],
   "source": [
    "#b_QA = surf1.compute(\"b_s\",grid = denser_source_grid)[\"b_s\"]\n",
    "\n",
    "#plot_figure2(b_QA,\n",
    "#            denser_source_grid,\n",
    "#            ''r'$b_{QA}$ '\n",
    "#           )"
   ]
  },
  {
   "cell_type": "code",
   "execution_count": 31,
   "id": "7a02e9ab",
   "metadata": {
    "execution": {
     "iopub.execute_input": "2024-12-07T03:31:14.043688Z",
     "iopub.status.busy": "2024-12-07T03:31:14.043565Z",
     "iopub.status.idle": "2024-12-07T03:32:08.672084Z",
     "shell.execute_reply": "2024-12-07T03:32:08.671659Z"
    }
   },
   "outputs": [
    {
     "name": "stderr",
     "output_type": "stream",
     "text": [
      "/home/fcastro/DESC/desc/transform.py:70: UserWarning: "
     ]
    },
    {
     "name": "stderr",
     "output_type": "stream",
     "text": [
      "Unequal number of field periods for grid 1 and basis 3."
     ]
    },
    {
     "name": "stderr",
     "output_type": "stream",
     "text": [
      "\n",
      "  warnings.warn(\n"
     ]
    },
    {
     "name": "stdout",
     "output_type": "stream",
     "text": [
      "<class 'numpy.ndarray'>"
     ]
    },
    {
     "name": "stdout",
     "output_type": "stream",
     "text": [
      "\n"
     ]
    },
    {
     "name": "stderr",
     "output_type": "stream",
     "text": [
      "/home/fcastro/DESC/desc/transform.py:70: UserWarning: "
     ]
    },
    {
     "name": "stderr",
     "output_type": "stream",
     "text": [
      "Unequal number of field periods for grid 1 and basis 3."
     ]
    },
    {
     "name": "stderr",
     "output_type": "stream",
     "text": [
      "\n",
      "  warnings.warn(\n"
     ]
    },
    {
     "name": "stdout",
     "output_type": "stream",
     "text": [
      "<class 'numpy.ndarray'>"
     ]
    },
    {
     "name": "stdout",
     "output_type": "stream",
     "text": [
      "\n"
     ]
    },
    {
     "name": "stderr",
     "output_type": "stream",
     "text": [
      "/home/fcastro/DESC/desc/transform.py:70: UserWarning: "
     ]
    },
    {
     "name": "stderr",
     "output_type": "stream",
     "text": [
      "Unequal number of field periods for grid 1 and basis 3."
     ]
    },
    {
     "name": "stderr",
     "output_type": "stream",
     "text": [
      "\n",
      "  warnings.warn(\n"
     ]
    },
    {
     "name": "stdout",
     "output_type": "stream",
     "text": [
      "<class 'numpy.ndarray'>"
     ]
    },
    {
     "name": "stdout",
     "output_type": "stream",
     "text": [
      "\n"
     ]
    },
    {
     "name": "stderr",
     "output_type": "stream",
     "text": [
      "/home/fcastro/DESC/desc/transform.py:70: UserWarning: "
     ]
    },
    {
     "name": "stderr",
     "output_type": "stream",
     "text": [
      "Unequal number of field periods for grid 1 and basis 3."
     ]
    },
    {
     "name": "stderr",
     "output_type": "stream",
     "text": [
      "\n",
      "  warnings.warn(\n"
     ]
    },
    {
     "name": "stdout",
     "output_type": "stream",
     "text": [
      "<class 'numpy.ndarray'>"
     ]
    },
    {
     "name": "stdout",
     "output_type": "stream",
     "text": [
      "\n"
     ]
    },
    {
     "data": {
      "image/png": "[encoded data removed]",
      "text/plain": [
       "<Figure size 432x360 with 2 Axes>"
      ]
     },
     "metadata": {},
     "output_type": "display_data"
    },
    {
     "data": {
      "image/png": "[encoded data removed]",
      "text/plain": [
       "<Figure size 432x360 with 2 Axes>"
      ]
     },
     "metadata": {},
     "output_type": "display_data"
    }
   ],
   "source": [
    "# Find B on plasma surface\n",
    "egrid = LinearGrid(M = 100, N = 100)\n",
    "\n",
    "coords = eq.compute([\"R\", \"phi\", \"Z\"], grid = egrid)\n",
    "\n",
    "n_rho = eq.compute(\"n_rho\", grid = egrid)[\"n_rho\"]\n",
    "\n",
    "#B = coords[\"B\"]\n",
    "coords = np.vstack([coords[\"R\"], coords[\"phi\"], coords[\"Z\"]]).T\n",
    "\n",
    "# surface_current_field.compute_magnetic_field actually computes the normal field only\n",
    "B_from_surf = surf2.compute_magnetic_field(coords,)# grid=egrid)\n",
    "\n",
    "# Plot B on the plasma surface\n",
    "mag_B = jnp.sqrt(dot(B_from_surf,B_from_surf))\n",
    "\n",
    "Bn = abs(dot(B_from_surf,n_rho))*mag_B**(-1) \n",
    "\n",
    "plot_figure(Bn, egrid, ''r'$\\frac{|\\mathbf{B} \\cdot \\mathbf{n}|}{|\\mathbf{B}|}$')\n",
    "plot_figure(mag_B, egrid, ''r'$|\\mathbf{B}|$ (T)')"
   ]
  },
  {
   "cell_type": "code",
   "execution_count": 32,
   "id": "c394d267",
   "metadata": {
    "execution": {
     "iopub.execute_input": "2024-12-07T03:32:08.673956Z",
     "iopub.status.busy": "2024-12-07T03:32:08.673815Z",
     "iopub.status.idle": "2024-12-07T03:33:58.325435Z",
     "shell.execute_reply": "2024-12-07T03:33:58.325012Z"
    },
    "scrolled": true
   },
   "outputs": [
    {
     "name": "stdout",
     "output_type": "stream",
     "text": [
      "<class 'numpy.ndarray'>"
     ]
    },
    {
     "name": "stdout",
     "output_type": "stream",
     "text": [
      "\n"
     ]
    },
    {
     "name": "stdout",
     "output_type": "stream",
     "text": [
      "<class 'numpy.ndarray'>"
     ]
    },
    {
     "name": "stdout",
     "output_type": "stream",
     "text": [
      "\n"
     ]
    },
    {
     "data": {
      "image/png": "[encoded data removed]",
      "text/plain": [
       "<Figure size 432x360 with 2 Axes>"
      ]
     },
     "metadata": {},
     "output_type": "display_data"
    },
    {
     "data": {
      "image/png": "[encoded data removed]",
      "text/plain": [
       "<Figure size 432x360 with 2 Axes>"
      ]
     },
     "metadata": {},
     "output_type": "display_data"
    }
   ],
   "source": [
    "b_QH = surf2.compute(\"b_s\",grid = denser_source_grid)[\"b_s\"]\n",
    "\n",
    "plot_figure2(b_QH,\n",
    "            denser_source_grid,\n",
    "            ''r'$b_{QH}$ '\n",
    "           )\n",
    "\n",
    "plot_figure(b_QH,\n",
    "            denser_source_grid,\n",
    "            ''r'$b_{QH}$ '\n",
    "           )"
   ]
  },
  {
   "cell_type": "code",
   "execution_count": 33,
   "id": "44c23eff",
   "metadata": {
    "execution": {
     "iopub.execute_input": "2024-12-07T03:33:58.327294Z",
     "iopub.status.busy": "2024-12-07T03:33:58.327153Z",
     "iopub.status.idle": "2024-12-07T03:33:58.329684Z",
     "shell.execute_reply": "2024-12-07T03:33:58.329365Z"
    }
   },
   "outputs": [],
   "source": [
    "#surf2.save(\"surf_opt_3.h5\")"
   ]
  }
 ],
 "metadata": {
  "kernelspec": {
   "display_name": "Python 3 (ipykernel)",
   "language": "python",
   "name": "python3"
  },
  "language_info": {
   "codemirror_mode": {
    "name": "ipython",
    "version": 3
   },
   "file_extension": ".py",
   "mimetype": "text/x-python",
   "name": "python",
   "nbconvert_exporter": "python",
   "pygments_lexer": "ipython3",
   "version": "3.11.0"
  }
 },
 "nbformat": 4,
 "nbformat_minor": 5
}
