{
 "cells": [
  {
   "cell_type": "code",
   "execution_count": null,
   "metadata": {},
   "outputs": [],
   "source": [
    "import matplotlib.pylab as plt\n",
    "import jax.numpy as jnp\n",
    "import numpy as np\n",
    "from desc.grid import Grid, LinearGrid\n",
    "import desc.io\n",
    "from desc.plotting import plot_3d, plot_surfaces\n",
    "import plotly.graph_objects as go\n"
   ]
  },
  {
   "cell_type": "code",
   "execution_count": null,
   "metadata": {},
   "outputs": [],
   "source": [
    "# Define the file name where the data is stored\n",
    "file_name = f'solution_input.LandremanPaul2021.txt'\n",
    "\n",
    "# Initialize empty lists to store the separated columns\n",
    "list1 = []\n",
    "list2 = []\n",
    "\n",
    "list3 = []\n",
    "list4 = []\n",
    "\n",
    "# Open the file for reading\n",
    "with open(file_name, 'r') as file:\n",
    "    # Read the first line (column headers) and discard it\n",
    "    file.readline()\n",
    "\n",
    "    # Read the data row by row\n",
    "    i = 0\n",
    "    for line in file:\n",
    "        # Split the line into columns using tab as the delimiter\n",
    "        columns = line.strip().split('\\t')\n",
    "\n",
    "        # Convert each column to the appropriate data type and append to the respective lists\n",
    "        list1.append(float(columns[0]))\n",
    "        list2.append(float(columns[1]))\n",
    "        list3.append(float(columns[2]))\n",
    "        list4.append(float(columns[3]))\n",
    "\n",
    "\n",
    "plt.plot(np.sqrt(list1) * np.cos(list2), np.sqrt(list1) * np.sin(list2))\n",
    "\n",
    "plt.xlim(-1, 1)\n",
    "plt.ylim(-1, 1)\n",
    "plt.show()\n",
    "plt.close()\n"
   ]
  },
  {
   "cell_type": "code",
   "execution_count": null,
   "metadata": {},
   "outputs": [],
   "source": [
    "fig, ax = plt.subplots()\n",
    "\n",
    "#create simple line plot\n",
    "\n",
    "ax.plot(np.sqrt(list1) * np.cos(list2), np.sqrt(list1) * np.sin(list2))\n",
    "\n",
    "#set aspect ratio to 1\n",
    "ratio = 1.0\n",
    "x_left, x_right = ax.get_xlim()\n",
    "y_low, y_high = ax.get_ylim()\n",
    "ax.set_aspect(\"equal\", adjustable='box')\n",
    "\n",
    "plt.xlabel(r'sqrt($\\psi$)*cos($\\theta$)')\n",
    "plt.ylabel(r'sqrt($\\psi$)*sin($\\theta$)')\n",
    "\n",
    "#plt.title(rf'E = {E_}, q/m = {q_}/{m_}, $\\Delta$t = [{t_i}, {t_f}], nt = {nt_}, x$_i$ = [{psi_i:.2f}, {theta_i:.2f}, {zeta_i:.2f}], v$_\\%$ = {vpar_i_ratio:.2f}')\n",
    "plt.show()"
   ]
  },
  {
   "cell_type": "code",
   "execution_count": null,
   "metadata": {},
   "outputs": [],
   "source": [
    "t = np.linspace(0, 0.1, 999)\n",
    "\n",
    "fig, axs = plt.subplots(2, 2)\n",
    "axs[0, 1].plot(t, list1, 'tab:orange')\n",
    "axs[0, 1].set_title(r'$\\psi$ (t)')\n",
    "axs[1, 0].plot(t, list2, 'tab:green')\n",
    "axs[1, 0].set_title(r'$\\theta$ (t)')\n",
    "axs[1, 1].plot(t, list3, 'tab:red')\n",
    "axs[1, 1].set_title(r'$\\zeta$ (t)')\n",
    "axs[0, 0].plot(t, list4, 'tab:blue')\n",
    "axs[0, 0].set_title(r\"$v_{\\parallel}$ (t)\")\n",
    "\n",
    "fig = plt.gcf()\n",
    "fig.set_size_inches(10.5, 10.5)\n",
    "axs[0, 0].ticklabel_format(axis=\"x\", style=\"sci\", scilimits=(0,0))\n",
    "axs[1, 0].ticklabel_format(axis=\"x\", style=\"sci\", scilimits=(0,0))\n",
    "axs[1, 1].ticklabel_format(axis=\"x\", style=\"sci\", scilimits=(0,0))\n",
    "axs[0, 1].ticklabel_format(axis=\"x\", style=\"sci\", scilimits=(0,0))"
   ]
  },
  {
   "cell_type": "code",
   "execution_count": null,
   "metadata": {},
   "outputs": [],
   "source": [
    "eq = desc.io.load(\"input.LandremanPaul2021_QA_scaled_output.h5\")[-1]\n",
    "eq._iota = eq.get_profile(\"iota\").to_powerseries(order=eq.L, sym=True)\n",
    "eq._current = None\n"
   ]
  },
  {
   "cell_type": "code",
   "execution_count": null,
   "metadata": {},
   "outputs": [],
   "source": [
    "grid = Grid(np.vstack((np.sqrt(list1), list2, list3)).T,sort=False)\n",
    "\n",
    "data = eq.compute([\"X\", \"Y\", \"Z\"], grid)"
   ]
  },
  {
   "cell_type": "code",
   "execution_count": null,
   "metadata": {},
   "outputs": [],
   "source": [
    "print(data[\"X\"])\n",
    "print(data[\"Y\"])\n",
    "print(data[\"Z\"])"
   ]
  },
  {
   "cell_type": "code",
   "execution_count": null,
   "metadata": {},
   "outputs": [],
   "source": [
    "def plot_trajectory(data, ax=None, **kwargs):\n",
    "    if ax is None:\n",
    "        fig = plt.figure()\n",
    "        ax = plt.figure().add_subplot(projection='3d')\n",
    "    ax.scatter(data[\"X\"], data[\"Y\"], data[\"Z\"], **kwargs)\n",
    "    return ax\n",
    "\n",
    "ax = plot_trajectory(data, color=\"r\", marker=\".\")"
   ]
  },
  {
   "cell_type": "code",
   "execution_count": null,
   "metadata": {},
   "outputs": [],
   "source": [
    "grid = LinearGrid(rho=np.sqrt(0.2), M = 100, N = 100)\n",
    "fig = plot_3d(eq, \"B\", alpha=0.3, grid=grid)\n",
    "fig.add_trace(go.Scatter3d(x=data[\"X\"], y=data[\"Y\"], z=data[\"Z\"], mode='markers', marker_size=2))\n",
    "fig.write_image(\"surface_and_tracing.png\")\n"
   ]
  },
  {
   "cell_type": "code",
   "execution_count": null,
   "metadata": {},
   "outputs": [],
   "source": []
  }
 ],
 "metadata": {
  "kernelspec": {
   "display_name": "desc-env",
   "language": "python",
   "name": "python3"
  },
  "language_info": {
   "codemirror_mode": {
    "name": "ipython",
    "version": 3
   },
   "file_extension": ".py",
   "mimetype": "text/x-python",
   "name": "python",
   "nbconvert_exporter": "python",
   "pygments_lexer": "ipython3",
   "version": "3.11.5"
  },
  "orig_nbformat": 4
 },
 "nbformat": 4,
 "nbformat_minor": 2
}
