{
 "cells": [
  {
   "cell_type": "code",
   "execution_count": 1,
   "id": "c3bfcfee",
   "metadata": {
    "execution": {
     "iopub.execute_input": "2024-08-28T15:31:57.293505Z",
     "iopub.status.busy": "2024-08-28T15:31:57.293364Z",
     "iopub.status.idle": "2024-08-28T15:31:57.555885Z",
     "shell.execute_reply": "2024-08-28T15:31:57.555469Z"
    }
   },
   "outputs": [
    {
     "name": "stderr",
     "output_type": "stream",
     "text": [
      "/home/fcastro/DESC/desc/__init__.py:98: UserWarning: No GPU found, falling back to CPU\n",
      "  warnings.warn(colored(\"No GPU found, falling back to CPU\", \"yellow\"))\n"
     ]
    }
   ],
   "source": [
    "from desc import set_device\n",
    "set_device(\"gpu\")"
   ]
  },
  {
   "cell_type": "code",
   "execution_count": 2,
   "id": "effb3c47",
   "metadata": {
    "execution": {
     "iopub.execute_input": "2024-08-28T15:31:57.558463Z",
     "iopub.status.busy": "2024-08-28T15:31:57.558307Z",
     "iopub.status.idle": "2024-08-28T15:32:00.890524Z",
     "shell.execute_reply": "2024-08-28T15:32:00.890106Z"
    }
   },
   "outputs": [
    {
     "name": "stdout",
     "output_type": "stream",
     "text": [
      "DESC version 0.11.1+936.gd0557cd06.dirty,using JAX backend, jax version=0.4.14, jaxlib version=0.4.14, dtype=float64\n",
      "Using device: CPU, with 87.86 GB available memory\n"
     ]
    },
    {
     "ename": "KeyError",
     "evalue": "'Phi_tz'",
     "output_type": "error",
     "traceback": [
      "\u001b[0;31m---------------------------------------------------------------------------\u001b[0m",
      "\u001b[0;31mKeyError\u001b[0m                                  Traceback (most recent call last)",
      "Cell \u001b[0;32mIn[2], line 24\u001b[0m\n\u001b[1;32m     21\u001b[0m \u001b[38;5;28;01mfrom\u001b[39;00m \u001b[38;5;21;01mdesc\u001b[39;00m\u001b[38;5;21;01m.\u001b[39;00m\u001b[38;5;21;01mbackend\u001b[39;00m \u001b[38;5;28;01mimport\u001b[39;00m put, fori_loop, jnp, sign\n\u001b[1;32m     23\u001b[0m \u001b[38;5;28;01mfrom\u001b[39;00m \u001b[38;5;21;01mdesc\u001b[39;00m\u001b[38;5;21;01m.\u001b[39;00m\u001b[38;5;21;01mbasis\u001b[39;00m \u001b[38;5;28;01mimport\u001b[39;00m FourierZernikeBasis, DoubleFourierSeries, FourierSeries\n\u001b[0;32m---> 24\u001b[0m \u001b[38;5;28;01mfrom\u001b[39;00m \u001b[38;5;21;01mdesc\u001b[39;00m\u001b[38;5;21;01m.\u001b[39;00m\u001b[38;5;21;01mequilibrium\u001b[39;00m \u001b[38;5;28;01mimport\u001b[39;00m EquilibriaFamily, Equilibrium\n\u001b[1;32m     25\u001b[0m \u001b[38;5;28;01mfrom\u001b[39;00m \u001b[38;5;21;01mdesc\u001b[39;00m\u001b[38;5;21;01m.\u001b[39;00m\u001b[38;5;21;01mgrid\u001b[39;00m \u001b[38;5;28;01mimport\u001b[39;00m ConcentricGrid, LinearGrid, Grid, QuadratureGrid\n\u001b[1;32m     26\u001b[0m \u001b[38;5;28;01mfrom\u001b[39;00m \u001b[38;5;21;01mdesc\u001b[39;00m\u001b[38;5;21;01m.\u001b[39;00m\u001b[38;5;21;01mio\u001b[39;00m \u001b[38;5;28;01mimport\u001b[39;00m InputReader, load\n",
      "File \u001b[0;32m~/DESC/desc/equilibrium/__init__.py:3\u001b[0m\n\u001b[1;32m      1\u001b[0m \u001b[38;5;124;03m\"\"\"Core class representing MHD equilibrium, and utilities for creating them.\"\"\"\u001b[39;00m\n\u001b[0;32m----> 3\u001b[0m \u001b[38;5;28;01mfrom\u001b[39;00m \u001b[38;5;21;01m.\u001b[39;00m\u001b[38;5;21;01mequilibrium\u001b[39;00m \u001b[38;5;28;01mimport\u001b[39;00m EquilibriaFamily, Equilibrium\n",
      "File \u001b[0;32m~/DESC/desc/equilibrium/equilibrium.py:16\u001b[0m\n\u001b[1;32m     14\u001b[0m \u001b[38;5;28;01mfrom\u001b[39;00m \u001b[38;5;21;01mdesc\u001b[39;00m\u001b[38;5;21;01m.\u001b[39;00m\u001b[38;5;21;01mbasis\u001b[39;00m \u001b[38;5;28;01mimport\u001b[39;00m FourierZernikeBasis, fourier, zernike_radial\n\u001b[1;32m     15\u001b[0m \u001b[38;5;28;01mfrom\u001b[39;00m \u001b[38;5;21;01mdesc\u001b[39;00m\u001b[38;5;21;01m.\u001b[39;00m\u001b[38;5;21;01mcompat\u001b[39;00m \u001b[38;5;28;01mimport\u001b[39;00m ensure_positive_jacobian\n\u001b[0;32m---> 16\u001b[0m \u001b[38;5;28;01mfrom\u001b[39;00m \u001b[38;5;21;01mdesc\u001b[39;00m\u001b[38;5;21;01m.\u001b[39;00m\u001b[38;5;21;01mcompute\u001b[39;00m \u001b[38;5;28;01mimport\u001b[39;00m compute \u001b[38;5;28;01mas\u001b[39;00m compute_fun\n\u001b[1;32m     17\u001b[0m \u001b[38;5;28;01mfrom\u001b[39;00m \u001b[38;5;21;01mdesc\u001b[39;00m\u001b[38;5;21;01m.\u001b[39;00m\u001b[38;5;21;01mcompute\u001b[39;00m \u001b[38;5;28;01mimport\u001b[39;00m data_index\n\u001b[1;32m     18\u001b[0m \u001b[38;5;28;01mfrom\u001b[39;00m \u001b[38;5;21;01mdesc\u001b[39;00m\u001b[38;5;21;01m.\u001b[39;00m\u001b[38;5;21;01mcompute\u001b[39;00m\u001b[38;5;21;01m.\u001b[39;00m\u001b[38;5;21;01mutils\u001b[39;00m \u001b[38;5;28;01mimport\u001b[39;00m get_data_deps, get_params, get_profiles, get_transforms\n",
      "File \u001b[0;32m~/DESC/desc/compute/__init__.py:97\u001b[0m\n\u001b[1;32m     93\u001b[0m                         full_with_axis[_key] \u001b[38;5;241m=\u001b[39m full[_key]\n\u001b[1;32m     94\u001b[0m             data_index[p][key][\u001b[38;5;124m\"\u001b[39m\u001b[38;5;124mfull_with_axis_dependencies\u001b[39m\u001b[38;5;124m\"\u001b[39m] \u001b[38;5;241m=\u001b[39m full_with_axis\n\u001b[0;32m---> 97\u001b[0m \u001b[43m_build_data_index\u001b[49m\u001b[43m(\u001b[49m\u001b[43m)\u001b[49m\n",
      "File \u001b[0;32m~/DESC/desc/compute/__init__.py:67\u001b[0m, in \u001b[0;36m_build_data_index\u001b[0;34m()\u001b[0m\n\u001b[1;32m     64\u001b[0m \u001b[38;5;28;01mfor\u001b[39;00m p \u001b[38;5;129;01min\u001b[39;00m data_index:\n\u001b[1;32m     65\u001b[0m     \u001b[38;5;28;01mfor\u001b[39;00m key \u001b[38;5;129;01min\u001b[39;00m data_index[p]:\n\u001b[1;32m     66\u001b[0m         full \u001b[38;5;241m=\u001b[39m {\n\u001b[0;32m---> 67\u001b[0m             \u001b[38;5;124m\"\u001b[39m\u001b[38;5;124mdata\u001b[39m\u001b[38;5;124m\"\u001b[39m: \u001b[43mget_data_deps\u001b[49m\u001b[43m(\u001b[49m\u001b[43mkey\u001b[49m\u001b[43m,\u001b[49m\u001b[43m \u001b[49m\u001b[43mp\u001b[49m\u001b[43m,\u001b[49m\u001b[43m \u001b[49m\u001b[43mhas_axis\u001b[49m\u001b[38;5;241;43m=\u001b[39;49m\u001b[38;5;28;43;01mFalse\u001b[39;49;00m\u001b[43m)\u001b[49m,\n\u001b[1;32m     68\u001b[0m             \u001b[38;5;124m\"\u001b[39m\u001b[38;5;124mtransforms\u001b[39m\u001b[38;5;124m\"\u001b[39m: get_derivs(key, p, has_axis\u001b[38;5;241m=\u001b[39m\u001b[38;5;28;01mFalse\u001b[39;00m),\n\u001b[1;32m     69\u001b[0m             \u001b[38;5;124m\"\u001b[39m\u001b[38;5;124mparams\u001b[39m\u001b[38;5;124m\"\u001b[39m: get_params(key, p, has_axis\u001b[38;5;241m=\u001b[39m\u001b[38;5;28;01mFalse\u001b[39;00m),\n\u001b[1;32m     70\u001b[0m             \u001b[38;5;124m\"\u001b[39m\u001b[38;5;124mprofiles\u001b[39m\u001b[38;5;124m\"\u001b[39m: get_profiles(key, p, has_axis\u001b[38;5;241m=\u001b[39m\u001b[38;5;28;01mFalse\u001b[39;00m),\n\u001b[1;32m     71\u001b[0m         }\n\u001b[1;32m     72\u001b[0m         data_index[p][key][\u001b[38;5;124m\"\u001b[39m\u001b[38;5;124mfull_dependencies\u001b[39m\u001b[38;5;124m\"\u001b[39m] \u001b[38;5;241m=\u001b[39m full\n\u001b[1;32m     74\u001b[0m         full_with_axis_data \u001b[38;5;241m=\u001b[39m get_data_deps(key, p, has_axis\u001b[38;5;241m=\u001b[39m\u001b[38;5;28;01mTrue\u001b[39;00m)\n",
      "File \u001b[0;32m~/DESC/desc/compute/utils.py:188\u001b[0m, in \u001b[0;36mget_data_deps\u001b[0;34m(keys, obj, has_axis)\u001b[0m\n\u001b[1;32m    186\u001b[0m out \u001b[38;5;241m=\u001b[39m []\n\u001b[1;32m    187\u001b[0m \u001b[38;5;28;01mfor\u001b[39;00m key \u001b[38;5;129;01min\u001b[39;00m keys:\n\u001b[0;32m--> 188\u001b[0m     out \u001b[38;5;241m+\u001b[39m\u001b[38;5;241m=\u001b[39m \u001b[43m_get_deps_1_key\u001b[49m\u001b[43m(\u001b[49m\u001b[43mkey\u001b[49m\u001b[43m)\u001b[49m\n\u001b[1;32m    189\u001b[0m \u001b[38;5;28;01mreturn\u001b[39;00m \u001b[38;5;28msorted\u001b[39m(\u001b[38;5;28mlist\u001b[39m(\u001b[38;5;28mset\u001b[39m(out)))\n",
      "File \u001b[0;32m~/DESC/desc/compute/utils.py:178\u001b[0m, in \u001b[0;36mget_data_deps.<locals>._get_deps_1_key\u001b[0;34m(key)\u001b[0m\n\u001b[1;32m    176\u001b[0m out \u001b[38;5;241m=\u001b[39m deps\u001b[38;5;241m.\u001b[39mcopy()  \u001b[38;5;66;03m# to avoid modifying the data_index\u001b[39;00m\n\u001b[1;32m    177\u001b[0m \u001b[38;5;28;01mfor\u001b[39;00m dep \u001b[38;5;129;01min\u001b[39;00m deps:\n\u001b[0;32m--> 178\u001b[0m     out \u001b[38;5;241m+\u001b[39m\u001b[38;5;241m=\u001b[39m \u001b[43m_get_deps_1_key\u001b[49m\u001b[43m(\u001b[49m\u001b[43mdep\u001b[49m\u001b[43m)\u001b[49m\n\u001b[1;32m    179\u001b[0m \u001b[38;5;28;01mif\u001b[39;00m has_axis:\n\u001b[1;32m    180\u001b[0m     axis_limit_deps \u001b[38;5;241m=\u001b[39m data_index[p][key][\u001b[38;5;124m\"\u001b[39m\u001b[38;5;124mdependencies\u001b[39m\u001b[38;5;124m\"\u001b[39m][\u001b[38;5;124m\"\u001b[39m\u001b[38;5;124maxis_limit_data\u001b[39m\u001b[38;5;124m\"\u001b[39m]\n",
      "File \u001b[0;32m~/DESC/desc/compute/utils.py:171\u001b[0m, in \u001b[0;36mget_data_deps.<locals>._get_deps_1_key\u001b[0;34m(key)\u001b[0m\n\u001b[1;32m    169\u001b[0m     \u001b[38;5;28;01mif\u001b[39;00m \u001b[38;5;124m\"\u001b[39m\u001b[38;5;124mfull_with_axis_dependencies\u001b[39m\u001b[38;5;124m\"\u001b[39m \u001b[38;5;129;01min\u001b[39;00m data_index[p][key]:\n\u001b[1;32m    170\u001b[0m         \u001b[38;5;28;01mreturn\u001b[39;00m data_index[p][key][\u001b[38;5;124m\"\u001b[39m\u001b[38;5;124mfull_with_axis_dependencies\u001b[39m\u001b[38;5;124m\"\u001b[39m][\u001b[38;5;124m\"\u001b[39m\u001b[38;5;124mdata\u001b[39m\u001b[38;5;124m\"\u001b[39m]\n\u001b[0;32m--> 171\u001b[0m \u001b[38;5;28;01melif\u001b[39;00m \u001b[38;5;124m\"\u001b[39m\u001b[38;5;124mfull_dependencies\u001b[39m\u001b[38;5;124m\"\u001b[39m \u001b[38;5;129;01min\u001b[39;00m \u001b[43mdata_index\u001b[49m\u001b[43m[\u001b[49m\u001b[43mp\u001b[49m\u001b[43m]\u001b[49m\u001b[43m[\u001b[49m\u001b[43mkey\u001b[49m\u001b[43m]\u001b[49m:\n\u001b[1;32m    172\u001b[0m     \u001b[38;5;28;01mreturn\u001b[39;00m data_index[p][key][\u001b[38;5;124m\"\u001b[39m\u001b[38;5;124mfull_dependencies\u001b[39m\u001b[38;5;124m\"\u001b[39m][\u001b[38;5;124m\"\u001b[39m\u001b[38;5;124mdata\u001b[39m\u001b[38;5;124m\"\u001b[39m]\n\u001b[1;32m    173\u001b[0m deps \u001b[38;5;241m=\u001b[39m data_index[p][key][\u001b[38;5;124m\"\u001b[39m\u001b[38;5;124mdependencies\u001b[39m\u001b[38;5;124m\"\u001b[39m][\u001b[38;5;124m\"\u001b[39m\u001b[38;5;124mdata\u001b[39m\u001b[38;5;124m\"\u001b[39m]\n",
      "\u001b[0;31mKeyError\u001b[0m: 'Phi_tz'"
     ]
    }
   ],
   "source": [
    "import numpy as np\n",
    "import os\n",
    "# os.environ[\"JAX_LOG_COMPILES\"] = \"True\"\n",
    "from scipy.io import netcdf_file\n",
    "import copy\n",
    "import matplotlib\n",
    "import matplotlib.pyplot as plt\n",
    "import scipy\n",
    "from scipy.constants import mu_0\n",
    "import sys\n",
    "import functools\n",
    "import pickle\n",
    "\n",
    "import jax\n",
    "import jax.numpy as jnp\n",
    "from jax import jit, jacfwd\n",
    "\n",
    "from netCDF4 import Dataset\n",
    "import h5py\n",
    "\n",
    "from desc.backend import put, fori_loop, jnp, sign\n",
    "\n",
    "from desc.basis import FourierZernikeBasis, DoubleFourierSeries, FourierSeries\n",
    "from desc.equilibrium import EquilibriaFamily, Equilibrium\n",
    "from desc.grid import ConcentricGrid, LinearGrid, Grid, QuadratureGrid\n",
    "from desc.io import InputReader, load\n",
    "from desc.objectives import *\n",
    "from desc.objectives.objective_funs import _Objective\n",
    "from desc.plotting import plot_1d, plot_2d, plot_3d, plot_section, plot_surfaces, plot_comparison\n",
    "\n",
    "from desc.plotting import *\n",
    "\n",
    "from desc.transform import Transform\n",
    "from desc.vmec import VMECIO\n",
    "from desc.derivatives import Derivative\n",
    "from desc.geometry import FourierRZToroidalSurface\n",
    "from desc.profiles import SplineProfile, PowerSeriesProfile\n",
    "\n",
    "from desc.magnetic_fields import ( SplineMagneticField, \n",
    "                                  #biot_savart_general, \n",
    "                                  FourierCurrentPotentialField, ToroidalMagneticField,\n",
    "                                  field_line_integrate)\n",
    "\n",
    "import desc.examples\n",
    "\n",
    "from desc.backend import fori_loop, jit, jnp, odeint, sign\n",
    "from desc.compute import rpz2xyz, rpz2xyz_vec, xyz2rpz, xyz2rpz_vec\n",
    "from desc.coils import *\n",
    "\n",
    "from desc.utils import Timer, copy_coeffs, errorif, setdefault, svd_inv_null, warnif\n",
    "from desc.utils import flatten_list\n",
    "from desc.compute.utils import cross\n",
    "from desc.compute.utils import dot\n",
    "\n",
    "from desc.optimize import lsqtr, lsq_auglag\n",
    "\n",
    "from scipy.optimize import NonlinearConstraint \n",
    "\n",
    "from desc.magnetic_fields import ( SplineMagneticField, \n",
    "                                  #biot_savart_general, \n",
    "                                  FourierCurrentPotentialField, ToroidalMagneticField,\n",
    "                                  field_line_integrate)\n",
    "\n",
    "import time\n",
    "\n",
    "import numpy as np\n",
    "from numpy.linalg import eig\n",
    "\n",
    "from scipy.linalg import null_space\n",
    "from numpy import ndarray\n",
    "\n",
    "# Import my own functions\n",
    "from desc.fns_simp import (data_eval, _compute_magnetic_field_from_Current,\n",
    "                           plot_figure,\n",
    "                           plot_figure2,\n",
    "                           plot_xy,\n",
    "                           surf_int)\n",
    "\n",
    "from desc.finite_diff_spe import first_derivative_t,first_derivative_z\n",
    "                              #second_derivative_t,second_derivative_z,second_derivative_tz\n",
    "#                             )\n",
    "\n",
    "from desc.derivatives import Derivative\n",
    "#from phi2d_eval import phi_sv_eval\n",
    "#from desc.contour_calc import contour_calc_c\n",
    "\n",
    "#from funcs import eqn_residual"
   ]
  },
  {
   "cell_type": "code",
   "execution_count": null,
   "id": "d488747b",
   "metadata": {},
   "outputs": [],
   "source": [
    "%pdb"
   ]
  },
  {
   "cell_type": "code",
   "execution_count": null,
   "id": "b31ab5a8",
   "metadata": {},
   "outputs": [],
   "source": []
  },
  {
   "cell_type": "code",
   "execution_count": null,
   "id": "7f5f7c17",
   "metadata": {},
   "outputs": [],
   "source": [
    "from desc.continuation import solve_continuation_automatic\n",
    "\n",
    "from desc.objectives import (\n",
    "    #AspectRatio,\n",
    "    #FixBoundaryR,\n",
    "    #FixBoundaryZ,\n",
    "    #FixCurrent,\n",
    "    #FixPressure,\n",
    "    #FixPsi,\n",
    "    #ForceBalance,\n",
    "    ObjectiveFunction,\n",
    "    #QuasisymmetryTwoTerm,\n",
    "    #RotationalTransform,\n",
    "    FixParameters, \n",
    "    QuadraticFlux, \n",
    "    SurfaceCurrentRegularization, \n",
    "    bVariation,\n",
    "    PlasmaVesselDistance\n",
    ")\n",
    "from desc.optimize import Optimizer"
   ]
  },
  {
   "cell_type": "code",
   "execution_count": null,
   "id": "3969b398",
   "metadata": {
    "execution": {
     "iopub.execute_input": "2024-08-28T15:32:00.893463Z",
     "iopub.status.busy": "2024-08-28T15:32:00.893247Z",
     "iopub.status.idle": "2024-08-28T15:32:24.921842Z",
     "shell.execute_reply": "2024-08-28T15:32:24.921391Z"
    }
   },
   "outputs": [],
   "source": [
    "# Plasma surfaces\n",
    "eqname_QA = \"/home/fcastro/LMStell/regcoil/rogerio/input.QA_final_output.h5\" #vacuum equilibrium\n",
    "eq_QA = desc.io.load(eqname_QA)[4]\n",
    "\n",
    "eqname_QH = \"/home/fcastro/LMStell/regcoil/rogerio/input.QH_final_output.h5\" #vacuum equilibrium\n",
    "eq_QH = desc.io.load(eqname_QH)[4]\n",
    "\n",
    "eq = eq_QH\n",
    "\n",
    "R0 = 1.0\n",
    "a = 0.3\n",
    "\n",
    "surf = FourierRZToroidalSurface(R_lmn=[R0,a], \n",
    "                                Z_lmn=[-a],\n",
    "                                modes_R=np.array([[0,0],[1,0]]),\n",
    "                                modes_Z=np.array([[-1,0]]),\n",
    "                                NFP=eq.NFP)\n",
    "surf.change_resolution(N=eq.N)\n",
    "\n",
    "eq.axis.R_n = eq_QA.axis.R_n + 0.5*(eq_QH.axis.R_n - eq_QA.axis.R_n)\n",
    "eq.axis.Z_n = eq_QA.axis.Z_n + 0.5*(eq_QH.axis.Z_n - eq_QA.axis.Z_n)\n",
    "\n",
    "######\n",
    "for coef, mode in zip(eq.axis.R_n, eq.axis.R_basis.modes):\n",
    "    n = mode[-1]\n",
    "    surf.R_lmn=surf.R_lmn.at[surf.R_basis.get_idx(M=0,N=n)].set( coef)\n",
    "for coef, mode in zip(eq.axis.Z_n, eq.axis.Z_basis.modes):\n",
    "    n = mode[-1]\n",
    "    surf.Z_lmn=surf.Z_lmn.at[surf.Z_basis.get_idx(M=0,N=n)].set( coef)\n",
    "    \n",
    "###\n",
    "#surf_winding = surf\n",
    "\n",
    "# Plot both surfaces\n",
    "#winding_surf = Equilibrium(surface = surf_winding) # Winding surface\n",
    "#plot_comparison([winding_surf,eq],labels=[\"surf\",\"eq\"],theta=0,rho=np.array(1.0))"
   ]
  },
  {
   "cell_type": "code",
   "execution_count": null,
   "id": "4d835d98",
   "metadata": {
    "execution": {
     "iopub.execute_input": "2024-08-28T15:32:31.472183Z",
     "iopub.status.busy": "2024-08-28T15:32:31.472037Z",
     "iopub.status.idle": "2024-08-28T15:32:38.451011Z",
     "shell.execute_reply": "2024-08-28T15:32:38.450594Z"
    },
    "scrolled": true
   },
   "outputs": [],
   "source": [
    "basis_M = 12\n",
    "basis_N = 12\n",
    "\n",
    "# Find surface current K_s\n",
    "surface_current_field = FourierCurrentPotentialField.from_surface(surf,\n",
    "                                                                  M_Phi=basis_M,\n",
    "                                                                  N_Phi=basis_N,\n",
    "                                                                  #sym_Phi = True\n",
    "                                                                 )\n",
    "\n",
    "\n",
    "surface_current_field.G = eq.compute(\"G\", grid=LinearGrid(rho=np.array(1.0)))[\"G\"][0]#np.load('G.npy')\n",
    "surface_current_field.I = eq.compute(\"I\", grid=LinearGrid(rho=np.array(1.0)))[\"I\"][0]\n",
    "#surface_current_field.change_Phi_resolution(M=basis_M, N=basis_N)\n",
    "#surface_current_field.Phi_mn = np.load('phi_mn.npy')"
   ]
  },
  {
   "cell_type": "code",
   "execution_count": null,
   "id": "7ef3aab3",
   "metadata": {},
   "outputs": [],
   "source": [
    "test = surface_current_field.compute([\"K_t\"],grid = sgrid)[\"K_t\"]"
   ]
  },
  {
   "cell_type": "code",
   "execution_count": null,
   "id": "78b2c3d4",
   "metadata": {},
   "outputs": [],
   "source": []
  },
  {
   "cell_type": "code",
   "execution_count": null,
   "id": "db8ad429",
   "metadata": {},
   "outputs": [],
   "source": [
    "# Check parameters before iterations\n",
    "surface_current_field.G"
   ]
  },
  {
   "cell_type": "code",
   "execution_count": null,
   "id": "4d407ddb",
   "metadata": {},
   "outputs": [],
   "source": [
    "surface_current_field.I"
   ]
  },
  {
   "cell_type": "code",
   "execution_count": null,
   "id": "98e1afa2",
   "metadata": {},
   "outputs": [],
   "source": [
    "surface_current_field.Phi_mn"
   ]
  },
  {
   "cell_type": "code",
   "execution_count": null,
   "id": "c49dbe16",
   "metadata": {},
   "outputs": [],
   "source": [
    "surface_current_field.R_lmn"
   ]
  },
  {
   "cell_type": "code",
   "execution_count": null,
   "id": "6c86459f",
   "metadata": {
    "scrolled": true
   },
   "outputs": [],
   "source": [
    "surface_current_field.Z_lmn"
   ]
  },
  {
   "cell_type": "code",
   "execution_count": null,
   "id": "ce4543a5",
   "metadata": {},
   "outputs": [],
   "source": [
    "# solve for surf current\n",
    "Megrid = 15\n",
    "Negrid = 15\n",
    "Msgrid = 15\n",
    "Nsgrid = 15\n",
    "\n",
    "egrid = LinearGrid(M=Megrid,N=Negrid,NFP=eq.NFP,sym=False)\n",
    "sgrid = LinearGrid(M=Msgrid,N=Nsgrid,NFP=eq.NFP,sym=False) "
   ]
  },
  {
   "cell_type": "code",
   "execution_count": null,
   "id": "5bf06495",
   "metadata": {},
   "outputs": [],
   "source": [
    "# form the constraints for the problem, we only want the Phi_mn to vary so we will fix all other parameters of FourierCurrentPotentialField\n",
    "constraints = (  # now fix G only\n",
    "    FixParameters(\n",
    "        surface_current_field,\n",
    "        params={\"I\": False, \"G\": True, \"R_lmn\": False, \"Z_lmn\": False},\n",
    "        #params={\"I\": True, \"G\": True, \"R_lmn\": True, \"Z_lmn\": True},\n",
    "    ),\n",
    ")\n",
    "# Bn^2 minimization\n",
    "obj_flux = QuadraticFlux(\n",
    "    field=surface_current_field,  # the field to be optimized\n",
    "    eq=eq,  # the equilibrium upon which the quadratic flux is being evaluated\n",
    "    eval_grid=egrid,\n",
    "    field_grid=sgrid,\n",
    "    vacuum=True,\n",
    "    # this last flag makes the returned cost at each grid point be\n",
    "    # Bn * sqrt(|e_theta x e_zeta|), which then yields the\n",
    "    # correct form of least squares problem to be\n",
    "    # equivalent to the REGCOIl form\n",
    "    #sqrt_area_weighting=True,\n",
    ")\n",
    "# Current regularization\n",
    "obj_regularization = SurfaceCurrentRegularization(\n",
    "    surface_current_field=surface_current_field,\n",
    "    source_grid=sgrid,\n",
    "    weight = 1e-13,#np.sqrt(data[\"lambda_regularization\"][8]),\n",
    ")  # we will set it to the sqrt of optimal weight from above,\n",
    "# since DESC will square the weight when making the overall cost fxn\n",
    "\n",
    "# Distance target\n",
    "min_distance = 0.1\n",
    "max_distance = 0.2\n",
    "\n",
    "obj_dist = PlasmaVesselDistance(\n",
    "    eq=eq,\n",
    "    surface=surface_current_field,\n",
    "    #surface_fixed=False,\n",
    "    bounds=(min_distance,np.inf),\n",
    "    plasma_grid=egrid,\n",
    "    surface_grid=sgrid,\n",
    "    use_softmin=True,\n",
    "    alpha=1e3,\n",
    "    weight=1e2\n",
    ")\n",
    "\n",
    "objs = (\n",
    "    #obj_dist,\n",
    ")\n",
    "\n",
    "objs += (\n",
    "    obj_flux,\n",
    "    obj_regularization,\n",
    ")\n",
    "\n",
    "objective = ObjectiveFunction(\n",
    "    objs,\n",
    "    #verbose=0,\n",
    "    deriv_mode=\"looped\"\n",
    ")\n",
    "\n",
    "#objective = ObjectiveFunction((obj_flux, obj_regularization, \n",
    "#                               obj_dist\n",
    "#                              )\n",
    "#                             )"
   ]
  },
  {
   "cell_type": "code",
   "execution_count": null,
   "id": "bcd6d8d5",
   "metadata": {},
   "outputs": [],
   "source": [
    "optimizer = Optimizer(\"lsq-exact\")"
   ]
  },
  {
   "cell_type": "code",
   "execution_count": null,
   "id": "9c3dec98",
   "metadata": {
    "scrolled": true
   },
   "outputs": [],
   "source": [
    "(surface_current_field,), result = optimizer.optimize(\n",
    "    surface_current_field,\n",
    "    objective,\n",
    "    constraints,\n",
    "    verbose=1,\n",
    "    ftol=0,\n",
    "    gtol=0,\n",
    "    xtol=1e-16,\n",
    "    # because it is a linear least-squares problem, it is exactly solvable in 1 iteration\n",
    "    maxiter=1,\n",
    "    # we must make sure that the trust region of the optimization algorithm is\n",
    "    # large enough to allow the entire problem to be solved in one step, so set the\n",
    "    # trust radius to be infinite\n",
    "    options={\n",
    "        \"initial_trust_radius\": np.inf,\n",
    "        # we also will use the Cholesky factorization to solve\n",
    "        # since the matrices involved are positive-definite\n",
    "        \"tr_method\": \"cho\",\n",
    "    },\n",
    ")"
   ]
  },
  {
   "cell_type": "code",
   "execution_count": null,
   "id": "a03c0f6d",
   "metadata": {},
   "outputs": [],
   "source": [
    "surface_current_field.G"
   ]
  },
  {
   "cell_type": "code",
   "execution_count": null,
   "id": "240b5e13",
   "metadata": {},
   "outputs": [],
   "source": [
    "surface_current_field.I"
   ]
  },
  {
   "cell_type": "code",
   "execution_count": null,
   "id": "77981951",
   "metadata": {},
   "outputs": [],
   "source": [
    "surface_current_field.Phi_mn"
   ]
  },
  {
   "cell_type": "code",
   "execution_count": null,
   "id": "f800b1c0",
   "metadata": {},
   "outputs": [],
   "source": [
    "surface_current_field.R_lmn"
   ]
  },
  {
   "cell_type": "code",
   "execution_count": null,
   "id": "dafbd46e",
   "metadata": {},
   "outputs": [],
   "source": [
    "surface_current_field.Z_lmn"
   ]
  }
 ],
 "metadata": {
  "kernelspec": {
   "display_name": "desc-env3 [~/.conda/envs/desc-env3/]",
   "language": "python",
   "name": "conda_desc-env3"
  },
  "language_info": {
   "codemirror_mode": {
    "name": "ipython",
    "version": 3
   },
   "file_extension": ".py",
   "mimetype": "text/x-python",
   "name": "python",
   "nbconvert_exporter": "python",
   "pygments_lexer": "ipython3",
   "version": "3.11.7"
  }
 },
 "nbformat": 4,
 "nbformat_minor": 5
}
