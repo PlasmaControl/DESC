{
 "cells": [
  {
   "cell_type": "markdown",
   "id": "2e2ddee9-0fb9-438e-b078-c4c5e000d875",
   "metadata": {
    "tags": []
   },
   "source": [
    "# `basis.py`"
   ]
  }
 ],
 "metadata": {
  "kernelspec": {
   "display_name": "Python 3 (ipykernel)",
   "language": "python",
   "name": "python3"
  },
  "language_info": {
   "codemirror_mode": {
    "name": "ipython",
    "version": 3
   },
   "file_extension": ".py",
   "mimetype": "text/x-python",
   "name": "python",
   "nbconvert_exporter": "python",
   "pygments_lexer": "ipython3",
   "version": "3.8.5"
  }
 },
 "nbformat": 4,
 "nbformat_minor": 5
}
