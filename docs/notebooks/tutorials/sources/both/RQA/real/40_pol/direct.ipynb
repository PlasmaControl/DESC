{
 "cells": [
  {
   "cell_type": "code",
   "execution_count": 1,
   "id": "c3bfcfee",
   "metadata": {
    "execution": {
     "iopub.execute_input": "2025-08-14T00:03:54.096059Z",
     "iopub.status.busy": "2025-08-14T00:03:54.095934Z",
     "iopub.status.idle": "2025-08-14T00:03:54.780036Z",
     "shell.execute_reply": "2025-08-14T00:03:54.779641Z"
    }
   },
   "outputs": [],
   "source": [
    "from desc import set_device\n",
    "set_device(\"gpu\")"
   ]
  },
  {
   "cell_type": "code",
   "execution_count": 2,
   "id": "9ce0c44f",
   "metadata": {
    "execution": {
     "iopub.execute_input": "2025-08-14T00:03:54.782151Z",
     "iopub.status.busy": "2025-08-14T00:03:54.782015Z",
     "iopub.status.idle": "2025-08-14T00:04:00.518020Z",
     "shell.execute_reply": "2025-08-14T00:04:00.517600Z"
    }
   },
   "outputs": [
    {
     "name": "stdout",
     "output_type": "stream",
     "text": [
      "DESC version 0.12.3+556.g39aa21e25.dirty,using JAX backend, jax version=0.4.35, jaxlib version=0.4.34, dtype=float64"
     ]
    },
    {
     "name": "stdout",
     "output_type": "stream",
     "text": [
      "\n"
     ]
    },
    {
     "name": "stdout",
     "output_type": "stream",
     "text": [
      "Using device: NVIDIA A100-SXM4-80GB (id=0), with 80.00 GB available memory"
     ]
    },
    {
     "name": "stdout",
     "output_type": "stream",
     "text": [
      "\n"
     ]
    }
   ],
   "source": [
    "import numpy as np\n",
    "import os\n",
    "\n",
    "from scipy.io import netcdf_file\n",
    "import copy\n",
    "import matplotlib\n",
    "import matplotlib.pyplot as plt\n",
    "import scipy\n",
    "import sys\n",
    "import functools\n",
    "import pickle\n",
    "\n",
    "import jax\n",
    "import jax.numpy as jnp\n",
    "from jax import jit, jacfwd\n",
    "\n",
    "from netCDF4 import Dataset\n",
    "\n",
    "from desc.backend import put, fori_loop, jnp, sign\n",
    "\n",
    "from desc.basis import FourierZernikeBasis, DoubleFourierSeries, FourierSeries\n",
    "\n",
    "from desc.equilibrium import EquilibriaFamily, Equilibrium\n",
    "from desc.grid import ConcentricGrid, LinearGrid, Grid, QuadratureGrid\n",
    "from desc.io import InputReader, load\n",
    "from desc.plotting import plot_1d, plot_2d, plot_3d, plot_section, plot_surfaces, plot_comparison\n",
    "\n",
    "from desc.plotting import *\n",
    "\n",
    "from desc.transform import Transform\n",
    "from desc.vmec import VMECIO\n",
    "from desc.derivatives import Derivative\n",
    "from desc.geometry import FourierRZToroidalSurface\n",
    "import desc.examples\n",
    "\n",
    "from desc.backend import fori_loop, jit, jnp, odeint, sign\n",
    "from desc.compute import rpz2xyz, rpz2xyz_vec, xyz2rpz, xyz2rpz_vec\n",
    "from desc.coils import *\n",
    "\n",
    "from desc.utils import flatten_list\n",
    "\n",
    "from desc.utils import Timer, copy_coeffs, errorif, setdefault, svd_inv_null, warnif, cross, dot\n",
    "\n",
    "from desc.optimize import lsqtr, lsq_auglag\n",
    "\n",
    "from desc.magnetic_fields import FourierCurrentPotentialField\n",
    "\n",
    "import time\n",
    "\n",
    "import numpy as np\n",
    "from numpy import ndarray\n",
    "\n",
    "from desc.fns_simp import (plot_figure,\n",
    "                           plot_figure2,\n",
    "                            plot_xy,\n",
    "                           surf_int,\n",
    "                           _compute_magnetic_field_from_Current)\n",
    "\n",
    "from find_sour import iso_coords_interp, bn_res, B_sour, K_sour, densify_linspace, alt_grid"
   ]
  },
  {
   "cell_type": "code",
   "execution_count": 3,
   "id": "6a5c1a72",
   "metadata": {
    "execution": {
     "iopub.execute_input": "2025-08-14T00:04:00.520776Z",
     "iopub.status.busy": "2025-08-14T00:04:00.520170Z",
     "iopub.status.idle": "2025-08-14T00:04:07.092766Z",
     "shell.execute_reply": "2025-08-14T00:04:07.092377Z"
    },
    "scrolled": true
   },
   "outputs": [
    {
     "name": "stdout",
     "output_type": "stream",
     "text": [
      "<class 'jaxlib.xla_extension.ArrayImpl'>"
     ]
    },
    {
     "name": "stdout",
     "output_type": "stream",
     "text": [
      "\n"
     ]
    },
    {
     "name": "stdout",
     "output_type": "stream",
     "text": [
      "<class 'jaxlib.xla_extension.ArrayImpl'>"
     ]
    },
    {
     "name": "stdout",
     "output_type": "stream",
     "text": [
      "\n"
     ]
    },
    {
     "name": "stdout",
     "output_type": "stream",
     "text": [
      "<class 'jaxlib.xla_extension.ArrayImpl'>"
     ]
    },
    {
     "name": "stdout",
     "output_type": "stream",
     "text": [
      "\n"
     ]
    },
    {
     "name": "stdout",
     "output_type": "stream",
     "text": [
      "<class 'jaxlib.xla_extension.ArrayImpl'>"
     ]
    },
    {
     "name": "stdout",
     "output_type": "stream",
     "text": [
      "\n"
     ]
    },
    {
     "data": {
      "text/plain": [
       "(<Figure size 864x720 with 6 Axes>,\n",
       " array([<Axes: title={'center': '$\\\\phi \\\\cdot N_{FP}/2\\\\pi = 0.000$'}, xlabel='$R ~(\\\\mathrm{m})$', ylabel='$Z ~(\\\\mathrm{m})$'>,\n",
       "        <Axes: title={'center': '$\\\\phi \\\\cdot N_{FP}/2\\\\pi = 0.167$'}, xlabel='$R ~(\\\\mathrm{m})$', ylabel='$Z ~(\\\\mathrm{m})$'>,\n",
       "        <Axes: title={'center': '$\\\\phi \\\\cdot N_{FP}/2\\\\pi = 0.333$'}, xlabel='$R ~(\\\\mathrm{m})$', ylabel='$Z ~(\\\\mathrm{m})$'>,\n",
       "        <Axes: title={'center': '$\\\\phi \\\\cdot N_{FP}/2\\\\pi = 0.500$'}, xlabel='$R ~(\\\\mathrm{m})$', ylabel='$Z ~(\\\\mathrm{m})$'>,\n",
       "        <Axes: title={'center': '$\\\\phi \\\\cdot N_{FP}/2\\\\pi = 0.667$'}, xlabel='$R ~(\\\\mathrm{m})$', ylabel='$Z ~(\\\\mathrm{m})$'>,\n",
       "        <Axes: title={'center': '$\\\\phi \\\\cdot N_{FP}/2\\\\pi = 0.833$'}, xlabel='$R ~(\\\\mathrm{m})$', ylabel='$Z ~(\\\\mathrm{m})$'>],\n",
       "       dtype=object))"
      ]
     },
     "execution_count": 3,
     "metadata": {},
     "output_type": "execute_result"
    },
    {
     "data": {
      "image/png": "[encoded data removed]",
      "text/plain": [
       "<Figure size 864x720 with 6 Axes>"
      ]
     },
     "metadata": {},
     "output_type": "display_data"
    }
   ],
   "source": [
    "# Plasma surfaces\n",
    "eqname_QA = \"/scratch/gpfs/fcastro/LMStell/regcoil/rogerio/input.QA_final_output.h5\" #vacuum equilibrium\n",
    "#eqname_QA = \"input.QA_final_output.h5\" #vacuum equilibrium\n",
    "eq_QA = desc.io.load(eqname_QA)[4]\n",
    "\n",
    "eq = eq_QA\n",
    "\n",
    "name = 'iso_coords/'\n",
    "# Winding surface\n",
    "surf_winding = load(name + \"surf.h5\")\n",
    "\n",
    "# Plot both surfaces\n",
    "plot_comparison([surf_winding,eq],labels=[\"surf\",\"eq\"],theta=0,rho=np.array(1.0))"
   ]
  },
  {
   "cell_type": "code",
   "execution_count": 4,
   "id": "84a7ac2e",
   "metadata": {
    "execution": {
     "iopub.execute_input": "2025-08-14T00:04:07.094670Z",
     "iopub.status.busy": "2025-08-14T00:04:07.094524Z",
     "iopub.status.idle": "2025-08-14T00:04:11.513383Z",
     "shell.execute_reply": "2025-08-14T00:04:11.512959Z"
    }
   },
   "outputs": [
    {
     "name": "stdout",
     "output_type": "stream",
     "text": [
      "<class 'numpy.ndarray'>"
     ]
    },
    {
     "name": "stdout",
     "output_type": "stream",
     "text": [
      "\n"
     ]
    },
    {
     "name": "stdout",
     "output_type": "stream",
     "text": [
      "<class 'numpy.ndarray'>"
     ]
    },
    {
     "name": "stdout",
     "output_type": "stream",
     "text": [
      "\n"
     ]
    },
    {
     "name": "stdout",
     "output_type": "stream",
     "text": [
      "<class 'numpy.ndarray'>"
     ]
    },
    {
     "name": "stdout",
     "output_type": "stream",
     "text": [
      "\n"
     ]
    },
    {
     "name": "stdout",
     "output_type": "stream",
     "text": [
      "<class 'numpy.ndarray'>"
     ]
    },
    {
     "name": "stdout",
     "output_type": "stream",
     "text": [
      "\n"
     ]
    },
    {
     "name": "stdout",
     "output_type": "stream",
     "text": [
      "<class 'numpy.ndarray'>"
     ]
    },
    {
     "name": "stdout",
     "output_type": "stream",
     "text": [
      "\n"
     ]
    }
   ],
   "source": [
    "# Evaluate Green's function for flat tori\n",
    "sgrid = LinearGrid(M = 100, N = 120,\n",
    "                   NFP = surf_winding.NFP,\n",
    "                  )\n",
    "sdata = surf_winding.compute([\"theta\",\"zeta\", \"e^theta_s\",\"e^zeta_s\"], grid = sgrid)\n",
    "sdata = iso_coords_interp(name, sdata, sgrid, surf_winding)\n",
    "\n",
    "G = np.load(name + \"G.npy\")\n",
    "K_sec = G * cross(sdata[\"n_rho\"], sdata[\"e^u_s\"])\n",
    "K_sv = surf_winding.compute([\"K\"],grid = sgrid)[\"K\"]"
   ]
  },
  {
   "cell_type": "code",
   "execution_count": 5,
   "id": "27c302ac-efe7-434c-a5c5-dca6002d0a2c",
   "metadata": {
    "execution": {
     "iopub.execute_input": "2025-08-14T00:04:11.516145Z",
     "iopub.status.busy": "2025-08-14T00:04:11.515592Z",
     "iopub.status.idle": "2025-08-14T00:04:14.178807Z",
     "shell.execute_reply": "2025-08-14T00:04:14.178377Z"
    }
   },
   "outputs": [
    {
     "name": "stdout",
     "output_type": "stream",
     "text": [
      "<class 'jaxlib.xla_extension.ArrayImpl'>"
     ]
    },
    {
     "name": "stdout",
     "output_type": "stream",
     "text": [
      "\n"
     ]
    },
    {
     "name": "stdout",
     "output_type": "stream",
     "text": [
      "<class 'jaxlib.xla_extension.ArrayImpl'>"
     ]
    },
    {
     "name": "stdout",
     "output_type": "stream",
     "text": [
      "\n"
     ]
    },
    {
     "name": "stdout",
     "output_type": "stream",
     "text": [
      "<class 'jaxlib.xla_extension.ArrayImpl'>"
     ]
    },
    {
     "name": "stdout",
     "output_type": "stream",
     "text": [
      "\n"
     ]
    },
    {
     "name": "stdout",
     "output_type": "stream",
     "text": [
      "<class 'jaxlib.xla_extension.ArrayImpl'>"
     ]
    },
    {
     "name": "stdout",
     "output_type": "stream",
     "text": [
      "\n"
     ]
    }
   ],
   "source": [
    "sgrid2 = Grid(nodes = jnp.vstack((sgrid.nodes[:,0],\n",
    "                                        sgrid.nodes[:,1],\n",
    "                                        sgrid.nodes[:,2] + (2*np.pi/surf_winding.NFP)*1)).T\n",
    "                    )\n",
    "sgrid3 = Grid(nodes = jnp.vstack((sgrid.nodes[:,0],\n",
    "                                        sgrid.nodes[:,1],\n",
    "                                        sgrid.nodes[:,2] + (2*np.pi/surf_winding.NFP)*2)).T\n",
    "                    )\n",
    "\n",
    "sdata2 = surf_winding.compute([\"theta\",\"zeta\", \"e^theta_s\",\"e^zeta_s\"], grid = sgrid2)\n",
    "sdata2 = iso_coords_interp(name, sdata2, sgrid2, surf_winding)\n",
    "\n",
    "sdata3 = surf_winding.compute([\"theta\",\"zeta\", \"e^theta_s\",\"e^zeta_s\"], grid = sgrid3)\n",
    "sdata3 = iso_coords_interp(name, sdata3, sgrid3, surf_winding)"
   ]
  },
  {
   "cell_type": "code",
   "execution_count": 6,
   "id": "0813a4ee",
   "metadata": {
    "execution": {
     "iopub.execute_input": "2025-08-14T00:04:14.181636Z",
     "iopub.status.busy": "2025-08-14T00:04:14.181098Z",
     "iopub.status.idle": "2025-08-14T00:04:14.482208Z",
     "shell.execute_reply": "2025-08-14T00:04:14.481854Z"
    }
   },
   "outputs": [
    {
     "data": {
      "image/png": "[encoded data removed]",
      "text/plain": [
       "<Figure size 432x360 with 2 Axes>"
      ]
     },
     "metadata": {},
     "output_type": "display_data"
    },
    {
     "data": {
      "image/png": "[encoded data removed]",
      "text/plain": [
       "<Figure size 432x360 with 2 Axes>"
      ]
     },
     "metadata": {},
     "output_type": "display_data"
    }
   ],
   "source": [
    "# Confirm that variables have the same shape\n",
    "plot_figure2(sdata[\"u_iso\"],sgrid,''r' $ u(\\theta,\\zeta)$ ')\n",
    "plot_figure2(sdata[\"v_iso\"],sgrid,''r' $ v(\\theta,\\zeta)$ ')\n",
    "#plot_figure2(sdata[\"lambda_iso\"],sgrid,''r' $ \\lambda $ ')\n",
    "\n",
    "#plot_figure2(sdata2[\"u_iso\"],sgrid2,''r' $ u(\\theta,\\zeta)$ ')\n",
    "#plot_figure2(sdata2[\"v_iso\"],sgrid2,''r' $ v(\\theta,\\zeta)$ ')\n",
    "\n",
    "#plot_figure2(sdata3[\"u_iso\"],sgrid3,''r' $ u(\\theta,\\zeta)$ ')\n",
    "#plot_figure2(sdata3[\"v_iso\"],sgrid3,''r' $ v(\\theta,\\zeta)$ ')"
   ]
  },
  {
   "cell_type": "code",
   "execution_count": 7,
   "id": "e476d15d",
   "metadata": {
    "execution": {
     "iopub.execute_input": "2025-08-14T00:04:14.484364Z",
     "iopub.status.busy": "2025-08-14T00:04:14.483850Z",
     "iopub.status.idle": "2025-08-14T00:04:14.486510Z",
     "shell.execute_reply": "2025-08-14T00:04:14.486176Z"
    }
   },
   "outputs": [],
   "source": [
    "eps = 1e-2\n",
    "dt = eps\n",
    "dz = eps\n",
    "d0 = eps/3"
   ]
  },
  {
   "cell_type": "code",
   "execution_count": 8,
   "id": "07215265-ba1d-49f8-bbc6-a0d64301841e",
   "metadata": {
    "execution": {
     "iopub.execute_input": "2025-08-14T00:04:14.488481Z",
     "iopub.status.busy": "2025-08-14T00:04:14.487969Z",
     "iopub.status.idle": "2025-08-14T00:04:14.490460Z",
     "shell.execute_reply": "2025-08-14T00:04:14.490131Z"
    }
   },
   "outputs": [],
   "source": [
    "grid_M = 40\n",
    "grid_N = 40"
   ]
  },
  {
   "cell_type": "code",
   "execution_count": 9,
   "id": "3b07dc21",
   "metadata": {
    "execution": {
     "iopub.execute_input": "2025-08-14T00:04:14.492409Z",
     "iopub.status.busy": "2025-08-14T00:04:14.491912Z",
     "iopub.status.idle": "2025-08-14T00:04:21.455552Z",
     "shell.execute_reply": "2025-08-14T00:04:21.455115Z"
    }
   },
   "outputs": [
    {
     "name": "stdout",
     "output_type": "stream",
     "text": [
      "<class 'numpy.ndarray'>"
     ]
    },
    {
     "name": "stdout",
     "output_type": "stream",
     "text": [
      "\n"
     ]
    },
    {
     "name": "stdout",
     "output_type": "stream",
     "text": [
      "<class 'numpy.ndarray'>"
     ]
    },
    {
     "name": "stdout",
     "output_type": "stream",
     "text": [
      "\n"
     ]
    },
    {
     "name": "stdout",
     "output_type": "stream",
     "text": [
      "<class 'numpy.ndarray'>"
     ]
    },
    {
     "name": "stdout",
     "output_type": "stream",
     "text": [
      "\n"
     ]
    },
    {
     "name": "stdout",
     "output_type": "stream",
     "text": [
      "<class 'numpy.ndarray'>"
     ]
    },
    {
     "name": "stdout",
     "output_type": "stream",
     "text": [
      "\n"
     ]
    },
    {
     "name": "stdout",
     "output_type": "stream",
     "text": [
      "<class 'numpy.ndarray'>"
     ]
    },
    {
     "name": "stdout",
     "output_type": "stream",
     "text": [
      "\n"
     ]
    },
    {
     "name": "stdout",
     "output_type": "stream",
     "text": [
      "<class 'numpy.ndarray'>"
     ]
    },
    {
     "name": "stdout",
     "output_type": "stream",
     "text": [
      "\n"
     ]
    },
    {
     "name": "stdout",
     "output_type": "stream",
     "text": [
      "<class 'numpy.ndarray'>"
     ]
    },
    {
     "name": "stdout",
     "output_type": "stream",
     "text": [
      "\n"
     ]
    },
    {
     "name": "stdout",
     "output_type": "stream",
     "text": [
      "<class 'numpy.ndarray'>"
     ]
    },
    {
     "name": "stdout",
     "output_type": "stream",
     "text": [
      "\n"
     ]
    }
   ],
   "source": [
    "egrid = LinearGrid(M = grid_M, N = grid_N, NFP = eq.NFP)\n",
    "edata = eq.compute([\"n_rho\",\"B\"], grid = egrid)\n",
    "\n",
    "#B_s = edata[\"B\"]\n",
    "B_sec = np.load('iso_coords/B_sec_'+str(grid_M)+'x'+str(grid_N)+'.npy')\n",
    "#_compute_magnetic_field_from_Current( sgrid, K_sec, surf_winding, eq, egrid, basis = \"rpz\" )\n",
    "B_s = _compute_magnetic_field_from_Current( sgrid, K_sv, surf_winding, eq, egrid, basis = \"rpz\" )\n",
    "#B_s = _compute_magnetic_field_from_Current( sgrid, K_sec, surf_winding, eq, egrid, basis = \"rpz\" )\n",
    "rhs = jnp.concatenate((B_s[:,0],B_s[:,1],B_s[:,2],\n",
    "                      jnp.asarray([0])))\n",
    "#- dot( edata[\"n_rho\"],  B_sec )"
   ]
  },
  {
   "cell_type": "code",
   "execution_count": 10,
   "id": "abfdc6a5",
   "metadata": {
    "execution": {
     "iopub.execute_input": "2025-08-14T00:04:21.457759Z",
     "iopub.status.busy": "2025-08-14T00:04:21.457608Z",
     "iopub.status.idle": "2025-08-14T00:04:21.864054Z",
     "shell.execute_reply": "2025-08-14T00:04:21.863687Z"
    }
   },
   "outputs": [
    {
     "data": {
      "image/png": "[encoded data removed]",
      "text/plain": [
       "<Figure size 432x360 with 2 Axes>"
      ]
     },
     "metadata": {},
     "output_type": "display_data"
    },
    {
     "data": {
      "image/png": "[encoded data removed]",
      "text/plain": [
       "<Figure size 432x360 with 2 Axes>"
      ]
     },
     "metadata": {},
     "output_type": "display_data"
    }
   ],
   "source": [
    "plot_figure2( dot(K_sec,K_sec) ** (1/2), sgrid,''r' $ | \\mathbf{K_{sec}} |$ ')\n",
    "plot_figure2( dot(B_s,B_s) ** (1/2), egrid,''r' $ | \\mathbf{B_{s}} |$ ')\n",
    "#plot_figure2( rhs, egrid, ''r' $ \\mathbf{B_{sec} \\cdot n}$ ' )"
   ]
  },
  {
   "cell_type": "code",
   "execution_count": 11,
   "id": "f4cd9266",
   "metadata": {
    "execution": {
     "iopub.execute_input": "2025-08-14T00:04:21.866302Z",
     "iopub.status.busy": "2025-08-14T00:04:21.865785Z",
     "iopub.status.idle": "2025-08-14T00:04:21.868886Z",
     "shell.execute_reply": "2025-08-14T00:04:21.868565Z"
    }
   },
   "outputs": [],
   "source": [
    "N = 20 # Terms toa pproximate the infinite series\n",
    "\n",
    "# Numer of dipoles\n",
    "sMv = np.asarray([30,]) # Poloidal direction\n",
    "sNv = np.asarray([30,]) # Toroidal direction\n",
    "\n",
    "b_chi = [] # Store the integral of the error \n",
    "source_chi = [] # Store the sum of sinks and sources of current\n",
    "Bn_chi = [] # Store the max Bn from the solution\n",
    "max_I = [] # Store the max value of sources\n",
    "min_I = [] # Store the min value of sources"
   ]
  },
  {
   "cell_type": "code",
   "execution_count": 12,
   "id": "f8741a01",
   "metadata": {
    "execution": {
     "iopub.execute_input": "2025-08-14T00:04:21.870897Z",
     "iopub.status.busy": "2025-08-14T00:04:21.870379Z",
     "iopub.status.idle": "2025-08-14T00:04:23.981662Z",
     "shell.execute_reply": "2025-08-14T00:04:23.981248Z"
    }
   },
   "outputs": [
    {
     "name": "stdout",
     "output_type": "stream",
     "text": [
      "<class 'numpy.ndarray'>"
     ]
    },
    {
     "name": "stdout",
     "output_type": "stream",
     "text": [
      "\n"
     ]
    },
    {
     "name": "stdout",
     "output_type": "stream",
     "text": [
      "<class 'numpy.ndarray'>"
     ]
    },
    {
     "name": "stdout",
     "output_type": "stream",
     "text": [
      "\n"
     ]
    },
    {
     "name": "stdout",
     "output_type": "stream",
     "text": [
      "<class 'numpy.ndarray'>"
     ]
    },
    {
     "name": "stdout",
     "output_type": "stream",
     "text": [
      "\n"
     ]
    },
    {
     "name": "stdout",
     "output_type": "stream",
     "text": [
      "<class 'numpy.ndarray'>"
     ]
    },
    {
     "name": "stdout",
     "output_type": "stream",
     "text": [
      "\n"
     ]
    },
    {
     "name": "stdout",
     "output_type": "stream",
     "text": [
      "<class 'numpy.ndarray'>"
     ]
    },
    {
     "name": "stdout",
     "output_type": "stream",
     "text": [
      "\n"
     ]
    },
    {
     "name": "stdout",
     "output_type": "stream",
     "text": [
      "<class 'numpy.ndarray'>"
     ]
    },
    {
     "name": "stdout",
     "output_type": "stream",
     "text": [
      "\n"
     ]
    }
   ],
   "source": [
    "grid_M2 = grid_M\n",
    "grid_N2 = grid_N\n",
    "\n",
    "egrid2 = LinearGrid(M = grid_M2, N = grid_N2, NFP = eq.NFP)\n",
    "edata2 = eq.compute([\"n_rho\"], grid = egrid2)\n",
    "\n",
    "B_sec2 = np.load('iso_coords/B_sec_'+str(grid_M2)+'x'+str(grid_N2)+'.npy')\n",
    "#_compute_magnetic_field_from_Current( sgrid, K_sec, surf_winding, eq, egrid2, basis = \"rpz\" )\n",
    "B_s2 = _compute_magnetic_field_from_Current( sgrid, K_sv, surf_winding, eq, egrid2, basis = \"rpz\" )\n",
    "#B_s2 = edata2[\"B\"]"
   ]
  },
  {
   "cell_type": "code",
   "execution_count": 13,
   "id": "b07f33f8",
   "metadata": {
    "execution": {
     "iopub.execute_input": "2025-08-14T00:04:23.984098Z",
     "iopub.status.busy": "2025-08-14T00:04:23.983575Z",
     "iopub.status.idle": "2025-08-14T00:04:24.011913Z",
     "shell.execute_reply": "2025-08-14T00:04:24.011512Z"
    },
    "scrolled": true
   },
   "outputs": [],
   "source": [
    "for i in range(0,len(sMv)):\n",
    "\n",
    "    p_M = sMv[i]\n",
    "    p_N = sNv[i]\n",
    "\n",
    "    x = jnp.ones( ( p_M * 2 + 0 ) * ( p_N * 2 + 0 )  + 0)\n",
    "    \n",
    "    fun_wrapped1 = lambda x: bn_res(p_M, p_N, # Dipole pairs in toroidal direction \n",
    "                                    sdata,\n",
    "                                    sdata2,\n",
    "                                    sdata3,\n",
    "                                    sgrid, surf_winding, \n",
    "                                    x, \n",
    "                                    N, d0,\n",
    "                                    eq, egrid)\n",
    "\n",
    "    A = Derivative(fun_wrapped1, deriv_mode=\"looped\").compute(x)\n",
    "    U, S, Vt = jnp.linalg.svd(A, full_matrices=False)\n",
    "    alpha = 1e-12  # Adjust based on S\n",
    "    soln = Vt.T @ jnp.diag(S / (S**2 + alpha)) @ U.T @ rhs\n",
    "\n",
    "    test = A@soln\n",
    "    tsize = edata2['n_rho'].shape[0]\n",
    "    B_d2 = jnp.column_stack((test[0:tsize],test[tsize:tsize*2],test[tsize*2:tsize*3]))\n",
    "    \n",
    "    K_d = K_sour(p_M, p_N,\n",
    "                 sdata,\n",
    "                 sdata2,\n",
    "                 sdata3,\n",
    "                 sgrid,\n",
    "                 surf_winding, \n",
    "                 #winding_surf,\n",
    "                 soln,\n",
    "                 N, d0)\n",
    "    \n",
    "    B0 = B_d2 - B_s2\n",
    "    B_total = B_d2 + B_sec2\n",
    "    Bn_total = dot(edata2[\"n_rho\"],B_total)\n",
    "    K0 = K_d\n",
    "    \n",
    "    #res = A @ soln - rhs\n",
    "    \n",
    "    #plot_figure2( res, egrid, ''r' $ \\mathbf{B \\cdot n}$ ' )\n",
    "    plot_figure2( Bn_total * dot(B_total,B_total)**(-1/2), egrid2,\n",
    "                 ''r' $ \\frac{ (\\mathbf{B_{sec} + B_{src}}) \\cdot \\mathbf{n} }{| \\mathbf{B_{sec} + B_{src}} | }$ ' )\n",
    "    plot_figure2( jnp.log(abs(Bn_total * dot(B_total,B_total)**(-1/2))), egrid2,\n",
    "                 ''r' $ \\log \\frac{ (\\mathbf{B_{sec} + B_{src}}) \\cdot \\mathbf{n} }{| \\mathbf{B_{sec} + B_{src}} | }$ ' )\n",
    "\n",
    "    \n",
    "    plot_figure2( dot(B_d2,B_d2)**(1/2), egrid2, ''r' $ | \\mathbf{B_{src}}  | $ ' )\n",
    "    plot_figure2( dot(B0,B0)**(1/2) * dot(B_s2,B_s2)**(-1/2), \n",
    "                 egrid2, \n",
    "                 ''r' $ \\frac{| \\mathbf{B_s - B_{src}}  |}{|\\mathbf{B_s}|} $ ' )\n",
    "    \n",
    "    plot_figure2( dot(K0,K0)**(1/2), sgrid, ''r' $ | \\mathbf{K} | $ ' )\n",
    "    \n",
    "    error = surf_int( dot(B0,B0) , edata2, egrid2 )\n",
    "    b_chi.append(error)\n",
    "    source_chi.append(jnp.sum( soln )\n",
    "                     )\n",
    "    min_I.append(min(abs(soln)))\n",
    "    max_I.append(max(abs(soln)))\n",
    "    \n",
    "    np.save('reg_soln_M_' + str(sMv[i]) + '_N_' + str(sNv[i]) + '.npy' ,soln)\n",
    "    np.save('reg_error_M_' + str(sMv[i]) + '_N_' + str(sNv[i]) + '.npy' , error)\n",
    "    np.save('reg_maxbn_M_' + str(sMv[i]) + '_N_' + str(sNv[i]) + '.npy' , max(abs(Bn_total * dot(B_total,B_total)**(-1/2))) )"
   ]
  },
  {
   "cell_type": "code",
   "execution_count": null,
   "id": "9500daee-9671-4060-8607-7c40183f186f",
   "metadata": {},
   "outputs": [],
   "source": [
    "plot_xy(np.log10(b_chi), \n",
    "        np.log10( ( sMv * 2 + 0) * ( sNv * 2 + 0 ) ), # grid to plot on\n",
    "        ''r'$\\log_{10} \\int | \\mathbf{B_s - B_{src}} | ^2 dS$', # title for the figure\n",
    "        ''r'$\\log_{10} N^2 $', # title of x axis\n",
    "       )"
   ]
  },
  {
   "cell_type": "code",
   "execution_count": null,
   "id": "f6186464-797f-4b2d-8be7-09de0f3fb5c0",
   "metadata": {},
   "outputs": [],
   "source": [
    "plot_xy(np.log10(abs(jnp.asarray(source_chi))), \n",
    "        np.log10(( sMv * 2 + 0 ) * ( sNv * 2 + 0 ) ), # grid to plot on\n",
    "        ''r'$\\log_{10} \\Sigma s_i $', # title for the figure\n",
    "        ''r'$\\log_{10} N^2 $', # title of x axis\n",
    "       )"
   ]
  },
  {
   "cell_type": "code",
   "execution_count": null,
   "id": "accace2f-eed8-4899-9e30-f71ecd6d7ef2",
   "metadata": {},
   "outputs": [],
   "source": [
    "plot_xy(np.log10(abs(jnp.asarray(max_I))), \n",
    "        np.log10(( sMv * 2 + 0 ) * ( sNv * 2 + 0 ) ), # grid to plot on\n",
    "        ''r'$\\log_{10} I_{max} $', # title for the figure\n",
    "        ''r'$\\log_{10} N^2 $', # title of x axis\n",
    "       )"
   ]
  },
  {
   "cell_type": "code",
   "execution_count": null,
   "id": "f4394f24-e0c5-4d44-a180-d3847e518b80",
   "metadata": {},
   "outputs": [],
   "source": [
    "plot_xy(jnp.asarray(max_I) * 1e-3, \n",
    "        np.log10(( sMv * 2 + 0 ) * ( sNv * 2 + 0 ) ), # grid to plot on\n",
    "        ''r'$ I_{max} $ (kA)', # title for the figure\n",
    "        ''r'$\\log_{10} N^2 $', # title of x axis\n",
    "       )"
   ]
  }
 ],
 "metadata": {
  "kernelspec": {
   "display_name": "Python 3 (ipykernel)",
   "language": "python",
   "name": "python3"
  },
  "language_info": {
   "codemirror_mode": {
    "name": "ipython",
    "version": 3
   },
   "file_extension": ".py",
   "mimetype": "text/x-python",
   "name": "python",
   "nbconvert_exporter": "python",
   "pygments_lexer": "ipython3",
   "version": "3.12.4"
  }
 },
 "nbformat": 4,
 "nbformat_minor": 5
}
