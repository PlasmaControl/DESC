{
 "cells": [
  {
   "cell_type": "code",
   "execution_count": 1,
   "id": "c3bfcfee",
   "metadata": {
    "execution": {
     "iopub.execute_input": "2025-07-21T20:27:56.088884Z",
     "iopub.status.busy": "2025-07-21T20:27:56.088743Z",
     "iopub.status.idle": "2025-07-21T20:27:56.645764Z",
     "shell.execute_reply": "2025-07-21T20:27:56.645169Z"
    }
   },
   "outputs": [],
   "source": [
    "from desc import set_device\n",
    "set_device(\"gpu\")"
   ]
  },
  {
   "cell_type": "code",
   "execution_count": 2,
   "id": "9ce0c44f",
   "metadata": {
    "execution": {
     "iopub.execute_input": "2025-07-21T20:27:56.647850Z",
     "iopub.status.busy": "2025-07-21T20:27:56.647716Z",
     "iopub.status.idle": "2025-07-21T20:28:02.228016Z",
     "shell.execute_reply": "2025-07-21T20:28:02.227564Z"
    }
   },
   "outputs": [
    {
     "name": "stdout",
     "output_type": "stream",
     "text": [
      "DESC version 0.12.3+553.gcb761a802.dirty,using JAX backend, jax version=0.4.35, jaxlib version=0.4.34, dtype=float64"
     ]
    },
    {
     "name": "stdout",
     "output_type": "stream",
     "text": [
      "\n"
     ]
    },
    {
     "name": "stdout",
     "output_type": "stream",
     "text": [
      "Using device: NVIDIA A100-SXM4-80GB (id=0), with 80.00 GB available memory"
     ]
    },
    {
     "name": "stdout",
     "output_type": "stream",
     "text": [
      "\n"
     ]
    }
   ],
   "source": [
    "import numpy as np\n",
    "import os\n",
    "\n",
    "from scipy.io import netcdf_file\n",
    "import copy\n",
    "import matplotlib\n",
    "import matplotlib.pyplot as plt\n",
    "import scipy\n",
    "from scipy.constants import mu_0\n",
    "import sys\n",
    "import functools\n",
    "import pickle\n",
    "\n",
    "import jax\n",
    "import jax.numpy as jnpå\n",
    "from jax import jit, jacfwd\n",
    "\n",
    "from netCDF4 import Dataset\n",
    "import h5py\n",
    "\n",
    "from desc.backend import put, fori_loop, jnp, sign\n",
    "\n",
    "from desc.basis import FourierZernikeBasis, DoubleFourierSeries, FourierSeries\n",
    "\n",
    "from desc.equilibrium import EquilibriaFamily, Equilibrium\n",
    "from desc.grid import ConcentricGrid, LinearGrid, Grid, QuadratureGrid\n",
    "from desc.io import InputReader, load\n",
    "from desc.objectives import *\n",
    "from desc.objectives.objective_funs import _Objective\n",
    "from desc.plotting import plot_1d, plot_2d, plot_3d, plot_section, plot_surfaces, plot_comparison\n",
    "\n",
    "from desc.plotting import *\n",
    "\n",
    "from desc.transform import Transform\n",
    "from desc.vmec import VMECIO\n",
    "from desc.derivatives import Derivative\n",
    "from desc.geometry import FourierRZToroidalSurface\n",
    "from desc.profiles import SplineProfile, PowerSeriesProfile\n",
    "\n",
    "from desc.magnetic_fields import ( SplineMagneticField, \n",
    "                                  FourierCurrentPotentialField, ToroidalMagneticField,\n",
    "                                  field_line_integrate)\n",
    "\n",
    "import desc.examples\n",
    "\n",
    "from desc.backend import fori_loop, jit, jnp, odeint, sign\n",
    "from desc.compute import rpz2xyz, rpz2xyz_vec, xyz2rpz, xyz2rpz_vec\n",
    "from desc.coils import *\n",
    "\n",
    "from desc.utils import flatten_list\n",
    "\n",
    "from desc.utils import Timer, copy_coeffs, errorif, setdefault, svd_inv_null, warnif\n",
    "\n",
    "from desc.utils import cross, dot\n",
    "\n",
    "from desc.optimize import lsqtr, lsq_auglag\n",
    "\n",
    "from scipy.optimize import NonlinearConstraint \n",
    "\n",
    "from desc.magnetic_fields import FourierCurrentPotentialField\n",
    "#from desc.magnetic_fields._current_potential import run_regcoil\n",
    "\n",
    "import time\n",
    "\n",
    "import numpy as np\n",
    "from numpy.linalg import eig\n",
    "\n",
    "from scipy.linalg import null_space\n",
    "from numpy import ndarray\n",
    "\n",
    "from desc.fns_simp import (plot_figure,\n",
    "                           plot_figure2,\n",
    "                           plot_xy,\n",
    "                           surf_int,\n",
    "                           _compute_magnetic_field_from_Current)\n",
    "\n",
    "from find_dips import (iso_coords_interp,\n",
    "                      bn_res,\n",
    "                      B_dips,\n",
    "                        B_sticks,\n",
    "                      K_dips)"
   ]
  },
  {
   "cell_type": "code",
   "execution_count": 3,
   "id": "6a5c1a72",
   "metadata": {
    "execution": {
     "iopub.execute_input": "2025-07-21T20:28:02.230816Z",
     "iopub.status.busy": "2025-07-21T20:28:02.230210Z",
     "iopub.status.idle": "2025-07-21T20:28:04.165232Z",
     "shell.execute_reply": "2025-07-21T20:28:04.164774Z"
    },
    "scrolled": true
   },
   "outputs": [],
   "source": [
    "# Plasma surfaces\n",
    "eqname_QA = \"/home/fcastro/LMStell/regcoil/rogerio/input.QA_final_output.h5\" #vacuum equilibrium\n",
    "eq_QA = desc.io.load(eqname_QA)[4]\n",
    "\n",
    "eqname_QH = \"/home/fcastro/LMStell/regcoil/rogerio/input.QH_final_output.h5\" #vacuum equilibrium\n",
    "eq_QH = desc.io.load(eqname_QH)[4]\n",
    "\n",
    "eq = eq_QA    \n",
    "###\n",
    "surf_winding = load(\"iso_coords/surf.h5\")"
   ]
  },
  {
   "cell_type": "code",
   "execution_count": 4,
   "id": "cff1d134-a18b-4478-a238-6357e8764ebc",
   "metadata": {
    "execution": {
     "iopub.execute_input": "2025-07-21T20:28:04.167966Z",
     "iopub.status.busy": "2025-07-21T20:28:04.167401Z",
     "iopub.status.idle": "2025-07-21T20:28:09.838590Z",
     "shell.execute_reply": "2025-07-21T20:28:09.838202Z"
    }
   },
   "outputs": [
    {
     "name": "stdout",
     "output_type": "stream",
     "text": [
      "<class 'jaxlib.xla_extension.ArrayImpl'>"
     ]
    },
    {
     "name": "stdout",
     "output_type": "stream",
     "text": [
      "\n"
     ]
    },
    {
     "name": "stdout",
     "output_type": "stream",
     "text": [
      "<class 'jaxlib.xla_extension.ArrayImpl'>"
     ]
    },
    {
     "name": "stdout",
     "output_type": "stream",
     "text": [
      "\n"
     ]
    },
    {
     "name": "stdout",
     "output_type": "stream",
     "text": [
      "<class 'jaxlib.xla_extension.ArrayImpl'>"
     ]
    },
    {
     "name": "stdout",
     "output_type": "stream",
     "text": [
      "\n"
     ]
    },
    {
     "name": "stdout",
     "output_type": "stream",
     "text": [
      "<class 'jaxlib.xla_extension.ArrayImpl'>"
     ]
    },
    {
     "name": "stdout",
     "output_type": "stream",
     "text": [
      "\n"
     ]
    },
    {
     "name": "stdout",
     "output_type": "stream",
     "text": [
      "<class 'jaxlib.xla_extension.ArrayImpl'>"
     ]
    },
    {
     "name": "stdout",
     "output_type": "stream",
     "text": [
      "\n"
     ]
    },
    {
     "name": "stdout",
     "output_type": "stream",
     "text": [
      "<class 'jaxlib.xla_extension.ArrayImpl'>"
     ]
    },
    {
     "name": "stdout",
     "output_type": "stream",
     "text": [
      "\n"
     ]
    },
    {
     "data": {
      "text/plain": [
       "(<Figure size 864x720 with 6 Axes>,\n",
       " array([<Axes: title={'center': '$\\\\phi \\\\cdot N_{FP}/2\\\\pi = 0.000$'}, xlabel='$R ~(\\\\mathrm{m})$', ylabel='$Z ~(\\\\mathrm{m})$'>,\n",
       "        <Axes: title={'center': '$\\\\phi \\\\cdot N_{FP}/2\\\\pi = 0.167$'}, xlabel='$R ~(\\\\mathrm{m})$', ylabel='$Z ~(\\\\mathrm{m})$'>,\n",
       "        <Axes: title={'center': '$\\\\phi \\\\cdot N_{FP}/2\\\\pi = 0.333$'}, xlabel='$R ~(\\\\mathrm{m})$', ylabel='$Z ~(\\\\mathrm{m})$'>,\n",
       "        <Axes: title={'center': '$\\\\phi \\\\cdot N_{FP}/2\\\\pi = 0.500$'}, xlabel='$R ~(\\\\mathrm{m})$', ylabel='$Z ~(\\\\mathrm{m})$'>,\n",
       "        <Axes: title={'center': '$\\\\phi \\\\cdot N_{FP}/2\\\\pi = 0.667$'}, xlabel='$R ~(\\\\mathrm{m})$', ylabel='$Z ~(\\\\mathrm{m})$'>,\n",
       "        <Axes: title={'center': '$\\\\phi \\\\cdot N_{FP}/2\\\\pi = 0.833$'}, xlabel='$R ~(\\\\mathrm{m})$', ylabel='$Z ~(\\\\mathrm{m})$'>],\n",
       "       dtype=object))"
      ]
     },
     "execution_count": 4,
     "metadata": {},
     "output_type": "execute_result"
    },
    {
     "data": {
      "image/png": "[encoded data removed]",
      "text/plain": [
       "<Figure size 864x720 with 6 Axes>"
      ]
     },
     "metadata": {},
     "output_type": "display_data"
    }
   ],
   "source": [
    "# Plot both surfaces\n",
    "plot_comparison([surf_winding,eq_QA,eq_QH],labels=[\"surf\",\"RQA\",\"RQH\"],theta=0,rho=np.array(1.0))"
   ]
  },
  {
   "cell_type": "code",
   "execution_count": 5,
   "id": "84a7ac2e",
   "metadata": {
    "execution": {
     "iopub.execute_input": "2025-07-21T20:28:09.840509Z",
     "iopub.status.busy": "2025-07-21T20:28:09.840357Z",
     "iopub.status.idle": "2025-07-21T20:28:14.697205Z",
     "shell.execute_reply": "2025-07-21T20:28:14.696726Z"
    }
   },
   "outputs": [
    {
     "name": "stdout",
     "output_type": "stream",
     "text": [
      "<class 'numpy.ndarray'>"
     ]
    },
    {
     "name": "stdout",
     "output_type": "stream",
     "text": [
      "\n"
     ]
    },
    {
     "name": "stdout",
     "output_type": "stream",
     "text": [
      "<class 'numpy.ndarray'>"
     ]
    },
    {
     "name": "stdout",
     "output_type": "stream",
     "text": [
      "\n"
     ]
    },
    {
     "name": "stdout",
     "output_type": "stream",
     "text": [
      "<class 'numpy.ndarray'>"
     ]
    },
    {
     "name": "stdout",
     "output_type": "stream",
     "text": [
      "\n"
     ]
    },
    {
     "name": "stdout",
     "output_type": "stream",
     "text": [
      "<class 'numpy.ndarray'>"
     ]
    },
    {
     "name": "stdout",
     "output_type": "stream",
     "text": [
      "\n"
     ]
    },
    {
     "name": "stdout",
     "output_type": "stream",
     "text": [
      "<class 'numpy.ndarray'>"
     ]
    },
    {
     "name": "stdout",
     "output_type": "stream",
     "text": [
      "\n"
     ]
    }
   ],
   "source": [
    "# Evaluate Green's function for flat tori\n",
    "sgrid = LinearGrid(M = 100, N = 130, NFP = surf_winding.NFP)\n",
    "sdata = surf_winding.compute([\"theta\",\"zeta\", \"e^theta_s\",\"e^zeta_s\"], grid = sgrid)\n",
    "name = 'iso_coords/'\n",
    "sdata = iso_coords_interp(name, sdata, sgrid, surf_winding)\n",
    "\n",
    "G = np.load(\"iso_coords/G.npy\")\n",
    "K_sec = G * cross(sdata[\"n_rho\"], sdata[\"e^u_s\"])\n",
    "K_sv = surf_winding.compute([\"K\"],grid = sgrid)[\"K\"]"
   ]
  },
  {
   "cell_type": "code",
   "execution_count": 6,
   "id": "0813a4ee",
   "metadata": {
    "execution": {
     "iopub.execute_input": "2025-07-21T20:28:14.700038Z",
     "iopub.status.busy": "2025-07-21T20:28:14.699463Z",
     "iopub.status.idle": "2025-07-21T20:28:15.011876Z",
     "shell.execute_reply": "2025-07-21T20:28:15.011471Z"
    }
   },
   "outputs": [
    {
     "data": {
      "image/png": "[encoded data removed]",
      "text/plain": [
       "<Figure size 432x360 with 2 Axes>"
      ]
     },
     "metadata": {},
     "output_type": "display_data"
    },
    {
     "data": {
      "image/png": "[encoded data removed]",
      "text/plain": [
       "<Figure size 432x360 with 2 Axes>"
      ]
     },
     "metadata": {},
     "output_type": "display_data"
    }
   ],
   "source": [
    "# Confirm that variables have the same shape\n",
    "plot_figure2(sdata[\"u_iso\"],sgrid,''r' $ u(\\theta,\\zeta)$ ')\n",
    "plot_figure2(sdata[\"v_iso\"],sgrid,''r' $ v(\\theta,\\zeta)$ ')\n",
    "#plot_figure2(sdata[\"lambda_iso\"],sgrid,''r' $ \\lambda $ ')"
   ]
  },
  {
   "cell_type": "code",
   "execution_count": 7,
   "id": "e476d15d",
   "metadata": {
    "execution": {
     "iopub.execute_input": "2025-07-21T20:28:15.014224Z",
     "iopub.status.busy": "2025-07-21T20:28:15.013680Z",
     "iopub.status.idle": "2025-07-21T20:28:15.016473Z",
     "shell.execute_reply": "2025-07-21T20:28:15.016130Z"
    }
   },
   "outputs": [],
   "source": [
    "eps = 1e-2\n",
    "dt = eps\n",
    "dz = eps\n",
    "d0 = eps/3"
   ]
  },
  {
   "cell_type": "code",
   "execution_count": 8,
   "id": "d62dd4d0-9be5-4124-8687-b36573dd65f2",
   "metadata": {
    "execution": {
     "iopub.execute_input": "2025-07-21T20:28:15.018564Z",
     "iopub.status.busy": "2025-07-21T20:28:15.018054Z",
     "iopub.status.idle": "2025-07-21T20:28:15.020737Z",
     "shell.execute_reply": "2025-07-21T20:28:15.020408Z"
    }
   },
   "outputs": [],
   "source": [
    "grid_M = 50\n",
    "grid_N = 50"
   ]
  },
  {
   "cell_type": "code",
   "execution_count": 9,
   "id": "3b07dc21",
   "metadata": {
    "execution": {
     "iopub.execute_input": "2025-07-21T20:28:15.022775Z",
     "iopub.status.busy": "2025-07-21T20:28:15.022273Z",
     "iopub.status.idle": "2025-07-21T20:28:23.702177Z",
     "shell.execute_reply": "2025-07-21T20:28:23.701765Z"
    }
   },
   "outputs": [
    {
     "name": "stdout",
     "output_type": "stream",
     "text": [
      "<class 'numpy.ndarray'>"
     ]
    },
    {
     "name": "stdout",
     "output_type": "stream",
     "text": [
      "\n"
     ]
    },
    {
     "name": "stdout",
     "output_type": "stream",
     "text": [
      "<class 'numpy.ndarray'>"
     ]
    },
    {
     "name": "stdout",
     "output_type": "stream",
     "text": [
      "\n"
     ]
    },
    {
     "name": "stdout",
     "output_type": "stream",
     "text": [
      "<class 'numpy.ndarray'>"
     ]
    },
    {
     "name": "stdout",
     "output_type": "stream",
     "text": [
      "\n"
     ]
    },
    {
     "name": "stdout",
     "output_type": "stream",
     "text": [
      "<class 'numpy.ndarray'>"
     ]
    },
    {
     "name": "stdout",
     "output_type": "stream",
     "text": [
      "\n"
     ]
    },
    {
     "name": "stdout",
     "output_type": "stream",
     "text": [
      "<class 'numpy.ndarray'>"
     ]
    },
    {
     "name": "stdout",
     "output_type": "stream",
     "text": [
      "\n"
     ]
    },
    {
     "name": "stdout",
     "output_type": "stream",
     "text": [
      "<class 'numpy.ndarray'>"
     ]
    },
    {
     "name": "stdout",
     "output_type": "stream",
     "text": [
      "\n"
     ]
    },
    {
     "name": "stdout",
     "output_type": "stream",
     "text": [
      "<class 'numpy.ndarray'>"
     ]
    },
    {
     "name": "stdout",
     "output_type": "stream",
     "text": [
      "\n"
     ]
    },
    {
     "name": "stdout",
     "output_type": "stream",
     "text": [
      "<class 'numpy.ndarray'>"
     ]
    },
    {
     "name": "stdout",
     "output_type": "stream",
     "text": [
      "\n"
     ]
    },
    {
     "name": "stdout",
     "output_type": "stream",
     "text": [
      "<class 'numpy.ndarray'>"
     ]
    },
    {
     "name": "stdout",
     "output_type": "stream",
     "text": [
      "\n"
     ]
    },
    {
     "name": "stdout",
     "output_type": "stream",
     "text": [
      "<class 'numpy.ndarray'>"
     ]
    },
    {
     "name": "stdout",
     "output_type": "stream",
     "text": [
      "\n"
     ]
    },
    {
     "name": "stdout",
     "output_type": "stream",
     "text": [
      "<class 'numpy.ndarray'>"
     ]
    },
    {
     "name": "stdout",
     "output_type": "stream",
     "text": [
      "\n"
     ]
    },
    {
     "name": "stdout",
     "output_type": "stream",
     "text": [
      "<class 'numpy.ndarray'>"
     ]
    },
    {
     "name": "stdout",
     "output_type": "stream",
     "text": [
      "\n"
     ]
    }
   ],
   "source": [
    "egrid = LinearGrid(M = grid_M, N = grid_N, NFP = eq.NFP)\n",
    "edata = eq.compute([\"n_rho\",\"B\"], grid = egrid)\n",
    "\n",
    "#B_s = edata[\"B\"]\n",
    "B_sec = _compute_magnetic_field_from_Current( sgrid, K_sec, surf_winding, eq, egrid, basis = \"rpz\" )\n",
    "B_s = _compute_magnetic_field_from_Current( sgrid, K_sv, surf_winding, eq, egrid, basis = \"rpz\" )\n",
    "#B_s = _compute_magnetic_field_from_Current( sgrid, K_sec, surf_winding, eq, egrid, basis = \"rpz\" )\n",
    "rhs = jnp.concatenate((B_s[:,0],B_s[:,1],B_s[:,2]))\n",
    "#- dot( edata[\"n_rho\"],  B_sec )"
   ]
  },
  {
   "cell_type": "code",
   "execution_count": 10,
   "id": "abfdc6a5",
   "metadata": {
    "execution": {
     "iopub.execute_input": "2025-07-21T20:28:23.704613Z",
     "iopub.status.busy": "2025-07-21T20:28:23.704099Z",
     "iopub.status.idle": "2025-07-21T20:28:23.920901Z",
     "shell.execute_reply": "2025-07-21T20:28:23.920486Z"
    }
   },
   "outputs": [
    {
     "data": {
      "image/png": "[encoded data removed]",
      "text/plain": [
       "<Figure size 432x360 with 2 Axes>"
      ]
     },
     "metadata": {},
     "output_type": "display_data"
    }
   ],
   "source": [
    "plot_figure2( dot(B_s,B_s) ** (1/2), egrid,''r' $ | \\mathbf{B_{s}} |$ ')"
   ]
  },
  {
   "cell_type": "code",
   "execution_count": 11,
   "id": "f4cd9266",
   "metadata": {
    "execution": {
     "iopub.execute_input": "2025-07-21T20:28:23.923253Z",
     "iopub.status.busy": "2025-07-21T20:28:23.922709Z",
     "iopub.status.idle": "2025-07-21T20:28:23.925727Z",
     "shell.execute_reply": "2025-07-21T20:28:23.925392Z"
    }
   },
   "outputs": [],
   "source": [
    "N = 20 # Terms toa pproximate the infinite series\n",
    "\n",
    "# Numer of dipoles\n",
    "#sMv = np.asarray([5,10,15,20,])\n",
    "sMv = np.asarray([25])\n",
    "sNv = np.asarray([55])\n",
    "#sNv = sMv\n",
    "\n",
    "b_chi = []\n",
    "Bn_chi = []\n",
    "max_I = []"
   ]
  },
  {
   "cell_type": "code",
   "execution_count": 12,
   "id": "7df61571",
   "metadata": {
    "execution": {
     "iopub.execute_input": "2025-07-21T20:28:23.927765Z",
     "iopub.status.busy": "2025-07-21T20:28:23.927259Z",
     "iopub.status.idle": "2025-07-21T20:28:25.772483Z",
     "shell.execute_reply": "2025-07-21T20:28:25.772062Z"
    }
   },
   "outputs": [
    {
     "name": "stdout",
     "output_type": "stream",
     "text": [
      "<class 'numpy.ndarray'>"
     ]
    },
    {
     "name": "stdout",
     "output_type": "stream",
     "text": [
      "\n"
     ]
    },
    {
     "name": "stdout",
     "output_type": "stream",
     "text": [
      "<class 'numpy.ndarray'>"
     ]
    },
    {
     "name": "stdout",
     "output_type": "stream",
     "text": [
      "\n"
     ]
    },
    {
     "name": "stdout",
     "output_type": "stream",
     "text": [
      "<class 'numpy.ndarray'>"
     ]
    },
    {
     "name": "stdout",
     "output_type": "stream",
     "text": [
      "\n"
     ]
    },
    {
     "name": "stdout",
     "output_type": "stream",
     "text": [
      "<class 'numpy.ndarray'>"
     ]
    },
    {
     "name": "stdout",
     "output_type": "stream",
     "text": [
      "\n"
     ]
    },
    {
     "name": "stdout",
     "output_type": "stream",
     "text": [
      "<class 'numpy.ndarray'>"
     ]
    },
    {
     "name": "stdout",
     "output_type": "stream",
     "text": [
      "\n"
     ]
    },
    {
     "name": "stdout",
     "output_type": "stream",
     "text": [
      "<class 'numpy.ndarray'>"
     ]
    },
    {
     "name": "stdout",
     "output_type": "stream",
     "text": [
      "\n"
     ]
    }
   ],
   "source": [
    "grid_M2 = grid_M #40\n",
    "grid_N2 = grid_N #40\n",
    "\n",
    "egrid2 = LinearGrid(M = grid_M2, N = grid_N2, NFP = eq.NFP)\n",
    "edata2 = eq.compute([\"n_rho\"], grid = egrid2)\n",
    "\n",
    "B_sec2 = np.load('iso_coords/B_sec_'+str(grid_M2)+'x'+str(grid_N2)+'.npy')\n",
    "#_compute_magnetic_field_from_Current( sgrid, K_sec, surf_winding, eq, egrid2, basis = \"rpz\" )\n",
    "B_s2 = _compute_magnetic_field_from_Current( sgrid, K_sv, surf_winding, eq, egrid2, basis = \"rpz\" )\n",
    "#B_s2 = edata2[\"B\"]"
   ]
  },
  {
   "cell_type": "code",
   "execution_count": 13,
   "id": "b83a091b-211e-4a4a-8202-6971f01218ff",
   "metadata": {
    "execution": {
     "iopub.execute_input": "2025-07-21T20:28:25.775011Z",
     "iopub.status.busy": "2025-07-21T20:28:25.774489Z",
     "iopub.status.idle": "2025-07-21T20:28:25.777108Z",
     "shell.execute_reply": "2025-07-21T20:28:25.776778Z"
    }
   },
   "outputs": [],
   "source": [
    "alpha_v = [#1e-20,1e-19,\n",
    "           #1e-20,\n",
    "           1e-10,\n",
    "           #1e-15,1e-14,\n",
    "           #1e-13,1e-12,\n",
    "          ]"
   ]
  },
  {
   "cell_type": "code",
   "execution_count": 14,
   "id": "b07f33f8",
   "metadata": {
    "execution": {
     "iopub.execute_input": "2025-07-21T20:28:25.779120Z",
     "iopub.status.busy": "2025-07-21T20:28:25.778613Z",
     "iopub.status.idle": "2025-07-21T21:25:53.534877Z",
     "shell.execute_reply": "2025-07-21T21:25:53.534389Z"
    }
   },
   "outputs": [
    {
     "name": "stdout",
     "output_type": "stream",
     "text": [
      "<class 'jaxlib.xla_extension.ArrayImpl'>"
     ]
    },
    {
     "name": "stdout",
     "output_type": "stream",
     "text": [
      "\n"
     ]
    },
    {
     "name": "stdout",
     "output_type": "stream",
     "text": [
      "<class 'jaxlib.xla_extension.ArrayImpl'>"
     ]
    },
    {
     "name": "stdout",
     "output_type": "stream",
     "text": [
      "\n"
     ]
    },
    {
     "name": "stdout",
     "output_type": "stream",
     "text": [
      "<class 'jaxlib.xla_extension.ArrayImpl'>"
     ]
    },
    {
     "name": "stdout",
     "output_type": "stream",
     "text": [
      "\n"
     ]
    },
    {
     "name": "stdout",
     "output_type": "stream",
     "text": [
      "<class 'jaxlib.xla_extension.ArrayImpl'>"
     ]
    },
    {
     "name": "stdout",
     "output_type": "stream",
     "text": [
      "\n"
     ]
    },
    {
     "name": "stdout",
     "output_type": "stream",
     "text": [
      "<class 'jaxlib.xla_extension.ArrayImpl'>"
     ]
    },
    {
     "name": "stdout",
     "output_type": "stream",
     "text": [
      "\n"
     ]
    },
    {
     "name": "stdout",
     "output_type": "stream",
     "text": [
      "<class 'jaxlib.xla_extension.ArrayImpl'>"
     ]
    },
    {
     "name": "stdout",
     "output_type": "stream",
     "text": [
      "\n"
     ]
    },
    {
     "name": "stdout",
     "output_type": "stream",
     "text": [
      "<class 'jaxlib.xla_extension.ArrayImpl'>"
     ]
    },
    {
     "name": "stdout",
     "output_type": "stream",
     "text": [
      "\n"
     ]
    },
    {
     "name": "stdout",
     "output_type": "stream",
     "text": [
      "<class 'jaxlib.xla_extension.ArrayImpl'>"
     ]
    },
    {
     "name": "stdout",
     "output_type": "stream",
     "text": [
      "\n"
     ]
    },
    {
     "name": "stdout",
     "output_type": "stream",
     "text": [
      "<class 'numpy.ndarray'>"
     ]
    },
    {
     "name": "stdout",
     "output_type": "stream",
     "text": [
      "\n"
     ]
    },
    {
     "name": "stdout",
     "output_type": "stream",
     "text": [
      "<class 'numpy.ndarray'>"
     ]
    },
    {
     "name": "stdout",
     "output_type": "stream",
     "text": [
      "\n"
     ]
    },
    {
     "name": "stdout",
     "output_type": "stream",
     "text": [
      "<class 'numpy.ndarray'>"
     ]
    },
    {
     "name": "stdout",
     "output_type": "stream",
     "text": [
      "\n"
     ]
    },
    {
     "name": "stdout",
     "output_type": "stream",
     "text": [
      "<class 'numpy.ndarray'>"
     ]
    },
    {
     "name": "stdout",
     "output_type": "stream",
     "text": [
      "\n"
     ]
    },
    {
     "name": "stdout",
     "output_type": "stream",
     "text": [
      "<class 'jaxlib.xla_extension.ArrayImpl'>"
     ]
    },
    {
     "name": "stdout",
     "output_type": "stream",
     "text": [
      "\n"
     ]
    },
    {
     "name": "stdout",
     "output_type": "stream",
     "text": [
      "<class 'jaxlib.xla_extension.ArrayImpl'>"
     ]
    },
    {
     "name": "stdout",
     "output_type": "stream",
     "text": [
      "\n"
     ]
    },
    {
     "name": "stdout",
     "output_type": "stream",
     "text": [
      "<class 'jaxlib.xla_extension.ArrayImpl'>"
     ]
    },
    {
     "name": "stdout",
     "output_type": "stream",
     "text": [
      "\n"
     ]
    },
    {
     "name": "stdout",
     "output_type": "stream",
     "text": [
      "<class 'jaxlib.xla_extension.ArrayImpl'>"
     ]
    },
    {
     "name": "stdout",
     "output_type": "stream",
     "text": [
      "\n"
     ]
    },
    {
     "name": "stdout",
     "output_type": "stream",
     "text": [
      "<class 'jaxlib.xla_extension.ArrayImpl'>"
     ]
    },
    {
     "name": "stdout",
     "output_type": "stream",
     "text": [
      "\n"
     ]
    },
    {
     "name": "stdout",
     "output_type": "stream",
     "text": [
      "<class 'jaxlib.xla_extension.ArrayImpl'>"
     ]
    },
    {
     "name": "stdout",
     "output_type": "stream",
     "text": [
      "\n"
     ]
    },
    {
     "name": "stdout",
     "output_type": "stream",
     "text": [
      "<class 'jaxlib.xla_extension.ArrayImpl'>"
     ]
    },
    {
     "name": "stdout",
     "output_type": "stream",
     "text": [
      "\n"
     ]
    },
    {
     "name": "stdout",
     "output_type": "stream",
     "text": [
      "<class 'jaxlib.xla_extension.ArrayImpl'>"
     ]
    },
    {
     "name": "stdout",
     "output_type": "stream",
     "text": [
      "\n"
     ]
    },
    {
     "name": "stdout",
     "output_type": "stream",
     "text": [
      "<class 'numpy.ndarray'>"
     ]
    },
    {
     "name": "stdout",
     "output_type": "stream",
     "text": [
      "\n"
     ]
    },
    {
     "name": "stdout",
     "output_type": "stream",
     "text": [
      "<class 'numpy.ndarray'>"
     ]
    },
    {
     "name": "stdout",
     "output_type": "stream",
     "text": [
      "\n"
     ]
    },
    {
     "name": "stdout",
     "output_type": "stream",
     "text": [
      "<class 'jaxlib.xla_extension.ArrayImpl'>"
     ]
    },
    {
     "name": "stdout",
     "output_type": "stream",
     "text": [
      "\n"
     ]
    },
    {
     "name": "stdout",
     "output_type": "stream",
     "text": [
      "<class 'jaxlib.xla_extension.ArrayImpl'>"
     ]
    },
    {
     "name": "stdout",
     "output_type": "stream",
     "text": [
      "\n"
     ]
    },
    {
     "name": "stdout",
     "output_type": "stream",
     "text": [
      "<class 'jaxlib.xla_extension.ArrayImpl'>"
     ]
    },
    {
     "name": "stdout",
     "output_type": "stream",
     "text": [
      "\n"
     ]
    },
    {
     "name": "stdout",
     "output_type": "stream",
     "text": [
      "<class 'jaxlib.xla_extension.ArrayImpl'>"
     ]
    },
    {
     "name": "stdout",
     "output_type": "stream",
     "text": [
      "\n"
     ]
    },
    {
     "name": "stdout",
     "output_type": "stream",
     "text": [
      "<class 'jaxlib.xla_extension.ArrayImpl'>"
     ]
    },
    {
     "name": "stdout",
     "output_type": "stream",
     "text": [
      "\n"
     ]
    },
    {
     "name": "stdout",
     "output_type": "stream",
     "text": [
      "<class 'jaxlib.xla_extension.ArrayImpl'>"
     ]
    },
    {
     "name": "stdout",
     "output_type": "stream",
     "text": [
      "\n"
     ]
    },
    {
     "name": "stdout",
     "output_type": "stream",
     "text": [
      "<class 'jaxlib.xla_extension.ArrayImpl'>"
     ]
    },
    {
     "name": "stdout",
     "output_type": "stream",
     "text": [
      "\n"
     ]
    },
    {
     "name": "stdout",
     "output_type": "stream",
     "text": [
      "<class 'jaxlib.xla_extension.ArrayImpl'>"
     ]
    },
    {
     "name": "stdout",
     "output_type": "stream",
     "text": [
      "\n"
     ]
    },
    {
     "data": {
      "image/png": "[encoded data removed]",
      "text/plain": [
       "<Figure size 432x360 with 2 Axes>"
      ]
     },
     "metadata": {},
     "output_type": "display_data"
    },
    {
     "data": {
      "image/png": "[encoded data removed]",
      "text/plain": [
       "<Figure size 432x360 with 2 Axes>"
      ]
     },
     "metadata": {},
     "output_type": "display_data"
    },
    {
     "data": {
      "image/png": "[encoded data removed]",
      "text/plain": [
       "<Figure size 432x360 with 2 Axes>"
      ]
     },
     "metadata": {},
     "output_type": "display_data"
    },
    {
     "data": {
      "image/png": "[encoded data removed]",
      "text/plain": [
       "<Figure size 432x360 with 2 Axes>"
      ]
     },
     "metadata": {},
     "output_type": "display_data"
    }
   ],
   "source": [
    "for i in range(0,len(sMv)):\n",
    "\n",
    "    p_M = sMv[i]\n",
    "    p_N = sNv[i]\n",
    "    \n",
    "    x = jnp.ones( ( p_M * 2 + 1 ) * ( p_N * 2 + 1 ) * 2 + 0 )\n",
    "    \n",
    "    fun_wrapped1 = lambda x: bn_res(p_M, p_N, # Dipole pairs in toroidal direction \n",
    "                                    sdata, sgrid, surf_winding, #winding_surf,\n",
    "                                    x, \n",
    "                                    dt,dz, N, d0,\n",
    "                                    eq, egrid)\n",
    "    \n",
    "    A = Derivative(fun_wrapped1, deriv_mode=\"looped\").compute(x)\n",
    "    \n",
    "    alpha = 1e-16\n",
    "    #A_inv, _ = svd_inv_null( A.T @ A + alpha * jnp.eye( A.shape[1] ) )\n",
    "    \n",
    "    # Find the regularized solution of dipoles\n",
    "    #soln = A_inv @ ( rhs @ A)\n",
    "    soln = jnp.linalg.pinv(A.T @ A + alpha * jnp.eye( A.shape[1] )) @ ( rhs @ A)\n",
    "    #soln = jnp.linalg.pinv(A) @ rhs\n",
    "    #soln = jnp.linalg.pinv(A + alpha * jnp.eye( A.shape[0],A.shape[1] )) @ rhs\n",
    "    \n",
    "    #B_d2 = ( B_dips(p_M, p_N,\n",
    "    #             sdata, sgrid, surf_winding,\n",
    "    #             soln,\n",
    "    #             dt,dz, N, d0,\n",
    "    #             eq, egrid2) \n",
    "    #        + B_sticks(p_M, p_N,\n",
    "    #             sdata, sgrid, surf_winding,\n",
    "    #             soln,\n",
    "    #             dt,dz,\n",
    "    #             eq, egrid2)\n",
    "    #        )\n",
    "    \n",
    "    test = A@soln\n",
    "    tsize = edata2['n_rho'].shape[0]\n",
    "    B_d2 = jnp.column_stack((test[0:tsize],test[tsize:tsize*2],test[tsize*2:tsize*3]))\n",
    "    \n",
    "    K_d = K_dips(p_M, p_N,\n",
    "                 sdata, sgrid, surf_winding,\n",
    "                 soln,\n",
    "                 dt,dz, N, d0)\n",
    "    \n",
    "    \n",
    "    #B0 = B_d2 - B_s2\n",
    "    B0 = B_d2 - B_s2\n",
    "    B_total = B_d2 + B_sec2\n",
    "    Bn_total = dot(edata2[\"n_rho\"],B_total)\n",
    "    K0 = K_d\n",
    "    \n",
    "    #res = A @ soln - rhs\n",
    "    \n",
    "    #plot_figure2( res, egrid, ''r' $ \\mathbf{B \\cdot n}$ ' )\n",
    "    plot_figure2( Bn_total * dot(B_total,B_total)**(1/2), egrid2,\n",
    "                 ''r' $ \\frac{ (\\mathbf{B_{sec} + B_{dip}}) \\cdot \\mathbf{n} }{| \\mathbf{B_{sec} + B_{dip}} | }$ ' )\n",
    "    \n",
    "    plot_figure2( dot(B_d2,B_d2)**(1/2), egrid2, ''r' $ | \\mathbf{B_{dip}} | $ ' )\n",
    "    \n",
    "    plot_figure2( dot(B0,B0)**(1/2) * dot(B_s2,B_s2)**(-1/2), \n",
    "                 egrid2, \n",
    "                 ''r' $ \\frac{| \\mathbf{B_s - B_{dip}}  |}{|\\mathbf{B_s}|} $ ' )\n",
    "    \n",
    "    plot_figure2( dot(K0,K0)**(1/2), sgrid, ''r' $ | \\mathbf{K} | $ ' )\n",
    "    \n",
    "    error = surf_int( dot(B0,B0) ** 2, edata2, egrid2 )\n",
    "    b_chi.append(error)\n",
    "    Bn_chi.append( max(abs(Bn_total * dot(B_total,B_total)**(-1/2)))) \n",
    "    #G_chi.append(soln[-1])\n",
    "    max_I.append(max(abs(soln[0 : soln.shape[0] - 1])))\n",
    "    \n",
    "    np.save('reg_soln_M_' + str(sMv[i]) + '_N_' + str(sNv[i]) + '.npy' ,soln)\n",
    "    np.save('reg_error_M_' + str(sMv[i]) + '_N_' + str(sNv[i]) + '.npy' , error)"
   ]
  },
  {
   "cell_type": "code",
   "execution_count": 15,
   "id": "dca7afca",
   "metadata": {
    "execution": {
     "iopub.execute_input": "2025-07-21T21:25:53.537486Z",
     "iopub.status.busy": "2025-07-21T21:25:53.536946Z",
     "iopub.status.idle": "2025-07-21T21:25:53.714738Z",
     "shell.execute_reply": "2025-07-21T21:25:53.714350Z"
    }
   },
   "outputs": [
    {
     "data": {
      "image/png": "[encoded data removed]",
      "text/plain": [
       "<Figure size 432x288 with 1 Axes>"
      ]
     },
     "metadata": {},
     "output_type": "display_data"
    }
   ],
   "source": [
    "plot_xy(np.log10(b_chi), \n",
    "        np.log10(( sMv * 2 + 1 ) * ( sNv * 2 + 1 ) * 2), # grid to plot on\n",
    "        ''r'$\\log_{10} \\int | \\mathbf{B_s - B_{dip}} | ^2 dS$', # title for the figure\n",
    "        ''r'$\\log_{10} N^2 $', # title of x axis\n",
    "       )"
   ]
  },
  {
   "cell_type": "code",
   "execution_count": 16,
   "id": "4dc50683",
   "metadata": {
    "execution": {
     "iopub.execute_input": "2025-07-21T21:25:53.717034Z",
     "iopub.status.busy": "2025-07-21T21:25:53.716487Z",
     "iopub.status.idle": "2025-07-21T21:25:53.719050Z",
     "shell.execute_reply": "2025-07-21T21:25:53.718709Z"
    },
    "scrolled": true
   },
   "outputs": [],
   "source": [
    "#plot_xy(np.log10(jnp.asarray(source_chi)), \n",
    "#        np.log10(( sMv * 2 + 1 ) * ( sNv * 2 + 1 ) * 2), # grid to plot on\n",
    "#        ''r'$\\log_{10} \\Sigma d_i $', # title for the figure\n",
    "#        ''r'$\\log_{10} N^2 $', # title of x axis\n",
    "#       )"
   ]
  },
  {
   "cell_type": "code",
   "execution_count": 17,
   "id": "858cd55f-1f7d-48b1-b0d8-000a989eb0b6",
   "metadata": {
    "execution": {
     "iopub.execute_input": "2025-07-21T21:25:53.721048Z",
     "iopub.status.busy": "2025-07-21T21:25:53.720538Z",
     "iopub.status.idle": "2025-07-21T21:25:53.858346Z",
     "shell.execute_reply": "2025-07-21T21:25:53.857956Z"
    }
   },
   "outputs": [
    {
     "data": {
      "image/png": "[encoded data removed]",
      "text/plain": [
       "<Figure size 432x288 with 1 Axes>"
      ]
     },
     "metadata": {},
     "output_type": "display_data"
    }
   ],
   "source": [
    "plot_xy(np.log10(jnp.asarray(max_I)), \n",
    "        np.log10(( sMv * 2 + 1 ) * ( sNv * 2 + 1 ) * 2), # grid to plot on\n",
    "        ''r'$\\log_{10} I_{max} $', # title for the figure\n",
    "        ''r'$\\log_{10} N^2 $', # title of x axis\n",
    "       )"
   ]
  },
  {
   "cell_type": "code",
   "execution_count": 18,
   "id": "28b0d1eb-e1b3-46b4-abf8-9f36cc56e540",
   "metadata": {
    "execution": {
     "iopub.execute_input": "2025-07-21T21:25:53.860709Z",
     "iopub.status.busy": "2025-07-21T21:25:53.860176Z",
     "iopub.status.idle": "2025-07-21T21:25:54.038059Z",
     "shell.execute_reply": "2025-07-21T21:25:54.037667Z"
    }
   },
   "outputs": [
    {
     "data": {
      "image/png": "[encoded data removed]",
      "text/plain": [
       "<Figure size 432x288 with 1 Axes>"
      ]
     },
     "metadata": {},
     "output_type": "display_data"
    }
   ],
   "source": [
    "plot_xy(jnp.asarray(max_I)*1e-3, \n",
    "        np.log10(( sMv * 2 + 1 ) * ( sNv * 2 + 1 ) * 2), # grid to plot on\n",
    "        ''r'$ I_{max} $ (kA)', # title for the figure\n",
    "        ''r'$\\log_{10} N^2 $', # title of x axis\n",
    "        )"
   ]
  },
  {
   "cell_type": "code",
   "execution_count": null,
   "id": "45d6593c-c231-422f-a1b0-de8e4f8525c7",
   "metadata": {},
   "outputs": [],
   "source": []
  }
 ],
 "metadata": {
  "kernelspec": {
   "display_name": "Python 3 (ipykernel)",
   "language": "python",
   "name": "python3"
  },
  "language_info": {
   "codemirror_mode": {
    "name": "ipython",
    "version": 3
   },
   "file_extension": ".py",
   "mimetype": "text/x-python",
   "name": "python",
   "nbconvert_exporter": "python",
   "pygments_lexer": "ipython3",
   "version": "3.11.0"
  }
 },
 "nbformat": 4,
 "nbformat_minor": 5
}
