{
 "cells": [
  {
   "cell_type": "code",
   "execution_count": 1,
   "id": "c3bfcfee",
   "metadata": {
    "execution": {
     "iopub.execute_input": "2025-07-16T22:08:43.579774Z",
     "iopub.status.busy": "2025-07-16T22:08:43.579649Z",
     "iopub.status.idle": "2025-07-16T22:08:44.176658Z",
     "shell.execute_reply": "2025-07-16T22:08:44.176265Z"
    }
   },
   "outputs": [],
   "source": [
    "from desc import set_device\n",
    "set_device(\"gpu\")"
   ]
  },
  {
   "cell_type": "code",
   "execution_count": 2,
   "id": "effb3c47",
   "metadata": {
    "execution": {
     "iopub.execute_input": "2025-07-16T22:08:44.178861Z",
     "iopub.status.busy": "2025-07-16T22:08:44.178723Z",
     "iopub.status.idle": "2025-07-16T22:08:51.191057Z",
     "shell.execute_reply": "2025-07-16T22:08:51.190618Z"
    }
   },
   "outputs": [
    {
     "name": "stdout",
     "output_type": "stream",
     "text": [
      "DESC version 0.12.3+553.gcb761a802.dirty,using JAX backend, jax version=0.4.35, jaxlib version=0.4.34, dtype=float64"
     ]
    },
    {
     "name": "stdout",
     "output_type": "stream",
     "text": [
      "\n"
     ]
    },
    {
     "name": "stdout",
     "output_type": "stream",
     "text": [
      "Using device: NVIDIA A100-SXM4-80GB (id=0), with 80.00 GB available memory"
     ]
    },
    {
     "name": "stdout",
     "output_type": "stream",
     "text": [
      "\n"
     ]
    }
   ],
   "source": [
    "import numpy as np\n",
    "import os\n",
    "# os.environ[\"JAX_LOG_COMPILES\"] = \"True\"\n",
    "from scipy.io import netcdf_file\n",
    "import copy\n",
    "import matplotlib\n",
    "import matplotlib.pyplot as plt\n",
    "import scipy\n",
    "from scipy.constants import mu_0\n",
    "import sys\n",
    "import functools\n",
    "import pickle\n",
    "\n",
    "import jax\n",
    "import jax.numpy as jnp\n",
    "from jax import jit, jacfwd\n",
    "\n",
    "from netCDF4 import Dataset\n",
    "import h5py\n",
    "\n",
    "from desc.backend import put, fori_loop, jnp, sign\n",
    "\n",
    "from desc.basis import FourierZernikeBasis, DoubleFourierSeries, FourierSeries\n",
    "from desc.equilibrium import EquilibriaFamily, Equilibrium\n",
    "from desc.grid import ConcentricGrid, LinearGrid, Grid, QuadratureGrid\n",
    "from desc.io import InputReader, load\n",
    "from desc.objectives import *\n",
    "from desc.objectives.objective_funs import _Objective\n",
    "from desc.plotting import plot_1d, plot_2d, plot_3d, plot_section, plot_surfaces, plot_comparison\n",
    "\n",
    "from desc.plotting import *\n",
    "\n",
    "from desc.transform import Transform\n",
    "from desc.vmec import VMECIO\n",
    "from desc.derivatives import Derivative\n",
    "from desc.geometry import FourierRZToroidalSurface\n",
    "from desc.profiles import SplineProfile, PowerSeriesProfile\n",
    "\n",
    "from desc.magnetic_fields import ( SplineMagneticField, \n",
    "                                  #biot_savart_general, \n",
    "                                  FourierCurrentPotentialField, ToroidalMagneticField,\n",
    "                                  field_line_integrate)\n",
    "\n",
    "import desc.examples\n",
    "\n",
    "from desc.backend import fori_loop, jit, jnp, odeint, sign\n",
    "from desc.compute import rpz2xyz, rpz2xyz_vec, xyz2rpz, xyz2rpz_vec\n",
    "from desc.coils import *\n",
    "\n",
    "from desc.utils import Timer, copy_coeffs, errorif, setdefault, svd_inv_null, warnif\n",
    "from desc.utils import flatten_list\n",
    "from desc.utils import cross, dot\n",
    "\n",
    "from desc.optimize import lsqtr, lsq_auglag\n",
    "\n",
    "from scipy.optimize import NonlinearConstraint \n",
    "\n",
    "from desc.magnetic_fields import ( SplineMagneticField, \n",
    "                                  #biot_savart_general, \n",
    "                                  FourierCurrentPotentialField, ToroidalMagneticField,\n",
    "                                  field_line_integrate)\n",
    "\n",
    "import time\n",
    "\n",
    "import numpy as np\n",
    "from numpy.linalg import eig\n",
    "\n",
    "from scipy.linalg import null_space\n",
    "from numpy import ndarray\n",
    "\n",
    "# Import my own functions\n",
    "from desc.fns_simp import (_compute_magnetic_field_from_Current,\n",
    "                           plot_figure,\n",
    "                           plot_figure2,)\n",
    "\n",
    "from desc.derivatives import Derivative\n",
    "#from phi2d_eval import phi_sv_eval\n",
    "#from contour_calc import contour_calc_c"
   ]
  },
  {
   "cell_type": "code",
   "execution_count": 3,
   "id": "3969b398",
   "metadata": {
    "execution": {
     "iopub.execute_input": "2025-07-16T22:08:51.193848Z",
     "iopub.status.busy": "2025-07-16T22:08:51.193250Z",
     "iopub.status.idle": "2025-07-16T22:08:58.138840Z",
     "shell.execute_reply": "2025-07-16T22:08:58.138377Z"
    }
   },
   "outputs": [
    {
     "name": "stdout",
     "output_type": "stream",
     "text": [
      "<class 'jaxlib.xla_extension.ArrayImpl'>"
     ]
    },
    {
     "name": "stdout",
     "output_type": "stream",
     "text": [
      "\n"
     ]
    },
    {
     "name": "stdout",
     "output_type": "stream",
     "text": [
      "<class 'jaxlib.xla_extension.ArrayImpl'>"
     ]
    },
    {
     "name": "stdout",
     "output_type": "stream",
     "text": [
      "\n"
     ]
    },
    {
     "name": "stdout",
     "output_type": "stream",
     "text": [
      "<class 'jaxlib.xla_extension.ArrayImpl'>"
     ]
    },
    {
     "name": "stdout",
     "output_type": "stream",
     "text": [
      "\n"
     ]
    },
    {
     "name": "stdout",
     "output_type": "stream",
     "text": [
      "<class 'jaxlib.xla_extension.ArrayImpl'>"
     ]
    },
    {
     "name": "stdout",
     "output_type": "stream",
     "text": [
      "\n"
     ]
    },
    {
     "data": {
      "text/plain": [
       "(<Figure size 864x720 with 6 Axes>,\n",
       " array([<Axes: title={'center': '$\\\\phi \\\\cdot N_{FP}/2\\\\pi = 0.000$'}, xlabel='$R ~(\\\\mathrm{m})$', ylabel='$Z ~(\\\\mathrm{m})$'>,\n",
       "        <Axes: title={'center': '$\\\\phi \\\\cdot N_{FP}/2\\\\pi = 0.167$'}, xlabel='$R ~(\\\\mathrm{m})$', ylabel='$Z ~(\\\\mathrm{m})$'>,\n",
       "        <Axes: title={'center': '$\\\\phi \\\\cdot N_{FP}/2\\\\pi = 0.333$'}, xlabel='$R ~(\\\\mathrm{m})$', ylabel='$Z ~(\\\\mathrm{m})$'>,\n",
       "        <Axes: title={'center': '$\\\\phi \\\\cdot N_{FP}/2\\\\pi = 0.500$'}, xlabel='$R ~(\\\\mathrm{m})$', ylabel='$Z ~(\\\\mathrm{m})$'>,\n",
       "        <Axes: title={'center': '$\\\\phi \\\\cdot N_{FP}/2\\\\pi = 0.667$'}, xlabel='$R ~(\\\\mathrm{m})$', ylabel='$Z ~(\\\\mathrm{m})$'>,\n",
       "        <Axes: title={'center': '$\\\\phi \\\\cdot N_{FP}/2\\\\pi = 0.833$'}, xlabel='$R ~(\\\\mathrm{m})$', ylabel='$Z ~(\\\\mathrm{m})$'>],\n",
       "       dtype=object))"
      ]
     },
     "execution_count": 3,
     "metadata": {},
     "output_type": "execute_result"
    },
    {
     "data": {
      "image/png": "[encoded data removed]",
      "text/plain": [
       "<Figure size 864x720 with 6 Axes>"
      ]
     },
     "metadata": {},
     "output_type": "display_data"
    }
   ],
   "source": [
    "# Plasma surface\n",
    "eqname_QA = \"/home/fcastro/LMStell/regcoil/rogerio/input.QA_final_output.h5\" #vacuum equilibrium\n",
    "eq = desc.io.load(eqname_QA)[4]\n",
    "\n",
    "# Create a winding surface as a constant offset surface\n",
    "#surf_winding = load(\"surf.h5\")\n",
    "\n",
    "# Create a winding surface as a constant offset surface\n",
    "winding_surf = load('surf.h5')\n",
    "\n",
    "# Plot both surfaces\n",
    "plot_comparison([winding_surf,eq],labels=[\"winding surface\",\"plasma\"],theta=0,rho=np.array(1.0))\n",
    "#plt.savefig(\"surfaces.png\",dpi = 1200)"
   ]
  },
  {
   "cell_type": "code",
   "execution_count": 4,
   "id": "d67d5c29",
   "metadata": {
    "execution": {
     "iopub.execute_input": "2025-07-16T22:08:58.140913Z",
     "iopub.status.busy": "2025-07-16T22:08:58.140759Z",
     "iopub.status.idle": "2025-07-16T22:12:48.189644Z",
     "shell.execute_reply": "2025-07-16T22:12:48.189039Z"
    }
   },
   "outputs": [
    {
     "name": "stdout",
     "output_type": "stream",
     "text": [
      "<class 'numpy.ndarray'>"
     ]
    },
    {
     "name": "stdout",
     "output_type": "stream",
     "text": [
      "\n"
     ]
    },
    {
     "name": "stdout",
     "output_type": "stream",
     "text": [
      "<class 'numpy.ndarray'>"
     ]
    },
    {
     "name": "stdout",
     "output_type": "stream",
     "text": [
      "\n"
     ]
    }
   ],
   "source": [
    "kgrid = LinearGrid(M = 70, N = 70, NFP = eq.NFP)\n",
    "kdata = winding_surf.compute([\"n_rho\",\"H_1\", \"e^zeta_s\"], grid = kgrid)\n",
    "\n",
    "G = np.load(\"G.npy\")\n",
    "#K_sec = G * cross(kdata[\"n_rho\"], kdata[\"e^zeta_s\"])\n",
    "K_sec = G * cross(kdata[\"n_rho\"], kdata[\"H_1\"])"
   ]
  },
  {
   "cell_type": "code",
   "execution_count": 5,
   "id": "fad99315-1336-47f2-a151-0cbb171c2172",
   "metadata": {
    "execution": {
     "iopub.execute_input": "2025-07-16T22:12:48.192253Z",
     "iopub.status.busy": "2025-07-16T22:12:48.192080Z",
     "iopub.status.idle": "2025-07-16T22:12:51.343205Z",
     "shell.execute_reply": "2025-07-16T22:12:51.342763Z"
    }
   },
   "outputs": [
    {
     "name": "stderr",
     "output_type": "stream",
     "text": [
      "/home/fcastro/DESC/desc/transform.py:70: UserWarning: "
     ]
    },
    {
     "name": "stderr",
     "output_type": "stream",
     "text": [
      "Unequal number of field periods for grid 1 and basis 3."
     ]
    },
    {
     "name": "stderr",
     "output_type": "stream",
     "text": [
      "\n",
      "  warnings.warn(\n"
     ]
    },
    {
     "name": "stdout",
     "output_type": "stream",
     "text": [
      "<class 'numpy.ndarray'>"
     ]
    },
    {
     "name": "stdout",
     "output_type": "stream",
     "text": [
      "\n"
     ]
    },
    {
     "name": "stderr",
     "output_type": "stream",
     "text": [
      "/home/fcastro/DESC/desc/transform.py:70: UserWarning: "
     ]
    },
    {
     "name": "stderr",
     "output_type": "stream",
     "text": [
      "Unequal number of field periods for grid 1 and basis 3."
     ]
    },
    {
     "name": "stderr",
     "output_type": "stream",
     "text": [
      "\n",
      "  warnings.warn(\n"
     ]
    },
    {
     "name": "stdout",
     "output_type": "stream",
     "text": [
      "<class 'numpy.ndarray'>"
     ]
    },
    {
     "name": "stdout",
     "output_type": "stream",
     "text": [
      "\n"
     ]
    },
    {
     "name": "stderr",
     "output_type": "stream",
     "text": [
      "/home/fcastro/DESC/desc/transform.py:70: UserWarning: "
     ]
    },
    {
     "name": "stderr",
     "output_type": "stream",
     "text": [
      "Unequal number of field periods for grid 1 and basis 3."
     ]
    },
    {
     "name": "stderr",
     "output_type": "stream",
     "text": [
      "\n",
      "  warnings.warn(\n"
     ]
    },
    {
     "name": "stdout",
     "output_type": "stream",
     "text": [
      "<class 'numpy.ndarray'>"
     ]
    },
    {
     "name": "stdout",
     "output_type": "stream",
     "text": [
      "\n"
     ]
    },
    {
     "name": "stderr",
     "output_type": "stream",
     "text": [
      "/home/fcastro/DESC/desc/transform.py:70: UserWarning: "
     ]
    },
    {
     "name": "stderr",
     "output_type": "stream",
     "text": [
      "Unequal number of field periods for grid 1 and basis 3."
     ]
    },
    {
     "name": "stderr",
     "output_type": "stream",
     "text": [
      "\n",
      "  warnings.warn(\n"
     ]
    },
    {
     "name": "stdout",
     "output_type": "stream",
     "text": [
      "<class 'numpy.ndarray'>"
     ]
    },
    {
     "name": "stdout",
     "output_type": "stream",
     "text": [
      "\n"
     ]
    },
    {
     "name": "stdout",
     "output_type": "stream",
     "text": [
      "<class 'numpy.ndarray'>"
     ]
    },
    {
     "name": "stdout",
     "output_type": "stream",
     "text": [
      "\n"
     ]
    },
    {
     "name": "stdout",
     "output_type": "stream",
     "text": [
      "<class 'numpy.ndarray'>"
     ]
    },
    {
     "name": "stdout",
     "output_type": "stream",
     "text": [
      "\n"
     ]
    }
   ],
   "source": [
    "egrid = LinearGrid(M = 60, N = 60, NFP = 1)\n",
    "edata = eq.compute([\"n_rho\"], grid = egrid)\n",
    "\n",
    "#B_s = eq.compute([\"B\"],grid = egrid)[\"B\"]\n",
    "B_sec = _compute_magnetic_field_from_Current( kgrid, K_sec, winding_surf, eq, egrid, basis = \"rpz\" )\n",
    "\n",
    "#rhs = jnp.concatenate((B_s[:,0],B_s[:,1],B_s[:,2]))\n",
    "Bn_sec = dot( edata[\"n_rho\"],  B_sec )"
   ]
  },
  {
   "cell_type": "code",
   "execution_count": 6,
   "id": "46598a92-d4fe-4ea3-91ff-3696fa2ec3eb",
   "metadata": {
    "execution": {
     "iopub.execute_input": "2025-07-16T22:12:51.345527Z",
     "iopub.status.busy": "2025-07-16T22:12:51.345370Z",
     "iopub.status.idle": "2025-07-16T22:13:17.290784Z",
     "shell.execute_reply": "2025-07-16T22:13:17.290128Z"
    }
   },
   "outputs": [
    {
     "name": "stdout",
     "output_type": "stream",
     "text": [
      "<class 'numpy.ndarray'>"
     ]
    },
    {
     "name": "stdout",
     "output_type": "stream",
     "text": [
      "\n"
     ]
    },
    {
     "name": "stdout",
     "output_type": "stream",
     "text": [
      "<class 'numpy.ndarray'>"
     ]
    },
    {
     "name": "stdout",
     "output_type": "stream",
     "text": [
      "\n"
     ]
    },
    {
     "name": "stdout",
     "output_type": "stream",
     "text": [
      "<class 'numpy.ndarray'>"
     ]
    },
    {
     "name": "stdout",
     "output_type": "stream",
     "text": [
      "\n"
     ]
    },
    {
     "name": "stdout",
     "output_type": "stream",
     "text": [
      "<class 'numpy.ndarray'>"
     ]
    },
    {
     "name": "stdout",
     "output_type": "stream",
     "text": [
      "\n"
     ]
    },
    {
     "name": "stdout",
     "output_type": "stream",
     "text": [
      "<class 'numpy.ndarray'>"
     ]
    },
    {
     "name": "stdout",
     "output_type": "stream",
     "text": [
      "\n"
     ]
    },
    {
     "name": "stdout",
     "output_type": "stream",
     "text": [
      "<class 'numpy.ndarray'>"
     ]
    },
    {
     "name": "stdout",
     "output_type": "stream",
     "text": [
      "\n"
     ]
    },
    {
     "name": "stdout",
     "output_type": "stream",
     "text": [
      "<class 'numpy.ndarray'>"
     ]
    },
    {
     "name": "stdout",
     "output_type": "stream",
     "text": [
      "\n"
     ]
    },
    {
     "name": "stdout",
     "output_type": "stream",
     "text": [
      "<class 'numpy.ndarray'>"
     ]
    },
    {
     "name": "stdout",
     "output_type": "stream",
     "text": [
      "\n"
     ]
    },
    {
     "name": "stdout",
     "output_type": "stream",
     "text": [
      "<class 'numpy.ndarray'>"
     ]
    },
    {
     "name": "stdout",
     "output_type": "stream",
     "text": [
      "\n"
     ]
    },
    {
     "name": "stdout",
     "output_type": "stream",
     "text": [
      "<class 'numpy.ndarray'>"
     ]
    },
    {
     "name": "stdout",
     "output_type": "stream",
     "text": [
      "\n"
     ]
    },
    {
     "name": "stdout",
     "output_type": "stream",
     "text": [
      "<class 'numpy.ndarray'>"
     ]
    },
    {
     "name": "stdout",
     "output_type": "stream",
     "text": [
      "\n"
     ]
    },
    {
     "name": "stdout",
     "output_type": "stream",
     "text": [
      "<class 'numpy.ndarray'>"
     ]
    },
    {
     "name": "stdout",
     "output_type": "stream",
     "text": [
      "\n"
     ]
    },
    {
     "name": "stdout",
     "output_type": "stream",
     "text": [
      "<class 'numpy.ndarray'>"
     ]
    },
    {
     "name": "stdout",
     "output_type": "stream",
     "text": [
      "\n"
     ]
    },
    {
     "name": "stdout",
     "output_type": "stream",
     "text": [
      "<class 'numpy.ndarray'>"
     ]
    },
    {
     "name": "stdout",
     "output_type": "stream",
     "text": [
      "\n"
     ]
    },
    {
     "name": "stdout",
     "output_type": "stream",
     "text": [
      "<class 'numpy.ndarray'>"
     ]
    },
    {
     "name": "stdout",
     "output_type": "stream",
     "text": [
      "\n"
     ]
    },
    {
     "name": "stdout",
     "output_type": "stream",
     "text": [
      "<class 'numpy.ndarray'>"
     ]
    },
    {
     "name": "stdout",
     "output_type": "stream",
     "text": [
      "\n"
     ]
    },
    {
     "name": "stdout",
     "output_type": "stream",
     "text": [
      "<class 'numpy.ndarray'>"
     ]
    },
    {
     "name": "stdout",
     "output_type": "stream",
     "text": [
      "\n"
     ]
    },
    {
     "name": "stdout",
     "output_type": "stream",
     "text": [
      "<class 'numpy.ndarray'>"
     ]
    },
    {
     "name": "stdout",
     "output_type": "stream",
     "text": [
      "\n"
     ]
    },
    {
     "name": "stdout",
     "output_type": "stream",
     "text": [
      "<class 'numpy.ndarray'>"
     ]
    },
    {
     "name": "stdout",
     "output_type": "stream",
     "text": [
      "\n"
     ]
    },
    {
     "name": "stdout",
     "output_type": "stream",
     "text": [
      "<class 'numpy.ndarray'>"
     ]
    },
    {
     "name": "stdout",
     "output_type": "stream",
     "text": [
      "\n"
     ]
    },
    {
     "name": "stdout",
     "output_type": "stream",
     "text": [
      "<class 'numpy.ndarray'>"
     ]
    },
    {
     "name": "stdout",
     "output_type": "stream",
     "text": [
      "\n"
     ]
    },
    {
     "name": "stdout",
     "output_type": "stream",
     "text": [
      "<class 'numpy.ndarray'>"
     ]
    },
    {
     "name": "stdout",
     "output_type": "stream",
     "text": [
      "\n"
     ]
    },
    {
     "name": "stdout",
     "output_type": "stream",
     "text": [
      "<class 'numpy.ndarray'>"
     ]
    },
    {
     "name": "stdout",
     "output_type": "stream",
     "text": [
      "\n"
     ]
    },
    {
     "name": "stdout",
     "output_type": "stream",
     "text": [
      "<class 'numpy.ndarray'>"
     ]
    },
    {
     "name": "stdout",
     "output_type": "stream",
     "text": [
      "\n"
     ]
    },
    {
     "name": "stdout",
     "output_type": "stream",
     "text": [
      "<class 'numpy.ndarray'>"
     ]
    },
    {
     "name": "stdout",
     "output_type": "stream",
     "text": [
      "\n"
     ]
    },
    {
     "name": "stdout",
     "output_type": "stream",
     "text": [
      "<class 'numpy.ndarray'>"
     ]
    },
    {
     "name": "stdout",
     "output_type": "stream",
     "text": [
      "\n"
     ]
    },
    {
     "name": "stdout",
     "output_type": "stream",
     "text": [
      "<class 'numpy.ndarray'>"
     ]
    },
    {
     "name": "stdout",
     "output_type": "stream",
     "text": [
      "\n"
     ]
    },
    {
     "name": "stdout",
     "output_type": "stream",
     "text": [
      "<class 'numpy.ndarray'>"
     ]
    },
    {
     "name": "stdout",
     "output_type": "stream",
     "text": [
      "\n"
     ]
    },
    {
     "name": "stdout",
     "output_type": "stream",
     "text": [
      "<class 'numpy.ndarray'>"
     ]
    },
    {
     "name": "stdout",
     "output_type": "stream",
     "text": [
      "\n"
     ]
    },
    {
     "name": "stdout",
     "output_type": "stream",
     "text": [
      "<class 'numpy.ndarray'>"
     ]
    },
    {
     "name": "stdout",
     "output_type": "stream",
     "text": [
      "\n"
     ]
    },
    {
     "name": "stdout",
     "output_type": "stream",
     "text": [
      "<class 'numpy.ndarray'>"
     ]
    },
    {
     "name": "stdout",
     "output_type": "stream",
     "text": [
      "\n"
     ]
    },
    {
     "name": "stdout",
     "output_type": "stream",
     "text": [
      "<class 'numpy.ndarray'>"
     ]
    },
    {
     "name": "stdout",
     "output_type": "stream",
     "text": [
      "\n"
     ]
    },
    {
     "name": "stdout",
     "output_type": "stream",
     "text": [
      "<class 'numpy.ndarray'>"
     ]
    },
    {
     "name": "stdout",
     "output_type": "stream",
     "text": [
      "\n"
     ]
    },
    {
     "name": "stdout",
     "output_type": "stream",
     "text": [
      "<class 'numpy.ndarray'>"
     ]
    },
    {
     "name": "stdout",
     "output_type": "stream",
     "text": [
      "\n"
     ]
    },
    {
     "name": "stdout",
     "output_type": "stream",
     "text": [
      "<class 'numpy.ndarray'>"
     ]
    },
    {
     "name": "stdout",
     "output_type": "stream",
     "text": [
      "\n"
     ]
    },
    {
     "name": "stdout",
     "output_type": "stream",
     "text": [
      "<class 'numpy.ndarray'>"
     ]
    },
    {
     "name": "stdout",
     "output_type": "stream",
     "text": [
      "\n"
     ]
    },
    {
     "name": "stdout",
     "output_type": "stream",
     "text": [
      "<class 'numpy.ndarray'>"
     ]
    },
    {
     "name": "stdout",
     "output_type": "stream",
     "text": [
      "\n"
     ]
    },
    {
     "name": "stdout",
     "output_type": "stream",
     "text": [
      "<class 'numpy.ndarray'>"
     ]
    },
    {
     "name": "stdout",
     "output_type": "stream",
     "text": [
      "\n"
     ]
    },
    {
     "name": "stdout",
     "output_type": "stream",
     "text": [
      "<class 'numpy.ndarray'>"
     ]
    },
    {
     "name": "stdout",
     "output_type": "stream",
     "text": [
      "\n"
     ]
    },
    {
     "name": "stdout",
     "output_type": "stream",
     "text": [
      "<class 'numpy.ndarray'>"
     ]
    },
    {
     "name": "stdout",
     "output_type": "stream",
     "text": [
      "\n"
     ]
    },
    {
     "name": "stdout",
     "output_type": "stream",
     "text": [
      "<class 'numpy.ndarray'>"
     ]
    },
    {
     "name": "stdout",
     "output_type": "stream",
     "text": [
      "\n"
     ]
    },
    {
     "name": "stdout",
     "output_type": "stream",
     "text": [
      "<class 'numpy.ndarray'>"
     ]
    },
    {
     "name": "stdout",
     "output_type": "stream",
     "text": [
      "\n"
     ]
    },
    {
     "name": "stdout",
     "output_type": "stream",
     "text": [
      "<class 'numpy.ndarray'>"
     ]
    },
    {
     "name": "stdout",
     "output_type": "stream",
     "text": [
      "\n"
     ]
    },
    {
     "name": "stdout",
     "output_type": "stream",
     "text": [
      "<class 'numpy.ndarray'>"
     ]
    },
    {
     "name": "stdout",
     "output_type": "stream",
     "text": [
      "\n"
     ]
    }
   ],
   "source": [
    "grid_M = 10\n",
    "grid_N = 10\n",
    "egrid2 = LinearGrid(M = grid_M, N = grid_N, NFP = eq.NFP)\n",
    "B_sec2 = _compute_magnetic_field_from_Current( kgrid, K_sec, winding_surf, eq, egrid2, basis = \"rpz\" )\n",
    "np.save('B_sec_'+str(grid_M)+'x'+str(grid_M)+'.npy', B_sec2)\n",
    "\n",
    "grid_M = 15\n",
    "grid_N = 15\n",
    "egrid2 = LinearGrid(M = grid_M, N = grid_N, NFP = eq.NFP)\n",
    "B_sec2 = _compute_magnetic_field_from_Current( kgrid, K_sec, winding_surf, eq, egrid2, basis = \"rpz\" )\n",
    "np.save('B_sec_'+str(grid_M)+'x'+str(grid_M)+'.npy', B_sec2)\n",
    "\n",
    "grid_M = 20\n",
    "grid_N = 20\n",
    "egrid2 = LinearGrid(M = grid_M, N = grid_N, NFP = eq.NFP)\n",
    "B_sec2 = _compute_magnetic_field_from_Current( kgrid, K_sec, winding_surf, eq, egrid2, basis = \"rpz\" )\n",
    "np.save('B_sec_'+str(grid_M)+'x'+str(grid_M)+'.npy', B_sec2)\n",
    "\n",
    "grid_M = 25\n",
    "grid_N = 25\n",
    "egrid2 = LinearGrid(M = grid_M, N = grid_N, NFP = eq.NFP)\n",
    "B_sec2 = _compute_magnetic_field_from_Current( kgrid, K_sec, winding_surf, eq, egrid2, basis = \"rpz\" )\n",
    "np.save('B_sec_'+str(grid_M)+'x'+str(grid_M)+'.npy', B_sec2)\n",
    "\n",
    "grid_M = 30\n",
    "grid_N = 30\n",
    "egrid2 = LinearGrid(M = grid_M, N = grid_N, NFP = eq.NFP)\n",
    "B_sec2 = _compute_magnetic_field_from_Current( kgrid, K_sec, winding_surf, eq, egrid2, basis = \"rpz\" )\n",
    "np.save('B_sec_'+str(grid_M)+'x'+str(grid_M)+'.npy', B_sec2)\n",
    "\n",
    "grid_M = 40\n",
    "grid_N = 40\n",
    "egrid2 = LinearGrid(M = grid_M, N = grid_N, NFP = eq.NFP)\n",
    "B_sec2 = _compute_magnetic_field_from_Current( kgrid, K_sec, winding_surf, eq, egrid2, basis = \"rpz\" )\n",
    "np.save('B_sec_'+str(grid_M)+'x'+str(grid_M)+'.npy',B_sec2)\n",
    "\n",
    "grid_M = 50\n",
    "grid_N = 50\n",
    "egrid2 = LinearGrid(M = grid_M, N = grid_N, NFP = eq.NFP)\n",
    "B_sec2 = _compute_magnetic_field_from_Current( kgrid, K_sec, winding_surf, eq, egrid2, basis = \"rpz\" )\n",
    "np.save('B_sec_'+str(grid_M)+'x'+str(grid_M)+'.npy',B_sec2)\n",
    "\n",
    "grid_M = 60\n",
    "grid_N = 60\n",
    "egrid2 = LinearGrid(M = grid_M, N = grid_N, NFP = eq.NFP)\n",
    "B_sec2 = _compute_magnetic_field_from_Current( kgrid, K_sec, winding_surf, eq, egrid2, basis = \"rpz\" )\n",
    "np.save('B_sec_'+str(grid_M)+'x'+str(grid_M)+'.npy',B_sec2)\n",
    "\n",
    "grid_M = 70\n",
    "grid_N = 70\n",
    "egrid2 = LinearGrid(M = grid_M, N = grid_N, NFP = eq.NFP)\n",
    "B_sec2 = _compute_magnetic_field_from_Current( kgrid, K_sec, winding_surf, eq, egrid2, basis = \"rpz\" )\n",
    "np.save('B_sec_'+str(grid_M)+'x'+str(grid_M)+'.npy',B_sec2)\n",
    "\n",
    "grid_M = 80\n",
    "grid_N = 80\n",
    "egrid2 = LinearGrid(M = grid_M, N = grid_N, NFP = eq.NFP)\n",
    "B_sec2 = _compute_magnetic_field_from_Current( kgrid, K_sec, winding_surf, eq, egrid2, basis = \"rpz\" )\n",
    "np.save('B_sec_'+str(grid_M)+'x'+str(grid_M)+'.npy',B_sec2)\n",
    "\n",
    "grid_M = 100\n",
    "grid_N = 100\n",
    "egrid2 = LinearGrid(M = grid_M, N = grid_N, NFP = eq.NFP)\n",
    "B_sec2 = _compute_magnetic_field_from_Current( kgrid, K_sec, winding_surf, eq, egrid2, basis = \"rpz\" )\n",
    "np.save('B_sec_'+str(grid_M)+'x'+str(grid_M)+'.npy',B_sec2)"
   ]
  }
 ],
 "metadata": {
  "kernelspec": {
   "display_name": "Python 3 (ipykernel)",
   "language": "python",
   "name": "python3"
  },
  "language_info": {
   "codemirror_mode": {
    "name": "ipython",
    "version": 3
   },
   "file_extension": ".py",
   "mimetype": "text/x-python",
   "name": "python",
   "nbconvert_exporter": "python",
   "pygments_lexer": "ipython3",
   "version": "3.12.4"
  }
 },
 "nbformat": 4,
 "nbformat_minor": 5
}
