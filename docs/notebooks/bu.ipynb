{
 "cells": [
  {
   "cell_type": "code",
   "execution_count": 1,
   "id": "c3bfcfee",
   "metadata": {
    "execution": {
     "iopub.execute_input": "2024-08-28T15:31:57.293505Z",
     "iopub.status.busy": "2024-08-28T15:31:57.293364Z",
     "iopub.status.idle": "2024-08-28T15:31:57.555885Z",
     "shell.execute_reply": "2024-08-28T15:31:57.555469Z"
    }
   },
   "outputs": [
    {
     "name": "stderr",
     "output_type": "stream",
     "text": [
      "/home/fcastro/DESC/desc/__init__.py:98: UserWarning: No GPU found, falling back to CPU\n",
      "  warnings.warn(colored(\"No GPU found, falling back to CPU\", \"yellow\"))\n"
     ]
    }
   ],
   "source": [
    "from desc import set_device\n",
    "set_device(\"gpu\")"
   ]
  },
  {
   "cell_type": "code",
   "execution_count": 2,
   "id": "effb3c47",
   "metadata": {
    "execution": {
     "iopub.execute_input": "2024-08-28T15:31:57.558463Z",
     "iopub.status.busy": "2024-08-28T15:31:57.558307Z",
     "iopub.status.idle": "2024-08-28T15:32:00.890524Z",
     "shell.execute_reply": "2024-08-28T15:32:00.890106Z"
    }
   },
   "outputs": [
    {
     "name": "stdout",
     "output_type": "stream",
     "text": [
      "DESC version 0.11.1+938.gf7a2fb7bc.dirty,using JAX backend, jax version=0.4.14, jaxlib version=0.4.14, dtype=float64\n",
      "Using device: CPU, with 102.66 GB available memory\n"
     ]
    }
   ],
   "source": [
    "import numpy as np\n",
    "import os\n",
    "# os.environ[\"JAX_LOG_COMPILES\"] = \"True\"\n",
    "from scipy.io import netcdf_file\n",
    "import copy\n",
    "import matplotlib\n",
    "import matplotlib.pyplot as plt\n",
    "import scipy\n",
    "from scipy.constants import mu_0\n",
    "import sys\n",
    "import functools\n",
    "import pickle\n",
    "\n",
    "import jax\n",
    "import jax.numpy as jnp\n",
    "from jax import jit, jacfwd\n",
    "\n",
    "from netCDF4 import Dataset\n",
    "import h5py\n",
    "\n",
    "from desc.backend import put, fori_loop, jnp, sign\n",
    "\n",
    "from desc.basis import FourierZernikeBasis, DoubleFourierSeries, FourierSeries\n",
    "from desc.equilibrium import EquilibriaFamily, Equilibrium\n",
    "from desc.grid import ConcentricGrid, LinearGrid, Grid, QuadratureGrid\n",
    "from desc.io import InputReader, load\n",
    "from desc.objectives import *\n",
    "from desc.objectives.objective_funs import _Objective\n",
    "from desc.plotting import plot_1d, plot_2d, plot_3d, plot_section, plot_surfaces, plot_comparison\n",
    "\n",
    "from desc.plotting import *\n",
    "\n",
    "from desc.transform import Transform\n",
    "from desc.vmec import VMECIO\n",
    "from desc.derivatives import Derivative\n",
    "from desc.geometry import FourierRZToroidalSurface\n",
    "from desc.profiles import SplineProfile, PowerSeriesProfile\n",
    "\n",
    "from desc.magnetic_fields import ( SplineMagneticField, \n",
    "                                  #biot_savart_general, \n",
    "                                  FourierCurrentPotentialField, ToroidalMagneticField,\n",
    "                                  field_line_integrate)\n",
    "\n",
    "import desc.examples\n",
    "\n",
    "from desc.backend import fori_loop, jit, jnp, odeint, sign\n",
    "from desc.compute import rpz2xyz, rpz2xyz_vec, xyz2rpz, xyz2rpz_vec\n",
    "from desc.coils import *\n",
    "\n",
    "from desc.utils import Timer, copy_coeffs, errorif, setdefault, svd_inv_null, warnif\n",
    "from desc.utils import flatten_list\n",
    "from desc.compute.utils import cross\n",
    "from desc.compute.utils import dot\n",
    "\n",
    "from desc.optimize import lsqtr, lsq_auglag\n",
    "\n",
    "from scipy.optimize import NonlinearConstraint \n",
    "\n",
    "from desc.magnetic_fields import ( SplineMagneticField, \n",
    "                                  #biot_savart_general, \n",
    "                                  FourierCurrentPotentialField, ToroidalMagneticField,\n",
    "                                  field_line_integrate)\n",
    "\n",
    "import time\n",
    "\n",
    "import numpy as np\n",
    "from numpy.linalg import eig\n",
    "\n",
    "from scipy.linalg import null_space\n",
    "from numpy import ndarray\n",
    "\n",
    "# Import my own functions\n",
    "from desc.fns_simp import (data_eval, _compute_magnetic_field_from_Current,\n",
    "                           plot_figure,\n",
    "                           plot_figure2,\n",
    "                           plot_xy,\n",
    "                           surf_int)\n",
    "\n",
    "from desc.finite_diff_spe import first_derivative_t,first_derivative_z\n",
    "                              #second_derivative_t,second_derivative_z,second_derivative_tz\n",
    "#                             )\n",
    "\n",
    "from desc.derivatives import Derivative\n",
    "#from phi2d_eval import phi_sv_eval\n",
    "#from desc.contour_calc import contour_calc_c\n",
    "\n",
    "#from funcs import eqn_residual"
   ]
  },
  {
   "cell_type": "code",
   "execution_count": 3,
   "id": "7f5f7c17",
   "metadata": {},
   "outputs": [],
   "source": [
    "from desc.continuation import solve_continuation_automatic\n",
    "\n",
    "from desc.objectives import (\n",
    "    #AspectRatio,\n",
    "    #FixBoundaryR,\n",
    "    #FixBoundaryZ,\n",
    "    #FixCurrent,\n",
    "    #FixPressure,\n",
    "    #FixPsi,\n",
    "    #ForceBalance,\n",
    "    ObjectiveFunction,\n",
    "    #QuasisymmetryTwoTerm,\n",
    "    #RotationalTransform,\n",
    "    FixParameters, \n",
    "    QuadraticFlux, \n",
    "    SurfaceCurrentRegularization, \n",
    "    bVariation,\n",
    "    PlasmaVesselDistance,\n",
    "    PlasmaVesselDistanceMod\n",
    ")\n",
    "from desc.optimize import Optimizer"
   ]
  },
  {
   "cell_type": "code",
   "execution_count": 4,
   "id": "3969b398",
   "metadata": {
    "execution": {
     "iopub.execute_input": "2024-08-28T15:32:00.893463Z",
     "iopub.status.busy": "2024-08-28T15:32:00.893247Z",
     "iopub.status.idle": "2024-08-28T15:32:24.921842Z",
     "shell.execute_reply": "2024-08-28T15:32:24.921391Z"
    }
   },
   "outputs": [],
   "source": [
    "# Plasma surfaces\n",
    "eqname_QA = \"/home/fcastro/LMStell/regcoil/rogerio/input.QA_final_output.h5\" #vacuum equilibrium\n",
    "eq_QA = desc.io.load(eqname_QA)[4]\n",
    "\n",
    "eqname_QH = \"/home/fcastro/LMStell/regcoil/rogerio/input.QH_final_output.h5\" #vacuum equilibrium\n",
    "eq_QH = desc.io.load(eqname_QH)[4]\n",
    "\n",
    "eq = eq_QH\n",
    "\n",
    "R0 = 1.0\n",
    "a = 0.3\n",
    "\n",
    "surf = FourierRZToroidalSurface(R_lmn=[R0,a], \n",
    "                                Z_lmn=[-a],\n",
    "                                modes_R=np.array([[0,0],[1,0]]),\n",
    "                                modes_Z=np.array([[-1,0]]),\n",
    "                                NFP=eq.NFP)\n",
    "surf.change_resolution(N=eq.N)\n",
    "\n",
    "eq.axis.R_n = eq_QA.axis.R_n + 0.5*(eq_QH.axis.R_n - eq_QA.axis.R_n)\n",
    "eq.axis.Z_n = eq_QA.axis.Z_n + 0.5*(eq_QH.axis.Z_n - eq_QA.axis.Z_n)\n",
    "\n",
    "######\n",
    "for coef, mode in zip(eq.axis.R_n, eq.axis.R_basis.modes):\n",
    "    n = mode[-1]\n",
    "    surf.R_lmn=surf.R_lmn.at[surf.R_basis.get_idx(M=0,N=n)].set( coef)\n",
    "for coef, mode in zip(eq.axis.Z_n, eq.axis.Z_basis.modes):\n",
    "    n = mode[-1]\n",
    "    surf.Z_lmn=surf.Z_lmn.at[surf.Z_basis.get_idx(M=0,N=n)].set( coef)\n",
    "    \n",
    "###\n",
    "#surf_winding = surf\n",
    "\n",
    "# Plot both surfaces\n",
    "#winding_surf = Equilibrium(surface = surf_winding) # Winding surface\n",
    "#plot_comparison([winding_surf,eq],labels=[\"surf\",\"eq\"],theta=0,rho=np.array(1.0))"
   ]
  },
  {
   "cell_type": "code",
   "execution_count": 5,
   "id": "4d835d98",
   "metadata": {
    "execution": {
     "iopub.execute_input": "2024-08-28T15:32:31.472183Z",
     "iopub.status.busy": "2024-08-28T15:32:31.472037Z",
     "iopub.status.idle": "2024-08-28T15:32:38.451011Z",
     "shell.execute_reply": "2024-08-28T15:32:38.450594Z"
    },
    "scrolled": true
   },
   "outputs": [],
   "source": [
    "basis_M = 12\n",
    "basis_N = 12\n",
    "\n",
    "# Find surface current K_s\n",
    "surface_current_field = FourierCurrentPotentialField.from_surface(surf,\n",
    "                                                                  M_Phi=basis_M,\n",
    "                                                                  N_Phi=basis_N,\n",
    "                                                                  #sym_Phi = True\n",
    "                                                                 )\n",
    "\n",
    "\n",
    "surface_current_field.G = eq.compute(\"G\", grid=LinearGrid(rho=np.array(1.0)))[\"G\"][0]#np.load('G.npy')\n",
    "surface_current_field.I = eq.compute(\"I\", grid=LinearGrid(rho=np.array(1.0)))[\"I\"][0]\n",
    "#surface_current_field.change_Phi_resolution(M=basis_M, N=basis_N)\n",
    "#surface_current_field.Phi_mn = np.load('phi_mn.npy')"
   ]
  },
  {
   "cell_type": "code",
   "execution_count": 6,
   "id": "52d88f59",
   "metadata": {},
   "outputs": [],
   "source": [
    "# solve for surf current\n",
    "Megrid = 15\n",
    "Negrid = 15\n",
    "Msgrid = 15\n",
    "Nsgrid = 15\n",
    "\n",
    "egrid = LinearGrid(M=Megrid,N=Negrid,NFP=eq.NFP,sym=False)\n",
    "sgrid = LinearGrid(M=Msgrid,N=Nsgrid,NFP=eq.NFP,sym=False) "
   ]
  },
  {
   "cell_type": "code",
   "execution_count": 7,
   "id": "0d6a8cd9",
   "metadata": {},
   "outputs": [],
   "source": [
    "test = surface_current_field.compute([\"b_t\"],grid = sgrid)[\"b_t\"]"
   ]
  },
  {
   "cell_type": "code",
   "execution_count": 8,
   "id": "daa3cbdf",
   "metadata": {},
   "outputs": [],
   "source": [
    "test = surface_current_field.compute([\"b_z\"],grid = sgrid)[\"b_z\"]"
   ]
  },
  {
   "cell_type": "code",
   "execution_count": 9,
   "id": "db8ad429",
   "metadata": {},
   "outputs": [
    {
     "data": {
      "text/plain": [
       "1.065272656253003"
      ]
     },
     "execution_count": 9,
     "metadata": {},
     "output_type": "execute_result"
    }
   ],
   "source": [
    "# Check parameters before iterations\n",
    "surface_current_field.G"
   ]
  },
  {
   "cell_type": "code",
   "execution_count": 10,
   "id": "4d407ddb",
   "metadata": {},
   "outputs": [
    {
     "data": {
      "text/plain": [
       "7.074510494094354e-18"
      ]
     },
     "execution_count": 10,
     "metadata": {},
     "output_type": "execute_result"
    }
   ],
   "source": [
    "surface_current_field.I"
   ]
  },
  {
   "cell_type": "code",
   "execution_count": 11,
   "id": "98e1afa2",
   "metadata": {},
   "outputs": [],
   "source": [
    "#surface_current_field.Phi_mn"
   ]
  },
  {
   "cell_type": "code",
   "execution_count": 12,
   "id": "c49dbe16",
   "metadata": {},
   "outputs": [
    {
     "data": {
      "text/plain": [
       "Array([ 0.00000000e+00,  0.00000000e+00,  0.00000000e+00,  0.00000000e+00,\n",
       "        0.00000000e+00,  9.97526151e-01,  3.00000000e-01,  9.24016545e-02,\n",
       "        0.00000000e+00,  1.38862261e-03,  0.00000000e+00, -2.67151718e-04,\n",
       "        0.00000000e+00, -3.92485261e-07,  0.00000000e+00, -3.61965058e-06,\n",
       "        0.00000000e+00], dtype=float64)"
      ]
     },
     "execution_count": 12,
     "metadata": {},
     "output_type": "execute_result"
    }
   ],
   "source": [
    "surface_current_field.R_lmn"
   ]
  },
  {
   "cell_type": "code",
   "execution_count": 13,
   "id": "6c86459f",
   "metadata": {
    "scrolled": true
   },
   "outputs": [
    {
     "data": {
      "text/plain": [
       "Array([ 3.23529818e-06,  0.00000000e+00, -1.18013927e-06,  0.00000000e+00,\n",
       "        1.93635442e-04,  0.00000000e+00, -1.54306898e-03,  0.00000000e+00,\n",
       "       -4.22559747e-02,  0.00000000e+00, -3.00000000e-01,  0.00000000e+00,\n",
       "        0.00000000e+00,  0.00000000e+00,  0.00000000e+00,  0.00000000e+00],      dtype=float64)"
      ]
     },
     "execution_count": 13,
     "metadata": {},
     "output_type": "execute_result"
    }
   ],
   "source": [
    "surface_current_field.Z_lmn"
   ]
  },
  {
   "cell_type": "code",
   "execution_count": 14,
   "id": "1d338fb5",
   "metadata": {},
   "outputs": [],
   "source": [
    "#%pdb"
   ]
  },
  {
   "cell_type": "code",
   "execution_count": 15,
   "id": "5bf06495",
   "metadata": {},
   "outputs": [],
   "source": [
    "# form the constraints for the problem, we only want the Phi_mn to vary so we will fix all other parameters of FourierCurrentPotentialField\n",
    "constraints = (  # now fix G only\n",
    "    FixParameters(\n",
    "        surface_current_field,\n",
    "        params={\"G\": True},\n",
    "        #params={\"I\": False, \"G\": True, \"R_lmn\": False, \"Z_lmn\": False},\n",
    "        #params={\"I\": True, \"G\": True, \"R_lmn\": True, \"Z_lmn\": True},\n",
    "    ),\n",
    "    #FixParameters(eq,)\n",
    ")\n",
    "\n",
    "# Bn^2 minimization\n",
    "obj_flux = QuadraticFlux(\n",
    "    field=surface_current_field,  # the field to be optimized\n",
    "    eq=eq,  # the equilibrium upon which the quadratic flux is being evaluated\n",
    "    eval_grid=egrid,\n",
    "    field_grid=sgrid,\n",
    "    vacuum=True,\n",
    "    # this last flag makes the returned cost at each grid point be\n",
    "    # Bn * sqrt(|e_theta x e_zeta|), which then yields the\n",
    "    # correct form of least squares problem to be\n",
    "    # equivalent to the REGCOIl form\n",
    "    #sqrt_area_weighting=True,\n",
    ")\n",
    "\n",
    "# Sigma regularization\n",
    "obj_sigma = bVariation(\n",
    "    surface_current_field=surface_current_field,\n",
    "    source_grid=sgrid,\n",
    "    weight = 1e1,#np.sqrt(data[\"lambda_regularization\"][8]),\n",
    ")  # we will set it to the sqrt of optimal weight from above,\n",
    "# since DESC will square the weight when making the overall cost fxn\n",
    "\n",
    "# Current regularization\n",
    "obj_regularization = SurfaceCurrentRegularization(\n",
    "    surface_current_field=surface_current_field,\n",
    "    source_grid=sgrid,\n",
    "    weight = 1e-13,#np.sqrt(data[\"lambda_regularization\"][8]),\n",
    ")  # we will set it to the sqrt of optimal weight from above,\n",
    "# since DESC will square the weight when making the overall cost fxn\n",
    "\n",
    "# Distance target\n",
    "min_distance = 0.1\n",
    "max_distance = 0.2\n",
    "\n",
    "obj_dist = PlasmaVesselDistance(\n",
    "    eq=eq,\n",
    "    surface=surface_current_field,\n",
    "    #surface_fixed=False,\n",
    "    bounds=(min_distance,max_distance),\n",
    "    plasma_grid=egrid,\n",
    "    surface_grid=sgrid,\n",
    "    use_softmin=True,\n",
    "    alpha=1e3,\n",
    "    weight=1e2\n",
    ")\n",
    "\n",
    "obj_distMod = PlasmaVesselDistanceMod(\n",
    "    eq=eq,\n",
    "    surface=surface_current_field,\n",
    "    #surface_fixed=False,\n",
    "    bounds=(min_distance,max_distance),\n",
    "    plasma_grid=egrid,\n",
    "    surface_grid=sgrid,\n",
    "    use_softmin=True,\n",
    "    alpha=1e3,\n",
    "    weight=1e2\n",
    ")\n",
    "\n",
    "objs = (\n",
    "#    obj_dist,\n",
    "    obj_distMod,\n",
    ")\n",
    "\n",
    "objs += (\n",
    "    obj_flux,\n",
    "    obj_sigma,\n",
    "    #obj_regularization, # Technically a smooth sigma is all we need, so current regularization is redundant\n",
    ")\n",
    "\n",
    "objective = ObjectiveFunction(\n",
    "    objs,\n",
    "    #verbose=0,\n",
    "    deriv_mode=\"looped\"\n",
    ")\n",
    "\n",
    "#objective = ObjectiveFunction((obj_flux, obj_regularization, \n",
    "#                               obj_dist\n",
    "#                              )\n",
    "#                             )"
   ]
  },
  {
   "cell_type": "code",
   "execution_count": 16,
   "id": "bcd6d8d5",
   "metadata": {},
   "outputs": [],
   "source": [
    "optimizer = Optimizer(\"lsq-exact\")"
   ]
  },
  {
   "cell_type": "code",
   "execution_count": 17,
   "id": "052b804c",
   "metadata": {},
   "outputs": [],
   "source": [
    "test1 = jnp.asarray([(jnp.sqrt(test.shape[0])).astype(int)])"
   ]
  },
  {
   "cell_type": "code",
   "execution_count": 18,
   "id": "159ffe76",
   "metadata": {},
   "outputs": [],
   "source": [
    "test2 = jnp.asarray([((jnp.sqrt(test.shape[0])).astype(int))])"
   ]
  },
  {
   "cell_type": "code",
   "execution_count": 19,
   "id": "99d9fbcd",
   "metadata": {},
   "outputs": [],
   "source": [
    "test2 = (jnp.sqrt(test.shape[0])).astype(int)"
   ]
  },
  {
   "cell_type": "code",
   "execution_count": null,
   "id": "9c3dec98",
   "metadata": {
    "scrolled": false
   },
   "outputs": [
    {
     "name": "stdout",
     "output_type": "stream",
     "text": [
      "Building objective: plasma-vessel distance\n",
      "Precomputing transforms\n",
      "Building objective: Quadratic flux\n",
      "Precomputing transforms\n",
      "Building objective: surface-current-regularization\n",
      "Precomputing transforms\n",
      "Building objective: Fixed parameters\n",
      "Number of parameters: 346\n",
      "Number of objectives: 2883\n",
      "Starting optimization\n",
      "Using method: lsq-exact\n"
     ]
    }
   ],
   "source": [
    "surface_current_field, result = optimizer.optimize(\n",
    "    surface_current_field,\n",
    "    objective,\n",
    "    constraints,\n",
    "    verbose=1,\n",
    "    ftol=0,\n",
    "    gtol=0,\n",
    "    xtol=1e-16,\n",
    "    # because it is a linear least-squares problem, it is exactly solvable in 1 iteration\n",
    "    maxiter=1,\n",
    "    # we must make sure that the trust region of the optimization algorithm is\n",
    "    # large enough to allow the entire problem to be solved in one step, so set the\n",
    "    # trust radius to be infinite\n",
    "    options={\n",
    "        \"initial_trust_radius\": np.inf,\n",
    "        # we also will use the Cholesky factorization to solve\n",
    "        # since the matrices involved are positive-definite\n",
    "        \"tr_method\": \"cho\",\n",
    "    },\n",
    ")"
   ]
  },
  {
   "cell_type": "code",
   "execution_count": null,
   "id": "d02df97b",
   "metadata": {},
   "outputs": [],
   "source": [
    ":"
   ]
  },
  {
   "cell_type": "code",
   "execution_count": null,
   "id": "70594c5a",
   "metadata": {},
   "outputs": [],
   "source": [
    "(surface_current_field, eq), result = optimizer.optimize(\n",
    "    (surface_current_field, eq),\n",
    "     objective,\n",
    "    constraints,\n",
    "    verbose=1,\n",
    "    ftol=0,\n",
    "    gtol=0,\n",
    "    xtol=1e-16,\n",
    "    # because it is a linear least-squares problem, it is exactly solvable in 1 iteration\n",
    "    maxiter=1,\n",
    "    # we must make sure that the trust region of the optimization algorithm is\n",
    "    # large enough to allow the entire problem to be solved in one step, so set the\n",
    "    # trust radius to be infinite\n",
    "    options={\n",
    "        \"initial_trust_radius\": np.inf,\n",
    "        # we also will use the Cholesky factorization to solve\n",
    "        # since the matrices involved are positive-definite\n",
    "        \"tr_method\": \"cho\",\n",
    "    },\n",
    ")"
   ]
  },
  {
   "cell_type": "code",
   "execution_count": null,
   "id": "a03c0f6d",
   "metadata": {},
   "outputs": [],
   "source": [
    "surface_current_field.G"
   ]
  },
  {
   "cell_type": "code",
   "execution_count": null,
   "id": "240b5e13",
   "metadata": {},
   "outputs": [],
   "source": [
    "surface_current_field.I"
   ]
  },
  {
   "cell_type": "code",
   "execution_count": null,
   "id": "77981951",
   "metadata": {},
   "outputs": [],
   "source": [
    "surface_current_field.Phi_mn"
   ]
  },
  {
   "cell_type": "code",
   "execution_count": null,
   "id": "f800b1c0",
   "metadata": {},
   "outputs": [],
   "source": [
    "surface_current_field.R_lmn"
   ]
  },
  {
   "cell_type": "code",
   "execution_count": null,
   "id": "dafbd46e",
   "metadata": {},
   "outputs": [],
   "source": [
    "surface_current_field.Z_lmn"
   ]
  }
 ],
 "metadata": {
  "kernelspec": {
   "display_name": "desc-env3 [~/.conda/envs/desc-env3/]",
   "language": "python",
   "name": "conda_desc-env3"
  },
  "language_info": {
   "codemirror_mode": {
    "name": "ipython",
    "version": 3
   },
   "file_extension": ".py",
   "mimetype": "text/x-python",
   "name": "python",
   "nbconvert_exporter": "python",
   "pygments_lexer": "ipython3",
   "version": "3.11.7"
  }
 },
 "nbformat": 4,
 "nbformat_minor": 5
}
