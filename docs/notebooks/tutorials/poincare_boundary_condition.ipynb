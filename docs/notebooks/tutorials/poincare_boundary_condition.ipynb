{
 "cells": [
  {
   "cell_type": "markdown",
   "metadata": {},
   "source": [
    "# Poincare Boundary Condition"
   ]
  },
  {
   "cell_type": "markdown",
   "metadata": {},
   "source": [
    "Most of the tutorials use last closed flux surface (LCFS) as the boundary condition for 3D equilibrium. This tutorial will cover another way to define boundary condition using DESC."
   ]
  },
  {
   "cell_type": "code",
   "execution_count": 1,
   "metadata": {},
   "outputs": [],
   "source": [
    "import sys\n",
    "import os\n",
    "\n",
    "sys.path.insert(0, os.path.abspath(\".\"))\n",
    "sys.path.append(os.path.abspath(\"../../../\"))"
   ]
  },
  {
   "cell_type": "markdown",
   "metadata": {},
   "source": [
    "Import required stuff."
   ]
  },
  {
   "cell_type": "code",
   "execution_count": 2,
   "metadata": {},
   "outputs": [
    {
     "name": "stdout",
     "output_type": "stream",
     "text": [
      "DESC version 0.10.4+217.g631e102e.dirty,using JAX backend, jax version=0.4.14, jaxlib version=0.4.14, dtype=float64\n",
      "Using device: CPU, with 7.74 GB available memory\n"
     ]
    }
   ],
   "source": [
    "%matplotlib inline\n",
    "import numpy as np\n",
    "\n",
    "from desc.objectives import (\n",
    "    ObjectiveFunction,\n",
    "    ForceBalance,\n",
    "    get_fixed_xsection_constraints,\n",
    "    get_fixed_boundary_constraints,\n",
    ")\n",
    "from desc.examples import get\n",
    "from desc.optimize import Optimizer\n",
    "from desc.plotting import plot_comparison\n",
    "from desc.geometry import PoincareSurface\n",
    "from desc.equilibrium import Equilibrium"
   ]
  },
  {
   "cell_type": "markdown",
   "metadata": {},
   "source": [
    "### Solving Poincare Boundary Condition from an existing equilibrium\n",
    "\n",
    "To first show that Poincare BC gives the same result with LCFS, let's set our optimization problem by taking the $\\zeta$=0 Poincare cross-section of Heliotron equilibrium."
   ]
  },
  {
   "cell_type": "code",
   "execution_count": null,
   "metadata": {},
   "outputs": [],
   "source": [
    "eq = get(\"HELIOTRON\")\n",
    "zeta = 0\n",
    "eq_poin = eq.set_poincare_equilibrium(zeta=zeta)\n",
    "plot_comparison(eqs=[eq,eq_poin],labels=['LCFS',f'Poincare BC Initial Guess']);"
   ]
  },
  {
   "cell_type": "markdown",
   "metadata": {},
   "source": [
    "We can also choose $\\zeta = \\pi$ as the boundary condition and set it from an existing equilibrium."
   ]
  },
  {
   "cell_type": "code",
   "execution_count": null,
   "metadata": {},
   "outputs": [],
   "source": [
    "eq = get(\"HELIOTRON\")\n",
    "eq_poin = eq.set_poincare_equilibrium()\n",
    "\n",
    "# plot_comparison(eqs=[eq,eq_poin],labels=['LCFS','Poincare BC Initial Guess']);"
   ]
  },
  {
   "cell_type": "code",
   "execution_count": 5,
   "metadata": {},
   "outputs": [
    {
     "name": "stdout",
     "output_type": "stream",
     "text": [
      "ZernikePolynomial at 0x7f7fb8f27b90 (L=24, M=12, N=0, NFP=1, sym=sin, spectral_indexing=fringe)\n",
      "FourierZernikeBasis at 0x7f7fb865b650 (L=24, M=12, N=3, NFP=19, sym=cos, spectral_indexing=fringe)\n",
      "FourierZernikeBasis at 0x7f7fbab9d950 (L=24, M=12, N=3, NFP=19, sym=cos, spectral_indexing=fringe)\n"
     ]
    },
    {
     "name": "stdout",
     "output_type": "stream",
     "text": [
      "[10.54318873  0.          0.          0.        ]\n",
      "[1.04335180e+01 1.08086067e-01 1.56125363e-03 2.33675127e-05]\n"
     ]
    }
   ],
   "source": [
    "print(eq.get_poincare_xsection_at().L_basis)\n",
    "# print(eq.Z_basis.L)\n",
    "print(eq_poin.R_basis)\n",
    "print(eq.R_basis)\n",
    "# print(eq.xsection.isgiven)\n",
    "# print(eq_poin.axis.R_n)\n",
    "# print(eq_poin.get_axis().R_n)\n",
    "# print(eq.get_axis().R_n)\n",
    "# eq.print_summary()\n",
    "# eq_poin.print_summary()"
   ]
  },
  {
   "cell_type": "code",
   "execution_count": 10,
   "metadata": {},
   "outputs": [
    {
     "name": "stdout",
     "output_type": "stream",
     "text": [
      "[10.54318873  0.          0.          0.        ]\n",
      "[10.54318873  0.          0.          0.        ]\n",
      "[0. 0. 0. 0.]\n"
     ]
    }
   ],
   "source": [
    "eq = eq_poin\n",
    "ns = eq.axis.R_basis.modes[:, 2]\n",
    "dim_f = ns.size\n",
    "A = np.zeros((dim_f, eq.R_basis.num_modes))\n",
    "\n",
    "for i, (l, m, n) in enumerate(eq.R_basis.modes):\n",
    "    if m != 0:\n",
    "        continue\n",
    "    if (l // 2) % 2 == 0:\n",
    "        j = np.argwhere(n == ns)\n",
    "        A[j, i] = 1\n",
    "    else:\n",
    "        j = np.argwhere(n == ns)\n",
    "        A[j, i] = -1\n",
    "dot = np.dot(A, eq.R_lmn)\n",
    "Ra_n = eq.Ra_n\n",
    "print(dot)\n",
    "print(Ra_n)\n",
    "print(dot-Ra_n)"
   ]
  },
  {
   "cell_type": "markdown",
   "metadata": {},
   "source": [
    "Now, we can solve the newly created 'eq_poin' as usual. The code will apply some checks to see if you are trying to solve a Poincare BC problem or LCFS. Then, add the required constraints and objectives before sending it to the optimizer."
   ]
  },
  {
   "cell_type": "code",
   "execution_count": 3,
   "metadata": {},
   "outputs": [
    {
     "name": "stdout",
     "output_type": "stream",
     "text": [
      "Building objective: force\n",
      "Precomputing transforms\n",
      "Timer: Precomputing transforms = 2.35 sec\n",
      "Timer: Objective build = 4.97 sec\n"
     ]
    },
    {
     "ename": "AssertionError",
     "evalue": "\nNot equal to tolerance rtol=5e-14, atol=2e-14\nIncompatible constraints detected, cannot satisfy constraint <desc.objectives.linear_objectives.AxisRSelfConsistency object at 0x7f7fb9f605d0>\nMismatched elements: 1 / 4 (25%)\nMax absolute difference: 2.08721929e-14\nMax relative difference: inf\n x: array([-2.664535e-15, -3.108624e-15,  1.554312e-14, -2.087219e-14])\n y: array([0, 0, 0, 0])",
     "output_type": "error",
     "traceback": [
      "\u001b[0;31m---------------------------------------------------------------------------\u001b[0m",
      "\u001b[0;31mAssertionError\u001b[0m                            Traceback (most recent call last)",
      "Cell \u001b[0;32mIn[3], line 8\u001b[0m\n\u001b[1;32m      5\u001b[0m objective \u001b[38;5;241m=\u001b[39m ObjectiveFunction(ForceBalance(eq_poin))\n\u001b[1;32m      6\u001b[0m optimizer \u001b[38;5;241m=\u001b[39m Optimizer(\u001b[38;5;124m\"\u001b[39m\u001b[38;5;124mlsq-exact\u001b[39m\u001b[38;5;124m\"\u001b[39m)\n\u001b[0;32m----> 8\u001b[0m \u001b[43meq_poin\u001b[49m\u001b[38;5;241;43m.\u001b[39;49m\u001b[43msolve\u001b[49m\u001b[43m(\u001b[49m\u001b[43mverbose\u001b[49m\u001b[38;5;241;43m=\u001b[39;49m\u001b[38;5;241;43m3\u001b[39;49m\u001b[43m,\u001b[49m\u001b[43m \u001b[49m\u001b[43mftol\u001b[49m\u001b[38;5;241;43m=\u001b[39;49m\u001b[38;5;241;43m0\u001b[39;49m\u001b[43m,\u001b[49m\u001b[43m \u001b[49m\u001b[43mobjective\u001b[49m\u001b[38;5;241;43m=\u001b[39;49m\u001b[43mobjective\u001b[49m\u001b[43m,\u001b[49m\u001b[43m \u001b[49m\u001b[43mconstraints\u001b[49m\u001b[38;5;241;43m=\u001b[39;49m\u001b[43mconstraints\u001b[49m\u001b[43m,\u001b[49m\u001b[43m \u001b[49m\u001b[43moptimizer\u001b[49m\u001b[38;5;241;43m=\u001b[39;49m\u001b[43moptimizer\u001b[49m\u001b[43m,\u001b[49m\u001b[43mmaxiter\u001b[49m\u001b[38;5;241;43m=\u001b[39;49m\u001b[38;5;241;43m1\u001b[39;49m\u001b[43m,\u001b[49m\u001b[43m \u001b[49m\u001b[43mxtol\u001b[49m\u001b[38;5;241;43m=\u001b[39;49m\u001b[38;5;241;43m0\u001b[39;49m\u001b[43m)\u001b[49m\n\u001b[1;32m      9\u001b[0m plot_comparison(eqs\u001b[38;5;241m=\u001b[39m[eq,eq_poin],labels\u001b[38;5;241m=\u001b[39m[\u001b[38;5;124m'\u001b[39m\u001b[38;5;124mLCFS\u001b[39m\u001b[38;5;124m'\u001b[39m,\u001b[38;5;124mf\u001b[39m\u001b[38;5;124m'\u001b[39m\u001b[38;5;124mPoincare BC\u001b[39m\u001b[38;5;124m'\u001b[39m]);\n",
      "File \u001b[0;32m~/Codes/DESC/desc/equilibrium/equilibrium.py:2005\u001b[0m, in \u001b[0;36mEquilibrium.solve\u001b[0;34m(self, objective, constraints, optimizer, ftol, xtol, gtol, maxiter, x_scale, options, verbose, copy)\u001b[0m\n\u001b[1;32m   1993\u001b[0m \u001b[38;5;28;01mif\u001b[39;00m \u001b[38;5;28mself\u001b[39m\u001b[38;5;241m.\u001b[39mN \u001b[38;5;241m>\u001b[39m \u001b[38;5;28mself\u001b[39m\u001b[38;5;241m.\u001b[39mN_grid \u001b[38;5;129;01mor\u001b[39;00m \u001b[38;5;28mself\u001b[39m\u001b[38;5;241m.\u001b[39mM \u001b[38;5;241m>\u001b[39m \u001b[38;5;28mself\u001b[39m\u001b[38;5;241m.\u001b[39mM_grid \u001b[38;5;129;01mor\u001b[39;00m \u001b[38;5;28mself\u001b[39m\u001b[38;5;241m.\u001b[39mL \u001b[38;5;241m>\u001b[39m \u001b[38;5;28mself\u001b[39m\u001b[38;5;241m.\u001b[39mL_grid:\n\u001b[1;32m   1994\u001b[0m     warnings\u001b[38;5;241m.\u001b[39mwarn(\n\u001b[1;32m   1995\u001b[0m         colored(\n\u001b[1;32m   1996\u001b[0m             \u001b[38;5;124m\"\u001b[39m\u001b[38;5;124mEquilibrium has one or more spectral resolutions \u001b[39m\u001b[38;5;124m\"\u001b[39m\n\u001b[0;32m   (...)\u001b[0m\n\u001b[1;32m   2002\u001b[0m         )\n\u001b[1;32m   2003\u001b[0m     )\n\u001b[0;32m-> 2005\u001b[0m things, result \u001b[38;5;241m=\u001b[39m \u001b[43moptimizer\u001b[49m\u001b[38;5;241;43m.\u001b[39;49m\u001b[43moptimize\u001b[49m\u001b[43m(\u001b[49m\n\u001b[1;32m   2006\u001b[0m \u001b[43m    \u001b[49m\u001b[38;5;28;43mself\u001b[39;49m\u001b[43m,\u001b[49m\n\u001b[1;32m   2007\u001b[0m \u001b[43m    \u001b[49m\u001b[43mobjective\u001b[49m\u001b[43m,\u001b[49m\n\u001b[1;32m   2008\u001b[0m \u001b[43m    \u001b[49m\u001b[43mconstraints\u001b[49m\u001b[43m,\u001b[49m\n\u001b[1;32m   2009\u001b[0m \u001b[43m    \u001b[49m\u001b[43mftol\u001b[49m\u001b[38;5;241;43m=\u001b[39;49m\u001b[43mftol\u001b[49m\u001b[43m,\u001b[49m\n\u001b[1;32m   2010\u001b[0m \u001b[43m    \u001b[49m\u001b[43mxtol\u001b[49m\u001b[38;5;241;43m=\u001b[39;49m\u001b[43mxtol\u001b[49m\u001b[43m,\u001b[49m\n\u001b[1;32m   2011\u001b[0m \u001b[43m    \u001b[49m\u001b[43mgtol\u001b[49m\u001b[38;5;241;43m=\u001b[39;49m\u001b[43mgtol\u001b[49m\u001b[43m,\u001b[49m\n\u001b[1;32m   2012\u001b[0m \u001b[43m    \u001b[49m\u001b[43mx_scale\u001b[49m\u001b[38;5;241;43m=\u001b[39;49m\u001b[43mx_scale\u001b[49m\u001b[43m,\u001b[49m\n\u001b[1;32m   2013\u001b[0m \u001b[43m    \u001b[49m\u001b[43mverbose\u001b[49m\u001b[38;5;241;43m=\u001b[39;49m\u001b[43mverbose\u001b[49m\u001b[43m,\u001b[49m\n\u001b[1;32m   2014\u001b[0m \u001b[43m    \u001b[49m\u001b[43mmaxiter\u001b[49m\u001b[38;5;241;43m=\u001b[39;49m\u001b[43mmaxiter\u001b[49m\u001b[43m,\u001b[49m\n\u001b[1;32m   2015\u001b[0m \u001b[43m    \u001b[49m\u001b[43moptions\u001b[49m\u001b[38;5;241;43m=\u001b[39;49m\u001b[43moptions\u001b[49m\u001b[43m,\u001b[49m\n\u001b[1;32m   2016\u001b[0m \u001b[43m    \u001b[49m\u001b[43mcopy\u001b[49m\u001b[38;5;241;43m=\u001b[39;49m\u001b[43mcopy\u001b[49m\u001b[43m,\u001b[49m\n\u001b[1;32m   2017\u001b[0m \u001b[43m\u001b[49m\u001b[43m)\u001b[49m\n\u001b[1;32m   2019\u001b[0m \u001b[38;5;28;01mreturn\u001b[39;00m things[\u001b[38;5;241m0\u001b[39m], result\n",
      "File \u001b[0;32m~/Codes/DESC/desc/optimize/optimizer.py:195\u001b[0m, in \u001b[0;36mOptimizer.optimize\u001b[0;34m(self, things, objective, constraints, ftol, xtol, gtol, ctol, x_scale, verbose, maxiter, options, copy)\u001b[0m\n\u001b[1;32m    193\u001b[0m \u001b[38;5;28;01mif\u001b[39;00m \u001b[38;5;28mlen\u001b[39m(linear_constraints):\n\u001b[1;32m    194\u001b[0m     objective \u001b[38;5;241m=\u001b[39m LinearConstraintProjection(objective, linear_constraints)\n\u001b[0;32m--> 195\u001b[0m     \u001b[43mobjective\u001b[49m\u001b[38;5;241;43m.\u001b[39;49m\u001b[43mbuild\u001b[49m\u001b[43m(\u001b[49m\u001b[43mverbose\u001b[49m\u001b[38;5;241;43m=\u001b[39;49m\u001b[43mverbose\u001b[49m\u001b[43m)\u001b[49m\n\u001b[1;32m    196\u001b[0m     \u001b[38;5;28;01mif\u001b[39;00m nonlinear_constraint \u001b[38;5;129;01mis\u001b[39;00m \u001b[38;5;129;01mnot\u001b[39;00m \u001b[38;5;28;01mNone\u001b[39;00m:\n\u001b[1;32m    197\u001b[0m         nonlinear_constraint \u001b[38;5;241m=\u001b[39m LinearConstraintProjection(\n\u001b[1;32m    198\u001b[0m             nonlinear_constraint, linear_constraints\n\u001b[1;32m    199\u001b[0m         )\n",
      "File \u001b[0;32m~/Codes/DESC/desc/optimize/_constraint_wrappers.py:97\u001b[0m, in \u001b[0;36mLinearConstraintProjection.build\u001b[0;34m(self, use_jit, verbose)\u001b[0m\n\u001b[1;32m     87\u001b[0m \u001b[38;5;28mself\u001b[39m\u001b[38;5;241m.\u001b[39m_dim_f \u001b[38;5;241m=\u001b[39m \u001b[38;5;28mself\u001b[39m\u001b[38;5;241m.\u001b[39m_objective\u001b[38;5;241m.\u001b[39mdim_f\n\u001b[1;32m     88\u001b[0m \u001b[38;5;28mself\u001b[39m\u001b[38;5;241m.\u001b[39m_scalar \u001b[38;5;241m=\u001b[39m \u001b[38;5;28mself\u001b[39m\u001b[38;5;241m.\u001b[39m_objective\u001b[38;5;241m.\u001b[39mscalar\n\u001b[1;32m     89\u001b[0m (\n\u001b[1;32m     90\u001b[0m     \u001b[38;5;28mself\u001b[39m\u001b[38;5;241m.\u001b[39m_xp,\n\u001b[1;32m     91\u001b[0m     \u001b[38;5;28mself\u001b[39m\u001b[38;5;241m.\u001b[39m_A,\n\u001b[1;32m     92\u001b[0m     \u001b[38;5;28mself\u001b[39m\u001b[38;5;241m.\u001b[39m_b,\n\u001b[1;32m     93\u001b[0m     \u001b[38;5;28mself\u001b[39m\u001b[38;5;241m.\u001b[39m_Z,\n\u001b[1;32m     94\u001b[0m     \u001b[38;5;28mself\u001b[39m\u001b[38;5;241m.\u001b[39m_unfixed_idx,\n\u001b[1;32m     95\u001b[0m     \u001b[38;5;28mself\u001b[39m\u001b[38;5;241m.\u001b[39m_project,\n\u001b[1;32m     96\u001b[0m     \u001b[38;5;28mself\u001b[39m\u001b[38;5;241m.\u001b[39m_recover,\n\u001b[0;32m---> 97\u001b[0m ) \u001b[38;5;241m=\u001b[39m \u001b[43mfactorize_linear_constraints\u001b[49m\u001b[43m(\u001b[49m\n\u001b[1;32m     98\u001b[0m \u001b[43m    \u001b[49m\u001b[38;5;28;43mself\u001b[39;49m\u001b[38;5;241;43m.\u001b[39;49m\u001b[43m_constraints\u001b[49m\u001b[43m,\u001b[49m\n\u001b[1;32m     99\u001b[0m \u001b[43m    \u001b[49m\u001b[38;5;28;43mself\u001b[39;49m\u001b[38;5;241;43m.\u001b[39;49m\u001b[43m_objective\u001b[49m\u001b[43m,\u001b[49m\n\u001b[1;32m    100\u001b[0m \u001b[43m\u001b[49m\u001b[43m)\u001b[49m\n\u001b[1;32m    101\u001b[0m \u001b[38;5;28mself\u001b[39m\u001b[38;5;241m.\u001b[39m_dim_x \u001b[38;5;241m=\u001b[39m \u001b[38;5;28mself\u001b[39m\u001b[38;5;241m.\u001b[39m_objective\u001b[38;5;241m.\u001b[39mdim_x\n\u001b[1;32m    102\u001b[0m \u001b[38;5;28mself\u001b[39m\u001b[38;5;241m.\u001b[39m_dim_x_reduced \u001b[38;5;241m=\u001b[39m \u001b[38;5;28mself\u001b[39m\u001b[38;5;241m.\u001b[39m_Z\u001b[38;5;241m.\u001b[39mshape[\u001b[38;5;241m1\u001b[39m]\n",
      "File \u001b[0;32m~/Codes/DESC/desc/objectives/utils.py:159\u001b[0m, in \u001b[0;36mfactorize_linear_constraints\u001b[0;34m(constraints, objective)\u001b[0m\n\u001b[1;32m    157\u001b[0m     y2 \u001b[38;5;241m=\u001b[39m con\u001b[38;5;241m.\u001b[39mtarget\n\u001b[1;32m    158\u001b[0m     y1, y2 \u001b[38;5;241m=\u001b[39m np\u001b[38;5;241m.\u001b[39mbroadcast_arrays(y1, y2)\n\u001b[0;32m--> 159\u001b[0m     \u001b[43mnp\u001b[49m\u001b[38;5;241;43m.\u001b[39;49m\u001b[43mtesting\u001b[49m\u001b[38;5;241;43m.\u001b[39;49m\u001b[43massert_allclose\u001b[49m\u001b[43m(\u001b[49m\n\u001b[1;32m    160\u001b[0m \u001b[43m        \u001b[49m\u001b[43my1\u001b[49m\u001b[43m,\u001b[49m\n\u001b[1;32m    161\u001b[0m \u001b[43m        \u001b[49m\u001b[43my2\u001b[49m\u001b[43m,\u001b[49m\n\u001b[1;32m    162\u001b[0m \u001b[43m        \u001b[49m\u001b[43matol\u001b[49m\u001b[38;5;241;43m=\u001b[39;49m\u001b[38;5;241;43m2e-14\u001b[39;49m\u001b[43m,\u001b[49m\n\u001b[1;32m    163\u001b[0m \u001b[43m        \u001b[49m\u001b[43mrtol\u001b[49m\u001b[38;5;241;43m=\u001b[39;49m\u001b[38;5;241;43m5e-14\u001b[39;49m\u001b[43m,\u001b[49m\n\u001b[1;32m    164\u001b[0m \u001b[43m        \u001b[49m\u001b[43merr_msg\u001b[49m\u001b[38;5;241;43m=\u001b[39;49m\u001b[38;5;124;43m\"\u001b[39;49m\u001b[38;5;124;43mIncompatible constraints detected, cannot satisfy \u001b[39;49m\u001b[38;5;124;43m\"\u001b[39;49m\n\u001b[1;32m    165\u001b[0m \u001b[43m        \u001b[49m\u001b[38;5;241;43m+\u001b[39;49m\u001b[43m \u001b[49m\u001b[38;5;124;43mf\u001b[39;49m\u001b[38;5;124;43m\"\u001b[39;49m\u001b[38;5;124;43mconstraint \u001b[39;49m\u001b[38;5;132;43;01m{\u001b[39;49;00m\u001b[43mcon\u001b[49m\u001b[38;5;132;43;01m}\u001b[39;49;00m\u001b[38;5;124;43m\"\u001b[39;49m\u001b[43m,\u001b[49m\n\u001b[1;32m    166\u001b[0m \u001b[43m    \u001b[49m\u001b[43m)\u001b[49m\n\u001b[1;32m    168\u001b[0m \u001b[38;5;28;01mreturn\u001b[39;00m xp, A_full, b_full, Z, unfixed_idx, project, recover\n",
      "    \u001b[0;31m[... skipping hidden 1 frame]\u001b[0m\n",
      "File \u001b[0;32m~/miniconda3/envs/desc-env/lib/python3.11/contextlib.py:81\u001b[0m, in \u001b[0;36mContextDecorator.__call__.<locals>.inner\u001b[0;34m(*args, **kwds)\u001b[0m\n\u001b[1;32m     78\u001b[0m \u001b[38;5;129m@wraps\u001b[39m(func)\n\u001b[1;32m     79\u001b[0m \u001b[38;5;28;01mdef\u001b[39;00m \u001b[38;5;21minner\u001b[39m(\u001b[38;5;241m*\u001b[39margs, \u001b[38;5;241m*\u001b[39m\u001b[38;5;241m*\u001b[39mkwds):\n\u001b[1;32m     80\u001b[0m     \u001b[38;5;28;01mwith\u001b[39;00m \u001b[38;5;28mself\u001b[39m\u001b[38;5;241m.\u001b[39m_recreate_cm():\n\u001b[0;32m---> 81\u001b[0m         \u001b[38;5;28;01mreturn\u001b[39;00m \u001b[43mfunc\u001b[49m\u001b[43m(\u001b[49m\u001b[38;5;241;43m*\u001b[39;49m\u001b[43margs\u001b[49m\u001b[43m,\u001b[49m\u001b[43m \u001b[49m\u001b[38;5;241;43m*\u001b[39;49m\u001b[38;5;241;43m*\u001b[39;49m\u001b[43mkwds\u001b[49m\u001b[43m)\u001b[49m\n",
      "File \u001b[0;32m~/miniconda3/envs/desc-env/lib/python3.11/site-packages/numpy/testing/_private/utils.py:862\u001b[0m, in \u001b[0;36massert_array_compare\u001b[0;34m(comparison, x, y, err_msg, verbose, header, precision, equal_nan, equal_inf, strict)\u001b[0m\n\u001b[1;32m    858\u001b[0m         err_msg \u001b[38;5;241m+\u001b[39m\u001b[38;5;241m=\u001b[39m \u001b[38;5;124m'\u001b[39m\u001b[38;5;130;01m\\n\u001b[39;00m\u001b[38;5;124m'\u001b[39m \u001b[38;5;241m+\u001b[39m \u001b[38;5;124m'\u001b[39m\u001b[38;5;130;01m\\n\u001b[39;00m\u001b[38;5;124m'\u001b[39m\u001b[38;5;241m.\u001b[39mjoin(remarks)\n\u001b[1;32m    859\u001b[0m         msg \u001b[38;5;241m=\u001b[39m build_err_msg([ox, oy], err_msg,\n\u001b[1;32m    860\u001b[0m                             verbose\u001b[38;5;241m=\u001b[39mverbose, header\u001b[38;5;241m=\u001b[39mheader,\n\u001b[1;32m    861\u001b[0m                             names\u001b[38;5;241m=\u001b[39m(\u001b[38;5;124m'\u001b[39m\u001b[38;5;124mx\u001b[39m\u001b[38;5;124m'\u001b[39m, \u001b[38;5;124m'\u001b[39m\u001b[38;5;124my\u001b[39m\u001b[38;5;124m'\u001b[39m), precision\u001b[38;5;241m=\u001b[39mprecision)\n\u001b[0;32m--> 862\u001b[0m         \u001b[38;5;28;01mraise\u001b[39;00m \u001b[38;5;167;01mAssertionError\u001b[39;00m(msg)\n\u001b[1;32m    863\u001b[0m \u001b[38;5;28;01mexcept\u001b[39;00m \u001b[38;5;167;01mValueError\u001b[39;00m:\n\u001b[1;32m    864\u001b[0m     \u001b[38;5;28;01mimport\u001b[39;00m \u001b[38;5;21;01mtraceback\u001b[39;00m\n",
      "\u001b[0;31mAssertionError\u001b[0m: \nNot equal to tolerance rtol=5e-14, atol=2e-14\nIncompatible constraints detected, cannot satisfy constraint <desc.objectives.linear_objectives.AxisRSelfConsistency object at 0x7f7fb9f605d0>\nMismatched elements: 1 / 4 (25%)\nMax absolute difference: 2.08721929e-14\nMax relative difference: inf\n x: array([-2.664535e-15, -3.108624e-15,  1.554312e-14, -2.087219e-14])\n y: array([0, 0, 0, 0])"
     ]
    }
   ],
   "source": [
    "eq = get(\"HELIOTRON\")\n",
    "eq_poin = eq.set_poincare_equilibrium()\n",
    "\n",
    "constraints = get_fixed_xsection_constraints(eq=eq_poin)\n",
    "objective = ObjectiveFunction(ForceBalance(eq_poin))\n",
    "optimizer = Optimizer(\"lsq-exact\")\n",
    "\n",
    "eq_poin.solve(verbose=3, ftol=0, objective=objective, constraints=constraints, optimizer=optimizer,maxiter=1, xtol=0)\n",
    "plot_comparison(eqs=[eq,eq_poin],labels=['LCFS',f'Poincare BC']);"
   ]
  },
  {
   "cell_type": "markdown",
   "metadata": {},
   "source": [
    "### Creating a new Poincare surface to fix \n",
    "\n",
    "We can also create a new surface object called \"PoincareSurface\" to set our optimization problem as LCFS."
   ]
  },
  {
   "cell_type": "code",
   "execution_count": null,
   "metadata": {},
   "outputs": [],
   "source": [
    "R_lmn = np.array([10, -1.2, -0.2, 0.1])\n",
    "modes_R = np.array([[0, 0], [1, 1], [2, 0], [2, 2]])\n",
    "\n",
    "Z_lmn = np.array([0.7, -0.04, -0.02])\n",
    "modes_Z = np.array([[1, -1], [2, -2], [3, -3]])\n",
    "\n",
    "L_lmn = np.array([.1])\n",
    "modes_L = np.array([[1, -1]])\n",
    "\n",
    "section = PoincareSurface(R_lmn=R_lmn, modes_R=modes_R,Z_lmn=Z_lmn, modes_Z=modes_Z,L_lmn=L_lmn, modes_L=modes_L)\n",
    "\n",
    "eq_poincare = Equilibrium(\n",
    "            xsection=section,\n",
    "            pressure=0,\n",
    "            iota=0,\n",
    "            Psi=eq.Psi,  # flux (in Webers) within the last closed flux surface\n",
    "            NFP=10,  # number of field periods\n",
    "            L=5,  # radial spectral resolution\n",
    "            M=5,  # poloidal spectral resolution\n",
    "            N=4,  # toroidal spectral resolution\n",
    "            L_grid=eq.L_grid,  # real space radial resolution, slightly oversampled\n",
    "            M_grid=eq.M_grid,  # real space poloidal resolution, slightly oversampled\n",
    "            N_grid=eq.N_grid,  # real space toroidal resolution\n",
    "            sym=True,  # explicitly enforce stellarator symmetry\n",
    "            spectral_indexing=eq._spectral_indexing,\n",
    "        )\n",
    "\n",
    "plot_comparison(eqs=[eq_poincare],labels=['Poincare Surface']);"
   ]
  },
  {
   "cell_type": "code",
   "execution_count": null,
   "metadata": {},
   "outputs": [],
   "source": []
  }
 ],
 "metadata": {
  "kernelspec": {
   "display_name": "desc-env",
   "language": "python",
   "name": "python3"
  },
  "language_info": {
   "codemirror_mode": {
    "name": "ipython",
    "version": 3
   },
   "file_extension": ".py",
   "mimetype": "text/x-python",
   "name": "python",
   "nbconvert_exporter": "python",
   "pygments_lexer": "ipython3",
   "version": "3.11.7"
  }
 },
 "nbformat": 4,
 "nbformat_minor": 2
}
