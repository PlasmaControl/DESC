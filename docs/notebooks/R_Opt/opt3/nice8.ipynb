{
 "cells": [
  {
   "cell_type": "code",
   "execution_count": 1,
   "id": "95db89f2",
   "metadata": {
    "execution": {
     "iopub.execute_input": "2024-10-28T16:52:32.489268Z",
     "iopub.status.busy": "2024-10-28T16:52:32.489123Z",
     "iopub.status.idle": "2024-10-28T16:52:32.492144Z",
     "shell.execute_reply": "2024-10-28T16:52:32.491843Z"
    }
   },
   "outputs": [],
   "source": [
    "# Optimize Sigma Variation with ShareParameters"
   ]
  },
  {
   "cell_type": "code",
   "execution_count": 2,
   "id": "6157e070",
   "metadata": {
    "execution": {
     "iopub.execute_input": "2024-10-28T16:52:32.493650Z",
     "iopub.status.busy": "2024-10-28T16:52:32.493529Z",
     "iopub.status.idle": "2024-10-28T16:52:32.965422Z",
     "shell.execute_reply": "2024-10-28T16:52:32.965058Z"
    }
   },
   "outputs": [],
   "source": [
    "from desc import set_device\n",
    "set_device(\"gpu\")"
   ]
  },
  {
   "cell_type": "code",
   "execution_count": 3,
   "id": "82f24a59",
   "metadata": {
    "execution": {
     "iopub.execute_input": "2024-10-28T16:52:32.967460Z",
     "iopub.status.busy": "2024-10-28T16:52:32.967321Z",
     "iopub.status.idle": "2024-10-28T16:52:37.933926Z",
     "shell.execute_reply": "2024-10-28T16:52:37.933574Z"
    }
   },
   "outputs": [
    {
     "name": "stdout",
     "output_type": "stream",
     "text": [
      "DESC version 0.12.3+553.gcb761a802.dirty,using JAX backend, jax version=0.4.35, jaxlib version=0.4.34, dtype=float64"
     ]
    },
    {
     "name": "stdout",
     "output_type": "stream",
     "text": [
      "\n"
     ]
    },
    {
     "name": "stdout",
     "output_type": "stream",
     "text": [
      "Using device: NVIDIA A100 80GB PCIe (id=0), with 80.00 GB available memory"
     ]
    },
    {
     "name": "stdout",
     "output_type": "stream",
     "text": [
      "\n"
     ]
    }
   ],
   "source": [
    "import numpy as np\n",
    "import os\n",
    "# os.environ[\"JAX_LOG_COMPILES\"] = \"True\"\n",
    "from scipy.io import netcdf_file\n",
    "import copy\n",
    "import matplotlib\n",
    "import matplotlib.pyplot as plt\n",
    "import scipy\n",
    "from scipy.constants import mu_0\n",
    "import sys\n",
    "import functools\n",
    "import pickle\n",
    "\n",
    "import jax\n",
    "import jax.numpy as jnp\n",
    "from jax import jit, jacfwd\n",
    "\n",
    "from netCDF4 import Dataset\n",
    "import h5py\n",
    "\n",
    "from desc.backend import put, fori_loop, jnp, sign\n",
    "\n",
    "from desc.basis import FourierZernikeBasis, DoubleFourierSeries, FourierSeries\n",
    "from desc.equilibrium import EquilibriaFamily, Equilibrium\n",
    "from desc.grid import ConcentricGrid, LinearGrid, Grid, QuadratureGrid\n",
    "from desc.io import InputReader, load\n",
    "from desc.objectives import *\n",
    "from desc.objectives.objective_funs import _Objective\n",
    "from desc.plotting import plot_1d, plot_2d, plot_3d, plot_section, plot_surfaces, plot_comparison\n",
    "\n",
    "from desc.plotting import *\n",
    "\n",
    "from desc.transform import Transform\n",
    "from desc.vmec import VMECIO\n",
    "from desc.derivatives import Derivative\n",
    "from desc.geometry import FourierRZToroidalSurface\n",
    "from desc.profiles import SplineProfile, PowerSeriesProfile\n",
    "\n",
    "from desc.magnetic_fields import ( SplineMagneticField, \n",
    "                                  #biot_savart_general, \n",
    "                                  FourierCurrentPotentialField, ToroidalMagneticField,\n",
    "                                  field_line_integrate)\n",
    "\n",
    "import desc.examples\n",
    "\n",
    "from desc.backend import fori_loop, jit, jnp, odeint, sign\n",
    "from desc.compute import rpz2xyz, rpz2xyz_vec, xyz2rpz, xyz2rpz_vec\n",
    "from desc.coils import *\n",
    "\n",
    "from desc.utils import Timer, copy_coeffs, errorif, setdefault, svd_inv_null, warnif\n",
    "from desc.utils import flatten_list\n",
    "#from ..utils import cross, dot, safediv, safenorm\n",
    "#from desc.compute.utils import cross\n",
    "#from desc.compute.utils import dot\n",
    "\n",
    "from desc.optimize import lsqtr, lsq_auglag\n",
    "\n",
    "from scipy.optimize import NonlinearConstraint \n",
    "\n",
    "from desc.magnetic_fields import ( SplineMagneticField, \n",
    "                                  #biot_savart_general, \n",
    "                                  FourierCurrentPotentialField, \n",
    "                                  ToroidalMagneticField,\n",
    "                                  field_line_integrate)\n",
    "\n",
    "import time\n",
    "\n",
    "import numpy as np\n",
    "from numpy.linalg import eig\n",
    "\n",
    "from scipy.linalg import null_space\n",
    "from numpy import ndarray\n",
    "\n",
    "\n",
    "from desc.derivatives import Derivative"
   ]
  },
  {
   "cell_type": "code",
   "execution_count": 4,
   "id": "7facc8bb",
   "metadata": {
    "execution": {
     "iopub.execute_input": "2024-10-28T16:52:37.936085Z",
     "iopub.status.busy": "2024-10-28T16:52:37.935868Z",
     "iopub.status.idle": "2024-10-28T16:52:37.938789Z",
     "shell.execute_reply": "2024-10-28T16:52:37.938483Z"
    }
   },
   "outputs": [],
   "source": [
    "#from desc.continuation import solve_continuation_automatic\n",
    "\n",
    "from desc.objectives import (\n",
    "    #AspectRatio,\n",
    "    #FixBoundaryR,\n",
    "    #FixBoundaryZ,\n",
    "    #FixCurrent,\n",
    "    #FixPressure,\n",
    "    #FixPsi,\n",
    "    #ForceBalance,\n",
    "    ObjectiveFunction,\n",
    "    #QuasisymmetryTwoTerm,\n",
    "    #RotationalTransform,\n",
    "    FixParameters, \n",
    "    ShareParameters,\n",
    "    QuadraticFlux, \n",
    "    SurfaceCurrentRegularization, \n",
    "    bRegularization,\n",
    "    PlasmaVesselDistance,\n",
    "    MeanCurvature,\n",
    "    PrincipalCurvature,\n",
    ")\n",
    "from desc.optimize import Optimizer"
   ]
  },
  {
   "cell_type": "code",
   "execution_count": 5,
   "id": "8372a00d-f467-4978-9ce0-a74349ed71c9",
   "metadata": {
    "execution": {
     "iopub.execute_input": "2024-10-28T16:52:37.940399Z",
     "iopub.status.busy": "2024-10-28T16:52:37.940266Z",
     "iopub.status.idle": "2024-10-28T16:52:39.280985Z",
     "shell.execute_reply": "2024-10-28T16:52:39.280618Z"
    },
    "scrolled": true
   },
   "outputs": [],
   "source": [
    "# Plasma surfaces\n",
    "eqname_QA = \"/home/fcastro/LMStell/regcoil/rogerio/input.QA_final_output.h5\" #vacuum equilibrium\n",
    "eq_QA = desc.io.load(eqname_QA)[4]\n",
    "\n",
    "eqname_QH = \"/home/fcastro/LMStell/regcoil/rogerio/input.QH_final_output.h5\" #vacuum equilibrium\n",
    "eq_QH = desc.io.load(eqname_QH)[4]"
   ]
  },
  {
   "cell_type": "code",
   "execution_count": 6,
   "id": "6aa6bf12",
   "metadata": {
    "execution": {
     "iopub.execute_input": "2024-10-28T16:52:39.283117Z",
     "iopub.status.busy": "2024-10-28T16:52:39.282972Z",
     "iopub.status.idle": "2024-10-28T16:52:42.870288Z",
     "shell.execute_reply": "2024-10-28T16:52:42.869917Z"
    }
   },
   "outputs": [],
   "source": [
    "G_QA = eq_QA.compute(\"G\")[\"G\"][-1] / mu_0 * 2*np.pi\n",
    "G_QH = eq_QH.compute(\"G\")[\"G\"][-1] / mu_0 * 2*np.pi"
   ]
  },
  {
   "cell_type": "code",
   "execution_count": 7,
   "id": "c930a631",
   "metadata": {
    "execution": {
     "iopub.execute_input": "2024-10-28T16:52:42.872374Z",
     "iopub.status.busy": "2024-10-28T16:52:42.872225Z",
     "iopub.status.idle": "2024-10-28T16:52:43.442261Z",
     "shell.execute_reply": "2024-10-28T16:52:43.441891Z"
    }
   },
   "outputs": [],
   "source": [
    "eq = eq_QA\n",
    "\n",
    "R0 = 1.0\n",
    "a = 0.3\n",
    "\n",
    "surf = FourierRZToroidalSurface(R_lmn=[R0,a], \n",
    "                                Z_lmn=[-a],\n",
    "                                modes_R=np.array([[0,0],[1,0]]),\n",
    "                                modes_Z=np.array([[-1,0]]),\n",
    "                                NFP=eq.NFP\n",
    "                               )\n",
    "surf.change_resolution(N=eq.N)\n",
    "\n",
    "eq.axis.R_n = eq_QA.axis.R_n + 0.5*(eq_QH.axis.R_n - eq_QA.axis.R_n)\n",
    "eq.axis.Z_n = eq_QA.axis.Z_n + 0.5*(eq_QH.axis.Z_n - eq_QA.axis.Z_n)\n",
    "\n",
    "######\n",
    "for coef, mode in zip(eq.axis.R_n, eq.axis.R_basis.modes):\n",
    "    n = mode[-1]\n",
    "    surf.R_lmn=surf.R_lmn.at[surf.R_basis.get_idx(M=0,N=n)].set( coef)\n",
    "for coef, mode in zip(eq.axis.Z_n, eq.axis.Z_basis.modes):\n",
    "    n = mode[-1]\n",
    "    surf.Z_lmn=surf.Z_lmn.at[surf.Z_basis.get_idx(M=0,N=n)].set( coef)"
   ]
  },
  {
   "cell_type": "code",
   "execution_count": 8,
   "id": "045dac77",
   "metadata": {
    "execution": {
     "iopub.execute_input": "2024-10-28T16:52:43.444358Z",
     "iopub.status.busy": "2024-10-28T16:52:43.444199Z",
     "iopub.status.idle": "2024-10-28T16:52:43.763014Z",
     "shell.execute_reply": "2024-10-28T16:52:43.762652Z"
    }
   },
   "outputs": [],
   "source": [
    "surf1 = surf\n",
    "\n",
    "surf1.change_resolution(M=12,N=12)\n",
    "\n",
    "# Generate a Surface Current field for RQA\n",
    "surf1 = FourierCurrentPotentialField.from_surface(surf1,M_Phi=12,N_Phi=12,sym_Phi=False, I=0, G=G_QA)\n",
    "\n",
    "# Generate a Surface Current field for RQH\n",
    "surf2 = surf1.copy()\n",
    "surf2.G = G_QH"
   ]
  },
  {
   "cell_type": "code",
   "execution_count": 9,
   "id": "39ce8101",
   "metadata": {
    "execution": {
     "iopub.execute_input": "2024-10-28T16:52:43.765069Z",
     "iopub.status.busy": "2024-10-28T16:52:43.764919Z",
     "iopub.status.idle": "2024-10-28T16:52:43.770134Z",
     "shell.execute_reply": "2024-10-28T16:52:43.769835Z"
    }
   },
   "outputs": [
    {
     "data": {
      "text/plain": [
       "3"
      ]
     },
     "execution_count": 9,
     "metadata": {},
     "output_type": "execute_result"
    }
   ],
   "source": [
    "eq_QA.NFP"
   ]
  },
  {
   "cell_type": "code",
   "execution_count": 10,
   "id": "119f21fc",
   "metadata": {
    "execution": {
     "iopub.execute_input": "2024-10-28T16:52:43.771649Z",
     "iopub.status.busy": "2024-10-28T16:52:43.771516Z",
     "iopub.status.idle": "2024-10-28T16:52:43.774995Z",
     "shell.execute_reply": "2024-10-28T16:52:43.774706Z"
    }
   },
   "outputs": [
    {
     "data": {
      "text/plain": [
       "3"
      ]
     },
     "execution_count": 10,
     "metadata": {},
     "output_type": "execute_result"
    }
   ],
   "source": [
    "eq_QH.NFP"
   ]
  },
  {
   "cell_type": "code",
   "execution_count": 11,
   "id": "5b01f328",
   "metadata": {
    "execution": {
     "iopub.execute_input": "2024-10-28T16:52:43.776432Z",
     "iopub.status.busy": "2024-10-28T16:52:43.776305Z",
     "iopub.status.idle": "2024-10-28T16:52:48.668951Z",
     "shell.execute_reply": "2024-10-28T16:52:48.668602Z"
    }
   },
   "outputs": [
    {
     "data": {
      "text/plain": [
       "(<Figure size 864x720 with 6 Axes>,\n",
       " array([<Axes: title={'center': '$\\\\phi \\\\cdot N_{FP}/2\\\\pi = 0.000$'}, xlabel='$R ~(\\\\mathrm{m})$', ylabel='$Z ~(\\\\mathrm{m})$'>,\n",
       "        <Axes: title={'center': '$\\\\phi \\\\cdot N_{FP}/2\\\\pi = 0.167$'}, xlabel='$R ~(\\\\mathrm{m})$', ylabel='$Z ~(\\\\mathrm{m})$'>,\n",
       "        <Axes: title={'center': '$\\\\phi \\\\cdot N_{FP}/2\\\\pi = 0.333$'}, xlabel='$R ~(\\\\mathrm{m})$', ylabel='$Z ~(\\\\mathrm{m})$'>,\n",
       "        <Axes: title={'center': '$\\\\phi \\\\cdot N_{FP}/2\\\\pi = 0.500$'}, xlabel='$R ~(\\\\mathrm{m})$', ylabel='$Z ~(\\\\mathrm{m})$'>,\n",
       "        <Axes: title={'center': '$\\\\phi \\\\cdot N_{FP}/2\\\\pi = 0.667$'}, xlabel='$R ~(\\\\mathrm{m})$', ylabel='$Z ~(\\\\mathrm{m})$'>,\n",
       "        <Axes: title={'center': '$\\\\phi \\\\cdot N_{FP}/2\\\\pi = 0.833$'}, xlabel='$R ~(\\\\mathrm{m})$', ylabel='$Z ~(\\\\mathrm{m})$'>],\n",
       "       dtype=object))"
      ]
     },
     "execution_count": 11,
     "metadata": {},
     "output_type": "execute_result"
    },
    {
     "data": {
      "image/png": "[encoded data removed]",
      "text/plain": [
       "<Figure size 864x720 with 6 Axes>"
      ]
     },
     "metadata": {},
     "output_type": "display_data"
    }
   ],
   "source": [
    "plot_comparison([surf1,eq_QA,eq_QH],\n",
    "                labels=[\"WS\",\"RQA\",\"RQH\"],\n",
    "                theta=0,rho=np.array(1.0)\n",
    "               )"
   ]
  },
  {
   "cell_type": "code",
   "execution_count": 12,
   "id": "a182030f",
   "metadata": {
    "execution": {
     "iopub.execute_input": "2024-10-28T16:52:48.670749Z",
     "iopub.status.busy": "2024-10-28T16:52:48.670614Z",
     "iopub.status.idle": "2024-10-28T16:52:48.672985Z",
     "shell.execute_reply": "2024-10-28T16:52:48.672686Z"
    }
   },
   "outputs": [],
   "source": [
    "## setup opt problem\n",
    "# use QuadraticFlux as eq's are fixed and want fields to change\n",
    "# use ShareParameters to keep surface geoms constant equal to eachother as they vary with surface current to reduce Bn\n",
    "# first, keep surfs fixed too and just get regcoil-like solutions for each"
   ]
  },
  {
   "cell_type": "code",
   "execution_count": 13,
   "id": "79a82b9d",
   "metadata": {
    "execution": {
     "iopub.execute_input": "2024-10-28T16:52:48.674408Z",
     "iopub.status.busy": "2024-10-28T16:52:48.674285Z",
     "iopub.status.idle": "2024-10-28T16:52:48.681656Z",
     "shell.execute_reply": "2024-10-28T16:52:48.681357Z"
    }
   },
   "outputs": [],
   "source": [
    "# Grids\n",
    "Megrid = 20\n",
    "Negrid = 20\n",
    "\n",
    "Msgrid = 20\n",
    "Nsgrid = 20\n",
    "\n",
    "egrid = LinearGrid(M=Megrid,N=Negrid,\n",
    "                   #NFP = 1,\n",
    "                   NFP=eq.NFP,\n",
    "                   sym=False)\n",
    "\n",
    "sgrid = LinearGrid(M=Msgrid,N=Nsgrid,\n",
    "                   #NFP = 1,\n",
    "                   NFP=eq.NFP,\n",
    "                   sym=False) "
   ]
  },
  {
   "cell_type": "code",
   "execution_count": 14,
   "id": "576232f6",
   "metadata": {
    "execution": {
     "iopub.execute_input": "2024-10-28T16:52:48.684225Z",
     "iopub.status.busy": "2024-10-28T16:52:48.684096Z",
     "iopub.status.idle": "2024-10-28T16:52:48.686888Z",
     "shell.execute_reply": "2024-10-28T16:52:48.686595Z"
    }
   },
   "outputs": [],
   "source": [
    "flux_QA = QuadraticFlux(eq_QA,surf1,field_grid=sgrid,\n",
    "                        eval_grid=egrid,vacuum=True,\n",
    "                        name=\"Bn error  eq_QA\")\n",
    "\n",
    "flux_QH = QuadraticFlux(eq_QH,surf2,field_grid=sgrid,\n",
    "                        eval_grid=egrid,vacuum=True,\n",
    "                        name=\"Bn error  eq_QH\")"
   ]
  },
  {
   "cell_type": "code",
   "execution_count": 15,
   "id": "e69ea5fe",
   "metadata": {
    "execution": {
     "iopub.execute_input": "2024-10-28T16:52:48.688297Z",
     "iopub.status.busy": "2024-10-28T16:52:48.688174Z",
     "iopub.status.idle": "2024-10-28T16:53:41.073316Z",
     "shell.execute_reply": "2024-10-28T16:53:41.072913Z"
    }
   },
   "outputs": [
    {
     "name": "stdout",
     "output_type": "stream",
     "text": [
      "Building objective: Bn error  eq_QA"
     ]
    },
    {
     "name": "stdout",
     "output_type": "stream",
     "text": [
      "\n"
     ]
    },
    {
     "name": "stdout",
     "output_type": "stream",
     "text": [
      "Precomputing transforms"
     ]
    },
    {
     "name": "stdout",
     "output_type": "stream",
     "text": [
      "\n"
     ]
    },
    {
     "name": "stdout",
     "output_type": "stream",
     "text": [
      "Timer: Precomputing transforms = 1.26 sec"
     ]
    },
    {
     "name": "stdout",
     "output_type": "stream",
     "text": [
      "\n"
     ]
    },
    {
     "name": "stdout",
     "output_type": "stream",
     "text": [
      "Building objective: Bn error  eq_QH"
     ]
    },
    {
     "name": "stdout",
     "output_type": "stream",
     "text": [
      "\n"
     ]
    },
    {
     "name": "stdout",
     "output_type": "stream",
     "text": [
      "Precomputing transforms"
     ]
    },
    {
     "name": "stdout",
     "output_type": "stream",
     "text": [
      "\n"
     ]
    },
    {
     "name": "stdout",
     "output_type": "stream",
     "text": [
      "Timer: Precomputing transforms = 43.4 ms"
     ]
    },
    {
     "name": "stdout",
     "output_type": "stream",
     "text": [
      "\n"
     ]
    },
    {
     "name": "stdout",
     "output_type": "stream",
     "text": [
      "Timer: Objective build = 1.73 sec"
     ]
    },
    {
     "name": "stdout",
     "output_type": "stream",
     "text": [
      "\n"
     ]
    },
    {
     "name": "stdout",
     "output_type": "stream",
     "text": [
      "Building objective: fixed parameters"
     ]
    },
    {
     "name": "stdout",
     "output_type": "stream",
     "text": [
      "\n"
     ]
    },
    {
     "name": "stdout",
     "output_type": "stream",
     "text": [
      "Building objective: fixed parameters"
     ]
    },
    {
     "name": "stdout",
     "output_type": "stream",
     "text": [
      "\n"
     ]
    },
    {
     "name": "stdout",
     "output_type": "stream",
     "text": [
      "Timer: Objective build = 227 ms"
     ]
    },
    {
     "name": "stdout",
     "output_type": "stream",
     "text": [
      "\n"
     ]
    },
    {
     "name": "stdout",
     "output_type": "stream",
     "text": [
      "Timer: Linear constraint projection build = 3.93 sec"
     ]
    },
    {
     "name": "stdout",
     "output_type": "stream",
     "text": [
      "\n"
     ]
    },
    {
     "name": "stdout",
     "output_type": "stream",
     "text": [
      "Number of parameters: 1250"
     ]
    },
    {
     "name": "stdout",
     "output_type": "stream",
     "text": [
      "\n"
     ]
    },
    {
     "name": "stdout",
     "output_type": "stream",
     "text": [
      "Number of objectives: 3362"
     ]
    },
    {
     "name": "stdout",
     "output_type": "stream",
     "text": [
      "\n"
     ]
    },
    {
     "name": "stdout",
     "output_type": "stream",
     "text": [
      "Timer: Initializing the optimization = 5.97 sec"
     ]
    },
    {
     "name": "stdout",
     "output_type": "stream",
     "text": [
      "\n"
     ]
    },
    {
     "name": "stdout",
     "output_type": "stream",
     "text": [
      "\n",
      "Starting optimization"
     ]
    },
    {
     "name": "stdout",
     "output_type": "stream",
     "text": [
      "\n"
     ]
    },
    {
     "name": "stdout",
     "output_type": "stream",
     "text": [
      "Using method: lsq-exact"
     ]
    },
    {
     "name": "stdout",
     "output_type": "stream",
     "text": [
      "\n"
     ]
    },
    {
     "name": "stdout",
     "output_type": "stream",
     "text": [
      "   Iteration     Total nfev        Cost      Cost reduction    Step norm     Optimality   "
     ]
    },
    {
     "name": "stdout",
     "output_type": "stream",
     "text": [
      "\n"
     ]
    },
    {
     "name": "stdout",
     "output_type": "stream",
     "text": [
      "       0              1          3.073e+02                                    2.083e-03   "
     ]
    },
    {
     "name": "stdout",
     "output_type": "stream",
     "text": [
      "\n"
     ]
    },
    {
     "name": "stderr",
     "output_type": "stream",
     "text": [
      "/home/fcastro/DESC/desc/optimize/least_squares.py:346: RuntimeWarning: invalid value encountered in scalar divide\n",
      "  alpha *= tr_old / trust_radius\n"
     ]
    },
    {
     "name": "stdout",
     "output_type": "stream",
     "text": [
      "       1              2          4.533e-08      3.073e+02      5.753e+05      1.390e-13   "
     ]
    },
    {
     "name": "stdout",
     "output_type": "stream",
     "text": [
      "\n"
     ]
    },
    {
     "name": "stdout",
     "output_type": "stream",
     "text": [
      "       2              4          4.533e-08      7.741e-19      8.772e-06      1.378e-13   "
     ]
    },
    {
     "name": "stdout",
     "output_type": "stream",
     "text": [
      "\n"
     ]
    },
    {
     "name": "stdout",
     "output_type": "stream",
     "text": [
      "       3              5          4.533e-08      1.327e-18      1.745e-05      1.353e-13   "
     ]
    },
    {
     "name": "stdout",
     "output_type": "stream",
     "text": [
      "\n"
     ]
    },
    {
     "name": "stdout",
     "output_type": "stream",
     "text": [
      "       4              6          4.533e-08      2.633e-18      3.462e-05      1.304e-13   "
     ]
    },
    {
     "name": "stdout",
     "output_type": "stream",
     "text": [
      "\n"
     ]
    },
    {
     "name": "stdout",
     "output_type": "stream",
     "text": [
      "       5              7          4.533e-08      5.351e-18      6.866e-05      1.209e-13   "
     ]
    },
    {
     "name": "stdout",
     "output_type": "stream",
     "text": [
      "\n"
     ]
    },
    {
     "name": "stdout",
     "output_type": "stream",
     "text": [
      "       6              9          4.533e-08      2.192e-18      3.315e-05      1.166e-13   "
     ]
    },
    {
     "name": "stdout",
     "output_type": "stream",
     "text": [
      "\n"
     ]
    },
    {
     "name": "stdout",
     "output_type": "stream",
     "text": [
      "       7             10          4.533e-08      4.828e-18      6.670e-05      1.085e-13   "
     ]
    },
    {
     "name": "stdout",
     "output_type": "stream",
     "text": [
      "\n"
     ]
    },
    {
     "name": "stdout",
     "output_type": "stream",
     "text": [
      "       8             11          4.533e-08      9.011e-18      1.357e-04      9.373e-14   "
     ]
    },
    {
     "name": "stdout",
     "output_type": "stream",
     "text": [
      "\n"
     ]
    },
    {
     "name": "stdout",
     "output_type": "stream",
     "text": [
      "       9             12          4.533e-08      1.616e-17      2.824e-04      7.003e-14   "
     ]
    },
    {
     "name": "stdout",
     "output_type": "stream",
     "text": [
      "\n"
     ]
    },
    {
     "name": "stdout",
     "output_type": "stream",
     "text": [
      "      10             13          4.533e-08      2.648e-17      6.077e-04      4.360e-14   "
     ]
    },
    {
     "name": "stdout",
     "output_type": "stream",
     "text": [
      "\n"
     ]
    },
    {
     "name": "stdout",
     "output_type": "stream",
     "text": [
      "      11             14          4.533e-08      3.805e-17      1.376e-03      1.847e-14   "
     ]
    },
    {
     "name": "stdout",
     "output_type": "stream",
     "text": [
      "\n"
     ]
    },
    {
     "name": "stdout",
     "output_type": "stream",
     "text": [
      "      12             15          4.533e-08      4.525e-17      3.355e-03      7.057e-15   "
     ]
    },
    {
     "name": "stdout",
     "output_type": "stream",
     "text": [
      "\n"
     ]
    },
    {
     "name": "stdout",
     "output_type": "stream",
     "text": [
      "      13             17          4.533e-08      1.542e-17      1.768e-03      4.898e-15   "
     ]
    },
    {
     "name": "stdout",
     "output_type": "stream",
     "text": [
      "\n"
     ]
    },
    {
     "name": "stdout",
     "output_type": "stream",
     "text": [
      "      14             18          4.533e-08      2.192e-17      4.006e-03      3.132e-15   "
     ]
    },
    {
     "name": "stdout",
     "output_type": "stream",
     "text": [
      "\n"
     ]
    },
    {
     "name": "stdout",
     "output_type": "stream",
     "text": [
      "      15             19          4.533e-08      2.917e-17      9.499e-03      1.652e-15   "
     ]
    },
    {
     "name": "stdout",
     "output_type": "stream",
     "text": [
      "\n"
     ]
    },
    {
     "name": "stdout",
     "output_type": "stream",
     "text": [
      "      16             20          4.533e-08      3.789e-17      2.271e-02      9.942e-16   "
     ]
    },
    {
     "name": "stdout",
     "output_type": "stream",
     "text": [
      "\n"
     ]
    },
    {
     "name": "stdout",
     "output_type": "stream",
     "text": [
      "      17             21          4.533e-08      4.750e-17      5.137e-02      4.829e-16   "
     ]
    },
    {
     "name": "stdout",
     "output_type": "stream",
     "text": [
      "\n"
     ]
    },
    {
     "name": "stdout",
     "output_type": "stream",
     "text": [
      "      18             23          4.533e-08      1.849e-17      2.545e-02      4.294e-16   "
     ]
    },
    {
     "name": "stdout",
     "output_type": "stream",
     "text": [
      "\n"
     ]
    },
    {
     "name": "stdout",
     "output_type": "stream",
     "text": [
      "      19             24          4.533e-08      2.903e-17      5.305e-02      3.296e-16   "
     ]
    },
    {
     "name": "stdout",
     "output_type": "stream",
     "text": [
      "\n"
     ]
    },
    {
     "name": "stdout",
     "output_type": "stream",
     "text": [
      "      20             25          4.533e-08      4.359e-17      1.088e-01      2.384e-16   "
     ]
    },
    {
     "name": "stdout",
     "output_type": "stream",
     "text": [
      "\n"
     ]
    },
    {
     "name": "stdout",
     "output_type": "stream",
     "text": [
      "Warning: Maximum number of iterations has been exceeded."
     ]
    },
    {
     "name": "stdout",
     "output_type": "stream",
     "text": [
      "\n"
     ]
    },
    {
     "name": "stdout",
     "output_type": "stream",
     "text": [
      "         Current function value: 4.533e-08"
     ]
    },
    {
     "name": "stdout",
     "output_type": "stream",
     "text": [
      "\n"
     ]
    },
    {
     "name": "stdout",
     "output_type": "stream",
     "text": [
      "         Total delta_x: 5.753e+05"
     ]
    },
    {
     "name": "stdout",
     "output_type": "stream",
     "text": [
      "\n"
     ]
    },
    {
     "name": "stdout",
     "output_type": "stream",
     "text": [
      "         Iterations: 20"
     ]
    },
    {
     "name": "stdout",
     "output_type": "stream",
     "text": [
      "\n"
     ]
    },
    {
     "name": "stdout",
     "output_type": "stream",
     "text": [
      "         Function evaluations: 25"
     ]
    },
    {
     "name": "stdout",
     "output_type": "stream",
     "text": [
      "\n"
     ]
    },
    {
     "name": "stdout",
     "output_type": "stream",
     "text": [
      "         Jacobian evaluations: 21"
     ]
    },
    {
     "name": "stdout",
     "output_type": "stream",
     "text": [
      "\n"
     ]
    },
    {
     "name": "stdout",
     "output_type": "stream",
     "text": [
      "Timer: Solution time = 40.8 sec"
     ]
    },
    {
     "name": "stdout",
     "output_type": "stream",
     "text": [
      "\n"
     ]
    },
    {
     "name": "stdout",
     "output_type": "stream",
     "text": [
      "Timer: Avg time per step = 1.94 sec"
     ]
    },
    {
     "name": "stdout",
     "output_type": "stream",
     "text": [
      "\n"
     ]
    },
    {
     "name": "stdout",
     "output_type": "stream",
     "text": [
      "=============================================================================================================="
     ]
    },
    {
     "name": "stdout",
     "output_type": "stream",
     "text": [
      "\n"
     ]
    },
    {
     "name": "stdout",
     "output_type": "stream",
     "text": [
      "                                                                 Start  -->   End"
     ]
    },
    {
     "name": "stdout",
     "output_type": "stream",
     "text": [
      "\n"
     ]
    },
    {
     "name": "stdout",
     "output_type": "stream",
     "text": [
      "Total (sum of squares):                                      3.073e+02  -->   4.533e-08, "
     ]
    },
    {
     "name": "stdout",
     "output_type": "stream",
     "text": [
      "\n"
     ]
    },
    {
     "name": "stdout",
     "output_type": "stream",
     "text": [
      "Maximum absolute Boundary normal field error:                3.501e-02  -->   2.627e-08 (T m^2)"
     ]
    },
    {
     "name": "stdout",
     "output_type": "stream",
     "text": [
      "\n"
     ]
    },
    {
     "name": "stdout",
     "output_type": "stream",
     "text": [
      "Minimum absolute Boundary normal field error:                3.129e-17  -->   2.000e-12 (T m^2)"
     ]
    },
    {
     "name": "stdout",
     "output_type": "stream",
     "text": [
      "\n"
     ]
    },
    {
     "name": "stdout",
     "output_type": "stream",
     "text": [
      "Average absolute Boundary normal field error:                1.035e-02  -->   4.241e-09 (T m^2)"
     ]
    },
    {
     "name": "stdout",
     "output_type": "stream",
     "text": [
      "\n"
     ]
    },
    {
     "name": "stdout",
     "output_type": "stream",
     "text": [
      "Maximum absolute Boundary normal field error:                3.169e-01  -->   2.378e-07 (normalized)"
     ]
    },
    {
     "name": "stdout",
     "output_type": "stream",
     "text": [
      "\n"
     ]
    },
    {
     "name": "stdout",
     "output_type": "stream",
     "text": [
      "Minimum absolute Boundary normal field error:                2.832e-16  -->   1.810e-11 (normalized)"
     ]
    },
    {
     "name": "stdout",
     "output_type": "stream",
     "text": [
      "\n"
     ]
    },
    {
     "name": "stdout",
     "output_type": "stream",
     "text": [
      "Average absolute Boundary normal field error:                9.372e-02  -->   3.839e-08 (normalized)"
     ]
    },
    {
     "name": "stdout",
     "output_type": "stream",
     "text": [
      "\n"
     ]
    },
    {
     "name": "stdout",
     "output_type": "stream",
     "text": [
      "Maximum absolute Boundary normal field error:                7.879e-02  -->   2.256e-06 (T m^2)"
     ]
    },
    {
     "name": "stdout",
     "output_type": "stream",
     "text": [
      "\n"
     ]
    },
    {
     "name": "stdout",
     "output_type": "stream",
     "text": [
      "Minimum absolute Boundary normal field error:                3.296e-17  -->   1.488e-16 (T m^2)"
     ]
    },
    {
     "name": "stdout",
     "output_type": "stream",
     "text": [
      "\n"
     ]
    },
    {
     "name": "stdout",
     "output_type": "stream",
     "text": [
      "Average absolute Boundary normal field error:                2.717e-02  -->   3.080e-07 (T m^2)"
     ]
    },
    {
     "name": "stdout",
     "output_type": "stream",
     "text": [
      "\n"
     ]
    },
    {
     "name": "stdout",
     "output_type": "stream",
     "text": [
      "Maximum absolute Boundary normal field error:                1.383e+00  -->   3.959e-05 (normalized)"
     ]
    },
    {
     "name": "stdout",
     "output_type": "stream",
     "text": [
      "\n"
     ]
    },
    {
     "name": "stdout",
     "output_type": "stream",
     "text": [
      "Minimum absolute Boundary normal field error:                5.784e-16  -->   2.611e-15 (normalized)"
     ]
    },
    {
     "name": "stdout",
     "output_type": "stream",
     "text": [
      "\n"
     ]
    },
    {
     "name": "stdout",
     "output_type": "stream",
     "text": [
      "Average absolute Boundary normal field error:                4.768e-01  -->   5.404e-06 (normalized)"
     ]
    },
    {
     "name": "stdout",
     "output_type": "stream",
     "text": [
      "\n"
     ]
    },
    {
     "name": "stdout",
     "output_type": "stream",
     "text": [
      "Fixed parameters error:                                      0.000e+00  -->   0.000e+00 (~)"
     ]
    },
    {
     "name": "stdout",
     "output_type": "stream",
     "text": [
      "\n"
     ]
    },
    {
     "name": "stdout",
     "output_type": "stream",
     "text": [
      "Fixed parameters error:                                      0.000e+00  -->   0.000e+00 (~)"
     ]
    },
    {
     "name": "stdout",
     "output_type": "stream",
     "text": [
      "\n"
     ]
    },
    {
     "name": "stdout",
     "output_type": "stream",
     "text": [
      "=============================================================================================================="
     ]
    },
    {
     "name": "stdout",
     "output_type": "stream",
     "text": [
      "\n"
     ]
    }
   ],
   "source": [
    "obj = ObjectiveFunction((flux_QA,\n",
    "                         flux_QH,\n",
    "                        )\n",
    "                       )\n",
    "constraints = (\n",
    "    FixParameters(surf1,{\"I\":True,\"G\":True,\"R_lmn\":True, \"Z_lmn\":True}),\n",
    "    FixParameters(surf2,{\"I\":True,\"G\":True,\"R_lmn\":True, \"Z_lmn\":True}),\n",
    ") # fix the secular parts as well\n",
    "                        \n",
    "opt = Optimizer(\"lsq-exact\")\n",
    "\n",
    "(surf1, surf2), _ = opt.optimize([surf1, surf2], \n",
    "                                 objective=obj, \n",
    "                                 constraints=constraints,\n",
    "                                 verbose=3,\n",
    "                                 maxiter=20,\n",
    "                                 ftol = 0,#1e-8,\n",
    "                                 gtol = 0,#1e-8,\n",
    "                                 xtol = 0,#1e-8,\n",
    "                                 options={\"initial_trust_radius\":np.inf})\n"
   ]
  },
  {
   "cell_type": "code",
   "execution_count": 16,
   "id": "eb4fb7bc",
   "metadata": {
    "execution": {
     "iopub.execute_input": "2024-10-28T16:53:41.075536Z",
     "iopub.status.busy": "2024-10-28T16:53:41.075380Z",
     "iopub.status.idle": "2024-10-28T16:53:41.079471Z",
     "shell.execute_reply": "2024-10-28T16:53:41.079170Z"
    }
   },
   "outputs": [
    {
     "data": {
      "text/plain": [
       "3"
      ]
     },
     "execution_count": 16,
     "metadata": {},
     "output_type": "execute_result"
    }
   ],
   "source": [
    "surf1.NFP"
   ]
  },
  {
   "cell_type": "code",
   "execution_count": 17,
   "id": "aac1070e",
   "metadata": {
    "execution": {
     "iopub.execute_input": "2024-10-28T16:53:41.080958Z",
     "iopub.status.busy": "2024-10-28T16:53:41.080835Z",
     "iopub.status.idle": "2024-10-28T16:53:54.586768Z",
     "shell.execute_reply": "2024-10-28T16:53:54.586416Z"
    }
   },
   "outputs": [
    {
     "data": {
      "text/plain": [
       "Text(0.5, 1.0, 'Phi surf2')"
      ]
     },
     "execution_count": 17,
     "metadata": {},
     "output_type": "execute_result"
    },
    {
     "data": {
      "image/png": "[encoded data removed]",
      "text/plain": [
       "<Figure size 432x432 with 2 Axes>"
      ]
     },
     "metadata": {},
     "output_type": "display_data"
    },
    {
     "data": {
      "image/png": "[encoded data removed]",
      "text/plain": [
       "<Figure size 432x432 with 2 Axes>"
      ]
     },
     "metadata": {},
     "output_type": "display_data"
    },
    {
     "data": {
      "image/png": "[encoded data removed]",
      "text/plain": [
       "<Figure size 432x432 with 2 Axes>"
      ]
     },
     "metadata": {},
     "output_type": "display_data"
    },
    {
     "data": {
      "image/png": "[encoded data removed]",
      "text/plain": [
       "<Figure size 432x432 with 2 Axes>"
      ]
     },
     "metadata": {},
     "output_type": "display_data"
    }
   ],
   "source": [
    "# look at Phi and Bn\n",
    "denser_source_grid = LinearGrid(M=40,N=40,\n",
    "                                #NFP=eq_QA.NFP\n",
    "                               )\n",
    "plot_2d(eq_QA,\"B*n\",field=surf1, field_grid=denser_source_grid)\n",
    "plt.title(\"Eq 1 Bn error from surf1\")\n",
    "\n",
    "plot_2d(surf1, \"Phi\")\n",
    "plt.title(\"Phi surf1\")\n",
    "\n",
    "\n",
    "plot_2d(eq_QH,\"B*n\",field=surf2, field_grid=denser_source_grid)\n",
    "plt.title(\"Eq 2 Bn error from surf2\")\n",
    "plot_2d(surf2, \"Phi\")\n",
    "plt.title(\"Phi surf2\")"
   ]
  },
  {
   "cell_type": "code",
   "execution_count": 18,
   "id": "1698fbf4",
   "metadata": {
    "execution": {
     "iopub.execute_input": "2024-10-28T16:53:54.588588Z",
     "iopub.status.busy": "2024-10-28T16:53:54.588442Z",
     "iopub.status.idle": "2024-10-28T16:53:54.590841Z",
     "shell.execute_reply": "2024-10-28T16:53:54.590546Z"
    }
   },
   "outputs": [],
   "source": [
    "## setup opt problem\n",
    "# use QuadraticFlux as eq's are fixed and want fields to change\n",
    "# use ShareParameters to keep surface geoms constant equal\n",
    "# to eachother as they vary with surface current to reduce Bn"
   ]
  },
  {
   "cell_type": "code",
   "execution_count": 19,
   "id": "7057e33e",
   "metadata": {
    "execution": {
     "iopub.execute_input": "2024-10-28T16:53:54.592325Z",
     "iopub.status.busy": "2024-10-28T16:53:54.592204Z",
     "iopub.status.idle": "2024-10-28T16:53:54.595607Z",
     "shell.execute_reply": "2024-10-28T16:53:54.595310Z"
    }
   },
   "outputs": [],
   "source": [
    "# Distance target\n",
    "min_QA = 0.08\n",
    "max_QA = 0.25\n",
    "\n",
    "min_QH = 0.08\n",
    "max_QH = 0.25\n",
    "\n",
    "# Distance to veseel penalization\n",
    "obj_dist_QA = PlasmaVesselDistance(\n",
    "    eq_QA,\n",
    "    surf1,\n",
    "    bounds=(min_QA,max_QA),\n",
    "    #target = 0.15,\n",
    "    plasma_grid=egrid,\n",
    "    surface_grid=sgrid,\n",
    "    eq_fixed=True,\n",
    "    #softmin_alpha = 1e6,\n",
    "    weight = 2.5,\n",
    "    use_signed_distance=True,\n",
    "    name=\"distance error  RQA\"\n",
    ")\n",
    "\n",
    "obj_dist_QH = PlasmaVesselDistance(\n",
    "    eq_QH,\n",
    "    surf1,\n",
    "    #target = 0.15,\n",
    "    bounds=(min_QH,max_QH),\n",
    "    plasma_grid=egrid,\n",
    "    surface_grid=sgrid,\n",
    "    eq_fixed=True,\n",
    "    #softmin_alpha = 1e6,\n",
    "    use_signed_distance=True,\n",
    "    weight = 3.5,\n",
    "    name=\"distance error  RQH\"\n",
    ")"
   ]
  },
  {
   "cell_type": "code",
   "execution_count": 20,
   "id": "c670843f",
   "metadata": {
    "execution": {
     "iopub.execute_input": "2024-10-28T16:53:54.597088Z",
     "iopub.status.busy": "2024-10-28T16:53:54.596966Z",
     "iopub.status.idle": "2024-10-28T16:53:54.599776Z",
     "shell.execute_reply": "2024-10-28T16:53:54.599482Z"
    }
   },
   "outputs": [],
   "source": [
    "mean_curv = -0.3\n",
    "min_mean_curv = 0#-0.5\n",
    "max_mean_curv = -0.15\n",
    "\n",
    "obj_mean_curv = MeanCurvature(\n",
    "    surf1,\n",
    "    #target = mean_curv,\n",
    "    bounds = (-np.inf,-7),\n",
    "    weight=1e0,\n",
    "    normalize=True,\n",
    "    normalize_target=True,\n",
    "    deriv_mode=\"auto\",\n",
    "    grid=sgrid,\n",
    "    name=\"Mean curvature\",\n",
    ")"
   ]
  },
  {
   "cell_type": "code",
   "execution_count": 21,
   "id": "15770a22-d51a-4563-830c-661825292f47",
   "metadata": {
    "execution": {
     "iopub.execute_input": "2024-10-28T16:53:54.601248Z",
     "iopub.status.busy": "2024-10-28T16:53:54.601127Z",
     "iopub.status.idle": "2024-10-28T16:53:54.604004Z",
     "shell.execute_reply": "2024-10-28T16:53:54.603712Z"
    }
   },
   "outputs": [],
   "source": [
    "obj = ObjectiveFunction((#flux_QA,\n",
    "                         #flux_QH,\n",
    "                         obj_dist_QA,\n",
    "                         obj_dist_QH,\n",
    "                         obj_mean_curv,\n",
    "                         #surf_curr_reg_QA,\n",
    "                         #surf_curr_reg_QH,\n",
    "                         #obj_sigma_QA,\n",
    "                         #obj_sigma_QH,\n",
    "                        )\n",
    "                       )\n",
    "constraints = (\n",
    "    #FixParameters(surf1,{\"G\":True,}),# fix the secular poloidal current\n",
    "    #FixParameters(surf2,{\"G\":True,}),# fix the secular poloidal current\n",
    "    # make the 2 surfaces have the same geometry, dont need bc geom is fixed here\n",
    "    ShareParameters([surf1,surf2],params={\"R_lmn\":True, \"Z_lmn\":True}), \n",
    ")"
   ]
  },
  {
   "cell_type": "code",
   "execution_count": 22,
   "id": "afef6860",
   "metadata": {
    "execution": {
     "iopub.execute_input": "2024-10-28T16:53:54.605473Z",
     "iopub.status.busy": "2024-10-28T16:53:54.605347Z",
     "iopub.status.idle": "2024-10-28T16:53:54.607651Z",
     "shell.execute_reply": "2024-10-28T16:53:54.607356Z"
    }
   },
   "outputs": [],
   "source": [
    "# Choose the optimizer\n",
    "opt = Optimizer(\"lsq-exact\")"
   ]
  },
  {
   "cell_type": "code",
   "execution_count": 23,
   "id": "d796fa7c",
   "metadata": {
    "execution": {
     "iopub.execute_input": "2024-10-28T16:53:54.609101Z",
     "iopub.status.busy": "2024-10-28T16:53:54.608977Z",
     "iopub.status.idle": "2024-10-28T16:54:31.494069Z",
     "shell.execute_reply": "2024-10-28T16:54:31.493713Z"
    },
    "scrolled": false
   },
   "outputs": [
    {
     "name": "stdout",
     "output_type": "stream",
     "text": [
      "Building objective: distance error  RQA"
     ]
    },
    {
     "name": "stdout",
     "output_type": "stream",
     "text": [
      "\n"
     ]
    },
    {
     "name": "stdout",
     "output_type": "stream",
     "text": [
      "Precomputing transforms"
     ]
    },
    {
     "name": "stdout",
     "output_type": "stream",
     "text": [
      "\n"
     ]
    },
    {
     "name": "stdout",
     "output_type": "stream",
     "text": [
      "Timer: Precomputing transforms = 126 ms"
     ]
    },
    {
     "name": "stdout",
     "output_type": "stream",
     "text": [
      "\n"
     ]
    },
    {
     "name": "stdout",
     "output_type": "stream",
     "text": [
      "Building objective: distance error  RQH"
     ]
    },
    {
     "name": "stdout",
     "output_type": "stream",
     "text": [
      "\n"
     ]
    },
    {
     "name": "stdout",
     "output_type": "stream",
     "text": [
      "Precomputing transforms"
     ]
    },
    {
     "name": "stdout",
     "output_type": "stream",
     "text": [
      "\n"
     ]
    },
    {
     "name": "stdout",
     "output_type": "stream",
     "text": [
      "Timer: Precomputing transforms = 29.8 ms"
     ]
    },
    {
     "name": "stdout",
     "output_type": "stream",
     "text": [
      "\n"
     ]
    },
    {
     "name": "stdout",
     "output_type": "stream",
     "text": [
      "Building objective: Mean curvature"
     ]
    },
    {
     "name": "stdout",
     "output_type": "stream",
     "text": [
      "\n"
     ]
    },
    {
     "name": "stdout",
     "output_type": "stream",
     "text": [
      "Precomputing transforms"
     ]
    },
    {
     "name": "stdout",
     "output_type": "stream",
     "text": [
      "\n"
     ]
    },
    {
     "name": "stdout",
     "output_type": "stream",
     "text": [
      "Timer: Precomputing transforms = 35.3 ms"
     ]
    },
    {
     "name": "stdout",
     "output_type": "stream",
     "text": [
      "\n"
     ]
    },
    {
     "name": "stdout",
     "output_type": "stream",
     "text": [
      "Timer: Objective build = 260 ms"
     ]
    },
    {
     "name": "stdout",
     "output_type": "stream",
     "text": [
      "\n"
     ]
    },
    {
     "name": "stdout",
     "output_type": "stream",
     "text": [
      "Building objective: shared parameters"
     ]
    },
    {
     "name": "stdout",
     "output_type": "stream",
     "text": [
      "\n"
     ]
    },
    {
     "name": "stdout",
     "output_type": "stream",
     "text": [
      "Timer: Objective build = 5.12 ms"
     ]
    },
    {
     "name": "stdout",
     "output_type": "stream",
     "text": [
      "\n"
     ]
    },
    {
     "name": "stdout",
     "output_type": "stream",
     "text": [
      "Timer: Linear constraint projection build = 2.42 sec"
     ]
    },
    {
     "name": "stdout",
     "output_type": "stream",
     "text": [
      "\n"
     ]
    },
    {
     "name": "stdout",
     "output_type": "stream",
     "text": [
      "Number of parameters: 1879"
     ]
    },
    {
     "name": "stdout",
     "output_type": "stream",
     "text": [
      "\n"
     ]
    },
    {
     "name": "stdout",
     "output_type": "stream",
     "text": [
      "Number of objectives: 5043"
     ]
    },
    {
     "name": "stdout",
     "output_type": "stream",
     "text": [
      "\n"
     ]
    },
    {
     "name": "stdout",
     "output_type": "stream",
     "text": [
      "Timer: Initializing the optimization = 2.76 sec"
     ]
    },
    {
     "name": "stdout",
     "output_type": "stream",
     "text": [
      "\n"
     ]
    },
    {
     "name": "stdout",
     "output_type": "stream",
     "text": [
      "\n",
      "Starting optimization"
     ]
    },
    {
     "name": "stdout",
     "output_type": "stream",
     "text": [
      "\n"
     ]
    },
    {
     "name": "stdout",
     "output_type": "stream",
     "text": [
      "Using method: lsq-exact"
     ]
    },
    {
     "name": "stdout",
     "output_type": "stream",
     "text": [
      "\n"
     ]
    },
    {
     "name": "stdout",
     "output_type": "stream",
     "text": [
      "   Iteration     Total nfev        Cost      Cost reduction    Step norm     Optimality   "
     ]
    },
    {
     "name": "stdout",
     "output_type": "stream",
     "text": [
      "\n"
     ]
    },
    {
     "name": "stdout",
     "output_type": "stream",
     "text": [
      "       0              1          2.409e+03                                    5.017e+03   "
     ]
    },
    {
     "name": "stdout",
     "output_type": "stream",
     "text": [
      "\n"
     ]
    },
    {
     "name": "stdout",
     "output_type": "stream",
     "text": [
      "       1              3          2.094e+03      3.153e+02      4.189e-02      1.777e+03   "
     ]
    },
    {
     "name": "stdout",
     "output_type": "stream",
     "text": [
      "\n"
     ]
    },
    {
     "name": "stdout",
     "output_type": "stream",
     "text": [
      "       2              4          2.012e+03      8.134e+01      3.220e-02      1.091e+03   "
     ]
    },
    {
     "name": "stdout",
     "output_type": "stream",
     "text": [
      "\n"
     ]
    },
    {
     "name": "stdout",
     "output_type": "stream",
     "text": [
      "       3              5          1.961e+03      5.082e+01      2.496e-02      1.022e+03   "
     ]
    },
    {
     "name": "stdout",
     "output_type": "stream",
     "text": [
      "\n"
     ]
    },
    {
     "name": "stdout",
     "output_type": "stream",
     "text": [
      "       4              6          1.921e+03      4.035e+01      1.536e-02      1.137e+03   "
     ]
    },
    {
     "name": "stdout",
     "output_type": "stream",
     "text": [
      "\n"
     ]
    },
    {
     "name": "stdout",
     "output_type": "stream",
     "text": [
      "       5              7          1.892e+03      2.860e+01      1.140e-02      1.279e+03   "
     ]
    },
    {
     "name": "stdout",
     "output_type": "stream",
     "text": [
      "\n"
     ]
    },
    {
     "name": "stdout",
     "output_type": "stream",
     "text": [
      "       6              8          1.866e+03      2.654e+01      1.018e-02      1.604e+03   "
     ]
    },
    {
     "name": "stdout",
     "output_type": "stream",
     "text": [
      "\n"
     ]
    },
    {
     "name": "stdout",
     "output_type": "stream",
     "text": [
      "       7              9          1.840e+03      2.586e+01      9.011e-03      1.529e+03   "
     ]
    },
    {
     "name": "stdout",
     "output_type": "stream",
     "text": [
      "\n"
     ]
    },
    {
     "name": "stdout",
     "output_type": "stream",
     "text": [
      "       8             10          1.813e+03      2.667e+01      9.993e-03      1.920e+03   "
     ]
    },
    {
     "name": "stdout",
     "output_type": "stream",
     "text": [
      "\n"
     ]
    },
    {
     "name": "stdout",
     "output_type": "stream",
     "text": [
      "       9             11          1.788e+03      2.534e+01      8.044e-03      1.718e+03   "
     ]
    },
    {
     "name": "stdout",
     "output_type": "stream",
     "text": [
      "\n"
     ]
    },
    {
     "name": "stdout",
     "output_type": "stream",
     "text": [
      "      10             12          1.763e+03      2.529e+01      9.048e-03      2.104e+03   "
     ]
    },
    {
     "name": "stdout",
     "output_type": "stream",
     "text": [
      "\n"
     ]
    },
    {
     "name": "stdout",
     "output_type": "stream",
     "text": [
      "      11             13          1.739e+03      2.335e+01      7.060e-03      1.834e+03   "
     ]
    },
    {
     "name": "stdout",
     "output_type": "stream",
     "text": [
      "\n"
     ]
    },
    {
     "name": "stdout",
     "output_type": "stream",
     "text": [
      "      12             14          1.719e+03      2.029e+01      7.440e-03      4.463e+03   "
     ]
    },
    {
     "name": "stdout",
     "output_type": "stream",
     "text": [
      "\n"
     ]
    },
    {
     "name": "stdout",
     "output_type": "stream",
     "text": [
      "      13             15          1.707e+03      1.239e+01      4.065e-03      7.402e+03   "
     ]
    },
    {
     "name": "stdout",
     "output_type": "stream",
     "text": [
      "\n"
     ]
    },
    {
     "name": "stdout",
     "output_type": "stream",
     "text": [
      "      14             16          1.699e+03      7.658e+00      3.607e-03      7.629e+03   "
     ]
    },
    {
     "name": "stdout",
     "output_type": "stream",
     "text": [
      "\n"
     ]
    },
    {
     "name": "stdout",
     "output_type": "stream",
     "text": [
      "      15             17          1.689e+03      1.032e+01      3.529e-03      7.454e+03   "
     ]
    },
    {
     "name": "stdout",
     "output_type": "stream",
     "text": [
      "\n"
     ]
    },
    {
     "name": "stdout",
     "output_type": "stream",
     "text": [
      "      16             18          1.681e+03      7.265e+00      3.896e-03      8.385e+03   "
     ]
    },
    {
     "name": "stdout",
     "output_type": "stream",
     "text": [
      "\n"
     ]
    },
    {
     "name": "stdout",
     "output_type": "stream",
     "text": [
      "      17             19          1.671e+03      1.075e+01      3.464e-03      8.175e+03   "
     ]
    },
    {
     "name": "stdout",
     "output_type": "stream",
     "text": [
      "\n"
     ]
    },
    {
     "name": "stdout",
     "output_type": "stream",
     "text": [
      "      18             20          1.664e+03      6.739e+00      3.762e-03      1.027e+04   "
     ]
    },
    {
     "name": "stdout",
     "output_type": "stream",
     "text": [
      "\n"
     ]
    },
    {
     "name": "stdout",
     "output_type": "stream",
     "text": [
      "      19             21          1.655e+03      8.944e+00      2.703e-03      1.235e+04   "
     ]
    },
    {
     "name": "stdout",
     "output_type": "stream",
     "text": [
      "\n"
     ]
    },
    {
     "name": "stdout",
     "output_type": "stream",
     "text": [
      "      20             22          1.649e+03      5.647e+00      1.215e-03      5.737e+03   "
     ]
    },
    {
     "name": "stdout",
     "output_type": "stream",
     "text": [
      "\n"
     ]
    },
    {
     "name": "stdout",
     "output_type": "stream",
     "text": [
      "      21             23          1.646e+03      3.444e+00      2.543e-03      1.212e+04   "
     ]
    },
    {
     "name": "stdout",
     "output_type": "stream",
     "text": [
      "\n"
     ]
    },
    {
     "name": "stdout",
     "output_type": "stream",
     "text": [
      "      22             24          1.640e+03      5.924e+00      1.052e-03      5.065e+03   "
     ]
    },
    {
     "name": "stdout",
     "output_type": "stream",
     "text": [
      "\n"
     ]
    },
    {
     "name": "stdout",
     "output_type": "stream",
     "text": [
      "      23             25          1.637e+03      2.751e+00      2.896e-03      1.491e+04   "
     ]
    },
    {
     "name": "stdout",
     "output_type": "stream",
     "text": [
      "\n"
     ]
    },
    {
     "name": "stdout",
     "output_type": "stream",
     "text": [
      "      24             26          1.630e+03      7.056e+00      9.278e-04      5.020e+03   "
     ]
    },
    {
     "name": "stdout",
     "output_type": "stream",
     "text": [
      "\n"
     ]
    },
    {
     "name": "stdout",
     "output_type": "stream",
     "text": [
      "      25             27          1.626e+03      3.779e+00      2.215e-03      1.117e+04   "
     ]
    },
    {
     "name": "stdout",
     "output_type": "stream",
     "text": [
      "\n"
     ]
    },
    {
     "name": "stdout",
     "output_type": "stream",
     "text": [
      "      26             28          1.622e+03      3.946e+00      9.188e-04      6.559e+03   "
     ]
    },
    {
     "name": "stdout",
     "output_type": "stream",
     "text": [
      "\n"
     ]
    },
    {
     "name": "stdout",
     "output_type": "stream",
     "text": [
      "      27             29          1.620e+03      2.556e+00      1.963e-03      1.291e+04   "
     ]
    },
    {
     "name": "stdout",
     "output_type": "stream",
     "text": [
      "\n"
     ]
    },
    {
     "name": "stdout",
     "output_type": "stream",
     "text": [
      "      28             30          1.615e+03      4.382e+00      8.298e-04      6.046e+03   "
     ]
    },
    {
     "name": "stdout",
     "output_type": "stream",
     "text": [
      "\n"
     ]
    },
    {
     "name": "stdout",
     "output_type": "stream",
     "text": [
      "      29             31          1.613e+03      2.202e+00      2.084e-03      1.434e+04   "
     ]
    },
    {
     "name": "stdout",
     "output_type": "stream",
     "text": [
      "\n"
     ]
    },
    {
     "name": "stdout",
     "output_type": "stream",
     "text": [
      "      30             32          1.609e+03      4.654e+00      7.453e-04      5.937e+03   "
     ]
    },
    {
     "name": "stdout",
     "output_type": "stream",
     "text": [
      "\n"
     ]
    },
    {
     "name": "stdout",
     "output_type": "stream",
     "text": [
      "      31             33          1.607e+03      1.942e+00      2.036e-03      1.502e+04   "
     ]
    },
    {
     "name": "stdout",
     "output_type": "stream",
     "text": [
      "\n"
     ]
    },
    {
     "name": "stdout",
     "output_type": "stream",
     "text": [
      "      32             34          1.602e+03      4.583e+00      6.957e-04      5.817e+03   "
     ]
    },
    {
     "name": "stdout",
     "output_type": "stream",
     "text": [
      "\n"
     ]
    },
    {
     "name": "stdout",
     "output_type": "stream",
     "text": [
      "      33             35          1.600e+03      1.714e+00      1.984e-03      1.548e+04   "
     ]
    },
    {
     "name": "stdout",
     "output_type": "stream",
     "text": [
      "\n"
     ]
    },
    {
     "name": "stdout",
     "output_type": "stream",
     "text": [
      "      34             36          1.596e+03      4.373e+00      6.283e-04      6.216e+03   "
     ]
    },
    {
     "name": "stdout",
     "output_type": "stream",
     "text": [
      "\n"
     ]
    },
    {
     "name": "stdout",
     "output_type": "stream",
     "text": [
      "      35             37          1.594e+03      2.220e+00      1.263e-03      1.036e+04   "
     ]
    },
    {
     "name": "stdout",
     "output_type": "stream",
     "text": [
      "\n"
     ]
    },
    {
     "name": "stdout",
     "output_type": "stream",
     "text": [
      "      36             38          1.592e+03      2.223e+00      6.247e-04      7.202e+03   "
     ]
    },
    {
     "name": "stdout",
     "output_type": "stream",
     "text": [
      "\n"
     ]
    },
    {
     "name": "stdout",
     "output_type": "stream",
     "text": [
      "      37             39          1.590e+03      1.586e+00      1.278e-03      1.277e+04   "
     ]
    },
    {
     "name": "stdout",
     "output_type": "stream",
     "text": [
      "\n"
     ]
    },
    {
     "name": "stdout",
     "output_type": "stream",
     "text": [
      "      38             40          1.587e+03      2.640e+00      5.792e-04      7.320e+03   "
     ]
    },
    {
     "name": "stdout",
     "output_type": "stream",
     "text": [
      "\n"
     ]
    },
    {
     "name": "stdout",
     "output_type": "stream",
     "text": [
      "      39             42          1.586e+03      1.448e+00      4.569e-04      2.186e+03   "
     ]
    },
    {
     "name": "stdout",
     "output_type": "stream",
     "text": [
      "\n"
     ]
    },
    {
     "name": "stdout",
     "output_type": "stream",
     "text": [
      "      40             43          1.583e+03      2.681e+00      1.099e-03      3.481e+03   "
     ]
    },
    {
     "name": "stdout",
     "output_type": "stream",
     "text": [
      "\n"
     ]
    },
    {
     "name": "stdout",
     "output_type": "stream",
     "text": [
      "Warning: Maximum number of iterations has been exceeded."
     ]
    },
    {
     "name": "stdout",
     "output_type": "stream",
     "text": [
      "\n"
     ]
    },
    {
     "name": "stdout",
     "output_type": "stream",
     "text": [
      "         Current function value: 1.583e+03"
     ]
    },
    {
     "name": "stdout",
     "output_type": "stream",
     "text": [
      "\n"
     ]
    },
    {
     "name": "stdout",
     "output_type": "stream",
     "text": [
      "         Total delta_x: 1.832e-01"
     ]
    },
    {
     "name": "stdout",
     "output_type": "stream",
     "text": [
      "\n"
     ]
    },
    {
     "name": "stdout",
     "output_type": "stream",
     "text": [
      "         Iterations: 40"
     ]
    },
    {
     "name": "stdout",
     "output_type": "stream",
     "text": [
      "\n"
     ]
    },
    {
     "name": "stdout",
     "output_type": "stream",
     "text": [
      "         Function evaluations: 43"
     ]
    },
    {
     "name": "stdout",
     "output_type": "stream",
     "text": [
      "\n"
     ]
    },
    {
     "name": "stdout",
     "output_type": "stream",
     "text": [
      "         Jacobian evaluations: 41"
     ]
    },
    {
     "name": "stdout",
     "output_type": "stream",
     "text": [
      "\n"
     ]
    },
    {
     "name": "stdout",
     "output_type": "stream",
     "text": [
      "Timer: Solution time = 31.7 sec"
     ]
    },
    {
     "name": "stdout",
     "output_type": "stream",
     "text": [
      "\n"
     ]
    },
    {
     "name": "stdout",
     "output_type": "stream",
     "text": [
      "Timer: Avg time per step = 774 ms"
     ]
    },
    {
     "name": "stdout",
     "output_type": "stream",
     "text": [
      "\n"
     ]
    },
    {
     "name": "stdout",
     "output_type": "stream",
     "text": [
      "=============================================================================================================="
     ]
    },
    {
     "name": "stdout",
     "output_type": "stream",
     "text": [
      "\n"
     ]
    },
    {
     "name": "stdout",
     "output_type": "stream",
     "text": [
      "                                                                 Start  -->   End"
     ]
    },
    {
     "name": "stdout",
     "output_type": "stream",
     "text": [
      "\n"
     ]
    },
    {
     "name": "stdout",
     "output_type": "stream",
     "text": [
      "Total (sum of squares):                                      2.409e+03  -->   1.583e+03, "
     ]
    },
    {
     "name": "stdout",
     "output_type": "stream",
     "text": [
      "\n"
     ]
    },
    {
     "name": "stdout",
     "output_type": "stream",
     "text": [
      "Maximum Plasma-vessel distance:                              3.257e-01  -->   2.690e-01 (m)"
     ]
    },
    {
     "name": "stdout",
     "output_type": "stream",
     "text": [
      "\n"
     ]
    },
    {
     "name": "stdout",
     "output_type": "stream",
     "text": [
      "Minimum Plasma-vessel distance:                              8.101e-02  -->   3.262e-02 (m)"
     ]
    },
    {
     "name": "stdout",
     "output_type": "stream",
     "text": [
      "\n"
     ]
    },
    {
     "name": "stdout",
     "output_type": "stream",
     "text": [
      "Average Plasma-vessel distance:                              2.011e-01  -->   1.427e-01 (m)"
     ]
    },
    {
     "name": "stdout",
     "output_type": "stream",
     "text": [
      "\n"
     ]
    },
    {
     "name": "stdout",
     "output_type": "stream",
     "text": [
      "Maximum Plasma-vessel distance:                              3.169e+00  -->   2.618e+00 (normalized)"
     ]
    },
    {
     "name": "stdout",
     "output_type": "stream",
     "text": [
      "\n"
     ]
    },
    {
     "name": "stdout",
     "output_type": "stream",
     "text": [
      "Minimum Plasma-vessel distance:                              7.883e-01  -->   3.174e-01 (normalized)"
     ]
    },
    {
     "name": "stdout",
     "output_type": "stream",
     "text": [
      "\n"
     ]
    },
    {
     "name": "stdout",
     "output_type": "stream",
     "text": [
      "Average Plasma-vessel distance:                              1.957e+00  -->   1.389e+00 (normalized)"
     ]
    },
    {
     "name": "stdout",
     "output_type": "stream",
     "text": [
      "\n"
     ]
    },
    {
     "name": "stdout",
     "output_type": "stream",
     "text": [
      "Maximum Plasma-vessel distance:                              3.097e-01  -->   2.430e-01 (m)"
     ]
    },
    {
     "name": "stdout",
     "output_type": "stream",
     "text": [
      "\n"
     ]
    },
    {
     "name": "stdout",
     "output_type": "stream",
     "text": [
      "Minimum Plasma-vessel distance:                              6.063e-02  -->   2.146e-02 (m)"
     ]
    },
    {
     "name": "stdout",
     "output_type": "stream",
     "text": [
      "\n"
     ]
    },
    {
     "name": "stdout",
     "output_type": "stream",
     "text": [
      "Average Plasma-vessel distance:                              1.994e-01  -->   1.402e-01 (m)"
     ]
    },
    {
     "name": "stdout",
     "output_type": "stream",
     "text": [
      "\n"
     ]
    },
    {
     "name": "stdout",
     "output_type": "stream",
     "text": [
      "Maximum Plasma-vessel distance:                              3.235e+00  -->   2.538e+00 (normalized)"
     ]
    },
    {
     "name": "stdout",
     "output_type": "stream",
     "text": [
      "\n"
     ]
    },
    {
     "name": "stdout",
     "output_type": "stream",
     "text": [
      "Minimum Plasma-vessel distance:                              6.333e-01  -->   2.241e-01 (normalized)"
     ]
    },
    {
     "name": "stdout",
     "output_type": "stream",
     "text": [
      "\n"
     ]
    },
    {
     "name": "stdout",
     "output_type": "stream",
     "text": [
      "Average Plasma-vessel distance:                              2.083e+00  -->   1.465e+00 (normalized)"
     ]
    },
    {
     "name": "stdout",
     "output_type": "stream",
     "text": [
      "\n"
     ]
    },
    {
     "name": "stdout",
     "output_type": "stream",
     "text": [
      "Maximum Mean curvature:                                     -4.018e-01  -->   1.433e+00 (m^-1)"
     ]
    },
    {
     "name": "stdout",
     "output_type": "stream",
     "text": [
      "\n"
     ]
    },
    {
     "name": "stdout",
     "output_type": "stream",
     "text": [
      "Minimum Mean curvature:                                     -2.264e+00  -->  -6.361e+00 (m^-1)"
     ]
    },
    {
     "name": "stdout",
     "output_type": "stream",
     "text": [
      "\n"
     ]
    },
    {
     "name": "stdout",
     "output_type": "stream",
     "text": [
      "Average Mean curvature:                                     -1.621e+00  -->  -2.690e+00 (m^-1)"
     ]
    },
    {
     "name": "stdout",
     "output_type": "stream",
     "text": [
      "\n"
     ]
    },
    {
     "name": "stdout",
     "output_type": "stream",
     "text": [
      "Maximum Mean curvature:                                     -1.205e-01  -->   4.300e-01 (normalized)"
     ]
    },
    {
     "name": "stdout",
     "output_type": "stream",
     "text": [
      "\n"
     ]
    },
    {
     "name": "stdout",
     "output_type": "stream",
     "text": [
      "Minimum Mean curvature:                                     -6.791e-01  -->  -1.908e+00 (normalized)"
     ]
    },
    {
     "name": "stdout",
     "output_type": "stream",
     "text": [
      "\n"
     ]
    },
    {
     "name": "stdout",
     "output_type": "stream",
     "text": [
      "Average Mean curvature:                                     -4.862e-01  -->  -8.069e-01 (normalized)"
     ]
    },
    {
     "name": "stdout",
     "output_type": "stream",
     "text": [
      "\n"
     ]
    },
    {
     "name": "stdout",
     "output_type": "stream",
     "text": [
      "Shared parameters error:                                     0.000e+00  -->   1.159e-13 (~)"
     ]
    },
    {
     "name": "stdout",
     "output_type": "stream",
     "text": [
      "\n"
     ]
    },
    {
     "name": "stdout",
     "output_type": "stream",
     "text": [
      "=============================================================================================================="
     ]
    },
    {
     "name": "stdout",
     "output_type": "stream",
     "text": [
      "\n"
     ]
    }
   ],
   "source": [
    "# Run optimization\n",
    "(surf1, surf2),_ = opt.optimize([surf1, surf2], \n",
    "                                 objective=obj, \n",
    "                                 constraints=constraints,\n",
    "                                 verbose=3,\n",
    "                                 maxiter=40,\n",
    "                                ftol=0,\n",
    "                                gtol=0,\n",
    "                                xtol=0,\n",
    "                                 options={\"initial_trust_radius\":np.inf})"
   ]
  },
  {
   "cell_type": "code",
   "execution_count": 24,
   "id": "28030b89",
   "metadata": {
    "execution": {
     "iopub.execute_input": "2024-10-28T16:54:31.496357Z",
     "iopub.status.busy": "2024-10-28T16:54:31.496215Z",
     "iopub.status.idle": "2024-10-28T16:54:33.939410Z",
     "shell.execute_reply": "2024-10-28T16:54:33.938972Z"
    }
   },
   "outputs": [
    {
     "data": {
      "text/plain": [
       "(<Figure size 864x720 with 6 Axes>,\n",
       " array([<Axes: title={'center': '$\\\\phi \\\\cdot N_{FP}/2\\\\pi = 0.000$'}, xlabel='$R ~(\\\\mathrm{m})$', ylabel='$Z ~(\\\\mathrm{m})$'>,\n",
       "        <Axes: title={'center': '$\\\\phi \\\\cdot N_{FP}/2\\\\pi = 0.167$'}, xlabel='$R ~(\\\\mathrm{m})$', ylabel='$Z ~(\\\\mathrm{m})$'>,\n",
       "        <Axes: title={'center': '$\\\\phi \\\\cdot N_{FP}/2\\\\pi = 0.333$'}, xlabel='$R ~(\\\\mathrm{m})$', ylabel='$Z ~(\\\\mathrm{m})$'>,\n",
       "        <Axes: title={'center': '$\\\\phi \\\\cdot N_{FP}/2\\\\pi = 0.500$'}, xlabel='$R ~(\\\\mathrm{m})$', ylabel='$Z ~(\\\\mathrm{m})$'>,\n",
       "        <Axes: title={'center': '$\\\\phi \\\\cdot N_{FP}/2\\\\pi = 0.667$'}, xlabel='$R ~(\\\\mathrm{m})$', ylabel='$Z ~(\\\\mathrm{m})$'>,\n",
       "        <Axes: title={'center': '$\\\\phi \\\\cdot N_{FP}/2\\\\pi = 0.833$'}, xlabel='$R ~(\\\\mathrm{m})$', ylabel='$Z ~(\\\\mathrm{m})$'>],\n",
       "       dtype=object))"
      ]
     },
     "execution_count": 24,
     "metadata": {},
     "output_type": "execute_result"
    },
    {
     "data": {
      "image/png": "[encoded data removed]",
      "text/plain": [
       "<Figure size 864x720 with 6 Axes>"
      ]
     },
     "metadata": {},
     "output_type": "display_data"
    }
   ],
   "source": [
    "plot_comparison([surf1,eq_QA,eq_QH],\n",
    "                labels=[\"WS\",\"RQA\",\"RQH\"],\n",
    "                theta=0,rho=np.array(1.0)\n",
    "               )"
   ]
  },
  {
   "cell_type": "code",
   "execution_count": 25,
   "id": "ac619a24",
   "metadata": {
    "execution": {
     "iopub.execute_input": "2024-10-28T16:54:33.941638Z",
     "iopub.status.busy": "2024-10-28T16:54:33.941494Z",
     "iopub.status.idle": "2024-10-28T16:54:33.954988Z",
     "shell.execute_reply": "2024-10-28T16:54:33.954685Z"
    }
   },
   "outputs": [],
   "source": [
    "surf1.save(\"surf_opt.h5\")"
   ]
  }
 ],
 "metadata": {
  "kernelspec": {
   "display_name": "Python 3 (ipykernel)",
   "language": "python",
   "name": "python3"
  },
  "language_info": {
   "codemirror_mode": {
    "name": "ipython",
    "version": 3
   },
   "file_extension": ".py",
   "mimetype": "text/x-python",
   "name": "python",
   "nbconvert_exporter": "python",
   "pygments_lexer": "ipython3",
   "version": "3.11.0"
  }
 },
 "nbformat": 4,
 "nbformat_minor": 5
}
