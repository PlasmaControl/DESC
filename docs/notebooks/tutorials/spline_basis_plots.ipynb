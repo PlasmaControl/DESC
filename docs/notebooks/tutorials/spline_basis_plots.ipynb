{
 "cells": [
  {
   "cell_type": "code",
   "execution_count": null,
   "id": "b0771c41-87d0-460e-91a4-155b48e1a2ec",
   "metadata": {},
   "outputs": [],
   "source": [
    "from desc.plotting import *\n",
    "from desc.equilibrium import Equilibrium\n",
    "import desc.examples\n",
    "eq1 = Equilibrium(L=10,M=10)\n",
    "eq2 = Equilibrium(basis=\"FE\",L_grid=10,M_grid=10,K_FE=2)\n",
    "plot_comparison([eq1,eq2],labels=[\"orig\",\"FE basis\"],ls=[\"-\",\"--\"],lw=[2,2])"
   ]
  },
  {
   "cell_type": "code",
   "execution_count": null,
   "id": "6e937a47-1fbd-4d78-aecc-e45512dfa1da",
   "metadata": {},
   "outputs": [],
   "source": [
    "N_grid = 6\n",
    "M_grid = N_grid\n",
    "L_grid = N_grid\n",
    "surf1 = desc.geometry.FourierRZToroidalSurface(\n",
    "    R_lmn=[10.0, -1.0, -0.3, 0.3],\n",
    "    modes_R=[\n",
    "        (0, 0),\n",
    "        (1, 0),\n",
    "        (1, 1),\n",
    "        (-1, -1),\n",
    "    ],  # (m,n) pairs corresponding to R_mn on previous line\n",
    "    Z_lmn=[1, -0.3, -0.3],\n",
    "    modes_Z=[(-1, 0), (-1, 1), (1, -1)],\n",
    "    NFP=19,\n",
    ")\n",
    "import time\n",
    "t1 = time.time()\n",
    "eq1 = Equilibrium(L=6,M=6, N=4, L_grid=L_grid, M_grid=M_grid, N_grid=N_grid, surface=surf1)\n",
    "t2 = time.time()\n",
    "print('time = ', t2 - t1)\n",
    "t1 = time.time()\n",
    "eq2 = Equilibrium(basis=\"FE\", L_grid=L_grid, M_grid=M_grid, N_grid=N_grid, K_FE=2, N=4)\n",
    "t2 = time.time()\n",
    "from desc.geometry import convert_spectral_to_FE\n",
    "print(eq1.R_lmn, eq1._R_basis, eq2._R_basis)\n",
    "eq2.R_lmn, eq2.Z_lmn, eq2.L_lmn = convert_spectral_to_FE(\n",
    "    eq1.R_lmn,\n",
    "    eq1.Z_lmn,\n",
    "    eq1.L_lmn,\n",
    "    eq1._R_basis,\n",
    "    eq1._Z_basis,\n",
    "    eq1._L_basis,\n",
    "    eq2._R_basis,\n",
    "    eq2._Z_basis,\n",
    "    eq2._L_basis,\n",
    ")\n",
    "print('time = ', t2 - t1)\n",
    "import numpy as np\n",
    "eq2.R_lmn += np.random.rand(eq2.R_lmn.shape[0]) * 0.1\n",
    "t1 = time.time()\n",
    "plot_comparison([eq1,eq2],labels=[\"orig\",\"FE basis\"],ls=[\"-\",\"--\"],lw=[2,2])\n",
    "t2 = time.time()\n",
    "print('plot time = ', t2 - t1)\n",
    "eq2.resolution"
   ]
  },
  {
   "cell_type": "code",
   "execution_count": null,
   "id": "a2e260ff-8bb0-442a-95f9-fa70bd4ecdb9",
   "metadata": {},
   "outputs": [],
   "source": [
    "eq2.R_lmn.shape"
   ]
  },
  {
   "cell_type": "code",
   "execution_count": null,
   "id": "ae6bb2bd-5816-481e-bf49-6a9c60f7c52d",
   "metadata": {},
   "outputs": [],
   "source": [
    "eq_fam = desc.io.load(\"input.HELIOTRON_output.h5\")\n",
    "eq = eq_fam[-1]\n",
    "eq_fam2 = desc.io.load(\"input.HELIOTRON_output.h5\")\n",
    "eq0 = eq_fam2[-1]\n",
    "K_FE = 2  # eq0.K_FE\n",
    "eq0.change_basis(N_grid=N_grid, M_grid=M_grid, L_grid=L_grid, K_FE=K_FE)\n",
    "# eq0.change_resolution(N_grid=N_grid, M_grid=M_grid, L_grid=L_grid, K_FE=K_FE)\n",
    "eq0.resolution"
   ]
  },
  {
   "cell_type": "code",
   "execution_count": null,
   "id": "ea8434dd-5200-4c06-a7bc-e99b4bc8f6c7",
   "metadata": {},
   "outputs": [],
   "source": [
    "plot_comparison([eq, eq0],labels=[\"orig\",\"FE basis\"],ls=[\"-\",\"--\"],lw=[2,2])"
   ]
  },
  {
   "cell_type": "code",
   "execution_count": null,
   "id": "dfabceef-41af-4d45-a494-c63246fa5754",
   "metadata": {},
   "outputs": [],
   "source": []
  }
 ],
 "metadata": {
  "kernelspec": {
   "display_name": "Python 3 (ipykernel)",
   "language": "python",
   "name": "python3"
  },
  "language_info": {
   "codemirror_mode": {
    "name": "ipython",
    "version": 3
   },
   "file_extension": ".py",
   "mimetype": "text/x-python",
   "name": "python",
   "nbconvert_exporter": "python",
   "pygments_lexer": "ipython3",
   "version": "3.12.4"
  }
 },
 "nbformat": 4,
 "nbformat_minor": 5
}
