{
 "cells": [
  {
   "cell_type": "code",
   "execution_count": 4,
   "metadata": {},
   "outputs": [],
   "source": [
    "from desc.objectives import ParticleTracer, ObjectiveFunction\n",
    "from desc.examples import get\n",
    "from desc.grid import Grid\n",
    "import desc.io\n",
    "from desc.backend import jnp\n",
    "import matplotlib.pyplot as plt\n",
    "import numpy as np\n",
    "\n",
    "import jax.numpy as jnp"
   ]
  },
  {
   "cell_type": "code",
   "execution_count": 5,
   "metadata": {},
   "outputs": [],
   "source": [
    "eq = desc.io.load(\"test_run.h5\")\n",
    "eq._iota = eq.get_profile(\"iota\").to_powerseries(order=eq.L, sym=True)\n",
    "eq._current = None\n",
    "# eq.solve()"
   ]
  },
  {
   "cell_type": "code",
   "execution_count": 7,
   "metadata": {},
   "outputs": [],
   "source": [
    "tmin = 0\n",
    "tmax = 0.00007\n",
    "nt = 20\n",
    "time = jnp.linspace(tmin, tmax, nt)\n",
    "psi_i = 0.7\n",
    "theta_i = 0.2\n",
    "zeta_i = 0.2\n",
    "\n",
    "mass = 1.673e-27\n",
    "Energy = 3.52e6*1.6e-19\n",
    "ini_vpar = 0.5*jnp.sqrt(2*Energy/mass)\n",
    "ini_cond = [psi_i, theta_i, zeta_i, float(ini_vpar)]\n",
    "\n",
    "mass_charge = mass/1.6e-19\n",
    "\n",
    "grid = Grid(jnp.array([jnp.sqrt(psi_i), theta_i, zeta_i]).T, jitable=True, sort=False)\n",
    "data = eq.compute(\"|B|\", grid=grid)\n",
    "\n",
    "mu = Energy/(mass*data[\"|B|\"]) - (ini_vpar**2)/(2*data[\"|B|\"])\n",
    "\n",
    "ini_param = [float(mu), mass_charge]\n",
    "\n",
    "objective = ParticleTracer(eq=eq, output_time=time, initial_conditions=ini_cond, initial_parameters=ini_param)\n"
   ]
  },
  {
   "cell_type": "code",
   "execution_count": 8,
   "metadata": {},
   "outputs": [
    {
     "name": "stderr",
     "output_type": "stream",
     "text": [
      "2023-09-21 00:44:58.995968: E external/xla/xla/service/slow_operation_alarm.cc:65] \n",
      "********************************\n",
      "[Compiling module jit__odeint_wrapper] Very slow compile? If you want to file a bug, run with envvar XLA_FLAGS=--xla_dump_to=/tmp/foo and attach the results.\n",
      "********************************\n",
      "2023-09-21 00:47:32.344654: E external/xla/xla/service/slow_operation_alarm.cc:133] The operation took 4m33.357390913s\n",
      "\n",
      "********************************\n",
      "[Compiling module jit__odeint_wrapper] Very slow compile? If you want to file a bug, run with envvar XLA_FLAGS=--xla_dump_to=/tmp/foo and attach the results.\n",
      "********************************\n"
     ]
    },
    {
     "name": "stdout",
     "output_type": "stream",
     "text": [
      "*************** SOLUTION .compute() ***************\n",
      "[[7.00000000e-01 2.00000000e-01 2.00000000e-01 1.29738345e+07]\n",
      " [6.24138006e-01 1.25828369e+00 2.92017378e+00 1.21268279e+07]\n",
      " [5.19032052e-01 2.37462789e+00 5.60196862e+00 1.07267094e+07]\n",
      " [4.97139260e-01 3.53642771e+00 7.97353540e+00 1.04755540e+07]\n",
      " [5.82467364e-01 4.66755200e+00 1.03983780e+01 1.16631459e+07]\n",
      " [6.82495771e-01 5.77031228e+00 1.30999265e+01 1.28384553e+07]\n",
      " [6.82555490e-01 6.81015022e+00 1.58253491e+01 1.28241246e+07]\n",
      " [5.83272707e-01 7.89660498e+00 1.85407618e+01 1.16931841e+07]\n",
      " [5.00201288e-01 9.02222466e+00 2.11735978e+01 1.04446790e+07]\n",
      " [5.19459950e-01 1.01604040e+01 2.34734990e+01 1.07138840e+07]\n",
      " [6.21473589e-01 1.13004207e+01 2.60074270e+01 1.21301376e+07]\n",
      " [6.97009796e-01 1.24010746e+01 2.87259989e+01 1.29710984e+07]\n",
      " [6.58614050e-01 1.34425409e+01 3.14449184e+01 1.25391566e+07]\n",
      " [5.46482506e-01 1.45398023e+01 3.41535319e+01 1.12117386e+07]\n",
      " [4.89855302e-01 1.56997421e+01 3.67090489e+01 1.03749380e+07]\n",
      " [5.47617462e-01 1.67990781e+01 3.90117870e+01 1.11218496e+07]\n",
      " [6.57890325e-01 1.79286201e+01 4.16320471e+01 1.25247754e+07]\n",
      " [7.01137466e-01 1.90124594e+01 4.43545834e+01 1.29779014e+07]\n",
      " [6.29215295e-01 2.00834666e+01 4.70651816e+01 1.21521329e+07]\n",
      " [5.20838095e-01 2.11838030e+01 4.97583513e+01 1.07746334e+07]]\n",
      "***************************************************\n"
     ]
    }
   ],
   "source": [
    "objective.build()\n",
    "solution = objective.compute(*objective.xs(eq))\n",
    "\n",
    "print(\"*************** SOLUTION .compute() ***************\")\n",
    "print(solution)\n",
    "print(\"***************************************************\")"
   ]
  }
 ],
 "metadata": {
  "kernelspec": {
   "display_name": "Python 3",
   "language": "python",
   "name": "python3"
  },
  "language_info": {
   "codemirror_mode": {
    "name": "ipython",
    "version": 3
   },
   "file_extension": ".py",
   "mimetype": "text/x-python",
   "name": "python",
   "nbconvert_exporter": "python",
   "pygments_lexer": "ipython3",
   "version": "3.11.5"
  },
  "orig_nbformat": 4
 },
 "nbformat": 4,
 "nbformat_minor": 2
}
