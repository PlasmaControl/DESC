{
 "cells": [
  {
   "cell_type": "markdown",
   "id": "eac59858-706b-47f0-ab7a-04e2a457ade9",
   "metadata": {},
   "source": [
    "# `backend.py`"
   ]
  },
  {
   "cell_type": "markdown",
   "id": "2e2ddee9-0fb9-438e-b078-c4c5e000d875",
   "metadata": {
    "jp-MarkdownHeadingCollapsed": true,
    "tags": []
   },
   "source": [
    "# `basis.py`"
   ]
  },
  {
   "cell_type": "code",
   "execution_count": null,
   "id": "fcb70c66-27f5-444e-961d-42a04d7b70fb",
   "metadata": {},
   "outputs": [],
   "source": []
  },
  {
   "cell_type": "code",
   "execution_count": null,
   "id": "61fe25ee-8c11-4e91-8510-7d79c141a64d",
   "metadata": {},
   "outputs": [],
   "source": []
  },
  {
   "cell_type": "markdown",
   "id": "17782242-c991-484d-bb46-811952ee9c38",
   "metadata": {},
   "source": [
    "# `coils.py`"
   ]
  },
  {
   "cell_type": "markdown",
   "id": "5185c760-63c6-42b8-8a5a-ce6eaebdbd52",
   "metadata": {
    "jp-MarkdownHeadingCollapsed": true,
    "tags": [],
    "toc-hr-collapsed": true
   },
   "source": [
    "# compute"
   ]
  },
  {
   "cell_type": "markdown",
   "id": "febe173a-38c4-44ec-ba2f-6d556b22dd50",
   "metadata": {
    "tags": []
   },
   "source": [
    "## Introduction"
   ]
  },
  {
   "cell_type": "markdown",
   "id": "4848dc72-9eaf-41cf-9937-aa937287b901",
   "metadata": {
    "tags": []
   },
   "source": [
    "In DESC, quantities of interest (such as force error `F`, magnetic field strength `|B|` and its vector components)   are computed from `Equilibrium` objects through the use of `compute_XXX` functions. The `Equilibrium` object has a `eq.compute(name=\"NAME OF QUANTITY TO COMPUTE\",grid=Grid)` method which takes in the string `name` of the quantity to compute from the `Equilibrium`, and a `Grid` of coordinates $(\\rho,\\theta,\\zeta)$ to evaluate the quantity at. This method then uses the `name` to find which `compute_XXX` function is needed to call in order to calculate that quantity.\n",
    "\n",
    "These `compute_XXX` functions live inside of the `desc/compute` folder, and inside that folder the `data_index.py` file contains the list of all available quantities that `name` could specify to be computed, as well as information on that quantity and which `compute_XXX` function should be called in order to compute it.\n",
    "\n",
    "The `compute_XXX` functions have function signatures that take in as arguments the necessary variables from `{R_lmn, Z_lmn, L_lmn, i_l, p_l,Psi}` required to calculate the quantity, as well as the `Transform` and/or `Profile` objects needed to evaluate those variables (which are spectral coefficients, except for `Psi`) at the points in real space specified by the desired `Grid` object (which is contained in the `Transform` objects passed).\n",
    "\n",
    "\n",
    "An example compute function from `_field.py` is shown here for computing the magnetic field magnitude:\n",
    "```python\n",
    "def compute_magnetic_field_magnitude(\n",
    "    R_lmn,\n",
    "    Z_lmn,\n",
    "    L_lmn,\n",
    "    i_l,\n",
    "    Psi,\n",
    "    R_transform,\n",
    "    Z_transform,\n",
    "    L_transform,\n",
    "    iota,\n",
    "    data=None,\n",
    "    **kwargs,\n",
    "):\n",
    "```\n",
    "The first 3 arguments `R_lmn,Z_lmn,L_lmn` are the Fourier-Zernike spectral coefficients of the toroidal coordinates of the flux surfaces `R,Z`, and of the poloidal stream function $\\lambda$. `i_l` is the coefficients of the rotational transform profile (typically a power series in `rho`). `Psi` is the enclosed toroidal flux.\n",
    "\n",
    "The `_transform` arguments are `Transform` objects which transform the spectral coefficients to their values in real-space. `iota` is a `Profile` object which transforms `i_l` into its values in real-space.\n",
    "The `data` argument is an optional dictionary. The compute functions store the quantities they calculate in a `data` dictionary and return it, and if `data` is passed in, the quantities this function computes will be added to this dictionary. This way, a compute function can add on to the quantities already calculated by previous compute functions, or it can use other compute functions to calculate preliminary quantities to avoid duplicating code. As an example, in the `compute_magnetic_field_magnitude` function, the contravariant components of the magnetic field $B^i$ are required, along with the metric coefficients $g_ij$. To calculate these, the function calls:\n",
    "\n",
    "```python\n",
    "data = compute_contravariant_magnetic_field(\n",
    "    R_lmn,\n",
    "    Z_lmn,\n",
    "    L_lmn,\n",
    "    i_l,\n",
    "    Psi,\n",
    "    R_transform,\n",
    "    Z_transform,\n",
    "    L_transform,\n",
    "    iota,\n",
    "    data=data,\n",
    ")\n",
    "data = compute_covariant_metric_coefficients(\n",
    "    R_lmn, Z_lmn, R_transform, Z_transform, data=data\n",
    ")\n",
    "```\n",
    "\n",
    "in order to populate `data` with these necessary preliminary quantities.\n",
    "\n",
    "\n",
    "- talk about what the data arg is and how it is used\n",
    "- maybe include example of how to make your own (let's say for a stupid thing like B_theta * B_zeta)\n",
    "\n",
    "\n",
    "\n"
   ]
  },
  {
   "cell_type": "markdown",
   "id": "f4737eaf-3f27-425a-a50d-2e439e2bdb91",
   "metadata": {
    "jp-MarkdownHeadingCollapsed": true,
    "tags": []
   },
   "source": [
    "## Calculating Quantities"
   ]
  },
  {
   "cell_type": "markdown",
   "id": "d613b5af-21b0-4a4c-be45-181b81ab0c0b",
   "metadata": {},
   "source": [
    "Inside the compute function, every quantity is stored inside the `data` dictionary under the key of the name of the quantity. \n",
    "As an example, `data['|B|']` contains the magnetic field magnitude.\n",
    "This quantity is stored as a JAX array of size `(num_nodes,)` (if the quantity is NOT a vector), or `(num_nodes,3)` (if the quantity is a vector, i.e. `data['B']`, which contains all three components $[B_R, B_{\\phi},B_{Z}]$ of $B$ at each node) (`num_nodes` is the number of nodes in the `Grid` object that the quantity was computed on. Can be accessed by `grid.num_nodes`). \n",
    "This array is flattened, so if the grid used has 10 equispaced gridpoints in $(\\rho,\\theta,\\zeta)$, the grid will have $10^3 = 1000$ nodes, and any quantity calculated on that grid will be returned as an array of size `(num_nodes,)` if not a vector and `(num_nodes,3)` if a vector quantity.\n",
    "### Scalar Algebra\n",
    "Storing the quantities in arrays like this enables for easy computation using these quantities. For example, if one wants to calculate the magnitude of the pressure gradient $|\\nabla p(\\rho)| = \\sqrt{p'(\\rho)^2}|\\nabla\\rho|$, one simply [writes out the expression](https://github.com/PlasmaControl/DESC/blob/6d03cb015701b27d651bf804d36032c35119c536/desc/compute/_equil.py#L114) after calling the necessary compute functions:\n",
    "\n",
    "```python\n",
    "data[\"|grad(p)|\"] = jnp.sqrt(data[\"p_r\"] ** 2) * data[\"|grad(rho)|\"]\n",
    "```\n",
    "\n",
    "### Vector Algebra\n",
    "If calculating a quantity which involves vector algebra, the format of these arrays makes it simple to write out as well. As an example, if calculating the contravariant radial basis vector $\\mathbf{e}^{\\rho} = \\frac{\\mathbf{e}^{\\theta} \\times \\mathbf{e}^{\\zeta}}{\\sqrt{g}}$, one [writes](https://github.com/PlasmaControl/DESC/blob/6d03cb015701b27d651bf804d36032c35119c536/desc/compute/_core.py#L426):\n",
    "```python\n",
    "data[\"e^rho\"] = (cross(data[\"e_theta\"], data[\"e_zeta\"]).T / data[\"sqrt(g)\"]).T\n",
    "```\n",
    "Note here that once the quantities are crossed, they are transposed. This is done to ensure that the result retains the desired shape of `(num_nodes,3)`.\n",
    "\n",
    "### Be Mindful of Shapes\n",
    "\n",
    "It is important to keep in mind the shapes of the quantities being manipulated to ensure the desired operation is carried out. As another example, the gradient of the magnetic toroidal flux $\\nabla \\psi = \\frac{d\\psi}{d\\rho}\\nabla \\rho$ is [calculated as](https://github.com/PlasmaControl/DESC/blob/94d7e43542613b1c901fcd655502312f3e567c26/desc/compute/_core.py#L701):\n",
    "```python\n",
    "data[\"grad(psi)\"] = (data[\"psi_r\"] * data[\"e^rho\"].T).T\n",
    "```\n",
    "The desired operation here is to multiply `data[\"psi_r\"]`, which is a scalar quantity at each grid point and so is of shape `(num_nodes,)` with `data[\"e^rho\"]`, a vector quantity and so is of shape `(num_nodes,3)`. \n",
    "We want the result to be of shape `(num_nodes,3)`. \n",
    "In order to do so, we first must transpose the vector quantity to be shape `(3,num_nodes)`, so that when multiplied together with the scalar quantity of shape `(num_nodes,3)`, the result is broadcast to an array of shape `(3,num_nodes)`. \n",
    "If the transpose did not occur, the two shapes `(num_nodes,)` and `(num_nodes,3)` would be incompatible with eachother.\n",
    "The second transpose after the multiplication is to ensure that the result is in the shape `(num_nodes,3)`, as is the convention expected in the code."
   ]
  },
  {
   "cell_type": "markdown",
   "id": "8c765ae4-ea52-4360-92a4-e91126efc51f",
   "metadata": {
    "jp-MarkdownHeadingCollapsed": true,
    "tags": []
   },
   "source": [
    "## What `check_derivs()` does"
   ]
  },
  {
   "cell_type": "markdown",
   "id": "9f2c39bb-2bc3-413c-b2c3-428619da1faa",
   "metadata": {},
   "source": [
    "Basically, this function ensures that the transforms passed to the compute function have the necessary derivatives of $R,Z,L,p,\\iota$ to calculate the quantity contained in the if statement. \n",
    "If yes, it returns `True` and the quantity in the logival is computed. If not, it returns `False` and that quantitiy is not calculated. \n",
    "This allows us to call a function to get a specific quantity which may not need high order derivatives, and avoid needing to compute those derivatives anyways just to have the function call not throw an error that the necessary derivatives do not exist for a quantitiy we are not asking for but which needs higher order derivatives to compute"
   ]
  },
  {
   "cell_type": "markdown",
   "id": "21ec3f84-f929-4757-a5de-47824e50acd9",
   "metadata": {
    "jp-MarkdownHeadingCollapsed": true,
    "tags": []
   },
   "source": [
    "## `__init__.py`"
   ]
  },
  {
   "cell_type": "markdown",
   "id": "4efca99b-2587-4fb8-bd26-20d1299a365e",
   "metadata": {},
   "source": [
    "`arg_order` is defined in this file. This tuple is used in other parts of the code to determine how to parse the state vector `x` into the various arguments that make it up, and also for making the derivatives of functions of these arguments, such as inside of `_set_derivatives` method of `_Objective` in `objective_funs.py`."
   ]
  },
  {
   "cell_type": "markdown",
   "id": "d96ae667-54e3-4434-aa5f-11a4e00b250b",
   "metadata": {
    "tags": []
   },
   "source": [
    "## `compute/utils.py`"
   ]
  },
  {
   "cell_type": "markdown",
   "id": "e304bafa-cd0a-4438-b181-037ba316aee3",
   "metadata": {},
   "source": [
    " - dot\n",
    " - cross\n",
    " custom vector algebra fxns"
   ]
  },
  {
   "cell_type": "code",
   "execution_count": null,
   "id": "3a1f7820-a65b-4fb8-8ccc-1a61f1c50e9a",
   "metadata": {},
   "outputs": [],
   "source": []
  },
  {
   "cell_type": "markdown",
   "id": "a8afe8fe-6595-480a-9a61-2834d3707345",
   "metadata": {},
   "source": [
    "# `configuration.py`"
   ]
  },
  {
   "cell_type": "markdown",
   "id": "954a4637-4695-481d-b382-e6fba50e9bc8",
   "metadata": {},
   "source": [
    "# `derivatives.py`"
   ]
  },
  {
   "cell_type": "markdown",
   "id": "7084535b-789c-4ea5-9c95-87d54255669a",
   "metadata": {},
   "source": [
    "# `equilibrium.py`"
   ]
  },
  {
   "cell_type": "markdown",
   "id": "4f884b0c-bb29-43ee-9e84-1421a34a4f5b",
   "metadata": {},
   "source": [
    "# `examples`"
   ]
  },
  {
   "cell_type": "markdown",
   "id": "7c68566a-292c-446e-ad12-5a609a92f7f1",
   "metadata": {},
   "source": [
    "# `geometry`"
   ]
  },
  {
   "cell_type": "markdown",
   "id": "2e7b701c-daab-4c0a-941d-a731778260e7",
   "metadata": {
    "tags": []
   },
   "source": [
    "# `grid.py`"
   ]
  },
  {
   "cell_type": "markdown",
   "id": "fcafe02d-0ff9-487e-9487-9ffdecc08165",
   "metadata": {},
   "source": [
    "- explain symmetry and how that affects grid (delete lower half of poloidal plane)\n",
    " - show how it preserves FSA\n",
    "- why L M need to be specific things for concentric grid to work"
   ]
  },
  {
   "cell_type": "markdown",
   "id": "fb30021b-9e47-4ebf-8361-75668c21bbf9",
   "metadata": {},
   "source": []
  },
  {
   "cell_type": "markdown",
   "id": "504fd612-4dbc-4706-aed7-9f3d7cf50449",
   "metadata": {},
   "source": [
    "# `interpolate.py`"
   ]
  },
  {
   "cell_type": "markdown",
   "id": "c972890f-ee7e-4232-b598-cc1ac65cae26",
   "metadata": {},
   "source": [
    "# `io`"
   ]
  },
  {
   "cell_type": "markdown",
   "id": "aaa2cb32-b4d9-43da-91e2-5b1f8f2a26e3",
   "metadata": {
    "jp-MarkdownHeadingCollapsed": true,
    "tags": []
   },
   "source": [
    "# `magnetic_fields.py`"
   ]
  },
  {
   "cell_type": "markdown",
   "id": "a2155d59-942c-4263-8295-9a851b4143fc",
   "metadata": {},
   "source": []
  },
  {
   "cell_type": "code",
   "execution_count": null,
   "id": "76ea7fa2-e5ce-42aa-a866-139bd2050064",
   "metadata": {},
   "outputs": [],
   "source": []
  },
  {
   "cell_type": "markdown",
   "id": "b69ed88a-4ee1-438b-b992-4f57e22613c3",
   "metadata": {
    "tags": [],
    "toc-hr-collapsed": true
   },
   "source": [
    "# `objectives`"
   ]
  },
  {
   "cell_type": "markdown",
   "id": "495554b5-2655-47c8-8e25-a758273b9df9",
   "metadata": {},
   "source": [
    "talk about obj vs constraints\n",
    "- [ ] why do we need to re-make the objectives when we change eq resolutoin\n",
    "  - I think this is because the objectives get built for that eq (built = ?) , so remaking them means we get rid of the built status?\n",
    "- is the size of the `x_reduced` equal to number of parameters? YES IT IS And is this equal to one of the sides of the linear constraint matrix `A`? it is in `factorize_linear_constraints` which is in `objectives.utils`, from `project` function"
   ]
  },
  {
   "cell_type": "markdown",
   "id": "16789fcf-99a9-47ba-8480-e628f40a74e9",
   "metadata": {},
   "source": []
  },
  {
   "cell_type": "code",
   "execution_count": null,
   "id": "83fc3e85-3985-4cc5-86b4-cc47fd76edf6",
   "metadata": {},
   "outputs": [],
   "source": []
  },
  {
   "cell_type": "markdown",
   "id": "263199ee-3a30-4390-8487-9083853393ba",
   "metadata": {},
   "source": [
    "## `linear_objectives.py`"
   ]
  },
  {
   "cell_type": "markdown",
   "id": "25f3e1cc-c637-47d3-b24e-44002984608a",
   "metadata": {},
   "source": [
    "- when specifying interior surface as the fixboundary constraint, the self A becomes zernike_radial instead of 1?"
   ]
  },
  {
   "cell_type": "code",
   "execution_count": null,
   "id": "f2b30d7d-fd05-407c-90e3-2e4fe29ab18b",
   "metadata": {},
   "outputs": [],
   "source": []
  },
  {
   "cell_type": "markdown",
   "id": "a136e3b4-2237-4525-8a72-4dd9eba471ab",
   "metadata": {},
   "source": [
    "## `objectives/utils.py`"
   ]
  },
  {
   "cell_type": "markdown",
   "id": "34d9f66e-48bb-4b9d-b962-b88c919e28ea",
   "metadata": {},
   "source": [
    "#### `factorize_linear_constraints`"
   ]
  },
  {
   "cell_type": "markdown",
   "id": "36225c78-8ae2-4576-ae06-1f81382476b6",
   "metadata": {},
   "source": [
    " - define problem in standard optimization setup\n",
    " - match which DESC variables are equal to the standard ones\n",
    " - write Ax=b\n",
    " - this thing basically finds the nullspace( A )=: Z\n",
    "  - Z then can be multiplied with (x - x_particular) to obtain a vector which is guaranteed to be in the nullspace of the constraints, bc it is made up of a linear combinations of vectors which lie inside of the nullspace (does this make sense?)..."
   ]
  },
  {
   "cell_type": "markdown",
   "id": "cd873863-075f-480f-9c60-56aa5f0c1f38",
   "metadata": {},
   "source": [
    "DESC approaches the ideal MHD fixed-boundary equilibrium problem $\\mathbf{F}=0$ [as an optimization problem](https://desc-docs.readthedocs.io/en/latest/theory_general.html):\n",
    "\n",
    "$$\\begin{align}\n",
    "\\min_{\\mathbf{x}\\in \\mathcal{R}^n} \\mathbf{f}(\\mathbf{x})&\\\\\n",
    "\\text{subject to the linear constraints}~~ \\mathbf{A}\\mathbf{x}=\\mathbf{b}&\n",
    "\\end{align}$$\n",
    "\n",
    "where the objective to be minimized is the MHD force balance error $\\mathbf{F}=\\mathbf{J}\\times \\mathbf{B} - \\nabla p$, which is minimized by evaluating  the two components of $\\mathbf{F}$ on a collocation grid (resulting in a vector of residuals $\\mathbf{f} = [f_{\\rho},f_{\\beta}]$ of length `2*num_nodes` since each of $f_{\\rho},f_{\\beta}$ are evaluated at the collocation nodes) and then minimizing those residuals $\\mathbf{f}(\\mathbf{x})$. \n",
    "The state variable being minimized over  $\\mathbf{x} = [R_{lmn}, Z_{lmn}, \\lambda_{lmn}]$ is the vector of the Fourier-Zernike spectral coefficients used to describe the mapping between the toroidal $(R,\\phi,Z)$ coordinates and the computational flux coordinates $(\\rho,\\theta,\\zeta)$.\n",
    "The state is of length `3*eq.R_basis.num_modes` (if a non-stellarator symmetric equilibrium, where the number of basis modes for R and Z are the same), or length `eq.R_basis.num_modes + 2 * eq.Z_basis.num_modes` (if a stellarator-symmetric equilibrium, where $R$ has $cos(m\\theta-n\\zeta)$ symmetry and $Z$ and $\\lambda$ have $sin(m\\theta-n\\zeta)$).\n",
    "\n",
    "\n",
    "A fixed-boundary equilbrium problem requires the fixed-boundary $R_b(\\theta,\\zeta),Z_b{\\theta,\\zeta}$ to be given as the input, and this appears as a linear constraint on $\\mathbf{x}$ during the optimization. \n",
    "In DESC, additionally a [gauge constraint](https://desc-docs.readthedocs.io/en/latest/_api/objectives/desc.objectives.FixLambdaGauge.html) on $\\lambda$ is applied, since $\\lambda$ is only defined up to an additive multiple of $2\\pi$, which constitutes another linear constraint to the problem. \n",
    "The linear constraints are then written in the form $\\mathbf{A}\\mathbf{x}=\\mathbf{b}$. "
   ]
  },
  {
   "cell_type": "markdown",
   "id": "3a9858ff-3cae-4158-91ce-27f19e6199b6",
   "metadata": {},
   "source": [
    "In solving for the equilibrium DESC deals with these linear constraints by using the feasible direction formulation (see for example [page 3 of this reference](https://www.cs.umd.edu/users/oleary/a607/607constr1hand.pdf)).\n",
    "\n",
    "The state variable $\\mathbf{x}$ is written as $\\mathbf{x} = \\mathbf{x}_p + \\mathbf{Z}\\mathbf{y}$"
   ]
  },
  {
   "cell_type": "markdown",
   "id": "f5f34527-1cb1-4c99-9035-d19323c9a239",
   "metadata": {},
   "source": [
    "# `optimize`"
   ]
  },
  {
   "cell_type": "markdown",
   "id": "e8aa087f-8654-412f-8b08-4469dce1f2c6",
   "metadata": {},
   "source": [
    "# `perturbations.py`"
   ]
  },
  {
   "cell_type": "markdown",
   "id": "c36e49d4-2df6-4890-b95b-23d7a72d5095",
   "metadata": {
    "jp-MarkdownHeadingCollapsed": true,
    "tags": []
   },
   "source": [
    "# `plotting.py`\n",
    "maybe pretty self-explanatory"
   ]
  },
  {
   "cell_type": "markdown",
   "id": "fbb1cce6-2f0a-49c7-a80a-212408ee20b0",
   "metadata": {
    "tags": [],
    "toc-hr-collapsed": true
   },
   "source": [
    "# `transform.py`"
   ]
  },
  {
   "cell_type": "markdown",
   "id": "ea2f4743-77f8-4e3f-b80c-1c28c1489189",
   "metadata": {},
   "source": [
    " - what the transform is\n",
    "  - has a basis and a grid, and evaluates that basis on its grid right? so it contains the transform matrices (call them transform matrices)? how are these called? but these are the matrices which, when multiplied against a vector of the coefficients of the spectral series, yields the series evaluated at the grid points"
   ]
  },
  {
   "cell_type": "markdown",
   "id": "e2d02571-b24d-485c-90de-495fe4b9a302",
   "metadata": {},
   "source": [
    "this file contains the `Transform` class. "
   ]
  },
  {
   "cell_type": "markdown",
   "id": "6a92e963-a6da-4268-9a53-b277f9a80691",
   "metadata": {},
   "source": []
  },
  {
   "cell_type": "code",
   "execution_count": null,
   "id": "f888cc17-ba5b-414e-b83e-772eaf510ca6",
   "metadata": {},
   "outputs": [],
   "source": []
  },
  {
   "cell_type": "markdown",
   "id": "00496ec1-77f7-4266-aaf6-c037e14a223d",
   "metadata": {},
   "source": [
    "## `build()`"
   ]
  },
  {
   "cell_type": "markdown",
   "id": "6dbcf2ef-2649-40df-9f44-c2df820ec260",
   "metadata": {},
   "source": [
    "this method builds the transform matrices for each derivative order of the basis the transform requires (which is specified when the `Transform` object is initialized with the `derivs` argument).\n",
    "Defining the transform matrix as $A_{(d\\rho,d\\theta,d\\zeta)}$ for given derivatives of the basis ${(d\\rho,d\\theta,d\\zeta)}$ (where each are integers), the matrix is used to transform a spectral basis with a given set of coefficients $\\mathbf{c}$ into its values on the grid (given by `Transform.grid`) by \n",
    "\n",
    "$$ A\\mathbf{c} = \\mathbf{x}$$\n",
    "\n",
    "where $\\mathbf{x}$ is the values of the spectral basis evaluated at the grid points . \n",
    "$\\mathbf{c}$ is a vector of length `Transform.basis.num_modes` (the number of modes in the basis), $\\mathbf{x}$ is a vector of length `Transform.grid.num_nodes` (the number of nodes in the grid), and $A$ is a matrix of shape `(num_nodes,num_modes)`.\n",
    "\n",
    "\n",
    "i.e. if a Fourier Series $f(\\zeta) = 2 + 4*cos(\\zeta)$, and the grid is $\\zeta = (0,\\pi)$, then $\\mathbf{x} =\\begin{bmatrix}0\\\\ \\pi\\end{bmatrix}$, $\\mathbf{c}=\\begin{bmatrix} 2\\\\ 4 \\end{bmatrix}$, and  $A = \\begin{bmatrix} 1 & cos(0)\\\\ 1& cos(\\pi) \\end{bmatrix} = \\begin{bmatrix} 1& 1\\\\ 1& -1 \\end{bmatrix} $ s.t. \n",
    "$$ A\\mathbf{c} = \\begin{bmatrix} 1& 1\\\\ 1& -1 \\end{bmatrix} \\begin{bmatrix} 2\\\\ 4 \\end{bmatrix} = \\begin{bmatrix} 6 \\\\ -2  \\end{bmatrix}  $$\n"
   ]
  },
  {
   "cell_type": "markdown",
   "id": "6a8f43e3-9ee8-449b-b6ea-4672a966d914",
   "metadata": {
    "tags": []
   },
   "source": [
    "## `build_pinv()`"
   ]
  },
  {
   "cell_type": "markdown",
   "id": "261815bc-a394-4c11-a5c0-9dc127b37b25",
   "metadata": {},
   "source": [
    "This function builds the pseudoinverse of the transform, which can then be used to take values of a given function that are given on `Transform.grid` and fit a spectral basis to them.\n",
    "A couple different methods are available:"
   ]
  },
  {
   "cell_type": "markdown",
   "id": "a05153d1-b6d6-413e-aea9-f08d6cd1a627",
   "metadata": {},
   "source": [
    "### `direct1`"
   ]
  },
  {
   "cell_type": "markdown",
   "id": "019404de-7732-4c92-be02-b29c66310225",
   "metadata": {},
   "source": [
    "With this method, "
   ]
  },
  {
   "cell_type": "markdown",
   "id": "c07f1b20-0d8a-49e8-9f18-644843bfe344",
   "metadata": {},
   "source": [
    "# `utils.py`"
   ]
  },
  {
   "cell_type": "markdown",
   "id": "bcc198fa-cc67-45ba-bc6e-13d88d6c4caa",
   "metadata": {},
   "source": [
    "# `vmec.py`"
   ]
  },
  {
   "cell_type": "markdown",
   "id": "c64652e1-9cca-44b1-bbda-b9133754ae9b",
   "metadata": {},
   "source": [
    "# `vmec_utils.py`"
   ]
  },
  {
   "cell_type": "code",
   "execution_count": null,
   "id": "c774a214-f846-4f26-a851-86013eb702fa",
   "metadata": {},
   "outputs": [],
   "source": []
  }
 ],
 "metadata": {
  "kernelspec": {
   "display_name": "Python 3 (ipykernel)",
   "language": "python",
   "name": "python3"
  },
  "language_info": {
   "codemirror_mode": {
    "name": "ipython",
    "version": 3
   },
   "file_extension": ".py",
   "mimetype": "text/x-python",
   "name": "python",
   "nbconvert_exporter": "python",
   "pygments_lexer": "ipython3",
   "version": "3.8.5"
  }
 },
 "nbformat": 4,
 "nbformat_minor": 5
}
