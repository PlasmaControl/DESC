{
 "cells": [
  {
   "cell_type": "code",
   "execution_count": 1,
   "metadata": {},
   "outputs": [
    {
     "name": "stdout",
     "output_type": "stream",
     "text": [
      "DESC version 0+untagged.5772.g5036b70.dirty,using JAX backend, jax version=0.4.14, jaxlib version=0.4.14, dtype=float64\n",
      "Using device: CPU, with 1.91 GB available memory\n"
     ]
    }
   ],
   "source": [
    "import numpy as np\n",
    "from desc.basis import sinbasis\n",
    "from jax import numpy as jnp"
   ]
  },
  {
   "cell_type": "code",
   "execution_count": 8,
   "metadata": {},
   "outputs": [],
   "source": [
    "zeta = np.array([0,1,2]) * np.pi\n",
    "m = np.array([-1,0,1,2])"
   ]
  }
 ],
 "metadata": {
  "kernelspec": {
   "display_name": "desc-mirror",
   "language": "python",
   "name": "python3"
  },
  "language_info": {
   "codemirror_mode": {
    "name": "ipython",
    "version": 3
   },
   "file_extension": ".py",
   "mimetype": "text/x-python",
   "name": "python",
   "nbconvert_exporter": "python",
   "pygments_lexer": "ipython3",
   "version": "3.11.5"
  }
 },
 "nbformat": 4,
 "nbformat_minor": 2
}
