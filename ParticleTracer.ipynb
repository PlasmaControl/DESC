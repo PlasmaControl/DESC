{
 "cells": [
  {
   "cell_type": "code",
   "execution_count": 1,
   "metadata": {},
   "outputs": [
    {
     "name": "stdout",
     "output_type": "stream",
     "text": [
      "DESC version 0+untagged.5523.g890c640.dirty,using JAX backend, jax version=0.4.14, jaxlib version=0.4.14, dtype=float64\n",
      "Using device: CPU, with 2.16 GB available memory\n"
     ]
    }
   ],
   "source": [
    "from desc.objectives import ParticleTracer, ObjectiveFunction\n",
    "from desc.examples import get\n",
    "from desc.grid import Grid\n",
    "import desc.io\n",
    "from desc.backend import jnp\n",
    "import matplotlib.pyplot as plt\n",
    "import numpy as np"
   ]
  },
  {
   "cell_type": "code",
   "execution_count": 2,
   "metadata": {},
   "outputs": [],
   "source": [
    "eq = desc.io.load(\"../equilibria/test_run.h5\")\n",
    "eq._iota = eq.get_profile(\"iota\").to_powerseries(order=eq.L, sym=True)\n",
    "eq._current = None\n",
    "# eq.solve()"
   ]
  },
  {
   "cell_type": "code",
   "execution_count": 3,
   "metadata": {},
   "outputs": [],
   "source": [
    "tmin = 0\n",
    "tmax = 0.00007\n",
    "nt = 20\n",
    "time = jnp.linspace(tmin, tmax, nt)\n",
    "psi_i = 0.7\n",
    "theta_i = 0.2\n",
    "zeta_i = 0.2\n",
    "\n",
    "mass = 1.673e-27\n",
    "Energy = 3.52e6*1.6e-19\n",
    "ini_vpar = 0.5*jnp.sqrt(2*Energy/mass)\n",
    "ini_cond = [psi_i, theta_i, zeta_i, float(ini_vpar)]\n",
    "\n",
    "mass_charge = mass/1.6e-19\n",
    "\n",
    "grid = Grid(jnp.array([jnp.sqrt(psi_i), theta_i, zeta_i]).T, jitable=True, sort=False)\n",
    "data = eq.compute(\"|B|\", grid=grid)\n",
    "\n",
    "mu = Energy/(mass*data[\"|B|\"]) - (ini_vpar**2)/(2*data[\"|B|\"])\n",
    "\n",
    "ini_param = (float(mu), mass_charge)\n",
    "\n",
    "\n",
    "objective = ParticleTracer(eq=eq, output_time=time, initial_conditions=ini_cond, initial_parameters=ini_param)"
   ]
  },
  {
   "cell_type": "code",
   "execution_count": 4,
   "metadata": {},
   "outputs": [
    {
     "name": "stderr",
     "output_type": "stream",
     "text": [
      "2023-09-07 16:04:30.534917: E external/xla/xla/service/slow_operation_alarm.cc:65] \n",
      "********************************\n",
      "[Compiling module jit_diffeqsolve] Very slow compile? If you want to file a bug, run with envvar XLA_FLAGS=--xla_dump_to=/tmp/foo and attach the results.\n",
      "********************************\n",
      "2023-09-07 16:05:55.581195: E external/xla/xla/service/slow_operation_alarm.cc:133] The operation took 3m25.046379907s\n",
      "\n",
      "********************************\n",
      "[Compiling module jit_diffeqsolve] Very slow compile? If you want to file a bug, run with envvar XLA_FLAGS=--xla_dump_to=/tmp/foo and attach the results.\n",
      "********************************\n"
     ]
    },
    {
     "name": "stdout",
     "output_type": "stream",
     "text": [
      "[ 0.         -0.07586199 -0.18096794 -0.20286074 -0.11753264 -0.01750423\n",
      " -0.01744451 -0.1167273  -0.19979871 -0.18054003 -0.07852638 -0.0029902\n",
      " -0.04138598 -0.15351753 -0.21014469 -0.15238247 -0.04210961  0.00113745\n",
      " -0.07078478 -0.17916198]\n"
     ]
    }
   ],
   "source": [
    "objective.build()\n",
    "solution = objective.compute(*objective.xs(eq))\n",
    "print(solution)"
   ]
  },
  {
   "cell_type": "code",
   "execution_count": 5,
   "metadata": {},
   "outputs": [
    {
     "name": "stdout",
     "output_type": "stream",
     "text": [
      "Building objective: Particle Tracer\n"
     ]
    }
   ],
   "source": [
    "objective = ParticleTracer(eq=eq, output_time=time, initial_conditions=ini_cond, initial_parameters=ini_param)\n",
    "ObjFunction = ObjectiveFunction([objective])\n",
    "ObjFunction.build()\n"
   ]
  },
  {
   "cell_type": "code",
   "execution_count": 6,
   "metadata": {},
   "outputs": [
    {
     "name": "stdout",
     "output_type": "stream",
     "text": [
      "Compiling objective function and derivatives: ['Particle Tracer']"
     ]
    },
    {
     "name": "stdout",
     "output_type": "stream",
     "text": [
      "\n"
     ]
    },
    {
     "name": "stderr",
     "output_type": "stream",
     "text": [
      "2023-09-07 16:09:24.376862: E external/xla/xla/service/slow_operation_alarm.cc:133] The operation took 2m17.670373973s\n",
      "\n",
      "********************************\n",
      "[Compiling module jit_compute_scalar] Very slow compile? If you want to file a bug, run with envvar XLA_FLAGS=--xla_dump_to=/tmp/foo and attach the results.\n",
      "********************************\n"
     ]
    }
   ],
   "source": [
    "ObjFunction.compile()"
   ]
  },
  {
   "cell_type": "code",
   "execution_count": null,
   "metadata": {},
   "outputs": [],
   "source": [
    "ObjFunction.grad(ObjFunction.x(eq))\n",
    "#print(ObjFunction.x(eq))\n",
    "objective.xs(eq)\n"
   ]
  },
  {
   "cell_type": "code",
   "execution_count": null,
   "metadata": {},
   "outputs": [],
   "source": [
    "objective.args"
   ]
  }
 ],
 "metadata": {
  "kernelspec": {
   "display_name": "Python 3",
   "language": "python",
   "name": "python3"
  },
  "language_info": {
   "codemirror_mode": {
    "name": "ipython",
    "version": 3
   },
   "file_extension": ".py",
   "mimetype": "text/x-python",
   "name": "python",
   "nbconvert_exporter": "python",
   "pygments_lexer": "ipython3",
   "version": "3.10.12"
  },
  "orig_nbformat": 4
 },
 "nbformat": 4,
 "nbformat_minor": 2
}
