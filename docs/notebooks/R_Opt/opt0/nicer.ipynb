{
 "cells": [
  {
   "cell_type": "code",
   "execution_count": 1,
   "id": "95db89f2",
   "metadata": {
    "execution": {
     "iopub.execute_input": "2024-10-28T22:54:49.125766Z",
     "iopub.status.busy": "2024-10-28T22:54:49.125642Z",
     "iopub.status.idle": "2024-10-28T22:54:49.128487Z",
     "shell.execute_reply": "2024-10-28T22:54:49.128173Z"
    }
   },
   "outputs": [],
   "source": [
    "# Optimize Sigma Variation with ShareParameters"
   ]
  },
  {
   "cell_type": "code",
   "execution_count": 2,
   "id": "6157e070",
   "metadata": {
    "execution": {
     "iopub.execute_input": "2024-10-28T22:54:49.129962Z",
     "iopub.status.busy": "2024-10-28T22:54:49.129838Z",
     "iopub.status.idle": "2024-10-28T22:54:49.677219Z",
     "shell.execute_reply": "2024-10-28T22:54:49.676811Z"
    }
   },
   "outputs": [],
   "source": [
    "from desc import set_device\n",
    "set_device(\"gpu\")"
   ]
  },
  {
   "cell_type": "code",
   "execution_count": 3,
   "id": "82f24a59",
   "metadata": {
    "execution": {
     "iopub.execute_input": "2024-10-28T22:54:49.679338Z",
     "iopub.status.busy": "2024-10-28T22:54:49.679197Z",
     "iopub.status.idle": "2024-10-28T22:54:55.096641Z",
     "shell.execute_reply": "2024-10-28T22:54:55.096205Z"
    }
   },
   "outputs": [
    {
     "name": "stdout",
     "output_type": "stream",
     "text": [
      "DESC version 0.12.3+553.gcb761a802.dirty,using JAX backend, jax version=0.4.35, jaxlib version=0.4.34, dtype=float64"
     ]
    },
    {
     "name": "stdout",
     "output_type": "stream",
     "text": [
      "\n"
     ]
    },
    {
     "name": "stdout",
     "output_type": "stream",
     "text": [
      "Using device: NVIDIA A100-SXM4-80GB (id=0), with 80.00 GB available memory"
     ]
    },
    {
     "name": "stdout",
     "output_type": "stream",
     "text": [
      "\n"
     ]
    }
   ],
   "source": [
    "import numpy as np\n",
    "import os\n",
    "# os.environ[\"JAX_LOG_COMPILES\"] = \"True\"\n",
    "from scipy.io import netcdf_file\n",
    "import copy\n",
    "import matplotlib\n",
    "import matplotlib.pyplot as plt\n",
    "import scipy\n",
    "from scipy.constants import mu_0\n",
    "import sys\n",
    "import functools\n",
    "import pickle\n",
    "\n",
    "import jax\n",
    "import jax.numpy as jnp\n",
    "from jax import jit, jacfwd\n",
    "\n",
    "from netCDF4 import Dataset\n",
    "import h5py\n",
    "\n",
    "from desc.backend import put, fori_loop, jnp, sign\n",
    "\n",
    "from desc.basis import FourierZernikeBasis, DoubleFourierSeries, FourierSeries\n",
    "from desc.equilibrium import EquilibriaFamily, Equilibrium\n",
    "from desc.grid import ConcentricGrid, LinearGrid, Grid, QuadratureGrid\n",
    "from desc.io import InputReader, load\n",
    "from desc.objectives import *\n",
    "from desc.objectives.objective_funs import _Objective\n",
    "from desc.plotting import plot_1d, plot_2d, plot_3d, plot_section, plot_surfaces, plot_comparison\n",
    "\n",
    "from desc.plotting import *\n",
    "\n",
    "from desc.transform import Transform\n",
    "from desc.vmec import VMECIO\n",
    "from desc.derivatives import Derivative\n",
    "from desc.geometry import FourierRZToroidalSurface\n",
    "from desc.profiles import SplineProfile, PowerSeriesProfile\n",
    "\n",
    "from desc.magnetic_fields import ( SplineMagneticField, \n",
    "                                  #biot_savart_general, \n",
    "                                  FourierCurrentPotentialField, ToroidalMagneticField,\n",
    "                                  field_line_integrate)\n",
    "\n",
    "import desc.examples\n",
    "\n",
    "from desc.backend import fori_loop, jit, jnp, odeint, sign\n",
    "from desc.compute import rpz2xyz, rpz2xyz_vec, xyz2rpz, xyz2rpz_vec\n",
    "from desc.coils import *\n",
    "\n",
    "from desc.utils import Timer, copy_coeffs, errorif, setdefault, svd_inv_null, warnif\n",
    "from desc.utils import flatten_list\n",
    "#from ..utils import cross, dot, safediv, safenorm\n",
    "#from desc.compute.utils import cross\n",
    "#from desc.compute.utils import dot\n",
    "\n",
    "from desc.optimize import lsqtr, lsq_auglag\n",
    "\n",
    "from scipy.optimize import NonlinearConstraint \n",
    "\n",
    "from desc.magnetic_fields import ( SplineMagneticField, \n",
    "                                  #biot_savart_general, \n",
    "                                  FourierCurrentPotentialField, \n",
    "                                  ToroidalMagneticField,\n",
    "                                  field_line_integrate)\n",
    "\n",
    "import time\n",
    "\n",
    "import numpy as np\n",
    "from numpy.linalg import eig\n",
    "\n",
    "from scipy.linalg import null_space\n",
    "from numpy import ndarray\n",
    "\n",
    "\n",
    "from desc.derivatives import Derivative"
   ]
  },
  {
   "cell_type": "code",
   "execution_count": 4,
   "id": "7facc8bb",
   "metadata": {
    "execution": {
     "iopub.execute_input": "2024-10-28T22:54:55.101254Z",
     "iopub.status.busy": "2024-10-28T22:54:55.101039Z",
     "iopub.status.idle": "2024-10-28T22:54:55.104154Z",
     "shell.execute_reply": "2024-10-28T22:54:55.103820Z"
    }
   },
   "outputs": [],
   "source": [
    "#from desc.continuation import solve_continuation_automatic\n",
    "\n",
    "from desc.objectives import (\n",
    "    #AspectRatio,\n",
    "    #FixBoundaryR,\n",
    "    #FixBoundaryZ,\n",
    "    #FixCurrent,\n",
    "    #FixPressure,\n",
    "    #FixPsi,\n",
    "    #ForceBalance,\n",
    "    ObjectiveFunction,\n",
    "    #QuasisymmetryTwoTerm,\n",
    "    #RotationalTransform,\n",
    "    FixParameters, \n",
    "    ShareParameters,\n",
    "    QuadraticFlux, \n",
    "    SurfaceCurrentRegularization, \n",
    "    bRegularization,\n",
    "    PlasmaVesselDistance,\n",
    "    MeanCurvature,\n",
    "    PrincipalCurvature,\n",
    ")\n",
    "from desc.optimize import Optimizer"
   ]
  },
  {
   "cell_type": "code",
   "execution_count": 5,
   "id": "8372a00d-f467-4978-9ce0-a74349ed71c9",
   "metadata": {
    "execution": {
     "iopub.execute_input": "2024-10-28T22:54:55.105717Z",
     "iopub.status.busy": "2024-10-28T22:54:55.105588Z",
     "iopub.status.idle": "2024-10-28T22:54:56.696836Z",
     "shell.execute_reply": "2024-10-28T22:54:56.696418Z"
    },
    "scrolled": true
   },
   "outputs": [],
   "source": [
    "# Plasma surfaces\n",
    "eqname_QA = \"/home/fcastro/LMStell/regcoil/rogerio/input.QA_final_output.h5\" #vacuum equilibrium\n",
    "eq_QA = desc.io.load(eqname_QA)[4]\n",
    "\n",
    "eqname_QH = \"/home/fcastro/LMStell/regcoil/rogerio/input.QH_final_output.h5\" #vacuum equilibrium\n",
    "eq_QH = desc.io.load(eqname_QH)[4]"
   ]
  },
  {
   "cell_type": "code",
   "execution_count": 6,
   "id": "6aa6bf12",
   "metadata": {
    "execution": {
     "iopub.execute_input": "2024-10-28T22:54:56.698956Z",
     "iopub.status.busy": "2024-10-28T22:54:56.698819Z",
     "iopub.status.idle": "2024-10-28T22:55:00.714374Z",
     "shell.execute_reply": "2024-10-28T22:55:00.713949Z"
    }
   },
   "outputs": [],
   "source": [
    "G_QA = eq_QA.compute(\"G\")[\"G\"][-1] / mu_0 * 2*np.pi\n",
    "G_QH = eq_QH.compute(\"G\")[\"G\"][-1] / mu_0 * 2*np.pi"
   ]
  },
  {
   "cell_type": "code",
   "execution_count": 7,
   "id": "c930a631",
   "metadata": {
    "execution": {
     "iopub.execute_input": "2024-10-28T22:55:00.716414Z",
     "iopub.status.busy": "2024-10-28T22:55:00.716277Z",
     "iopub.status.idle": "2024-10-28T22:55:01.270730Z",
     "shell.execute_reply": "2024-10-28T22:55:01.270295Z"
    }
   },
   "outputs": [],
   "source": [
    "eq = eq_QA\n",
    "\n",
    "R0 = 1.0\n",
    "a = 0.3\n",
    "\n",
    "surf = FourierRZToroidalSurface(R_lmn=[R0,a], \n",
    "                                Z_lmn=[-a],\n",
    "                                modes_R=np.array([[0,0],[1,0]]),\n",
    "                                modes_Z=np.array([[-1,0]]),\n",
    "                                NFP=eq.NFP\n",
    "                               )\n",
    "surf.change_resolution(N=eq.N)\n",
    "\n",
    "eq.axis.R_n = eq_QA.axis.R_n + 0.5*(eq_QH.axis.R_n - eq_QA.axis.R_n)\n",
    "eq.axis.Z_n = eq_QA.axis.Z_n + 0.5*(eq_QH.axis.Z_n - eq_QA.axis.Z_n)\n",
    "\n",
    "######\n",
    "for coef, mode in zip(eq.axis.R_n, eq.axis.R_basis.modes):\n",
    "    n = mode[-1]\n",
    "    surf.R_lmn=surf.R_lmn.at[surf.R_basis.get_idx(M=0,N=n)].set( coef)\n",
    "for coef, mode in zip(eq.axis.Z_n, eq.axis.Z_basis.modes):\n",
    "    n = mode[-1]\n",
    "    surf.Z_lmn=surf.Z_lmn.at[surf.Z_basis.get_idx(M=0,N=n)].set( coef)"
   ]
  },
  {
   "cell_type": "code",
   "execution_count": 8,
   "id": "045dac77",
   "metadata": {
    "execution": {
     "iopub.execute_input": "2024-10-28T22:55:01.273050Z",
     "iopub.status.busy": "2024-10-28T22:55:01.272898Z",
     "iopub.status.idle": "2024-10-28T22:55:01.596854Z",
     "shell.execute_reply": "2024-10-28T22:55:01.596421Z"
    }
   },
   "outputs": [],
   "source": [
    "surf1 = surf\n",
    "\n",
    "surf1.change_resolution(M=12,N=12)\n",
    "\n",
    "# Generate a Surface Current field for RQA\n",
    "surf1 = FourierCurrentPotentialField.from_surface(surf1,M_Phi=12,N_Phi=12,sym_Phi=False, I=0, G=G_QA)\n",
    "\n",
    "# Generate a Surface Current field for RQH\n",
    "surf2 = surf1.copy()\n",
    "surf2.G = G_QH"
   ]
  },
  {
   "cell_type": "code",
   "execution_count": 9,
   "id": "39ce8101",
   "metadata": {
    "execution": {
     "iopub.execute_input": "2024-10-28T22:55:01.599109Z",
     "iopub.status.busy": "2024-10-28T22:55:01.598971Z",
     "iopub.status.idle": "2024-10-28T22:55:01.604508Z",
     "shell.execute_reply": "2024-10-28T22:55:01.604190Z"
    }
   },
   "outputs": [
    {
     "data": {
      "text/plain": [
       "3"
      ]
     },
     "execution_count": 9,
     "metadata": {},
     "output_type": "execute_result"
    }
   ],
   "source": [
    "eq_QA.NFP"
   ]
  },
  {
   "cell_type": "code",
   "execution_count": 10,
   "id": "119f21fc",
   "metadata": {
    "execution": {
     "iopub.execute_input": "2024-10-28T22:55:01.605981Z",
     "iopub.status.busy": "2024-10-28T22:55:01.605858Z",
     "iopub.status.idle": "2024-10-28T22:55:01.609224Z",
     "shell.execute_reply": "2024-10-28T22:55:01.608910Z"
    }
   },
   "outputs": [
    {
     "data": {
      "text/plain": [
       "3"
      ]
     },
     "execution_count": 10,
     "metadata": {},
     "output_type": "execute_result"
    }
   ],
   "source": [
    "eq_QH.NFP"
   ]
  },
  {
   "cell_type": "code",
   "execution_count": 11,
   "id": "5b01f328",
   "metadata": {
    "execution": {
     "iopub.execute_input": "2024-10-28T22:55:01.610652Z",
     "iopub.status.busy": "2024-10-28T22:55:01.610529Z",
     "iopub.status.idle": "2024-10-28T22:55:06.645128Z",
     "shell.execute_reply": "2024-10-28T22:55:06.644748Z"
    }
   },
   "outputs": [
    {
     "data": {
      "text/plain": [
       "(<Figure size 864x720 with 6 Axes>,\n",
       " array([<Axes: title={'center': '$\\\\phi \\\\cdot N_{FP}/2\\\\pi = 0.000$'}, xlabel='$R ~(\\\\mathrm{m})$', ylabel='$Z ~(\\\\mathrm{m})$'>,\n",
       "        <Axes: title={'center': '$\\\\phi \\\\cdot N_{FP}/2\\\\pi = 0.167$'}, xlabel='$R ~(\\\\mathrm{m})$', ylabel='$Z ~(\\\\mathrm{m})$'>,\n",
       "        <Axes: title={'center': '$\\\\phi \\\\cdot N_{FP}/2\\\\pi = 0.333$'}, xlabel='$R ~(\\\\mathrm{m})$', ylabel='$Z ~(\\\\mathrm{m})$'>,\n",
       "        <Axes: title={'center': '$\\\\phi \\\\cdot N_{FP}/2\\\\pi = 0.500$'}, xlabel='$R ~(\\\\mathrm{m})$', ylabel='$Z ~(\\\\mathrm{m})$'>,\n",
       "        <Axes: title={'center': '$\\\\phi \\\\cdot N_{FP}/2\\\\pi = 0.667$'}, xlabel='$R ~(\\\\mathrm{m})$', ylabel='$Z ~(\\\\mathrm{m})$'>,\n",
       "        <Axes: title={'center': '$\\\\phi \\\\cdot N_{FP}/2\\\\pi = 0.833$'}, xlabel='$R ~(\\\\mathrm{m})$', ylabel='$Z ~(\\\\mathrm{m})$'>],\n",
       "       dtype=object))"
      ]
     },
     "execution_count": 11,
     "metadata": {},
     "output_type": "execute_result"
    },
    {
     "data": {
      "image/png": "[encoded data removed]",
      "text/plain": [
       "<Figure size 864x720 with 6 Axes>"
      ]
     },
     "metadata": {},
     "output_type": "display_data"
    }
   ],
   "source": [
    "plot_comparison([surf1,eq_QA,eq_QH],\n",
    "                labels=[\"WS\",\"RQA\",\"RQH\"],\n",
    "                theta=0,rho=np.array(1.0)\n",
    "               )"
   ]
  },
  {
   "cell_type": "code",
   "execution_count": 12,
   "id": "a182030f",
   "metadata": {
    "execution": {
     "iopub.execute_input": "2024-10-28T22:55:06.646886Z",
     "iopub.status.busy": "2024-10-28T22:55:06.646748Z",
     "iopub.status.idle": "2024-10-28T22:55:06.649108Z",
     "shell.execute_reply": "2024-10-28T22:55:06.648793Z"
    }
   },
   "outputs": [],
   "source": [
    "## setup opt problem\n",
    "# use QuadraticFlux as eq's are fixed and want fields to change\n",
    "# use ShareParameters to keep surface geoms constant equal to eachother as they vary with surface current to reduce Bn\n",
    "# first, keep surfs fixed too and just get regcoil-like solutions for each"
   ]
  },
  {
   "cell_type": "code",
   "execution_count": 13,
   "id": "79a82b9d",
   "metadata": {
    "execution": {
     "iopub.execute_input": "2024-10-28T22:55:06.650503Z",
     "iopub.status.busy": "2024-10-28T22:55:06.650382Z",
     "iopub.status.idle": "2024-10-28T22:55:06.657452Z",
     "shell.execute_reply": "2024-10-28T22:55:06.657138Z"
    }
   },
   "outputs": [],
   "source": [
    "# Grids\n",
    "Megrid = 20\n",
    "Negrid = 20\n",
    "\n",
    "Msgrid = 20\n",
    "Nsgrid = 20\n",
    "\n",
    "egrid = LinearGrid(M=Megrid,N=Negrid,\n",
    "                   #NFP = 1,\n",
    "                   NFP=eq.NFP,\n",
    "                   sym=False)\n",
    "\n",
    "sgrid = LinearGrid(M=Msgrid,N=Nsgrid,\n",
    "                   #NFP = 1,\n",
    "                   NFP=eq.NFP,\n",
    "                   sym=False) "
   ]
  },
  {
   "cell_type": "code",
   "execution_count": 14,
   "id": "576232f6",
   "metadata": {
    "execution": {
     "iopub.execute_input": "2024-10-28T22:55:06.660838Z",
     "iopub.status.busy": "2024-10-28T22:55:06.660704Z",
     "iopub.status.idle": "2024-10-28T22:55:06.663435Z",
     "shell.execute_reply": "2024-10-28T22:55:06.663120Z"
    }
   },
   "outputs": [],
   "source": [
    "flux_QA = QuadraticFlux(eq_QA,surf1,field_grid=sgrid,\n",
    "                        eval_grid=egrid,vacuum=True,\n",
    "                        name=\"Bn error  eq_QA\")\n",
    "\n",
    "flux_QH = QuadraticFlux(eq_QH,surf2,field_grid=sgrid,\n",
    "                        eval_grid=egrid,vacuum=True,\n",
    "                        name=\"Bn error  eq_QH\")"
   ]
  },
  {
   "cell_type": "code",
   "execution_count": 15,
   "id": "e69ea5fe",
   "metadata": {
    "execution": {
     "iopub.execute_input": "2024-10-28T22:55:06.664854Z",
     "iopub.status.busy": "2024-10-28T22:55:06.664727Z",
     "iopub.status.idle": "2024-10-28T22:55:34.648308Z",
     "shell.execute_reply": "2024-10-28T22:55:34.647834Z"
    }
   },
   "outputs": [
    {
     "name": "stdout",
     "output_type": "stream",
     "text": [
      "Building objective: Bn error  eq_QA"
     ]
    },
    {
     "name": "stdout",
     "output_type": "stream",
     "text": [
      "\n"
     ]
    },
    {
     "name": "stdout",
     "output_type": "stream",
     "text": [
      "Precomputing transforms"
     ]
    },
    {
     "name": "stdout",
     "output_type": "stream",
     "text": [
      "\n"
     ]
    },
    {
     "name": "stdout",
     "output_type": "stream",
     "text": [
      "Timer: Precomputing transforms = 1.15 sec"
     ]
    },
    {
     "name": "stdout",
     "output_type": "stream",
     "text": [
      "\n"
     ]
    },
    {
     "name": "stdout",
     "output_type": "stream",
     "text": [
      "Building objective: Bn error  eq_QH"
     ]
    },
    {
     "name": "stdout",
     "output_type": "stream",
     "text": [
      "\n"
     ]
    },
    {
     "name": "stdout",
     "output_type": "stream",
     "text": [
      "Precomputing transforms"
     ]
    },
    {
     "name": "stdout",
     "output_type": "stream",
     "text": [
      "\n"
     ]
    },
    {
     "name": "stdout",
     "output_type": "stream",
     "text": [
      "Timer: Precomputing transforms = 44.7 ms"
     ]
    },
    {
     "name": "stdout",
     "output_type": "stream",
     "text": [
      "\n"
     ]
    },
    {
     "name": "stdout",
     "output_type": "stream",
     "text": [
      "Timer: Objective build = 1.59 sec"
     ]
    },
    {
     "name": "stdout",
     "output_type": "stream",
     "text": [
      "\n"
     ]
    },
    {
     "name": "stdout",
     "output_type": "stream",
     "text": [
      "Building objective: fixed parameters"
     ]
    },
    {
     "name": "stdout",
     "output_type": "stream",
     "text": [
      "\n"
     ]
    },
    {
     "name": "stdout",
     "output_type": "stream",
     "text": [
      "Building objective: fixed parameters"
     ]
    },
    {
     "name": "stdout",
     "output_type": "stream",
     "text": [
      "\n"
     ]
    },
    {
     "name": "stdout",
     "output_type": "stream",
     "text": [
      "Timer: Objective build = 205 ms"
     ]
    },
    {
     "name": "stdout",
     "output_type": "stream",
     "text": [
      "\n"
     ]
    },
    {
     "name": "stdout",
     "output_type": "stream",
     "text": [
      "Timer: Linear constraint projection build = 3.02 sec"
     ]
    },
    {
     "name": "stdout",
     "output_type": "stream",
     "text": [
      "\n"
     ]
    },
    {
     "name": "stdout",
     "output_type": "stream",
     "text": [
      "Number of parameters: 1250"
     ]
    },
    {
     "name": "stdout",
     "output_type": "stream",
     "text": [
      "\n"
     ]
    },
    {
     "name": "stdout",
     "output_type": "stream",
     "text": [
      "Number of objectives: 3362"
     ]
    },
    {
     "name": "stdout",
     "output_type": "stream",
     "text": [
      "\n"
     ]
    },
    {
     "name": "stdout",
     "output_type": "stream",
     "text": [
      "Timer: Initializing the optimization = 4.90 sec"
     ]
    },
    {
     "name": "stdout",
     "output_type": "stream",
     "text": [
      "\n"
     ]
    },
    {
     "name": "stdout",
     "output_type": "stream",
     "text": [
      "\n",
      "Starting optimization"
     ]
    },
    {
     "name": "stdout",
     "output_type": "stream",
     "text": [
      "\n"
     ]
    },
    {
     "name": "stdout",
     "output_type": "stream",
     "text": [
      "Using method: lsq-exact"
     ]
    },
    {
     "name": "stdout",
     "output_type": "stream",
     "text": [
      "\n"
     ]
    },
    {
     "name": "stdout",
     "output_type": "stream",
     "text": [
      "   Iteration     Total nfev        Cost      Cost reduction    Step norm     Optimality   "
     ]
    },
    {
     "name": "stdout",
     "output_type": "stream",
     "text": [
      "\n"
     ]
    },
    {
     "name": "stdout",
     "output_type": "stream",
     "text": [
      "       0              1          3.073e+02                                    2.083e-03   "
     ]
    },
    {
     "name": "stdout",
     "output_type": "stream",
     "text": [
      "\n"
     ]
    },
    {
     "name": "stderr",
     "output_type": "stream",
     "text": [
      "/home/fcastro/DESC/desc/optimize/least_squares.py:346: RuntimeWarning: invalid value encountered in scalar divide\n",
      "  alpha *= tr_old / trust_radius\n"
     ]
    },
    {
     "name": "stdout",
     "output_type": "stream",
     "text": [
      "       1              2          4.533e-08      3.073e+02      5.753e+05      1.390e-13   "
     ]
    },
    {
     "name": "stdout",
     "output_type": "stream",
     "text": [
      "\n"
     ]
    },
    {
     "name": "stdout",
     "output_type": "stream",
     "text": [
      "       2              4          4.533e-08      7.741e-19      8.772e-06      1.378e-13   "
     ]
    },
    {
     "name": "stdout",
     "output_type": "stream",
     "text": [
      "\n"
     ]
    },
    {
     "name": "stdout",
     "output_type": "stream",
     "text": [
      "       3              5          4.533e-08      1.327e-18      1.745e-05      1.353e-13   "
     ]
    },
    {
     "name": "stdout",
     "output_type": "stream",
     "text": [
      "\n"
     ]
    },
    {
     "name": "stdout",
     "output_type": "stream",
     "text": [
      "       4              6          4.533e-08      2.633e-18      3.462e-05      1.304e-13   "
     ]
    },
    {
     "name": "stdout",
     "output_type": "stream",
     "text": [
      "\n"
     ]
    },
    {
     "name": "stdout",
     "output_type": "stream",
     "text": [
      "       5              7          4.533e-08      5.351e-18      6.866e-05      1.209e-13   "
     ]
    },
    {
     "name": "stdout",
     "output_type": "stream",
     "text": [
      "\n"
     ]
    },
    {
     "name": "stdout",
     "output_type": "stream",
     "text": [
      "Warning: Maximum number of iterations has been exceeded."
     ]
    },
    {
     "name": "stdout",
     "output_type": "stream",
     "text": [
      "\n"
     ]
    },
    {
     "name": "stdout",
     "output_type": "stream",
     "text": [
      "         Current function value: 4.533e-08"
     ]
    },
    {
     "name": "stdout",
     "output_type": "stream",
     "text": [
      "\n"
     ]
    },
    {
     "name": "stdout",
     "output_type": "stream",
     "text": [
      "         Total delta_x: 5.753e+05"
     ]
    },
    {
     "name": "stdout",
     "output_type": "stream",
     "text": [
      "\n"
     ]
    },
    {
     "name": "stdout",
     "output_type": "stream",
     "text": [
      "         Iterations: 5"
     ]
    },
    {
     "name": "stdout",
     "output_type": "stream",
     "text": [
      "\n"
     ]
    },
    {
     "name": "stdout",
     "output_type": "stream",
     "text": [
      "         Function evaluations: 7"
     ]
    },
    {
     "name": "stdout",
     "output_type": "stream",
     "text": [
      "\n"
     ]
    },
    {
     "name": "stdout",
     "output_type": "stream",
     "text": [
      "         Jacobian evaluations: 6"
     ]
    },
    {
     "name": "stdout",
     "output_type": "stream",
     "text": [
      "\n"
     ]
    },
    {
     "name": "stdout",
     "output_type": "stream",
     "text": [
      "Timer: Solution time = 17.6 sec"
     ]
    },
    {
     "name": "stdout",
     "output_type": "stream",
     "text": [
      "\n"
     ]
    },
    {
     "name": "stdout",
     "output_type": "stream",
     "text": [
      "Timer: Avg time per step = 2.94 sec"
     ]
    },
    {
     "name": "stdout",
     "output_type": "stream",
     "text": [
      "\n"
     ]
    },
    {
     "name": "stdout",
     "output_type": "stream",
     "text": [
      "=============================================================================================================="
     ]
    },
    {
     "name": "stdout",
     "output_type": "stream",
     "text": [
      "\n"
     ]
    },
    {
     "name": "stdout",
     "output_type": "stream",
     "text": [
      "                                                                 Start  -->   End"
     ]
    },
    {
     "name": "stdout",
     "output_type": "stream",
     "text": [
      "\n"
     ]
    },
    {
     "name": "stdout",
     "output_type": "stream",
     "text": [
      "Total (sum of squares):                                      3.073e+02  -->   4.533e-08, "
     ]
    },
    {
     "name": "stdout",
     "output_type": "stream",
     "text": [
      "\n"
     ]
    },
    {
     "name": "stdout",
     "output_type": "stream",
     "text": [
      "Maximum absolute Boundary normal field error:                3.501e-02  -->   2.621e-08 (T m^2)"
     ]
    },
    {
     "name": "stdout",
     "output_type": "stream",
     "text": [
      "\n"
     ]
    },
    {
     "name": "stdout",
     "output_type": "stream",
     "text": [
      "Minimum absolute Boundary normal field error:                3.129e-17  -->   3.648e-12 (T m^2)"
     ]
    },
    {
     "name": "stdout",
     "output_type": "stream",
     "text": [
      "\n"
     ]
    },
    {
     "name": "stdout",
     "output_type": "stream",
     "text": [
      "Average absolute Boundary normal field error:                1.035e-02  -->   4.241e-09 (T m^2)"
     ]
    },
    {
     "name": "stdout",
     "output_type": "stream",
     "text": [
      "\n"
     ]
    },
    {
     "name": "stdout",
     "output_type": "stream",
     "text": [
      "Maximum absolute Boundary normal field error:                3.169e-01  -->   2.373e-07 (normalized)"
     ]
    },
    {
     "name": "stdout",
     "output_type": "stream",
     "text": [
      "\n"
     ]
    },
    {
     "name": "stdout",
     "output_type": "stream",
     "text": [
      "Minimum absolute Boundary normal field error:                2.832e-16  -->   3.301e-11 (normalized)"
     ]
    },
    {
     "name": "stdout",
     "output_type": "stream",
     "text": [
      "\n"
     ]
    },
    {
     "name": "stdout",
     "output_type": "stream",
     "text": [
      "Average absolute Boundary normal field error:                9.372e-02  -->   3.839e-08 (normalized)"
     ]
    },
    {
     "name": "stdout",
     "output_type": "stream",
     "text": [
      "\n"
     ]
    },
    {
     "name": "stdout",
     "output_type": "stream",
     "text": [
      "Maximum absolute Boundary normal field error:                7.879e-02  -->   2.256e-06 (T m^2)"
     ]
    },
    {
     "name": "stdout",
     "output_type": "stream",
     "text": [
      "\n"
     ]
    },
    {
     "name": "stdout",
     "output_type": "stream",
     "text": [
      "Minimum absolute Boundary normal field error:                3.296e-17  -->   9.960e-17 (T m^2)"
     ]
    },
    {
     "name": "stdout",
     "output_type": "stream",
     "text": [
      "\n"
     ]
    },
    {
     "name": "stdout",
     "output_type": "stream",
     "text": [
      "Average absolute Boundary normal field error:                2.717e-02  -->   3.080e-07 (T m^2)"
     ]
    },
    {
     "name": "stdout",
     "output_type": "stream",
     "text": [
      "\n"
     ]
    },
    {
     "name": "stdout",
     "output_type": "stream",
     "text": [
      "Maximum absolute Boundary normal field error:                1.383e+00  -->   3.959e-05 (normalized)"
     ]
    },
    {
     "name": "stdout",
     "output_type": "stream",
     "text": [
      "\n"
     ]
    },
    {
     "name": "stdout",
     "output_type": "stream",
     "text": [
      "Minimum absolute Boundary normal field error:                5.784e-16  -->   1.748e-15 (normalized)"
     ]
    },
    {
     "name": "stdout",
     "output_type": "stream",
     "text": [
      "\n"
     ]
    },
    {
     "name": "stdout",
     "output_type": "stream",
     "text": [
      "Average absolute Boundary normal field error:                4.768e-01  -->   5.404e-06 (normalized)"
     ]
    },
    {
     "name": "stdout",
     "output_type": "stream",
     "text": [
      "\n"
     ]
    },
    {
     "name": "stdout",
     "output_type": "stream",
     "text": [
      "Fixed parameters error:                                      0.000e+00  -->   0.000e+00 (~)"
     ]
    },
    {
     "name": "stdout",
     "output_type": "stream",
     "text": [
      "\n"
     ]
    },
    {
     "name": "stdout",
     "output_type": "stream",
     "text": [
      "Fixed parameters error:                                      0.000e+00  -->   0.000e+00 (~)"
     ]
    },
    {
     "name": "stdout",
     "output_type": "stream",
     "text": [
      "\n"
     ]
    },
    {
     "name": "stdout",
     "output_type": "stream",
     "text": [
      "=============================================================================================================="
     ]
    },
    {
     "name": "stdout",
     "output_type": "stream",
     "text": [
      "\n"
     ]
    }
   ],
   "source": [
    "obj = ObjectiveFunction((flux_QA,\n",
    "                         flux_QH,\n",
    "                        )\n",
    "                       )\n",
    "constraints = (\n",
    "    FixParameters(surf1,{\"I\":True,\"G\":True,\"R_lmn\":True, \"Z_lmn\":True}),\n",
    "    FixParameters(surf2,{\"I\":True,\"G\":True,\"R_lmn\":True, \"Z_lmn\":True}),\n",
    ") # fix the secular parts as well\n",
    "                        \n",
    "opt = Optimizer(\"lsq-exact\")\n",
    "\n",
    "(surf1, surf2), _ = opt.optimize([surf1, surf2], \n",
    "                                 objective=obj, \n",
    "                                 constraints=constraints,\n",
    "                                 verbose=3,\n",
    "                                 maxiter=5,\n",
    "                                 ftol = 0,#1e-8,\n",
    "                                 gtol = 0,#1e-8,\n",
    "                                 xtol = 0,#1e-8,\n",
    "                                 options={\"initial_trust_radius\":np.inf})\n"
   ]
  },
  {
   "cell_type": "code",
   "execution_count": 16,
   "id": "eb4fb7bc",
   "metadata": {
    "execution": {
     "iopub.execute_input": "2024-10-28T22:55:34.650305Z",
     "iopub.status.busy": "2024-10-28T22:55:34.650160Z",
     "iopub.status.idle": "2024-10-28T22:55:34.654275Z",
     "shell.execute_reply": "2024-10-28T22:55:34.653956Z"
    }
   },
   "outputs": [
    {
     "data": {
      "text/plain": [
       "3"
      ]
     },
     "execution_count": 16,
     "metadata": {},
     "output_type": "execute_result"
    }
   ],
   "source": [
    "surf1.NFP"
   ]
  },
  {
   "cell_type": "code",
   "execution_count": 17,
   "id": "aac1070e",
   "metadata": {
    "execution": {
     "iopub.execute_input": "2024-10-28T22:55:34.655711Z",
     "iopub.status.busy": "2024-10-28T22:55:34.655587Z",
     "iopub.status.idle": "2024-10-28T22:55:49.418295Z",
     "shell.execute_reply": "2024-10-28T22:55:49.417930Z"
    }
   },
   "outputs": [
    {
     "data": {
      "text/plain": [
       "Text(0.5, 1.0, 'Phi surf2')"
      ]
     },
     "execution_count": 17,
     "metadata": {},
     "output_type": "execute_result"
    },
    {
     "data": {
      "image/png": "[encoded data removed]",
      "text/plain": [
       "<Figure size 432x432 with 2 Axes>"
      ]
     },
     "metadata": {},
     "output_type": "display_data"
    },
    {
     "data": {
      "image/png": "[encoded data removed]",
      "text/plain": [
       "<Figure size 432x432 with 2 Axes>"
      ]
     },
     "metadata": {},
     "output_type": "display_data"
    },
    {
     "data": {
      "image/png": "[encoded data removed]",
      "text/plain": [
       "<Figure size 432x432 with 2 Axes>"
      ]
     },
     "metadata": {},
     "output_type": "display_data"
    },
    {
     "data": {
      "image/png": "[encoded data removed]",
      "text/plain": [
       "<Figure size 432x432 with 2 Axes>"
      ]
     },
     "metadata": {},
     "output_type": "display_data"
    }
   ],
   "source": [
    "# look at Phi and Bn\n",
    "denser_source_grid = LinearGrid(M=40,N=40,\n",
    "                                #NFP=eq_QA.NFP\n",
    "                               )\n",
    "plot_2d(eq_QA,\"B*n\",field=surf1, field_grid=denser_source_grid)\n",
    "plt.title(\"Eq 1 Bn error from surf1\")\n",
    "\n",
    "plot_2d(surf1, \"Phi\")\n",
    "plt.title(\"Phi surf1\")\n",
    "\n",
    "\n",
    "plot_2d(eq_QH,\"B*n\",field=surf2, field_grid=denser_source_grid)\n",
    "plt.title(\"Eq 2 Bn error from surf2\")\n",
    "plot_2d(surf2, \"Phi\")\n",
    "plt.title(\"Phi surf2\")"
   ]
  },
  {
   "cell_type": "code",
   "execution_count": 18,
   "id": "1698fbf4",
   "metadata": {
    "execution": {
     "iopub.execute_input": "2024-10-28T22:55:49.420036Z",
     "iopub.status.busy": "2024-10-28T22:55:49.419904Z",
     "iopub.status.idle": "2024-10-28T22:55:49.422265Z",
     "shell.execute_reply": "2024-10-28T22:55:49.421956Z"
    }
   },
   "outputs": [],
   "source": [
    "## setup opt problem\n",
    "# use QuadraticFlux as eq's are fixed and want fields to change\n",
    "# use ShareParameters to keep surface geoms constant equal\n",
    "# to eachother as they vary with surface current to reduce Bn"
   ]
  },
  {
   "cell_type": "code",
   "execution_count": 19,
   "id": "7057e33e",
   "metadata": {
    "execution": {
     "iopub.execute_input": "2024-10-28T22:55:49.423662Z",
     "iopub.status.busy": "2024-10-28T22:55:49.423540Z",
     "iopub.status.idle": "2024-10-28T22:55:49.426921Z",
     "shell.execute_reply": "2024-10-28T22:55:49.426599Z"
    }
   },
   "outputs": [],
   "source": [
    "# Distance target\n",
    "min_QA = 0.12\n",
    "max_QA = 0.2\n",
    "\n",
    "min_QH = 0.1\n",
    "max_QH = 0.2\n",
    "\n",
    "# Distance to veseel penalization\n",
    "obj_dist_QA = PlasmaVesselDistance(\n",
    "    eq_QA,\n",
    "    surf1,\n",
    "    bounds=(min_QA,max_QA),\n",
    "    #target = 0.15,\n",
    "    plasma_grid=egrid,\n",
    "    surface_grid=sgrid,\n",
    "    eq_fixed=True,\n",
    "    #softmin_alpha = 1e6,\n",
    "    weight = 4.5,\n",
    "    use_signed_distance=True,\n",
    "    name=\"distance error  RQA\"\n",
    ")\n",
    "\n",
    "obj_dist_QH = PlasmaVesselDistance(\n",
    "    eq_QH,\n",
    "    surf1,\n",
    "    #target = 0.15,\n",
    "    bounds=(min_QH,max_QH),\n",
    "    plasma_grid=egrid,\n",
    "    surface_grid=sgrid,\n",
    "    eq_fixed=True,\n",
    "    #softmin_alpha = 1e6,\n",
    "    use_signed_distance=True,\n",
    "    weight = 6.5,\n",
    "    name=\"distance error  RQH\"\n",
    ")"
   ]
  },
  {
   "cell_type": "code",
   "execution_count": 20,
   "id": "c670843f",
   "metadata": {
    "execution": {
     "iopub.execute_input": "2024-10-28T22:55:49.428378Z",
     "iopub.status.busy": "2024-10-28T22:55:49.428257Z",
     "iopub.status.idle": "2024-10-28T22:55:49.431052Z",
     "shell.execute_reply": "2024-10-28T22:55:49.430734Z"
    }
   },
   "outputs": [],
   "source": [
    "mean_curv = -0.3\n",
    "min_mean_curv = 0#-0.5\n",
    "max_mean_curv = -0.15\n",
    "\n",
    "obj_mean_curv = MeanCurvature(\n",
    "    surf1,\n",
    "    #target = mean_curv,\n",
    "    bounds = (-15,-10),\n",
    "    weight=1e0,\n",
    "    normalize=True,\n",
    "    normalize_target=True,\n",
    "    deriv_mode=\"auto\",\n",
    "    grid=sgrid,\n",
    "    name=\"Mean curvature\",\n",
    ")"
   ]
  },
  {
   "cell_type": "code",
   "execution_count": 21,
   "id": "65848857",
   "metadata": {
    "execution": {
     "iopub.execute_input": "2024-10-28T22:55:49.432498Z",
     "iopub.status.busy": "2024-10-28T22:55:49.432378Z",
     "iopub.status.idle": "2024-10-28T22:55:49.435009Z",
     "shell.execute_reply": "2024-10-28T22:55:49.434683Z"
    }
   },
   "outputs": [],
   "source": [
    "obj_prin_curv = PrincipalCurvature(surf1,\n",
    "        #target=None,\n",
    "        bounds=(-np.inf,0),\n",
    "        weight=5e-1,\n",
    "        #normalize=True,\n",
    "        #normalize_target=True,\n",
    "        #loss_function=None,\n",
    "        #deriv_mode=\"auto\",\n",
    "        grid=sgrid,\n",
    "        name=\"principal-curvature\",\n",
    "        #jac_chunk_size=None,\n",
    "    )"
   ]
  },
  {
   "cell_type": "code",
   "execution_count": 22,
   "id": "15770a22-d51a-4563-830c-661825292f47",
   "metadata": {
    "execution": {
     "iopub.execute_input": "2024-10-28T22:55:49.436476Z",
     "iopub.status.busy": "2024-10-28T22:55:49.436355Z",
     "iopub.status.idle": "2024-10-28T22:55:49.439228Z",
     "shell.execute_reply": "2024-10-28T22:55:49.438911Z"
    }
   },
   "outputs": [],
   "source": [
    "obj = ObjectiveFunction((#flux_QA,\n",
    "                         #flux_QH,\n",
    "                         obj_dist_QA,\n",
    "                         obj_dist_QH,\n",
    "                         #obj_mean_curv,\n",
    "                         obj_prin_curv,\n",
    "                         #surf_curr_reg_QA,\n",
    "                         #surf_curr_reg_QH,\n",
    "                         #obj_sigma_QA,\n",
    "                         #obj_sigma_QH,\n",
    "                        )\n",
    "                       )\n",
    "constraints = (\n",
    "    #FixParameters(surf1,{\"G\":True,}),# fix the secular poloidal current\n",
    "    #FixParameters(surf2,{\"G\":True,}),# fix the secular poloidal current\n",
    "    # make the 2 surfaces have the same geometry, dont need bc geom is fixed here\n",
    "    ShareParameters([surf1,surf2],params={\"R_lmn\":True, \"Z_lmn\":True}), \n",
    ")"
   ]
  },
  {
   "cell_type": "code",
   "execution_count": 23,
   "id": "afef6860",
   "metadata": {
    "execution": {
     "iopub.execute_input": "2024-10-28T22:55:49.440699Z",
     "iopub.status.busy": "2024-10-28T22:55:49.440578Z",
     "iopub.status.idle": "2024-10-28T22:55:49.442881Z",
     "shell.execute_reply": "2024-10-28T22:55:49.442559Z"
    }
   },
   "outputs": [],
   "source": [
    "# Choose the optimizer\n",
    "opt = Optimizer(\"lsq-exact\")"
   ]
  },
  {
   "cell_type": "code",
   "execution_count": 24,
   "id": "d796fa7c",
   "metadata": {
    "execution": {
     "iopub.execute_input": "2024-10-28T22:55:49.444345Z",
     "iopub.status.busy": "2024-10-28T22:55:49.444221Z",
     "iopub.status.idle": "2024-10-28T22:56:41.126311Z",
     "shell.execute_reply": "2024-10-28T22:56:41.125834Z"
    },
    "scrolled": false
   },
   "outputs": [
    {
     "name": "stdout",
     "output_type": "stream",
     "text": [
      "Building objective: distance error  RQA"
     ]
    },
    {
     "name": "stdout",
     "output_type": "stream",
     "text": [
      "\n"
     ]
    },
    {
     "name": "stdout",
     "output_type": "stream",
     "text": [
      "Precomputing transforms"
     ]
    },
    {
     "name": "stdout",
     "output_type": "stream",
     "text": [
      "\n"
     ]
    },
    {
     "name": "stdout",
     "output_type": "stream",
     "text": [
      "Timer: Precomputing transforms = 129 ms"
     ]
    },
    {
     "name": "stdout",
     "output_type": "stream",
     "text": [
      "\n"
     ]
    },
    {
     "name": "stdout",
     "output_type": "stream",
     "text": [
      "Building objective: distance error  RQH"
     ]
    },
    {
     "name": "stdout",
     "output_type": "stream",
     "text": [
      "\n"
     ]
    },
    {
     "name": "stdout",
     "output_type": "stream",
     "text": [
      "Precomputing transforms"
     ]
    },
    {
     "name": "stdout",
     "output_type": "stream",
     "text": [
      "\n"
     ]
    },
    {
     "name": "stdout",
     "output_type": "stream",
     "text": [
      "Timer: Precomputing transforms = 30.6 ms"
     ]
    },
    {
     "name": "stdout",
     "output_type": "stream",
     "text": [
      "\n"
     ]
    },
    {
     "name": "stdout",
     "output_type": "stream",
     "text": [
      "Building objective: principal-curvature"
     ]
    },
    {
     "name": "stdout",
     "output_type": "stream",
     "text": [
      "\n"
     ]
    },
    {
     "name": "stdout",
     "output_type": "stream",
     "text": [
      "Precomputing transforms"
     ]
    },
    {
     "name": "stdout",
     "output_type": "stream",
     "text": [
      "\n"
     ]
    },
    {
     "name": "stdout",
     "output_type": "stream",
     "text": [
      "Timer: Precomputing transforms = 36.7 ms"
     ]
    },
    {
     "name": "stdout",
     "output_type": "stream",
     "text": [
      "\n"
     ]
    },
    {
     "name": "stdout",
     "output_type": "stream",
     "text": [
      "Timer: Objective build = 261 ms"
     ]
    },
    {
     "name": "stdout",
     "output_type": "stream",
     "text": [
      "\n"
     ]
    },
    {
     "name": "stdout",
     "output_type": "stream",
     "text": [
      "Building objective: shared parameters"
     ]
    },
    {
     "name": "stdout",
     "output_type": "stream",
     "text": [
      "\n"
     ]
    },
    {
     "name": "stdout",
     "output_type": "stream",
     "text": [
      "Timer: Objective build = 4.86 ms"
     ]
    },
    {
     "name": "stdout",
     "output_type": "stream",
     "text": [
      "\n"
     ]
    },
    {
     "name": "stdout",
     "output_type": "stream",
     "text": [
      "Timer: Linear constraint projection build = 2.25 sec"
     ]
    },
    {
     "name": "stdout",
     "output_type": "stream",
     "text": [
      "\n"
     ]
    },
    {
     "name": "stdout",
     "output_type": "stream",
     "text": [
      "Number of parameters: 1879"
     ]
    },
    {
     "name": "stdout",
     "output_type": "stream",
     "text": [
      "\n"
     ]
    },
    {
     "name": "stdout",
     "output_type": "stream",
     "text": [
      "Number of objectives: 5043"
     ]
    },
    {
     "name": "stdout",
     "output_type": "stream",
     "text": [
      "\n"
     ]
    },
    {
     "name": "stdout",
     "output_type": "stream",
     "text": [
      "Timer: Initializing the optimization = 2.60 sec"
     ]
    },
    {
     "name": "stdout",
     "output_type": "stream",
     "text": [
      "\n"
     ]
    },
    {
     "name": "stdout",
     "output_type": "stream",
     "text": [
      "\n",
      "Starting optimization"
     ]
    },
    {
     "name": "stdout",
     "output_type": "stream",
     "text": [
      "\n"
     ]
    },
    {
     "name": "stdout",
     "output_type": "stream",
     "text": [
      "Using method: lsq-exact"
     ]
    },
    {
     "name": "stdout",
     "output_type": "stream",
     "text": [
      "\n"
     ]
    },
    {
     "name": "stdout",
     "output_type": "stream",
     "text": [
      "   Iteration     Total nfev        Cost      Cost reduction    Step norm     Optimality   "
     ]
    },
    {
     "name": "stdout",
     "output_type": "stream",
     "text": [
      "\n"
     ]
    },
    {
     "name": "stdout",
     "output_type": "stream",
     "text": [
      "       0              1          8.533e+03                                    5.758e+04   "
     ]
    },
    {
     "name": "stdout",
     "output_type": "stream",
     "text": [
      "\n"
     ]
    },
    {
     "name": "stdout",
     "output_type": "stream",
     "text": [
      "       1              3          2.948e+03      5.585e+03      9.937e-02      1.138e+04   "
     ]
    },
    {
     "name": "stdout",
     "output_type": "stream",
     "text": [
      "\n"
     ]
    },
    {
     "name": "stdout",
     "output_type": "stream",
     "text": [
      "       2              4          2.416e+03      5.320e+02      2.763e-02      1.437e+04   "
     ]
    },
    {
     "name": "stdout",
     "output_type": "stream",
     "text": [
      "\n"
     ]
    },
    {
     "name": "stdout",
     "output_type": "stream",
     "text": [
      "       3              5          2.198e+03      2.176e+02      7.613e-03      7.717e+03   "
     ]
    },
    {
     "name": "stdout",
     "output_type": "stream",
     "text": [
      "\n"
     ]
    },
    {
     "name": "stdout",
     "output_type": "stream",
     "text": [
      "       4              6          2.135e+03      6.317e+01      9.605e-03      1.200e+04   "
     ]
    },
    {
     "name": "stdout",
     "output_type": "stream",
     "text": [
      "\n"
     ]
    },
    {
     "name": "stdout",
     "output_type": "stream",
     "text": [
      "       5              7          1.975e+03      1.607e+02      6.157e-03      6.007e+03   "
     ]
    },
    {
     "name": "stdout",
     "output_type": "stream",
     "text": [
      "\n"
     ]
    },
    {
     "name": "stdout",
     "output_type": "stream",
     "text": [
      "       6              8          1.916e+03      5.841e+01      6.665e-03      6.679e+03   "
     ]
    },
    {
     "name": "stdout",
     "output_type": "stream",
     "text": [
      "\n"
     ]
    },
    {
     "name": "stdout",
     "output_type": "stream",
     "text": [
      "       7              9          1.833e+03      8.334e+01      5.016e-03      4.943e+03   "
     ]
    },
    {
     "name": "stdout",
     "output_type": "stream",
     "text": [
      "\n"
     ]
    },
    {
     "name": "stdout",
     "output_type": "stream",
     "text": [
      "       8             10          1.789e+03      4.353e+01      5.462e-03      5.523e+03   "
     ]
    },
    {
     "name": "stdout",
     "output_type": "stream",
     "text": [
      "\n"
     ]
    },
    {
     "name": "stdout",
     "output_type": "stream",
     "text": [
      "       9             11          1.730e+03      5.921e+01      4.310e-03      4.320e+03   "
     ]
    },
    {
     "name": "stdout",
     "output_type": "stream",
     "text": [
      "\n"
     ]
    },
    {
     "name": "stdout",
     "output_type": "stream",
     "text": [
      "      10             12          1.698e+03      3.226e+01      4.796e-03      5.457e+03   "
     ]
    },
    {
     "name": "stdout",
     "output_type": "stream",
     "text": [
      "\n"
     ]
    },
    {
     "name": "stdout",
     "output_type": "stream",
     "text": [
      "      11             13          1.651e+03      4.717e+01      3.707e-03      3.902e+03   "
     ]
    },
    {
     "name": "stdout",
     "output_type": "stream",
     "text": [
      "\n"
     ]
    },
    {
     "name": "stdout",
     "output_type": "stream",
     "text": [
      "      12             14          1.630e+03      2.106e+01      4.021e-03      6.413e+03   "
     ]
    },
    {
     "name": "stdout",
     "output_type": "stream",
     "text": [
      "\n"
     ]
    },
    {
     "name": "stdout",
     "output_type": "stream",
     "text": [
      "      13             15          1.595e+03      3.505e+01      3.249e-03      7.188e+03   "
     ]
    },
    {
     "name": "stdout",
     "output_type": "stream",
     "text": [
      "\n"
     ]
    },
    {
     "name": "stdout",
     "output_type": "stream",
     "text": [
      "      14             16          1.578e+03      1.608e+01      3.082e-03      9.120e+03   "
     ]
    },
    {
     "name": "stdout",
     "output_type": "stream",
     "text": [
      "\n"
     ]
    },
    {
     "name": "stdout",
     "output_type": "stream",
     "text": [
      "      15             17          1.555e+03      2.308e+01      2.517e-03      1.017e+04   "
     ]
    },
    {
     "name": "stdout",
     "output_type": "stream",
     "text": [
      "\n"
     ]
    },
    {
     "name": "stdout",
     "output_type": "stream",
     "text": [
      "      16             18          1.533e+03      2.259e+01      2.141e-03      7.587e+03   "
     ]
    },
    {
     "name": "stdout",
     "output_type": "stream",
     "text": [
      "\n"
     ]
    },
    {
     "name": "stdout",
     "output_type": "stream",
     "text": [
      "      17             19          1.520e+03      1.262e+01      2.221e-03      9.848e+03   "
     ]
    },
    {
     "name": "stdout",
     "output_type": "stream",
     "text": [
      "\n"
     ]
    },
    {
     "name": "stdout",
     "output_type": "stream",
     "text": [
      "      18             20          1.499e+03      2.167e+01      1.997e-03      7.065e+03   "
     ]
    },
    {
     "name": "stdout",
     "output_type": "stream",
     "text": [
      "\n"
     ]
    },
    {
     "name": "stdout",
     "output_type": "stream",
     "text": [
      "      19             21          1.487e+03      1.142e+01      2.084e-03      9.507e+03   "
     ]
    },
    {
     "name": "stdout",
     "output_type": "stream",
     "text": [
      "\n"
     ]
    },
    {
     "name": "stdout",
     "output_type": "stream",
     "text": [
      "      20             22          1.470e+03      1.741e+01      1.977e-03      8.103e+03   "
     ]
    },
    {
     "name": "stdout",
     "output_type": "stream",
     "text": [
      "\n"
     ]
    },
    {
     "name": "stdout",
     "output_type": "stream",
     "text": [
      "      21             23          1.457e+03      1.302e+01      1.881e-03      8.992e+03   "
     ]
    },
    {
     "name": "stdout",
     "output_type": "stream",
     "text": [
      "\n"
     ]
    },
    {
     "name": "stdout",
     "output_type": "stream",
     "text": [
      "      22             24          1.443e+03      1.361e+01      1.864e-03      8.027e+03   "
     ]
    },
    {
     "name": "stdout",
     "output_type": "stream",
     "text": [
      "\n"
     ]
    },
    {
     "name": "stdout",
     "output_type": "stream",
     "text": [
      "      23             25          1.429e+03      1.429e+01      1.759e-03      8.068e+03   "
     ]
    },
    {
     "name": "stdout",
     "output_type": "stream",
     "text": [
      "\n"
     ]
    },
    {
     "name": "stdout",
     "output_type": "stream",
     "text": [
      "      24             26          1.422e+03      6.807e+00      1.884e-03      8.629e+03   "
     ]
    },
    {
     "name": "stdout",
     "output_type": "stream",
     "text": [
      "\n"
     ]
    },
    {
     "name": "stdout",
     "output_type": "stream",
     "text": [
      "      25             27          1.405e+03      1.659e+01      4.393e-04      5.167e+03   "
     ]
    },
    {
     "name": "stdout",
     "output_type": "stream",
     "text": [
      "\n"
     ]
    },
    {
     "name": "stdout",
     "output_type": "stream",
     "text": [
      "      26             28          1.393e+03      1.207e+01      1.033e-03      3.695e+03   "
     ]
    },
    {
     "name": "stdout",
     "output_type": "stream",
     "text": [
      "\n"
     ]
    },
    {
     "name": "stdout",
     "output_type": "stream",
     "text": [
      "      27             29          1.383e+03      9.989e+00      1.219e-03      3.560e+03   "
     ]
    },
    {
     "name": "stdout",
     "output_type": "stream",
     "text": [
      "\n"
     ]
    },
    {
     "name": "stdout",
     "output_type": "stream",
     "text": [
      "      28             30          1.375e+03      8.080e+00      1.124e-03      4.908e+03   "
     ]
    },
    {
     "name": "stdout",
     "output_type": "stream",
     "text": [
      "\n"
     ]
    },
    {
     "name": "stdout",
     "output_type": "stream",
     "text": [
      "      29             31          1.367e+03      7.889e+00      1.060e-03      4.042e+03   "
     ]
    },
    {
     "name": "stdout",
     "output_type": "stream",
     "text": [
      "\n"
     ]
    },
    {
     "name": "stdout",
     "output_type": "stream",
     "text": [
      "      30             32          1.360e+03      7.251e+00      1.029e-03      4.619e+03   "
     ]
    },
    {
     "name": "stdout",
     "output_type": "stream",
     "text": [
      "\n"
     ]
    },
    {
     "name": "stdout",
     "output_type": "stream",
     "text": [
      "      31             33          1.353e+03      7.245e+00      1.030e-03      4.465e+03   "
     ]
    },
    {
     "name": "stdout",
     "output_type": "stream",
     "text": [
      "\n"
     ]
    },
    {
     "name": "stdout",
     "output_type": "stream",
     "text": [
      "      32             34          1.346e+03      6.448e+00      9.953e-04      6.047e+03   "
     ]
    },
    {
     "name": "stdout",
     "output_type": "stream",
     "text": [
      "\n"
     ]
    },
    {
     "name": "stdout",
     "output_type": "stream",
     "text": [
      "      33             35          1.340e+03      6.042e+00      9.472e-04      5.412e+03   "
     ]
    },
    {
     "name": "stdout",
     "output_type": "stream",
     "text": [
      "\n"
     ]
    },
    {
     "name": "stdout",
     "output_type": "stream",
     "text": [
      "      34             36          1.334e+03      5.915e+00      9.404e-04      5.764e+03   "
     ]
    },
    {
     "name": "stdout",
     "output_type": "stream",
     "text": [
      "\n"
     ]
    },
    {
     "name": "stdout",
     "output_type": "stream",
     "text": [
      "      35             37          1.330e+03      4.771e+00      8.910e-04      5.566e+03   "
     ]
    },
    {
     "name": "stdout",
     "output_type": "stream",
     "text": [
      "\n"
     ]
    },
    {
     "name": "stdout",
     "output_type": "stream",
     "text": [
      "      36             38          1.324e+03      5.978e+00      8.870e-04      5.778e+03   "
     ]
    },
    {
     "name": "stdout",
     "output_type": "stream",
     "text": [
      "\n"
     ]
    },
    {
     "name": "stdout",
     "output_type": "stream",
     "text": [
      "      37             39          1.320e+03      4.035e+00      8.569e-04      6.144e+03   "
     ]
    },
    {
     "name": "stdout",
     "output_type": "stream",
     "text": [
      "\n"
     ]
    },
    {
     "name": "stdout",
     "output_type": "stream",
     "text": [
      "      38             40          1.314e+03      5.553e+00      8.648e-04      7.337e+03   "
     ]
    },
    {
     "name": "stdout",
     "output_type": "stream",
     "text": [
      "\n"
     ]
    },
    {
     "name": "stdout",
     "output_type": "stream",
     "text": [
      "      39             41          1.310e+03      3.730e+00      8.422e-04      6.914e+03   "
     ]
    },
    {
     "name": "stdout",
     "output_type": "stream",
     "text": [
      "\n"
     ]
    },
    {
     "name": "stdout",
     "output_type": "stream",
     "text": [
      "      40             42          1.305e+03      5.715e+00      2.108e-04      4.484e+03   "
     ]
    },
    {
     "name": "stdout",
     "output_type": "stream",
     "text": [
      "\n"
     ]
    },
    {
     "name": "stdout",
     "output_type": "stream",
     "text": [
      "      41             43          1.300e+03      4.514e+00      5.057e-04      3.415e+03   "
     ]
    },
    {
     "name": "stdout",
     "output_type": "stream",
     "text": [
      "\n"
     ]
    },
    {
     "name": "stdout",
     "output_type": "stream",
     "text": [
      "      42             44          1.297e+03      3.062e+00      5.571e-04      3.982e+03   "
     ]
    },
    {
     "name": "stdout",
     "output_type": "stream",
     "text": [
      "\n"
     ]
    },
    {
     "name": "stdout",
     "output_type": "stream",
     "text": [
      "      43             45          1.293e+03      3.656e+00      5.232e-04      3.832e+03   "
     ]
    },
    {
     "name": "stdout",
     "output_type": "stream",
     "text": [
      "\n"
     ]
    },
    {
     "name": "stdout",
     "output_type": "stream",
     "text": [
      "      44             46          1.290e+03      3.138e+00      5.245e-04      4.309e+03   "
     ]
    },
    {
     "name": "stdout",
     "output_type": "stream",
     "text": [
      "\n"
     ]
    },
    {
     "name": "stdout",
     "output_type": "stream",
     "text": [
      "      45             47          1.287e+03      3.390e+00      5.196e-04      3.545e+03   "
     ]
    },
    {
     "name": "stdout",
     "output_type": "stream",
     "text": [
      "\n"
     ]
    },
    {
     "name": "stdout",
     "output_type": "stream",
     "text": [
      "      46             48          1.284e+03      2.847e+00      5.035e-04      4.753e+03   "
     ]
    },
    {
     "name": "stdout",
     "output_type": "stream",
     "text": [
      "\n"
     ]
    },
    {
     "name": "stdout",
     "output_type": "stream",
     "text": [
      "      47             49          1.281e+03      2.999e+00      5.019e-04      4.021e+03   "
     ]
    },
    {
     "name": "stdout",
     "output_type": "stream",
     "text": [
      "\n"
     ]
    },
    {
     "name": "stdout",
     "output_type": "stream",
     "text": [
      "      48             50          1.278e+03      2.575e+00      4.814e-04      4.414e+03   "
     ]
    },
    {
     "name": "stdout",
     "output_type": "stream",
     "text": [
      "\n"
     ]
    },
    {
     "name": "stdout",
     "output_type": "stream",
     "text": [
      "      49             51          1.276e+03      2.893e+00      4.881e-04      3.744e+03   "
     ]
    },
    {
     "name": "stdout",
     "output_type": "stream",
     "text": [
      "\n"
     ]
    },
    {
     "name": "stdout",
     "output_type": "stream",
     "text": [
      "      50             52          1.273e+03      2.257e+00      4.677e-04      4.827e+03   "
     ]
    },
    {
     "name": "stdout",
     "output_type": "stream",
     "text": [
      "\n"
     ]
    },
    {
     "name": "stdout",
     "output_type": "stream",
     "text": [
      "      51             53          1.271e+03      2.809e+00      4.832e-04      4.706e+03   "
     ]
    },
    {
     "name": "stdout",
     "output_type": "stream",
     "text": [
      "\n"
     ]
    },
    {
     "name": "stdout",
     "output_type": "stream",
     "text": [
      "      52             54          1.268e+03      2.261e+00      4.700e-04      5.452e+03   "
     ]
    },
    {
     "name": "stdout",
     "output_type": "stream",
     "text": [
      "\n"
     ]
    },
    {
     "name": "stdout",
     "output_type": "stream",
     "text": [
      "      53             55          1.266e+03      2.500e+00      4.691e-04      4.844e+03   "
     ]
    },
    {
     "name": "stdout",
     "output_type": "stream",
     "text": [
      "\n"
     ]
    },
    {
     "name": "stdout",
     "output_type": "stream",
     "text": [
      "      54             56          1.264e+03      1.898e+00      4.671e-04      5.372e+03   "
     ]
    },
    {
     "name": "stdout",
     "output_type": "stream",
     "text": [
      "\n"
     ]
    },
    {
     "name": "stdout",
     "output_type": "stream",
     "text": [
      "      55             57          1.262e+03      2.203e+00      4.490e-04      5.370e+03   "
     ]
    },
    {
     "name": "stdout",
     "output_type": "stream",
     "text": [
      "\n"
     ]
    },
    {
     "name": "stdout",
     "output_type": "stream",
     "text": [
      "      56             58          1.260e+03      1.629e+00      4.464e-04      6.432e+03   "
     ]
    },
    {
     "name": "stdout",
     "output_type": "stream",
     "text": [
      "\n"
     ]
    },
    {
     "name": "stdout",
     "output_type": "stream",
     "text": [
      "      57             59          1.258e+03      2.181e+00      1.126e-04      5.145e+03   "
     ]
    },
    {
     "name": "stdout",
     "output_type": "stream",
     "text": [
      "\n"
     ]
    },
    {
     "name": "stdout",
     "output_type": "stream",
     "text": [
      "      58             60          1.256e+03      1.818e+00      2.448e-04      4.002e+03   "
     ]
    },
    {
     "name": "stdout",
     "output_type": "stream",
     "text": [
      "\n"
     ]
    },
    {
     "name": "stdout",
     "output_type": "stream",
     "text": [
      "      59             61          1.255e+03      1.526e+00      2.772e-04      3.774e+03   "
     ]
    },
    {
     "name": "stdout",
     "output_type": "stream",
     "text": [
      "\n"
     ]
    },
    {
     "name": "stdout",
     "output_type": "stream",
     "text": [
      "      60             62          1.253e+03      1.401e+00      2.610e-04      5.125e+03   "
     ]
    },
    {
     "name": "stdout",
     "output_type": "stream",
     "text": [
      "\n"
     ]
    },
    {
     "name": "stdout",
     "output_type": "stream",
     "text": [
      "      61             63          1.252e+03      1.159e+00      2.455e-04      5.275e+03   "
     ]
    },
    {
     "name": "stdout",
     "output_type": "stream",
     "text": [
      "\n"
     ]
    },
    {
     "name": "stdout",
     "output_type": "stream",
     "text": [
      "      62             64          1.250e+03      1.581e+00      2.469e-04      5.162e+03   "
     ]
    },
    {
     "name": "stdout",
     "output_type": "stream",
     "text": [
      "\n"
     ]
    },
    {
     "name": "stdout",
     "output_type": "stream",
     "text": [
      "      63             65          1.249e+03      1.124e+00      2.370e-04      4.900e+03   "
     ]
    },
    {
     "name": "stdout",
     "output_type": "stream",
     "text": [
      "\n"
     ]
    },
    {
     "name": "stdout",
     "output_type": "stream",
     "text": [
      "      64             66          1.248e+03      1.394e+00      2.462e-04      4.763e+03   "
     ]
    },
    {
     "name": "stdout",
     "output_type": "stream",
     "text": [
      "\n"
     ]
    },
    {
     "name": "stdout",
     "output_type": "stream",
     "text": [
      "      65             67          1.247e+03      1.202e+00      2.770e-04      5.203e+03   "
     ]
    },
    {
     "name": "stdout",
     "output_type": "stream",
     "text": [
      "\n"
     ]
    },
    {
     "name": "stdout",
     "output_type": "stream",
     "text": [
      "      66             68          1.245e+03      1.154e+00      2.492e-04      5.615e+03   "
     ]
    },
    {
     "name": "stdout",
     "output_type": "stream",
     "text": [
      "\n"
     ]
    },
    {
     "name": "stdout",
     "output_type": "stream",
     "text": [
      "      67             69          1.244e+03      1.210e+00      2.333e-04      4.873e+03   "
     ]
    },
    {
     "name": "stdout",
     "output_type": "stream",
     "text": [
      "\n"
     ]
    },
    {
     "name": "stdout",
     "output_type": "stream",
     "text": [
      "      68             70          1.243e+03      1.142e+00      2.402e-04      5.717e+03   "
     ]
    },
    {
     "name": "stdout",
     "output_type": "stream",
     "text": [
      "\n"
     ]
    },
    {
     "name": "stdout",
     "output_type": "stream",
     "text": [
      "      69             71          1.242e+03      9.968e-01      2.169e-04      6.507e+03   "
     ]
    },
    {
     "name": "stdout",
     "output_type": "stream",
     "text": [
      "\n"
     ]
    },
    {
     "name": "stdout",
     "output_type": "stream",
     "text": [
      "      70             72          1.241e+03      1.266e+00      2.227e-04      5.285e+03   "
     ]
    },
    {
     "name": "stdout",
     "output_type": "stream",
     "text": [
      "\n"
     ]
    },
    {
     "name": "stdout",
     "output_type": "stream",
     "text": [
      "      71             73          1.240e+03      1.057e+00      2.231e-04      5.917e+03   "
     ]
    },
    {
     "name": "stdout",
     "output_type": "stream",
     "text": [
      "\n"
     ]
    },
    {
     "name": "stdout",
     "output_type": "stream",
     "text": [
      "      72             74          1.239e+03      1.115e+00      2.208e-04      5.708e+03   "
     ]
    },
    {
     "name": "stdout",
     "output_type": "stream",
     "text": [
      "\n"
     ]
    },
    {
     "name": "stdout",
     "output_type": "stream",
     "text": [
      "      73             75          1.238e+03      1.074e+00      2.441e-04      5.731e+03   "
     ]
    },
    {
     "name": "stdout",
     "output_type": "stream",
     "text": [
      "\n"
     ]
    },
    {
     "name": "stdout",
     "output_type": "stream",
     "text": [
      "      74             76          1.236e+03      1.140e+00      2.381e-04      6.119e+03   "
     ]
    },
    {
     "name": "stdout",
     "output_type": "stream",
     "text": [
      "\n"
     ]
    },
    {
     "name": "stdout",
     "output_type": "stream",
     "text": [
      "      75             77          1.235e+03      1.027e+00      2.276e-04      5.704e+03   "
     ]
    },
    {
     "name": "stdout",
     "output_type": "stream",
     "text": [
      "\n"
     ]
    },
    {
     "name": "stdout",
     "output_type": "stream",
     "text": [
      "      76             78          1.234e+03      1.119e+00      2.340e-04      6.586e+03   "
     ]
    },
    {
     "name": "stdout",
     "output_type": "stream",
     "text": [
      "\n"
     ]
    },
    {
     "name": "stdout",
     "output_type": "stream",
     "text": [
      "      77             79          1.233e+03      1.045e+00      2.179e-04      7.427e+03   "
     ]
    },
    {
     "name": "stdout",
     "output_type": "stream",
     "text": [
      "\n"
     ]
    },
    {
     "name": "stdout",
     "output_type": "stream",
     "text": [
      "      78             80          1.232e+03      9.249e-01      2.211e-04      7.629e+03   "
     ]
    },
    {
     "name": "stdout",
     "output_type": "stream",
     "text": [
      "\n"
     ]
    },
    {
     "name": "stdout",
     "output_type": "stream",
     "text": [
      "      79             81          1.231e+03      1.101e+00      2.180e-04      7.140e+03   "
     ]
    },
    {
     "name": "stdout",
     "output_type": "stream",
     "text": [
      "\n"
     ]
    },
    {
     "name": "stdout",
     "output_type": "stream",
     "text": [
      "      80             82          1.230e+03      1.005e+00      2.345e-04      7.739e+03   "
     ]
    },
    {
     "name": "stdout",
     "output_type": "stream",
     "text": [
      "\n"
     ]
    },
    {
     "name": "stdout",
     "output_type": "stream",
     "text": [
      "Warning: Maximum number of iterations has been exceeded."
     ]
    },
    {
     "name": "stdout",
     "output_type": "stream",
     "text": [
      "\n"
     ]
    },
    {
     "name": "stdout",
     "output_type": "stream",
     "text": [
      "         Current function value: 1.230e+03"
     ]
    },
    {
     "name": "stdout",
     "output_type": "stream",
     "text": [
      "\n"
     ]
    },
    {
     "name": "stdout",
     "output_type": "stream",
     "text": [
      "         Total delta_x: 1.415e-01"
     ]
    },
    {
     "name": "stdout",
     "output_type": "stream",
     "text": [
      "\n"
     ]
    },
    {
     "name": "stdout",
     "output_type": "stream",
     "text": [
      "         Iterations: 80"
     ]
    },
    {
     "name": "stdout",
     "output_type": "stream",
     "text": [
      "\n"
     ]
    },
    {
     "name": "stdout",
     "output_type": "stream",
     "text": [
      "         Function evaluations: 82"
     ]
    },
    {
     "name": "stdout",
     "output_type": "stream",
     "text": [
      "\n"
     ]
    },
    {
     "name": "stdout",
     "output_type": "stream",
     "text": [
      "         Jacobian evaluations: 81"
     ]
    },
    {
     "name": "stdout",
     "output_type": "stream",
     "text": [
      "\n"
     ]
    },
    {
     "name": "stdout",
     "output_type": "stream",
     "text": [
      "Timer: Solution time = 46.7 sec"
     ]
    },
    {
     "name": "stdout",
     "output_type": "stream",
     "text": [
      "\n"
     ]
    },
    {
     "name": "stdout",
     "output_type": "stream",
     "text": [
      "Timer: Avg time per step = 576 ms"
     ]
    },
    {
     "name": "stdout",
     "output_type": "stream",
     "text": [
      "\n"
     ]
    },
    {
     "name": "stdout",
     "output_type": "stream",
     "text": [
      "=============================================================================================================="
     ]
    },
    {
     "name": "stdout",
     "output_type": "stream",
     "text": [
      "\n"
     ]
    },
    {
     "name": "stdout",
     "output_type": "stream",
     "text": [
      "                                                                 Start  -->   End"
     ]
    },
    {
     "name": "stdout",
     "output_type": "stream",
     "text": [
      "\n"
     ]
    },
    {
     "name": "stdout",
     "output_type": "stream",
     "text": [
      "Total (sum of squares):                                      8.533e+03  -->   1.230e+03, "
     ]
    },
    {
     "name": "stdout",
     "output_type": "stream",
     "text": [
      "\n"
     ]
    },
    {
     "name": "stdout",
     "output_type": "stream",
     "text": [
      "Maximum Plasma-vessel distance:                              3.257e-01  -->   2.707e-01 (m)"
     ]
    },
    {
     "name": "stdout",
     "output_type": "stream",
     "text": [
      "\n"
     ]
    },
    {
     "name": "stdout",
     "output_type": "stream",
     "text": [
      "Minimum Plasma-vessel distance:                              8.101e-02  -->   2.598e-02 (m)"
     ]
    },
    {
     "name": "stdout",
     "output_type": "stream",
     "text": [
      "\n"
     ]
    },
    {
     "name": "stdout",
     "output_type": "stream",
     "text": [
      "Average Plasma-vessel distance:                              2.011e-01  -->   1.663e-01 (m)"
     ]
    },
    {
     "name": "stdout",
     "output_type": "stream",
     "text": [
      "\n"
     ]
    },
    {
     "name": "stdout",
     "output_type": "stream",
     "text": [
      "Maximum Plasma-vessel distance:                              3.169e+00  -->   2.634e+00 (normalized)"
     ]
    },
    {
     "name": "stdout",
     "output_type": "stream",
     "text": [
      "\n"
     ]
    },
    {
     "name": "stdout",
     "output_type": "stream",
     "text": [
      "Minimum Plasma-vessel distance:                              7.883e-01  -->   2.528e-01 (normalized)"
     ]
    },
    {
     "name": "stdout",
     "output_type": "stream",
     "text": [
      "\n"
     ]
    },
    {
     "name": "stdout",
     "output_type": "stream",
     "text": [
      "Average Plasma-vessel distance:                              1.957e+00  -->   1.618e+00 (normalized)"
     ]
    },
    {
     "name": "stdout",
     "output_type": "stream",
     "text": [
      "\n"
     ]
    },
    {
     "name": "stdout",
     "output_type": "stream",
     "text": [
      "Maximum Plasma-vessel distance:                              3.097e-01  -->   2.284e-01 (m)"
     ]
    },
    {
     "name": "stdout",
     "output_type": "stream",
     "text": [
      "\n"
     ]
    },
    {
     "name": "stdout",
     "output_type": "stream",
     "text": [
      "Minimum Plasma-vessel distance:                              6.063e-02  -->   1.638e-02 (m)"
     ]
    },
    {
     "name": "stdout",
     "output_type": "stream",
     "text": [
      "\n"
     ]
    },
    {
     "name": "stdout",
     "output_type": "stream",
     "text": [
      "Average Plasma-vessel distance:                              1.994e-01  -->   1.699e-01 (m)"
     ]
    },
    {
     "name": "stdout",
     "output_type": "stream",
     "text": [
      "\n"
     ]
    },
    {
     "name": "stdout",
     "output_type": "stream",
     "text": [
      "Maximum Plasma-vessel distance:                              3.235e+00  -->   2.386e+00 (normalized)"
     ]
    },
    {
     "name": "stdout",
     "output_type": "stream",
     "text": [
      "\n"
     ]
    },
    {
     "name": "stdout",
     "output_type": "stream",
     "text": [
      "Minimum Plasma-vessel distance:                              6.333e-01  -->   1.711e-01 (normalized)"
     ]
    },
    {
     "name": "stdout",
     "output_type": "stream",
     "text": [
      "\n"
     ]
    },
    {
     "name": "stdout",
     "output_type": "stream",
     "text": [
      "Average Plasma-vessel distance:                              2.083e+00  -->   1.774e+00 (normalized)"
     ]
    },
    {
     "name": "stdout",
     "output_type": "stream",
     "text": [
      "\n"
     ]
    },
    {
     "name": "stdout",
     "output_type": "stream",
     "text": [
      "Maximum Principal curvature:                                 3.690e+00  -->   9.046e+00 (m^-1)"
     ]
    },
    {
     "name": "stdout",
     "output_type": "stream",
     "text": [
      "\n"
     ]
    },
    {
     "name": "stdout",
     "output_type": "stream",
     "text": [
      "Minimum Principal curvature:                                 3.092e+00  -->   5.720e-01 (m^-1)"
     ]
    },
    {
     "name": "stdout",
     "output_type": "stream",
     "text": [
      "\n"
     ]
    },
    {
     "name": "stdout",
     "output_type": "stream",
     "text": [
      "Average Principal curvature:                                 3.377e+00  -->   3.800e+00 (m^-1)"
     ]
    },
    {
     "name": "stdout",
     "output_type": "stream",
     "text": [
      "\n"
     ]
    },
    {
     "name": "stdout",
     "output_type": "stream",
     "text": [
      "Maximum Principal curvature:                                 1.107e+00  -->   2.714e+00 (normalized)"
     ]
    },
    {
     "name": "stdout",
     "output_type": "stream",
     "text": [
      "\n"
     ]
    },
    {
     "name": "stdout",
     "output_type": "stream",
     "text": [
      "Minimum Principal curvature:                                 9.275e-01  -->   1.716e-01 (normalized)"
     ]
    },
    {
     "name": "stdout",
     "output_type": "stream",
     "text": [
      "\n"
     ]
    },
    {
     "name": "stdout",
     "output_type": "stream",
     "text": [
      "Average Principal curvature:                                 1.013e+00  -->   1.140e+00 (normalized)"
     ]
    },
    {
     "name": "stdout",
     "output_type": "stream",
     "text": [
      "\n"
     ]
    },
    {
     "name": "stdout",
     "output_type": "stream",
     "text": [
      "Shared parameters error:                                     0.000e+00  -->   1.159e-13 (~)"
     ]
    },
    {
     "name": "stdout",
     "output_type": "stream",
     "text": [
      "\n"
     ]
    },
    {
     "name": "stdout",
     "output_type": "stream",
     "text": [
      "=============================================================================================================="
     ]
    },
    {
     "name": "stdout",
     "output_type": "stream",
     "text": [
      "\n"
     ]
    }
   ],
   "source": [
    "# Run optimization\n",
    "(surf1, surf2),_ = opt.optimize([surf1, surf2], \n",
    "                                 objective=obj, \n",
    "                                 constraints=constraints,\n",
    "                                 verbose=3,\n",
    "                                 maxiter=80,\n",
    "                                ftol=0,\n",
    "                                gtol=0,\n",
    "                                xtol=0,\n",
    "                                 options={\"initial_trust_radius\":np.inf})"
   ]
  },
  {
   "cell_type": "code",
   "execution_count": 25,
   "id": "28030b89",
   "metadata": {
    "execution": {
     "iopub.execute_input": "2024-10-28T22:56:41.128776Z",
     "iopub.status.busy": "2024-10-28T22:56:41.128621Z",
     "iopub.status.idle": "2024-10-28T22:56:43.988216Z",
     "shell.execute_reply": "2024-10-28T22:56:43.987719Z"
    }
   },
   "outputs": [
    {
     "data": {
      "text/plain": [
       "(<Figure size 864x720 with 6 Axes>,\n",
       " array([<Axes: title={'center': '$\\\\phi \\\\cdot N_{FP}/2\\\\pi = 0.000$'}, xlabel='$R ~(\\\\mathrm{m})$', ylabel='$Z ~(\\\\mathrm{m})$'>,\n",
       "        <Axes: title={'center': '$\\\\phi \\\\cdot N_{FP}/2\\\\pi = 0.167$'}, xlabel='$R ~(\\\\mathrm{m})$', ylabel='$Z ~(\\\\mathrm{m})$'>,\n",
       "        <Axes: title={'center': '$\\\\phi \\\\cdot N_{FP}/2\\\\pi = 0.333$'}, xlabel='$R ~(\\\\mathrm{m})$', ylabel='$Z ~(\\\\mathrm{m})$'>,\n",
       "        <Axes: title={'center': '$\\\\phi \\\\cdot N_{FP}/2\\\\pi = 0.500$'}, xlabel='$R ~(\\\\mathrm{m})$', ylabel='$Z ~(\\\\mathrm{m})$'>,\n",
       "        <Axes: title={'center': '$\\\\phi \\\\cdot N_{FP}/2\\\\pi = 0.667$'}, xlabel='$R ~(\\\\mathrm{m})$', ylabel='$Z ~(\\\\mathrm{m})$'>,\n",
       "        <Axes: title={'center': '$\\\\phi \\\\cdot N_{FP}/2\\\\pi = 0.833$'}, xlabel='$R ~(\\\\mathrm{m})$', ylabel='$Z ~(\\\\mathrm{m})$'>],\n",
       "       dtype=object))"
      ]
     },
     "execution_count": 25,
     "metadata": {},
     "output_type": "execute_result"
    },
    {
     "data": {
      "image/png": "[encoded data removed]",
      "text/plain": [
       "<Figure size 864x720 with 6 Axes>"
      ]
     },
     "metadata": {},
     "output_type": "display_data"
    }
   ],
   "source": [
    "plot_comparison([surf1,eq_QA,eq_QH],\n",
    "                labels=[\"WS\",\"RQA\",\"RQH\"],\n",
    "                theta=0,rho=np.array(1.0)\n",
    "               )"
   ]
  },
  {
   "cell_type": "code",
   "execution_count": 26,
   "id": "ac619a24",
   "metadata": {
    "execution": {
     "iopub.execute_input": "2024-10-28T22:56:43.990680Z",
     "iopub.status.busy": "2024-10-28T22:56:43.990542Z",
     "iopub.status.idle": "2024-10-28T22:56:44.005262Z",
     "shell.execute_reply": "2024-10-28T22:56:44.004930Z"
    }
   },
   "outputs": [],
   "source": [
    "surf1.save(\"surf_opt.h5\")"
   ]
  },
  {
   "cell_type": "code",
   "execution_count": 27,
   "id": "96069e32",
   "metadata": {
    "execution": {
     "iopub.execute_input": "2024-10-28T22:56:44.006856Z",
     "iopub.status.busy": "2024-10-28T22:56:44.006722Z",
     "iopub.status.idle": "2024-10-28T22:56:46.236415Z",
     "shell.execute_reply": "2024-10-28T22:56:46.236035Z"
    }
   },
   "outputs": [
    {
     "data": {
      "text/plain": [
       "(<Figure size 864x720 with 6 Axes>,\n",
       " array([<Axes: title={'center': '$\\\\phi \\\\cdot N_{FP}/2\\\\pi = 0.000$'}, xlabel='$R ~(\\\\mathrm{m})$', ylabel='$Z ~(\\\\mathrm{m})$'>,\n",
       "        <Axes: title={'center': '$\\\\phi \\\\cdot N_{FP}/2\\\\pi = 0.167$'}, xlabel='$R ~(\\\\mathrm{m})$', ylabel='$Z ~(\\\\mathrm{m})$'>,\n",
       "        <Axes: title={'center': '$\\\\phi \\\\cdot N_{FP}/2\\\\pi = 0.333$'}, xlabel='$R ~(\\\\mathrm{m})$', ylabel='$Z ~(\\\\mathrm{m})$'>,\n",
       "        <Axes: title={'center': '$\\\\phi \\\\cdot N_{FP}/2\\\\pi = 0.500$'}, xlabel='$R ~(\\\\mathrm{m})$', ylabel='$Z ~(\\\\mathrm{m})$'>,\n",
       "        <Axes: title={'center': '$\\\\phi \\\\cdot N_{FP}/2\\\\pi = 0.667$'}, xlabel='$R ~(\\\\mathrm{m})$', ylabel='$Z ~(\\\\mathrm{m})$'>,\n",
       "        <Axes: title={'center': '$\\\\phi \\\\cdot N_{FP}/2\\\\pi = 0.833$'}, xlabel='$R ~(\\\\mathrm{m})$', ylabel='$Z ~(\\\\mathrm{m})$'>],\n",
       "       dtype=object))"
      ]
     },
     "execution_count": 27,
     "metadata": {},
     "output_type": "execute_result"
    },
    {
     "data": {
      "image/png": "[encoded data removed]",
      "text/plain": [
       "<Figure size 864x720 with 6 Axes>"
      ]
     },
     "metadata": {},
     "output_type": "display_data"
    }
   ],
   "source": [
    "plot_comparison([surf,surf1],\n",
    "                labels=[\"OWS\",\"NWS\"],\n",
    "                theta=0,rho=np.array(1.0)\n",
    "               )"
   ]
  }
 ],
 "metadata": {
  "kernelspec": {
   "display_name": "Python 3 (ipykernel)",
   "language": "python",
   "name": "python3"
  },
  "language_info": {
   "codemirror_mode": {
    "name": "ipython",
    "version": 3
   },
   "file_extension": ".py",
   "mimetype": "text/x-python",
   "name": "python",
   "nbconvert_exporter": "python",
   "pygments_lexer": "ipython3",
   "version": "3.11.0"
  }
 },
 "nbformat": 4,
 "nbformat_minor": 5
}
