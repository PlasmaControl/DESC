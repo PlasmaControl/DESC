{
 "cells": [
  {
   "cell_type": "code",
   "execution_count": 1,
   "id": "c3bfcfee",
   "metadata": {
    "execution": {
     "iopub.execute_input": "2024-10-17T22:23:34.065601Z",
     "iopub.status.busy": "2024-10-17T22:23:34.065456Z",
     "iopub.status.idle": "2024-10-17T22:23:34.664499Z",
     "shell.execute_reply": "2024-10-17T22:23:34.664144Z"
    }
   },
   "outputs": [
    {
     "name": "stderr",
     "output_type": "stream",
     "text": [
      "/home/fcastro/DESC/desc/__init__.py:98: UserWarning: No GPU found, falling back to CPU\n",
      "  warnings.warn(colored(\"No GPU found, falling back to CPU\", \"yellow\"))\n"
     ]
    }
   ],
   "source": [
    "from desc import set_device\n",
    "set_device(\"gpu\")"
   ]
  },
  {
   "cell_type": "code",
   "execution_count": null,
   "id": "effb3c47",
   "metadata": {
    "execution": {
     "iopub.execute_input": "2024-10-17T22:23:34.666985Z",
     "iopub.status.busy": "2024-10-17T22:23:34.666836Z",
     "iopub.status.idle": "2024-10-17T22:23:56.180331Z",
     "shell.execute_reply": "2024-10-17T22:23:56.179964Z"
    }
   },
   "outputs": [
    {
     "name": "stdout",
     "output_type": "stream",
     "text": [
      "DESC version 0.11.1+930.ge505d56c5.dirty,using JAX backend, jax version=0.4.14, jaxlib version=0.4.14, dtype=float64\n",
      "Using device: CPU, with 116.76 GB available memory\n"
     ]
    }
   ],
   "source": [
    "import numpy as np\n",
    "import os\n",
    "\n",
    "import scipy\n",
    "from scipy.io import netcdf_file\n",
    "from scipy.constants import mu_0\n",
    "\n",
    "import copy\n",
    "import sys\n",
    "import functools\n",
    "import pickle\n",
    "import time\n",
    "#import pdb\n",
    "\n",
    "import jax\n",
    "import jax.numpy as jnpå\n",
    "from jax import jit, jacfwd\n",
    "\n",
    "from netCDF4 import Dataset\n",
    "import h5py\n",
    "\n",
    "from desc.backend import put, fori_loop, jnp, sign, vmap\n",
    "from desc.backend import jit, odeint\n",
    "\n",
    "from desc.basis import FourierZernikeBasis, DoubleFourierSeries, FourierSeries\n",
    "\n",
    "from desc.grid import ConcentricGrid, LinearGrid, Grid, QuadratureGrid\n",
    "from desc.equilibrium import EquilibriaFamily, Equilibrium\n",
    "\n",
    "from desc.io import InputReader, load\n",
    "from desc.objectives import *\n",
    "from desc.objectives.objective_funs import _Objective\n",
    "\n",
    "from desc.plotting import plot_1d, plot_2d, plot_3d, plot_section, plot_surfaces, plot_comparison\n",
    "from desc.plotting import *\n",
    "\n",
    "from desc.transform import Transform\n",
    "#from desc.vmec import VMECIO\n",
    "#from desc.derivatives import Derivative\n",
    "from desc.geometry import FourierRZToroidalSurface, FourierRZCurve\n",
    "#from desc.profiles import SplineProfile, PowerSeriesProfile\n",
    "\n",
    "from desc.magnetic_fields import (SplineMagneticField, \n",
    "                                  FourierCurrentPotentialField, ToroidalMagneticField,\n",
    "                                  field_line_integrate)\n",
    "\n",
    "import desc.examples\n",
    "\n",
    "from desc.compute import rpz2xyz, rpz2xyz_vec, xyz2rpz, xyz2rpz_vec\n",
    "\n",
    "from desc.utils import flatten_list, Timer, copy_coeffs, errorif, setdefault, svd_inv_null, warnif\n",
    "\n",
    "from desc.compute.utils import cross\n",
    "from desc.compute.utils import dot\n",
    "\n",
    "from desc.optimize import lsqtr, lsq_auglag\n",
    "\n",
    "from scipy.optimize import NonlinearConstraint \n",
    "\n",
    "from desc.magnetic_fields import FourierCurrentPotentialField\n",
    "\n",
    "from scipy.linalg import null_space\n",
    "from numpy import ndarray\n",
    "\n",
    "from desc.fns_simp import (plot_figure, plot_figure2,)"
   ]
  },
  {
   "cell_type": "code",
   "execution_count": null,
   "id": "5755ff55",
   "metadata": {},
   "outputs": [],
   "source": [
    "from desc.objectives import (\n",
    "        ForceBalance,\n",
    "        ObjectiveFunction, \n",
    "        QuasisymmetryTwoTerm,\n",
    "        GenericObjective,\n",
    "        FixPressure,\n",
    "        FixCurrent,\n",
    "        HarmonicField_to_BiotSavart,\n",
    "        #QuasisymmetryBoozer,\n",
    "        #QuasisymmetryTripleProduct,\n",
    "        #FixPsi, \n",
    "        #FixBoundaryR,\n",
    "        #FixBoundaryZ,\n",
    "        #FixIota, \n",
    "        #get_fixed_boundary_constraints,\n",
    "        #RotationalTransform, \n",
    "        #AspectRatio,\n",
    "        #Shear,\n",
    "        )\n",
    "\n",
    "from desc.optimize import Optimizer\n",
    "from desc.plotting import *"
   ]
  },
  {
   "cell_type": "code",
   "execution_count": null,
   "id": "6a5c1a72",
   "metadata": {
    "execution": {
     "iopub.execute_input": "2024-10-17T22:23:56.182833Z",
     "iopub.status.busy": "2024-10-17T22:23:56.182624Z",
     "iopub.status.idle": "2024-10-17T22:23:58.118571Z",
     "shell.execute_reply": "2024-10-17T22:23:58.118209Z"
    }
   },
   "outputs": [],
   "source": [
    "# Let's start the iterations with PQA as the initial guess. \n",
    "eq = desc.examples.get('precise_QA')"
   ]
  },
  {
   "cell_type": "code",
   "execution_count": null,
   "id": "a07c7d04",
   "metadata": {},
   "outputs": [],
   "source": [
    "# create the constant offset surface\n",
    "surf_winding = eq.surface.constant_offset_surface(offset=0.1, # desired offset\n",
    "                                                  M=16, # Poloidal resolution of desired offset surface\n",
    "                                                  N=8, # Toroidal resolution of desired offset surface\n",
    "                                                  grid=LinearGrid(M=32,\n",
    "                                                                  N=16,\n",
    "                                                                  NFP=eq.NFP)\n",
    "                                                 ) # grid of points on base surface to evaluate unit normal and find points on offset surface,\n",
    "                                                   # generally should be twice the desired resolution\n"
   ]
  },
  {
   "cell_type": "code",
   "execution_count": null,
   "id": "ce016352",
   "metadata": {},
   "outputs": [],
   "source": [
    "# No need to define attributes for the initial guess since they have been defined already\n",
    "\n",
    "# Next, we calculate the initial equilibrium\n",
    "#NL = 11\n",
    "#grid = LinearGrid(L = NL, M=0, N=0)\n",
    "#rho = np.linspace(0, 1, NL+1)\n",
    "\n",
    "#current_profile = SplineProfile(np.zeros((NL+1, )), knots=rho)\n",
    "#pressure_profile = SplineProfile(np.zeros((NL+1, )), knots=rho)\n",
    "\n",
    "#eq = Equilibrium(\n",
    "#    L=Lres,  # radial resolution\n",
    "#    M=Mres,  # poloidal resolution\n",
    "#    N=Nres,  # toroidal resolution\n",
    "#    surface=surface,\n",
    "#    pressure=pressure_profile,\n",
    "#    current=current_profile,\n",
    "#    Psi=np.pi*(minor_radius)**2,  # total flux, in Webers\n",
    "#)\n",
    "\n",
    "#objective = ObjectiveFunction(ForceBalance(eq=eq_nfp1))"
   ]
  },
  {
   "cell_type": "code",
   "execution_count": null,
   "id": "b9f5b14f",
   "metadata": {},
   "outputs": [],
   "source": [
    "constraints = (\n",
    "        FixPressure(eq=eq.NFP),\n",
    "        FixCurrent(eq=eq.NFP),\n",
    "        #FixPsi(eq=eq_nfp1),\n",
    "        #FixBoundaryR(eq=eq_nfp1),\n",
    "        #FixBoundaryZ(eq=eq_nfp1),\n",
    "        )"
   ]
  },
  {
   "cell_type": "code",
   "execution_count": null,
   "id": "93fb479c",
   "metadata": {},
   "outputs": [],
   "source": [
    "#modes_R = np.vstack(\n",
    "#        (\n",
    "#            [0, 0, 0],\n",
    "#            eq.surface.R_basis.modes[\n",
    "#                np.max(np.abs(eq.surface.R_basis.modes), 1) > k, :\n",
    "#            ],\n",
    "#        )\n",
    "#                    )\n",
    "    \n",
    "#modes_Z = eq.surface.Z_basis.modes[\n",
    "#        np.max(np.abs(eq.surface.Z_basis.modes), 1) >  k, :\n",
    "#    ]\n",
    "\n",
    "#QS_grid = LinearGrid(M =int(1.5*eq.M_grid), N=int(1.5*eq.N_grid), NFP=eq.NFP, rho=np.array([0.2, 0.4, 0.6]), sym=True)\n",
    "#jacobian_grid = LinearGrid(L = eq.L_grid, M=eq.M_grid, N=eq.N_grid, NFP=eq.NFP) "
   ]
  },
  {
   "cell_type": "code",
   "execution_count": null,
   "id": "af8737bf",
   "metadata": {},
   "outputs": [],
   "source": [
    "# Modes for current potential\n",
    "basis_M = 10\n",
    "basis_N = 10\n",
    "\n",
    "surface_current_field = FourierCurrentPotentialField(#surf_winding,\n",
    "                                                     M_Phi=basis_M,\n",
    "                                                     N_Phi=basis_N,\n",
    "                                                     #sym_Phi = True\n",
    "                                                    )\n",
    "\n",
    "surface_current_field.G = 5e6, # Net enclosed poloidal current"
   ]
  },
  {
   "cell_type": "code",
   "execution_count": null,
   "id": "6675cfcf",
   "metadata": {},
   "outputs": [],
   "source": [
    "# Generate fake curve field for superposition of harmonic vectors\n",
    "fake_curve = FourierRZCurve(R_n=1,\n",
    "                       Z_n=1,\n",
    "                       modes_R=None,\n",
    "                       modes_Z=None,\n",
    "                       #NFP=1,\n",
    "                      )"
   ]
  },
  {
   "cell_type": "code",
   "execution_count": null,
   "id": "d9b77334",
   "metadata": {},
   "outputs": [],
   "source": [
    "# Modes for current potential\n",
    "#basis_M = 10\n",
    "#basis_N = 10\n",
    "\n",
    "# Find surface current K_s\n",
    "#surface_current_field = FourierCurrentPotentialField.from_surface(surf_winding,\n",
    "#                                                                  M_Phi=basis_M,\n",
    "#                                                                  N_Phi=basis_N,\n",
    "#                                                                  #sym_Phi = True\n",
    "#                                                                 )\n",
    "\n",
    "#surface_current_field.G = 5e6, # Net enclosed poloidal current\n",
    "#surface_current_field.I = np.load('I.npy')\n",
    "#surface_current_field.Phi_mn = np.load('phi_mn.npy')"
   ]
  },
  {
   "cell_type": "code",
   "execution_count": null,
   "id": "d913b154",
   "metadata": {},
   "outputs": [],
   "source": [
    "#FourierCurrentPotentialField.G = 0"
   ]
  },
  {
   "cell_type": "code",
   "execution_count": null,
   "id": "5c4f92ed",
   "metadata": {},
   "outputs": [],
   "source": [
    "# Plasma grid\n",
    "egrid = LinearGrid(M = 10, N = 10, \n",
    "                   #NFP = eq.NFP\n",
    "                  )\n",
    "\n",
    "# Coil grid\n",
    "sgrid = LinearGrid(M = 15, N = 15, \n",
    "                   #NFP = eq.NFP\n",
    "                  )"
   ]
  },
  {
   "cell_type": "code",
   "execution_count": null,
   "id": "77bb0542",
   "metadata": {},
   "outputs": [],
   "source": [
    "objectives = ObjectiveFunction((HarmonicField_to_BiotSavart(eq = eq,\n",
    "                                                            field = surface_current_field,\n",
    "                                                            curve = fake_curve,\n",
    "                                                            G = 5e6, # Net enclosed poloidal current\n",
    "                                                            #surface,\n",
    "                                                            #target=None,\n",
    "                                                            #bounds=None,\n",
    "                                                            #weight=1,\n",
    "                                                            #deriv_mode=\"auto\",\n",
    "                                                            surface_grid = sgrid,\n",
    "                                                            plasma_grid = egrid,\n",
    "                                                            curve_grid = egrid,\n",
    "                                                            #use_softmin = False,\n",
    "                                                            #surface_fixed = False,\n",
    "                                                            alpha = 1.0,\n",
    "                                                           ),\n",
    "                                #QuasisymmetryTwoTerm(eq=eq, helicity=target_helicity, grid=QS_grid, weight=2e2),\n",
    "                                #ForceBalance(eq=eq, weight=2e6, normalize=True),\n",
    "                                #GenericObjective(f=\"sqrt(g)\", eq=eq, grid=jacobian_grid, bounds=(0, np.inf), weigh\n",
    "                                #QuasisymmetryTripleProduct(eq=eq, grid=QS_grid, weight=2e-2),\n",
    "                                #AspectRatio(eq=eq, bounds=(7, 20), weight=3e2),\n",
    "                                ))"
   ]
  },
  {
   "cell_type": "code",
   "execution_count": null,
   "id": "9e5f4f84",
   "metadata": {},
   "outputs": [],
   "source": [
    "constraints = (\n",
    "            #ForceBalance(eq=eq, weight=eq_weight, normalize=True),\n",
    "            FixPressure(eq=eq),\n",
    "            FixCurrent(eq=eq),\n",
    "            #FixPsi(eq=eq),\n",
    "            #FixBoundaryR(eq=eq, modes=modes_R),\n",
    "            #FixBoundaryZ(eq=eq, modes=modes_Z),\n",
    "            )"
   ]
  },
  {
   "cell_type": "code",
   "execution_count": null,
   "id": "7721c9a6",
   "metadata": {},
   "outputs": [],
   "source": [
    "#optimizer = Optimizer(\"proximal-lsq-exact\")\n",
    "optimizer = Optimizer(\"lsq-exact\")\n",
    "#optimizer = Optimizer(\"lsq-auglag\")\n",
    "#optimizer = Optimizer(\"proximal-scipy-trf\")\n",
    "#optimizer = Optimizer(\"proximal-lsq-auglag\")\n",
    "#optimizer = Optimizer(\"proximal-sgd\")\n",
    "#pdb.set_trace()"
   ]
  },
  {
   "cell_type": "code",
   "execution_count": null,
   "id": "6d4f09bc",
   "metadata": {},
   "outputs": [],
   "source": [
    "eq, _ = optimizer.optimize(\n",
    "                eq,\n",
    "                objectives,\n",
    "                constraints,\n",
    "                ftol=1e-5,\n",
    "                gtol=1e-6,\n",
    "                xtol=1e-6,\n",
    "                maxiter=1,\n",
    "                verbose=3,\n",
    "                )"
   ]
  },
  {
   "cell_type": "code",
   "execution_count": null,
   "id": "020c090e",
   "metadata": {},
   "outputs": [],
   "source": [
    "#(eq, curve), _ = optimizer.optimize(\n",
    "#                (eq, curve),\n",
    "#                objectives,\n",
    "#                constraints,\n",
    "#                ftol=1e-5,\n",
    "#                gtol=1e-6,\n",
    "#                xtol=1e-6,\n",
    "#                maxiter=1,\n",
    "#                verbose=3,\n",
    "#                )"
   ]
  },
  {
   "cell_type": "code",
   "execution_count": null,
   "id": "08f4ff73",
   "metadata": {},
   "outputs": [],
   "source": [
    "#eq.save(f\"/scratch/gpfs/rg6256/umbilic_new_idea/eq_limiota_m{m}_n{n}_L{Lres}_M{Mres}_N{Nres}_{QS_type}_init.h5\")\n",
    "eq.save(\"eq_soln\")"
   ]
  },
  {
   "cell_type": "code",
   "execution_count": null,
   "id": "237de93a",
   "metadata": {},
   "outputs": [],
   "source": []
  },
  {
   "cell_type": "code",
   "execution_count": null,
   "id": "e4459e8c",
   "metadata": {},
   "outputs": [],
   "source": []
  },
  {
   "cell_type": "code",
   "execution_count": null,
   "id": "9e5975b4",
   "metadata": {
    "execution": {
     "iopub.execute_input": "2024-10-17T22:23:58.135966Z",
     "iopub.status.busy": "2024-10-17T22:23:58.135830Z",
     "iopub.status.idle": "2024-10-17T22:24:42.917855Z",
     "shell.execute_reply": "2024-10-17T22:24:42.917306Z"
    }
   },
   "outputs": [],
   "source": [
    "test1 = eq.compute([\"H_1\"],grid = egrid)[\"H_1\"]"
   ]
  },
  {
   "cell_type": "code",
   "execution_count": null,
   "id": "fa31d24d",
   "metadata": {
    "execution": {
     "iopub.execute_input": "2024-10-17T22:24:42.920614Z",
     "iopub.status.busy": "2024-10-17T22:24:42.920461Z",
     "iopub.status.idle": "2024-10-17T22:24:48.955469Z",
     "shell.execute_reply": "2024-10-17T22:24:48.955029Z"
    }
   },
   "outputs": [],
   "source": [
    "plot_figure(dot(test1,test1)**(1/2),egrid,'$|\\mathbf{H}_1|$')"
   ]
  },
  {
   "cell_type": "code",
   "execution_count": null,
   "id": "b1eb3b93",
   "metadata": {
    "execution": {
     "iopub.execute_input": "2024-10-17T22:24:48.957776Z",
     "iopub.status.busy": "2024-10-17T22:24:48.957627Z",
     "iopub.status.idle": "2024-10-17T22:24:49.134013Z",
     "shell.execute_reply": "2024-10-17T22:24:49.133683Z"
    }
   },
   "outputs": [],
   "source": [
    "plot_figure2(dot(test1,test1)**(1/2),egrid,'$|\\mathbf{H}_1|$')"
   ]
  },
  {
   "cell_type": "code",
   "execution_count": null,
   "id": "006c3e25",
   "metadata": {},
   "outputs": [],
   "source": []
  }
 ],
 "metadata": {
  "kernelspec": {
   "display_name": "desc-env3 [~/.conda/envs/desc-env3/]",
   "language": "python",
   "name": "conda_desc-env3"
  },
  "language_info": {
   "codemirror_mode": {
    "name": "ipython",
    "version": 3
   },
   "file_extension": ".py",
   "mimetype": "text/x-python",
   "name": "python",
   "nbconvert_exporter": "python",
   "pygments_lexer": "ipython3",
   "version": "3.11.7"
  }
 },
 "nbformat": 4,
 "nbformat_minor": 5
}
