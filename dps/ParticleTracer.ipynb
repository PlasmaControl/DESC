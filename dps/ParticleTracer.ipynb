{
 "cells": [
  {
   "cell_type": "code",
   "execution_count": 1,
   "metadata": {},
   "outputs": [
    {
     "name": "stdout",
     "output_type": "stream",
     "text": [
      "DESC version 0+untagged.5697.g87d61b8.dirty,using JAX backend, jax version=0.4.14, jaxlib version=0.4.14, dtype=float64\n",
      "Using device: CPU, with 1.57 GB available memory\n"
     ]
    }
   ],
   "source": [
    "from desc.objectives import ParticleTracer, ObjectiveFunction\n",
    "from desc.examples import get\n",
    "from desc.grid import Grid\n",
    "import desc.io\n",
    "from desc.backend import jnp\n",
    "import matplotlib.pyplot as plt\n",
    "import numpy as np\n",
    "\n",
    "import jax.numpy as jnp"
   ]
  },
  {
   "cell_type": "code",
   "execution_count": 2,
   "metadata": {},
   "outputs": [],
   "source": [
    "eq = desc.io.load(\"test_run.h5\")\n",
    "eq._iota = eq.get_profile(\"iota\").to_powerseries(order=eq.L, sym=True)\n",
    "eq._current = None\n",
    "# eq.solve()"
   ]
  },
  {
   "cell_type": "code",
   "execution_count": 3,
   "metadata": {},
   "outputs": [],
   "source": [
    "tmin = 0\n",
    "tmax = 0.00007\n",
    "nt = 20\n",
    "time = jnp.linspace(tmin, tmax, nt)\n",
    "psi_i = 0.7\n",
    "theta_i = 0.2\n",
    "zeta_i = 0.2\n",
    "\n",
    "mass = 1.673e-27\n",
    "Energy = 3.52e6*1.6e-19\n",
    "ini_vpar = 0.5*jnp.sqrt(2*Energy/mass)\n",
    "ini_cond = [psi_i, theta_i, zeta_i, float(ini_vpar)]\n",
    "\n",
    "mass_charge = mass/1.6e-19\n",
    "\n",
    "grid = Grid(jnp.array([jnp.sqrt(psi_i), theta_i, zeta_i]).T, jitable=True, sort=False)\n",
    "data = eq.compute(\"|B|\", grid=grid)\n",
    "\n",
    "mu = Energy/(mass*data[\"|B|\"]) - (ini_vpar**2)/(2*data[\"|B|\"])\n",
    "\n",
    "ini_param = [float(mu), mass_charge]\n",
    "\n",
    "objective = ParticleTracer(eq=eq, output_time=time, initial_conditions=ini_cond, initial_parameters=ini_param, compute_option=\"average vpar\")\n"
   ]
  },
  {
   "cell_type": "code",
   "execution_count": 4,
   "metadata": {},
   "outputs": [
    {
     "name": "stderr",
     "output_type": "stream",
     "text": [
      "2023-09-21 00:57:28.635091: E external/xla/xla/service/slow_operation_alarm.cc:65] \n",
      "********************************\n",
      "[Compiling module jit__odeint_wrapper] Very slow compile? If you want to file a bug, run with envvar XLA_FLAGS=--xla_dump_to=/tmp/foo and attach the results.\n",
      "********************************\n",
      "2023-09-21 00:59:33.756061: E external/xla/xla/service/slow_operation_alarm.cc:133] The operation took 4m5.12154907s\n",
      "\n",
      "********************************\n",
      "[Compiling module jit__odeint_wrapper] Very slow compile? If you want to file a bug, run with envvar XLA_FLAGS=--xla_dump_to=/tmp/foo and attach the results.\n",
      "********************************\n"
     ]
    },
    {
     "name": "stdout",
     "output_type": "stream",
     "text": [
      "*************** SOLUTION .compute() ***************\n",
      "11762938.034948044\n",
      "***************************************************\n"
     ]
    }
   ],
   "source": [
    "objective.build()\n",
    "solution = objective.compute(*objective.xs(eq))\n",
    "\n",
    "print(\"*************** SOLUTION .compute() ***************\")\n",
    "print(solution)\n",
    "print(\"***************************************************\")"
   ]
  }
 ],
 "metadata": {
  "kernelspec": {
   "display_name": "Python 3",
   "language": "python",
   "name": "python3"
  },
  "language_info": {
   "codemirror_mode": {
    "name": "ipython",
    "version": 3
   },
   "file_extension": ".py",
   "mimetype": "text/x-python",
   "name": "python",
   "nbconvert_exporter": "python",
   "pygments_lexer": "ipython3",
   "version": "3.11.5"
  },
  "orig_nbformat": 4
 },
 "nbformat": 4,
 "nbformat_minor": 2
}
