{
 "cells": [
  {
   "cell_type": "markdown",
   "id": "a07bd4b5-0d2c-4aa1-b705-532ede39a970",
   "metadata": {
    "pycharm": {
     "name": "#%% md\n"
    }
   },
   "source": [
    "# Basic Equilibrium"
   ]
  },
  {
   "cell_type": "markdown",
   "id": "91df201b-90c4-4a49-be02-60a63ff0d2c7",
   "metadata": {
    "pycharm": {
     "name": "#%% md\n"
    }
   },
   "source": [
    "DESC is a 3D MHD equilibrium and optimization code suite, which solves the ideal MHD equilibrium equations to find stellarator equilibria. \n",
    "\n",
    "Like VMEC, DESC requires 4 main inputs to define the equilibrium problem:\n",
    "\n",
    " - Pressure Profile\n",
    " - Rotational Transform or Toroidal Current Profile\n",
    " - Last Closed Flux Surface Boundary Shape\n",
    " - Total toroidal magnetic flux enclosed by the LCFS\n",
    "\n",
    "DESC can be run both with a text input file from the command line (e.g. `python -m desc INPUT_FILE`) or through python scripts (which offers more options than the text file for equilibrium solving and optimization). This tutorial notebook will focus on basic functionality for solving an equilibrium."
   ]
  },
  {
   "cell_type": "markdown",
   "id": "657f6a8a-d0f0-4f85-acd4-e39c43946a24",
   "metadata": {
    "jp-MarkdownHeadingCollapsed": true,
    "pycharm": {
     "name": "#%% md\n"
    },
    "tags": []
   },
   "source": [
    "## Installing DESC"
   ]
  },
  {
   "cell_type": "markdown",
   "id": "fa03f080-bfb1-4ac0-bdd8-91950ce3bec1",
   "metadata": {
    "pycharm": {
     "name": "#%% md\n"
    }
   },
   "source": [
    "The installation instructions are located in the [installation documentation page](https://desc-docs.readthedocs.io/en/latest/installation.html#installation).\n",
    "\n",
    "Once these instructions are followed and DESC is installed correctly, you should be able to import a module from desc such as `desc.io` without any errors."
   ]
  },
  {
   "cell_type": "code",
   "execution_count": null,
   "id": "9b84034f-1325-48f5-bdc6-0b53f7144a5c",
   "metadata": {
    "pycharm": {
     "name": "#%%\n"
    },
    "tags": []
   },
   "outputs": [],
   "source": [
    "import sys\n",
    "import os\n",
    "\n",
    "sys.path.insert(0, os.path.abspath(\".\"))\n",
    "sys.path.append(os.path.abspath(\"../../../\"))"
   ]
  },
  {
   "cell_type": "code",
   "execution_count": null,
   "id": "a8297575-adaf-4455-a0fa-60f3bbdccae5",
   "metadata": {
    "pycharm": {
     "name": "#%%\n"
    },
    "tags": []
   },
   "outputs": [],
   "source": [
    "import desc.io"
   ]
  },
  {
   "cell_type": "markdown",
   "id": "27685ac8-674e-4c98-ae48-2cadc28c017e",
   "metadata": {
    "pycharm": {
     "name": "#%% md\n"
    }
   },
   "source": [
    "## Running DESC from a VMEC input"
   ]
  },
  {
   "cell_type": "markdown",
   "id": "20e4e7ac-4392-40ab-91af-fa5e1dc8b1d6",
   "metadata": {
    "pycharm": {
     "name": "#%% md\n"
    }
   },
   "source": [
    "Perhaps the simplest way to run DESC if you already have a VMEC input file for your equilibrium is to simply pass that to DESC on the command line.\n",
    "\n",
    "In this directory is an `input.HELIOTRON` VMEC file which contains a 19 field-period, finite beta HELIOTRON fixed boundary stellarator. To convert the input, we simply run DESC from the command line with\n",
    "\n",
    "`python -m desc -vv input.HELIOTRON -o input.HELIOTRON_output.h5`.\n",
    "\n",
    "You can leave out `python -m` if you've added DESC to your python path. The `-vv` flag is for double verbosity. The `-o` flag specifies the filename of the output HDF5 file (`XXX_output.h5` by default). See the [command line docs](https://desc-docs.readthedocs.io/en/latest/command_line.html#command-line-interface) for more information.\n",
    "\n",
    "The conversion creates a new file with `_desc` appended to the file name. The above command automatically converts the VMEC input file to a DESC input file and begins solving it. There are many DESC solver options without VMEC analogs, such as the multi-grid  continuation method steps, so DESC will automatically choose a conservative continuation method when ran in this way, which is generally recommended for most equilibria to ensure robust convergence.\n",
    "\n",
    "Generally, the most important parameters to tweak are related to the spectral resolution and the continuation method. DESC leverages a multi-grid continuation method to allow for robust convergence of highly shaped equilibria. The following parameters control this method:\n",
    "\n",
    "### Spectral Resolution\n",
    " \n",
    "- `L_rad` (int): Maximum radial mode number for the Fourier-Zernike basis.\n",
    "    - default = `M_pol` if `spectral_indexing = ANSI`\n",
    "    - default = `2*M_pol` if `spectral_indexing = Fringe`\n",
    "    - For more information see [Basis functions and collocation nodes](https://desc-docs.readthedocs.io/en/latest/notebooks/basis_grid.html).\n",
    "- `M_pol` (int): Maximum poloidal mode number for the Fourier-Zernike basis. **Required input.**\n",
    "- `N_tor` (int): Maximum toroidal mode number for the Fourier-Zernike basis.\n",
    "    - default = 0\n",
    "- `L_grid` (int): Radial resolution of nodes in collocation grid.\n",
    "    - default = `M_grid` if `spectral_indexing = ANSI`\n",
    "    - default = `2*M_grid` if `spectral_indexing = Fringe`\n",
    "- `M_grid` (int): Poloidal resolution of nodes in collocation grid.\n",
    "    - default = `2*M_pol`\n",
    "- `N_grid` (int): Toroidal resolution of nodes in collocation grid.\n",
    "    - default = `2*N_tor`\n",
    "\n",
    "When `M_grid = M_pol`, the number of collocation nodes in each toroidal cross-section is equal to the number of Zernike polynomials in a FourierZernike basis set of the same resolution `L_rad = M_pol`. When `N_grid = N_tor`, the number of nodes with unique toroidal angles is equal to the number of terms in the toroidal Fourier series. Convergence is typically superior when the number of nodes exceeds the number of spectral coefficients, so by default the collocation grids are oversampled with respect to the spectral resolutions."
   ]
  },
  {
   "cell_type": "markdown",
   "id": "eebfdb58-a0e4-4a42-8f41-4b1831717a41",
   "metadata": {
    "pycharm": {
     "name": "#%% md\n"
    }
   },
   "source": [
    "## Loading the results\n",
    "\n",
    "DESC provides utility functions to load and compare equilibria. These will be covered in detail later in the tutorial. For now, notice that DESC saves solutions as `EquilibriaFamily` objects. An `EquilibriaFamily` is essentially a list of equilibria, which can be indexed to retrieve individual equilibria. Higher indices hold equilibria solved later in the continuation process. You can retrieve the final state of a DESC equilibrium solve with `eq = desc.io.load(\"XXX_output.h5\")[-1]`."
   ]
  },
  {
   "cell_type": "code",
   "execution_count": null,
   "id": "c0c44168-0a67-4b89-b0b9-e474aea34a0f",
   "metadata": {
    "pycharm": {
     "name": "#%%\n"
    },
    "tags": []
   },
   "outputs": [],
   "source": [
    "%matplotlib inline\n",
    "from desc.plotting import plot_comparison, plot_section"
   ]
  },
  {
   "cell_type": "code",
   "execution_count": null,
   "id": "f3f88e7c-5fc1-4e0a-841b-3485d6477e84",
   "metadata": {
    "pycharm": {
     "name": "#%%\n"
    },
    "tags": []
   },
   "outputs": [],
   "source": [
    "eq_fam = desc.io.load(\"input.HELIOTRON_output.h5\")\n",
    "print(\"Number of equilibria in the EquilibriaFamily:\", len(eq_fam))\n",
    "fig, ax = plot_comparison(\n",
    "    eqs=[eq_fam[1], eq_fam[3], eq_fam[-1]],\n",
    "    labels=[\n",
    "        \"Axisymmetric w/o pressure\",\n",
    "        \"Axisymmetric w/ pressure\",\n",
    "        \"Nonaxisymmetric w/ pressure\",\n",
    "    ],\n",
    ")"
   ]
  },
  {
   "cell_type": "markdown",
   "id": "f0e89ddd",
   "metadata": {},
   "source": [
    "## Creating an Equilibrium from scratch"
   ]
  },
  {
   "cell_type": "markdown",
   "id": "ea253c44",
   "metadata": {},
   "source": [
    "The recommended way to work with DESC is through python scripts, in which we construct and solve an `Equilibrium` object.\n",
    "\n",
    "We initialize the `Equilibrium` with the desired resolution, and the inputs specified above:\n",
    "- Boundary shape, as a `FourierRZToroidalSurface`\n",
    "- Profiles, as `Profile` objects (there are several different options, the most common is `PowerSeriesProfile`)\n",
    "- Total flux `Psi` as a float\n"
   ]
  },
  {
   "cell_type": "code",
   "execution_count": null,
   "id": "a0564086",
   "metadata": {
    "tags": []
   },
   "outputs": [],
   "source": [
    "from desc.equilibrium import Equilibrium\n",
    "from desc.geometry import FourierRZToroidalSurface\n",
    "from desc.profiles import PowerSeriesProfile"
   ]
  },
  {
   "cell_type": "markdown",
   "id": "da940c18",
   "metadata": {},
   "source": [
    "When you already have the VMEC or DESC input file, you can instantiate an `Equilibrium` directly from the input file, using `Equilibrium.from_input_file`,"
   ]
  },
  {
   "cell_type": "code",
   "execution_count": null,
   "id": "97b6937e",
   "metadata": {},
   "outputs": [],
   "source": [
    "eq = Equilibrium.from_input_file(\"input.HELIOTRON\")"
   ]
  },
  {
   "cell_type": "markdown",
   "id": "2205d503",
   "metadata": {},
   "source": [
    "Or, you may extract just the boundary from the input file with the `FourierRZToroidalSurface.from_input_file`:"
   ]
  },
  {
   "cell_type": "code",
   "execution_count": null,
   "id": "7d676c5b",
   "metadata": {},
   "outputs": [],
   "source": [
    "surf1 = FourierRZToroidalSurface.from_input_file(\"input.HELIOTRON\")"
   ]
  },
  {
   "cell_type": "markdown",
   "id": "d673f68a",
   "metadata": {},
   "source": [
    "If you do not have an input file to work from, you can see the below steps to create an `Equilibrium` from scratch."
   ]
  },
  {
   "cell_type": "markdown",
   "id": "932bfa01-f0c5-47bb-a5c0-80476670a755",
   "metadata": {},
   "source": [
    "When starting from scratch, you can construct the surface by specifying the Fourier coefficients and mode numbers manually.\n",
    "\n",
    "The boundary is represented by a double Fourier series for R and Z in terms of a poloidal angle $\\theta$ and the geometric toroidal angle $\\zeta$. We specify the mode numbers for R and Z as 2D arrays of `[m,n]` pairs, and the coefficients as a 1D array.\n",
    "\n",
    "In DESC the double Fourier series for R and Z are defined in a slightly different manner than VMEC:\n",
    "\n",
    "$$\n",
    "\\begin{align}\n",
    "    R^b(\\theta,\\zeta) &= \\sum^M \\sum^N R^b_{mn} \\mathcal{G}^{m}_{n}(\\theta,\\zeta)\\\\\n",
    "    Z^b(\\theta,\\zeta) &= \\sum^M \\sum^N Z^b_{mn} \\mathcal{G}^{m}_{n}(\\theta,\\zeta)\n",
    "\\end{align}\n",
    "$$\n",
    "\n",
    "where\n",
    "\n",
    "$$\n",
    "   \\mathcal{G}^{m}_{n}(\\theta,\\zeta) = \\begin{cases}\n",
    "   \\cos(|m|\\theta)\\cos(|n|N_{FP}\\zeta) &\\text{for }m\\ge0, n\\ge0 \\\\\n",
    "   \\cos(|m|\\theta)\\sin(|n|N_{FP}\\zeta) &\\text{for }m\\ge0, n<0 \\\\\n",
    "   \\sin(|m|\\theta)\\cos(|n|N_{FP}\\zeta) &\\text{for }m<0, n\\ge0 \\\\\n",
    "   \\sin(|m|\\theta)\\sin(|n|N_{FP}\\zeta) &\\text{for }m<0, n<0.\n",
    "   \\end{cases}\n",
    "$$\n",
    "\n",
    "**Note**: in DESC, radial modes are indexed by `l`, poloidal modes by `m`, and toroidal modes by `n`"
   ]
  },
  {
   "cell_type": "code",
   "execution_count": null,
   "id": "9d009733-6330-4de1-ad4d-89e43ebd5d64",
   "metadata": {
    "tags": []
   },
   "outputs": [],
   "source": [
    "surf2 = FourierRZToroidalSurface(\n",
    "    R_lmn=[10.0, -1.0, -0.3, 0.3],\n",
    "    modes_R=[\n",
    "        (0, 0),\n",
    "        (1, 0),\n",
    "        (1, 1),\n",
    "        (-1, -1),\n",
    "    ],  # (m,n) pairs corresponding to R_mn on previous line\n",
    "    Z_lmn=[1, -0.3, -0.3],\n",
    "    modes_Z=[(-1, 0), (-1, 1), (1, -1)],\n",
    "    NFP=19,\n",
    ")"
   ]
  },
  {
   "cell_type": "markdown",
   "id": "f5b56593-1ad2-4047-ae54-17515f4fc96f",
   "metadata": {},
   "source": [
    "For profiles, we will use the standard `PowerSeriesProfile` which represents a function as a power series in the radial coordinate $\\rho$ which is the square root of the normalized toroidal flux: $\\rho = \\sqrt{\\Psi/\\Psi_b}$ (Note this is different from VMEC which uses the normalized toroidal flux without the square root). We could also use splines (`SplineProfile`), or Zernike polynomials (`FourierZernikeProfile`), for more options, see the [`desc.profiles` module](https://desc-docs.readthedocs.io/en/stable/api.html#profiles)"
   ]
  },
  {
   "cell_type": "code",
   "execution_count": null,
   "id": "31cb6d00-aa44-4c58-8d80-7b52e05155ff",
   "metadata": {
    "tags": []
   },
   "outputs": [],
   "source": [
    "pressure = PowerSeriesProfile(\n",
    "    [1.8e4, 0, -3.6e4, 0, 1.8e4]\n",
    ")  # coefficients in ascending powers of rho\n",
    "iota = PowerSeriesProfile([1, 0, 1.5])  # 1 + 1.5 r^2"
   ]
  },
  {
   "cell_type": "markdown",
   "id": "13e0830a-c1c4-4675-b45d-1803975b4eb6",
   "metadata": {},
   "source": [
    "Finally, we create the equilibrium using the objects we just made, leaving the other parameters at their defaults. The number of field periods by default is inferred from the given surface."
   ]
  },
  {
   "cell_type": "code",
   "execution_count": null,
   "id": "71e20510-1b14-4d14-8c3d-76bfe35fe849",
   "metadata": {
    "tags": []
   },
   "outputs": [],
   "source": [
    "eq = Equilibrium(\n",
    "    L=8,  # radial resolution\n",
    "    M=8,  # poloidal resolution\n",
    "    N=3,  # toroidal resolution\n",
    "    surface=surf1,\n",
    "    pressure=pressure,\n",
    "    iota=iota,\n",
    "    Psi=1.0,  # total flux, in Webers\n",
    ")"
   ]
  },
  {
   "cell_type": "markdown",
   "id": "77777d10-0adb-40e7-84e5-4041e954668c",
   "metadata": {},
   "source": [
    "We now have an `Equilibrium` object, but it is generally not actually in equilibrium, as the default initial guess is just to scale the outermost flux surface.\n",
    "\n",
    "To find the actual solution, we must solve the equilibrium. There are two primary ways to do this in DESC:\n",
    "\n",
    "- `eq.solve` is a method of the `Equilibrium` class that is best used when starting close to the correct solution, or for refining a solution after optimization, for example. Generally not recommended for \"cold start\" solves.\n",
    "- `desc.continuation.solve_continuation_automatic` uses a multi-grid continuation method to arrive at a particular desired equilibrium. It is generally very robust, and is the recommended method.\n",
    "\n",
    "Here, we will use both methods"
   ]
  },
  {
   "cell_type": "code",
   "execution_count": null,
   "id": "e1ad10a7-89fb-4f03-8be4-f8d15df881a7",
   "metadata": {
    "tags": []
   },
   "outputs": [],
   "source": [
    "eq1, info = eq.solve(verbose=3, copy=True)"
   ]
  },
  {
   "cell_type": "code",
   "execution_count": null,
   "id": "ae0b759d-26b9-444b-b9d4-1d7c142b3339",
   "metadata": {
    "tags": []
   },
   "outputs": [],
   "source": [
    "from desc.continuation import solve_continuation_automatic\n",
    "\n",
    "eqf = solve_continuation_automatic(eq.copy(), verbose=3)"
   ]
  },
  {
   "cell_type": "markdown",
   "id": "0356bf5c-e0e5-4d45-8a35-779856f1c634",
   "metadata": {},
   "source": [
    "`solve_continuation_automatic` starts with a low resolution vacuum axisymmetric solution, and proceeds to increase the pressure, boundary shaping, and resolution until the final desired configuration is reached. It returns not just the final equilibrium, but each step along the way, as an `EquilibriaFamily`. "
   ]
  },
  {
   "cell_type": "markdown",
   "id": "53cce1c2-78c4-4c95-9140-b01c312e8093",
   "metadata": {},
   "source": [
    "Finally, we can look at the differences between the two methods, and the initial guess"
   ]
  },
  {
   "cell_type": "code",
   "execution_count": null,
   "id": "2cdce988-88a0-4ed1-bd19-2592eb181d94",
   "metadata": {
    "tags": []
   },
   "outputs": [],
   "source": [
    "plot_comparison(\n",
    "    [eq, eq1, eqf[-1]], labels=[\"Initial\", \"eq.solve\", \"solve_continuation_automatic\"]\n",
    ");"
   ]
  },
  {
   "cell_type": "markdown",
   "id": "e2b5bfe0-1f35-4f10-a7bc-a3f363b7a528",
   "metadata": {},
   "source": [
    "If we compute the normalized force balance error for each case, we see that using the continuation method gives ~20% lower error, indicating a better solution. For more complex equilibria this difference will often be much larger, which is why the continuation method is usually recommended."
   ]
  },
  {
   "cell_type": "code",
   "execution_count": null,
   "id": "309b020d-58a6-45e7-94c2-c329149937aa",
   "metadata": {
    "tags": []
   },
   "outputs": [],
   "source": [
    "f1 = (\n",
    "    eq1.compute(\"<|F|>_vol\")[\"<|F|>_vol\"]\n",
    "    / eq1.compute(\"<|grad(|B|^2)|/2mu0>_vol\")[\"<|grad(|B|^2)|/2mu0>_vol\"]\n",
    ")\n",
    "f2 = (\n",
    "    eqf[-1].compute(\"<|F|>_vol\")[\"<|F|>_vol\"]\n",
    "    / eqf[-1].compute(\"<|grad(|B|^2)|/2mu0>_vol\")[\"<|grad(|B|^2)|/2mu0>_vol\"]\n",
    ")\n",
    "print(f\"Force error after eq.solve(): {f1:.4e}\")\n",
    "print(f\"Force error after solve_continuation_automatic: {f2:.4e}\")"
   ]
  }
 ],
 "metadata": {
  "kernelspec": {
   "display_name": "Python 3 (ipykernel)",
   "language": "python",
   "name": "python3"
  },
  "language_info": {
   "codemirror_mode": {
    "name": "ipython",
    "version": 3
   },
   "file_extension": ".py",
   "mimetype": "text/x-python",
   "name": "python",
   "nbconvert_exporter": "python",
   "pygments_lexer": "ipython3",
   "version": "3.9.7"
  }
 },
 "nbformat": 4,
 "nbformat_minor": 5
}
