{
 "cells": [
  {
   "cell_type": "markdown",
   "metadata": {},
   "source": [
    "# Bootstrap Current Self-Consistency"
   ]
  },
  {
   "cell_type": "markdown",
   "metadata": {},
   "source": [
    "This tutorial demonstrates how to optimize a quasi-symmetric equilibrium to have a self-consistent bootstrap current profile. \n",
    "This is performed by minimizing the difference between the toroidal currents $\\langle J \\cdot B \\rangle$ computed from the MHD equilibrium and from the Redl formula. \n",
    "The Redl formula is only valid in the limit of perfect quasi-symmetry, so this procedure will not work for other configurations that are not quasi-symmetric. \n",
    "\n",
    "There are two methods that can be used, and both will be shown: \n",
    "\n",
    "1. Optimize the current profile for self-consistency\n",
    "2. Iteratively solve the equilibrium with new current profiles\n",
    "\n",
    "These methods should be equivalent, although one might be faster than the other depending on the particular problem. "
   ]
  },
  {
   "cell_type": "code",
   "execution_count": 1,
   "metadata": {},
   "outputs": [],
   "source": [
    "import sys\n",
    "import os\n",
    "\n",
    "sys.path.insert(0, os.path.abspath(\".\"))\n",
    "sys.path.append(os.path.abspath(\"../../../\"))"
   ]
  },
  {
   "cell_type": "markdown",
   "metadata": {},
   "source": [
    "If you have access to a GPU, uncomment the following two lines before any DESC or JAX related imports. You should see about an order of magnitude speed improvement with only these two lines of code!"
   ]
  },
  {
   "cell_type": "code",
   "execution_count": null,
   "metadata": {},
   "outputs": [],
   "source": [
    "# from desc import set_device\n",
    "# set_device(\"gpu\")"
   ]
  },
  {
   "cell_type": "markdown",
   "metadata": {},
   "source": [
    "As mentioned in [DESC Documentation on performance tips](https://desc-docs.readthedocs.io/en/latest/performance_tips.html), one can use compilation cache directory to reduce the compilation overhead time. Note: One needs to create `jax-caches` folder manually."
   ]
  },
  {
   "cell_type": "code",
   "execution_count": 3,
   "metadata": {},
   "outputs": [],
   "source": [
    "# import jax\n",
    "\n",
    "# jax.config.update(\"jax_compilation_cache_dir\", \"../jax-caches\")\n",
    "# jax.config.update(\"jax_persistent_cache_min_entry_size_bytes\", -1)\n",
    "# jax.config.update(\"jax_persistent_cache_min_compile_time_secs\", 0)"
   ]
  },
  {
   "cell_type": "code",
   "execution_count": 4,
   "metadata": {},
   "outputs": [],
   "source": [
    "import numpy as np\n",
    "\n",
    "np.set_printoptions(linewidth=np.inf)\n",
    "import matplotlib.pyplot as plt\n",
    "\n",
    "plt.rcParams[\"font.size\"] = 14\n",
    "\n",
    "from desc.compat import rescale\n",
    "from desc.equilibrium import EquilibriaFamily\n",
    "from desc.examples import get\n",
    "from desc.grid import LinearGrid\n",
    "from desc.objectives import (\n",
    "    BootstrapRedlConsistency,\n",
    "    FixAtomicNumber,\n",
    "    FixBoundaryR,\n",
    "    FixBoundaryZ,\n",
    "    FixCurrent,\n",
    "    FixElectronDensity,\n",
    "    FixElectronTemperature,\n",
    "    FixIonTemperature,\n",
    "    FixPsi,\n",
    "    ForceBalance,\n",
    "    ObjectiveFunction,\n",
    ")\n",
    "from desc.plotting import plot_1d\n",
    "from desc.profiles import PowerSeriesProfile, SplineProfile"
   ]
  },
  {
   "cell_type": "markdown",
   "metadata": {},
   "source": [
    "As an example, we will reproduce the QA results from [Landreman et al. (2022)](https://doi.org/10.1063/5.0098166). \n",
    "\n",
    "We will start with the \"precise QA\" example equilibrium, scaled to the ARIES-CS reactor size. "
   ]
  },
  {
   "cell_type": "code",
   "execution_count": 5,
   "metadata": {},
   "outputs": [],
   "source": [
    "eq0 = get(\"precise_QA\")\n",
    "eq0 = rescale(eq0, L=(\"R0\", 10), B=(\"B0\", 5.86))"
   ]
  },
  {
   "cell_type": "markdown",
   "metadata": {},
   "source": [
    "This equilibrium has the vacuum profiles $p = 0 ~\\text{Pa}$ and $\\frac{2\\pi}{\\mu_0} I = 0 ~\\text{A}$. \n",
    "Calculating the bootstrap current requires knowledge of the temperature and density profiles for each species in the plasma. \n",
    "We replace the pressure profile with the following kinetic profiles corresponding to $\\langle\\beta\\rangle=2.5\\%$: \n",
    "\n",
    "$n_e = n_i = 2.38\\times10^{20} (1 - \\rho^{10}) ~\\text{m}^{-3}$\n",
    "\n",
    "$T_e = T_i = 9.45\\times10^{3} (1 - \\rho^{2}) ~\\text{eV}$\n",
    "\n",
    "The temperature profiles must be given for both ions and electrons, but only the electron density profile is specified. \n",
    "The ion density profile is given by the effective atomic number $Z_{eff}$ as $n_i = n_e / Z_{eff}$. \n",
    "The plasma pressure will then be computed as \n",
    "\n",
    "$p = e (n_e T_e + n_i T_i)$."
   ]
  },
  {
   "cell_type": "code",
   "execution_count": 6,
   "metadata": {},
   "outputs": [],
   "source": [
    "eq0.pressure = None  # must remove the pressure profile before setting kinetic profiles\n",
    "eq0.atomic_number = PowerSeriesProfile([1])\n",
    "eq0.electron_density = PowerSeriesProfile(params=[1, -1], modes=[0, 10]) * 2.38e20\n",
    "eq0.electron_temperature = PowerSeriesProfile(params=[1, -1], modes=[0, 2]) * 9.45e3\n",
    "eq0.ion_temperature = PowerSeriesProfile(params=[1, -1], modes=[0, 2]) * 9.45e3\n",
    "# the existing current profile is the vacuum case eq0.current = PowerSeriesProfile([0])"
   ]
  },
  {
   "cell_type": "markdown",
   "metadata": {},
   "source": [
    "We need to re-solve the equilibrium force balance with the new profiles. "
   ]
  },
  {
   "cell_type": "code",
   "execution_count": 7,
   "metadata": {},
   "outputs": [
    {
     "name": "stdout",
     "output_type": "stream",
     "text": [
      "Building objective: force\n",
      "Precomputing transforms\n",
      "Timer: Precomputing transforms = 714 ms\n",
      "Timer: Objective build = 1.69 sec\n",
      "Building objective: lcfs R\n",
      "Building objective: lcfs Z\n",
      "Building objective: fixed Psi\n",
      "Building objective: fixed current\n",
      "Building objective: fixed electron density\n",
      "Building objective: fixed electron temperature\n",
      "Building objective: fixed ion temperature\n",
      "Building objective: fixed atomic number\n",
      "Building objective: fixed sheet current\n",
      "Building objective: self_consistency R\n",
      "Building objective: self_consistency Z\n",
      "Building objective: lambda gauge\n",
      "Building objective: axis R self consistency\n",
      "Building objective: axis Z self consistency\n",
      "Timer: Objective build = 773 ms\n",
      "Timer: LinearConstraintProjection build = 6.09 sec\n",
      "Number of parameters: 856\n",
      "Number of objectives: 5346\n",
      "Timer: Initializing the optimization = 8.71 sec\n",
      "\n",
      "Starting optimization\n",
      "Using method: lsq-exact\n",
      "Solver options:\n",
      "------------------------------------------------------------\n",
      "Maximum Function Evaluations       : 501\n",
      "Maximum Allowed Total Δx Norm      : inf\n",
      "Scaled Termination                 : True\n",
      "Trust Region Method                : qr\n",
      "Initial Trust Radius               : 1.431e+02\n",
      "Maximum Trust Radius               : inf\n",
      "Minimum Trust Radius               : 2.220e-16\n",
      "Trust Radius Increase Ratio        : 2.000e+00\n",
      "Trust Radius Decrease Ratio        : 2.500e-01\n",
      "Trust Radius Increase Threshold    : 7.500e-01\n",
      "Trust Radius Decrease Threshold    : 2.500e-01\n",
      "------------------------------------------------------------ \n",
      "\n",
      "   Iteration     Total nfev        Cost      Cost reduction    Step norm     Optimality   \n",
      "       0              1          1.138e-02                                    4.748e-02   \n",
      "       1              3          2.450e-03      8.927e-03      1.689e-01      1.805e-02   \n",
      "       2              4          1.003e-03      1.447e-03      2.762e-01      1.479e-02   \n",
      "       3              5          7.749e-04      2.284e-04      2.107e-01      1.472e-02   \n",
      "       4              6          2.205e-05      7.529e-04      5.663e-02      1.408e-03   \n",
      "       5              8          6.017e-06      1.603e-05      2.894e-02      6.948e-04   \n",
      "       6              9          3.382e-06      2.635e-06      2.959e-02      7.920e-04   \n",
      "       7             11          7.237e-07      2.658e-06      7.521e-03      6.954e-05   \n",
      "       8             12          7.116e-07      1.216e-08      1.528e-02      1.824e-04   \n",
      "       9             13          6.305e-07      8.108e-08      3.803e-03      1.213e-05   \n",
      "      10             14          6.235e-07      6.934e-09      7.823e-03      4.239e-05   \n",
      "      11             15          6.152e-07      8.309e-09      7.202e-03      4.238e-05   \n",
      "      12             16          6.104e-07      4.793e-09      7.663e-03      4.043e-05   \n",
      "      13             17          5.970e-07      1.342e-08      1.904e-03      2.954e-06   \n",
      "      14             18          5.928e-07      4.229e-09      3.800e-03      1.038e-05   \n",
      "Optimization terminated successfully.\n",
      "`ftol` condition satisfied. (ftol=1.00e-02)\n",
      "         Current function value: 5.928e-07\n",
      "         Total delta_x: 6.427e-01\n",
      "         Iterations: 14\n",
      "         Function evaluations: 18\n",
      "         Jacobian evaluations: 15\n",
      "Timer: Solution time = 16.1 sec\n",
      "Timer: Avg time per step = 1.07 sec\n",
      "==============================================================================================================\n",
      "                                                                 Start  -->   End\n",
      "Total (sum of squares):                                      1.138e-02  -->   5.928e-07, \n",
      "Maximum absolute Force error:                                5.309e+07  -->   1.983e+06 (N)\n",
      "Minimum absolute Force error:                                1.261e+00  -->   2.978e+01 (N)\n",
      "Average absolute Force error:                                5.121e+06  -->   5.254e+04 (N)\n",
      "Maximum absolute Force error:                                1.512e-02  -->   5.649e-04 (normalized)\n",
      "Minimum absolute Force error:                                3.591e-10  -->   8.483e-09 (normalized)\n",
      "Average absolute Force error:                                1.459e-03  -->   1.496e-05 (normalized)\n",
      "R boundary error:                                            0.000e+00  -->   3.846e-16 (m)\n",
      "Z boundary error:                                            0.000e+00  -->   2.326e-16 (m)\n",
      "Fixed Psi error:                                             0.000e+00  -->   0.000e+00 (Wb)\n",
      "Fixed current profile error:                                 0.000e+00  -->   0.000e+00 (A)\n",
      "Fixed electron density profile error:                        0.000e+00  -->   0.000e+00 (m^-3)\n",
      "Fixed electron temperature profile error:                    0.000e+00  -->   0.000e+00 (eV)\n",
      "Fixed ion temperature profile error:                         0.000e+00  -->   0.000e+00 (eV)\n",
      "Fixed atomic number profile error:                           0.000e+00  -->   0.000e+00 (dimensionless)\n",
      "Fixed sheet current error:                                   0.000e+00  -->   0.000e+00 (~)\n",
      "==============================================================================================================\n",
      "\n"
     ]
    }
   ],
   "source": [
    "eq0, _ = eq0.solve(objective=\"force\", optimizer=\"lsq-exact\", verbose=3)"
   ]
  },
  {
   "cell_type": "markdown",
   "metadata": {},
   "source": [
    "Now we have our initial equilibrium, which does not have a self-consistent bootstrap current: "
   ]
  },
  {
   "cell_type": "code",
   "execution_count": 8,
   "metadata": {},
   "outputs": [
    {
     "name": "stderr",
     "output_type": "stream",
     "text": [
      "/CODES/DESC/desc/utils.py:572: UserWarning: Redl formula is undefined at rho=0, but grid has grid points at rho=0, note that on-axiscurrent will be NaN.\n",
      "  warnings.warn(msg, err)\n",
      "/CODES/DESC/desc/utils.py:572: UserWarning: Redl formula is undefined where kinetic profiles vanish, but given electron density vanishes at at least one providedrho grid point.\n",
      "  warnings.warn(msg, err)\n",
      "/CODES/DESC/desc/utils.py:572: UserWarning: Redl formula is undefined where kinetic profiles vanish, but given electron temperature vanishes at at least one providedrho grid point.\n",
      "  warnings.warn(msg, err)\n",
      "/CODES/DESC/desc/utils.py:572: UserWarning: Redl formula is undefined where kinetic profiles vanish, but given ion temperature vanishes at at least one providedrho grid point.\n",
      "  warnings.warn(msg, err)\n"
     ]
    },
    {
     "data": {
      "image/png": "[encoded data removed]",
      "text/plain": [
       "<Figure size 384.189x384.189 with 1 Axes>"
      ]
     },
     "metadata": {},
     "output_type": "display_data"
    }
   ],
   "source": [
    "# the Redl formula is undefined at rho=0.0 and where the profiles vanish, so\n",
    "# in our case here it is NaN at the axis and at rho=1.0\n",
    "fig, ax = plot_1d(\n",
    "    eq0,\n",
    "    \"<J*B> Redl\",\n",
    "    color=\"b\",\n",
    "    lw=2,\n",
    "    label=\"Redl\",\n",
    ")\n",
    "fig, ax = plot_1d(eq0, \"<J*B>\", color=\"r\", lw=2, label=\"MHD\", ax=ax)\n",
    "ax.legend(loc=\"best\")\n",
    "ax.set_title(\"Initial Equilibrium\");"
   ]
  },
  {
   "cell_type": "markdown",
   "metadata": {},
   "source": [
    "We need to create a grid on which to evaluate the boootstrap current self-consistency. \n",
    "The bootstrap current is a radial profile, but the grid must have finite poloidal and toroidal resolution to accurately compute flux surface quantities. \n",
    "The Redl formula is undefined where the kinetic profiles vanish, so in our example we do not include points at $\\rho=0$ or $\\rho=1$. "
   ]
  },
  {
   "cell_type": "code",
   "execution_count": 9,
   "metadata": {},
   "outputs": [],
   "source": [
    "grid = LinearGrid(\n",
    "    M=eq0.M_grid,\n",
    "    N=eq0.N_grid,\n",
    "    NFP=eq0.NFP,\n",
    "    sym=eq0.sym,\n",
    "    rho=np.linspace(1 / eq0.L_grid, 1, eq0.L_grid) - 1 / (2 * eq0.L_grid),\n",
    ")"
   ]
  },
  {
   "cell_type": "markdown",
   "metadata": {},
   "source": [
    "Our current profile will be represented as a power series of the form: \n",
    "\n",
    "$I = c_0 + c_1 \\rho + c_2 \\rho^2 + \\mathcal{O}(\\rho^3)$\n",
    "\n",
    "Physically, the current should vanish on the magnetic axis so $c_0 = 0$. \n",
    "And in order for the MHD equilibrium to be analytic, it should scale as $\\mathcal{O}(\\rho^2)$ near the magnetic axis so $c_1 = 0$ also. \n",
    "However, the Redl bootstrap current formula scales as $\\mathcal{O}(\\sqrt{\\rho})$ near the magnetic axis. \n",
    "This is incorrect, because the drift-kinetic equation from the Redl formula does not account for finite orbit width effects that become important near the axis. \n",
    "\n",
    "Typically, we use even power series with `sym=True` for all equilibrium profiles to give the desired analycity conditions. \n",
    "For bootstrap current optimizations, it is recommended to use the full power series with `sym=False` while also enforcing $c_0 = c_1 = 0$. \n",
    "This prevents getting good self-consistency near the magnetic axis, but allows for good agreement throughout the rest of the plasma volume and results in high quality equilibria overall. \n"
   ]
  },
  {
   "cell_type": "code",
   "execution_count": 10,
   "metadata": {},
   "outputs": [],
   "source": [
    "eq0.current = PowerSeriesProfile(np.zeros((eq0.L + 1,)), sym=False)"
   ]
  },
  {
   "cell_type": "markdown",
   "metadata": {},
   "source": [
    "### 1. Optimization"
   ]
  },
  {
   "cell_type": "markdown",
   "metadata": {},
   "source": [
    "In this method, we will optimize the current profile to minimize the self-consistency errors evaluated by the `BootstrapRedlConsistency` objective. \n",
    "This objective requires the helicity, which for QA is $(M, N) = (1, 0)$. \n",
    "\n",
    "In this example we will only optimize the current profile, so all other profiles and the plasma boundary are constrained to be fixed. \n",
    "It is recommended to use a very small value for `gtol` when optimizing the bootstrap current. "
   ]
  },
  {
   "cell_type": "code",
   "execution_count": 11,
   "metadata": {},
   "outputs": [],
   "source": [
    "eq1 = eq0.copy()"
   ]
  },
  {
   "cell_type": "code",
   "execution_count": 12,
   "metadata": {},
   "outputs": [
    {
     "name": "stdout",
     "output_type": "stream",
     "text": [
      "Building objective: Bootstrap current self-consistency (Redl)\n",
      "Precomputing transforms\n",
      "Timer: Precomputing transforms = 1.06 sec\n",
      "Timer: Objective build = 1.94 sec\n",
      "Building objective: force\n",
      "Precomputing transforms\n",
      "Timer: Precomputing transforms = 75.2 ms\n",
      "Timer: Objective build = 136 ms\n",
      "Timer: Objective build = 20.0 ms\n",
      "Timer: Eq Update LinearConstraintProjection build = 3.74 sec\n",
      "Timer: Proximal projection build = 19.6 sec\n",
      "Building objective: fixed atomic number\n",
      "Building objective: lcfs R\n",
      "Building objective: lcfs Z\n",
      "Building objective: fixed current\n",
      "Building objective: fixed electron density\n",
      "Building objective: fixed electron temperature\n",
      "Building objective: fixed ion temperature\n",
      "Building objective: fixed Psi\n",
      "Timer: Objective build = 585 ms\n",
      "Timer: LinearConstraintProjection build = 1.66 sec\n",
      "Number of parameters: 7\n",
      "Number of objectives: 16\n",
      "Timer: Initializing the optimization = 21.9 sec\n",
      "\n",
      "Starting optimization\n",
      "Using method: proximal-lsq-exact\n",
      "Solver options:\n",
      "------------------------------------------------------------\n",
      "Maximum Function Evaluations       : 51\n",
      "Maximum Allowed Total Δx Norm      : inf\n",
      "Scaled Termination                 : True\n",
      "Trust Region Method                : qr\n",
      "Initial Trust Radius               : 1.000e+00\n",
      "Maximum Trust Radius               : inf\n",
      "Minimum Trust Radius               : 2.220e-16\n",
      "Trust Radius Increase Ratio        : 2.000e+00\n",
      "Trust Radius Decrease Ratio        : 2.500e-01\n",
      "Trust Radius Increase Threshold    : 7.500e-01\n",
      "Trust Radius Decrease Threshold    : 2.500e-01\n",
      "------------------------------------------------------------ \n",
      "\n",
      "   Iteration     Total nfev        Cost      Cost reduction    Step norm     Optimality   \n",
      "       0              1          2.763e-02                                    2.228e-01   \n",
      "       1              2          1.271e-04      2.751e-02      1.197e+07      1.221e-02   \n",
      "       2              3          4.028e-06      1.231e-04      2.418e+07      1.541e-03   \n",
      "       3              4          1.495e-06      2.533e-06      4.759e+07      5.865e-05   \n",
      "       4             30          1.495e-06      0.000e+00      0.000e+00      5.865e-05   \n",
      "Warning: A bad approximation caused failure to predict improvement.\n",
      "         Current function value: 1.495e-06\n",
      "         Total delta_x: 7.262e+07\n",
      "         Iterations: 4\n",
      "         Function evaluations: 30\n",
      "         Jacobian evaluations: 4\n",
      "Timer: Solution time = 2.02 min\n",
      "Timer: Avg time per step = 24.3 sec\n",
      "==============================================================================================================\n",
      "                                                                 Start  -->   End\n",
      "Total (sum of squares):                                      2.765e-02  -->   1.495e-06, \n",
      "Maximum absolute Bootstrap current self-consistency error:   3.106e+06  -->   3.873e+04 (T A m^-2)\n",
      "Minimum absolute Bootstrap current self-consistency error:   1.896e+05  -->   1.482e+01 (T A m^-2)\n",
      "Average absolute Bootstrap current self-consistency error:   1.954e+06  -->   1.252e+04 (T A m^-2)\n",
      "Maximum absolute Bootstrap current self-consistency error:   3.355e-01  -->   4.183e-03 (normalized)\n",
      "Minimum absolute Bootstrap current self-consistency error:   2.048e-02  -->   1.601e-06 (normalized)\n",
      "Average absolute Bootstrap current self-consistency error:   2.111e-01  -->   1.353e-03 (normalized)\n",
      "Fixed atomic number profile error:                           0.000e+00  -->   0.000e+00 (dimensionless)\n",
      "R boundary error:                                            3.846e-16  -->   1.154e-15 (m)\n",
      "Z boundary error:                                            2.326e-16  -->   6.979e-16 (m)\n",
      "Fixed current profile error:                                 0.000e+00  -->   0.000e+00 (A)\n",
      "Fixed electron density profile error:                        0.000e+00  -->   0.000e+00 (m^-3)\n",
      "Fixed electron temperature profile error:                    0.000e+00  -->   0.000e+00 (eV)\n",
      "Fixed ion temperature profile error:                         0.000e+00  -->   0.000e+00 (eV)\n",
      "Fixed Psi error:                                             0.000e+00  -->   0.000e+00 (Wb)\n",
      "Maximum absolute Force error:                                1.983e+06  -->   1.794e+06 (N)\n",
      "Minimum absolute Force error:                                2.978e+01  -->   7.962e+00 (N)\n",
      "Average absolute Force error:                                5.254e+04  -->   8.691e+04 (N)\n",
      "Maximum absolute Force error:                                5.649e-04  -->   5.109e-04 (normalized)\n",
      "Minimum absolute Force error:                                8.483e-09  -->   2.268e-09 (normalized)\n",
      "Average absolute Force error:                                1.496e-05  -->   2.475e-05 (normalized)\n",
      "==============================================================================================================\n",
      "\n"
     ]
    }
   ],
   "source": [
    "objective = ObjectiveFunction(\n",
    "    BootstrapRedlConsistency(eq=eq1, grid=grid, helicity=(1, 0)),\n",
    ")\n",
    "constraints = (\n",
    "    FixAtomicNumber(eq=eq1),\n",
    "    FixBoundaryR(eq=eq1),\n",
    "    FixBoundaryZ(eq=eq1),\n",
    "    FixCurrent(eq=eq1, indices=[0, 1]),  # fix c_0=c_1=0 current profile coefficients\n",
    "    FixElectronDensity(eq=eq1),\n",
    "    FixElectronTemperature(eq=eq1),\n",
    "    FixIonTemperature(eq=eq1),\n",
    "    FixPsi(eq=eq1),\n",
    "    ForceBalance(eq=eq1),\n",
    ")\n",
    "eq1, _ = eq1.optimize(\n",
    "    objective=objective,\n",
    "    constraints=constraints,\n",
    "    optimizer=\"proximal-lsq-exact\",\n",
    "    maxiter=10,\n",
    "    verbose=3,\n",
    ")"
   ]
  },
  {
   "cell_type": "markdown",
   "metadata": {},
   "source": [
    "When plotting the bootstrap current profiles, we see the MHD equilibrium now has very good agreement with the Redl formula. "
   ]
  },
  {
   "cell_type": "code",
   "execution_count": 13,
   "metadata": {},
   "outputs": [
    {
     "name": "stderr",
     "output_type": "stream",
     "text": [
      "/CODES/DESC/desc/utils.py:572: UserWarning: Redl formula is undefined at rho=0, but grid has grid points at rho=0, note that on-axiscurrent will be NaN.\n",
      "  warnings.warn(msg, err)\n",
      "/CODES/DESC/desc/utils.py:572: UserWarning: Redl formula is undefined where kinetic profiles vanish, but given electron density vanishes at at least one providedrho grid point.\n",
      "  warnings.warn(msg, err)\n",
      "/CODES/DESC/desc/utils.py:572: UserWarning: Redl formula is undefined where kinetic profiles vanish, but given electron temperature vanishes at at least one providedrho grid point.\n",
      "  warnings.warn(msg, err)\n",
      "/CODES/DESC/desc/utils.py:572: UserWarning: Redl formula is undefined where kinetic profiles vanish, but given ion temperature vanishes at at least one providedrho grid point.\n",
      "  warnings.warn(msg, err)\n"
     ]
    },
    {
     "data": {
      "image/png": "[encoded data removed]",
      "text/plain": [
       "<Figure size 384.189x384.189 with 1 Axes>"
      ]
     },
     "metadata": {},
     "output_type": "display_data"
    }
   ],
   "source": [
    "fig, ax = plot_1d(eq1, \"<J*B> Redl\", color=\"b\", lw=2, label=\"Redl\")\n",
    "fig, ax = plot_1d(eq1, \"<J*B>\", color=\"r\", lw=2, label=\"MHD\", ax=ax)\n",
    "ax.legend(loc=\"best\")\n",
    "ax.set_title(\"Method 1: Optimization\");"
   ]
  },
  {
   "cell_type": "markdown",
   "metadata": {},
   "source": [
    "### 2. Iterative Solves"
   ]
  },
  {
   "cell_type": "markdown",
   "metadata": {},
   "source": [
    "In this method, we iteratively solve the equilibrium with updated guesses for the current profile. \n",
    "The current profile is computed such that the parallel current is consistent with the Redl formula, according to Equation C3 in [Landreman & Catto (2012)](https://doi.org/10.1063/1.3693187). \n",
    "This is the same approach as STELLOPT VBOOT with SFINCS, and it usually converges in only a few iterations. "
   ]
  },
  {
   "cell_type": "code",
   "execution_count": 14,
   "metadata": {},
   "outputs": [],
   "source": [
    "eq2 = eq0.copy()\n",
    "fam2 = EquilibriaFamily(eq2)"
   ]
  },
  {
   "cell_type": "code",
   "execution_count": 15,
   "metadata": {},
   "outputs": [
    {
     "name": "stdout",
     "output_type": "stream",
     "text": [
      "Building objective: force\n",
      "Precomputing transforms\n",
      "Timer: Precomputing transforms = 72.1 ms\n",
      "Timer: Objective build = 134 ms\n",
      "Building objective: lcfs R\n",
      "Building objective: lcfs Z\n",
      "Building objective: fixed Psi\n",
      "Building objective: fixed current\n",
      "Building objective: fixed electron density\n",
      "Building objective: fixed electron temperature\n",
      "Building objective: fixed ion temperature\n",
      "Building objective: fixed atomic number\n",
      "Building objective: fixed sheet current\n",
      "Building objective: self_consistency R\n",
      "Building objective: self_consistency Z\n",
      "Building objective: lambda gauge\n",
      "Building objective: axis R self consistency\n",
      "Building objective: axis Z self consistency\n",
      "Timer: Objective build = 867 ms\n",
      "Timer: LinearConstraintProjection build = 274 ms\n",
      "Number of parameters: 856\n",
      "Number of objectives: 5346\n",
      "Timer: Initializing the optimization = 1.31 sec\n",
      "\n",
      "Starting optimization\n",
      "Using method: lsq-exact\n",
      "Solver options:\n",
      "------------------------------------------------------------\n",
      "Maximum Function Evaluations       : 501\n",
      "Maximum Allowed Total Δx Norm      : inf\n",
      "Scaled Termination                 : True\n",
      "Trust Region Method                : qr\n",
      "Initial Trust Radius               : 1.498e+02\n",
      "Maximum Trust Radius               : inf\n",
      "Minimum Trust Radius               : 2.220e-16\n",
      "Trust Radius Increase Ratio        : 2.000e+00\n",
      "Trust Radius Decrease Ratio        : 2.500e-01\n",
      "Trust Radius Increase Threshold    : 7.500e-01\n",
      "Trust Radius Decrease Threshold    : 2.500e-01\n",
      "------------------------------------------------------------ \n",
      "\n",
      "   Iteration     Total nfev        Cost      Cost reduction    Step norm     Optimality   \n",
      "       0              1          7.104e-03                                    8.999e-02   \n",
      "       1              2          3.466e-03      3.638e-03      2.023e-01      3.716e-02   \n",
      "       2              3          2.593e-04      3.206e-03      1.213e-01      8.056e-03   \n",
      "       3              4          1.499e-04      1.094e-04      9.481e-02      7.302e-03   \n",
      "       4              5          6.137e-05      8.857e-05      7.001e-02      3.921e-03   \n",
      "       5              6          2.461e-05      3.676e-05      5.578e-02      2.250e-03   \n",
      "       6              7          1.011e-05      1.450e-05      3.741e-02      1.271e-03   \n",
      "       7              8          8.362e-06      1.751e-06      3.246e-02      1.128e-03   \n",
      "       8              9          3.437e-06      4.926e-06      8.517e-03      1.869e-04   \n",
      "       9             10          3.406e-06      3.016e-08      1.767e-02      1.875e-04   \n",
      "      10             11          3.088e-06      3.187e-07      4.356e-03      7.847e-05   \n",
      "      11             12          3.021e-06      6.629e-08      4.618e-03      2.987e-05   \n",
      "      12             14          3.002e-06      1.981e-08      1.159e-03      8.202e-06   \n",
      "Optimization terminated successfully.\n",
      "`ftol` condition satisfied. (ftol=1.00e-02)\n",
      "         Current function value: 3.002e-06\n",
      "         Total delta_x: 2.363e-01\n",
      "         Iterations: 12\n",
      "         Function evaluations: 14\n",
      "         Jacobian evaluations: 13\n",
      "Timer: Solution time = 3.99 sec\n",
      "Timer: Avg time per step = 307 ms\n",
      "==============================================================================================================\n",
      "                                                                 Start  -->   End\n",
      "Total (sum of squares):                                      7.104e-03  -->   3.002e-06, \n",
      "Maximum absolute Force error:                                5.166e+07  -->   2.331e+06 (N)\n",
      "Minimum absolute Force error:                                8.443e+01  -->   4.092e+00 (N)\n",
      "Average absolute Force error:                                4.441e+06  -->   1.062e+05 (N)\n",
      "Maximum absolute Force error:                                1.471e-02  -->   6.639e-04 (normalized)\n",
      "Minimum absolute Force error:                                2.405e-08  -->   1.165e-09 (normalized)\n",
      "Average absolute Force error:                                1.265e-03  -->   3.026e-05 (normalized)\n",
      "R boundary error:                                            0.000e+00  -->   3.846e-16 (m)\n",
      "Z boundary error:                                            0.000e+00  -->   2.326e-16 (m)\n",
      "Fixed Psi error:                                             0.000e+00  -->   0.000e+00 (Wb)\n",
      "Fixed current profile error:                                 0.000e+00  -->   6.664e-08 (A)\n",
      "Fixed electron density profile error:                        0.000e+00  -->   0.000e+00 (m^-3)\n",
      "Fixed electron temperature profile error:                    0.000e+00  -->   0.000e+00 (eV)\n",
      "Fixed ion temperature profile error:                         0.000e+00  -->   0.000e+00 (eV)\n",
      "Fixed atomic number profile error:                           0.000e+00  -->   0.000e+00 (dimensionless)\n",
      "Fixed sheet current error:                                   0.000e+00  -->   0.000e+00 (~)\n",
      "==============================================================================================================\n",
      "\n",
      "Building objective: force\n",
      "Precomputing transforms\n",
      "Timer: Precomputing transforms = 66.8 ms\n",
      "Timer: Objective build = 131 ms\n",
      "Building objective: lcfs R\n",
      "Building objective: lcfs Z\n",
      "Building objective: fixed Psi\n",
      "Building objective: fixed current\n",
      "Building objective: fixed electron density\n",
      "Building objective: fixed electron temperature\n",
      "Building objective: fixed ion temperature\n",
      "Building objective: fixed atomic number\n",
      "Building objective: fixed sheet current\n",
      "Building objective: self_consistency R\n",
      "Building objective: self_consistency Z\n",
      "Building objective: lambda gauge\n",
      "Building objective: axis R self consistency\n",
      "Building objective: axis Z self consistency\n",
      "Timer: Objective build = 743 ms\n",
      "Timer: LinearConstraintProjection build = 167 ms\n",
      "Number of parameters: 856\n",
      "Number of objectives: 5346\n",
      "Timer: Initializing the optimization = 1.06 sec\n",
      "\n",
      "Starting optimization\n",
      "Using method: lsq-exact\n",
      "Solver options:\n",
      "------------------------------------------------------------\n",
      "Maximum Function Evaluations       : 501\n",
      "Maximum Allowed Total Δx Norm      : inf\n",
      "Scaled Termination                 : True\n",
      "Trust Region Method                : qr\n",
      "Initial Trust Radius               : 1.514e+02\n",
      "Maximum Trust Radius               : inf\n",
      "Minimum Trust Radius               : 2.220e-16\n",
      "Trust Radius Increase Ratio        : 2.000e+00\n",
      "Trust Radius Decrease Ratio        : 2.500e-01\n",
      "Trust Radius Increase Threshold    : 7.500e-01\n",
      "Trust Radius Decrease Threshold    : 2.500e-01\n",
      "------------------------------------------------------------ \n",
      "\n",
      "   Iteration     Total nfev        Cost      Cost reduction    Step norm     Optimality   \n",
      "       0              1          5.842e-04                                    2.129e-02   \n",
      "       1              2          1.374e-05      5.704e-04      6.550e-02      2.012e-03   \n",
      "       2              3          2.646e-06      1.109e-05      2.354e-02      3.305e-04   \n",
      "       3              5          1.938e-06      7.084e-07      8.600e-03      6.146e-05   \n",
      "       4              7          1.904e-06      3.454e-08      4.618e-03      4.600e-05   \n",
      "       5              8          1.890e-06      1.359e-08      4.210e-03      1.932e-05   \n",
      "Optimization terminated successfully.\n",
      "`ftol` condition satisfied. (ftol=1.00e-02)\n",
      "         Current function value: 1.890e-06\n",
      "         Total delta_x: 6.890e-02\n",
      "         Iterations: 5\n",
      "         Function evaluations: 8\n",
      "         Jacobian evaluations: 6\n",
      "Timer: Solution time = 1.96 sec\n",
      "Timer: Avg time per step = 326 ms\n",
      "==============================================================================================================\n",
      "                                                                 Start  -->   End\n",
      "Total (sum of squares):                                      5.842e-04  -->   1.890e-06, \n",
      "Maximum absolute Force error:                                1.265e+07  -->   1.473e+06 (N)\n",
      "Minimum absolute Force error:                                5.030e+02  -->   6.140e+00 (N)\n",
      "Average absolute Force error:                                1.293e+06  -->   8.187e+04 (N)\n",
      "Maximum absolute Force error:                                3.602e-03  -->   4.196e-04 (normalized)\n",
      "Minimum absolute Force error:                                1.433e-07  -->   1.749e-09 (normalized)\n",
      "Average absolute Force error:                                3.683e-04  -->   2.332e-05 (normalized)\n",
      "R boundary error:                                            0.000e+00  -->   1.781e-15 (m)\n",
      "Z boundary error:                                            0.000e+00  -->   2.577e-17 (m)\n",
      "Fixed Psi error:                                             0.000e+00  -->   0.000e+00 (Wb)\n",
      "Fixed current profile error:                                 0.000e+00  -->   0.000e+00 (A)\n",
      "Fixed electron density profile error:                        0.000e+00  -->   0.000e+00 (m^-3)\n",
      "Fixed electron temperature profile error:                    0.000e+00  -->   0.000e+00 (eV)\n",
      "Fixed ion temperature profile error:                         0.000e+00  -->   0.000e+00 (eV)\n",
      "Fixed atomic number profile error:                           0.000e+00  -->   0.000e+00 (dimensionless)\n",
      "Fixed sheet current error:                                   0.000e+00  -->   0.000e+00 (~)\n",
      "==============================================================================================================\n",
      "\n",
      "Building objective: force\n",
      "Precomputing transforms\n",
      "Timer: Precomputing transforms = 73.7 ms\n",
      "Timer: Objective build = 134 ms\n",
      "Building objective: lcfs R\n",
      "Building objective: lcfs Z\n",
      "Building objective: fixed Psi\n",
      "Building objective: fixed current\n",
      "Building objective: fixed electron density\n",
      "Building objective: fixed electron temperature\n",
      "Building objective: fixed ion temperature\n",
      "Building objective: fixed atomic number\n",
      "Building objective: fixed sheet current\n",
      "Building objective: self_consistency R\n",
      "Building objective: self_consistency Z\n",
      "Building objective: lambda gauge\n",
      "Building objective: axis R self consistency\n",
      "Building objective: axis Z self consistency\n",
      "Timer: Objective build = 732 ms\n",
      "Timer: LinearConstraintProjection build = 182 ms\n",
      "Number of parameters: 856\n",
      "Number of objectives: 5346\n",
      "Timer: Initializing the optimization = 1.06 sec\n",
      "\n",
      "Starting optimization\n",
      "Using method: lsq-exact\n",
      "Solver options:\n",
      "------------------------------------------------------------\n",
      "Maximum Function Evaluations       : 501\n",
      "Maximum Allowed Total Δx Norm      : inf\n",
      "Scaled Termination                 : True\n",
      "Trust Region Method                : qr\n",
      "Initial Trust Radius               : 1.497e+02\n",
      "Maximum Trust Radius               : inf\n",
      "Minimum Trust Radius               : 2.220e-16\n",
      "Trust Radius Increase Ratio        : 2.000e+00\n",
      "Trust Radius Decrease Ratio        : 2.500e-01\n",
      "Trust Radius Increase Threshold    : 7.500e-01\n",
      "Trust Radius Decrease Threshold    : 2.500e-01\n",
      "------------------------------------------------------------ \n",
      "\n",
      "   Iteration     Total nfev        Cost      Cost reduction    Step norm     Optimality   \n",
      "       0              1          2.391e-05                                    4.060e-03   \n",
      "       1              2          6.116e-06      1.780e-05      3.606e-02      7.476e-04   \n",
      "       2              3          1.856e-06      4.260e-06      1.124e-02      1.048e-04   \n",
      "       3              5          1.806e-06      5.084e-08      4.381e-03      2.417e-05   \n",
      "       4              7          1.800e-06      5.525e-09      2.266e-03      5.050e-06   \n",
      "Optimization terminated successfully.\n",
      "`ftol` condition satisfied. (ftol=1.00e-02)\n",
      "         Current function value: 1.800e-06\n",
      "         Total delta_x: 4.496e-02\n",
      "         Iterations: 4\n",
      "         Function evaluations: 7\n",
      "         Jacobian evaluations: 5\n",
      "Timer: Solution time = 1.66 sec\n",
      "Timer: Avg time per step = 332 ms\n",
      "==============================================================================================================\n",
      "                                                                 Start  -->   End\n",
      "Total (sum of squares):                                      2.391e-05  -->   1.800e-06, \n",
      "Maximum absolute Force error:                                3.586e+06  -->   1.489e+06 (N)\n",
      "Minimum absolute Force error:                                9.634e+01  -->   4.893e+00 (N)\n",
      "Average absolute Force error:                                2.651e+05  -->   8.232e+04 (N)\n",
      "Maximum absolute Force error:                                1.021e-03  -->   4.240e-04 (normalized)\n",
      "Minimum absolute Force error:                                2.744e-08  -->   1.394e-09 (normalized)\n",
      "Average absolute Force error:                                7.550e-05  -->   2.344e-05 (normalized)\n",
      "R boundary error:                                            0.000e+00  -->   1.781e-15 (m)\n",
      "Z boundary error:                                            0.000e+00  -->   2.571e-17 (m)\n",
      "Fixed Psi error:                                             0.000e+00  -->   0.000e+00 (Wb)\n",
      "Fixed current profile error:                                 0.000e+00  -->   4.165e-09 (A)\n",
      "Fixed electron density profile error:                        0.000e+00  -->   0.000e+00 (m^-3)\n",
      "Fixed electron temperature profile error:                    0.000e+00  -->   0.000e+00 (eV)\n",
      "Fixed ion temperature profile error:                         0.000e+00  -->   0.000e+00 (eV)\n",
      "Fixed atomic number profile error:                           0.000e+00  -->   0.000e+00 (dimensionless)\n",
      "Fixed sheet current error:                                   0.000e+00  -->   0.000e+00 (~)\n",
      "==============================================================================================================\n",
      "\n"
     ]
    }
   ],
   "source": [
    "niters = 3\n",
    "for k in range(niters):\n",
    "    eq2 = eq2.copy()\n",
    "    # compute new guess for the current profile, consistent with Redl formula\n",
    "    data = eq2.compute(\"current Redl\", grid)\n",
    "    current = grid.compress(data[\"current Redl\"])\n",
    "    rho = grid.compress(data[\"rho\"])\n",
    "    # fit the current profile to a power series, with c_0=c_1=0\n",
    "    XX = np.fliplr(np.vander(rho, eq2.L + 1)[:, :-2])\n",
    "    eq2.c_l = np.pad(np.linalg.lstsq(XX, current, rcond=None)[0], (2, 0))\n",
    "    # re-solve the equilibrium\n",
    "    eq2, _ = eq2.solve(objective=\"force\", optimizer=\"lsq-exact\", verbose=3)\n",
    "    fam2.append(eq2)"
   ]
  },
  {
   "cell_type": "markdown",
   "metadata": {},
   "source": [
    "We can plot the current profile at each iteration to visualize how it changed: "
   ]
  },
  {
   "cell_type": "code",
   "execution_count": 16,
   "metadata": {},
   "outputs": [
    {
     "data": {
      "image/png": "[encoded data removed]",
      "text/plain": [
       "<Figure size 384.189x384.189 with 1 Axes>"
      ]
     },
     "metadata": {},
     "output_type": "display_data"
    }
   ],
   "source": [
    "fig, ax = plot_1d(fam2[0], \"current\", color=\"k\", lw=2, label=\"0\")\n",
    "fig, ax = plot_1d(fam2[1], \"current\", color=\"g\", lw=2, label=\"1\", ax=ax)\n",
    "fig, ax = plot_1d(fam2[2], \"current\", color=\"b\", lw=2, label=\"2\", ax=ax)\n",
    "fig, ax = plot_1d(fam2[3], \"current\", color=\"r\", lw=2, label=\"3\", ax=ax)\n",
    "ax.legend(loc=\"best\");"
   ]
  },
  {
   "cell_type": "markdown",
   "metadata": {},
   "source": [
    "With this method the MHD equilibrium also has very good agreement with the Redl formula. "
   ]
  },
  {
   "cell_type": "code",
   "execution_count": 17,
   "metadata": {},
   "outputs": [
    {
     "name": "stderr",
     "output_type": "stream",
     "text": [
      "/CODES/DESC/desc/utils.py:572: UserWarning: Redl formula is undefined at rho=0, but grid has grid points at rho=0, note that on-axiscurrent will be NaN.\n",
      "  warnings.warn(msg, err)\n",
      "/CODES/DESC/desc/utils.py:572: UserWarning: Redl formula is undefined where kinetic profiles vanish, but given electron density vanishes at at least one providedrho grid point.\n",
      "  warnings.warn(msg, err)\n",
      "/CODES/DESC/desc/utils.py:572: UserWarning: Redl formula is undefined where kinetic profiles vanish, but given electron temperature vanishes at at least one providedrho grid point.\n",
      "  warnings.warn(msg, err)\n",
      "/CODES/DESC/desc/utils.py:572: UserWarning: Redl formula is undefined where kinetic profiles vanish, but given ion temperature vanishes at at least one providedrho grid point.\n",
      "  warnings.warn(msg, err)\n"
     ]
    },
    {
     "data": {
      "image/png": "[encoded data removed]",
      "text/plain": [
       "<Figure size 384.189x384.189 with 1 Axes>"
      ]
     },
     "metadata": {},
     "output_type": "display_data"
    }
   ],
   "source": [
    "fig, ax = plot_1d(eq2, \"<J*B> Redl\", color=\"b\", lw=2, label=\"Redl\")\n",
    "fig, ax = plot_1d(eq2, \"<J*B>\", color=\"r\", lw=2, label=\"MHD\", ax=ax)\n",
    "ax.legend(loc=\"best\")\n",
    "ax.set_title(\"Method 2: Iterative Solves\");"
   ]
  },
  {
   "cell_type": "markdown",
   "metadata": {},
   "source": [
    "### Comparison"
   ]
  },
  {
   "cell_type": "markdown",
   "metadata": {},
   "source": [
    "Even though both methods give good self-consistency for the bootstrap current, they do result in slightly different coefficients for the current profile: "
   ]
  },
  {
   "cell_type": "code",
   "execution_count": 18,
   "metadata": {},
   "outputs": [
    {
     "name": "stdout",
     "output_type": "stream",
     "text": [
      "[ 0.00000000e+00  0.00000000e+00  1.15112878e+04  6.29171559e+06  3.58272704e+06 -3.59527414e+07  5.57512420e+07 -2.86198850e+07  1.35489797e+06]\n",
      "[ 0.00000000e+00  0.00000000e+00  4.66585405e+05  5.63752557e+05  3.00704695e+07 -9.56770096e+07  1.26451711e+08 -7.04331552e+07  1.09842316e+07]\n"
     ]
    }
   ],
   "source": [
    "print(eq1.c_l)\n",
    "print(eq2.c_l)"
   ]
  },
  {
   "cell_type": "markdown",
   "metadata": {},
   "source": [
    "In this example, the first method of optimization gave better self-consistency but was noticeably slower than the second method of iterative solves. "
   ]
  },
  {
   "cell_type": "markdown",
   "metadata": {},
   "source": [
    "## Using Spline Profiles\n",
    "\n",
    "We can also use splines to describe the current profile. Due to the many DOFs of splines and their local nature, they can be difficult to use with the first method shown above. So, we recommend using the iterative solve method if a spline current profile is desired. "
   ]
  },
  {
   "cell_type": "markdown",
   "metadata": {},
   "source": [
    "The code for the iterative method with splines is slightly different, as now we do not need to re-fit the current profile with a power series in order to update our spline. Instead, we choose our spline profile knots carefully to include a knot at the axis which we will keep at 0 (in order to enforce zero on-axis net toroidal current), and choosing the rest to align with the grid we will be computing the Redl bootstrap current at.\n",
    "\n",
    "Remember that the Redl formula is not defined on-axis or on the boundary, so we must ensure we do not include a knot at $\\rho=1$, as we have no way of updating that value."
   ]
  },
  {
   "cell_type": "code",
   "execution_count": 19,
   "metadata": {},
   "outputs": [],
   "source": [
    "# Choose a denser grid for the spline profile so we can represent the bootstrap current profile well\n",
    "L_grid = 25\n",
    "\n",
    "grid = LinearGrid(\n",
    "    M=eq0.M_grid,\n",
    "    N=eq0.N_grid,\n",
    "    NFP=eq0.NFP,\n",
    "    sym=eq0.sym,\n",
    "    rho=np.linspace(1 / L_grid, 1, L_grid) - 1 / (2 * L_grid),\n",
    ")\n",
    "\n",
    "eq2_spline = eq0.copy()\n",
    "fam2 = EquilibriaFamily(eq2_spline)\n",
    "# choose the rho values for the knots\n",
    "rho = np.concatenate([np.array([0.0]), grid.nodes[grid.unique_rho_idx, 0]])\n",
    "# make a SplineProfile for current, initially zero.\n",
    "eq2_spline.current = SplineProfile(values=np.zeros_like(rho), knots=rho)"
   ]
  },
  {
   "cell_type": "code",
   "execution_count": 20,
   "metadata": {},
   "outputs": [
    {
     "name": "stdout",
     "output_type": "stream",
     "text": [
      "Building objective: force\n",
      "Precomputing transforms\n",
      "Timer: Precomputing transforms = 90.9 ms\n",
      "Timer: Objective build = 153 ms\n",
      "Building objective: lcfs R\n",
      "Building objective: lcfs Z\n",
      "Building objective: fixed Psi\n",
      "Building objective: fixed current\n",
      "Building objective: fixed electron density\n",
      "Building objective: fixed electron temperature\n",
      "Building objective: fixed ion temperature\n",
      "Building objective: fixed atomic number\n",
      "Building objective: fixed sheet current\n",
      "Building objective: self_consistency R\n",
      "Building objective: self_consistency Z\n",
      "Building objective: lambda gauge\n",
      "Building objective: axis R self consistency\n",
      "Building objective: axis Z self consistency\n",
      "Timer: Objective build = 893 ms\n",
      "Timer: LinearConstraintProjection build = 4.22 sec\n",
      "Number of parameters: 856\n",
      "Number of objectives: 5346\n",
      "Timer: Initializing the optimization = 5.36 sec\n",
      "\n",
      "Starting optimization\n",
      "Using method: lsq-exact\n",
      "Solver options:\n",
      "------------------------------------------------------------\n",
      "Maximum Function Evaluations       : 501\n",
      "Maximum Allowed Total Δx Norm      : inf\n",
      "Scaled Termination                 : True\n",
      "Trust Region Method                : qr\n",
      "Initial Trust Radius               : 1.498e+02\n",
      "Maximum Trust Radius               : inf\n",
      "Minimum Trust Radius               : 2.220e-16\n",
      "Trust Radius Increase Ratio        : 2.000e+00\n",
      "Trust Radius Decrease Ratio        : 2.500e-01\n",
      "Trust Radius Increase Threshold    : 7.500e-01\n",
      "Trust Radius Decrease Threshold    : 2.500e-01\n",
      "------------------------------------------------------------ \n",
      "\n",
      "   Iteration     Total nfev        Cost      Cost reduction    Step norm     Optimality   \n",
      "       0              1          7.098e-03                                    9.004e-02   \n",
      "       1              2          4.884e-03      2.214e-03      2.084e-01      4.057e-02   \n",
      "       2              3          3.192e-04      4.564e-03      1.226e-01      8.920e-03   \n",
      "       3              4          2.414e-04      7.784e-05      1.060e-01      8.235e-03   \n",
      "       4              5          4.900e-06      2.365e-04      2.610e-02      3.733e-04   \n",
      "       5              7          2.996e-06      1.904e-06      1.485e-02      1.100e-04   \n",
      "       6              9          2.819e-06      1.771e-07      6.102e-03      5.988e-05   \n",
      "       7             11          2.761e-06      5.803e-08      3.671e-03      1.419e-05   \n",
      "       8             12          2.721e-06      4.015e-08      6.525e-03      3.824e-05   \n",
      "       9             13          2.707e-06      1.398e-08      1.187e-02      1.058e-04   \n",
      "      10             14          2.629e-06      7.797e-08      3.109e-03      5.613e-06   \n",
      "      11             15          2.614e-06      1.448e-08      5.635e-03      2.405e-05   \n",
      "Optimization terminated successfully.\n",
      "`ftol` condition satisfied. (ftol=1.00e-02)\n",
      "         Current function value: 2.614e-06\n",
      "         Total delta_x: 2.312e-01\n",
      "         Iterations: 11\n",
      "         Function evaluations: 15\n",
      "         Jacobian evaluations: 12\n",
      "Timer: Solution time = 16.7 sec\n",
      "Timer: Avg time per step = 1.39 sec\n",
      "==============================================================================================================\n",
      "                                                                 Start  -->   End\n",
      "Total (sum of squares):                                      7.098e-03  -->   2.614e-06, \n",
      "Maximum absolute Force error:                                5.134e+07  -->   2.062e+06 (N)\n",
      "Minimum absolute Force error:                                6.833e+01  -->   1.635e+01 (N)\n",
      "Average absolute Force error:                                4.425e+06  -->   1.033e+05 (N)\n",
      "Maximum absolute Force error:                                1.462e-02  -->   5.872e-04 (normalized)\n",
      "Minimum absolute Force error:                                1.946e-08  -->   4.657e-09 (normalized)\n",
      "Average absolute Force error:                                1.260e-03  -->   2.941e-05 (normalized)\n",
      "R boundary error:                                            0.000e+00  -->   3.846e-16 (m)\n",
      "Z boundary error:                                            0.000e+00  -->   2.326e-16 (m)\n",
      "Fixed Psi error:                                             0.000e+00  -->   0.000e+00 (Wb)\n",
      "Fixed current profile error:                                 0.000e+00  -->   4.800e-10 (A)\n",
      "Fixed electron density profile error:                        0.000e+00  -->   0.000e+00 (m^-3)\n",
      "Fixed electron temperature profile error:                    0.000e+00  -->   0.000e+00 (eV)\n",
      "Fixed ion temperature profile error:                         0.000e+00  -->   0.000e+00 (eV)\n",
      "Fixed atomic number profile error:                           0.000e+00  -->   0.000e+00 (dimensionless)\n",
      "Fixed sheet current error:                                   0.000e+00  -->   0.000e+00 (~)\n",
      "==============================================================================================================\n",
      "\n",
      "Building objective: force\n",
      "Precomputing transforms\n",
      "Timer: Precomputing transforms = 74.6 ms\n",
      "Timer: Objective build = 137 ms\n",
      "Building objective: lcfs R\n",
      "Building objective: lcfs Z\n",
      "Building objective: fixed Psi\n",
      "Building objective: fixed current\n",
      "Building objective: fixed electron density\n",
      "Building objective: fixed electron temperature\n",
      "Building objective: fixed ion temperature\n",
      "Building objective: fixed atomic number\n",
      "Building objective: fixed sheet current\n",
      "Building objective: self_consistency R\n",
      "Building objective: self_consistency Z\n",
      "Building objective: lambda gauge\n",
      "Building objective: axis R self consistency\n",
      "Building objective: axis Z self consistency\n",
      "Timer: Objective build = 740 ms\n",
      "Timer: LinearConstraintProjection build = 168 ms\n",
      "Number of parameters: 856\n",
      "Number of objectives: 5346\n",
      "Timer: Initializing the optimization = 1.06 sec\n",
      "\n",
      "Starting optimization\n",
      "Using method: lsq-exact\n",
      "Solver options:\n",
      "------------------------------------------------------------\n",
      "Maximum Function Evaluations       : 501\n",
      "Maximum Allowed Total Δx Norm      : inf\n",
      "Scaled Termination                 : True\n",
      "Trust Region Method                : qr\n",
      "Initial Trust Radius               : 1.488e+02\n",
      "Maximum Trust Radius               : inf\n",
      "Minimum Trust Radius               : 2.220e-16\n",
      "Trust Radius Increase Ratio        : 2.000e+00\n",
      "Trust Radius Decrease Ratio        : 2.500e-01\n",
      "Trust Radius Increase Threshold    : 7.500e-01\n",
      "Trust Radius Decrease Threshold    : 2.500e-01\n",
      "------------------------------------------------------------ \n",
      "\n",
      "   Iteration     Total nfev        Cost      Cost reduction    Step norm     Optimality   \n",
      "       0              1          5.723e-04                                    2.144e-02   \n",
      "       1              2          1.125e-05      5.611e-04      6.481e-02      1.773e-03   \n",
      "       2              3          2.081e-06      9.168e-06      1.462e-02      1.189e-04   \n",
      "       3              4          2.052e-06      2.892e-08      1.242e-02      9.357e-05   \n",
      "       4              6          1.983e-06      6.916e-08      3.906e-03      3.394e-05   \n",
      "       5              7          1.976e-06      6.929e-09      7.107e-03      2.043e-05   \n",
      "Optimization terminated successfully.\n",
      "`ftol` condition satisfied. (ftol=1.00e-02)\n",
      "         Current function value: 1.976e-06\n",
      "         Total delta_x: 7.030e-02\n",
      "         Iterations: 5\n",
      "         Function evaluations: 7\n",
      "         Jacobian evaluations: 6\n",
      "Timer: Solution time = 1.66 sec\n",
      "Timer: Avg time per step = 278 ms\n",
      "==============================================================================================================\n",
      "                                                                 Start  -->   End\n",
      "Total (sum of squares):                                      5.723e-04  -->   1.976e-06, \n",
      "Maximum absolute Force error:                                1.335e+07  -->   2.315e+06 (N)\n",
      "Minimum absolute Force error:                                6.304e+01  -->   7.764e-01 (N)\n",
      "Average absolute Force error:                                1.293e+06  -->   8.724e+04 (N)\n",
      "Maximum absolute Force error:                                3.801e-03  -->   6.593e-04 (normalized)\n",
      "Minimum absolute Force error:                                1.795e-08  -->   2.211e-10 (normalized)\n",
      "Average absolute Force error:                                3.683e-04  -->   2.485e-05 (normalized)\n",
      "R boundary error:                                            0.000e+00  -->   1.781e-15 (m)\n",
      "Z boundary error:                                            0.000e+00  -->   2.577e-17 (m)\n",
      "Fixed Psi error:                                             0.000e+00  -->   0.000e+00 (Wb)\n",
      "Fixed current profile error:                                 0.000e+00  -->   2.671e-10 (A)\n",
      "Fixed electron density profile error:                        0.000e+00  -->   0.000e+00 (m^-3)\n",
      "Fixed electron temperature profile error:                    0.000e+00  -->   0.000e+00 (eV)\n",
      "Fixed ion temperature profile error:                         0.000e+00  -->   0.000e+00 (eV)\n",
      "Fixed atomic number profile error:                           0.000e+00  -->   0.000e+00 (dimensionless)\n",
      "Fixed sheet current error:                                   0.000e+00  -->   0.000e+00 (~)\n",
      "==============================================================================================================\n",
      "\n",
      "Building objective: force\n",
      "Precomputing transforms\n",
      "Timer: Precomputing transforms = 76.6 ms\n",
      "Timer: Objective build = 137 ms\n",
      "Building objective: lcfs R\n",
      "Building objective: lcfs Z\n",
      "Building objective: fixed Psi\n",
      "Building objective: fixed current\n",
      "Building objective: fixed electron density\n",
      "Building objective: fixed electron temperature\n",
      "Building objective: fixed ion temperature\n",
      "Building objective: fixed atomic number\n",
      "Building objective: fixed sheet current\n",
      "Building objective: self_consistency R\n",
      "Building objective: self_consistency Z\n",
      "Building objective: lambda gauge\n",
      "Building objective: axis R self consistency\n",
      "Building objective: axis Z self consistency\n",
      "Timer: Objective build = 730 ms\n",
      "Timer: LinearConstraintProjection build = 163 ms\n",
      "Number of parameters: 856\n",
      "Number of objectives: 5346\n",
      "Timer: Initializing the optimization = 1.04 sec\n",
      "\n",
      "Starting optimization\n",
      "Using method: lsq-exact\n",
      "Solver options:\n",
      "------------------------------------------------------------\n",
      "Maximum Function Evaluations       : 501\n",
      "Maximum Allowed Total Δx Norm      : inf\n",
      "Scaled Termination                 : True\n",
      "Trust Region Method                : qr\n",
      "Initial Trust Radius               : 1.464e+02\n",
      "Maximum Trust Radius               : inf\n",
      "Minimum Trust Radius               : 2.220e-16\n",
      "Trust Radius Increase Ratio        : 2.000e+00\n",
      "Trust Radius Decrease Ratio        : 2.500e-01\n",
      "Trust Radius Increase Threshold    : 7.500e-01\n",
      "Trust Radius Decrease Threshold    : 2.500e-01\n",
      "------------------------------------------------------------ \n",
      "\n",
      "   Iteration     Total nfev        Cost      Cost reduction    Step norm     Optimality   \n",
      "       0              1          2.632e-05                                    4.461e-03   \n",
      "       1              2          2.064e-06      2.426e-05      1.606e-02      1.069e-04   \n",
      "       2              3          2.031e-06      3.265e-08      1.021e-02      7.220e-05   \n",
      "       3              5          1.989e-06      4.186e-08      3.607e-03      2.415e-05   \n",
      "       4              6          1.986e-06      3.878e-09      5.739e-03      2.184e-05   \n",
      "Optimization terminated successfully.\n",
      "`ftol` condition satisfied. (ftol=1.00e-02)\n",
      "         Current function value: 1.986e-06\n",
      "         Total delta_x: 2.328e-02\n",
      "         Iterations: 4\n",
      "         Function evaluations: 6\n",
      "         Jacobian evaluations: 5\n",
      "Timer: Solution time = 1.47 sec\n",
      "Timer: Avg time per step = 295 ms\n",
      "==============================================================================================================\n",
      "                                                                 Start  -->   End\n",
      "Total (sum of squares):                                      2.632e-05  -->   1.986e-06, \n",
      "Maximum absolute Force error:                                2.524e+06  -->   2.346e+06 (N)\n",
      "Minimum absolute Force error:                                5.917e+01  -->   4.723e+01 (N)\n",
      "Average absolute Force error:                                2.785e+05  -->   8.965e+04 (N)\n",
      "Maximum absolute Force error:                                7.188e-04  -->   6.680e-04 (normalized)\n",
      "Minimum absolute Force error:                                1.685e-08  -->   1.345e-08 (normalized)\n",
      "Average absolute Force error:                                7.933e-05  -->   2.553e-05 (normalized)\n",
      "R boundary error:                                            0.000e+00  -->   1.781e-15 (m)\n",
      "Z boundary error:                                            0.000e+00  -->   2.571e-17 (m)\n",
      "Fixed Psi error:                                             0.000e+00  -->   0.000e+00 (Wb)\n",
      "Fixed current profile error:                                 0.000e+00  -->   5.468e-10 (A)\n",
      "Fixed electron density profile error:                        0.000e+00  -->   0.000e+00 (m^-3)\n",
      "Fixed electron temperature profile error:                    0.000e+00  -->   0.000e+00 (eV)\n",
      "Fixed ion temperature profile error:                         0.000e+00  -->   0.000e+00 (eV)\n",
      "Fixed atomic number profile error:                           0.000e+00  -->   0.000e+00 (dimensionless)\n",
      "Fixed sheet current error:                                   0.000e+00  -->   0.000e+00 (~)\n",
      "==============================================================================================================\n",
      "\n"
     ]
    }
   ],
   "source": [
    "from desc.backend import jnp\n",
    "\n",
    "niters = 3\n",
    "for k in range(niters):\n",
    "    eq2_spline = eq2_spline.copy()\n",
    "    # compute new guess for the current profile, consistent with Redl formula\n",
    "    data = eq2_spline.compute(\"current Redl\", grid)\n",
    "    current = grid.compress(data[\"current Redl\"])\n",
    "    rho = grid.compress(data[\"rho\"])\n",
    "    # add the rho=0 value which we enforce as zero current\n",
    "    c_at_knots = np.concatenate([np.array([0.0]), current])\n",
    "    eq2_spline.current.params = c_at_knots\n",
    "    # re-solve the equilibrium\n",
    "    eq2_spline, _ = eq2_spline.solve(\n",
    "        objective=\"force\", optimizer=\"lsq-exact\", verbose=3\n",
    "    )\n",
    "    fam2.append(eq2_spline)"
   ]
  },
  {
   "cell_type": "markdown",
   "metadata": {},
   "source": [
    "We can plot the current profile at each iteration to visualize how it changed: "
   ]
  },
  {
   "cell_type": "code",
   "execution_count": 21,
   "metadata": {},
   "outputs": [
    {
     "data": {
      "image/png": "[encoded data removed]",
      "text/plain": [
       "<Figure size 384.189x384.189 with 1 Axes>"
      ]
     },
     "metadata": {},
     "output_type": "display_data"
    }
   ],
   "source": [
    "fig, ax = plot_1d(fam2[0], \"current\", color=\"k\", lw=2, label=\"0\")\n",
    "fig, ax = plot_1d(fam2[1], \"current\", color=\"g\", lw=2, label=\"1\", ax=ax)\n",
    "fig, ax = plot_1d(fam2[2], \"current\", color=\"b\", lw=2, label=\"2\", ax=ax)\n",
    "ax.legend(loc=\"best\");"
   ]
  },
  {
   "cell_type": "markdown",
   "metadata": {},
   "source": [
    "With this method the MHD equilibrium also has very good agreement with the Redl formula, now with a ``SplineProfile``."
   ]
  },
  {
   "cell_type": "code",
   "execution_count": 22,
   "metadata": {},
   "outputs": [
    {
     "name": "stderr",
     "output_type": "stream",
     "text": [
      "/CODES/DESC/desc/utils.py:572: UserWarning: Redl formula is undefined at rho=0, but grid has grid points at rho=0, note that on-axiscurrent will be NaN.\n",
      "  warnings.warn(msg, err)\n",
      "/CODES/DESC/desc/utils.py:572: UserWarning: Redl formula is undefined where kinetic profiles vanish, but given electron density vanishes at at least one providedrho grid point.\n",
      "  warnings.warn(msg, err)\n",
      "/CODES/DESC/desc/utils.py:572: UserWarning: Redl formula is undefined where kinetic profiles vanish, but given electron temperature vanishes at at least one providedrho grid point.\n",
      "  warnings.warn(msg, err)\n",
      "/CODES/DESC/desc/utils.py:572: UserWarning: Redl formula is undefined where kinetic profiles vanish, but given ion temperature vanishes at at least one providedrho grid point.\n",
      "  warnings.warn(msg, err)\n"
     ]
    },
    {
     "data": {
      "image/png": "[encoded data removed]",
      "text/plain": [
       "<Figure size 384.189x384.189 with 1 Axes>"
      ]
     },
     "metadata": {},
     "output_type": "display_data"
    }
   ],
   "source": [
    "fig, ax = plot_1d(fam2[-1], \"<J*B> Redl\", color=\"b\", lw=2, label=\"Redl\")\n",
    "fig, ax = plot_1d(fam2[-1], \"<J*B>\", color=\"r\", lw=2, label=\"MHD\", ax=ax)\n",
    "ax.legend(loc=\"best\")\n",
    "ax.set_title(\"Method 2: Iterative Solves (splines)\");"
   ]
  }
 ],
 "metadata": {
  "kernelspec": {
   "display_name": "gpu",
   "language": "python",
   "name": "python3"
  },
  "language_info": {
   "codemirror_mode": {
    "name": "ipython",
    "version": 3
   },
   "file_extension": ".py",
   "mimetype": "text/x-python",
   "name": "python",
   "nbconvert_exporter": "python",
   "pygments_lexer": "ipython3",
   "version": "3.12.11"
  }
 },
 "nbformat": 4,
 "nbformat_minor": 4
}
