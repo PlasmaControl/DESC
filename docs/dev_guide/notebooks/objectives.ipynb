{
 "cells": [
  {
   "cell_type": "markdown",
   "id": "b69ed88a-4ee1-438b-b992-4f57e22613c3",
   "metadata": {
    "tags": [],
    "toc-hr-collapsed": true
   },
   "source": [
    "# `objectives`"
   ]
  },
  {
   "cell_type": "markdown",
   "id": "495554b5-2655-47c8-8e25-a758273b9df9",
   "metadata": {},
   "source": [
    "talk about obj vs constraints\n",
    "- [ ] why do we need to re-make the objectives when we change eq resolutoin\n",
    "  - I think this is because the objectives get built for that eq (built = ?) , so remaking them means we get rid of the built status?\n",
    "- is the size of the `x_reduced` equal to number of parameters? YES IT IS And is this equal to one of the sides of the linear constraint matrix `A`? it is in `factorize_linear_constraints` which is in `objectives.utils`, from `project` function"
   ]
  },
  {
   "cell_type": "markdown",
   "id": "16789fcf-99a9-47ba-8480-e628f40a74e9",
   "metadata": {},
   "source": []
  },
  {
   "cell_type": "code",
   "execution_count": null,
   "id": "83fc3e85-3985-4cc5-86b4-cc47fd76edf6",
   "metadata": {},
   "outputs": [],
   "source": []
  },
  {
   "cell_type": "markdown",
   "id": "263199ee-3a30-4390-8487-9083853393ba",
   "metadata": {},
   "source": [
    "## `linear_objectives.py`"
   ]
  },
  {
   "cell_type": "markdown",
   "id": "25f3e1cc-c637-47d3-b24e-44002984608a",
   "metadata": {},
   "source": [
    "- when specifying interior surface as the fixboundary constraint, the self A becomes zernike_radial instead of 1?"
   ]
  },
  {
   "cell_type": "code",
   "execution_count": null,
   "id": "f2b30d7d-fd05-407c-90e3-2e4fe29ab18b",
   "metadata": {},
   "outputs": [],
   "source": []
  },
  {
   "cell_type": "markdown",
   "id": "a136e3b4-2237-4525-8a72-4dd9eba471ab",
   "metadata": {},
   "source": [
    "## `objectives/utils.py`"
   ]
  },
  {
   "cell_type": "markdown",
   "id": "34d9f66e-48bb-4b9d-b962-b88c919e28ea",
   "metadata": {},
   "source": [
    "#### `factorize_linear_constraints`"
   ]
  },
  {
   "cell_type": "markdown",
   "id": "36225c78-8ae2-4576-ae06-1f81382476b6",
   "metadata": {},
   "source": [
    " - define problem in standard optimization setup\n",
    " - match which DESC variables are equal to the standard ones\n",
    " - write Ax=b\n",
    " - this thing basically finds the nullspace( A )=: Z\n",
    "  - Z then can be multiplied with (x - x_particular) to obtain a vector which is guaranteed to be in the nullspace of the constraints, bc it is made up of a linear combinations of vectors which lie inside of the nullspace (does this make sense?)..."
   ]
  },
  {
   "cell_type": "markdown",
   "id": "cd873863-075f-480f-9c60-56aa5f0c1f38",
   "metadata": {},
   "source": [
    "DESC approaches the ideal MHD fixed-boundary equilibrium problem $\\mathbf{F}=0$ [as an optimization problem](https://desc-docs.readthedocs.io/en/latest/theory_general.html):\n",
    "\n",
    "$$\\begin{align}\n",
    "\\min_{\\mathbf{x}\\in \\mathcal{R}^n} \\mathbf{f}(\\mathbf{x})&\\\\\n",
    "\\text{subject to the linear constraints}~~ \\mathbf{A}\\mathbf{x}=\\mathbf{b}&\n",
    "\\end{align}$$\n",
    "\n",
    "where the objective to be minimized is the MHD force balance error $\\mathbf{F}=\\mathbf{J}\\times \\mathbf{B} - \\nabla p$, which is minimized by evaluating  the two components of $\\mathbf{F}$ on a collocation grid (resulting in a vector of residuals $\\mathbf{f} = [f_{\\rho},f_{\\beta}]$ of length `2*num_nodes` since each of $f_{\\rho},f_{\\beta}$ are evaluated at the collocation nodes) and then minimizing those residuals $\\mathbf{f}(\\mathbf{x})$. \n",
    "The state variable being minimized over  $\\mathbf{x} = [R_{lmn}, Z_{lmn}, \\lambda_{lmn}]$ is the vector of the Fourier-Zernike spectral coefficients used to describe the mapping between the toroidal $(R,\\phi,Z)$ coordinates and the computational flux coordinates $(\\rho,\\theta,\\zeta)$.\n",
    "The state is of length `3*eq.R_basis.num_modes` (if a non-stellarator symmetric equilibrium, where the number of basis modes for R and Z are the same), or length `eq.R_basis.num_modes + 2 * eq.Z_basis.num_modes` (if a stellarator-symmetric equilibrium, where $R$ has $cos(m\\theta-n\\zeta)$ symmetry and $Z$ and $\\lambda$ have $sin(m\\theta-n\\zeta)$).\n",
    "\n",
    "\n",
    "A fixed-boundary equilbrium problem requires the fixed-boundary $R_b(\\theta,\\zeta),Z_b{\\theta,\\zeta}$ to be given as the input, and this appears as a linear constraint on $\\mathbf{x}$ during the optimization. \n",
    "In DESC, additionally a [gauge constraint](https://desc-docs.readthedocs.io/en/latest/_api/objectives/desc.objectives.FixLambdaGauge.html) on $\\lambda$ is applied, since $\\lambda$ is only defined up to an additive multiple of $2\\pi$, which constitutes another linear constraint to the problem. \n",
    "The linear constraints are then written in the form $\\mathbf{A}\\mathbf{x}=\\mathbf{b}$. "
   ]
  },
  {
   "cell_type": "markdown",
   "id": "3a9858ff-3cae-4158-91ce-27f19e6199b6",
   "metadata": {},
   "source": [
    "In solving for the equilibrium DESC deals with these linear constraints by using the feasible direction formulation (see for example [page 3 of this reference](https://www.cs.umd.edu/users/oleary/a607/607constr1hand.pdf)).\n",
    "\n",
    "The state variable $\\mathbf{x}$ is written as $\\mathbf{x} = \\mathbf{x}_p + \\mathbf{Z}\\mathbf{y}$"
   ]
  }
 ],
 "metadata": {
  "kernelspec": {
   "display_name": "Python 3 (ipykernel)",
   "language": "python",
   "name": "python3"
  },
  "language_info": {
   "codemirror_mode": {
    "name": "ipython",
    "version": 3
   },
   "file_extension": ".py",
   "mimetype": "text/x-python",
   "name": "python",
   "nbconvert_exporter": "python",
   "pygments_lexer": "ipython3",
   "version": "3.8.5"
  }
 },
 "nbformat": 4,
 "nbformat_minor": 5
}
