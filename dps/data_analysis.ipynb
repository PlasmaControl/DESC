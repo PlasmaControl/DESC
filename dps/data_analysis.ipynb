{
 "cells": [
  {
   "cell_type": "code",
   "execution_count": 1,
   "metadata": {},
   "outputs": [],
   "source": [
    "import matplotlib.pylab as plt\n",
    "import jax.numpy as jnp"
   ]
  },
  {
   "cell_type": "code",
   "execution_count": 35,
   "metadata": {},
   "outputs": [
    {
     "name": "stdout",
     "output_type": "stream",
     "text": [
      "2\n"
     ]
    }
   ],
   "source": [
    "# Define the file name where the data is stored\n",
    "file_name = 'output.txt'\n",
    "\n",
    "# Initialize empty lists to store the separated columns\n",
    "list1 = []\n",
    "list2 = []\n",
    "list3 = []\n",
    "list4 = []\n",
    "\n",
    "# Open the file for reading\n",
    "with open(file_name, 'r') as file:\n",
    "    # Read the first line (column headers) and discard it\n",
    "    file.readline()\n",
    "\n",
    "    # Read the data row by row\n",
    "    for line in file:\n",
    "        # Split the line into columns using tab as the delimiter\n",
    "        columns = line.strip().split('\\t')\n",
    "\n",
    "        # Convert each column to the appropriate data type and append to the respective lists\n",
    "        list1.append(float(columns[0]))\n",
    "        list2.append(float(columns[1]))\n",
    "        list3.append(float(columns[2]))\n",
    "        list4.append(float(columns[3]))\n",
    "\n",
    "# Now, list1, list2, list3, and list4 contain the data from the file in their original form\n"
   ]
  },
  {
   "cell_type": "code",
   "execution_count": null,
   "metadata": {},
   "outputs": [],
   "source": []
  }
 ],
 "metadata": {
  "kernelspec": {
   "display_name": "desc-env",
   "language": "python",
   "name": "python3"
  },
  "language_info": {
   "codemirror_mode": {
    "name": "ipython",
    "version": 3
   },
   "file_extension": ".py",
   "mimetype": "text/x-python",
   "name": "python",
   "nbconvert_exporter": "python",
   "pygments_lexer": "ipython3",
   "version": "3.11.5"
  },
  "orig_nbformat": 4
 },
 "nbformat": 4,
 "nbformat_minor": 2
}
