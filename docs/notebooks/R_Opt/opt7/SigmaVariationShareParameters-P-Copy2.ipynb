{
 "cells": [
  {
   "cell_type": "code",
   "execution_count": 1,
   "id": "95db89f2",
   "metadata": {
    "execution": {
     "iopub.execute_input": "2024-11-13T18:26:32.814925Z",
     "iopub.status.busy": "2024-11-13T18:26:32.814788Z",
     "iopub.status.idle": "2024-11-13T18:26:32.818689Z",
     "shell.execute_reply": "2024-11-13T18:26:32.818385Z"
    }
   },
   "outputs": [],
   "source": [
    "# Optimize Sigma Variation with ShareParameters"
   ]
  },
  {
   "cell_type": "code",
   "execution_count": 2,
   "id": "6157e070",
   "metadata": {
    "execution": {
     "iopub.execute_input": "2024-11-13T18:26:32.820206Z",
     "iopub.status.busy": "2024-11-13T18:26:32.820080Z",
     "iopub.status.idle": "2024-11-13T18:26:33.336091Z",
     "shell.execute_reply": "2024-11-13T18:26:33.335728Z"
    }
   },
   "outputs": [],
   "source": [
    "from desc import set_device\n",
    "set_device(\"gpu\")"
   ]
  },
  {
   "cell_type": "code",
   "execution_count": 3,
   "id": "82f24a59",
   "metadata": {
    "execution": {
     "iopub.execute_input": "2024-11-13T18:26:33.338200Z",
     "iopub.status.busy": "2024-11-13T18:26:33.338054Z",
     "iopub.status.idle": "2024-11-13T18:26:37.847322Z",
     "shell.execute_reply": "2024-11-13T18:26:37.846957Z"
    }
   },
   "outputs": [
    {
     "name": "stdout",
     "output_type": "stream",
     "text": [
      "DESC version 0.12.3+553.gcb761a802.dirty,using JAX backend, jax version=0.4.35, jaxlib version=0.4.34, dtype=float64"
     ]
    },
    {
     "name": "stdout",
     "output_type": "stream",
     "text": [
      "\n"
     ]
    },
    {
     "name": "stdout",
     "output_type": "stream",
     "text": [
      "Using device: NVIDIA A100 80GB PCIe (id=0), with 80.00 GB available memory"
     ]
    },
    {
     "name": "stdout",
     "output_type": "stream",
     "text": [
      "\n"
     ]
    }
   ],
   "source": [
    "import numpy as np\n",
    "import os\n",
    "# os.environ[\"JAX_LOG_COMPILES\"] = \"True\"\n",
    "from scipy.io import netcdf_file\n",
    "import copy\n",
    "import matplotlib\n",
    "import matplotlib.pyplot as plt\n",
    "import scipy\n",
    "from scipy.constants import mu_0\n",
    "import sys\n",
    "import functools\n",
    "import pickle\n",
    "\n",
    "import jax\n",
    "import jax.numpy as jnp\n",
    "from jax import jit, jacfwd\n",
    "\n",
    "from netCDF4 import Dataset\n",
    "import h5py\n",
    "\n",
    "from desc.backend import put, fori_loop, jnp, sign\n",
    "\n",
    "from desc.basis import FourierZernikeBasis, DoubleFourierSeries, FourierSeries\n",
    "from desc.equilibrium import EquilibriaFamily, Equilibrium\n",
    "from desc.grid import ConcentricGrid, LinearGrid, Grid, QuadratureGrid\n",
    "from desc.io import InputReader, load\n",
    "from desc.objectives import *\n",
    "from desc.objectives.objective_funs import _Objective\n",
    "from desc.plotting import plot_1d, plot_2d, plot_3d, plot_section, plot_surfaces, plot_comparison\n",
    "\n",
    "from desc.plotting import *\n",
    "\n",
    "from desc.transform import Transform\n",
    "from desc.vmec import VMECIO\n",
    "from desc.derivatives import Derivative\n",
    "from desc.geometry import FourierRZToroidalSurface\n",
    "from desc.profiles import SplineProfile, PowerSeriesProfile\n",
    "\n",
    "from desc.magnetic_fields import ( SplineMagneticField, \n",
    "                                  #biot_savart_general, \n",
    "                                  FourierCurrentPotentialField, ToroidalMagneticField,\n",
    "                                  field_line_integrate)\n",
    "\n",
    "import desc.examples\n",
    "\n",
    "from desc.backend import fori_loop, jit, jnp, odeint, sign\n",
    "from desc.compute import rpz2xyz, rpz2xyz_vec, xyz2rpz, xyz2rpz_vec\n",
    "from desc.coils import *\n",
    "\n",
    "from desc.utils import Timer, copy_coeffs, errorif, setdefault, svd_inv_null, warnif\n",
    "from desc.utils import flatten_list\n",
    "\n",
    "#from ..utils import cross, dot, safediv, safenorm\n",
    "#from desc.compute.utils import cross\n",
    "#from desc.compute.utils import dot\n",
    "\n",
    "from desc.optimize import lsqtr, lsq_auglag\n",
    "\n",
    "from scipy.optimize import NonlinearConstraint \n",
    "\n",
    "from desc.magnetic_fields import ( SplineMagneticField, \n",
    "                                  #biot_savart_general, \n",
    "                                  FourierCurrentPotentialField, \n",
    "                                  ToroidalMagneticField,\n",
    "                                  field_line_integrate)\n",
    "\n",
    "import time\n",
    "\n",
    "import numpy as np\n",
    "from numpy.linalg import eig\n",
    "\n",
    "from scipy.linalg import null_space\n",
    "from numpy import ndarray\n",
    "\n",
    "\n",
    "from desc.derivatives import Derivative\n",
    "\n",
    "# Import my own functions\n",
    "from desc.fns_simp import (#data_eval, \n",
    "                           #_compute_magnetic_field_from_Current,\n",
    "                           plot_figure,\n",
    "                           plot_figure2,\n",
    "                           #plot_xy,\n",
    "                           #surf_int\n",
    "                          )"
   ]
  },
  {
   "cell_type": "code",
   "execution_count": 4,
   "id": "7facc8bb",
   "metadata": {
    "execution": {
     "iopub.execute_input": "2024-11-13T18:26:37.849471Z",
     "iopub.status.busy": "2024-11-13T18:26:37.849243Z",
     "iopub.status.idle": "2024-11-13T18:26:37.852254Z",
     "shell.execute_reply": "2024-11-13T18:26:37.851942Z"
    }
   },
   "outputs": [],
   "source": [
    "#from desc.continuation import solve_continuation_automatic\n",
    "\n",
    "from desc.objectives import (\n",
    "    #AspectRatio,\n",
    "    #FixBoundaryR,\n",
    "    #FixBoundaryZ,\n",
    "    #FixCurrent,\n",
    "    #FixPressure,\n",
    "    #FixPsi,\n",
    "    #ForceBalance,\n",
    "    ObjectiveFunction,\n",
    "    #QuasisymmetryTwoTerm,\n",
    "    #RotationalTransform,\n",
    "    FixParameters, \n",
    "    ShareParameters,\n",
    "    QuadraticFlux, \n",
    "    SurfaceCurrentRegularization, \n",
    "    bRegularization_fd,\n",
    "    CoilThicknessRegularization,\n",
    "    PlasmaVesselDistance,\n",
    "    MeanCurvature,\n",
    "    PrincipalCurvature,\n",
    ")\n",
    "from desc.optimize import Optimizer"
   ]
  },
  {
   "cell_type": "code",
   "execution_count": 5,
   "id": "8372a00d-f467-4978-9ce0-a74349ed71c9",
   "metadata": {
    "execution": {
     "iopub.execute_input": "2024-11-13T18:26:37.853940Z",
     "iopub.status.busy": "2024-11-13T18:26:37.853806Z",
     "iopub.status.idle": "2024-11-13T18:26:39.276199Z",
     "shell.execute_reply": "2024-11-13T18:26:39.275833Z"
    },
    "scrolled": true
   },
   "outputs": [],
   "source": [
    "# Plasma surfaces\n",
    "eqname_QA = \"/home/fcastro/LMStell/regcoil/rogerio/input.QA_final_output.h5\" #vacuum equilibrium\n",
    "eq_QA = desc.io.load(eqname_QA)[4]\n",
    "\n",
    "eqname_QH = \"/home/fcastro/LMStell/regcoil/rogerio/input.QH_final_output.h5\" #vacuum equilibrium\n",
    "eq_QH = desc.io.load(eqname_QH)[4]"
   ]
  },
  {
   "cell_type": "code",
   "execution_count": 6,
   "id": "6aa6bf12",
   "metadata": {
    "execution": {
     "iopub.execute_input": "2024-11-13T18:26:39.278380Z",
     "iopub.status.busy": "2024-11-13T18:26:39.278230Z",
     "iopub.status.idle": "2024-11-13T18:26:43.021373Z",
     "shell.execute_reply": "2024-11-13T18:26:43.020990Z"
    }
   },
   "outputs": [
    {
     "name": "stdout",
     "output_type": "stream",
     "text": [
      "<class 'numpy.ndarray'>"
     ]
    },
    {
     "name": "stdout",
     "output_type": "stream",
     "text": [
      "\n"
     ]
    },
    {
     "name": "stdout",
     "output_type": "stream",
     "text": [
      "<class 'numpy.ndarray'>"
     ]
    },
    {
     "name": "stdout",
     "output_type": "stream",
     "text": [
      "\n"
     ]
    },
    {
     "name": "stdout",
     "output_type": "stream",
     "text": [
      "<class 'numpy.ndarray'>"
     ]
    },
    {
     "name": "stdout",
     "output_type": "stream",
     "text": [
      "\n"
     ]
    },
    {
     "name": "stdout",
     "output_type": "stream",
     "text": [
      "<class 'numpy.ndarray'>"
     ]
    },
    {
     "name": "stdout",
     "output_type": "stream",
     "text": [
      "\n"
     ]
    }
   ],
   "source": [
    "G_QA = eq_QA.compute(\"G\")[\"G\"][-1] / mu_0 * 2*np.pi\n",
    "G_QH = eq_QH.compute(\"G\")[\"G\"][-1] / mu_0 * 2*np.pi"
   ]
  },
  {
   "cell_type": "code",
   "execution_count": 7,
   "id": "c930a631",
   "metadata": {
    "execution": {
     "iopub.execute_input": "2024-11-13T18:26:43.023476Z",
     "iopub.status.busy": "2024-11-13T18:26:43.023319Z",
     "iopub.status.idle": "2024-11-13T18:26:43.623209Z",
     "shell.execute_reply": "2024-11-13T18:26:43.622841Z"
    }
   },
   "outputs": [],
   "source": [
    "eq = eq_QA\n",
    "\n",
    "R0 = 1.0\n",
    "a = 0.3\n",
    "\n",
    "surf = FourierRZToroidalSurface(R_lmn=[R0,a], \n",
    "                                Z_lmn=[-a],\n",
    "                                modes_R=np.array([[0,0],[1,0]]),\n",
    "                                modes_Z=np.array([[-1,0]]),\n",
    "                                NFP=eq.NFP\n",
    "                               )\n",
    "surf.change_resolution(N=eq.N)\n",
    "\n",
    "eq.axis.R_n = eq_QA.axis.R_n + 0.5*(eq_QH.axis.R_n - eq_QA.axis.R_n)\n",
    "eq.axis.Z_n = eq_QA.axis.Z_n + 0.5*(eq_QH.axis.Z_n - eq_QA.axis.Z_n)\n",
    "\n",
    "######\n",
    "for coef, mode in zip(eq.axis.R_n, eq.axis.R_basis.modes):\n",
    "    n = mode[-1]\n",
    "    surf.R_lmn=surf.R_lmn.at[surf.R_basis.get_idx(M=0,N=n)].set( coef)\n",
    "for coef, mode in zip(eq.axis.Z_n, eq.axis.Z_basis.modes):\n",
    "    n = mode[-1]\n",
    "    surf.Z_lmn=surf.Z_lmn.at[surf.Z_basis.get_idx(M=0,N=n)].set( coef)"
   ]
  },
  {
   "cell_type": "code",
   "execution_count": 8,
   "id": "a431ad3a",
   "metadata": {
    "execution": {
     "iopub.execute_input": "2024-11-13T18:26:43.625275Z",
     "iopub.status.busy": "2024-11-13T18:26:43.625120Z",
     "iopub.status.idle": "2024-11-13T18:26:43.959940Z",
     "shell.execute_reply": "2024-11-13T18:26:43.959580Z"
    }
   },
   "outputs": [],
   "source": [
    "surf1 = surf\n",
    "\n",
    "surf1.change_resolution(M=16,N=8)\n",
    "\n",
    "#surf1.change_resolution(M=4,N=4)\n",
    "\n",
    "# Generate a Surface Current field for RQA\n",
    "surf1 = FourierCurrentPotentialField.from_surface(surf1,\n",
    "                                                  M_Phi=12,\n",
    "                                                  N_Phi=12,\n",
    "                                                  sym_Phi=False, \n",
    "                                                  I=0, \n",
    "                                                  G=G_QA)\n",
    "\n",
    "# Generate a Surface Current field for RQH\n",
    "surf2 = surf1.copy()\n",
    "surf2.G = G_QH"
   ]
  },
  {
   "cell_type": "code",
   "execution_count": 9,
   "id": "578a8996",
   "metadata": {
    "execution": {
     "iopub.execute_input": "2024-11-13T18:26:43.961985Z",
     "iopub.status.busy": "2024-11-13T18:26:43.961837Z",
     "iopub.status.idle": "2024-11-13T18:26:49.068268Z",
     "shell.execute_reply": "2024-11-13T18:26:49.067929Z"
    }
   },
   "outputs": [
    {
     "name": "stdout",
     "output_type": "stream",
     "text": [
      "<class 'jaxlib.xla_extension.ArrayImpl'>"
     ]
    },
    {
     "name": "stdout",
     "output_type": "stream",
     "text": [
      "\n"
     ]
    },
    {
     "name": "stdout",
     "output_type": "stream",
     "text": [
      "<class 'jaxlib.xla_extension.ArrayImpl'>"
     ]
    },
    {
     "name": "stdout",
     "output_type": "stream",
     "text": [
      "\n"
     ]
    },
    {
     "name": "stdout",
     "output_type": "stream",
     "text": [
      "<class 'jaxlib.xla_extension.ArrayImpl'>"
     ]
    },
    {
     "name": "stdout",
     "output_type": "stream",
     "text": [
      "\n"
     ]
    },
    {
     "name": "stdout",
     "output_type": "stream",
     "text": [
      "<class 'jaxlib.xla_extension.ArrayImpl'>"
     ]
    },
    {
     "name": "stdout",
     "output_type": "stream",
     "text": [
      "\n"
     ]
    },
    {
     "name": "stdout",
     "output_type": "stream",
     "text": [
      "<class 'jaxlib.xla_extension.ArrayImpl'>"
     ]
    },
    {
     "name": "stdout",
     "output_type": "stream",
     "text": [
      "\n"
     ]
    },
    {
     "name": "stdout",
     "output_type": "stream",
     "text": [
      "<class 'jaxlib.xla_extension.ArrayImpl'>"
     ]
    },
    {
     "name": "stdout",
     "output_type": "stream",
     "text": [
      "\n"
     ]
    },
    {
     "data": {
      "text/plain": [
       "(<Figure size 864x720 with 6 Axes>,\n",
       " array([<Axes: title={'center': '$\\\\phi \\\\cdot N_{FP}/2\\\\pi = 0.000$'}, xlabel='$R ~(\\\\mathrm{m})$', ylabel='$Z ~(\\\\mathrm{m})$'>,\n",
       "        <Axes: title={'center': '$\\\\phi \\\\cdot N_{FP}/2\\\\pi = 0.167$'}, xlabel='$R ~(\\\\mathrm{m})$', ylabel='$Z ~(\\\\mathrm{m})$'>,\n",
       "        <Axes: title={'center': '$\\\\phi \\\\cdot N_{FP}/2\\\\pi = 0.333$'}, xlabel='$R ~(\\\\mathrm{m})$', ylabel='$Z ~(\\\\mathrm{m})$'>,\n",
       "        <Axes: title={'center': '$\\\\phi \\\\cdot N_{FP}/2\\\\pi = 0.500$'}, xlabel='$R ~(\\\\mathrm{m})$', ylabel='$Z ~(\\\\mathrm{m})$'>,\n",
       "        <Axes: title={'center': '$\\\\phi \\\\cdot N_{FP}/2\\\\pi = 0.667$'}, xlabel='$R ~(\\\\mathrm{m})$', ylabel='$Z ~(\\\\mathrm{m})$'>,\n",
       "        <Axes: title={'center': '$\\\\phi \\\\cdot N_{FP}/2\\\\pi = 0.833$'}, xlabel='$R ~(\\\\mathrm{m})$', ylabel='$Z ~(\\\\mathrm{m})$'>],\n",
       "       dtype=object))"
      ]
     },
     "execution_count": 9,
     "metadata": {},
     "output_type": "execute_result"
    },
    {
     "data": {
      "image/png": "[encoded data removed]",
      "text/plain": [
       "<Figure size 864x720 with 6 Axes>"
      ]
     },
     "metadata": {},
     "output_type": "display_data"
    }
   ],
   "source": [
    "plot_comparison([surf1,eq_QA,eq_QH],\n",
    "                labels=[\"WS\",\"RQA\",\"RQH\"],\n",
    "                theta=0,rho=np.array(1.0)\n",
    "               )"
   ]
  },
  {
   "cell_type": "code",
   "execution_count": 10,
   "id": "534d94cf",
   "metadata": {
    "execution": {
     "iopub.execute_input": "2024-11-13T18:26:49.070032Z",
     "iopub.status.busy": "2024-11-13T18:26:49.069898Z",
     "iopub.status.idle": "2024-11-13T18:26:49.073895Z",
     "shell.execute_reply": "2024-11-13T18:26:49.073602Z"
    }
   },
   "outputs": [
    {
     "data": {
      "text/plain": [
       "0.0"
      ]
     },
     "execution_count": 10,
     "metadata": {},
     "output_type": "execute_result"
    }
   ],
   "source": [
    "surf1.I"
   ]
  },
  {
   "cell_type": "code",
   "execution_count": 11,
   "id": "1402f1a1",
   "metadata": {
    "execution": {
     "iopub.execute_input": "2024-11-13T18:26:49.075330Z",
     "iopub.status.busy": "2024-11-13T18:26:49.075202Z",
     "iopub.status.idle": "2024-11-13T18:26:49.078563Z",
     "shell.execute_reply": "2024-11-13T18:26:49.078274Z"
    }
   },
   "outputs": [
    {
     "data": {
      "text/plain": [
       "0.0"
      ]
     },
     "execution_count": 11,
     "metadata": {},
     "output_type": "execute_result"
    }
   ],
   "source": [
    "surf2.I"
   ]
  },
  {
   "cell_type": "code",
   "execution_count": 12,
   "id": "a182030f",
   "metadata": {
    "execution": {
     "iopub.execute_input": "2024-11-13T18:26:49.079949Z",
     "iopub.status.busy": "2024-11-13T18:26:49.079823Z",
     "iopub.status.idle": "2024-11-13T18:26:49.082070Z",
     "shell.execute_reply": "2024-11-13T18:26:49.081781Z"
    }
   },
   "outputs": [],
   "source": [
    "## setup opt problem\n",
    "# use QuadraticFlux as eq's are fixed and want fields to change\n",
    "# use ShareParameters to keep surface geoms constant equal to eachother as they vary with surface current to reduce Bn\n",
    "# first, keep surfs fixed too and just get regcoil-like solutions for each"
   ]
  },
  {
   "cell_type": "code",
   "execution_count": 13,
   "id": "79a82b9d",
   "metadata": {
    "execution": {
     "iopub.execute_input": "2024-11-13T18:26:49.083448Z",
     "iopub.status.busy": "2024-11-13T18:26:49.083317Z",
     "iopub.status.idle": "2024-11-13T18:26:49.090335Z",
     "shell.execute_reply": "2024-11-13T18:26:49.090039Z"
    }
   },
   "outputs": [],
   "source": [
    "# Grids\n",
    "Megrid = 20\n",
    "Negrid = 20\n",
    "\n",
    "Msgrid = 20\n",
    "Nsgrid = 20\n",
    "\n",
    "egrid = LinearGrid(M=Megrid,N=Negrid,\n",
    "                   NFP=eq.NFP,\n",
    "                   sym=False)\n",
    "\n",
    "sgrid = LinearGrid(M=Msgrid,N=Nsgrid,\n",
    "                   NFP=eq.NFP,\n",
    "                   sym=False) "
   ]
  },
  {
   "cell_type": "code",
   "execution_count": 14,
   "id": "eb4fb7bc",
   "metadata": {
    "execution": {
     "iopub.execute_input": "2024-11-13T18:26:49.092071Z",
     "iopub.status.busy": "2024-11-13T18:26:49.091941Z",
     "iopub.status.idle": "2024-11-13T18:26:49.095383Z",
     "shell.execute_reply": "2024-11-13T18:26:49.095091Z"
    }
   },
   "outputs": [
    {
     "data": {
      "text/plain": [
       "3"
      ]
     },
     "execution_count": 14,
     "metadata": {},
     "output_type": "execute_result"
    }
   ],
   "source": [
    "surf1.NFP"
   ]
  },
  {
   "cell_type": "code",
   "execution_count": 15,
   "id": "1698fbf4",
   "metadata": {
    "execution": {
     "iopub.execute_input": "2024-11-13T18:26:49.096774Z",
     "iopub.status.busy": "2024-11-13T18:26:49.096650Z",
     "iopub.status.idle": "2024-11-13T18:26:49.098836Z",
     "shell.execute_reply": "2024-11-13T18:26:49.098552Z"
    }
   },
   "outputs": [],
   "source": [
    "## setup opt problem\n",
    "# use QuadraticFlux as eq's are fixed and want fields to change\n",
    "# use ShareParameters to keep surface geoms constant equal\n",
    "# to eachother as they vary with surface current to reduce Bn"
   ]
  },
  {
   "cell_type": "code",
   "execution_count": 16,
   "id": "c672cc36",
   "metadata": {
    "execution": {
     "iopub.execute_input": "2024-11-13T18:26:49.100202Z",
     "iopub.status.busy": "2024-11-13T18:26:49.100081Z",
     "iopub.status.idle": "2024-11-13T18:26:49.102973Z",
     "shell.execute_reply": "2024-11-13T18:26:49.102663Z"
    }
   },
   "outputs": [],
   "source": [
    "flux_QA = QuadraticFlux(eq_QA,surf1,\n",
    "                        field_grid=sgrid,\n",
    "                        eval_grid=egrid,\n",
    "                        vacuum=True,\n",
    "                        weight = 1,\n",
    "                        name=\"Bn error  eq_QA\")\n",
    "\n",
    "flux_QH = QuadraticFlux(eq_QH,surf2,\n",
    "                        field_grid=sgrid,\n",
    "                        eval_grid=egrid,\n",
    "                        vacuum=True,\n",
    "                        weight = 1,\n",
    "                        name=\"Bn error  eq_QH\")"
   ]
  },
  {
   "cell_type": "code",
   "execution_count": 17,
   "id": "7057e33e",
   "metadata": {
    "execution": {
     "iopub.execute_input": "2024-11-13T18:26:49.104395Z",
     "iopub.status.busy": "2024-11-13T18:26:49.104264Z",
     "iopub.status.idle": "2024-11-13T18:26:49.107580Z",
     "shell.execute_reply": "2024-11-13T18:26:49.107281Z"
    }
   },
   "outputs": [],
   "source": [
    "# Distance target\n",
    "min_QA = 0.1\n",
    "max_QA = 0.3\n",
    "\n",
    "min_QH = 0.1\n",
    "max_QH = 0.28#1#0.28\n",
    "\n",
    "# Distance to veseel penalization\n",
    "obj_dist_QA = PlasmaVesselDistance(\n",
    "    eq_QA,\n",
    "    surf1,\n",
    "    bounds=(min_QA,max_QA),\n",
    "    #target = 0.15,\n",
    "    plasma_grid=egrid,\n",
    "    surface_grid=sgrid,\n",
    "    eq_fixed=True,\n",
    "    #softmin_alpha = 1e6,\n",
    "    weight = 1,\n",
    "    use_signed_distance=True,\n",
    "    name=\"distance error  RQA\"\n",
    ")\n",
    "\n",
    "obj_dist_QH = PlasmaVesselDistance(\n",
    "    eq_QH,\n",
    "    surf1,\n",
    "    #target = 0.15,\n",
    "    bounds=(min_QH,max_QH),\n",
    "    plasma_grid=egrid,\n",
    "    surface_grid=sgrid,\n",
    "    eq_fixed=True,\n",
    "    #softmin_alpha = 1e6,\n",
    "    use_signed_distance=True,\n",
    "    weight = 1,\n",
    "    name=\"distance error  RQH\"\n",
    ")"
   ]
  },
  {
   "cell_type": "code",
   "execution_count": 18,
   "id": "c670843f",
   "metadata": {
    "execution": {
     "iopub.execute_input": "2024-11-13T18:26:49.108949Z",
     "iopub.status.busy": "2024-11-13T18:26:49.108829Z",
     "iopub.status.idle": "2024-11-13T18:26:49.111605Z",
     "shell.execute_reply": "2024-11-13T18:26:49.111314Z"
    }
   },
   "outputs": [],
   "source": [
    "mean_curv = -0.3\n",
    "min_mean_curv = 0#-0.5\n",
    "max_mean_curv = -0.15\n",
    "\n",
    "obj_mean_curv = MeanCurvature(\n",
    "    surf1,\n",
    "    #target = mean_curv,\n",
    "    bounds = (-1,1),\n",
    "    weight=1e-2,\n",
    "    normalize=True,\n",
    "    normalize_target=True,\n",
    "    deriv_mode=\"auto\",\n",
    "    grid=sgrid,\n",
    "    name=\"Mean curvature\",\n",
    ")"
   ]
  },
  {
   "cell_type": "code",
   "execution_count": 19,
   "id": "65848857",
   "metadata": {
    "execution": {
     "iopub.execute_input": "2024-11-13T18:26:49.112967Z",
     "iopub.status.busy": "2024-11-13T18:26:49.112843Z",
     "iopub.status.idle": "2024-11-13T18:26:49.115429Z",
     "shell.execute_reply": "2024-11-13T18:26:49.115132Z"
    }
   },
   "outputs": [],
   "source": [
    "obj_prin_curv = PrincipalCurvature(surf1,\n",
    "        #target=None,\n",
    "        bounds=(-15,-10),\n",
    "        weight=2e0,\n",
    "        #normalize=True,\n",
    "        #normalize_target=True,\n",
    "        #loss_function=None,\n",
    "        #deriv_mode=\"auto\",\n",
    "        grid=sgrid,\n",
    "        name=\"principal-curvature\",\n",
    "        #jac_chunk_size=None,\n",
    "    )"
   ]
  },
  {
   "cell_type": "code",
   "execution_count": 20,
   "id": "8c4a514a",
   "metadata": {
    "execution": {
     "iopub.execute_input": "2024-11-13T18:26:49.116794Z",
     "iopub.status.busy": "2024-11-13T18:26:49.116670Z",
     "iopub.status.idle": "2024-11-13T18:26:49.120089Z",
     "shell.execute_reply": "2024-11-13T18:26:49.119798Z"
    }
   },
   "outputs": [],
   "source": [
    "Jmax = 5e7 # max current density 50 MA/m2\n",
    "tmax = 1e-1 # max thickness desired for coils: 10 cm\n",
    "\n",
    "b_M = 10\n",
    "b_N = 10\n",
    "\n",
    "obj_thickness_QA = CoilThicknessRegularization(surf1,\n",
    "                                               M_b = b_M,\n",
    "                                               N_b = b_N,\n",
    "                                               #target=None,\n",
    "                                               bounds = (0,Jmax*tmax),\n",
    "                                               weight = 1,\n",
    "                                               #normalize=True,\n",
    "                                               #normalize_target=True,\n",
    "                                               #loss_function=None,\n",
    "                                               deriv_mode=\"auto\",\n",
    "                                               source_grid = sgrid,\n",
    "                                               name = \"Coil Thickness Regularization: QA\",\n",
    "                                              )\n",
    "\n",
    "obj_thickness_QH = CoilThicknessRegularization(surf2,\n",
    "                                               M_b = b_M,\n",
    "                                               N_b = b_N,\n",
    "                                               #target=None,\n",
    "                                               bounds = (0,Jmax*tmax),\n",
    "                                               weight = 1,\n",
    "                                               #normalize=True,\n",
    "                                               #normalize_target=True,\n",
    "                                               #loss_function=None,\n",
    "                                               deriv_mode=\"auto\",\n",
    "                                               source_grid = sgrid,\n",
    "                                               name = \"Coil Thickness Regularization: QH\",\n",
    "                                              )"
   ]
  },
  {
   "cell_type": "code",
   "execution_count": 21,
   "id": "15770a22-d51a-4563-830c-661825292f47",
   "metadata": {
    "execution": {
     "iopub.execute_input": "2024-11-13T18:26:49.121500Z",
     "iopub.status.busy": "2024-11-13T18:26:49.121378Z",
     "iopub.status.idle": "2024-11-13T18:26:49.124493Z",
     "shell.execute_reply": "2024-11-13T18:26:49.124197Z"
    }
   },
   "outputs": [],
   "source": [
    "obj = ObjectiveFunction((flux_QA,\n",
    "                         flux_QH,\n",
    "                         obj_dist_QA,\n",
    "                         obj_dist_QH,\n",
    "                         #obj_mean_curv,\n",
    "                         #obj_prin_curv,\n",
    "                         #surf_curr_reg_QA,\n",
    "                         #surf_curr_reg_QH,\n",
    "                         obj_thickness_QA,\n",
    "                         obj_thickness_QH,\n",
    "                         #obj_sigma_QH,\n",
    "                        )\n",
    "                       )\n",
    "constraints = (\n",
    "    FixParameters(surf1,{\"G\":True,}),# fix the secular poloidal current\n",
    "    FixParameters(surf2,{\"G\":True,}),# fix the secular poloidal current\n",
    "    # make the 2 surfaces have the same geometry, dont need bc geom is fixed here\n",
    "    ShareParameters([surf1,surf2],params={\"R_lmn\":True, \"Z_lmn\":True}), \n",
    ")"
   ]
  },
  {
   "cell_type": "code",
   "execution_count": 22,
   "id": "afef6860",
   "metadata": {
    "execution": {
     "iopub.execute_input": "2024-11-13T18:26:49.125843Z",
     "iopub.status.busy": "2024-11-13T18:26:49.125722Z",
     "iopub.status.idle": "2024-11-13T18:26:49.127989Z",
     "shell.execute_reply": "2024-11-13T18:26:49.127696Z"
    }
   },
   "outputs": [],
   "source": [
    "# Choose the optimizer\n",
    "opt = Optimizer(\"lsq-exact\")"
   ]
  },
  {
   "cell_type": "code",
   "execution_count": 23,
   "id": "d796fa7c",
   "metadata": {
    "execution": {
     "iopub.execute_input": "2024-11-13T18:26:49.129347Z",
     "iopub.status.busy": "2024-11-13T18:26:49.129225Z",
     "iopub.status.idle": "2024-11-13T18:35:44.088190Z",
     "shell.execute_reply": "2024-11-13T18:35:44.087869Z"
    },
    "scrolled": false
   },
   "outputs": [
    {
     "name": "stdout",
     "output_type": "stream",
     "text": [
      "Building objective: Bn error  eq_QA"
     ]
    },
    {
     "name": "stdout",
     "output_type": "stream",
     "text": [
      "\n"
     ]
    },
    {
     "name": "stdout",
     "output_type": "stream",
     "text": [
      "Precomputing transforms"
     ]
    },
    {
     "name": "stdout",
     "output_type": "stream",
     "text": [
      "\n"
     ]
    },
    {
     "name": "stdout",
     "output_type": "stream",
     "text": [
      "<class 'numpy.ndarray'>"
     ]
    },
    {
     "name": "stdout",
     "output_type": "stream",
     "text": [
      "\n"
     ]
    },
    {
     "name": "stdout",
     "output_type": "stream",
     "text": [
      "<class 'numpy.ndarray'>"
     ]
    },
    {
     "name": "stdout",
     "output_type": "stream",
     "text": [
      "\n"
     ]
    },
    {
     "name": "stdout",
     "output_type": "stream",
     "text": [
      "Timer: Precomputing transforms = 1.36 sec"
     ]
    },
    {
     "name": "stdout",
     "output_type": "stream",
     "text": [
      "\n"
     ]
    },
    {
     "name": "stdout",
     "output_type": "stream",
     "text": [
      "Building objective: Bn error  eq_QH"
     ]
    },
    {
     "name": "stdout",
     "output_type": "stream",
     "text": [
      "\n"
     ]
    },
    {
     "name": "stdout",
     "output_type": "stream",
     "text": [
      "Precomputing transforms"
     ]
    },
    {
     "name": "stdout",
     "output_type": "stream",
     "text": [
      "\n"
     ]
    },
    {
     "name": "stdout",
     "output_type": "stream",
     "text": [
      "<class 'numpy.ndarray'>"
     ]
    },
    {
     "name": "stdout",
     "output_type": "stream",
     "text": [
      "\n"
     ]
    },
    {
     "name": "stdout",
     "output_type": "stream",
     "text": [
      "<class 'numpy.ndarray'>"
     ]
    },
    {
     "name": "stdout",
     "output_type": "stream",
     "text": [
      "\n"
     ]
    },
    {
     "name": "stdout",
     "output_type": "stream",
     "text": [
      "Timer: Precomputing transforms = 44.2 ms"
     ]
    },
    {
     "name": "stdout",
     "output_type": "stream",
     "text": [
      "\n"
     ]
    },
    {
     "name": "stdout",
     "output_type": "stream",
     "text": [
      "Building objective: distance error  RQA"
     ]
    },
    {
     "name": "stdout",
     "output_type": "stream",
     "text": [
      "\n"
     ]
    },
    {
     "name": "stdout",
     "output_type": "stream",
     "text": [
      "Precomputing transforms"
     ]
    },
    {
     "name": "stdout",
     "output_type": "stream",
     "text": [
      "\n"
     ]
    },
    {
     "name": "stdout",
     "output_type": "stream",
     "text": [
      "<class 'numpy.ndarray'>"
     ]
    },
    {
     "name": "stdout",
     "output_type": "stream",
     "text": [
      "\n"
     ]
    },
    {
     "name": "stdout",
     "output_type": "stream",
     "text": [
      "<class 'numpy.ndarray'>"
     ]
    },
    {
     "name": "stdout",
     "output_type": "stream",
     "text": [
      "\n"
     ]
    },
    {
     "name": "stdout",
     "output_type": "stream",
     "text": [
      "<class 'numpy.ndarray'>"
     ]
    },
    {
     "name": "stdout",
     "output_type": "stream",
     "text": [
      "\n"
     ]
    },
    {
     "name": "stdout",
     "output_type": "stream",
     "text": [
      "<class 'numpy.ndarray'>"
     ]
    },
    {
     "name": "stdout",
     "output_type": "stream",
     "text": [
      "\n"
     ]
    },
    {
     "name": "stdout",
     "output_type": "stream",
     "text": [
      "Timer: Precomputing transforms = 134 ms"
     ]
    },
    {
     "name": "stdout",
     "output_type": "stream",
     "text": [
      "\n"
     ]
    },
    {
     "name": "stdout",
     "output_type": "stream",
     "text": [
      "Building objective: distance error  RQH"
     ]
    },
    {
     "name": "stdout",
     "output_type": "stream",
     "text": [
      "\n"
     ]
    },
    {
     "name": "stdout",
     "output_type": "stream",
     "text": [
      "Precomputing transforms"
     ]
    },
    {
     "name": "stdout",
     "output_type": "stream",
     "text": [
      "\n"
     ]
    },
    {
     "name": "stdout",
     "output_type": "stream",
     "text": [
      "<class 'numpy.ndarray'>"
     ]
    },
    {
     "name": "stdout",
     "output_type": "stream",
     "text": [
      "\n"
     ]
    },
    {
     "name": "stdout",
     "output_type": "stream",
     "text": [
      "<class 'numpy.ndarray'>"
     ]
    },
    {
     "name": "stdout",
     "output_type": "stream",
     "text": [
      "\n"
     ]
    },
    {
     "name": "stdout",
     "output_type": "stream",
     "text": [
      "<class 'numpy.ndarray'>"
     ]
    },
    {
     "name": "stdout",
     "output_type": "stream",
     "text": [
      "\n"
     ]
    },
    {
     "name": "stdout",
     "output_type": "stream",
     "text": [
      "<class 'numpy.ndarray'>"
     ]
    },
    {
     "name": "stdout",
     "output_type": "stream",
     "text": [
      "\n"
     ]
    },
    {
     "name": "stdout",
     "output_type": "stream",
     "text": [
      "Timer: Precomputing transforms = 35.2 ms"
     ]
    },
    {
     "name": "stdout",
     "output_type": "stream",
     "text": [
      "\n"
     ]
    },
    {
     "name": "stdout",
     "output_type": "stream",
     "text": [
      "Building objective: Coil Thickness Regularization: QA"
     ]
    },
    {
     "name": "stdout",
     "output_type": "stream",
     "text": [
      "\n"
     ]
    },
    {
     "name": "stdout",
     "output_type": "stream",
     "text": [
      "Precomputing transforms"
     ]
    },
    {
     "name": "stdout",
     "output_type": "stream",
     "text": [
      "\n"
     ]
    },
    {
     "name": "stdout",
     "output_type": "stream",
     "text": [
      "<class 'numpy.ndarray'>"
     ]
    },
    {
     "name": "stdout",
     "output_type": "stream",
     "text": [
      "\n"
     ]
    },
    {
     "name": "stdout",
     "output_type": "stream",
     "text": [
      "<class 'numpy.ndarray'>"
     ]
    },
    {
     "name": "stdout",
     "output_type": "stream",
     "text": [
      "\n"
     ]
    },
    {
     "name": "stdout",
     "output_type": "stream",
     "text": [
      "<class 'numpy.ndarray'>"
     ]
    },
    {
     "name": "stdout",
     "output_type": "stream",
     "text": [
      "\n"
     ]
    },
    {
     "name": "stdout",
     "output_type": "stream",
     "text": [
      "<class 'numpy.ndarray'>"
     ]
    },
    {
     "name": "stdout",
     "output_type": "stream",
     "text": [
      "\n"
     ]
    },
    {
     "name": "stdout",
     "output_type": "stream",
     "text": [
      "Timer: Precomputing transforms = 424 ms"
     ]
    },
    {
     "name": "stdout",
     "output_type": "stream",
     "text": [
      "\n"
     ]
    },
    {
     "name": "stdout",
     "output_type": "stream",
     "text": [
      "Building objective: Coil Thickness Regularization: QH"
     ]
    },
    {
     "name": "stdout",
     "output_type": "stream",
     "text": [
      "\n"
     ]
    },
    {
     "name": "stdout",
     "output_type": "stream",
     "text": [
      "Precomputing transforms"
     ]
    },
    {
     "name": "stdout",
     "output_type": "stream",
     "text": [
      "\n"
     ]
    },
    {
     "name": "stdout",
     "output_type": "stream",
     "text": [
      "<class 'numpy.ndarray'>"
     ]
    },
    {
     "name": "stdout",
     "output_type": "stream",
     "text": [
      "\n"
     ]
    },
    {
     "name": "stdout",
     "output_type": "stream",
     "text": [
      "<class 'numpy.ndarray'>"
     ]
    },
    {
     "name": "stdout",
     "output_type": "stream",
     "text": [
      "\n"
     ]
    },
    {
     "name": "stdout",
     "output_type": "stream",
     "text": [
      "<class 'numpy.ndarray'>"
     ]
    },
    {
     "name": "stdout",
     "output_type": "stream",
     "text": [
      "\n"
     ]
    },
    {
     "name": "stdout",
     "output_type": "stream",
     "text": [
      "<class 'numpy.ndarray'>"
     ]
    },
    {
     "name": "stdout",
     "output_type": "stream",
     "text": [
      "\n"
     ]
    },
    {
     "name": "stdout",
     "output_type": "stream",
     "text": [
      "Timer: Precomputing transforms = 74.2 ms"
     ]
    },
    {
     "name": "stdout",
     "output_type": "stream",
     "text": [
      "\n"
     ]
    },
    {
     "name": "stdout",
     "output_type": "stream",
     "text": [
      "Timer: Objective build = 2.58 sec"
     ]
    },
    {
     "name": "stdout",
     "output_type": "stream",
     "text": [
      "\n"
     ]
    },
    {
     "name": "stdout",
     "output_type": "stream",
     "text": [
      "Building objective: fixed parameters"
     ]
    },
    {
     "name": "stdout",
     "output_type": "stream",
     "text": [
      "\n"
     ]
    },
    {
     "name": "stdout",
     "output_type": "stream",
     "text": [
      "Building objective: fixed parameters"
     ]
    },
    {
     "name": "stdout",
     "output_type": "stream",
     "text": [
      "\n"
     ]
    },
    {
     "name": "stdout",
     "output_type": "stream",
     "text": [
      "Building objective: shared parameters"
     ]
    },
    {
     "name": "stdout",
     "output_type": "stream",
     "text": [
      "\n"
     ]
    },
    {
     "name": "stdout",
     "output_type": "stream",
     "text": [
      "Timer: Objective build = 78.9 ms"
     ]
    },
    {
     "name": "stdout",
     "output_type": "stream",
     "text": [
      "\n"
     ]
    },
    {
     "name": "stdout",
     "output_type": "stream",
     "text": [
      "Timer: Linear constraint projection build = 2.89 sec"
     ]
    },
    {
     "name": "stdout",
     "output_type": "stream",
     "text": [
      "\n"
     ]
    },
    {
     "name": "stdout",
     "output_type": "stream",
     "text": [
      "Number of parameters: 1813"
     ]
    },
    {
     "name": "stdout",
     "output_type": "stream",
     "text": [
      "\n"
     ]
    },
    {
     "name": "stdout",
     "output_type": "stream",
     "text": [
      "Number of objectives: 10086"
     ]
    },
    {
     "name": "stdout",
     "output_type": "stream",
     "text": [
      "\n"
     ]
    },
    {
     "name": "stdout",
     "output_type": "stream",
     "text": [
      "Timer: Initializing the optimization = 5.63 sec"
     ]
    },
    {
     "name": "stdout",
     "output_type": "stream",
     "text": [
      "\n"
     ]
    },
    {
     "name": "stdout",
     "output_type": "stream",
     "text": [
      "\n",
      "Starting optimization"
     ]
    },
    {
     "name": "stdout",
     "output_type": "stream",
     "text": [
      "\n"
     ]
    },
    {
     "name": "stdout",
     "output_type": "stream",
     "text": [
      "Using method: lsq-exact"
     ]
    },
    {
     "name": "stdout",
     "output_type": "stream",
     "text": [
      "\n"
     ]
    },
    {
     "name": "stdout",
     "output_type": "stream",
     "text": [
      "   Iteration     Total nfev        Cost      Cost reduction    Step norm     Optimality   "
     ]
    },
    {
     "name": "stdout",
     "output_type": "stream",
     "text": [
      "\n"
     ]
    },
    {
     "name": "stdout",
     "output_type": "stream",
     "text": [
      "       0              1          3.140e+02                                    6.235e+02   "
     ]
    },
    {
     "name": "stdout",
     "output_type": "stream",
     "text": [
      "\n"
     ]
    },
    {
     "name": "stdout",
     "output_type": "stream",
     "text": [
      "       1              7          3.127e+02      1.258e+00      5.789e+02      6.192e+02   "
     ]
    },
    {
     "name": "stdout",
     "output_type": "stream",
     "text": [
      "\n"
     ]
    },
    {
     "name": "stdout",
     "output_type": "stream",
     "text": [
      "       2             10          3.126e+02      1.562e-01      7.120e+01      6.186e+02   "
     ]
    },
    {
     "name": "stdout",
     "output_type": "stream",
     "text": [
      "\n"
     ]
    },
    {
     "name": "stdout",
     "output_type": "stream",
     "text": [
      "       3             11          3.122e+02      3.083e-01      1.422e+02      6.194e+02   "
     ]
    },
    {
     "name": "stdout",
     "output_type": "stream",
     "text": [
      "\n"
     ]
    },
    {
     "name": "stdout",
     "output_type": "stream",
     "text": [
      "       4             12          3.119e+02      3.541e-01      4.453e+01      6.177e+02   "
     ]
    },
    {
     "name": "stdout",
     "output_type": "stream",
     "text": [
      "\n"
     ]
    },
    {
     "name": "stdout",
     "output_type": "stream",
     "text": [
      "       5             13          3.112e+02      7.055e-01      8.914e+01      6.144e+02   "
     ]
    },
    {
     "name": "stdout",
     "output_type": "stream",
     "text": [
      "\n"
     ]
    },
    {
     "name": "stdout",
     "output_type": "stream",
     "text": [
      "       6             14          3.098e+02      1.401e+00      1.786e+02      6.085e+02   "
     ]
    },
    {
     "name": "stdout",
     "output_type": "stream",
     "text": [
      "\n"
     ]
    },
    {
     "name": "stdout",
     "output_type": "stream",
     "text": [
      "       7             15          3.070e+02      2.765e+00      3.580e+02      5.971e+02   "
     ]
    },
    {
     "name": "stdout",
     "output_type": "stream",
     "text": [
      "\n"
     ]
    },
    {
     "name": "stdout",
     "output_type": "stream",
     "text": [
      "       8             16          3.016e+02      5.385e+00      7.195e+02      5.764e+02   "
     ]
    },
    {
     "name": "stdout",
     "output_type": "stream",
     "text": [
      "\n"
     ]
    },
    {
     "name": "stdout",
     "output_type": "stream",
     "text": [
      "       9             17          2.923e+02      9.364e+00      1.360e+03      5.413e+02   "
     ]
    },
    {
     "name": "stdout",
     "output_type": "stream",
     "text": [
      "\n"
     ]
    },
    {
     "name": "stdout",
     "output_type": "stream",
     "text": [
      "      10             18          2.752e+02      1.705e+01      2.763e+03      4.224e+03   "
     ]
    },
    {
     "name": "stdout",
     "output_type": "stream",
     "text": [
      "\n"
     ]
    },
    {
     "name": "stdout",
     "output_type": "stream",
     "text": [
      "      11             19          2.707e+02      4.473e+00      6.956e+02      4.739e+02   "
     ]
    },
    {
     "name": "stdout",
     "output_type": "stream",
     "text": [
      "\n"
     ]
    },
    {
     "name": "stdout",
     "output_type": "stream",
     "text": [
      "      12             20          2.447e+02      2.603e+01      4.231e+03      9.781e+03   "
     ]
    },
    {
     "name": "stdout",
     "output_type": "stream",
     "text": [
      "\n"
     ]
    },
    {
     "name": "stdout",
     "output_type": "stream",
     "text": [
      "      13             21          2.430e+02      1.704e+00      1.923e+02      7.988e+02   "
     ]
    },
    {
     "name": "stdout",
     "output_type": "stream",
     "text": [
      "\n"
     ]
    },
    {
     "name": "stdout",
     "output_type": "stream",
     "text": [
      "      14             22          2.025e+02      4.055e+01      7.930e+03      2.469e+03   "
     ]
    },
    {
     "name": "stdout",
     "output_type": "stream",
     "text": [
      "\n"
     ]
    },
    {
     "name": "stdout",
     "output_type": "stream",
     "text": [
      "      15             23          2.010e+02      1.461e+00      2.571e+02      2.953e+02   "
     ]
    },
    {
     "name": "stdout",
     "output_type": "stream",
     "text": [
      "\n"
     ]
    },
    {
     "name": "stdout",
     "output_type": "stream",
     "text": [
      "      16             25          1.834e+02      1.763e+01      4.650e+03      1.730e+03   "
     ]
    },
    {
     "name": "stdout",
     "output_type": "stream",
     "text": [
      "\n"
     ]
    },
    {
     "name": "stdout",
     "output_type": "stream",
     "text": [
      "      17             26          1.814e+02      1.991e+00      5.918e+02      2.427e+02   "
     ]
    },
    {
     "name": "stdout",
     "output_type": "stream",
     "text": [
      "\n"
     ]
    },
    {
     "name": "stdout",
     "output_type": "stream",
     "text": [
      "      18             27          1.636e+02      1.782e+01      9.859e+03      2.203e+04   "
     ]
    },
    {
     "name": "stdout",
     "output_type": "stream",
     "text": [
      "\n"
     ]
    },
    {
     "name": "stdout",
     "output_type": "stream",
     "text": [
      "      19             28          1.526e+02      1.093e+01      2.184e+02      5.591e+03   "
     ]
    },
    {
     "name": "stdout",
     "output_type": "stream",
     "text": [
      "\n"
     ]
    },
    {
     "name": "stdout",
     "output_type": "stream",
     "text": [
      "      20             29          1.502e+02      2.412e+00      2.563e+02      1.330e+03   "
     ]
    },
    {
     "name": "stdout",
     "output_type": "stream",
     "text": [
      "\n"
     ]
    },
    {
     "name": "stdout",
     "output_type": "stream",
     "text": [
      "      21             30          1.484e+02      1.841e+00      7.331e+02      3.582e+02   "
     ]
    },
    {
     "name": "stdout",
     "output_type": "stream",
     "text": [
      "\n"
     ]
    },
    {
     "name": "stdout",
     "output_type": "stream",
     "text": [
      "      22             31          1.402e+02      8.156e+00      4.405e+03      3.704e+03   "
     ]
    },
    {
     "name": "stdout",
     "output_type": "stream",
     "text": [
      "\n"
     ]
    },
    {
     "name": "stdout",
     "output_type": "stream",
     "text": [
      "      23             32          1.384e+02      1.807e+00      1.332e+02      6.548e+02   "
     ]
    },
    {
     "name": "stdout",
     "output_type": "stream",
     "text": [
      "\n"
     ]
    },
    {
     "name": "stdout",
     "output_type": "stream",
     "text": [
      "      24             33          1.365e+02      1.883e+00      9.424e+02      1.952e+02   "
     ]
    },
    {
     "name": "stdout",
     "output_type": "stream",
     "text": [
      "\n"
     ]
    },
    {
     "name": "stdout",
     "output_type": "stream",
     "text": [
      "      25             34          1.248e+02      1.176e+01      9.708e+03      9.758e+03   "
     ]
    },
    {
     "name": "stdout",
     "output_type": "stream",
     "text": [
      "\n"
     ]
    },
    {
     "name": "stdout",
     "output_type": "stream",
     "text": [
      "      26             35          1.206e+02      4.156e+00      1.341e+02      3.281e+03   "
     ]
    },
    {
     "name": "stdout",
     "output_type": "stream",
     "text": [
      "\n"
     ]
    },
    {
     "name": "stdout",
     "output_type": "stream",
     "text": [
      "      27             36          1.196e+02      1.021e+00      2.006e+02      6.514e+02   "
     ]
    },
    {
     "name": "stdout",
     "output_type": "stream",
     "text": [
      "\n"
     ]
    },
    {
     "name": "stdout",
     "output_type": "stream",
     "text": [
      "      28             37          1.191e+02      5.140e-01      4.922e+02      8.675e+02   "
     ]
    },
    {
     "name": "stdout",
     "output_type": "stream",
     "text": [
      "\n"
     ]
    },
    {
     "name": "stdout",
     "output_type": "stream",
     "text": [
      "      29             38          1.187e+02      4.223e-01      1.759e+02      2.374e+02   "
     ]
    },
    {
     "name": "stdout",
     "output_type": "stream",
     "text": [
      "\n"
     ]
    },
    {
     "name": "stdout",
     "output_type": "stream",
     "text": [
      "      30             40          1.156e+02      3.024e+00      2.856e+03      1.673e+03   "
     ]
    },
    {
     "name": "stdout",
     "output_type": "stream",
     "text": [
      "\n"
     ]
    },
    {
     "name": "stdout",
     "output_type": "stream",
     "text": [
      "      31             41          1.152e+02      4.417e-01      1.297e+02      2.545e+02   "
     ]
    },
    {
     "name": "stdout",
     "output_type": "stream",
     "text": [
      "\n"
     ]
    },
    {
     "name": "stdout",
     "output_type": "stream",
     "text": [
      "      32             42          1.132e+02      2.008e+00      1.754e+03      1.271e+02   "
     ]
    },
    {
     "name": "stdout",
     "output_type": "stream",
     "text": [
      "\n"
     ]
    },
    {
     "name": "stdout",
     "output_type": "stream",
     "text": [
      "      33             43          1.096e+02      3.596e+00      5.852e+03      6.170e+03   "
     ]
    },
    {
     "name": "stdout",
     "output_type": "stream",
     "text": [
      "\n"
     ]
    },
    {
     "name": "stdout",
     "output_type": "stream",
     "text": [
      "      34             44          1.072e+02      2.405e+00      9.478e+01      1.133e+03   "
     ]
    },
    {
     "name": "stdout",
     "output_type": "stream",
     "text": [
      "\n"
     ]
    },
    {
     "name": "stdout",
     "output_type": "stream",
     "text": [
      "      35             45          1.067e+02      5.104e-01      2.169e+02      2.782e+02   "
     ]
    },
    {
     "name": "stdout",
     "output_type": "stream",
     "text": [
      "\n"
     ]
    },
    {
     "name": "stdout",
     "output_type": "stream",
     "text": [
      "      36             46          1.048e+02      1.871e+00      2.069e+03      1.182e+02   "
     ]
    },
    {
     "name": "stdout",
     "output_type": "stream",
     "text": [
      "\n"
     ]
    },
    {
     "name": "stdout",
     "output_type": "stream",
     "text": [
      "      37             47          1.020e+02      2.770e+00      3.262e+03      6.785e+02   "
     ]
    },
    {
     "name": "stdout",
     "output_type": "stream",
     "text": [
      "\n"
     ]
    },
    {
     "name": "stdout",
     "output_type": "stream",
     "text": [
      "      38             48          1.017e+02      3.716e-01      2.073e+02      1.160e+02   "
     ]
    },
    {
     "name": "stdout",
     "output_type": "stream",
     "text": [
      "\n"
     ]
    },
    {
     "name": "stdout",
     "output_type": "stream",
     "text": [
      "      39             49          9.861e+01      3.056e+00      6.769e+03      5.611e+03   "
     ]
    },
    {
     "name": "stdout",
     "output_type": "stream",
     "text": [
      "\n"
     ]
    },
    {
     "name": "stdout",
     "output_type": "stream",
     "text": [
      "      40             50          9.625e+01      2.367e+00      8.761e+01      8.809e+02   "
     ]
    },
    {
     "name": "stdout",
     "output_type": "stream",
     "text": [
      "\n"
     ]
    },
    {
     "name": "stdout",
     "output_type": "stream",
     "text": [
      "      41             51          9.569e+01      5.574e-01      2.280e+02      1.769e+02   "
     ]
    },
    {
     "name": "stdout",
     "output_type": "stream",
     "text": [
      "\n"
     ]
    },
    {
     "name": "stdout",
     "output_type": "stream",
     "text": [
      "      42             52          9.340e+01      2.293e+00      3.236e+03      1.016e+03   "
     ]
    },
    {
     "name": "stdout",
     "output_type": "stream",
     "text": [
      "\n"
     ]
    },
    {
     "name": "stdout",
     "output_type": "stream",
     "text": [
      "      43             53          9.308e+01      3.171e-01      1.405e+02      4.266e+02   "
     ]
    },
    {
     "name": "stdout",
     "output_type": "stream",
     "text": [
      "\n"
     ]
    },
    {
     "name": "stdout",
     "output_type": "stream",
     "text": [
      "      44             54          9.268e+01      4.025e-01      3.213e+02      1.086e+02   "
     ]
    },
    {
     "name": "stdout",
     "output_type": "stream",
     "text": [
      "\n"
     ]
    },
    {
     "name": "stdout",
     "output_type": "stream",
     "text": [
      "      45             55          8.819e+01      4.485e+00      6.963e+03      3.346e+03   "
     ]
    },
    {
     "name": "stdout",
     "output_type": "stream",
     "text": [
      "\n"
     ]
    },
    {
     "name": "stdout",
     "output_type": "stream",
     "text": [
      "      46             56          8.764e+01      5.544e-01      4.903e+01      1.012e+03   "
     ]
    },
    {
     "name": "stdout",
     "output_type": "stream",
     "text": [
      "\n"
     ]
    },
    {
     "name": "stdout",
     "output_type": "stream",
     "text": [
      "      47             57          8.723e+01      4.102e-01      2.259e+02      5.200e+02   "
     ]
    },
    {
     "name": "stdout",
     "output_type": "stream",
     "text": [
      "\n"
     ]
    },
    {
     "name": "stdout",
     "output_type": "stream",
     "text": [
      "      48             58          8.666e+01      5.652e-01      4.959e+02      1.658e+02   "
     ]
    },
    {
     "name": "stdout",
     "output_type": "stream",
     "text": [
      "\n"
     ]
    },
    {
     "name": "stdout",
     "output_type": "stream",
     "text": [
      "      49             59          8.418e+01      2.482e+00      3.851e+03      1.368e+03   "
     ]
    },
    {
     "name": "stdout",
     "output_type": "stream",
     "text": [
      "\n"
     ]
    },
    {
     "name": "stdout",
     "output_type": "stream",
     "text": [
      "      50             60          8.382e+01      3.563e-01      1.086e+02      4.780e+02   "
     ]
    },
    {
     "name": "stdout",
     "output_type": "stream",
     "text": [
      "\n"
     ]
    },
    {
     "name": "stdout",
     "output_type": "stream",
     "text": [
      "      51             61          8.333e+01      4.956e-01      4.412e+02      1.001e+02   "
     ]
    },
    {
     "name": "stdout",
     "output_type": "stream",
     "text": [
      "\n"
     ]
    },
    {
     "name": "stdout",
     "output_type": "stream",
     "text": [
      "      52             62          7.819e+01      5.136e+00      1.371e+04      7.764e+03   "
     ]
    },
    {
     "name": "stdout",
     "output_type": "stream",
     "text": [
      "\n"
     ]
    },
    {
     "name": "stdout",
     "output_type": "stream",
     "text": [
      "      53             63          7.502e+01      3.170e+00      9.860e+01      1.773e+03   "
     ]
    },
    {
     "name": "stdout",
     "output_type": "stream",
     "text": [
      "\n"
     ]
    },
    {
     "name": "stdout",
     "output_type": "stream",
     "text": [
      "      54             64          7.443e+01      5.916e-01      1.719e+02      1.107e+03   "
     ]
    },
    {
     "name": "stdout",
     "output_type": "stream",
     "text": [
      "\n"
     ]
    },
    {
     "name": "stdout",
     "output_type": "stream",
     "text": [
      "      55             65          7.395e+01      4.831e-01      1.695e+02      2.122e+02   "
     ]
    },
    {
     "name": "stdout",
     "output_type": "stream",
     "text": [
      "\n"
     ]
    },
    {
     "name": "stdout",
     "output_type": "stream",
     "text": [
      "      56             66          7.244e+01      1.506e+00      2.204e+03      2.635e+02   "
     ]
    },
    {
     "name": "stdout",
     "output_type": "stream",
     "text": [
      "\n"
     ]
    },
    {
     "name": "stdout",
     "output_type": "stream",
     "text": [
      "      57             67          7.134e+01      1.097e+00      1.590e+03      8.961e+01   "
     ]
    },
    {
     "name": "stdout",
     "output_type": "stream",
     "text": [
      "\n"
     ]
    },
    {
     "name": "stdout",
     "output_type": "stream",
     "text": [
      "      58             68          6.960e+01      1.740e+00      1.279e+04      9.946e+03   "
     ]
    },
    {
     "name": "stdout",
     "output_type": "stream",
     "text": [
      "\n"
     ]
    },
    {
     "name": "stdout",
     "output_type": "stream",
     "text": [
      "      59             69          6.580e+01      3.806e+00      9.732e+01      3.786e+03   "
     ]
    },
    {
     "name": "stdout",
     "output_type": "stream",
     "text": [
      "\n"
     ]
    },
    {
     "name": "stdout",
     "output_type": "stream",
     "text": [
      "      60             70          6.425e+01      1.552e+00      7.369e+01      1.055e+03   "
     ]
    },
    {
     "name": "stdout",
     "output_type": "stream",
     "text": [
      "\n"
     ]
    },
    {
     "name": "stdout",
     "output_type": "stream",
     "text": [
      "      61             71          6.360e+01      6.422e-01      1.815e+02      2.287e+02   "
     ]
    },
    {
     "name": "stdout",
     "output_type": "stream",
     "text": [
      "\n"
     ]
    },
    {
     "name": "stdout",
     "output_type": "stream",
     "text": [
      "      62             72          6.266e+01      9.479e-01      1.398e+03      9.125e+01   "
     ]
    },
    {
     "name": "stdout",
     "output_type": "stream",
     "text": [
      "\n"
     ]
    },
    {
     "name": "stdout",
     "output_type": "stream",
     "text": [
      "      63             73          6.060e+01      2.057e+00      3.289e+03      2.930e+02   "
     ]
    },
    {
     "name": "stdout",
     "output_type": "stream",
     "text": [
      "\n"
     ]
    },
    {
     "name": "stdout",
     "output_type": "stream",
     "text": [
      "      64             74          6.028e+01      3.219e-01      5.017e+02      1.101e+02   "
     ]
    },
    {
     "name": "stdout",
     "output_type": "stream",
     "text": [
      "\n"
     ]
    },
    {
     "name": "stdout",
     "output_type": "stream",
     "text": [
      "      65             75          5.730e+01      2.973e+00      5.597e+03      5.069e+02   "
     ]
    },
    {
     "name": "stdout",
     "output_type": "stream",
     "text": [
      "\n"
     ]
    },
    {
     "name": "stdout",
     "output_type": "stream",
     "text": [
      "      66             76          5.712e+01      1.851e-01      1.022e+02      1.347e+02   "
     ]
    },
    {
     "name": "stdout",
     "output_type": "stream",
     "text": [
      "\n"
     ]
    },
    {
     "name": "stdout",
     "output_type": "stream",
     "text": [
      "      67             77          5.623e+01      8.905e-01      1.633e+03      1.183e+02   "
     ]
    },
    {
     "name": "stdout",
     "output_type": "stream",
     "text": [
      "\n"
     ]
    },
    {
     "name": "stdout",
     "output_type": "stream",
     "text": [
      "      68             78          5.472e+01      1.512e+00      2.651e+03      9.219e+01   "
     ]
    },
    {
     "name": "stdout",
     "output_type": "stream",
     "text": [
      "\n"
     ]
    },
    {
     "name": "stdout",
     "output_type": "stream",
     "text": [
      "      69             79          5.207e+01      2.648e+00      1.065e+04      3.808e+03   "
     ]
    },
    {
     "name": "stdout",
     "output_type": "stream",
     "text": [
      "\n"
     ]
    },
    {
     "name": "stdout",
     "output_type": "stream",
     "text": [
      "      70             80          5.035e+01      1.719e+00      6.159e+01      1.392e+03   "
     ]
    },
    {
     "name": "stdout",
     "output_type": "stream",
     "text": [
      "\n"
     ]
    },
    {
     "name": "stdout",
     "output_type": "stream",
     "text": [
      "      71             81          4.969e+01      6.607e-01      8.542e+01      4.615e+02   "
     ]
    },
    {
     "name": "stdout",
     "output_type": "stream",
     "text": [
      "\n"
     ]
    },
    {
     "name": "stdout",
     "output_type": "stream",
     "text": [
      "      72             82          4.947e+01      2.152e-01      1.431e+02      1.740e+02   "
     ]
    },
    {
     "name": "stdout",
     "output_type": "stream",
     "text": [
      "\n"
     ]
    },
    {
     "name": "stdout",
     "output_type": "stream",
     "text": [
      "      73             83          4.909e+01      3.787e-01      8.588e+02      9.471e+01   "
     ]
    },
    {
     "name": "stdout",
     "output_type": "stream",
     "text": [
      "\n"
     ]
    },
    {
     "name": "stdout",
     "output_type": "stream",
     "text": [
      "      74             84          4.810e+01      9.900e-01      2.212e+03      4.355e+02   "
     ]
    },
    {
     "name": "stdout",
     "output_type": "stream",
     "text": [
      "\n"
     ]
    },
    {
     "name": "stdout",
     "output_type": "stream",
     "text": [
      "      75             85          4.795e+01      1.552e-01      9.026e+01      1.078e+02   "
     ]
    },
    {
     "name": "stdout",
     "output_type": "stream",
     "text": [
      "\n"
     ]
    },
    {
     "name": "stdout",
     "output_type": "stream",
     "text": [
      "      76             86          4.735e+01      6.028e-01      1.375e+03      5.357e+01   "
     ]
    },
    {
     "name": "stdout",
     "output_type": "stream",
     "text": [
      "\n"
     ]
    },
    {
     "name": "stdout",
     "output_type": "stream",
     "text": [
      "      77             87          4.612e+01      1.224e+00      3.698e+03      1.081e+03   "
     ]
    },
    {
     "name": "stdout",
     "output_type": "stream",
     "text": [
      "\n"
     ]
    },
    {
     "name": "stdout",
     "output_type": "stream",
     "text": [
      "      78             88          4.577e+01      3.480e-01      4.891e+01      2.874e+02   "
     ]
    },
    {
     "name": "stdout",
     "output_type": "stream",
     "text": [
      "\n"
     ]
    },
    {
     "name": "stdout",
     "output_type": "stream",
     "text": [
      "      79             89          4.567e+01      1.057e-01      1.088e+02      6.714e+01   "
     ]
    },
    {
     "name": "stdout",
     "output_type": "stream",
     "text": [
      "\n"
     ]
    },
    {
     "name": "stdout",
     "output_type": "stream",
     "text": [
      "      80             90          4.436e+01      1.304e+00      3.230e+03      9.693e+01   "
     ]
    },
    {
     "name": "stdout",
     "output_type": "stream",
     "text": [
      "\n"
     ]
    },
    {
     "name": "stdout",
     "output_type": "stream",
     "text": [
      "      81             91          4.385e+01      5.192e-01      1.155e+03      4.609e+01   "
     ]
    },
    {
     "name": "stdout",
     "output_type": "stream",
     "text": [
      "\n"
     ]
    },
    {
     "name": "stdout",
     "output_type": "stream",
     "text": [
      "      82             92          4.201e+01      1.835e+00      9.549e+03      3.459e+03   "
     ]
    },
    {
     "name": "stdout",
     "output_type": "stream",
     "text": [
      "\n"
     ]
    },
    {
     "name": "stdout",
     "output_type": "stream",
     "text": [
      "      83             93          4.050e+01      1.506e+00      4.379e+01      8.844e+02   "
     ]
    },
    {
     "name": "stdout",
     "output_type": "stream",
     "text": [
      "\n"
     ]
    },
    {
     "name": "stdout",
     "output_type": "stream",
     "text": [
      "      84             94          4.025e+01      2.541e-01      3.345e+01      2.615e+02   "
     ]
    },
    {
     "name": "stdout",
     "output_type": "stream",
     "text": [
      "\n"
     ]
    },
    {
     "name": "stdout",
     "output_type": "stream",
     "text": [
      "      85             95          4.016e+01      8.868e-02      5.895e+01      7.002e+01   "
     ]
    },
    {
     "name": "stdout",
     "output_type": "stream",
     "text": [
      "\n"
     ]
    },
    {
     "name": "stdout",
     "output_type": "stream",
     "text": [
      "      86             96          3.986e+01      3.001e-01      6.883e+02      1.053e+02   "
     ]
    },
    {
     "name": "stdout",
     "output_type": "stream",
     "text": [
      "\n"
     ]
    },
    {
     "name": "stdout",
     "output_type": "stream",
     "text": [
      "      87             97          3.966e+01      2.047e-01      3.334e+02      3.760e+01   "
     ]
    },
    {
     "name": "stdout",
     "output_type": "stream",
     "text": [
      "\n"
     ]
    },
    {
     "name": "stdout",
     "output_type": "stream",
     "text": [
      "      88             98          3.717e+01      2.490e+00      6.062e+03      6.413e+02   "
     ]
    },
    {
     "name": "stdout",
     "output_type": "stream",
     "text": [
      "\n"
     ]
    },
    {
     "name": "stdout",
     "output_type": "stream",
     "text": [
      "      89             99          3.698e+01      1.870e-01      5.519e+01      5.595e+02   "
     ]
    },
    {
     "name": "stdout",
     "output_type": "stream",
     "text": [
      "\n"
     ]
    },
    {
     "name": "stdout",
     "output_type": "stream",
     "text": [
      "      90             100         3.693e+01      4.615e-02      1.933e+01      2.045e+02   "
     ]
    },
    {
     "name": "stdout",
     "output_type": "stream",
     "text": [
      "\n"
     ]
    },
    {
     "name": "stdout",
     "output_type": "stream",
     "text": [
      "      91             101         3.684e+01      9.820e-02      1.433e+02      1.911e+02   "
     ]
    },
    {
     "name": "stdout",
     "output_type": "stream",
     "text": [
      "\n"
     ]
    },
    {
     "name": "stdout",
     "output_type": "stream",
     "text": [
      "      92             102         3.679e+01      4.830e-02      2.690e+01      7.107e+01   "
     ]
    },
    {
     "name": "stdout",
     "output_type": "stream",
     "text": [
      "\n"
     ]
    },
    {
     "name": "stdout",
     "output_type": "stream",
     "text": [
      "      93             103         3.660e+01      1.905e-01      4.750e+02      2.980e+02   "
     ]
    },
    {
     "name": "stdout",
     "output_type": "stream",
     "text": [
      "\n"
     ]
    },
    {
     "name": "stdout",
     "output_type": "stream",
     "text": [
      "      94             104         3.652e+01      7.646e-02      3.737e+01      9.006e+01   "
     ]
    },
    {
     "name": "stdout",
     "output_type": "stream",
     "text": [
      "\n"
     ]
    },
    {
     "name": "stdout",
     "output_type": "stream",
     "text": [
      "      95             105         3.645e+01      6.922e-02      1.167e+02      2.917e+01   "
     ]
    },
    {
     "name": "stdout",
     "output_type": "stream",
     "text": [
      "\n"
     ]
    },
    {
     "name": "stdout",
     "output_type": "stream",
     "text": [
      "      96             107         3.541e+01      1.041e+00      2.564e+03      1.072e+03   "
     ]
    },
    {
     "name": "stdout",
     "output_type": "stream",
     "text": [
      "\n"
     ]
    },
    {
     "name": "stdout",
     "output_type": "stream",
     "text": [
      "      97             108         3.526e+01      1.536e-01      2.271e+01      2.733e+02   "
     ]
    },
    {
     "name": "stdout",
     "output_type": "stream",
     "text": [
      "\n"
     ]
    },
    {
     "name": "stdout",
     "output_type": "stream",
     "text": [
      "      98             109         3.523e+01      3.036e-02      3.030e+01      9.161e+01   "
     ]
    },
    {
     "name": "stdout",
     "output_type": "stream",
     "text": [
      "\n"
     ]
    },
    {
     "name": "stdout",
     "output_type": "stream",
     "text": [
      "      99             110         3.510e+01      1.287e-01      2.128e+02      1.169e+02   "
     ]
    },
    {
     "name": "stdout",
     "output_type": "stream",
     "text": [
      "\n"
     ]
    },
    {
     "name": "stdout",
     "output_type": "stream",
     "text": [
      "      100            111         3.504e+01      5.372e-02      6.248e+01      2.586e+01   "
     ]
    },
    {
     "name": "stdout",
     "output_type": "stream",
     "text": [
      "\n"
     ]
    },
    {
     "name": "stdout",
     "output_type": "stream",
     "text": [
      "      101            112         3.389e+01      1.154e+00      4.566e+03      3.651e+03   "
     ]
    },
    {
     "name": "stdout",
     "output_type": "stream",
     "text": [
      "\n"
     ]
    },
    {
     "name": "stdout",
     "output_type": "stream",
     "text": [
      "      102            113         3.313e+01      7.577e-01      2.253e+01      1.369e+03   "
     ]
    },
    {
     "name": "stdout",
     "output_type": "stream",
     "text": [
      "\n"
     ]
    },
    {
     "name": "stdout",
     "output_type": "stream",
     "text": [
      "      103            114         3.285e+01      2.774e-01      2.304e+01      3.022e+02   "
     ]
    },
    {
     "name": "stdout",
     "output_type": "stream",
     "text": [
      "\n"
     ]
    },
    {
     "name": "stdout",
     "output_type": "stream",
     "text": [
      "      104            115         3.280e+01      5.785e-02      4.277e+01      2.578e+02   "
     ]
    },
    {
     "name": "stdout",
     "output_type": "stream",
     "text": [
      "\n"
     ]
    },
    {
     "name": "stdout",
     "output_type": "stream",
     "text": [
      "      105            116         3.276e+01      3.455e-02      2.330e+01      1.013e+02   "
     ]
    },
    {
     "name": "stdout",
     "output_type": "stream",
     "text": [
      "\n"
     ]
    },
    {
     "name": "stdout",
     "output_type": "stream",
     "text": [
      "      106            117         3.264e+01      1.189e-01      1.979e+02      1.646e+02   "
     ]
    },
    {
     "name": "stdout",
     "output_type": "stream",
     "text": [
      "\n"
     ]
    },
    {
     "name": "stdout",
     "output_type": "stream",
     "text": [
      "      107            118         3.260e+01      4.200e-02      2.602e+01      7.851e+01   "
     ]
    },
    {
     "name": "stdout",
     "output_type": "stream",
     "text": [
      "\n"
     ]
    },
    {
     "name": "stdout",
     "output_type": "stream",
     "text": [
      "      108            119         3.256e+01      4.413e-02      9.482e+01      1.381e+02   "
     ]
    },
    {
     "name": "stdout",
     "output_type": "stream",
     "text": [
      "\n"
     ]
    },
    {
     "name": "stdout",
     "output_type": "stream",
     "text": [
      "      109            120         3.251e+01      4.388e-02      3.433e+01      2.352e+01   "
     ]
    },
    {
     "name": "stdout",
     "output_type": "stream",
     "text": [
      "\n"
     ]
    },
    {
     "name": "stdout",
     "output_type": "stream",
     "text": [
      "      110            122         3.213e+01      3.832e-01      6.404e+02      1.657e+02   "
     ]
    },
    {
     "name": "stdout",
     "output_type": "stream",
     "text": [
      "\n"
     ]
    },
    {
     "name": "stdout",
     "output_type": "stream",
     "text": [
      "      111            123         3.210e+01      3.389e-02      5.093e+01      1.460e+02   "
     ]
    },
    {
     "name": "stdout",
     "output_type": "stream",
     "text": [
      "\n"
     ]
    },
    {
     "name": "stdout",
     "output_type": "stream",
     "text": [
      "      112            124         3.204e+01      5.508e-02      3.524e+01      4.869e+01   "
     ]
    },
    {
     "name": "stdout",
     "output_type": "stream",
     "text": [
      "\n"
     ]
    },
    {
     "name": "stdout",
     "output_type": "stream",
     "text": [
      "      113            125         3.197e+01      6.719e-02      1.686e+02      2.257e+02   "
     ]
    },
    {
     "name": "stdout",
     "output_type": "stream",
     "text": [
      "\n"
     ]
    },
    {
     "name": "stdout",
     "output_type": "stream",
     "text": [
      "      114            126         3.193e+01      4.515e-02      2.325e+01      6.207e+01   "
     ]
    },
    {
     "name": "stdout",
     "output_type": "stream",
     "text": [
      "\n"
     ]
    },
    {
     "name": "stdout",
     "output_type": "stream",
     "text": [
      "      115            127         3.183e+01      1.016e-01      1.694e+02      1.587e+02   "
     ]
    },
    {
     "name": "stdout",
     "output_type": "stream",
     "text": [
      "\n"
     ]
    },
    {
     "name": "stdout",
     "output_type": "stream",
     "text": [
      "      116            128         3.179e+01      3.256e-02      3.359e+01      2.310e+01   "
     ]
    },
    {
     "name": "stdout",
     "output_type": "stream",
     "text": [
      "\n"
     ]
    },
    {
     "name": "stdout",
     "output_type": "stream",
     "text": [
      "      117            129         3.161e+01      1.787e-01      1.320e+03      1.918e+03   "
     ]
    },
    {
     "name": "stdout",
     "output_type": "stream",
     "text": [
      "\n"
     ]
    },
    {
     "name": "stdout",
     "output_type": "stream",
     "text": [
      "      118            130         3.110e+01      5.166e-01      2.639e+01      5.288e+02   "
     ]
    },
    {
     "name": "stdout",
     "output_type": "stream",
     "text": [
      "\n"
     ]
    },
    {
     "name": "stdout",
     "output_type": "stream",
     "text": [
      "      119            131         3.098e+01      1.144e-01      2.122e+01      3.496e+02   "
     ]
    },
    {
     "name": "stdout",
     "output_type": "stream",
     "text": [
      "\n"
     ]
    },
    {
     "name": "stdout",
     "output_type": "stream",
     "text": [
      "      120            132         3.097e+01      8.834e-03      2.209e+01      1.921e+02   "
     ]
    },
    {
     "name": "stdout",
     "output_type": "stream",
     "text": [
      "\n"
     ]
    },
    {
     "name": "stdout",
     "output_type": "stream",
     "text": [
      "Warning: Maximum number of iterations has been exceeded."
     ]
    },
    {
     "name": "stdout",
     "output_type": "stream",
     "text": [
      "\n"
     ]
    },
    {
     "name": "stdout",
     "output_type": "stream",
     "text": [
      "         Current function value: 3.097e+01"
     ]
    },
    {
     "name": "stdout",
     "output_type": "stream",
     "text": [
      "\n"
     ]
    },
    {
     "name": "stdout",
     "output_type": "stream",
     "text": [
      "         Total delta_x: 1.750e+05"
     ]
    },
    {
     "name": "stdout",
     "output_type": "stream",
     "text": [
      "\n"
     ]
    },
    {
     "name": "stdout",
     "output_type": "stream",
     "text": [
      "         Iterations: 120"
     ]
    },
    {
     "name": "stdout",
     "output_type": "stream",
     "text": [
      "\n"
     ]
    },
    {
     "name": "stdout",
     "output_type": "stream",
     "text": [
      "         Function evaluations: 132"
     ]
    },
    {
     "name": "stdout",
     "output_type": "stream",
     "text": [
      "\n"
     ]
    },
    {
     "name": "stdout",
     "output_type": "stream",
     "text": [
      "         Jacobian evaluations: 121"
     ]
    },
    {
     "name": "stdout",
     "output_type": "stream",
     "text": [
      "\n"
     ]
    },
    {
     "name": "stdout",
     "output_type": "stream",
     "text": [
      "Timer: Solution time = 8.59 min"
     ]
    },
    {
     "name": "stdout",
     "output_type": "stream",
     "text": [
      "\n"
     ]
    },
    {
     "name": "stdout",
     "output_type": "stream",
     "text": [
      "Timer: Avg time per step = 4.26 sec"
     ]
    },
    {
     "name": "stdout",
     "output_type": "stream",
     "text": [
      "\n"
     ]
    },
    {
     "name": "stdout",
     "output_type": "stream",
     "text": [
      "=============================================================================================================="
     ]
    },
    {
     "name": "stdout",
     "output_type": "stream",
     "text": [
      "\n"
     ]
    },
    {
     "name": "stdout",
     "output_type": "stream",
     "text": [
      "                                                                 Start  -->   End"
     ]
    },
    {
     "name": "stdout",
     "output_type": "stream",
     "text": [
      "\n"
     ]
    },
    {
     "name": "stdout",
     "output_type": "stream",
     "text": [
      "Total (sum of squares):                                      3.140e+02  -->   3.097e+01, "
     ]
    },
    {
     "name": "stdout",
     "output_type": "stream",
     "text": [
      "\n"
     ]
    },
    {
     "name": "stdout",
     "output_type": "stream",
     "text": [
      "Maximum absolute Boundary normal field error:                3.501e-02  -->   3.951e-02 (T m^2)"
     ]
    },
    {
     "name": "stdout",
     "output_type": "stream",
     "text": [
      "\n"
     ]
    },
    {
     "name": "stdout",
     "output_type": "stream",
     "text": [
      "Minimum absolute Boundary normal field error:                3.129e-17  -->   8.531e-07 (T m^2)"
     ]
    },
    {
     "name": "stdout",
     "output_type": "stream",
     "text": [
      "\n"
     ]
    },
    {
     "name": "stdout",
     "output_type": "stream",
     "text": [
      "Average absolute Boundary normal field error:                1.035e-02  -->   9.034e-03 (T m^2)"
     ]
    },
    {
     "name": "stdout",
     "output_type": "stream",
     "text": [
      "\n"
     ]
    },
    {
     "name": "stdout",
     "output_type": "stream",
     "text": [
      "Maximum absolute Boundary normal field error:                3.169e-01  -->   3.576e-01 (normalized)"
     ]
    },
    {
     "name": "stdout",
     "output_type": "stream",
     "text": [
      "\n"
     ]
    },
    {
     "name": "stdout",
     "output_type": "stream",
     "text": [
      "Minimum absolute Boundary normal field error:                2.832e-16  -->   7.721e-06 (normalized)"
     ]
    },
    {
     "name": "stdout",
     "output_type": "stream",
     "text": [
      "\n"
     ]
    },
    {
     "name": "stdout",
     "output_type": "stream",
     "text": [
      "Average absolute Boundary normal field error:                9.372e-02  -->   8.177e-02 (normalized)"
     ]
    },
    {
     "name": "stdout",
     "output_type": "stream",
     "text": [
      "\n"
     ]
    },
    {
     "name": "stdout",
     "output_type": "stream",
     "text": [
      "Maximum absolute Boundary normal field error:                7.879e-02  -->   3.100e-02 (T m^2)"
     ]
    },
    {
     "name": "stdout",
     "output_type": "stream",
     "text": [
      "\n"
     ]
    },
    {
     "name": "stdout",
     "output_type": "stream",
     "text": [
      "Minimum absolute Boundary normal field error:                2.203e-17  -->   3.908e-06 (T m^2)"
     ]
    },
    {
     "name": "stdout",
     "output_type": "stream",
     "text": [
      "\n"
     ]
    },
    {
     "name": "stdout",
     "output_type": "stream",
     "text": [
      "Average absolute Boundary normal field error:                2.717e-02  -->   6.497e-03 (T m^2)"
     ]
    },
    {
     "name": "stdout",
     "output_type": "stream",
     "text": [
      "\n"
     ]
    },
    {
     "name": "stdout",
     "output_type": "stream",
     "text": [
      "Maximum absolute Boundary normal field error:                1.383e+00  -->   5.440e-01 (normalized)"
     ]
    },
    {
     "name": "stdout",
     "output_type": "stream",
     "text": [
      "\n"
     ]
    },
    {
     "name": "stdout",
     "output_type": "stream",
     "text": [
      "Minimum absolute Boundary normal field error:                3.866e-16  -->   6.858e-05 (normalized)"
     ]
    },
    {
     "name": "stdout",
     "output_type": "stream",
     "text": [
      "\n"
     ]
    },
    {
     "name": "stdout",
     "output_type": "stream",
     "text": [
      "Average absolute Boundary normal field error:                4.768e-01  -->   1.140e-01 (normalized)"
     ]
    },
    {
     "name": "stdout",
     "output_type": "stream",
     "text": [
      "\n"
     ]
    },
    {
     "name": "stdout",
     "output_type": "stream",
     "text": [
      "Maximum Plasma-vessel distance:                              3.257e-01  -->   3.351e-01 (m)"
     ]
    },
    {
     "name": "stdout",
     "output_type": "stream",
     "text": [
      "\n"
     ]
    },
    {
     "name": "stdout",
     "output_type": "stream",
     "text": [
      "Minimum Plasma-vessel distance:                              8.101e-02  -->   7.146e-02 (m)"
     ]
    },
    {
     "name": "stdout",
     "output_type": "stream",
     "text": [
      "\n"
     ]
    },
    {
     "name": "stdout",
     "output_type": "stream",
     "text": [
      "Average Plasma-vessel distance:                              2.011e-01  -->   1.728e-01 (m)"
     ]
    },
    {
     "name": "stdout",
     "output_type": "stream",
     "text": [
      "\n"
     ]
    },
    {
     "name": "stdout",
     "output_type": "stream",
     "text": [
      "Maximum Plasma-vessel distance:                              3.169e+00  -->   3.261e+00 (normalized)"
     ]
    },
    {
     "name": "stdout",
     "output_type": "stream",
     "text": [
      "\n"
     ]
    },
    {
     "name": "stdout",
     "output_type": "stream",
     "text": [
      "Minimum Plasma-vessel distance:                              7.883e-01  -->   6.954e-01 (normalized)"
     ]
    },
    {
     "name": "stdout",
     "output_type": "stream",
     "text": [
      "\n"
     ]
    },
    {
     "name": "stdout",
     "output_type": "stream",
     "text": [
      "Average Plasma-vessel distance:                              1.957e+00  -->   1.682e+00 (normalized)"
     ]
    },
    {
     "name": "stdout",
     "output_type": "stream",
     "text": [
      "\n"
     ]
    },
    {
     "name": "stdout",
     "output_type": "stream",
     "text": [
      "Maximum Plasma-vessel distance:                              3.097e-01  -->   2.890e-01 (m)"
     ]
    },
    {
     "name": "stdout",
     "output_type": "stream",
     "text": [
      "\n"
     ]
    },
    {
     "name": "stdout",
     "output_type": "stream",
     "text": [
      "Minimum Plasma-vessel distance:                              6.063e-02  -->   6.882e-02 (m)"
     ]
    },
    {
     "name": "stdout",
     "output_type": "stream",
     "text": [
      "\n"
     ]
    },
    {
     "name": "stdout",
     "output_type": "stream",
     "text": [
      "Average Plasma-vessel distance:                              1.994e-01  -->   1.736e-01 (m)"
     ]
    },
    {
     "name": "stdout",
     "output_type": "stream",
     "text": [
      "\n"
     ]
    },
    {
     "name": "stdout",
     "output_type": "stream",
     "text": [
      "Maximum Plasma-vessel distance:                              3.235e+00  -->   3.018e+00 (normalized)"
     ]
    },
    {
     "name": "stdout",
     "output_type": "stream",
     "text": [
      "\n"
     ]
    },
    {
     "name": "stdout",
     "output_type": "stream",
     "text": [
      "Minimum Plasma-vessel distance:                              6.333e-01  -->   7.188e-01 (normalized)"
     ]
    },
    {
     "name": "stdout",
     "output_type": "stream",
     "text": [
      "\n"
     ]
    },
    {
     "name": "stdout",
     "output_type": "stream",
     "text": [
      "Average Plasma-vessel distance:                              2.083e+00  -->   1.814e+00 (normalized)"
     ]
    },
    {
     "name": "stdout",
     "output_type": "stream",
     "text": [
      "\n"
     ]
    },
    {
     "name": "stdout",
     "output_type": "stream",
     "text": [
      "Maximum Coil Thickness Regularization:                       2.513e+06  -->   5.273e+06 A/m"
     ]
    },
    {
     "name": "stdout",
     "output_type": "stream",
     "text": [
      "\n"
     ]
    },
    {
     "name": "stdout",
     "output_type": "stream",
     "text": [
      "Minimum Coil Thickness Regularization:                       1.347e+06  -->   7.608e+05 A/m"
     ]
    },
    {
     "name": "stdout",
     "output_type": "stream",
     "text": [
      "\n"
     ]
    },
    {
     "name": "stdout",
     "output_type": "stream",
     "text": [
      "Average Coil Thickness Regularization:                       1.840e+06  -->   2.508e+06 A/m"
     ]
    },
    {
     "name": "stdout",
     "output_type": "stream",
     "text": [
      "\n"
     ]
    },
    {
     "name": "stdout",
     "output_type": "stream",
     "text": [
      "Maximum Coil Thickness Regularization:                       4.881e-01  -->   1.024e+00 (normalized)"
     ]
    },
    {
     "name": "stdout",
     "output_type": "stream",
     "text": [
      "\n"
     ]
    },
    {
     "name": "stdout",
     "output_type": "stream",
     "text": [
      "Minimum Coil Thickness Regularization:                       2.618e-01  -->   1.478e-01 (normalized)"
     ]
    },
    {
     "name": "stdout",
     "output_type": "stream",
     "text": [
      "\n"
     ]
    },
    {
     "name": "stdout",
     "output_type": "stream",
     "text": [
      "Average Coil Thickness Regularization:                       3.575e-01  -->   4.872e-01 (normalized)"
     ]
    },
    {
     "name": "stdout",
     "output_type": "stream",
     "text": [
      "\n"
     ]
    },
    {
     "name": "stdout",
     "output_type": "stream",
     "text": [
      "Maximum Coil Thickness Regularization:                       2.600e+06  -->   5.661e+06 A/m"
     ]
    },
    {
     "name": "stdout",
     "output_type": "stream",
     "text": [
      "\n"
     ]
    },
    {
     "name": "stdout",
     "output_type": "stream",
     "text": [
      "Minimum Coil Thickness Regularization:                       1.394e+06  -->   3.480e+05 A/m"
     ]
    },
    {
     "name": "stdout",
     "output_type": "stream",
     "text": [
      "\n"
     ]
    },
    {
     "name": "stdout",
     "output_type": "stream",
     "text": [
      "Average Coil Thickness Regularization:                       1.904e+06  -->   2.854e+06 A/m"
     ]
    },
    {
     "name": "stdout",
     "output_type": "stream",
     "text": [
      "\n"
     ]
    },
    {
     "name": "stdout",
     "output_type": "stream",
     "text": [
      "Maximum Coil Thickness Regularization:                       4.881e-01  -->   1.063e+00 (normalized)"
     ]
    },
    {
     "name": "stdout",
     "output_type": "stream",
     "text": [
      "\n"
     ]
    },
    {
     "name": "stdout",
     "output_type": "stream",
     "text": [
      "Minimum Coil Thickness Regularization:                       2.618e-01  -->   6.534e-02 (normalized)"
     ]
    },
    {
     "name": "stdout",
     "output_type": "stream",
     "text": [
      "\n"
     ]
    },
    {
     "name": "stdout",
     "output_type": "stream",
     "text": [
      "Average Coil Thickness Regularization:                       3.575e-01  -->   5.358e-01 (normalized)"
     ]
    },
    {
     "name": "stdout",
     "output_type": "stream",
     "text": [
      "\n"
     ]
    },
    {
     "name": "stdout",
     "output_type": "stream",
     "text": [
      "Fixed parameters error:                                      0.000e+00  -->   0.000e+00 (~)"
     ]
    },
    {
     "name": "stdout",
     "output_type": "stream",
     "text": [
      "\n"
     ]
    },
    {
     "name": "stdout",
     "output_type": "stream",
     "text": [
      "Fixed parameters error:                                      0.000e+00  -->   0.000e+00 (~)"
     ]
    },
    {
     "name": "stdout",
     "output_type": "stream",
     "text": [
      "\n"
     ]
    },
    {
     "name": "stdout",
     "output_type": "stream",
     "text": [
      "Shared parameters error:                                     0.000e+00  -->   0.000e+00 (~)"
     ]
    },
    {
     "name": "stdout",
     "output_type": "stream",
     "text": [
      "\n"
     ]
    },
    {
     "name": "stdout",
     "output_type": "stream",
     "text": [
      "=============================================================================================================="
     ]
    },
    {
     "name": "stdout",
     "output_type": "stream",
     "text": [
      "\n"
     ]
    }
   ],
   "source": [
    "# Run optimization\n",
    "(surf1, surf2),_ = opt.optimize([surf1, surf2], \n",
    "                                 objective=obj, \n",
    "                                 constraints=constraints,\n",
    "                                 verbose=3,\n",
    "                                 maxiter=120,\n",
    "                                ftol=0,\n",
    "                                gtol=0,\n",
    "                                xtol=0,\n",
    "                                 options={\"initial_trust_radius\":np.inf})"
   ]
  },
  {
   "cell_type": "code",
   "execution_count": 24,
   "id": "28030b89",
   "metadata": {
    "execution": {
     "iopub.execute_input": "2024-11-13T18:35:44.090152Z",
     "iopub.status.busy": "2024-11-13T18:35:44.090007Z",
     "iopub.status.idle": "2024-11-13T18:35:46.456723Z",
     "shell.execute_reply": "2024-11-13T18:35:46.456392Z"
    }
   },
   "outputs": [
    {
     "name": "stdout",
     "output_type": "stream",
     "text": [
      "<class 'jaxlib.xla_extension.ArrayImpl'>"
     ]
    },
    {
     "name": "stdout",
     "output_type": "stream",
     "text": [
      "\n"
     ]
    },
    {
     "name": "stdout",
     "output_type": "stream",
     "text": [
      "<class 'jaxlib.xla_extension.ArrayImpl'>"
     ]
    },
    {
     "name": "stdout",
     "output_type": "stream",
     "text": [
      "\n"
     ]
    },
    {
     "name": "stdout",
     "output_type": "stream",
     "text": [
      "<class 'jaxlib.xla_extension.ArrayImpl'>"
     ]
    },
    {
     "name": "stdout",
     "output_type": "stream",
     "text": [
      "\n"
     ]
    },
    {
     "name": "stdout",
     "output_type": "stream",
     "text": [
      "<class 'jaxlib.xla_extension.ArrayImpl'>"
     ]
    },
    {
     "name": "stdout",
     "output_type": "stream",
     "text": [
      "\n"
     ]
    },
    {
     "name": "stdout",
     "output_type": "stream",
     "text": [
      "<class 'jaxlib.xla_extension.ArrayImpl'>"
     ]
    },
    {
     "name": "stdout",
     "output_type": "stream",
     "text": [
      "\n"
     ]
    },
    {
     "name": "stdout",
     "output_type": "stream",
     "text": [
      "<class 'jaxlib.xla_extension.ArrayImpl'>"
     ]
    },
    {
     "name": "stdout",
     "output_type": "stream",
     "text": [
      "\n"
     ]
    },
    {
     "data": {
      "text/plain": [
       "(<Figure size 864x720 with 6 Axes>,\n",
       " array([<Axes: title={'center': '$\\\\phi \\\\cdot N_{FP}/2\\\\pi = 0.000$'}, xlabel='$R ~(\\\\mathrm{m})$', ylabel='$Z ~(\\\\mathrm{m})$'>,\n",
       "        <Axes: title={'center': '$\\\\phi \\\\cdot N_{FP}/2\\\\pi = 0.167$'}, xlabel='$R ~(\\\\mathrm{m})$', ylabel='$Z ~(\\\\mathrm{m})$'>,\n",
       "        <Axes: title={'center': '$\\\\phi \\\\cdot N_{FP}/2\\\\pi = 0.333$'}, xlabel='$R ~(\\\\mathrm{m})$', ylabel='$Z ~(\\\\mathrm{m})$'>,\n",
       "        <Axes: title={'center': '$\\\\phi \\\\cdot N_{FP}/2\\\\pi = 0.500$'}, xlabel='$R ~(\\\\mathrm{m})$', ylabel='$Z ~(\\\\mathrm{m})$'>,\n",
       "        <Axes: title={'center': '$\\\\phi \\\\cdot N_{FP}/2\\\\pi = 0.667$'}, xlabel='$R ~(\\\\mathrm{m})$', ylabel='$Z ~(\\\\mathrm{m})$'>,\n",
       "        <Axes: title={'center': '$\\\\phi \\\\cdot N_{FP}/2\\\\pi = 0.833$'}, xlabel='$R ~(\\\\mathrm{m})$', ylabel='$Z ~(\\\\mathrm{m})$'>],\n",
       "       dtype=object))"
      ]
     },
     "execution_count": 24,
     "metadata": {},
     "output_type": "execute_result"
    },
    {
     "data": {
      "image/png": "[encoded data removed]",
      "text/plain": [
       "<Figure size 864x720 with 6 Axes>"
      ]
     },
     "metadata": {},
     "output_type": "display_data"
    }
   ],
   "source": [
    "plot_comparison([surf1,\n",
    "                 eq_QA,\n",
    "                 eq_QH\n",
    "                ],\n",
    "                labels=[\"WS\",\"RQA\",\"RQH\"],\n",
    "                theta=0,rho=np.array(1.0)\n",
    "               )"
   ]
  },
  {
   "cell_type": "code",
   "execution_count": 25,
   "id": "ac619a24",
   "metadata": {
    "execution": {
     "iopub.execute_input": "2024-11-13T18:35:46.458423Z",
     "iopub.status.busy": "2024-11-13T18:35:46.458279Z",
     "iopub.status.idle": "2024-11-13T18:35:46.460661Z",
     "shell.execute_reply": "2024-11-13T18:35:46.460359Z"
    }
   },
   "outputs": [],
   "source": [
    "#surf1.save(\"surf_opt.h5\")"
   ]
  },
  {
   "cell_type": "code",
   "execution_count": 26,
   "id": "1f1afe13",
   "metadata": {
    "execution": {
     "iopub.execute_input": "2024-11-13T18:35:46.462062Z",
     "iopub.status.busy": "2024-11-13T18:35:46.461935Z",
     "iopub.status.idle": "2024-11-13T18:35:46.465360Z",
     "shell.execute_reply": "2024-11-13T18:35:46.465079Z"
    }
   },
   "outputs": [
    {
     "data": {
      "text/plain": [
       "5.903363251523724e-11"
      ]
     },
     "execution_count": 26,
     "metadata": {},
     "output_type": "execute_result"
    }
   ],
   "source": [
    "surf1.I"
   ]
  },
  {
   "cell_type": "code",
   "execution_count": 27,
   "id": "b89cbf47",
   "metadata": {
    "execution": {
     "iopub.execute_input": "2024-11-13T18:35:46.466971Z",
     "iopub.status.busy": "2024-11-13T18:35:46.466833Z",
     "iopub.status.idle": "2024-11-13T18:35:46.470307Z",
     "shell.execute_reply": "2024-11-13T18:35:46.470024Z"
    }
   },
   "outputs": [
    {
     "data": {
      "text/plain": [
       "-3827.5434680601493"
      ]
     },
     "execution_count": 27,
     "metadata": {},
     "output_type": "execute_result"
    }
   ],
   "source": [
    "surf2.I"
   ]
  },
  {
   "cell_type": "code",
   "execution_count": 28,
   "id": "96069e32",
   "metadata": {
    "execution": {
     "iopub.execute_input": "2024-11-13T18:35:46.471706Z",
     "iopub.status.busy": "2024-11-13T18:35:46.471580Z",
     "iopub.status.idle": "2024-11-13T18:35:48.516377Z",
     "shell.execute_reply": "2024-11-13T18:35:48.516046Z"
    },
    "scrolled": true
   },
   "outputs": [
    {
     "name": "stdout",
     "output_type": "stream",
     "text": [
      "<class 'jaxlib.xla_extension.ArrayImpl'>"
     ]
    },
    {
     "name": "stdout",
     "output_type": "stream",
     "text": [
      "\n"
     ]
    },
    {
     "name": "stdout",
     "output_type": "stream",
     "text": [
      "<class 'jaxlib.xla_extension.ArrayImpl'>"
     ]
    },
    {
     "name": "stdout",
     "output_type": "stream",
     "text": [
      "\n"
     ]
    },
    {
     "name": "stdout",
     "output_type": "stream",
     "text": [
      "<class 'jaxlib.xla_extension.ArrayImpl'>"
     ]
    },
    {
     "name": "stdout",
     "output_type": "stream",
     "text": [
      "\n"
     ]
    },
    {
     "name": "stdout",
     "output_type": "stream",
     "text": [
      "<class 'jaxlib.xla_extension.ArrayImpl'>"
     ]
    },
    {
     "name": "stdout",
     "output_type": "stream",
     "text": [
      "\n"
     ]
    },
    {
     "data": {
      "text/plain": [
       "(<Figure size 864x720 with 6 Axes>,\n",
       " array([<Axes: title={'center': '$\\\\phi \\\\cdot N_{FP}/2\\\\pi = 0.000$'}, xlabel='$R ~(\\\\mathrm{m})$', ylabel='$Z ~(\\\\mathrm{m})$'>,\n",
       "        <Axes: title={'center': '$\\\\phi \\\\cdot N_{FP}/2\\\\pi = 0.167$'}, xlabel='$R ~(\\\\mathrm{m})$', ylabel='$Z ~(\\\\mathrm{m})$'>,\n",
       "        <Axes: title={'center': '$\\\\phi \\\\cdot N_{FP}/2\\\\pi = 0.333$'}, xlabel='$R ~(\\\\mathrm{m})$', ylabel='$Z ~(\\\\mathrm{m})$'>,\n",
       "        <Axes: title={'center': '$\\\\phi \\\\cdot N_{FP}/2\\\\pi = 0.500$'}, xlabel='$R ~(\\\\mathrm{m})$', ylabel='$Z ~(\\\\mathrm{m})$'>,\n",
       "        <Axes: title={'center': '$\\\\phi \\\\cdot N_{FP}/2\\\\pi = 0.667$'}, xlabel='$R ~(\\\\mathrm{m})$', ylabel='$Z ~(\\\\mathrm{m})$'>,\n",
       "        <Axes: title={'center': '$\\\\phi \\\\cdot N_{FP}/2\\\\pi = 0.833$'}, xlabel='$R ~(\\\\mathrm{m})$', ylabel='$Z ~(\\\\mathrm{m})$'>],\n",
       "       dtype=object))"
      ]
     },
     "execution_count": 28,
     "metadata": {},
     "output_type": "execute_result"
    },
    {
     "data": {
      "image/png": "[encoded data removed]",
      "text/plain": [
       "<Figure size 864x720 with 6 Axes>"
      ]
     },
     "metadata": {},
     "output_type": "display_data"
    }
   ],
   "source": [
    "plot_comparison([surf,surf1],\n",
    "                labels=[\"OWS\",\"NWS\"],\n",
    "                theta=0,rho=np.array(1.0)\n",
    "               )"
   ]
  },
  {
   "cell_type": "code",
   "execution_count": 29,
   "id": "871c8c00",
   "metadata": {
    "execution": {
     "iopub.execute_input": "2024-11-13T18:35:48.518067Z",
     "iopub.status.busy": "2024-11-13T18:35:48.517927Z",
     "iopub.status.idle": "2024-11-13T18:36:06.497918Z",
     "shell.execute_reply": "2024-11-13T18:36:06.496703Z"
    },
    "scrolled": false
   },
   "outputs": [
    {
     "name": "stdout",
     "output_type": "stream",
     "text": [
      "<class 'numpy.ndarray'>"
     ]
    },
    {
     "name": "stdout",
     "output_type": "stream",
     "text": [
      "\n"
     ]
    },
    {
     "name": "stdout",
     "output_type": "stream",
     "text": [
      "<class 'numpy.ndarray'>"
     ]
    },
    {
     "name": "stdout",
     "output_type": "stream",
     "text": [
      "\n"
     ]
    },
    {
     "name": "stdout",
     "output_type": "stream",
     "text": [
      "<class 'numpy.ndarray'>"
     ]
    },
    {
     "name": "stdout",
     "output_type": "stream",
     "text": [
      "\n"
     ]
    },
    {
     "name": "stdout",
     "output_type": "stream",
     "text": [
      "<class 'numpy.ndarray'>"
     ]
    },
    {
     "name": "stdout",
     "output_type": "stream",
     "text": [
      "\n"
     ]
    },
    {
     "name": "stdout",
     "output_type": "stream",
     "text": [
      "<class 'numpy.ndarray'>"
     ]
    },
    {
     "name": "stdout",
     "output_type": "stream",
     "text": [
      "\n"
     ]
    },
    {
     "name": "stdout",
     "output_type": "stream",
     "text": [
      "<class 'numpy.ndarray'>"
     ]
    },
    {
     "name": "stdout",
     "output_type": "stream",
     "text": [
      "\n"
     ]
    },
    {
     "name": "stdout",
     "output_type": "stream",
     "text": [
      "<class 'numpy.ndarray'>"
     ]
    },
    {
     "name": "stdout",
     "output_type": "stream",
     "text": [
      "\n"
     ]
    },
    {
     "name": "stdout",
     "output_type": "stream",
     "text": [
      "<class 'numpy.ndarray'>"
     ]
    },
    {
     "name": "stdout",
     "output_type": "stream",
     "text": [
      "\n"
     ]
    },
    {
     "name": "stdout",
     "output_type": "stream",
     "text": [
      "<class 'numpy.ndarray'>"
     ]
    },
    {
     "name": "stdout",
     "output_type": "stream",
     "text": [
      "\n"
     ]
    },
    {
     "name": "stdout",
     "output_type": "stream",
     "text": [
      "<class 'numpy.ndarray'>"
     ]
    },
    {
     "name": "stdout",
     "output_type": "stream",
     "text": [
      "\n"
     ]
    },
    {
     "name": "stdout",
     "output_type": "stream",
     "text": [
      "<class 'numpy.ndarray'>"
     ]
    },
    {
     "name": "stdout",
     "output_type": "stream",
     "text": [
      "\n"
     ]
    },
    {
     "name": "stdout",
     "output_type": "stream",
     "text": [
      "<class 'numpy.ndarray'>"
     ]
    },
    {
     "name": "stdout",
     "output_type": "stream",
     "text": [
      "\n"
     ]
    },
    {
     "name": "stdout",
     "output_type": "stream",
     "text": [
      "<class 'numpy.ndarray'>"
     ]
    },
    {
     "name": "stdout",
     "output_type": "stream",
     "text": [
      "\n"
     ]
    },
    {
     "name": "stdout",
     "output_type": "stream",
     "text": [
      "<class 'numpy.ndarray'>"
     ]
    },
    {
     "name": "stdout",
     "output_type": "stream",
     "text": [
      "\n"
     ]
    },
    {
     "name": "stdout",
     "output_type": "stream",
     "text": [
      "<class 'numpy.ndarray'>"
     ]
    },
    {
     "name": "stdout",
     "output_type": "stream",
     "text": [
      "\n"
     ]
    },
    {
     "name": "stdout",
     "output_type": "stream",
     "text": [
      "<class 'numpy.ndarray'>"
     ]
    },
    {
     "name": "stdout",
     "output_type": "stream",
     "text": [
      "\n"
     ]
    },
    {
     "name": "stdout",
     "output_type": "stream",
     "text": [
      "<class 'numpy.ndarray'>"
     ]
    },
    {
     "name": "stdout",
     "output_type": "stream",
     "text": [
      "\n"
     ]
    },
    {
     "name": "stdout",
     "output_type": "stream",
     "text": [
      "<class 'numpy.ndarray'>"
     ]
    },
    {
     "name": "stdout",
     "output_type": "stream",
     "text": [
      "\n"
     ]
    },
    {
     "name": "stdout",
     "output_type": "stream",
     "text": [
      "<class 'numpy.ndarray'>"
     ]
    },
    {
     "name": "stdout",
     "output_type": "stream",
     "text": [
      "\n"
     ]
    },
    {
     "name": "stdout",
     "output_type": "stream",
     "text": [
      "<class 'numpy.ndarray'>"
     ]
    },
    {
     "name": "stdout",
     "output_type": "stream",
     "text": [
      "\n"
     ]
    },
    {
     "name": "stdout",
     "output_type": "stream",
     "text": [
      "<class 'numpy.ndarray'>"
     ]
    },
    {
     "name": "stdout",
     "output_type": "stream",
     "text": [
      "\n"
     ]
    },
    {
     "name": "stdout",
     "output_type": "stream",
     "text": [
      "<class 'numpy.ndarray'>"
     ]
    },
    {
     "name": "stdout",
     "output_type": "stream",
     "text": [
      "\n"
     ]
    },
    {
     "name": "stdout",
     "output_type": "stream",
     "text": [
      "<class 'numpy.ndarray'>"
     ]
    },
    {
     "name": "stdout",
     "output_type": "stream",
     "text": [
      "\n"
     ]
    },
    {
     "name": "stdout",
     "output_type": "stream",
     "text": [
      "<class 'numpy.ndarray'>"
     ]
    },
    {
     "name": "stdout",
     "output_type": "stream",
     "text": [
      "\n"
     ]
    },
    {
     "name": "stdout",
     "output_type": "stream",
     "text": [
      "<class 'numpy.ndarray'>"
     ]
    },
    {
     "name": "stdout",
     "output_type": "stream",
     "text": [
      "\n"
     ]
    },
    {
     "name": "stdout",
     "output_type": "stream",
     "text": [
      "<class 'numpy.ndarray'>"
     ]
    },
    {
     "name": "stdout",
     "output_type": "stream",
     "text": [
      "\n"
     ]
    },
    {
     "data": {
      "text/plain": [
       "Text(0.5, 1.0, 'K surf2')"
      ]
     },
     "execution_count": 29,
     "metadata": {},
     "output_type": "execute_result"
    },
    {
     "data": {
      "image/png": "[encoded data removed]",
      "text/plain": [
       "<Figure size 432x432 with 2 Axes>"
      ]
     },
     "metadata": {},
     "output_type": "display_data"
    },
    {
     "data": {
      "image/png": "[encoded data removed]",
      "text/plain": [
       "<Figure size 432x432 with 2 Axes>"
      ]
     },
     "metadata": {},
     "output_type": "display_data"
    },
    {
     "data": {
      "image/png": "[encoded data removed]",
      "text/plain": [
       "<Figure size 432x432 with 2 Axes>"
      ]
     },
     "metadata": {},
     "output_type": "display_data"
    },
    {
     "data": {
      "image/png": "[encoded data removed]",
      "text/plain": [
       "<Figure size 432x432 with 2 Axes>"
      ]
     },
     "metadata": {},
     "output_type": "display_data"
    }
   ],
   "source": [
    "# look at Phi and Bn\n",
    "denser_source_grid = LinearGrid(M=60,N=60,\n",
    "                                NFP=eq_QA.NFP\n",
    "                               )\n",
    "plot_2d(eq_QA,\"B*n\",field=surf1, field_grid=denser_source_grid)\n",
    "plt.title(\"Eq 1 Bn error from surf1\")\n",
    "\n",
    "plot_2d(surf1, \"K\")\n",
    "plt.title(\"K surf1\")\n",
    "\n",
    "plot_2d(eq_QH,\"B*n\",field=surf2, field_grid=denser_source_grid)\n",
    "plt.title(\"Eq 2 Bn error from surf2\")\n",
    "\n",
    "plot_2d(surf2, \"K\")\n",
    "plt.title(\"K surf2\")"
   ]
  },
  {
   "cell_type": "code",
   "execution_count": 30,
   "id": "e16fb8e4",
   "metadata": {
    "execution": {
     "iopub.execute_input": "2024-11-13T18:36:06.509129Z",
     "iopub.status.busy": "2024-11-13T18:36:06.508942Z",
     "iopub.status.idle": "2024-11-13T18:37:28.526228Z",
     "shell.execute_reply": "2024-11-13T18:37:28.525799Z"
    }
   },
   "outputs": [
    {
     "name": "stdout",
     "output_type": "stream",
     "text": [
      "<class 'numpy.ndarray'>"
     ]
    },
    {
     "name": "stdout",
     "output_type": "stream",
     "text": [
      "\n"
     ]
    },
    {
     "name": "stdout",
     "output_type": "stream",
     "text": [
      "<class 'numpy.ndarray'>"
     ]
    },
    {
     "name": "stdout",
     "output_type": "stream",
     "text": [
      "\n"
     ]
    },
    {
     "name": "stdout",
     "output_type": "stream",
     "text": [
      "<class 'numpy.ndarray'>"
     ]
    },
    {
     "name": "stdout",
     "output_type": "stream",
     "text": [
      "\n"
     ]
    },
    {
     "data": {
      "image/png": "[encoded data removed]",
      "text/plain": [
       "<Figure size 432x360 with 2 Axes>"
      ]
     },
     "metadata": {},
     "output_type": "display_data"
    }
   ],
   "source": [
    "b_QA = surf1.compute(\"b_s\",grid = denser_source_grid)[\"b_s\"]\n",
    "\n",
    "plot_figure2(b_QA,\n",
    "            denser_source_grid,\n",
    "            ''r'$b_{QA}$ '\n",
    "           )"
   ]
  },
  {
   "cell_type": "code",
   "execution_count": 31,
   "id": "c394d267",
   "metadata": {
    "execution": {
     "iopub.execute_input": "2024-11-13T18:37:28.528245Z",
     "iopub.status.busy": "2024-11-13T18:37:28.528094Z",
     "iopub.status.idle": "2024-11-13T18:38:46.103106Z",
     "shell.execute_reply": "2024-11-13T18:38:46.102678Z"
    }
   },
   "outputs": [
    {
     "name": "stdout",
     "output_type": "stream",
     "text": [
      "<class 'numpy.ndarray'>"
     ]
    },
    {
     "name": "stdout",
     "output_type": "stream",
     "text": [
      "\n"
     ]
    },
    {
     "name": "stdout",
     "output_type": "stream",
     "text": [
      "<class 'numpy.ndarray'>"
     ]
    },
    {
     "name": "stdout",
     "output_type": "stream",
     "text": [
      "\n"
     ]
    },
    {
     "name": "stdout",
     "output_type": "stream",
     "text": [
      "<class 'numpy.ndarray'>"
     ]
    },
    {
     "name": "stdout",
     "output_type": "stream",
     "text": [
      "\n"
     ]
    },
    {
     "data": {
      "image/png": "[encoded data removed]",
      "text/plain": [
       "<Figure size 432x360 with 2 Axes>"
      ]
     },
     "metadata": {},
     "output_type": "display_data"
    }
   ],
   "source": [
    "b_QH = surf2.compute(\"b_s\",grid = denser_source_grid)[\"b_s\"]\n",
    "\n",
    "plot_figure2(b_QH,\n",
    "            denser_source_grid,\n",
    "            ''r'$b_{QH}$ '\n",
    "           )"
   ]
  }
 ],
 "metadata": {
  "kernelspec": {
   "display_name": "Python 3 (ipykernel)",
   "language": "python",
   "name": "python3"
  },
  "language_info": {
   "codemirror_mode": {
    "name": "ipython",
    "version": 3
   },
   "file_extension": ".py",
   "mimetype": "text/x-python",
   "name": "python",
   "nbconvert_exporter": "python",
   "pygments_lexer": "ipython3",
   "version": "3.11.0"
  }
 },
 "nbformat": 4,
 "nbformat_minor": 5
}
