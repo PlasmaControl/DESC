{
 "cells": [
  {
   "cell_type": "markdown",
   "id": "aaa2cb32-b4d9-43da-91e2-5b1f8f2a26e3",
   "metadata": {
    "tags": []
   },
   "source": [
    "# `magnetic_fields.py`"
   ]
  },
  {
   "cell_type": "markdown",
   "id": "a2155d59-942c-4263-8295-9a851b4143fc",
   "metadata": {},
   "source": []
  },
  {
   "cell_type": "code",
   "execution_count": null,
   "id": "76ea7fa2-e5ce-42aa-a866-139bd2050064",
   "metadata": {},
   "outputs": [],
   "source": []
  }
 ],
 "metadata": {
  "kernelspec": {
   "display_name": "Python 3 (ipykernel)",
   "language": "python",
   "name": "python3"
  },
  "language_info": {
   "codemirror_mode": {
    "name": "ipython",
    "version": 3
   },
   "file_extension": ".py",
   "mimetype": "text/x-python",
   "name": "python",
   "nbconvert_exporter": "python",
   "pygments_lexer": "ipython3",
   "version": "3.8.5"
  }
 },
 "nbformat": 4,
 "nbformat_minor": 5
}
