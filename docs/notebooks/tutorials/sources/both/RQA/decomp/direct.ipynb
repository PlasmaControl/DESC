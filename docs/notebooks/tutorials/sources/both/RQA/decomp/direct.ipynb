{
 "cells": [
  {
   "cell_type": "code",
   "execution_count": 1,
   "id": "c3bfcfee",
   "metadata": {},
   "outputs": [
    {
     "ename": "ModuleNotFoundError",
     "evalue": "No module named 'desc'",
     "output_type": "error",
     "traceback": [
      "\u001b[0;31m---------------------------------------------------------------------------\u001b[0m",
      "\u001b[0;31mModuleNotFoundError\u001b[0m                       Traceback (most recent call last)",
      "Cell \u001b[0;32mIn[1], line 1\u001b[0m\n\u001b[0;32m----> 1\u001b[0m \u001b[38;5;28;01mfrom\u001b[39;00m \u001b[38;5;21;01mdesc\u001b[39;00m \u001b[38;5;28;01mimport\u001b[39;00m set_device\n\u001b[1;32m      2\u001b[0m set_device(\u001b[38;5;124m\"\u001b[39m\u001b[38;5;124mgpu\u001b[39m\u001b[38;5;124m\"\u001b[39m)\n",
      "\u001b[0;31mModuleNotFoundError\u001b[0m: No module named 'desc'"
     ]
    }
   ],
   "source": [
    "from desc import set_device\n",
    "set_device(\"gpu\")"
   ]
  },
  {
   "cell_type": "code",
   "execution_count": null,
   "id": "9ce0c44f",
   "metadata": {},
   "outputs": [],
   "source": [
    "import numpy as np\n",
    "import os\n",
    "\n",
    "from scipy.io import netcdf_file\n",
    "import copy\n",
    "import matplotlib\n",
    "import matplotlib.pyplot as plt\n",
    "import scipy\n",
    "import sys\n",
    "import functools\n",
    "import pickle\n",
    "\n",
    "import jax\n",
    "import jax.numpy as jnp\n",
    "from jax import jit, jacfwd\n",
    "\n",
    "from netCDF4 import Dataset\n",
    "\n",
    "from desc.backend import put, fori_loop, jnp, sign\n",
    "\n",
    "from desc.basis import FourierZernikeBasis, DoubleFourierSeries, FourierSeries\n",
    "\n",
    "from desc.equilibrium import EquilibriaFamily, Equilibrium\n",
    "from desc.grid import ConcentricGrid, LinearGrid, Grid, QuadratureGrid\n",
    "from desc.io import InputReader, load\n",
    "#from desc.plotting import plot_1d, plot_2d, plot_3d, plot_section, plot_surfaces, plot_comparison\n",
    "\n",
    "from desc.plotting import *\n",
    "\n",
    "from desc.transform import Transform\n",
    "from desc.vmec import VMECIO\n",
    "from desc.derivatives import Derivative\n",
    "from desc.geometry import FourierRZToroidalSurface\n",
    "import desc.examples\n",
    "\n",
    "from desc.backend import fori_loop, jit, jnp, odeint, sign\n",
    "from desc.compute import rpz2xyz, rpz2xyz_vec, xyz2rpz, xyz2rpz_vec\n",
    "from desc.coils import *\n",
    "\n",
    "from desc.utils import flatten_list, Timer, copy_coeffs, errorif, setdefault, svd_inv_null, warnif, cross, dot\n",
    "\n",
    "from desc.optimize import lsqtr, lsq_auglag\n",
    "\n",
    "from desc.magnetic_fields import FourierCurrentPotentialField\n",
    "\n",
    "import time\n",
    "\n",
    "import numpy as np\n",
    "from numpy import ndarray\n",
    "\n",
    "from desc.fns_simp import (plot_figure,\n",
    "                           plot_figure2,\n",
    "                            plot_xy,\n",
    "                           surf_int,\n",
    "                           _compute_magnetic_field_from_Current)\n",
    "\n",
    "from find_sour import iso_coords_interp, bn_res, B_sour, K_sour, interp_grid, add_extra_coords, add_extra_periodic"
   ]
  },
  {
   "cell_type": "code",
   "execution_count": null,
   "id": "6a5c1a72",
   "metadata": {
    "scrolled": true
   },
   "outputs": [],
   "source": [
    "# Plasma surfaces\n",
    "#eqname_QA = \"/scratch/gpfs/fcastro/LMStell/regcoil/rogerio/input.QA_final_output.h5\" #vacuum equilibrium\n",
    "eqname_QA = \"input.QA_final_output.h5\" #vacuum equilibrium\n",
    "eq_QA = desc.io.load(eqname_QA)[4]\n",
    "\n",
    "eq = eq_QA\n",
    "\n",
    "name = 'iso_coords/'\n",
    "# Winding surface\n",
    "surf_winding = load(name + \"surf.h5\")\n",
    "\n",
    "# Plot both surfaces\n",
    "plot_comparison([surf_winding,eq],labels=[\"surf\",\"eq\"],theta=0,rho=np.array(1.0))"
   ]
  },
  {
   "cell_type": "code",
   "execution_count": null,
   "id": "84a7ac2e",
   "metadata": {},
   "outputs": [],
   "source": [
    "# Evaluate Green's function for flat tori\n",
    "sgrid = LinearGrid(M = 100, N = 150,\n",
    "                   NFP = surf_winding.NFP,\n",
    "                  )\n",
    "sdata = surf_winding.compute([\"theta\",\"zeta\", \"e^theta_s\",\"e^zeta_s\"], grid = sgrid)\n",
    "sdata = iso_coords_interp(name, sdata, sgrid, surf_winding)\n",
    "\n",
    "G = np.load(name + \"G.npy\")\n",
    "K_sec = G * cross(sdata[\"n_rho\"], sdata[\"e^u_s\"])\n",
    "K_sv = surf_winding.compute([\"K\"],grid = sgrid)[\"K\"]"
   ]
  },
  {
   "cell_type": "code",
   "execution_count": null,
   "id": "27c302ac-efe7-434c-a5c5-dca6002d0a2c",
   "metadata": {},
   "outputs": [],
   "source": [
    "sgrid2 = Grid(nodes = jnp.vstack((sgrid.nodes[:,0],\n",
    "                                        sgrid.nodes[:,1],\n",
    "                                        sgrid.nodes[:,2] + (2*np.pi/surf_winding.NFP)*1)).T\n",
    "                    )\n",
    "sgrid3 = Grid(nodes = jnp.vstack((sgrid.nodes[:,0],\n",
    "                                        sgrid.nodes[:,1],\n",
    "                                        sgrid.nodes[:,2] + (2*np.pi/surf_winding.NFP)*2)).T\n",
    "                    )\n",
    "\n",
    "sdata2 = surf_winding.compute([\"theta\",\"zeta\", \"e^theta_s\",\"e^zeta_s\"], grid = sgrid2)\n",
    "sdata2 = iso_coords_interp(name, sdata2, sgrid2, surf_winding)\n",
    "\n",
    "sdata3 = surf_winding.compute([\"theta\",\"zeta\", \"e^theta_s\",\"e^zeta_s\"], grid = sgrid3)\n",
    "sdata3 = iso_coords_interp(name, sdata3, sgrid3, surf_winding)"
   ]
  },
  {
   "cell_type": "code",
   "execution_count": null,
   "id": "0813a4ee",
   "metadata": {},
   "outputs": [],
   "source": [
    "# Confirm that variables have the same shape\n",
    "plot_figure2(sdata[\"u_iso\"],sgrid,''r' $ u(\\theta,\\zeta)$ ')\n",
    "plot_figure2(sdata[\"v_iso\"],sgrid,''r' $ v(\\theta,\\zeta)$ ')\n",
    "#plot_figure2(sdata[\"lambda_iso\"],sgrid,''r' $ \\lambda $ ')\n",
    "\n",
    "#plot_figure2(sdata2[\"u_iso\"],sgrid2,''r' $ u(\\theta,\\zeta)$ ')\n",
    "#plot_figure2(sdata2[\"v_iso\"],sgrid2,''r' $ v(\\theta,\\zeta)$ ')\n",
    "\n",
    "#plot_figure2(sdata3[\"u_iso\"],sgrid3,''r' $ u(\\theta,\\zeta)$ ')\n",
    "#plot_figure2(sdata3[\"v_iso\"],sgrid3,''r' $ v(\\theta,\\zeta)$ ')"
   ]
  },
  {
   "cell_type": "code",
   "execution_count": null,
   "id": "e476d15d",
   "metadata": {},
   "outputs": [],
   "source": [
    "eps = 1e-2\n",
    "dt = eps\n",
    "dz = eps\n",
    "d0 = eps/3"
   ]
  },
  {
   "cell_type": "code",
   "execution_count": null,
   "id": "07215265-ba1d-49f8-bbc6-a0d64301841e",
   "metadata": {},
   "outputs": [],
   "source": [
    "grid_M = 40\n",
    "grid_N = 40"
   ]
  },
  {
   "cell_type": "code",
   "execution_count": null,
   "id": "3b07dc21",
   "metadata": {},
   "outputs": [],
   "source": [
    "egrid = LinearGrid(M = grid_M, N = grid_N, NFP = eq.NFP)\n",
    "edata = eq.compute([\"n_rho\",\"B\"], grid = egrid)\n",
    "\n",
    "#B_s = edata[\"B\"]\n",
    "B_sec = np.load('iso_coords/B_sec_'+str(grid_M)+'x'+str(grid_N)+'.npy')\n",
    "#_compute_magnetic_field_from_Current( sgrid, K_sec, surf_winding, eq, egrid, basis = \"rpz\" )\n",
    "B_s = _compute_magnetic_field_from_Current( sgrid, K_sv, surf_winding, eq, egrid, basis = \"rpz\" )\n",
    "#B_s = _compute_magnetic_field_from_Current( sgrid, K_sec, surf_winding, eq, egrid, basis = \"rpz\" )\n",
    "rhs = jnp.concatenate((B_s[:,0],B_s[:,1],B_s[:,2],\n",
    "                      jnp.asarray([0])))\n",
    "#- dot( edata[\"n_rho\"],  B_sec )"
   ]
  },
  {
   "cell_type": "code",
   "execution_count": null,
   "id": "abfdc6a5",
   "metadata": {},
   "outputs": [],
   "source": [
    "plot_figure2( dot(K_sec,K_sec) ** (1/2), sgrid,''r' $ | \\mathbf{K_{sec}} |$ ')\n",
    "plot_figure2( dot(B_s,B_s) ** (1/2), egrid,''r' $ | \\mathbf{B_{s}} |$ ')\n",
    "#plot_figure2( rhs, egrid, ''r' $ \\mathbf{B_{sec} \\cdot n}$ ' )"
   ]
  },
  {
   "cell_type": "code",
   "execution_count": null,
   "id": "f4cd9266",
   "metadata": {},
   "outputs": [],
   "source": [
    "N = 20 # Terms toa pproximate the infinite series\n",
    "\n",
    "# Numer of dipoles\n",
    "sMv = np.asarray([10,]) # Poloidal direction\n",
    "sNv = np.asarray([10,]) # Toroidal direction"
   ]
  },
  {
   "cell_type": "code",
   "execution_count": null,
   "id": "90f8c07f-48a6-4143-b10c-e5784842410b",
   "metadata": {},
   "outputs": [],
   "source": [
    "p_M = sMv[0]\n",
    "p_N = sNv[0]\n",
    "\n",
    "theta = jnp.linspace(2 * jnp.pi * (1 / (p_M * 2)) * 1/2,\n",
    "                         2 * jnp.pi * (1 - 1 / (p_M * 2) * 1/2),\n",
    "                         p_M * 2)\n",
    "\n",
    "zeta = jnp.linspace(2 * jnp.pi / surf_winding.NFP * (1 / (p_N * 2)) * 1/2,\n",
    "                        2 * jnp.pi / surf_winding.NFP * (1 - 1 / (p_N * 2) * 1/2),\n",
    "                        p_N * 2,)\n",
    "\n",
    "name = \"iso_coords/\"\n",
    "s_data = interp_grid(theta, zeta, surf_winding, name)\n",
    "\n",
    "# Save the dictionary\n",
    "with open('s_data.pkl', 'wb') as f:\n",
    "    pickle.dump(s_data, f)"
   ]
  },
  {
   "cell_type": "code",
   "execution_count": null,
   "id": "f8741a01",
   "metadata": {},
   "outputs": [],
   "source": [
    "grid_M2 = grid_M\n",
    "grid_N2 = grid_N\n",
    "\n",
    "egrid2 = LinearGrid(M = grid_M2, N = grid_N2, NFP = eq.NFP)\n",
    "edata2 = eq.compute([\"n_rho\"], grid = egrid2)\n",
    "\n",
    "B_sec2 = np.load('iso_coords/B_sec_'+str(grid_M2)+'x'+str(grid_N2)+'.npy')\n",
    "#_compute_magnetic_field_from_Current( sgrid, K_sec, surf_winding, eq, egrid2, basis = \"rpz\" )\n",
    "B_s2 = _compute_magnetic_field_from_Current( sgrid, K_sv, surf_winding, eq, egrid2, basis = \"rpz\" )\n",
    "#B_s2 = edata2[\"B\"]"
   ]
  },
  {
   "cell_type": "code",
   "execution_count": null,
   "id": "36a281c1-314c-4a74-918f-f9f7e9a47c59",
   "metadata": {},
   "outputs": [],
   "source": [
    "b_chi = [] # Store the integral of the error \n",
    "source_chi = [] # Store the sum of sinks and sources of current\n",
    "Bn_chi = [] # Store the max Bn from the solution\n",
    "max_I = [] # Store the max value of sources\n",
    "min_I = [] # Store the min value of sources"
   ]
  },
  {
   "cell_type": "code",
   "execution_count": null,
   "id": "b07f33f8",
   "metadata": {
    "scrolled": true
   },
   "outputs": [],
   "source": [
    "for i in range(0,len(sMv)):\n",
    "\n",
    "    p_M = sMv[i]\n",
    "    p_N = sNv[i]\n",
    "\n",
    "    x = jnp.ones( ( p_M * 2 + 0 ) * ( p_N * 2 + 0 )  + 0)\n",
    "    \n",
    "    fun_wrapped1 = lambda x: bn_res(p_M, p_N, # Dipole pairs in toroidal direction \n",
    "                                    sdata,\n",
    "                                    sdata2,\n",
    "                                    sdata3,\n",
    "                                    sgrid, surf_winding, \n",
    "                                    x, \n",
    "                                    N, d0,\n",
    "                                    eq, egrid)\n",
    "    #wrapped_jit = jit(fun_wrapped1)\n",
    "    #wrapped_jit(x)\n",
    "    A = Derivative(fun_wrapped1, deriv_mode = 'looped').compute(x)\n",
    "\n",
    "    #alpha = 1e-20\n",
    "    #A_inv, _ = svd_inv_null( A.T @ A + alpha * jnp.eye( A.shape[1] ) )\n",
    "    \n",
    "    # Find the regularized solution of dipoles\n",
    "    #soln = A_inv @ ( rhs @ A)\n",
    "    soln = jnp.linalg.pinv(A) @ rhs\n",
    "\n",
    "    test = A@soln\n",
    "    tsize = edata['n_rho'].shape[0]\n",
    "    B_d2 = jnp.column_stack((test[0:tsize],test[tsize:tsize*2],test[tsize*2:tsize*3]))\n",
    "    \n",
    "    #B_sour(p_M, p_N,\n",
    "    #             sdata, sgrid, surf_winding, #winding_surf,\n",
    "    #             soln,\n",
    "    #             N, d0,\n",
    "    #             eq, egrid2)\n",
    "    \n",
    "    K_d = K_sour(p_M, p_N,\n",
    "                 sdata,\n",
    "                 sdata2,\n",
    "                 sdata3,\n",
    "                 sgrid,\n",
    "                 surf_winding, \n",
    "                 #winding_surf,\n",
    "                 soln,\n",
    "                 N, d0)\n",
    "    \n",
    "    B0 = B_d2 - B_s2\n",
    "    B_total = B_d2 + B_sec2\n",
    "    Bn_total = dot(edata2[\"n_rho\"],B_total)\n",
    "    K0 = K_d\n",
    "    \n",
    "    #res = A @ soln - rhs\n",
    "    \n",
    "    #plot_figure2( res, egrid, ''r' $ \\mathbf{B \\cdot n}$ ' )\n",
    "    plot_figure2( Bn_total * dot(B_total,B_total)**(-1/2), egrid2,\n",
    "                 ''r' $ \\frac{ (\\mathbf{B_{sec} + B_{src}}) \\cdot \\mathbf{n} }{| \\mathbf{B_{sec} + B_{src}} | }$ ' )\n",
    "    plot_figure2( jnp.log10(abs(Bn_total * dot(B_total,B_total)**(-1/2))), egrid2,\n",
    "                 ''r' $ \\log( \\frac{ (\\mathbf{B_{sec} + B_{src}}) \\cdot \\mathbf{n} }{| \\mathbf{B_{sec} + B_{src}} | })$ ' )\n",
    "\n",
    "    \n",
    "    plot_figure2( dot(B_d2,B_d2)**(1/2), egrid2, ''r' $ | \\mathbf{B_{src}}  | $ ' )\n",
    "    plot_figure2( dot(B0,B0)**(1/2) * dot(B_s2,B_s2)**(-1/2), \n",
    "                 egrid2, \n",
    "                 ''r' $ \\frac{| \\mathbf{B_s - B_{src}}  |}{|\\mathbf{B_s}|} $ ' )\n",
    "    \n",
    "    plot_figure2( dot(K0,K0)**(1/2), sgrid, ''r' $ | \\mathbf{K} | $ ' )\n",
    "    \n",
    "    error = surf_int( dot(B0,B0) , edata2, egrid2 )\n",
    "    b_chi.append(error)\n",
    "    Bn_chi.append(max(abs(Bn_total * dot(B_total,B_total)**(-1/2))))\n",
    "    source_chi.append(jnp.sum( soln ) )\n",
    "    #G_chi.append(soln[-1])\n",
    "    max_I.append(max(abs(soln)))\n",
    "    min_I.append(min(abs(soln)))\n",
    "    \n",
    "    np.save('soln_M_' + str(sMv[i]) + '_N_' + str(sNv[i]) + '.npy' ,soln)\n",
    "    np.save('error_M_' + str(sMv[i]) + '_N_' + str(sNv[i]) + '.npy' , error)\n",
    "    #np.save('maxI_M_' + str(sMv[i]) + '_N_' + str(sNv[i]) + '.npy' ,max(abs(soln)))\n",
    "    #np.save('minI_M_' + str(sMv[i]) + '_N_' + str(sNv[i]) + '.npy' ,min(abs(soln)))\n",
    "    np.save('maxbn_M_' + str(sMv[i]) + '_N_' + str(sNv[i]) + '.npy' , max(abs(Bn_total * dot(B_total,B_total)**(-1/2))) )"
   ]
  },
  {
   "cell_type": "code",
   "execution_count": null,
   "id": "dca7afca",
   "metadata": {},
   "outputs": [],
   "source": [
    "plot_xy(np.log10(b_chi), \n",
    "        np.log10( ( sMv * 2 + 0) * ( sNv * 2 + 0 ) ), # grid to plot on\n",
    "        ''r'$\\log_{10} \\int | \\mathbf{B_s - B_{src}} | ^2 dS$', # title for the figure\n",
    "        ''r'$\\log_{10} N^2 $', # title of x axis\n",
    "       )"
   ]
  },
  {
   "cell_type": "code",
   "execution_count": null,
   "id": "226e6d9f-51e3-49b2-9cee-a132a36b2ad1",
   "metadata": {},
   "outputs": [],
   "source": [
    "plot_xy(np.log10(Bn_chi), \n",
    "        np.log10( ( sMv * 2 + 0) * ( sNv * 2 + 0 ) ), # grid to plot on\n",
    "        ''r'$\\log_{10} $ max $| \\mathbf{B\\cdot n} | dS$', # title for the figure\n",
    "        ''r'$\\log_{10} N^2 $', # title of x axis\n",
    "       )"
   ]
  },
  {
   "cell_type": "code",
   "execution_count": null,
   "id": "5745fac2",
   "metadata": {},
   "outputs": [],
   "source": [
    "plot_xy(np.log10(abs(jnp.asarray(source_chi))), \n",
    "        np.log10(( sMv * 2 + 0 ) * ( sNv * 2 + 0 ) ), # grid to plot on\n",
    "        ''r'$\\log_{10} \\Sigma s_i $', # title for the figure\n",
    "        ''r'$\\log_{10} N^2 $', # title of x axis\n",
    "       )"
   ]
  },
  {
   "cell_type": "code",
   "execution_count": null,
   "id": "fba6da71-390b-47c2-bef0-615ba79b5683",
   "metadata": {},
   "outputs": [],
   "source": [
    "plot_xy(np.log10(abs(jnp.asarray(source_chi) * jnp.asarray(min_I) ** (-1))), \n",
    "        np.log10(( sMv * 2 + 0 ) * ( sNv * 2 + 0 ) ), # grid to plot on\n",
    "        ''r'$\\log_{10} \\frac{\\Sigma s_i}{I_{min}} $', # title for the figure\n",
    "        ''r'$\\log_{10} N^2 $', # title of x axis\n",
    "       )"
   ]
  },
  {
   "cell_type": "code",
   "execution_count": null,
   "id": "781c4ce3",
   "metadata": {},
   "outputs": [],
   "source": [
    "plot_xy(np.log10(abs(jnp.asarray(max_I))), \n",
    "        np.log10(( sMv * 2 + 0 ) * ( sNv * 2 + 0 ) ), # grid to plot on\n",
    "        ''r'$\\log_{10} I_{max} $', # title for the figure\n",
    "        ''r'$\\log_{10} N^2 $', # title of x axis\n",
    "       )"
   ]
  },
  {
   "cell_type": "code",
   "execution_count": null,
   "id": "4382122f-ca09-42dc-aae7-c810502df7c3",
   "metadata": {},
   "outputs": [],
   "source": [
    "plot_xy(jnp.asarray(max_I) * 1e-3, \n",
    "        np.log10(( sMv * 2 + 0 ) * ( sNv * 2 + 0 ) ), # grid to plot on\n",
    "        ''r'$ I_{max} $ (kA)', # title for the figure\n",
    "        ''r'$\\log_{10} N^2 $', # title of x axis\n",
    "       )"
   ]
  },
  {
   "cell_type": "code",
   "execution_count": null,
   "id": "b42023bf-a5ad-472c-81f5-4f0a9aa85f27",
   "metadata": {},
   "outputs": [],
   "source": [
    "plot_xy(jnp.asarray(min_I) * 1e-3, \n",
    "        np.log10(( sMv * 2 + 0 ) * ( sNv * 2 + 0 ) ), # grid to plot on\n",
    "        ''r'$ I_{min} $ (kA)', # title for the figure\n",
    "        ''r'$\\log_{10} N^2 $', # title of x axis\n",
    "       )"
   ]
  },
  {
   "cell_type": "code",
   "execution_count": null,
   "id": "c19147e1-95dc-41b7-83fa-637a1ad82a86",
   "metadata": {},
   "outputs": [],
   "source": []
  }
 ],
 "metadata": {
  "kernelspec": {
   "display_name": "Python 3 (ipykernel)",
   "language": "python",
   "name": "python3"
  },
  "language_info": {
   "codemirror_mode": {
    "name": "ipython",
    "version": 3
   },
   "file_extension": ".py",
   "mimetype": "text/x-python",
   "name": "python",
   "nbconvert_exporter": "python",
   "pygments_lexer": "ipython3",
   "version": "3.12.4"
  }
 },
 "nbformat": 4,
 "nbformat_minor": 5
}
