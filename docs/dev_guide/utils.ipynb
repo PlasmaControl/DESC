{
 "cells": [
  {
   "cell_type": "markdown",
   "id": "c07f1b20-0d8a-49e8-9f18-644843bfe344",
   "metadata": {},
   "source": [
    "# `utils.py`"
   ]
  }
 ],
 "metadata": {
  "kernelspec": {
   "display_name": "Python 3 (ipykernel)",
   "language": "python",
   "name": "python3"
  },
  "language_info": {
   "codemirror_mode": {
    "name": "ipython",
    "version": 3
   },
   "file_extension": ".py",
   "mimetype": "text/x-python",
   "name": "python",
   "nbconvert_exporter": "python",
   "pygments_lexer": "ipython3",
   "version": "3.9.16"
  }
 },
 "nbformat": 4,
 "nbformat_minor": 5
}
