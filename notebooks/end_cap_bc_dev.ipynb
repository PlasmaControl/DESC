{
 "cells": [
  {
   "cell_type": "code",
   "execution_count": 1,
   "metadata": {},
   "outputs": [
    {
     "name": "stdout",
     "output_type": "stream",
     "text": [
      "DESC version 0+untagged.5747.g17bc22e.dirty,using JAX backend, jax version=0.4.14, jaxlib version=0.4.14, dtype=float64\n",
      "Using device: CPU, with 1.65 GB available memory\n"
     ]
    }
   ],
   "source": [
    "from desc.transform import Transform\n",
    "from desc.equilibrium import Equilibrium\n",
    "from desc.basis import ChebyshevZernikeBasis, chebyshev_z\n",
    "from desc.compute import compute\n",
    "from desc.grid import LinearGrid, ConcentricGrid, QuadratureGrid\n",
    "from desc.compute.utils import get_transforms\n",
    "import numpy as np\n",
    "from desc.objectives import FixEndCapR, ForceBalance, ObjectiveFunction\n",
    "from desc.optimize import LinearConstraintProjection"
   ]
  },
  {
   "cell_type": "code",
   "execution_count": 3,
   "metadata": {},
   "outputs": [],
   "source": [
    "eq = Equilibrium(L=3,M=3,N=3,mirror=True)\n",
    "grid = LinearGrid(3,3,3)"
   ]
  },
  {
   "cell_type": "code",
   "execution_count": 4,
   "metadata": {},
   "outputs": [],
   "source": [
    "cons = FixEndCapR(zeta=0, eq=eq)\n",
    "obj = ObjectiveFunction(ForceBalance(eq=eq))"
   ]
  },
  {
   "cell_type": "code",
   "execution_count": 5,
   "metadata": {},
   "outputs": [],
   "source": [
    "cons.build()"
   ]
  },
  {
   "cell_type": "code",
   "execution_count": 6,
   "metadata": {},
   "outputs": [
    {
     "data": {
      "text/plain": [
       "array([[ 0,  0],\n",
       "       [ 1, -1],\n",
       "       [ 1,  1],\n",
       "       [ 2, -2],\n",
       "       [ 2,  0],\n",
       "       [ 2,  2],\n",
       "       [ 3, -3],\n",
       "       [ 3, -1],\n",
       "       [ 3,  1],\n",
       "       [ 3,  3]])"
      ]
     },
     "execution_count": 6,
     "metadata": {},
     "output_type": "execute_result"
    }
   ],
   "source": [
    "np.unique(eq.R_basis.modes[:,:2], axis=0)"
   ]
  },
  {
   "cell_type": "code",
   "execution_count": 7,
   "metadata": {},
   "outputs": [
    {
     "data": {
      "text/plain": [
       "array([[ 0,  0],\n",
       "       [ 1, -1],\n",
       "       [ 1,  1],\n",
       "       [ 2, -2],\n",
       "       [ 2,  0],\n",
       "       [ 2,  2],\n",
       "       [ 3, -3],\n",
       "       [ 3, -1],\n",
       "       [ 3,  1],\n",
       "       [ 3,  3]])"
      ]
     },
     "execution_count": 7,
     "metadata": {},
     "output_type": "execute_result"
    }
   ],
   "source": [
    "cons._LMmodes"
   ]
  },
  {
   "cell_type": "code",
   "execution_count": 23,
   "metadata": {},
   "outputs": [
    {
     "data": {
      "text/plain": [
       "<desc.optimize._constraint_wrappers.LinearConstraintProjection at 0x158e84290>"
      ]
     },
     "execution_count": 23,
     "metadata": {},
     "output_type": "execute_result"
    }
   ],
   "source": [
    "LinearConstraintProjection(objective=obj,constraints=[cons], eq=eq)"
   ]
  }
 ],
 "metadata": {
  "kernelspec": {
   "display_name": "desc-mirror",
   "language": "python",
   "name": "python3"
  },
  "language_info": {
   "codemirror_mode": {
    "name": "ipython",
    "version": 3
   },
   "file_extension": ".py",
   "mimetype": "text/x-python",
   "name": "python",
   "nbconvert_exporter": "python",
   "pygments_lexer": "ipython3",
   "version": "3.11.5"
  }
 },
 "nbformat": 4,
 "nbformat_minor": 2
}
