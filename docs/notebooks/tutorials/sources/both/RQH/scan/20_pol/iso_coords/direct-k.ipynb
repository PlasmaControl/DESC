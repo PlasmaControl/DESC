{
 "cells": [
  {
   "cell_type": "code",
   "execution_count": 1,
   "id": "c3bfcfee",
   "metadata": {
    "execution": {
     "iopub.execute_input": "2025-07-18T20:46:03.514073Z",
     "iopub.status.busy": "2025-07-18T20:46:03.513940Z",
     "iopub.status.idle": "2025-07-18T20:46:04.022475Z",
     "shell.execute_reply": "2025-07-18T20:46:04.022104Z"
    }
   },
   "outputs": [],
   "source": [
    "from desc import set_device\n",
    "set_device(\"gpu\")"
   ]
  },
  {
   "cell_type": "code",
   "execution_count": 2,
   "id": "effb3c47",
   "metadata": {
    "execution": {
     "iopub.execute_input": "2025-07-18T20:46:04.024552Z",
     "iopub.status.busy": "2025-07-18T20:46:04.024397Z",
     "iopub.status.idle": "2025-07-18T20:46:08.627173Z",
     "shell.execute_reply": "2025-07-18T20:46:08.626790Z"
    }
   },
   "outputs": [
    {
     "name": "stdout",
     "output_type": "stream",
     "text": [
      "DESC version 0.12.3+553.gcb761a802.dirty,using JAX backend, jax version=0.4.35, jaxlib version=0.4.34, dtype=float64"
     ]
    },
    {
     "name": "stdout",
     "output_type": "stream",
     "text": [
      "\n"
     ]
    },
    {
     "name": "stdout",
     "output_type": "stream",
     "text": [
      "Using device: NVIDIA A100 80GB PCIe (id=0), with 80.00 GB available memory"
     ]
    },
    {
     "name": "stdout",
     "output_type": "stream",
     "text": [
      "\n"
     ]
    }
   ],
   "source": [
    "import numpy as np\n",
    "import os\n",
    "# os.environ[\"JAX_LOG_COMPILES\"] = \"True\"\n",
    "from scipy.io import netcdf_file\n",
    "import copy\n",
    "import matplotlib\n",
    "import matplotlib.pyplot as plt\n",
    "import scipy\n",
    "from scipy.constants import mu_0\n",
    "import sys\n",
    "import functools\n",
    "import pickle\n",
    "\n",
    "import jax\n",
    "import jax.numpy as jnp\n",
    "from jax import jit, jacfwd\n",
    "\n",
    "from netCDF4 import Dataset\n",
    "import h5py\n",
    "\n",
    "from desc.backend import put, fori_loop, jnp, sign\n",
    "\n",
    "from desc.basis import FourierZernikeBasis, DoubleFourierSeries, FourierSeries\n",
    "from desc.equilibrium import EquilibriaFamily, Equilibrium\n",
    "from desc.grid import ConcentricGrid, LinearGrid, Grid, QuadratureGrid\n",
    "from desc.io import InputReader, load\n",
    "from desc.objectives import *\n",
    "from desc.objectives.objective_funs import _Objective\n",
    "from desc.plotting import plot_1d, plot_2d, plot_3d, plot_section, plot_surfaces, plot_comparison\n",
    "\n",
    "from desc.plotting import *\n",
    "\n",
    "from desc.transform import Transform\n",
    "from desc.vmec import VMECIO\n",
    "from desc.derivatives import Derivative\n",
    "from desc.geometry import FourierRZToroidalSurface\n",
    "from desc.profiles import SplineProfile, PowerSeriesProfile\n",
    "\n",
    "from desc.magnetic_fields import ( SplineMagneticField, \n",
    "                                  #biot_savart_general, \n",
    "                                  FourierCurrentPotentialField, ToroidalMagneticField,\n",
    "                                  field_line_integrate)\n",
    "\n",
    "import desc.examples\n",
    "\n",
    "from desc.backend import fori_loop, jit, jnp, odeint, sign\n",
    "from desc.compute import rpz2xyz, rpz2xyz_vec, xyz2rpz, xyz2rpz_vec\n",
    "from desc.coils import *\n",
    "\n",
    "from desc.utils import Timer, copy_coeffs, errorif, setdefault, svd_inv_null, warnif\n",
    "from desc.utils import flatten_list\n",
    "from desc.utils import cross, dot\n",
    "\n",
    "from desc.optimize import lsqtr, lsq_auglag\n",
    "\n",
    "from scipy.optimize import NonlinearConstraint \n",
    "\n",
    "from desc.magnetic_fields import ( SplineMagneticField, \n",
    "                                  #biot_savart_general, \n",
    "                                  FourierCurrentPotentialField, ToroidalMagneticField,\n",
    "                                  field_line_integrate)\n",
    "\n",
    "import time\n",
    "\n",
    "import numpy as np\n",
    "from numpy.linalg import eig\n",
    "\n",
    "from scipy.linalg import null_space\n",
    "from numpy import ndarray\n",
    "\n",
    "# Import my own functions\n",
    "from desc.fns_simp import (_compute_magnetic_field_from_Current,\n",
    "                           plot_figure,\n",
    "                           plot_figure2,\n",
    "                           plot_xy,\n",
    "                           surf_int)\n",
    "\n",
    "from desc.finite_diff_spe import first_derivative_t,first_derivative_z\n",
    "                              #second_derivative_t,second_derivative_z,second_derivative_tz\n",
    "#                             )\n",
    "\n",
    "from desc.derivatives import Derivative\n",
    "#from phi2d_eval import phi_sv_eval\n",
    "#from contour_calc import contour_calc_c"
   ]
  },
  {
   "cell_type": "code",
   "execution_count": 3,
   "id": "5f32dec5-9ffd-45d7-a088-554d1d1cdf0f",
   "metadata": {
    "execution": {
     "iopub.execute_input": "2025-07-18T20:46:08.629916Z",
     "iopub.status.busy": "2025-07-18T20:46:08.629274Z",
     "iopub.status.idle": "2025-07-18T20:46:08.633079Z",
     "shell.execute_reply": "2025-07-18T20:46:08.632771Z"
    }
   },
   "outputs": [],
   "source": [
    "#@jax.jit\n",
    "def A_matrix(data, # Data on the winding surface\n",
    "             y,\n",
    "             _kgrid,\n",
    "             _surf_winding,\n",
    "             transform1,\n",
    "             _eq,\n",
    "             _egrid,\n",
    "             _edata,\n",
    "            ):\n",
    "    \n",
    "    b_mn = y#[0:data[\"theta\"].shape[0]]\n",
    "    \n",
    "    fs = {\"b_t\": transform1.transform(b_mn, dt = 1),\n",
    "          \"b_z\": transform1.transform(b_mn, dz = 1),\n",
    "          }\n",
    "\n",
    "    K_sv = cross(data[\"n_rho\"], (fs[\"b_t\"] * data[\"e^theta_s\"].T + fs[\"b_z\"] * data[\"e^zeta_s\"].T).T)\n",
    "    \n",
    "    return dot(_edata[\"n_rho\"],\n",
    "               _compute_magnetic_field_from_Current( _kgrid, K_sv, _surf_winding, _eq, _egrid, basis = \"rpz\" )\n",
    "              )"
   ]
  },
  {
   "cell_type": "code",
   "execution_count": 4,
   "id": "45798cd9-2a5a-4c63-8161-664d0883e52b",
   "metadata": {
    "execution": {
     "iopub.execute_input": "2025-07-18T20:46:08.635197Z",
     "iopub.status.busy": "2025-07-18T20:46:08.634673Z",
     "iopub.status.idle": "2025-07-18T20:46:08.638492Z",
     "shell.execute_reply": "2025-07-18T20:46:08.638188Z"
    }
   },
   "outputs": [],
   "source": [
    "# Evaluate the solution\n",
    "def sol_eval(grid, \n",
    "             data,\n",
    "             basis_b,           \n",
    "             y,\n",
    "            ):\n",
    "\n",
    "    trans = desc.transform.Transform(grid, basis_b, derivs=1, \n",
    "                                     rcond='auto', build=True, build_pinv=False, method='auto')\n",
    "    \n",
    "    # Compute V, rho and derivatives on the grid\n",
    "    fs = {# First derivatives of a\n",
    "        \"b_t\": desc.transform.Transform(grid = grid, basis = basis_b),\n",
    "        \"b_z\": desc.transform.Transform(grid = grid, basis = basis_b),\n",
    "    }\n",
    "       \n",
    "    b_mn = y\n",
    "    ##\n",
    "    fs[\"b_t\"] = trans.transform(b_mn, dt=1, dz=0)\n",
    "    fs[\"b_z\"] = trans.transform(b_mn, dt=0, dz=1)\n",
    "    \n",
    "    return  cross(data[\"n_rho\"], (fs[\"b_t\"] * data[\"e^theta_s\"].T + fs[\"b_z\"] * data[\"e^zeta_s\"].T).T)"
   ]
  },
  {
   "cell_type": "code",
   "execution_count": 5,
   "id": "3969b398",
   "metadata": {
    "execution": {
     "iopub.execute_input": "2025-07-18T20:46:08.640560Z",
     "iopub.status.busy": "2025-07-18T20:46:08.640017Z",
     "iopub.status.idle": "2025-07-18T20:46:15.095165Z",
     "shell.execute_reply": "2025-07-18T20:46:15.094788Z"
    }
   },
   "outputs": [
    {
     "name": "stdout",
     "output_type": "stream",
     "text": [
      "<class 'jaxlib.xla_extension.ArrayImpl'>"
     ]
    },
    {
     "name": "stdout",
     "output_type": "stream",
     "text": [
      "\n"
     ]
    },
    {
     "name": "stdout",
     "output_type": "stream",
     "text": [
      "<class 'jaxlib.xla_extension.ArrayImpl'>"
     ]
    },
    {
     "name": "stdout",
     "output_type": "stream",
     "text": [
      "\n"
     ]
    },
    {
     "name": "stdout",
     "output_type": "stream",
     "text": [
      "<class 'jaxlib.xla_extension.ArrayImpl'>"
     ]
    },
    {
     "name": "stdout",
     "output_type": "stream",
     "text": [
      "\n"
     ]
    },
    {
     "name": "stdout",
     "output_type": "stream",
     "text": [
      "<class 'jaxlib.xla_extension.ArrayImpl'>"
     ]
    },
    {
     "name": "stdout",
     "output_type": "stream",
     "text": [
      "\n"
     ]
    },
    {
     "data": {
      "text/plain": [
       "(<Figure size 864x720 with 6 Axes>,\n",
       " array([<Axes: title={'center': '$\\\\phi \\\\cdot N_{FP}/2\\\\pi = 0.000$'}, xlabel='$R ~(\\\\mathrm{m})$', ylabel='$Z ~(\\\\mathrm{m})$'>,\n",
       "        <Axes: title={'center': '$\\\\phi \\\\cdot N_{FP}/2\\\\pi = 0.167$'}, xlabel='$R ~(\\\\mathrm{m})$', ylabel='$Z ~(\\\\mathrm{m})$'>,\n",
       "        <Axes: title={'center': '$\\\\phi \\\\cdot N_{FP}/2\\\\pi = 0.333$'}, xlabel='$R ~(\\\\mathrm{m})$', ylabel='$Z ~(\\\\mathrm{m})$'>,\n",
       "        <Axes: title={'center': '$\\\\phi \\\\cdot N_{FP}/2\\\\pi = 0.500$'}, xlabel='$R ~(\\\\mathrm{m})$', ylabel='$Z ~(\\\\mathrm{m})$'>,\n",
       "        <Axes: title={'center': '$\\\\phi \\\\cdot N_{FP}/2\\\\pi = 0.667$'}, xlabel='$R ~(\\\\mathrm{m})$', ylabel='$Z ~(\\\\mathrm{m})$'>,\n",
       "        <Axes: title={'center': '$\\\\phi \\\\cdot N_{FP}/2\\\\pi = 0.833$'}, xlabel='$R ~(\\\\mathrm{m})$', ylabel='$Z ~(\\\\mathrm{m})$'>],\n",
       "       dtype=object))"
      ]
     },
     "execution_count": 5,
     "metadata": {},
     "output_type": "execute_result"
    },
    {
     "data": {
      "image/png": "[encoded data removed]",
      "text/plain": [
       "<Figure size 864x720 with 6 Axes>"
      ]
     },
     "metadata": {},
     "output_type": "display_data"
    }
   ],
   "source": [
    "# Plasma surface\n",
    "eqname_QH = \"/home/fcastro/LMStell/regcoil/rogerio/input.QH_final_output.h5\" #vacuum equilibrium\n",
    "eq = desc.io.load(eqname_QH)[4]\n",
    "\n",
    "# Winding surface\n",
    "dir = '/home/fcastro/LMStell/sigma/RQA_RQH_18/'\n",
    "surf_winding = load(dir + \"surf_opt_1.h5\")\n",
    "\n",
    "# Plot both surfaces\n",
    "plot_comparison([surf_winding,eq],labels=[\"winding surface\",\"plasma\"],theta=0,rho=np.array(1.0))\n",
    "#plt.savefig(\"surfaces.png\",dpi = 1200)"
   ]
  },
  {
   "cell_type": "code",
   "execution_count": 6,
   "id": "064d6177-7468-4003-994c-110c49a466ef",
   "metadata": {
    "execution": {
     "iopub.execute_input": "2025-07-18T20:46:15.097142Z",
     "iopub.status.busy": "2025-07-18T20:46:15.096992Z",
     "iopub.status.idle": "2025-07-18T20:46:15.404332Z",
     "shell.execute_reply": "2025-07-18T20:46:15.403719Z"
    }
   },
   "outputs": [],
   "source": [
    "basis_M = 25\n",
    "basis_N = 25\n",
    "winding_surf = FourierCurrentPotentialField.from_surface(surf_winding,\n",
    "                                                         M_Phi = basis_M,\n",
    "                                                         N_Phi = basis_N,\n",
    "                                                         )"
   ]
  },
  {
   "cell_type": "code",
   "execution_count": 7,
   "id": "d67d5c29",
   "metadata": {
    "execution": {
     "iopub.execute_input": "2025-07-18T20:46:15.407318Z",
     "iopub.status.busy": "2025-07-18T20:46:15.406697Z",
     "iopub.status.idle": "2025-07-18T20:50:09.436139Z",
     "shell.execute_reply": "2025-07-18T20:50:09.435564Z"
    }
   },
   "outputs": [
    {
     "name": "stdout",
     "output_type": "stream",
     "text": [
      "<class 'numpy.ndarray'>"
     ]
    },
    {
     "name": "stdout",
     "output_type": "stream",
     "text": [
      "\n"
     ]
    },
    {
     "name": "stdout",
     "output_type": "stream",
     "text": [
      "<class 'numpy.ndarray'>"
     ]
    },
    {
     "name": "stdout",
     "output_type": "stream",
     "text": [
      "\n"
     ]
    }
   ],
   "source": [
    "kgrid = LinearGrid(M = 70, N = 70, NFP = eq.NFP)\n",
    "kdata = winding_surf.compute([\"n_rho\",\"H_1\", \"e^zeta_s\"], grid = kgrid)\n",
    "\n",
    "G = 0.8e6\n",
    "np.save(\"G.npy\",G)\n",
    "#K_sec = G * cross(kdata[\"n_rho\"], kdata[\"e^zeta_s\"])\n",
    "K_sec = G * cross(kdata[\"n_rho\"], kdata[\"H_1\"])"
   ]
  },
  {
   "cell_type": "code",
   "execution_count": 8,
   "id": "fad99315-1336-47f2-a151-0cbb171c2172",
   "metadata": {
    "execution": {
     "iopub.execute_input": "2025-07-18T20:50:09.438604Z",
     "iopub.status.busy": "2025-07-18T20:50:09.438429Z",
     "iopub.status.idle": "2025-07-18T20:50:13.022524Z",
     "shell.execute_reply": "2025-07-18T20:50:13.022122Z"
    }
   },
   "outputs": [
    {
     "name": "stdout",
     "output_type": "stream",
     "text": [
      "<class 'numpy.ndarray'>"
     ]
    },
    {
     "name": "stdout",
     "output_type": "stream",
     "text": [
      "\n"
     ]
    },
    {
     "name": "stdout",
     "output_type": "stream",
     "text": [
      "<class 'numpy.ndarray'>"
     ]
    },
    {
     "name": "stdout",
     "output_type": "stream",
     "text": [
      "\n"
     ]
    },
    {
     "name": "stdout",
     "output_type": "stream",
     "text": [
      "<class 'numpy.ndarray'>"
     ]
    },
    {
     "name": "stdout",
     "output_type": "stream",
     "text": [
      "\n"
     ]
    },
    {
     "name": "stdout",
     "output_type": "stream",
     "text": [
      "<class 'numpy.ndarray'>"
     ]
    },
    {
     "name": "stdout",
     "output_type": "stream",
     "text": [
      "\n"
     ]
    },
    {
     "name": "stdout",
     "output_type": "stream",
     "text": [
      "<class 'numpy.ndarray'>"
     ]
    },
    {
     "name": "stdout",
     "output_type": "stream",
     "text": [
      "\n"
     ]
    },
    {
     "name": "stdout",
     "output_type": "stream",
     "text": [
      "<class 'numpy.ndarray'>"
     ]
    },
    {
     "name": "stdout",
     "output_type": "stream",
     "text": [
      "\n"
     ]
    }
   ],
   "source": [
    "egrid = LinearGrid(M = 60, N = 60, NFP = eq.NFP)\n",
    "edata = eq.compute([\"n_rho\"], grid = egrid)\n",
    "\n",
    "#B_s = eq.compute([\"B\"],grid = egrid)[\"B\"]\n",
    "B_sec = _compute_magnetic_field_from_Current( kgrid, K_sec, surf_winding, eq, egrid, basis = \"rpz\" )\n",
    "\n",
    "#rhs = jnp.concatenate((B_s[:,0],B_s[:,1],B_s[:,2]))\n",
    "Bn_sec = dot( edata[\"n_rho\"],  B_sec )"
   ]
  },
  {
   "cell_type": "code",
   "execution_count": 9,
   "id": "46598a92-d4fe-4ea3-91ff-3696fa2ec3eb",
   "metadata": {
    "execution": {
     "iopub.execute_input": "2025-07-18T20:50:13.024651Z",
     "iopub.status.busy": "2025-07-18T20:50:13.024501Z",
     "iopub.status.idle": "2025-07-18T20:50:13.061430Z",
     "shell.execute_reply": "2025-07-18T20:50:13.061078Z"
    }
   },
   "outputs": [],
   "source": [
    "egrid2 = LinearGrid(M = 80, N = 80, NFP = eq.NFP)"
   ]
  },
  {
   "cell_type": "code",
   "execution_count": 10,
   "id": "8dd943ce",
   "metadata": {
    "execution": {
     "iopub.execute_input": "2025-07-18T20:50:13.064704Z",
     "iopub.status.busy": "2025-07-18T20:50:13.064146Z",
     "iopub.status.idle": "2025-07-18T20:50:13.066808Z",
     "shell.execute_reply": "2025-07-18T20:50:13.066507Z"
    }
   },
   "outputs": [],
   "source": [
    "alpha_v = [#1e-20,1e-19,\n",
    "           1e-20,\n",
    "           1e-17,\n",
    "           #1e-15,1e-14,\n",
    "           #1e-13,1e-12,\n",
    "          ]"
   ]
  },
  {
   "cell_type": "code",
   "execution_count": 11,
   "id": "2f4caaf8-c9cf-4127-b7ce-14e134d6277d",
   "metadata": {
    "execution": {
     "iopub.execute_input": "2025-07-18T20:50:13.068872Z",
     "iopub.status.busy": "2025-07-18T20:50:13.068342Z",
     "iopub.status.idle": "2025-07-18T20:50:13.683070Z",
     "shell.execute_reply": "2025-07-18T20:50:13.682693Z"
    }
   },
   "outputs": [
    {
     "name": "stdout",
     "output_type": "stream",
     "text": [
      "<class 'numpy.ndarray'>"
     ]
    },
    {
     "name": "stdout",
     "output_type": "stream",
     "text": [
      "\n"
     ]
    }
   ],
   "source": [
    "b_basis = DoubleFourierSeries(M = basis_M, N = basis_N, NFP = surf_winding.NFP, sym = \"sin\")\n",
    "ktrans = Transform(kgrid, b_basis, derivs = 1, build=True,)\n",
    "#xg = jnp.ones(b_basis.num_modes)\n",
    "xg = winding_surf.Phi_mn"
   ]
  },
  {
   "cell_type": "code",
   "execution_count": 12,
   "id": "a891ecef-17aa-4165-8d9f-2c2c0c76be3a",
   "metadata": {
    "execution": {
     "iopub.execute_input": "2025-07-18T20:50:13.685689Z",
     "iopub.status.busy": "2025-07-18T20:50:13.685101Z",
     "iopub.status.idle": "2025-07-18T20:50:13.688050Z",
     "shell.execute_reply": "2025-07-18T20:50:13.687742Z"
    }
   },
   "outputs": [],
   "source": [
    "fun_wrapped = lambda xg: A_matrix(kdata, # Data on the winding surface\n",
    "                                   xg,\n",
    "                                   kgrid,\n",
    "                                   surf_winding,\n",
    "                                   ktrans,\n",
    "                                   eq,\n",
    "                                   egrid,\n",
    "                                  edata,\n",
    "                                   )"
   ]
  },
  {
   "cell_type": "code",
   "execution_count": 13,
   "id": "20a2568e-27dc-4fb4-ac08-0f8447dd05ab",
   "metadata": {
    "execution": {
     "iopub.execute_input": "2025-07-18T20:50:13.690112Z",
     "iopub.status.busy": "2025-07-18T20:50:13.689579Z",
     "iopub.status.idle": "2025-07-18T20:51:08.223653Z",
     "shell.execute_reply": "2025-07-18T20:51:08.223078Z"
    }
   },
   "outputs": [
    {
     "name": "stdout",
     "output_type": "stream",
     "text": [
      "<class 'numpy.ndarray'>"
     ]
    },
    {
     "name": "stdout",
     "output_type": "stream",
     "text": [
      "\n"
     ]
    },
    {
     "name": "stdout",
     "output_type": "stream",
     "text": [
      "<class 'numpy.ndarray'>"
     ]
    },
    {
     "name": "stdout",
     "output_type": "stream",
     "text": [
      "\n"
     ]
    },
    {
     "name": "stdout",
     "output_type": "stream",
     "text": [
      "<class 'numpy.ndarray'>"
     ]
    },
    {
     "name": "stdout",
     "output_type": "stream",
     "text": [
      "\n"
     ]
    },
    {
     "name": "stdout",
     "output_type": "stream",
     "text": [
      "<class 'numpy.ndarray'>"
     ]
    },
    {
     "name": "stdout",
     "output_type": "stream",
     "text": [
      "\n"
     ]
    }
   ],
   "source": [
    "A = Derivative(fun_wrapped, deriv_mode=\"looped\").compute(xg)"
   ]
  },
  {
   "cell_type": "code",
   "execution_count": 14,
   "id": "ddfb4a90",
   "metadata": {
    "execution": {
     "iopub.execute_input": "2025-07-18T20:51:08.226609Z",
     "iopub.status.busy": "2025-07-18T20:51:08.226003Z",
     "iopub.status.idle": "2025-07-18T20:51:10.747179Z",
     "shell.execute_reply": "2025-07-18T20:51:10.746819Z"
    }
   },
   "outputs": [
    {
     "name": "stdout",
     "output_type": "stream",
     "text": [
      "<class 'numpy.ndarray'>"
     ]
    },
    {
     "name": "stdout",
     "output_type": "stream",
     "text": [
      "\n"
     ]
    },
    {
     "name": "stdout",
     "output_type": "stream",
     "text": [
      "<class 'numpy.ndarray'>"
     ]
    },
    {
     "name": "stdout",
     "output_type": "stream",
     "text": [
      "\n"
     ]
    },
    {
     "name": "stdout",
     "output_type": "stream",
     "text": [
      "<class 'numpy.ndarray'>"
     ]
    },
    {
     "name": "stdout",
     "output_type": "stream",
     "text": [
      "\n"
     ]
    },
    {
     "name": "stdout",
     "output_type": "stream",
     "text": [
      "<class 'numpy.ndarray'>"
     ]
    },
    {
     "name": "stdout",
     "output_type": "stream",
     "text": [
      "\n"
     ]
    },
    {
     "name": "stdout",
     "output_type": "stream",
     "text": [
      "<class 'numpy.ndarray'>"
     ]
    },
    {
     "name": "stdout",
     "output_type": "stream",
     "text": [
      "\n"
     ]
    },
    {
     "name": "stdout",
     "output_type": "stream",
     "text": [
      "<class 'numpy.ndarray'>"
     ]
    },
    {
     "name": "stdout",
     "output_type": "stream",
     "text": [
      "\n"
     ]
    },
    {
     "name": "stdout",
     "output_type": "stream",
     "text": [
      "<class 'numpy.ndarray'>"
     ]
    },
    {
     "name": "stdout",
     "output_type": "stream",
     "text": [
      "\n"
     ]
    },
    {
     "data": {
      "image/png": "[encoded data removed]",
      "text/plain": [
       "<Figure size 432x360 with 2 Axes>"
      ]
     },
     "metadata": {},
     "output_type": "display_data"
    },
    {
     "data": {
      "image/png": "[encoded data removed]",
      "text/plain": [
       "<Figure size 432x360 with 2 Axes>"
      ]
     },
     "metadata": {},
     "output_type": "display_data"
    }
   ],
   "source": [
    "error_chi = []\n",
    "b_chi = []\n",
    "\n",
    "for i in range(0,1):\n",
    "\n",
    "    #alpha = alpha_v[i]\n",
    "    \n",
    "    # calculate b_ij with SVD\n",
    "    #Ainv_full, _ = svd_inv_null(A.T @ A + alpha * jnp.eye(A.shape[1]))\n",
    "    #rhs = - Bn_sec @ A\n",
    "    #soln = Ainv_full @ rhs\n",
    "\n",
    "    rhs = - Bn_sec\n",
    "    soln = jnp.linalg.pinv(A) @ rhs\n",
    "    \n",
    "    error = A@soln + Bn_sec\n",
    "\n",
    "    winding_surf.Phi_mn = soln\n",
    "    K_sol = winding_surf.compute([\"K\"],grid = kgrid)[\"K\"]\n",
    "    #K_sol = sol_eval(kgrid, kdata, b_basis, soln,)\n",
    "\n",
    "    B_sol = _compute_magnetic_field_from_Current( kgrid, K_sec + K_sol, surf_winding, eq, egrid, basis = \"rpz\"\n",
    "                                                )\n",
    "\n",
    "    plot_figure2(dot(B_sol,B_sol)**(1/2),\n",
    "                egrid,\n",
    "                ''r'$|\\mathbf{B}|$,')\n",
    "\n",
    "    plot_figure2(error * dot(B_sol,B_sol)**(-1/2),\n",
    "                egrid,\n",
    "                ''r'$\\frac{|\\mathbf{B \\cdot n}|}{|\\mathbf{B}|}$')"
   ]
  },
  {
   "cell_type": "code",
   "execution_count": 15,
   "id": "dcb0d9c0",
   "metadata": {
    "execution": {
     "iopub.execute_input": "2025-07-18T20:51:10.749511Z",
     "iopub.status.busy": "2025-07-18T20:51:10.748945Z",
     "iopub.status.idle": "2025-07-18T20:51:13.207321Z",
     "shell.execute_reply": "2025-07-18T20:51:13.206964Z"
    }
   },
   "outputs": [
    {
     "name": "stdout",
     "output_type": "stream",
     "text": [
      "<class 'numpy.ndarray'>"
     ]
    },
    {
     "name": "stdout",
     "output_type": "stream",
     "text": [
      "\n"
     ]
    },
    {
     "name": "stdout",
     "output_type": "stream",
     "text": [
      "<class 'numpy.ndarray'>"
     ]
    },
    {
     "name": "stdout",
     "output_type": "stream",
     "text": [
      "\n"
     ]
    },
    {
     "name": "stdout",
     "output_type": "stream",
     "text": [
      "<class 'numpy.ndarray'>"
     ]
    },
    {
     "name": "stdout",
     "output_type": "stream",
     "text": [
      "\n"
     ]
    },
    {
     "name": "stdout",
     "output_type": "stream",
     "text": [
      "<class 'numpy.ndarray'>"
     ]
    },
    {
     "name": "stdout",
     "output_type": "stream",
     "text": [
      "\n"
     ]
    },
    {
     "data": {
      "image/png": "[encoded data removed]",
      "text/plain": [
       "<Figure size 432x360 with 2 Axes>"
      ]
     },
     "metadata": {},
     "output_type": "display_data"
    }
   ],
   "source": [
    "B_s = eq.compute([\"|B|\"],grid = egrid)[\"|B|\"]\n",
    "\n",
    "plot_figure2(B_s,egrid,''r'$|\\mathbf{B}|$ ')"
   ]
  },
  {
   "cell_type": "code",
   "execution_count": 16,
   "id": "ae5cfa2c-5670-43c1-9b36-132257b5a98e",
   "metadata": {
    "execution": {
     "iopub.execute_input": "2025-07-18T20:51:13.209608Z",
     "iopub.status.busy": "2025-07-18T20:51:13.209063Z",
     "iopub.status.idle": "2025-07-18T20:51:13.257637Z",
     "shell.execute_reply": "2025-07-18T20:51:13.257284Z"
    }
   },
   "outputs": [],
   "source": [
    "winding_surf.save(\"surf.h5\")"
   ]
  }
 ],
 "metadata": {
  "kernelspec": {
   "display_name": "Python 3 (ipykernel)",
   "language": "python",
   "name": "python3"
  },
  "language_info": {
   "codemirror_mode": {
    "name": "ipython",
    "version": 3
   },
   "file_extension": ".py",
   "mimetype": "text/x-python",
   "name": "python",
   "nbconvert_exporter": "python",
   "pygments_lexer": "ipython3",
   "version": "3.12.4"
  }
 },
 "nbformat": 4,
 "nbformat_minor": 5
}
