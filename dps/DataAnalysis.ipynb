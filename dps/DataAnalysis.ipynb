{
 "cells": [
  {
   "cell_type": "code",
   "execution_count": null,
   "metadata": {},
   "outputs": [],
   "source": [
    "from desc.grid import Grid, LinearGrid\n",
    "from desc.backend import jnp\n",
    "import matplotlib.pyplot as plt\n",
    "import desc.equilibrium\n",
    "from desc.equilibrium import Equilibrium\n",
    "from desc.plotting import plot_3d\n",
    "import numpy as np\n",
    "import plotly.graph_objects as go"
   ]
  },
  {
   "cell_type": "code",
   "execution_count": null,
   "metadata": {},
   "outputs": [],
   "source": [
    "def read_and_reshape(filename, n_cols=4):\n",
    "    data = np.loadtxt(filename, delimiter='\\t')\n",
    "    n_rows, total_cols = data.shape\n",
    "    \n",
    "    # Calculate n_components\n",
    "    n_components = total_cols // n_cols\n",
    "    \n",
    "    # Reshape the data into the desired 3D shape\n",
    "    reshaped_data = np.zeros((n_components, n_rows, n_cols))\n",
    "    for i in range(n_components):\n",
    "        reshaped_data[i] = data[:, i*n_cols:(i+1)*n_cols]\n",
    "\n",
    "    return reshaped_data"
   ]
  },
  {
   "cell_type": "code",
   "execution_count": null,
   "metadata": {},
   "outputs": [],
   "source": [
    "def upload_data(filename):\n",
    "    data = np.loadtxt(filename)\n",
    "    return data\n",
    "\n",
    "data = read_and_reshape('solution_eq_0108_M1_N1.h5.txt')\n",
    "\n",
    "def Trajectory_Plot(solution, particle_index):\n",
    "    fig, ax = plt.subplots()\n",
    "    ax.plot(jnp.sqrt(solution[particle_index, :, 0]) * jnp.cos(solution[particle_index, :, 1]), jnp.sqrt(solution[particle_index, :, 0]) * jnp.sin(solution[particle_index, :, 1]))\n",
    "    ax.set_aspect(\"equal\", adjustable='box')\n",
    "    plt.xlabel(r'$\\sqrt{\\psi}cos(\\theta)$', fontsize=16)\n",
    "    plt.ylabel(r'$\\sqrt{\\psi}sin(\\theta)$', fontsize=16)\n",
    "    plt.xticks(fontsize=14)\n",
    "    plt.yticks(fontsize=14)\n",
    "    fig.set_size_inches(10.5, 10.5)\n",
    "    plt.show()\n",
    "\n",
    "def Quantity_Plot(tmax, solution, particle_index):\n",
    "    time = jnp.linspace(0, tmax, len(solution[particle_index, :, 0]))\n",
    "    fig, axs = plt.subplots(2, 2)\n",
    "    axs[0, 1].plot(time, solution[particle_index, :, 0], 'tab:orange')\n",
    "    axs[0, 1].set_title(r'$\\psi$ (t)', fontsize=16)\n",
    "    axs[1, 0].plot(time, solution[particle_index, :, 1], 'tab:green')\n",
    "    axs[1, 0].set_title(r'$\\theta$ (t)', fontsize=16)\n",
    "    axs[1, 1].plot(time, solution[particle_index, :, 2], 'tab:red')\n",
    "    axs[1, 1].set_title(r'$\\zeta$ (t)', fontsize=16)\n",
    "    axs[0, 0].plot(time, solution[particle_index, :, 3], 'tab:blue')\n",
    "    axs[0, 0].set_title(r\"$v_{\\parallel}$ (t)\")\n",
    "    for i in range(2):\n",
    "        for j in range(2):\n",
    "            axs[i, j].set_xlabel('Time (s)', fontsize=14)\n",
    "            axs[i, j].set_ylabel('Quantity', fontsize=14)\n",
    "            axs[i, j].ticklabel_format(style='sci', axis='y', scilimits=(0,0))\n",
    "            axs[i, j].ticklabel_format(style='sci', axis='x', scilimits=(0,0))\n",
    "            axs[i, j].tick_params(axis='both', which='major', labelsize=14)\n",
    "    fig.set_size_inches(10.5, 10.5)\n",
    "    plt.show()\n",
    "\n",
    "def Trajectory_3D_Plot(solution, particle_index, data_desc_list):\n",
    "    grid = LinearGrid(rho=np.sqrt(0.9), M = 100, N = 100)\n",
    "    fig = plot_3d(eq, \"B\", alpha=0.3, grid=grid)\n",
    "    for data_desc in data_desc_list:\n",
    "        fig.add_trace(go.Scatter3d(x=data_desc[\"X\"], y=data_desc[\"Y\"], z=data_desc[\"Z\"], mode='markers', marker_size=2))\n",
    "    fig.show()\n",
    "\n",
    "def Trajectory_All(solution):\n",
    "    fig, ax = plt.subplots()\n",
    "    for particle_index in range(len(solution)):\n",
    "        ax.plot(jnp.sqrt(solution[particle_index, :, 0]) * jnp.cos(solution[particle_index, :, 1]), jnp.sqrt(solution[particle_index, :, 0]) * jnp.sin(solution[particle_index, :, 1]))\n",
    "    ax.set_aspect(\"equal\", adjustable='box')\n",
    "    plt.xlabel(r'$\\sqrt{\\psi}cos(\\theta)$', fontsize=16)\n",
    "    plt.ylabel(r'$\\sqrt{\\psi}sin(\\theta)$', fontsize=16)\n",
    "    plt.xticks(fontsize=14)\n",
    "    plt.yticks(fontsize=14)\n",
    "    fig.set_size_inches(10.5, 10.5)\n",
    "    plt.show()\n"
   ]
  },
  {
   "cell_type": "code",
   "execution_count": null,
   "metadata": {},
   "outputs": [],
   "source": [
    "data.shape"
   ]
  },
  {
   "cell_type": "code",
   "execution_count": null,
   "metadata": {},
   "outputs": [],
   "source": [
    "eq = desc.io.load(\"eq_0108_M1_N1.h5\")\n",
    "eq._iota = eq.get_profile(\"iota\").to_powerseries(order=eq.L, sym=True)\n",
    "eq._current = None"
   ]
  },
  {
   "cell_type": "code",
   "execution_count": null,
   "metadata": {},
   "outputs": [],
   "source": [
    "grid_list = [Grid(np.vstack((np.sqrt(data[i, :, 0]), data[i, :, 1], data[i, :, 2])).T,sort=False) for i in range(data.shape[0])]\n",
    "\n",
    "data_desc_list = [eq.compute([\"X\", \"Y\", \"Z\"], grid) for grid in grid_list]"
   ]
  },
  {
   "cell_type": "code",
   "execution_count": null,
   "metadata": {},
   "outputs": [],
   "source": [
    "def plot_trajectory(ax=None, **kwargs):\n",
    "    if ax is None:\n",
    "        fig = plt.figure()\n",
    "        ax = plt.figure().add_subplot(projection='3d')\n",
    "    for data_desc in data_desc_list:\n",
    "        ax.scatter(data_desc[\"X\"], data_desc[\"Y\"], data_desc[\"Z\"], **kwargs)\n",
    "  \n",
    "    return ax\n",
    "\n",
    "ax = plot_trajectory(color=\"r\", marker=\".\")\n",
    "# ax = plot_trajectory(data2, ax=ax, color=\"b\", marker=\".\")"
   ]
  },
  {
   "cell_type": "code",
   "execution_count": null,
   "metadata": {},
   "outputs": [],
   "source": [
    "grid = LinearGrid(rho=np.sqrt(0.9), M = 100, N = 100)\n",
    "fig = plot_3d(eq, \"B\", alpha=0.3, grid=grid)\n",
    "for data_desc in data_desc_list:\n",
    "    fig.add_trace(go.Scatter3d(x=data_desc[\"X\"], y=data_desc[\"Y\"], z=data_desc[\"Z\"], mode='markers', marker_size=2))\n",
    "fig.show()\n",
    "# fig.write_image(\"surface_and_tracing.png\")"
   ]
  },
  {
   "cell_type": "code",
   "execution_count": null,
   "metadata": {},
   "outputs": [],
   "source": [
    "Trajectory_All(data)"
   ]
  },
  {
   "cell_type": "code",
   "execution_count": null,
   "metadata": {},
   "outputs": [],
   "source": [
    "Quantity_Plot(1e-2, data, 3)"
   ]
  },
  {
   "cell_type": "code",
   "execution_count": null,
   "metadata": {},
   "outputs": [],
   "source": [
    "def objective(solution):\n",
    "    new = jnp.repeat(solution[:, :, 0][:, 0:1], solution[:, :, 0].shape[1], axis=1)\n",
    "    return jnp.sum(jnp.sum((solution[:, :, 0] - new)**2, axis=-1), axis=-1)"
   ]
  },
  {
   "cell_type": "code",
   "execution_count": null,
   "metadata": {},
   "outputs": [],
   "source": [
    "objective(data)"
   ]
  },
  {
   "cell_type": "code",
   "execution_count": null,
   "metadata": {},
   "outputs": [],
   "source": [
    "def old_objective(solution, i):\n",
    "    return jnp.sum((solution[i, :, 0] - solution[i, 0, 0]) * (solution[i, :, 0] - solution[i, 0, 0]), axis=-1)\n",
    "\n",
    "old_objective(data, 17)"
   ]
  },
  {
   "cell_type": "code",
   "execution_count": null,
   "metadata": {},
   "outputs": [],
   "source": []
  }
 ],
 "metadata": {
  "kernelspec": {
   "display_name": "desc-env",
   "language": "python",
   "name": "python3"
  },
  "language_info": {
   "codemirror_mode": {
    "name": "ipython",
    "version": 3
   },
   "file_extension": ".py",
   "mimetype": "text/x-python",
   "name": "python",
   "nbconvert_exporter": "python",
   "pygments_lexer": "ipython3",
   "version": "3.12.2"
  }
 },
 "nbformat": 4,
 "nbformat_minor": 2
}
