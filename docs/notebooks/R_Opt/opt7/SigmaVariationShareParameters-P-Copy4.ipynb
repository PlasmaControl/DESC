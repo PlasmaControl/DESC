{
 "cells": [
  {
   "cell_type": "code",
   "execution_count": 1,
   "id": "95db89f2",
   "metadata": {
    "execution": {
     "iopub.execute_input": "2024-11-13T20:01:33.288439Z",
     "iopub.status.busy": "2024-11-13T20:01:33.288315Z",
     "iopub.status.idle": "2024-11-13T20:01:33.292324Z",
     "shell.execute_reply": "2024-11-13T20:01:33.292005Z"
    }
   },
   "outputs": [],
   "source": [
    "# Optimize Sigma Variation with ShareParameters"
   ]
  },
  {
   "cell_type": "code",
   "execution_count": 2,
   "id": "6157e070",
   "metadata": {
    "execution": {
     "iopub.execute_input": "2024-11-13T20:01:33.293826Z",
     "iopub.status.busy": "2024-11-13T20:01:33.293704Z",
     "iopub.status.idle": "2024-11-13T20:01:33.865705Z",
     "shell.execute_reply": "2024-11-13T20:01:33.865317Z"
    }
   },
   "outputs": [],
   "source": [
    "from desc import set_device\n",
    "set_device(\"gpu\")"
   ]
  },
  {
   "cell_type": "code",
   "execution_count": 3,
   "id": "82f24a59",
   "metadata": {
    "execution": {
     "iopub.execute_input": "2024-11-13T20:01:33.867780Z",
     "iopub.status.busy": "2024-11-13T20:01:33.867645Z",
     "iopub.status.idle": "2024-11-13T20:01:39.636016Z",
     "shell.execute_reply": "2024-11-13T20:01:39.635623Z"
    }
   },
   "outputs": [
    {
     "name": "stdout",
     "output_type": "stream",
     "text": [
      "DESC version 0.12.3+553.gcb761a802.dirty,using JAX backend, jax version=0.4.35, jaxlib version=0.4.34, dtype=float64"
     ]
    },
    {
     "name": "stdout",
     "output_type": "stream",
     "text": [
      "\n"
     ]
    },
    {
     "name": "stdout",
     "output_type": "stream",
     "text": [
      "Using device: NVIDIA A100-SXM4-80GB (id=0), with 80.00 GB available memory"
     ]
    },
    {
     "name": "stdout",
     "output_type": "stream",
     "text": [
      "\n"
     ]
    }
   ],
   "source": [
    "import numpy as np\n",
    "import os\n",
    "# os.environ[\"JAX_LOG_COMPILES\"] = \"True\"\n",
    "from scipy.io import netcdf_file\n",
    "import copy\n",
    "import matplotlib\n",
    "import matplotlib.pyplot as plt\n",
    "import scipy\n",
    "from scipy.constants import mu_0\n",
    "import sys\n",
    "import functools\n",
    "import pickle\n",
    "\n",
    "import jax\n",
    "import jax.numpy as jnp\n",
    "from jax import jit, jacfwd\n",
    "\n",
    "from netCDF4 import Dataset\n",
    "import h5py\n",
    "\n",
    "from desc.backend import put, fori_loop, jnp, sign\n",
    "\n",
    "from desc.basis import FourierZernikeBasis, DoubleFourierSeries, FourierSeries\n",
    "from desc.equilibrium import EquilibriaFamily, Equilibrium\n",
    "from desc.grid import ConcentricGrid, LinearGrid, Grid, QuadratureGrid\n",
    "from desc.io import InputReader, load\n",
    "from desc.objectives import *\n",
    "from desc.objectives.objective_funs import _Objective\n",
    "from desc.plotting import plot_1d, plot_2d, plot_3d, plot_section, plot_surfaces, plot_comparison\n",
    "\n",
    "from desc.plotting import *\n",
    "\n",
    "from desc.transform import Transform\n",
    "from desc.vmec import VMECIO\n",
    "from desc.derivatives import Derivative\n",
    "from desc.geometry import FourierRZToroidalSurface\n",
    "from desc.profiles import SplineProfile, PowerSeriesProfile\n",
    "\n",
    "from desc.magnetic_fields import ( SplineMagneticField, \n",
    "                                  #biot_savart_general, \n",
    "                                  FourierCurrentPotentialField, ToroidalMagneticField,\n",
    "                                  field_line_integrate)\n",
    "\n",
    "import desc.examples\n",
    "\n",
    "from desc.backend import fori_loop, jit, jnp, odeint, sign\n",
    "from desc.compute import rpz2xyz, rpz2xyz_vec, xyz2rpz, xyz2rpz_vec\n",
    "from desc.coils import *\n",
    "\n",
    "from desc.utils import Timer, copy_coeffs, errorif, setdefault, svd_inv_null, warnif\n",
    "from desc.utils import flatten_list\n",
    "\n",
    "#from ..utils import cross, dot, safediv, safenorm\n",
    "#from desc.compute.utils import cross\n",
    "#from desc.compute.utils import dot\n",
    "\n",
    "from desc.optimize import lsqtr, lsq_auglag\n",
    "\n",
    "from scipy.optimize import NonlinearConstraint \n",
    "\n",
    "from desc.magnetic_fields import ( SplineMagneticField, \n",
    "                                  #biot_savart_general, \n",
    "                                  FourierCurrentPotentialField, \n",
    "                                  ToroidalMagneticField,\n",
    "                                  field_line_integrate)\n",
    "\n",
    "import time\n",
    "\n",
    "import numpy as np\n",
    "from numpy.linalg import eig\n",
    "\n",
    "from scipy.linalg import null_space\n",
    "from numpy import ndarray\n",
    "\n",
    "\n",
    "from desc.derivatives import Derivative\n",
    "\n",
    "# Import my own functions\n",
    "from desc.fns_simp import (#data_eval, \n",
    "                           #_compute_magnetic_field_from_Current,\n",
    "                           plot_figure,\n",
    "                           plot_figure2,\n",
    "                           #plot_xy,\n",
    "                           #surf_int\n",
    "                          )"
   ]
  },
  {
   "cell_type": "code",
   "execution_count": 4,
   "id": "7facc8bb",
   "metadata": {
    "execution": {
     "iopub.execute_input": "2024-11-13T20:01:39.638258Z",
     "iopub.status.busy": "2024-11-13T20:01:39.638039Z",
     "iopub.status.idle": "2024-11-13T20:01:39.640998Z",
     "shell.execute_reply": "2024-11-13T20:01:39.640680Z"
    }
   },
   "outputs": [],
   "source": [
    "#from desc.continuation import solve_continuation_automatic\n",
    "\n",
    "from desc.objectives import (\n",
    "    #AspectRatio,\n",
    "    #FixBoundaryR,\n",
    "    #FixBoundaryZ,\n",
    "    #FixCurrent,\n",
    "    #FixPressure,\n",
    "    #FixPsi,\n",
    "    #ForceBalance,\n",
    "    ObjectiveFunction,\n",
    "    #QuasisymmetryTwoTerm,\n",
    "    #RotationalTransform,\n",
    "    FixParameters, \n",
    "    ShareParameters,\n",
    "    QuadraticFlux, \n",
    "    SurfaceCurrentRegularization, \n",
    "    bRegularization_fd,\n",
    "    CoilThicknessRegularization,\n",
    "    PlasmaVesselDistance,\n",
    "    MeanCurvature,\n",
    "    PrincipalCurvature,\n",
    ")\n",
    "from desc.optimize import Optimizer"
   ]
  },
  {
   "cell_type": "code",
   "execution_count": 5,
   "id": "8372a00d-f467-4978-9ce0-a74349ed71c9",
   "metadata": {
    "execution": {
     "iopub.execute_input": "2024-11-13T20:01:39.642610Z",
     "iopub.status.busy": "2024-11-13T20:01:39.642483Z",
     "iopub.status.idle": "2024-11-13T20:01:41.033526Z",
     "shell.execute_reply": "2024-11-13T20:01:41.033107Z"
    },
    "scrolled": true
   },
   "outputs": [],
   "source": [
    "# Plasma surfaces\n",
    "eqname_QA = \"/home/fcastro/LMStell/regcoil/rogerio/input.QA_final_output.h5\" #vacuum equilibrium\n",
    "eq_QA = desc.io.load(eqname_QA)[4]\n",
    "\n",
    "eqname_QH = \"/home/fcastro/LMStell/regcoil/rogerio/input.QH_final_output.h5\" #vacuum equilibrium\n",
    "eq_QH = desc.io.load(eqname_QH)[4]"
   ]
  },
  {
   "cell_type": "code",
   "execution_count": 6,
   "id": "6aa6bf12",
   "metadata": {
    "execution": {
     "iopub.execute_input": "2024-11-13T20:01:41.035627Z",
     "iopub.status.busy": "2024-11-13T20:01:41.035484Z",
     "iopub.status.idle": "2024-11-13T20:01:44.607006Z",
     "shell.execute_reply": "2024-11-13T20:01:44.606605Z"
    }
   },
   "outputs": [
    {
     "name": "stdout",
     "output_type": "stream",
     "text": [
      "<class 'numpy.ndarray'>"
     ]
    },
    {
     "name": "stdout",
     "output_type": "stream",
     "text": [
      "\n"
     ]
    },
    {
     "name": "stdout",
     "output_type": "stream",
     "text": [
      "<class 'numpy.ndarray'>"
     ]
    },
    {
     "name": "stdout",
     "output_type": "stream",
     "text": [
      "\n"
     ]
    },
    {
     "name": "stdout",
     "output_type": "stream",
     "text": [
      "<class 'numpy.ndarray'>"
     ]
    },
    {
     "name": "stdout",
     "output_type": "stream",
     "text": [
      "\n"
     ]
    },
    {
     "name": "stdout",
     "output_type": "stream",
     "text": [
      "<class 'numpy.ndarray'>"
     ]
    },
    {
     "name": "stdout",
     "output_type": "stream",
     "text": [
      "\n"
     ]
    }
   ],
   "source": [
    "G_QA = eq_QA.compute(\"G\")[\"G\"][-1] / mu_0 * 2*np.pi\n",
    "G_QH = eq_QH.compute(\"G\")[\"G\"][-1] / mu_0 * 2*np.pi"
   ]
  },
  {
   "cell_type": "code",
   "execution_count": 7,
   "id": "c930a631",
   "metadata": {
    "execution": {
     "iopub.execute_input": "2024-11-13T20:01:44.609148Z",
     "iopub.status.busy": "2024-11-13T20:01:44.609017Z",
     "iopub.status.idle": "2024-11-13T20:01:45.127858Z",
     "shell.execute_reply": "2024-11-13T20:01:45.127468Z"
    }
   },
   "outputs": [],
   "source": [
    "eq = eq_QA\n",
    "\n",
    "R0 = 1.0\n",
    "a = 0.3\n",
    "\n",
    "surf = FourierRZToroidalSurface(R_lmn=[R0,a], \n",
    "                                Z_lmn=[-a],\n",
    "                                modes_R=np.array([[0,0],[1,0]]),\n",
    "                                modes_Z=np.array([[-1,0]]),\n",
    "                                NFP=eq.NFP\n",
    "                               )\n",
    "surf.change_resolution(N=eq.N)\n",
    "\n",
    "eq.axis.R_n = eq_QA.axis.R_n + 0.5*(eq_QH.axis.R_n - eq_QA.axis.R_n)\n",
    "eq.axis.Z_n = eq_QA.axis.Z_n + 0.5*(eq_QH.axis.Z_n - eq_QA.axis.Z_n)\n",
    "\n",
    "######\n",
    "for coef, mode in zip(eq.axis.R_n, eq.axis.R_basis.modes):\n",
    "    n = mode[-1]\n",
    "    surf.R_lmn=surf.R_lmn.at[surf.R_basis.get_idx(M=0,N=n)].set( coef)\n",
    "for coef, mode in zip(eq.axis.Z_n, eq.axis.Z_basis.modes):\n",
    "    n = mode[-1]\n",
    "    surf.Z_lmn=surf.Z_lmn.at[surf.Z_basis.get_idx(M=0,N=n)].set( coef)"
   ]
  },
  {
   "cell_type": "code",
   "execution_count": 8,
   "id": "a431ad3a",
   "metadata": {
    "execution": {
     "iopub.execute_input": "2024-11-13T20:01:45.129967Z",
     "iopub.status.busy": "2024-11-13T20:01:45.129819Z",
     "iopub.status.idle": "2024-11-13T20:01:45.424255Z",
     "shell.execute_reply": "2024-11-13T20:01:45.423859Z"
    }
   },
   "outputs": [],
   "source": [
    "surf1 = surf\n",
    "\n",
    "surf1.change_resolution(M=16,N=8)\n",
    "\n",
    "#surf1.change_resolution(M=4,N=4)\n",
    "\n",
    "# Generate a Surface Current field for RQA\n",
    "surf1 = FourierCurrentPotentialField.from_surface(surf1,\n",
    "                                                  M_Phi=12,\n",
    "                                                  N_Phi=12,\n",
    "                                                  sym_Phi=False, \n",
    "                                                  I=0, \n",
    "                                                  G=G_QA)\n",
    "\n",
    "# Generate a Surface Current field for RQH\n",
    "surf2 = surf1.copy()\n",
    "surf2.G = G_QH"
   ]
  },
  {
   "cell_type": "code",
   "execution_count": 9,
   "id": "578a8996",
   "metadata": {
    "execution": {
     "iopub.execute_input": "2024-11-13T20:01:45.426356Z",
     "iopub.status.busy": "2024-11-13T20:01:45.426222Z",
     "iopub.status.idle": "2024-11-13T20:01:50.285506Z",
     "shell.execute_reply": "2024-11-13T20:01:50.285131Z"
    }
   },
   "outputs": [
    {
     "name": "stdout",
     "output_type": "stream",
     "text": [
      "<class 'jaxlib.xla_extension.ArrayImpl'>"
     ]
    },
    {
     "name": "stdout",
     "output_type": "stream",
     "text": [
      "\n"
     ]
    },
    {
     "name": "stdout",
     "output_type": "stream",
     "text": [
      "<class 'jaxlib.xla_extension.ArrayImpl'>"
     ]
    },
    {
     "name": "stdout",
     "output_type": "stream",
     "text": [
      "\n"
     ]
    },
    {
     "name": "stdout",
     "output_type": "stream",
     "text": [
      "<class 'jaxlib.xla_extension.ArrayImpl'>"
     ]
    },
    {
     "name": "stdout",
     "output_type": "stream",
     "text": [
      "\n"
     ]
    },
    {
     "name": "stdout",
     "output_type": "stream",
     "text": [
      "<class 'jaxlib.xla_extension.ArrayImpl'>"
     ]
    },
    {
     "name": "stdout",
     "output_type": "stream",
     "text": [
      "\n"
     ]
    },
    {
     "name": "stdout",
     "output_type": "stream",
     "text": [
      "<class 'jaxlib.xla_extension.ArrayImpl'>"
     ]
    },
    {
     "name": "stdout",
     "output_type": "stream",
     "text": [
      "\n"
     ]
    },
    {
     "name": "stdout",
     "output_type": "stream",
     "text": [
      "<class 'jaxlib.xla_extension.ArrayImpl'>"
     ]
    },
    {
     "name": "stdout",
     "output_type": "stream",
     "text": [
      "\n"
     ]
    },
    {
     "data": {
      "text/plain": [
       "(<Figure size 864x720 with 6 Axes>,\n",
       " array([<Axes: title={'center': '$\\\\phi \\\\cdot N_{FP}/2\\\\pi = 0.000$'}, xlabel='$R ~(\\\\mathrm{m})$', ylabel='$Z ~(\\\\mathrm{m})$'>,\n",
       "        <Axes: title={'center': '$\\\\phi \\\\cdot N_{FP}/2\\\\pi = 0.167$'}, xlabel='$R ~(\\\\mathrm{m})$', ylabel='$Z ~(\\\\mathrm{m})$'>,\n",
       "        <Axes: title={'center': '$\\\\phi \\\\cdot N_{FP}/2\\\\pi = 0.333$'}, xlabel='$R ~(\\\\mathrm{m})$', ylabel='$Z ~(\\\\mathrm{m})$'>,\n",
       "        <Axes: title={'center': '$\\\\phi \\\\cdot N_{FP}/2\\\\pi = 0.500$'}, xlabel='$R ~(\\\\mathrm{m})$', ylabel='$Z ~(\\\\mathrm{m})$'>,\n",
       "        <Axes: title={'center': '$\\\\phi \\\\cdot N_{FP}/2\\\\pi = 0.667$'}, xlabel='$R ~(\\\\mathrm{m})$', ylabel='$Z ~(\\\\mathrm{m})$'>,\n",
       "        <Axes: title={'center': '$\\\\phi \\\\cdot N_{FP}/2\\\\pi = 0.833$'}, xlabel='$R ~(\\\\mathrm{m})$', ylabel='$Z ~(\\\\mathrm{m})$'>],\n",
       "       dtype=object))"
      ]
     },
     "execution_count": 9,
     "metadata": {},
     "output_type": "execute_result"
    },
    {
     "data": {
      "image/png": "[encoded data removed]",
      "text/plain": [
       "<Figure size 864x720 with 6 Axes>"
      ]
     },
     "metadata": {},
     "output_type": "display_data"
    }
   ],
   "source": [
    "plot_comparison([surf1,eq_QA,eq_QH],\n",
    "                labels=[\"WS\",\"RQA\",\"RQH\"],\n",
    "                theta=0,rho=np.array(1.0)\n",
    "               )"
   ]
  },
  {
   "cell_type": "code",
   "execution_count": 10,
   "id": "534d94cf",
   "metadata": {
    "execution": {
     "iopub.execute_input": "2024-11-13T20:01:50.287265Z",
     "iopub.status.busy": "2024-11-13T20:01:50.287127Z",
     "iopub.status.idle": "2024-11-13T20:01:50.290962Z",
     "shell.execute_reply": "2024-11-13T20:01:50.290648Z"
    }
   },
   "outputs": [
    {
     "data": {
      "text/plain": [
       "0.0"
      ]
     },
     "execution_count": 10,
     "metadata": {},
     "output_type": "execute_result"
    }
   ],
   "source": [
    "surf1.I"
   ]
  },
  {
   "cell_type": "code",
   "execution_count": 11,
   "id": "1402f1a1",
   "metadata": {
    "execution": {
     "iopub.execute_input": "2024-11-13T20:01:50.292400Z",
     "iopub.status.busy": "2024-11-13T20:01:50.292273Z",
     "iopub.status.idle": "2024-11-13T20:01:50.295563Z",
     "shell.execute_reply": "2024-11-13T20:01:50.295257Z"
    }
   },
   "outputs": [
    {
     "data": {
      "text/plain": [
       "0.0"
      ]
     },
     "execution_count": 11,
     "metadata": {},
     "output_type": "execute_result"
    }
   ],
   "source": [
    "surf2.I"
   ]
  },
  {
   "cell_type": "code",
   "execution_count": 12,
   "id": "a182030f",
   "metadata": {
    "execution": {
     "iopub.execute_input": "2024-11-13T20:01:50.296973Z",
     "iopub.status.busy": "2024-11-13T20:01:50.296851Z",
     "iopub.status.idle": "2024-11-13T20:01:50.299057Z",
     "shell.execute_reply": "2024-11-13T20:01:50.298749Z"
    }
   },
   "outputs": [],
   "source": [
    "## setup opt problem\n",
    "# use QuadraticFlux as eq's are fixed and want fields to change\n",
    "# use ShareParameters to keep surface geoms constant equal to eachother as they vary with surface current to reduce Bn\n",
    "# first, keep surfs fixed too and just get regcoil-like solutions for each"
   ]
  },
  {
   "cell_type": "code",
   "execution_count": 13,
   "id": "79a82b9d",
   "metadata": {
    "execution": {
     "iopub.execute_input": "2024-11-13T20:01:50.300452Z",
     "iopub.status.busy": "2024-11-13T20:01:50.300331Z",
     "iopub.status.idle": "2024-11-13T20:01:50.307050Z",
     "shell.execute_reply": "2024-11-13T20:01:50.306729Z"
    }
   },
   "outputs": [],
   "source": [
    "# Grids\n",
    "Megrid = 20\n",
    "Negrid = 20\n",
    "\n",
    "Msgrid = 20\n",
    "Nsgrid = 20\n",
    "\n",
    "egrid = LinearGrid(M=Megrid,N=Negrid,\n",
    "                   NFP=eq.NFP,\n",
    "                   sym=False)\n",
    "\n",
    "sgrid = LinearGrid(M=Msgrid,N=Nsgrid,\n",
    "                   NFP=eq.NFP,\n",
    "                   sym=False) "
   ]
  },
  {
   "cell_type": "code",
   "execution_count": 14,
   "id": "eb4fb7bc",
   "metadata": {
    "execution": {
     "iopub.execute_input": "2024-11-13T20:01:50.308837Z",
     "iopub.status.busy": "2024-11-13T20:01:50.308714Z",
     "iopub.status.idle": "2024-11-13T20:01:50.312038Z",
     "shell.execute_reply": "2024-11-13T20:01:50.311727Z"
    }
   },
   "outputs": [
    {
     "data": {
      "text/plain": [
       "3"
      ]
     },
     "execution_count": 14,
     "metadata": {},
     "output_type": "execute_result"
    }
   ],
   "source": [
    "surf1.NFP"
   ]
  },
  {
   "cell_type": "code",
   "execution_count": 15,
   "id": "1698fbf4",
   "metadata": {
    "execution": {
     "iopub.execute_input": "2024-11-13T20:01:50.313449Z",
     "iopub.status.busy": "2024-11-13T20:01:50.313327Z",
     "iopub.status.idle": "2024-11-13T20:01:50.315522Z",
     "shell.execute_reply": "2024-11-13T20:01:50.315211Z"
    }
   },
   "outputs": [],
   "source": [
    "## setup opt problem\n",
    "# use QuadraticFlux as eq's are fixed and want fields to change\n",
    "# use ShareParameters to keep surface geoms constant equal\n",
    "# to eachother as they vary with surface current to reduce Bn"
   ]
  },
  {
   "cell_type": "code",
   "execution_count": 16,
   "id": "c672cc36",
   "metadata": {
    "execution": {
     "iopub.execute_input": "2024-11-13T20:01:50.316921Z",
     "iopub.status.busy": "2024-11-13T20:01:50.316797Z",
     "iopub.status.idle": "2024-11-13T20:01:50.319636Z",
     "shell.execute_reply": "2024-11-13T20:01:50.319328Z"
    }
   },
   "outputs": [],
   "source": [
    "flux_QA = QuadraticFlux(eq_QA,surf1,\n",
    "                        field_grid=sgrid,\n",
    "                        eval_grid=egrid,\n",
    "                        vacuum=True,\n",
    "                        weight = 1.75,\n",
    "                        name=\"Bn error  eq_QA\")\n",
    "\n",
    "flux_QH = QuadraticFlux(eq_QH,surf2,\n",
    "                        field_grid=sgrid,\n",
    "                        eval_grid=egrid,\n",
    "                        vacuum=True,\n",
    "                        weight = 1.75,\n",
    "                        name=\"Bn error  eq_QH\")"
   ]
  },
  {
   "cell_type": "code",
   "execution_count": 17,
   "id": "7057e33e",
   "metadata": {
    "execution": {
     "iopub.execute_input": "2024-11-13T20:01:50.321045Z",
     "iopub.status.busy": "2024-11-13T20:01:50.320921Z",
     "iopub.status.idle": "2024-11-13T20:01:50.324163Z",
     "shell.execute_reply": "2024-11-13T20:01:50.323853Z"
    }
   },
   "outputs": [],
   "source": [
    "# Distance target\n",
    "min_QA = 0.05\n",
    "max_QA = 0.25\n",
    "\n",
    "min_QH = 0.05\n",
    "max_QH = 0.25#1#0.28\n",
    "\n",
    "# Distance to veseel penalization\n",
    "obj_dist_QA = PlasmaVesselDistance(\n",
    "    eq_QA,\n",
    "    surf1,\n",
    "    bounds=(min_QA,max_QA),\n",
    "    #target = 0.15,\n",
    "    plasma_grid=egrid,\n",
    "    surface_grid=sgrid,\n",
    "    eq_fixed=True,\n",
    "    #softmin_alpha = 1e6,\n",
    "    weight = 1,\n",
    "    use_signed_distance=True,\n",
    "    name=\"distance error  RQA\"\n",
    ")\n",
    "\n",
    "obj_dist_QH = PlasmaVesselDistance(\n",
    "    eq_QH,\n",
    "    surf1,\n",
    "    #target = 0.15,\n",
    "    bounds=(min_QH,max_QH),\n",
    "    plasma_grid=egrid,\n",
    "    surface_grid=sgrid,\n",
    "    eq_fixed=True,\n",
    "    #softmin_alpha = 1e6,\n",
    "    use_signed_distance=True,\n",
    "    weight = 1,\n",
    "    name=\"distance error  RQH\"\n",
    ")"
   ]
  },
  {
   "cell_type": "code",
   "execution_count": 18,
   "id": "c670843f",
   "metadata": {
    "execution": {
     "iopub.execute_input": "2024-11-13T20:01:50.325565Z",
     "iopub.status.busy": "2024-11-13T20:01:50.325441Z",
     "iopub.status.idle": "2024-11-13T20:01:50.328185Z",
     "shell.execute_reply": "2024-11-13T20:01:50.327875Z"
    }
   },
   "outputs": [],
   "source": [
    "mean_curv = -0.3\n",
    "min_mean_curv = 0#-0.5\n",
    "max_mean_curv = -0.15\n",
    "\n",
    "obj_mean_curv = MeanCurvature(\n",
    "    surf1,\n",
    "    #target = mean_curv,\n",
    "    bounds = (-1,1),\n",
    "    weight=1e-2,\n",
    "    normalize=True,\n",
    "    normalize_target=True,\n",
    "    deriv_mode=\"auto\",\n",
    "    grid=sgrid,\n",
    "    name=\"Mean curvature\",\n",
    ")"
   ]
  },
  {
   "cell_type": "code",
   "execution_count": 19,
   "id": "65848857",
   "metadata": {
    "execution": {
     "iopub.execute_input": "2024-11-13T20:01:50.330611Z",
     "iopub.status.busy": "2024-11-13T20:01:50.330488Z",
     "iopub.status.idle": "2024-11-13T20:01:50.333482Z",
     "shell.execute_reply": "2024-11-13T20:01:50.333162Z"
    }
   },
   "outputs": [],
   "source": [
    "obj_prin_curv = PrincipalCurvature(surf1,\n",
    "        #target=None,\n",
    "        bounds=(-15,-10),\n",
    "        weight=2e0,\n",
    "        #normalize=True,\n",
    "        #normalize_target=True,\n",
    "        #loss_function=None,\n",
    "        #deriv_mode=\"auto\",\n",
    "        grid=sgrid,\n",
    "        name=\"principal-curvature\",\n",
    "        #jac_chunk_size=None,\n",
    "    )"
   ]
  },
  {
   "cell_type": "code",
   "execution_count": 20,
   "id": "8c4a514a",
   "metadata": {
    "execution": {
     "iopub.execute_input": "2024-11-13T20:01:50.335191Z",
     "iopub.status.busy": "2024-11-13T20:01:50.335072Z",
     "iopub.status.idle": "2024-11-13T20:01:50.338506Z",
     "shell.execute_reply": "2024-11-13T20:01:50.338184Z"
    }
   },
   "outputs": [],
   "source": [
    "Jmax = 5e7 # max current density 50 MA/m2\n",
    "tmax = 2e-1 # max thickness desired for coils: 10 cm\n",
    "\n",
    "b_M = 10\n",
    "b_N = 10\n",
    "\n",
    "obj_thickness_QA = CoilThicknessRegularization(surf1,\n",
    "                                               M_b = b_M,\n",
    "                                               N_b = b_N,\n",
    "                                               #target=None,\n",
    "                                               bounds = (0,Jmax*tmax),\n",
    "                                               weight = 2,\n",
    "                                               #normalize=True,\n",
    "                                               #normalize_target=True,\n",
    "                                               #loss_function=None,\n",
    "                                               deriv_mode=\"auto\",\n",
    "                                               source_grid = sgrid,\n",
    "                                               name = \"Coil Thickness Regularization: QA\",\n",
    "                                              )\n",
    "\n",
    "obj_thickness_QH = CoilThicknessRegularization(surf2,\n",
    "                                               M_b = b_M,\n",
    "                                               N_b = b_N,\n",
    "                                               #target=None,\n",
    "                                               bounds = (0,Jmax*tmax),\n",
    "                                               weight = 2,\n",
    "                                               #normalize=True,\n",
    "                                               #normalize_target=True,\n",
    "                                               #loss_function=None,\n",
    "                                               deriv_mode=\"auto\",\n",
    "                                               source_grid = sgrid,\n",
    "                                               name = \"Coil Thickness Regularization: QH\",\n",
    "                                              )"
   ]
  },
  {
   "cell_type": "code",
   "execution_count": 21,
   "id": "15770a22-d51a-4563-830c-661825292f47",
   "metadata": {
    "execution": {
     "iopub.execute_input": "2024-11-13T20:01:50.339934Z",
     "iopub.status.busy": "2024-11-13T20:01:50.339814Z",
     "iopub.status.idle": "2024-11-13T20:01:50.342857Z",
     "shell.execute_reply": "2024-11-13T20:01:50.342539Z"
    }
   },
   "outputs": [],
   "source": [
    "obj = ObjectiveFunction((flux_QA,\n",
    "                         flux_QH,\n",
    "                         obj_dist_QA,\n",
    "                         obj_dist_QH,\n",
    "                         #obj_mean_curv,\n",
    "                         #obj_prin_curv,\n",
    "                         #surf_curr_reg_QA,\n",
    "                         #surf_curr_reg_QH,\n",
    "                         obj_thickness_QA,\n",
    "                         obj_thickness_QH,\n",
    "                         #obj_sigma_QH,\n",
    "                        )\n",
    "                       )\n",
    "constraints = (\n",
    "    FixParameters(surf1,{\"G\":True,}),# fix the secular poloidal current\n",
    "    FixParameters(surf2,{\"G\":True,}),# fix the secular poloidal current\n",
    "    # make the 2 surfaces have the same geometry, dont need bc geom is fixed here\n",
    "    ShareParameters([surf1,surf2],params={\"R_lmn\":True, \"Z_lmn\":True}), \n",
    ")"
   ]
  },
  {
   "cell_type": "code",
   "execution_count": 22,
   "id": "afef6860",
   "metadata": {
    "execution": {
     "iopub.execute_input": "2024-11-13T20:01:50.344268Z",
     "iopub.status.busy": "2024-11-13T20:01:50.344143Z",
     "iopub.status.idle": "2024-11-13T20:01:50.346435Z",
     "shell.execute_reply": "2024-11-13T20:01:50.346115Z"
    }
   },
   "outputs": [],
   "source": [
    "# Choose the optimizer\n",
    "opt = Optimizer(\"lsq-exact\")"
   ]
  },
  {
   "cell_type": "code",
   "execution_count": 23,
   "id": "d796fa7c",
   "metadata": {
    "execution": {
     "iopub.execute_input": "2024-11-13T20:01:50.347841Z",
     "iopub.status.busy": "2024-11-13T20:01:50.347720Z",
     "iopub.status.idle": "2024-11-13T20:03:46.918976Z",
     "shell.execute_reply": "2024-11-13T20:03:46.918527Z"
    },
    "scrolled": false
   },
   "outputs": [
    {
     "name": "stdout",
     "output_type": "stream",
     "text": [
      "Building objective: Bn error  eq_QA"
     ]
    },
    {
     "name": "stdout",
     "output_type": "stream",
     "text": [
      "\n"
     ]
    },
    {
     "name": "stdout",
     "output_type": "stream",
     "text": [
      "Precomputing transforms"
     ]
    },
    {
     "name": "stdout",
     "output_type": "stream",
     "text": [
      "\n"
     ]
    },
    {
     "name": "stdout",
     "output_type": "stream",
     "text": [
      "<class 'numpy.ndarray'>"
     ]
    },
    {
     "name": "stdout",
     "output_type": "stream",
     "text": [
      "\n"
     ]
    },
    {
     "name": "stdout",
     "output_type": "stream",
     "text": [
      "<class 'numpy.ndarray'>"
     ]
    },
    {
     "name": "stdout",
     "output_type": "stream",
     "text": [
      "\n"
     ]
    },
    {
     "name": "stdout",
     "output_type": "stream",
     "text": [
      "Timer: Precomputing transforms = 1.12 sec"
     ]
    },
    {
     "name": "stdout",
     "output_type": "stream",
     "text": [
      "\n"
     ]
    },
    {
     "name": "stdout",
     "output_type": "stream",
     "text": [
      "Building objective: Bn error  eq_QH"
     ]
    },
    {
     "name": "stdout",
     "output_type": "stream",
     "text": [
      "\n"
     ]
    },
    {
     "name": "stdout",
     "output_type": "stream",
     "text": [
      "Precomputing transforms"
     ]
    },
    {
     "name": "stdout",
     "output_type": "stream",
     "text": [
      "\n"
     ]
    },
    {
     "name": "stdout",
     "output_type": "stream",
     "text": [
      "<class 'numpy.ndarray'>"
     ]
    },
    {
     "name": "stdout",
     "output_type": "stream",
     "text": [
      "\n"
     ]
    },
    {
     "name": "stdout",
     "output_type": "stream",
     "text": [
      "<class 'numpy.ndarray'>"
     ]
    },
    {
     "name": "stdout",
     "output_type": "stream",
     "text": [
      "\n"
     ]
    },
    {
     "name": "stdout",
     "output_type": "stream",
     "text": [
      "Timer: Precomputing transforms = 46.1 ms"
     ]
    },
    {
     "name": "stdout",
     "output_type": "stream",
     "text": [
      "\n"
     ]
    },
    {
     "name": "stdout",
     "output_type": "stream",
     "text": [
      "Building objective: distance error  RQA"
     ]
    },
    {
     "name": "stdout",
     "output_type": "stream",
     "text": [
      "\n"
     ]
    },
    {
     "name": "stdout",
     "output_type": "stream",
     "text": [
      "Precomputing transforms"
     ]
    },
    {
     "name": "stdout",
     "output_type": "stream",
     "text": [
      "\n"
     ]
    },
    {
     "name": "stdout",
     "output_type": "stream",
     "text": [
      "<class 'numpy.ndarray'>"
     ]
    },
    {
     "name": "stdout",
     "output_type": "stream",
     "text": [
      "\n"
     ]
    },
    {
     "name": "stdout",
     "output_type": "stream",
     "text": [
      "<class 'numpy.ndarray'>"
     ]
    },
    {
     "name": "stdout",
     "output_type": "stream",
     "text": [
      "\n"
     ]
    },
    {
     "name": "stdout",
     "output_type": "stream",
     "text": [
      "<class 'numpy.ndarray'>"
     ]
    },
    {
     "name": "stdout",
     "output_type": "stream",
     "text": [
      "\n"
     ]
    },
    {
     "name": "stdout",
     "output_type": "stream",
     "text": [
      "<class 'numpy.ndarray'>"
     ]
    },
    {
     "name": "stdout",
     "output_type": "stream",
     "text": [
      "\n"
     ]
    },
    {
     "name": "stdout",
     "output_type": "stream",
     "text": [
      "Timer: Precomputing transforms = 118 ms"
     ]
    },
    {
     "name": "stdout",
     "output_type": "stream",
     "text": [
      "\n"
     ]
    },
    {
     "name": "stdout",
     "output_type": "stream",
     "text": [
      "Building objective: distance error  RQH"
     ]
    },
    {
     "name": "stdout",
     "output_type": "stream",
     "text": [
      "\n"
     ]
    },
    {
     "name": "stdout",
     "output_type": "stream",
     "text": [
      "Precomputing transforms"
     ]
    },
    {
     "name": "stdout",
     "output_type": "stream",
     "text": [
      "\n"
     ]
    },
    {
     "name": "stdout",
     "output_type": "stream",
     "text": [
      "<class 'numpy.ndarray'>"
     ]
    },
    {
     "name": "stdout",
     "output_type": "stream",
     "text": [
      "\n"
     ]
    },
    {
     "name": "stdout",
     "output_type": "stream",
     "text": [
      "<class 'numpy.ndarray'>"
     ]
    },
    {
     "name": "stdout",
     "output_type": "stream",
     "text": [
      "\n"
     ]
    },
    {
     "name": "stdout",
     "output_type": "stream",
     "text": [
      "<class 'numpy.ndarray'>"
     ]
    },
    {
     "name": "stdout",
     "output_type": "stream",
     "text": [
      "\n"
     ]
    },
    {
     "name": "stdout",
     "output_type": "stream",
     "text": [
      "<class 'numpy.ndarray'>"
     ]
    },
    {
     "name": "stdout",
     "output_type": "stream",
     "text": [
      "\n"
     ]
    },
    {
     "name": "stdout",
     "output_type": "stream",
     "text": [
      "Timer: Precomputing transforms = 36.3 ms"
     ]
    },
    {
     "name": "stdout",
     "output_type": "stream",
     "text": [
      "\n"
     ]
    },
    {
     "name": "stdout",
     "output_type": "stream",
     "text": [
      "Building objective: Coil Thickness Regularization: QA"
     ]
    },
    {
     "name": "stdout",
     "output_type": "stream",
     "text": [
      "\n"
     ]
    },
    {
     "name": "stdout",
     "output_type": "stream",
     "text": [
      "Precomputing transforms"
     ]
    },
    {
     "name": "stdout",
     "output_type": "stream",
     "text": [
      "\n"
     ]
    },
    {
     "name": "stdout",
     "output_type": "stream",
     "text": [
      "<class 'numpy.ndarray'>"
     ]
    },
    {
     "name": "stdout",
     "output_type": "stream",
     "text": [
      "\n"
     ]
    },
    {
     "name": "stdout",
     "output_type": "stream",
     "text": [
      "<class 'numpy.ndarray'>"
     ]
    },
    {
     "name": "stdout",
     "output_type": "stream",
     "text": [
      "\n"
     ]
    },
    {
     "name": "stdout",
     "output_type": "stream",
     "text": [
      "<class 'numpy.ndarray'>"
     ]
    },
    {
     "name": "stdout",
     "output_type": "stream",
     "text": [
      "\n"
     ]
    },
    {
     "name": "stdout",
     "output_type": "stream",
     "text": [
      "<class 'numpy.ndarray'>"
     ]
    },
    {
     "name": "stdout",
     "output_type": "stream",
     "text": [
      "\n"
     ]
    },
    {
     "name": "stdout",
     "output_type": "stream",
     "text": [
      "Timer: Precomputing transforms = 362 ms"
     ]
    },
    {
     "name": "stdout",
     "output_type": "stream",
     "text": [
      "\n"
     ]
    },
    {
     "name": "stdout",
     "output_type": "stream",
     "text": [
      "Building objective: Coil Thickness Regularization: QH"
     ]
    },
    {
     "name": "stdout",
     "output_type": "stream",
     "text": [
      "\n"
     ]
    },
    {
     "name": "stdout",
     "output_type": "stream",
     "text": [
      "Precomputing transforms"
     ]
    },
    {
     "name": "stdout",
     "output_type": "stream",
     "text": [
      "\n"
     ]
    },
    {
     "name": "stdout",
     "output_type": "stream",
     "text": [
      "<class 'numpy.ndarray'>"
     ]
    },
    {
     "name": "stdout",
     "output_type": "stream",
     "text": [
      "\n"
     ]
    },
    {
     "name": "stdout",
     "output_type": "stream",
     "text": [
      "<class 'numpy.ndarray'>"
     ]
    },
    {
     "name": "stdout",
     "output_type": "stream",
     "text": [
      "\n"
     ]
    },
    {
     "name": "stdout",
     "output_type": "stream",
     "text": [
      "<class 'numpy.ndarray'>"
     ]
    },
    {
     "name": "stdout",
     "output_type": "stream",
     "text": [
      "\n"
     ]
    },
    {
     "name": "stdout",
     "output_type": "stream",
     "text": [
      "<class 'numpy.ndarray'>"
     ]
    },
    {
     "name": "stdout",
     "output_type": "stream",
     "text": [
      "\n"
     ]
    },
    {
     "name": "stdout",
     "output_type": "stream",
     "text": [
      "Timer: Precomputing transforms = 78.1 ms"
     ]
    },
    {
     "name": "stdout",
     "output_type": "stream",
     "text": [
      "\n"
     ]
    },
    {
     "name": "stdout",
     "output_type": "stream",
     "text": [
      "Timer: Objective build = 2.16 sec"
     ]
    },
    {
     "name": "stdout",
     "output_type": "stream",
     "text": [
      "\n"
     ]
    },
    {
     "name": "stdout",
     "output_type": "stream",
     "text": [
      "Building objective: fixed parameters"
     ]
    },
    {
     "name": "stdout",
     "output_type": "stream",
     "text": [
      "\n"
     ]
    },
    {
     "name": "stdout",
     "output_type": "stream",
     "text": [
      "Building objective: fixed parameters"
     ]
    },
    {
     "name": "stdout",
     "output_type": "stream",
     "text": [
      "\n"
     ]
    },
    {
     "name": "stdout",
     "output_type": "stream",
     "text": [
      "Building objective: shared parameters"
     ]
    },
    {
     "name": "stdout",
     "output_type": "stream",
     "text": [
      "\n"
     ]
    },
    {
     "name": "stdout",
     "output_type": "stream",
     "text": [
      "Timer: Objective build = 65.9 ms"
     ]
    },
    {
     "name": "stdout",
     "output_type": "stream",
     "text": [
      "\n"
     ]
    },
    {
     "name": "stdout",
     "output_type": "stream",
     "text": [
      "Timer: Linear constraint projection build = 2.50 sec"
     ]
    },
    {
     "name": "stdout",
     "output_type": "stream",
     "text": [
      "\n"
     ]
    },
    {
     "name": "stdout",
     "output_type": "stream",
     "text": [
      "Number of parameters: 1813"
     ]
    },
    {
     "name": "stdout",
     "output_type": "stream",
     "text": [
      "\n"
     ]
    },
    {
     "name": "stdout",
     "output_type": "stream",
     "text": [
      "Number of objectives: 10086"
     ]
    },
    {
     "name": "stdout",
     "output_type": "stream",
     "text": [
      "\n"
     ]
    },
    {
     "name": "stdout",
     "output_type": "stream",
     "text": [
      "Timer: Initializing the optimization = 4.83 sec"
     ]
    },
    {
     "name": "stdout",
     "output_type": "stream",
     "text": [
      "\n"
     ]
    },
    {
     "name": "stdout",
     "output_type": "stream",
     "text": [
      "\n",
      "Starting optimization"
     ]
    },
    {
     "name": "stdout",
     "output_type": "stream",
     "text": [
      "\n"
     ]
    },
    {
     "name": "stdout",
     "output_type": "stream",
     "text": [
      "Using method: lsq-exact"
     ]
    },
    {
     "name": "stdout",
     "output_type": "stream",
     "text": [
      "\n"
     ]
    },
    {
     "name": "stdout",
     "output_type": "stream",
     "text": [
      "   Iteration     Total nfev        Cost      Cost reduction    Step norm     Optimality   "
     ]
    },
    {
     "name": "stdout",
     "output_type": "stream",
     "text": [
      "\n"
     ]
    },
    {
     "name": "stdout",
     "output_type": "stream",
     "text": [
      "       0              1          9.813e+02                                    1.794e+03   "
     ]
    },
    {
     "name": "stdout",
     "output_type": "stream",
     "text": [
      "\n"
     ]
    },
    {
     "name": "stdout",
     "output_type": "stream",
     "text": [
      "       1              7          9.768e+02      4.575e+00      5.960e+02      1.780e+03   "
     ]
    },
    {
     "name": "stdout",
     "output_type": "stream",
     "text": [
      "\n"
     ]
    },
    {
     "name": "stdout",
     "output_type": "stream",
     "text": [
      "       2              9          9.745e+02      2.264e+00      2.904e+02      1.773e+03   "
     ]
    },
    {
     "name": "stdout",
     "output_type": "stream",
     "text": [
      "\n"
     ]
    },
    {
     "name": "stdout",
     "output_type": "stream",
     "text": [
      "       3             11          9.734e+02      1.127e+00      1.440e+02      1.769e+03   "
     ]
    },
    {
     "name": "stdout",
     "output_type": "stream",
     "text": [
      "\n"
     ]
    },
    {
     "name": "stdout",
     "output_type": "stream",
     "text": [
      "       4             14          9.732e+02      1.406e-01      1.794e+01      1.769e+03   "
     ]
    },
    {
     "name": "stdout",
     "output_type": "stream",
     "text": [
      "\n"
     ]
    },
    {
     "name": "stdout",
     "output_type": "stream",
     "text": [
      "       5             16          9.732e+02      6.020e-02      8.967e+00      1.782e+03   "
     ]
    },
    {
     "name": "stdout",
     "output_type": "stream",
     "text": [
      "\n"
     ]
    },
    {
     "name": "stdout",
     "output_type": "stream",
     "text": [
      "       6             17          9.731e+02      6.440e-02      2.799e+00      1.782e+03   "
     ]
    },
    {
     "name": "stdout",
     "output_type": "stream",
     "text": [
      "\n"
     ]
    },
    {
     "name": "stdout",
     "output_type": "stream",
     "text": [
      "       7             18          9.730e+02      1.288e-01      5.598e+00      1.781e+03   "
     ]
    },
    {
     "name": "stdout",
     "output_type": "stream",
     "text": [
      "\n"
     ]
    },
    {
     "name": "stdout",
     "output_type": "stream",
     "text": [
      "       8             19          9.727e+02      2.574e-01      1.120e+01      1.779e+03   "
     ]
    },
    {
     "name": "stdout",
     "output_type": "stream",
     "text": [
      "\n"
     ]
    },
    {
     "name": "stdout",
     "output_type": "stream",
     "text": [
      "       9             20          9.722e+02      5.144e-01      2.240e+01      1.776e+03   "
     ]
    },
    {
     "name": "stdout",
     "output_type": "stream",
     "text": [
      "\n"
     ]
    },
    {
     "name": "stdout",
     "output_type": "stream",
     "text": [
      "      10             21          9.712e+02      1.027e+00      4.481e+01      1.771e+03   "
     ]
    },
    {
     "name": "stdout",
     "output_type": "stream",
     "text": [
      "\n"
     ]
    },
    {
     "name": "stdout",
     "output_type": "stream",
     "text": [
      "      11             22          9.691e+02      2.050e+00      8.964e+01      1.761e+03   "
     ]
    },
    {
     "name": "stdout",
     "output_type": "stream",
     "text": [
      "\n"
     ]
    },
    {
     "name": "stdout",
     "output_type": "stream",
     "text": [
      "      12             23          9.651e+02      4.084e+00      1.793e+02      1.747e+03   "
     ]
    },
    {
     "name": "stdout",
     "output_type": "stream",
     "text": [
      "\n"
     ]
    },
    {
     "name": "stdout",
     "output_type": "stream",
     "text": [
      "      13             24          9.569e+02      8.120e+00      3.581e+02      1.724e+03   "
     ]
    },
    {
     "name": "stdout",
     "output_type": "stream",
     "text": [
      "\n"
     ]
    },
    {
     "name": "stdout",
     "output_type": "stream",
     "text": [
      "      14             25          9.409e+02      1.606e+01      7.148e+02      1.680e+03   "
     ]
    },
    {
     "name": "stdout",
     "output_type": "stream",
     "text": [
      "\n"
     ]
    },
    {
     "name": "stdout",
     "output_type": "stream",
     "text": [
      "      15             26          9.094e+02      3.145e+01      1.424e+03      1.597e+03   "
     ]
    },
    {
     "name": "stdout",
     "output_type": "stream",
     "text": [
      "\n"
     ]
    },
    {
     "name": "stdout",
     "output_type": "stream",
     "text": [
      "      16             27          8.832e+02      2.626e+01      2.824e+03      4.079e+05   "
     ]
    },
    {
     "name": "stdout",
     "output_type": "stream",
     "text": [
      "\n"
     ]
    },
    {
     "name": "stdout",
     "output_type": "stream",
     "text": [
      "      17             28          8.535e+02      2.970e+01      1.369e+02      1.099e+05   "
     ]
    },
    {
     "name": "stdout",
     "output_type": "stream",
     "text": [
      "\n"
     ]
    },
    {
     "name": "stdout",
     "output_type": "stream",
     "text": [
      "      18             29          8.476e+02      5.877e+00      9.808e+01      1.586e+04   "
     ]
    },
    {
     "name": "stdout",
     "output_type": "stream",
     "text": [
      "\n"
     ]
    },
    {
     "name": "stdout",
     "output_type": "stream",
     "text": [
      "      19             30          8.257e+02      2.193e+01      8.914e+02      1.377e+03   "
     ]
    },
    {
     "name": "stdout",
     "output_type": "stream",
     "text": [
      "\n"
     ]
    },
    {
     "name": "stdout",
     "output_type": "stream",
     "text": [
      "      20             31          7.794e+02      4.628e+01      1.817e+03      1.251e+03   "
     ]
    },
    {
     "name": "stdout",
     "output_type": "stream",
     "text": [
      "\n"
     ]
    },
    {
     "name": "stdout",
     "output_type": "stream",
     "text": [
      "Warning: Maximum number of iterations has been exceeded."
     ]
    },
    {
     "name": "stdout",
     "output_type": "stream",
     "text": [
      "\n"
     ]
    },
    {
     "name": "stdout",
     "output_type": "stream",
     "text": [
      "         Current function value: 7.794e+02"
     ]
    },
    {
     "name": "stdout",
     "output_type": "stream",
     "text": [
      "\n"
     ]
    },
    {
     "name": "stdout",
     "output_type": "stream",
     "text": [
      "         Total delta_x: 8.176e+03"
     ]
    },
    {
     "name": "stdout",
     "output_type": "stream",
     "text": [
      "\n"
     ]
    },
    {
     "name": "stdout",
     "output_type": "stream",
     "text": [
      "         Iterations: 20"
     ]
    },
    {
     "name": "stdout",
     "output_type": "stream",
     "text": [
      "\n"
     ]
    },
    {
     "name": "stdout",
     "output_type": "stream",
     "text": [
      "         Function evaluations: 31"
     ]
    },
    {
     "name": "stdout",
     "output_type": "stream",
     "text": [
      "\n"
     ]
    },
    {
     "name": "stdout",
     "output_type": "stream",
     "text": [
      "         Jacobian evaluations: 21"
     ]
    },
    {
     "name": "stdout",
     "output_type": "stream",
     "text": [
      "\n"
     ]
    },
    {
     "name": "stdout",
     "output_type": "stream",
     "text": [
      "Timer: Solution time = 1.63 min"
     ]
    },
    {
     "name": "stdout",
     "output_type": "stream",
     "text": [
      "\n"
     ]
    },
    {
     "name": "stdout",
     "output_type": "stream",
     "text": [
      "Timer: Avg time per step = 4.67 sec"
     ]
    },
    {
     "name": "stdout",
     "output_type": "stream",
     "text": [
      "\n"
     ]
    },
    {
     "name": "stdout",
     "output_type": "stream",
     "text": [
      "=============================================================================================================="
     ]
    },
    {
     "name": "stdout",
     "output_type": "stream",
     "text": [
      "\n"
     ]
    },
    {
     "name": "stdout",
     "output_type": "stream",
     "text": [
      "                                                                 Start  -->   End"
     ]
    },
    {
     "name": "stdout",
     "output_type": "stream",
     "text": [
      "\n"
     ]
    },
    {
     "name": "stdout",
     "output_type": "stream",
     "text": [
      "Total (sum of squares):                                      9.813e+02  -->   7.794e+02, "
     ]
    },
    {
     "name": "stdout",
     "output_type": "stream",
     "text": [
      "\n"
     ]
    },
    {
     "name": "stdout",
     "output_type": "stream",
     "text": [
      "Maximum absolute Boundary normal field error:                3.501e-02  -->   3.535e-02 (T m^2)"
     ]
    },
    {
     "name": "stdout",
     "output_type": "stream",
     "text": [
      "\n"
     ]
    },
    {
     "name": "stdout",
     "output_type": "stream",
     "text": [
      "Minimum absolute Boundary normal field error:                3.129e-17  -->   2.266e-17 (T m^2)"
     ]
    },
    {
     "name": "stdout",
     "output_type": "stream",
     "text": [
      "\n"
     ]
    },
    {
     "name": "stdout",
     "output_type": "stream",
     "text": [
      "Average absolute Boundary normal field error:                1.035e-02  -->   9.974e-03 (T m^2)"
     ]
    },
    {
     "name": "stdout",
     "output_type": "stream",
     "text": [
      "\n"
     ]
    },
    {
     "name": "stdout",
     "output_type": "stream",
     "text": [
      "Maximum absolute Boundary normal field error:                3.169e-01  -->   3.200e-01 (normalized)"
     ]
    },
    {
     "name": "stdout",
     "output_type": "stream",
     "text": [
      "\n"
     ]
    },
    {
     "name": "stdout",
     "output_type": "stream",
     "text": [
      "Minimum absolute Boundary normal field error:                2.832e-16  -->   2.051e-16 (normalized)"
     ]
    },
    {
     "name": "stdout",
     "output_type": "stream",
     "text": [
      "\n"
     ]
    },
    {
     "name": "stdout",
     "output_type": "stream",
     "text": [
      "Average absolute Boundary normal field error:                9.372e-02  -->   9.027e-02 (normalized)"
     ]
    },
    {
     "name": "stdout",
     "output_type": "stream",
     "text": [
      "\n"
     ]
    },
    {
     "name": "stdout",
     "output_type": "stream",
     "text": [
      "Maximum absolute Boundary normal field error:                7.879e-02  -->   7.055e-02 (T m^2)"
     ]
    },
    {
     "name": "stdout",
     "output_type": "stream",
     "text": [
      "\n"
     ]
    },
    {
     "name": "stdout",
     "output_type": "stream",
     "text": [
      "Minimum absolute Boundary normal field error:                2.203e-17  -->   8.535e-06 (T m^2)"
     ]
    },
    {
     "name": "stdout",
     "output_type": "stream",
     "text": [
      "\n"
     ]
    },
    {
     "name": "stdout",
     "output_type": "stream",
     "text": [
      "Average absolute Boundary normal field error:                2.717e-02  -->   2.472e-02 (T m^2)"
     ]
    },
    {
     "name": "stdout",
     "output_type": "stream",
     "text": [
      "\n"
     ]
    },
    {
     "name": "stdout",
     "output_type": "stream",
     "text": [
      "Maximum absolute Boundary normal field error:                1.383e+00  -->   1.238e+00 (normalized)"
     ]
    },
    {
     "name": "stdout",
     "output_type": "stream",
     "text": [
      "\n"
     ]
    },
    {
     "name": "stdout",
     "output_type": "stream",
     "text": [
      "Minimum absolute Boundary normal field error:                3.866e-16  -->   1.498e-04 (normalized)"
     ]
    },
    {
     "name": "stdout",
     "output_type": "stream",
     "text": [
      "\n"
     ]
    },
    {
     "name": "stdout",
     "output_type": "stream",
     "text": [
      "Average absolute Boundary normal field error:                4.768e-01  -->   4.337e-01 (normalized)"
     ]
    },
    {
     "name": "stdout",
     "output_type": "stream",
     "text": [
      "\n"
     ]
    },
    {
     "name": "stdout",
     "output_type": "stream",
     "text": [
      "Maximum Plasma-vessel distance:                              3.257e-01  -->   3.246e-01 (m)"
     ]
    },
    {
     "name": "stdout",
     "output_type": "stream",
     "text": [
      "\n"
     ]
    },
    {
     "name": "stdout",
     "output_type": "stream",
     "text": [
      "Minimum Plasma-vessel distance:                              8.101e-02  -->   8.034e-02 (m)"
     ]
    },
    {
     "name": "stdout",
     "output_type": "stream",
     "text": [
      "\n"
     ]
    },
    {
     "name": "stdout",
     "output_type": "stream",
     "text": [
      "Average Plasma-vessel distance:                              2.011e-01  -->   1.963e-01 (m)"
     ]
    },
    {
     "name": "stdout",
     "output_type": "stream",
     "text": [
      "\n"
     ]
    },
    {
     "name": "stdout",
     "output_type": "stream",
     "text": [
      "Maximum Plasma-vessel distance:                              3.169e+00  -->   3.159e+00 (normalized)"
     ]
    },
    {
     "name": "stdout",
     "output_type": "stream",
     "text": [
      "\n"
     ]
    },
    {
     "name": "stdout",
     "output_type": "stream",
     "text": [
      "Minimum Plasma-vessel distance:                              7.883e-01  -->   7.817e-01 (normalized)"
     ]
    },
    {
     "name": "stdout",
     "output_type": "stream",
     "text": [
      "\n"
     ]
    },
    {
     "name": "stdout",
     "output_type": "stream",
     "text": [
      "Average Plasma-vessel distance:                              1.957e+00  -->   1.910e+00 (normalized)"
     ]
    },
    {
     "name": "stdout",
     "output_type": "stream",
     "text": [
      "\n"
     ]
    },
    {
     "name": "stdout",
     "output_type": "stream",
     "text": [
      "Maximum Plasma-vessel distance:                              3.097e-01  -->   2.884e-01 (m)"
     ]
    },
    {
     "name": "stdout",
     "output_type": "stream",
     "text": [
      "\n"
     ]
    },
    {
     "name": "stdout",
     "output_type": "stream",
     "text": [
      "Minimum Plasma-vessel distance:                              6.063e-02  -->   5.449e-02 (m)"
     ]
    },
    {
     "name": "stdout",
     "output_type": "stream",
     "text": [
      "\n"
     ]
    },
    {
     "name": "stdout",
     "output_type": "stream",
     "text": [
      "Average Plasma-vessel distance:                              1.994e-01  -->   1.976e-01 (m)"
     ]
    },
    {
     "name": "stdout",
     "output_type": "stream",
     "text": [
      "\n"
     ]
    },
    {
     "name": "stdout",
     "output_type": "stream",
     "text": [
      "Maximum Plasma-vessel distance:                              3.235e+00  -->   3.013e+00 (normalized)"
     ]
    },
    {
     "name": "stdout",
     "output_type": "stream",
     "text": [
      "\n"
     ]
    },
    {
     "name": "stdout",
     "output_type": "stream",
     "text": [
      "Minimum Plasma-vessel distance:                              6.333e-01  -->   5.692e-01 (normalized)"
     ]
    },
    {
     "name": "stdout",
     "output_type": "stream",
     "text": [
      "\n"
     ]
    },
    {
     "name": "stdout",
     "output_type": "stream",
     "text": [
      "Average Plasma-vessel distance:                              2.083e+00  -->   2.064e+00 (normalized)"
     ]
    },
    {
     "name": "stdout",
     "output_type": "stream",
     "text": [
      "\n"
     ]
    },
    {
     "name": "stdout",
     "output_type": "stream",
     "text": [
      "Maximum Coil Thickness Regularization:                       2.513e+06  -->   3.032e+06 A/m"
     ]
    },
    {
     "name": "stdout",
     "output_type": "stream",
     "text": [
      "\n"
     ]
    },
    {
     "name": "stdout",
     "output_type": "stream",
     "text": [
      "Minimum Coil Thickness Regularization:                       1.347e+06  -->   9.526e+05 A/m"
     ]
    },
    {
     "name": "stdout",
     "output_type": "stream",
     "text": [
      "\n"
     ]
    },
    {
     "name": "stdout",
     "output_type": "stream",
     "text": [
      "Average Coil Thickness Regularization:                       1.840e+06  -->   1.885e+06 A/m"
     ]
    },
    {
     "name": "stdout",
     "output_type": "stream",
     "text": [
      "\n"
     ]
    },
    {
     "name": "stdout",
     "output_type": "stream",
     "text": [
      "Maximum Coil Thickness Regularization:                       4.881e-01  -->   5.891e-01 (normalized)"
     ]
    },
    {
     "name": "stdout",
     "output_type": "stream",
     "text": [
      "\n"
     ]
    },
    {
     "name": "stdout",
     "output_type": "stream",
     "text": [
      "Minimum Coil Thickness Regularization:                       2.618e-01  -->   1.851e-01 (normalized)"
     ]
    },
    {
     "name": "stdout",
     "output_type": "stream",
     "text": [
      "\n"
     ]
    },
    {
     "name": "stdout",
     "output_type": "stream",
     "text": [
      "Average Coil Thickness Regularization:                       3.575e-01  -->   3.662e-01 (normalized)"
     ]
    },
    {
     "name": "stdout",
     "output_type": "stream",
     "text": [
      "\n"
     ]
    },
    {
     "name": "stdout",
     "output_type": "stream",
     "text": [
      "Maximum Coil Thickness Regularization:                       2.600e+06  -->   9.874e+06 A/m"
     ]
    },
    {
     "name": "stdout",
     "output_type": "stream",
     "text": [
      "\n"
     ]
    },
    {
     "name": "stdout",
     "output_type": "stream",
     "text": [
      "Minimum Coil Thickness Regularization:                       1.394e+06  -->   1.318e+06 A/m"
     ]
    },
    {
     "name": "stdout",
     "output_type": "stream",
     "text": [
      "\n"
     ]
    },
    {
     "name": "stdout",
     "output_type": "stream",
     "text": [
      "Average Coil Thickness Regularization:                       1.904e+06  -->   4.057e+06 A/m"
     ]
    },
    {
     "name": "stdout",
     "output_type": "stream",
     "text": [
      "\n"
     ]
    },
    {
     "name": "stdout",
     "output_type": "stream",
     "text": [
      "Maximum Coil Thickness Regularization:                       4.881e-01  -->   1.854e+00 (normalized)"
     ]
    },
    {
     "name": "stdout",
     "output_type": "stream",
     "text": [
      "\n"
     ]
    },
    {
     "name": "stdout",
     "output_type": "stream",
     "text": [
      "Minimum Coil Thickness Regularization:                       2.618e-01  -->   2.474e-01 (normalized)"
     ]
    },
    {
     "name": "stdout",
     "output_type": "stream",
     "text": [
      "\n"
     ]
    },
    {
     "name": "stdout",
     "output_type": "stream",
     "text": [
      "Average Coil Thickness Regularization:                       3.575e-01  -->   7.617e-01 (normalized)"
     ]
    },
    {
     "name": "stdout",
     "output_type": "stream",
     "text": [
      "\n"
     ]
    },
    {
     "name": "stdout",
     "output_type": "stream",
     "text": [
      "Fixed parameters error:                                      0.000e+00  -->   0.000e+00 (~)"
     ]
    },
    {
     "name": "stdout",
     "output_type": "stream",
     "text": [
      "\n"
     ]
    },
    {
     "name": "stdout",
     "output_type": "stream",
     "text": [
      "Fixed parameters error:                                      0.000e+00  -->   0.000e+00 (~)"
     ]
    },
    {
     "name": "stdout",
     "output_type": "stream",
     "text": [
      "\n"
     ]
    },
    {
     "name": "stdout",
     "output_type": "stream",
     "text": [
      "Shared parameters error:                                     0.000e+00  -->   0.000e+00 (~)"
     ]
    },
    {
     "name": "stdout",
     "output_type": "stream",
     "text": [
      "\n"
     ]
    },
    {
     "name": "stdout",
     "output_type": "stream",
     "text": [
      "=============================================================================================================="
     ]
    },
    {
     "name": "stdout",
     "output_type": "stream",
     "text": [
      "\n"
     ]
    }
   ],
   "source": [
    "# Run optimization\n",
    "(surf1, surf2),_ = opt.optimize([surf1, surf2], \n",
    "                                 objective=obj, \n",
    "                                 constraints=constraints,\n",
    "                                 verbose=3,\n",
    "                                 maxiter=20,\n",
    "                                ftol=0,\n",
    "                                gtol=0,\n",
    "                                xtol=0,\n",
    "                                 options={\"initial_trust_radius\":np.inf})"
   ]
  },
  {
   "cell_type": "code",
   "execution_count": 24,
   "id": "28030b89",
   "metadata": {
    "execution": {
     "iopub.execute_input": "2024-11-13T20:03:46.920987Z",
     "iopub.status.busy": "2024-11-13T20:03:46.920840Z",
     "iopub.status.idle": "2024-11-13T20:03:49.528624Z",
     "shell.execute_reply": "2024-11-13T20:03:49.528272Z"
    }
   },
   "outputs": [
    {
     "name": "stdout",
     "output_type": "stream",
     "text": [
      "<class 'jaxlib.xla_extension.ArrayImpl'>"
     ]
    },
    {
     "name": "stdout",
     "output_type": "stream",
     "text": [
      "\n"
     ]
    },
    {
     "name": "stdout",
     "output_type": "stream",
     "text": [
      "<class 'jaxlib.xla_extension.ArrayImpl'>"
     ]
    },
    {
     "name": "stdout",
     "output_type": "stream",
     "text": [
      "\n"
     ]
    },
    {
     "name": "stdout",
     "output_type": "stream",
     "text": [
      "<class 'jaxlib.xla_extension.ArrayImpl'>"
     ]
    },
    {
     "name": "stdout",
     "output_type": "stream",
     "text": [
      "\n"
     ]
    },
    {
     "name": "stdout",
     "output_type": "stream",
     "text": [
      "<class 'jaxlib.xla_extension.ArrayImpl'>"
     ]
    },
    {
     "name": "stdout",
     "output_type": "stream",
     "text": [
      "\n"
     ]
    },
    {
     "name": "stdout",
     "output_type": "stream",
     "text": [
      "<class 'jaxlib.xla_extension.ArrayImpl'>"
     ]
    },
    {
     "name": "stdout",
     "output_type": "stream",
     "text": [
      "\n"
     ]
    },
    {
     "name": "stdout",
     "output_type": "stream",
     "text": [
      "<class 'jaxlib.xla_extension.ArrayImpl'>"
     ]
    },
    {
     "name": "stdout",
     "output_type": "stream",
     "text": [
      "\n"
     ]
    },
    {
     "data": {
      "text/plain": [
       "(<Figure size 864x720 with 6 Axes>,\n",
       " array([<Axes: title={'center': '$\\\\phi \\\\cdot N_{FP}/2\\\\pi = 0.000$'}, xlabel='$R ~(\\\\mathrm{m})$', ylabel='$Z ~(\\\\mathrm{m})$'>,\n",
       "        <Axes: title={'center': '$\\\\phi \\\\cdot N_{FP}/2\\\\pi = 0.167$'}, xlabel='$R ~(\\\\mathrm{m})$', ylabel='$Z ~(\\\\mathrm{m})$'>,\n",
       "        <Axes: title={'center': '$\\\\phi \\\\cdot N_{FP}/2\\\\pi = 0.333$'}, xlabel='$R ~(\\\\mathrm{m})$', ylabel='$Z ~(\\\\mathrm{m})$'>,\n",
       "        <Axes: title={'center': '$\\\\phi \\\\cdot N_{FP}/2\\\\pi = 0.500$'}, xlabel='$R ~(\\\\mathrm{m})$', ylabel='$Z ~(\\\\mathrm{m})$'>,\n",
       "        <Axes: title={'center': '$\\\\phi \\\\cdot N_{FP}/2\\\\pi = 0.667$'}, xlabel='$R ~(\\\\mathrm{m})$', ylabel='$Z ~(\\\\mathrm{m})$'>,\n",
       "        <Axes: title={'center': '$\\\\phi \\\\cdot N_{FP}/2\\\\pi = 0.833$'}, xlabel='$R ~(\\\\mathrm{m})$', ylabel='$Z ~(\\\\mathrm{m})$'>],\n",
       "       dtype=object))"
      ]
     },
     "execution_count": 24,
     "metadata": {},
     "output_type": "execute_result"
    },
    {
     "data": {
      "image/png": "[encoded data removed]",
      "text/plain": [
       "<Figure size 864x720 with 6 Axes>"
      ]
     },
     "metadata": {},
     "output_type": "display_data"
    }
   ],
   "source": [
    "plot_comparison([surf1,\n",
    "                 eq_QA,\n",
    "                 eq_QH\n",
    "                ],\n",
    "                labels=[\"WS\",\"RQA\",\"RQH\"],\n",
    "                theta=0,rho=np.array(1.0)\n",
    "               )"
   ]
  },
  {
   "cell_type": "code",
   "execution_count": 25,
   "id": "ac619a24",
   "metadata": {
    "execution": {
     "iopub.execute_input": "2024-11-13T20:03:49.530352Z",
     "iopub.status.busy": "2024-11-13T20:03:49.530218Z",
     "iopub.status.idle": "2024-11-13T20:03:49.532623Z",
     "shell.execute_reply": "2024-11-13T20:03:49.532307Z"
    }
   },
   "outputs": [],
   "source": [
    "#surf1.save(\"surf_opt.h5\")"
   ]
  },
  {
   "cell_type": "code",
   "execution_count": 26,
   "id": "1f1afe13",
   "metadata": {
    "execution": {
     "iopub.execute_input": "2024-11-13T20:03:49.534037Z",
     "iopub.status.busy": "2024-11-13T20:03:49.533915Z",
     "iopub.status.idle": "2024-11-13T20:03:49.537277Z",
     "shell.execute_reply": "2024-11-13T20:03:49.536957Z"
    }
   },
   "outputs": [
    {
     "data": {
      "text/plain": [
       "1.2950963249009706e-11"
      ]
     },
     "execution_count": 26,
     "metadata": {},
     "output_type": "execute_result"
    }
   ],
   "source": [
    "surf1.I"
   ]
  },
  {
   "cell_type": "code",
   "execution_count": 27,
   "id": "b89cbf47",
   "metadata": {
    "execution": {
     "iopub.execute_input": "2024-11-13T20:03:49.538681Z",
     "iopub.status.busy": "2024-11-13T20:03:49.538559Z",
     "iopub.status.idle": "2024-11-13T20:03:49.541843Z",
     "shell.execute_reply": "2024-11-13T20:03:49.541536Z"
    }
   },
   "outputs": [
    {
     "data": {
      "text/plain": [
       "-669.2813052416129"
      ]
     },
     "execution_count": 27,
     "metadata": {},
     "output_type": "execute_result"
    }
   ],
   "source": [
    "surf2.I"
   ]
  },
  {
   "cell_type": "code",
   "execution_count": 28,
   "id": "96069e32",
   "metadata": {
    "execution": {
     "iopub.execute_input": "2024-11-13T20:03:49.543262Z",
     "iopub.status.busy": "2024-11-13T20:03:49.543134Z",
     "iopub.status.idle": "2024-11-13T20:03:51.891428Z",
     "shell.execute_reply": "2024-11-13T20:03:51.891064Z"
    },
    "scrolled": true
   },
   "outputs": [
    {
     "name": "stdout",
     "output_type": "stream",
     "text": [
      "<class 'jaxlib.xla_extension.ArrayImpl'>"
     ]
    },
    {
     "name": "stdout",
     "output_type": "stream",
     "text": [
      "\n"
     ]
    },
    {
     "name": "stdout",
     "output_type": "stream",
     "text": [
      "<class 'jaxlib.xla_extension.ArrayImpl'>"
     ]
    },
    {
     "name": "stdout",
     "output_type": "stream",
     "text": [
      "\n"
     ]
    },
    {
     "name": "stdout",
     "output_type": "stream",
     "text": [
      "<class 'jaxlib.xla_extension.ArrayImpl'>"
     ]
    },
    {
     "name": "stdout",
     "output_type": "stream",
     "text": [
      "\n"
     ]
    },
    {
     "name": "stdout",
     "output_type": "stream",
     "text": [
      "<class 'jaxlib.xla_extension.ArrayImpl'>"
     ]
    },
    {
     "name": "stdout",
     "output_type": "stream",
     "text": [
      "\n"
     ]
    },
    {
     "data": {
      "text/plain": [
       "(<Figure size 864x720 with 6 Axes>,\n",
       " array([<Axes: title={'center': '$\\\\phi \\\\cdot N_{FP}/2\\\\pi = 0.000$'}, xlabel='$R ~(\\\\mathrm{m})$', ylabel='$Z ~(\\\\mathrm{m})$'>,\n",
       "        <Axes: title={'center': '$\\\\phi \\\\cdot N_{FP}/2\\\\pi = 0.167$'}, xlabel='$R ~(\\\\mathrm{m})$', ylabel='$Z ~(\\\\mathrm{m})$'>,\n",
       "        <Axes: title={'center': '$\\\\phi \\\\cdot N_{FP}/2\\\\pi = 0.333$'}, xlabel='$R ~(\\\\mathrm{m})$', ylabel='$Z ~(\\\\mathrm{m})$'>,\n",
       "        <Axes: title={'center': '$\\\\phi \\\\cdot N_{FP}/2\\\\pi = 0.500$'}, xlabel='$R ~(\\\\mathrm{m})$', ylabel='$Z ~(\\\\mathrm{m})$'>,\n",
       "        <Axes: title={'center': '$\\\\phi \\\\cdot N_{FP}/2\\\\pi = 0.667$'}, xlabel='$R ~(\\\\mathrm{m})$', ylabel='$Z ~(\\\\mathrm{m})$'>,\n",
       "        <Axes: title={'center': '$\\\\phi \\\\cdot N_{FP}/2\\\\pi = 0.833$'}, xlabel='$R ~(\\\\mathrm{m})$', ylabel='$Z ~(\\\\mathrm{m})$'>],\n",
       "       dtype=object))"
      ]
     },
     "execution_count": 28,
     "metadata": {},
     "output_type": "execute_result"
    },
    {
     "data": {
      "image/png": "[encoded data removed]",
      "text/plain": [
       "<Figure size 864x720 with 6 Axes>"
      ]
     },
     "metadata": {},
     "output_type": "display_data"
    }
   ],
   "source": [
    "plot_comparison([surf,surf1],\n",
    "                labels=[\"OWS\",\"NWS\"],\n",
    "                theta=0,rho=np.array(1.0)\n",
    "               )"
   ]
  },
  {
   "cell_type": "code",
   "execution_count": 29,
   "id": "871c8c00",
   "metadata": {
    "execution": {
     "iopub.execute_input": "2024-11-13T20:03:51.893159Z",
     "iopub.status.busy": "2024-11-13T20:03:51.893029Z",
     "iopub.status.idle": "2024-11-13T20:04:10.716580Z",
     "shell.execute_reply": "2024-11-13T20:04:10.714271Z"
    },
    "scrolled": false
   },
   "outputs": [
    {
     "name": "stdout",
     "output_type": "stream",
     "text": [
      "<class 'numpy.ndarray'>"
     ]
    },
    {
     "name": "stdout",
     "output_type": "stream",
     "text": [
      "\n"
     ]
    },
    {
     "name": "stdout",
     "output_type": "stream",
     "text": [
      "<class 'numpy.ndarray'>"
     ]
    },
    {
     "name": "stdout",
     "output_type": "stream",
     "text": [
      "\n"
     ]
    },
    {
     "name": "stdout",
     "output_type": "stream",
     "text": [
      "<class 'numpy.ndarray'>"
     ]
    },
    {
     "name": "stdout",
     "output_type": "stream",
     "text": [
      "\n"
     ]
    },
    {
     "name": "stdout",
     "output_type": "stream",
     "text": [
      "<class 'numpy.ndarray'>"
     ]
    },
    {
     "name": "stdout",
     "output_type": "stream",
     "text": [
      "\n"
     ]
    },
    {
     "name": "stdout",
     "output_type": "stream",
     "text": [
      "<class 'numpy.ndarray'>"
     ]
    },
    {
     "name": "stdout",
     "output_type": "stream",
     "text": [
      "\n"
     ]
    },
    {
     "name": "stdout",
     "output_type": "stream",
     "text": [
      "<class 'numpy.ndarray'>"
     ]
    },
    {
     "name": "stdout",
     "output_type": "stream",
     "text": [
      "\n"
     ]
    },
    {
     "name": "stdout",
     "output_type": "stream",
     "text": [
      "<class 'numpy.ndarray'>"
     ]
    },
    {
     "name": "stdout",
     "output_type": "stream",
     "text": [
      "\n"
     ]
    },
    {
     "name": "stdout",
     "output_type": "stream",
     "text": [
      "<class 'numpy.ndarray'>"
     ]
    },
    {
     "name": "stdout",
     "output_type": "stream",
     "text": [
      "\n"
     ]
    },
    {
     "name": "stdout",
     "output_type": "stream",
     "text": [
      "<class 'numpy.ndarray'>"
     ]
    },
    {
     "name": "stdout",
     "output_type": "stream",
     "text": [
      "\n"
     ]
    },
    {
     "name": "stdout",
     "output_type": "stream",
     "text": [
      "<class 'numpy.ndarray'>"
     ]
    },
    {
     "name": "stdout",
     "output_type": "stream",
     "text": [
      "\n"
     ]
    },
    {
     "name": "stdout",
     "output_type": "stream",
     "text": [
      "<class 'numpy.ndarray'>"
     ]
    },
    {
     "name": "stdout",
     "output_type": "stream",
     "text": [
      "\n"
     ]
    },
    {
     "name": "stdout",
     "output_type": "stream",
     "text": [
      "<class 'numpy.ndarray'>"
     ]
    },
    {
     "name": "stdout",
     "output_type": "stream",
     "text": [
      "\n"
     ]
    },
    {
     "name": "stdout",
     "output_type": "stream",
     "text": [
      "<class 'numpy.ndarray'>"
     ]
    },
    {
     "name": "stdout",
     "output_type": "stream",
     "text": [
      "\n"
     ]
    },
    {
     "name": "stdout",
     "output_type": "stream",
     "text": [
      "<class 'numpy.ndarray'>"
     ]
    },
    {
     "name": "stdout",
     "output_type": "stream",
     "text": [
      "\n"
     ]
    },
    {
     "name": "stdout",
     "output_type": "stream",
     "text": [
      "<class 'numpy.ndarray'>"
     ]
    },
    {
     "name": "stdout",
     "output_type": "stream",
     "text": [
      "\n"
     ]
    },
    {
     "name": "stdout",
     "output_type": "stream",
     "text": [
      "<class 'numpy.ndarray'>"
     ]
    },
    {
     "name": "stdout",
     "output_type": "stream",
     "text": [
      "\n"
     ]
    },
    {
     "name": "stdout",
     "output_type": "stream",
     "text": [
      "<class 'numpy.ndarray'>"
     ]
    },
    {
     "name": "stdout",
     "output_type": "stream",
     "text": [
      "\n"
     ]
    },
    {
     "name": "stdout",
     "output_type": "stream",
     "text": [
      "<class 'numpy.ndarray'>"
     ]
    },
    {
     "name": "stdout",
     "output_type": "stream",
     "text": [
      "\n"
     ]
    },
    {
     "name": "stdout",
     "output_type": "stream",
     "text": [
      "<class 'numpy.ndarray'>"
     ]
    },
    {
     "name": "stdout",
     "output_type": "stream",
     "text": [
      "\n"
     ]
    },
    {
     "name": "stdout",
     "output_type": "stream",
     "text": [
      "<class 'numpy.ndarray'>"
     ]
    },
    {
     "name": "stdout",
     "output_type": "stream",
     "text": [
      "\n"
     ]
    },
    {
     "name": "stdout",
     "output_type": "stream",
     "text": [
      "<class 'numpy.ndarray'>"
     ]
    },
    {
     "name": "stdout",
     "output_type": "stream",
     "text": [
      "\n"
     ]
    },
    {
     "name": "stdout",
     "output_type": "stream",
     "text": [
      "<class 'numpy.ndarray'>"
     ]
    },
    {
     "name": "stdout",
     "output_type": "stream",
     "text": [
      "\n"
     ]
    },
    {
     "name": "stdout",
     "output_type": "stream",
     "text": [
      "<class 'numpy.ndarray'>"
     ]
    },
    {
     "name": "stdout",
     "output_type": "stream",
     "text": [
      "\n"
     ]
    },
    {
     "name": "stdout",
     "output_type": "stream",
     "text": [
      "<class 'numpy.ndarray'>"
     ]
    },
    {
     "name": "stdout",
     "output_type": "stream",
     "text": [
      "\n"
     ]
    },
    {
     "name": "stdout",
     "output_type": "stream",
     "text": [
      "<class 'numpy.ndarray'>"
     ]
    },
    {
     "name": "stdout",
     "output_type": "stream",
     "text": [
      "\n"
     ]
    },
    {
     "name": "stdout",
     "output_type": "stream",
     "text": [
      "<class 'numpy.ndarray'>"
     ]
    },
    {
     "name": "stdout",
     "output_type": "stream",
     "text": [
      "\n"
     ]
    },
    {
     "data": {
      "text/plain": [
       "Text(0.5, 1.0, 'K surf2')"
      ]
     },
     "execution_count": 29,
     "metadata": {},
     "output_type": "execute_result"
    },
    {
     "data": {
      "image/png": "[encoded data removed]",
      "text/plain": [
       "<Figure size 432x432 with 2 Axes>"
      ]
     },
     "metadata": {},
     "output_type": "display_data"
    },
    {
     "data": {
      "image/png": "[encoded data removed]",
      "text/plain": [
       "<Figure size 432x432 with 2 Axes>"
      ]
     },
     "metadata": {},
     "output_type": "display_data"
    },
    {
     "data": {
      "image/png": "[encoded data removed]",
      "text/plain": [
       "<Figure size 432x432 with 2 Axes>"
      ]
     },
     "metadata": {},
     "output_type": "display_data"
    },
    {
     "data": {
      "image/png": "[encoded data removed]",
      "text/plain": [
       "<Figure size 432x432 with 2 Axes>"
      ]
     },
     "metadata": {},
     "output_type": "display_data"
    }
   ],
   "source": [
    "# look at Phi and Bn\n",
    "denser_source_grid = LinearGrid(M=60,N=60,\n",
    "                                NFP=eq_QA.NFP\n",
    "                               )\n",
    "plot_2d(eq_QA,\"B*n\",field=surf1, field_grid=denser_source_grid)\n",
    "plt.title(\"Eq 1 Bn error from surf1\")\n",
    "\n",
    "plot_2d(surf1, \"K\")\n",
    "plt.title(\"K surf1\")\n",
    "\n",
    "plot_2d(eq_QH,\"B*n\",field=surf2, field_grid=denser_source_grid)\n",
    "plt.title(\"Eq 2 Bn error from surf2\")\n",
    "\n",
    "plot_2d(surf2, \"K\")\n",
    "plt.title(\"K surf2\")"
   ]
  },
  {
   "cell_type": "code",
   "execution_count": 30,
   "id": "e16fb8e4",
   "metadata": {
    "execution": {
     "iopub.execute_input": "2024-11-13T20:04:10.731885Z",
     "iopub.status.busy": "2024-11-13T20:04:10.731616Z",
     "iopub.status.idle": "2024-11-13T20:05:40.175090Z",
     "shell.execute_reply": "2024-11-13T20:05:40.174639Z"
    }
   },
   "outputs": [
    {
     "name": "stdout",
     "output_type": "stream",
     "text": [
      "<class 'numpy.ndarray'>"
     ]
    },
    {
     "name": "stdout",
     "output_type": "stream",
     "text": [
      "\n"
     ]
    },
    {
     "name": "stdout",
     "output_type": "stream",
     "text": [
      "<class 'numpy.ndarray'>"
     ]
    },
    {
     "name": "stdout",
     "output_type": "stream",
     "text": [
      "\n"
     ]
    },
    {
     "name": "stdout",
     "output_type": "stream",
     "text": [
      "<class 'numpy.ndarray'>"
     ]
    },
    {
     "name": "stdout",
     "output_type": "stream",
     "text": [
      "\n"
     ]
    },
    {
     "data": {
      "image/png": "[encoded data removed]",
      "text/plain": [
       "<Figure size 432x360 with 2 Axes>"
      ]
     },
     "metadata": {},
     "output_type": "display_data"
    }
   ],
   "source": [
    "b_QA = surf1.compute(\"b_s\",grid = denser_source_grid)[\"b_s\"]\n",
    "\n",
    "plot_figure2(b_QA,\n",
    "            denser_source_grid,\n",
    "            ''r'$b_{QA}$ '\n",
    "           )"
   ]
  },
  {
   "cell_type": "code",
   "execution_count": 31,
   "id": "c394d267",
   "metadata": {
    "execution": {
     "iopub.execute_input": "2024-11-13T20:05:40.177480Z",
     "iopub.status.busy": "2024-11-13T20:05:40.177334Z",
     "iopub.status.idle": "2024-11-13T20:07:01.481149Z",
     "shell.execute_reply": "2024-11-13T20:07:01.480704Z"
    }
   },
   "outputs": [
    {
     "name": "stdout",
     "output_type": "stream",
     "text": [
      "<class 'numpy.ndarray'>"
     ]
    },
    {
     "name": "stdout",
     "output_type": "stream",
     "text": [
      "\n"
     ]
    },
    {
     "name": "stdout",
     "output_type": "stream",
     "text": [
      "<class 'numpy.ndarray'>"
     ]
    },
    {
     "name": "stdout",
     "output_type": "stream",
     "text": [
      "\n"
     ]
    },
    {
     "name": "stdout",
     "output_type": "stream",
     "text": [
      "<class 'numpy.ndarray'>"
     ]
    },
    {
     "name": "stdout",
     "output_type": "stream",
     "text": [
      "\n"
     ]
    },
    {
     "data": {
      "image/png": "[encoded data removed]",
      "text/plain": [
       "<Figure size 432x360 with 2 Axes>"
      ]
     },
     "metadata": {},
     "output_type": "display_data"
    }
   ],
   "source": [
    "b_QH = surf2.compute(\"b_s\",grid = denser_source_grid)[\"b_s\"]\n",
    "\n",
    "plot_figure2(b_QH,\n",
    "            denser_source_grid,\n",
    "            ''r'$b_{QH}$ '\n",
    "           )"
   ]
  }
 ],
 "metadata": {
  "kernelspec": {
   "display_name": "Python 3 (ipykernel)",
   "language": "python",
   "name": "python3"
  },
  "language_info": {
   "codemirror_mode": {
    "name": "ipython",
    "version": 3
   },
   "file_extension": ".py",
   "mimetype": "text/x-python",
   "name": "python",
   "nbconvert_exporter": "python",
   "pygments_lexer": "ipython3",
   "version": "3.11.0"
  }
 },
 "nbformat": 4,
 "nbformat_minor": 5
}
