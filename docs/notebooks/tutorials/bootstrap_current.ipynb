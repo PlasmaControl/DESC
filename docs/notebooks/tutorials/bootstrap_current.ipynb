{
 "cells": [
  {
   "cell_type": "markdown",
   "metadata": {},
   "source": [
    "# Bootstrap Current Self-Consistency"
   ]
  },
  {
   "cell_type": "markdown",
   "metadata": {},
   "source": [
    "This tutorial demonstrates how to optimize a quasi-symmetric equilibrium to have a self-consistent bootstrap current profile. \n",
    "This is performed by minimizing the difference between the toroidal currents $\\langle J \\cdot B \\rangle$ computed from the MHD equilibrium and from the Redl formula. \n",
    "The Redl formula is only valid in the limit of perfect quasi-symmetry, so this procedure will not work for other configurations that are not quasi-symmetric. \n",
    "\n",
    "There are two methods that can be used, and both will be shown: \n",
    "\n",
    "1. Optimize the current profile for self-consistency\n",
    "2. Iteratively solve the equilibrium with new current profiles\n",
    "\n",
    "These methods should be equivalent, although one might be faster than the other depending on the particular problem. "
   ]
  },
  {
   "cell_type": "markdown",
   "metadata": {},
   "source": [
    "If you have access to a GPU, uncomment the following two lines: "
   ]
  },
  {
   "cell_type": "code",
   "execution_count": 12,
   "metadata": {},
   "outputs": [],
   "source": [
    "# from desc import set_device\n",
    "# set_device(\"gpu\")"
   ]
  },
  {
   "cell_type": "code",
   "execution_count": 13,
   "metadata": {},
   "outputs": [],
   "source": [
    "import sys\n",
    "import os\n",
    "\n",
    "sys.path.insert(0, os.path.abspath(\".\"))\n",
    "sys.path.append(os.path.abspath(\"../../../\"))"
   ]
  },
  {
   "cell_type": "code",
   "execution_count": 14,
   "metadata": {},
   "outputs": [],
   "source": [
    "import numpy as np\n",
    "import matplotlib.pyplot as plt\n",
    "\n",
    "plt.rcParams[\"font.size\"] = 14\n",
    "\n",
    "from desc.compat import rescale\n",
    "from desc.equilibrium import EquilibriaFamily\n",
    "from desc.examples import get\n",
    "from desc.grid import LinearGrid\n",
    "from desc.objectives import (\n",
    "    BootstrapRedlConsistency,\n",
    "    FixAtomicNumber,\n",
    "    FixBoundaryR,\n",
    "    FixBoundaryZ,\n",
    "    FixCurrent,\n",
    "    FixElectronDensity,\n",
    "    FixElectronTemperature,\n",
    "    FixIonTemperature,\n",
    "    FixPsi,\n",
    "    ForceBalance,\n",
    "    ObjectiveFunction,\n",
    ")\n",
    "from desc.plotting import plot_1d\n",
    "from desc.profiles import PowerSeriesProfile"
   ]
  },
  {
   "cell_type": "markdown",
   "metadata": {},
   "source": [
    "As an example, we will reproduce the QA results from [Landreman et al. (2022)](https://doi.org/10.1063/5.0098166). \n",
    "\n",
    "We will start with the \"precise QA\" example equilibrium, scaled to the ARIES-CS reactor size. "
   ]
  },
  {
   "cell_type": "code",
   "execution_count": 15,
   "metadata": {},
   "outputs": [],
   "source": [
    "eq0 = get(\"precise_QA\")\n",
    "eq0 = rescale(eq0, L=(\"R0\", 10), B=(\"B0\", 5.86))"
   ]
  },
  {
   "cell_type": "markdown",
   "metadata": {},
   "source": [
    "This equilibrium has the vacuum profiles $p = 0 ~\\text{Pa}$ and $\\frac{2\\pi}{\\mu_0} I = 0 ~\\text{A}$. \n",
    "Calculating the bootstrap current requires knowledge of the temperature and density profiles for each species in the plasma. \n",
    "We replace the pressure profile with the following kinetic profiles corresponding to $\\langle\\beta\\rangle=2.5\\%$: \n",
    "\n",
    "$n_e = n_i = 2.38\\times10^{20} (1 - \\rho^{10}) ~\\text{m}^{-3}$\n",
    "\n",
    "$T_e = T_i = 9.45\\times10^{3} (1 - \\rho^{2}) ~\\text{eV}$\n",
    "\n",
    "The temperature profiles must be given for both ions and electrons, but only the electron density profile is specified. \n",
    "The ion density profile is given by the effective atomic number $Z_{eff}$ as $n_i = n_e / Z_{eff}$. \n",
    "The plasma pressure will then be computed as \n",
    "\n",
    "$p = e (n_e T_e + n_i T_i)$."
   ]
  },
  {
   "cell_type": "code",
   "execution_count": 16,
   "metadata": {},
   "outputs": [],
   "source": [
    "eq0.pressure = None  # must remove the pressure profile before setting kinetic profiles\n",
    "eq0.atomic_number = PowerSeriesProfile([1])\n",
    "eq0.electron_density = PowerSeriesProfile(params=[1, -1], modes=[0, 10]) * 2.38e20\n",
    "eq0.electron_temperature = PowerSeriesProfile(params=[1, -1], modes=[0, 2]) * 9.45e3\n",
    "eq0.ion_temperature = PowerSeriesProfile(params=[1, -1], modes=[0, 2]) * 9.45e3\n",
    "# the existing current profile is the vacuum case eq0.current = PowerSeriesProfile([0])"
   ]
  },
  {
   "cell_type": "markdown",
   "metadata": {},
   "source": [
    "We need to re-solve the equilibrium force balance with the new profiles. "
   ]
  },
  {
   "cell_type": "code",
   "execution_count": 17,
   "metadata": {},
   "outputs": [
    {
     "name": "stdout",
     "output_type": "stream",
     "text": [
      "Building objective: force\n",
      "Precomputing transforms\n",
      "Timer: Precomputing transforms = 867 ms\n",
      "Timer: Objective build = 1.58 sec\n",
      "Timer: Linear constraint projection build = 8.56 sec\n",
      "Compiling objective function and derivatives: ['force']\n",
      "Timer: Objective compilation time = 9.30 sec\n",
      "Timer: Jacobian compilation time = 12.3 sec\n",
      "Timer: Total compilation time = 21.6 sec\n",
      "Number of parameters: 856\n",
      "Number of objectives: 5346\n",
      "Starting optimization\n",
      "Using method: lsq-exact\n",
      "   Iteration     Total nfev        Cost      Cost reduction    Step norm     Optimality   \n",
      "       0              1          1.506e-02                                    1.077e+01   \n",
      "       1              4          2.845e-04      1.478e-02      9.222e-02      2.691e+00   \n",
      "       2              5          1.830e-04      1.014e-04      1.397e-01      1.249e+00   \n",
      "       3              6          1.089e-04      7.414e-05      1.213e-01      7.621e-01   \n",
      "       4              7          3.200e-05      7.690e-05      9.716e-02      6.395e-01   \n",
      "       5              8          1.869e-05      1.331e-05      9.350e-02      2.676e-01   \n",
      "       6             10          1.651e-06      1.704e-05      2.585e-02      7.973e-02   \n",
      "       7             12          6.750e-07      9.757e-07      1.704e-02      6.897e-02   \n",
      "       8             14          4.748e-07      2.002e-07      7.785e-03      1.575e-02   \n",
      "       9             15          4.482e-07      2.658e-08      1.338e-02      9.857e-03   \n",
      "      10             16          4.128e-07      3.545e-08      1.298e-02      2.335e-03   \n",
      "      11             18          3.932e-07      1.959e-08      6.564e-03      5.648e-04   \n",
      "      12             19          3.792e-07      1.398e-08      1.314e-02      1.775e-03   \n",
      "      13             20          3.616e-07      1.763e-08      1.309e-02      1.628e-03   \n",
      "      14             21          3.464e-07      1.518e-08      1.294e-02      1.850e-03   \n",
      "      15             22          3.335e-07      1.289e-08      1.267e-02      2.304e-03   \n",
      "      16             23          3.226e-07      1.093e-08      1.239e-02      2.642e-03   \n",
      "      17             24          3.137e-07      8.889e-09      1.217e-02      2.861e-03   \n",
      "      18             25          3.081e-07      5.589e-09      1.204e-02      3.115e-03   \n",
      "      19             27          2.977e-07      1.040e-08      3.093e-03      3.110e-04   \n",
      "      20             28          2.960e-07      1.678e-09      5.981e-03      1.224e-03   \n",
      "Optimization terminated successfully.\n",
      "`ftol` condition satisfied.\n",
      "         Current function value: 2.960e-07\n",
      "         Total delta_x: 5.126e-01\n",
      "         Iterations: 20\n",
      "         Function evaluations: 28\n",
      "         Jacobian evaluations: 21\n",
      "Timer: Solution time = 1.03 min\n",
      "Timer: Avg time per step = 2.95 sec\n",
      "Start of solver\n",
      "Total (sum of squares):  1.506e-02, \n",
      "Maximum absolute Force error:  6.502e+07 (N)\n",
      "Minimum absolute Force error:  2.968e-01 (N)\n",
      "Average absolute Force error:  5.342e+06 (N)\n",
      "Maximum absolute Force error:  2.008e-02 (normalized)\n",
      "Minimum absolute Force error:  9.164e-11 (normalized)\n",
      "Average absolute Force error:  1.650e-03 (normalized)\n",
      "R boundary error:  0.000e+00 (m)\n",
      "Z boundary error:  0.000e+00 (m)\n",
      "Fixed-Psi error:  0.000e+00 (Wb)\n",
      "Fixed-current profile error:  0.000e+00 (A)\n",
      "Fixed-electron-density profile error:  0.000e+00 (m^-3)\n",
      "Fixed-electron-temperature profile error:  0.000e+00 (eV)\n",
      "Fixed-ion-temperature profile error:  0.000e+00 (eV)\n",
      "Fixed-atomic-number profile error:  0.000e+00 (dimensionless)\n",
      "End of solver\n",
      "Total (sum of squares):  2.960e-07, \n",
      "Maximum absolute Force error:  9.149e+05 (N)\n",
      "Minimum absolute Force error:  5.582e+00 (N)\n",
      "Average absolute Force error:  3.383e+04 (N)\n",
      "Maximum absolute Force error:  2.825e-04 (normalized)\n",
      "Minimum absolute Force error:  1.724e-09 (normalized)\n",
      "Average absolute Force error:  1.045e-05 (normalized)\n",
      "R boundary error:  6.836e-17 (m)\n",
      "Z boundary error:  2.883e-17 (m)\n",
      "Fixed-Psi error:  0.000e+00 (Wb)\n",
      "Fixed-current profile error:  0.000e+00 (A)\n",
      "Fixed-electron-density profile error:  0.000e+00 (m^-3)\n",
      "Fixed-electron-temperature profile error:  0.000e+00 (eV)\n",
      "Fixed-ion-temperature profile error:  0.000e+00 (eV)\n",
      "Fixed-atomic-number profile error:  0.000e+00 (dimensionless)\n"
     ]
    }
   ],
   "source": [
    "eq0, _ = eq0.solve(objective=\"force\", optimizer=\"lsq-exact\", verbose=3)"
   ]
  },
  {
   "cell_type": "markdown",
   "metadata": {},
   "source": [
    "Now we have our initial equilibrium, which does not have a self-consistent bootstrap current: "
   ]
  },
  {
   "cell_type": "code",
   "execution_count": 18,
   "metadata": {},
   "outputs": [
    {
     "data": {
      "text/plain": [
       "Text(0.5, 1.0, 'Initial Equilibrium')"
      ]
     },
     "execution_count": 18,
     "metadata": {},
     "output_type": "execute_result"
    },
    {
     "name": "stderr",
     "output_type": "stream",
     "text": [
      "/home/dudt/anaconda3/envs/desc/lib/python3.10/site-packages/IPython/core/pylabtools.py:152: UserWarning: This figure includes Axes that are not compatible with tight_layout, so results might be incorrect.\n",
      "  fig.canvas.print_figure(bytes_io, **kw)\n"
     ]
    },
    {
     "data": {
      "image/png": "[encoded data removed]",
      "text/plain": [
       "<Figure size 384.168x384.168 with 1 Axes>"
      ]
     },
     "metadata": {},
     "output_type": "display_data"
    }
   ],
   "source": [
    "fig, ax = plot_1d(eq0, \"<J*B> Redl\", linecolor=\"b\", lw=2, label=\"Redl\")\n",
    "fig, ax = plot_1d(eq0, \"<J*B>\", linecolor=\"r\", lw=2, label=\"MHD\", ax=ax)\n",
    "ax.legend(loc=\"best\")\n",
    "ax.set_title(\"Initial Equilibrium\")"
   ]
  },
  {
   "cell_type": "markdown",
   "metadata": {},
   "source": [
    "We need to create a grid on which to evaluate the boootstrap current self-consistency. \n",
    "The bootstrap current is a radial profile, but the grid must have finite poloidal and toroidal resolution to accurately compute flux surface quantities. \n",
    "The Redl formula is undefined where the kinetic profiles vanish, so in our example we do not include points at $\\rho=0$ or $\\rho=1$. "
   ]
  },
  {
   "cell_type": "code",
   "execution_count": 19,
   "metadata": {},
   "outputs": [],
   "source": [
    "grid = LinearGrid(\n",
    "    M=eq0.M_grid,\n",
    "    N=eq0.N_grid,\n",
    "    NFP=eq0.NFP,\n",
    "    sym=eq0.sym,\n",
    "    rho=np.linspace(1 / eq0.L_grid, 1, eq0.L_grid) - 1 / (2 * eq0.L_grid),\n",
    ")"
   ]
  },
  {
   "cell_type": "markdown",
   "metadata": {},
   "source": [
    "Our current profile will be represented as a power series of the form: \n",
    "\n",
    "$I = c_0 + c_1 \\rho + c_2 \\rho^2 + \\mathcal{O}(\\rho^3)$\n",
    "\n",
    "Physically, the current should vanish on the magnetic axis so $c_0 = 0$. \n",
    "And in order for the MHD equilibrium to be analytic, it should scale as $\\mathcal{O}(\\rho^2)$ near the magnetic axis so $c_1 = 0$ also. \n",
    "However, the Redl bootstrap current formula scales as $\\mathcal{O}(\\sqrt{\\rho})$ near the magnetic axis. \n",
    "This is incorrect, because the drift-kinetic equation from the Redl formula does not account for finite orbit width effects that become important near the axis. \n",
    "\n",
    "Typically, we use even power series with `sym=True` for all equilibrium profiles to give the desired analycity conditions. \n",
    "For bootstrap current optimizations, it is recommended to use the full power series with `sym=False` while also enforcing $c_0 = c_1 = 0$. \n",
    "This prevents getting good self-consistency near the magnetic axis, but allows for good agreement throughout the rest of the plasma volume and results in high quality equilibria overall. \n"
   ]
  },
  {
   "cell_type": "code",
   "execution_count": 20,
   "metadata": {},
   "outputs": [],
   "source": [
    "eq0.current = PowerSeriesProfile(np.zeros((eq0.L + 1,)), sym=False)"
   ]
  },
  {
   "cell_type": "markdown",
   "metadata": {},
   "source": [
    "### 1. Optimization"
   ]
  },
  {
   "cell_type": "markdown",
   "metadata": {},
   "source": [
    "In this method, we will optimize the current profile to minimize the self-consistency errors evaluated by the `BootstrapRedlConsistency` objective. \n",
    "This objective requires the helicity, which for QA is $(M, N) = (1, 0)$. \n",
    "\n",
    "In this example we will only optimize the current profile, so all other profiles and the plasma boundary are constrained to be fixed. \n",
    "It is recommended to use a very small value for `gtol` when optimizing the bootstrap current. "
   ]
  },
  {
   "cell_type": "code",
   "execution_count": 29,
   "metadata": {},
   "outputs": [],
   "source": [
    "eq1 = eq0.copy()"
   ]
  },
  {
   "cell_type": "code",
   "execution_count": 30,
   "metadata": {},
   "outputs": [
    {
     "name": "stdout",
     "output_type": "stream",
     "text": [
      "Building objective: Bootstrap current self-consistency (Redl)\n"
     ]
    },
    {
     "name": "stdout",
     "output_type": "stream",
     "text": [
      "Precomputing transforms\n",
      "Timer: Precomputing transforms = 370 ms\n",
      "Timer: Objective build = 1.64 sec\n",
      "Building objective: force\n",
      "Precomputing transforms\n",
      "Timer: Precomputing transforms = 288 ms\n",
      "Timer: Objective build = 843 ms\n",
      "Timer: Proximal projection build = 10.1 sec\n",
      "Timer: Linear constraint projection build = 8.22 sec\n",
      "Compiling objective function and derivatives: ['Bootstrap current self-consistency (Redl)']\n",
      "Timer: Objective compilation time = 7.42 sec\n",
      "Timer: Jacobian compilation time = 55.4 sec\n",
      "Timer: Total compilation time = 1.04 min\n",
      "Compiling objective function and derivatives: ['force']\n",
      "Timer: Objective compilation time = 3.03 sec\n",
      "Timer: Jacobian compilation time = 10.7 sec\n",
      "Timer: Total compilation time = 13.8 sec\n",
      "Number of parameters: 7\n",
      "Number of objectives: 16\n",
      "Starting optimization\n",
      "Using method: proximal-lsq-exact\n",
      "   Iteration     Total nfev        Cost      Cost reduction    Step norm     Optimality   \n",
      "       0              1          2.258e-02                                    1.935e-08   \n",
      "       1              2          9.430e-05      2.249e-02      1.237e+07      1.029e-09   \n",
      "       2              3          2.292e-06      9.201e-05      2.480e+07      4.206e-12   \n",
      "       3              4          1.750e-06      5.424e-07      4.868e+07      1.039e-11   \n",
      "       4              5          1.477e-06      2.729e-07      6.573e+07      8.437e-12   \n",
      "Warning: Maximum number of iterations has been exceeded.\n",
      "         Current function value: 1.477e-06\n",
      "         Total delta_x: 1.391e+08\n",
      "         Iterations: 4\n",
      "         Function evaluations: 5\n",
      "         Jacobian evaluations: 5\n",
      "Timer: Solution time = 2.74 min\n",
      "Timer: Avg time per step = 32.9 sec\n",
      "Start of solver\n",
      "Total (sum of squares):  2.258e-02, \n",
      "Maximum absolute Bootstrap current self-consistency error:  2.840e+06 (T A m^-2)\n",
      "Minimum absolute Bootstrap current self-consistency error:  1.677e+05 (T A m^-2)\n",
      "Average absolute Bootstrap current self-consistency error:  1.787e+06 (T A m^-2)\n",
      "Maximum absolute Bootstrap current self-consistency error:  3.027e-01 (normalized)\n",
      "Minimum absolute Bootstrap current self-consistency error:  1.788e-02 (normalized)\n",
      "Average absolute Bootstrap current self-consistency error:  1.905e-01 (normalized)\n",
      "Fixed-atomic-number profile error:  0.000e+00 (dimensionless)\n",
      "R boundary error:  0.000e+00 (m)\n",
      "Z boundary error:  0.000e+00 (m)\n",
      "Fixed-current profile error:  0.000e+00 (A)\n",
      "Fixed-electron-density profile error:  0.000e+00 (m^-3)\n",
      "Fixed-electron-temperature profile error:  0.000e+00 (eV)\n",
      "Fixed-ion-temperature profile error:  0.000e+00 (eV)\n",
      "Fixed-Psi error:  0.000e+00 (Wb)\n",
      "Maximum absolute Force error:  9.149e+05 (N)\n",
      "Minimum absolute Force error:  5.582e+00 (N)\n",
      "Average absolute Force error:  3.383e+04 (N)\n",
      "Maximum absolute Force error:  2.857e-04 (normalized)\n",
      "Minimum absolute Force error:  1.743e-09 (normalized)\n",
      "Average absolute Force error:  1.056e-05 (normalized)\n",
      "End of solver\n",
      "Total (sum of squares):  1.477e-06, \n",
      "Maximum absolute Bootstrap current self-consistency error:  3.941e+04 (T A m^-2)\n",
      "Minimum absolute Bootstrap current self-consistency error:  3.852e+03 (T A m^-2)\n",
      "Average absolute Bootstrap current self-consistency error:  1.294e+04 (T A m^-2)\n",
      "Maximum absolute Bootstrap current self-consistency error:  4.200e-03 (normalized)\n",
      "Minimum absolute Bootstrap current self-consistency error:  4.106e-04 (normalized)\n",
      "Average absolute Bootstrap current self-consistency error:  1.379e-03 (normalized)\n",
      "Fixed-atomic-number profile error:  0.000e+00 (dimensionless)\n",
      "R boundary error:  8.358e-17 (m)\n",
      "Z boundary error:  6.953e-18 (m)\n",
      "Fixed-current profile error:  0.000e+00 (A)\n",
      "Fixed-electron-density profile error:  0.000e+00 (m^-3)\n",
      "Fixed-electron-temperature profile error:  0.000e+00 (eV)\n",
      "Fixed-ion-temperature profile error:  0.000e+00 (eV)\n",
      "Fixed-Psi error:  0.000e+00 (Wb)\n",
      "Maximum absolute Force error:  1.432e+06 (N)\n",
      "Minimum absolute Force error:  1.249e+01 (N)\n",
      "Average absolute Force error:  8.006e+04 (N)\n",
      "Maximum absolute Force error:  4.472e-04 (normalized)\n",
      "Minimum absolute Force error:  3.900e-09 (normalized)\n",
      "Average absolute Force error:  2.500e-05 (normalized)\n"
     ]
    }
   ],
   "source": [
    "objective = ObjectiveFunction(\n",
    "    BootstrapRedlConsistency(eq=eq1, grid=grid, helicity=(1, 0)),\n",
    ")\n",
    "constraints = (\n",
    "    FixAtomicNumber(eq=eq1),\n",
    "    FixBoundaryR(eq=eq1),\n",
    "    FixBoundaryZ(eq=eq1),\n",
    "    FixCurrent(eq=eq1, indices=[0, 1]),  # fix c_0=c_1=0 current profile coefficients\n",
    "    FixElectronDensity(eq=eq1),\n",
    "    FixElectronTemperature(eq=eq1),\n",
    "    FixIonTemperature(eq=eq1),\n",
    "    FixPsi(eq=eq1),\n",
    "    ForceBalance(eq=eq1),\n",
    ")\n",
    "eq1, _ = eq1.optimize(\n",
    "    objective=objective,\n",
    "    constraints=constraints,\n",
    "    optimizer=\"proximal-lsq-exact\",\n",
    "    maxiter=4,\n",
    "    gtol=1e-16,  # it is recommended to use a very small gtol\n",
    "    verbose=3,\n",
    ")"
   ]
  },
  {
   "cell_type": "markdown",
   "metadata": {},
   "source": [
    "When plotting the bootstrap current profiles, we see the MHD equilibrium now has very good agreement with the Redl formula. "
   ]
  },
  {
   "cell_type": "code",
   "execution_count": 31,
   "metadata": {},
   "outputs": [
    {
     "data": {
      "text/plain": [
       "Text(0.5, 1.0, 'Method 1: Optimization')"
      ]
     },
     "execution_count": 31,
     "metadata": {},
     "output_type": "execute_result"
    },
    {
     "name": "stderr",
     "output_type": "stream",
     "text": [
      "/home/dudt/anaconda3/envs/desc/lib/python3.10/site-packages/IPython/core/pylabtools.py:152: UserWarning: This figure includes Axes that are not compatible with tight_layout, so results might be incorrect.\n",
      "  fig.canvas.print_figure(bytes_io, **kw)\n"
     ]
    },
    {
     "data": {
      "image/png": "[encoded data removed]",
      "text/plain": [
       "<Figure size 384.168x384.168 with 1 Axes>"
      ]
     },
     "metadata": {},
     "output_type": "display_data"
    }
   ],
   "source": [
    "fig, ax = plot_1d(eq1, \"<J*B> Redl\", linecolor=\"b\", lw=2, label=\"Redl\")\n",
    "fig, ax = plot_1d(eq1, \"<J*B>\", linecolor=\"r\", lw=2, label=\"MHD\", ax=ax)\n",
    "ax.legend(loc=\"best\")\n",
    "ax.set_title(\"Method 1: Optimization\")"
   ]
  },
  {
   "cell_type": "markdown",
   "metadata": {},
   "source": [
    "### 2. Iterative Solves"
   ]
  },
  {
   "cell_type": "markdown",
   "metadata": {},
   "source": [
    "In this method, we iteratively solve the equilibrium with updated guesses for the current profile. \n",
    "The current profile is computed such that the parallel current is consistent with the Redl formula, according to Equation C3 in [Landreman & Catto (2012)](https://doi.org/10.1063/1.3693187). \n",
    "This is the same approach as STELLOPT VBOOT with SFINCS, and it usually converges in only a few iterations. "
   ]
  },
  {
   "cell_type": "code",
   "execution_count": 24,
   "metadata": {},
   "outputs": [],
   "source": [
    "eq2 = eq0.copy()\n",
    "fam2 = EquilibriaFamily(eq2)"
   ]
  },
  {
   "cell_type": "code",
   "execution_count": 25,
   "metadata": {},
   "outputs": [
    {
     "name": "stdout",
     "output_type": "stream",
     "text": [
      "Building objective: force\n",
      "Precomputing transforms\n",
      "Timer: Precomputing transforms = 627 ms\n",
      "Timer: Objective build = 1.65 sec\n",
      "Timer: Linear constraint projection build = 7.71 sec\n",
      "Compiling objective function and derivatives: ['force']\n",
      "Timer: Objective compilation time = 2.80 sec\n",
      "Timer: Jacobian compilation time = 9.89 sec\n",
      "Timer: Total compilation time = 12.6 sec\n",
      "Number of parameters: 856\n",
      "Number of objectives: 5346\n",
      "Starting optimization\n",
      "Using method: lsq-exact\n",
      "   Iteration     Total nfev        Cost      Cost reduction    Step norm     Optimality   \n",
      "       0              1          6.277e-03                                    8.832e+00   \n",
      "       1              2          9.553e-04      5.322e-03      1.778e-01      2.882e+00   \n",
      "       2              3          2.544e-04      7.009e-04      1.565e-01      8.031e-01   \n",
      "       3              4          2.018e-04      5.260e-05      1.078e-01      2.517e+00   \n",
      "       4              5          4.386e-06      1.975e-04      2.972e-02      1.524e-01   \n",
      "       5              7          2.777e-06      1.609e-06      1.257e-02      2.818e-02   \n",
      "       6              9          2.503e-06      2.742e-07      7.600e-03      1.122e-02   \n",
      "       7             10          2.478e-06      2.540e-08      1.202e-02      3.106e-02   \n",
      "       8             12          2.401e-06      7.660e-08      3.372e-03      3.923e-03   \n",
      "       9             13          2.371e-06      3.045e-08      6.233e-03      2.433e-03   \n",
      "      10             15          2.342e-06      2.853e-08      3.358e-03      1.067e-03   \n",
      "      11             16          2.316e-06      2.603e-08      6.722e-03      7.377e-03   \n",
      "      12             18          2.288e-06      2.836e-08      3.649e-03      2.782e-03   \n",
      "      13             19          2.268e-06      1.946e-08      7.183e-03      9.851e-03   \n",
      "Optimization terminated successfully.\n",
      "`ftol` condition satisfied.\n",
      "         Current function value: 2.268e-06\n",
      "         Total delta_x: 2.219e-01\n",
      "         Iterations: 13\n",
      "         Function evaluations: 19\n",
      "         Jacobian evaluations: 14\n",
      "Timer: Solution time = 41.0 sec\n",
      "Timer: Avg time per step = 2.93 sec\n",
      "Start of solver\n",
      "Total (sum of squares):  6.277e-03, \n",
      "Maximum absolute Force error:  6.172e+07 (N)\n",
      "Minimum absolute Force error:  3.756e+01 (N)\n",
      "Average absolute Force error:  4.027e+06 (N)\n",
      "Maximum absolute Force error:  1.706e-02 (normalized)\n",
      "Minimum absolute Force error:  1.038e-08 (normalized)\n",
      "Average absolute Force error:  1.113e-03 (normalized)\n",
      "R boundary error:  0.000e+00 (m)\n",
      "Z boundary error:  0.000e+00 (m)\n",
      "Fixed-Psi error:  0.000e+00 (Wb)\n",
      "Fixed-current profile error:  0.000e+00 (A)\n",
      "Fixed-electron-density profile error:  0.000e+00 (m^-3)\n",
      "Fixed-electron-temperature profile error:  0.000e+00 (eV)\n",
      "Fixed-ion-temperature profile error:  0.000e+00 (eV)\n",
      "Fixed-atomic-number profile error:  0.000e+00 (dimensionless)\n",
      "End of solver\n",
      "Total (sum of squares):  2.268e-06, \n",
      "Maximum absolute Force error:  1.608e+06 (N)\n",
      "Minimum absolute Force error:  9.463e+00 (N)\n",
      "Average absolute Force error:  9.382e+04 (N)\n",
      "Maximum absolute Force error:  4.443e-04 (normalized)\n",
      "Minimum absolute Force error:  2.615e-09 (normalized)\n",
      "Average absolute Force error:  2.593e-05 (normalized)\n",
      "R boundary error:  2.867e-17 (m)\n",
      "Z boundary error:  3.497e-18 (m)\n",
      "Fixed-Psi error:  0.000e+00 (Wb)\n",
      "Fixed-current profile error:  9.313e-10 (A)\n",
      "Fixed-electron-density profile error:  0.000e+00 (m^-3)\n",
      "Fixed-electron-temperature profile error:  0.000e+00 (eV)\n",
      "Fixed-ion-temperature profile error:  0.000e+00 (eV)\n",
      "Fixed-atomic-number profile error:  0.000e+00 (dimensionless)\n",
      "Building objective: force\n",
      "Precomputing transforms\n",
      "Timer: Precomputing transforms = 658 ms\n",
      "Timer: Objective build = 1.56 sec\n",
      "Timer: Linear constraint projection build = 7.61 sec\n",
      "Compiling objective function and derivatives: ['force']\n",
      "Timer: Objective compilation time = 4.68 sec\n",
      "Timer: Jacobian compilation time = 9.66 sec\n",
      "Timer: Total compilation time = 14.3 sec\n",
      "Number of parameters: 856\n",
      "Number of objectives: 5346\n",
      "Starting optimization\n",
      "Using method: lsq-exact\n",
      "   Iteration     Total nfev        Cost      Cost reduction    Step norm     Optimality   \n",
      "       0              1          3.551e-04                                    2.865e+00   \n",
      "       1              2          1.250e-05      3.426e-04      5.998e-02      8.708e-02   \n",
      "       2              3          2.060e-06      1.044e-05      1.747e-02      2.468e-02   \n",
      "       3              5          1.761e-06      2.993e-07      1.001e-02      1.671e-02   \n",
      "       4              6          1.683e-06      7.778e-08      9.537e-03      5.701e-03   \n",
      "       5              8          1.642e-06      4.113e-08      2.907e-03      1.141e-03   \n",
      "       6             10          1.640e-06      1.511e-09      1.518e-03      2.400e-04   \n",
      "Optimization terminated successfully.\n",
      "`ftol` condition satisfied.\n",
      "         Current function value: 1.640e-06\n",
      "         Total delta_x: 6.220e-02\n",
      "         Iterations: 6\n",
      "         Function evaluations: 10\n",
      "         Jacobian evaluations: 7\n",
      "Timer: Solution time = 22.0 sec\n",
      "Timer: Avg time per step = 3.14 sec\n",
      "Start of solver\n",
      "Total (sum of squares):  3.551e-04, \n",
      "Maximum absolute Force error:  1.804e+07 (N)\n",
      "Minimum absolute Force error:  4.405e+01 (N)\n",
      "Average absolute Force error:  9.569e+05 (N)\n",
      "Maximum absolute Force error:  5.075e-03 (normalized)\n",
      "Minimum absolute Force error:  1.239e-08 (normalized)\n",
      "Average absolute Force error:  2.691e-04 (normalized)\n",
      "R boundary error:  0.000e+00 (m)\n",
      "Z boundary error:  0.000e+00 (m)\n",
      "Fixed-Psi error:  0.000e+00 (Wb)\n",
      "Fixed-current profile error:  0.000e+00 (A)\n",
      "Fixed-electron-density profile error:  0.000e+00 (m^-3)\n",
      "Fixed-electron-temperature profile error:  0.000e+00 (eV)\n",
      "Fixed-ion-temperature profile error:  0.000e+00 (eV)\n",
      "Fixed-atomic-number profile error:  0.000e+00 (dimensionless)\n",
      "End of solver\n",
      "Total (sum of squares):  1.640e-06, \n",
      "Maximum absolute Force error:  1.399e+06 (N)\n",
      "Minimum absolute Force error:  9.554e+00 (N)\n",
      "Average absolute Force error:  7.499e+04 (N)\n",
      "Maximum absolute Force error:  3.934e-04 (normalized)\n",
      "Minimum absolute Force error:  2.687e-09 (normalized)\n",
      "Average absolute Force error:  2.109e-05 (normalized)\n",
      "R boundary error:  2.776e-17 (m)\n",
      "Z boundary error:  3.469e-18 (m)\n",
      "Fixed-Psi error:  0.000e+00 (Wb)\n",
      "Fixed-current profile error:  1.547e-08 (A)\n",
      "Fixed-electron-density profile error:  0.000e+00 (m^-3)\n",
      "Fixed-electron-temperature profile error:  0.000e+00 (eV)\n",
      "Fixed-ion-temperature profile error:  0.000e+00 (eV)\n",
      "Fixed-atomic-number profile error:  0.000e+00 (dimensionless)\n",
      "Building objective: force\n",
      "Precomputing transforms\n",
      "Timer: Precomputing transforms = 176 ms\n",
      "Timer: Objective build = 502 ms\n",
      "Timer: Linear constraint projection build = 3.70 sec\n",
      "Compiling objective function and derivatives: ['force']\n",
      "Timer: Objective compilation time = 2.77 sec\n",
      "Timer: Jacobian compilation time = 8.01 sec\n",
      "Timer: Total compilation time = 10.7 sec\n",
      "Number of parameters: 856\n",
      "Number of objectives: 5346\n",
      "Starting optimization\n",
      "Using method: lsq-exact\n",
      "   Iteration     Total nfev        Cost      Cost reduction    Step norm     Optimality   \n",
      "       0              1          1.201e-05                                    5.137e-01   \n",
      "       1              2          1.968e-06      1.004e-05      2.063e-02      5.355e-02   \n",
      "       2              3          1.683e-06      2.844e-07      1.181e-02      1.123e-02   \n",
      "       3              5          1.630e-06      5.308e-08      4.613e-03      3.960e-03   \n",
      "       4              6          1.627e-06      3.194e-09      3.133e-03      4.582e-04   \n",
      "Optimization terminated successfully.\n",
      "`ftol` condition satisfied.\n",
      "         Current function value: 1.627e-06\n",
      "         Total delta_x: 1.640e-02\n",
      "         Iterations: 4\n",
      "         Function evaluations: 6\n",
      "         Jacobian evaluations: 5\n",
      "Timer: Solution time = 22.0 sec\n",
      "Timer: Avg time per step = 4.40 sec\n",
      "Start of solver\n",
      "Total (sum of squares):  1.201e-05, \n",
      "Maximum absolute Force error:  2.969e+06 (N)\n",
      "Minimum absolute Force error:  3.485e+01 (N)\n",
      "Average absolute Force error:  1.823e+05 (N)\n",
      "Maximum absolute Force error:  8.329e-04 (normalized)\n",
      "Minimum absolute Force error:  9.777e-09 (normalized)\n",
      "Average absolute Force error:  5.112e-05 (normalized)\n",
      "R boundary error:  0.000e+00 (m)\n",
      "Z boundary error:  0.000e+00 (m)\n",
      "Fixed-Psi error:  0.000e+00 (Wb)\n",
      "Fixed-current profile error:  0.000e+00 (A)\n",
      "Fixed-electron-density profile error:  0.000e+00 (m^-3)\n",
      "Fixed-electron-temperature profile error:  0.000e+00 (eV)\n",
      "Fixed-ion-temperature profile error:  0.000e+00 (eV)\n",
      "Fixed-atomic-number profile error:  0.000e+00 (dimensionless)\n",
      "End of solver\n",
      "Total (sum of squares):  1.627e-06, \n",
      "Maximum absolute Force error:  1.450e+06 (N)\n",
      "Minimum absolute Force error:  3.668e+01 (N)\n",
      "Average absolute Force error:  7.661e+04 (N)\n",
      "Maximum absolute Force error:  4.067e-04 (normalized)\n",
      "Minimum absolute Force error:  1.029e-08 (normalized)\n",
      "Average absolute Force error:  2.149e-05 (normalized)\n",
      "R boundary error:  2.776e-17 (m)\n",
      "Z boundary error:  1.397e-20 (m)\n",
      "Fixed-Psi error:  0.000e+00 (Wb)\n",
      "Fixed-current profile error:  5.821e-11 (A)\n",
      "Fixed-electron-density profile error:  0.000e+00 (m^-3)\n",
      "Fixed-electron-temperature profile error:  0.000e+00 (eV)\n",
      "Fixed-ion-temperature profile error:  0.000e+00 (eV)\n",
      "Fixed-atomic-number profile error:  0.000e+00 (dimensionless)\n"
     ]
    }
   ],
   "source": [
    "niters = 3\n",
    "for k in range(niters):\n",
    "    eq2 = eq2.copy()\n",
    "    # compute new guess for the current profile, consistent with Redl formula\n",
    "    data = eq2.compute(\"current Redl\", grid)\n",
    "    current = grid.compress(data[\"current Redl\"])\n",
    "    rho = grid.compress(data[\"rho\"])\n",
    "    # fit the current profile to a power series, with c_0=c_1=0\n",
    "    XX = np.fliplr(np.vander(rho, eq2.L + 1)[:, :-2])\n",
    "    eq2.c_l = np.pad(np.linalg.lstsq(XX, current, rcond=None)[0], (2, 0))\n",
    "    # re-solve the equilibrium\n",
    "    eq2, _ = eq2.solve(objective=\"force\", optimizer=\"lsq-exact\", verbose=3)\n",
    "    fam2.append(eq2)"
   ]
  },
  {
   "cell_type": "markdown",
   "metadata": {},
   "source": [
    "We can plot the current profile at each iteration to visualize how it changed: "
   ]
  },
  {
   "cell_type": "code",
   "execution_count": 26,
   "metadata": {},
   "outputs": [
    {
     "data": {
      "text/plain": [
       "<matplotlib.legend.Legend at 0x7fcfe256cee0>"
      ]
     },
     "execution_count": 26,
     "metadata": {},
     "output_type": "execute_result"
    },
    {
     "name": "stderr",
     "output_type": "stream",
     "text": [
      "/home/dudt/anaconda3/envs/desc/lib/python3.10/site-packages/IPython/core/pylabtools.py:152: UserWarning: This figure includes Axes that are not compatible with tight_layout, so results might be incorrect.\n",
      "  fig.canvas.print_figure(bytes_io, **kw)\n"
     ]
    },
    {
     "data": {
      "image/png": "[encoded data removed]",
      "text/plain": [
       "<Figure size 384.168x384.168 with 1 Axes>"
      ]
     },
     "metadata": {},
     "output_type": "display_data"
    }
   ],
   "source": [
    "fig, ax = plot_1d(fam2[0], \"current\", linecolor=\"k\", lw=2, label=\"0\")\n",
    "fig, ax = plot_1d(fam2[1], \"current\", linecolor=\"g\", lw=2, label=\"1\", ax=ax)\n",
    "fig, ax = plot_1d(fam2[2], \"current\", linecolor=\"b\", lw=2, label=\"2\", ax=ax)\n",
    "fig, ax = plot_1d(fam2[3], \"current\", linecolor=\"r\", lw=2, label=\"3\", ax=ax)\n",
    "ax.legend(loc=\"best\")"
   ]
  },
  {
   "cell_type": "markdown",
   "metadata": {},
   "source": [
    "With this method the MHD equilibrium also has very good agreement with the Redl formula. "
   ]
  },
  {
   "cell_type": "code",
   "execution_count": 27,
   "metadata": {},
   "outputs": [
    {
     "data": {
      "text/plain": [
       "Text(0.5, 1.0, 'Method 2: Iterative Solves')"
      ]
     },
     "execution_count": 27,
     "metadata": {},
     "output_type": "execute_result"
    },
    {
     "name": "stderr",
     "output_type": "stream",
     "text": [
      "/home/dudt/anaconda3/envs/desc/lib/python3.10/site-packages/IPython/core/pylabtools.py:152: UserWarning: This figure includes Axes that are not compatible with tight_layout, so results might be incorrect.\n",
      "  fig.canvas.print_figure(bytes_io, **kw)\n"
     ]
    },
    {
     "data": {
      "image/png": "[encoded data removed]",
      "text/plain": [
       "<Figure size 384.168x384.168 with 1 Axes>"
      ]
     },
     "metadata": {},
     "output_type": "display_data"
    }
   ],
   "source": [
    "fig, ax = plot_1d(eq2, \"<J*B> Redl\", linecolor=\"b\", lw=2, label=\"Redl\")\n",
    "fig, ax = plot_1d(eq2, \"<J*B>\", linecolor=\"r\", lw=2, label=\"MHD\", ax=ax)\n",
    "ax.legend(loc=\"best\")\n",
    "ax.set_title(\"Method 2: Iterative Solves\")"
   ]
  },
  {
   "cell_type": "markdown",
   "metadata": {},
   "source": [
    "### Comparison"
   ]
  },
  {
   "cell_type": "markdown",
   "metadata": {},
   "source": [
    "Even though both methods give good self-consistency for the bootstrap current, they do result in slightly different coefficients for the current profile: "
   ]
  },
  {
   "cell_type": "code",
   "execution_count": 32,
   "metadata": {},
   "outputs": [
    {
     "name": "stdout",
     "output_type": "stream",
     "text": [
      "[ 0.00000000e+00  0.00000000e+00  2.67019471e+03  3.97402482e+06\n",
      "  1.66002514e+07 -6.86550329e+07  1.01228131e+08 -6.28828607e+07\n",
      "  1.20716658e+07]\n",
      "[ 0.00000000e+00  0.00000000e+00  4.36224944e+05 -1.62002569e+06\n",
      "  4.23552467e+07 -1.25717545e+08  1.66207488e+08 -9.88761406e+07\n",
      "  1.95335994e+07]\n"
     ]
    }
   ],
   "source": [
    "print(eq1.c_l)\n",
    "print(eq2.c_l)"
   ]
  },
  {
   "cell_type": "markdown",
   "metadata": {},
   "source": [
    "In this example, the first method of optimization gave better self-consistency but was noticeably slower than the second method of iterative solves. "
   ]
  }
 ],
 "metadata": {
  "kernelspec": {
   "display_name": "desc",
   "language": "python",
   "name": "python3"
  },
  "language_info": {
   "codemirror_mode": {
    "name": "ipython",
    "version": 3
   },
   "file_extension": ".py",
   "mimetype": "text/x-python",
   "name": "python",
   "nbconvert_exporter": "python",
   "pygments_lexer": "ipython3",
   "version": "3.10.13"
  }
 },
 "nbformat": 4,
 "nbformat_minor": 2
}
