{
 "cells": [
  {
   "cell_type": "code",
   "execution_count": null,
   "id": "48936cf4-cec0-4a62-ad46-cf2abf3ee92c",
   "metadata": {},
   "outputs": [],
   "source": []
  },
  {
   "cell_type": "code",
   "execution_count": 2,
   "id": "e6e544ab-1baa-4c94-9a7e-8e3359254a0f",
   "metadata": {},
   "outputs": [],
   "source": [
    "import numpy as np\n",
    "import matplotlib.pyplot as plt\n",
    "from desc.plotting import plot_coils\n",
    "from desc.coils import (\n",
    "    CoilSet,\n",
    "    FourierPlanarCoil,\n",
    "    SplineXYZCoil,\n",
    "    MixedCoilSet,\n",
    "    initialize_modular_coils,\n",
    "    initialize_saddle_coils,\n",
    ")"
   ]
  },
  {
   "cell_type": "code",
   "execution_count": 3,
   "id": "cfebce49-626f-4645-86b1-0fceec709a98",
   "metadata": {},
   "outputs": [],
   "source": [
    "from desc.coils import FourierXYZCoil"
   ]
  },
  {
   "cell_type": "code",
   "execution_count": 4,
   "id": "149925a1-560b-46a4-bb39-516ee586d18d",
   "metadata": {},
   "outputs": [
    {
     "data": {
      "text/plain": [
       "FourierXYZCoil at 0x116cb2ba0 (name=, current=1.0)"
      ]
     },
     "execution_count": 4,
     "metadata": {},
     "output_type": "execute_result"
    }
   ],
   "source": [
    "FourierXYZCoil()"
   ]
  },
  {
   "cell_type": "code",
   "execution_count": null,
   "id": "3fff7095-146e-4bf5-8e80-d4c609317d42",
   "metadata": {},
   "outputs": [],
   "source": []
  },
  {
   "cell_type": "code",
   "execution_count": 6,
   "id": "f2c5f898-1036-40c0-8220-09c74cb251b6",
   "metadata": {},
   "outputs": [],
   "source": [
    "### simple axisymetric coils"
   ]
  },
  {
   "cell_type": "code",
   "execution_count": 7,
   "id": "b10aaddc-5bce-437a-b779-62c65655e9e4",
   "metadata": {},
   "outputs": [],
   "source": [
    "###### Background Straight Field\n",
    "R_coil = 1.3\n",
    "I = 1e7\n",
    "N = 2\n",
    "# pos = np.array([-1,0,1])\n",
    "pos = np.linspace(0, 2 * np.pi, N)\n",
    "coils = []\n",
    "\n",
    "for p in pos:\n",
    "    c = FourierPlanarCoil(\n",
    "        current=I,\n",
    "        center=[10, p, 0],\n",
    "        normal=[0, 1, 0],\n",
    "        r_n=R_coil,\n",
    "        modes=[0],\n",
    "    )\n",
    "    c.change_resolution(N=100)\n",
    "    coils += [c]"
   ]
  },
  {
   "cell_type": "code",
   "execution_count": 8,
   "id": "6ef16ada-42be-421a-943b-8f1b0803f69e",
   "metadata": {},
   "outputs": [],
   "source": [
    "## load quad coil \n",
    "coilset = CoilSet.from_makegrid_coilfile('../../../../SLAM/Stellarator-Optimization/open-mirror/Paper/minB_coil.coil')"
   ]
  },
  {
   "cell_type": "code",
   "execution_count": 9,
   "id": "ad5d3cea-6078-4cda-954e-d2f30a6e8341",
   "metadata": {},
   "outputs": [],
   "source": [
    "###### Background Straight Field\n",
    "R_coil = 1.3\n",
    "I = 1e6\n",
    "N = 2\n",
    "# pos = np.array([-1,0,1])\n",
    "\n",
    "c = FourierXYZCoil(\n",
    "    current=I,\n",
    "    X_n=[0, 1, 0, 0],\n",
    "    Y_n=[0, 0, 1, 0],\n",
    "    Z_n=[0, 0, 0, 10],\n",
    "    modes=[0, 1, -1,2],\n",
    ")\n",
    "c.change_resolution(N=1000)\n"
   ]
  },
  {
   "cell_type": "code",
   "execution_count": 10,
   "id": "f167a1f1-417e-4743-ab3d-c40d93bcbecf",
   "metadata": {},
   "outputs": [],
   "source": [
    "coilset = MixedCoilSet(coils)"
   ]
  },
  {
   "cell_type": "code",
   "execution_count": 11,
   "id": "aec39994-7709-4dc4-b818-6503668d6a06",
   "metadata": {},
   "outputs": [
    {
     "data": {
      "image/png": "[encoded data removed]",
      "text/plain": [
       "<Figure size 432.324x288.216 with 1 Axes>"
      ]
     },
     "metadata": {},
     "output_type": "display_data"
    }
   ],
   "source": [
    "## plot coils\n",
    "\n",
    "coil_data = coilset.compute([\"X\", \"Y\", \"Z\"])\n",
    "\n",
    "for i in coil_data:\n",
    "    x = i[\"X\"]\n",
    "    y = i[\"Y\"]\n",
    "    z = i[\"Z\"]\n",
    "    plt.plot(y, x, \".\", color=\"gold\")"
   ]
  },
  {
   "cell_type": "code",
   "execution_count": 12,
   "id": "23e59fde-543f-4bb2-8966-dadff49a1f20",
   "metadata": {},
   "outputs": [],
   "source": [
    "## field on axis"
   ]
  },
  {
   "cell_type": "code",
   "execution_count": 13,
   "id": "1b3287c1-d1e3-4a9f-b0c7-e550dc023d8d",
   "metadata": {},
   "outputs": [
    {
     "data": {
      "text/plain": [
       "Text(0, 0.5, '|B|')"
      ]
     },
     "execution_count": 13,
     "metadata": {},
     "output_type": "execute_result"
    },
    {
     "data": {
      "image/png": "[encoded data removed]",
      "text/plain": [
       "<Figure size 432.324x288.216 with 1 Axes>"
      ]
     },
     "metadata": {},
     "output_type": "display_data"
    }
   ],
   "source": [
    "plt.title(r\"Field on Axis\")\n",
    "zaxis = np.linspace(-10, 10 , 1000)\n",
    "yaxis = np.zeros_like(zaxis)\n",
    "xaxis = np.ones_like(zaxis) * 0\n",
    "\n",
    "B = coilset.compute_magnetic_field(np.array([xaxis, yaxis, zaxis]).T, basis=\"xyz\")\n",
    "modB = np.linalg.norm(B, axis=-1)\n",
    "plt.plot(zaxis, modB)\n",
    "plt.xlabel(\"Y\")\n",
    "plt.ylabel(\"|B|\")"
   ]
  },
  {
   "cell_type": "code",
   "execution_count": 14,
   "id": "ebb25f13-2408-487f-94bd-9f17064f9526",
   "metadata": {},
   "outputs": [
    {
     "data": {
      "text/plain": [
       "Text(0, 0.5, '|B|')"
      ]
     },
     "execution_count": 14,
     "metadata": {},
     "output_type": "execute_result"
    },
    {
     "data": {
      "image/png": "[encoded data removed]",
      "text/plain": [
       "<Figure size 432.324x288.216 with 1 Axes>"
      ]
     },
     "metadata": {},
     "output_type": "display_data"
    }
   ],
   "source": [
    "plt.title(r\"Field on Axis\")\n",
    "yaxis = np.linspace(0, 2*np.pi , 1000)\n",
    "zaxis = np.zeros_like(yaxis)\n",
    "xaxis = np.ones_like(zaxis) + 10\n",
    "\n",
    "B = coilset.compute_magnetic_field(np.array([xaxis, yaxis, zaxis]).T, basis=\"xyz\")\n",
    "modB = np.linalg.norm(B, axis=-1)\n",
    "plt.plot(yaxis, modB)\n",
    "plt.xlabel(\"Y\")\n",
    "plt.ylabel(\"|B|\")"
   ]
  },
  {
   "cell_type": "code",
   "execution_count": 15,
   "id": "533db007-10eb-4a6c-90d1-e1312d712251",
   "metadata": {},
   "outputs": [
    {
     "data": {
      "text/plain": [
       "np.float64(22.536306739736087)"
      ]
     },
     "execution_count": 15,
     "metadata": {},
     "output_type": "execute_result"
    }
   ],
   "source": [
    "modB.max()/modB.min()"
   ]
  },
  {
   "cell_type": "code",
   "execution_count": null,
   "id": "33aa1aa0-1060-40cd-9dbd-ed46461c8d2e",
   "metadata": {},
   "outputs": [],
   "source": []
  },
  {
   "cell_type": "code",
   "execution_count": null,
   "id": "4fe79bcb-0b49-4b0d-b0e7-0beb9f96a2b9",
   "metadata": {},
   "outputs": [],
   "source": []
  },
  {
   "cell_type": "code",
   "execution_count": 18,
   "id": "f7e7602c-bb58-4207-8f59-e6d6e1f027ec",
   "metadata": {},
   "outputs": [],
   "source": [
    "from desc.grid import ConcentricGrid, Grid\n",
    "\n",
    "\n",
    "def chebygrid(N_grid):\n",
    "    return np.concatenate(\n",
    "        (\n",
    "            [0],\n",
    "            (-np.cos((2 * np.arange(N_grid) + 1) * np.pi / (2 * N_grid)) + 1) * np.pi,\n",
    "            [2 * np.pi],\n",
    "        )\n",
    "    )\n",
    "\n",
    "\n",
    "def grid_gen(L_grid, M_grid, N_grid, node_pattern=\"jacobi\"):\n",
    "    LMnodes = ConcentricGrid(L=L_grid, M=M_grid, N=0, node_pattern=node_pattern).nodes[\n",
    "        :, :2\n",
    "    ]\n",
    "    Nnodes = chebygrid(N_grid)\n",
    "    lm = np.tile(LMnodes, (Nnodes.size, 1))\n",
    "    n = np.tile(Nnodes.reshape(-1, 1), (1, LMnodes.shape[0])).reshape(-1, 1)\n",
    "    nodes = np.concatenate((lm, n), axis=1)\n",
    "\n",
    "    # RG: weights and spacing defined here\n",
    "    # just for the sake of compilation. Must be checked\n",
    "    weights = np.ones(nodes.shape[0])\n",
    "    spacing = np.ones_like(nodes)\n",
    "\n",
    "    spacing[1:, 1] = np.diff(nodes[:, 1])\n",
    "    spacing[1:, 2] = np.diff(nodes[:, 2])\n",
    "\n",
    "    return Grid(nodes, spacing=spacing, weights=weights)"
   ]
  },
  {
   "cell_type": "code",
   "execution_count": 24,
   "id": "83c02b6d-189b-47c5-831c-f412407e40c9",
   "metadata": {},
   "outputs": [],
   "source": [
    "# grid = grid_gen(10, 40, 40)"
   ]
  },
  {
   "cell_type": "code",
   "execution_count": 25,
   "id": "c4b229d9-540e-4666-9913-19a0b05fdf48",
   "metadata": {},
   "outputs": [],
   "source": [
    "### MGRID\n",
    "# coilset.save_mgrid('simple_mirror_MR_9',Rmin = 0,Rmax = 1,Zmin = 0, Zmax = 2*np.pi)"
   ]
  },
  {
   "cell_type": "code",
   "execution_count": 26,
   "id": "a9cc0162-6a75-41a8-b3d2-b123cacf7685",
   "metadata": {},
   "outputs": [],
   "source": [
    "#coilset.save_in_makegrid_format(\"simple_coils_MR_9.coils\")"
   ]
  },
  {
   "cell_type": "code",
   "execution_count": 27,
   "id": "b87b3ec0-b6ed-484f-8fd1-030555319dbe",
   "metadata": {},
   "outputs": [
    {
     "data": {
      "text/plain": [
       "MixedCoilSet at 0x132aba3c0 (name=, with 2 submembers)"
      ]
     },
     "execution_count": 27,
     "metadata": {},
     "output_type": "execute_result"
    }
   ],
   "source": [
    "coilset"
   ]
  },
  {
   "cell_type": "code",
   "execution_count": null,
   "id": "cf09826f-261f-4648-ae7d-0704a2552183",
   "metadata": {},
   "outputs": [],
   "source": []
  },
  {
   "cell_type": "code",
   "execution_count": null,
   "id": "fdfe227e-d198-49ac-9763-a9216f7af323",
   "metadata": {},
   "outputs": [],
   "source": []
  },
  {
   "cell_type": "code",
   "execution_count": 195,
   "id": "9a3d280f-b331-4ee6-9e25-413008e42300",
   "metadata": {},
   "outputs": [],
   "source": [
    "#### SMOLA Coils"
   ]
  },
  {
   "cell_type": "code",
   "execution_count": 232,
   "id": "47c2cfc4-b977-415a-957e-87066332cb39",
   "metadata": {},
   "outputs": [],
   "source": [
    "def hellical_coil(\n",
    "    N=100,\n",
    "    zrange=[0, 1],\n",
    "    radius=1,\n",
    "    twists=10,\n",
    "    handedness=\"left\",\n",
    "    leads=False,\n",
    "    lead_offset=10,\n",
    "):\n",
    "    N_lead = 1000\n",
    "\n",
    "    z_start = zrange[0]\n",
    "    z_end = zrange[1]\n",
    "\n",
    "    # Parametric coordinate\n",
    "    theta = np.linspace(0, 2 * np.pi * twists, N * twists)\n",
    "    y = np.linspace(z_start, z_end, N * twists)\n",
    "\n",
    "    # Handedness control\n",
    "    if handedness == \"right\":\n",
    "        angle = theta\n",
    "        switch = -1\n",
    "    elif handedness == \"left\":\n",
    "        angle = theta + np.pi\n",
    "        switch = 1\n",
    "\n",
    "    else:\n",
    "        raise ValueError(\"handedness must be 'right' or 'left'\")\n",
    "\n",
    "    # Helix coordinates\n",
    "    x = radius * np.cos(angle)\n",
    "    z = radius * np.sin(angle)\n",
    "\n",
    "    xyz = np.transpose([x, y, z])[::-1]\n",
    "\n",
    "    if leads:\n",
    "        # Lead 1: straight in -x from y_end\n",
    "        x_lead1 = np.linspace(x[-1], x[-1] - switch * lead_offset + radius, N_lead)\n",
    "        y_lead1 = np.full(N_lead, z_end)\n",
    "        z_lead1 = np.full(N_lead, z[-1])\n",
    "        xyz_lead1 = np.stack([x_lead1, y_lead1, z_lead1], axis=-1)\n",
    "\n",
    "        # Lead 2: straight in -x from y_start\n",
    "        x_lead2 = np.linspace(x[0], x[0] - switch * lead_offset + radius, N_lead)\n",
    "        y_lead2 = np.full(N_lead, z_start)\n",
    "        z_lead2 = np.full(N_lead, z[0])\n",
    "        xyz_lead2 = np.stack([x_lead2, y_lead2, z_lead2], axis=-1)\n",
    "\n",
    "        # Lead 3: connecting lead1 and lead2\n",
    "\n",
    "        if switch == 1:\n",
    "            theta = np.linspace(np.pi / 2, 3 * np.pi / 2, N_lead)\n",
    "        if switch == -1:\n",
    "            theta = np.linspace(-np.pi / 2, np.pi / 2, N_lead)\n",
    "\n",
    "        r_semi = (np.abs(z_end) + np.abs(z_start)) / 2\n",
    "        x_lead3 = r_semi * np.cos(theta) * 5 - switch * lead_offset\n",
    "        y_lead3 = r_semi * np.sin(theta)\n",
    "        z_lead3 = np.full(N_lead, 0)\n",
    "        xyz_lead3 = np.stack([x_lead3, y_lead3, z_lead3], axis=-1)\n",
    "\n",
    "        return np.concatenate([xyz, xyz_lead1, xyz_lead3, xyz_lead2[::-1]], axis=0)\n",
    "\n",
    "    else:\n",
    "\n",
    "        return xyz"
   ]
  },
  {
   "cell_type": "code",
   "execution_count": 388,
   "id": "74ebfbcf-d03f-4cf9-8a4d-107c586b8713",
   "metadata": {},
   "outputs": [],
   "source": [
    "hr = 0.172 / 2\n",
    "pr = 0.375 / 2\n",
    "Ih = 26 * 500  # A\n",
    "Ib = 90 * 500  # A\n",
    "start = 1.68 + 0.18\n",
    "\n",
    "gc_shift = 1\n",
    "\n",
    "## test\n",
    "method = \"linear\"\n",
    "X, Y, Z = hellical_coil(\n",
    "    N=1000, zrange=[start, start + 2.16], radius=hr, twists=12, handedness=\"left\"\n",
    ").T\n",
    "coil1 = SplineXYZCoil(Ih * gc_shift, X, Y, Z, method=method)\n",
    "\n",
    "X, Y, Z = hellical_coil(\n",
    "    N=1000, zrange=[start, start + 2.16], radius=hr, twists=12, handedness=\"right\"\n",
    ").T\n",
    "coil2 = SplineXYZCoil(-Ih * gc_shift, X, Y, Z, method=method)\n",
    "\n",
    "from desc.coils import CoilSet\n",
    "coilset = CoilSet([coil1, coil2])"
   ]
  },
  {
   "cell_type": "code",
   "execution_count": 390,
   "id": "97842455-766d-4255-ae77-c7e46ea15f16",
   "metadata": {},
   "outputs": [
    {
     "data": {
      "text/plain": [
       "Text(0, 0.5, '|B|')"
      ]
     },
     "execution_count": 390,
     "metadata": {},
     "output_type": "execute_result"
    },
    {
     "data": {
      "image/png": "[encoded data removed]",
      "text/plain": [
       "<Figure size 432.324x288.216 with 1 Axes>"
      ]
     },
     "metadata": {},
     "output_type": "display_data"
    }
   ],
   "source": [
    "plt.title(r\"Helical Field on Axis\")\n",
    "yaxis = np.linspace(start, start + 2.16, 1000)\n",
    "zaxis = np.zeros_like(yaxis)\n",
    "xaxis = np.ones_like(zaxis) * 0\n",
    "\n",
    "B = coilset.compute_magnetic_field(np.array([xaxis, yaxis, zaxis]).T, basis=\"xyz\")\n",
    "modB = np.linalg.norm(B, axis=-1)\n",
    "plt.plot(yaxis, modB)\n",
    "plt.xlabel(\"Z\")\n",
    "plt.ylabel(\"|B|\")"
   ]
  },
  {
   "cell_type": "code",
   "execution_count": 391,
   "id": "5c235fec-ea37-4ff5-b647-21d41ca44ef1",
   "metadata": {},
   "outputs": [],
   "source": [
    "###### Background Straight Field\n",
    "R_coil = pr\n",
    "# pos = np.array([-1,0,1])\n",
    "pos = np.linspace(start, start + 2.16, 12)\n",
    "coils = []\n",
    "\n",
    "for p in pos:\n",
    "    c = FourierPlanarCoil(\n",
    "        current=Ib * gc_shift,\n",
    "        center=[0, p, 0],\n",
    "        normal=[0, 1, 0],\n",
    "        r_n=R_coil,\n",
    "        modes=[0],\n",
    "    )\n",
    "    c.change_resolution(N=100)\n",
    "    coils += [c]"
   ]
  },
  {
   "cell_type": "code",
   "execution_count": null,
   "id": "4f5cab79-7368-4ee1-a2c2-1968731738c5",
   "metadata": {},
   "outputs": [],
   "source": []
  },
  {
   "cell_type": "code",
   "execution_count": 393,
   "id": "9f796991-eb78-4463-a50f-f7242304074f",
   "metadata": {},
   "outputs": [],
   "source": [
    "###### correction  field\n",
    "R_coil = .1\n",
    "scale_current = .1\n",
    "#make a cage, a cube of length 2*rcoil \n",
    "centered = start - R_coil*2\n",
    "\n",
    "left = [0,centered, 0]\n",
    "right = [0,centered - R_coil, 0 ]\n",
    "\n",
    "up =    [0,centered, R_coil]\n",
    "down =  [0,centered, -R_coil]\n",
    "front = [R_coil,centered,0]\n",
    "back =  [ -R_coil,centered,0]\n",
    "\n",
    "pos = np.array([left,righ,front,back,up,down])\n",
    "\n",
    "coils_c = []\n",
    "\n",
    "#1\n",
    "c = FourierPlanarCoil(\n",
    "    current= Ib * scale_current,\n",
    "    center= pos[0],\n",
    "    normal=[0, 1, 0],\n",
    "    r_n=R_coil,\n",
    "    modes=[0],\n",
    ")\n",
    "c.change_resolution(N=100)\n",
    "coils_c += [c]\n",
    "\n",
    "\n",
    "#3\n",
    "c = FourierPlanarCoil(\n",
    "    current= Ib * scale_current,\n",
    "    center= pos[2],\n",
    "    normal=[1, 0, 0],\n",
    "    r_n=R_coil,\n",
    "    modes=[0],\n",
    ")\n",
    "c.change_resolution(N=100)\n",
    "coils_c += [c]\n",
    "\n",
    "#4\n",
    "c = FourierPlanarCoil(\n",
    "    current= Ib * scale_current,\n",
    "    center= pos[3],\n",
    "    normal=[1, 0, 0],\n",
    "    r_n=R_coil,\n",
    "    modes=[0],\n",
    ")\n",
    "c.change_resolution(N=100)\n",
    "coils_c += [c]\n",
    "\n",
    "#5\n",
    "c = FourierPlanarCoil(\n",
    "    current= Ib * scale_current,\n",
    "    center= pos[4],\n",
    "    normal=[0, 0, 1],\n",
    "    r_n=R_coil,\n",
    "    modes=[0],\n",
    ")\n",
    "c.change_resolution(N=100)\n",
    "coils_c += [c]\n",
    "\n",
    "#6\n",
    "c = FourierPlanarCoil(\n",
    "    current= Ib * scale_current,\n",
    "    center= pos[5],\n",
    "    normal=[0, 0, 1],\n",
    "    r_n=R_coil,\n",
    "    modes=[0],\n",
    ")\n",
    "c.change_resolution(N=100)\n",
    "coils_c += [c]"
   ]
  },
  {
   "cell_type": "code",
   "execution_count": null,
   "id": "30641388-e31b-40be-9666-c1f3f3e20d4a",
   "metadata": {},
   "outputs": [],
   "source": []
  },
  {
   "cell_type": "code",
   "execution_count": 398,
   "id": "35484d2f-6fe4-4def-9f96-4c648a32ce17",
   "metadata": {},
   "outputs": [
    {
     "name": "stderr",
     "output_type": "stream",
     "text": [
      "/Users/djinpatch/CODE/DESC/desc/utils.py:572: UserWarning: Found coils which are nearly intersecting according to the given grid it is recommended to check coils closely or run function again with a higher resolution grid. Offending coil indices are {16, 13, 14, 15}.\n",
      "  warnings.warn(msg, err)\n",
      "/Users/djinpatch/CODE/DESC/desc/utils.py:572: UserWarning: Found coils which are nearly intersecting according to the given grid it is recommended to check coils closely or run function again with a higher resolution grid. Offending coil indices are {16, 13, 14, 15}.\n",
      "  warnings.warn(msg, err)\n"
     ]
    }
   ],
   "source": [
    "coils += [coils_c,coil1, coil2]\n",
    "from desc.coils import MixedCoilSet\n",
    "coilset = MixedCoilSet(coils)\n",
    "\n",
    "coilset = MixedCoilSet(coils)"
   ]
  },
  {
   "cell_type": "code",
   "execution_count": 399,
   "id": "79f218b5-6b25-43c4-a885-747ce2d8e2f8",
   "metadata": {},
   "outputs": [
    {
     "name": "stderr",
     "output_type": "stream",
     "text": [
      "/Users/djinpatch/CODE/DESC/desc/utils.py:572: UserWarning: Found coils which are nearly intersecting according to the given grid it is recommended to check coils closely or run function again with a higher resolution grid. Offending coil indices are {16, 13, 14, 15}.\n",
      "  warnings.warn(msg, err)\n"
     ]
    }
   ],
   "source": [
    "coilset_temp = MixedCoilSet(coils[:-2])"
   ]
  },
  {
   "cell_type": "code",
   "execution_count": 400,
   "id": "31728928-eb91-44ff-9971-6262ad709acd",
   "metadata": {},
   "outputs": [
    {
     "data": {
      "text/plain": [
       "Text(0, 0.5, '|B|')"
      ]
     },
     "execution_count": 400,
     "metadata": {},
     "output_type": "execute_result"
    },
    {
     "data": {
      "image/png": "[encoded data removed]",
      "text/plain": [
       "<Figure size 432.324x288.216 with 1 Axes>"
      ]
     },
     "metadata": {},
     "output_type": "display_data"
    }
   ],
   "source": [
    "plt.title(r\"Helical + Straight Field on Axis\")\n",
    "yaxis = np.linspace(start, start + 2.16, 1000)\n",
    "zaxis = np.zeros_like(yaxis)\n",
    "xaxis = np.ones_like(zaxis) * 0\n",
    "\n",
    "B = coilset.compute_magnetic_field(np.array([xaxis, yaxis, zaxis]).T, basis=\"xyz\")\n",
    "B = coilset_temp.compute_magnetic_field(np.array([xaxis, yaxis, zaxis]).T, basis=\"xyz\")\n",
    "\n",
    "modB = np.linalg.norm(B, axis=-1)\n",
    "plt.plot(yaxis, modB)\n",
    "plt.xlabel(\"Z\")\n",
    "plt.ylabel(\"|B|\")"
   ]
  },
  {
   "cell_type": "code",
   "execution_count": 401,
   "id": "415bb552-1dab-40a3-b359-b2ecca1c1d2e",
   "metadata": {},
   "outputs": [],
   "source": [
    "from mayavi import mlab"
   ]
  },
  {
   "cell_type": "code",
   "execution_count": 403,
   "id": "702318da-4f47-4450-a617-8c2c85271cf1",
   "metadata": {},
   "outputs": [],
   "source": [
    "fig = mlab.figure(bgcolor = (1,1,1),fgcolor=(0.,0.,0.))\n",
    "\n",
    "## plot coils\n",
    "\n",
    "coil_data = coilset.compute([\"X\", \"Y\", \"Z\"])\n",
    "\n",
    "for i in coil_data:\n",
    "    x = i[\"X\"]\n",
    "    y = i[\"Y\"]\n",
    "    z = i[\"Z\"]\n",
    "   # mlab.plot3d(x,y,z, tube_radius = .01,opacity=.5, color = (.5,.5,.5))\n",
    "    mlab.points3d(x,y,z,scale_factor = .01,opacity=.5, color = (.5,.5,.5))\n",
    "\n",
    "\n",
    "mlab.show()"
   ]
  },
  {
   "cell_type": "code",
   "execution_count": null,
   "id": "3ea181bc-fb71-44c4-a6d8-7b227d52e571",
   "metadata": {},
   "outputs": [],
   "source": []
  },
  {
   "cell_type": "code",
   "execution_count": null,
   "id": "03fbd81e-e695-4f42-b2f5-27fed864eb72",
   "metadata": {},
   "outputs": [],
   "source": []
  },
  {
   "cell_type": "code",
   "execution_count": 409,
   "id": "ea5827cf-0477-4249-84c7-69d3cbcbfa2e",
   "metadata": {},
   "outputs": [],
   "source": [
    "#coilset_temp.coils"
   ]
  },
  {
   "cell_type": "code",
   "execution_count": 410,
   "id": "5992f235-cb8f-4950-b1d0-8089a395a353",
   "metadata": {},
   "outputs": [],
   "source": [
    "### Plasma formation coils\n",
    "pos_g = np.linspace(0.2, 0.4, 2)\n",
    "## 7cm VV\n",
    "Ig = 90 * 1.8 * 500 * gc_shift  # Ampes\n",
    "R_coil_g = 0.10\n",
    "\n",
    "### \"Smoothing\" coils -- lifts B - well\n",
    "pos_s = np.array([0.6, 0.8, 1.26, 1.46])\n",
    "Is = 90 * 250 * gc_shift  # Ampes\n",
    "R_coil_s = 0.375 * 1.5"
   ]
  },
  {
   "cell_type": "code",
   "execution_count": 414,
   "id": "5989b981-06ad-4caf-b077-570b2a3545f5",
   "metadata": {},
   "outputs": [],
   "source": [
    "coils_gun = []\n",
    "\n",
    "for p in pos_g:\n",
    "    c = FourierPlanarCoil(\n",
    "        current=Ig,\n",
    "        center=[0, p, 0],\n",
    "        normal=[0, 1, 0],\n",
    "        r_n=R_coil_g,\n",
    "        modes=[0],\n",
    "    )\n",
    "    c.change_resolution(N=100)\n",
    "    coils_gun += [c]\n",
    "\n",
    "coils_large = []\n",
    "\n",
    "for p in pos_s:\n",
    "    c = FourierPlanarCoil(\n",
    "        current=Is,\n",
    "        center=[0, p, 0],\n",
    "        normal=[0, 1, 0],\n",
    "        r_n=R_coil_s,\n",
    "        modes=[0],\n",
    "    )\n",
    "    c.change_resolution(N=100)\n",
    "    coils_large += [c]"
   ]
  },
  {
   "cell_type": "code",
   "execution_count": 416,
   "id": "ef1643eb-4470-4f68-ace8-3500344d8cf7",
   "metadata": {},
   "outputs": [
    {
     "name": "stderr",
     "output_type": "stream",
     "text": [
      "/Users/djinpatch/CODE/DESC/desc/utils.py:572: UserWarning: Found coils which are nearly intersecting according to the given grid it is recommended to check coils closely or run function again with a higher resolution grid. Offending coil indices are {19, 20, 21, 22}.\n",
      "  warnings.warn(msg, err)\n"
     ]
    }
   ],
   "source": [
    "coils_large += [coils_gun]\n",
    "coils_large += [coils]\n",
    "coilset = MixedCoilSet(coils_large)"
   ]
  },
  {
   "cell_type": "code",
   "execution_count": 417,
   "id": "0b2d2b71-e03e-49f0-bea1-2834e716590b",
   "metadata": {},
   "outputs": [],
   "source": [
    "plt.rcParams.update(\n",
    "    {\n",
    "        \"font.size\": 16,  # Default text size\n",
    "        \"axes.titlesize\": 18,  # Title font\n",
    "        \"axes.labelsize\": 16,  # x/y label font\n",
    "        \"xtick.labelsize\": 14,  # Tick font\n",
    "        \"ytick.labelsize\": 14,\n",
    "        \"legend.fontsize\": 14,\n",
    "    }\n",
    ")\n"
   ]
  },
  {
   "cell_type": "code",
   "execution_count": 420,
   "id": "63e8f395-3217-40d8-b546-081b6f2e6af4",
   "metadata": {},
   "outputs": [
    {
     "data": {
      "image/png": "[encoded data removed]",
      "text/plain": [
       "<Figure size 1080.81x720.54 with 2 Axes>"
      ]
     },
     "metadata": {},
     "output_type": "display_data"
    }
   ],
   "source": [
    "fig, axs = plt.subplots(2, 1, figsize=(15, 10), sharex=True)\n",
    "\n",
    "axs[0].set_title(r\"SMOLA Coils and Field on Axis\")\n",
    "\n",
    "yaxis = np.linspace(0, 4.5, 1000)\n",
    "zaxis = np.zeros_like(yaxis)\n",
    "xaxis = np.ones_like(zaxis) * 0\n",
    "\n",
    "B = coilset.compute_magnetic_field(np.array([xaxis, yaxis, zaxis]).T, basis=\"xyz\")\n",
    "modB = np.linalg.norm(B, axis=-1)\n",
    "axs[0].plot(yaxis, modB)\n",
    "\n",
    "\n",
    "### MR\n",
    "# B at end of gun\n",
    "B = coilset.compute_magnetic_field(np.array([0, 0.4, 0]).T, basis=\"xyz\")\n",
    "Bg = np.linalg.norm(B, axis=-1)\n",
    "\n",
    "# min in central chamber\n",
    "yaxis = np.linspace(0.05, 2, 1000)\n",
    "zaxis = np.zeros_like(yaxis)\n",
    "xaxis = np.ones_like(zaxis) * 0\n",
    "B = coilset.compute_magnetic_field(np.array([xaxis, yaxis, zaxis]).T, basis=\"xyz\")\n",
    "Bmod = np.linalg.norm(B, axis=-1)\n",
    "Bmin = np.min(Bmod)\n",
    "\n",
    "# max B at the start of the transport region\n",
    "B = coilset.compute_magnetic_field(np.array([0, start, 0]).T, basis=\"xyz\")\n",
    "Bt = np.linalg.norm(B, axis=-1)\n",
    "\n",
    "gun_mr = Bg / Bmin\n",
    "transport_mr = Bt / Bmin\n",
    "\n",
    "\n",
    "axs[0].set_ylabel(\"|B|\")\n",
    "axs[0].set_xlabel(\"Z\")\n",
    "axs[0].grid()\n",
    "axs[0].set_ylabel(\"|B|\")\n",
    "axs[0].vlines(\n",
    "    0.4, Bg - 0.05, Bg + 0.05, color=\"red\", label=\"MR = {:.1f}\".format((gun_mr[0]))\n",
    ")\n",
    "\n",
    "axs[0].vlines(\n",
    "    start,\n",
    "    Bt - 0.05,\n",
    "    Bt + 0.05,\n",
    "    color=\"green\",\n",
    "    label=\"MR = {:.1f}\".format((transport_mr[0])),\n",
    ")\n",
    "axs[0].legend(loc=\"upper center\")\n",
    "\n",
    "\n",
    "coil_data = coilset.compute([\"X\", \"Y\", \"Z\"])\n",
    "\n",
    "for i in coil_data:\n",
    "    x = i[\"X\"]\n",
    "    y = i[\"Y\"]\n",
    "    z = i[\"Z\"]\n",
    "    axs[1].plot(y, x, \".\", color=\"gold\")\n",
    "axs[1].set_xlabel(\"Z\")\n",
    "axs[1].set_ylabel(\"X\")\n",
    "axs[1].grid()"
   ]
  },
  {
   "cell_type": "code",
   "execution_count": 421,
   "id": "cdc91f5f-b670-49bb-a0b0-f6343bdefed2",
   "metadata": {},
   "outputs": [],
   "source": [
    "#coilset.save_in_makegrid_format(\"smola_coils_unscaled.coils\")"
   ]
  },
  {
   "cell_type": "code",
   "execution_count": 422,
   "id": "3c58a8b5-539a-4cb7-b582-20b77c3eca88",
   "metadata": {},
   "outputs": [],
   "source": [
    "#coilset.coils"
   ]
  },
  {
   "cell_type": "code",
   "execution_count": 423,
   "id": "323403e3-17d2-4e6f-82f3-620fbd2c7a0d",
   "metadata": {},
   "outputs": [],
   "source": [
    "# field lines?de"
   ]
  },
  {
   "cell_type": "code",
   "execution_count": null,
   "id": "5b3245cf-1aca-45d1-949c-cdd85f85aa91",
   "metadata": {},
   "outputs": [],
   "source": []
  },
  {
   "cell_type": "code",
   "execution_count": 425,
   "id": "4938d11b-e768-47cc-a825-2b1642f02b77",
   "metadata": {},
   "outputs": [],
   "source": [
    "## CHATGPT"
   ]
  },
  {
   "cell_type": "code",
   "execution_count": 426,
   "id": "e57d1935-5101-4244-807d-ad5ce4dc07cf",
   "metadata": {},
   "outputs": [],
   "source": [
    "import jax.numpy as jnp\n",
    "from diffrax import ODETerm, SaveAt, PIDController, Event, diffeqsolve, Tsit5\n",
    "\n",
    "def field_line_trace_xyz(\n",
    "    x0, y0, z0,\n",
    "    *,\n",
    "    field,                         # object with .compute_magnetic_field(pts, ..., basis=\"xyz\") -> (N,3) (Bx,By,Bz)\n",
    "    params=None,\n",
    "    source_grid=None,\n",
    "    s_total=1.0,                   # arc-length magnitude (meters); direction set by `direction`\n",
    "    direction=\"forward\",           # \"forward\" | \"backward\" | \"both\"\n",
    "    rtol=1e-8, atol=1e-8,\n",
    "    min_step_size=1e-8,            # positive; function assigns the proper sign to dt0\n",
    "    max_steps_per_meter=20000,     # cap to avoid runaway solves\n",
    "    bounds_X=(-jnp.inf, jnp.inf),  # terminate the whole batch if any seed exits these bounds\n",
    "    bounds_Y=(-jnp.inf, jnp.inf),\n",
    "    bounds_Z=(-jnp.inf, jnp.inf),\n",
    "    chunk_size=None,\n",
    "    eps_B=0.0,                     # if >0, treat |B|<eps_B as eps_B (robust near nulls)\n",
    "    solver=Tsit5(),\n",
    "):\n",
    "    \"\"\"\n",
    "    Trace magnetic field lines in Cartesian coordinates using arc length s:\n",
    "\n",
    "        dX/ds = Bx/|B|,  dY/ds = By/|B|,  dZ/ds = Bz/|B|.\n",
    "\n",
    "    SEEDS\n",
    "    -----\n",
    "    x0, y0, z0 : scalars or arrays with the SAME shape S (e.g. (), (N,), (M,N), ...).\n",
    "    The solver flattens S to a batch of size N and reshapes back on output.\n",
    "\n",
    "    RETURNS\n",
    "    -------\n",
    "    ts, path\n",
    "      ts   : (nsteps,)     arc-length samples (for \"both\", ts<0 is the back half, ts>=0 forward)\n",
    "      path : (nsteps, *S, 3) with last axis = (X,Y,Z)\n",
    "\n",
    "    NOTES\n",
    "    -----\n",
    "    - Use direction=\"backward\" to go opposite B, or \"both\" to get a continuous trajectory\n",
    "      through the start (backward reversed, then forward; no duplicate at s=0).\n",
    "    - If your start is exactly at a true B=0 null, offset the seed by a tiny radius.\n",
    "    \"\"\"\n",
    "    # ----- batch seeds (component-first state: (3, N)) -----\n",
    "    x0 = jnp.asarray(x0); y0 = jnp.asarray(y0); z0 = jnp.asarray(z0)\n",
    "    assert x0.shape == y0.shape == z0.shape, \"x0, y0, z0 must share the same shape\"\n",
    "    S = x0.shape\n",
    "    N = x0.size\n",
    "    y_init = jnp.stack([x0.ravel(), y0.ravel(), z0.ravel()], axis=0)   # (3, N)\n",
    "\n",
    "    # ----- RHS: expects/returns (3, N) -----\n",
    "    def odefun(s, state, args):\n",
    "        X, Y, Z = state[0], state[1], state[2]                        # each (N,)\n",
    "        pts = jnp.stack([X, Y, Z], axis=-1)                           # (N,3)\n",
    "        B = field.compute_magnetic_field(\n",
    "            pts, params, basis=\"xyz\", source_grid=source_grid, chunk_size=chunk_size\n",
    "        )                                                             # (N,3)\n",
    "        Bn = jnp.linalg.norm(B, axis=-1)\n",
    "        if eps_B > 0.0:\n",
    "            Bn = jnp.maximum(Bn, eps_B)\n",
    "        else:\n",
    "            Bn = jnp.where(Bn == 0.0, 1.0, Bn)                        # avoid /0 at exact nulls\n",
    "        dX, dY, dZ = (B[:, 0]/Bn, B[:, 1]/Bn, B[:, 2]/Bn)             # each (N,)\n",
    "        return jnp.stack([dX, dY, dZ], axis=0)                        # (3, N)\n",
    "\n",
    "    term = ODETerm(odefun)\n",
    "    stepsize = PIDController(rtol=rtol, atol=atol, dtmin=jnp.abs(min_step_size))\n",
    "    save_steps = SaveAt(steps=True)\n",
    "\n",
    "    # ----- termination: stop whole batch if ANY seed exits bounds -----\n",
    "    def cond_fn(t, y, args, **_ignored):\n",
    "        X, Y, Z = y[0], y[1], y[2]                                    # each (N,)\n",
    "        out = (\n",
    "            (X < bounds_X[0]) | (X > bounds_X[1]) |\n",
    "            (Y < bounds_Y[0]) | (Y > bounds_Y[1]) |\n",
    "            (Z < bounds_Z[0]) | (Z > bounds_Z[1])\n",
    "        )\n",
    "        return jnp.any(out)  # boolean: terminate when True\n",
    "\n",
    "    ev = Event(cond_fn=cond_fn)\n",
    "\n",
    "    def _solve(sign):\n",
    "        # sign: +1 forward, -1 backward\n",
    "        s_mag = float(abs(s_total))\n",
    "        t0, t1 = 0.0, float(sign) * s_mag\n",
    "        dt0 = float(sign) * float(jnp.abs(min_step_size))             # sign must match t1 - t0\n",
    "        max_steps = int(max(1.0, s_mag) * max_steps_per_meter)\n",
    "\n",
    "        sol = diffeqsolve(\n",
    "            term, solver,\n",
    "            t0=t0, t1=t1, y0=y_init,\n",
    "            dt0=dt0,\n",
    "            stepsize_controller=stepsize,\n",
    "            saveat=save_steps,\n",
    "            max_steps=max_steps,\n",
    "            event=ev,                                                 # new API\n",
    "        )\n",
    "        ts, ys = sol.ts, sol.ys                                       # ys: (nsteps, 3, N)\n",
    "        path = jnp.moveaxis(ys, 1, -1).reshape(len(ts), *S, 3)        # -> (nsteps, *S, 3)\n",
    "        return ts, path\n",
    "\n",
    "    dir_lc = direction.lower()\n",
    "    if dir_lc not in (\"forward\", \"backward\", \"both\"):\n",
    "        raise ValueError(\"direction must be 'forward', 'backward', or 'both'\")\n",
    "\n",
    "    if dir_lc == \"forward\":\n",
    "        return _solve(+1)\n",
    "    if dir_lc == \"backward\":\n",
    "        return _solve(-1)\n",
    "\n",
    "    # \"both\": backward then forward; concatenate with clean s-axis\n",
    "    ts_b, pb = _solve(-1)\n",
    "    ts_f, pf = _solve(+1)\n",
    "    # reverse the backward half, drop duplicate start, make its s negative\n",
    "    ts = jnp.concatenate([-ts_b[::-1][:-1], ts_f])                    # (nb-1 + nf,)\n",
    "    path = jnp.concatenate([pb[::-1][:-1], pf], axis=0)               # (same, *S, 3)\n",
    "    return ts, path"
   ]
  },
  {
   "cell_type": "code",
   "execution_count": null,
   "id": "ada61230-fb57-4996-8fdb-48026b98fd27",
   "metadata": {},
   "outputs": [],
   "source": []
  },
  {
   "cell_type": "code",
   "execution_count": null,
   "id": "36c01d6f-fa4c-4177-9650-3b845e5f6e59",
   "metadata": {},
   "outputs": [],
   "source": []
  },
  {
   "cell_type": "code",
   "execution_count": null,
   "id": "ab522144-4d31-4b13-851d-2677d5a8e547",
   "metadata": {},
   "outputs": [],
   "source": []
  },
  {
   "cell_type": "code",
   "execution_count": null,
   "id": "7bd56157-ed94-40c1-ac88-9663d95aae99",
   "metadata": {},
   "outputs": [],
   "source": []
  },
  {
   "cell_type": "code",
   "execution_count": 268,
   "id": "a95f2a8c-8fe3-4f62-977c-3cd2ec666f4e",
   "metadata": {},
   "outputs": [],
   "source": [
    "N = 10\n",
    "r = .1\n",
    "theta = np.linspace(0,2*np.pi,N,endpoint = False) \n",
    "rs = np.ones_like(theta)*r\n",
    "x0 = r * np.cos(theta) \n",
    "z0 = r * np.sin(theta)\n",
    "y0 = np.ones_like(z0)* 1"
   ]
  },
  {
   "cell_type": "code",
   "execution_count": 269,
   "id": "4930f1e0-6ea5-4856-8736-2e88f15d06ad",
   "metadata": {},
   "outputs": [],
   "source": [
    "N = 30\n",
    "r = .05\n",
    "theta = np.linspace(0,2*np.pi,N,endpoint = False) \n",
    "rs = np.ones_like(theta)*r\n",
    "x0 = r * np.cos(theta) \n",
    "z0 = r * np.sin(theta)\n",
    "y0 = np.ones_like(z0)* 1"
   ]
  },
  {
   "cell_type": "code",
   "execution_count": 270,
   "id": "6782ba27-43a2-48b7-a31f-3cc5a3c25f45",
   "metadata": {},
   "outputs": [],
   "source": [
    "N = 20\n",
    "r = .1\n",
    "theta = np.linspace(0,np.pi/2,N,endpoint = True) \n",
    "rs = np.ones_like(theta)*r\n",
    "x0 = r * np.cos(theta) \n",
    "y0 = r * np.sin(theta)\n",
    "z0 = np.ones_like(y0)* 0"
   ]
  },
  {
   "cell_type": "code",
   "execution_count": 433,
   "id": "30a52214-3401-43bc-a3f5-4033d29cd952",
   "metadata": {},
   "outputs": [],
   "source": [
    "N = 10\n",
    "r = .01\n",
    "theta = np.linspace(0,2*np.pi,N,endpoint = False) \n",
    "rs = np.ones_like(theta)*r\n",
    "x0 = r * np.cos(theta) \n",
    "z0 = r * np.sin(theta)\n",
    "y0 = np.ones_like(z0) * 3"
   ]
  },
  {
   "cell_type": "code",
   "execution_count": 435,
   "id": "7f6e366c-2498-4c9d-97ea-849fbc8ee581",
   "metadata": {},
   "outputs": [],
   "source": [
    "ts, path = field_line_trace_xyz(\n",
    "    x0, y0, z0,\n",
    "    field=coilset,          # must return (Bx,By,Bz) in basis=\"xyz\"\n",
    "    s_total= 2, #.2,            # arc-length to trace (meters)\n",
    "    direction=\"both\",       # \"forward\", \"backward\", or \"both\"\n",
    "    bounds_X=(-1e9, 1e9),   # widen if you don’t want early termination\n",
    "    bounds_Y=(-1e9, 1e9),\n",
    "    bounds_Z=(-1e9, 1e9),\n",
    ")\n",
    "# path shape: (nsteps, N, 3); coordinates are path[:, i, 0]=X, path[:, i, 1]=Y, path[:, i, 2]=Z"
   ]
  },
  {
   "cell_type": "code",
   "execution_count": 436,
   "id": "9ad84103-4a83-44b1-a876-f9dc7063c673",
   "metadata": {},
   "outputs": [],
   "source": [
    "#coilset.coils"
   ]
  },
  {
   "cell_type": "code",
   "execution_count": 437,
   "id": "a1ab6e0f-fe4a-4df8-a164-1863d1183b46",
   "metadata": {},
   "outputs": [
    {
     "data": {
      "image/png": "[encoded data removed]",
      "text/plain": [
       "<Figure size 432.324x288.216 with 1 Axes>"
      ]
     },
     "metadata": {},
     "output_type": "display_data"
    }
   ],
   "source": [
    "plt.figure()\n",
    "\n",
    "## plot coils\n",
    "\n",
    "coil_data = coilset.compute([\"X\", \"Y\", \"Z\"])\n",
    "\n",
    "for i in coil_data:\n",
    "    x = i[\"X\"]\n",
    "    y = i[\"Y\"]\n",
    "    z = i[\"Z\"]\n",
    "    plt.plot(y, x, \".\", color=\"gold\")\n",
    "\n",
    "for i in range(N):\n",
    "    plt.plot(path[:,i,1],path[:,i,0])"
   ]
  },
  {
   "cell_type": "code",
   "execution_count": 438,
   "id": "6f86494a-8e76-45db-802a-df3d0cdf4803",
   "metadata": {},
   "outputs": [
    {
     "data": {
      "image/png": "[encoded data removed]",
      "text/plain": [
       "<Figure size 432.324x288.216 with 1 Axes>"
      ]
     },
     "metadata": {},
     "output_type": "display_data"
    }
   ],
   "source": [
    "\n",
    "# construct finite valued path \n",
    "points = []\n",
    "B = []\n",
    "for i in range(N):\n",
    "    plt.plot(path[:,i,1],path[:,i,0])\n",
    "\n",
    "    x = path[:,i,0][np.isfinite(path[:,i,0])]\n",
    "    y = path[:,i,1][np.isfinite(path[:,i,1])]\n",
    "    z = path[:,i,2][np.isfinite(path[:,i,2])]\n",
    "\n",
    "    points += [np.array([x,y,z]).T]\n",
    "    B += [coilset.compute_magnetic_field(np.array([x, y, z]).T, basis=\"xyz\")]\n",
    "\n",
    "B = np.array(B)\n",
    "points = np.array(points)"
   ]
  },
  {
   "cell_type": "code",
   "execution_count": null,
   "id": "43389ff0-2c31-42e4-8c30-a5166c8c997f",
   "metadata": {},
   "outputs": [],
   "source": []
  },
  {
   "cell_type": "code",
   "execution_count": null,
   "id": "7251031e-b20e-4cab-9875-64abffbb6117",
   "metadata": {},
   "outputs": [],
   "source": []
  },
  {
   "cell_type": "code",
   "execution_count": 386,
   "id": "09826e97-70e6-4e65-9e71-74ef320f6c56",
   "metadata": {},
   "outputs": [],
   "source": [
    "fig = mlab.figure(bgcolor = (1,1,1),fgcolor=(0.,0.,0.))\n",
    "\n",
    "## plot coils\n",
    "\n",
    "coil_data = coilset.compute([\"X\", \"Y\", \"Z\"])\n",
    "\n",
    "for i in coil_data:\n",
    "    x = i[\"X\"]\n",
    "    y = i[\"Y\"]\n",
    "    z = i[\"Z\"]\n",
    "   # mlab.plot3d(x,y,z, tube_radius = .01,opacity=.5, color = (.5,.5,.5))\n",
    "    mlab.points3d(x,y,z,scale_factor = .01,opacity=.5, color = (.5,.5,.5))\n",
    "\n",
    "#mlab.quiver3d(points[:,:,0],points[:,:,1],points[:,:,2],B[:,:,0],B[:,:,1],B[:,:,2])\n",
    "\n",
    "mlab.points3d(points[:,:,0].ravel(),points[:,:,1].ravel(),points[:,:,2].ravel(), np.ravel(np.linalg.norm(B,axis = -1)), scale_factor = .01,opacity=.5)\n",
    "\n",
    "mlab.show()"
   ]
  },
  {
   "cell_type": "code",
   "execution_count": null,
   "id": "35655d9b-8ac3-4cec-ad96-0caccc0eec0e",
   "metadata": {},
   "outputs": [],
   "source": []
  },
  {
   "cell_type": "code",
   "execution_count": null,
   "id": "d6983cd3-b4f6-4e84-8cad-55aee600e779",
   "metadata": {},
   "outputs": [],
   "source": []
  },
  {
   "cell_type": "code",
   "execution_count": null,
   "id": "03da3825-2d0e-4d99-a5b8-5cd7753b4d22",
   "metadata": {},
   "outputs": [],
   "source": []
  },
  {
   "cell_type": "code",
   "execution_count": null,
   "id": "04c47e51-eb06-4025-ab8f-6bf39e0d9165",
   "metadata": {},
   "outputs": [],
   "source": []
  },
  {
   "cell_type": "code",
   "execution_count": null,
   "id": "05afa904-c7fd-499e-b473-8b9c699ac8af",
   "metadata": {},
   "outputs": [],
   "source": []
  },
  {
   "cell_type": "code",
   "execution_count": null,
   "id": "87684b71-15b6-4ff4-b36c-30a529700c47",
   "metadata": {},
   "outputs": [],
   "source": []
  },
  {
   "cell_type": "code",
   "execution_count": null,
   "id": "072d5b93-4f42-4a67-b4b6-d7c33d178af6",
   "metadata": {},
   "outputs": [],
   "source": []
  },
  {
   "cell_type": "code",
   "execution_count": null,
   "id": "306521fd-98a8-4d01-807c-771f11ecb7bb",
   "metadata": {},
   "outputs": [],
   "source": []
  },
  {
   "cell_type": "code",
   "execution_count": 180,
   "id": "da26e471-03b6-42a4-8087-4ed57eedf4b0",
   "metadata": {},
   "outputs": [],
   "source": [
    "def order_z(field_lines,z_stop = False):\n",
    "    '''\n",
    "    This function interpolates each fieldline, and evaluates at specific z values to counteract\n",
    "    shifting in z from the ivp solver. This makes an ordered grid in z that describes the flux surface \n",
    "    \n",
    "    '''\n",
    "  \n",
    "    # certain fieldline solvers seem to cause an error with splrep -- ValueError: Error on input data\n",
    "    # it is beacause z is not strictly increasing and somewhere a fieldline doubled back! \n",
    "    # to solve this I np.sort(z) which could be a source of distortion for some fieldline outputs \n",
    "    \n",
    "    field_lines = np.array(field_lines)\n",
    "    \n",
    "    \n",
    "    # find minimal extent in z (+ and -) so we do not extrapolate outside of known values \n",
    "    maxlist = []\n",
    "    for i in range(len(field_lines)):\n",
    "        maxlist += [np.max(field_lines[i,:,2])]\n",
    "        \n",
    "    minlist = []\n",
    "    for i in range(len(field_lines)):\n",
    "        minlist += [np.min(field_lines[i,:,2])]\n",
    "    \n",
    "    # evaluating each fieldline at the same z range set by max and min z values, or by hand\n",
    "    \n",
    "    if z_stop is not False:\n",
    "        \n",
    "        specific_z_values = np.linspace(-z_stop,z_stop,len(field_lines[0]))\n",
    "\n",
    "    else:\n",
    "        specific_z_values = np.linspace(np.max(np.array(minlist)),np.min(np.array(maxlist)),len(field_lines[0]))\n",
    "    \n",
    "\n",
    "    field_lines_x = []\n",
    "    field_lines_y = []\n",
    "    field_lines_z = []\n",
    "\n",
    "    # loop through fieldlines, interpolate, and find solution at specific z values \n",
    "            \n",
    "    for i in range(len(field_lines)):\n",
    "        x,y,z = field_lines[i,:,:].T\n",
    "        \n",
    "        # Create B-spline representations\n",
    "        tck_x = splrep(np.sort(z), x, k=3)  # cubic B-spline\n",
    "        tck_y = splrep(np.sort(z), y, k=3)\n",
    "\n",
    "        interpolated_x = splev(specific_z_values, tck_x)\n",
    "        interpolated_y = splev(specific_z_values, tck_y)\n",
    "\n",
    "        # add to new fieldline array \n",
    "        field_lines_x += [interpolated_x]\n",
    "        field_lines_y += [interpolated_y]\n",
    "        field_lines_z += [specific_z_values] \n",
    "\n",
    "    field_lines_x = np.array(field_lines_x)\n",
    "    field_lines_y = np.array(field_lines_y)\n",
    "    field_lines_z = np.array(field_lines_z)\n",
    "\n",
    "    field_lines = np.array([field_lines_x.T,field_lines_y.T,field_lines_z.T]).T \n",
    "\n",
    "    \n",
    "    return field_lines\n"
   ]
  },
  {
   "cell_type": "code",
   "execution_count": null,
   "id": "edb4bac8-f386-49a4-be56-51b2bbb1fa25",
   "metadata": {},
   "outputs": [],
   "source": []
  },
  {
   "cell_type": "code",
   "execution_count": null,
   "id": "4d61e4cd-be2e-4f19-aa97-ee92558dddaa",
   "metadata": {},
   "outputs": [],
   "source": []
  },
  {
   "cell_type": "code",
   "execution_count": 38,
   "id": "3c1bbd74-1521-4aa3-a6f8-79e4e73eb739",
   "metadata": {},
   "outputs": [
    {
     "ename": "KeyboardInterrupt",
     "evalue": "",
     "output_type": "error",
     "traceback": [
      "\u001b[31m---------------------------------------------------------------------------\u001b[39m",
      "\u001b[31mKeyboardInterrupt\u001b[39m                         Traceback (most recent call last)",
      "\u001b[36mCell\u001b[39m\u001b[36m \u001b[39m\u001b[32mIn[38]\u001b[39m\u001b[32m, line 24\u001b[39m\n\u001b[32m     21\u001b[39m     z = path[:,i,\u001b[32m2\u001b[39m][np.isfinite(path[:,i,\u001b[32m2\u001b[39m])]\n\u001b[32m     23\u001b[39m     points += [np.array([x,y,z]).T]\n\u001b[32m---> \u001b[39m\u001b[32m24\u001b[39m     B += [coilset.compute_magnetic_field(np.array([x, y, z]).T, basis=\u001b[33m\"\u001b[39m\u001b[33mxyz\u001b[39m\u001b[33m\"\u001b[39m)]\n\u001b[32m     26\u001b[39m B = np.array(B)\n\u001b[32m     27\u001b[39m points = np.array(points)\n",
      "\u001b[36mFile \u001b[39m\u001b[32m~/CODE/DESC/desc/coils.py:1896\u001b[39m, in \u001b[36mCoilSet.compute_magnetic_field\u001b[39m\u001b[34m(self, coords, params, basis, source_grid, transforms, chunk_size)\u001b[39m\n\u001b[32m   1861\u001b[39m \u001b[38;5;28;01mdef\u001b[39;00m\u001b[38;5;250m \u001b[39m\u001b[34mcompute_magnetic_field\u001b[39m(\n\u001b[32m   1862\u001b[39m     \u001b[38;5;28mself\u001b[39m,\n\u001b[32m   1863\u001b[39m     coords,\n\u001b[32m   (...)\u001b[39m\u001b[32m   1868\u001b[39m     chunk_size=\u001b[38;5;28;01mNone\u001b[39;00m,\n\u001b[32m   1869\u001b[39m ):\n\u001b[32m   1870\u001b[39m \u001b[38;5;250m    \u001b[39m\u001b[33;03m\"\"\"Compute magnetic field at a set of points.\u001b[39;00m\n\u001b[32m   1871\u001b[39m \n\u001b[32m   1872\u001b[39m \u001b[33;03m    Parameters\u001b[39;00m\n\u001b[32m   (...)\u001b[39m\u001b[32m   1894\u001b[39m \n\u001b[32m   1895\u001b[39m \u001b[33;03m    \"\"\"\u001b[39;00m\n\u001b[32m-> \u001b[39m\u001b[32m1896\u001b[39m     \u001b[38;5;28;01mreturn\u001b[39;00m \u001b[38;5;28mself\u001b[39m._compute_A_or_B(\n\u001b[32m   1897\u001b[39m         coords, params, basis, source_grid, transforms, \u001b[33m\"\u001b[39m\u001b[33mB\u001b[39m\u001b[33m\"\u001b[39m, chunk_size=chunk_size\n\u001b[32m   1898\u001b[39m     )\n",
      "\u001b[36mFile \u001b[39m\u001b[32m~/CODE/DESC/desc/coils.py:1848\u001b[39m, in \u001b[36mCoilSet._compute_A_or_B\u001b[39m\u001b[34m(self, coords, params, basis, source_grid, transforms, compute_A_or_B, chunk_size)\u001b[39m\n\u001b[32m   1845\u001b[39m     AB += scan(body, jnp.zeros(coords_nfp.shape), tree_stack(params))[\u001b[32m0\u001b[39m]\n\u001b[32m   1846\u001b[39m     \u001b[38;5;28;01mreturn\u001b[39;00m AB\n\u001b[32m-> \u001b[39m\u001b[32m1848\u001b[39m AB = fori_loop(\u001b[32m0\u001b[39m, \u001b[38;5;28mself\u001b[39m.NFP, nfp_loop, jnp.zeros_like(coords_rpz))\n\u001b[32m   1850\u001b[39m \u001b[38;5;66;03m# sum the magnetic field/potential from both halves of\u001b[39;00m\n\u001b[32m   1851\u001b[39m \u001b[38;5;66;03m# the symmetric field period\u001b[39;00m\n\u001b[32m   1852\u001b[39m \u001b[38;5;28;01mif\u001b[39;00m \u001b[38;5;28mself\u001b[39m.sym:\n",
      "    \u001b[31m[... skipping hidden 1 frame]\u001b[39m\n",
      "\u001b[36mFile \u001b[39m\u001b[32m/opt/anaconda3/envs/desc_merging/lib/python3.13/site-packages/jax/_src/lax/control_flow/loops.py:2386\u001b[39m, in \u001b[36mfori_loop\u001b[39m\u001b[34m(lower, upper, body_fun, init_val, unroll)\u001b[39m\n\u001b[32m   2384\u001b[39m   scan_body = _fori_scan_body_fun(body_fun)\n\u001b[32m   2385\u001b[39m   api_util.save_wrapped_fun_sourceinfo(scan_body, body_fun)\n\u001b[32m-> \u001b[39m\u001b[32m2386\u001b[39m   (_, result), _ = scan(\n\u001b[32m   2387\u001b[39m       scan_body,\n\u001b[32m   2388\u001b[39m       (lower_, init_val),\n\u001b[32m   2389\u001b[39m       \u001b[38;5;28;01mNone\u001b[39;00m,\n\u001b[32m   2390\u001b[39m       length=length,\n\u001b[32m   2391\u001b[39m       unroll=unroll,\n\u001b[32m   2392\u001b[39m   )\n\u001b[32m   2393\u001b[39m   \u001b[38;5;28;01mreturn\u001b[39;00m result\n\u001b[32m   2394\u001b[39m \u001b[38;5;28;01mif\u001b[39;00m unroll \u001b[38;5;129;01mis\u001b[39;00m \u001b[38;5;129;01mnot\u001b[39;00m \u001b[38;5;28;01mNone\u001b[39;00m \u001b[38;5;129;01mand\u001b[39;00m unroll \u001b[38;5;129;01mis\u001b[39;00m \u001b[38;5;129;01mnot\u001b[39;00m \u001b[38;5;28;01mFalse\u001b[39;00m \u001b[38;5;129;01mand\u001b[39;00m unroll != \u001b[32m1\u001b[39m:\n",
      "    \u001b[31m[... skipping hidden 1 frame]\u001b[39m\n",
      "\u001b[36mFile \u001b[39m\u001b[32m/opt/anaconda3/envs/desc_merging/lib/python3.13/site-packages/jax/_src/lax/control_flow/loops.py:355\u001b[39m, in \u001b[36mscan\u001b[39m\u001b[34m(f, init, xs, length, reverse, unroll, _split_transpose)\u001b[39m\n\u001b[32m    352\u001b[39m   consts = [*new_consts, *consts]\n\u001b[32m    353\u001b[39m   num_carry -= \u001b[38;5;28mlen\u001b[39m(new_consts)\n\u001b[32m--> \u001b[39m\u001b[32m355\u001b[39m out = scan_p.bind(*consts, *in_flat,\n\u001b[32m    356\u001b[39m                   reverse=reverse, length=length, jaxpr=jaxpr,\n\u001b[32m    357\u001b[39m                   num_consts=\u001b[38;5;28mlen\u001b[39m(consts), num_carry=num_carry,\n\u001b[32m    358\u001b[39m                   linear=(\u001b[38;5;28;01mFalse\u001b[39;00m,) * (\u001b[38;5;28mlen\u001b[39m(consts) + \u001b[38;5;28mlen\u001b[39m(in_flat)),\n\u001b[32m    359\u001b[39m                   unroll=unroll, _split_transpose=_split_transpose)\n\u001b[32m    361\u001b[39m \u001b[38;5;28;01mif\u001b[39;00m \u001b[38;5;28many\u001b[39m(move_to_const):\n\u001b[32m    362\u001b[39m   out = pe.merge_lists(move_to_const + [\u001b[38;5;28;01mFalse\u001b[39;00m] * num_ys, out, new_consts)\n",
      "\u001b[36mFile \u001b[39m\u001b[32m/opt/anaconda3/envs/desc_merging/lib/python3.13/site-packages/jax/_src/core.py:531\u001b[39m, in \u001b[36mPrimitive.bind\u001b[39m\u001b[34m(self, *args, **params)\u001b[39m\n\u001b[32m    529\u001b[39m \u001b[38;5;28;01mdef\u001b[39;00m\u001b[38;5;250m \u001b[39m\u001b[34mbind\u001b[39m(\u001b[38;5;28mself\u001b[39m, *args, **params):\n\u001b[32m    530\u001b[39m   args = args \u001b[38;5;28;01mif\u001b[39;00m \u001b[38;5;28mself\u001b[39m.skip_canonicalization \u001b[38;5;28;01melse\u001b[39;00m \u001b[38;5;28mmap\u001b[39m(canonicalize_value, args)\n\u001b[32m--> \u001b[39m\u001b[32m531\u001b[39m   \u001b[38;5;28;01mreturn\u001b[39;00m \u001b[38;5;28mself\u001b[39m._true_bind(*args, **params)\n",
      "\u001b[36mFile \u001b[39m\u001b[32m/opt/anaconda3/envs/desc_merging/lib/python3.13/site-packages/jax/_src/core.py:551\u001b[39m, in \u001b[36mPrimitive._true_bind\u001b[39m\u001b[34m(self, *args, **params)\u001b[39m\n\u001b[32m    549\u001b[39m trace_ctx.set_trace(eval_trace)\n\u001b[32m    550\u001b[39m \u001b[38;5;28;01mtry\u001b[39;00m:\n\u001b[32m--> \u001b[39m\u001b[32m551\u001b[39m   \u001b[38;5;28;01mreturn\u001b[39;00m \u001b[38;5;28mself\u001b[39m.bind_with_trace(prev_trace, args, params)\n\u001b[32m    552\u001b[39m \u001b[38;5;28;01mfinally\u001b[39;00m:\n\u001b[32m    553\u001b[39m   trace_ctx.set_trace(prev_trace)\n",
      "\u001b[36mFile \u001b[39m\u001b[32m/opt/anaconda3/envs/desc_merging/lib/python3.13/site-packages/jax/_src/core.py:556\u001b[39m, in \u001b[36mPrimitive.bind_with_trace\u001b[39m\u001b[34m(self, trace, args, params)\u001b[39m\n\u001b[32m    555\u001b[39m \u001b[38;5;28;01mdef\u001b[39;00m\u001b[38;5;250m \u001b[39m\u001b[34mbind_with_trace\u001b[39m(\u001b[38;5;28mself\u001b[39m, trace, args, params):\n\u001b[32m--> \u001b[39m\u001b[32m556\u001b[39m   \u001b[38;5;28;01mreturn\u001b[39;00m trace.process_primitive(\u001b[38;5;28mself\u001b[39m, args, params)\n",
      "\u001b[36mFile \u001b[39m\u001b[32m/opt/anaconda3/envs/desc_merging/lib/python3.13/site-packages/jax/_src/core.py:1060\u001b[39m, in \u001b[36mEvalTrace.process_primitive\u001b[39m\u001b[34m(self, primitive, args, params)\u001b[39m\n\u001b[32m   1058\u001b[39m args = \u001b[38;5;28mmap\u001b[39m(full_lower, args)\n\u001b[32m   1059\u001b[39m check_eval_args(args)\n\u001b[32m-> \u001b[39m\u001b[32m1060\u001b[39m \u001b[38;5;28;01mreturn\u001b[39;00m primitive.impl(*args, **params)\n",
      "\u001b[36mFile \u001b[39m\u001b[32m/opt/anaconda3/envs/desc_merging/lib/python3.13/site-packages/jax/_src/dispatch.py:88\u001b[39m, in \u001b[36mapply_primitive\u001b[39m\u001b[34m(prim, *args, **params)\u001b[39m\n\u001b[32m     86\u001b[39m prev = lib.jax_jit.swap_thread_local_state_disable_jit(\u001b[38;5;28;01mFalse\u001b[39;00m)\n\u001b[32m     87\u001b[39m \u001b[38;5;28;01mtry\u001b[39;00m:\n\u001b[32m---> \u001b[39m\u001b[32m88\u001b[39m   outs = fun(*args)\n\u001b[32m     89\u001b[39m \u001b[38;5;28;01mfinally\u001b[39;00m:\n\u001b[32m     90\u001b[39m   lib.jax_jit.swap_thread_local_state_disable_jit(prev)\n",
      "    \u001b[31m[... skipping hidden 1 frame]\u001b[39m\n",
      "\u001b[36mFile \u001b[39m\u001b[32m/opt/anaconda3/envs/desc_merging/lib/python3.13/site-packages/jax/_src/pjit.py:334\u001b[39m, in \u001b[36m_cpp_pjit.<locals>.cache_miss\u001b[39m\u001b[34m(*args, **kwargs)\u001b[39m\n\u001b[32m    329\u001b[39m \u001b[38;5;28;01mif\u001b[39;00m config.no_tracing.value:\n\u001b[32m    330\u001b[39m   \u001b[38;5;28;01mraise\u001b[39;00m \u001b[38;5;167;01mRuntimeError\u001b[39;00m(\u001b[33mf\u001b[39m\u001b[33m\"\u001b[39m\u001b[33mre-tracing function \u001b[39m\u001b[38;5;132;01m{\u001b[39;00mjit_info.fun_sourceinfo\u001b[38;5;132;01m}\u001b[39;00m\u001b[33m for \u001b[39m\u001b[33m\"\u001b[39m\n\u001b[32m    331\u001b[39m                      \u001b[33m\"\u001b[39m\u001b[33m`jit`, but \u001b[39m\u001b[33m'\u001b[39m\u001b[33mno_tracing\u001b[39m\u001b[33m'\u001b[39m\u001b[33m is set\u001b[39m\u001b[33m\"\u001b[39m)\n\u001b[32m    333\u001b[39m (outs, out_flat, out_tree, args_flat, jaxpr, attrs_tracked, box_data,\n\u001b[32m--> \u001b[39m\u001b[32m334\u001b[39m  executable, pgle_profiler) = _python_pjit_helper(fun, jit_info, *args, **kwargs)\n\u001b[32m    336\u001b[39m maybe_fastpath_data = _get_fastpath_data(\n\u001b[32m    337\u001b[39m     executable, out_tree, args_flat, out_flat, attrs_tracked, box_data,\n\u001b[32m    338\u001b[39m     jaxpr.effects, jaxpr.consts, jit_info.abstracted_axes, pgle_profiler)\n\u001b[32m    340\u001b[39m \u001b[38;5;28;01mreturn\u001b[39;00m outs, maybe_fastpath_data, _need_to_rebuild_with_fdo(pgle_profiler)\n",
      "\u001b[36mFile \u001b[39m\u001b[32m/opt/anaconda3/envs/desc_merging/lib/python3.13/site-packages/jax/_src/pjit.py:195\u001b[39m, in \u001b[36m_python_pjit_helper\u001b[39m\u001b[34m(fun, jit_info, *args, **kwargs)\u001b[39m\n\u001b[32m    193\u001b[39m   args_flat = \u001b[38;5;28mmap\u001b[39m(core.full_lower, args_flat)\n\u001b[32m    194\u001b[39m   core.check_eval_args(args_flat)\n\u001b[32m--> \u001b[39m\u001b[32m195\u001b[39m   out_flat, compiled, profiler = _pjit_call_impl_python(*args_flat, **p.params)\n\u001b[32m    196\u001b[39m \u001b[38;5;28;01melse\u001b[39;00m:\n\u001b[32m    197\u001b[39m   out_flat = pjit_p.bind(*args_flat, **p.params)\n",
      "\u001b[36mFile \u001b[39m\u001b[32m/opt/anaconda3/envs/desc_merging/lib/python3.13/site-packages/jax/_src/pjit.py:1862\u001b[39m, in \u001b[36m_pjit_call_impl_python\u001b[39m\u001b[34m(jaxpr, in_shardings, out_shardings, in_layouts, out_layouts, donated_invars, ctx_mesh, name, keep_unused, inline, compiler_options_kvs, *args)\u001b[39m\n\u001b[32m   1850\u001b[39m compiler_options_kvs = compiler_options_kvs + \u001b[38;5;28mtuple\u001b[39m(pgle_compile_options.items())\n\u001b[32m   1851\u001b[39m \u001b[38;5;66;03m# Passing mutable PGLE profile here since it should be extracted by JAXPR to\u001b[39;00m\n\u001b[32m   1852\u001b[39m \u001b[38;5;66;03m# initialize the fdo_profile compile option.\u001b[39;00m\n\u001b[32m   1853\u001b[39m compiled = _resolve_and_lower(\n\u001b[32m   1854\u001b[39m     args, jaxpr=jaxpr, in_shardings=in_shardings,\n\u001b[32m   1855\u001b[39m     out_shardings=out_shardings, in_layouts=in_layouts,\n\u001b[32m   1856\u001b[39m     out_layouts=out_layouts, donated_invars=donated_invars,\n\u001b[32m   1857\u001b[39m     ctx_mesh=ctx_mesh, name=name, keep_unused=keep_unused,\n\u001b[32m   1858\u001b[39m     inline=inline, lowering_platforms=\u001b[38;5;28;01mNone\u001b[39;00m,\n\u001b[32m   1859\u001b[39m     lowering_parameters=mlir.LoweringParameters(),\n\u001b[32m   1860\u001b[39m     pgle_profiler=pgle_profiler,\n\u001b[32m   1861\u001b[39m     compiler_options_kvs=compiler_options_kvs,\n\u001b[32m-> \u001b[39m\u001b[32m1862\u001b[39m ).compile()\n\u001b[32m   1864\u001b[39m \u001b[38;5;66;03m# This check is expensive so only do it if enable_checks is on.\u001b[39;00m\n\u001b[32m   1865\u001b[39m \u001b[38;5;28;01mif\u001b[39;00m compiled._auto_spmd_lowering \u001b[38;5;129;01mand\u001b[39;00m config.enable_checks.value:\n",
      "\u001b[36mFile \u001b[39m\u001b[32m/opt/anaconda3/envs/desc_merging/lib/python3.13/site-packages/jax/_src/interpreters/pxla.py:2467\u001b[39m, in \u001b[36mMeshComputation.compile\u001b[39m\u001b[34m(self, compiler_options)\u001b[39m\n\u001b[32m   2465\u001b[39m compiler_options_kvs = \u001b[38;5;28mself\u001b[39m._compiler_options_kvs + t_compiler_options\n\u001b[32m   2466\u001b[39m \u001b[38;5;28;01mif\u001b[39;00m \u001b[38;5;28mself\u001b[39m._executable \u001b[38;5;129;01mis\u001b[39;00m \u001b[38;5;28;01mNone\u001b[39;00m \u001b[38;5;129;01mor\u001b[39;00m compiler_options_kvs:\n\u001b[32m-> \u001b[39m\u001b[32m2467\u001b[39m   executable = UnloadedMeshExecutable.from_hlo(\n\u001b[32m   2468\u001b[39m       \u001b[38;5;28mself\u001b[39m._name, \u001b[38;5;28mself\u001b[39m._hlo, **\u001b[38;5;28mself\u001b[39m.compile_args,\n\u001b[32m   2469\u001b[39m       compiler_options_kvs=compiler_options_kvs)\n\u001b[32m   2470\u001b[39m   \u001b[38;5;28;01mif\u001b[39;00m \u001b[38;5;129;01mnot\u001b[39;00m compiler_options_kvs:\n\u001b[32m   2471\u001b[39m     \u001b[38;5;28mself\u001b[39m._executable = executable\n",
      "\u001b[36mFile \u001b[39m\u001b[32m/opt/anaconda3/envs/desc_merging/lib/python3.13/site-packages/jax/_src/interpreters/pxla.py:3009\u001b[39m, in \u001b[36mUnloadedMeshExecutable.from_hlo\u001b[39m\u001b[34m(***failed resolving arguments***)\u001b[39m\n\u001b[32m   3006\u001b[39m       \u001b[38;5;28;01mbreak\u001b[39;00m\n\u001b[32m   3008\u001b[39m util.test_event(\u001b[33m\"\u001b[39m\u001b[33mpxla_cached_compilation\u001b[39m\u001b[33m\"\u001b[39m)\n\u001b[32m-> \u001b[39m\u001b[32m3009\u001b[39m xla_executable = _cached_compilation(\n\u001b[32m   3010\u001b[39m     hlo, name, mesh, spmd_lowering,\n\u001b[32m   3011\u001b[39m     tuple_args, auto_spmd_lowering, allow_prop_to_inputs,\n\u001b[32m   3012\u001b[39m     allow_prop_to_outputs, \u001b[38;5;28mtuple\u001b[39m(host_callbacks), backend, da, pmap_nreps,\n\u001b[32m   3013\u001b[39m     compiler_options_kvs, pgle_profiler)\n\u001b[32m   3015\u001b[39m \u001b[38;5;28;01mif\u001b[39;00m auto_spmd_lowering:\n\u001b[32m   3016\u001b[39m   \u001b[38;5;28;01massert\u001b[39;00m mesh \u001b[38;5;129;01mis\u001b[39;00m \u001b[38;5;129;01mnot\u001b[39;00m \u001b[38;5;28;01mNone\u001b[39;00m\n",
      "\u001b[36mFile \u001b[39m\u001b[32m/opt/anaconda3/envs/desc_merging/lib/python3.13/site-packages/jax/_src/interpreters/pxla.py:2800\u001b[39m, in \u001b[36m_cached_compilation\u001b[39m\u001b[34m(computation, name, mesh, spmd_lowering, tuple_args, auto_spmd_lowering, allow_prop_to_inputs, allow_prop_to_outputs, host_callbacks, backend, da, pmap_nreps, compiler_options_kvs, pgle_profiler)\u001b[39m\n\u001b[32m   2792\u001b[39m compile_options = create_compile_options(\n\u001b[32m   2793\u001b[39m     computation, mesh, spmd_lowering, tuple_args, auto_spmd_lowering,\n\u001b[32m   2794\u001b[39m     allow_prop_to_inputs, allow_prop_to_outputs, backend,\n\u001b[32m   2795\u001b[39m     dev, pmap_nreps, compiler_options)\n\u001b[32m   2797\u001b[39m \u001b[38;5;28;01mwith\u001b[39;00m dispatch.log_elapsed_time(\n\u001b[32m   2798\u001b[39m     \u001b[33m\"\u001b[39m\u001b[33mFinished XLA compilation of \u001b[39m\u001b[38;5;132;01m{fun_name}\u001b[39;00m\u001b[33m in \u001b[39m\u001b[38;5;132;01m{elapsed_time:.9f}\u001b[39;00m\u001b[33m sec\u001b[39m\u001b[33m\"\u001b[39m,\n\u001b[32m   2799\u001b[39m     fun_name=name, event=dispatch.BACKEND_COMPILE_EVENT):\n\u001b[32m-> \u001b[39m\u001b[32m2800\u001b[39m   xla_executable = compiler.compile_or_get_cached(\n\u001b[32m   2801\u001b[39m       backend, computation, dev, compile_options, host_callbacks,\n\u001b[32m   2802\u001b[39m       da, pgle_profiler)\n\u001b[32m   2803\u001b[39m \u001b[38;5;28;01mreturn\u001b[39;00m xla_executable\n",
      "\u001b[36mFile \u001b[39m\u001b[32m/opt/anaconda3/envs/desc_merging/lib/python3.13/site-packages/jax/_src/compiler.py:389\u001b[39m, in \u001b[36mcompile_or_get_cached\u001b[39m\u001b[34m(backend, computation, devices, compile_options, host_callbacks, executable_devices, pgle_profiler)\u001b[39m\n\u001b[32m    384\u001b[39m min_device_process_id = \u001b[38;5;28mmin\u001b[39m(\n\u001b[32m    385\u001b[39m     devices.flatten(), key=\u001b[38;5;28;01mlambda\u001b[39;00m device: device.id\n\u001b[32m    386\u001b[39m ).process_index\n\u001b[32m    388\u001b[39m \u001b[38;5;66;03m# cache_key: may be None if compilation caching is disabled\u001b[39;00m\n\u001b[32m--> \u001b[39m\u001b[32m389\u001b[39m cache_key, compile_options = _resolve_compilation_strategy(\n\u001b[32m    390\u001b[39m   computation,\n\u001b[32m    391\u001b[39m   devices,\n\u001b[32m    392\u001b[39m   compile_options,\n\u001b[32m    393\u001b[39m   backend,\n\u001b[32m    394\u001b[39m   pgle_profiler,\n\u001b[32m    395\u001b[39m   is_multi_process,\n\u001b[32m    396\u001b[39m   module_name,\n\u001b[32m    397\u001b[39m   min_device_process_id,\n\u001b[32m    398\u001b[39m )\n\u001b[32m    400\u001b[39m \u001b[38;5;28;01mif\u001b[39;00m cache_key \u001b[38;5;129;01mis\u001b[39;00m \u001b[38;5;28;01mNone\u001b[39;00m:\n\u001b[32m    401\u001b[39m   \u001b[38;5;28;01mreturn\u001b[39;00m backend_compile(\n\u001b[32m    402\u001b[39m       backend, computation, executable_devices, compile_options,\n\u001b[32m    403\u001b[39m       host_callbacks)\n",
      "\u001b[36mFile \u001b[39m\u001b[32m/opt/anaconda3/envs/desc_merging/lib/python3.13/site-packages/jax/_src/compiler.py:518\u001b[39m, in \u001b[36m_resolve_compilation_strategy\u001b[39m\u001b[34m(computation, devices, compile_options, backend, pgle_profiler, is_multi_process, module_name, min_device_process_id)\u001b[39m\n\u001b[32m    515\u001b[39m   first_pass_compile_options = compile_options\n\u001b[32m    517\u001b[39m \u001b[38;5;66;03m# This can be None if cache key generation fails or caching is disabled\u001b[39;00m\n\u001b[32m--> \u001b[39m\u001b[32m518\u001b[39m cache_key = get_cache_key(first_pass_compile_options)\n\u001b[32m    520\u001b[39m \u001b[38;5;28;01mif\u001b[39;00m cache_key \u001b[38;5;129;01mis\u001b[39;00m \u001b[38;5;129;01mnot\u001b[39;00m \u001b[38;5;28;01mNone\u001b[39;00m \u001b[38;5;129;01mand\u001b[39;00m pgle_optimized_cache_key \u001b[38;5;129;01mis\u001b[39;00m \u001b[38;5;129;01mnot\u001b[39;00m \u001b[38;5;28;01mNone\u001b[39;00m:\n\u001b[32m    521\u001b[39m   \u001b[38;5;66;03m# The compilation cache is enabled and AutoPGLE is enabled/expected\u001b[39;00m\n\u001b[32m    522\u001b[39m   \u001b[38;5;28;01mif\u001b[39;00m _is_executable_in_cache(backend, pgle_optimized_cache_key):\n",
      "\u001b[36mFile \u001b[39m\u001b[32m/opt/anaconda3/envs/desc_merging/lib/python3.13/site-packages/jax/_src/compiler.py:575\u001b[39m, in \u001b[36m_get_cache_key\u001b[39m\u001b[34m(options, backend, computation, devices, override_fdo_profile)\u001b[39m\n\u001b[32m    573\u001b[39m   options.executable_build_options.fdo_profile = override_fdo_profile\n\u001b[32m    574\u001b[39m \u001b[38;5;28;01mtry\u001b[39;00m:\n\u001b[32m--> \u001b[39m\u001b[32m575\u001b[39m   \u001b[38;5;28;01mreturn\u001b[39;00m compilation_cache.get_cache_key(\n\u001b[32m    576\u001b[39m       computation,\n\u001b[32m    577\u001b[39m       devices,\n\u001b[32m    578\u001b[39m       options,\n\u001b[32m    579\u001b[39m       backend,\n\u001b[32m    580\u001b[39m       ignore_callbacks,\n\u001b[32m    581\u001b[39m   )\n\u001b[32m    582\u001b[39m \u001b[38;5;28;01mexcept\u001b[39;00m xc._xla.XlaRuntimeError \u001b[38;5;28;01mas\u001b[39;00m ex:\n\u001b[32m    583\u001b[39m   logger.error(\u001b[33m\"\u001b[39m\u001b[33mcompile_or_get_cached: unable to generate cache key, \u001b[39m\u001b[33m\"\u001b[39m\n\u001b[32m    584\u001b[39m                 \u001b[33m\"\u001b[39m\u001b[33mskipping the cache: \u001b[39m\u001b[38;5;132;01m%s\u001b[39;00m\u001b[33m\"\u001b[39m, ex)\n",
      "\u001b[36mFile \u001b[39m\u001b[32m/opt/anaconda3/envs/desc_merging/lib/python3.13/site-packages/jax/_src/compilation_cache.py:296\u001b[39m, in \u001b[36mget_cache_key\u001b[39m\u001b[34m(module, devices, compile_options, backend, ignore_callbacks)\u001b[39m\n\u001b[32m    289\u001b[39m \u001b[38;5;28;01mdef\u001b[39;00m\u001b[38;5;250m \u001b[39m\u001b[34mget_cache_key\u001b[39m(\n\u001b[32m    290\u001b[39m     module: ir.Module,\n\u001b[32m    291\u001b[39m     devices: np.ndarray,\n\u001b[32m   (...)\u001b[39m\u001b[32m    294\u001b[39m     ignore_callbacks: cache_key.IgnoreCallbacks = cache_key.IgnoreCallbacks.NO,\n\u001b[32m    295\u001b[39m ) -> \u001b[38;5;28mstr\u001b[39m:\n\u001b[32m--> \u001b[39m\u001b[32m296\u001b[39m   \u001b[38;5;28;01mreturn\u001b[39;00m cache_key.get(\n\u001b[32m    297\u001b[39m       module,\n\u001b[32m    298\u001b[39m       devices,\n\u001b[32m    299\u001b[39m       compile_options,\n\u001b[32m    300\u001b[39m       backend,\n\u001b[32m    301\u001b[39m       \u001b[33m\"\u001b[39m\u001b[33mzstandard\u001b[39m\u001b[33m\"\u001b[39m \u001b[38;5;28;01mif\u001b[39;00m zstandard \u001b[38;5;129;01mis\u001b[39;00m \u001b[38;5;129;01mnot\u001b[39;00m \u001b[38;5;28;01mNone\u001b[39;00m \u001b[38;5;28;01melse\u001b[39;00m \u001b[33m\"\u001b[39m\u001b[33mzlib\u001b[39m\u001b[33m\"\u001b[39m,\n\u001b[32m    302\u001b[39m       ignore_callbacks,\n\u001b[32m    303\u001b[39m   )\n",
      "\u001b[36mFile \u001b[39m\u001b[32m/opt/anaconda3/envs/desc_merging/lib/python3.13/site-packages/jax/_src/cache_key.py:144\u001b[39m, in \u001b[36mget\u001b[39m\u001b[34m(module, devices, compile_options, backend, compression_algorithm, ignore_callbacks)\u001b[39m\n\u001b[32m    142\u001b[39m hash_obj = hashlib.sha256()\n\u001b[32m    143\u001b[39m \u001b[38;5;28;01mfor\u001b[39;00m name, hashfn \u001b[38;5;129;01min\u001b[39;00m entries:\n\u001b[32m--> \u001b[39m\u001b[32m144\u001b[39m   hashfn(hash_obj)\n\u001b[32m    145\u001b[39m   _log_cache_key_hash(hash_obj, name, hashfn)\n\u001b[32m    146\u001b[39m sym_name = module.operation.attributes[\u001b[33m'\u001b[39m\u001b[33msym_name\u001b[39m\u001b[33m'\u001b[39m]\n",
      "\u001b[36mFile \u001b[39m\u001b[32m/opt/anaconda3/envs/desc_merging/lib/python3.13/site-packages/jax/_src/cache_key.py:103\u001b[39m, in \u001b[36mget.<locals>.<lambda>\u001b[39m\u001b[34m(hash_obj)\u001b[39m\n\u001b[32m     74\u001b[39m \u001b[38;5;28;01mdef\u001b[39;00m\u001b[38;5;250m \u001b[39m\u001b[34mget\u001b[39m(\n\u001b[32m     75\u001b[39m     module: ir.Module,\n\u001b[32m     76\u001b[39m     devices: np.ndarray,\n\u001b[32m   (...)\u001b[39m\u001b[32m     80\u001b[39m     ignore_callbacks: IgnoreCallbacks = IgnoreCallbacks.NO,\n\u001b[32m     81\u001b[39m ) -> \u001b[38;5;28mstr\u001b[39m:\n\u001b[32m     82\u001b[39m \u001b[38;5;250m  \u001b[39m\u001b[33;03m\"\"\"Creates a hashed string to use as a key to the compilation cache.\u001b[39;00m\n\u001b[32m     83\u001b[39m \n\u001b[32m     84\u001b[39m \u001b[33;03m  Creates a cache key that is a hex-encoded string of a unique hash based on\u001b[39;00m\n\u001b[32m   (...)\u001b[39m\u001b[32m     98\u001b[39m \u001b[33;03m   'jit__psum-14ac577cdb2ef6d986078b4054cc9893a9a14a16dbb0d8f37b89167c1f1aacdf'\u001b[39;00m\n\u001b[32m     99\u001b[39m \u001b[33;03m  \"\"\"\u001b[39;00m\n\u001b[32m    100\u001b[39m   entries = [\n\u001b[32m    101\u001b[39m       (\n\u001b[32m    102\u001b[39m           \u001b[33m\"\u001b[39m\u001b[33mcomputation\u001b[39m\u001b[33m\"\u001b[39m,\n\u001b[32m--> \u001b[39m\u001b[32m103\u001b[39m           \u001b[38;5;28;01mlambda\u001b[39;00m hash_obj: _hash_computation(\n\u001b[32m    104\u001b[39m               hash_obj, module, ignore_callbacks\n\u001b[32m    105\u001b[39m           ),\n\u001b[32m    106\u001b[39m       ),\n\u001b[32m    107\u001b[39m       (\n\u001b[32m    108\u001b[39m           \u001b[33m\"\u001b[39m\u001b[33mjax_lib version\u001b[39m\u001b[33m\"\u001b[39m,\n\u001b[32m    109\u001b[39m           \u001b[38;5;28;01mlambda\u001b[39;00m hash_obj: hash_obj.update(\n\u001b[32m    110\u001b[39m               \u001b[38;5;28mbytes\u001b[39m(jaxlib_version_str.encode(\u001b[33m\"\u001b[39m\u001b[33mutf-8\u001b[39m\u001b[33m\"\u001b[39m))\n\u001b[32m    111\u001b[39m           ),\n\u001b[32m    112\u001b[39m       ),\n\u001b[32m    113\u001b[39m       (\n\u001b[32m    114\u001b[39m           \u001b[33m\"\u001b[39m\u001b[33mbackend version\u001b[39m\u001b[33m\"\u001b[39m,\n\u001b[32m    115\u001b[39m           \u001b[38;5;28;01mlambda\u001b[39;00m hash_obj: _hash_platform(hash_obj, backend)\n\u001b[32m    116\u001b[39m       ),\n\u001b[32m    117\u001b[39m       (\n\u001b[32m    118\u001b[39m           \u001b[33m\"\u001b[39m\u001b[33mXLA flags\u001b[39m\u001b[33m\"\u001b[39m,\n\u001b[32m    119\u001b[39m           \u001b[38;5;28;01mlambda\u001b[39;00m hash_obj: _hash_xla_flags(hash_obj, get_flag_prefixes()),\n\u001b[32m    120\u001b[39m       ),\n\u001b[32m    121\u001b[39m       (\n\u001b[32m    122\u001b[39m           \u001b[33m\"\u001b[39m\u001b[33mcompile_options\u001b[39m\u001b[33m\"\u001b[39m,\n\u001b[32m    123\u001b[39m           \u001b[38;5;28;01mlambda\u001b[39;00m hash_obj: _hash_serialized_compile_options(\n\u001b[32m    124\u001b[39m               hash_obj,\n\u001b[32m    125\u001b[39m               compile_options,\n\u001b[32m    126\u001b[39m               \u001b[38;5;66;03m# In case of GPU multi-process tasks we need to strip device\u001b[39;00m\n\u001b[32m    127\u001b[39m               \u001b[38;5;66;03m# assignment to use cache key as invariant between processes.\u001b[39;00m\n\u001b[32m    128\u001b[39m               strip_device_assignment=(backend.platform == \u001b[33m\"\u001b[39m\u001b[33mgpu\u001b[39m\u001b[33m\"\u001b[39m),\n\u001b[32m    129\u001b[39m           ),\n\u001b[32m    130\u001b[39m       ),\n\u001b[32m    131\u001b[39m       (\n\u001b[32m    132\u001b[39m           \u001b[33m\"\u001b[39m\u001b[33maccelerator_config\u001b[39m\u001b[33m\"\u001b[39m,\n\u001b[32m    133\u001b[39m           \u001b[38;5;28;01mlambda\u001b[39;00m hash_obj: _hash_accelerator_config(hash_obj, devices),\n\u001b[32m    134\u001b[39m       ),\n\u001b[32m    135\u001b[39m       (\n\u001b[32m    136\u001b[39m           \u001b[33m\"\u001b[39m\u001b[33mcompression\u001b[39m\u001b[33m\"\u001b[39m,\n\u001b[32m    137\u001b[39m           \u001b[38;5;28;01mlambda\u001b[39;00m hash_obj: _hash_string(hash_obj, compression_algorithm),\n\u001b[32m    138\u001b[39m       ),\n\u001b[32m    139\u001b[39m       (\u001b[33m\"\u001b[39m\u001b[33mcustom_hook\u001b[39m\u001b[33m\"\u001b[39m, \u001b[38;5;28;01mlambda\u001b[39;00m hash_obj: _hash_string(hash_obj, custom_hook())),\n\u001b[32m    140\u001b[39m   ]\n\u001b[32m    142\u001b[39m   hash_obj = hashlib.sha256()\n\u001b[32m    143\u001b[39m   \u001b[38;5;28;01mfor\u001b[39;00m name, hashfn \u001b[38;5;129;01min\u001b[39;00m entries:\n",
      "\u001b[36mFile \u001b[39m\u001b[32m/opt/anaconda3/envs/desc_merging/lib/python3.13/site-packages/jax/_src/cache_key.py:218\u001b[39m, in \u001b[36m_hash_computation\u001b[39m\u001b[34m(hash_obj, module, ignore_callbacks)\u001b[39m\n\u001b[32m    216\u001b[39m   canonical_ir = _serialize_ir(module, ignore_callbacks)\n\u001b[32m    217\u001b[39m \u001b[38;5;28;01melse\u001b[39;00m:\n\u001b[32m--> \u001b[39m\u001b[32m218\u001b[39m   canonical_ir = _canonicalize_ir(module, ignore_callbacks)\n\u001b[32m    219\u001b[39m hash_obj.update(canonical_ir)\n",
      "\u001b[36mFile \u001b[39m\u001b[32m/opt/anaconda3/envs/desc_merging/lib/python3.13/site-packages/jax/_src/cache_key.py:211\u001b[39m, in \u001b[36m_canonicalize_ir\u001b[39m\u001b[34m(m_original, ignore_callbacks)\u001b[39m\n\u001b[32m    207\u001b[39m passes = pm.PassManager.parse(\n\u001b[32m    208\u001b[39m     \u001b[33m\"\u001b[39m\u001b[33mbuiltin.module(strip-debuginfo)\u001b[39m\u001b[33m\"\u001b[39m\n\u001b[32m    209\u001b[39m )\n\u001b[32m    210\u001b[39m passes.run(m.operation)\n\u001b[32m--> \u001b[39m\u001b[32m211\u001b[39m \u001b[38;5;28;01mreturn\u001b[39;00m _serialize_ir(m, ignore_callbacks)\n",
      "\u001b[36mFile \u001b[39m\u001b[32m/opt/anaconda3/envs/desc_merging/lib/python3.13/site-packages/jax/_src/cache_key.py:198\u001b[39m, in \u001b[36m_serialize_ir\u001b[39m\u001b[34m(m, ignore_callbacks)\u001b[39m\n\u001b[32m    194\u001b[39m \u001b[38;5;28;01mif\u001b[39;00m ignore_callbacks != IgnoreCallbacks.NO:\n\u001b[32m    195\u001b[39m   m = _remove_callbacks(\n\u001b[32m    196\u001b[39m       type_cast(ir.Module, m.operation.clone()), ignore_callbacks\n\u001b[32m    197\u001b[39m   )\n\u001b[32m--> \u001b[39m\u001b[32m198\u001b[39m m.operation.write_bytecode(file=output)\n\u001b[32m    199\u001b[39m \u001b[38;5;28;01mreturn\u001b[39;00m output.getvalue()\n",
      "\u001b[31mKeyboardInterrupt\u001b[39m: "
     ]
    },
    {
     "name": "stdout",
     "output_type": "stream",
     "text": [
      "Error in callback <function _draw_all_if_interactive at 0x112ea76a0> (for post_execute), with arguments args (),kwargs {}:\n"
     ]
    },
    {
     "ename": "KeyboardInterrupt",
     "evalue": "",
     "output_type": "error",
     "traceback": [
      "\u001b[31m---------------------------------------------------------------------------\u001b[39m",
      "\u001b[31mKeyboardInterrupt\u001b[39m                         Traceback (most recent call last)",
      "\u001b[36mFile \u001b[39m\u001b[32m/opt/anaconda3/envs/desc_merging/lib/python3.13/site-packages/matplotlib/pyplot.py:279\u001b[39m, in \u001b[36m_draw_all_if_interactive\u001b[39m\u001b[34m()\u001b[39m\n\u001b[32m    277\u001b[39m \u001b[38;5;28;01mdef\u001b[39;00m\u001b[38;5;250m \u001b[39m\u001b[34m_draw_all_if_interactive\u001b[39m() -> \u001b[38;5;28;01mNone\u001b[39;00m:\n\u001b[32m    278\u001b[39m     \u001b[38;5;28;01mif\u001b[39;00m matplotlib.is_interactive():\n\u001b[32m--> \u001b[39m\u001b[32m279\u001b[39m         draw_all()\n",
      "\u001b[36mFile \u001b[39m\u001b[32m/opt/anaconda3/envs/desc_merging/lib/python3.13/site-packages/matplotlib/_pylab_helpers.py:131\u001b[39m, in \u001b[36mGcf.draw_all\u001b[39m\u001b[34m(cls, force)\u001b[39m\n\u001b[32m    129\u001b[39m \u001b[38;5;28;01mfor\u001b[39;00m manager \u001b[38;5;129;01min\u001b[39;00m \u001b[38;5;28mcls\u001b[39m.get_all_fig_managers():\n\u001b[32m    130\u001b[39m     \u001b[38;5;28;01mif\u001b[39;00m force \u001b[38;5;129;01mor\u001b[39;00m manager.canvas.figure.stale:\n\u001b[32m--> \u001b[39m\u001b[32m131\u001b[39m         manager.canvas.draw_idle()\n",
      "\u001b[36mFile \u001b[39m\u001b[32m/opt/anaconda3/envs/desc_merging/lib/python3.13/site-packages/matplotlib/backend_bases.py:1891\u001b[39m, in \u001b[36mFigureCanvasBase.draw_idle\u001b[39m\u001b[34m(self, *args, **kwargs)\u001b[39m\n\u001b[32m   1889\u001b[39m \u001b[38;5;28;01mif\u001b[39;00m \u001b[38;5;129;01mnot\u001b[39;00m \u001b[38;5;28mself\u001b[39m._is_idle_drawing:\n\u001b[32m   1890\u001b[39m     \u001b[38;5;28;01mwith\u001b[39;00m \u001b[38;5;28mself\u001b[39m._idle_draw_cntx():\n\u001b[32m-> \u001b[39m\u001b[32m1891\u001b[39m         \u001b[38;5;28mself\u001b[39m.draw(*args, **kwargs)\n",
      "\u001b[36mFile \u001b[39m\u001b[32m/opt/anaconda3/envs/desc_merging/lib/python3.13/site-packages/matplotlib/backends/backend_agg.py:382\u001b[39m, in \u001b[36mFigureCanvasAgg.draw\u001b[39m\u001b[34m(self)\u001b[39m\n\u001b[32m    379\u001b[39m \u001b[38;5;66;03m# Acquire a lock on the shared font cache.\u001b[39;00m\n\u001b[32m    380\u001b[39m \u001b[38;5;28;01mwith\u001b[39;00m (\u001b[38;5;28mself\u001b[39m.toolbar._wait_cursor_for_draw_cm() \u001b[38;5;28;01mif\u001b[39;00m \u001b[38;5;28mself\u001b[39m.toolbar\n\u001b[32m    381\u001b[39m       \u001b[38;5;28;01melse\u001b[39;00m nullcontext()):\n\u001b[32m--> \u001b[39m\u001b[32m382\u001b[39m     \u001b[38;5;28mself\u001b[39m.figure.draw(\u001b[38;5;28mself\u001b[39m.renderer)\n\u001b[32m    383\u001b[39m     \u001b[38;5;66;03m# A GUI class may be need to update a window using this draw, so\u001b[39;00m\n\u001b[32m    384\u001b[39m     \u001b[38;5;66;03m# don't forget to call the superclass.\u001b[39;00m\n\u001b[32m    385\u001b[39m     \u001b[38;5;28msuper\u001b[39m().draw()\n",
      "\u001b[36mFile \u001b[39m\u001b[32m/opt/anaconda3/envs/desc_merging/lib/python3.13/site-packages/matplotlib/artist.py:94\u001b[39m, in \u001b[36m_finalize_rasterization.<locals>.draw_wrapper\u001b[39m\u001b[34m(artist, renderer, *args, **kwargs)\u001b[39m\n\u001b[32m     92\u001b[39m \u001b[38;5;129m@wraps\u001b[39m(draw)\n\u001b[32m     93\u001b[39m \u001b[38;5;28;01mdef\u001b[39;00m\u001b[38;5;250m \u001b[39m\u001b[34mdraw_wrapper\u001b[39m(artist, renderer, *args, **kwargs):\n\u001b[32m---> \u001b[39m\u001b[32m94\u001b[39m     result = draw(artist, renderer, *args, **kwargs)\n\u001b[32m     95\u001b[39m     \u001b[38;5;28;01mif\u001b[39;00m renderer._rasterizing:\n\u001b[32m     96\u001b[39m         renderer.stop_rasterizing()\n",
      "\u001b[36mFile \u001b[39m\u001b[32m/opt/anaconda3/envs/desc_merging/lib/python3.13/site-packages/matplotlib/artist.py:71\u001b[39m, in \u001b[36mallow_rasterization.<locals>.draw_wrapper\u001b[39m\u001b[34m(artist, renderer)\u001b[39m\n\u001b[32m     68\u001b[39m     \u001b[38;5;28;01mif\u001b[39;00m artist.get_agg_filter() \u001b[38;5;129;01mis\u001b[39;00m \u001b[38;5;129;01mnot\u001b[39;00m \u001b[38;5;28;01mNone\u001b[39;00m:\n\u001b[32m     69\u001b[39m         renderer.start_filter()\n\u001b[32m---> \u001b[39m\u001b[32m71\u001b[39m     \u001b[38;5;28;01mreturn\u001b[39;00m draw(artist, renderer)\n\u001b[32m     72\u001b[39m \u001b[38;5;28;01mfinally\u001b[39;00m:\n\u001b[32m     73\u001b[39m     \u001b[38;5;28;01mif\u001b[39;00m artist.get_agg_filter() \u001b[38;5;129;01mis\u001b[39;00m \u001b[38;5;129;01mnot\u001b[39;00m \u001b[38;5;28;01mNone\u001b[39;00m:\n",
      "\u001b[36mFile \u001b[39m\u001b[32m/opt/anaconda3/envs/desc_merging/lib/python3.13/site-packages/matplotlib/figure.py:3257\u001b[39m, in \u001b[36mFigure.draw\u001b[39m\u001b[34m(self, renderer)\u001b[39m\n\u001b[32m   3254\u001b[39m             \u001b[38;5;66;03m# ValueError can occur when resizing a window.\u001b[39;00m\n\u001b[32m   3256\u001b[39m     \u001b[38;5;28mself\u001b[39m.patch.draw(renderer)\n\u001b[32m-> \u001b[39m\u001b[32m3257\u001b[39m     mimage._draw_list_compositing_images(\n\u001b[32m   3258\u001b[39m         renderer, \u001b[38;5;28mself\u001b[39m, artists, \u001b[38;5;28mself\u001b[39m.suppressComposite)\n\u001b[32m   3260\u001b[39m     renderer.close_group(\u001b[33m'\u001b[39m\u001b[33mfigure\u001b[39m\u001b[33m'\u001b[39m)\n\u001b[32m   3261\u001b[39m \u001b[38;5;28;01mfinally\u001b[39;00m:\n",
      "\u001b[36mFile \u001b[39m\u001b[32m/opt/anaconda3/envs/desc_merging/lib/python3.13/site-packages/matplotlib/image.py:134\u001b[39m, in \u001b[36m_draw_list_compositing_images\u001b[39m\u001b[34m(renderer, parent, artists, suppress_composite)\u001b[39m\n\u001b[32m    132\u001b[39m \u001b[38;5;28;01mif\u001b[39;00m not_composite \u001b[38;5;129;01mor\u001b[39;00m \u001b[38;5;129;01mnot\u001b[39;00m has_images:\n\u001b[32m    133\u001b[39m     \u001b[38;5;28;01mfor\u001b[39;00m a \u001b[38;5;129;01min\u001b[39;00m artists:\n\u001b[32m--> \u001b[39m\u001b[32m134\u001b[39m         a.draw(renderer)\n\u001b[32m    135\u001b[39m \u001b[38;5;28;01melse\u001b[39;00m:\n\u001b[32m    136\u001b[39m     \u001b[38;5;66;03m# Composite any adjacent images together\u001b[39;00m\n\u001b[32m    137\u001b[39m     image_group = []\n",
      "\u001b[36mFile \u001b[39m\u001b[32m/opt/anaconda3/envs/desc_merging/lib/python3.13/site-packages/matplotlib/artist.py:71\u001b[39m, in \u001b[36mallow_rasterization.<locals>.draw_wrapper\u001b[39m\u001b[34m(artist, renderer)\u001b[39m\n\u001b[32m     68\u001b[39m     \u001b[38;5;28;01mif\u001b[39;00m artist.get_agg_filter() \u001b[38;5;129;01mis\u001b[39;00m \u001b[38;5;129;01mnot\u001b[39;00m \u001b[38;5;28;01mNone\u001b[39;00m:\n\u001b[32m     69\u001b[39m         renderer.start_filter()\n\u001b[32m---> \u001b[39m\u001b[32m71\u001b[39m     \u001b[38;5;28;01mreturn\u001b[39;00m draw(artist, renderer)\n\u001b[32m     72\u001b[39m \u001b[38;5;28;01mfinally\u001b[39;00m:\n\u001b[32m     73\u001b[39m     \u001b[38;5;28;01mif\u001b[39;00m artist.get_agg_filter() \u001b[38;5;129;01mis\u001b[39;00m \u001b[38;5;129;01mnot\u001b[39;00m \u001b[38;5;28;01mNone\u001b[39;00m:\n",
      "\u001b[36mFile \u001b[39m\u001b[32m/opt/anaconda3/envs/desc_merging/lib/python3.13/site-packages/matplotlib/axes/_base.py:3216\u001b[39m, in \u001b[36m_AxesBase.draw\u001b[39m\u001b[34m(self, renderer)\u001b[39m\n\u001b[32m   3213\u001b[39m \u001b[38;5;28;01mif\u001b[39;00m artists_rasterized:\n\u001b[32m   3214\u001b[39m     _draw_rasterized(\u001b[38;5;28mself\u001b[39m.get_figure(root=\u001b[38;5;28;01mTrue\u001b[39;00m), artists_rasterized, renderer)\n\u001b[32m-> \u001b[39m\u001b[32m3216\u001b[39m mimage._draw_list_compositing_images(\n\u001b[32m   3217\u001b[39m     renderer, \u001b[38;5;28mself\u001b[39m, artists, \u001b[38;5;28mself\u001b[39m.get_figure(root=\u001b[38;5;28;01mTrue\u001b[39;00m).suppressComposite)\n\u001b[32m   3219\u001b[39m renderer.close_group(\u001b[33m'\u001b[39m\u001b[33maxes\u001b[39m\u001b[33m'\u001b[39m)\n\u001b[32m   3220\u001b[39m \u001b[38;5;28mself\u001b[39m.stale = \u001b[38;5;28;01mFalse\u001b[39;00m\n",
      "\u001b[36mFile \u001b[39m\u001b[32m/opt/anaconda3/envs/desc_merging/lib/python3.13/site-packages/matplotlib/image.py:134\u001b[39m, in \u001b[36m_draw_list_compositing_images\u001b[39m\u001b[34m(renderer, parent, artists, suppress_composite)\u001b[39m\n\u001b[32m    132\u001b[39m \u001b[38;5;28;01mif\u001b[39;00m not_composite \u001b[38;5;129;01mor\u001b[39;00m \u001b[38;5;129;01mnot\u001b[39;00m has_images:\n\u001b[32m    133\u001b[39m     \u001b[38;5;28;01mfor\u001b[39;00m a \u001b[38;5;129;01min\u001b[39;00m artists:\n\u001b[32m--> \u001b[39m\u001b[32m134\u001b[39m         a.draw(renderer)\n\u001b[32m    135\u001b[39m \u001b[38;5;28;01melse\u001b[39;00m:\n\u001b[32m    136\u001b[39m     \u001b[38;5;66;03m# Composite any adjacent images together\u001b[39;00m\n\u001b[32m    137\u001b[39m     image_group = []\n",
      "\u001b[36mFile \u001b[39m\u001b[32m/opt/anaconda3/envs/desc_merging/lib/python3.13/site-packages/matplotlib/artist.py:71\u001b[39m, in \u001b[36mallow_rasterization.<locals>.draw_wrapper\u001b[39m\u001b[34m(artist, renderer)\u001b[39m\n\u001b[32m     68\u001b[39m     \u001b[38;5;28;01mif\u001b[39;00m artist.get_agg_filter() \u001b[38;5;129;01mis\u001b[39;00m \u001b[38;5;129;01mnot\u001b[39;00m \u001b[38;5;28;01mNone\u001b[39;00m:\n\u001b[32m     69\u001b[39m         renderer.start_filter()\n\u001b[32m---> \u001b[39m\u001b[32m71\u001b[39m     \u001b[38;5;28;01mreturn\u001b[39;00m draw(artist, renderer)\n\u001b[32m     72\u001b[39m \u001b[38;5;28;01mfinally\u001b[39;00m:\n\u001b[32m     73\u001b[39m     \u001b[38;5;28;01mif\u001b[39;00m artist.get_agg_filter() \u001b[38;5;129;01mis\u001b[39;00m \u001b[38;5;129;01mnot\u001b[39;00m \u001b[38;5;28;01mNone\u001b[39;00m:\n",
      "\u001b[36mFile \u001b[39m\u001b[32m/opt/anaconda3/envs/desc_merging/lib/python3.13/site-packages/matplotlib/lines.py:821\u001b[39m, in \u001b[36mLine2D.draw\u001b[39m\u001b[34m(self, renderer)\u001b[39m\n\u001b[32m    818\u001b[39m         gc.set_foreground(lc_rgba, isRGBA=\u001b[38;5;28;01mTrue\u001b[39;00m)\n\u001b[32m    820\u001b[39m         gc.set_dashes(*\u001b[38;5;28mself\u001b[39m._dash_pattern)\n\u001b[32m--> \u001b[39m\u001b[32m821\u001b[39m         renderer.draw_path(gc, tpath, affine.frozen())\n\u001b[32m    822\u001b[39m         gc.restore()\n\u001b[32m    824\u001b[39m \u001b[38;5;28;01mif\u001b[39;00m \u001b[38;5;28mself\u001b[39m._marker \u001b[38;5;129;01mand\u001b[39;00m \u001b[38;5;28mself\u001b[39m._markersize > \u001b[32m0\u001b[39m:\n",
      "\u001b[36mFile \u001b[39m\u001b[32m/opt/anaconda3/envs/desc_merging/lib/python3.13/site-packages/matplotlib/backends/backend_agg.py:130\u001b[39m, in \u001b[36mRendererAgg.draw_path\u001b[39m\u001b[34m(self, gc, path, transform, rgbFace)\u001b[39m\n\u001b[32m    128\u001b[39m \u001b[38;5;28;01melse\u001b[39;00m:\n\u001b[32m    129\u001b[39m     \u001b[38;5;28;01mtry\u001b[39;00m:\n\u001b[32m--> \u001b[39m\u001b[32m130\u001b[39m         \u001b[38;5;28mself\u001b[39m._renderer.draw_path(gc, path, transform, rgbFace)\n\u001b[32m    131\u001b[39m     \u001b[38;5;28;01mexcept\u001b[39;00m \u001b[38;5;167;01mOverflowError\u001b[39;00m:\n\u001b[32m    132\u001b[39m         cant_chunk = \u001b[33m'\u001b[39m\u001b[33m'\u001b[39m\n",
      "\u001b[31mKeyboardInterrupt\u001b[39m: "
     ]
    },
    {
     "data": {
      "image/png": "[encoded data removed]",
      "text/plain": [
       "<Figure size 432.324x288.216 with 1 Axes>"
      ]
     },
     "metadata": {},
     "output_type": "display_data"
    }
   ],
   "source": [
    "plt.figure()\n",
    "\n",
    "## plot coils\n",
    "\n",
    "coil_data = coilset.compute([\"X\", \"Y\", \"Z\"])\n",
    "\n",
    "for i in coil_data:\n",
    "    x = i[\"X\"]\n",
    "    y = i[\"Y\"]\n",
    "    z = i[\"Z\"]\n",
    "    #plt.plot(y, x, \".\", color=\"gold\")\n",
    "\n",
    "# construct finite valued path \n",
    "points = []\n",
    "B = []\n",
    "for i in range(N):\n",
    "    plt.plot(path[:,i,1],path[:,i,0])\n",
    "\n",
    "    x = path[:,i,0][np.isfinite(path[:,i,0])]\n",
    "    y = path[:,i,1][np.isfinite(path[:,i,1])]\n",
    "    z = path[:,i,2][np.isfinite(path[:,i,2])]\n",
    "\n",
    "    points += [np.array([x,y,z]).T]\n",
    "    B += [coilset.compute_magnetic_field(np.array([x, y, z]).T, basis=\"xyz\")]\n",
    "\n",
    "B = np.array(B)\n",
    "points = np.array(points)"
   ]
  },
  {
   "cell_type": "code",
   "execution_count": null,
   "id": "a833b2fe-60e9-44ff-acc0-94ebe5c995d1",
   "metadata": {},
   "outputs": [],
   "source": [
    "Bmag = np.linalg.norm(B,axis = -1)"
   ]
  },
  {
   "cell_type": "code",
   "execution_count": null,
   "id": "1656f65c-a07b-4417-a03c-62446eabaebd",
   "metadata": {},
   "outputs": [],
   "source": [
    "for i in range(N):\n",
    "    plt.scatter(points[i,:,2],points[i,:,0],c = Bmag[i])"
   ]
  },
  {
   "cell_type": "code",
   "execution_count": 52,
   "id": "730a74da-3355-4f72-8ce7-ab6dc1a0bcd3",
   "metadata": {},
   "outputs": [],
   "source": [
    "import numpy as np\n",
    "import matplotlib.pyplot as plt\n",
    "from scipy.integrate import solve_ivp\n",
    "#from scipy.interpolate import RegularGridInterpolator as RgInt\n",
    "from scipy.interpolate import splrep,splprep, splev, interpn\n"
   ]
  },
  {
   "cell_type": "code",
   "execution_count": 53,
   "id": "f5871c5a-8358-4458-a957-9d09016cc3d6",
   "metadata": {},
   "outputs": [],
   "source": [
    "points = order_z(points)"
   ]
  },
  {
   "cell_type": "code",
   "execution_count": null,
   "id": "264d06a8-09c9-4d07-9ede-f50ed83e3c8e",
   "metadata": {},
   "outputs": [],
   "source": []
  },
  {
   "cell_type": "code",
   "execution_count": null,
   "id": "b6f6e2c2-2ddf-4324-b4e1-7161d19f8b58",
   "metadata": {},
   "outputs": [],
   "source": []
  },
  {
   "cell_type": "code",
   "execution_count": 633,
   "id": "41a32e8a-58e6-4ae2-9399-bf87cfadc13a",
   "metadata": {},
   "outputs": [
    {
     "data": {
      "text/plain": [
       "(21, 50, 3)"
      ]
     },
     "execution_count": 633,
     "metadata": {},
     "output_type": "execute_result"
    }
   ],
   "source": [
    "points.shape"
   ]
  },
  {
   "cell_type": "code",
   "execution_count": null,
   "id": "cdf51ce2-705e-4268-b7e4-2709ae91bdf4",
   "metadata": {},
   "outputs": [],
   "source": [
    "fig = mlab.figure(bgcolor = (1,1,1),fgcolor=(0.,0.,0.))\n",
    "\n",
    "## plot coils\n",
    "\n",
    "coil_data = coilset.compute([\"X\", \"Y\", \"Z\"])\n",
    "\n",
    "for i in coil_data:\n",
    "    x = i[\"X\"]\n",
    "    y = i[\"Y\"]\n",
    "    z = i[\"Z\"]\n",
    "   # mlab.plot3d(x,y,z, tube_radius = .01,opacity=.5, color = (.5,.5,.5))\n",
    "    mlab.points3d(x,y,z,scale_factor = .01,opacity=.5, color = (.5,.5,.5))\n",
    "\n",
    "#for i in range(N):\n",
    "    #mlab.points3d(path[:,i,0],path[:,i,1],path[:,i,2],scale_factor = .01,opacity=1, color = (1,.5,.5))\n",
    "    \n",
    "mlab.show()"
   ]
  },
  {
   "cell_type": "code",
   "execution_count": null,
   "id": "3059fbe7-905c-4cce-9a88-9d65cbb30a9f",
   "metadata": {},
   "outputs": [],
   "source": []
  },
  {
   "cell_type": "code",
   "execution_count": null,
   "id": "c5d5ebb5-8685-40c9-836f-28e3c2463b1e",
   "metadata": {},
   "outputs": [],
   "source": []
  },
  {
   "cell_type": "code",
   "execution_count": 1005,
   "id": "9ba9bb09-08fe-4ad1-be40-48ced803e071",
   "metadata": {},
   "outputs": [],
   "source": [
    "from mayavi import mlab"
   ]
  },
  {
   "cell_type": "code",
   "execution_count": 331,
   "id": "bc128f8b-084d-4e1b-a0d7-15b75e4bef27",
   "metadata": {},
   "outputs": [],
   "source": [
    "## plot B vectors \n",
    "# cylindrical grid\n",
    "points = []\n",
    "B = []\n",
    "Ny = 10\n",
    "Nt = 10\n",
    "radial = np.linspace(.01,.01,1)\n",
    "for r in radial:\n",
    "    y = np.linspace(2,4,Ny)\n",
    "    for yi in y:\n",
    "        theta = np.linspace(0,2*np.pi,Nt)\n",
    "        x = r*np.cos(theta)\n",
    "        z = r*np.sin(theta)\n",
    "        yt = np.ones_like(x)*yi\n",
    "        points += [np.array([x,yt,z]).T]\n",
    "        B += [coilset.compute_magnetic_field(np.array([x, yt, z]).T, basis=\"xyz\")]\n",
    "\n",
    "\n",
    "points = np.array(points)\n",
    "B = np.array(B)\n"
   ]
  },
  {
   "cell_type": "code",
   "execution_count": 333,
   "id": "72485795-ebc6-4ec2-bb1d-cef5e8ce5717",
   "metadata": {},
   "outputs": [
    {
     "data": {
      "text/plain": [
       "(10, 10, 3)"
      ]
     },
     "execution_count": 333,
     "metadata": {},
     "output_type": "execute_result"
    }
   ],
   "source": [
    "points.shape"
   ]
  },
  {
   "cell_type": "code",
   "execution_count": 335,
   "id": "1ac10379-2d34-47b7-b926-20d6f71139b6",
   "metadata": {},
   "outputs": [],
   "source": [
    "fig = mlab.figure(bgcolor = (1,1,1),fgcolor=(0.,0.,0.))\n",
    "\n",
    "## plot coils\n",
    "\n",
    "coil_data = coilset.compute([\"X\", \"Y\", \"Z\"])\n",
    "\n",
    "for i in coil_data:\n",
    "    x = i[\"X\"]\n",
    "    y = i[\"Y\"]\n",
    "    z = i[\"Z\"]\n",
    "   # mlab.plot3d(x,y,z, tube_radius = .01,opacity=.5, color = (.5,.5,.5))\n",
    "    mlab.points3d(x,y,z,scale_factor = .01,opacity=.5, color = (.5,.5,.5))\n",
    "\n",
    "mlab.quiver3d(points[:,:,0],points[:,:,1],points[:,:,2],B[:,:,0],B[:,:,1],B[:,:,2])\n",
    "\n",
    "#mlab.points3d(points[:,:,0].ravel(),points[:,:,1].ravel(),points[:,:,2].ravel(),scale_factor = .01,opacity=.5, color = (.5,.5,.5))\n",
    "\n",
    "mlab.show()"
   ]
  },
  {
   "cell_type": "code",
   "execution_count": null,
   "id": "232964d5-e5ec-4212-b907-a987082d168d",
   "metadata": {},
   "outputs": [],
   "source": []
  },
  {
   "cell_type": "code",
   "execution_count": null,
   "id": "97987d08-cdf2-4b0f-91f7-892bd3e8407c",
   "metadata": {},
   "outputs": [],
   "source": []
  },
  {
   "cell_type": "code",
   "execution_count": null,
   "id": "bdd2d231-38f3-49e9-a1be-0d2e8798ccd6",
   "metadata": {},
   "outputs": [],
   "source": []
  },
  {
   "cell_type": "code",
   "execution_count": 637,
   "id": "ef626aae-6438-4401-9c1a-81e7e859c9ca",
   "metadata": {},
   "outputs": [],
   "source": [
    "### remove all inf \n",
    "path_t = path[np.isfinite(path)]"
   ]
  },
  {
   "cell_type": "code",
   "execution_count": 639,
   "id": "0a2cad99-3f01-4622-acc6-7cbb2013ae1f",
   "metadata": {},
   "outputs": [
    {
     "data": {
      "text/plain": [
       "(3150,)"
      ]
     },
     "execution_count": 639,
     "metadata": {},
     "output_type": "execute_result"
    }
   ],
   "source": [
    "path_t.shape"
   ]
  },
  {
   "cell_type": "code",
   "execution_count": 641,
   "id": "45ec04f4-7d16-44c8-a69f-3e7987d0da74",
   "metadata": {},
   "outputs": [
    {
     "data": {
      "text/plain": [
       "(3150,)"
      ]
     },
     "execution_count": 641,
     "metadata": {},
     "output_type": "execute_result"
    }
   ],
   "source": [
    "path_t.shape"
   ]
  },
  {
   "cell_type": "code",
   "execution_count": 182,
   "id": "a2c54ffa-ee70-4a43-b885-ab425254e4a1",
   "metadata": {},
   "outputs": [
    {
     "data": {
      "image/png": "[encoded data removed]",
      "text/plain": [
       "<Figure size 432.324x288.216 with 1 Axes>"
      ]
     },
     "metadata": {},
     "output_type": "display_data"
    }
   ],
   "source": [
    "plt.figure()\n",
    "\n",
    "## plot coils\n",
    "\n",
    "coil_data = coilset.compute([\"X\", \"Y\", \"Z\"])\n",
    "\n",
    "for i in coil_data:\n",
    "    x = i[\"X\"]\n",
    "    y = i[\"Y\"]\n",
    "    z = i[\"Z\"]\n",
    "    #plt.plot(y, x, \".\", color=\"gold\")\n",
    "\n",
    "# construct finite valued path \n",
    "points = []\n",
    "for i in range(N):\n",
    "    plt.plot(path[:,i,1],path[:,i,0])\n",
    "\n",
    "    x = path[:,i,0][np.isfinite(path[:,i,0])]\n",
    "    y = path[:,i,1][np.isfinite(path[:,i,1])]\n",
    "    z = path[:,i,2][np.isfinite(path[:,i,2])]\n",
    "\n",
    "    points += [np.array([x,y,z]).T]\n",
    "    \n",
    "points = np.array(points)"
   ]
  },
  {
   "cell_type": "code",
   "execution_count": 184,
   "id": "e733569f-bb2b-44a8-8aad-e89cc35f780e",
   "metadata": {},
   "outputs": [],
   "source": [
    "points = order_z(points)"
   ]
  },
  {
   "cell_type": "code",
   "execution_count": null,
   "id": "65a419a1-5663-4135-900c-b875c0e5f082",
   "metadata": {},
   "outputs": [],
   "source": []
  },
  {
   "cell_type": "code",
   "execution_count": null,
   "id": "4560f03c-4da4-41ae-86f7-44977976986d",
   "metadata": {},
   "outputs": [],
   "source": []
  },
  {
   "cell_type": "code",
   "execution_count": 188,
   "id": "03207852-5a37-4d9f-a306-63f6c0ea80de",
   "metadata": {},
   "outputs": [],
   "source": [
    "from desc.geometry.surface import ChebyshevRZToroidalSurface\n",
    "from desc.plotting import *\n",
    "from desc.grid import Grid"
   ]
  },
  {
   "cell_type": "code",
   "execution_count": 190,
   "id": "3dfc9b12-1106-4ae7-b195-dacf8b7fadea",
   "metadata": {},
   "outputs": [
    {
     "data": {
      "text/plain": [
       "(20, 33, 3)"
      ]
     },
     "execution_count": 190,
     "metadata": {},
     "output_type": "execute_result"
    }
   ],
   "source": [
    "points.shape"
   ]
  },
  {
   "cell_type": "code",
   "execution_count": 192,
   "id": "da9adfa6-c06d-44e4-8fb0-7e6d1723e980",
   "metadata": {},
   "outputs": [],
   "source": [
    "X = points[:,:,0].ravel()\n",
    "Y = points[:,:,1].ravel()\n",
    "Z = points[:,:,2].ravel()\n"
   ]
  },
  {
   "cell_type": "code",
   "execution_count": 194,
   "id": "0a712f65-d225-484f-afa7-44ae3c627ba4",
   "metadata": {},
   "outputs": [],
   "source": [
    "fig = mlab.figure(bgcolor=(1, 1, 1), fgcolor=(0.0, 0.0, 0.0))\n",
    "\n",
    "\n",
    "\n",
    "coil_data = coilset.compute([\"X\", \"Y\", \"Z\"])\n",
    "\n",
    "for i in coil_data:\n",
    "    x = i[\"X\"]\n",
    "    y = i[\"Y\"]\n",
    "    z = i[\"Z\"]\n",
    "   # mlab.plot3d(x,y,z, tube_radius = .01,opacity=.5, color = (.5,.5,.5))\n",
    "    mlab.points3d(x,y,z,scale_factor = .01,opacity=.5, color = (.5,.5,.5))\n",
    "\n",
    "#mlab.quiver3d(points[:,:,0],points[:,:,1],points[:,:,2],B[:,:,0],B[:,:,1],B[:,:,2])\n",
    "\n",
    "\n",
    "\n",
    "mlab.points3d(X,Y,Z,scale_factor = .01,opacity=.5, color = (.5,.5,.5))\n",
    "\n",
    "\n",
    "\n",
    "mlab.show()"
   ]
  },
  {
   "cell_type": "code",
   "execution_count": null,
   "id": "0e32f0c2-17b2-4339-8e2c-2ce4992ef65e",
   "metadata": {},
   "outputs": [],
   "source": []
  },
  {
   "cell_type": "code",
   "execution_count": null,
   "id": "503fba45-f0f3-41a0-8fa1-fc34661ad93c",
   "metadata": {},
   "outputs": [],
   "source": []
  },
  {
   "cell_type": "code",
   "execution_count": 108,
   "id": "b08475cf-d513-44f1-8835-5c76a3efb949",
   "metadata": {},
   "outputs": [],
   "source": [
    "## modification for quad coil\n",
    "X = points[:,:,0].ravel() + 100 \n",
    "Z = points[:,:,1].ravel()\n",
    "Y = points[:,:,2].ravel()"
   ]
  },
  {
   "cell_type": "code",
   "execution_count": 110,
   "id": "f49e218e-dbaa-4402-a554-305e09b00032",
   "metadata": {},
   "outputs": [],
   "source": [
    "xf = points[:,:,0].ravel()\n",
    "yf = points[:,:,1].ravel()\n",
    "zf = points[:,:,2].ravel()\n",
    "\n",
    "### transform z to zeta\n",
    "z_min = np.min(zf)\n",
    "z_max = np.max(zf)\n",
    "\n",
    "### old length\n",
    "L_old = np.abs(z_min) + z_max\n",
    "L_new = 2 * np.pi\n",
    "scale = 1 #L_new / L_old\n",
    "\n",
    "# Shift and scale to get zeta in [0, 2π]\n",
    "Y = 2 * np.pi * (zf - z_min) / (z_max - z_min)\n",
    "X = xf * scale + 10\n",
    "Z = yf * scale"
   ]
  },
  {
   "cell_type": "code",
   "execution_count": 112,
   "id": "f5228bbe-0645-4d7b-ad6a-d4ef8fc0f19d",
   "metadata": {},
   "outputs": [],
   "source": [
    "Radius = np.sqrt(Z**2 + X**2)\n",
    "#Rho = np.ones_like(X)\n",
    "Theta = np.arctan2(Z,X-10)\n",
    "Zeta = Y"
   ]
  },
  {
   "cell_type": "code",
   "execution_count": 114,
   "id": "4fe8db06-4867-49d9-a19a-dbb7851e2c92",
   "metadata": {},
   "outputs": [],
   "source": [
    "target_values = np.array([Radius,Zeta,Z]).T"
   ]
  },
  {
   "cell_type": "code",
   "execution_count": 116,
   "id": "8437733d-50be-4c6c-bd2f-1ad8501c46fe",
   "metadata": {},
   "outputs": [
    {
     "data": {
      "text/plain": [
       "[<matplotlib.lines.Line2D at 0x41264fd90>]"
      ]
     },
     "execution_count": 116,
     "metadata": {},
     "output_type": "execute_result"
    },
    {
     "data": {
      "image/png": "[encoded data removed]",
      "text/plain": [
       "<Figure size 432.324x288.216 with 1 Axes>"
      ]
     },
     "metadata": {},
     "output_type": "display_data"
    }
   ],
   "source": [
    "plt.plot(Y,Z,'.')"
   ]
  },
  {
   "cell_type": "code",
   "execution_count": null,
   "id": "47f5016c-28c5-4338-a5e1-ebdb25159024",
   "metadata": {},
   "outputs": [],
   "source": []
  },
  {
   "cell_type": "code",
   "execution_count": 129,
   "id": "3a13f2fd-a0e7-487c-842a-16489fd4fe28",
   "metadata": {},
   "outputs": [],
   "source": [
    "surf = ChebyshevRZToroidalSurface.from_values(target_values,Theta,Zeta, N = 5, M = 15)"
   ]
  },
  {
   "cell_type": "code",
   "execution_count": 130,
   "id": "3f8c76df-8acb-45ef-86b0-8ce1d5ffbab7",
   "metadata": {},
   "outputs": [
    {
     "data": {
      "image/png": "[encoded data removed]",
      "text/plain": [
       "<Figure size 432.324x432.324 with 1 Axes>"
      ]
     },
     "metadata": {},
     "output_type": "display_data"
    }
   ],
   "source": [
    "data = plot_boundary(surf,plot_axis=False,phi = np.linspace(0,2*np.pi,5),return_data = True)\n",
    "plt.grid()"
   ]
  },
  {
   "cell_type": "code",
   "execution_count": 95,
   "id": "012131ac-01d1-4fbc-afc1-ce8188a32a1e",
   "metadata": {},
   "outputs": [],
   "source": [
    "Nz = 200\n",
    "Nt = 50\n",
    "rho_surf = .5\n",
    "\n",
    "# Flux surfaces on which to evaluate \n",
    "surfaces = np.array([rho_surf])\n",
    "# Field lines on which to evaluate \n",
    "alpha = np.linspace(0, 2 * np.pi, Nt, endpoint=False)\n",
    "# Number of point along a field line \n",
    "zeta = np.linspace(0, 2 * np.pi, Nz)\n",
    "\n",
    "# we need to make a special grid in field aligned coordinates, which we do here\n",
    "# coordinates=\"raz\" tells desc that this grid is in rho,alpha,zeta coordinates.\n",
    "grid = Grid.create_meshgrid([surfaces, alpha, zeta], coordinates=\"raz\")"
   ]
  },
  {
   "cell_type": "code",
   "execution_count": 97,
   "id": "4cc742d8-838f-4c12-8b21-8a9e9a4750fe",
   "metadata": {},
   "outputs": [
    {
     "name": "stderr",
     "output_type": "stream",
     "text": [
      "/Users/djinpatch/CODE/DESC/desc/utils.py:572: UserWarning: Expected coordinates rtz got raz.\n",
      "  warnings.warn(msg, err)\n"
     ]
    }
   ],
   "source": [
    "data = surf.compute(\n",
    "    [\n",
    "        \"X\",\n",
    "        \"Y\",\n",
    "        \"Z\", \n",
    "    ],\n",
    "    grid=grid,\n",
    ")"
   ]
  },
  {
   "cell_type": "code",
   "execution_count": 99,
   "id": "d65000b5-6d68-4254-91b4-5aa433919a6e",
   "metadata": {},
   "outputs": [],
   "source": [
    "x = data['X'].reshape(Nz,Nt).T\n",
    "y = data['Y'].reshape(Nz,Nt).T\n",
    "z = data['Z'].reshape(Nz,Nt).T"
   ]
  },
  {
   "cell_type": "code",
   "execution_count": 101,
   "id": "5bb48f43-cc86-456d-b3aa-4aa0aa5b553b",
   "metadata": {},
   "outputs": [
    {
     "name": "stderr",
     "output_type": "stream",
     "text": [
      "/var/folders/t3/4w9l289j4ssdzgq5bgcflr9r0000gn/T/ipykernel_21782/2607856918.py:1: UserWarning: No data for colormapping provided via 'c'. Parameters 'cmap' will be ignored\n",
      "  base = plt.scatter(y[:,:],z[:,:],alpha = 1, cmap = 'RdBu')\n"
     ]
    },
    {
     "data": {
      "text/plain": [
       "<matplotlib.colorbar.Colorbar at 0x37ff82990>"
      ]
     },
     "execution_count": 101,
     "metadata": {},
     "output_type": "execute_result"
    },
    {
     "data": {
      "image/png": "[encoded data removed]",
      "text/plain": [
       "<Figure size 432.324x288.216 with 2 Axes>"
      ]
     },
     "metadata": {},
     "output_type": "display_data"
    }
   ],
   "source": [
    "base = plt.scatter(y[:,:],z[:,:],alpha = 1, cmap = 'RdBu')\n",
    "plt.colorbar(base,)"
   ]
  },
  {
   "cell_type": "code",
   "execution_count": null,
   "id": "c4eb1182-b11c-4b95-a542-3843f0d8138a",
   "metadata": {},
   "outputs": [],
   "source": []
  },
  {
   "cell_type": "code",
   "execution_count": null,
   "id": "ef57400c-3639-4151-8cd5-c5918642974b",
   "metadata": {},
   "outputs": [],
   "source": []
  },
  {
   "cell_type": "code",
   "execution_count": 133,
   "id": "7780821e-79ae-4efe-a225-5aac956b8607",
   "metadata": {},
   "outputs": [],
   "source": [
    "from desc.profiles import PowerSeriesProfile\n",
    "from scipy.constants import mu_0\n",
    "from desc.equilibrium import Equilibrium\n",
    "\n",
    "p = PowerSeriesProfile(params=[0.000 / mu_0, -0.000 / mu_0], modes=[0, 2])\n",
    "iota = PowerSeriesProfile(params=[0.0, 0])"
   ]
  },
  {
   "cell_type": "code",
   "execution_count": 135,
   "id": "00312c5d-6152-4fff-a586-0aced138028e",
   "metadata": {},
   "outputs": [
    {
     "name": "stderr",
     "output_type": "stream",
     "text": [
      "/Users/djinpatch/CODE/DESC/desc/compat.py:39: UserWarning: Left handed coordinates detected, switching sign of theta. To avoid this warning in the future, switch the sign of all modes with m<0 and iota/current profile.\n",
      "  warnings.warn(\n"
     ]
    }
   ],
   "source": [
    "eq = Equilibrium(\n",
    "    surface=surf,\n",
    "    L=10,\n",
    "    M=15,\n",
    "    N=5,\n",
    "    mirror=True,\n",
    "    pressure=p,\n",
    "    iota=iota,\n",
    "    sym=False,\n",
    ")"
   ]
  },
  {
   "cell_type": "code",
   "execution_count": 137,
   "id": "8343ca23-ad71-41af-9373-444a8cd0bae7",
   "metadata": {},
   "outputs": [
    {
     "data": {
      "image/png": "[encoded data removed]",
      "text/plain": [
       "<Figure size 432.324x432.324 with 1 Axes>"
      ]
     },
     "metadata": {},
     "output_type": "display_data"
    }
   ],
   "source": [
    "data = plot_boundary(eq,plot_axis=False,phi = np.linspace(0,2*np.pi,5),return_data = True)\n",
    "plt.grid()"
   ]
  },
  {
   "cell_type": "code",
   "execution_count": 139,
   "id": "9d92710e-97f2-4c2a-a268-5c002262a9a8",
   "metadata": {},
   "outputs": [
    {
     "data": {
      "text/plain": [
       "Equilibrium at 0x33e5863c0 (L=10, M=15, N=5, NFP=1, sym=False, spectral_indexing=ansi)"
      ]
     },
     "execution_count": 139,
     "metadata": {},
     "output_type": "execute_result"
    }
   ],
   "source": [
    "eq"
   ]
  },
  {
   "cell_type": "code",
   "execution_count": 141,
   "id": "b35b10c7-1130-4970-b34a-5b5a4aeacb2f",
   "metadata": {},
   "outputs": [
    {
     "data": {
      "text/plain": [
       "<matplotlib.legend.Legend at 0x35cd4cb90>"
      ]
     },
     "execution_count": 141,
     "metadata": {},
     "output_type": "execute_result"
    },
    {
     "data": {
      "image/png": "[encoded data removed]",
      "text/plain": [
       "<Figure size 432.324x288.216 with 1 Axes>"
      ]
     },
     "metadata": {},
     "output_type": "display_data"
    }
   ],
   "source": [
    "# ---- Grid for axis (rho = 0, theta = 0, zeta from 0 to 2pi) ----\n",
    "Nz = 100\n",
    "zeta_axis = np.linspace(0, 2 * np.pi, Nz)\n",
    "rho_axis = np.ones_like(zeta_axis) * 0\n",
    "theta_axis = np.zeros_like(zeta_axis)\n",
    "grid_axis = Grid(np.stack([rho_axis, theta_axis, zeta_axis], axis=1))\n",
    "\n",
    "# Compute on axis\n",
    "data_axis = eq.compute([\"|B|\", \"Y\"], grid=grid_axis)\n",
    "B_axis = data_axis[\"|B|\"]\n",
    "\n",
    "plt.figure()\n",
    "plt.plot(zeta_axis, B_axis, label=r\"$|B|$\")\n",
    "plt.title(\"MR = {:.2f}\".format(np.max(B_axis) / np.min(B_axis)))\n",
    "plt.legend()"
   ]
  },
  {
   "cell_type": "code",
   "execution_count": null,
   "id": "5baa4966-2bd5-4002-af00-bbe7ae79d8ca",
   "metadata": {},
   "outputs": [],
   "source": []
  },
  {
   "cell_type": "code",
   "execution_count": 777,
   "id": "0616095d-1afb-41da-80d9-2084ca61fac0",
   "metadata": {},
   "outputs": [],
   "source": [
    "Nz = 200\n",
    "Nt = 10\n",
    "rho_surf = 1\n",
    "\n",
    "# Flux surfaces on which to evaluate \n",
    "surfaces = np.array([rho_surf])\n",
    "# Field lines on which to evaluate \n",
    "alpha = np.linspace(0, 2 * np.pi, Nt, endpoint=False)\n",
    "# Number of point along a field line \n",
    "zeta = np.linspace(0, 2 * np.pi, Nz)\n",
    "\n",
    "# we need to make a special grid in field aligned coordinates, which we do here\n",
    "# coordinates=\"raz\" tells desc that this grid is in rho,alpha,zeta coordinates.\n",
    "grid = Grid.create_meshgrid([surfaces, alpha, zeta], coordinates=\"raz\")"
   ]
  },
  {
   "cell_type": "code",
   "execution_count": 778,
   "id": "943d69e2-a178-4334-9fe9-c1bc371ca61c",
   "metadata": {},
   "outputs": [
    {
     "name": "stderr",
     "output_type": "stream",
     "text": [
      "/Users/djinpatch/CODE/DESC/desc/utils.py:572: UserWarning: Expected coordinates rtz got raz.\n",
      "  warnings.warn(msg, err)\n"
     ]
    }
   ],
   "source": [
    "data = surf.compute(\n",
    "    [\n",
    "        \"X\",\n",
    "        \"Y\",\n",
    "        \"Z\",\n",
    "    ],\n",
    "    grid=grid,\n",
    ")"
   ]
  },
  {
   "cell_type": "code",
   "execution_count": 44,
   "id": "216165ed-9909-492e-ab2e-879bbe48d353",
   "metadata": {},
   "outputs": [],
   "source": [
    "from mayavi import mlab"
   ]
  },
  {
   "cell_type": "code",
   "execution_count": 783,
   "id": "14bc5e39-ca11-40c3-b476-f65959970106",
   "metadata": {},
   "outputs": [],
   "source": [
    "## plot B vectors \n",
    "# cylindrical grid\n",
    "points = []\n",
    "B = []\n",
    "Ny = 40\n",
    "Nt = 10\n",
    "radial = np.linspace(.01,.01,1)\n",
    "for r in radial:\n",
    "    y = np.linspace(1,3,Ny)\n",
    "    for yi in y:\n",
    "        theta = np.linspace(0,2*np.pi,Nt)\n",
    "        x = r*np.cos(theta)\n",
    "        z = r*np.sin(theta)\n",
    "        yt = np.ones_like(x)*yi\n",
    "        points += [np.array([x,yt,z]).T]\n",
    "        B += [coilset.compute_magnetic_field(np.array([x, yt, z]).T, basis=\"xyz\")]\n",
    "\n",
    "\n",
    "points = np.array(points)\n",
    "B = np.array(B)\n"
   ]
  },
  {
   "cell_type": "code",
   "execution_count": 103,
   "id": "3da8de1d-2d0f-49c3-9597-1f1270c7bcf2",
   "metadata": {},
   "outputs": [],
   "source": [
    "x = data[\"X\"]\n",
    "y = data[\"Y\"]\n",
    "z = data[\"Z\"]\n",
    "# b = data['p']\n",
    "# bv = data['grad(p)']\n",
    "\n",
    "fig = mlab.figure(bgcolor=(1, 1, 1), fgcolor=(0.0, 0.0, 0.0))\n",
    "\n",
    "mlab.points3d(x, y, z, scale_factor=0.01, scale_mode=\"none\")\n",
    "\n",
    "\n",
    "\n",
    "coil_data = coilset.compute([\"X\", \"Y\", \"Z\"])\n",
    "\n",
    "for i in coil_data:\n",
    "    x = i[\"X\"]\n",
    "    y = i[\"Y\"]\n",
    "    z = i[\"Z\"]\n",
    "   # mlab.plot3d(x,y,z, tube_radius = .01,opacity=.5, color = (.5,.5,.5))\n",
    "    mlab.points3d(x,y,z,scale_factor = .01,opacity=.5, color = (.5,.5,.5))\n",
    "\n",
    "#mlab.quiver3d(points[:,:,0],points[:,:,1],points[:,:,2],B[:,:,0],B[:,:,1],B[:,:,2])\n",
    "\n",
    "mlab.points3d(X,Y,Z,scale_factor = .01,opacity=.5, color = (.5,.5,.5))\n",
    "\n",
    "\n",
    "\n",
    "mlab.show()"
   ]
  },
  {
   "cell_type": "code",
   "execution_count": null,
   "id": "b22f4cc7-9f36-4df2-a6da-21bbba875d36",
   "metadata": {},
   "outputs": [],
   "source": []
  },
  {
   "cell_type": "code",
   "execution_count": null,
   "id": "9626bf1a-dae4-4cbf-9b99-86c6572fa324",
   "metadata": {},
   "outputs": [],
   "source": []
  },
  {
   "cell_type": "code",
   "execution_count": 143,
   "id": "851c092a-dcdf-4d3a-b0f8-3f26b616a673",
   "metadata": {},
   "outputs": [],
   "source": [
    "surf.save('quad_surf.hdf5')"
   ]
  },
  {
   "cell_type": "code",
   "execution_count": 58,
   "id": "b3b042dd-3664-45f0-9cdc-44c3a4f0fc2e",
   "metadata": {},
   "outputs": [],
   "source": [
    "\n",
    "fig = mlab.figure(bgcolor=(1, 1, 1), fgcolor=(0.0, 0.0, 0.0))\n",
    "\n",
    "\n",
    "\n",
    "coil_data = coilset.compute([\"X\", \"Y\", \"Z\"])\n",
    "\n",
    "for i in coil_data:\n",
    "    x = i[\"X\"]\n",
    "    y = i[\"Y\"]\n",
    "    z = i[\"Z\"]\n",
    "   # mlab.plot3d(x,y,z, tube_radius = .01,opacity=.5, color = (.5,.5,.5))\n",
    "    mlab.points3d(x,y,z,scale_factor = .01,opacity=.5, color = (.5,.5,.5))\n",
    "\n",
    "#mlab.quiver3d(points[:,:,0],points[:,:,1],points[:,:,2],B[:,:,0],B[:,:,1],B[:,:,2])\n",
    "\n",
    "mlab.points3d(X,Y,Z,scale_factor = .01,opacity=.5, color = (.5,.5,.5))\n",
    "\n",
    "\n",
    "\n",
    "mlab.show()"
   ]
  },
  {
   "cell_type": "code",
   "execution_count": 62,
   "id": "a4e59ce8-0607-4a8b-bacf-6f9adc5a30c4",
   "metadata": {},
   "outputs": [
    {
     "data": {
      "text/plain": [
       "(39999, 500, 3)"
      ]
     },
     "execution_count": 62,
     "metadata": {},
     "output_type": "execute_result"
    }
   ],
   "source": [
    "path.shape"
   ]
  },
  {
   "cell_type": "code",
   "execution_count": 120,
   "id": "231f29f4-88d0-4f5c-bb97-e44b1f94eaa1",
   "metadata": {},
   "outputs": [],
   "source": [
    "fig = mlab.figure(bgcolor=(1, 1, 1), fgcolor=(0.0, 0.0, 0.0))\n",
    "\n",
    "\n",
    "\n",
    "coil_data = coilset.compute([\"X\", \"Y\", \"Z\"])\n",
    "\n",
    "for i in coil_data:\n",
    "    x = i[\"X\"]\n",
    "    y = i[\"Y\"]\n",
    "    z = i[\"Z\"]\n",
    "   # mlab.plot3d(x,y,z, tube_radius = .01,opacity=.5, color = (.5,.5,.5))\n",
    "    mlab.points3d(x+10,z,y,scale_factor = .01,opacity=.5, color = (.5,.5,.5))\n",
    "\n",
    "#mlab.quiver3d(points[:,:,0],points[:,:,1],points[:,:,2],B[:,:,0],B[:,:,1],B[:,:,2])\n",
    "\n",
    "\n",
    "\n",
    "mlab.points3d(X,Y,Z,scale_factor = .01,opacity=.5, color = (.5,.5,.5))\n",
    "\n",
    "\n",
    "\n",
    "mlab.show()"
   ]
  },
  {
   "cell_type": "code",
   "execution_count": null,
   "id": "9cd7c46b-b799-4ac1-b0ad-074ca6ab7a43",
   "metadata": {},
   "outputs": [],
   "source": []
  }
 ],
 "metadata": {
  "kernelspec": {
   "display_name": "desc_merging",
   "language": "python",
   "name": "desc_merging"
  },
  "language_info": {
   "codemirror_mode": {
    "name": "ipython",
    "version": 3
   },
   "file_extension": ".py",
   "mimetype": "text/x-python",
   "name": "python",
   "nbconvert_exporter": "python",
   "pygments_lexer": "ipython3",
   "version": "3.13.4"
  }
 },
 "nbformat": 4,
 "nbformat_minor": 5
}
