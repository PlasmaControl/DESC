{
 "cells": [
  {
   "cell_type": "markdown",
   "metadata": {},
   "source": [
    "# JAX and BACKEND"
   ]
  },
  {
   "cell_type": "code",
   "execution_count": 2,
   "metadata": {},
   "outputs": [],
   "source": [
    "import sys\n",
    "import os\n",
    "\n",
    "sys.path.insert(0, os.path.abspath(\".\"))\n",
    "sys.path.append(os.path.abspath(\"../../../\"))"
   ]
  },
  {
   "cell_type": "markdown",
   "metadata": {},
   "source": [
    "DESC uses JAX for faster execution times with just-in-time (JIT) compilation, automatic differentiation, and other scientific computing tools.\n",
    "The purpose of ``backend.py`` is to determine whether DESC may take advantage of JAX and GPUs or default to standard ``numpy`` and CPUs.\n",
    "\n",
    "JAX provides a ``numpy`` style API for array operations.\n",
    "In many cases, to take advantage of JAX, one only needs to replace calls to ``numpy`` with calls to ``jax.numpy``.\n",
    "A convenient way to do this is with the import statement ``import jax.numpy as jnp``."
   ]
  },
  {
   "cell_type": "code",
   "execution_count": 13,
   "metadata": {},
   "outputs": [],
   "source": [
    "from desc.backend import jax, jnp\n",
    "import numpy as np"
   ]
  },
  {
   "cell_type": "code",
   "execution_count": 14,
   "metadata": {},
   "outputs": [
    {
     "name": "stdout",
     "output_type": "stream",
     "text": [
      "[0. 0. 0. 0.]\n",
      "[0. 0. 0. 0.]\n"
     ]
    }
   ],
   "source": [
    "# give some JAX examples\n",
    "zeros_jnp = jnp.zeros(4)\n",
    "zeros_np = np.zeros(4)\n",
    "\n",
    "print(zeros_jnp)\n",
    "print(zeros_np)"
   ]
  },
  {
   "cell_type": "markdown",
   "metadata": {},
   "source": [
    "Of course if such an import statement is used in DESC, and DESC is run on a machine where JAX is not installed, then a runtime error is thrown.\n",
    "We would prefer if DESC still works on machines where JAX is not installed.\n",
    "With that goal, in functions which can benefit from JAX, we use the following import statement: ``from desc.backend import jnp``.\n",
    "``desc.backend.jnp`` is an alias to ``jax.numpy`` if JAX is installed and ``numpy`` otherwise.\n",
    "\n",
    "While ``jax.numpy`` attempts to serve as a drop in replacement for ``numpy``, it imposes some constraints on how the code is written.\n",
    "For example, ``jax.numpy`` arrays are immutable.\n",
    "This means in-place updates to elements in arrays is not possible.\n",
    "To update elements in ``jax.numpy`` arrays, memory needs to be allocated to create a new array with the updated element.\n",
    "Similarly, JAX's JIT compilation requires control flow structures such as loops and conditionals to be written in a specific way.\n",
    "\n",
    "The utility functions in ``desc.backend`` provide a simple interface to perform these operations."
   ]
  },
  {
   "cell_type": "code",
   "execution_count": 10,
   "metadata": {},
   "outputs": [
    {
     "name": "stdout",
     "output_type": "stream",
     "text": [
      "[1. 0. 0. 0.]\n"
     ]
    }
   ],
   "source": [
    "zeros_jnp = jnp.zeros(4)\n",
    "# this will give an error\n",
    "# zeros_jnp[0] = 1\n",
    "# we need to use the at[] method\n",
    "zeros_jnp = zeros_jnp.at[0].set(1)\n",
    "print(zeros_jnp)"
   ]
  },
  {
   "cell_type": "code",
   "execution_count": 11,
   "metadata": {},
   "outputs": [
    {
     "name": "stdout",
     "output_type": "stream",
     "text": [
      "[2. 0. 0. 0.]\n"
     ]
    }
   ],
   "source": [
    "# or to make this compatible with numpy backend we can use the following\n",
    "from desc.backend import put\n",
    "\n",
    "zeros_jnp = put(zeros_jnp, 0, 2)\n",
    "print(zeros_jnp)"
   ]
  },
  {
   "cell_type": "code",
   "execution_count": null,
   "metadata": {},
   "outputs": [],
   "source": []
  }
 ],
 "metadata": {
  "kernelspec": {
   "display_name": "desc-env",
   "language": "python",
   "name": "python3"
  },
  "language_info": {
   "codemirror_mode": {
    "name": "ipython",
    "version": 3
   },
   "file_extension": ".py",
   "mimetype": "text/x-python",
   "name": "python",
   "nbconvert_exporter": "python",
   "pygments_lexer": "ipython3",
   "version": "3.12.0"
  }
 },
 "nbformat": 4,
 "nbformat_minor": 2
}
