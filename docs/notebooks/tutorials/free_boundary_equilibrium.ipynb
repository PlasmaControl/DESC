{
 "cells": [
  {
   "cell_type": "markdown",
   "id": "d088a758-b7ff-46d5-a83a-bb324ce05803",
   "metadata": {},
   "source": [
    "# Free boundary equilibrium"
   ]
  },
  {
   "cell_type": "markdown",
   "id": "2daea50f-f451-48bc-9055-f2743708e4b5",
   "metadata": {},
   "source": [
    "In this example we'll walk through solving a free boundary problem for a Solovev tokamak and a vacuum stellarator."
   ]
  },
  {
   "cell_type": "code",
   "execution_count": 1,
   "id": "e65f42a5-a1a4-4ba3-ac73-08533175e57d",
   "metadata": {
    "pycharm": {
     "name": "#%%\n"
    },
    "tags": []
   },
   "outputs": [],
   "source": [
    "import sys\n",
    "import os\n",
    "\n",
    "sys.path.insert(0, os.path.abspath(\".\"))\n",
    "sys.path.append(os.path.abspath(\"../../../\"))"
   ]
  },
  {
   "cell_type": "markdown",
   "id": "a24fa40e",
   "metadata": {},
   "source": [
    "If you have access to a GPU, uncomment the following two lines before any DESC or JAX related imports. You should see about an order of magnitude speed improvement with only these two lines of code!"
   ]
  },
  {
   "cell_type": "code",
   "execution_count": null,
   "id": "b9473a2e",
   "metadata": {},
   "outputs": [],
   "source": [
    "# from desc import set_device\n",
    "# set_device(\"gpu\")"
   ]
  },
  {
   "cell_type": "markdown",
   "id": "2516f73f",
   "metadata": {},
   "source": [
    "As mentioned in [DESC Documentation on performance tips](https://desc-docs.readthedocs.io/en/latest/performance_tips.html), one can use compilation cache directory to reduce the compilation overhead time. Note: One needs to create `jax-caches` folder manually."
   ]
  },
  {
   "cell_type": "code",
   "execution_count": 3,
   "id": "787a4c04",
   "metadata": {},
   "outputs": [],
   "source": [
    "# import jax\n",
    "\n",
    "# jax.config.update(\"jax_compilation_cache_dir\", \"../jax-caches\")\n",
    "# jax.config.update(\"jax_persistent_cache_min_entry_size_bytes\", -1)\n",
    "# jax.config.update(\"jax_persistent_cache_min_compile_time_secs\", 0)"
   ]
  },
  {
   "cell_type": "code",
   "execution_count": null,
   "id": "a9fbc9ca-2ac1-494e-85d7-dcbd7dfae590",
   "metadata": {
    "tags": []
   },
   "outputs": [],
   "source": [
    "import numpy as np\n",
    "import matplotlib.pyplot as plt\n",
    "\n",
    "import desc\n",
    "from desc.magnetic_fields import (\n",
    "    FourierCurrentPotentialField,\n",
    "    SplineMagneticField,\n",
    "    field_line_integrate,\n",
    ")\n",
    "from desc.grid import LinearGrid\n",
    "from desc.geometry import FourierRZToroidalSurface\n",
    "from desc.equilibrium import Equilibrium\n",
    "\n",
    "from desc.objectives import (\n",
    "    BoundaryError,\n",
    "    VacuumBoundaryError,\n",
    "    FixBoundaryR,\n",
    "    FixBoundaryZ,\n",
    "    FixIota,\n",
    "    FixCurrent,\n",
    "    FixPressure,\n",
    "    FixPsi,\n",
    "    ForceBalance,\n",
    "    ObjectiveFunction,\n",
    ")\n",
    "from desc.profiles import PowerSeriesProfile\n",
    "from desc.vmec import VMECIO"
   ]
  },
  {
   "cell_type": "markdown",
   "id": "574b4249-f284-48d3-9670-dbb9b588e31d",
   "metadata": {},
   "source": [
    "## Solovev Tokamak"
   ]
  },
  {
   "cell_type": "markdown",
   "id": "119db38f-84c4-4922-a409-27614d1c0e18",
   "metadata": {},
   "source": [
    "In the first example, we'll solve for a free boundary tokamak with Solovev profiles.\n",
    "\n",
    "We'll start by loading in an external field, in this case an `mgrid` file used by VMEC. The external field can also be given directly by a coilset, or from a current potential on a winding surface, or several other representations. See `desc.magnetic_fields` and `desc.coils` for more."
   ]
  },
  {
   "cell_type": "code",
   "execution_count": null,
   "id": "f4dcf86d-c80c-4647-82c5-e36e3f077fd2",
   "metadata": {
    "tags": []
   },
   "outputs": [],
   "source": [
    "# need to specify currents in the coil circuits when using mgrid, just like in VMEC\n",
    "extcur = [\n",
    "    3.884526409876309e06,\n",
    "    -2.935577123737952e05,\n",
    "    -1.734851853677043e04,\n",
    "    6.002137016973160e04,\n",
    "    6.002540940490887e04,\n",
    "    -1.734993103183817e04,\n",
    "    -2.935531536308510e05,\n",
    "    -3.560639108717275e05,\n",
    "    -6.588434719283084e04,\n",
    "    -1.154387774712987e04,\n",
    "    -1.153546510755219e04,\n",
    "    -6.588300858364606e04,\n",
    "    -3.560589388468855e05,\n",
    "]\n",
    "ext_field = SplineMagneticField.from_mgrid(\n",
    "    r\"../../../tests/inputs/mgrid_solovev.nc\", extcur=extcur\n",
    ")"
   ]
  },
  {
   "cell_type": "markdown",
   "id": "1f185e69-01ac-4205-b443-a03a9a1df311",
   "metadata": {},
   "source": [
    "For our initial guess, we'll use a circular torus of approximately the right major and minor radius."
   ]
  },
  {
   "cell_type": "code",
   "execution_count": null,
   "id": "f00cb594-2c76-492d-ae19-1fff1ca00484",
   "metadata": {
    "tags": []
   },
   "outputs": [],
   "source": [
    "pres = PowerSeriesProfile([1.25e-1, 0, -1.25e-1])\n",
    "iota = PowerSeriesProfile([-4.9e-1, 0, 3.0e-1])\n",
    "surf = FourierRZToroidalSurface(\n",
    "    R_lmn=[4.0, 1.0],\n",
    "    modes_R=[[0, 0], [1, 0]],\n",
    "    Z_lmn=[-1.0],\n",
    "    modes_Z=[[-1, 0]],\n",
    "    NFP=1,\n",
    ")\n",
    "\n",
    "eq_init = Equilibrium(M=10, N=0, Psi=1.0, surface=surf, pressure=pres, iota=iota)\n",
    "eq_init.solve();"
   ]
  },
  {
   "cell_type": "code",
   "execution_count": null,
   "id": "24676a79-697c-4ace-8d36-34a9f91470a3",
   "metadata": {
    "tags": []
   },
   "outputs": [],
   "source": [
    "eq2 = eq_init.copy()"
   ]
  },
  {
   "cell_type": "markdown",
   "id": "2b8dda43-d464-41bd-a7fe-b4fdbda5509d",
   "metadata": {},
   "source": [
    "Next we'll set up our constraints, which in this case simply fix the profiles, flux, and equilibrium constraint"
   ]
  },
  {
   "cell_type": "code",
   "execution_count": null,
   "id": "836fcd9e-e8ec-4ca1-a49a-ab5e338bd828",
   "metadata": {
    "tags": []
   },
   "outputs": [],
   "source": [
    "constraints = (\n",
    "    ForceBalance(eq=eq2),\n",
    "    FixIota(eq=eq2),\n",
    "    FixPressure(eq=eq2),\n",
    "    FixPsi(eq=eq2),\n",
    ")"
   ]
  },
  {
   "cell_type": "markdown",
   "id": "db459061-b2d2-4202-b5cd-dce60300d529",
   "metadata": {},
   "source": [
    "Solving a free boundary equilibrium is just like any other optimization problem. In this case our objective is to minimize boundary error, which is done by the `BoundaryError` objective.\n",
    "\n",
    "Specifically, it attempts to minimize the residual in the free boundary MHD boundary conditions:\n",
    "\n",
    "$\\mathbf{B} \\cdot \\mathbf{n} = 0$\n",
    "\n",
    "$B^2_{in} + p - B^2_{out} = 0$"
   ]
  },
  {
   "cell_type": "code",
   "execution_count": null,
   "id": "52ea143b-84dc-42dd-8dd3-3bbeffc23159",
   "metadata": {
    "tags": []
   },
   "outputs": [],
   "source": [
    "# For a standard free boundary solve, we set field_fixed=True. For single stage optimization, we would set to False\n",
    "objective = ObjectiveFunction(BoundaryError(eq=eq2, field=ext_field, field_fixed=True))"
   ]
  },
  {
   "cell_type": "code",
   "execution_count": null,
   "id": "4f074a65-191e-47ef-abdb-a5e21b213898",
   "metadata": {
    "tags": []
   },
   "outputs": [],
   "source": [
    "# we know this is a pretty simple shape so we'll only use |m| <= 2\n",
    "R_modes = eq2.surface.R_basis.modes[np.max(np.abs(eq2.surface.R_basis.modes), 1) > 2, :]\n",
    "Z_modes = eq2.surface.Z_basis.modes[np.max(np.abs(eq2.surface.Z_basis.modes), 1) > 2, :]\n",
    "bdry_constraints = (\n",
    "    FixBoundaryR(eq=eq2, modes=R_modes),\n",
    "    FixBoundaryZ(eq=eq2, modes=Z_modes),\n",
    ")\n",
    "eq2, out = eq2.optimize(\n",
    "    objective,\n",
    "    constraints + bdry_constraints,\n",
    "    optimizer=\"proximal-lsq-exact\",\n",
    "    verbose=3,\n",
    "    options={},\n",
    ")"
   ]
  },
  {
   "cell_type": "markdown",
   "id": "2bbe84ff-cb71-4666-987a-c11e89df42e6",
   "metadata": {
    "tags": []
   },
   "source": [
    "To check our solution, we can compare to a high resolution free boundary VMEC run, and we see we get extremely good agreement:"
   ]
  },
  {
   "cell_type": "code",
   "execution_count": null,
   "id": "96467bac-a250-4d3e-b060-9344999116df",
   "metadata": {
    "tags": []
   },
   "outputs": [],
   "source": [
    "VMECIO.plot_vmec_comparison(eq2, \"../../../tests/inputs/wout_solovev_freeb.nc\");"
   ]
  },
  {
   "cell_type": "markdown",
   "id": "527087b7-8124-415d-a94c-7ab33070d685",
   "metadata": {},
   "source": [
    "We can plot the normal magnetic field error (the plotting function automatically will add the plasma current's contribution), and we can see that the normal field is very small for the final solution."
   ]
  },
  {
   "cell_type": "code",
   "execution_count": null,
   "id": "025dade5-cc41-4ec3-976e-caad5abcc963",
   "metadata": {},
   "outputs": [],
   "source": [
    "desc.plotting.plot_2d(eq2, \"B*n\", field=ext_field);"
   ]
  },
  {
   "cell_type": "markdown",
   "id": "28ef9343-fa92-4a4f-808e-348aa9cbe1e6",
   "metadata": {},
   "source": [
    "If a sheet current is known (or suspected) to exist on the plasma surface (such as if the pressure at the edge is nonzero), this can be modelled by making the equilibrium `surface` into a `FourierCurrentPotentialField`.\n",
    "\n",
    "$\\mu_0 \\nabla \\Phi = \\mathbf{n} \\times (\\mathbf{B}_{out} - \\mathbf{B}_{in})$\n",
    "\n",
    "Where $\\Phi$ is the current potential on the surface.\n"
   ]
  },
  {
   "cell_type": "markdown",
   "id": "26838736-24a7-407d-8dd9-9ee4c0ef0e1e",
   "metadata": {},
   "source": [
    "The current potential is represented as a `FourierCurrentPotentialField` which is a subclass of the standard `FourierRZToroidalSurface`. To include it as part of the free boundary calculation, we set the equilibrium surface to be an instance of `FourierCurrentPotentialField` by converting  the existing surface:"
   ]
  },
  {
   "cell_type": "code",
   "execution_count": null,
   "id": "aca9234e-f099-4fca-be88-149984d26ac2",
   "metadata": {
    "tags": []
   },
   "outputs": [],
   "source": [
    "eq3 = eq2.copy()\n",
    "eq3.surface = FourierCurrentPotentialField.from_surface(eq3.surface, M_Phi=4)"
   ]
  },
  {
   "cell_type": "code",
   "execution_count": null,
   "id": "7dcacd9d-6d61-49a3-900a-890d99ed10a6",
   "metadata": {
    "tags": []
   },
   "outputs": [],
   "source": [
    "constraints = (\n",
    "    ForceBalance(eq=eq3),\n",
    "    FixIota(eq=eq3),\n",
    "    FixPressure(eq=eq3),\n",
    "    FixPsi(eq=eq3),\n",
    ")\n",
    "objective = ObjectiveFunction(BoundaryError(eq=eq3, field=ext_field, field_fixed=True))"
   ]
  },
  {
   "cell_type": "code",
   "execution_count": null,
   "id": "8c6da7dc",
   "metadata": {},
   "outputs": [],
   "source": [
    "R_modes = eq3.surface.R_basis.modes[np.max(np.abs(eq3.surface.R_basis.modes), 1) > 2, :]\n",
    "Z_modes = eq3.surface.Z_basis.modes[np.max(np.abs(eq3.surface.Z_basis.modes), 1) > 2, :]\n",
    "bdry_constraints = (\n",
    "    FixBoundaryR(eq=eq3, modes=R_modes),\n",
    "    FixBoundaryZ(eq=eq3, modes=Z_modes),\n",
    ")\n",
    "eq3, out = eq3.optimize(\n",
    "    objective,\n",
    "    constraints + bdry_constraints,\n",
    "    optimizer=\"proximal-lsq-exact\",\n",
    "    verbose=3,\n",
    "    ftol=1e-4,\n",
    "    # make the equilibrium solve subproblem ftol a bit lower, as we don't expect big changes in\n",
    "    # the equilibrium, so we need to resolve the equilibrium more accurately to capture\n",
    "    # the small changes we will see during this optimization\n",
    "    options={\"solve_options\": {\"ftol\": 1e-4}},\n",
    ")"
   ]
  },
  {
   "cell_type": "markdown",
   "id": "0907040b",
   "metadata": {},
   "source": [
    "If you would like to store the objective values before and after equilibrium solve, you can access them through `out`."
   ]
  },
  {
   "cell_type": "code",
   "execution_count": null,
   "id": "c8ab0a4a",
   "metadata": {},
   "outputs": [],
   "source": [
    "# info[\"Objective values\"] is a dictionary of the objective values\n",
    "for key in out[\"Objective values\"].keys():\n",
    "    if isinstance(out[\"Objective values\"][key], dict):\n",
    "        for subkey in out[\"Objective values\"][key].keys():\n",
    "            print(key, subkey, out[\"Objective values\"][key][subkey])\n",
    "    # if there are multiple instances of the same objective type,\n",
    "    # there will be a list of dictionaries, each storing the values of the objective\n",
    "    elif isinstance(out[\"Objective values\"][key], list):\n",
    "        for i in range(len(out[\"Objective values\"][key])):\n",
    "            for subkey in out[\"Objective values\"][key][i].keys():\n",
    "                print(key, subkey, out[\"Objective values\"][key][i][subkey])"
   ]
  },
  {
   "cell_type": "markdown",
   "id": "9e5051fa-133c-468f-8fa1-ff5d625f5f6a",
   "metadata": {
    "tags": []
   },
   "source": [
    "We can see that including the sheet current makes very little difference in the final result:"
   ]
  },
  {
   "cell_type": "code",
   "execution_count": null,
   "id": "e4b1df9d-4fc9-4dae-8147-8266280f098d",
   "metadata": {
    "tags": []
   },
   "outputs": [],
   "source": [
    "VMECIO.plot_vmec_comparison(eq3, \"../../../tests/inputs/wout_solovev_freeb.nc\");"
   ]
  },
  {
   "cell_type": "markdown",
   "id": "2b3cda6e",
   "metadata": {},
   "source": [
    "We can see that the normal field error decreased slighlty, though not by much:"
   ]
  },
  {
   "cell_type": "code",
   "execution_count": null,
   "id": "ff2b9bbd",
   "metadata": {},
   "outputs": [],
   "source": [
    "desc.plotting.plot_2d(eq3, \"B*n\", field=ext_field);"
   ]
  },
  {
   "cell_type": "markdown",
   "id": "e4758380-3fc5-43d1-8037-17dc5b6ad132",
   "metadata": {},
   "source": [
    "We can examine what the surface current looks like by plotting it below, and we see it is indeed quite small, only a few tens of Amps, compared to the plasma current which is ~1000x larger. In this case we could probably get equivalent results without including the sheet current term."
   ]
  },
  {
   "cell_type": "code",
   "execution_count": null,
   "id": "bc80bfcb-f3f9-46b2-bcc1-9027fcad050f",
   "metadata": {
    "tags": []
   },
   "outputs": [],
   "source": [
    "desc.plotting.plot_2d(eq3.surface, \"K\");"
   ]
  },
  {
   "cell_type": "code",
   "execution_count": null,
   "id": "540ce472-3b07-460b-b905-bd311ed80214",
   "metadata": {
    "tags": []
   },
   "outputs": [],
   "source": [
    "desc.plotting.plot_1d(eq3, \"current\");"
   ]
  },
  {
   "cell_type": "markdown",
   "id": "c356c9ee-18d8-452e-b8c3-67b016f393c7",
   "metadata": {},
   "source": [
    "## Vacuum Stellarator"
   ]
  },
  {
   "cell_type": "markdown",
   "id": "8bb123c5-8892-4457-a8d9-277a022a38eb",
   "metadata": {},
   "source": [
    "We'll again use an mgrid file for our background field:"
   ]
  },
  {
   "cell_type": "code",
   "execution_count": null,
   "id": "df20a314-be5e-4b1a-95bb-b09129d75428",
   "metadata": {
    "tags": []
   },
   "outputs": [],
   "source": [
    "extcur = [4700.0, 1000.0]\n",
    "ext_field = SplineMagneticField.from_mgrid(\n",
    "    \"../../../tests/inputs/mgrid_test.nc\", extcur=extcur\n",
    ")"
   ]
  },
  {
   "cell_type": "markdown",
   "id": "6e0e1136-0af6-4b4a-8764-be0b90556b13",
   "metadata": {},
   "source": [
    "For our initial guess, we'll again use a circular torus of approximately the right major and minor radius."
   ]
  },
  {
   "cell_type": "code",
   "execution_count": null,
   "id": "33c9cea6-2114-4aad-a8cd-5ec234a1833d",
   "metadata": {
    "tags": []
   },
   "outputs": [],
   "source": [
    "surf = FourierRZToroidalSurface(\n",
    "    R_lmn=[0.70, 0.10],\n",
    "    modes_R=[[0, 0], [1, 0]],\n",
    "    Z_lmn=[-0.10],\n",
    "    modes_Z=[[-1, 0]],\n",
    "    NFP=5,\n",
    ")\n",
    "\n",
    "eq_init = Equilibrium(M=8, N=4, Psi=-0.035, surface=surf)\n",
    "eq_init.solve();"
   ]
  },
  {
   "cell_type": "code",
   "execution_count": null,
   "id": "6b55df80-bcab-4ef6-bcec-e19f2cdafdc7",
   "metadata": {
    "tags": []
   },
   "outputs": [],
   "source": [
    "eq2 = eq_init.copy()"
   ]
  },
  {
   "cell_type": "markdown",
   "id": "0dd9c20c-eb05-4782-a6e9-a8aede613a2f",
   "metadata": {},
   "source": [
    "And again we'll set up our constraints."
   ]
  },
  {
   "cell_type": "code",
   "execution_count": null,
   "id": "ecde303f-32a4-4ef6-8622-2cc23b676d30",
   "metadata": {
    "tags": []
   },
   "outputs": [],
   "source": [
    "constraints = (\n",
    "    ForceBalance(eq=eq2),\n",
    "    FixCurrent(eq=eq2),\n",
    "    FixPressure(eq=eq2),\n",
    "    FixPsi(eq=eq2),\n",
    ")"
   ]
  },
  {
   "cell_type": "markdown",
   "id": "519ed264-e2ac-4422-837d-b42cca1c7caf",
   "metadata": {},
   "source": [
    "The `BoundaryError` objective we just used uses the virtual casing principle to compute the plasma component of the magnetic field, required to compute the boundary error. If we know we're solving a vacuum equilibrium, we can skip this calculating since we know the plasma component of the field is zero. This is done in the `VacuumBoundaryError` objective, which is much more efficient for vacuum equilibria."
   ]
  },
  {
   "cell_type": "code",
   "execution_count": null,
   "id": "fe3274e8-f62a-437a-b05b-2da626bea153",
   "metadata": {
    "tags": []
   },
   "outputs": [],
   "source": [
    "objective = ObjectiveFunction(\n",
    "    VacuumBoundaryError(eq=eq2, field=ext_field, field_fixed=True)\n",
    ")"
   ]
  },
  {
   "cell_type": "markdown",
   "id": "4eb8293e-b43e-42d4-97ac-843ccc99c7e3",
   "metadata": {},
   "source": [
    "For the optimization, we'll do a \"multigrid\" approach where we first optimize the low order modes, and then the higher ones. For a simple problem like this it probably isn't necessary, but for higher resolution and more complicated shaping this is much more robust."
   ]
  },
  {
   "cell_type": "code",
   "execution_count": null,
   "id": "343a1145-fb48-4fe0-a079-4cf15ac08bbe",
   "metadata": {
    "tags": []
   },
   "outputs": [],
   "source": [
    "for k in [2, 4]:\n",
    "\n",
    "    # get modes where |m|, |n| > k\n",
    "    R_modes = eq2.surface.R_basis.modes[\n",
    "        np.max(np.abs(eq2.surface.R_basis.modes), 1) > k, :\n",
    "    ]\n",
    "    Z_modes = eq2.surface.Z_basis.modes[\n",
    "        np.max(np.abs(eq2.surface.Z_basis.modes), 1) > k, :\n",
    "    ]\n",
    "\n",
    "    # fix those modes\n",
    "    bdry_constraints = (\n",
    "        FixBoundaryR(eq=eq2, modes=R_modes),\n",
    "        FixBoundaryZ(eq=eq2, modes=Z_modes),\n",
    "    )\n",
    "    # optimize\n",
    "    eq2, out = eq2.optimize(\n",
    "        objective,\n",
    "        constraints + bdry_constraints,\n",
    "        optimizer=\"proximal-lsq-exact\",\n",
    "        verbose=3,\n",
    "        options={},\n",
    "    )"
   ]
  },
  {
   "cell_type": "markdown",
   "id": "753236f6-7ed1-4c09-a026-2592996f1513",
   "metadata": {},
   "source": [
    "And we see that the boundary has changed quite a lot:"
   ]
  },
  {
   "cell_type": "code",
   "execution_count": null,
   "id": "a4d7d0b9-0717-473f-866b-5551a1567f5d",
   "metadata": {
    "tags": []
   },
   "outputs": [],
   "source": [
    "desc.plotting.plot_surfaces(eq2);"
   ]
  },
  {
   "cell_type": "markdown",
   "id": "18a4ba9a-9ce7-4b5f-9f5f-69f994d969e1",
   "metadata": {},
   "source": [
    "Because this is a vacuum equilibrium, we can verify the free boundary solution by tracing field lines directly from the external field. "
   ]
  },
  {
   "cell_type": "code",
   "execution_count": null,
   "id": "58eba11c-74b1-48a8-992c-655a4167878d",
   "metadata": {
    "tags": []
   },
   "outputs": [],
   "source": [
    "fig, ax = desc.plotting.plot_surfaces(eq2)\n",
    "\n",
    "# for starting locations we'll pick positions on flux surfaces on the outboard midplane\n",
    "grid_trace = LinearGrid(rho=np.linspace(0, 1, 9))\n",
    "r0 = eq2.compute(\"R\", grid=grid_trace)[\"R\"]\n",
    "z0 = eq2.compute(\"Z\", grid=grid_trace)[\"Z\"]\n",
    "\n",
    "fig, ax = desc.plotting.poincare_plot(\n",
    "    ext_field, r0, z0, ntransit=200, NFP=eq2.NFP, ax=ax\n",
    ");"
   ]
  },
  {
   "cell_type": "markdown",
   "id": "2cb5ee22",
   "metadata": {},
   "source": [
    "Note that while one can see a continuum of flux surfaces in the vacuum field, the one that the equilibrium free boundary solution will converge is determined by the value of ``eq2.Psi``, the net enclosed toroidal magnetic flux. For example, if we were to change ``eq2.Psi`` to a smaller value and run free-boundary, the new equilibrium's boundary would converge to an interior flux surface of the original, one corresponding to the smaller net enclosed toroidal flux. "
   ]
  }
 ],
 "metadata": {
  "kernelspec": {
   "display_name": "gpu",
   "language": "python",
   "name": "python3"
  },
  "language_info": {
   "codemirror_mode": {
    "name": "ipython",
    "version": 3
   },
   "file_extension": ".py",
   "mimetype": "text/x-python",
   "name": "python",
   "nbconvert_exporter": "python",
   "pygments_lexer": "ipython3",
   "version": "3.12.11"
  }
 },
 "nbformat": 4,
 "nbformat_minor": 5
}
