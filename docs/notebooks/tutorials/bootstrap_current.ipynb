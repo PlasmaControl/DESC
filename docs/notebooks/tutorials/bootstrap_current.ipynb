{
 "cells": [
  {
   "cell_type": "markdown",
   "metadata": {},
   "source": [
    "# Bootstrap Current Self-Consistency"
   ]
  },
  {
   "cell_type": "markdown",
   "metadata": {},
   "source": [
    "This tutorial demonstrates how to optimize a quasi-symmetric equilibrium to have a self-consistent bootstrap current profile. \n",
    "This is performed by minimizing the difference between the toroidal currents $\\langle J \\cdot B \\rangle$ computed from the MHD equilibrium and from the Redl formula. \n",
    "The Redl formula is only valid in the limit of perfect quasi-symmetry, so this procedure will not work for other configurations that are not quasi-symmetric. \n",
    "\n",
    "There are two methods that can be used, and both will be shown: \n",
    "\n",
    "1. Optimize the current profile for self-consistency\n",
    "2. Iteratively solve the equilibrium with new current profiles\n",
    "\n",
    "These methods should be equivalent, although one might be faster than the other depending on the particular problem. "
   ]
  },
  {
   "cell_type": "code",
   "execution_count": 1,
   "metadata": {},
   "outputs": [],
   "source": [
    "import sys\n",
    "import os\n",
    "\n",
    "sys.path.insert(0, os.path.abspath(\".\"))\n",
    "sys.path.append(os.path.abspath(\"../../../\"))"
   ]
  },
  {
   "cell_type": "markdown",
   "metadata": {},
   "source": [
    "If you have access to a GPU, uncomment the following two lines before any DESC or JAX related imports. You should see about an order of magnitude speed improvement with only these two lines of code!"
   ]
  },
  {
   "cell_type": "code",
   "execution_count": 2,
   "metadata": {},
   "outputs": [],
   "source": [
    "# from desc import set_device\n",
    "# set_device(\"gpu\")"
   ]
  },
  {
   "cell_type": "markdown",
   "metadata": {},
   "source": [
    "As mentioned in [DESC Documentation on performance tips](https://desc-docs.readthedocs.io/en/latest/performance_tips.html), one can use compilation cache directory to reduce the compilation overhead time. Note: One needs to create `jax-caches` folder manually."
   ]
  },
  {
   "cell_type": "code",
   "execution_count": 3,
   "metadata": {},
   "outputs": [],
   "source": [
    "# import jax\n",
    "\n",
    "# jax.config.update(\"jax_compilation_cache_dir\", \"../jax-caches\")\n",
    "# jax.config.update(\"jax_persistent_cache_min_entry_size_bytes\", -1)\n",
    "# jax.config.update(\"jax_persistent_cache_min_compile_time_secs\", 0)"
   ]
  },
  {
   "cell_type": "code",
   "execution_count": 4,
   "metadata": {},
   "outputs": [],
   "source": [
    "import numpy as np\n",
    "\n",
    "np.set_printoptions(linewidth=np.inf)\n",
    "import matplotlib.pyplot as plt\n",
    "\n",
    "plt.rcParams[\"font.size\"] = 14\n",
    "\n",
    "from desc.compat import rescale\n",
    "from desc.equilibrium import EquilibriaFamily\n",
    "from desc.examples import get\n",
    "from desc.grid import LinearGrid\n",
    "from desc.objectives import (\n",
    "    BootstrapRedlConsistency,\n",
    "    FixAtomicNumber,\n",
    "    FixBoundaryR,\n",
    "    FixBoundaryZ,\n",
    "    FixCurrent,\n",
    "    FixElectronDensity,\n",
    "    FixElectronTemperature,\n",
    "    FixIonTemperature,\n",
    "    FixPsi,\n",
    "    ForceBalance,\n",
    "    ObjectiveFunction,\n",
    ")\n",
    "from desc.plotting import plot_1d\n",
    "from desc.profiles import PowerSeriesProfile, SplineProfile"
   ]
  },
  {
   "cell_type": "markdown",
   "metadata": {},
   "source": [
    "As an example, we will reproduce the QA results from [Landreman et al. (2022)](https://doi.org/10.1063/5.0098166). \n",
    "\n",
    "We will start with the \"precise QA\" example equilibrium, scaled to the ARIES-CS reactor size. "
   ]
  },
  {
   "cell_type": "code",
   "execution_count": 5,
   "metadata": {},
   "outputs": [],
   "source": [
    "eq0 = get(\"precise_QA\")\n",
    "eq0 = rescale(eq0, L=(\"R0\", 10), B=(\"B0\", 5.86))"
   ]
  },
  {
   "cell_type": "markdown",
   "metadata": {},
   "source": [
    "This equilibrium has the vacuum profiles $p = 0 ~\\text{Pa}$ and $\\frac{2\\pi}{\\mu_0} I = 0 ~\\text{A}$. \n",
    "Calculating the bootstrap current requires knowledge of the temperature and density profiles for each species in the plasma. \n",
    "We replace the pressure profile with the following kinetic profiles corresponding to $\\langle\\beta\\rangle=2.5\\%$: \n",
    "\n",
    "$n_e = n_i = 2.38\\times10^{20} (1 - \\rho^{10}) ~\\text{m}^{-3}$\n",
    "\n",
    "$T_e = T_i = 9.45\\times10^{3} (1 - \\rho^{2}) ~\\text{eV}$\n",
    "\n",
    "The temperature profiles must be given for both ions and electrons, but only the electron density profile is specified. \n",
    "The ion density profile is given by the effective atomic number $Z_{eff}$ as $n_i = n_e / Z_{eff}$. \n",
    "The plasma pressure will then be computed as \n",
    "\n",
    "$p = e (n_e T_e + n_i T_i)$."
   ]
  },
  {
   "cell_type": "code",
   "execution_count": 6,
   "metadata": {},
   "outputs": [],
   "source": [
    "eq0.pressure = None  # must remove the pressure profile before setting kinetic profiles\n",
    "eq0.atomic_number = PowerSeriesProfile([1])\n",
    "eq0.electron_density = PowerSeriesProfile(params=[1, -1], modes=[0, 10]) * 2.38e20\n",
    "eq0.electron_temperature = PowerSeriesProfile(params=[1, -1], modes=[0, 2]) * 9.45e3\n",
    "eq0.ion_temperature = PowerSeriesProfile(params=[1, -1], modes=[0, 2]) * 9.45e3\n",
    "# the existing current profile is the vacuum case eq0.current = PowerSeriesProfile([0])"
   ]
  },
  {
   "cell_type": "markdown",
   "metadata": {},
   "source": [
    "We need to re-solve the equilibrium force balance with the new profiles. "
   ]
  },
  {
   "cell_type": "code",
   "execution_count": 7,
   "metadata": {},
   "outputs": [
    {
     "name": "stdout",
     "output_type": "stream",
     "text": [
      "Building objective: force\n",
      "Precomputing transforms\n",
      "Timer: Precomputing transforms = 947 ms\n",
      "Timer: Objective build = 1.60 sec\n",
      "Building objective: lcfs R\n",
      "Building objective: lcfs Z\n",
      "Building objective: fixed Psi\n",
      "Building objective: fixed current\n",
      "Building objective: fixed electron density\n",
      "Building objective: fixed electron temperature\n",
      "Building objective: fixed ion temperature\n",
      "Building objective: fixed atomic number\n",
      "Building objective: fixed sheet current\n",
      "Building objective: self_consistency R\n",
      "Building objective: self_consistency Z\n",
      "Building objective: lambda gauge\n",
      "Building objective: axis R self consistency\n",
      "Building objective: axis Z self consistency\n",
      "Timer: Objective build = 669 ms\n",
      "Timer: LinearConstraintProjection build = 3.80 sec\n",
      "Number of parameters: 856\n",
      "Number of objectives: 5346\n",
      "Timer: Initializing the optimization = 6.10 sec\n",
      "\n",
      "Starting optimization\n",
      "Using method: lsq-exact\n",
      "   Iteration     Total nfev        Cost      Cost reduction    Step norm     Optimality   \n",
      "       0              1          8.133e-03                                    4.417e-02   \n",
      "       1              4          5.386e-04      7.595e-03      9.344e-02      1.577e-02   \n",
      "       2              5          1.229e-04      4.157e-04      1.292e-01      7.415e-03   \n",
      "       3              7          5.177e-05      7.113e-05      9.989e-02      5.109e-03   \n",
      "       4              8          1.025e-05      4.152e-05      8.106e-02      1.363e-03   \n",
      "       5             10          1.953e-06      8.292e-06      3.416e-02      3.356e-04   \n",
      "       6             12          1.038e-06      9.143e-07      1.924e-02      2.150e-04   \n",
      "       7             14          8.137e-07      2.247e-07      8.808e-03      7.826e-05   \n",
      "       8             15          7.647e-07      4.897e-08      1.596e-02      9.608e-05   \n",
      "       9             16          6.887e-07      7.602e-08      1.585e-02      1.683e-04   \n",
      "      10             17          6.132e-07      7.549e-08      1.630e-02      1.112e-04   \n",
      "      11             18          5.333e-07      7.996e-08      1.682e-02      1.207e-04   \n",
      "      12             19          4.294e-07      1.038e-07      1.729e-02      9.095e-05   \n",
      "      13             21          3.793e-07      5.015e-08      8.851e-03      2.450e-05   \n",
      "      14             22          3.547e-07      2.452e-08      1.724e-02      8.025e-05   \n",
      "      15             23          3.158e-07      3.895e-08      1.711e-02      8.103e-05   \n",
      "      16             24          2.828e-07      3.304e-08      1.708e-02      8.326e-05   \n",
      "      17             25          2.546e-07      2.813e-08      1.704e-02      8.532e-05   \n",
      "      18             26          2.311e-07      2.347e-08      1.700e-02      8.828e-05   \n",
      "      19             27          2.120e-07      1.919e-08      1.696e-02      9.144e-05   \n",
      "      20             28          1.965e-07      1.542e-08      1.692e-02      9.348e-05   \n",
      "      21             29          1.840e-07      1.251e-08      1.683e-02      9.289e-05   \n",
      "      22             30          1.736e-07      1.044e-08      1.665e-02      8.851e-05   \n",
      "      23             31          1.648e-07      8.785e-09      1.632e-02      7.900e-05   \n",
      "      24             32          1.580e-07      6.832e-09      1.572e-02      6.179e-05   \n",
      "      25             33          1.546e-07      3.329e-09      1.477e-02      4.381e-05   \n",
      "      26             34          1.434e-07      1.128e-08      3.666e-03      2.454e-06   \n",
      "      27             35          1.432e-07      1.113e-10      6.963e-03      1.317e-05   \n",
      "      28             36          1.420e-07      1.265e-09      1.765e-03      7.246e-07   \n",
      "Optimization terminated successfully.\n",
      "`ftol` condition satisfied. (ftol=1.00e-02)\n",
      "         Current function value: 1.420e-07\n",
      "         Total delta_x: 5.310e-01\n",
      "         Iterations: 28\n",
      "         Function evaluations: 36\n",
      "         Jacobian evaluations: 29\n",
      "Timer: Solution time = 1.10 min\n",
      "Timer: Avg time per step = 2.27 sec\n",
      "==============================================================================================================\n",
      "                                                                 Start  -->   End\n",
      "Total (sum of squares):                                      8.133e-03  -->   1.420e-07, \n",
      "Maximum absolute Force error:                                6.965e+07  -->   5.437e+05 (N)\n",
      "Minimum absolute Force error:                                2.392e-01  -->   1.154e+00 (N)\n",
      "Average absolute Force error:                                5.326e+06  -->   3.297e+04 (N)\n",
      "Maximum absolute Force error:                                1.576e-02  -->   1.230e-04 (normalized)\n",
      "Minimum absolute Force error:                                5.413e-11  -->   2.611e-10 (normalized)\n",
      "Average absolute Force error:                                1.205e-03  -->   7.460e-06 (normalized)\n",
      "R boundary error:                                            0.000e+00  -->   4.055e-16 (m)\n",
      "Z boundary error:                                            0.000e+00  -->   8.257e-17 (m)\n",
      "Fixed Psi error:                                             0.000e+00  -->   0.000e+00 (Wb)\n",
      "Fixed current profile error:                                 0.000e+00  -->   0.000e+00 (A)\n",
      "Fixed electron density profile error:                        0.000e+00  -->   0.000e+00 (m^-3)\n",
      "Fixed electron temperature profile error:                    0.000e+00  -->   0.000e+00 (eV)\n",
      "Fixed ion temperature profile error:                         0.000e+00  -->   0.000e+00 (eV)\n",
      "Fixed atomic number profile error:                           0.000e+00  -->   0.000e+00 (dimensionless)\n",
      "Fixed sheet current error:                                   0.000e+00  -->   0.000e+00 (~)\n",
      "==============================================================================================================\n"
     ]
    }
   ],
   "source": [
    "eq0, _ = eq0.solve(objective=\"force\", optimizer=\"lsq-exact\", verbose=3)"
   ]
  },
  {
   "cell_type": "markdown",
   "metadata": {},
   "source": [
    "Now we have our initial equilibrium, which does not have a self-consistent bootstrap current: "
   ]
  },
  {
   "cell_type": "code",
   "execution_count": null,
   "metadata": {},
   "outputs": [
    {
     "data": {
      "image/png": "[encoded data removed]",
      "text/plain": [
       "<Figure size 288.216x288.216 with 1 Axes>"
      ]
     },
     "metadata": {},
     "output_type": "display_data"
    }
   ],
   "source": [
    "# the Redl formula is undefined at rho=0.0 and where the profiles vanish, so\n",
    "# in our case here it is NaN at the axis and at rho=1.0\n",
    "# usually we would get a warning when computing it at these points, but\n",
    "# we suppress these warnings internally when we plot so we don't see them here.\n",
    "fig, ax = plot_1d(\n",
    "    eq0,\n",
    "    \"<J*B> Redl\",\n",
    "    color=\"b\",\n",
    "    lw=2,\n",
    "    label=\"Redl\",\n",
    ")\n",
    "fig, ax = plot_1d(eq0, \"<J*B>\", color=\"r\", lw=2, label=\"MHD\", ax=ax)\n",
    "ax.legend(loc=\"best\")\n",
    "ax.set_title(\"Initial Equilibrium\");"
   ]
  },
  {
   "cell_type": "markdown",
   "metadata": {},
   "source": [
    "We need to create a grid on which to evaluate the boootstrap current self-consistency. \n",
    "The bootstrap current is a radial profile, but the grid must have finite poloidal and toroidal resolution to accurately compute flux surface quantities. \n",
    "The Redl formula is undefined where the kinetic profiles vanish, so in our example we do not include points at $\\rho=0$ or $\\rho=1$. "
   ]
  },
  {
   "cell_type": "code",
   "execution_count": 9,
   "metadata": {},
   "outputs": [],
   "source": [
    "grid = LinearGrid(\n",
    "    M=eq0.M_grid,\n",
    "    N=eq0.N_grid,\n",
    "    NFP=eq0.NFP,\n",
    "    sym=eq0.sym,\n",
    "    rho=np.linspace(1 / eq0.L_grid, 1, eq0.L_grid) - 1 / (2 * eq0.L_grid),\n",
    ")"
   ]
  },
  {
   "cell_type": "markdown",
   "metadata": {},
   "source": [
    "Our current profile will be represented as a power series of the form: \n",
    "\n",
    "$I = c_0 + c_1 \\rho + c_2 \\rho^2 + \\mathcal{O}(\\rho^3)$\n",
    "\n",
    "Physically, the current should vanish on the magnetic axis so $c_0 = 0$. \n",
    "And in order for the MHD equilibrium to be analytic, it should scale as $\\mathcal{O}(\\rho^2)$ near the magnetic axis so $c_1 = 0$ also. \n",
    "However, the Redl bootstrap current formula scales as $\\mathcal{O}(\\sqrt{\\rho})$ near the magnetic axis. \n",
    "This is incorrect, because the drift-kinetic equation from the Redl formula does not account for finite orbit width effects that become important near the axis. \n",
    "\n",
    "Typically, we use even power series with `sym=True` for all equilibrium profiles to give the desired analycity conditions. \n",
    "For bootstrap current optimizations, it is recommended to use the full power series with `sym=False` while also enforcing $c_0 = c_1 = 0$. \n",
    "This prevents getting good self-consistency near the magnetic axis, but allows for good agreement throughout the rest of the plasma volume and results in high quality equilibria overall. \n"
   ]
  },
  {
   "cell_type": "code",
   "execution_count": 10,
   "metadata": {},
   "outputs": [],
   "source": [
    "eq0.current = PowerSeriesProfile(np.zeros((eq0.L + 1,)), sym=False)"
   ]
  },
  {
   "cell_type": "markdown",
   "metadata": {},
   "source": [
    "### 1. Optimization"
   ]
  },
  {
   "cell_type": "markdown",
   "metadata": {},
   "source": [
    "In this method, we will optimize the current profile to minimize the self-consistency errors evaluated by the `BootstrapRedlConsistency` objective. \n",
    "This objective requires the helicity, which for QA is $(M, N) = (1, 0)$. \n",
    "\n",
    "In this example we will only optimize the current profile, so all other profiles and the plasma boundary are constrained to be fixed. \n",
    "It is recommended to use a very small value for `gtol` when optimizing the bootstrap current. "
   ]
  },
  {
   "cell_type": "code",
   "execution_count": 11,
   "metadata": {},
   "outputs": [],
   "source": [
    "eq1 = eq0.copy()"
   ]
  },
  {
   "cell_type": "code",
   "execution_count": 12,
   "metadata": {},
   "outputs": [
    {
     "name": "stdout",
     "output_type": "stream",
     "text": [
      "Building objective: Bootstrap current self-consistency (Redl)\n",
      "Precomputing transforms\n",
      "Timer: Precomputing transforms = 918 ms\n",
      "Timer: Objective build = 1.46 sec\n",
      "Building objective: force\n",
      "Precomputing transforms\n",
      "Timer: Precomputing transforms = 55.8 ms\n",
      "Timer: Objective build = 73.2 ms\n",
      "Timer: Objective build = 1.04 ms\n",
      "Timer: Eq Update LinearConstraintProjection build = 2.64 sec\n",
      "Timer: Proximal projection build = 5.90 sec\n",
      "Building objective: fixed atomic number\n",
      "Building objective: lcfs R\n",
      "Building objective: lcfs Z\n",
      "Building objective: fixed current\n",
      "Building objective: fixed electron density\n",
      "Building objective: fixed electron temperature\n",
      "Building objective: fixed ion temperature\n",
      "Building objective: fixed Psi\n",
      "Timer: Objective build = 243 ms\n",
      "Timer: LinearConstraintProjection build = 2.01 sec\n",
      "Number of parameters: 7\n",
      "Number of objectives: 16\n",
      "Timer: Initializing the optimization = 8.22 sec\n",
      "\n",
      "Starting optimization\n",
      "Using method: proximal-lsq-exact\n",
      "   Iteration     Total nfev        Cost      Cost reduction    Step norm     Optimality   \n",
      "       0              1          1.135e-02                                    1.416e-01   \n",
      "       1              2          3.449e-05      1.131e-02      1.753e+07      6.841e-03   \n",
      "       2              3          1.251e-06      3.323e-05      3.493e+07      5.934e-04   \n",
      "       3              4          8.421e-07      4.090e-07      6.938e+07      4.400e-04   \n",
      "       4              5          7.127e-07      1.294e-07      2.086e+07      1.682e-04   \n",
      "       5              6          6.924e-07      2.034e-08      2.025e+06      7.658e-05   \n",
      "       6              7          6.857e-07      6.688e-09      1.149e+06      2.753e-05   \n",
      "Optimization terminated successfully.\n",
      "`ftol` condition satisfied. (ftol=1.00e-02)\n",
      "         Current function value: 6.857e-07\n",
      "         Total delta_x: 1.311e+08\n",
      "         Iterations: 6\n",
      "         Function evaluations: 7\n",
      "         Jacobian evaluations: 7\n",
      "Timer: Solution time = 2.28 min\n",
      "Timer: Avg time per step = 19.5 sec\n",
      "==============================================================================================================\n",
      "                                                                 Start  -->   End\n",
      "Total (sum of squares):                                      1.135e-02  -->   6.857e-07, \n",
      "Maximum absolute Bootstrap current self-consistency error:   2.861e+06  -->   3.830e+04 (T A m^-2)\n",
      "Minimum absolute Bootstrap current self-consistency error:   1.687e+05  -->   3.714e+03 (T A m^-2)\n",
      "Average absolute Bootstrap current self-consistency error:   1.804e+06  -->   1.246e+04 (T A m^-2)\n",
      "Maximum absolute Bootstrap current self-consistency error:   2.143e-01  -->   2.868e-03 (normalized)\n",
      "Minimum absolute Bootstrap current self-consistency error:   1.263e-02  -->   2.782e-04 (normalized)\n",
      "Average absolute Bootstrap current self-consistency error:   1.351e-01  -->   9.335e-04 (normalized)\n",
      "Fixed atomic number profile error:                           0.000e+00  -->   0.000e+00 (dimensionless)\n",
      "R boundary error:                                            0.000e+00  -->   6.670e-16 (m)\n",
      "Z boundary error:                                            0.000e+00  -->   4.967e-16 (m)\n",
      "Fixed current profile error:                                 0.000e+00  -->   0.000e+00 (A)\n",
      "Fixed electron density profile error:                        0.000e+00  -->   0.000e+00 (m^-3)\n",
      "Fixed electron temperature profile error:                    0.000e+00  -->   0.000e+00 (eV)\n",
      "Fixed ion temperature profile error:                         0.000e+00  -->   0.000e+00 (eV)\n",
      "Fixed Psi error:                                             0.000e+00  -->   0.000e+00 (Wb)\n",
      "Maximum absolute Force error:                                5.437e+05  -->   1.552e+06 (N)\n",
      "Minimum absolute Force error:                                1.154e+00  -->   1.590e+01 (N)\n",
      "Average absolute Force error:                                3.297e+04  -->   7.918e+04 (N)\n",
      "Maximum absolute Force error:                                1.230e-04  -->   3.513e-04 (normalized)\n",
      "Minimum absolute Force error:                                2.611e-10  -->   3.597e-09 (normalized)\n",
      "Average absolute Force error:                                7.460e-06  -->   1.792e-05 (normalized)\n",
      "==============================================================================================================\n"
     ]
    }
   ],
   "source": [
    "objective = ObjectiveFunction(\n",
    "    BootstrapRedlConsistency(eq=eq1, grid=grid, helicity=(1, 0)),\n",
    ")\n",
    "constraints = (\n",
    "    FixAtomicNumber(eq=eq1),\n",
    "    FixBoundaryR(eq=eq1),\n",
    "    FixBoundaryZ(eq=eq1),\n",
    "    FixCurrent(eq=eq1, indices=[0, 1]),  # fix c_0=c_1=0 current profile coefficients\n",
    "    FixElectronDensity(eq=eq1),\n",
    "    FixElectronTemperature(eq=eq1),\n",
    "    FixIonTemperature(eq=eq1),\n",
    "    FixPsi(eq=eq1),\n",
    "    ForceBalance(eq=eq1),\n",
    ")\n",
    "eq1, _ = eq1.optimize(\n",
    "    objective=objective,\n",
    "    constraints=constraints,\n",
    "    optimizer=\"proximal-lsq-exact\",\n",
    "    maxiter=10,\n",
    "    verbose=3,\n",
    ")"
   ]
  },
  {
   "cell_type": "markdown",
   "metadata": {},
   "source": [
    "When plotting the bootstrap current profiles, we see the MHD equilibrium now has very good agreement with the Redl formula. "
   ]
  },
  {
   "cell_type": "code",
   "execution_count": null,
   "metadata": {},
   "outputs": [
    {
     "data": {
      "image/png": "[encoded data removed]",
      "text/plain": [
       "<Figure size 288.216x288.216 with 1 Axes>"
      ]
     },
     "metadata": {},
     "output_type": "display_data"
    }
   ],
   "source": [
    "fig, ax = plot_1d(eq1, \"<J*B> Redl\", color=\"b\", lw=2, label=\"Redl\")\n",
    "fig, ax = plot_1d(eq1, \"<J*B>\", color=\"r\", lw=2, label=\"MHD\", ax=ax)\n",
    "ax.legend(loc=\"best\")\n",
    "ax.set_title(\"Method 1: Optimization\");"
   ]
  },
  {
   "cell_type": "markdown",
   "metadata": {},
   "source": [
    "### 2. Iterative Solves"
   ]
  },
  {
   "cell_type": "markdown",
   "metadata": {},
   "source": [
    "In this method, we iteratively solve the equilibrium with updated guesses for the current profile. \n",
    "The current profile is computed such that the parallel current is consistent with the Redl formula, according to Equation C3 in [Landreman & Catto (2012)](https://doi.org/10.1063/1.3693187). \n",
    "This is the same approach as STELLOPT VBOOT with SFINCS, and it usually converges in only a few iterations. "
   ]
  },
  {
   "cell_type": "code",
   "execution_count": 14,
   "metadata": {},
   "outputs": [],
   "source": [
    "eq2 = eq0.copy()\n",
    "fam2 = EquilibriaFamily(eq2)"
   ]
  },
  {
   "cell_type": "code",
   "execution_count": 15,
   "metadata": {},
   "outputs": [
    {
     "name": "stdout",
     "output_type": "stream",
     "text": [
      "Building objective: force\n",
      "Precomputing transforms\n",
      "Timer: Precomputing transforms = 67.4 ms\n",
      "Timer: Objective build = 93.2 ms\n",
      "Building objective: lcfs R\n",
      "Building objective: lcfs Z\n",
      "Building objective: fixed Psi\n",
      "Building objective: fixed current\n",
      "Building objective: fixed electron density\n",
      "Building objective: fixed electron temperature\n",
      "Building objective: fixed ion temperature\n",
      "Building objective: fixed atomic number\n",
      "Building objective: fixed sheet current\n",
      "Building objective: self_consistency R\n",
      "Building objective: self_consistency Z\n",
      "Building objective: lambda gauge\n",
      "Building objective: axis R self consistency\n",
      "Building objective: axis Z self consistency\n",
      "Timer: Objective build = 274 ms\n",
      "Timer: LinearConstraintProjection build = 2.22 sec\n",
      "Number of parameters: 856\n",
      "Number of objectives: 5346\n",
      "Timer: Initializing the optimization = 2.59 sec\n",
      "\n",
      "Starting optimization\n",
      "Using method: lsq-exact\n",
      "   Iteration     Total nfev        Cost      Cost reduction    Step norm     Optimality   \n",
      "       0              1          4.315e-03                                    7.380e-02   \n",
      "       1              2          6.056e-04      3.710e-03      1.787e-01      1.456e-02   \n",
      "       2              3          8.350e-05      5.221e-04      1.159e-01      5.285e-03   \n",
      "       3              5          4.532e-06      7.897e-05      2.267e-02      6.394e-04   \n",
      "       4              7          2.080e-06      2.453e-06      1.281e-02      2.145e-04   \n",
      "       5              9          1.824e-06      2.559e-07      6.215e-03      2.127e-05   \n",
      "       6             10          1.823e-06      7.880e-10      1.107e-02      8.562e-05   \n",
      "       7             11          1.713e-06      1.100e-07      3.200e-03      8.674e-06   \n",
      "       8             12          1.689e-06      2.345e-08      6.097e-03      2.531e-05   \n",
      "       9             13          1.685e-06      4.205e-09      1.227e-02      7.622e-05   \n",
      "      10             14          1.641e-06      4.443e-08      3.485e-03      6.626e-06   \n",
      "      11             15          1.631e-06      9.664e-09      6.213e-03      1.810e-05   \n",
      "Optimization terminated successfully.\n",
      "`ftol` condition satisfied. (ftol=1.00e-02)\n",
      "         Current function value: 1.631e-06\n",
      "         Total delta_x: 2.173e-01\n",
      "         Iterations: 11\n",
      "         Function evaluations: 15\n",
      "         Jacobian evaluations: 12\n",
      "Timer: Solution time = 36.5 sec\n",
      "Timer: Avg time per step = 3.04 sec\n",
      "==============================================================================================================\n",
      "                                                                 Start  -->   End\n",
      "Total (sum of squares):                                      4.315e-03  -->   1.631e-06, \n",
      "Maximum absolute Force error:                                6.339e+07  -->   1.412e+06 (N)\n",
      "Minimum absolute Force error:                                6.371e+01  -->   5.835e+01 (N)\n",
      "Average absolute Force error:                                4.041e+06  -->   9.982e+04 (N)\n",
      "Maximum absolute Force error:                                1.434e-02  -->   3.196e-04 (normalized)\n",
      "Minimum absolute Force error:                                1.441e-08  -->   1.320e-08 (normalized)\n",
      "Average absolute Force error:                                9.143e-04  -->   2.259e-05 (normalized)\n",
      "R boundary error:                                            0.000e+00  -->   2.222e-16 (m)\n",
      "Z boundary error:                                            0.000e+00  -->   3.143e-16 (m)\n",
      "Fixed Psi error:                                             0.000e+00  -->   0.000e+00 (Wb)\n",
      "Fixed current profile error:                                 0.000e+00  -->   0.000e+00 (A)\n",
      "Fixed electron density profile error:                        0.000e+00  -->   0.000e+00 (m^-3)\n",
      "Fixed electron temperature profile error:                    0.000e+00  -->   0.000e+00 (eV)\n",
      "Fixed ion temperature profile error:                         0.000e+00  -->   0.000e+00 (eV)\n",
      "Fixed atomic number profile error:                           0.000e+00  -->   0.000e+00 (dimensionless)\n",
      "Fixed sheet current error:                                   0.000e+00  -->   0.000e+00 (~)\n",
      "==============================================================================================================\n",
      "Building objective: force\n",
      "Precomputing transforms\n",
      "Timer: Precomputing transforms = 57.7 ms\n",
      "Timer: Objective build = 81.7 ms\n",
      "Building objective: lcfs R\n",
      "Building objective: lcfs Z\n",
      "Building objective: fixed Psi\n",
      "Building objective: fixed current\n",
      "Building objective: fixed electron density\n",
      "Building objective: fixed electron temperature\n",
      "Building objective: fixed ion temperature\n",
      "Building objective: fixed atomic number\n",
      "Building objective: fixed sheet current\n",
      "Building objective: self_consistency R\n",
      "Building objective: self_consistency Z\n",
      "Building objective: lambda gauge\n",
      "Building objective: axis R self consistency\n",
      "Building objective: axis Z self consistency\n",
      "Timer: Objective build = 231 ms\n",
      "Timer: LinearConstraintProjection build = 2.40 sec\n",
      "Number of parameters: 856\n",
      "Number of objectives: 5346\n",
      "Timer: Initializing the optimization = 2.72 sec\n",
      "\n",
      "Starting optimization\n",
      "Using method: lsq-exact\n",
      "   Iteration     Total nfev        Cost      Cost reduction    Step norm     Optimality   \n",
      "       0              1          2.298e-04                                    1.434e-02   \n",
      "       1              2          3.499e-06      2.263e-04      5.125e-02      7.681e-04   \n",
      "       2              3          1.216e-06      2.283e-06      1.570e-02      8.993e-05   \n",
      "       3              5          1.150e-06      6.689e-08      7.066e-03      2.840e-05   \n",
      "       4              7          1.142e-06      7.219e-09      3.873e-03      5.608e-06   \n",
      "Optimization terminated successfully.\n",
      "`ftol` condition satisfied. (ftol=1.00e-02)\n",
      "         Current function value: 1.142e-06\n",
      "         Total delta_x: 5.407e-02\n",
      "         Iterations: 4\n",
      "         Function evaluations: 7\n",
      "         Jacobian evaluations: 5\n",
      "Timer: Solution time = 14.3 sec\n",
      "Timer: Avg time per step = 2.86 sec\n",
      "==============================================================================================================\n",
      "                                                                 Start  -->   End\n",
      "Total (sum of squares):                                      2.298e-04  -->   1.142e-06, \n",
      "Maximum absolute Force error:                                1.792e+07  -->   1.302e+06 (N)\n",
      "Minimum absolute Force error:                                1.375e+01  -->   1.554e+01 (N)\n",
      "Average absolute Force error:                                9.466e+05  -->   8.111e+04 (N)\n",
      "Maximum absolute Force error:                                4.055e-03  -->   2.945e-04 (normalized)\n",
      "Minimum absolute Force error:                                3.110e-09  -->   3.515e-09 (normalized)\n",
      "Average absolute Force error:                                2.142e-04  -->   1.835e-05 (normalized)\n",
      "R boundary error:                                            0.000e+00  -->   2.222e-16 (m)\n",
      "Z boundary error:                                            0.000e+00  -->   2.220e-16 (m)\n",
      "Fixed Psi error:                                             0.000e+00  -->   0.000e+00 (Wb)\n",
      "Fixed current profile error:                                 0.000e+00  -->   3.725e-09 (A)\n",
      "Fixed electron density profile error:                        0.000e+00  -->   0.000e+00 (m^-3)\n",
      "Fixed electron temperature profile error:                    0.000e+00  -->   0.000e+00 (eV)\n",
      "Fixed ion temperature profile error:                         0.000e+00  -->   0.000e+00 (eV)\n",
      "Fixed atomic number profile error:                           0.000e+00  -->   0.000e+00 (dimensionless)\n",
      "Fixed sheet current error:                                   0.000e+00  -->   0.000e+00 (~)\n",
      "==============================================================================================================\n",
      "Building objective: force\n",
      "Precomputing transforms\n",
      "Timer: Precomputing transforms = 70.1 ms\n",
      "Timer: Objective build = 124 ms\n",
      "Building objective: lcfs R\n",
      "Building objective: lcfs Z\n",
      "Building objective: fixed Psi\n",
      "Building objective: fixed current\n",
      "Building objective: fixed electron density\n",
      "Building objective: fixed electron temperature\n",
      "Building objective: fixed ion temperature\n",
      "Building objective: fixed atomic number\n",
      "Building objective: fixed sheet current\n",
      "Building objective: self_consistency R\n",
      "Building objective: self_consistency Z\n",
      "Building objective: lambda gauge\n",
      "Building objective: axis R self consistency\n",
      "Building objective: axis Z self consistency\n",
      "Timer: Objective build = 260 ms\n",
      "Timer: LinearConstraintProjection build = 2.96 sec\n",
      "Number of parameters: 856\n",
      "Number of objectives: 5346\n",
      "Timer: Initializing the optimization = 3.43 sec\n",
      "\n",
      "Starting optimization\n",
      "Using method: lsq-exact\n",
      "   Iteration     Total nfev        Cost      Cost reduction    Step norm     Optimality   \n",
      "       0              1          7.993e-06                                    2.382e-03   \n",
      "       1              2          1.717e-06      6.276e-06      2.291e-02      5.089e-04   \n",
      "       2              3          1.432e-06      2.850e-07      1.776e-02      3.696e-04   \n",
      "       3              5          1.182e-06      2.500e-07      1.046e-02      5.527e-05   \n",
      "       4              7          1.139e-06      4.332e-08      4.923e-03      9.896e-06   \n",
      "       5              9          1.132e-06      6.308e-09      2.530e-03      2.869e-06   \n",
      "Optimization terminated successfully.\n",
      "`ftol` condition satisfied. (ftol=1.00e-02)\n",
      "         Current function value: 1.132e-06\n",
      "         Total delta_x: 2.159e-02\n",
      "         Iterations: 5\n",
      "         Function evaluations: 9\n",
      "         Jacobian evaluations: 6\n",
      "Timer: Solution time = 15.4 sec\n",
      "Timer: Avg time per step = 2.57 sec\n",
      "==============================================================================================================\n",
      "                                                                 Start  -->   End\n",
      "Total (sum of squares):                                      7.993e-06  -->   1.132e-06, \n",
      "Maximum absolute Force error:                                3.111e+06  -->   1.440e+06 (N)\n",
      "Minimum absolute Force error:                                1.153e+02  -->   8.130e+00 (N)\n",
      "Average absolute Force error:                                1.860e+05  -->   8.171e+04 (N)\n",
      "Maximum absolute Force error:                                7.040e-04  -->   3.259e-04 (normalized)\n",
      "Minimum absolute Force error:                                2.610e-08  -->   1.839e-09 (normalized)\n",
      "Average absolute Force error:                                4.210e-05  -->   1.849e-05 (normalized)\n",
      "R boundary error:                                            0.000e+00  -->   2.222e-16 (m)\n",
      "Z boundary error:                                            0.000e+00  -->   4.969e-19 (m)\n",
      "Fixed Psi error:                                             0.000e+00  -->   0.000e+00 (Wb)\n",
      "Fixed current profile error:                                 0.000e+00  -->   1.707e-08 (A)\n",
      "Fixed electron density profile error:                        0.000e+00  -->   0.000e+00 (m^-3)\n",
      "Fixed electron temperature profile error:                    0.000e+00  -->   0.000e+00 (eV)\n",
      "Fixed ion temperature profile error:                         0.000e+00  -->   0.000e+00 (eV)\n",
      "Fixed atomic number profile error:                           0.000e+00  -->   0.000e+00 (dimensionless)\n",
      "Fixed sheet current error:                                   0.000e+00  -->   0.000e+00 (~)\n",
      "==============================================================================================================\n"
     ]
    }
   ],
   "source": [
    "niters = 3\n",
    "for k in range(niters):\n",
    "    eq2 = eq2.copy()\n",
    "    # compute new guess for the current profile, consistent with Redl formula\n",
    "    data = eq2.compute(\"current Redl\", grid)\n",
    "    current = grid.compress(data[\"current Redl\"])\n",
    "    rho = grid.compress(data[\"rho\"])\n",
    "    # fit the current profile to a power series, with c_0=c_1=0\n",
    "    XX = np.fliplr(np.vander(rho, eq2.L + 1)[:, :-2])\n",
    "    eq2.c_l = np.pad(np.linalg.lstsq(XX, current, rcond=None)[0], (2, 0))\n",
    "    # re-solve the equilibrium\n",
    "    eq2, _ = eq2.solve(objective=\"force\", optimizer=\"lsq-exact\", verbose=3)\n",
    "    fam2.append(eq2)"
   ]
  },
  {
   "cell_type": "markdown",
   "metadata": {},
   "source": [
    "We can plot the current profile at each iteration to visualize how it changed: "
   ]
  },
  {
   "cell_type": "code",
   "execution_count": null,
   "metadata": {},
   "outputs": [
    {
     "data": {
      "image/png": "[encoded data removed]",
      "text/plain": [
       "<Figure size 288.216x288.216 with 1 Axes>"
      ]
     },
     "metadata": {},
     "output_type": "display_data"
    }
   ],
   "source": [
    "fig, ax = plot_1d(fam2[0], \"current\", linecolor=\"k\", lw=2, label=\"0\")\n",
    "fig, ax = plot_1d(fam2[1], \"current\", linecolor=\"g\", lw=2, label=\"1\", ax=ax)\n",
    "fig, ax = plot_1d(fam2[2], \"current\", linecolor=\"b\", lw=2, label=\"2\", ax=ax)\n",
    "fig, ax = plot_1d(fam2[3], \"current\", linecolor=\"r\", lw=2, label=\"3\", ax=ax)\n",
    "ax.legend(loc=\"best\");"
   ]
  },
  {
   "cell_type": "markdown",
   "metadata": {},
   "source": [
    "With this method the MHD equilibrium also has very good agreement with the Redl formula. "
   ]
  },
  {
   "cell_type": "code",
   "execution_count": null,
   "metadata": {},
   "outputs": [
    {
     "data": {
      "image/png": "[encoded data removed]",
      "text/plain": [
       "<Figure size 288.216x288.216 with 1 Axes>"
      ]
     },
     "metadata": {},
     "output_type": "display_data"
    }
   ],
   "source": [
    "fig, ax = plot_1d(eq2, \"<J*B> Redl\", color=\"b\", lw=2, label=\"Redl\")\n",
    "fig, ax = plot_1d(eq2, \"<J*B>\", color=\"r\", lw=2, label=\"MHD\", ax=ax)\n",
    "ax.legend(loc=\"best\")\n",
    "ax.set_title(\"Method 2: Iterative Solves\");"
   ]
  },
  {
   "cell_type": "markdown",
   "metadata": {},
   "source": [
    "### Comparison"
   ]
  },
  {
   "cell_type": "markdown",
   "metadata": {},
   "source": [
    "Even though both methods give good self-consistency for the bootstrap current, they do result in slightly different coefficients for the current profile: "
   ]
  },
  {
   "cell_type": "code",
   "execution_count": 18,
   "metadata": {},
   "outputs": [
    {
     "name": "stdout",
     "output_type": "stream",
     "text": [
      "[ 0.00000000e+00  0.00000000e+00 -4.66433725e+03  4.08231235e+06  1.57041990e+07 -6.55435420e+07  9.56800293e+07 -5.79958101e+07  1.04084081e+07]\n",
      "[ 0.00000000e+00  0.00000000e+00  4.45132089e+05 -1.55375762e+06  4.20367536e+07 -1.24732650e+08  1.64815797e+08 -9.79230045e+07  1.92576479e+07]\n"
     ]
    }
   ],
   "source": [
    "print(eq1.c_l)\n",
    "print(eq2.c_l)"
   ]
  },
  {
   "cell_type": "markdown",
   "metadata": {},
   "source": [
    "In this example, the first method of optimization gave better self-consistency but was noticeably slower than the second method of iterative solves. "
   ]
  },
  {
   "cell_type": "markdown",
   "metadata": {},
   "source": [
    "## Using Spline Profiles\n",
    "\n",
    "We can also use splines to describe the current profile. Due to the many DOFs of splines and their local nature, they can be difficult to use with the first method shown above. So, we recommend using the iterative solve method if a spline current profile is desired. "
   ]
  },
  {
   "cell_type": "markdown",
   "metadata": {},
   "source": [
    "The code for the iterative method with splines is slightly different, as now we do not need to re-fit the current profile with a power series in order to update our spline. Instead, we choose our spline profile knots carefully to include a knot at the axis which we will keep at 0 (in order to enforce zero on-axis net toroidal current), and choosing the rest to align with the grid we will be computing the Redl bootstrap current at.\n",
    "\n",
    "Remember that the Redl formula is not defined on-axis or on the boundary, so we must ensure we do not include a knot at $\\rho=1$, as we have no way of updating that value."
   ]
  },
  {
   "cell_type": "code",
   "execution_count": 19,
   "metadata": {},
   "outputs": [],
   "source": [
    "# Choose a denser grid for the spline profile so we can represent the bootstrap current profile well\n",
    "L_grid = 25\n",
    "\n",
    "grid = LinearGrid(\n",
    "    M=eq0.M_grid,\n",
    "    N=eq0.N_grid,\n",
    "    NFP=eq0.NFP,\n",
    "    sym=eq0.sym,\n",
    "    rho=np.linspace(1 / L_grid, 1, L_grid) - 1 / (2 * L_grid),\n",
    ")\n",
    "\n",
    "eq2_spline = eq0.copy()\n",
    "fam2 = EquilibriaFamily(eq2_spline)\n",
    "# choose the rho values for the knots\n",
    "rho = np.concatenate([np.array([0.0]), grid.nodes[grid.unique_rho_idx, 0]])\n",
    "# make a SplineProfile for current, initially zero.\n",
    "eq2_spline.current = SplineProfile(values=np.zeros_like(rho), knots=rho)"
   ]
  },
  {
   "cell_type": "code",
   "execution_count": 20,
   "metadata": {},
   "outputs": [
    {
     "name": "stdout",
     "output_type": "stream",
     "text": [
      "Building objective: force\n",
      "Precomputing transforms\n",
      "Timer: Precomputing transforms = 67.6 ms\n",
      "Timer: Objective build = 89.4 ms\n",
      "Building objective: lcfs R\n",
      "Building objective: lcfs Z\n",
      "Building objective: fixed Psi\n",
      "Building objective: fixed current\n",
      "Building objective: fixed electron density\n",
      "Building objective: fixed electron temperature\n",
      "Building objective: fixed ion temperature\n",
      "Building objective: fixed atomic number\n",
      "Building objective: fixed sheet current\n",
      "Building objective: self_consistency R\n",
      "Building objective: self_consistency Z\n",
      "Building objective: lambda gauge\n",
      "Building objective: axis R self consistency\n",
      "Building objective: axis Z self consistency\n",
      "Timer: Objective build = 279 ms\n",
      "Timer: LinearConstraintProjection build = 2.78 sec\n",
      "Number of parameters: 856\n",
      "Number of objectives: 5346\n",
      "Timer: Initializing the optimization = 3.18 sec\n",
      "\n",
      "Starting optimization\n",
      "Using method: lsq-exact\n",
      "   Iteration     Total nfev        Cost      Cost reduction    Step norm     Optimality   \n",
      "       0              1          4.309e-03                                    7.382e-02   \n",
      "       1              2          6.671e-04      3.642e-03      1.961e-01      2.131e-02   \n",
      "       2              3          1.340e-04      5.331e-04      1.109e-01      7.255e-03   \n",
      "       3              4          1.432e-05      1.197e-04      4.037e-02      1.705e-03   \n",
      "       4              6          1.964e-06      1.236e-05      1.691e-02      4.329e-04   \n",
      "       5              8          1.446e-06      5.187e-07      8.764e-03      5.047e-05   \n",
      "       6             10          1.387e-06      5.837e-08      4.907e-03      2.238e-05   \n",
      "       7             11          1.365e-06      2.189e-08      8.181e-03      2.676e-05   \n",
      "       8             13          1.347e-06      1.848e-08      4.516e-03      1.265e-05   \n",
      "       9             14          1.333e-06      1.349e-08      8.841e-03      3.892e-05   \n",
      "      10             16          1.313e-06      1.991e-08      4.641e-03      1.481e-05   \n",
      "      11             17          1.305e-06      8.347e-09      8.930e-03      3.021e-05   \n",
      "Optimization terminated successfully.\n",
      "`ftol` condition satisfied. (ftol=1.00e-02)\n",
      "         Current function value: 1.305e-06\n",
      "         Total delta_x: 2.188e-01\n",
      "         Iterations: 11\n",
      "         Function evaluations: 17\n",
      "         Jacobian evaluations: 12\n",
      "Timer: Solution time = 34.1 sec\n",
      "Timer: Avg time per step = 2.84 sec\n",
      "==============================================================================================================\n",
      "                                                                 Start  -->   End\n",
      "Total (sum of squares):                                      4.309e-03  -->   1.305e-06, \n",
      "Maximum absolute Force error:                                6.261e+07  -->   1.384e+06 (N)\n",
      "Minimum absolute Force error:                                7.088e-01  -->   2.963e+00 (N)\n",
      "Average absolute Force error:                                4.021e+06  -->   8.925e+04 (N)\n",
      "Maximum absolute Force error:                                1.417e-02  -->   3.133e-04 (normalized)\n",
      "Minimum absolute Force error:                                1.604e-10  -->   6.704e-10 (normalized)\n",
      "Average absolute Force error:                                9.099e-04  -->   2.019e-05 (normalized)\n",
      "R boundary error:                                            0.000e+00  -->   2.222e-16 (m)\n",
      "Z boundary error:                                            0.000e+00  -->   3.143e-16 (m)\n",
      "Fixed Psi error:                                             0.000e+00  -->   0.000e+00 (Wb)\n",
      "Fixed current profile error:                                 0.000e+00  -->   8.026e-10 (A)\n",
      "Fixed electron density profile error:                        0.000e+00  -->   0.000e+00 (m^-3)\n",
      "Fixed electron temperature profile error:                    0.000e+00  -->   0.000e+00 (eV)\n",
      "Fixed ion temperature profile error:                         0.000e+00  -->   0.000e+00 (eV)\n",
      "Fixed atomic number profile error:                           0.000e+00  -->   0.000e+00 (dimensionless)\n",
      "Fixed sheet current error:                                   0.000e+00  -->   0.000e+00 (~)\n",
      "==============================================================================================================\n",
      "Building objective: force\n",
      "Precomputing transforms\n",
      "Timer: Precomputing transforms = 50.8 ms\n",
      "Timer: Objective build = 74.1 ms\n",
      "Building objective: lcfs R\n",
      "Building objective: lcfs Z\n",
      "Building objective: fixed Psi\n",
      "Building objective: fixed current\n",
      "Building objective: fixed electron density\n",
      "Building objective: fixed electron temperature\n",
      "Building objective: fixed ion temperature\n",
      "Building objective: fixed atomic number\n",
      "Building objective: fixed sheet current\n",
      "Building objective: self_consistency R\n",
      "Building objective: self_consistency Z\n",
      "Building objective: lambda gauge\n",
      "Building objective: axis R self consistency\n",
      "Building objective: axis Z self consistency\n",
      "Timer: Objective build = 164 ms\n",
      "Timer: LinearConstraintProjection build = 3.50 sec\n",
      "Number of parameters: 856\n",
      "Number of objectives: 5346\n",
      "Timer: Initializing the optimization = 3.75 sec\n",
      "\n",
      "Starting optimization\n",
      "Using method: lsq-exact\n",
      "   Iteration     Total nfev        Cost      Cost reduction    Step norm     Optimality   \n",
      "       0              1          2.327e-04                                    1.458e-02   \n",
      "       1              2          1.930e-06      2.307e-04      3.770e-02      5.480e-04   \n",
      "       2              3          1.269e-06      6.610e-07      2.192e-02      1.474e-04   \n",
      "       3              4          1.133e-06      1.355e-07      1.415e-02      1.088e-04   \n",
      "       4              6          1.041e-06      9.237e-08      4.568e-03      9.264e-06   \n",
      "       5              8          1.038e-06      3.282e-09      2.313e-03      3.961e-06   \n",
      "Optimization terminated successfully.\n",
      "`ftol` condition satisfied. (ftol=1.00e-02)\n",
      "         Current function value: 1.038e-06\n",
      "         Total delta_x: 5.508e-02\n",
      "         Iterations: 5\n",
      "         Function evaluations: 8\n",
      "         Jacobian evaluations: 6\n",
      "Timer: Solution time = 16.9 sec\n",
      "Timer: Avg time per step = 2.82 sec\n",
      "==============================================================================================================\n",
      "                                                                 Start  -->   End\n",
      "Total (sum of squares):                                      2.327e-04  -->   1.038e-06, \n",
      "Maximum absolute Force error:                                1.998e+07  -->   1.307e+06 (N)\n",
      "Minimum absolute Force error:                                8.000e+01  -->   1.262e+00 (N)\n",
      "Average absolute Force error:                                9.619e+05  -->   7.634e+04 (N)\n",
      "Maximum absolute Force error:                                4.522e-03  -->   2.957e-04 (normalized)\n",
      "Minimum absolute Force error:                                1.810e-08  -->   2.856e-10 (normalized)\n",
      "Average absolute Force error:                                2.176e-04  -->   1.727e-05 (normalized)\n",
      "R boundary error:                                            0.000e+00  -->   2.222e-16 (m)\n",
      "Z boundary error:                                            0.000e+00  -->   2.220e-16 (m)\n",
      "Fixed Psi error:                                             0.000e+00  -->   0.000e+00 (Wb)\n",
      "Fixed current profile error:                                 0.000e+00  -->   7.818e-10 (A)\n",
      "Fixed electron density profile error:                        0.000e+00  -->   0.000e+00 (m^-3)\n",
      "Fixed electron temperature profile error:                    0.000e+00  -->   0.000e+00 (eV)\n",
      "Fixed ion temperature profile error:                         0.000e+00  -->   0.000e+00 (eV)\n",
      "Fixed atomic number profile error:                           0.000e+00  -->   0.000e+00 (dimensionless)\n",
      "Fixed sheet current error:                                   0.000e+00  -->   0.000e+00 (~)\n",
      "==============================================================================================================\n",
      "Building objective: force\n",
      "Precomputing transforms\n",
      "Timer: Precomputing transforms = 53.5 ms\n",
      "Timer: Objective build = 73.4 ms\n",
      "Building objective: lcfs R\n",
      "Building objective: lcfs Z\n",
      "Building objective: fixed Psi\n",
      "Building objective: fixed current\n",
      "Building objective: fixed electron density\n",
      "Building objective: fixed electron temperature\n",
      "Building objective: fixed ion temperature\n",
      "Building objective: fixed atomic number\n",
      "Building objective: fixed sheet current\n",
      "Building objective: self_consistency R\n",
      "Building objective: self_consistency Z\n",
      "Building objective: lambda gauge\n",
      "Building objective: axis R self consistency\n",
      "Building objective: axis Z self consistency\n",
      "Timer: Objective build = 188 ms\n",
      "Timer: LinearConstraintProjection build = 2.25 sec\n",
      "Number of parameters: 856\n",
      "Number of objectives: 5346\n",
      "Timer: Initializing the optimization = 2.52 sec\n",
      "\n",
      "Starting optimization\n",
      "Using method: lsq-exact\n",
      "   Iteration     Total nfev        Cost      Cost reduction    Step norm     Optimality   \n",
      "       0              1          8.674e-06                                    2.621e-03   \n",
      "       1              2          1.170e-06      7.504e-06      1.958e-02      8.512e-05   \n",
      "       2              3          1.062e-06      1.084e-07      9.105e-03      8.340e-05   \n",
      "       3              5          1.044e-06      1.771e-08      3.540e-03      1.038e-05   \n",
      "       4              7          1.042e-06      2.175e-09      1.801e-03      3.273e-06   \n",
      "Optimization terminated successfully.\n",
      "`ftol` condition satisfied. (ftol=1.00e-02)\n",
      "         Current function value: 1.042e-06\n",
      "         Total delta_x: 1.958e-02\n",
      "         Iterations: 4\n",
      "         Function evaluations: 7\n",
      "         Jacobian evaluations: 5\n",
      "Timer: Solution time = 18.1 sec\n",
      "Timer: Avg time per step = 3.63 sec\n",
      "==============================================================================================================\n",
      "                                                                 Start  -->   End\n",
      "Total (sum of squares):                                      8.674e-06  -->   1.042e-06, \n",
      "Maximum absolute Force error:                                2.908e+06  -->   1.463e+06 (N)\n",
      "Minimum absolute Force error:                                5.261e+00  -->   3.944e+01 (N)\n",
      "Average absolute Force error:                                1.927e+05  -->   7.711e+04 (N)\n",
      "Maximum absolute Force error:                                6.581e-04  -->   3.310e-04 (normalized)\n",
      "Minimum absolute Force error:                                1.190e-09  -->   8.923e-09 (normalized)\n",
      "Average absolute Force error:                                4.360e-05  -->   1.745e-05 (normalized)\n",
      "R boundary error:                                            0.000e+00  -->   2.222e-16 (m)\n",
      "Z boundary error:                                            0.000e+00  -->   4.969e-19 (m)\n",
      "Fixed Psi error:                                             0.000e+00  -->   0.000e+00 (Wb)\n",
      "Fixed current profile error:                                 0.000e+00  -->   4.099e-10 (A)\n",
      "Fixed electron density profile error:                        0.000e+00  -->   0.000e+00 (m^-3)\n",
      "Fixed electron temperature profile error:                    0.000e+00  -->   0.000e+00 (eV)\n",
      "Fixed ion temperature profile error:                         0.000e+00  -->   0.000e+00 (eV)\n",
      "Fixed atomic number profile error:                           0.000e+00  -->   0.000e+00 (dimensionless)\n",
      "Fixed sheet current error:                                   0.000e+00  -->   0.000e+00 (~)\n",
      "==============================================================================================================\n"
     ]
    }
   ],
   "source": [
    "from desc.backend import jnp\n",
    "\n",
    "niters = 3\n",
    "for k in range(niters):\n",
    "    eq2_spline = eq2_spline.copy()\n",
    "    # compute new guess for the current profile, consistent with Redl formula\n",
    "    data = eq2_spline.compute(\"current Redl\", grid)\n",
    "    current = grid.compress(data[\"current Redl\"])\n",
    "    rho = grid.compress(data[\"rho\"])\n",
    "    # add the rho=0 value which we enforce as zero current\n",
    "    c_at_knots = np.concatenate([np.array([0.0]), current])\n",
    "    eq2_spline.current.params = c_at_knots\n",
    "    # re-solve the equilibrium\n",
    "    eq2_spline, _ = eq2_spline.solve(\n",
    "        objective=\"force\", optimizer=\"lsq-exact\", verbose=3\n",
    "    )\n",
    "    fam2.append(eq2_spline)"
   ]
  },
  {
   "cell_type": "markdown",
   "metadata": {},
   "source": [
    "We can plot the current profile at each iteration to visualize how it changed: "
   ]
  },
  {
   "cell_type": "code",
   "execution_count": null,
   "metadata": {},
   "outputs": [
    {
     "data": {
      "image/png": "[encoded data removed]",
      "text/plain": [
       "<Figure size 288.216x288.216 with 1 Axes>"
      ]
     },
     "metadata": {},
     "output_type": "display_data"
    }
   ],
   "source": [
    "fig, ax = plot_1d(fam2[0], \"current\", linecolor=\"k\", lw=2, label=\"0\")\n",
    "fig, ax = plot_1d(fam2[1], \"current\", linecolor=\"g\", lw=2, label=\"1\", ax=ax)\n",
    "fig, ax = plot_1d(fam2[2], \"current\", linecolor=\"b\", lw=2, label=\"2\", ax=ax)\n",
    "ax.legend(loc=\"best\");"
   ]
  },
  {
   "cell_type": "markdown",
   "metadata": {},
   "source": [
    "With this method the MHD equilibrium also has very good agreement with the Redl formula, now with a ``SplineProfile``."
   ]
  },
  {
   "cell_type": "code",
   "execution_count": null,
   "metadata": {},
   "outputs": [
    {
     "data": {
      "image/png": "[encoded data removed]",
      "text/plain": [
       "<Figure size 288.216x288.216 with 1 Axes>"
      ]
     },
     "metadata": {},
     "output_type": "display_data"
    }
   ],
   "source": [
    "fig, ax = plot_1d(fam2[-1], \"<J*B> Redl\", color=\"b\", lw=2, label=\"Redl\")\n",
    "fig, ax = plot_1d(fam2[-1], \"<J*B>\", color=\"r\", lw=2, label=\"MHD\", ax=ax)\n",
    "ax.legend(loc=\"best\")\n",
    "ax.set_title(\"Method 2: Iterative Solves (splines)\");"
   ]
  }
 ],
 "metadata": {
  "kernelspec": {
   "display_name": "desc-env",
   "language": "python",
   "name": "python3"
  },
  "language_info": {
   "codemirror_mode": {
    "name": "ipython",
    "version": 3
   },
   "file_extension": ".py",
   "mimetype": "text/x-python",
   "name": "python",
   "nbconvert_exporter": "python",
   "pygments_lexer": "ipython3",
   "version": "3.12.9"
  }
 },
 "nbformat": 4,
 "nbformat_minor": 4
}
