{
 "cells": [
  {
   "cell_type": "code",
   "execution_count": 1,
   "id": "c3bfcfee",
   "metadata": {
    "execution": {
     "iopub.execute_input": "2025-07-24T23:24:40.382685Z",
     "iopub.status.busy": "2025-07-24T23:24:40.382545Z",
     "iopub.status.idle": "2025-07-24T23:24:43.560651Z",
     "shell.execute_reply": "2025-07-24T23:24:43.560274Z"
    }
   },
   "outputs": [],
   "source": [
    "from desc import set_device\n",
    "set_device(\"gpu\")"
   ]
  },
  {
   "cell_type": "code",
   "execution_count": 2,
   "id": "9ce0c44f",
   "metadata": {
    "execution": {
     "iopub.execute_input": "2025-07-24T23:24:43.562934Z",
     "iopub.status.busy": "2025-07-24T23:24:43.562778Z",
     "iopub.status.idle": "2025-07-24T23:24:49.598948Z",
     "shell.execute_reply": "2025-07-24T23:24:49.598534Z"
    }
   },
   "outputs": [
    {
     "name": "stdout",
     "output_type": "stream",
     "text": [
      "DESC version 0.12.3+553.gcb761a802.dirty,using JAX backend, jax version=0.4.35, jaxlib version=0.4.34, dtype=float64"
     ]
    },
    {
     "name": "stdout",
     "output_type": "stream",
     "text": [
      "\n"
     ]
    },
    {
     "name": "stdout",
     "output_type": "stream",
     "text": [
      "Using device: NVIDIA A100 80GB PCIe (id=0), with 80.00 GB available memory"
     ]
    },
    {
     "name": "stdout",
     "output_type": "stream",
     "text": [
      "\n"
     ]
    }
   ],
   "source": [
    "import numpy as np\n",
    "import os\n",
    "\n",
    "from scipy.io import netcdf_file\n",
    "import copy\n",
    "import matplotlib\n",
    "import matplotlib.pyplot as plt\n",
    "import scipy\n",
    "from scipy.constants import mu_0\n",
    "import sys\n",
    "import functools\n",
    "import pickle\n",
    "\n",
    "import jax\n",
    "import jax.numpy as jnpå\n",
    "from jax import jit, jacfwd\n",
    "\n",
    "from netCDF4 import Dataset\n",
    "import h5py\n",
    "\n",
    "from desc.backend import put, fori_loop, jnp, sign\n",
    "\n",
    "from desc.basis import FourierZernikeBasis, DoubleFourierSeries, FourierSeries\n",
    "\n",
    "from desc.equilibrium import EquilibriaFamily, Equilibrium\n",
    "from desc.grid import ConcentricGrid, LinearGrid, Grid, QuadratureGrid\n",
    "from desc.io import InputReader, load\n",
    "from desc.objectives import *\n",
    "from desc.objectives.objective_funs import _Objective\n",
    "from desc.plotting import plot_1d, plot_2d, plot_3d, plot_section, plot_surfaces, plot_comparison\n",
    "\n",
    "from desc.plotting import *\n",
    "\n",
    "from desc.transform import Transform\n",
    "from desc.vmec import VMECIO\n",
    "from desc.derivatives import Derivative\n",
    "from desc.geometry import FourierRZToroidalSurface\n",
    "from desc.profiles import SplineProfile, PowerSeriesProfile\n",
    "\n",
    "from desc.magnetic_fields import ( SplineMagneticField, \n",
    "                                  FourierCurrentPotentialField, ToroidalMagneticField,\n",
    "                                  field_line_integrate)\n",
    "\n",
    "import desc.examples\n",
    "\n",
    "from desc.backend import fori_loop, jit, jnp, odeint, sign\n",
    "from desc.compute import rpz2xyz, rpz2xyz_vec, xyz2rpz, xyz2rpz_vec\n",
    "from desc.coils import *\n",
    "\n",
    "from desc.utils import flatten_list\n",
    "\n",
    "from desc.utils import Timer, copy_coeffs, errorif, setdefault, svd_inv_null, warnif\n",
    "\n",
    "from desc.utils import cross, dot\n",
    "\n",
    "from desc.optimize import lsqtr, lsq_auglag\n",
    "\n",
    "from scipy.optimize import NonlinearConstraint \n",
    "\n",
    "from desc.magnetic_fields import FourierCurrentPotentialField\n",
    "#from desc.magnetic_fields._current_potential import run_regcoil\n",
    "\n",
    "import time\n",
    "\n",
    "import numpy as np\n",
    "from numpy.linalg import eig\n",
    "\n",
    "from scipy.linalg import null_space\n",
    "from numpy import ndarray\n",
    "\n",
    "from desc.fns_simp import (plot_figure,\n",
    "                           plot_figure2,\n",
    "                           plot_xy,\n",
    "                           surf_int,\n",
    "                           _compute_magnetic_field_from_Current)\n",
    "\n",
    "from data_comp import iso_coords_interp, data_calc"
   ]
  },
  {
   "cell_type": "code",
   "execution_count": 3,
   "id": "6a5c1a72",
   "metadata": {
    "execution": {
     "iopub.execute_input": "2025-07-24T23:24:49.601686Z",
     "iopub.status.busy": "2025-07-24T23:24:49.601038Z",
     "iopub.status.idle": "2025-07-24T23:24:51.347300Z",
     "shell.execute_reply": "2025-07-24T23:24:51.346896Z"
    },
    "scrolled": true
   },
   "outputs": [],
   "source": [
    "# Plasma surfaces\n",
    "eqname_QA = \"/home/fcastro/LMStell/regcoil/rogerio/input.QA_final_output.h5\" #vacuum equilibrium\n",
    "eq_QA = desc.io.load(eqname_QA)[4]\n",
    "\n",
    "eqname_QH = \"/home/fcastro/LMStell/regcoil/rogerio/input.QH_final_output.h5\" #vacuum equilibrium\n",
    "eq_QH = desc.io.load(eqname_QH)[4]\n",
    "\n",
    "eq = eq_QA    \n",
    "###\n",
    "surf_winding = load(\"iso_coords/surf.h5\")"
   ]
  },
  {
   "cell_type": "code",
   "execution_count": 4,
   "id": "83eefd44-a6ee-481b-b74c-19c31b01c7e6",
   "metadata": {
    "execution": {
     "iopub.execute_input": "2025-07-24T23:24:51.349947Z",
     "iopub.status.busy": "2025-07-24T23:24:51.349380Z",
     "iopub.status.idle": "2025-07-24T23:24:51.354889Z",
     "shell.execute_reply": "2025-07-24T23:24:51.354566Z"
    }
   },
   "outputs": [
    {
     "data": {
      "text/plain": [
       "3"
      ]
     },
     "execution_count": 4,
     "metadata": {},
     "output_type": "execute_result"
    }
   ],
   "source": [
    "surf_winding.NFP"
   ]
  },
  {
   "cell_type": "code",
   "execution_count": 5,
   "id": "84a7ac2e",
   "metadata": {
    "execution": {
     "iopub.execute_input": "2025-07-24T23:24:51.357007Z",
     "iopub.status.busy": "2025-07-24T23:24:51.356477Z",
     "iopub.status.idle": "2025-07-24T23:24:53.462638Z",
     "shell.execute_reply": "2025-07-24T23:24:53.462245Z"
    }
   },
   "outputs": [
    {
     "name": "stdout",
     "output_type": "stream",
     "text": [
      "<class 'numpy.ndarray'>"
     ]
    },
    {
     "name": "stdout",
     "output_type": "stream",
     "text": [
      "\n"
     ]
    },
    {
     "name": "stdout",
     "output_type": "stream",
     "text": [
      "<class 'numpy.ndarray'>"
     ]
    },
    {
     "name": "stdout",
     "output_type": "stream",
     "text": [
      "\n"
     ]
    }
   ],
   "source": [
    "# Evaluate Green's function for flat tori\n",
    "sgrid = LinearGrid(M = 100, N = 150, NFP = surf_winding.NFP)\n",
    "sdata = surf_winding.compute([\"theta\",\"zeta\", \"e^theta_s\",\"e^zeta_s\"], grid = sgrid)\n",
    "name = 'iso_coords/'"
   ]
  },
  {
   "cell_type": "code",
   "execution_count": 6,
   "id": "ce7d92e3-2dca-44de-a5d6-466d0cf60fd6",
   "metadata": {
    "execution": {
     "iopub.execute_input": "2025-07-24T23:24:53.464881Z",
     "iopub.status.busy": "2025-07-24T23:24:53.464720Z",
     "iopub.status.idle": "2025-07-24T23:24:56.763263Z",
     "shell.execute_reply": "2025-07-24T23:24:56.762859Z"
    }
   },
   "outputs": [
    {
     "name": "stdout",
     "output_type": "stream",
     "text": [
      "<class 'numpy.ndarray'>"
     ]
    },
    {
     "name": "stdout",
     "output_type": "stream",
     "text": [
      "\n"
     ]
    },
    {
     "name": "stdout",
     "output_type": "stream",
     "text": [
      "<class 'numpy.ndarray'>"
     ]
    },
    {
     "name": "stdout",
     "output_type": "stream",
     "text": [
      "\n"
     ]
    },
    {
     "name": "stdout",
     "output_type": "stream",
     "text": [
      "<class 'numpy.ndarray'>"
     ]
    },
    {
     "name": "stdout",
     "output_type": "stream",
     "text": [
      "\n"
     ]
    }
   ],
   "source": [
    "sdata = iso_coords_interp(name, sdata, sgrid, surf_winding)\n",
    "\n",
    "G = np.load(\"iso_coords/G.npy\")\n",
    "K_sec = G * cross(sdata[\"n_rho\"], sdata[\"e^u_s\"])\n",
    "K_sv = surf_winding.compute([\"K\"],grid = sgrid)[\"K\"]"
   ]
  },
  {
   "cell_type": "code",
   "execution_count": 7,
   "id": "0813a4ee",
   "metadata": {
    "execution": {
     "iopub.execute_input": "2025-07-24T23:24:56.765956Z",
     "iopub.status.busy": "2025-07-24T23:24:56.765366Z",
     "iopub.status.idle": "2025-07-24T23:24:57.146867Z",
     "shell.execute_reply": "2025-07-24T23:24:57.146532Z"
    }
   },
   "outputs": [
    {
     "data": {
      "image/png": "[encoded data removed]",
      "text/plain": [
       "<Figure size 432x360 with 2 Axes>"
      ]
     },
     "metadata": {},
     "output_type": "display_data"
    },
    {
     "data": {
      "image/png": "[encoded data removed]",
      "text/plain": [
       "<Figure size 432x360 with 2 Axes>"
      ]
     },
     "metadata": {},
     "output_type": "display_data"
    }
   ],
   "source": [
    "# Confirm that variables have the same shape\n",
    "plot_figure2(sdata[\"u_iso\"],sgrid,''r' $ u(\\theta,\\zeta)$ ')\n",
    "plot_figure2(sdata[\"v_iso\"],sgrid,''r' $ v(\\theta,\\zeta)$ ')\n",
    "#plot_figure2(sdata[\"lambda_iso\"],sgrid,''r' $ \\lambda $ ')"
   ]
  },
  {
   "cell_type": "code",
   "execution_count": 8,
   "id": "0839bb35-4c80-4d73-9671-4b69a7e73d20",
   "metadata": {
    "execution": {
     "iopub.execute_input": "2025-07-24T23:24:57.149144Z",
     "iopub.status.busy": "2025-07-24T23:24:57.148601Z",
     "iopub.status.idle": "2025-07-24T23:24:57.152107Z",
     "shell.execute_reply": "2025-07-24T23:24:57.151798Z"
    }
   },
   "outputs": [],
   "source": [
    "sMv = jnp.asarray([15,])\n",
    "sNv = jnp.asarray([15,])"
   ]
  },
  {
   "cell_type": "code",
   "execution_count": 9,
   "id": "695d445e-9fa3-4d45-a23a-cbfad666b60c",
   "metadata": {
    "execution": {
     "iopub.execute_input": "2025-07-24T23:24:57.154225Z",
     "iopub.status.busy": "2025-07-24T23:24:57.153692Z",
     "iopub.status.idle": "2025-07-24T23:24:57.156309Z",
     "shell.execute_reply": "2025-07-24T23:24:57.156004Z"
    }
   },
   "outputs": [],
   "source": [
    "eps = 1e-2\n",
    "dt = eps\n",
    "dz = eps\n",
    "d0 = eps/3"
   ]
  },
  {
   "cell_type": "code",
   "execution_count": 10,
   "id": "44a54e2f-66c1-4782-9cdc-915b51c93fc9",
   "metadata": {
    "execution": {
     "iopub.execute_input": "2025-07-24T23:24:57.158358Z",
     "iopub.status.busy": "2025-07-24T23:24:57.157828Z",
     "iopub.status.idle": "2025-07-24T23:25:04.019179Z",
     "shell.execute_reply": "2025-07-24T23:25:04.018794Z"
    }
   },
   "outputs": [
    {
     "name": "stdout",
     "output_type": "stream",
     "text": [
      "<class 'jaxlib.xla_extension.ArrayImpl'>"
     ]
    },
    {
     "name": "stdout",
     "output_type": "stream",
     "text": [
      "\n"
     ]
    },
    {
     "name": "stdout",
     "output_type": "stream",
     "text": [
      "<class 'jaxlib.xla_extension.ArrayImpl'>"
     ]
    },
    {
     "name": "stdout",
     "output_type": "stream",
     "text": [
      "\n"
     ]
    },
    {
     "name": "stdout",
     "output_type": "stream",
     "text": [
      "<class 'jaxlib.xla_extension.ArrayImpl'>"
     ]
    },
    {
     "name": "stdout",
     "output_type": "stream",
     "text": [
      "\n"
     ]
    },
    {
     "name": "stdout",
     "output_type": "stream",
     "text": [
      "<class 'jaxlib.xla_extension.ArrayImpl'>"
     ]
    },
    {
     "name": "stdout",
     "output_type": "stream",
     "text": [
      "\n"
     ]
    },
    {
     "name": "stdout",
     "output_type": "stream",
     "text": [
      "<class 'jaxlib.xla_extension.ArrayImpl'>"
     ]
    },
    {
     "name": "stdout",
     "output_type": "stream",
     "text": [
      "\n"
     ]
    },
    {
     "name": "stdout",
     "output_type": "stream",
     "text": [
      "<class 'jaxlib.xla_extension.ArrayImpl'>"
     ]
    },
    {
     "name": "stdout",
     "output_type": "stream",
     "text": [
      "\n"
     ]
    },
    {
     "name": "stdout",
     "output_type": "stream",
     "text": [
      "<class 'jaxlib.xla_extension.ArrayImpl'>"
     ]
    },
    {
     "name": "stdout",
     "output_type": "stream",
     "text": [
      "\n"
     ]
    },
    {
     "name": "stdout",
     "output_type": "stream",
     "text": [
      "<class 'jaxlib.xla_extension.ArrayImpl'>"
     ]
    },
    {
     "name": "stdout",
     "output_type": "stream",
     "text": [
      "\n"
     ]
    }
   ],
   "source": [
    "w, w2pol, w1pol, w2tor, w1tor, l, l_u, l_v, e_u, e_v = data_calc(sMv[0],sNv[0],eps,sdata,surf_winding)"
   ]
  },
  {
   "cell_type": "code",
   "execution_count": 11,
   "id": "5e851605-66db-47b4-9d91-5eeb4a9e1ecd",
   "metadata": {
    "execution": {
     "iopub.execute_input": "2025-07-24T23:25:04.021517Z",
     "iopub.status.busy": "2025-07-24T23:25:04.021367Z",
     "iopub.status.idle": "2025-07-24T23:25:04.243858Z",
     "shell.execute_reply": "2025-07-24T23:25:04.243483Z"
    }
   },
   "outputs": [],
   "source": [
    "jnp.save('/scratch/gpfs/fcastro/w.npy',w)\n",
    "jnp.save('/scratch/gpfs/fcastro/w2pol.npy',w2pol)\n",
    "jnp.save('/scratch/gpfs/fcastro/w1pol.npy',w1pol)\n",
    "jnp.save('/scratch/gpfs/fcastro/w2tor.npy',w2tor)\n",
    "jnp.save('/scratch/gpfs/fcastro/w1tor.npy',w1tor)\n",
    "jnp.save('/scratch/gpfs/fcastro/l.npy',l)\n",
    "jnp.save('/scratch/gpfs/fcastro/l_u.npy',l_u)\n",
    "jnp.save('/scratch/gpfs/fcastro/l_v.npy',l_v)\n",
    "jnp.save('/scratch/gpfs/fcastro/e_u.npy',e_u)\n",
    "jnp.save('/scratch/gpfs/fcastro/e_v.npy',e_v)\n",
    "jnp.save('/scratch/gpfs/fcastro/K_sec.npy',K_sec)\n",
    "jnp.save('/scratch/gpfs/fcastro/K_sv.npy',K_sv)\n",
    "jnp.save('/scratch/gpfs/fcastro/du.npy',sdata[\"du\"])\n",
    "jnp.save('/scratch/gpfs/fcastro/dv.npy',sdata[\"dv\"])\n",
    "\n",
    "jnp.save('/scratch/gpfs/fcastro/jac_surf.npy',sdata[\"|e_theta x e_zeta|\"])\n",
    "jnp.save('/scratch/gpfs/fcastro/x_surf.npy',xyz2rpz(sdata[\"x\"]))"
   ]
  },
  {
   "cell_type": "code",
   "execution_count": 12,
   "id": "0a8a1c27-9849-4afe-b55f-46771a68a637",
   "metadata": {
    "execution": {
     "iopub.execute_input": "2025-07-24T23:25:04.245996Z",
     "iopub.status.busy": "2025-07-24T23:25:04.245841Z",
     "iopub.status.idle": "2025-07-24T23:25:13.332630Z",
     "shell.execute_reply": "2025-07-24T23:25:13.332244Z"
    }
   },
   "outputs": [
    {
     "name": "stdout",
     "output_type": "stream",
     "text": [
      "<class 'numpy.ndarray'>"
     ]
    },
    {
     "name": "stdout",
     "output_type": "stream",
     "text": [
      "\n"
     ]
    },
    {
     "name": "stdout",
     "output_type": "stream",
     "text": [
      "<class 'numpy.ndarray'>"
     ]
    },
    {
     "name": "stdout",
     "output_type": "stream",
     "text": [
      "\n"
     ]
    },
    {
     "name": "stdout",
     "output_type": "stream",
     "text": [
      "<class 'numpy.ndarray'>"
     ]
    },
    {
     "name": "stdout",
     "output_type": "stream",
     "text": [
      "\n"
     ]
    },
    {
     "name": "stdout",
     "output_type": "stream",
     "text": [
      "<class 'numpy.ndarray'>"
     ]
    },
    {
     "name": "stdout",
     "output_type": "stream",
     "text": [
      "\n"
     ]
    },
    {
     "name": "stdout",
     "output_type": "stream",
     "text": [
      "<class 'numpy.ndarray'>"
     ]
    },
    {
     "name": "stdout",
     "output_type": "stream",
     "text": [
      "\n"
     ]
    },
    {
     "name": "stdout",
     "output_type": "stream",
     "text": [
      "<class 'numpy.ndarray'>"
     ]
    },
    {
     "name": "stdout",
     "output_type": "stream",
     "text": [
      "\n"
     ]
    },
    {
     "name": "stdout",
     "output_type": "stream",
     "text": [
      "<class 'numpy.ndarray'>"
     ]
    },
    {
     "name": "stdout",
     "output_type": "stream",
     "text": [
      "\n"
     ]
    },
    {
     "name": "stdout",
     "output_type": "stream",
     "text": [
      "<class 'numpy.ndarray'>"
     ]
    },
    {
     "name": "stdout",
     "output_type": "stream",
     "text": [
      "\n"
     ]
    },
    {
     "name": "stdout",
     "output_type": "stream",
     "text": [
      "<class 'numpy.ndarray'>"
     ]
    },
    {
     "name": "stdout",
     "output_type": "stream",
     "text": [
      "\n"
     ]
    },
    {
     "name": "stdout",
     "output_type": "stream",
     "text": [
      "<class 'numpy.ndarray'>"
     ]
    },
    {
     "name": "stdout",
     "output_type": "stream",
     "text": [
      "\n"
     ]
    },
    {
     "name": "stdout",
     "output_type": "stream",
     "text": [
      "<class 'numpy.ndarray'>"
     ]
    },
    {
     "name": "stdout",
     "output_type": "stream",
     "text": [
      "\n"
     ]
    },
    {
     "name": "stdout",
     "output_type": "stream",
     "text": [
      "<class 'numpy.ndarray'>"
     ]
    },
    {
     "name": "stdout",
     "output_type": "stream",
     "text": [
      "\n"
     ]
    }
   ],
   "source": [
    "grid_M = 10\n",
    "grid_N = 10\n",
    "\n",
    "egrid = LinearGrid(M = grid_M, N = grid_N, NFP = eq.NFP)\n",
    "edata = eq.compute([\"n_rho\",\"B\"], grid = egrid)\n",
    "\n",
    "B_sec = _compute_magnetic_field_from_Current( sgrid, K_sec, surf_winding, eq, egrid, basis = \"rpz\" )\n",
    "B_s = _compute_magnetic_field_from_Current( sgrid, K_sv, surf_winding, eq, egrid, basis = \"rpz\" )\n",
    "rhs = jnp.concatenate((B_s[:,0],B_s[:,1],B_s[:,2]))"
   ]
  },
  {
   "cell_type": "code",
   "execution_count": 13,
   "id": "2d7469bb-48fe-4cfe-ace6-40f3f6bc5150",
   "metadata": {
    "execution": {
     "iopub.execute_input": "2025-07-24T23:25:13.335718Z",
     "iopub.status.busy": "2025-07-24T23:25:13.335115Z",
     "iopub.status.idle": "2025-07-24T23:25:13.340066Z",
     "shell.execute_reply": "2025-07-24T23:25:13.339757Z"
    }
   },
   "outputs": [],
   "source": [
    "jnp.save('/scratch/gpfs/fcastro/rhs.npy',rhs)"
   ]
  }
 ],
 "metadata": {
  "kernelspec": {
   "display_name": "Python 3 (ipykernel)",
   "language": "python",
   "name": "python3"
  },
  "language_info": {
   "codemirror_mode": {
    "name": "ipython",
    "version": 3
   },
   "file_extension": ".py",
   "mimetype": "text/x-python",
   "name": "python",
   "nbconvert_exporter": "python",
   "pygments_lexer": "ipython3",
   "version": "3.12.4"
  }
 },
 "nbformat": 4,
 "nbformat_minor": 5
}
