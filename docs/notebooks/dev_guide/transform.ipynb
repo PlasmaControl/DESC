{
 "cells": [
  {
   "cell_type": "markdown",
   "id": "fbb1cce6-2f0a-49c7-a80a-212408ee20b0",
   "metadata": {
    "tags": [],
    "toc-hr-collapsed": true
   },
   "source": [
    "# `transform.py`"
   ]
  },
  {
   "cell_type": "markdown",
   "id": "ea2f4743-77f8-4e3f-b80c-1c28c1489189",
   "metadata": {},
   "source": [
    " - what the transform is\n",
    "  - has a basis and a grid, and evaluates that basis on its grid right? so it contains the transform matrices (call them transform matrices)? how are these called? but these are the matrices which, when multiplied against a vector of the coefficients of the spectral series, yields the series evaluated at the grid points"
   ]
  },
  {
   "cell_type": "markdown",
   "id": "e2d02571-b24d-485c-90de-495fe4b9a302",
   "metadata": {},
   "source": [
    "this file contains the `Transform` class. "
   ]
  },
  {
   "cell_type": "markdown",
   "id": "6a92e963-a6da-4268-9a53-b277f9a80691",
   "metadata": {},
   "source": []
  },
  {
   "cell_type": "code",
   "execution_count": null,
   "id": "f888cc17-ba5b-414e-b83e-772eaf510ca6",
   "metadata": {},
   "outputs": [],
   "source": []
  },
  {
   "cell_type": "markdown",
   "id": "00496ec1-77f7-4266-aaf6-c037e14a223d",
   "metadata": {},
   "source": [
    "## `build()`"
   ]
  },
  {
   "cell_type": "markdown",
   "id": "6dbcf2ef-2649-40df-9f44-c2df820ec260",
   "metadata": {},
   "source": [
    "this method builds the transform matrices for each derivative order of the basis the transform requires (which is specified when the `Transform` object is initialized with the `derivs` argument).\n",
    "Defining the transform matrix as $A_{(d\\rho,d\\theta,d\\zeta)}$ for given derivatives of the basis ${(d\\rho,d\\theta,d\\zeta)}$ (where each are integers), the matrix is used to transform a spectral basis with a given set of coefficients $\\mathbf{c}$ into its values on the grid (given by `Transform.grid`) by \n",
    "\n",
    "$$ A\\mathbf{c} = \\mathbf{x}$$\n",
    "\n",
    "where $\\mathbf{x}$ is the values of the spectral basis evaluated at the grid points . \n",
    "$\\mathbf{c}$ is a vector of length `Transform.basis.num_modes` (the number of modes in the basis), $\\mathbf{x}$ is a vector of length `Transform.grid.num_nodes` (the number of nodes in the grid), and $A$ is a matrix of shape `(num_nodes,num_modes)`.\n",
    "\n",
    "\n",
    "i.e. if a Fourier Series $f(\\zeta) = 2 + 4*cos(\\zeta)$, and the grid is $\\zeta = (0,\\pi)$, then $\\mathbf{x} =\\begin{bmatrix}0\\\\ \\pi\\end{bmatrix}$, $\\mathbf{c}=\\begin{bmatrix} 2\\\\ 4 \\end{bmatrix}$, and  $A = \\begin{bmatrix} 1 & cos(0)\\\\ 1& cos(\\pi) \\end{bmatrix} = \\begin{bmatrix} 1& 1\\\\ 1& -1 \\end{bmatrix} $ s.t. \n",
    "$$ A\\mathbf{c} = \\begin{bmatrix} 1& 1\\\\ 1& -1 \\end{bmatrix} \\begin{bmatrix} 2\\\\ 4 \\end{bmatrix} = \\begin{bmatrix} 6 \\\\ -2  \\end{bmatrix}  $$\n"
   ]
  },
  {
   "cell_type": "markdown",
   "id": "6a8f43e3-9ee8-449b-b6ea-4672a966d914",
   "metadata": {
    "tags": []
   },
   "source": [
    "## `build_pinv()`"
   ]
  },
  {
   "cell_type": "markdown",
   "id": "261815bc-a394-4c11-a5c0-9dc127b37b25",
   "metadata": {},
   "source": [
    "This function builds the pseudoinverse of the transform, which can then be used to take values of a given function that are given on `Transform.grid` and fit a spectral basis to them.\n",
    "A couple different methods are available:"
   ]
  },
  {
   "cell_type": "markdown",
   "id": "a05153d1-b6d6-413e-aea9-f08d6cd1a627",
   "metadata": {},
   "source": [
    "### `direct1`"
   ]
  },
  {
   "cell_type": "markdown",
   "id": "019404de-7732-4c92-be02-b29c66310225",
   "metadata": {},
   "source": [
    "With this method, "
   ]
  },
  {
   "cell_type": "code",
   "execution_count": null,
   "id": "c774a214-f846-4f26-a851-86013eb702fa",
   "metadata": {},
   "outputs": [],
   "source": []
  }
 ],
 "metadata": {
  "kernelspec": {
   "display_name": "Python 3 (ipykernel)",
   "language": "python",
   "name": "python3"
  },
  "language_info": {
   "codemirror_mode": {
    "name": "ipython",
    "version": 3
   },
   "file_extension": ".py",
   "mimetype": "text/x-python",
   "name": "python",
   "nbconvert_exporter": "python",
   "pygments_lexer": "ipython3",
   "version": "3.8.5"
  }
 },
 "nbformat": 4,
 "nbformat_minor": 5
}
