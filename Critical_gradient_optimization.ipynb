{
 "cells": [
  {
   "cell_type": "code",
   "execution_count": 1,
   "metadata": {},
   "outputs": [
    {
     "name": "stderr",
     "output_type": "stream",
     "text": [
      "An NVIDIA GPU may be present on this machine, but a CUDA-enabled jaxlib is not installed. Falling back to cpu.\n"
     ]
    },
    {
     "name": "stdout",
     "output_type": "stream",
     "text": [
      "DESC version 0.12.2+415.g7a626261f.dirty,using JAX backend, jax version=0.4.31, jaxlib version=0.4.31, dtype=float64\n",
      "Using device: CPU, with 25.70 GB available memory\n"
     ]
    }
   ],
   "source": [
    "import matplotlib.pyplot as plt\n",
    "\n",
    "from desc.continuation import solve_continuation_automatic\n",
    "from desc.backend import jnp, functools, jit\n",
    "from desc.examples import get\n",
    "import desc.io\n",
    "from desc.equilibrium import EquilibriaFamily, Equilibrium\n",
    "from desc.geometry import FourierRZToroidalSurface\n",
    "from desc.grid import Grid, _periodic_spacing, LinearGrid\n",
    "from desc.equilibrium.coords import get_rtz_grid\n",
    "from desc.objectives import (\n",
    "    AspectRatio,\n",
    "    FixBoundaryR,\n",
    "    FixBoundaryZ,\n",
    "    FixCurrent,\n",
    "    FixPressure,\n",
    "    FixPsi,\n",
    "    ForceBalance,\n",
    "    ObjectiveFunction,\n",
    "    BallooningStability,\n",
    "    EffectiveRadius,\n",
    "    ParallelConnectionLength,\n",
    ")\n",
    "from desc.optimize import Optimizer\n",
    "from desc.plotting import plot_comparison, plot_section\n"
   ]
  },
  {
   "cell_type": "markdown",
   "metadata": {},
   "source": [
    "## Methods ##"
   ]
  },
  {
   "cell_type": "code",
   "execution_count": 2,
   "metadata": {},
   "outputs": [],
   "source": [
    "# Function to get value of a parameter directly\n",
    "def get_value(eq,name,grid):\n",
    "    return eq.compute(name,grid=grid)[name]\n",
    "\n",
    "# Function to get the straight field line coordinate system, need iota for jit\n",
    "# @functools.partial(jit, static_argnames=[\"rho\",\"alpha\",\"n_pol\",\"n_points\"])\n",
    "def get_field_line_grid(eq,iota,rho=0.5,alpha=0,n_pol = 4,n_points = 200):\n",
    "    n_tor = n_pol/(iota*eq.NFP)\n",
    "    good_grid = get_rtz_grid(\n",
    "        eq,\n",
    "        jnp.array(rho),\n",
    "        # np.array(rho),\n",
    "        jnp.array(alpha),\n",
    "        # np.linspace(0,2*n_tor*np.pi,n_points*n_pol),\n",
    "        jnp.linspace(0,2*n_tor*jnp.pi,n_points*n_pol),\n",
    "        coordinates=\"raz\",\n",
    "        iota = iota,\n",
    "        period=(jnp.inf,2*jnp.pi,jnp.inf),\n",
    "    )\n",
    "    return good_grid"
   ]
  },
  {
   "cell_type": "code",
   "execution_count": 10,
   "metadata": {},
   "outputs": [],
   "source": [
    "def run_step(k, eq, grid, target_type=\"mean\"):\n",
    "    \"\"\"Run a step of the precise QH optimization example from Landreman & Paul.\"\"\"\n",
    "\n",
    "    # create grid where we want to minimize QS error. Here we do it on 3 surfaces\n",
    "    # grid = get_field_line_grid(eq,n_pol=10)\n",
    "\n",
    "    # we create an ObjectiveFunction, in this case made up of multiple objectives\n",
    "    # which will be combined in a least squares sense\n",
    "    objective = ObjectiveFunction(\n",
    "        (\n",
    "            # pass in the grid we defined, and don't forget the target helicity!\n",
    "            EffectiveRadius(eq=eq,grid=grid, target_type=target_type),\n",
    "            # ForceBalance(eq=eq),\n",
    "            # ParallelConnectionLength(eq=eq,grid=grid),\n",
    "            # BallooningStability(eq=eq),\n",
    "            # try to keep the aspect ratio about the same\n",
    "            # AspectRatio(eq=eq, target=8, weight=100),\n",
    "        ),\n",
    "    )\n",
    "    # as opposed to SIMSOPT and STELLOPT where variables are assumed fixed, in DESC\n",
    "    # we assume variables are free. Here we decide which ones to fix, starting with\n",
    "    # the major radius (R mode = [0,0,0]) and all modes with m,n > k\n",
    "    R_modes = jnp.vstack(\n",
    "        (\n",
    "            [0, 0, 0],\n",
    "            eq.surface.R_basis.modes[\n",
    "                jnp.max(jnp.abs(eq.surface.R_basis.modes), 1) > k, :\n",
    "            ],\n",
    "        )\n",
    "    )\n",
    "    Z_modes = eq.surface.Z_basis.modes[\n",
    "        jnp.max(jnp.abs(eq.surface.Z_basis.modes), 1) > k, :\n",
    "    ]\n",
    "    # next we create the constraints, using the mode number arrays just created\n",
    "    # if we didn't pass those in, it would fix all the modes (like for the profiles)\n",
    "    constraints = (\n",
    "        ForceBalance(eq=eq),\n",
    "        FixBoundaryR(eq=eq, modes=R_modes),\n",
    "        FixBoundaryZ(eq=eq, modes=Z_modes),\n",
    "        FixPressure(eq=eq),\n",
    "        FixCurrent(eq=eq),\n",
    "        FixPsi(eq=eq),\n",
    "    )\n",
    "    # this is the default optimizer, which re-solves the equilibrium at each step\n",
    "    # optimizer = Optimizer(\"fmin-auglag\")\n",
    "    optimizer = Optimizer(\"fmin-auglag-bfgs\")\n",
    "\n",
    "    eq_new, history = eq.optimize(\n",
    "        objective=objective,\n",
    "        constraints=constraints,\n",
    "        optimizer=optimizer,\n",
    "        maxiter=10,  # we don't need to solve to optimality at each multigrid step\n",
    "        verbose=3,\n",
    "        # xtol=1e-1,\n",
    "        # gtol=1e-1,\n",
    "        # ftol = 1e-1,\n",
    "        # ctol = 1e-1,\n",
    "        copy=True,  # don't modify original, return a new optimized copy\n",
    "        options={\n",
    "            # Sometimes the default initial trust radius is too big, allowing the\n",
    "            # optimizer to take too large a step in a bad direction. If this happens,\n",
    "            # we can manually specify a smaller starting radius. Each optimizer has a\n",
    "            # number of different options that can be used to tune the performance.\n",
    "            # See the documentation for more info.\n",
    "            \"initial_trust_ratio\": 1.0,\n",
    "        },\n",
    "    )\n",
    "\n",
    "    return eq_new"
   ]
  },
  {
   "cell_type": "code",
   "execution_count": 4,
   "metadata": {},
   "outputs": [],
   "source": [
    "def plot_Kd (eq):\n",
    "    iota_grid = LinearGrid(\n",
    "    rho=0.5\n",
    "    )\n",
    "    iota = jnp.abs(eq.compute(\"iota\",iota_grid)[\"iota\"][0])\n",
    "    grid = get_field_line_grid(eq,iota,n_pol=16)\n",
    "    Kd = get_value(eq,\"Kd\",grid)\n",
    "    plt.figure()\n",
    "    plt.plot(grid.nodes[:,2],Kd)\n",
    "    plt.axhline(0,color='r',linestyle=\"--\")\n",
    "    plt.xlabel(r\"$\\zeta$\")\n",
    "    plt.ylabel(r\"$K_d$\")\n",
    "    R_eff = get_value(eq,\"R_eff\",grid)\n",
    "    L_par = get_value(eq,\"L_par\",grid)\n",
    "    a = get_value(eq,\"a\",grid)\n",
    "\n",
    "    # Format the text to be displayed in the box\n",
    "    textstr = (\n",
    "        f\"Mean value of $R_{{eff}}$: {R_eff.mean():.3f}\\n\"\n",
    "        f\"Mean value of $L_{{par}}$: {L_par.mean():.3f}\\n\"\n",
    "        f\"Maximum value of $R_{{eff}}$: {R_eff.max():.3f}\\n\"\n",
    "        f\"Maximum value of $L_{{par}}$: {L_par.max():.3f}\\n\"\n",
    "    )\n",
    "\n",
    "    # Add the text box to the plot\n",
    "    props = dict(boxstyle='round', facecolor='white', alpha=0.5)\n",
    "    plt.text(\n",
    "        0.05, 0.95, textstr, transform=plt.gca().transAxes,\n",
    "        fontsize=12, verticalalignment='top', bbox=props\n",
    "    )\n",
    "\n",
    "    # Add a legend and show the plot\n",
    "    # plt.legend()\n",
    "    plt.show()\n",
    "\n",
    "    # Print the values for verification\n",
    "    # print(f\"Values of R_eff are: {R_eff}\")\n",
    "    # print(f\"Values of L_par are: {L_par}\")\n"
   ]
  },
  {
   "cell_type": "code",
   "execution_count": 5,
   "metadata": {},
   "outputs": [],
   "source": [
    "def compare_optimizations(eq,mode_lim=1):\n",
    "    eqfam = EquilibriaFamily(eq)\n",
    "    iota_grid = LinearGrid(\n",
    "        rho=0.5\n",
    "        )\n",
    "    iota = jnp.abs(eq.compute(\"iota\",iota_grid)[\"iota\"][0])\n",
    "    grid = get_field_line_grid(eq,iota,n_pol=16)\n",
    "    eq1 = run_step(mode_lim,eq,grid,target_type=\"mean\")\n",
    "    eq2 = run_step(mode_lim,eq,grid,target_type=\"max\")\n",
    "    eqfam.append(eq1)\n",
    "    eqfam.append(eq2)\n",
    "    plot_Kd(eq);\n",
    "    plot_Kd(eq1);\n",
    "    plot_Kd(eq2);\n",
    "    return eqfam\n"
   ]
  },
  {
   "cell_type": "markdown",
   "metadata": {},
   "source": [
    "## Testing ##"
   ]
  },
  {
   "cell_type": "code",
   "execution_count": 6,
   "metadata": {},
   "outputs": [],
   "source": [
    "eq = get(\"precise_QA\")"
   ]
  },
  {
   "cell_type": "code",
   "execution_count": 7,
   "metadata": {},
   "outputs": [],
   "source": [
    "iota_grid = LinearGrid(\n",
    "    rho=0.5\n",
    ")\n",
    "iota = jnp.abs(eq.compute(\"iota\",iota_grid)[\"iota\"][0])\n",
    "grid = get_field_line_grid(eq,iota,n_pol=16)"
   ]
  },
  {
   "cell_type": "code",
   "execution_count": 11,
   "metadata": {},
   "outputs": [
    {
     "name": "stderr",
     "output_type": "stream",
     "text": [
      "/tmp/ipykernel_1024321/258515040.py:23: DeprecationWarning: vstack requires ndarray or scalar arguments, got <class 'list'> at position 0. In a future JAX release this will be an error.\n",
      "  R_modes = jnp.vstack(\n"
     ]
    },
    {
     "name": "stdout",
     "output_type": "stream",
     "text": [
      "Building objective: Effective radius\n",
      "Precomputing transforms\n",
      "Timer: Precomputing transforms = 310 ms\n",
      "Timer: Objective build = 400 ms\n",
      "Building objective: lcfs R\n",
      "Building objective: lcfs Z\n",
      "Building objective: fixed pressure\n",
      "Building objective: fixed current\n",
      "Building objective: fixed Psi\n",
      "Building objective: self_consistency R\n",
      "Building objective: self_consistency Z\n",
      "Building objective: lambda gauge\n",
      "Building objective: axis R self consistency\n",
      "Building objective: axis Z self consistency\n",
      "Timer: Objective build = 225 ms\n",
      "Building objective: force\n",
      "Precomputing transforms\n",
      "Timer: Precomputing transforms = 56.0 ms\n",
      "Timer: Objective build = 71.9 ms\n",
      "Timer: Linear constraint projection build = 1.84 sec\n",
      "Timer: Linear constraint projection build = 149 ms\n"
     ]
    },
    {
     "name": "stderr",
     "output_type": "stream",
     "text": [
      "/home/jjfrybes/DESC/desc/optimize/optimizer.py:263: UserWarning: method lsq-auglag is not intended for scalar objective function\n",
      "  warnings.warn(\n"
     ]
    },
    {
     "name": "stdout",
     "output_type": "stream",
     "text": [
      "Number of parameters: 864\n",
      "Number of objectives: 1\n",
      "Number of equality constraints: 5346\n",
      "Number of inequality constraints: 0\n",
      "Timer: Initializing the optimization = 2.72 sec\n",
      "\n",
      "Starting optimization\n",
      "Using method: lsq-auglag\n",
      "   Iteration     Total nfev        Cost      Cost reduction    Step norm     Optimality    Constr viol.   Penalty param  max(|mltplr|) \n",
      "       0              1          3.025e+00                                    5.717e+03      2.294e-06      1.000e+01      0.000e+00   \n",
      "       1              2          2.357e+00      6.678e-01      2.824e-03      8.982e+03      3.701e-03      1.000e+01      0.000e+00   \n",
      "       2              3          8.111e-01      1.546e+00      4.941e-03      2.262e+03      1.144e-02      1.000e+01      0.000e+00   \n",
      "       3              4          2.188e-01      5.923e-01      4.985e-02      2.376e+02      8.312e-03      1.000e+01      0.000e+00   \n",
      "       4              6          1.507e-01      6.807e-02      1.001e-02      5.575e+01      9.819e-03      1.000e+01      0.000e+00   \n",
      "       5             10          1.492e-01      1.580e-03      6.091e-04      5.559e+01      9.683e-03      1.000e+01      0.000e+00   \n",
      "       6             12          1.477e-01      1.470e-03      6.212e-04      5.345e+01      9.558e-03      1.000e+01      0.000e+00   \n",
      "       7             14          1.461e-01      1.642e-03      6.287e-04      5.090e+01      9.444e-03      1.000e+01      0.000e+00   \n",
      "       8             17          1.457e-01      3.734e-04      1.577e-04      5.053e+01      9.414e-03      1.000e+01      0.000e+00   \n",
      "       9             19          1.453e-01      3.859e-04      1.582e-04      5.001e+01      9.384e-03      1.000e+01      0.000e+00   \n",
      "      10             21          1.449e-01      3.853e-04      1.587e-04      4.950e+01      9.355e-03      1.000e+01      0.000e+00   \n",
      "Warning: Maximum number of iterations has been exceeded.\n",
      "         Current function value: 1.449e-01\n",
      "         Constraint violation: 9.355e-03\n",
      "         Total delta_x: 6.471e-02\n",
      "         Iterations: 10\n",
      "         Function evaluations: 21\n",
      "         Jacobian evaluations: 10\n",
      "Timer: Solution time = 2.11 min\n",
      "Timer: Avg time per step = 11.5 sec\n",
      "==============================================================================================================\n",
      "                                                                 Start  -->   End\n",
      "Total (sum of squares):                                      3.025e+00  -->   1.449e-01, \n",
      "Maximum absolute Effective radius of curvature R_eff:        2.460e+00  -->   5.384e-01 ~\n",
      "Minimum absolute Effective radius of curvature R_eff:        2.460e+00  -->   5.384e-01 ~\n",
      "Average absolute Effective radius of curvature R_eff:        2.460e+00  -->   5.384e-01 ~\n",
      "Maximum absolute Effective radius of curvature R_eff:        2.460e+00  -->   5.384e-01 (normalized)\n",
      "Minimum absolute Effective radius of curvature R_eff:        2.460e+00  -->   5.384e-01 (normalized)\n",
      "Average absolute Effective radius of curvature R_eff:        2.460e+00  -->   5.384e-01 (normalized)\n",
      "Maximum absolute Force error:                                1.962e+01  -->   2.640e+04 (N)\n",
      "Minimum absolute Force error:                                5.259e-05  -->   1.371e-01 (N)\n",
      "Average absolute Force error:                                5.532e-01  -->   1.920e+03 (N)\n",
      "Maximum absolute Force error:                                1.420e-05  -->   1.910e-02 (normalized)\n",
      "Minimum absolute Force error:                                3.805e-11  -->   9.921e-08 (normalized)\n",
      "Average absolute Force error:                                4.003e-07  -->   1.389e-03 (normalized)\n",
      "R boundary error:                                            0.000e+00  -->   3.881e-18 (m)\n",
      "Z boundary error:                                            0.000e+00  -->   2.181e-19 (m)\n",
      "Fixed pressure profile error:                                0.000e+00  -->   0.000e+00 (Pa)\n",
      "Fixed current profile error:                                 0.000e+00  -->   0.000e+00 (A)\n",
      "Fixed Psi error:                                             0.000e+00  -->   0.000e+00 (Wb)\n",
      "==============================================================================================================\n"
     ]
    }
   ],
   "source": [
    "eq2 = run_step(1,eq,grid)"
   ]
  },
  {
   "cell_type": "code",
   "execution_count": 12,
   "metadata": {},
   "outputs": [
    {
     "data": {
      "image/png": "[encoded data removed]",
      "text/plain": [
       "<Figure size 576x384 with 1 Axes>"
      ]
     },
     "metadata": {},
     "output_type": "display_data"
    }
   ],
   "source": [
    "plot_Kd(eq2)"
   ]
  },
  {
   "cell_type": "code",
   "execution_count": null,
   "metadata": {},
   "outputs": [],
   "source": [
    "eq2 = run_step(1,eq,grid,target_type=\"mean\")"
   ]
  },
  {
   "cell_type": "code",
   "execution_count": null,
   "metadata": {},
   "outputs": [],
   "source": [
    "plot_Kd(eq2)"
   ]
  },
  {
   "cell_type": "code",
   "execution_count": null,
   "metadata": {},
   "outputs": [],
   "source": []
  }
 ],
 "metadata": {
  "kernelspec": {
   "display_name": "desc-env",
   "language": "python",
   "name": "python3"
  },
  "language_info": {
   "codemirror_mode": {
    "name": "ipython",
    "version": 3
   },
   "file_extension": ".py",
   "mimetype": "text/x-python",
   "name": "python",
   "nbconvert_exporter": "python",
   "pygments_lexer": "ipython3",
   "version": "3.12.0"
  }
 },
 "nbformat": 4,
 "nbformat_minor": 2
}
