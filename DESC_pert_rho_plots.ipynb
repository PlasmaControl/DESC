{
 "cells": [
  {
   "cell_type": "code",
   "execution_count": 4,
   "id": "f467cee0-c862-4f3a-90a6-150373dcf870",
   "metadata": {},
   "outputs": [],
   "source": [
    "from netCDF4 import Dataset, stringtochar\n",
    "import numpy as np\n",
    "import matplotlib.pyplot as plt"
   ]
  },
  {
   "cell_type": "code",
   "execution_count": 42,
   "id": "4e75a928-2d7f-4b1d-a790-02652b54b337",
   "metadata": {},
   "outputs": [],
   "source": [
    "def read_nc(path,is_DESC=True):\n",
    "    file = Dataset(path, mode=\"r\")\n",
    "    dat = {}\n",
    "    dat['xm'] = file.variables[\"xm\"][:].filled()\n",
    "    dat['xn'] = file.variables[\"xn\"][:].filled() / 100\n",
    "    dat['xm_nyq'] = file.variables[\"xm_nyq\"][:].filled()\n",
    "    dat['xn_nyq'] = file.variables[\"xn_nyq\"][:].filled() / 100\n",
    "    dat['NFP']=file.variables[\"nfp\"][:].filled()\n",
    "    dat['ns']=file.variables[\"ns\"][:].filled()\n",
    "    dat['rmnc'] = file.variables[\"rmnc\"][:].filled()\n",
    "    dat['zmns'] = file.variables[\"zmns\"][:].filled()\n",
    "    \n",
    "    dat['bsubsmns'] = np.transpose(file.variables[\"bsubsmns\"][:].filled())\n",
    "    dat['bsubumnc'] = np.transpose(file.variables[\"bsubumnc\"][:].filled())\n",
    "    dat['bsubvmnc'] = np.transpose(file.variables[\"bsubvmnc\"][:].filled())\n",
    "    if is_DESC:\n",
    "        dat['currvmnc'] = file.variables[\"currvmnc\"][:].filled()\n",
    "    else:\n",
    "        dat['mnmax_nyq']=file.variables[\"mnmax_nyq\"][:].filled()\n",
    "        \n",
    "    dat['s']=file.variables['phi'][:].filled()\n",
    "    file.close\n",
    "    return dat\n",
    "# either add everything you need or use existing DESC stuff, or go to matlab. either way not worth the time this second.\n",
    "def get_pert_rho(data):\n",
    "    mn11 = np.where(np.logical_and(data['xm']==1, data['xn'] == 1))[0][0]\n",
    "    mn31 = np.where(np.logical_and(data['xm']==3, data['xn'] == 1))[0][0]\n",
    "\n",
    "    drho=0.5*(data['rmnc'][:,mn31]+data['rmnc'][:,mn11]+data['zmns'][:,mn31]-data['zmns'][:,mn11]);\n",
    "    return drho"
   ]
  },
  {
   "cell_type": "code",
   "execution_count": 106,
   "id": "74027357-d97d-420b-8054-224d83ca41b0",
   "metadata": {},
   "outputs": [],
   "source": [
    "## get currumnc and currvmnc\n",
    "dat['mnyq']=np.max(dat['xm_nyq'])\n",
    "dat['nnyq']=np.max(dat['xn_nyq'])\n",
    "# Calculate the Currents\n",
    "dat['mnmax_nyq']=int(dat['mnmax_nyq'])\n",
    "dat['ns']=int(dat['ns'])\n",
    "dat['currumnc']=np.zeros([dat['mnmax_nyq'],dat['ns']])\n",
    "dat['currvmnc']=np.zeros([dat['mnmax_nyq'],dat['ns']])\n",
    "ohs = dat['ns']-1\n",
    "hs  = 1.0/ohs\n",
    "ns = dat['ns']\n",
    "shalf=np.zeros([1,ns])\n",
    "sfull=np.zeros([1,ns])\n",
    "for i in range(1,ns):#for i=2:ns\n",
    "    shalf[0,i] = np.sqrt(hs*(i+1-1.5))\n",
    "    sfull[0,i] = np.sqrt(hs*(i+1-1))\n",
    "\n",
    "js1 = np.arange(2,ns)#3:ns;\n",
    "js  = np.arange(1,ns-1)#2:(ns-1);\n",
    "for mn in range(dat['mnmax_nyq']):#mn = 1:dat['mnmax_nyq']:\n",
    "    if dat['xm_nyq'][mn]==1:#if (f.xm_nyq,2) == 1\n",
    "        #t1  = 0.5.*(shalf(js1).*f.bsubsmns(mn,js1)+...\n",
    "        #    shalf(js).*f.bsubsmns(mn,js))./sfull(js);\n",
    "        t1  = 0.5*(shalf[0,js1]*dat['bsubsmns'][mn,js1]+shalf[0,js]*dat['bsubsmns'][mn,js])/sfull[0,js]\n",
    "        \n",
    "        bu0 =dat['bsubumnc'][mn,js]/shalf[0,js]# f.bsubumnc(mn,js)./shalf(js);\n",
    "        bu1 = dat['bsubumnc'][mn,js1]/shalf[0,js1]#f.bsubumnc(mn,js1)./shalf(js1);\n",
    "        #t2  = ohs.*(bu1-bu0).*sfull(js)+0.25.*(bu0+bu1)./sfull(js);\n",
    "        t2 = ohs * (bu1-bu0)*sfull[0,js] + 0.25 * (bu0+bu1)/sfull[0,js]\n",
    "        bv0 = dat['bsubvmnc'][mn,js]/shalf[0,js]#f.bsubvmnc(mn,js)./shalf(js);\n",
    "        bv1 = dat['bsubvmnc'][mn,js1]/shalf[0,js1]#f.bsubvmnc(mn,js1)./shalf(js1);\n",
    "#         t3  = ohs.*(bv1-bv0).*sfull(js)+0.25.*(bv0+bv1)./sfull(js);\n",
    "        t3 = ohs * (bv1-bv0)*sfull[0,js] + 0.25*(bv0+bv1)/sfull[0,js]\n",
    "    else:\n",
    "#         t1  = 0.5.*(f.bsubsmns(mn,js1)+f.bsubsmns(mn,js));\n",
    "        t1  = 0.5*(dat['bsubsmns'][mn,js1]+dat['bsubsmns'][mn,js])\n",
    "        \n",
    "#         t2  = ohs.*(f.bsubumnc(mn,js1)+f.bsubumnc(mn,js));\n",
    "        t2  = ohs*(dat['bsubumnc'][mn,js1]+dat['bsubumnc'][mn,js])\n",
    "                   \n",
    "#         t3  = ohs.*(f.bsubvmnc(mn,js1)+f.bsubvmnc(mn,js));\n",
    "        t3  = ohs*(dat['bsubvmnc'][mn,js1]+dat['bsubvmnc'][mn,js])\n",
    "        \n",
    "    \n",
    "    dat['currumnc'][mn,js] =-dat['xn_nyq'][mn]*t1-t3 #-double(f.xn_nyq(mn)).*t1 - t3;\n",
    "    dat['currvmnc'][mn,js] = -dat['xn_nyq'][mn]*t1+t2#-double(f.xn_nyq(mn)).*t1 + t2;\n",
    "\n",
    "# % OLD Way\n",
    "# %for i=2:f.ns-1\n",
    "# %    f.currumnc(:,i)=-double(f.xnnyq)'.*f.bsubsmns(:,i)-(f.ns-1).*(f.bsubvmnc(:,i+1)-f.bsubvmnc(:,i));\n",
    "# %    f.currvmnc(:,i)=-double(f.xmnyq)'.*f.bsubsmns(:,i)+(f.ns-1).*(f.bsubumnc(:,i+1)-f.bsubumnc(:,i));\n",
    "# %end\n",
    "# f.currumnc(:,1)=0.0;\n",
    "dat['currumnc'][:,0]=0.0\n",
    "dat['currvmnc'][:,0]=0.0\n",
    "\n",
    "# f.currvmnc(:,1)=0.0;\n",
    "for i in range(dat['mnmax_nyq']):#i=1:f.mnmax_nyq\n",
    "    if dat['xm_nyq'][i]==0:#(f.xm_nyq(i)==0)\n",
    "#         f.currumnc(i,1)=2.*f.currumnc(i,2)-f.currumnc(i,3);\n",
    "        dat['currumnc'][i,1]=2*dat['currumnc'][i,2]-dat['currumnc'][i,3];          \n",
    "        dat['currvmnc'][i,1]=2*(dat['ns']-1)*dat['bsubumnc'][i,2]\n",
    "\n",
    "# f.currumnc(:,f.ns)=2.*f.currumnc(:,f.ns-1)-f.currumnc(:,f.ns-2);\n",
    "dat['currumnc'][:,dat['ns']-1]=2*dat['currumnc'][:,dat['ns']-2]-dat['currumnc'][:,dat['ns']-3]\n",
    "\n",
    "# f.currvmnc(:,f.ns)=2.*f.currvmnc(:,f.ns-1)-f.currvmnc(:,f.ns-2);\n",
    "dat['currvmnc'][:,dat['ns']-1]=2*dat['currvmnc'][:,dat['ns']-2]-dat['currvmnc'][:,dat['ns']-3]\n",
    "mu0 = 4*np.pi * 1e-7\n",
    "dat['currumnc']=dat['currumnc']/mu0\n",
    "dat['currvmnc']=dat['currvmnc']/mu0\n"
   ]
  },
  {
   "cell_type": "code",
   "execution_count": 104,
   "id": "b096d4d2-8eac-405f-8cbd-81d2e7c8419b",
   "metadata": {},
   "outputs": [],
   "source": [
    "\n",
    "path='wout_a100_m10n3s1024_q2.0001.nc'\n",
    "dat = read_nc(path,is_DESC=False)\n",
    "path='wout_a100_m10n3s064_q2.0001.nc'\n",
    "dat2 = read_nc(path,is_DESC=False)\n"
   ]
  },
  {
   "cell_type": "code",
   "execution_count": 77,
   "id": "d1bcf4c7-502f-4355-8972-33f7ace58c01",
   "metadata": {},
   "outputs": [
    {
     "name": "stdout",
     "output_type": "stream",
     "text": [
      "(1022, 1)\n"
     ]
    }
   ],
   "source": [
    "print(np.shape(shalf[js1]))\n"
   ]
  },
  {
   "cell_type": "code",
   "execution_count": 71,
   "id": "b34bd2ae-0cd1-4195-8808-f835972e4673",
   "metadata": {},
   "outputs": [
    {
     "name": "stdout",
     "output_type": "stream",
     "text": [
      "(1022, 1022)\n",
      "()\n"
     ]
    }
   ],
   "source": [
    "print(np.shape(t1))\n",
    "print(np.shape(dat['xn_nyq'][mn]))"
   ]
  },
  {
   "cell_type": "code",
   "execution_count": null,
   "id": "5e65c855-befa-41b6-9a1c-71a051a99980",
   "metadata": {},
   "outputs": [],
   "source": [
    "# import numpy as np\n",
    "# import matplotlib.pyplot as plt\n",
    "# mn11 = np.where(np.logical_and(dat['xm']==1, dat['xn'] == 1))[0][0]\n",
    "# mn31 = np.where(np.logical_and(dat['xm']==3, dat['xn'] == 1))[0][0]\n",
    "\n",
    "# drho=0.5*(dat['rmnc'][:,mn31]+dat['rmnc'][:,mn11]+dat['zmns'][:,mn31]-dat['zmns'][:,mn11]);"
   ]
  },
  {
   "cell_type": "code",
   "execution_count": null,
   "id": "4e549224-8b89-4743-ae34-042baa8e22d1",
   "metadata": {},
   "outputs": [],
   "source": [
    "\n",
    "# mn11_D = np.where(np.logical_and(dat_D['xm']==1, dat_D['xn'] == 1))[0][0]\n",
    "# mn31_D = np.where(np.logical_and(dat_D['xm']==3, dat_D['xn'] == 1))[0][0]\n",
    "\n",
    "# drho_D=0.5*(dat_D['rmnc'][:,mn31_D]+dat_D['rmnc'][:,mn11_D]+dat_D['zmns'][:,mn31_D]-dat_D['zmns'][:,mn11_D]);"
   ]
  },
  {
   "cell_type": "code",
   "execution_count": 16,
   "id": "e5c71524-49de-4f8b-98bc-31da73b7876d",
   "metadata": {},
   "outputs": [
    {
     "data": {
      "text/plain": [
       "(1024,)"
      ]
     },
     "execution_count": 16,
     "metadata": {},
     "output_type": "execute_result"
    }
   ],
   "source": [
    "np.shape(dat['s'])"
   ]
  },
  {
   "cell_type": "code",
   "execution_count": 21,
   "id": "360391fa-2d1a-4ff3-90d3-1c2153ca9c95",
   "metadata": {},
   "outputs": [
    {
     "data": {
      "text/plain": [
       "<matplotlib.legend.Legend at 0x7f2e633f6190>"
      ]
     },
     "execution_count": 21,
     "metadata": {},
     "output_type": "execute_result"
    },
    {
     "data": {
      "image/png": "[encoded data removed]",
      "text/plain": [
       "<Figure size 432x288 with 1 Axes>"
      ]
     },
     "metadata": {
      "needs_background": "light"
     },
     "output_type": "display_data"
    }
   ],
   "source": [
    "plt.figure()\n",
    "drho = get_pert_rho(dat)\n",
    "plt.plot(dat['s']/np.max(dat['s']),drho/np.max(drho),label='VMEC NS=1024')\n",
    "drho = get_pert_rho(dat2)\n",
    "plt.plot(dat2['s']/np.max(dat2['s']),drho/np.max(drho),label='VMEC NS=64')\n",
    "\n",
    "for L in [8,26,32,44]:\n",
    "    path = f'Cyl_laz_NFP100_M10_N3_L{L}_DESC.nc'\n",
    "    dat_D = read_nc(path)\n",
    "    drho_D = get_pert_rho(dat_D)\n",
    "    plt.plot(dat_D['s']/np.max(dat_D['s']),drho_D/np.max(drho_D),'--',label=f'DESC L={L}')\n",
    "\n",
    "plt.ylabel('Perturbed Rho Harmonic normalized amplitude')\n",
    "plt.xlabel('s')\n",
    "plt.legend()\n",
    "# save other L's and see how it changes with inc. L"
   ]
  },
  {
   "cell_type": "code",
   "execution_count": null,
   "id": "25fc72be-97ae-405f-8045-a146f70aeda8",
   "metadata": {},
   "outputs": [],
   "source": [
    "\n",
    "\n",
    "plt.figure()\n",
    "drho = get_pert_rho(dat)\n",
    "plt.plot(dat['s']/np.max(dat['s']),drho/np.max(drho),label='VMEC NS=1024')\n",
    "for L in [44]:#[8,14,20,26,32,38,44]:\n",
    "    path = f'Cyl_laz_NFP100_M10_N3_L{L}_DESC.nc'\n",
    "    dat_D = read_nc(path)\n",
    "    dex = dat_D['xn_nyq'] == 0\n",
    "    dat_D['currvmnc'][:,dex]=0\n",
    "    \n",
    "    plt.plot(dat_D['s']/np.max(dat_D['s']),dat_D['currvmnc'][:,2:])#,label=f'DESC L={L}')\n",
    "\n",
    "plt.ylabel('Non-Axisymmetric Current Density Coefficient Amplitude')\n",
    "plt.xlabel('s')\n",
    "plt.legend()\n",
    "# save other L's and see how it changes with inc. L\n",
    "# not sure if these J are trustworthy tho given prior stuff... only can really trust R,Z\n",
    "# ... but could use them in matlabVMEC to get this stuff again... but in real space\n",
    "# maybe set up in python how to calc these from R,Z originally (but won't get axisym, so maybe just copy Sam)\n",
    "# so it will be using the coeffs basically yea"
   ]
  },
  {
   "cell_type": "code",
   "execution_count": 107,
   "id": "0c3d44fd-924d-449f-a6a3-ac7a3afb5a6a",
   "metadata": {},
   "outputs": [
    {
     "data": {
      "text/plain": [
       "(-2000.0, 2000.0)"
      ]
     },
     "execution_count": 107,
     "metadata": {},
     "output_type": "execute_result"
    },
    {
     "data": {
      "image/png": "[encoded data removed]",
      "text/plain": [
       "<Figure size 432x288 with 1 Axes>"
      ]
     },
     "metadata": {
      "needs_background": "light"
     },
     "output_type": "display_data"
    },
    {
     "data": {
      "image/png": "[encoded data removed]",
      "text/plain": [
       "<Figure size 432x288 with 1 Axes>"
      ]
     },
     "metadata": {
      "needs_background": "light"
     },
     "output_type": "display_data"
    }
   ],
   "source": [
    "plt.figure()\n",
    "dex = np.where(np.logical_and(dat['xm_nyq']==2, dat['xn_nyq'] == 1))[0][0]\n",
    "plt.plot(dat['s']/np.max(dat['s']),dat['currvmnc'][dex,:],label=f'VMEC ns=1024')\n",
    "\n",
    "plt.figure()\n",
    "dex = dat['xn_nyq'] == 0\n",
    "dat['currvmnc'][dex,:]=0\n",
    "plt.plot(dat['s']/np.max(dat['s']),np.transpose(dat['currvmnc'][:,:]),label=f'VMEC ns=1024');\n",
    "plt.ylim([-2000,2000])"
   ]
  },
  {
   "cell_type": "code",
   "execution_count": 92,
   "id": "08617d40-adc2-4989-acab-f634a48d4d7b",
   "metadata": {},
   "outputs": [
    {
     "ename": "ValueError",
     "evalue": "x and y must have same first dimension, but have shapes (128,) and (160,)",
     "output_type": "error",
     "traceback": [
      "\u001b[0;31m---------------------------------------------------------------------------\u001b[0m",
      "\u001b[0;31mValueError\u001b[0m                                Traceback (most recent call last)",
      "\u001b[0;32m/tmp/ipykernel_200/1964005070.py\u001b[0m in \u001b[0;36m<module>\u001b[0;34m\u001b[0m\n\u001b[1;32m      4\u001b[0m \u001b[0mplt\u001b[0m\u001b[0;34m.\u001b[0m\u001b[0mfigure\u001b[0m\u001b[0;34m(\u001b[0m\u001b[0;34m)\u001b[0m\u001b[0;34m\u001b[0m\u001b[0;34m\u001b[0m\u001b[0m\n\u001b[1;32m      5\u001b[0m \u001b[0;34m\u001b[0m\u001b[0m\n\u001b[0;32m----> 6\u001b[0;31m \u001b[0mplt\u001b[0m\u001b[0;34m.\u001b[0m\u001b[0mplot\u001b[0m\u001b[0;34m(\u001b[0m\u001b[0mdat_D\u001b[0m\u001b[0;34m[\u001b[0m\u001b[0;34m's'\u001b[0m\u001b[0;34m]\u001b[0m\u001b[0;34m/\u001b[0m\u001b[0mnp\u001b[0m\u001b[0;34m.\u001b[0m\u001b[0mmax\u001b[0m\u001b[0;34m(\u001b[0m\u001b[0mdat_D\u001b[0m\u001b[0;34m[\u001b[0m\u001b[0;34m's'\u001b[0m\u001b[0;34m]\u001b[0m\u001b[0;34m)\u001b[0m\u001b[0;34m,\u001b[0m\u001b[0mdat_D\u001b[0m\u001b[0;34m[\u001b[0m\u001b[0;34m'currvmnc'\u001b[0m\u001b[0;34m]\u001b[0m\u001b[0;34m[\u001b[0m\u001b[0mdex\u001b[0m\u001b[0;34m,\u001b[0m\u001b[0;34m:\u001b[0m\u001b[0;34m]\u001b[0m\u001b[0;34m,\u001b[0m\u001b[0mlabel\u001b[0m\u001b[0;34m=\u001b[0m\u001b[0;34mf'VMEC ns=1024'\u001b[0m\u001b[0;34m)\u001b[0m\u001b[0;34m\u001b[0m\u001b[0;34m\u001b[0m\u001b[0m\n\u001b[0m\u001b[1;32m      7\u001b[0m \u001b[0;32mfor\u001b[0m \u001b[0mL\u001b[0m \u001b[0;32min\u001b[0m \u001b[0;34m[\u001b[0m\u001b[0;36m44\u001b[0m\u001b[0;34m]\u001b[0m\u001b[0;34m:\u001b[0m\u001b[0;31m#[8,14,20,26,32,38,44]:\u001b[0m\u001b[0;34m\u001b[0m\u001b[0;34m\u001b[0m\u001b[0m\n\u001b[1;32m      8\u001b[0m     \u001b[0mpath\u001b[0m \u001b[0;34m=\u001b[0m \u001b[0;34mf'Cyl_laz_NFP100_M10_N3_L{L}_DESC.nc'\u001b[0m\u001b[0;34m\u001b[0m\u001b[0;34m\u001b[0m\u001b[0m\n",
      "\u001b[0;32m~/.local/lib/python3.8/site-packages/matplotlib/pyplot.py\u001b[0m in \u001b[0;36mplot\u001b[0;34m(scalex, scaley, data, *args, **kwargs)\u001b[0m\n\u001b[1;32m   3017\u001b[0m \u001b[0;34m@\u001b[0m\u001b[0m_copy_docstring_and_deprecators\u001b[0m\u001b[0;34m(\u001b[0m\u001b[0mAxes\u001b[0m\u001b[0;34m.\u001b[0m\u001b[0mplot\u001b[0m\u001b[0;34m)\u001b[0m\u001b[0;34m\u001b[0m\u001b[0;34m\u001b[0m\u001b[0m\n\u001b[1;32m   3018\u001b[0m \u001b[0;32mdef\u001b[0m \u001b[0mplot\u001b[0m\u001b[0;34m(\u001b[0m\u001b[0;34m*\u001b[0m\u001b[0margs\u001b[0m\u001b[0;34m,\u001b[0m \u001b[0mscalex\u001b[0m\u001b[0;34m=\u001b[0m\u001b[0;32mTrue\u001b[0m\u001b[0;34m,\u001b[0m \u001b[0mscaley\u001b[0m\u001b[0;34m=\u001b[0m\u001b[0;32mTrue\u001b[0m\u001b[0;34m,\u001b[0m \u001b[0mdata\u001b[0m\u001b[0;34m=\u001b[0m\u001b[0;32mNone\u001b[0m\u001b[0;34m,\u001b[0m \u001b[0;34m**\u001b[0m\u001b[0mkwargs\u001b[0m\u001b[0;34m)\u001b[0m\u001b[0;34m:\u001b[0m\u001b[0;34m\u001b[0m\u001b[0;34m\u001b[0m\u001b[0m\n\u001b[0;32m-> 3019\u001b[0;31m     return gca().plot(\n\u001b[0m\u001b[1;32m   3020\u001b[0m         \u001b[0;34m*\u001b[0m\u001b[0margs\u001b[0m\u001b[0;34m,\u001b[0m \u001b[0mscalex\u001b[0m\u001b[0;34m=\u001b[0m\u001b[0mscalex\u001b[0m\u001b[0;34m,\u001b[0m \u001b[0mscaley\u001b[0m\u001b[0;34m=\u001b[0m\u001b[0mscaley\u001b[0m\u001b[0;34m,\u001b[0m\u001b[0;34m\u001b[0m\u001b[0;34m\u001b[0m\u001b[0m\n\u001b[1;32m   3021\u001b[0m         **({\"data\": data} if data is not None else {}), **kwargs)\n",
      "\u001b[0;32m~/.local/lib/python3.8/site-packages/matplotlib/axes/_axes.py\u001b[0m in \u001b[0;36mplot\u001b[0;34m(self, scalex, scaley, data, *args, **kwargs)\u001b[0m\n\u001b[1;32m   1603\u001b[0m         \"\"\"\n\u001b[1;32m   1604\u001b[0m         \u001b[0mkwargs\u001b[0m \u001b[0;34m=\u001b[0m \u001b[0mcbook\u001b[0m\u001b[0;34m.\u001b[0m\u001b[0mnormalize_kwargs\u001b[0m\u001b[0;34m(\u001b[0m\u001b[0mkwargs\u001b[0m\u001b[0;34m,\u001b[0m \u001b[0mmlines\u001b[0m\u001b[0;34m.\u001b[0m\u001b[0mLine2D\u001b[0m\u001b[0;34m)\u001b[0m\u001b[0;34m\u001b[0m\u001b[0;34m\u001b[0m\u001b[0m\n\u001b[0;32m-> 1605\u001b[0;31m         \u001b[0mlines\u001b[0m \u001b[0;34m=\u001b[0m \u001b[0;34m[\u001b[0m\u001b[0;34m*\u001b[0m\u001b[0mself\u001b[0m\u001b[0;34m.\u001b[0m\u001b[0m_get_lines\u001b[0m\u001b[0;34m(\u001b[0m\u001b[0;34m*\u001b[0m\u001b[0margs\u001b[0m\u001b[0;34m,\u001b[0m \u001b[0mdata\u001b[0m\u001b[0;34m=\u001b[0m\u001b[0mdata\u001b[0m\u001b[0;34m,\u001b[0m \u001b[0;34m**\u001b[0m\u001b[0mkwargs\u001b[0m\u001b[0;34m)\u001b[0m\u001b[0;34m]\u001b[0m\u001b[0;34m\u001b[0m\u001b[0;34m\u001b[0m\u001b[0m\n\u001b[0m\u001b[1;32m   1606\u001b[0m         \u001b[0;32mfor\u001b[0m \u001b[0mline\u001b[0m \u001b[0;32min\u001b[0m \u001b[0mlines\u001b[0m\u001b[0;34m:\u001b[0m\u001b[0;34m\u001b[0m\u001b[0;34m\u001b[0m\u001b[0m\n\u001b[1;32m   1607\u001b[0m             \u001b[0mself\u001b[0m\u001b[0;34m.\u001b[0m\u001b[0madd_line\u001b[0m\u001b[0;34m(\u001b[0m\u001b[0mline\u001b[0m\u001b[0;34m)\u001b[0m\u001b[0;34m\u001b[0m\u001b[0;34m\u001b[0m\u001b[0m\n",
      "\u001b[0;32m~/.local/lib/python3.8/site-packages/matplotlib/axes/_base.py\u001b[0m in \u001b[0;36m__call__\u001b[0;34m(self, data, *args, **kwargs)\u001b[0m\n\u001b[1;32m    313\u001b[0m                 \u001b[0mthis\u001b[0m \u001b[0;34m+=\u001b[0m \u001b[0margs\u001b[0m\u001b[0;34m[\u001b[0m\u001b[0;36m0\u001b[0m\u001b[0;34m]\u001b[0m\u001b[0;34m,\u001b[0m\u001b[0;34m\u001b[0m\u001b[0;34m\u001b[0m\u001b[0m\n\u001b[1;32m    314\u001b[0m                 \u001b[0margs\u001b[0m \u001b[0;34m=\u001b[0m \u001b[0margs\u001b[0m\u001b[0;34m[\u001b[0m\u001b[0;36m1\u001b[0m\u001b[0;34m:\u001b[0m\u001b[0;34m]\u001b[0m\u001b[0;34m\u001b[0m\u001b[0;34m\u001b[0m\u001b[0m\n\u001b[0;32m--> 315\u001b[0;31m             \u001b[0;32myield\u001b[0m \u001b[0;32mfrom\u001b[0m \u001b[0mself\u001b[0m\u001b[0;34m.\u001b[0m\u001b[0m_plot_args\u001b[0m\u001b[0;34m(\u001b[0m\u001b[0mthis\u001b[0m\u001b[0;34m,\u001b[0m \u001b[0mkwargs\u001b[0m\u001b[0;34m)\u001b[0m\u001b[0;34m\u001b[0m\u001b[0;34m\u001b[0m\u001b[0m\n\u001b[0m\u001b[1;32m    316\u001b[0m \u001b[0;34m\u001b[0m\u001b[0m\n\u001b[1;32m    317\u001b[0m     \u001b[0;32mdef\u001b[0m \u001b[0mget_next_color\u001b[0m\u001b[0;34m(\u001b[0m\u001b[0mself\u001b[0m\u001b[0;34m)\u001b[0m\u001b[0;34m:\u001b[0m\u001b[0;34m\u001b[0m\u001b[0;34m\u001b[0m\u001b[0m\n",
      "\u001b[0;32m~/.local/lib/python3.8/site-packages/matplotlib/axes/_base.py\u001b[0m in \u001b[0;36m_plot_args\u001b[0;34m(self, tup, kwargs, return_kwargs)\u001b[0m\n\u001b[1;32m    499\u001b[0m \u001b[0;34m\u001b[0m\u001b[0m\n\u001b[1;32m    500\u001b[0m         \u001b[0;32mif\u001b[0m \u001b[0mx\u001b[0m\u001b[0;34m.\u001b[0m\u001b[0mshape\u001b[0m\u001b[0;34m[\u001b[0m\u001b[0;36m0\u001b[0m\u001b[0;34m]\u001b[0m \u001b[0;34m!=\u001b[0m \u001b[0my\u001b[0m\u001b[0;34m.\u001b[0m\u001b[0mshape\u001b[0m\u001b[0;34m[\u001b[0m\u001b[0;36m0\u001b[0m\u001b[0;34m]\u001b[0m\u001b[0;34m:\u001b[0m\u001b[0;34m\u001b[0m\u001b[0;34m\u001b[0m\u001b[0m\n\u001b[0;32m--> 501\u001b[0;31m             raise ValueError(f\"x and y must have same first dimension, but \"\n\u001b[0m\u001b[1;32m    502\u001b[0m                              f\"have shapes {x.shape} and {y.shape}\")\n\u001b[1;32m    503\u001b[0m         \u001b[0;32mif\u001b[0m \u001b[0mx\u001b[0m\u001b[0;34m.\u001b[0m\u001b[0mndim\u001b[0m \u001b[0;34m>\u001b[0m \u001b[0;36m2\u001b[0m \u001b[0;32mor\u001b[0m \u001b[0my\u001b[0m\u001b[0;34m.\u001b[0m\u001b[0mndim\u001b[0m \u001b[0;34m>\u001b[0m \u001b[0;36m2\u001b[0m\u001b[0;34m:\u001b[0m\u001b[0;34m\u001b[0m\u001b[0;34m\u001b[0m\u001b[0m\n",
      "\u001b[0;31mValueError\u001b[0m: x and y must have same first dimension, but have shapes (128,) and (160,)"
     ]
    },
    {
     "data": {
      "image/png": "[encoded data removed]",
      "text/plain": [
       "<Figure size 432x288 with 1 Axes>"
      ]
     },
     "metadata": {
      "needs_background": "light"
     },
     "output_type": "display_data"
    }
   ],
   "source": [
    "# current non axisymmetric\n",
    "dex = np.where(np.logical_and(dat['xm_nyq']==2, dat['xn_nyq'] == 1))[0][0]\n",
    "\n",
    "plt.figure()\n",
    "\n",
    "plt.plot(dat_D['s']/np.max(dat_D['s']),dat_D['currvmnc'][dex,:],label=f'VMEC ns=1024')\n",
    "for L in [44]:#[8,14,20,26,32,38,44]:\n",
    "    path = f'Cyl_laz_NFP100_M10_N3_L{L}_DESC.nc'\n",
    "    dat_D = read_nc(path)\n",
    "    dex = np.where(np.logical_and(dat_D['xm_nyq']==2, dat_D['xn_nyq'] == 1))[0][0]\n",
    "    dat_D['currvmnc'][:,dex]=0\n",
    "    \n",
    "    plt.plot(dat_D['s']/np.max(dat_D['s']),dat_D['currvmnc'][:,2:])#,label=f'DESC L={L}')\n",
    "\n",
    "plt.ylabel('Non-Axisymmetric Current Density Coefficient Amplitude')\n",
    "plt.xlabel('s')\n",
    "plt.legend()\n",
    "# save other L's and see how it changes with inc. L\n",
    "# not sure if these J are trustworthy tho given prior stuff... only can really trust R,Z\n",
    "# ... but could use them in matlabVMEC to get this stuff again... but in real space\n",
    "# maybe set up in python how to calc these from R,Z originally (but won't get axisym, so maybe just copy Sam)\n",
    "# so it will be using the coeffs basically yea"
   ]
  },
  {
   "cell_type": "code",
   "execution_count": 91,
   "id": "f9ba8ea3-c261-4c28-ae88-847edd8be11f",
   "metadata": {},
   "outputs": [
    {
     "name": "stdout",
     "output_type": "stream",
     "text": [
      "ind = 0 m = 0.0 n = 0.0 currumnc = 0.0\n",
      "ind = 1 m = 0.0 n = 1.0 currumnc = 1e-06\n",
      "ind = 2 m = 0.0 n = 2.0 currumnc = -3.2e-05\n",
      "ind = 3 m = 0.0 n = 3.0 currumnc = -2.9e-05\n",
      "ind = 4 m = 1.0 n = -3.0 currumnc = -7e-06\n",
      "ind = 5 m = 1.0 n = -2.0 currumnc = 2e-05\n",
      "ind = 6 m = 1.0 n = -1.0 currumnc = -9.2e-05\n",
      "ind = 7 m = 1.0 n = 0.0 currumnc = 0.000166\n",
      "ind = 8 m = 1.0 n = 1.0 currumnc = 0.000272\n",
      "ind = 9 m = 1.0 n = 2.0 currumnc = -0.000269\n",
      "ind = 10 m = 1.0 n = 3.0 currumnc = -7.3e-05\n",
      "ind = 11 m = 2.0 n = -3.0 currumnc = -8e-05\n",
      "ind = 12 m = 2.0 n = -2.0 currumnc = -0.00018\n",
      "ind = 13 m = 2.0 n = -1.0 currumnc = 7.2e-05\n",
      "ind = 14 m = 2.0 n = 0.0 currumnc = 0.000177\n",
      "ind = 15 m = 2.0 n = 1.0 currumnc = 0.000179\n",
      "ind = 16 m = 2.0 n = 2.0 currumnc = -0.000314\n",
      "ind = 17 m = 2.0 n = 3.0 currumnc = -6.3e-05\n",
      "ind = 18 m = 3.0 n = -3.0 currumnc = 0.000301\n",
      "ind = 19 m = 3.0 n = -2.0 currumnc = -0.000363\n",
      "ind = 20 m = 3.0 n = -1.0 currumnc = -0.000296\n",
      "ind = 21 m = 3.0 n = 0.0 currumnc = 0.000427\n",
      "ind = 22 m = 3.0 n = 1.0 currumnc = 5.5e-05\n",
      "ind = 23 m = 3.0 n = 2.0 currumnc = -1.2e-05\n",
      "ind = 24 m = 3.0 n = 3.0 currumnc = -0.000158\n",
      "ind = 25 m = 4.0 n = -3.0 currumnc = -0.000334\n",
      "ind = 26 m = 4.0 n = -2.0 currumnc = 0.000611\n",
      "ind = 27 m = 4.0 n = -1.0 currumnc = -0.000133\n",
      "ind = 28 m = 4.0 n = 0.0 currumnc = -0.000312\n",
      "ind = 29 m = 4.0 n = 1.0 currumnc = 0.000283\n",
      "ind = 30 m = 4.0 n = 2.0 currumnc = -5.5e-05\n",
      "ind = 31 m = 4.0 n = 3.0 currumnc = 5.3e-05\n",
      "ind = 32 m = 5.0 n = -3.0 currumnc = 2.4e-05\n",
      "ind = 33 m = 5.0 n = -2.0 currumnc = -0.000167\n",
      "ind = 34 m = 5.0 n = -1.0 currumnc = -0.000388\n",
      "ind = 35 m = 5.0 n = 0.0 currumnc = -0.000123\n",
      "ind = 36 m = 5.0 n = 1.0 currumnc = -0.000281\n",
      "ind = 37 m = 5.0 n = 2.0 currumnc = 0.000158\n",
      "ind = 38 m = 5.0 n = 3.0 currumnc = 0.00075\n",
      "ind = 39 m = 6.0 n = -3.0 currumnc = 0.000211\n",
      "ind = 40 m = 6.0 n = -2.0 currumnc = -0.000596\n",
      "ind = 41 m = 6.0 n = -1.0 currumnc = 8.5e-05\n",
      "ind = 42 m = 6.0 n = 0.0 currumnc = 0.00047\n",
      "ind = 43 m = 6.0 n = 1.0 currumnc = 0.00036\n",
      "ind = 44 m = 6.0 n = 2.0 currumnc = 0.000164\n",
      "ind = 45 m = 6.0 n = 3.0 currumnc = -0.00087\n",
      "ind = 46 m = 7.0 n = -3.0 currumnc = -0.000277\n",
      "ind = 47 m = 7.0 n = -2.0 currumnc = 0.000407\n",
      "ind = 48 m = 7.0 n = -1.0 currumnc = -0.000115\n",
      "ind = 49 m = 7.0 n = 0.0 currumnc = 0.000875\n",
      "ind = 50 m = 7.0 n = 1.0 currumnc = 1.2e-05\n",
      "ind = 51 m = 7.0 n = 2.0 currumnc = -0.0008\n",
      "ind = 52 m = 7.0 n = 3.0 currumnc = -0.000614\n",
      "ind = 53 m = 8.0 n = -3.0 currumnc = -0.000422\n",
      "ind = 54 m = 8.0 n = -2.0 currumnc = 0.000355\n",
      "ind = 55 m = 8.0 n = -1.0 currumnc = 0.000211\n",
      "ind = 56 m = 8.0 n = 0.0 currumnc = 0.000346\n",
      "ind = 57 m = 8.0 n = 1.0 currumnc = 0.000623\n",
      "ind = 58 m = 8.0 n = 2.0 currumnc = -0.000529\n",
      "ind = 59 m = 8.0 n = 3.0 currumnc = -0.000783\n",
      "ind = 60 m = 9.0 n = -3.0 currumnc = 0.000443\n",
      "ind = 61 m = 9.0 n = -2.0 currumnc = -0.000177\n",
      "ind = 62 m = 9.0 n = -1.0 currumnc = -0.000345\n",
      "ind = 63 m = 9.0 n = 0.0 currumnc = 0.001496\n",
      "ind = 64 m = 9.0 n = 1.0 currumnc = 0.000641\n",
      "ind = 65 m = 9.0 n = 2.0 currumnc = -0.00243\n",
      "ind = 66 m = 9.0 n = 3.0 currumnc = -0.000548\n"
     ]
    }
   ],
   "source": [
    "# mn11 = np.where(np.logical_and(dat['xm_nyq']==1, data['xn_nyq'] == 1))[0][0]\n",
    "mn21 = np.where(np.logical_and(dat['xm_nyq']==2, data['xn_nyq'] == 1))[0][0]\n",
    "dex = dat['xn_nyq'] == 0\n",
    "\n",
    "dat[\"currumnc\"][dex,:]=0\n",
    "for i in range(len(dat['xn_nyq'])):\n",
    "    m=dat['xm_nyq'][i]\n",
    "    n=dat['xn_nyq'][i]\n",
    "    print(f'ind = {i} m = {m} n = {n} currumnc = {round(dat[\"currumnc\"][-10,i],6)}')"
   ]
  },
  {
   "cell_type": "code",
   "execution_count": null,
   "id": "57c48fe6-46fc-4691-a3e7-f72ea72dfcdf",
   "metadata": {},
   "outputs": [],
   "source": [
    "# what else? how to compare the nonaxisymmetric current density, which should show a spike? since J parallel does not show it"
   ]
  },
  {
   "cell_type": "code",
   "execution_count": 85,
   "id": "07b9708c-48bd-46dd-a64f-07f4ca6b6b50",
   "metadata": {},
   "outputs": [
    {
     "data": {
      "text/plain": [
       "(67, 1024)"
      ]
     },
     "execution_count": 85,
     "metadata": {},
     "output_type": "execute_result"
    }
   ],
   "source": [
    "np.shape(dat['currumnc'])"
   ]
  },
  {
   "cell_type": "code",
   "execution_count": null,
   "id": "92736b52-dfb3-44ae-9d30-a85cb618323e",
   "metadata": {},
   "outputs": [],
   "source": []
  }
 ],
 "metadata": {
  "kernelspec": {
   "display_name": "Python 3 (ipykernel)",
   "language": "python",
   "name": "python3"
  },
  "language_info": {
   "codemirror_mode": {
    "name": "ipython",
    "version": 3
   },
   "file_extension": ".py",
   "mimetype": "text/x-python",
   "name": "python",
   "nbconvert_exporter": "python",
   "pygments_lexer": "ipython3",
   "version": "3.8.5"
  }
 },
 "nbformat": 4,
 "nbformat_minor": 5
}
