{
 "cells": [
  {
   "cell_type": "markdown",
   "metadata": {},
   "source": [
    "# Bootstrap Current Self-Consistency"
   ]
  },
  {
   "cell_type": "markdown",
   "metadata": {},
   "source": [
    "This tutorial demonstrates how to optimize a quasi-symmetric equilibrium to have a self-consistent bootstrap current profile. \n",
    "This is performed by minimizing the difference between the toroidal currents $\\langle J \\cdot B \\rangle$ computed from the MHD equilibrium and from the Redl formula. \n",
    "The Redl formula is only valid in the limit of perfect quasi-symmetry, so this procedure will not work for other configurations that are not quasi-symmetric. \n",
    "\n",
    "There are two methods that can be used, and both will be shown: \n",
    "\n",
    "1. Optimize the current profile for self-consistency\n",
    "2. Iteratively solve the equilibrium with new current profiles\n",
    "\n",
    "These methods should be equivalent, although one might be faster than the other depending on the particular problem. "
   ]
  },
  {
   "cell_type": "code",
   "execution_count": 1,
   "metadata": {},
   "outputs": [],
   "source": [
    "import sys\n",
    "import os\n",
    "\n",
    "sys.path.insert(0, os.path.abspath(\".\"))\n",
    "sys.path.append(os.path.abspath(\"../../../\"))"
   ]
  },
  {
   "cell_type": "markdown",
   "metadata": {},
   "source": [
    "If you have access to a GPU, uncomment the following two lines before any DESC or JAX related imports. You should see about an order of magnitude speed improvement with only these two lines of code!"
   ]
  },
  {
   "cell_type": "code",
   "execution_count": 2,
   "metadata": {},
   "outputs": [],
   "source": [
    "# from desc import set_device\n",
    "# set_device(\"gpu\")"
   ]
  },
  {
   "cell_type": "markdown",
   "metadata": {},
   "source": [
    "As mentioned in [DESC Documentation on performance tips](https://desc-docs.readthedocs.io/en/latest/performance_tips.html), one can use compilation cache directory to reduce the compilation overhead time. Note: One needs to create `jax-caches` folder manually."
   ]
  },
  {
   "cell_type": "code",
   "execution_count": null,
   "metadata": {},
   "outputs": [],
   "source": [
    "# import jax\n",
    "\n",
    "# jax.config.update(\"jax_compilation_cache_dir\", \"../jax-caches\")\n",
    "# jax.config.update(\"jax_persistent_cache_min_entry_size_bytes\", -1)\n",
    "# jax.config.update(\"jax_persistent_cache_min_compile_time_secs\", 0)"
   ]
  },
  {
   "cell_type": "code",
   "execution_count": 3,
   "metadata": {},
   "outputs": [
    {
     "name": "stderr",
     "output_type": "stream",
     "text": [
      "An NVIDIA GPU may be present on this machine, but a CUDA-enabled jaxlib is not installed. Falling back to cpu.\n"
     ]
    },
    {
     "name": "stdout",
     "output_type": "stream",
     "text": [
      "DESC version 0.13.0+702.ge6b8a02dc.dirty,using JAX backend, jax version=0.4.33, jaxlib version=0.4.33, dtype=float64\n",
      "Using device: CPU, with 48.53 GB available memory\n"
     ]
    }
   ],
   "source": [
    "import numpy as np\n",
    "\n",
    "np.set_printoptions(linewidth=np.inf)\n",
    "import matplotlib.pyplot as plt\n",
    "\n",
    "plt.rcParams[\"font.size\"] = 14\n",
    "\n",
    "from desc.compat import rescale\n",
    "from desc.equilibrium import EquilibriaFamily\n",
    "from desc.examples import get\n",
    "from desc.grid import LinearGrid\n",
    "from desc.objectives import (\n",
    "    BootstrapRedlConsistency,\n",
    "    FixAtomicNumber,\n",
    "    FixBoundaryR,\n",
    "    FixBoundaryZ,\n",
    "    FixCurrent,\n",
    "    FixElectronDensity,\n",
    "    FixElectronTemperature,\n",
    "    FixIonTemperature,\n",
    "    FixPsi,\n",
    "    ForceBalance,\n",
    "    ObjectiveFunction,\n",
    ")\n",
    "from desc.plotting import plot_1d\n",
    "from desc.profiles import PowerSeriesProfile"
   ]
  },
  {
   "cell_type": "markdown",
   "metadata": {},
   "source": [
    "As an example, we will reproduce the QA results from [Landreman et al. (2022)](https://doi.org/10.1063/5.0098166). \n",
    "\n",
    "We will start with the \"precise QA\" example equilibrium, scaled to the ARIES-CS reactor size. "
   ]
  },
  {
   "cell_type": "code",
   "execution_count": 4,
   "metadata": {},
   "outputs": [],
   "source": [
    "eq0 = get(\"precise_QA\")\n",
    "eq0 = rescale(eq0, L=(\"R0\", 10), B=(\"B0\", 5.86))"
   ]
  },
  {
   "cell_type": "markdown",
   "metadata": {},
   "source": [
    "This equilibrium has the vacuum profiles $p = 0 ~\\text{Pa}$ and $\\frac{2\\pi}{\\mu_0} I = 0 ~\\text{A}$. \n",
    "Calculating the bootstrap current requires knowledge of the temperature and density profiles for each species in the plasma. \n",
    "We replace the pressure profile with the following kinetic profiles corresponding to $\\langle\\beta\\rangle=2.5\\%$: \n",
    "\n",
    "$n_e = n_i = 2.38\\times10^{20} (1 - \\rho^{10}) ~\\text{m}^{-3}$\n",
    "\n",
    "$T_e = T_i = 9.45\\times10^{3} (1 - \\rho^{2}) ~\\text{eV}$\n",
    "\n",
    "The temperature profiles must be given for both ions and electrons, but only the electron density profile is specified. \n",
    "The ion density profile is given by the effective atomic number $Z_{eff}$ as $n_i = n_e / Z_{eff}$. \n",
    "The plasma pressure will then be computed as \n",
    "\n",
    "$p = e (n_e T_e + n_i T_i)$."
   ]
  },
  {
   "cell_type": "code",
   "execution_count": 5,
   "metadata": {},
   "outputs": [],
   "source": [
    "eq0.pressure = None  # must remove the pressure profile before setting kinetic profiles\n",
    "eq0.atomic_number = PowerSeriesProfile([1])\n",
    "eq0.electron_density = PowerSeriesProfile(params=[1, -1], modes=[0, 10]) * 2.38e20\n",
    "eq0.electron_temperature = PowerSeriesProfile(params=[1, -1], modes=[0, 2]) * 9.45e3\n",
    "eq0.ion_temperature = PowerSeriesProfile(params=[1, -1], modes=[0, 2]) * 9.45e3\n",
    "# the existing current profile is the vacuum case eq0.current = PowerSeriesProfile([0])"
   ]
  },
  {
   "cell_type": "markdown",
   "metadata": {},
   "source": [
    "We need to re-solve the equilibrium force balance with the new profiles. "
   ]
  },
  {
   "cell_type": "code",
   "execution_count": 6,
   "metadata": {},
   "outputs": [
    {
     "name": "stdout",
     "output_type": "stream",
     "text": [
      "Building objective: force\n",
      "Precomputing transforms\n",
      "Timer: Precomputing transforms = 552 ms\n",
      "Timer: Objective build = 1.39 sec\n",
      "Building objective: lcfs R\n",
      "Building objective: lcfs Z\n",
      "Building objective: fixed Psi\n",
      "Building objective: fixed current\n",
      "Building objective: fixed electron density\n",
      "Building objective: fixed electron temperature\n",
      "Building objective: fixed ion temperature\n",
      "Building objective: fixed atomic number\n",
      "Building objective: fixed sheet current\n",
      "Building objective: self_consistency R\n",
      "Building objective: self_consistency Z\n",
      "Building objective: lambda gauge\n",
      "Building objective: axis R self consistency\n",
      "Building objective: axis Z self consistency\n",
      "Timer: Objective build = 872 ms\n",
      "Timer: Linear constraint projection build = 5.06 sec\n",
      "Number of parameters: 856\n",
      "Number of objectives: 5346\n",
      "Timer: Initializing the optimization = 7.37 sec\n",
      "\n",
      "Starting optimization\n",
      "Using method: lsq-exact\n",
      "   Iteration     Total nfev        Cost      Cost reduction    Step norm     Optimality   \n",
      "       0              1          8.133e-03                                    4.417e-02   \n",
      "       1              4          5.389e-04      7.594e-03      9.344e-02      1.577e-02   \n",
      "       2              5          1.230e-04      4.159e-04      1.292e-01      7.423e-03   \n",
      "       3              7          5.177e-05      7.123e-05      9.991e-02      5.108e-03   \n",
      "       4              8          1.029e-05      4.148e-05      8.118e-02      1.355e-03   \n",
      "       5             10          1.955e-06      8.335e-06      3.413e-02      3.363e-04   \n",
      "       6             12          1.040e-06      9.146e-07      1.924e-02      2.155e-04   \n",
      "       7             14          8.142e-07      2.259e-07      8.804e-03      7.844e-05   \n",
      "       8             15          7.655e-07      4.865e-08      1.597e-02      9.577e-05   \n",
      "       9             16          6.887e-07      7.684e-08      1.585e-02      1.683e-04   \n",
      "      10             17          6.137e-07      7.495e-08      1.630e-02      1.110e-04   \n",
      "      11             18          5.330e-07      8.071e-08      1.683e-02      1.205e-04   \n",
      "      12             19          4.294e-07      1.036e-07      1.729e-02      9.057e-05   \n",
      "      13             21          3.795e-07      4.991e-08      8.852e-03      2.436e-05   \n",
      "      14             22          3.550e-07      2.456e-08      1.724e-02      8.022e-05   \n",
      "      15             23          3.160e-07      3.896e-08      1.711e-02      8.099e-05   \n",
      "      16             24          2.829e-07      3.305e-08      1.708e-02      8.322e-05   \n",
      "      17             25          2.548e-07      2.815e-08      1.704e-02      8.526e-05   \n",
      "      18             26          2.313e-07      2.349e-08      1.700e-02      8.822e-05   \n",
      "      19             27          2.121e-07      1.921e-08      1.696e-02      9.137e-05   \n",
      "      20             28          1.967e-07      1.544e-08      1.692e-02      9.341e-05   \n",
      "      21             29          1.841e-07      1.254e-08      1.683e-02      9.284e-05   \n",
      "      22             30          1.736e-07      1.047e-08      1.665e-02      8.847e-05   \n",
      "      23             31          1.648e-07      8.820e-09      1.633e-02      7.896e-05   \n",
      "      24             32          1.579e-07      6.903e-09      1.573e-02      6.173e-05   \n",
      "      25             33          1.546e-07      3.286e-09      1.478e-02      4.372e-05   \n",
      "      26             34          1.434e-07      1.127e-08      3.668e-03      2.439e-06   \n",
      "      27             35          1.433e-07      1.202e-10      6.968e-03      1.317e-05   \n",
      "      28             36          1.420e-07      1.261e-09      1.766e-03      7.229e-07   \n",
      "Optimization terminated successfully.\n",
      "`ftol` condition satisfied.\n",
      "         Current function value: 1.420e-07\n",
      "         Total delta_x: 5.309e-01\n",
      "         Iterations: 28\n",
      "         Function evaluations: 36\n",
      "         Jacobian evaluations: 29\n",
      "Timer: Solution time = 1.33 min\n",
      "Timer: Avg time per step = 2.76 sec\n",
      "==============================================================================================================\n",
      "                                                                 Start  -->   End\n",
      "Total (sum of squares):                                      8.133e-03  -->   1.420e-07, \n",
      "Maximum absolute Force error:                                6.965e+07  -->   5.438e+05 (N)\n",
      "Minimum absolute Force error:                                2.392e-01  -->   5.723e+00 (N)\n",
      "Average absolute Force error:                                5.326e+06  -->   3.297e+04 (N)\n",
      "Maximum absolute Force error:                                1.576e-02  -->   1.230e-04 (normalized)\n",
      "Minimum absolute Force error:                                5.413e-11  -->   1.295e-09 (normalized)\n",
      "Average absolute Force error:                                1.205e-03  -->   7.460e-06 (normalized)\n",
      "R boundary error:                                            0.000e+00  -->   1.807e-15 (m)\n",
      "Z boundary error:                                            0.000e+00  -->   3.294e-16 (m)\n",
      "Fixed Psi error:                                             0.000e+00  -->   0.000e+00 (Wb)\n",
      "Fixed current profile error:                                 0.000e+00  -->   0.000e+00 (A)\n",
      "Fixed electron density profile error:                        0.000e+00  -->   0.000e+00 (m^-3)\n",
      "Fixed electron temperature profile error:                    0.000e+00  -->   0.000e+00 (eV)\n",
      "Fixed ion temperature profile error:                         0.000e+00  -->   0.000e+00 (eV)\n",
      "Fixed atomic number profile error:                           0.000e+00  -->   0.000e+00 (dimensionless)\n",
      "Fixed sheet current error:                                   0.000e+00  -->   0.000e+00 (~)\n",
      "==============================================================================================================\n"
     ]
    }
   ],
   "source": [
    "eq0, _ = eq0.solve(objective=\"force\", optimizer=\"lsq-exact\", verbose=3)"
   ]
  },
  {
   "cell_type": "markdown",
   "metadata": {},
   "source": [
    "Now we have our initial equilibrium, which does not have a self-consistent bootstrap current: "
   ]
  },
  {
   "cell_type": "code",
   "execution_count": 7,
   "metadata": {},
   "outputs": [
    {
     "data": {
      "image/png": "[encoded data removed]",
      "text/plain": [
       "<Figure size 383.879x383.879 with 1 Axes>"
      ]
     },
     "metadata": {},
     "output_type": "display_data"
    }
   ],
   "source": [
    "fig, ax = plot_1d(eq0, \"<J*B> Redl\", linecolor=\"b\", lw=2, label=\"Redl\")\n",
    "fig, ax = plot_1d(eq0, \"<J*B>\", linecolor=\"r\", lw=2, label=\"MHD\", ax=ax)\n",
    "ax.legend(loc=\"best\")\n",
    "ax.set_title(\"Initial Equilibrium\")"
   ]
  },
  {
   "cell_type": "markdown",
   "metadata": {},
   "source": [
    "We need to create a grid on which to evaluate the boootstrap current self-consistency. \n",
    "The bootstrap current is a radial profile, but the grid must have finite poloidal and toroidal resolution to accurately compute flux surface quantities. \n",
    "The Redl formula is undefined where the kinetic profiles vanish, so in our example we do not include points at $\\rho=0$ or $\\rho=1$. "
   ]
  },
  {
   "cell_type": "code",
   "execution_count": 8,
   "metadata": {},
   "outputs": [],
   "source": [
    "grid = LinearGrid(\n",
    "    M=eq0.M_grid,\n",
    "    N=eq0.N_grid,\n",
    "    NFP=eq0.NFP,\n",
    "    sym=eq0.sym,\n",
    "    rho=np.linspace(1 / eq0.L_grid, 1, eq0.L_grid) - 1 / (2 * eq0.L_grid),\n",
    ")"
   ]
  },
  {
   "cell_type": "markdown",
   "metadata": {},
   "source": [
    "Our current profile will be represented as a power series of the form: \n",
    "\n",
    "$I = c_0 + c_1 \\rho + c_2 \\rho^2 + \\mathcal{O}(\\rho^3)$\n",
    "\n",
    "Physically, the current should vanish on the magnetic axis so $c_0 = 0$. \n",
    "And in order for the MHD equilibrium to be analytic, it should scale as $\\mathcal{O}(\\rho^2)$ near the magnetic axis so $c_1 = 0$ also. \n",
    "However, the Redl bootstrap current formula scales as $\\mathcal{O}(\\sqrt{\\rho})$ near the magnetic axis. \n",
    "This is incorrect, because the drift-kinetic equation from the Redl formula does not account for finite orbit width effects that become important near the axis. \n",
    "\n",
    "Typically, we use even power series with `sym=True` for all equilibrium profiles to give the desired analycity conditions. \n",
    "For bootstrap current optimizations, it is recommended to use the full power series with `sym=False` while also enforcing $c_0 = c_1 = 0$. \n",
    "This prevents getting good self-consistency near the magnetic axis, but allows for good agreement throughout the rest of the plasma volume and results in high quality equilibria overall. \n"
   ]
  },
  {
   "cell_type": "code",
   "execution_count": 9,
   "metadata": {},
   "outputs": [],
   "source": [
    "eq0.current = PowerSeriesProfile(np.zeros((eq0.L + 1,)), sym=False)"
   ]
  },
  {
   "cell_type": "markdown",
   "metadata": {},
   "source": [
    "### 1. Optimization"
   ]
  },
  {
   "cell_type": "markdown",
   "metadata": {},
   "source": [
    "In this method, we will optimize the current profile to minimize the self-consistency errors evaluated by the `BootstrapRedlConsistency` objective. \n",
    "This objective requires the helicity, which for QA is $(M, N) = (1, 0)$. \n",
    "\n",
    "In this example we will only optimize the current profile, so all other profiles and the plasma boundary are constrained to be fixed. \n",
    "It is recommended to use a very small value for `gtol` when optimizing the bootstrap current. "
   ]
  },
  {
   "cell_type": "code",
   "execution_count": 10,
   "metadata": {},
   "outputs": [],
   "source": [
    "eq1 = eq0.copy()"
   ]
  },
  {
   "cell_type": "code",
   "execution_count": 11,
   "metadata": {},
   "outputs": [
    {
     "name": "stdout",
     "output_type": "stream",
     "text": [
      "Building objective: Bootstrap current self-consistency (Redl)\n",
      "Precomputing transforms\n",
      "Timer: Precomputing transforms = 842 ms\n",
      "Timer: Objective build = 1.53 sec\n",
      "Building objective: force\n",
      "Precomputing transforms\n",
      "Timer: Precomputing transforms = 59.3 ms\n",
      "Timer: Objective build = 83.9 ms\n",
      "Timer: Proximal projection build = 6.72 sec\n",
      "Building objective: fixed atomic number\n",
      "Building objective: lcfs R\n",
      "Building objective: lcfs Z\n",
      "Building objective: fixed current\n",
      "Building objective: fixed electron density\n",
      "Building objective: fixed electron temperature\n",
      "Building objective: fixed ion temperature\n",
      "Building objective: fixed Psi\n",
      "Timer: Objective build = 262 ms\n",
      "Timer: Linear constraint projection build = 2.79 sec\n",
      "Number of parameters: 7\n",
      "Number of objectives: 16\n",
      "Timer: Initializing the optimization = 9.83 sec\n",
      "\n",
      "Starting optimization\n",
      "Using method: proximal-lsq-exact\n",
      "   Iteration     Total nfev        Cost      Cost reduction    Step norm     Optimality   \n",
      "       0              1          1.135e-02                                    1.416e-01   \n",
      "       1              2          3.300e-05      1.132e-02      1.753e+07      6.683e-03   \n",
      "       2              3          1.268e-06      3.173e-05      3.493e+07      6.175e-04   \n",
      "       3              4          8.387e-07      4.289e-07      6.939e+07      4.352e-04   \n",
      "       4              5          7.104e-07      1.283e-07      2.068e+07      1.602e-04   \n",
      "       5              6          6.900e-07      2.039e-08      1.932e+06      8.287e-05   \n",
      "       6              7          6.831e-07      6.911e-09      6.306e+05      3.310e-05   \n",
      "       7              8          6.803e-07      2.763e-09      9.909e+05      2.269e-05   \n",
      "Optimization terminated successfully.\n",
      "`ftol` condition satisfied.\n",
      "         Current function value: 6.803e-07\n",
      "         Total delta_x: 1.305e+08\n",
      "         Iterations: 7\n",
      "         Function evaluations: 8\n",
      "         Jacobian evaluations: 8\n",
      "Timer: Solution time = 2.49 min\n",
      "Timer: Avg time per step = 18.6 sec\n",
      "==============================================================================================================\n",
      "                                                                 Start  -->   End\n",
      "Total (sum of squares):                                      1.135e-02  -->   6.803e-07, \n",
      "Maximum absolute Bootstrap current self-consistency error:   2.861e+06  -->   3.816e+04 (T A m^-2)\n",
      "Minimum absolute Bootstrap current self-consistency error:   1.687e+05  -->   3.592e+03 (T A m^-2)\n",
      "Average absolute Bootstrap current self-consistency error:   1.804e+06  -->   1.237e+04 (T A m^-2)\n",
      "Maximum absolute Bootstrap current self-consistency error:   2.143e-01  -->   2.858e-03 (normalized)\n",
      "Minimum absolute Bootstrap current self-consistency error:   1.263e-02  -->   2.690e-04 (normalized)\n",
      "Average absolute Bootstrap current self-consistency error:   1.351e-01  -->   9.267e-04 (normalized)\n",
      "Fixed atomic number profile error:                           0.000e+00  -->   0.000e+00 (dimensionless)\n",
      "R boundary error:                                            0.000e+00  -->   1.752e-18 (m)\n",
      "Z boundary error:                                            0.000e+00  -->   2.173e-19 (m)\n",
      "Fixed current profile error:                                 0.000e+00  -->   0.000e+00 (A)\n",
      "Fixed electron density profile error:                        0.000e+00  -->   0.000e+00 (m^-3)\n",
      "Fixed electron temperature profile error:                    0.000e+00  -->   0.000e+00 (eV)\n",
      "Fixed ion temperature profile error:                         0.000e+00  -->   0.000e+00 (eV)\n",
      "Fixed Psi error:                                             0.000e+00  -->   0.000e+00 (Wb)\n",
      "Maximum absolute Force error:                                5.438e+05  -->   1.563e+06 (N)\n",
      "Minimum absolute Force error:                                5.723e+00  -->   4.336e+00 (N)\n",
      "Average absolute Force error:                                3.297e+04  -->   7.910e+04 (N)\n",
      "Maximum absolute Force error:                                1.230e-04  -->   3.537e-04 (normalized)\n",
      "Minimum absolute Force error:                                1.295e-09  -->   9.810e-10 (normalized)\n",
      "Average absolute Force error:                                7.460e-06  -->   1.790e-05 (normalized)\n",
      "==============================================================================================================\n"
     ]
    }
   ],
   "source": [
    "objective = ObjectiveFunction(\n",
    "    BootstrapRedlConsistency(eq=eq1, grid=grid, helicity=(1, 0)),\n",
    ")\n",
    "constraints = (\n",
    "    FixAtomicNumber(eq=eq1),\n",
    "    FixBoundaryR(eq=eq1),\n",
    "    FixBoundaryZ(eq=eq1),\n",
    "    FixCurrent(eq=eq1, indices=[0, 1]),  # fix c_0=c_1=0 current profile coefficients\n",
    "    FixElectronDensity(eq=eq1),\n",
    "    FixElectronTemperature(eq=eq1),\n",
    "    FixIonTemperature(eq=eq1),\n",
    "    FixPsi(eq=eq1),\n",
    "    ForceBalance(eq=eq1),\n",
    ")\n",
    "eq1, _ = eq1.optimize(\n",
    "    objective=objective,\n",
    "    constraints=constraints,\n",
    "    optimizer=\"proximal-lsq-exact\",\n",
    "    maxiter=10,\n",
    "    verbose=3,\n",
    ")"
   ]
  },
  {
   "cell_type": "markdown",
   "metadata": {},
   "source": [
    "When plotting the bootstrap current profiles, we see the MHD equilibrium now has very good agreement with the Redl formula. "
   ]
  },
  {
   "cell_type": "code",
   "execution_count": 12,
   "metadata": {},
   "outputs": [
    {
     "data": {
      "image/png": "[encoded data removed]",
      "text/plain": [
       "<Figure size 383.879x383.879 with 1 Axes>"
      ]
     },
     "metadata": {},
     "output_type": "display_data"
    }
   ],
   "source": [
    "fig, ax = plot_1d(eq1, \"<J*B> Redl\", linecolor=\"b\", lw=2, label=\"Redl\")\n",
    "fig, ax = plot_1d(eq1, \"<J*B>\", linecolor=\"r\", lw=2, label=\"MHD\", ax=ax)\n",
    "ax.legend(loc=\"best\")\n",
    "ax.set_title(\"Method 1: Optimization\")"
   ]
  },
  {
   "cell_type": "markdown",
   "metadata": {},
   "source": [
    "### 2. Iterative Solves"
   ]
  },
  {
   "cell_type": "markdown",
   "metadata": {},
   "source": [
    "In this method, we iteratively solve the equilibrium with updated guesses for the current profile. \n",
    "The current profile is computed such that the parallel current is consistent with the Redl formula, according to Equation C3 in [Landreman & Catto (2012)](https://doi.org/10.1063/1.3693187). \n",
    "This is the same approach as STELLOPT VBOOT with SFINCS, and it usually converges in only a few iterations. "
   ]
  },
  {
   "cell_type": "code",
   "execution_count": 13,
   "metadata": {},
   "outputs": [],
   "source": [
    "eq2 = eq0.copy()\n",
    "fam2 = EquilibriaFamily(eq2)"
   ]
  },
  {
   "cell_type": "code",
   "execution_count": 14,
   "metadata": {},
   "outputs": [
    {
     "name": "stdout",
     "output_type": "stream",
     "text": [
      "Building objective: force\n",
      "Precomputing transforms\n",
      "Timer: Precomputing transforms = 60.0 ms\n",
      "Timer: Objective build = 81.2 ms\n",
      "Building objective: lcfs R\n",
      "Building objective: lcfs Z\n",
      "Building objective: fixed Psi\n",
      "Building objective: fixed current\n",
      "Building objective: fixed electron density\n",
      "Building objective: fixed electron temperature\n",
      "Building objective: fixed ion temperature\n",
      "Building objective: fixed atomic number\n",
      "Building objective: fixed sheet current\n",
      "Building objective: self_consistency R\n",
      "Building objective: self_consistency Z\n",
      "Building objective: lambda gauge\n",
      "Building objective: axis R self consistency\n",
      "Building objective: axis Z self consistency\n",
      "Timer: Objective build = 326 ms\n",
      "Timer: Linear constraint projection build = 376 ms\n",
      "Number of parameters: 856\n",
      "Number of objectives: 5346\n",
      "Timer: Initializing the optimization = 807 ms\n",
      "\n",
      "Starting optimization\n",
      "Using method: lsq-exact\n",
      "   Iteration     Total nfev        Cost      Cost reduction    Step norm     Optimality   \n",
      "       0              1          4.316e-03                                    7.380e-02   \n",
      "       1              2          6.062e-04      3.709e-03      1.787e-01      1.457e-02   \n",
      "       2              3          8.345e-05      5.228e-04      1.160e-01      5.285e-03   \n",
      "       3              5          4.531e-06      7.892e-05      2.265e-02      6.459e-04   \n",
      "       4              7          2.080e-06      2.451e-06      1.281e-02      2.150e-04   \n",
      "       5              9          1.825e-06      2.557e-07      6.214e-03      2.159e-05   \n",
      "       6             10          1.824e-06      1.059e-09      1.104e-02      8.529e-05   \n",
      "       7             11          1.714e-06      1.098e-07      3.190e-03      8.634e-06   \n",
      "       8             12          1.690e-06      2.351e-08      6.080e-03      2.522e-05   \n",
      "       9             13          1.686e-06      4.460e-09      1.223e-02      7.575e-05   \n",
      "      10             14          1.642e-06      4.433e-08      3.476e-03      6.591e-06   \n",
      "      11             15          1.632e-06      9.743e-09      6.202e-03      1.806e-05   \n",
      "Optimization terminated successfully.\n",
      "`ftol` condition satisfied.\n",
      "         Current function value: 1.632e-06\n",
      "         Total delta_x: 2.174e-01\n",
      "         Iterations: 11\n",
      "         Function evaluations: 15\n",
      "         Jacobian evaluations: 12\n",
      "Timer: Solution time = 32.4 sec\n",
      "Timer: Avg time per step = 2.70 sec\n",
      "==============================================================================================================\n",
      "                                                                 Start  -->   End\n",
      "Total (sum of squares):                                      4.316e-03  -->   1.632e-06, \n",
      "Maximum absolute Force error:                                6.338e+07  -->   1.411e+06 (N)\n",
      "Minimum absolute Force error:                                1.530e+02  -->   4.526e+01 (N)\n",
      "Average absolute Force error:                                4.041e+06  -->   9.982e+04 (N)\n",
      "Maximum absolute Force error:                                1.434e-02  -->   3.192e-04 (normalized)\n",
      "Minimum absolute Force error:                                3.463e-08  -->   1.024e-08 (normalized)\n",
      "Average absolute Force error:                                9.143e-04  -->   2.259e-05 (normalized)\n",
      "R boundary error:                                            0.000e+00  -->   1.752e-18 (m)\n",
      "Z boundary error:                                            0.000e+00  -->   2.170e-19 (m)\n",
      "Fixed Psi error:                                             0.000e+00  -->   0.000e+00 (Wb)\n",
      "Fixed current profile error:                                 0.000e+00  -->   2.982e-08 (A)\n",
      "Fixed electron density profile error:                        0.000e+00  -->   0.000e+00 (m^-3)\n",
      "Fixed electron temperature profile error:                    0.000e+00  -->   0.000e+00 (eV)\n",
      "Fixed ion temperature profile error:                         0.000e+00  -->   0.000e+00 (eV)\n",
      "Fixed atomic number profile error:                           0.000e+00  -->   0.000e+00 (dimensionless)\n",
      "Fixed sheet current error:                                   0.000e+00  -->   0.000e+00 (~)\n",
      "==============================================================================================================\n",
      "Building objective: force\n",
      "Precomputing transforms\n",
      "Timer: Precomputing transforms = 61.9 ms\n",
      "Timer: Objective build = 83.2 ms\n",
      "Building objective: lcfs R\n",
      "Building objective: lcfs Z\n",
      "Building objective: fixed Psi\n",
      "Building objective: fixed current\n",
      "Building objective: fixed electron density\n",
      "Building objective: fixed electron temperature\n",
      "Building objective: fixed ion temperature\n",
      "Building objective: fixed atomic number\n",
      "Building objective: fixed sheet current\n",
      "Building objective: self_consistency R\n",
      "Building objective: self_consistency Z\n",
      "Building objective: lambda gauge\n",
      "Building objective: axis R self consistency\n",
      "Building objective: axis Z self consistency\n",
      "Timer: Objective build = 236 ms\n",
      "Timer: Linear constraint projection build = 346 ms\n",
      "Number of parameters: 856\n",
      "Number of objectives: 5346\n",
      "Timer: Initializing the optimization = 673 ms\n",
      "\n",
      "Starting optimization\n",
      "Using method: lsq-exact\n",
      "   Iteration     Total nfev        Cost      Cost reduction    Step norm     Optimality   \n",
      "       0              1          2.297e-04                                    1.434e-02   \n",
      "       1              2          3.563e-06      2.262e-04      5.152e-02      7.821e-04   \n",
      "       2              3          1.217e-06      2.345e-06      1.572e-02      9.091e-05   \n",
      "       3              5          1.150e-06      6.753e-08      7.105e-03      2.866e-05   \n",
      "       4              7          1.142e-06      7.311e-09      3.896e-03      5.647e-06   \n",
      "Optimization terminated successfully.\n",
      "`ftol` condition satisfied.\n",
      "         Current function value: 1.142e-06\n",
      "         Total delta_x: 5.435e-02\n",
      "         Iterations: 4\n",
      "         Function evaluations: 7\n",
      "         Jacobian evaluations: 5\n",
      "Timer: Solution time = 10.0 sec\n",
      "Timer: Avg time per step = 2.01 sec\n",
      "==============================================================================================================\n",
      "                                                                 Start  -->   End\n",
      "Total (sum of squares):                                      2.297e-04  -->   1.142e-06, \n",
      "Maximum absolute Force error:                                1.791e+07  -->   1.301e+06 (N)\n",
      "Minimum absolute Force error:                                6.347e+00  -->   2.539e+00 (N)\n",
      "Average absolute Force error:                                9.465e+05  -->   8.112e+04 (N)\n",
      "Maximum absolute Force error:                                4.052e-03  -->   2.944e-04 (normalized)\n",
      "Minimum absolute Force error:                                1.436e-09  -->   5.745e-10 (normalized)\n",
      "Average absolute Force error:                                2.142e-04  -->   1.835e-05 (normalized)\n",
      "R boundary error:                                            0.000e+00  -->   2.711e-20 (m)\n",
      "Z boundary error:                                            0.000e+00  -->   6.986e-21 (m)\n",
      "Fixed Psi error:                                             0.000e+00  -->   0.000e+00 (Wb)\n",
      "Fixed current profile error:                                 0.000e+00  -->   2.107e-08 (A)\n",
      "Fixed electron density profile error:                        0.000e+00  -->   0.000e+00 (m^-3)\n",
      "Fixed electron temperature profile error:                    0.000e+00  -->   0.000e+00 (eV)\n",
      "Fixed ion temperature profile error:                         0.000e+00  -->   0.000e+00 (eV)\n",
      "Fixed atomic number profile error:                           0.000e+00  -->   0.000e+00 (dimensionless)\n",
      "Fixed sheet current error:                                   0.000e+00  -->   0.000e+00 (~)\n",
      "==============================================================================================================\n",
      "Building objective: force\n",
      "Precomputing transforms\n",
      "Timer: Precomputing transforms = 61.2 ms\n",
      "Timer: Objective build = 81.8 ms\n",
      "Building objective: lcfs R\n",
      "Building objective: lcfs Z\n",
      "Building objective: fixed Psi\n",
      "Building objective: fixed current\n",
      "Building objective: fixed electron density\n",
      "Building objective: fixed electron temperature\n",
      "Building objective: fixed ion temperature\n",
      "Building objective: fixed atomic number\n",
      "Building objective: fixed sheet current\n",
      "Building objective: self_consistency R\n",
      "Building objective: self_consistency Z\n",
      "Building objective: lambda gauge\n",
      "Building objective: axis R self consistency\n",
      "Building objective: axis Z self consistency\n",
      "Timer: Objective build = 225 ms\n",
      "Timer: Linear constraint projection build = 388 ms\n",
      "Number of parameters: 856\n",
      "Number of objectives: 5346\n",
      "Timer: Initializing the optimization = 712 ms\n",
      "\n",
      "Starting optimization\n",
      "Using method: lsq-exact\n",
      "   Iteration     Total nfev        Cost      Cost reduction    Step norm     Optimality   \n",
      "       0              1          7.983e-06                                    2.380e-03   \n",
      "       1              2          1.727e-06      6.255e-06      2.300e-02      5.136e-04   \n",
      "       2              3          1.441e-06      2.859e-07      1.791e-02      3.753e-04   \n",
      "       3              5          1.183e-06      2.584e-07      1.051e-02      5.586e-05   \n",
      "       4              7          1.139e-06      4.430e-08      4.935e-03      9.875e-06   \n",
      "       5              9          1.132e-06      6.331e-09      2.533e-03      2.903e-06   \n",
      "Optimization terminated successfully.\n",
      "`ftol` condition satisfied.\n",
      "         Current function value: 1.132e-06\n",
      "         Total delta_x: 2.154e-02\n",
      "         Iterations: 5\n",
      "         Function evaluations: 9\n",
      "         Jacobian evaluations: 6\n",
      "Timer: Solution time = 15.1 sec\n",
      "Timer: Avg time per step = 2.52 sec\n",
      "==============================================================================================================\n",
      "                                                                 Start  -->   End\n",
      "Total (sum of squares):                                      7.983e-06  -->   1.132e-06, \n",
      "Maximum absolute Force error:                                3.109e+06  -->   1.440e+06 (N)\n",
      "Minimum absolute Force error:                                1.218e+02  -->   7.819e+00 (N)\n",
      "Average absolute Force error:                                1.859e+05  -->   8.172e+04 (N)\n",
      "Maximum absolute Force error:                                7.035e-04  -->   3.258e-04 (normalized)\n",
      "Minimum absolute Force error:                                2.757e-08  -->   1.769e-09 (normalized)\n",
      "Average absolute Force error:                                4.207e-05  -->   1.849e-05 (normalized)\n",
      "R boundary error:                                            0.000e+00  -->   0.000e+00 (m)\n",
      "Z boundary error:                                            0.000e+00  -->   0.000e+00 (m)\n",
      "Fixed Psi error:                                             0.000e+00  -->   0.000e+00 (Wb)\n",
      "Fixed current profile error:                                 0.000e+00  -->   0.000e+00 (A)\n",
      "Fixed electron density profile error:                        0.000e+00  -->   0.000e+00 (m^-3)\n",
      "Fixed electron temperature profile error:                    0.000e+00  -->   0.000e+00 (eV)\n",
      "Fixed ion temperature profile error:                         0.000e+00  -->   0.000e+00 (eV)\n",
      "Fixed atomic number profile error:                           0.000e+00  -->   0.000e+00 (dimensionless)\n",
      "Fixed sheet current error:                                   0.000e+00  -->   0.000e+00 (~)\n",
      "==============================================================================================================\n"
     ]
    }
   ],
   "source": [
    "niters = 3\n",
    "for k in range(niters):\n",
    "    eq2 = eq2.copy()\n",
    "    # compute new guess for the current profile, consistent with Redl formula\n",
    "    data = eq2.compute(\"current Redl\", grid)\n",
    "    current = grid.compress(data[\"current Redl\"])\n",
    "    rho = grid.compress(data[\"rho\"])\n",
    "    # fit the current profile to a power series, with c_0=c_1=0\n",
    "    XX = np.fliplr(np.vander(rho, eq2.L + 1)[:, :-2])\n",
    "    eq2.c_l = np.pad(np.linalg.lstsq(XX, current, rcond=None)[0], (2, 0))\n",
    "    # re-solve the equilibrium\n",
    "    eq2, _ = eq2.solve(objective=\"force\", optimizer=\"lsq-exact\", verbose=3)\n",
    "    fam2.append(eq2)"
   ]
  },
  {
   "cell_type": "markdown",
   "metadata": {},
   "source": [
    "We can plot the current profile at each iteration to visualize how it changed: "
   ]
  },
  {
   "cell_type": "code",
   "execution_count": 15,
   "metadata": {},
   "outputs": [
    {
     "data": {
      "image/png": "[encoded data removed]",
      "text/plain": [
       "<Figure size 383.879x383.879 with 1 Axes>"
      ]
     },
     "metadata": {},
     "output_type": "display_data"
    }
   ],
   "source": [
    "fig, ax = plot_1d(fam2[0], \"current\", linecolor=\"k\", lw=2, label=\"0\")\n",
    "fig, ax = plot_1d(fam2[1], \"current\", linecolor=\"g\", lw=2, label=\"1\", ax=ax)\n",
    "fig, ax = plot_1d(fam2[2], \"current\", linecolor=\"b\", lw=2, label=\"2\", ax=ax)\n",
    "fig, ax = plot_1d(fam2[3], \"current\", linecolor=\"r\", lw=2, label=\"3\", ax=ax)\n",
    "ax.legend(loc=\"best\")"
   ]
  },
  {
   "cell_type": "markdown",
   "metadata": {},
   "source": [
    "With this method the MHD equilibrium also has very good agreement with the Redl formula. "
   ]
  },
  {
   "cell_type": "code",
   "execution_count": 16,
   "metadata": {},
   "outputs": [
    {
     "data": {
      "image/png": "[encoded data removed]",
      "text/plain": [
       "<Figure size 383.879x383.879 with 1 Axes>"
      ]
     },
     "metadata": {},
     "output_type": "display_data"
    }
   ],
   "source": [
    "fig, ax = plot_1d(eq2, \"<J*B> Redl\", linecolor=\"b\", lw=2, label=\"Redl\")\n",
    "fig, ax = plot_1d(eq2, \"<J*B>\", linecolor=\"r\", lw=2, label=\"MHD\", ax=ax)\n",
    "ax.legend(loc=\"best\")\n",
    "ax.set_title(\"Method 2: Iterative Solves\")"
   ]
  },
  {
   "cell_type": "markdown",
   "metadata": {},
   "source": [
    "### Comparison"
   ]
  },
  {
   "cell_type": "markdown",
   "metadata": {},
   "source": [
    "Even though both methods give good self-consistency for the bootstrap current, they do result in slightly different coefficients for the current profile: "
   ]
  },
  {
   "cell_type": "code",
   "execution_count": 17,
   "metadata": {},
   "outputs": [
    {
     "name": "stdout",
     "output_type": "stream",
     "text": [
      "[ 0.00000000e+00  0.00000000e+00 -6.30160671e+03  4.08854743e+06  1.56695263e+07 -6.53752503e+07  9.52881073e+07 -5.75991584e+07  1.02645085e+07]\n",
      "[ 0.00000000e+00  0.00000000e+00  4.45156650e+05 -1.55399717e+06  4.20378770e+07 -1.24735194e+08  1.64818692e+08 -9.79245665e+07  1.92579542e+07]\n"
     ]
    }
   ],
   "source": [
    "print(eq1.c_l)\n",
    "print(eq2.c_l)"
   ]
  },
  {
   "cell_type": "markdown",
   "metadata": {},
   "source": [
    "In this example, the first method of optimization gave better self-consistency but was noticeably slower than the second method of iterative solves. "
   ]
  }
 ],
 "metadata": {
  "kernelspec": {
   "display_name": "desc-env",
   "language": "python",
   "name": "python3"
  },
  "language_info": {
   "codemirror_mode": {
    "name": "ipython",
    "version": 3
   },
   "file_extension": ".py",
   "mimetype": "text/x-python",
   "name": "python",
   "nbconvert_exporter": "python",
   "pygments_lexer": "ipython3",
   "version": "3.12.8"
  }
 },
 "nbformat": 4,
 "nbformat_minor": 4
}
