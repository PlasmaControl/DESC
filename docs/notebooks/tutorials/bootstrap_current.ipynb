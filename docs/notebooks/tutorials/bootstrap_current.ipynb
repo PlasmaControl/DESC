{
 "cells": [
  {
   "cell_type": "markdown",
   "metadata": {},
   "source": [
    "# Bootstrap Current Self-Consistency"
   ]
  },
  {
   "cell_type": "markdown",
   "metadata": {},
   "source": [
    "This tutorial demonstrates how to optimize a quasi-symmetric equilibrium to have a self-consistent bootstrap current profile. \n",
    "This is performed by minimizing the difference between the toroidal currents $\\langle J \\cdot B \\rangle$ computed from the MHD equilibrium and from the Redl formula. \n",
    "The Redl formula is only valid in the limit of perfect quasi-symmetry, so this procedure will not work for other configurations that are not quasi-symmetric. \n",
    "\n",
    "There are two methods that can be used, and both will be shown: \n",
    "\n",
    "1. Optimize the current profile for self-consistency\n",
    "2. Iteratively solve the equilibrium with new current profiles\n",
    "\n",
    "These methods should be equivalent, although one might be faster than the other depending on the particular problem. "
   ]
  },
  {
   "cell_type": "markdown",
   "metadata": {},
   "source": [
    "If you have access to a GPU, uncomment the following two lines: "
   ]
  },
  {
   "cell_type": "code",
   "execution_count": 1,
   "metadata": {},
   "outputs": [],
   "source": [
    "# from desc import set_device\n",
    "# set_device(\"gpu\")"
   ]
  },
  {
   "cell_type": "code",
   "execution_count": 2,
   "metadata": {},
   "outputs": [],
   "source": [
    "import sys\n",
    "import os\n",
    "\n",
    "sys.path.insert(0, os.path.abspath(\".\"))\n",
    "sys.path.append(os.path.abspath(\"../../../\"))"
   ]
  },
  {
   "cell_type": "code",
   "execution_count": 3,
   "metadata": {},
   "outputs": [
    {
     "name": "stdout",
     "output_type": "stream",
     "text": [
      "DESC version 0.12.1+143.gd5087d9c5,using JAX backend, jax version=0.4.31, jaxlib version=0.4.31, dtype=float64\n",
      "Using device: CPU, with 3.91 GB available memory\n"
     ]
    }
   ],
   "source": [
    "import numpy as np\n",
    "import matplotlib.pyplot as plt\n",
    "\n",
    "plt.rcParams[\"font.size\"] = 14\n",
    "\n",
    "from desc.compat import rescale\n",
    "from desc.equilibrium import EquilibriaFamily\n",
    "from desc.examples import get\n",
    "from desc.grid import LinearGrid\n",
    "from desc.objectives import (\n",
    "    BootstrapRedlConsistency,\n",
    "    FixAtomicNumber,\n",
    "    FixBoundaryR,\n",
    "    FixBoundaryZ,\n",
    "    FixCurrent,\n",
    "    FixElectronDensity,\n",
    "    FixElectronTemperature,\n",
    "    FixIonTemperature,\n",
    "    FixPsi,\n",
    "    ForceBalance,\n",
    "    ObjectiveFunction,\n",
    ")\n",
    "from desc.plotting import plot_1d\n",
    "from desc.profiles import PowerSeriesProfile"
   ]
  },
  {
   "cell_type": "markdown",
   "metadata": {},
   "source": [
    "As an example, we will reproduce the QA results from [Landreman et al. (2022)](https://doi.org/10.1063/5.0098166). \n",
    "\n",
    "We will start with the \"precise QA\" example equilibrium, scaled to the ARIES-CS reactor size. "
   ]
  },
  {
   "cell_type": "code",
   "execution_count": 4,
   "metadata": {},
   "outputs": [],
   "source": [
    "eq0 = get(\"precise_QA\")\n",
    "eq0 = rescale(eq0, L=(\"R0\", 10), B=(\"B0\", 5.86))"
   ]
  },
  {
   "cell_type": "markdown",
   "metadata": {},
   "source": [
    "This equilibrium has the vacuum profiles $p = 0 ~\\text{Pa}$ and $\\frac{2\\pi}{\\mu_0} I = 0 ~\\text{A}$. \n",
    "Calculating the bootstrap current requires knowledge of the temperature and density profiles for each species in the plasma. \n",
    "We replace the pressure profile with the following kinetic profiles corresponding to $\\langle\\beta\\rangle=2.5\\%$: \n",
    "\n",
    "$n_e = n_i = 2.38\\times10^{20} (1 - \\rho^{10}) ~\\text{m}^{-3}$\n",
    "\n",
    "$T_e = T_i = 9.45\\times10^{3} (1 - \\rho^{2}) ~\\text{eV}$\n",
    "\n",
    "The temperature profiles must be given for both ions and electrons, but only the electron density profile is specified. \n",
    "The ion density profile is given by the effective atomic number $Z_{eff}$ as $n_i = n_e / Z_{eff}$. \n",
    "The plasma pressure will then be computed as \n",
    "\n",
    "$p = e (n_e T_e + n_i T_i)$."
   ]
  },
  {
   "cell_type": "code",
   "execution_count": 5,
   "metadata": {},
   "outputs": [],
   "source": [
    "eq0.pressure = None  # must remove the pressure profile before setting kinetic profiles\n",
    "eq0.atomic_number = PowerSeriesProfile([1])\n",
    "eq0.electron_density = PowerSeriesProfile(params=[1, -1], modes=[0, 10]) * 2.38e20\n",
    "eq0.electron_temperature = PowerSeriesProfile(params=[1, -1], modes=[0, 2]) * 9.45e3\n",
    "eq0.ion_temperature = PowerSeriesProfile(params=[1, -1], modes=[0, 2]) * 9.45e3\n",
    "# the existing current profile is the vacuum case eq0.current = PowerSeriesProfile([0])"
   ]
  },
  {
   "cell_type": "markdown",
   "metadata": {},
   "source": [
    "We need to re-solve the equilibrium force balance with the new profiles. "
   ]
  },
  {
   "cell_type": "code",
   "execution_count": 6,
   "metadata": {},
   "outputs": [
    {
     "name": "stdout",
     "output_type": "stream",
     "text": [
      "Building objective: force\n",
      "Precomputing transforms\n",
      "Timer: Precomputing transforms = 1.09 sec\n",
      "Timer: Objective build = 3.30 sec\n",
      "Building objective: lcfs R\n",
      "Building objective: lcfs Z\n",
      "Building objective: fixed Psi\n",
      "Building objective: fixed current\n",
      "Building objective: fixed electron density\n",
      "Building objective: fixed electron temperature\n",
      "Building objective: fixed ion temperature\n",
      "Building objective: fixed atomic number\n",
      "Building objective: fixed sheet current\n",
      "Building objective: self_consistency R\n",
      "Building objective: self_consistency Z\n",
      "Building objective: lambda gauge\n",
      "Building objective: axis R self consistency\n",
      "Building objective: axis Z self consistency\n",
      "Timer: Objective build = 1.71 sec\n",
      "Timer: Linear constraint projection build = 3.53 sec\n",
      "Number of parameters: 856\n",
      "Number of objectives: 5346\n",
      "Starting optimization\n",
      "Using method: lsq-exact\n",
      "   Iteration     Total nfev        Cost      Cost reduction    Step norm     Optimality   \n",
      "       0              1          1.506e-02                                    7.619e+00   \n",
      "       1              3          1.196e-02      3.103e-03      2.975e-01      6.507e+00   \n",
      "       2              4          2.203e-04      1.174e-02      8.648e-02      3.337e-01   \n",
      "       3              6          1.711e-05      2.032e-04      4.625e-02      1.520e-01   \n",
      "       4              8          5.909e-06      1.120e-05      1.668e-02      2.508e-02   \n",
      "       5             10          4.441e-06      1.468e-06      8.001e-03      7.463e-03   \n",
      "       6             11          3.839e-06      6.015e-07      2.055e-02      2.546e-02   \n",
      "       7             12          3.360e-06      4.792e-07      2.028e-02      2.861e-02   \n",
      "       8             13          3.001e-06      3.594e-07      1.845e-02      2.635e-02   \n",
      "       9             15          2.756e-06      2.450e-07      8.907e-03      6.321e-03   \n",
      "      10             16          2.579e-06      1.769e-07      1.607e-02      2.225e-02   \n",
      "      11             18          2.426e-06      1.526e-07      7.525e-03      5.589e-03   \n",
      "      12             19          2.273e-06      1.530e-07      1.335e-02      1.947e-02   \n",
      "      13             20          2.254e-06      1.983e-08      2.330e-02      5.610e-02   \n",
      "      14             21          1.849e-06      4.050e-07      5.738e-03      4.613e-03   \n",
      "      15             22          1.728e-06      1.208e-07      1.118e-02      1.359e-02   \n",
      "      16             23          1.627e-06      1.004e-07      2.244e-02      2.536e-02   \n",
      "      17             24          1.346e-06      2.812e-07      2.317e-02      1.270e-02   \n",
      "      18             26          1.171e-06      1.750e-07      1.183e-02      2.474e-03   \n",
      "      19             27          1.042e-06      1.295e-07      2.464e-02      5.236e-03   \n",
      "      20             29          9.268e-07      1.149e-07      1.257e-02      1.812e-03   \n",
      "      21             30          8.259e-07      1.009e-07      2.577e-02      6.983e-03   \n",
      "      22             31          7.120e-07      1.139e-07      2.613e-02      7.499e-03   \n",
      "      23             33          6.255e-07      8.650e-08      1.320e-02      2.110e-03   \n",
      "      24             34          5.794e-07      4.612e-08      2.638e-02      7.704e-03   \n",
      "      25             35          5.209e-07      5.850e-08      2.635e-02      8.874e-03   \n",
      "      26             36          4.842e-07      3.668e-08      2.630e-02      9.469e-03   \n",
      "      27             37          4.613e-07      2.295e-08      2.610e-02      1.021e-02   \n",
      "      28             38          3.546e-07      1.067e-07      6.709e-03      7.225e-04   \n",
      "      29             39          3.456e-07      8.929e-09      1.307e-02      2.583e-03   \n",
      "      30             40          3.316e-07      1.403e-08      1.275e-02      2.728e-03   \n",
      "      31             41          3.204e-07      1.125e-08      1.252e-02      2.679e-03   \n",
      "      32             42          3.114e-07      8.976e-09      1.224e-02      3.403e-03   \n",
      "      33             43          3.049e-07      6.469e-09      1.192e-02      4.521e-03   \n",
      "      34             44          3.016e-07      3.289e-09      1.153e-02      6.147e-03   \n",
      "      35             45          2.897e-07      1.192e-08      2.935e-03      5.602e-04   \n",
      "      36             46          2.885e-07      1.213e-09      5.539e-03      2.663e-03   \n",
      "Optimization terminated successfully.\n",
      "`ftol` condition satisfied.\n",
      "         Current function value: 2.885e-07\n",
      "         Total delta_x: 5.223e-01\n",
      "         Iterations: 36\n",
      "         Function evaluations: 46\n",
      "         Jacobian evaluations: 37\n",
      "Timer: Solution time = 3.41 min\n",
      "Timer: Avg time per step = 5.53 sec\n",
      "Start of solver   -->   End of solver\n",
      "Total (sum of squares):  1.506e-02  -->   2.885e-07, \n",
      "Maximum absolute Force error:  6.502e+07   -->   8.548e+05(N)\n",
      "Minimum absolute Force error:  2.968e-01   -->   2.348e+00(N)\n",
      "Average absolute Force error:  5.342e+06   -->   3.282e+04(N)\n",
      "Maximum absolute Force error:  2.008e-02   -->   2.640e-04(normalized)\n",
      "Minimum absolute Force error:  9.164e-11   -->   7.252e-10(normalized)\n",
      "Average absolute Force error:  1.650e-03   -->   1.013e-05(normalized)\n",
      "R boundary error:  0.000e+00   -->   2.776e-17(m)\n",
      "Z boundary error:  0.000e+00   -->   6.939e-18(m)\n",
      "Fixed Psi error:  0.000e+00   -->   0.000e+00(Wb)\n",
      "Fixed current profile error:  0.000e+00   -->   0.000e+00(A)\n",
      "Fixed electron density profile error:  0.000e+00   -->   0.000e+00(m^-3)\n",
      "Fixed electron temperature profile error:  0.000e+00   -->   0.000e+00(eV)\n",
      "Fixed ion temperature profile error:  0.000e+00   -->   0.000e+00(eV)\n",
      "Fixed atomic number profile error:  0.000e+00   -->   0.000e+00(dimensionless)\n",
      "Fixed sheet current error:  0.000e+00   -->   0.000e+00(~)\n"
     ]
    }
   ],
   "source": [
    "eq0, _ = eq0.solve(objective=\"force\", optimizer=\"lsq-exact\", verbose=3)"
   ]
  },
  {
   "cell_type": "markdown",
   "metadata": {},
   "source": [
    "Now we have our initial equilibrium, which does not have a self-consistent bootstrap current: "
   ]
  },
  {
   "cell_type": "code",
   "execution_count": 7,
   "metadata": {},
   "outputs": [
    {
     "data": {
      "text/plain": [
       "Text(0.5, 1.0, 'Initial Equilibrium')"
      ]
     },
     "execution_count": 7,
     "metadata": {},
     "output_type": "execute_result"
    },
    {
     "data": {
      "image/png": "[encoded data removed]",
      "text/plain": [
       "<Figure size 384.07x384.07 with 1 Axes>"
      ]
     },
     "metadata": {},
     "output_type": "display_data"
    }
   ],
   "source": [
    "fig, ax = plot_1d(eq0, \"<J*B> Redl\", linecolor=\"b\", lw=2, label=\"Redl\")\n",
    "fig, ax = plot_1d(eq0, \"<J*B>\", linecolor=\"r\", lw=2, label=\"MHD\", ax=ax)\n",
    "ax.legend(loc=\"best\")\n",
    "ax.set_title(\"Initial Equilibrium\")"
   ]
  },
  {
   "cell_type": "markdown",
   "metadata": {},
   "source": [
    "We need to create a grid on which to evaluate the boootstrap current self-consistency. \n",
    "The bootstrap current is a radial profile, but the grid must have finite poloidal and toroidal resolution to accurately compute flux surface quantities. \n",
    "The Redl formula is undefined where the kinetic profiles vanish, so in our example we do not include points at $\\rho=0$ or $\\rho=1$. "
   ]
  },
  {
   "cell_type": "code",
   "execution_count": 8,
   "metadata": {},
   "outputs": [],
   "source": [
    "grid = LinearGrid(\n",
    "    M=eq0.M_grid,\n",
    "    N=eq0.N_grid,\n",
    "    NFP=eq0.NFP,\n",
    "    sym=eq0.sym,\n",
    "    rho=np.linspace(1 / eq0.L_grid, 1, eq0.L_grid) - 1 / (2 * eq0.L_grid),\n",
    ")"
   ]
  },
  {
   "cell_type": "markdown",
   "metadata": {},
   "source": [
    "Our current profile will be represented as a power series of the form: \n",
    "\n",
    "$I = c_0 + c_1 \\rho + c_2 \\rho^2 + \\mathcal{O}(\\rho^3)$\n",
    "\n",
    "Physically, the current should vanish on the magnetic axis so $c_0 = 0$. \n",
    "And in order for the MHD equilibrium to be analytic, it should scale as $\\mathcal{O}(\\rho^2)$ near the magnetic axis so $c_1 = 0$ also. \n",
    "However, the Redl bootstrap current formula scales as $\\mathcal{O}(\\sqrt{\\rho})$ near the magnetic axis. \n",
    "This is incorrect, because the drift-kinetic equation from the Redl formula does not account for finite orbit width effects that become important near the axis. \n",
    "\n",
    "Typically, we use even power series with `sym=True` for all equilibrium profiles to give the desired analycity conditions. \n",
    "For bootstrap current optimizations, it is recommended to use the full power series with `sym=False` while also enforcing $c_0 = c_1 = 0$. \n",
    "This prevents getting good self-consistency near the magnetic axis, but allows for good agreement throughout the rest of the plasma volume and results in high quality equilibria overall. \n"
   ]
  },
  {
   "cell_type": "code",
   "execution_count": 9,
   "metadata": {},
   "outputs": [],
   "source": [
    "eq0.current = PowerSeriesProfile(np.zeros((eq0.L + 1,)), sym=False)"
   ]
  },
  {
   "cell_type": "markdown",
   "metadata": {},
   "source": [
    "### 1. Optimization"
   ]
  },
  {
   "cell_type": "markdown",
   "metadata": {},
   "source": [
    "In this method, we will optimize the current profile to minimize the self-consistency errors evaluated by the `BootstrapRedlConsistency` objective. \n",
    "This objective requires the helicity, which for QA is $(M, N) = (1, 0)$. \n",
    "\n",
    "In this example we will only optimize the current profile, so all other profiles and the plasma boundary are constrained to be fixed. \n",
    "It is recommended to use a very small value for `gtol` when optimizing the bootstrap current. "
   ]
  },
  {
   "cell_type": "code",
   "execution_count": 10,
   "metadata": {},
   "outputs": [],
   "source": [
    "eq1 = eq0.copy()"
   ]
  },
  {
   "cell_type": "code",
   "execution_count": 11,
   "metadata": {},
   "outputs": [
    {
     "name": "stdout",
     "output_type": "stream",
     "text": [
      "Building objective: Bootstrap current self-consistency (Redl)\n",
      "Precomputing transforms\n",
      "Timer: Precomputing transforms = 1.01 sec\n",
      "Timer: Objective build = 2.51 sec\n",
      "Building objective: force\n",
      "Precomputing transforms\n",
      "Timer: Precomputing transforms = 68.2 ms\n",
      "Timer: Objective build = 221 ms\n",
      "Timer: Proximal projection build = 8.42 sec\n",
      "Building objective: fixed atomic number\n",
      "Building objective: lcfs R\n",
      "Building objective: lcfs Z\n",
      "Building objective: fixed current\n",
      "Building objective: fixed electron density\n",
      "Building objective: fixed electron temperature\n",
      "Building objective: fixed ion temperature\n",
      "Building objective: fixed Psi\n",
      "Timer: Objective build = 1.31 sec\n",
      "Timer: Linear constraint projection build = 1.51 sec\n",
      "Number of parameters: 7\n",
      "Number of objectives: 16\n",
      "Starting optimization\n",
      "Using method: proximal-lsq-exact\n",
      "   Iteration     Total nfev        Cost      Cost reduction    Step norm     Optimality   \n",
      "       0              1          2.247e-02                                    1.912e-08   \n",
      "       1              2          6.983e-05      2.240e-02      1.240e+07      8.642e-10   \n",
      "       2              3          2.308e-06      6.752e-05      2.478e+07      2.717e-12   \n",
      "       3              4          1.756e-06      5.518e-07      4.869e+07      7.449e-12   \n",
      "       4              5          1.472e-06      2.842e-07      6.806e+07      8.706e-12   \n",
      "Warning: Maximum number of iterations has been exceeded.\n",
      "         Current function value: 1.472e-06\n",
      "         Total delta_x: 1.415e+08\n",
      "         Iterations: 4\n",
      "         Function evaluations: 5\n",
      "         Jacobian evaluations: 5\n",
      "Timer: Solution time = 3.09 min\n",
      "Timer: Avg time per step = 37.1 sec\n",
      "Start of solver   -->   End of solver\n",
      "Total (sum of squares):  2.247e-02  -->   1.472e-06, \n",
      "Maximum absolute Bootstrap current self-consistency error:  2.834e+06   -->   3.997e+04(T A m^-2)\n",
      "Minimum absolute Bootstrap current self-consistency error:  1.649e+05   -->   3.325e+03(T A m^-2)\n",
      "Average absolute Bootstrap current self-consistency error:  1.782e+06   -->   1.283e+04(T A m^-2)\n",
      "Maximum absolute Bootstrap current self-consistency error:  3.021e-01   -->   4.262e-03(normalized)\n",
      "Minimum absolute Bootstrap current self-consistency error:  1.758e-02   -->   3.545e-04(normalized)\n",
      "Average absolute Bootstrap current self-consistency error:  1.900e-01   -->   1.368e-03(normalized)\n",
      "Fixed atomic number profile error:  0.000e+00   -->   0.000e+00(dimensionless)\n",
      "R boundary error:  0.000e+00   -->   0.000e+00(m)\n",
      "Z boundary error:  0.000e+00   -->   0.000e+00(m)\n",
      "Fixed current profile error:  0.000e+00   -->   0.000e+00(A)\n",
      "Fixed electron density profile error:  0.000e+00   -->   0.000e+00(m^-3)\n",
      "Fixed electron temperature profile error:  0.000e+00   -->   0.000e+00(eV)\n",
      "Fixed ion temperature profile error:  0.000e+00   -->   0.000e+00(eV)\n",
      "Fixed Psi error:  0.000e+00   -->   0.000e+00(Wb)\n",
      "Maximum absolute Force error:  8.548e+05   -->   2.073e+06(N)\n",
      "Minimum absolute Force error:  2.348e+00   -->   1.686e+01(N)\n",
      "Average absolute Force error:  3.282e+04   -->   8.041e+04(N)\n",
      "Maximum absolute Force error:  2.670e-04   -->   6.476e-04(normalized)\n",
      "Minimum absolute Force error:  7.335e-10   -->   5.265e-09(normalized)\n",
      "Average absolute Force error:  1.025e-05   -->   2.512e-05(normalized)\n"
     ]
    }
   ],
   "source": [
    "objective = ObjectiveFunction(\n",
    "    BootstrapRedlConsistency(eq=eq1, grid=grid, helicity=(1, 0)),\n",
    ")\n",
    "constraints = (\n",
    "    FixAtomicNumber(eq=eq1),\n",
    "    FixBoundaryR(eq=eq1),\n",
    "    FixBoundaryZ(eq=eq1),\n",
    "    FixCurrent(eq=eq1, indices=[0, 1]),  # fix c_0=c_1=0 current profile coefficients\n",
    "    FixElectronDensity(eq=eq1),\n",
    "    FixElectronTemperature(eq=eq1),\n",
    "    FixIonTemperature(eq=eq1),\n",
    "    FixPsi(eq=eq1),\n",
    "    ForceBalance(eq=eq1),\n",
    ")\n",
    "eq1, _ = eq1.optimize(\n",
    "    objective=objective,\n",
    "    constraints=constraints,\n",
    "    optimizer=\"proximal-lsq-exact\",\n",
    "    maxiter=4,\n",
    "    gtol=1e-16,  # it is recommended to use a very small gtol\n",
    "    verbose=3,\n",
    ")"
   ]
  },
  {
   "cell_type": "markdown",
   "metadata": {},
   "source": [
    "When plotting the bootstrap current profiles, we see the MHD equilibrium now has very good agreement with the Redl formula. "
   ]
  },
  {
   "cell_type": "code",
   "execution_count": 12,
   "metadata": {},
   "outputs": [
    {
     "data": {
      "text/plain": [
       "Text(0.5, 1.0, 'Method 1: Optimization')"
      ]
     },
     "execution_count": 12,
     "metadata": {},
     "output_type": "execute_result"
    },
    {
     "data": {
      "image/png": "[encoded data removed]",
      "text/plain": [
       "<Figure size 384.07x384.07 with 1 Axes>"
      ]
     },
     "metadata": {},
     "output_type": "display_data"
    }
   ],
   "source": [
    "fig, ax = plot_1d(eq1, \"<J*B> Redl\", linecolor=\"b\", lw=2, label=\"Redl\")\n",
    "fig, ax = plot_1d(eq1, \"<J*B>\", linecolor=\"r\", lw=2, label=\"MHD\", ax=ax)\n",
    "ax.legend(loc=\"best\")\n",
    "ax.set_title(\"Method 1: Optimization\")"
   ]
  },
  {
   "cell_type": "markdown",
   "metadata": {},
   "source": [
    "### 2. Iterative Solves"
   ]
  },
  {
   "cell_type": "markdown",
   "metadata": {},
   "source": [
    "In this method, we iteratively solve the equilibrium with updated guesses for the current profile. \n",
    "The current profile is computed such that the parallel current is consistent with the Redl formula, according to Equation C3 in [Landreman & Catto (2012)](https://doi.org/10.1063/1.3693187). \n",
    "This is the same approach as STELLOPT VBOOT with SFINCS, and it usually converges in only a few iterations. "
   ]
  },
  {
   "cell_type": "code",
   "execution_count": 13,
   "metadata": {},
   "outputs": [],
   "source": [
    "eq2 = eq0.copy()\n",
    "fam2 = EquilibriaFamily(eq2)"
   ]
  },
  {
   "cell_type": "code",
   "execution_count": 14,
   "metadata": {},
   "outputs": [
    {
     "name": "stdout",
     "output_type": "stream",
     "text": [
      "Building objective: force\n",
      "Precomputing transforms\n",
      "Timer: Precomputing transforms = 54.8 ms\n",
      "Timer: Objective build = 201 ms\n",
      "Building objective: lcfs R\n",
      "Building objective: lcfs Z\n",
      "Building objective: fixed Psi\n",
      "Building objective: fixed current\n",
      "Building objective: fixed electron density\n",
      "Building objective: fixed electron temperature\n",
      "Building objective: fixed ion temperature\n",
      "Building objective: fixed atomic number\n",
      "Building objective: fixed sheet current\n",
      "Building objective: self_consistency R\n",
      "Building objective: self_consistency Z\n",
      "Building objective: lambda gauge\n",
      "Building objective: axis R self consistency\n",
      "Building objective: axis Z self consistency\n",
      "Timer: Objective build = 1.70 sec\n",
      "Timer: Linear constraint projection build = 2.32 sec\n",
      "Number of parameters: 856\n",
      "Number of objectives: 5346\n",
      "Starting optimization\n",
      "Using method: lsq-exact\n",
      "   Iteration     Total nfev        Cost      Cost reduction    Step norm     Optimality   \n",
      "       0              1          6.170e-03                                    5.162e+00   \n",
      "       1              2          1.056e-03      5.114e-03      1.791e-01      1.817e+00   \n",
      "       2              3          1.779e-04      8.786e-04      1.410e-01      5.540e-01   \n",
      "       3              4          1.505e-04      2.734e-05      8.612e-02      9.140e-01   \n",
      "       4              5          3.028e-06      1.475e-04      2.305e-02      3.681e-02   \n",
      "       5              7          2.385e-06      6.428e-07      1.156e-02      1.749e-02   \n",
      "       6              9          2.304e-06      8.161e-08      5.826e-03      3.472e-03   \n",
      "       7             11          2.287e-06      1.701e-08      3.115e-03      1.096e-03   \n",
      "Optimization terminated successfully.\n",
      "`ftol` condition satisfied.\n",
      "         Current function value: 2.287e-06\n",
      "         Total delta_x: 2.212e-01\n",
      "         Iterations: 7\n",
      "         Function evaluations: 11\n",
      "         Jacobian evaluations: 8\n",
      "Timer: Solution time = 43.3 sec\n",
      "Timer: Avg time per step = 5.42 sec\n",
      "Start of solver   -->   End of solver\n",
      "Total (sum of squares):  6.170e-03  -->   2.287e-06, \n",
      "Maximum absolute Force error:  6.013e+07   -->   2.553e+06(N)\n",
      "Minimum absolute Force error:  2.202e+02   -->   4.271e+01(N)\n",
      "Average absolute Force error:  4.010e+06   -->   9.606e+04(N)\n",
      "Maximum absolute Force error:  1.663e-02   -->   7.063e-04(normalized)\n",
      "Minimum absolute Force error:  6.091e-08   -->   1.181e-08(normalized)\n",
      "Average absolute Force error:  1.109e-03   -->   2.657e-05(normalized)\n",
      "R boundary error:  0.000e+00   -->   0.000e+00(m)\n",
      "Z boundary error:  0.000e+00   -->   0.000e+00(m)\n",
      "Fixed Psi error:  0.000e+00   -->   0.000e+00(Wb)\n",
      "Fixed current profile error:  0.000e+00   -->   1.164e-10(A)\n",
      "Fixed electron density profile error:  0.000e+00   -->   0.000e+00(m^-3)\n",
      "Fixed electron temperature profile error:  0.000e+00   -->   0.000e+00(eV)\n",
      "Fixed ion temperature profile error:  0.000e+00   -->   0.000e+00(eV)\n",
      "Fixed atomic number profile error:  0.000e+00   -->   0.000e+00(dimensionless)\n",
      "Fixed sheet current error:  0.000e+00   -->   0.000e+00(~)\n",
      "Building objective: force\n",
      "Precomputing transforms\n",
      "Timer: Precomputing transforms = 54.6 ms\n",
      "Timer: Objective build = 197 ms\n",
      "Building objective: lcfs R\n",
      "Building objective: lcfs Z\n",
      "Building objective: fixed Psi\n",
      "Building objective: fixed current\n",
      "Building objective: fixed electron density\n",
      "Building objective: fixed electron temperature\n",
      "Building objective: fixed ion temperature\n",
      "Building objective: fixed atomic number\n",
      "Building objective: fixed sheet current\n",
      "Building objective: self_consistency R\n",
      "Building objective: self_consistency Z\n",
      "Building objective: lambda gauge\n",
      "Building objective: axis R self consistency\n",
      "Building objective: axis Z self consistency\n",
      "Timer: Objective build = 1.18 sec\n",
      "Timer: Linear constraint projection build = 1.95 sec\n",
      "Number of parameters: 856\n",
      "Number of objectives: 5346\n",
      "Starting optimization\n",
      "Using method: lsq-exact\n",
      "   Iteration     Total nfev        Cost      Cost reduction    Step norm     Optimality   \n",
      "       0              1          3.509e-04                                    1.656e+00   \n",
      "       1              2          1.267e-05      3.382e-04      6.220e-02      2.198e-01   \n",
      "       2              3          2.039e-06      1.063e-05      1.667e-02      3.465e-02   \n",
      "       3              5          1.710e-06      3.291e-07      6.982e-03      5.559e-03   \n",
      "       4              7          1.695e-06      1.521e-08      3.750e-03      1.036e-03   \n",
      "Optimization terminated successfully.\n",
      "`ftol` condition satisfied.\n",
      "         Current function value: 1.695e-06\n",
      "         Total delta_x: 6.429e-02\n",
      "         Iterations: 4\n",
      "         Function evaluations: 7\n",
      "         Jacobian evaluations: 5\n",
      "Timer: Solution time = 22.8 sec\n",
      "Timer: Avg time per step = 4.57 sec\n",
      "Start of solver   -->   End of solver\n",
      "Total (sum of squares):  3.509e-04  -->   1.695e-06, \n",
      "Maximum absolute Force error:  1.715e+07   -->   2.228e+06(N)\n",
      "Minimum absolute Force error:  3.463e+00   -->   1.075e+01(N)\n",
      "Average absolute Force error:  9.504e+05   -->   7.794e+04(N)\n",
      "Maximum absolute Force error:  4.824e-03   -->   6.268e-04(normalized)\n",
      "Minimum absolute Force error:  9.743e-10   -->   3.025e-09(normalized)\n",
      "Average absolute Force error:  2.674e-04   -->   2.192e-05(normalized)\n",
      "R boundary error:  0.000e+00   -->   0.000e+00(m)\n",
      "Z boundary error:  0.000e+00   -->   0.000e+00(m)\n",
      "Fixed Psi error:  0.000e+00   -->   0.000e+00(Wb)\n",
      "Fixed current profile error:  0.000e+00   -->   1.490e-08(A)\n",
      "Fixed electron density profile error:  0.000e+00   -->   0.000e+00(m^-3)\n",
      "Fixed electron temperature profile error:  0.000e+00   -->   0.000e+00(eV)\n",
      "Fixed ion temperature profile error:  0.000e+00   -->   0.000e+00(eV)\n",
      "Fixed atomic number profile error:  0.000e+00   -->   0.000e+00(dimensionless)\n",
      "Fixed sheet current error:  0.000e+00   -->   0.000e+00(~)\n",
      "Building objective: force\n",
      "Precomputing transforms\n",
      "Timer: Precomputing transforms = 68.0 ms\n",
      "Timer: Objective build = 261 ms\n",
      "Building objective: lcfs R\n",
      "Building objective: lcfs Z\n",
      "Building objective: fixed Psi\n",
      "Building objective: fixed current\n",
      "Building objective: fixed electron density\n",
      "Building objective: fixed electron temperature\n",
      "Building objective: fixed ion temperature\n",
      "Building objective: fixed atomic number\n",
      "Building objective: fixed sheet current\n",
      "Building objective: self_consistency R\n",
      "Building objective: self_consistency Z\n",
      "Building objective: lambda gauge\n",
      "Building objective: axis R self consistency\n",
      "Building objective: axis Z self consistency\n",
      "Timer: Objective build = 1.17 sec\n",
      "Timer: Linear constraint projection build = 1.77 sec\n",
      "Number of parameters: 856\n",
      "Number of objectives: 5346\n",
      "Starting optimization\n",
      "Using method: lsq-exact\n",
      "   Iteration     Total nfev        Cost      Cost reduction    Step norm     Optimality   \n",
      "       0              1          1.213e-05                                    2.995e-01   \n",
      "       1              2          1.797e-06      1.033e-05      1.387e-02      1.622e-02   \n",
      "       2              4          1.673e-06      1.246e-07      5.317e-03      1.632e-03   \n",
      "       3              6          1.667e-06      5.670e-09      2.445e-03      4.088e-04   \n",
      "Optimization terminated successfully.\n",
      "`ftol` condition satisfied.\n",
      "         Current function value: 1.667e-06\n",
      "         Total delta_x: 1.234e-02\n",
      "         Iterations: 3\n",
      "         Function evaluations: 6\n",
      "         Jacobian evaluations: 4\n",
      "Timer: Solution time = 24.4 sec\n",
      "Timer: Avg time per step = 6.11 sec\n",
      "Start of solver   -->   End of solver\n",
      "Total (sum of squares):  1.213e-05  -->   1.667e-06, \n",
      "Maximum absolute Force error:  3.367e+06   -->   2.204e+06(N)\n",
      "Minimum absolute Force error:  4.522e+01   -->   1.374e+01(N)\n",
      "Average absolute Force error:  1.838e+05   -->   7.970e+04(N)\n",
      "Maximum absolute Force error:  9.430e-04   -->   6.174e-04(normalized)\n",
      "Minimum absolute Force error:  1.267e-08   -->   3.850e-09(normalized)\n",
      "Average absolute Force error:  5.150e-05   -->   2.232e-05(normalized)\n",
      "R boundary error:  0.000e+00   -->   0.000e+00(m)\n",
      "Z boundary error:  0.000e+00   -->   0.000e+00(m)\n",
      "Fixed Psi error:  0.000e+00   -->   0.000e+00(Wb)\n",
      "Fixed current profile error:  0.000e+00   -->   2.328e-10(A)\n",
      "Fixed electron density profile error:  0.000e+00   -->   0.000e+00(m^-3)\n",
      "Fixed electron temperature profile error:  0.000e+00   -->   0.000e+00(eV)\n",
      "Fixed ion temperature profile error:  0.000e+00   -->   0.000e+00(eV)\n",
      "Fixed atomic number profile error:  0.000e+00   -->   0.000e+00(dimensionless)\n",
      "Fixed sheet current error:  0.000e+00   -->   0.000e+00(~)\n"
     ]
    }
   ],
   "source": [
    "niters = 3\n",
    "for k in range(niters):\n",
    "    eq2 = eq2.copy()\n",
    "    # compute new guess for the current profile, consistent with Redl formula\n",
    "    data = eq2.compute(\"current Redl\", grid)\n",
    "    current = grid.compress(data[\"current Redl\"])\n",
    "    rho = grid.compress(data[\"rho\"])\n",
    "    # fit the current profile to a power series, with c_0=c_1=0\n",
    "    XX = np.fliplr(np.vander(rho, eq2.L + 1)[:, :-2])\n",
    "    eq2.c_l = np.pad(np.linalg.lstsq(XX, current, rcond=None)[0], (2, 0))\n",
    "    # re-solve the equilibrium\n",
    "    eq2, _ = eq2.solve(objective=\"force\", optimizer=\"lsq-exact\", verbose=3)\n",
    "    fam2.append(eq2)"
   ]
  },
  {
   "cell_type": "markdown",
   "metadata": {},
   "source": [
    "We can plot the current profile at each iteration to visualize how it changed: "
   ]
  },
  {
   "cell_type": "code",
   "execution_count": 15,
   "metadata": {},
   "outputs": [
    {
     "data": {
      "text/plain": [
       "<matplotlib.legend.Legend at 0x75f2c0bec320>"
      ]
     },
     "execution_count": 15,
     "metadata": {},
     "output_type": "execute_result"
    },
    {
     "data": {
      "image/png": "[encoded data removed]",
      "text/plain": [
       "<Figure size 384.07x384.07 with 1 Axes>"
      ]
     },
     "metadata": {},
     "output_type": "display_data"
    }
   ],
   "source": [
    "fig, ax = plot_1d(fam2[0], \"current\", linecolor=\"k\", lw=2, label=\"0\")\n",
    "fig, ax = plot_1d(fam2[1], \"current\", linecolor=\"g\", lw=2, label=\"1\", ax=ax)\n",
    "fig, ax = plot_1d(fam2[2], \"current\", linecolor=\"b\", lw=2, label=\"2\", ax=ax)\n",
    "fig, ax = plot_1d(fam2[3], \"current\", linecolor=\"r\", lw=2, label=\"3\", ax=ax)\n",
    "ax.legend(loc=\"best\")"
   ]
  },
  {
   "cell_type": "markdown",
   "metadata": {},
   "source": [
    "With this method the MHD equilibrium also has very good agreement with the Redl formula. "
   ]
  },
  {
   "cell_type": "code",
   "execution_count": 16,
   "metadata": {},
   "outputs": [
    {
     "data": {
      "text/plain": [
       "Text(0.5, 1.0, 'Method 2: Iterative Solves')"
      ]
     },
     "execution_count": 16,
     "metadata": {},
     "output_type": "execute_result"
    },
    {
     "data": {
      "image/png": "[encoded data removed]",
      "text/plain": [
       "<Figure size 384.07x384.07 with 1 Axes>"
      ]
     },
     "metadata": {},
     "output_type": "display_data"
    }
   ],
   "source": [
    "fig, ax = plot_1d(eq2, \"<J*B> Redl\", linecolor=\"b\", lw=2, label=\"Redl\")\n",
    "fig, ax = plot_1d(eq2, \"<J*B>\", linecolor=\"r\", lw=2, label=\"MHD\", ax=ax)\n",
    "ax.legend(loc=\"best\")\n",
    "ax.set_title(\"Method 2: Iterative Solves\")"
   ]
  },
  {
   "cell_type": "markdown",
   "metadata": {},
   "source": [
    "### Comparison"
   ]
  },
  {
   "cell_type": "markdown",
   "metadata": {},
   "source": [
    "Even though both methods give good self-consistency for the bootstrap current, they do result in slightly different coefficients for the current profile: "
   ]
  },
  {
   "cell_type": "code",
   "execution_count": 17,
   "metadata": {},
   "outputs": [
    {
     "name": "stdout",
     "output_type": "stream",
     "text": [
      "[ 0.00000000e+00  0.00000000e+00  1.41145084e+04  3.91874870e+06\n",
      "  1.65848986e+07 -6.90484352e+07  1.02895864e+08 -6.49192642e+07\n",
      "  1.28802983e+07]\n",
      "[ 0.00000000e+00  0.00000000e+00  4.33389142e+05 -1.65188950e+06\n",
      "  4.24588245e+07 -1.25903135e+08  1.66425745e+08 -9.90338248e+07\n",
      "  1.95848806e+07]\n"
     ]
    }
   ],
   "source": [
    "print(eq1.c_l)\n",
    "print(eq2.c_l)"
   ]
  },
  {
   "cell_type": "markdown",
   "metadata": {},
   "source": [
    "In this example, the first method of optimization gave better self-consistency but was noticeably slower than the second method of iterative solves. "
   ]
  }
 ],
 "metadata": {
  "kernelspec": {
   "display_name": "desc",
   "language": "python",
   "name": "python3"
  },
  "language_info": {
   "codemirror_mode": {
    "name": "ipython",
    "version": 3
   },
   "file_extension": ".py",
   "mimetype": "text/x-python",
   "name": "python",
   "nbconvert_exporter": "python",
   "pygments_lexer": "ipython3",
   "version": "3.12.0"
  }
 },
 "nbformat": 4,
 "nbformat_minor": 2
}
