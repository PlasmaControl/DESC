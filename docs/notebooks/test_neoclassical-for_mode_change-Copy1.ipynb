{
 "cells": [
  {
   "cell_type": "code",
   "execution_count": null,
   "id": "ad60e853",
   "metadata": {},
   "outputs": [
    {
     "name": "stdout",
     "output_type": "stream",
     "text": [
      "DESC version 0.11.1+1294.g67ea285c5.dirty,using JAX backend, jax version=0.4.30, jaxlib version=0.4.30, dtype=float64\n",
      "Using device: CPU, with 776.91 GB available memory\n"
     ]
    },
    {
     "name": "stderr",
     "output_type": "stream",
     "text": [
      "Invalid MIT-MAGIC-COOKIE-1 keyInvalid MIT-MAGIC-COOKIE-1 key"
     ]
    },
    {
     "name": "stdout",
     "output_type": "stream",
     "text": [
      "Current R and Z coefficients = [0.27787417], [0.]\n",
      "Changing R by a small value....\n"
     ]
    }
   ],
   "source": [
    "\"\"\"\n",
    "formatting for .py file\n",
    "\"\"\"\n",
    "\n",
    "import matplotlib.pyplot as plt\n",
    "import numpy as np\n",
    "import pytest\n",
    "from tests.test_plotting import tol_1d\n",
    "\n",
    "from desc.examples import get\n",
    "\n",
    "from desc.continuation import solve_continuation_automatic\n",
    "from desc.equilibrium import Equilibrium\n",
    "import os\n",
    "\n",
    "# load equilibrium\n",
    "file_path = os.path.abspath(\"../../desc/examples/W7-X_output.h5\")\n",
    "eq = Equilibrium.load(file_path)[-1]\n",
    "\n",
    "#changing value of R \n",
    "\n",
    "R0, Z0 = eq.surface.get_coeffs(m=0, n=1, )\n",
    "print(f\"Current R and Z coefficients = {R0}, {Z0}\")\n",
    "\n",
    "print(\"Changing R by a small value....\")\n",
    "\n",
    "eq.surface.set_coeffs(m=0, n=1,R = (R0+0.05)) #here I should just value = int(eval(sys.argv[1])) ? and use that as R\n",
    "\n",
    "eq = solve_continuation_automatic(eq, objective=\"force\", maxiter=100)[-1]\n",
    "\n",
    "\n",
    "rho = np.linspace(0, 1, 4)  # Making 4 radial evaluations of Gamma_c\n",
    "grid = eq.get_rtz_grid(\n",
    "        rho,\n",
    "        np.array([0]),\n",
    "        np.linspace(0, 20 * np.pi, 1000),\n",
    "        coordinates=\"raz\",\n",
    "        period=(np.inf, 2 * np.pi, np.inf),\n",
    "    )\n",
    "#compute Gamma_C on the grid \n",
    "data = eq.compute(\"Gamma_c\", grid=grid)\n",
    "    \n",
    "# Extract Gamma_c values corresponding to the radial points\n",
    "gamma_c_values = data[\"Gamma_c\"].reshape(4, -1).mean(axis=1)\n",
    "    \n",
    "# Output the values of Gamma_c at each of the 4 evaluated radial points\n",
    "for i, rho_val in enumerate(rho):\n",
    "    print(f\"Gamma_c at rho={rho_val}: {gamma_c_values[i]}\")\n",
    "    \n",
    "assert np.isfinite(gamma_c_values).all()\n",
    "    \n",
    "#plotting \n",
    "fig, ax = plt.subplots()\n",
    "ax.plot(rho, gamma_c_values, marker = '*')\n",
    "ax.set_xlabel('Radial Coordinate (rho)')\n",
    "ax.set_ylabel('Γ_c')\n",
    "ax.set_title('Γ_c vs. Radial Coordinate')\n",
    "ax.grid(True)\n",
    "\n",
    "\n"
   ]
  },
  {
   "cell_type": "code",
   "execution_count": null,
   "id": "4c78450b",
   "metadata": {},
   "outputs": [],
   "source": []
  },
  {
   "cell_type": "code",
   "execution_count": null,
   "id": "b97f7088",
   "metadata": {},
   "outputs": [],
   "source": []
  },
  {
   "cell_type": "code",
   "execution_count": null,
   "id": "20d6b0cf",
   "metadata": {},
   "outputs": [],
   "source": []
  },
  {
   "cell_type": "code",
   "execution_count": null,
   "id": "32638378",
   "metadata": {},
   "outputs": [],
   "source": []
  }
 ],
 "metadata": {
  "kernelspec": {
   "display_name": "desc-env [~/.conda/envs/desc-env/]",
   "language": "python",
   "name": "conda_desc-env"
  },
  "language_info": {
   "codemirror_mode": {
    "name": "ipython",
    "version": 3
   },
   "file_extension": ".py",
   "mimetype": "text/x-python",
   "name": "python",
   "nbconvert_exporter": "python",
   "pygments_lexer": "ipython3",
   "version": "3.11.0"
  }
 },
 "nbformat": 4,
 "nbformat_minor": 5
}
