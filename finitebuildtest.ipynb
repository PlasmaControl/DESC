{
 "cells": [
  {
   "cell_type": "code",
   "execution_count": 1,
   "metadata": {},
   "outputs": [
    {
     "name": "stderr",
     "output_type": "stream",
     "text": [
      "An NVIDIA GPU may be present on this machine, but a CUDA-enabled jaxlib is not installed. Falling back to cpu.\n"
     ]
    },
    {
     "name": "stdout",
     "output_type": "stream",
     "text": [
      "DESC version 0+untagged.9357.ge25fa3c.dirty,using JAX backend, jax version=0.4.31, jaxlib version=0.4.31, dtype=float64\n",
      "Using device: CPU, with 26.94 GB available memory\n"
     ]
    }
   ],
   "source": [
    "from desc.coils import FourierPlanarFiniteBuildCoil"
   ]
  },
  {
   "cell_type": "code",
   "execution_count": 2,
   "metadata": {},
   "outputs": [],
   "source": [
    "coil = FourierPlanarFiniteBuildCoil(cross_section_dims=[0.1,0.2], cross_section_shape= \"rectangular\", current = 1e6)"
   ]
  },
  {
   "cell_type": "code",
   "execution_count": 3,
   "metadata": {},
   "outputs": [
    {
     "data": {
      "text/plain": [
       "Array([[1.46416539e-35, 3.14159265e-01, 1.92367069e-17]], dtype=float64)"
      ]
     },
     "execution_count": 3,
     "metadata": {},
     "output_type": "execute_result"
    }
   ],
   "source": [
    "coil.compute_magnetic_field([10,0,0], basis = \"xyz\")"
   ]
  },
  {
   "cell_type": "code",
   "execution_count": 4,
   "metadata": {},
   "outputs": [
    {
     "data": {
      "text/plain": [
       "Array([[ 2.14669483e-17,  2.19783367e+01, -1.61864363e+01],\n",
       "       [ 2.14669483e-17,  1.94346492e+01, -2.01943844e+01],\n",
       "       [ 2.14669483e-17,  1.70073919e+01, -2.25127504e+01],\n",
       "       ...,\n",
       "       [ 1.21515284e-16, -1.66707196e+01,  2.34295745e+01],\n",
       "       [ 2.55084326e-16, -1.90652520e+01,  2.12454089e+01],\n",
       "       [ 4.65819361e-17, -2.15857174e+01,  1.73930145e+01]],      dtype=float64)"
      ]
     },
     "execution_count": 4,
     "metadata": {},
     "output_type": "execute_result"
    }
   ],
   "source": [
    "coil.compute_self_field(xsection_grid=10, coil_frame=True)"
   ]
  }
 ],
 "metadata": {
  "kernelspec": {
   "display_name": "desc-env",
   "language": "python",
   "name": "python3"
  },
  "language_info": {
   "codemirror_mode": {
    "name": "ipython",
    "version": 3
   },
   "file_extension": ".py",
   "mimetype": "text/x-python",
   "name": "python",
   "nbconvert_exporter": "python",
   "pygments_lexer": "ipython3",
   "version": "3.12.0"
  }
 },
 "nbformat": 4,
 "nbformat_minor": 2
}
