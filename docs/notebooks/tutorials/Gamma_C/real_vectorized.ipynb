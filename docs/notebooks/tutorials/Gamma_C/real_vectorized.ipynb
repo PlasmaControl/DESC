{
 "cells": [
  {
   "cell_type": "code",
   "execution_count": null,
   "id": "81ff6f7a-f45b-4a11-a8db-06e6400bdc75",
   "metadata": {},
   "outputs": [],
   "source": []
  },
  {
   "cell_type": "code",
   "execution_count": 59,
   "id": "cd733a12-eb50-4fb9-9379-8c578f235c3e",
   "metadata": {},
   "outputs": [
    {
     "name": "stdout",
     "output_type": "stream",
     "text": [
      "starting map coords\n",
      "mapped coords\n",
      "eq.compute done\n",
      "starting flattening\n",
      "flattened\n",
      "entering for loop\n"
     ]
    },
    {
     "name": "stderr",
     "output_type": "stream",
     "text": [
      "/home/jaxcrocker/anaconda3/envs/desc-env/lib/python3.10/site-packages/jax/_src/ops/scatter.py:87: FutureWarning: scatter inputs have incompatible types: cannot safely cast value from dtype=float64 to dtype=int64. In future JAX releases this will result in an error.\n",
      "  warnings.warn(\"scatter inputs have incompatible types: cannot safely cast \"\n"
     ]
    },
    {
     "name": "stdout",
     "output_type": "stream",
     "text": [
      "0.17034895595292157\n",
      "CPU times: user 4min 5s, sys: 40.6 s, total: 4min 46s\n",
      "Wall time: 3min 49s\n"
     ]
    }
   ],
   "source": [
    "%%time\n",
    "\n",
    "# from desc import set_device\n",
    "# set_device(\"gpu\")\n",
    "\n",
    "# running a job array with SLURM\n",
    "import os\n",
    "\n",
    "import jax.numpy as jnp\n",
    "import matplotlib.pyplot as plt\n",
    "import numpy as np\n",
    "\n",
    "import desc.io\n",
    "from desc.examples import get\n",
    "from desc.grid import LinearGrid\n",
    "\n",
    "# idx = int(os.environ[\"SLURM_ARRAY_TASK_ID\"])\n",
    "# s = ((idx % 50) + 1) / 50\n",
    "\n",
    "# if idx < 50:\n",
    "#     name = \"QA1\"\n",
    "# elif idx < 100 and idx >= 50:\n",
    "#     name = \"QA2\"\n",
    "# elif idx < 150 and idx >= 100:\n",
    "#     name = \"QA3\"\n",
    "# elif idx < 200 and idx >= 150:\n",
    "#     name = \"QA4\"\n",
    "# elif idx < 250 and idx >= 200:\n",
    "#     name = \"QA4n\"\n",
    "# elif idx < 300 and idx >= 250:\n",
    "#     name = \"QA5\"\n",
    "# elif idx < 350 and idx >= 300:\n",
    "#     name = \"QA4-1\"\n",
    "# elif idx < 400 and idx >= 350:\n",
    "#     name = \"QA4-2\"\n",
    "# elif idx < 450 and idx >= 400:\n",
    "#     name = \"QA4-3\"\n",
    "# elif idx < 500 and idx >= 450:\n",
    "#     name = \"QA4-4\"\n",
    "# elif idx < 550 and idx >= 500:\n",
    "#     name = \"QA5-1\"\n",
    "# elif idx < 600 and idx >= 550:\n",
    "#     name = \"QA5-2\"\n",
    "# elif idx < 650 and idx >= 600:\n",
    "#     name = \"QA5-3\"\n",
    "# elif idx < 700 and idx >= 650:\n",
    "#     name = \"QA5-4\"\n",
    "s = 0.5\n",
    "name = \"QA1\"\n",
    "eq = desc.io.load(name + \"_solved.h5\")\n",
    "\n",
    "# from desc.vmec import VMECIO\n",
    "# eq = VMECIO.load(\"wout_QA4n.nc\")\n",
    "# eq.save(\"wout_QA4n.h5\")\n",
    "# print('loaded eq')\n",
    "\n",
    "# eq = get(\"W7-X\")\n",
    "\n",
    "\n",
    "from desc.compute.utils import cross, dot\n",
    "from desc.grid import Grid\n",
    "\n",
    "# get iota at this surface to use for initial guess\n",
    "iota = eq.compute(\"iota\", grid=Grid(jnp.array([[jnp.sqrt(s), 0, 0]])))[\"iota\"]\n",
    "\n",
    "# keep steps within one field period consistent by multiplying by NFP\n",
    "stepswithin1FP = 100\n",
    "nfulltransits = 100\n",
    "stepswithin2pi = stepswithin1FP * eq.NFP\n",
    "\n",
    "coords = jnp.ones((stepswithin2pi * nfulltransits, 3))\n",
    "coords = coords.at[:, 0].set(coords[:, 0] * jnp.sqrt(s))\n",
    "coords = coords.at[:, 2].set(jnp.linspace(0, nfulltransits * 2 * jnp.pi, stepswithin2pi * nfulltransits))\n",
    "guess = coords.copy()\n",
    "\n",
    "alpha = 0\n",
    "coords = coords.at[:, 1].set(coords[:, 1] * alpha)  # set which field line we want\n",
    "\n",
    "# for initial guess, alpha = zeta + iota*theta*\n",
    "# rearrange for theta* and approx theta* ~ theta\n",
    "# theta = (alpha - zeta) / iota\n",
    "# as initial guess\n",
    "guess = guess.at[:, 1].set((alpha - guess[:, 2]) / iota)\n",
    "\n",
    "print(\"starting map coords\")\n",
    "coords1 = eq.map_coordinates(\n",
    "    coords=coords,\n",
    "    inbasis=[\"rho\", \"alpha\", \"zeta\"],\n",
    "    outbasis=[\"rho\", \"theta\", \"zeta\"],\n",
    "    period=[jnp.inf, 2 * jnp.pi, jnp.inf],\n",
    "    guess=guess,\n",
    ")  # (2 * jnp.pi / eq.NFP)],\n",
    "# )\n",
    "# reason is alpha = zeta + iota * theta*\n",
    "# if zeta is modded by 2pi/NFP, then after each field period, it is as if we are trying to\n",
    "# find the theta* for the point (alpha, zeta=0), which is DIFFERENT from (alpha,zeta=2pi/NFP)\n",
    "\n",
    "# print(coords1)\n",
    "\n",
    "coords1 = coords1.at[:, 2].set(coords[:, 2])\n",
    "\n",
    "print('mapped coords')\n",
    "\n",
    "# print(jnp.any(jnp.isnan(coords1)))\n",
    "# print(coords1)\n",
    "# print(jnp.where(jnp.isnan(coords1)))\n",
    "\n",
    "grid2 = Grid(coords1)\n",
    "# print(grid2)\n",
    "\n",
    "\n",
    "wellGamma_c = 0\n",
    "bigGamma_c = 0\n",
    "\n",
    "# compute important quantities in DESC.\n",
    "\n",
    "psi = eq.Psi  # might need to be normalized by 2pi\n",
    "\n",
    "data_names = [\n",
    "    \"|grad(psi)|\",\n",
    "    \"grad(psi)\",\n",
    "    \"|grad(zeta)|\",\n",
    "    \"e^zeta\",\n",
    "    \"|B|\",\n",
    "    \"|B|_r\",\n",
    "    \"e_theta\",\n",
    "    \"kappa_g\",\n",
    "    \"B^zeta\",\n",
    "    \"B^zeta_r\",\n",
    "    \"B_R\",\n",
    "    \"psi_r\",\n",
    "    \"B_phi\",\n",
    "    \"B_Z\",\n",
    "    \"iota_r\",\n",
    "    \"X\",\n",
    "    \"Y\",\n",
    "    \"Z\",\n",
    "]\n",
    "data = eq.compute(data_names, grid2)\n",
    "\n",
    "print(\"eq.compute done\")\n",
    "\n",
    "grad_psi_mag = data[\"|grad(psi)|\"]\n",
    "grad_psi = data[\"grad(psi)\"]\n",
    "grad_zeta_mag = data[\"|grad(zeta)|\"]\n",
    "grad_zeta = data[\"e^zeta\"]\n",
    "e_theta = jnp.linalg.norm(data[\"e_theta\"], axis=-1)\n",
    "kappa_g = data[\"kappa_g\"]\n",
    "Bsupz = data[\"B^zeta\"]\n",
    "dBsupzdpsi = data[\"B^zeta_r\"] * 2 * jnp.pi / data[\"psi_r\"]\n",
    "dBdpsi = data[\"|B|_r\"] * 2 * jnp.pi / data[\"psi_r\"]  # might need 2pi\n",
    "\n",
    "Br = data[\"B_R\"]\n",
    "Bphi = data[\"B_phi\"]\n",
    "zeta = coords1[:, 2]\n",
    "B = data[\"|B|\"]\n",
    "Bxyz = jnp.zeros((len(B), 3))\n",
    "Bxyz = Bxyz.at[:, 0].set(Br * jnp.cos(zeta) - Bphi * jnp.sin(zeta))\n",
    "Bxyz = Bxyz.at[:, 1].set(Br * jnp.sin(zeta) + Bphi * jnp.cos(zeta))\n",
    "Bxyz = Bxyz.at[:, 2].set(data[\"B_Z\"])\n",
    "\n",
    "dVdb_t1 = data[\"iota_r\"] * dot(cross(grad_psi, Bxyz), grad_zeta) / B\n",
    "\n",
    "# finding basic arc length of each segment\n",
    "x = data[\"X\"]\n",
    "y = data[\"Y\"]\n",
    "z = data[\"Z\"]\n",
    "ds = jnp.sqrt(\n",
    "    jnp.add(jnp.add(jnp.square(jnp.diff(x)), jnp.square(jnp.diff(y))), jnp.square(jnp.diff(z)))\n",
    ")\n",
    "\n",
    "maxB = jnp.nanmax(B)\n",
    "minB = jnp.nanmin(jnp.abs(B))\n",
    "\n",
    "# integrating dl/b\n",
    "dloverb = jnp.sum(ds/B[:-1])\n",
    "ds = jnp.append(ds, 0) # need to look into this\n",
    "\n",
    "bpstep = 80  # number of iterations through b'\n",
    "deltabp = (maxB - minB) / (minB * bpstep)\n",
    "bp = 1+ (deltabp*jnp.linspace(-0.5, bpstep-1.5, bpstep))\n",
    "\n",
    "B_reflect = minB * bp\n",
    "\n",
    "\n",
    "B_array = jnp.tile(B, bpstep)\n",
    "bp_array = jnp.repeat(bp, len(B))\n",
    "B_reflect_array = minB * bp_array\n",
    "\n",
    "# array with values 0 or 1 and length bpstep*len(B)\n",
    "# 0 means not in well, 1 is in well \n",
    "# First len(B) values are for bp = lowest, etc\n",
    "in_well = jnp.where(B_array < B_reflect_array, jnp.ones(len(B)*bpstep), jnp.zeros(len(B)*bpstep))\n",
    "\n",
    "\n",
    "# flattened grad_psi array with first len(B) values being bp = lowest etc\n",
    "# \"flattened\" means every value in each well is reduced to the value with the index corresponding to the minimum in B along that well.\n",
    "print(\"starting flattening\")\n",
    "grad_psi_flat = array_flatten_op(jnp.tile(grad_psi_mag, bpstep)*in_well, B_array)\n",
    "e_theta_flat = array_flatten_op(jnp.tile(e_theta, bpstep)*in_well, B_array)\n",
    "print(\"flattened\")\n",
    "\n",
    "ds_array = jnp.tile(ds, bpstep)\n",
    "sqrt_bbb_array = jnp.sqrt(1 - B_array / B_reflect_array)\n",
    "\n",
    "dIdb = jnp.nansum(((in_well * ds_array / bp_array / sqrt_bbb_array)).reshape([bpstep,len(B)]), axis = 1) / 2 / minB\n",
    "\n",
    "dgdb = jnp.nansum((in_well * ds_array * grad_psi_flat * jnp.tile(kappa_g, bpstep) / bp_array / B_array * (sqrt_bbb_array + 1 / sqrt_bbb_array)\n",
    ").reshape([bpstep,len(B)]),axis = 1) / 2\n",
    "\n",
    "dBdpsi_array = jnp.tile(dBdpsi, bpstep)\n",
    "\n",
    "dbigGdb = jnp.nansum((\n",
    "    in_well * dBdpsi_array * ds_array / B_reflect_array / bp_array / B_array * (sqrt_bbb_array + 1 / sqrt_bbb_array)\n",
    "        ).reshape([bpstep,len(B)]), axis = 1) / 2\n",
    "\n",
    "dVdb = jnp.nansum((\n",
    "    (in_well * jnp.tile(dVdb_t1, bpstep) - (2 * dBdpsi_array - B_array / jnp.tile(Bsupz, bpstep) * jnp.tile(dBsupzdpsi, bpstep)))\n",
    "    * ds_array / B_array / B_reflect_array * sqrt_bbb_array\n",
    "        ).reshape([bpstep,len(B)]), axis = 1) * 1.5\n",
    "\n",
    "print(\"entering for loop\")\n",
    "\n",
    "well_start_inds = jnp.where(jnp.diff(in_well) == 1)[0] + 1\n",
    "\n",
    "B_len = len(B)\n",
    "bp_ind = well_start_inds // B_len\n",
    "vrovervt = jnp.zeros_like(well_start_inds)\n",
    "wellGamma_c = jnp.zeros_like(well_start_inds)\n",
    "for i in range(len(well_start_inds)):\n",
    "    temp = dgdb[bp_ind[i]] / grad_psi_flat[well_start_inds[i]] / dIdb[bp_ind[i]] / minB / e_theta_flat[well_start_inds[i]]\n",
    "    vrovervt = temp / (dbigGdb[bp_ind[i]] / dIdb[bp_ind[i]] + 2 / 3 * dVdb[bp_ind[i]] / dIdb[bp_ind[i]])\n",
    "\n",
    "    gamma_c = 2 * jnp.arctan(vrovervt) / jnp.pi\n",
    "    wellGamma_c = wellGamma_c.at[i].set(gamma_c * gamma_c * dIdb[bp_ind[i]])\n",
    "\n",
    "bigGamma_c = jnp.sum(wellGamma_c) * jnp.pi / 2 / jnp.sqrt(2) * deltabp / dloverb\n",
    "\n",
    "print(bigGamma_c)\n",
    "\n",
    "# file = name + \"_10kSolved.txt\"\n",
    "# f = open(file, \"a\")\n",
    "# f.write(f\"{s:1.2f}, {bigGamma_c:1.3e}\\n\")\n",
    "# f.close()\n"
   ]
  },
  {
   "cell_type": "code",
   "execution_count": 43,
   "id": "ed7acacb-030e-4cf6-8541-4e850d2515e4",
   "metadata": {},
   "outputs": [],
   "source": [
    "import jax.numpy as jnp\n",
    "\n",
    "def seg_argmin(arr1, arr2): # return list of indices of minimum values in arr2 in each arr1 well\n",
    "    min_indices = []\n",
    "    for i in range(len(arr1)):\n",
    "        if arr1[i] == 0:\n",
    "            rolling_min = jnp.inf\n",
    "            continue\n",
    "        elif arr2[i] < rolling_min:\n",
    "            rolling_min = arr2[i]\n",
    "            rolling_min_indice = i\n",
    "        if arr1[i+1] == 0:\n",
    "            min_indices.append(rolling_min_indice)\n",
    "    return min_indices\n",
    "\n",
    "\n",
    "\n",
    "def array_flatten(arr1, arr2): # return arr1 with each well flattened to the value with the same indice as the minimum of arr2 along that well\n",
    "    min_indices = seg_argmin(arr1, arr2)\n",
    "    j = 0\n",
    "    for i in range(len(arr1)):\n",
    "        if arr1[i-1] == 0 and arr1[i] != 0:\n",
    "            start_ind = i\n",
    "        if arr1[i+1] == 0 and arr1[i] != 0:\n",
    "            arr1 = arr1.at[start_ind:i+1].set(arr1[min_indices[j]])\n",
    "            j += 1\n",
    "    return arr1\n",
    "\n",
    "\n",
    "# array1 = jnp.array([0, 1, 2, 3, 0, 5, 7, 9, 0])\n",
    "# array2 = jnp.array([1, 5, 2, 6, 7, 8, 6, 3, 5])\n",
    "# print(seg_argmin(array1, array2))\n",
    "# print(array_flatten(array1, array2))\n",
    "        "
   ]
  },
  {
   "cell_type": "code",
   "execution_count": 55,
   "id": "f3c8ea34-3d82-4d02-8ae4-3edb32f3abee",
   "metadata": {},
   "outputs": [
    {
     "name": "stdout",
     "output_type": "stream",
     "text": [
      "[2 7]\n",
      "[0 2 2 2 0 9 9 9 0]\n",
      "[0 2 2 2 0 9 9 9 0]\n"
     ]
    }
   ],
   "source": [
    "def array_flatten_op(arr1, arr2):\n",
    "    start = jnp.where(jnp.logical_and(arr1 != 0, jnp.roll(arr1, 1) ==0))[0]\n",
    "    end = jnp.where(jnp.logical_and(arr1 != 0, jnp.roll(arr1, -1) ==0))[0]\n",
    "    min_indices = seg_argmin_op(arr1,arr2,start,end)\n",
    "    for i in range(len(min_indices)):\n",
    "        arr1 = arr1.at[start[i]:end[i]+1].set(arr1[min_indices[i]])\n",
    "    return arr1\n",
    "\n",
    "def seg_argmin_op(arr1, arr2, start, end):\n",
    "    min_indices = jnp.zeros_like(start)\n",
    "    for i in range(len(start)):\n",
    "        ind_inwell = jnp.argmin(arr2[start[i]:end[i]+1])\n",
    "        min_indices = min_indices.at[i].set(start[i] + ind_inwell)\n",
    "    return min_indices\n",
    "\n",
    "\n",
    "\n",
    "array1 = jnp.array([0, 1, 2, 3, 0, 5, 7, 9, 0])\n",
    "array2 = jnp.array([1, 5, 2, 6, 7, 8, 6, 3, 5])\n",
    "\n",
    "start = jnp.where(jnp.logical_and(array1 != 0, jnp.roll(array1, 1) ==0))[0]\n",
    "end = jnp.where(jnp.logical_and(array1 != 0, jnp.roll(array1, -1) ==0))[0]\n",
    "print(seg_argmin_op(array1, array2, start,end))\n",
    "print(array_flatten(array1, array2))\n",
    "print(array_flatten_op(array1, array2))"
   ]
  },
  {
   "cell_type": "code",
   "execution_count": 11,
   "id": "dbfc9ca0-2e30-4cde-828b-1f02082944b6",
   "metadata": {},
   "outputs": [
    {
     "data": {
      "text/plain": [
       "0.5323510129695246"
      ]
     },
     "execution_count": 11,
     "metadata": {},
     "output_type": "execute_result"
    }
   ],
   "source": [
    "0.5323510129695246"
   ]
  },
  {
   "cell_type": "code",
   "execution_count": 30,
   "id": "e64f3e3b-a791-4187-95b1-0e8d13b99227",
   "metadata": {},
   "outputs": [
    {
     "name": "stdout",
     "output_type": "stream",
     "text": [
      "[0. 0. 0. ... 1. 1. 1.]\n"
     ]
    }
   ],
   "source": [
    "print(in_well)"
   ]
  },
  {
   "cell_type": "code",
   "execution_count": 32,
   "id": "985b2a9b-e265-4a46-b50d-a73756bf8bfe",
   "metadata": {},
   "outputs": [
    {
     "name": "stdout",
     "output_type": "stream",
     "text": [
      "[ 1  2  3  4  5  6  7  7  8  8  8  9  9  9 10 10 10 11 11 11 12 12 12 13\n",
      " 13 13 14 14 14 15 15 15 16 16 16 17 17 17 18 18 18 19 19 19 19 20 20 20\n",
      " 21 21 21 22 22 22 23 23 23 24 24 24 25 25 25 26 26 26 27 27 27 28 28 28\n",
      " 29 29 29 30 30 30 31 31 31 32 32 32 33 33 33 34 34 34 35 35 35 36 36 36\n",
      " 37 37 37 38 38 38 39 39 39 40 40 40 41 41 41 42 42 42 43 43 43 44 44 44\n",
      " 45 45 45 46 46 46 47 47 47 48 48 48 49 49 49 50 50 50 51 51 51 52 52 52\n",
      " 53 53 53 54 54 54 54 55 55 55 56 56 56 57 57 57 58 58 58 59 59 59 60 60\n",
      " 60 61 61 61 62 62 62 63 63 63 63 64 64 64 64 65 65 65 66 66 66 67 67 67\n",
      " 68 68 68 69 69 69 70 70 70 70 71 71 71 71 71 72 72 72 72 72 72 73 73 73\n",
      " 73 73 73 73 74 74 74 74 74 74 74 75 75 75 75 75 75 76 76 77 78 79]\n"
     ]
    }
   ],
   "source": [
    "print(bp_ind)"
   ]
  },
  {
   "cell_type": "code",
   "execution_count": 31,
   "id": "b9c84fc5-5e3a-4559-a843-ade55307477c",
   "metadata": {},
   "outputs": [
    {
     "name": "stdout",
     "output_type": "stream",
     "text": [
      "[nan nan nan nan nan nan nan nan nan nan nan nan nan nan nan nan nan nan\n",
      " nan nan nan nan nan nan nan nan nan nan nan nan nan nan nan nan nan nan\n",
      " nan nan nan nan nan nan nan nan nan nan nan nan nan nan nan nan nan nan\n",
      " nan nan nan nan nan nan nan nan nan nan nan nan nan nan nan nan nan nan\n",
      " nan nan nan nan nan nan nan nan]\n"
     ]
    }
   ],
   "source": [
    "print(dIdb)"
   ]
  },
  {
   "cell_type": "code",
   "execution_count": 33,
   "id": "59145598-049e-495f-8864-aabbc53c1da3",
   "metadata": {},
   "outputs": [
    {
     "name": "stdout",
     "output_type": "stream",
     "text": [
      "[0. 0. 0. 0. 0. 0. 0. 0. 0. 0. 0. 0. 0. 0. 0. 0. 0. 0. 0. 0. 0. 0. 0. 0.\n",
      " 0. 0. 0. 0. 0. 0. 0. 0. 0. 0. 0. 0. 0. 0. 0. 0. 0. 0. 0. 0. 0. 0. 0. 0.\n",
      " 0. 0. 0. 0. 0. 0. 0. 0. 0. 0. 0. 0. 0. 0. 0. 0. 0. 0. 0. 0. 0. 0. 0. 0.\n",
      " 0. 0. 0. 0. 0. 0. 0. 0. 0. 0. 0. 0. 0. 0. 0. 0. 0. 0. 0. 0. 0. 0. 0. 0.\n",
      " 0. 0. 0. 0. 0. 0. 0. 0. 0. 0. 0. 0. 0. 0. 0. 0. 0. 0. 0. 0. 0. 0. 0. 0.\n",
      " 0. 0. 0. 0. 0. 0. 0. 0. 0. 0. 0. 0. 0. 0. 0. 0. 0. 0. 0. 0. 0. 0. 0. 0.\n",
      " 0. 0. 0. 0. 0. 0. 0. 0. 0. 0. 0. 0. 0. 0. 0. 0. 0. 0. 0. 0. 0. 0. 0. 0.\n",
      " 0. 0. 0. 0. 0. 0. 0. 0. 0. 0. 0. 0. 0. 0. 0. 0. 0. 0. 0. 0. 0. 0. 0. 0.\n",
      " 0. 0. 0. 0. 0. 0. 0. 0. 0. 0. 0. 0. 0. 0. 0. 0. 0. 0. 0. 0. 0. 0. 0. 0.\n",
      " 0. 0. 0. 0. 0. 0. 0. 0. 0. 0. 0. 0. 0. 0. 0. 0. 0. 0. 0. 0. 0. 0.]\n"
     ]
    }
   ],
   "source": [
    "print(gamma_c)"
   ]
  },
  {
   "cell_type": "code",
   "execution_count": 34,
   "id": "d07ad0ad-0fb0-413d-8cec-3c474435d22f",
   "metadata": {},
   "outputs": [
    {
     "name": "stdout",
     "output_type": "stream",
     "text": [
      "[0 0 0 0 0 0 0 0 0 0 0 0 0 0 0 0 0 0 0 0 0 0 0 0 0 0 0 0 0 0 0 0 0 0 0 0 0\n",
      " 0 0 0 0 0 0 0 0 0 0 0 0 0 0 0 0 0 0 0 0 0 0 0 0 0 0 0 0 0 0 0 0 0 0 0 0 0\n",
      " 0 0 0 0 0 0 0 0 0 0 0 0 0 0 0 0 0 0 0 0 0 0 0 0 0 0 0 0 0 0 0 0 0 0 0 0 0\n",
      " 0 0 0 0 0 0 0 0 0 0 0 0 0 0 0 0 0 0 0 0 0 0 0 0 0 0 0 0 0 0 0 0 0 0 0 0 0\n",
      " 0 0 0 0 0 0 0 0 0 0 0 0 0 0 0 0 0 0 0 0 0 0 0 0 0 0 0 0 0 0 0 0 0 0 0 0 0\n",
      " 0 0 0 0 0 0 0 0 0 0 0 0 0 0 0 0 0 0 0 0 0 0 0 0 0 0 0 0 0 0 0 0 0 0 0 0 0\n",
      " 0 0 0 0 0 0 0 0 0 0 0 0 0 0 0 0]\n"
     ]
    }
   ],
   "source": [
    "print(wellGamma_c)"
   ]
  },
  {
   "cell_type": "code",
   "execution_count": 35,
   "id": "bc9c23e6-2512-4829-9855-4bff6d80d196",
   "metadata": {},
   "outputs": [
    {
     "data": {
      "text/plain": [
       "Array([0.9984231, 0.9984231, 0.9984231, ..., 1.247574 , 1.247574 ,\n",
       "       1.247574 ], dtype=float64)"
      ]
     },
     "execution_count": 35,
     "metadata": {},
     "output_type": "execute_result"
    }
   ],
   "source": [
    "bp_array"
   ]
  },
  {
   "cell_type": "code",
   "execution_count": 36,
   "id": "074ee464-5be0-4dbf-9a0b-8bed9a8e477a",
   "metadata": {},
   "outputs": [
    {
     "data": {
      "text/plain": [
       "Array([       nan,        nan,        nan, ..., 0.33280666, 0.36694597,\n",
       "       0.39132203], dtype=float64)"
      ]
     },
     "execution_count": 36,
     "metadata": {},
     "output_type": "execute_result"
    }
   ],
   "source": [
    "sqrt_bbb_array"
   ]
  },
  {
   "cell_type": "code",
   "execution_count": 37,
   "id": "da45021c-45a0-4489-b5a9-5c48cddb2832",
   "metadata": {},
   "outputs": [
    {
     "data": {
      "text/plain": [
       "Array([nan, nan, nan, nan, nan, nan, nan, nan, nan, nan, nan, nan, nan,\n",
       "       nan, nan, nan, nan, nan, nan, nan, nan, nan, nan, nan, nan, nan,\n",
       "       nan, nan, nan, nan, nan, nan, nan, nan, nan, nan, nan, nan, nan,\n",
       "       nan, nan, nan, nan, nan, nan, nan, nan, nan, nan, nan, nan, nan,\n",
       "       nan, nan, nan, nan, nan, nan, nan, nan, nan, nan, nan, nan, nan,\n",
       "       nan, nan, nan, nan, nan, nan, nan, nan, nan, nan, nan, nan, nan,\n",
       "       nan, nan], dtype=float64)"
      ]
     },
     "execution_count": 37,
     "metadata": {},
     "output_type": "execute_result"
    }
   ],
   "source": [
    "dgdb"
   ]
  },
  {
   "cell_type": "code",
   "execution_count": 50,
   "id": "7a4885f6-3319-488f-8723-18042cec0078",
   "metadata": {},
   "outputs": [
    {
     "name": "stdout",
     "output_type": "stream",
     "text": [
      "CPU times: user 5min 4s, sys: 251 ms, total: 5min 5s\n",
      "Wall time: 5min 5s\n"
     ]
    }
   ],
   "source": [
    "%%time\n",
    "grad_psi_flat = array_flatten(jnp.tile(grad_psi_mag, bpstep)*in_well, B_array)\n",
    "e_theta_flat = array_flatten(jnp.tile(e_theta, bpstep)*in_well, B_array)"
   ]
  },
  {
   "cell_type": "code",
   "execution_count": 51,
   "id": "95dbcfe7-3d18-4098-befe-89da94df7558",
   "metadata": {},
   "outputs": [
    {
     "name": "stdout",
     "output_type": "stream",
     "text": [
      "CPU times: user 1min 56s, sys: 130 ms, total: 1min 56s\n",
      "Wall time: 1min 56s\n"
     ]
    }
   ],
   "source": [
    "%%time\n",
    "grad_psi_flat = array_flatten_op(jnp.tile(grad_psi_mag, bpstep)*in_well, B_array)\n",
    "e_theta_flat = array_flatten_op(jnp.tile(e_theta, bpstep)*in_well, B_array)"
   ]
  },
  {
   "cell_type": "code",
   "execution_count": 56,
   "id": "8498ae2e-38ee-46fe-a7c1-780b899d4b43",
   "metadata": {},
   "outputs": [
    {
     "name": "stdout",
     "output_type": "stream",
     "text": [
      "CPU times: user 12.9 s, sys: 19.9 ms, total: 12.9 s\n",
      "Wall time: 12.9 s\n"
     ]
    }
   ],
   "source": [
    "%%time\n",
    "grad_psi_flat = array_flatten_op(jnp.tile(grad_psi_mag, bpstep)*in_well, B_array)\n",
    "e_theta_flat = array_flatten_op(jnp.tile(e_theta, bpstep)*in_well, B_array)"
   ]
  },
  {
   "cell_type": "code",
   "execution_count": null,
   "id": "88302053-c83c-4245-8fe7-789423de620d",
   "metadata": {},
   "outputs": [],
   "source": []
  }
 ],
 "metadata": {
  "kernelspec": {
   "display_name": "Python 3 (ipykernel)",
   "language": "python",
   "name": "python3"
  },
  "language_info": {
   "codemirror_mode": {
    "name": "ipython",
    "version": 3
   },
   "file_extension": ".py",
   "mimetype": "text/x-python",
   "name": "python",
   "nbconvert_exporter": "python",
   "pygments_lexer": "ipython3",
   "version": "3.10.4"
  }
 },
 "nbformat": 4,
 "nbformat_minor": 5
}
