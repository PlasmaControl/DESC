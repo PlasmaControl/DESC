{
 "cells": [
  {
   "cell_type": "code",
   "execution_count": 1,
   "id": "c3bfcfee",
   "metadata": {},
   "outputs": [
    {
     "name": "stderr",
     "output_type": "stream",
     "text": [
      "/home/fcastro/DESC/desc/__init__.py:98: UserWarning: No GPU found, falling back to CPU\n",
      "  warnings.warn(colored(\"No GPU found, falling back to CPU\", \"yellow\"))\n"
     ]
    }
   ],
   "source": [
    "from desc import set_device\n",
    "set_device(\"gpu\")"
   ]
  },
  {
   "cell_type": "code",
   "execution_count": 2,
   "id": "9ce0c44f",
   "metadata": {},
   "outputs": [
    {
     "name": "stdout",
     "output_type": "stream",
     "text": [
      "DESC version 0.12.3+553.gcb761a802.dirty,using JAX backend, jax version=0.4.35, jaxlib version=0.4.34, dtype=float64\n",
      "Using device: CPU, with 953.66 GB available memory\n"
     ]
    }
   ],
   "source": [
    "import numpy as np\n",
    "import os\n",
    "\n",
    "from scipy.io import netcdf_file\n",
    "import copy\n",
    "import matplotlib\n",
    "import matplotlib.pyplot as plt\n",
    "import scipy\n",
    "from scipy.constants import mu_0\n",
    "import sys\n",
    "import functools\n",
    "import pickle\n",
    "\n",
    "import jax\n",
    "import jax.numpy as jnpå\n",
    "from jax import jit, jacfwd\n",
    "\n",
    "from netCDF4 import Dataset\n",
    "import h5py\n",
    "\n",
    "from desc.backend import put, fori_loop, jnp, sign\n",
    "\n",
    "from desc.basis import FourierZernikeBasis, DoubleFourierSeries, FourierSeries\n",
    "\n",
    "from desc.equilibrium import EquilibriaFamily, Equilibrium\n",
    "from desc.grid import ConcentricGrid, LinearGrid, Grid, QuadratureGrid\n",
    "from desc.io import InputReader, load\n",
    "from desc.objectives import *\n",
    "from desc.objectives.objective_funs import _Objective\n",
    "from desc.plotting import plot_1d, plot_2d, plot_3d, plot_section, plot_surfaces, plot_comparison\n",
    "\n",
    "from desc.plotting import *\n",
    "\n",
    "from desc.transform import Transform\n",
    "from desc.vmec import VMECIO\n",
    "from desc.derivatives import Derivative\n",
    "from desc.geometry import FourierRZToroidalSurface\n",
    "from desc.profiles import SplineProfile, PowerSeriesProfile\n",
    "\n",
    "from desc.magnetic_fields import ( SplineMagneticField, \n",
    "                                  FourierCurrentPotentialField, ToroidalMagneticField,\n",
    "                                  field_line_integrate)\n",
    "\n",
    "import desc.examples\n",
    "\n",
    "from desc.backend import fori_loop, jit, jnp, odeint, sign\n",
    "from desc.compute import rpz2xyz, rpz2xyz_vec, xyz2rpz, xyz2rpz_vec\n",
    "from desc.coils import *\n",
    "\n",
    "from desc.utils import flatten_list\n",
    "\n",
    "from desc.utils import Timer, copy_coeffs, errorif, setdefault, svd_inv_null, warnif\n",
    "\n",
    "from desc.utils import cross, dot\n",
    "\n",
    "from desc.optimize import lsqtr, lsq_auglag\n",
    "\n",
    "from scipy.optimize import NonlinearConstraint \n",
    "\n",
    "from desc.magnetic_fields import FourierCurrentPotentialField\n",
    "#from desc.magnetic_fields._current_potential import run_regcoil\n",
    "\n",
    "import time\n",
    "\n",
    "import numpy as np\n",
    "from numpy.linalg import eig\n",
    "\n",
    "from scipy.linalg import null_space\n",
    "from numpy import ndarray\n",
    "\n",
    "from desc.fns_simp import (#data_eval, \n",
    "                           plot_figure,\n",
    "                           plot_figure2,\n",
    "                           #plot_figure3,\n",
    "                           #plot_figure4,\n",
    "                           plot_xy,\n",
    "                           surf_int,\n",
    "                           _compute_magnetic_field_from_Current)\n",
    "\n",
    "from find_dips import (#f_pair,\n",
    "                       #   omega_pair,\n",
    "                       #   comp_loc, \n",
    "                       #   shift_grid,\n",
    "                       #   alt_grid,\n",
    "                          iso_coords_interp,\n",
    "                      bn_res,\n",
    "                      B_dips,\n",
    "                        B_sticks,\n",
    "                      K_dips)"
   ]
  },
  {
   "cell_type": "code",
   "execution_count": 3,
   "id": "f4cd9266",
   "metadata": {},
   "outputs": [],
   "source": [
    "N = 20 # Terms toa pproximate the infinite series\n",
    "\n",
    "# Numer of dipoles\n",
    "sMv = np.asarray([25,])\n",
    "#sMv = np.asarray([5,10,20,25,])\n",
    "#sMv = np.asarray([65])\n",
    "sNv = np.asarray([30,35,\n",
    "                  #40,45,50,\n",
    "                 ])\n",
    "#sNv = sMv\n",
    "\n",
    "b_chi = []\n",
    "source_chi = [] # Store the sum of sinks and sources of current\n",
    "max_I = []"
   ]
  },
  {
   "cell_type": "code",
   "execution_count": 4,
   "id": "b07f33f8",
   "metadata": {},
   "outputs": [],
   "source": [
    "for i in range(0,len(sNv)):\n",
    "\n",
    "    p_M = sMv[0]\n",
    "    p_N = sNv[i]\n",
    "\n",
    "    \n",
    "    soln = np.load('soln_M_' + str(p_M) + '_N_' + str(p_N) + '.npy')\n",
    "    error = np.load('error_M_' + str(p_M) + '_N_' + str(p_N) + '.npy')\n",
    "        \n",
    "    #G_chi.append(soln[-1])\n",
    "    b_chi.append(error)\n",
    "    max_I.append(max(abs(soln)))"
   ]
  },
  {
   "cell_type": "code",
   "execution_count": 5,
   "id": "dca7afca",
   "metadata": {},
   "outputs": [
    {
     "data": {
      "image/png": "[encoded data removed]",
      "text/plain": [
       "<Figure size 432x288 with 1 Axes>"
      ]
     },
     "metadata": {},
     "output_type": "display_data"
    }
   ],
   "source": [
    "plot_xy(np.log10(b_chi), \n",
    "        np.log10(( sMv * 2 + 1 ) * ( sNv * 2 + 1 ) * 2), # grid to plot on\n",
    "        ''r'$\\log_{10} \\int | \\mathbf{B_s - B_{dip}} | ^2 dS$', # title for the figure\n",
    "        ''r'$\\log_{10} N^2 $', # title of x axis\n",
    "       )"
   ]
  },
  {
   "cell_type": "code",
   "execution_count": 6,
   "id": "4dc50683",
   "metadata": {
    "scrolled": true
   },
   "outputs": [],
   "source": [
    "#plot_xy(np.log10(jnp.asarray(source_chi)), \n",
    "#        np.log10(( sMv * 2 + 1 ) * ( sNv * 2 + 1 ) * 2), # grid to plot on\n",
    "#        ''r'$\\log_{10} \\Sigma d_i $', # title for the figure\n",
    "#        ''r'$\\log_{10} N^2 $', # title of x axis\n",
    "#       )"
   ]
  },
  {
   "cell_type": "code",
   "execution_count": 7,
   "id": "858cd55f-1f7d-48b1-b0d8-000a989eb0b6",
   "metadata": {},
   "outputs": [
    {
     "data": {
      "image/png": "[encoded data removed]",
      "text/plain": [
       "<Figure size 432x288 with 1 Axes>"
      ]
     },
     "metadata": {},
     "output_type": "display_data"
    }
   ],
   "source": [
    "plot_xy(np.log10(jnp.asarray(max_I)), \n",
    "        np.log10(( sMv * 2 + 1 ) * ( sNv * 2 + 1 ) * 2), # grid to plot on\n",
    "        ''r'$\\log_{10} I_{max} $', # title for the figure\n",
    "        ''r'$\\log_{10} N^2 $', # title of x axis\n",
    "       )"
   ]
  },
  {
   "cell_type": "code",
   "execution_count": 8,
   "id": "28b0d1eb-e1b3-46b4-abf8-9f36cc56e540",
   "metadata": {},
   "outputs": [
    {
     "data": {
      "image/png": "[encoded data removed]",
      "text/plain": [
       "<Figure size 432x288 with 1 Axes>"
      ]
     },
     "metadata": {},
     "output_type": "display_data"
    }
   ],
   "source": [
    "plot_xy(jnp.asarray(max_I)*1e-3, \n",
    "        np.log10(( sMv * 2 + 1 ) * ( sNv * 2 + 1 ) * 2), # grid to plot on\n",
    "        ''r'$ I_{max} $ (kA)', # title for the figure\n",
    "        ''r'$\\log_{10} N^2 $', # title of x axis\n",
    "       )"
   ]
  },
  {
   "cell_type": "code",
   "execution_count": null,
   "id": "fea0e632-e0e6-4ca1-b8ce-423bee026cb1",
   "metadata": {},
   "outputs": [],
   "source": []
  }
 ],
 "metadata": {
  "kernelspec": {
   "display_name": "desc-env [~/.conda/envs/desc-env/]",
   "language": "python",
   "name": "conda_desc-env"
  },
  "language_info": {
   "codemirror_mode": {
    "name": "ipython",
    "version": 3
   },
   "file_extension": ".py",
   "mimetype": "text/x-python",
   "name": "python",
   "nbconvert_exporter": "python",
   "pygments_lexer": "ipython3",
   "version": "3.11.0"
  }
 },
 "nbformat": 4,
 "nbformat_minor": 5
}
