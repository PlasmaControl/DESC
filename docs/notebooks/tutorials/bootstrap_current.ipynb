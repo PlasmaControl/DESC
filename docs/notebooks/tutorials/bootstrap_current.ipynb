{
 "cells": [
  {
   "cell_type": "markdown",
   "metadata": {},
   "source": [
    "# Bootstrap Current Self-Consistency"
   ]
  },
  {
   "cell_type": "markdown",
   "metadata": {},
   "source": [
    "This tutorial demonstrates how to optimize a quasi-symmetric equilibrium to have a self-consistent bootstrap current profile. \n",
    "This is performed by minimizing the difference between the toroidal currents $\\langle J \\cdot B \\rangle$ computed from the MHD equilibrium and from the Redl formula. \n",
    "The Redl formula is only valid in the limit of perfect quasi-symmetry, so this procedure will not work for other configurations that are not quasi-symmetric. \n",
    "\n",
    "There are two methods that can be used, and both will be shown: \n",
    "\n",
    "1. Optimize the current profile for self-consistency\n",
    "2. Iteratively solve the equilibrium with new current profiles\n",
    "\n",
    "These methods should be equivalent, although one might be faster than the other depending on the particular problem. "
   ]
  },
  {
   "cell_type": "code",
   "execution_count": 1,
   "metadata": {},
   "outputs": [],
   "source": [
    "import sys\n",
    "import os\n",
    "\n",
    "sys.path.insert(0, os.path.abspath(\".\"))\n",
    "sys.path.append(os.path.abspath(\"../../../\"))"
   ]
  },
  {
   "cell_type": "markdown",
   "metadata": {},
   "source": [
    "If you have access to a GPU, uncomment the following two lines before any DESC or JAX related imports. You should see about an order of magnitude speed improvement with only these two lines of code!"
   ]
  },
  {
   "cell_type": "code",
   "execution_count": 2,
   "metadata": {},
   "outputs": [],
   "source": [
    "# from desc import set_device\n",
    "# set_device(\"gpu\")"
   ]
  },
  {
   "cell_type": "markdown",
   "metadata": {},
   "source": [
    "As mentioned in [DESC Documentation on performance tips](https://desc-docs.readthedocs.io/en/latest/performance_tips.html), one can use compilation cache directory to reduce the compilation overhead time. Note: One needs to create `jax-caches` folder manually."
   ]
  },
  {
   "cell_type": "code",
   "execution_count": 3,
   "metadata": {},
   "outputs": [],
   "source": [
    "# import jax\n",
    "\n",
    "# jax.config.update(\"jax_compilation_cache_dir\", \"../jax-caches\")\n",
    "# jax.config.update(\"jax_persistent_cache_min_entry_size_bytes\", -1)\n",
    "# jax.config.update(\"jax_persistent_cache_min_compile_time_secs\", 0)"
   ]
  },
  {
   "cell_type": "code",
   "execution_count": 4,
   "metadata": {},
   "outputs": [
    {
     "name": "stderr",
     "output_type": "stream",
     "text": [
      "ERROR:2025-10-14 18:24:23,145:jax._src.xla_bridge:444: Jax plugin configuration error: Exception when calling jax_plugins.xla_cuda12.initialize()\n",
      "Traceback (most recent call last):\n",
      "  File \"/home/dpanici/.conda/envs/desc-env/lib/python3.12/site-packages/jax/_src/xla_bridge.py\", line 442, in discover_pjrt_plugins\n",
      "    plugin_module.initialize()\n",
      "  File \"/home/dpanici/.conda/envs/desc-env/lib/python3.12/site-packages/jax_plugins/xla_cuda12/__init__.py\", line 324, in initialize\n",
      "    _check_cuda_versions(raise_on_first_error=True)\n",
      "  File \"/home/dpanici/.conda/envs/desc-env/lib/python3.12/site-packages/jax_plugins/xla_cuda12/__init__.py\", line 281, in _check_cuda_versions\n",
      "    local_device_count = cuda_versions.cuda_device_count()\n",
      "                         ^^^^^^^^^^^^^^^^^^^^^^^^^^^^^^^^^\n",
      "RuntimeError: jaxlib/cuda/versions_helpers.cc:113: operation cuInit(0) failed: Unknown CUDA error 303; cuGetErrorName failed. This probably means that JAX was unable to load the CUDA libraries.\n",
      "/home/dpanici/DESC/desc/integrals/_interp_utils.py:19: UserWarning: \n",
      "jax-finufft is not installed.\n",
      "If you want to use NUFFTs, follow the DESC installation instructions.\n",
      "Otherwise you must set the parameter nufft_eps to zero\n",
      "when computing effective ripple, Gamma_c, and any other\n",
      "computations that involve bounce integrals.\n",
      "\n",
      "  warnings.warn(\n"
     ]
    }
   ],
   "source": [
    "import numpy as np\n",
    "\n",
    "np.set_printoptions(linewidth=np.inf)\n",
    "import matplotlib.pyplot as plt\n",
    "\n",
    "plt.rcParams[\"font.size\"] = 14\n",
    "\n",
    "from desc.compat import rescale\n",
    "from desc.equilibrium import EquilibriaFamily\n",
    "from desc.examples import get\n",
    "from desc.grid import LinearGrid\n",
    "from desc.objectives import (\n",
    "    BootstrapRedlConsistency,\n",
    "    FixAtomicNumber,\n",
    "    FixBoundaryR,\n",
    "    FixBoundaryZ,\n",
    "    FixCurrent,\n",
    "    FixElectronDensity,\n",
    "    FixElectronTemperature,\n",
    "    FixIonTemperature,\n",
    "    FixPsi,\n",
    "    ForceBalance,\n",
    "    ObjectiveFunction,\n",
    ")\n",
    "from desc.plotting import plot_1d\n",
    "from desc.profiles import PowerSeriesProfile, SplineProfile"
   ]
  },
  {
   "cell_type": "markdown",
   "metadata": {},
   "source": [
    "As an example, we will reproduce the QA results from [Landreman et al. (2022)](https://doi.org/10.1063/5.0098166). \n",
    "\n",
    "We will start with the \"precise QA\" example equilibrium, scaled to the ARIES-CS reactor size. "
   ]
  },
  {
   "cell_type": "code",
   "execution_count": 5,
   "metadata": {},
   "outputs": [],
   "source": [
    "eq0 = get(\"precise_QA\")\n",
    "eq0 = rescale(eq0, L=(\"R0\", 10), B=(\"B0\", 5.86))"
   ]
  },
  {
   "cell_type": "markdown",
   "metadata": {},
   "source": [
    "This equilibrium has the vacuum profiles $p = 0 ~\\text{Pa}$ and $\\frac{2\\pi}{\\mu_0} I = 0 ~\\text{A}$. \n",
    "Calculating the bootstrap current requires knowledge of the temperature and density profiles for each species in the plasma. \n",
    "We replace the pressure profile with the following kinetic profiles corresponding to $\\langle\\beta\\rangle=2.5\\%$: \n",
    "\n",
    "$n_e = n_i = 2.38\\times10^{20} (1 - \\rho^{10}) ~\\text{m}^{-3}$\n",
    "\n",
    "$T_e = T_i = 9.45\\times10^{3} (1 - \\rho^{2}) ~\\text{eV}$\n",
    "\n",
    "The temperature profiles must be given for both ions and electrons, but only the electron density profile is specified. \n",
    "The ion density profile is given by the effective atomic number $Z_{eff}$ as $n_i = n_e / Z_{eff}$. \n",
    "The plasma pressure will then be computed as \n",
    "\n",
    "$p = e (n_e T_e + n_i T_i)$."
   ]
  },
  {
   "cell_type": "code",
   "execution_count": 6,
   "metadata": {},
   "outputs": [],
   "source": [
    "eq0.pressure = None  # must remove the pressure profile before setting kinetic profiles\n",
    "eq0.atomic_number = PowerSeriesProfile([1])\n",
    "eq0.electron_density = PowerSeriesProfile(params=[1, -1], modes=[0, 10]) * 2.38e20\n",
    "eq0.electron_temperature = PowerSeriesProfile(params=[1, -1], modes=[0, 2]) * 9.45e3\n",
    "eq0.ion_temperature = PowerSeriesProfile(params=[1, -1], modes=[0, 2]) * 9.45e3\n",
    "# the existing current profile is the vacuum case eq0.current = PowerSeriesProfile([0])"
   ]
  },
  {
   "cell_type": "markdown",
   "metadata": {},
   "source": [
    "We need to re-solve the equilibrium force balance with the new profiles. "
   ]
  },
  {
   "cell_type": "code",
   "execution_count": 7,
   "metadata": {},
   "outputs": [
    {
     "name": "stdout",
     "output_type": "stream",
     "text": [
      "Building objective: force\n",
      "Precomputing transforms\n",
      "Timer: Precomputing transforms = 952 ms\n",
      "Timer: Objective build = 1.89 sec\n",
      "Building objective: lcfs R\n",
      "Building objective: lcfs Z\n",
      "Building objective: fixed Psi\n",
      "Building objective: fixed current\n",
      "Building objective: fixed electron density\n",
      "Building objective: fixed electron temperature\n",
      "Building objective: fixed ion temperature\n",
      "Building objective: fixed atomic number\n",
      "Building objective: fixed sheet current\n",
      "Building objective: self_consistency R\n",
      "Building objective: self_consistency Z\n",
      "Building objective: lambda gauge\n",
      "Building objective: axis R self consistency\n",
      "Building objective: axis Z self consistency\n",
      "Timer: Objective build = 1.01 sec\n",
      "Timer: LinearConstraintProjection build = 6.18 sec\n",
      "Number of parameters: 856\n",
      "Number of objectives: 5346\n",
      "Timer: Initializing the optimization = 9.14 sec\n",
      "\n",
      "Starting optimization\n",
      "Using method: lsq-exact\n",
      "   Iteration     Total nfev        Cost      Cost reduction    Step norm     Optimality   \n",
      "       0              1          7.672e-03                                    3.899e-02   \n",
      "       1              3          1.652e-03      6.019e-03      1.689e-01      1.482e-02   \n",
      "       2              4          6.766e-04      9.755e-04      2.762e-01      1.215e-02   \n",
      "       3              5          5.225e-04      1.540e-04      2.107e-01      1.209e-02   \n",
      "       4              6          1.487e-05      5.077e-04      5.663e-02      1.156e-03   \n",
      "       5              8          4.057e-06      1.081e-05      2.894e-02      5.705e-04   \n",
      "       6              9          2.280e-06      1.777e-06      2.959e-02      6.503e-04   \n",
      "       7             11          4.880e-07      1.792e-06      7.521e-03      5.710e-05   \n",
      "       8             12          4.798e-07      8.202e-09      1.528e-02      1.498e-04   \n",
      "       9             13          4.251e-07      5.467e-08      3.803e-03      9.960e-06   \n",
      "      10             14          4.205e-07      4.676e-09      7.823e-03      3.481e-05   \n",
      "      11             15          4.149e-07      5.603e-09      7.202e-03      3.480e-05   \n",
      "      12             16          4.116e-07      3.232e-09      7.663e-03      3.320e-05   \n",
      "      13             17          4.026e-07      9.050e-09      1.904e-03      2.426e-06   \n",
      "      14             18          3.997e-07      2.851e-09      3.800e-03      8.526e-06   \n",
      "Optimization terminated successfully.\n",
      "`ftol` condition satisfied. (ftol=1.00e-02)\n",
      "         Current function value: 3.997e-07\n",
      "         Total delta_x: 6.427e-01\n",
      "         Iterations: 14\n",
      "         Function evaluations: 18\n",
      "         Jacobian evaluations: 15\n",
      "Timer: Solution time = 39.0 sec\n",
      "Timer: Avg time per step = 2.60 sec\n",
      "==============================================================================================================\n",
      "                                                                 Start  -->   End\n",
      "Total (sum of squares):                                      7.672e-03  -->   3.997e-07, \n",
      "Maximum absolute Force error:                                5.309e+07  -->   1.983e+06 (N)\n",
      "Minimum absolute Force error:                                1.261e+00  -->   2.978e+01 (N)\n",
      "Average absolute Force error:                                5.121e+06  -->   5.254e+04 (N)\n",
      "Maximum absolute Force error:                                1.242e-02  -->   4.639e-04 (normalized)\n",
      "Minimum absolute Force error:                                2.949e-10  -->   6.966e-09 (normalized)\n",
      "Average absolute Force error:                                1.198e-03  -->   1.229e-05 (normalized)\n",
      "R boundary error:                                            0.000e+00  -->   3.202e-16 (m)\n",
      "Z boundary error:                                            0.000e+00  -->   2.380e-16 (m)\n",
      "Fixed Psi error:                                             0.000e+00  -->   0.000e+00 (Wb)\n",
      "Fixed current profile error:                                 0.000e+00  -->   0.000e+00 (A)\n",
      "Fixed electron density profile error:                        0.000e+00  -->   0.000e+00 (m^-3)\n",
      "Fixed electron temperature profile error:                    0.000e+00  -->   0.000e+00 (eV)\n",
      "Fixed ion temperature profile error:                         0.000e+00  -->   0.000e+00 (eV)\n",
      "Fixed atomic number profile error:                           0.000e+00  -->   0.000e+00 (dimensionless)\n",
      "Fixed sheet current error:                                   0.000e+00  -->   0.000e+00 (~)\n",
      "==============================================================================================================\n",
      "\n"
     ]
    }
   ],
   "source": [
    "eq0, _ = eq0.solve(objective=\"force\", optimizer=\"lsq-exact\", verbose=3)"
   ]
  },
  {
   "cell_type": "markdown",
   "metadata": {},
   "source": [
    "Now we have our initial equilibrium, which does not have a self-consistent bootstrap current: "
   ]
  },
  {
   "cell_type": "code",
   "execution_count": 8,
   "metadata": {},
   "outputs": [
    {
     "name": "stderr",
     "output_type": "stream",
     "text": [
      "/home/dpanici/DESC/desc/utils.py:572: UserWarning: Redl formula is undefined at rho=0, but grid has grid points at rho=0, note that on-axiscurrent will be NaN.\n",
      "  warnings.warn(msg, err)\n",
      "/home/dpanici/DESC/desc/utils.py:572: UserWarning: Redl formula is undefined where kinetic profiles vanish, but given electron density vanishes at at least one providedrho grid point.\n",
      "  warnings.warn(msg, err)\n",
      "/home/dpanici/DESC/desc/utils.py:572: UserWarning: Redl formula is undefined where kinetic profiles vanish, but given electron temperature vanishes at at least one providedrho grid point.\n",
      "  warnings.warn(msg, err)\n",
      "/home/dpanici/DESC/desc/utils.py:572: UserWarning: Redl formula is undefined where kinetic profiles vanish, but given ion temperature vanishes at at least one providedrho grid point.\n",
      "  warnings.warn(msg, err)\n"
     ]
    },
    {
     "data": {
      "image/png": "[encoded data removed]",
      "text/plain": [
       "<Figure size 288x288 with 1 Axes>"
      ]
     },
     "metadata": {},
     "output_type": "display_data"
    }
   ],
   "source": [
    "# the Redl formula is undefined at rho=0.0 and where the profiles vanish, so\n",
    "# in our case here it is NaN at the axis and at rho=1.0\n",
    "# usually we would get a warning when computing it at these points, but\n",
    "# we suppress these warnings internally when we plot so we don't see them here.\n",
    "fig, ax = plot_1d(\n",
    "    eq0,\n",
    "    \"<J*B> Redl\",\n",
    "    color=\"b\",\n",
    "    lw=2,\n",
    "    label=\"Redl\",\n",
    ")\n",
    "fig, ax = plot_1d(eq0, \"<J*B>\", color=\"r\", lw=2, label=\"MHD\", ax=ax)\n",
    "ax.legend(loc=\"best\")\n",
    "ax.set_title(\"Initial Equilibrium\");"
   ]
  },
  {
   "cell_type": "markdown",
   "metadata": {},
   "source": [
    "We need to create a grid on which to evaluate the boootstrap current self-consistency. \n",
    "The bootstrap current is a radial profile, but the grid must have finite poloidal and toroidal resolution to accurately compute flux surface quantities. \n",
    "The Redl formula is undefined where the kinetic profiles vanish, so in our example we do not include points at $\\rho=0$ or $\\rho=1$. "
   ]
  },
  {
   "cell_type": "code",
   "execution_count": 9,
   "metadata": {},
   "outputs": [],
   "source": [
    "grid = LinearGrid(\n",
    "    M=eq0.M_grid,\n",
    "    N=eq0.N_grid,\n",
    "    NFP=eq0.NFP,\n",
    "    sym=eq0.sym,\n",
    "    rho=np.linspace(1 / eq0.L_grid, 1, eq0.L_grid) - 1 / (2 * eq0.L_grid),\n",
    ")"
   ]
  },
  {
   "cell_type": "markdown",
   "metadata": {},
   "source": [
    "Our current profile will be represented as a power series of the form: \n",
    "\n",
    "$I = c_0 + c_1 \\rho + c_2 \\rho^2 + \\mathcal{O}(\\rho^3)$\n",
    "\n",
    "Physically, the current should vanish on the magnetic axis so $c_0 = 0$. \n",
    "And in order for the MHD equilibrium to be analytic, it should scale as $\\mathcal{O}(\\rho^2)$ near the magnetic axis so $c_1 = 0$ also. \n",
    "However, the Redl bootstrap current formula scales as $\\mathcal{O}(\\sqrt{\\rho})$ near the magnetic axis. \n",
    "This is incorrect, because the drift-kinetic equation from the Redl formula does not account for finite orbit width effects that become important near the axis. \n",
    "\n",
    "Typically, we use even power series with `sym=True` for all equilibrium profiles to give the desired analycity conditions. \n",
    "For bootstrap current optimizations, it is recommended to use the full power series with `sym=False` while also enforcing $c_0 = c_1 = 0$. \n",
    "This prevents getting good self-consistency near the magnetic axis, but allows for good agreement throughout the rest of the plasma volume and results in high quality equilibria overall. \n"
   ]
  },
  {
   "cell_type": "code",
   "execution_count": 10,
   "metadata": {},
   "outputs": [],
   "source": [
    "eq0.current = PowerSeriesProfile(np.zeros((eq0.L + 1,)), sym=False)"
   ]
  },
  {
   "cell_type": "markdown",
   "metadata": {},
   "source": [
    "### 1. Optimization"
   ]
  },
  {
   "cell_type": "markdown",
   "metadata": {},
   "source": [
    "In this method, we will optimize the current profile to minimize the self-consistency errors evaluated by the `BootstrapRedlConsistency` objective. \n",
    "This objective requires the helicity, which for QA is $(M, N) = (1, 0)$. \n",
    "\n",
    "In this example we will only optimize the current profile, so all other profiles and the plasma boundary are constrained to be fixed. \n",
    "It is recommended to use a very small value for `gtol` when optimizing the bootstrap current. "
   ]
  },
  {
   "cell_type": "code",
   "execution_count": 11,
   "metadata": {},
   "outputs": [],
   "source": [
    "eq1 = eq0.copy()"
   ]
  },
  {
   "cell_type": "code",
   "execution_count": 12,
   "metadata": {},
   "outputs": [
    {
     "name": "stdout",
     "output_type": "stream",
     "text": [
      "Building objective: Bootstrap current self-consistency (Redl)\n",
      "Precomputing transforms\n",
      "Timer: Precomputing transforms = 1.06 sec\n",
      "Timer: Objective build = 1.97 sec\n",
      "Building objective: force\n",
      "Precomputing transforms\n",
      "Timer: Precomputing transforms = 110 ms\n",
      "Timer: Objective build = 133 ms\n",
      "Timer: Objective build = 2.43 ms\n",
      "Timer: Eq Update LinearConstraintProjection build = 4.62 sec\n",
      "Timer: Proximal projection build = 19.0 sec\n",
      "Building objective: fixed atomic number\n",
      "Building objective: lcfs R\n",
      "Building objective: lcfs Z\n",
      "Building objective: fixed current\n",
      "Building objective: fixed electron density\n",
      "Building objective: fixed electron temperature\n",
      "Building objective: fixed ion temperature\n",
      "Building objective: fixed Psi\n",
      "Timer: Objective build = 358 ms\n",
      "Timer: LinearConstraintProjection build = 1.44 sec\n",
      "Number of parameters: 7\n",
      "Number of objectives: 16\n",
      "Timer: Initializing the optimization = 20.8 sec\n",
      "\n",
      "Starting optimization\n",
      "Using method: proximal-lsq-exact\n",
      "   Iteration     Total nfev        Cost      Cost reduction    Step norm     Optimality   \n",
      "       0              1          1.433e-02                                    1.604e-01   \n",
      "       1              2          4.478e-05      1.428e-02      1.664e+07      7.737e-03   \n",
      "       2              3          1.078e-06      4.370e-05      3.341e+07      3.740e-04   \n",
      "       3              4          8.164e-07      2.616e-07      4.379e+07      7.561e-05   \n",
      "       4              5          8.049e-07      1.153e-08      1.406e+06      5.395e-05   \n",
      "       5             14          8.039e-07      1.039e-09      7.123e+00      2.755e-05   \n",
      "Optimization terminated successfully.\n",
      "`ftol` condition satisfied. (ftol=1.00e-02)\n",
      "`xtol` condition satisfied. (xtol=1.00e-06)\n",
      "         Current function value: 8.039e-07\n",
      "         Total delta_x: 8.017e+07\n",
      "         Iterations: 5\n",
      "         Function evaluations: 14\n",
      "         Jacobian evaluations: 6\n",
      "Timer: Solution time = 4.08 min\n",
      "Timer: Avg time per step = 40.7 sec\n",
      "==============================================================================================================\n",
      "                                                                 Start  -->   End\n",
      "Total (sum of squares):                                      1.434e-02  -->   8.039e-07, \n",
      "Maximum absolute Bootstrap current self-consistency error:   3.106e+06  -->   3.920e+04 (T A m^-2)\n",
      "Minimum absolute Bootstrap current self-consistency error:   1.896e+05  -->   1.601e+03 (T A m^-2)\n",
      "Average absolute Bootstrap current self-consistency error:   1.954e+06  -->   1.275e+04 (T A m^-2)\n",
      "Maximum absolute Bootstrap current self-consistency error:   2.416e-01  -->   3.049e-03 (normalized)\n",
      "Minimum absolute Bootstrap current self-consistency error:   1.475e-02  -->   1.245e-04 (normalized)\n",
      "Average absolute Bootstrap current self-consistency error:   1.520e-01  -->   9.917e-04 (normalized)\n",
      "Fixed atomic number profile error:                           0.000e+00  -->   0.000e+00 (dimensionless)\n",
      "R boundary error:                                            1.790e-15  -->   2.011e-17 (m)\n",
      "Z boundary error:                                            4.969e-16  -->   4.470e-16 (m)\n",
      "Fixed current profile error:                                 0.000e+00  -->   0.000e+00 (A)\n",
      "Fixed electron density profile error:                        0.000e+00  -->   0.000e+00 (m^-3)\n",
      "Fixed electron temperature profile error:                    0.000e+00  -->   0.000e+00 (eV)\n",
      "Fixed ion temperature profile error:                         0.000e+00  -->   0.000e+00 (eV)\n",
      "Fixed Psi error:                                             0.000e+00  -->   0.000e+00 (Wb)\n",
      "Maximum absolute Force error:                                1.983e+06  -->   1.702e+06 (N)\n",
      "Minimum absolute Force error:                                2.978e+01  -->   2.638e+01 (N)\n",
      "Average absolute Force error:                                5.254e+04  -->   8.682e+04 (N)\n",
      "Maximum absolute Force error:                                4.639e-04  -->   3.981e-04 (normalized)\n",
      "Minimum absolute Force error:                                6.966e-09  -->   6.169e-09 (normalized)\n",
      "Average absolute Force error:                                1.229e-05  -->   2.030e-05 (normalized)\n",
      "==============================================================================================================\n",
      "\n"
     ]
    }
   ],
   "source": [
    "objective = ObjectiveFunction(\n",
    "    BootstrapRedlConsistency(eq=eq1, grid=grid, helicity=(1, 0)),\n",
    ")\n",
    "constraints = (\n",
    "    FixAtomicNumber(eq=eq1),\n",
    "    FixBoundaryR(eq=eq1),\n",
    "    FixBoundaryZ(eq=eq1),\n",
    "    FixCurrent(eq=eq1, indices=[0, 1]),  # fix c_0=c_1=0 current profile coefficients\n",
    "    FixElectronDensity(eq=eq1),\n",
    "    FixElectronTemperature(eq=eq1),\n",
    "    FixIonTemperature(eq=eq1),\n",
    "    FixPsi(eq=eq1),\n",
    "    ForceBalance(eq=eq1),\n",
    ")\n",
    "eq1, _ = eq1.optimize(\n",
    "    objective=objective,\n",
    "    constraints=constraints,\n",
    "    optimizer=\"proximal-lsq-exact\",\n",
    "    maxiter=10,\n",
    "    verbose=3,\n",
    ")"
   ]
  },
  {
   "cell_type": "markdown",
   "metadata": {},
   "source": [
    "When plotting the bootstrap current profiles, we see the MHD equilibrium now has very good agreement with the Redl formula. "
   ]
  },
  {
   "cell_type": "code",
   "execution_count": 13,
   "metadata": {},
   "outputs": [
    {
     "name": "stderr",
     "output_type": "stream",
     "text": [
      "/home/dpanici/DESC/desc/utils.py:572: UserWarning: Redl formula is undefined at rho=0, but grid has grid points at rho=0, note that on-axiscurrent will be NaN.\n",
      "  warnings.warn(msg, err)\n",
      "/home/dpanici/DESC/desc/utils.py:572: UserWarning: Redl formula is undefined where kinetic profiles vanish, but given electron density vanishes at at least one providedrho grid point.\n",
      "  warnings.warn(msg, err)\n",
      "/home/dpanici/DESC/desc/utils.py:572: UserWarning: Redl formula is undefined where kinetic profiles vanish, but given electron temperature vanishes at at least one providedrho grid point.\n",
      "  warnings.warn(msg, err)\n",
      "/home/dpanici/DESC/desc/utils.py:572: UserWarning: Redl formula is undefined where kinetic profiles vanish, but given ion temperature vanishes at at least one providedrho grid point.\n",
      "  warnings.warn(msg, err)\n"
     ]
    },
    {
     "data": {
      "image/png": "[encoded data removed]",
      "text/plain": [
       "<Figure size 288x288 with 1 Axes>"
      ]
     },
     "metadata": {},
     "output_type": "display_data"
    }
   ],
   "source": [
    "fig, ax = plot_1d(eq1, \"<J*B> Redl\", color=\"b\", lw=2, label=\"Redl\")\n",
    "fig, ax = plot_1d(eq1, \"<J*B>\", color=\"r\", lw=2, label=\"MHD\", ax=ax)\n",
    "ax.legend(loc=\"best\")\n",
    "ax.set_title(\"Method 1: Optimization\");"
   ]
  },
  {
   "cell_type": "markdown",
   "metadata": {},
   "source": [
    "### 2. Iterative Solves"
   ]
  },
  {
   "cell_type": "markdown",
   "metadata": {},
   "source": [
    "In this method, we iteratively solve the equilibrium with updated guesses for the current profile. \n",
    "The current profile is computed such that the parallel current is consistent with the Redl formula, according to Equation C3 in [Landreman & Catto (2012)](https://doi.org/10.1063/1.3693187). \n",
    "This is the same approach as STELLOPT VBOOT with SFINCS, and it usually converges in only a few iterations. "
   ]
  },
  {
   "cell_type": "code",
   "execution_count": 14,
   "metadata": {},
   "outputs": [],
   "source": [
    "eq2 = eq0.copy()\n",
    "fam2 = EquilibriaFamily(eq2)"
   ]
  },
  {
   "cell_type": "code",
   "execution_count": 15,
   "metadata": {},
   "outputs": [
    {
     "name": "stdout",
     "output_type": "stream",
     "text": [
      "Building objective: force\n",
      "Precomputing transforms\n",
      "Timer: Precomputing transforms = 111 ms\n",
      "Timer: Objective build = 137 ms\n",
      "Building objective: lcfs R\n",
      "Building objective: lcfs Z\n",
      "Building objective: fixed Psi\n",
      "Building objective: fixed current\n",
      "Building objective: fixed electron density\n",
      "Building objective: fixed electron temperature\n",
      "Building objective: fixed ion temperature\n",
      "Building objective: fixed atomic number\n",
      "Building objective: fixed sheet current\n",
      "Building objective: self_consistency R\n",
      "Building objective: self_consistency Z\n",
      "Building objective: lambda gauge\n",
      "Building objective: axis R self consistency\n",
      "Building objective: axis Z self consistency\n",
      "Timer: Objective build = 416 ms\n",
      "Timer: LinearConstraintProjection build = 273 ms\n",
      "Number of parameters: 856\n",
      "Number of objectives: 5346\n",
      "Timer: Initializing the optimization = 869 ms\n",
      "\n",
      "Starting optimization\n",
      "Using method: lsq-exact\n",
      "   Iteration     Total nfev        Cost      Cost reduction    Step norm     Optimality   \n",
      "       0              1          4.790e-03                                    7.390e-02   \n",
      "       1              2          2.337e-03      2.453e-03      2.023e-01      3.051e-02   \n",
      "       2              3          1.749e-04      2.162e-03      1.213e-01      6.615e-03   \n",
      "       3              4          1.011e-04      7.377e-05      9.481e-02      5.996e-03   \n",
      "       4              5          4.138e-05      5.972e-05      7.001e-02      3.219e-03   \n",
      "       5              6          1.660e-05      2.479e-05      5.578e-02      1.848e-03   \n",
      "       6              7          6.819e-06      9.776e-06      3.741e-02      1.044e-03   \n",
      "       7              8          5.639e-06      1.181e-06      3.246e-02      9.262e-04   \n",
      "       8              9          2.317e-06      3.321e-06      8.517e-03      1.534e-04   \n",
      "       9             10          2.297e-06      2.034e-08      1.767e-02      1.539e-04   \n",
      "      10             11          2.082e-06      2.149e-07      4.356e-03      6.443e-05   \n",
      "      11             12          2.037e-06      4.470e-08      4.618e-03      2.453e-05   \n",
      "      12             14          2.024e-06      1.336e-08      1.159e-03      6.736e-06   \n",
      "Optimization terminated successfully.\n",
      "`ftol` condition satisfied. (ftol=1.00e-02)\n",
      "         Current function value: 2.024e-06\n",
      "         Total delta_x: 2.363e-01\n",
      "         Iterations: 12\n",
      "         Function evaluations: 14\n",
      "         Jacobian evaluations: 13\n",
      "Timer: Solution time = 39.6 sec\n",
      "Timer: Avg time per step = 3.04 sec\n",
      "==============================================================================================================\n",
      "                                                                 Start  -->   End\n",
      "Total (sum of squares):                                      4.790e-03  -->   2.024e-06, \n",
      "Maximum absolute Force error:                                5.166e+07  -->   2.331e+06 (N)\n",
      "Minimum absolute Force error:                                8.443e+01  -->   4.092e+00 (N)\n",
      "Average absolute Force error:                                4.441e+06  -->   1.062e+05 (N)\n",
      "Maximum absolute Force error:                                1.208e-02  -->   5.451e-04 (normalized)\n",
      "Minimum absolute Force error:                                1.975e-08  -->   9.569e-10 (normalized)\n",
      "Average absolute Force error:                                1.039e-03  -->   2.484e-05 (normalized)\n",
      "R boundary error:                                            0.000e+00  -->   1.790e-15 (m)\n",
      "Z boundary error:                                            0.000e+00  -->   4.969e-16 (m)\n",
      "Fixed Psi error:                                             0.000e+00  -->   0.000e+00 (Wb)\n",
      "Fixed current profile error:                                 0.000e+00  -->   1.863e-09 (A)\n",
      "Fixed electron density profile error:                        0.000e+00  -->   0.000e+00 (m^-3)\n",
      "Fixed electron temperature profile error:                    0.000e+00  -->   0.000e+00 (eV)\n",
      "Fixed ion temperature profile error:                         0.000e+00  -->   0.000e+00 (eV)\n",
      "Fixed atomic number profile error:                           0.000e+00  -->   0.000e+00 (dimensionless)\n",
      "Fixed sheet current error:                                   0.000e+00  -->   0.000e+00 (~)\n",
      "==============================================================================================================\n",
      "\n",
      "Building objective: force\n",
      "Precomputing transforms\n",
      "Timer: Precomputing transforms = 113 ms\n",
      "Timer: Objective build = 138 ms\n",
      "Building objective: lcfs R\n",
      "Building objective: lcfs Z\n",
      "Building objective: fixed Psi\n",
      "Building objective: fixed current\n",
      "Building objective: fixed electron density\n",
      "Building objective: fixed electron temperature\n",
      "Building objective: fixed ion temperature\n",
      "Building objective: fixed atomic number\n",
      "Building objective: fixed sheet current\n",
      "Building objective: self_consistency R\n",
      "Building objective: self_consistency Z\n",
      "Building objective: lambda gauge\n",
      "Building objective: axis R self consistency\n",
      "Building objective: axis Z self consistency\n",
      "Timer: Objective build = 275 ms\n",
      "Timer: LinearConstraintProjection build = 252 ms\n",
      "Number of parameters: 856\n",
      "Number of objectives: 5346\n",
      "Timer: Initializing the optimization = 721 ms\n",
      "\n",
      "Starting optimization\n",
      "Using method: lsq-exact\n",
      "   Iteration     Total nfev        Cost      Cost reduction    Step norm     Optimality   \n",
      "       0              1          3.939e-04                                    1.748e-02   \n",
      "       1              2          9.266e-06      3.846e-04      6.550e-02      1.652e-03   \n",
      "       2              3          1.785e-06      7.481e-06      2.354e-02      2.714e-04   \n",
      "       3              5          1.307e-06      4.777e-07      8.600e-03      5.047e-05   \n",
      "       4              7          1.284e-06      2.329e-08      4.618e-03      3.778e-05   \n",
      "       5              8          1.274e-06      9.164e-09      4.210e-03      1.586e-05   \n",
      "Optimization terminated successfully.\n",
      "`ftol` condition satisfied. (ftol=1.00e-02)\n",
      "         Current function value: 1.274e-06\n",
      "         Total delta_x: 6.890e-02\n",
      "         Iterations: 5\n",
      "         Function evaluations: 8\n",
      "         Jacobian evaluations: 6\n",
      "Timer: Solution time = 13.2 sec\n",
      "Timer: Avg time per step = 2.21 sec\n",
      "==============================================================================================================\n",
      "                                                                 Start  -->   End\n",
      "Total (sum of squares):                                      3.939e-04  -->   1.274e-06, \n",
      "Maximum absolute Force error:                                1.265e+07  -->   1.473e+06 (N)\n",
      "Minimum absolute Force error:                                5.030e+02  -->   6.140e+00 (N)\n",
      "Average absolute Force error:                                1.293e+06  -->   8.187e+04 (N)\n",
      "Maximum absolute Force error:                                2.958e-03  -->   3.445e-04 (normalized)\n",
      "Minimum absolute Force error:                                1.176e-07  -->   1.436e-09 (normalized)\n",
      "Average absolute Force error:                                3.025e-04  -->   1.915e-05 (normalized)\n",
      "R boundary error:                                            0.000e+00  -->   2.239e-16 (m)\n",
      "Z boundary error:                                            0.000e+00  -->   2.314e-16 (m)\n",
      "Fixed Psi error:                                             0.000e+00  -->   0.000e+00 (Wb)\n",
      "Fixed current profile error:                                 0.000e+00  -->   1.669e-08 (A)\n",
      "Fixed electron density profile error:                        0.000e+00  -->   0.000e+00 (m^-3)\n",
      "Fixed electron temperature profile error:                    0.000e+00  -->   0.000e+00 (eV)\n",
      "Fixed ion temperature profile error:                         0.000e+00  -->   0.000e+00 (eV)\n",
      "Fixed atomic number profile error:                           0.000e+00  -->   0.000e+00 (dimensionless)\n",
      "Fixed sheet current error:                                   0.000e+00  -->   0.000e+00 (~)\n",
      "==============================================================================================================\n",
      "\n",
      "Building objective: force\n",
      "Precomputing transforms\n",
      "Timer: Precomputing transforms = 116 ms\n",
      "Timer: Objective build = 143 ms\n",
      "Building objective: lcfs R\n",
      "Building objective: lcfs Z\n",
      "Building objective: fixed Psi\n",
      "Building objective: fixed current\n",
      "Building objective: fixed electron density\n",
      "Building objective: fixed electron temperature\n",
      "Building objective: fixed ion temperature\n",
      "Building objective: fixed atomic number\n",
      "Building objective: fixed sheet current\n",
      "Building objective: self_consistency R\n",
      "Building objective: self_consistency Z\n",
      "Building objective: lambda gauge\n",
      "Building objective: axis R self consistency\n",
      "Building objective: axis Z self consistency\n",
      "Timer: Objective build = 294 ms\n",
      "Timer: LinearConstraintProjection build = 286 ms\n",
      "Number of parameters: 856\n",
      "Number of objectives: 5346\n",
      "Timer: Initializing the optimization = 765 ms\n",
      "\n",
      "Starting optimization\n",
      "Using method: lsq-exact\n",
      "   Iteration     Total nfev        Cost      Cost reduction    Step norm     Optimality   \n",
      "       0              1          1.613e-05                                    3.334e-03   \n",
      "       1              2          4.124e-06      1.200e-05      3.606e-02      6.139e-04   \n",
      "       2              3          1.252e-06      2.872e-06      1.124e-02      8.605e-05   \n",
      "       3              5          1.218e-06      3.428e-08      4.381e-03      1.985e-05   \n",
      "       4              7          1.214e-06      3.725e-09      2.266e-03      4.147e-06   \n",
      "Optimization terminated successfully.\n",
      "`ftol` condition satisfied. (ftol=1.00e-02)\n",
      "         Current function value: 1.214e-06\n",
      "         Total delta_x: 4.496e-02\n",
      "         Iterations: 4\n",
      "         Function evaluations: 7\n",
      "         Jacobian evaluations: 5\n",
      "Timer: Solution time = 10.8 sec\n",
      "Timer: Avg time per step = 2.17 sec\n",
      "==============================================================================================================\n",
      "                                                                 Start  -->   End\n",
      "Total (sum of squares):                                      1.613e-05  -->   1.214e-06, \n",
      "Maximum absolute Force error:                                3.586e+06  -->   1.489e+06 (N)\n",
      "Minimum absolute Force error:                                9.634e+01  -->   4.893e+00 (N)\n",
      "Average absolute Force error:                                2.651e+05  -->   8.232e+04 (N)\n",
      "Maximum absolute Force error:                                8.387e-04  -->   3.482e-04 (normalized)\n",
      "Minimum absolute Force error:                                2.253e-08  -->   1.144e-09 (normalized)\n",
      "Average absolute Force error:                                6.200e-05  -->   1.925e-05 (normalized)\n",
      "R boundary error:                                            0.000e+00  -->   1.444e-17 (m)\n",
      "Z boundary error:                                            0.000e+00  -->   2.230e-16 (m)\n",
      "Fixed Psi error:                                             0.000e+00  -->   0.000e+00 (Wb)\n",
      "Fixed current profile error:                                 0.000e+00  -->   1.864e-09 (A)\n",
      "Fixed electron density profile error:                        0.000e+00  -->   0.000e+00 (m^-3)\n",
      "Fixed electron temperature profile error:                    0.000e+00  -->   0.000e+00 (eV)\n",
      "Fixed ion temperature profile error:                         0.000e+00  -->   0.000e+00 (eV)\n",
      "Fixed atomic number profile error:                           0.000e+00  -->   0.000e+00 (dimensionless)\n",
      "Fixed sheet current error:                                   0.000e+00  -->   0.000e+00 (~)\n",
      "==============================================================================================================\n",
      "\n"
     ]
    }
   ],
   "source": [
    "niters = 3\n",
    "for k in range(niters):\n",
    "    eq2 = eq2.copy()\n",
    "    # compute new guess for the current profile, consistent with Redl formula\n",
    "    data = eq2.compute(\"current Redl\", grid)\n",
    "    current = grid.compress(data[\"current Redl\"])\n",
    "    rho = grid.compress(data[\"rho\"])\n",
    "    # fit the current profile to a power series, with c_0=c_1=0\n",
    "    XX = np.fliplr(np.vander(rho, eq2.L + 1)[:, :-2])\n",
    "    eq2.c_l = np.pad(np.linalg.lstsq(XX, current, rcond=None)[0], (2, 0))\n",
    "    # re-solve the equilibrium\n",
    "    eq2, _ = eq2.solve(objective=\"force\", optimizer=\"lsq-exact\", verbose=3)\n",
    "    fam2.append(eq2)"
   ]
  },
  {
   "cell_type": "markdown",
   "metadata": {},
   "source": [
    "We can plot the current profile at each iteration to visualize how it changed: "
   ]
  },
  {
   "cell_type": "code",
   "execution_count": 16,
   "metadata": {},
   "outputs": [
    {
     "name": "stderr",
     "output_type": "stream",
     "text": [
      "/home/dpanici/DESC/desc/utils.py:520: FutureWarning: argument linecolor has been renamed to color, linecolor will be removed in a future release\n",
      "  warnings.warn(\n",
      "/home/dpanici/DESC/desc/utils.py:520: FutureWarning: argument linecolor has been renamed to color, linecolor will be removed in a future release\n",
      "  warnings.warn(\n",
      "/home/dpanici/DESC/desc/utils.py:520: FutureWarning: argument linecolor has been renamed to color, linecolor will be removed in a future release\n",
      "  warnings.warn(\n",
      "/home/dpanici/DESC/desc/utils.py:520: FutureWarning: argument linecolor has been renamed to color, linecolor will be removed in a future release\n",
      "  warnings.warn(\n"
     ]
    },
    {
     "data": {
      "image/png": "[encoded data removed]",
      "text/plain": [
       "<Figure size 288x288 with 1 Axes>"
      ]
     },
     "metadata": {},
     "output_type": "display_data"
    }
   ],
   "source": [
    "fig, ax = plot_1d(fam2[0], \"current\", linecolor=\"k\", lw=2, label=\"0\")\n",
    "fig, ax = plot_1d(fam2[1], \"current\", linecolor=\"g\", lw=2, label=\"1\", ax=ax)\n",
    "fig, ax = plot_1d(fam2[2], \"current\", linecolor=\"b\", lw=2, label=\"2\", ax=ax)\n",
    "fig, ax = plot_1d(fam2[3], \"current\", linecolor=\"r\", lw=2, label=\"3\", ax=ax)\n",
    "ax.legend(loc=\"best\");"
   ]
  },
  {
   "cell_type": "markdown",
   "metadata": {},
   "source": [
    "With this method the MHD equilibrium also has very good agreement with the Redl formula. "
   ]
  },
  {
   "cell_type": "code",
   "execution_count": 17,
   "metadata": {},
   "outputs": [
    {
     "name": "stderr",
     "output_type": "stream",
     "text": [
      "/home/dpanici/DESC/desc/utils.py:572: UserWarning: Redl formula is undefined at rho=0, but grid has grid points at rho=0, note that on-axiscurrent will be NaN.\n",
      "  warnings.warn(msg, err)\n",
      "/home/dpanici/DESC/desc/utils.py:572: UserWarning: Redl formula is undefined where kinetic profiles vanish, but given electron density vanishes at at least one providedrho grid point.\n",
      "  warnings.warn(msg, err)\n",
      "/home/dpanici/DESC/desc/utils.py:572: UserWarning: Redl formula is undefined where kinetic profiles vanish, but given electron temperature vanishes at at least one providedrho grid point.\n",
      "  warnings.warn(msg, err)\n",
      "/home/dpanici/DESC/desc/utils.py:572: UserWarning: Redl formula is undefined where kinetic profiles vanish, but given ion temperature vanishes at at least one providedrho grid point.\n",
      "  warnings.warn(msg, err)\n"
     ]
    },
    {
     "data": {
      "image/png": "[encoded data removed]",
      "text/plain": [
       "<Figure size 288x288 with 1 Axes>"
      ]
     },
     "metadata": {},
     "output_type": "display_data"
    }
   ],
   "source": [
    "fig, ax = plot_1d(eq2, \"<J*B> Redl\", color=\"b\", lw=2, label=\"Redl\")\n",
    "fig, ax = plot_1d(eq2, \"<J*B>\", color=\"r\", lw=2, label=\"MHD\", ax=ax)\n",
    "ax.legend(loc=\"best\")\n",
    "ax.set_title(\"Method 2: Iterative Solves\");"
   ]
  },
  {
   "cell_type": "markdown",
   "metadata": {},
   "source": [
    "### Comparison"
   ]
  },
  {
   "cell_type": "markdown",
   "metadata": {},
   "source": [
    "Even though both methods give good self-consistency for the bootstrap current, they do result in slightly different coefficients for the current profile: "
   ]
  },
  {
   "cell_type": "code",
   "execution_count": 18,
   "metadata": {},
   "outputs": [
    {
     "name": "stdout",
     "output_type": "stream",
     "text": [
      "[ 0.00000000e+00  0.00000000e+00  2.39499168e+04  6.19134368e+06  4.30021243e+06 -3.88019585e+07  6.11682752e+07 -3.33950099e+07  2.93695811e+06]\n",
      "[ 0.00000000e+00  0.00000000e+00  4.66585405e+05  5.63752559e+05  3.00704695e+07 -9.56770096e+07  1.26451711e+08 -7.04331552e+07  1.09842316e+07]\n"
     ]
    }
   ],
   "source": [
    "print(eq1.c_l)\n",
    "print(eq2.c_l)"
   ]
  },
  {
   "cell_type": "markdown",
   "metadata": {},
   "source": [
    "In this example, the first method of optimization gave better self-consistency but was noticeably slower than the second method of iterative solves. "
   ]
  },
  {
   "cell_type": "markdown",
   "metadata": {},
   "source": [
    "## Using Spline Profiles\n",
    "\n",
    "We can also use splines to describe the current profile. Due to the many DOFs of splines and their local nature, they can be difficult to use with the first method shown above. So, we recommend using the iterative solve method if a spline current profile is desired. "
   ]
  },
  {
   "cell_type": "markdown",
   "metadata": {},
   "source": [
    "The code for the iterative method with splines is slightly different, as now we do not need to re-fit the current profile with a power series in order to update our spline. Instead, we choose our spline profile knots carefully to include a knot at the axis which we will keep at 0 (in order to enforce zero on-axis net toroidal current), and choosing the rest to align with the grid we will be computing the Redl bootstrap current at.\n",
    "\n",
    "Remember that the Redl formula is not defined on-axis or on the boundary, so we must ensure we do not include a knot at $\\rho=1$, as we have no way of updating that value."
   ]
  },
  {
   "cell_type": "code",
   "execution_count": 19,
   "metadata": {},
   "outputs": [],
   "source": [
    "# Choose a denser grid for the spline profile so we can represent the bootstrap current profile well\n",
    "L_grid = 25\n",
    "\n",
    "grid = LinearGrid(\n",
    "    M=eq0.M_grid,\n",
    "    N=eq0.N_grid,\n",
    "    NFP=eq0.NFP,\n",
    "    sym=eq0.sym,\n",
    "    rho=np.linspace(1 / L_grid, 1, L_grid) - 1 / (2 * L_grid),\n",
    ")\n",
    "\n",
    "eq2_spline = eq0.copy()\n",
    "fam2 = EquilibriaFamily(eq2_spline)\n",
    "# choose the rho values for the knots\n",
    "rho = np.concatenate([np.array([0.0]), grid.nodes[grid.unique_rho_idx, 0]])\n",
    "# make a SplineProfile for current, initially zero.\n",
    "eq2_spline.current = SplineProfile(values=np.zeros_like(rho), knots=rho)"
   ]
  },
  {
   "cell_type": "code",
   "execution_count": 20,
   "metadata": {},
   "outputs": [
    {
     "name": "stdout",
     "output_type": "stream",
     "text": [
      "Building objective: force\n",
      "Precomputing transforms\n",
      "Timer: Precomputing transforms = 126 ms\n",
      "Timer: Objective build = 151 ms\n",
      "Building objective: lcfs R\n",
      "Building objective: lcfs Z\n",
      "Building objective: fixed Psi\n",
      "Building objective: fixed current\n",
      "Building objective: fixed electron density\n",
      "Building objective: fixed electron temperature\n",
      "Building objective: fixed ion temperature\n",
      "Building objective: fixed atomic number\n",
      "Building objective: fixed sheet current\n",
      "Building objective: self_consistency R\n",
      "Building objective: self_consistency Z\n",
      "Building objective: lambda gauge\n",
      "Building objective: axis R self consistency\n",
      "Building objective: axis Z self consistency\n",
      "Timer: Objective build = 437 ms\n",
      "Timer: LinearConstraintProjection build = 6.93 sec\n",
      "Number of parameters: 856\n",
      "Number of objectives: 5346\n",
      "Timer: Initializing the optimization = 7.59 sec\n",
      "\n",
      "Starting optimization\n",
      "Using method: lsq-exact\n",
      "   Iteration     Total nfev        Cost      Cost reduction    Step norm     Optimality   \n",
      "       0              1          4.786e-03                                    7.394e-02   \n",
      "       1              2          3.291e-03      1.495e-03      2.084e-01      3.330e-02   \n",
      "       2              3          2.152e-04      3.076e-03      1.225e-01      7.322e-03   \n",
      "       3              4          1.628e-04      5.235e-05      1.060e-01      6.766e-03   \n",
      "       4              5          3.302e-06      1.595e-04      2.609e-02      3.061e-04   \n",
      "       5              7          2.020e-06      1.281e-06      1.485e-02      9.016e-05   \n",
      "       6              9          1.901e-06      1.195e-07      6.101e-03      4.920e-05   \n",
      "       7             11          1.861e-06      3.916e-08      3.671e-03      1.166e-05   \n",
      "       8             12          1.834e-06      2.708e-08      6.524e-03      3.133e-05   \n",
      "       9             13          1.825e-06      9.440e-09      1.187e-02      8.681e-05   \n",
      "      10             14          1.772e-06      5.247e-08      3.108e-03      4.613e-06   \n",
      "      11             15          1.763e-06      9.756e-09      5.633e-03      1.974e-05   \n",
      "Optimization terminated successfully.\n",
      "`ftol` condition satisfied. (ftol=1.00e-02)\n",
      "         Current function value: 1.763e-06\n",
      "         Total delta_x: 2.312e-01\n",
      "         Iterations: 11\n",
      "         Function evaluations: 15\n",
      "         Jacobian evaluations: 12\n",
      "Timer: Solution time = 1.20 min\n",
      "Timer: Avg time per step = 6.00 sec\n",
      "==============================================================================================================\n",
      "                                                                 Start  -->   End\n",
      "Total (sum of squares):                                      4.786e-03  -->   1.763e-06, \n",
      "Maximum absolute Force error:                                5.134e+07  -->   2.061e+06 (N)\n",
      "Minimum absolute Force error:                                6.798e+01  -->   3.034e+01 (N)\n",
      "Average absolute Force error:                                4.425e+06  -->   1.033e+05 (N)\n",
      "Maximum absolute Force error:                                1.201e-02  -->   4.821e-04 (normalized)\n",
      "Minimum absolute Force error:                                1.590e-08  -->   7.095e-09 (normalized)\n",
      "Average absolute Force error:                                1.035e-03  -->   2.415e-05 (normalized)\n",
      "R boundary error:                                            0.000e+00  -->   1.790e-15 (m)\n",
      "Z boundary error:                                            0.000e+00  -->   4.969e-16 (m)\n",
      "Fixed Psi error:                                             0.000e+00  -->   0.000e+00 (Wb)\n",
      "Fixed current profile error:                                 0.000e+00  -->   9.809e-10 (A)\n",
      "Fixed electron density profile error:                        0.000e+00  -->   0.000e+00 (m^-3)\n",
      "Fixed electron temperature profile error:                    0.000e+00  -->   0.000e+00 (eV)\n",
      "Fixed ion temperature profile error:                         0.000e+00  -->   0.000e+00 (eV)\n",
      "Fixed atomic number profile error:                           0.000e+00  -->   0.000e+00 (dimensionless)\n",
      "Fixed sheet current error:                                   0.000e+00  -->   0.000e+00 (~)\n",
      "==============================================================================================================\n",
      "\n",
      "Building objective: force\n",
      "Precomputing transforms\n",
      "Timer: Precomputing transforms = 114 ms\n",
      "Timer: Objective build = 140 ms\n",
      "Building objective: lcfs R\n",
      "Building objective: lcfs Z\n",
      "Building objective: fixed Psi\n",
      "Building objective: fixed current\n",
      "Building objective: fixed electron density\n",
      "Building objective: fixed electron temperature\n",
      "Building objective: fixed ion temperature\n",
      "Building objective: fixed atomic number\n",
      "Building objective: fixed sheet current\n",
      "Building objective: self_consistency R\n",
      "Building objective: self_consistency Z\n",
      "Building objective: lambda gauge\n",
      "Building objective: axis R self consistency\n",
      "Building objective: axis Z self consistency\n",
      "Timer: Objective build = 279 ms\n",
      "Timer: LinearConstraintProjection build = 279 ms\n",
      "Number of parameters: 856\n",
      "Number of objectives: 5346\n",
      "Timer: Initializing the optimization = 734 ms\n",
      "\n",
      "Starting optimization\n",
      "Using method: lsq-exact\n",
      "   Iteration     Total nfev        Cost      Cost reduction    Step norm     Optimality   \n",
      "       0              1          3.859e-04                                    1.760e-02   \n",
      "       1              2          7.584e-06      3.784e-04      6.480e-02      1.457e-03   \n",
      "       2              3          1.403e-06      6.180e-06      1.463e-02      9.764e-05   \n",
      "       3              4          1.384e-06      1.951e-08      1.243e-02      7.694e-05   \n",
      "       4              6          1.337e-06      4.674e-08      3.911e-03      2.795e-05   \n",
      "       5              7          1.332e-06      4.670e-09      7.117e-03      1.683e-05   \n",
      "Optimization terminated successfully.\n",
      "`ftol` condition satisfied. (ftol=1.00e-02)\n",
      "         Current function value: 1.332e-06\n",
      "         Total delta_x: 7.028e-02\n",
      "         Iterations: 5\n",
      "         Function evaluations: 7\n",
      "         Jacobian evaluations: 6\n",
      "Timer: Solution time = 39.9 sec\n",
      "Timer: Avg time per step = 6.65 sec\n",
      "==============================================================================================================\n",
      "                                                                 Start  -->   End\n",
      "Total (sum of squares):                                      3.859e-04  -->   1.332e-06, \n",
      "Maximum absolute Force error:                                1.335e+07  -->   2.315e+06 (N)\n",
      "Minimum absolute Force error:                                6.842e+01  -->   2.656e+01 (N)\n",
      "Average absolute Force error:                                1.293e+06  -->   8.725e+04 (N)\n",
      "Maximum absolute Force error:                                3.123e-03  -->   5.414e-04 (normalized)\n",
      "Minimum absolute Force error:                                1.600e-08  -->   6.212e-09 (normalized)\n",
      "Average absolute Force error:                                3.025e-04  -->   2.040e-05 (normalized)\n",
      "R boundary error:                                            0.000e+00  -->   2.239e-16 (m)\n",
      "Z boundary error:                                            0.000e+00  -->   2.314e-16 (m)\n",
      "Fixed Psi error:                                             0.000e+00  -->   0.000e+00 (Wb)\n",
      "Fixed current profile error:                                 0.000e+00  -->   1.434e-10 (A)\n",
      "Fixed electron density profile error:                        0.000e+00  -->   0.000e+00 (m^-3)\n",
      "Fixed electron temperature profile error:                    0.000e+00  -->   0.000e+00 (eV)\n",
      "Fixed ion temperature profile error:                         0.000e+00  -->   0.000e+00 (eV)\n",
      "Fixed atomic number profile error:                           0.000e+00  -->   0.000e+00 (dimensionless)\n",
      "Fixed sheet current error:                                   0.000e+00  -->   0.000e+00 (~)\n",
      "==============================================================================================================\n",
      "\n",
      "Building objective: force\n",
      "Precomputing transforms\n",
      "Timer: Precomputing transforms = 112 ms\n",
      "Timer: Objective build = 137 ms\n",
      "Building objective: lcfs R\n",
      "Building objective: lcfs Z\n",
      "Building objective: fixed Psi\n",
      "Building objective: fixed current\n",
      "Building objective: fixed electron density\n",
      "Building objective: fixed electron temperature\n",
      "Building objective: fixed ion temperature\n",
      "Building objective: fixed atomic number\n",
      "Building objective: fixed sheet current\n",
      "Building objective: self_consistency R\n",
      "Building objective: self_consistency Z\n",
      "Building objective: lambda gauge\n",
      "Building objective: axis R self consistency\n",
      "Building objective: axis Z self consistency\n",
      "Timer: Objective build = 277 ms\n",
      "Timer: LinearConstraintProjection build = 278 ms\n",
      "Number of parameters: 856\n",
      "Number of objectives: 5346\n",
      "Timer: Initializing the optimization = 728 ms\n",
      "\n",
      "Starting optimization\n",
      "Using method: lsq-exact\n",
      "   Iteration     Total nfev        Cost      Cost reduction    Step norm     Optimality   \n",
      "       0              1          1.775e-05                                    3.663e-03   \n",
      "       1              2          1.392e-06      1.636e-05      1.606e-02      8.777e-05   \n",
      "       2              3          1.370e-06      2.198e-08      1.022e-02      5.945e-05   \n",
      "       3              5          1.342e-06      2.839e-08      3.612e-03      1.988e-05   \n",
      "       4              6          1.339e-06      2.617e-09      5.746e-03      1.798e-05   \n",
      "Optimization terminated successfully.\n",
      "`ftol` condition satisfied. (ftol=1.00e-02)\n",
      "         Current function value: 1.339e-06\n",
      "         Total delta_x: 2.328e-02\n",
      "         Iterations: 4\n",
      "         Function evaluations: 6\n",
      "         Jacobian evaluations: 5\n",
      "Timer: Solution time = 19.0 sec\n",
      "Timer: Avg time per step = 3.81 sec\n",
      "==============================================================================================================\n",
      "                                                                 Start  -->   End\n",
      "Total (sum of squares):                                      1.775e-05  -->   1.339e-06, \n",
      "Maximum absolute Force error:                                2.524e+06  -->   2.345e+06 (N)\n",
      "Minimum absolute Force error:                                4.315e+01  -->   4.924e+01 (N)\n",
      "Average absolute Force error:                                2.786e+05  -->   8.965e+04 (N)\n",
      "Maximum absolute Force error:                                5.903e-04  -->   5.485e-04 (normalized)\n",
      "Minimum absolute Force error:                                1.009e-08  -->   1.151e-08 (normalized)\n",
      "Average absolute Force error:                                6.515e-05  -->   2.097e-05 (normalized)\n",
      "R boundary error:                                            0.000e+00  -->   1.444e-17 (m)\n",
      "Z boundary error:                                            0.000e+00  -->   2.230e-16 (m)\n",
      "Fixed Psi error:                                             0.000e+00  -->   0.000e+00 (Wb)\n",
      "Fixed current profile error:                                 0.000e+00  -->   7.112e-10 (A)\n",
      "Fixed electron density profile error:                        0.000e+00  -->   0.000e+00 (m^-3)\n",
      "Fixed electron temperature profile error:                    0.000e+00  -->   0.000e+00 (eV)\n",
      "Fixed ion temperature profile error:                         0.000e+00  -->   0.000e+00 (eV)\n",
      "Fixed atomic number profile error:                           0.000e+00  -->   0.000e+00 (dimensionless)\n",
      "Fixed sheet current error:                                   0.000e+00  -->   0.000e+00 (~)\n",
      "==============================================================================================================\n",
      "\n"
     ]
    }
   ],
   "source": [
    "from desc.backend import jnp\n",
    "\n",
    "niters = 3\n",
    "for k in range(niters):\n",
    "    eq2_spline = eq2_spline.copy()\n",
    "    # compute new guess for the current profile, consistent with Redl formula\n",
    "    data = eq2_spline.compute(\"current Redl\", grid)\n",
    "    current = grid.compress(data[\"current Redl\"])\n",
    "    rho = grid.compress(data[\"rho\"])\n",
    "    # add the rho=0 value which we enforce as zero current\n",
    "    c_at_knots = np.concatenate([np.array([0.0]), current])\n",
    "    eq2_spline.current.params = c_at_knots\n",
    "    # re-solve the equilibrium\n",
    "    eq2_spline, _ = eq2_spline.solve(\n",
    "        objective=\"force\", optimizer=\"lsq-exact\", verbose=3\n",
    "    )\n",
    "    fam2.append(eq2_spline)"
   ]
  },
  {
   "cell_type": "markdown",
   "metadata": {},
   "source": [
    "We can plot the current profile at each iteration to visualize how it changed: "
   ]
  },
  {
   "cell_type": "code",
   "execution_count": 21,
   "metadata": {},
   "outputs": [
    {
     "name": "stderr",
     "output_type": "stream",
     "text": [
      "/home/dpanici/DESC/desc/utils.py:520: FutureWarning: argument linecolor has been renamed to color, linecolor will be removed in a future release\n",
      "  warnings.warn(\n",
      "/home/dpanici/DESC/desc/utils.py:520: FutureWarning: argument linecolor has been renamed to color, linecolor will be removed in a future release\n",
      "  warnings.warn(\n",
      "/home/dpanici/DESC/desc/utils.py:520: FutureWarning: argument linecolor has been renamed to color, linecolor will be removed in a future release\n",
      "  warnings.warn(\n"
     ]
    },
    {
     "data": {
      "image/png": "[encoded data removed]",
      "text/plain": [
       "<Figure size 288x288 with 1 Axes>"
      ]
     },
     "metadata": {},
     "output_type": "display_data"
    }
   ],
   "source": [
    "fig, ax = plot_1d(fam2[0], \"current\", linecolor=\"k\", lw=2, label=\"0\")\n",
    "fig, ax = plot_1d(fam2[1], \"current\", linecolor=\"g\", lw=2, label=\"1\", ax=ax)\n",
    "fig, ax = plot_1d(fam2[2], \"current\", linecolor=\"b\", lw=2, label=\"2\", ax=ax)\n",
    "ax.legend(loc=\"best\");"
   ]
  },
  {
   "cell_type": "markdown",
   "metadata": {},
   "source": [
    "With this method the MHD equilibrium also has very good agreement with the Redl formula, now with a ``SplineProfile``."
   ]
  },
  {
   "cell_type": "code",
   "execution_count": 22,
   "metadata": {},
   "outputs": [
    {
     "name": "stderr",
     "output_type": "stream",
     "text": [
      "/home/dpanici/DESC/desc/utils.py:572: UserWarning: Redl formula is undefined at rho=0, but grid has grid points at rho=0, note that on-axiscurrent will be NaN.\n",
      "  warnings.warn(msg, err)\n",
      "/home/dpanici/DESC/desc/utils.py:572: UserWarning: Redl formula is undefined where kinetic profiles vanish, but given electron density vanishes at at least one providedrho grid point.\n",
      "  warnings.warn(msg, err)\n",
      "/home/dpanici/DESC/desc/utils.py:572: UserWarning: Redl formula is undefined where kinetic profiles vanish, but given electron temperature vanishes at at least one providedrho grid point.\n",
      "  warnings.warn(msg, err)\n",
      "/home/dpanici/DESC/desc/utils.py:572: UserWarning: Redl formula is undefined where kinetic profiles vanish, but given ion temperature vanishes at at least one providedrho grid point.\n",
      "  warnings.warn(msg, err)\n"
     ]
    },
    {
     "data": {
      "image/png": "[encoded data removed]",
      "text/plain": [
       "<Figure size 288x288 with 1 Axes>"
      ]
     },
     "metadata": {},
     "output_type": "display_data"
    }
   ],
   "source": [
    "fig, ax = plot_1d(fam2[-1], \"<J*B> Redl\", color=\"b\", lw=2, label=\"Redl\")\n",
    "fig, ax = plot_1d(fam2[-1], \"<J*B>\", color=\"r\", lw=2, label=\"MHD\", ax=ax)\n",
    "ax.legend(loc=\"best\")\n",
    "ax.set_title(\"Method 2: Iterative Solves (splines)\");"
   ]
  }
 ],
 "metadata": {
  "kernelspec": {
   "display_name": "desc-env [~/.conda/envs/desc-env/]",
   "language": "python",
   "name": "conda_desc-env"
  },
  "language_info": {
   "codemirror_mode": {
    "name": "ipython",
    "version": 3
   },
   "file_extension": ".py",
   "mimetype": "text/x-python",
   "name": "python",
   "nbconvert_exporter": "python",
   "pygments_lexer": "ipython3",
   "version": "3.12.0"
  }
 },
 "nbformat": 4,
 "nbformat_minor": 4
}
