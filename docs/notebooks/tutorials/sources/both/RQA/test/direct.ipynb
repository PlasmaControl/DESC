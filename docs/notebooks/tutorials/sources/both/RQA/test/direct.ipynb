{
 "cells": [
  {
   "cell_type": "code",
   "execution_count": 1,
   "id": "c3bfcfee",
   "metadata": {},
   "outputs": [
    {
     "name": "stderr",
     "output_type": "stream",
     "text": [
      "/home/fcastro/DESC/desc/__init__.py:99: UserWarning: No GPU found, falling back to CPU\n",
      "  warnings.warn(colored(\"No GPU found, falling back to CPU\", \"yellow\"))\n"
     ]
    }
   ],
   "source": [
    "from desc import set_device\n",
    "set_device(\"gpu\")"
   ]
  },
  {
   "cell_type": "code",
   "execution_count": 2,
   "id": "9ce0c44f",
   "metadata": {},
   "outputs": [
    {
     "name": "stderr",
     "output_type": "stream",
     "text": [
      "ERROR:2025-08-18 15:37:32,755:jax._src.xla_bridge:444: Jax plugin configuration error: Exception when calling jax_plugins.xla_cuda12.initialize()\n",
      "Traceback (most recent call last):\n",
      "  File \"/home/fcastro/.conda/envs/desc-env/lib/python3.12/site-packages/jax/_src/xla_bridge.py\", line 442, in discover_pjrt_plugins\n",
      "    plugin_module.initialize()\n",
      "  File \"/home/fcastro/.conda/envs/desc-env/lib/python3.12/site-packages/jax_plugins/xla_cuda12/__init__.py\", line 324, in initialize\n",
      "    _check_cuda_versions(raise_on_first_error=True)\n",
      "  File \"/home/fcastro/.conda/envs/desc-env/lib/python3.12/site-packages/jax_plugins/xla_cuda12/__init__.py\", line 281, in _check_cuda_versions\n",
      "    local_device_count = cuda_versions.cuda_device_count()\n",
      "                         ^^^^^^^^^^^^^^^^^^^^^^^^^^^^^^^^^\n",
      "RuntimeError: jaxlib/cuda/versions_helpers.cc:113: operation cuInit(0) failed: Unknown CUDA error 303; cuGetErrorName failed. This probably means that JAX was unable to load the CUDA libraries.\n"
     ]
    },
    {
     "ename": "SyntaxError",
     "evalue": "invalid syntax (_sources.py, line 332)",
     "output_type": "error",
     "traceback": [
      "Traceback \u001b[36m(most recent call last)\u001b[39m:\n",
      "  File \u001b[92m~/.conda/envs/desc-env/lib/python3.12/site-packages/IPython/core/interactiveshell.py:3699\u001b[39m in \u001b[95mrun_code\u001b[39m\n    exec(code_obj, self.user_global_ns, self.user_ns)\n",
      "  Cell \u001b[92mIn[2]\u001b[39m\u001b[92m, line 23\u001b[39m\n    from desc.equilibrium import EquilibriaFamily, Equilibrium\n",
      "  File \u001b[92m~/DESC/desc/equilibrium/__init__.py:3\u001b[39m\n    from .equilibrium import EquilibriaFamily, Equilibrium\n",
      "  File \u001b[92m~/DESC/desc/equilibrium/equilibrium.py:33\u001b[39m\n    from desc.objectives import (\n",
      "\u001b[36m  \u001b[39m\u001b[36mFile \u001b[39m\u001b[32m~/DESC/desc/objectives/__init__.py:110\u001b[39m\n\u001b[31m    \u001b[39m\u001b[31mfrom ._sources import SinksSourcesSurfaceQuadraticFlux\u001b[39m\n",
      "  \u001b[36mFile \u001b[39m\u001b[32m~/DESC/desc/objectives/_sources.py:332\u001b[39m\n\u001b[31m    \u001b[39m\u001b[31mparams1['p_N']*2+1,,\u001b[39m\n                       ^\n\u001b[31mSyntaxError\u001b[39m\u001b[31m:\u001b[39m invalid syntax\n"
     ]
    }
   ],
   "source": [
    "import numpy as np\n",
    "import os\n",
    "\n",
    "from scipy.io import netcdf_file\n",
    "import copy\n",
    "import matplotlib\n",
    "import matplotlib.pyplot as plt\n",
    "import scipy\n",
    "import sys\n",
    "import functools\n",
    "import pickle\n",
    "\n",
    "import jax\n",
    "import jax.numpy as jnp\n",
    "from jax import jit, jacfwd\n",
    "\n",
    "from netCDF4 import Dataset\n",
    "\n",
    "from desc.backend import put, fori_loop, jnp, sign\n",
    "\n",
    "from desc.basis import FourierZernikeBasis, DoubleFourierSeries, FourierSeries\n",
    "\n",
    "from desc.equilibrium import EquilibriaFamily, Equilibrium\n",
    "from desc.grid import ConcentricGrid, LinearGrid, Grid, QuadratureGrid\n",
    "from desc.io import InputReader, load\n",
    "#from desc.plotting import plot_1d, plot_2d, plot_3d, plot_section, plot_surfaces, plot_comparison\n",
    "\n",
    "from desc.plotting import *\n",
    "\n",
    "from desc.transform import Transform\n",
    "from desc.vmec import VMECIO\n",
    "from desc.derivatives import Derivative\n",
    "from desc.geometry import FourierRZToroidalSurface\n",
    "import desc.examples\n",
    "\n",
    "from desc.backend import fori_loop, jit, jnp, odeint, sign\n",
    "from desc.compute import rpz2xyz, rpz2xyz_vec, xyz2rpz, xyz2rpz_vec\n",
    "from desc.coils import *\n",
    "\n",
    "from desc.utils import flatten_list, Timer, copy_coeffs, errorif, setdefault, svd_inv_null, warnif, cross, dot\n",
    "\n",
    "from desc.optimize import lsqtr, lsq_auglag\n",
    "\n",
    "from desc.magnetic_fields import FourierCurrentPotentialField\n",
    "\n",
    "import time\n",
    "\n",
    "import numpy as np\n",
    "from numpy import ndarray\n",
    "\n",
    "from desc.fns_simp import (plot_figure,\n",
    "                           plot_figure2,\n",
    "                            plot_xy,\n",
    "                           surf_int,\n",
    "                           _compute_magnetic_field_from_Current)\n",
    "\n",
    "#from find_sour import iso_coords_interp, bn_res, B_sour, K_sour, interp_grid, add_extra_coords, add_extra_periodic\n",
    "from desc.objectives.find_sour import iso_coords_load, iso_coords_interp"
   ]
  },
  {
   "cell_type": "code",
   "execution_count": null,
   "id": "6a5c1a72",
   "metadata": {
    "scrolled": true
   },
   "outputs": [],
   "source": [
    "# Plasma surfaces\n",
    "#eqname_QA = \"/scratch/gpfs/fcastro/LMStell/regcoil/rogerio/input.QA_final_output.h5\" #vacuum equilibrium\n",
    "eqname_QA = \"input.QA_final_output.h5\" #vacuum equilibrium\n",
    "eq_QA = desc.io.load(eqname_QA)[4]\n",
    "\n",
    "eq = eq_QA\n",
    "\n",
    "name = './iso_coords/'\n",
    "# Winding surfac./e\n",
    "surf_winding = load(name + \"surf.h5\")\n",
    "\n",
    "# Plot both surfaces\n",
    "plot_comparison([surf_winding,eq],labels=[\"surf\",\"eq\"],theta=0,rho=np.array(1.0))"
   ]
  },
  {
   "cell_type": "code",
   "execution_count": null,
   "id": "22e40649-1e5e-4e2c-8b81-82bf7d87e016",
   "metadata": {},
   "outputs": [],
   "source": [
    "tdata = iso_coords_load(name,surf_winding)"
   ]
  },
  {
   "cell_type": "code",
   "execution_count": null,
   "id": "84a7ac2e",
   "metadata": {},
   "outputs": [],
   "source": [
    "# Evaluate Green's function for flat tori\n",
    "sgrid = LinearGrid(M = 10, N = 15,\n",
    "                   NFP = surf_winding.NFP,\n",
    "                  )\n",
    "sdata = surf_winding.compute([\"theta\",\"zeta\", \"e^theta_s\",\"e^zeta_s\"], grid = sgrid)\n",
    "sdata = iso_coords_interp(tdata, sdata, sgrid,)\n",
    "\n",
    "G = np.load(name + \"G.npy\")\n",
    "K_sec = G * cross(sdata[\"n_rho\"], sdata[\"e^u_s\"])\n",
    "K_sv = surf_winding.compute([\"K\"],grid = sgrid)[\"K\"]"
   ]
  },
  {
   "cell_type": "code",
   "execution_count": null,
   "id": "27c302ac-efe7-434c-a5c5-dca6002d0a2c",
   "metadata": {},
   "outputs": [],
   "source": [
    "sgrid2 = Grid(nodes = jnp.vstack((sgrid.nodes[:,0],\n",
    "                                        sgrid.nodes[:,1],\n",
    "                                        sgrid.nodes[:,2] + (2*np.pi/surf_winding.NFP)*1)).T\n",
    "                    )\n",
    "sgrid3 = Grid(nodes = jnp.vstack((sgrid.nodes[:,0],\n",
    "                                        sgrid.nodes[:,1],\n",
    "                                        sgrid.nodes[:,2] + (2*np.pi/surf_winding.NFP)*2)).T\n",
    "                    )\n",
    "\n",
    "sdata2 = surf_winding.compute([\"theta\",\"zeta\", \"e^theta_s\",\"e^zeta_s\"], grid = sgrid2)\n",
    "sdata2 = iso_coords_interp(tdata, sdata2, sgrid2)\n",
    "\n",
    "sdata3 = surf_winding.compute([\"theta\",\"zeta\", \"e^theta_s\",\"e^zeta_s\"], grid = sgrid3)\n",
    "sdata3 = iso_coords_interp(tdata, sdata3, sgrid3)"
   ]
  },
  {
   "cell_type": "code",
   "execution_count": null,
   "id": "0813a4ee",
   "metadata": {},
   "outputs": [],
   "source": [
    "# Confirm that variables have the same shape\n",
    "plot_figure2(sdata[\"u_iso\"],sgrid,''r' $ u(\\theta,\\zeta)$ ')\n",
    "plot_figure2(sdata[\"v_iso\"],sgrid,''r' $ v(\\theta,\\zeta)$ ')\n",
    "#plot_figure2(sdata[\"lambda_iso\"],sgrid,''r' $ \\lambda $ ')\n",
    "\n",
    "#plot_figure2(sdata2[\"u_iso\"],sgrid2,''r' $ u(\\theta,\\zeta)$ ')\n",
    "#plot_figure2(sdata2[\"v_iso\"],sgrid2,''r' $ v(\\theta,\\zeta)$ ')\n",
    "\n",
    "#plot_figure2(sdata3[\"u_iso\"],sgrid3,''r' $ u(\\theta,\\zeta)$ ')\n",
    "#plot_figure2(sdata3[\"v_iso\"],sgrid3,''r' $ v(\\theta,\\zeta)$ ')"
   ]
  },
  {
   "cell_type": "code",
   "execution_count": null,
   "id": "e476d15d",
   "metadata": {},
   "outputs": [],
   "source": [
    "eps = 1e-2\n",
    "dt = eps\n",
    "dz = eps\n",
    "d0 = eps/3"
   ]
  },
  {
   "cell_type": "code",
   "execution_count": null,
   "id": "07215265-ba1d-49f8-bbc6-a0d64301841e",
   "metadata": {},
   "outputs": [],
   "source": [
    "grid_M = 10\n",
    "grid_N = 10"
   ]
  },
  {
   "cell_type": "code",
   "execution_count": null,
   "id": "3b07dc21",
   "metadata": {},
   "outputs": [],
   "source": [
    "egrid = LinearGrid(M = grid_M, N = grid_N, NFP = eq.NFP)\n",
    "edata = eq.compute([\"n_rho\",\"B\"], grid = egrid)\n",
    "\n",
    "#B_s = edata[\"B\"]\n",
    "B_sec = np.load('iso_coords/B_sec_'+str(grid_M)+'x'+str(grid_N)+'.npy')\n",
    "#_compute_magnetic_field_from_Current( sgrid, K_sec, surf_winding, eq, egrid, basis = \"rpz\" )\n",
    "B_s = _compute_magnetic_field_from_Current( sgrid, K_sv, surf_winding, eq, egrid, basis = \"rpz\" )\n",
    "#B_s = _compute_magnetic_field_from_Current( sgrid, K_sec, surf_winding, eq, egrid, basis = \"rpz\" )\n",
    "rhs = jnp.concatenate((B_s[:,0],B_s[:,1],B_s[:,2],\n",
    "                      jnp.asarray([0])))\n",
    "#- dot( edata[\"n_rho\"],  B_sec )"
   ]
  },
  {
   "cell_type": "code",
   "execution_count": null,
   "id": "abfdc6a5",
   "metadata": {},
   "outputs": [],
   "source": [
    "plot_figure2( dot(K_sec,K_sec) ** (1/2), sgrid,''r' $ | \\mathbf{K_{sec}} |$ ')\n",
    "plot_figure2( dot(B_s,B_s) ** (1/2), egrid,''r' $ | \\mathbf{B_{s}} |$ ')\n",
    "#plot_figure2( rhs, egrid, ''r' $ \\mathbf{B_{sec} \\cdot n}$ ' )"
   ]
  },
  {
   "cell_type": "code",
   "execution_count": null,
   "id": "f4cd9266",
   "metadata": {},
   "outputs": [],
   "source": [
    "N = 20 # Terms toa pproximate the infinite series\n",
    "\n",
    "# Numer of dipoles\n",
    "sMv = np.asarray([10,]) # Poloidal direction\n",
    "sNv = np.asarray([10,]) # Toroidal direction"
   ]
  },
  {
   "cell_type": "code",
   "execution_count": null,
   "id": "90f8c07f-48a6-4143-b10c-e5784842410b",
   "metadata": {},
   "outputs": [],
   "source": [
    "p_M = sMv[0]\n",
    "p_N = sNv[0]\n",
    "\n",
    "#theta = jnp.linspace(2 * jnp.pi * (1 / (p_M * 2)) * 1/2,\n",
    "#                         2 * jnp.pi * (1 - 1 / (p_M * 2) * 1/2),\n",
    "#                         p_M * 2)\n",
    "\n",
    "#zeta = jnp.linspace(2 * jnp.pi / surf_winding.NFP * (1 / (p_N * 2)) * 1/2,\n",
    "#                        2 * jnp.pi / surf_winding.NFP * (1 - 1 / (p_N * 2) * 1/2),\n",
    "#                        p_N * 2,)\n",
    "\n",
    "#name = \"iso_coords/\"\n",
    "#s_data = interp_grid(theta, zeta, surf_winding, name)\n",
    "\n",
    "## Save the dictionary\n",
    "#with open('s_data.pkl', 'wb') as f:\n",
    "#    pickle.dump(s_data, f)"
   ]
  },
  {
   "cell_type": "code",
   "execution_count": null,
   "id": "f8741a01",
   "metadata": {},
   "outputs": [],
   "source": [
    "grid_M2 = grid_M\n",
    "grid_N2 = grid_N\n",
    "\n",
    "egrid2 = LinearGrid(M = grid_M2, N = grid_N2, NFP = eq.NFP)\n",
    "edata2 = eq.compute([\"n_rho\"], grid = egrid2)\n",
    "\n",
    "B_sec2 = np.load('iso_coords/B_sec_'+str(grid_M2)+'x'+str(grid_N2)+'.npy')\n",
    "#_compute_magnetic_field_from_Current( sgrid, K_sec, surf_winding, eq, egrid2, basis = \"rpz\" )\n",
    "B_s2 = _compute_magnetic_field_from_Current( sgrid, K_sv, surf_winding, eq, egrid2, basis = \"rpz\" )\n",
    "#B_s2 = edata2[\"B\"]"
   ]
  },
  {
   "cell_type": "code",
   "execution_count": null,
   "id": "36a281c1-314c-4a74-918f-f9f7e9a47c59",
   "metadata": {},
   "outputs": [],
   "source": [
    "b_chi = [] # Store the integral of the error \n",
    "source_chi = [] # Store the sum of sinks and sources of current\n",
    "Bn_chi = [] # Store the max Bn from the solution\n",
    "max_I = [] # Store the max value of sources\n",
    "min_I = [] # Store the min value of sources"
   ]
  },
  {
   "cell_type": "code",
   "execution_count": null,
   "id": "cb03a6e3-51ab-4575-88ec-271a2ba2e449",
   "metadata": {},
   "outputs": [],
   "source": [
    "from desc.magnetic_fields._sinkssources import SinksSources\n",
    "\n",
    "from desc.objectives import (\n",
    "    ObjectiveFunction,\n",
    "    SinksSourcesSurfaceQuadraticFlux,\n",
    ")"
   ]
  },
  {
   "cell_type": "code",
   "execution_count": null,
   "id": "3557a133-b251-4f69-a9ae-9643ef03124f",
   "metadata": {},
   "outputs": [],
   "source": [
    "sinks_sources_basis = SinksSources(p_M=10,p_N=10, NFP = surf_winding.NFP)"
   ]
  },
  {
   "cell_type": "code",
   "execution_count": null,
   "id": "127d7536-ca4a-48c4-bb2e-0bf9b13f19ab",
   "metadata": {},
   "outputs": [],
   "source": [
    "objective = ObjectiveFunction(\n",
    "    (\n",
    "        SinksSourcesSurfaceQuadraticFlux(\n",
    "            sinks_sources_basis, # Field for sinks and sources,\n",
    "            eq,\n",
    "        surf_winding, # Winding surface\n",
    "        tdata, # Dictionary with information about the isothermal coordinates\n",
    "        N, # Nnumber of terms for the sum in the Jacobi-theta function\n",
    "        d0, # Regularization radius for Guenther's function\n",
    "        #normalize=True,\n",
    "        #normalize_target=True,\n",
    "        source_grid=sgrid, #Grid with the locations of the sources and sinks\n",
    "        eval_grid=egrid,\n",
    "        field_grid=sgrid,\n",
    "        #sin_and_source_grid=None,\n",
    "        vacuum=False,\n",
    "        name=\"Sinks/Sources Quadratic flux\",\n",
    "        jac_chunk_size=None,)\n",
    "    )\n",
    ")"
   ]
  },
  {
   "cell_type": "code",
   "execution_count": null,
   "id": "515f0cc2-2e7a-4bf5-9aa4-ab013684ca9f",
   "metadata": {},
   "outputs": [],
   "source": [
    "from desc.optimize import Optimizer\n",
    "\n",
    "optimizer = Optimizer(\"lsq-auglag\")"
   ]
  },
  {
   "cell_type": "code",
   "execution_count": null,
   "id": "d3a94242-778a-438f-add9-167f271da1e4",
   "metadata": {},
   "outputs": [],
   "source": [
    "#(eq, field), _\n",
    "result = optimizer.optimize(\n",
    "    #(surf_winding,sinks_sources_basis),\n",
    "    sinks_sources_basis,\n",
    "    objective, \n",
    "    #constraints = None, \n",
    "    maxiter=1, \n",
    "    verbose=3\n",
    ")"
   ]
  },
  {
   "cell_type": "code",
   "execution_count": null,
   "id": "0acf58ad-b555-48d8-87a7-5c827a787d75",
   "metadata": {},
   "outputs": [],
   "source": []
  }
 ],
 "metadata": {
  "kernelspec": {
   "display_name": "desc-env [~/.conda/envs/desc-env/]",
   "language": "python",
   "name": "conda_desc-env"
  },
  "language_info": {
   "codemirror_mode": {
    "name": "ipython",
    "version": 3
   },
   "file_extension": ".py",
   "mimetype": "text/x-python",
   "name": "python",
   "nbconvert_exporter": "python",
   "pygments_lexer": "ipython3",
   "version": "3.12.11"
  }
 },
 "nbformat": 4,
 "nbformat_minor": 5
}
