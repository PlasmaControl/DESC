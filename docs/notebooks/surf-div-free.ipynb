{
 "cells": [
  {
   "cell_type": "code",
   "execution_count": 1,
   "id": "c3bfcfee",
   "metadata": {
    "execution": {
     "iopub.execute_input": "2024-10-17T22:23:34.065601Z",
     "iopub.status.busy": "2024-10-17T22:23:34.065456Z",
     "iopub.status.idle": "2024-10-17T22:23:34.664499Z",
     "shell.execute_reply": "2024-10-17T22:23:34.664144Z"
    }
   },
   "outputs": [
    {
     "name": "stderr",
     "output_type": "stream",
     "text": [
      "/home/fcastro/DESC/desc/__init__.py:98: UserWarning: No GPU found, falling back to CPU\n",
      "  warnings.warn(colored(\"No GPU found, falling back to CPU\", \"yellow\"))\n"
     ]
    }
   ],
   "source": [
    "from desc import set_device\n",
    "set_device(\"gpu\")"
   ]
  },
  {
   "cell_type": "code",
   "execution_count": 2,
   "id": "effb3c47",
   "metadata": {
    "execution": {
     "iopub.execute_input": "2024-10-17T22:23:34.666985Z",
     "iopub.status.busy": "2024-10-17T22:23:34.666836Z",
     "iopub.status.idle": "2024-10-17T22:23:56.180331Z",
     "shell.execute_reply": "2024-10-17T22:23:56.179964Z"
    }
   },
   "outputs": [
    {
     "name": "stdout",
     "output_type": "stream",
     "text": [
      "DESC version 0.11.1+929.g11b476b4c.dirty,using JAX backend, jax version=0.4.14, jaxlib version=0.4.14, dtype=float64\n",
      "Using device: CPU, with 117.60 GB available memory\n"
     ]
    }
   ],
   "source": [
    "import numpy as np\n",
    "import os\n",
    "\n",
    "import scipy\n",
    "from scipy.io import netcdf_file\n",
    "from scipy.constants import mu_0\n",
    "\n",
    "import copy\n",
    "import sys\n",
    "import functools\n",
    "import pickle\n",
    "import time\n",
    "#import pdb\n",
    "\n",
    "import jax\n",
    "import jax.numpy as jnpå\n",
    "from jax import jit, jacfwd\n",
    "\n",
    "from netCDF4 import Dataset\n",
    "import h5py\n",
    "\n",
    "from desc.backend import put, fori_loop, jnp, sign, vmap\n",
    "from desc.backend import jit, odeint\n",
    "\n",
    "from desc.basis import FourierZernikeBasis, DoubleFourierSeries, FourierSeries\n",
    "\n",
    "from desc.grid import ConcentricGrid, LinearGrid, Grid, QuadratureGrid\n",
    "from desc.equilibrium import EquilibriaFamily, Equilibrium\n",
    "\n",
    "from desc.io import InputReader, load\n",
    "from desc.objectives import *\n",
    "from desc.objectives.objective_funs import _Objective\n",
    "\n",
    "from desc.plotting import plot_1d, plot_2d, plot_3d, plot_section, plot_surfaces, plot_comparison\n",
    "from desc.plotting import *\n",
    "\n",
    "from desc.transform import Transform\n",
    "#from desc.vmec import VMECIO\n",
    "#from desc.derivatives import Derivative\n",
    "from desc.geometry import FourierRZToroidalSurface, FourierRZCurve\n",
    "#from desc.profiles import SplineProfile, PowerSeriesProfile\n",
    "\n",
    "from desc.magnetic_fields import (SplineMagneticField, \n",
    "                                  FourierCurrentPotentialField, ToroidalMagneticField,\n",
    "                                  field_line_integrate)\n",
    "\n",
    "import desc.examples\n",
    "\n",
    "from desc.compute import rpz2xyz, rpz2xyz_vec, xyz2rpz, xyz2rpz_vec\n",
    "\n",
    "from desc.utils import flatten_list, Timer, copy_coeffs, errorif, setdefault, svd_inv_null, warnif\n",
    "\n",
    "from desc.compute.utils import cross\n",
    "from desc.compute.utils import dot\n",
    "\n",
    "from desc.optimize import lsqtr, lsq_auglag\n",
    "\n",
    "from scipy.optimize import NonlinearConstraint \n",
    "\n",
    "from desc.magnetic_fields import FourierCurrentPotentialField\n",
    "\n",
    "from scipy.linalg import null_space\n",
    "from numpy import ndarray\n",
    "\n",
    "from desc.fns_simp import (plot_figure, plot_figure2,)"
   ]
  },
  {
   "cell_type": "code",
   "execution_count": 3,
   "id": "5755ff55",
   "metadata": {},
   "outputs": [],
   "source": [
    "from desc.objectives import (\n",
    "        ForceBalance,\n",
    "        ObjectiveFunction, \n",
    "        QuasisymmetryTwoTerm,\n",
    "        GenericObjective,\n",
    "        FixPressure,\n",
    "        FixCurrent,\n",
    "        HarmonicField_to_BiotSavart,\n",
    "        #QuasisymmetryBoozer,\n",
    "        #QuasisymmetryTripleProduct,\n",
    "        #FixPsi, \n",
    "        #FixBoundaryR,\n",
    "        #FixBoundaryZ,\n",
    "        #FixIota, \n",
    "        #get_fixed_boundary_constraints,\n",
    "        #RotationalTransform, \n",
    "        #AspectRatio,\n",
    "        #Shear,\n",
    "        )\n",
    "\n",
    "from desc.optimize import Optimizer\n",
    "from desc.plotting import *"
   ]
  },
  {
   "cell_type": "code",
   "execution_count": 4,
   "id": "6a5c1a72",
   "metadata": {
    "execution": {
     "iopub.execute_input": "2024-10-17T22:23:56.182833Z",
     "iopub.status.busy": "2024-10-17T22:23:56.182624Z",
     "iopub.status.idle": "2024-10-17T22:23:58.118571Z",
     "shell.execute_reply": "2024-10-17T22:23:58.118209Z"
    }
   },
   "outputs": [],
   "source": [
    "# Let's start the iterations with PQA as the initial guess. \n",
    "eq = desc.examples.get('precise_QA')"
   ]
  },
  {
   "cell_type": "code",
   "execution_count": 5,
   "id": "a07c7d04",
   "metadata": {},
   "outputs": [],
   "source": [
    "# create the constant offset surface\n",
    "surf_winding = eq.surface.constant_offset_surface(offset=0.1, # desired offset\n",
    "                                                  M=16, # Poloidal resolution of desired offset surface\n",
    "                                                  N=8, # Toroidal resolution of desired offset surface\n",
    "                                                  grid=LinearGrid(M=32,\n",
    "                                                                  N=16,\n",
    "                                                                  NFP=eq.NFP)\n",
    "                                                 ) # grid of points on base surface to evaluate unit normal and find points on offset surface,\n",
    "                                                   # generally should be twice the desired resolution\n"
   ]
  },
  {
   "cell_type": "code",
   "execution_count": 6,
   "id": "ce016352",
   "metadata": {},
   "outputs": [],
   "source": [
    "# No need to define attributes for the initial guess since they have been defined already\n",
    "\n",
    "# Next, we calculate the initial equilibrium\n",
    "#NL = 11\n",
    "#grid = LinearGrid(L = NL, M=0, N=0)\n",
    "#rho = np.linspace(0, 1, NL+1)\n",
    "\n",
    "#current_profile = SplineProfile(np.zeros((NL+1, )), knots=rho)\n",
    "#pressure_profile = SplineProfile(np.zeros((NL+1, )), knots=rho)\n",
    "\n",
    "#eq = Equilibrium(\n",
    "#    L=Lres,  # radial resolution\n",
    "#    M=Mres,  # poloidal resolution\n",
    "#    N=Nres,  # toroidal resolution\n",
    "#    surface=surface,\n",
    "#    pressure=pressure_profile,\n",
    "#    current=current_profile,\n",
    "#    Psi=np.pi*(minor_radius)**2,  # total flux, in Webers\n",
    "#)\n",
    "\n",
    "#objective = ObjectiveFunction(ForceBalance(eq=eq_nfp1))"
   ]
  },
  {
   "cell_type": "code",
   "execution_count": 7,
   "id": "b9f5b14f",
   "metadata": {},
   "outputs": [],
   "source": [
    "constraints = (\n",
    "        FixPressure(eq=eq.NFP),\n",
    "        FixCurrent(eq=eq.NFP),\n",
    "        #FixPsi(eq=eq_nfp1),\n",
    "        #FixBoundaryR(eq=eq_nfp1),\n",
    "        #FixBoundaryZ(eq=eq_nfp1),\n",
    "        )"
   ]
  },
  {
   "cell_type": "code",
   "execution_count": 8,
   "id": "93fb479c",
   "metadata": {},
   "outputs": [],
   "source": [
    "#modes_R = np.vstack(\n",
    "#        (\n",
    "#            [0, 0, 0],\n",
    "#            eq.surface.R_basis.modes[\n",
    "#                np.max(np.abs(eq.surface.R_basis.modes), 1) > k, :\n",
    "#            ],\n",
    "#        )\n",
    "#                    )\n",
    "    \n",
    "#modes_Z = eq.surface.Z_basis.modes[\n",
    "#        np.max(np.abs(eq.surface.Z_basis.modes), 1) >  k, :\n",
    "#    ]\n",
    "\n",
    "#QS_grid = LinearGrid(M =int(1.5*eq.M_grid), N=int(1.5*eq.N_grid), NFP=eq.NFP, rho=np.array([0.2, 0.4, 0.6]), sym=True)\n",
    "#jacobian_grid = LinearGrid(L = eq.L_grid, M=eq.M_grid, N=eq.N_grid, NFP=eq.NFP) "
   ]
  },
  {
   "cell_type": "code",
   "execution_count": 9,
   "id": "af8737bf",
   "metadata": {},
   "outputs": [],
   "source": [
    "# Modes for current potential\n",
    "basis_M = 10\n",
    "basis_N = 10\n",
    "\n",
    "surface_current_field = FourierCurrentPotentialField(#surf_winding,\n",
    "                                                     M_Phi=basis_M,\n",
    "                                                     N_Phi=basis_N,\n",
    "                                                     #sym_Phi = True\n",
    "                                                    )\n",
    "\n",
    "surface_current_field.G = 5e6, # Net enclosed poloidal current"
   ]
  },
  {
   "cell_type": "code",
   "execution_count": 10,
   "id": "6675cfcf",
   "metadata": {},
   "outputs": [],
   "source": [
    "# Generate fake curve field for superposition of harmonic vectors\n",
    "fake_curve = FourierRZCurve(R_n=1,\n",
    "                       Z_n=1,\n",
    "                       modes_R=None,\n",
    "                       modes_Z=None,\n",
    "                       #NFP=1,\n",
    "                      )"
   ]
  },
  {
   "cell_type": "code",
   "execution_count": 11,
   "id": "d9b77334",
   "metadata": {},
   "outputs": [],
   "source": [
    "# Modes for current potential\n",
    "#basis_M = 10\n",
    "#basis_N = 10\n",
    "\n",
    "# Find surface current K_s\n",
    "#surface_current_field = FourierCurrentPotentialField.from_surface(surf_winding,\n",
    "#                                                                  M_Phi=basis_M,\n",
    "#                                                                  N_Phi=basis_N,\n",
    "#                                                                  #sym_Phi = True\n",
    "#                                                                 )\n",
    "\n",
    "#surface_current_field.G = 5e6, # Net enclosed poloidal current\n",
    "#surface_current_field.I = np.load('I.npy')\n",
    "#surface_current_field.Phi_mn = np.load('phi_mn.npy')"
   ]
  },
  {
   "cell_type": "code",
   "execution_count": 12,
   "id": "bbcacd85",
   "metadata": {},
   "outputs": [],
   "source": [
    "#FourierCurrentPotentialField.G = 0"
   ]
  },
  {
   "cell_type": "code",
   "execution_count": 13,
   "id": "5c4f92ed",
   "metadata": {},
   "outputs": [],
   "source": [
    "# Plasma grid\n",
    "egrid = LinearGrid(M = 10, N = 10, \n",
    "                   #NFP = eq.NFP\n",
    "                  )\n",
    "\n",
    "# Coil grid\n",
    "sgrid = LinearGrid(M = 15, N = 15, \n",
    "                   #NFP = eq.NFP\n",
    "                  )"
   ]
  },
  {
   "cell_type": "code",
   "execution_count": 14,
   "id": "77bb0542",
   "metadata": {},
   "outputs": [],
   "source": [
    "objectives = ObjectiveFunction((HarmonicField_to_BiotSavart(eq = eq,\n",
    "                                                            field = surface_current_field,\n",
    "                                                            curve = fake_curve,\n",
    "                                                            G = 5e6, # Net enclosed poloidal current\n",
    "                                                            #surface,\n",
    "                                                            #target=None,\n",
    "                                                            #bounds=None,\n",
    "                                                            #weight=1,\n",
    "                                                            #deriv_mode=\"auto\",\n",
    "                                                            surface_grid = sgrid,\n",
    "                                                            plasma_grid = egrid,\n",
    "                                                            curve_grid = egrid,\n",
    "                                                            #use_softmin = False,\n",
    "                                                            #surface_fixed = False,\n",
    "                                                            alpha = 1.0,\n",
    "                                                           ),\n",
    "                                #QuasisymmetryTwoTerm(eq=eq, helicity=target_helicity, grid=QS_grid, weight=2e2),\n",
    "                                #ForceBalance(eq=eq, weight=2e6, normalize=True),\n",
    "                                #GenericObjective(f=\"sqrt(g)\", eq=eq, grid=jacobian_grid, bounds=(0, np.inf), weigh\n",
    "                                #QuasisymmetryTripleProduct(eq=eq, grid=QS_grid, weight=2e-2),\n",
    "                                #AspectRatio(eq=eq, bounds=(7, 20), weight=3e2),\n",
    "                                ))"
   ]
  },
  {
   "cell_type": "code",
   "execution_count": 15,
   "id": "9e5f4f84",
   "metadata": {},
   "outputs": [],
   "source": [
    "constraints = (\n",
    "            #ForceBalance(eq=eq, weight=eq_weight, normalize=True),\n",
    "            FixPressure(eq=eq),\n",
    "            FixCurrent(eq=eq),\n",
    "            #FixPsi(eq=eq),\n",
    "            #FixBoundaryR(eq=eq, modes=modes_R),\n",
    "            #FixBoundaryZ(eq=eq, modes=modes_Z),\n",
    "            )"
   ]
  },
  {
   "cell_type": "code",
   "execution_count": 16,
   "id": "7721c9a6",
   "metadata": {},
   "outputs": [],
   "source": [
    "#optimizer = Optimizer(\"proximal-lsq-exact\")\n",
    "optimizer = Optimizer(\"lsq-exact\")\n",
    "#optimizer = Optimizer(\"lsq-auglag\")\n",
    "#optimizer = Optimizer(\"proximal-scipy-trf\")\n",
    "#optimizer = Optimizer(\"proximal-lsq-auglag\")\n",
    "#optimizer = Optimizer(\"proximal-sgd\")\n",
    "#pdb.set_trace()"
   ]
  },
  {
   "cell_type": "code",
   "execution_count": 17,
   "id": "2e896012",
   "metadata": {},
   "outputs": [
    {
     "name": "stdout",
     "output_type": "stream",
     "text": [
      "Building objective: Harmonic Field\n",
      "Precomputing transforms\n"
     ]
    },
    {
     "name": "stderr",
     "output_type": "stream",
     "text": [
      "/home/fcastro/DESC/desc/transform.py:69: UserWarning: Unequal number of field periods for grid 1 and basis 2.\n",
      "  warnings.warn(\n",
      "/home/fcastro/DESC/desc/transform.py:69: UserWarning: Unequal number of field periods for grid 1 and basis 2.\n",
      "  warnings.warn(\n"
     ]
    },
    {
     "name": "stdout",
     "output_type": "stream",
     "text": [
      "Timer: Precomputing transforms = 1.12 sec\n",
      "Timer: Objective build = 4.68 sec\n",
      "Building objective: fixed pressure\n",
      "Building objective: fixed current\n",
      "Building objective: self_consistency R\n",
      "Building objective: self_consistency Z\n",
      "Building objective: lambda gauge\n",
      "Building objective: axis R self consistency\n",
      "Building objective: axis Z self consistency\n",
      "Timer: Objective build = 1.55 sec\n",
      "Timer: Linear constraint projection build = 3.47 sec\n",
      "Number of parameters: 1146\n",
      "Number of objectives: 961\n",
      "Starting optimization\n",
      "Using method: lsq-exact\n"
     ]
    },
    {
     "ename": "KeyError",
     "evalue": "'equil_transforms'",
     "output_type": "error",
     "traceback": [
      "\u001b[0;31m---------------------------------------------------------------------------\u001b[0m",
      "\u001b[0;31mKeyError\u001b[0m                                  Traceback (most recent call last)",
      "Cell \u001b[0;32mIn[17], line 1\u001b[0m\n\u001b[0;32m----> 1\u001b[0m eq, _ \u001b[38;5;241m=\u001b[39m \u001b[43moptimizer\u001b[49m\u001b[38;5;241;43m.\u001b[39;49m\u001b[43moptimize\u001b[49m\u001b[43m(\u001b[49m\n\u001b[1;32m      2\u001b[0m \u001b[43m                \u001b[49m\u001b[43meq\u001b[49m\u001b[43m,\u001b[49m\n\u001b[1;32m      3\u001b[0m \u001b[43m                \u001b[49m\u001b[43mobjectives\u001b[49m\u001b[43m,\u001b[49m\n\u001b[1;32m      4\u001b[0m \u001b[43m                \u001b[49m\u001b[43mconstraints\u001b[49m\u001b[43m,\u001b[49m\n\u001b[1;32m      5\u001b[0m \u001b[43m                \u001b[49m\u001b[43mftol\u001b[49m\u001b[38;5;241;43m=\u001b[39;49m\u001b[38;5;241;43m1e-5\u001b[39;49m\u001b[43m,\u001b[49m\n\u001b[1;32m      6\u001b[0m \u001b[43m                \u001b[49m\u001b[43mgtol\u001b[49m\u001b[38;5;241;43m=\u001b[39;49m\u001b[38;5;241;43m1e-6\u001b[39;49m\u001b[43m,\u001b[49m\n\u001b[1;32m      7\u001b[0m \u001b[43m                \u001b[49m\u001b[43mxtol\u001b[49m\u001b[38;5;241;43m=\u001b[39;49m\u001b[38;5;241;43m1e-6\u001b[39;49m\u001b[43m,\u001b[49m\n\u001b[1;32m      8\u001b[0m \u001b[43m                \u001b[49m\u001b[43mmaxiter\u001b[49m\u001b[38;5;241;43m=\u001b[39;49m\u001b[38;5;241;43m1\u001b[39;49m\u001b[43m,\u001b[49m\n\u001b[1;32m      9\u001b[0m \u001b[43m                \u001b[49m\u001b[43mverbose\u001b[49m\u001b[38;5;241;43m=\u001b[39;49m\u001b[38;5;241;43m3\u001b[39;49m\u001b[43m,\u001b[49m\n\u001b[1;32m     10\u001b[0m \u001b[43m                \u001b[49m\u001b[43m)\u001b[49m\n",
      "File \u001b[0;32m~/DESC/desc/optimize/optimizer.py:305\u001b[0m, in \u001b[0;36mOptimizer.optimize\u001b[0;34m(self, things, objective, constraints, ftol, xtol, gtol, ctol, x_scale, verbose, maxiter, options, copy)\u001b[0m\n\u001b[1;32m    301\u001b[0m     \u001b[38;5;28mprint\u001b[39m(\u001b[38;5;124m\"\u001b[39m\u001b[38;5;124mUsing method: \u001b[39m\u001b[38;5;124m\"\u001b[39m \u001b[38;5;241m+\u001b[39m \u001b[38;5;28mstr\u001b[39m(\u001b[38;5;28mself\u001b[39m\u001b[38;5;241m.\u001b[39mmethod))\n\u001b[1;32m    303\u001b[0m timer\u001b[38;5;241m.\u001b[39mstart(\u001b[38;5;124m\"\u001b[39m\u001b[38;5;124mSolution time\u001b[39m\u001b[38;5;124m\"\u001b[39m)\n\u001b[0;32m--> 305\u001b[0m result \u001b[38;5;241m=\u001b[39m \u001b[43moptimizers\u001b[49m\u001b[43m[\u001b[49m\u001b[43mmethod\u001b[49m\u001b[43m]\u001b[49m\u001b[43m[\u001b[49m\u001b[38;5;124;43m\"\u001b[39;49m\u001b[38;5;124;43mfun\u001b[39;49m\u001b[38;5;124;43m\"\u001b[39;49m\u001b[43m]\u001b[49m\u001b[43m(\u001b[49m\n\u001b[1;32m    306\u001b[0m \u001b[43m    \u001b[49m\u001b[43mobjective\u001b[49m\u001b[43m,\u001b[49m\n\u001b[1;32m    307\u001b[0m \u001b[43m    \u001b[49m\u001b[43mnonlinear_constraint\u001b[49m\u001b[43m,\u001b[49m\n\u001b[1;32m    308\u001b[0m \u001b[43m    \u001b[49m\u001b[43mx0\u001b[49m\u001b[43m,\u001b[49m\n\u001b[1;32m    309\u001b[0m \u001b[43m    \u001b[49m\u001b[43mmethod\u001b[49m\u001b[43m,\u001b[49m\n\u001b[1;32m    310\u001b[0m \u001b[43m    \u001b[49m\u001b[43mx_scale\u001b[49m\u001b[43m,\u001b[49m\n\u001b[1;32m    311\u001b[0m \u001b[43m    \u001b[49m\u001b[43mverbose\u001b[49m\u001b[43m,\u001b[49m\n\u001b[1;32m    312\u001b[0m \u001b[43m    \u001b[49m\u001b[43mstoptol\u001b[49m\u001b[43m,\u001b[49m\n\u001b[1;32m    313\u001b[0m \u001b[43m    \u001b[49m\u001b[43moptions\u001b[49m\u001b[43m,\u001b[49m\n\u001b[1;32m    314\u001b[0m \u001b[43m\u001b[49m\u001b[43m)\u001b[49m\n\u001b[1;32m    316\u001b[0m \u001b[38;5;28;01mif\u001b[39;00m \u001b[38;5;28misinstance\u001b[39m(objective, LinearConstraintProjection):\n\u001b[1;32m    317\u001b[0m     \u001b[38;5;66;03m# remove wrapper to get at underlying objective\u001b[39;00m\n\u001b[1;32m    318\u001b[0m     result[\u001b[38;5;124m\"\u001b[39m\u001b[38;5;124mallx\u001b[39m\u001b[38;5;124m\"\u001b[39m] \u001b[38;5;241m=\u001b[39m [objective\u001b[38;5;241m.\u001b[39mrecover(x) \u001b[38;5;28;01mfor\u001b[39;00m x \u001b[38;5;129;01min\u001b[39;00m result[\u001b[38;5;124m\"\u001b[39m\u001b[38;5;124mallx\u001b[39m\u001b[38;5;124m\"\u001b[39m]]\n",
      "File \u001b[0;32m~/DESC/desc/optimize/_desc_wrappers.py:270\u001b[0m, in \u001b[0;36m_optimize_desc_least_squares\u001b[0;34m(objective, constraint, x0, method, x_scale, verbose, stoptol, options)\u001b[0m\n\u001b[1;32m    267\u001b[0m     options\u001b[38;5;241m.\u001b[39msetdefault(\u001b[38;5;124m\"\u001b[39m\u001b[38;5;124minitial_trust_ratio\u001b[39m\u001b[38;5;124m\"\u001b[39m, \u001b[38;5;241m0.1\u001b[39m)\n\u001b[1;32m    268\u001b[0m options[\u001b[38;5;124m\"\u001b[39m\u001b[38;5;124mmax_nfev\u001b[39m\u001b[38;5;124m\"\u001b[39m] \u001b[38;5;241m=\u001b[39m stoptol[\u001b[38;5;124m\"\u001b[39m\u001b[38;5;124mmax_nfev\u001b[39m\u001b[38;5;124m\"\u001b[39m]\n\u001b[0;32m--> 270\u001b[0m result \u001b[38;5;241m=\u001b[39m \u001b[43mlsqtr\u001b[49m\u001b[43m(\u001b[49m\n\u001b[1;32m    271\u001b[0m \u001b[43m    \u001b[49m\u001b[43mobjective\u001b[49m\u001b[38;5;241;43m.\u001b[39;49m\u001b[43mcompute_scaled_error\u001b[49m\u001b[43m,\u001b[49m\n\u001b[1;32m    272\u001b[0m \u001b[43m    \u001b[49m\u001b[43mx0\u001b[49m\u001b[38;5;241;43m=\u001b[39;49m\u001b[43mx0\u001b[49m\u001b[43m,\u001b[49m\n\u001b[1;32m    273\u001b[0m \u001b[43m    \u001b[49m\u001b[43mjac\u001b[49m\u001b[38;5;241;43m=\u001b[39;49m\u001b[43mobjective\u001b[49m\u001b[38;5;241;43m.\u001b[39;49m\u001b[43mjac_scaled_error\u001b[49m\u001b[43m,\u001b[49m\n\u001b[1;32m    274\u001b[0m \u001b[43m    \u001b[49m\u001b[43margs\u001b[49m\u001b[38;5;241;43m=\u001b[39;49m\u001b[43m(\u001b[49m\u001b[43mobjective\u001b[49m\u001b[38;5;241;43m.\u001b[39;49m\u001b[43mconstants\u001b[49m\u001b[43m,\u001b[49m\u001b[43m)\u001b[49m\u001b[43m,\u001b[49m\n\u001b[1;32m    275\u001b[0m \u001b[43m    \u001b[49m\u001b[43mx_scale\u001b[49m\u001b[38;5;241;43m=\u001b[39;49m\u001b[43mx_scale\u001b[49m\u001b[43m,\u001b[49m\n\u001b[1;32m    276\u001b[0m \u001b[43m    \u001b[49m\u001b[43mftol\u001b[49m\u001b[38;5;241;43m=\u001b[39;49m\u001b[43mstoptol\u001b[49m\u001b[43m[\u001b[49m\u001b[38;5;124;43m\"\u001b[39;49m\u001b[38;5;124;43mftol\u001b[39;49m\u001b[38;5;124;43m\"\u001b[39;49m\u001b[43m]\u001b[49m\u001b[43m,\u001b[49m\n\u001b[1;32m    277\u001b[0m \u001b[43m    \u001b[49m\u001b[43mxtol\u001b[49m\u001b[38;5;241;43m=\u001b[39;49m\u001b[43mstoptol\u001b[49m\u001b[43m[\u001b[49m\u001b[38;5;124;43m\"\u001b[39;49m\u001b[38;5;124;43mxtol\u001b[39;49m\u001b[38;5;124;43m\"\u001b[39;49m\u001b[43m]\u001b[49m\u001b[43m,\u001b[49m\n\u001b[1;32m    278\u001b[0m \u001b[43m    \u001b[49m\u001b[43mgtol\u001b[49m\u001b[38;5;241;43m=\u001b[39;49m\u001b[43mstoptol\u001b[49m\u001b[43m[\u001b[49m\u001b[38;5;124;43m\"\u001b[39;49m\u001b[38;5;124;43mgtol\u001b[39;49m\u001b[38;5;124;43m\"\u001b[39;49m\u001b[43m]\u001b[49m\u001b[43m,\u001b[49m\n\u001b[1;32m    279\u001b[0m \u001b[43m    \u001b[49m\u001b[43mmaxiter\u001b[49m\u001b[38;5;241;43m=\u001b[39;49m\u001b[43mstoptol\u001b[49m\u001b[43m[\u001b[49m\u001b[38;5;124;43m\"\u001b[39;49m\u001b[38;5;124;43mmaxiter\u001b[39;49m\u001b[38;5;124;43m\"\u001b[39;49m\u001b[43m]\u001b[49m\u001b[43m,\u001b[49m\n\u001b[1;32m    280\u001b[0m \u001b[43m    \u001b[49m\u001b[43mverbose\u001b[49m\u001b[38;5;241;43m=\u001b[39;49m\u001b[43mverbose\u001b[49m\u001b[43m,\u001b[49m\n\u001b[1;32m    281\u001b[0m \u001b[43m    \u001b[49m\u001b[43mcallback\u001b[49m\u001b[38;5;241;43m=\u001b[39;49m\u001b[38;5;28;43;01mNone\u001b[39;49;00m\u001b[43m,\u001b[49m\n\u001b[1;32m    282\u001b[0m \u001b[43m    \u001b[49m\u001b[43moptions\u001b[49m\u001b[38;5;241;43m=\u001b[39;49m\u001b[43moptions\u001b[49m\u001b[43m,\u001b[49m\n\u001b[1;32m    283\u001b[0m \u001b[43m\u001b[49m\u001b[43m)\u001b[49m\n\u001b[1;32m    284\u001b[0m \u001b[38;5;28;01mreturn\u001b[39;00m result\n",
      "File \u001b[0;32m~/DESC/desc/optimize/least_squares.py:173\u001b[0m, in \u001b[0;36mlsqtr\u001b[0;34m(fun, x0, jac, bounds, args, x_scale, ftol, xtol, gtol, verbose, maxiter, callback, options)\u001b[0m\n\u001b[1;32m    170\u001b[0m \u001b[38;5;28;01massert\u001b[39;00m in_bounds(x, lb, ub), \u001b[38;5;124m\"\u001b[39m\u001b[38;5;124mx0 is infeasible\u001b[39m\u001b[38;5;124m\"\u001b[39m\n\u001b[1;32m    171\u001b[0m x \u001b[38;5;241m=\u001b[39m make_strictly_feasible(x, lb, ub)\n\u001b[0;32m--> 173\u001b[0m f \u001b[38;5;241m=\u001b[39m \u001b[43mfun\u001b[49m\u001b[43m(\u001b[49m\u001b[43mx\u001b[49m\u001b[43m,\u001b[49m\u001b[43m \u001b[49m\u001b[38;5;241;43m*\u001b[39;49m\u001b[43margs\u001b[49m\u001b[43m)\u001b[49m\n\u001b[1;32m    174\u001b[0m nfev \u001b[38;5;241m+\u001b[39m\u001b[38;5;241m=\u001b[39m \u001b[38;5;241m1\u001b[39m\n\u001b[1;32m    175\u001b[0m cost \u001b[38;5;241m=\u001b[39m \u001b[38;5;241m0.5\u001b[39m \u001b[38;5;241m*\u001b[39m jnp\u001b[38;5;241m.\u001b[39mdot(f, f)\n",
      "File \u001b[0;32m~/DESC/desc/optimize/_constraint_wrappers.py:224\u001b[0m, in \u001b[0;36mLinearConstraintProjection.compute_scaled_error\u001b[0;34m(self, x_reduced, constants)\u001b[0m\n\u001b[1;32m    208\u001b[0m \u001b[38;5;250m\u001b[39m\u001b[38;5;124;03m\"\"\"Compute the objective function and apply weighting / bounds.\u001b[39;00m\n\u001b[1;32m    209\u001b[0m \n\u001b[1;32m    210\u001b[0m \u001b[38;5;124;03mParameters\u001b[39;00m\n\u001b[0;32m   (...)\u001b[0m\n\u001b[1;32m    221\u001b[0m \n\u001b[1;32m    222\u001b[0m \u001b[38;5;124;03m\"\"\"\u001b[39;00m\n\u001b[1;32m    223\u001b[0m x \u001b[38;5;241m=\u001b[39m \u001b[38;5;28mself\u001b[39m\u001b[38;5;241m.\u001b[39mrecover(x_reduced)\n\u001b[0;32m--> 224\u001b[0m f \u001b[38;5;241m=\u001b[39m \u001b[38;5;28;43mself\u001b[39;49m\u001b[38;5;241;43m.\u001b[39;49m\u001b[43m_objective\u001b[49m\u001b[38;5;241;43m.\u001b[39;49m\u001b[43mcompute_scaled_error\u001b[49m\u001b[43m(\u001b[49m\u001b[43mx\u001b[49m\u001b[43m,\u001b[49m\u001b[43m \u001b[49m\u001b[43mconstants\u001b[49m\u001b[43m)\u001b[49m\n\u001b[1;32m    225\u001b[0m \u001b[38;5;28;01mreturn\u001b[39;00m f\n",
      "    \u001b[0;31m[... skipping hidden 12 frame]\u001b[0m\n",
      "File \u001b[0;32m~/DESC/desc/objectives/objective_funs.py:312\u001b[0m, in \u001b[0;36mObjectiveFunction.compute_scaled_error\u001b[0;34m(self, x, constants)\u001b[0m\n\u001b[1;32m    309\u001b[0m \u001b[38;5;28;01mif\u001b[39;00m constants \u001b[38;5;129;01mis\u001b[39;00m \u001b[38;5;28;01mNone\u001b[39;00m:\n\u001b[1;32m    310\u001b[0m     constants \u001b[38;5;241m=\u001b[39m \u001b[38;5;28mself\u001b[39m\u001b[38;5;241m.\u001b[39mconstants\n\u001b[1;32m    311\u001b[0m f \u001b[38;5;241m=\u001b[39m jnp\u001b[38;5;241m.\u001b[39mconcatenate(\n\u001b[0;32m--> 312\u001b[0m     \u001b[43m[\u001b[49m\n\u001b[1;32m    313\u001b[0m \u001b[43m        \u001b[49m\u001b[43mobj\u001b[49m\u001b[38;5;241;43m.\u001b[39;49m\u001b[43mcompute_scaled_error\u001b[49m\u001b[43m(\u001b[49m\u001b[38;5;241;43m*\u001b[39;49m\u001b[43mpar\u001b[49m\u001b[43m,\u001b[49m\u001b[43m \u001b[49m\u001b[43mconstants\u001b[49m\u001b[38;5;241;43m=\u001b[39;49m\u001b[43mconst\u001b[49m\u001b[43m)\u001b[49m\n\u001b[1;32m    314\u001b[0m \u001b[43m        \u001b[49m\u001b[38;5;28;43;01mfor\u001b[39;49;00m\u001b[43m \u001b[49m\u001b[43mpar\u001b[49m\u001b[43m,\u001b[49m\u001b[43m \u001b[49m\u001b[43mobj\u001b[49m\u001b[43m,\u001b[49m\u001b[43m \u001b[49m\u001b[43mconst\u001b[49m\u001b[43m \u001b[49m\u001b[38;5;129;43;01min\u001b[39;49;00m\u001b[43m \u001b[49m\u001b[38;5;28;43mzip\u001b[39;49m\u001b[43m(\u001b[49m\u001b[43mparams\u001b[49m\u001b[43m,\u001b[49m\u001b[43m \u001b[49m\u001b[38;5;28;43mself\u001b[39;49m\u001b[38;5;241;43m.\u001b[39;49m\u001b[43mobjectives\u001b[49m\u001b[43m,\u001b[49m\u001b[43m \u001b[49m\u001b[43mconstants\u001b[49m\u001b[43m)\u001b[49m\n\u001b[1;32m    315\u001b[0m \u001b[43m    \u001b[49m\u001b[43m]\u001b[49m\n\u001b[1;32m    316\u001b[0m )\n\u001b[1;32m    317\u001b[0m \u001b[38;5;28;01mreturn\u001b[39;00m f\n",
      "File \u001b[0;32m~/DESC/desc/objectives/objective_funs.py:313\u001b[0m, in \u001b[0;36m<listcomp>\u001b[0;34m(.0)\u001b[0m\n\u001b[1;32m    309\u001b[0m \u001b[38;5;28;01mif\u001b[39;00m constants \u001b[38;5;129;01mis\u001b[39;00m \u001b[38;5;28;01mNone\u001b[39;00m:\n\u001b[1;32m    310\u001b[0m     constants \u001b[38;5;241m=\u001b[39m \u001b[38;5;28mself\u001b[39m\u001b[38;5;241m.\u001b[39mconstants\n\u001b[1;32m    311\u001b[0m f \u001b[38;5;241m=\u001b[39m jnp\u001b[38;5;241m.\u001b[39mconcatenate(\n\u001b[1;32m    312\u001b[0m     [\n\u001b[0;32m--> 313\u001b[0m         \u001b[43mobj\u001b[49m\u001b[38;5;241;43m.\u001b[39;49m\u001b[43mcompute_scaled_error\u001b[49m\u001b[43m(\u001b[49m\u001b[38;5;241;43m*\u001b[39;49m\u001b[43mpar\u001b[49m\u001b[43m,\u001b[49m\u001b[43m \u001b[49m\u001b[43mconstants\u001b[49m\u001b[38;5;241;43m=\u001b[39;49m\u001b[43mconst\u001b[49m\u001b[43m)\u001b[49m\n\u001b[1;32m    314\u001b[0m         \u001b[38;5;28;01mfor\u001b[39;00m par, obj, const \u001b[38;5;129;01min\u001b[39;00m \u001b[38;5;28mzip\u001b[39m(params, \u001b[38;5;28mself\u001b[39m\u001b[38;5;241m.\u001b[39mobjectives, constants)\n\u001b[1;32m    315\u001b[0m     ]\n\u001b[1;32m    316\u001b[0m )\n\u001b[1;32m    317\u001b[0m \u001b[38;5;28;01mreturn\u001b[39;00m f\n",
      "    \u001b[0;31m[... skipping hidden 12 frame]\u001b[0m\n",
      "File \u001b[0;32m~/DESC/desc/objectives/objective_funs.py:952\u001b[0m, in \u001b[0;36m_Objective.compute_scaled_error\u001b[0;34m(self, *args, **kwargs)\u001b[0m\n\u001b[1;32m    950\u001b[0m \u001b[38;5;250m\u001b[39m\u001b[38;5;124;03m\"\"\"Compute and apply the target/bounds, weighting, and normalization.\"\"\"\u001b[39;00m\n\u001b[1;32m    951\u001b[0m args \u001b[38;5;241m=\u001b[39m \u001b[38;5;28mself\u001b[39m\u001b[38;5;241m.\u001b[39m_maybe_array_to_params(\u001b[38;5;241m*\u001b[39margs)\n\u001b[0;32m--> 952\u001b[0m f \u001b[38;5;241m=\u001b[39m \u001b[38;5;28;43mself\u001b[39;49m\u001b[38;5;241;43m.\u001b[39;49m\u001b[43mcompute\u001b[49m\u001b[43m(\u001b[49m\u001b[38;5;241;43m*\u001b[39;49m\u001b[43margs\u001b[49m\u001b[43m,\u001b[49m\u001b[43m \u001b[49m\u001b[38;5;241;43m*\u001b[39;49m\u001b[38;5;241;43m*\u001b[39;49m\u001b[43mkwargs\u001b[49m\u001b[43m)\u001b[49m\n\u001b[1;32m    953\u001b[0m \u001b[38;5;28;01mif\u001b[39;00m \u001b[38;5;28mself\u001b[39m\u001b[38;5;241m.\u001b[39m_loss_function \u001b[38;5;129;01mis\u001b[39;00m \u001b[38;5;129;01mnot\u001b[39;00m \u001b[38;5;28;01mNone\u001b[39;00m:\n\u001b[1;32m    954\u001b[0m     f \u001b[38;5;241m=\u001b[39m \u001b[38;5;28mself\u001b[39m\u001b[38;5;241m.\u001b[39m_loss_function(f)\n",
      "File \u001b[0;32m~/DESC/desc/objectives/_harmonic.py:325\u001b[0m, in \u001b[0;36mHarmonicField_to_BiotSavart.compute\u001b[0;34m(self, equil_params, surface_params, constants)\u001b[0m\n\u001b[1;32m    308\u001b[0m curve_transforms \u001b[38;5;241m=\u001b[39m get_transforms(\n\u001b[1;32m    309\u001b[0m     \u001b[38;5;28mself\u001b[39m\u001b[38;5;241m.\u001b[39m_curve_data_keys,\n\u001b[1;32m    310\u001b[0m     obj\u001b[38;5;241m=\u001b[39m\u001b[38;5;28mself\u001b[39m\u001b[38;5;241m.\u001b[39m_curve,\n\u001b[1;32m    311\u001b[0m     grid\u001b[38;5;241m=\u001b[39m\u001b[38;5;28mself\u001b[39m\u001b[38;5;241m.\u001b[39m_curve_grid,\n\u001b[1;32m    312\u001b[0m     jitable\u001b[38;5;241m=\u001b[39m\u001b[38;5;28;01mTrue\u001b[39;00m,\n\u001b[1;32m    313\u001b[0m )\n\u001b[1;32m    315\u001b[0m \u001b[38;5;28mself\u001b[39m\u001b[38;5;241m.\u001b[39m_constants \u001b[38;5;241m=\u001b[39m {\n\u001b[1;32m    316\u001b[0m     \u001b[38;5;124m\"\u001b[39m\u001b[38;5;124mequil_transforms\u001b[39m\u001b[38;5;124m\"\u001b[39m: equil_transforms,\n\u001b[1;32m    317\u001b[0m     \u001b[38;5;124m\"\u001b[39m\u001b[38;5;124mequil_profiles\u001b[39m\u001b[38;5;124m\"\u001b[39m: equil_profiles,\n\u001b[1;32m    318\u001b[0m     \u001b[38;5;66;03m#\"surface_transforms\": surface_transforms,\u001b[39;00m\n\u001b[1;32m    319\u001b[0m }\n\u001b[1;32m    321\u001b[0m edata \u001b[38;5;241m=\u001b[39m compute_fun(\n\u001b[1;32m    322\u001b[0m     \u001b[38;5;28mself\u001b[39m\u001b[38;5;241m.\u001b[39m_eq,\n\u001b[1;32m    323\u001b[0m     \u001b[38;5;28mself\u001b[39m\u001b[38;5;241m.\u001b[39m_equil_data_keys,\n\u001b[1;32m    324\u001b[0m     params\u001b[38;5;241m=\u001b[39mequil_params,\n\u001b[0;32m--> 325\u001b[0m     transforms\u001b[38;5;241m=\u001b[39m\u001b[43mconstants\u001b[49m\u001b[43m[\u001b[49m\u001b[38;5;124;43m\"\u001b[39;49m\u001b[38;5;124;43mequil_transforms\u001b[39;49m\u001b[38;5;124;43m\"\u001b[39;49m\u001b[43m]\u001b[49m,\n\u001b[1;32m    326\u001b[0m     profiles\u001b[38;5;241m=\u001b[39mconstants[\u001b[38;5;124m\"\u001b[39m\u001b[38;5;124mequil_profiles\u001b[39m\u001b[38;5;124m\"\u001b[39m],\n\u001b[1;32m    327\u001b[0m     basis\u001b[38;5;241m=\u001b[39m\u001b[38;5;124m\"\u001b[39m\u001b[38;5;124mxyz\u001b[39m\u001b[38;5;124m\"\u001b[39m,\n\u001b[1;32m    328\u001b[0m )\n\u001b[1;32m    330\u001b[0m \u001b[38;5;66;03m# Generate a winding surface as an offset surface from the plasma surface\u001b[39;00m\n\u001b[1;32m    331\u001b[0m surf_winding \u001b[38;5;241m=\u001b[39m \u001b[38;5;28mself\u001b[39m\u001b[38;5;241m.\u001b[39m_eq\u001b[38;5;241m.\u001b[39msurface\u001b[38;5;241m.\u001b[39mconstant_offset_surface(offset\u001b[38;5;241m=\u001b[39m\u001b[38;5;241m5e-2\u001b[39m, \u001b[38;5;66;03m# desired offset\u001b[39;00m\n\u001b[1;32m    332\u001b[0m                                                   M\u001b[38;5;241m=\u001b[39m\u001b[38;5;241m16\u001b[39m, \u001b[38;5;66;03m# Poloidal resolution of desired offset surface\u001b[39;00m\n\u001b[1;32m    333\u001b[0m                                                   N\u001b[38;5;241m=\u001b[39m\u001b[38;5;241m8\u001b[39m, \u001b[38;5;66;03m# Toroidal resolution of desired offset surface\u001b[39;00m\n\u001b[0;32m   (...)\u001b[0m\n\u001b[1;32m    336\u001b[0m                                                                   NFP\u001b[38;5;241m=\u001b[39m\u001b[38;5;28mself\u001b[39m\u001b[38;5;241m.\u001b[39m_eq\u001b[38;5;241m.\u001b[39mNFP)\n\u001b[1;32m    337\u001b[0m                                                  ) \u001b[38;5;66;03m# grid of points on base surface to evaluate unit normal \u001b[39;00m\n",
      "\u001b[0;31mKeyError\u001b[0m: 'equil_transforms'"
     ]
    }
   ],
   "source": [
    "eq, _ = optimizer.optimize(\n",
    "                eq,\n",
    "                objectives,\n",
    "                constraints,\n",
    "                ftol=1e-5,\n",
    "                gtol=1e-6,\n",
    "                xtol=1e-6,\n",
    "                maxiter=1,\n",
    "                verbose=3,\n",
    "                )"
   ]
  },
  {
   "cell_type": "code",
   "execution_count": null,
   "id": "020c090e",
   "metadata": {},
   "outputs": [],
   "source": [
    "#(eq, curve), _ = optimizer.optimize(\n",
    "#                (eq, curve),\n",
    "#                objectives,\n",
    "#                constraints,\n",
    "#                ftol=1e-5,\n",
    "#                gtol=1e-6,\n",
    "#                xtol=1e-6,\n",
    "#                maxiter=1,\n",
    "#                verbose=3,\n",
    "#                )"
   ]
  },
  {
   "cell_type": "code",
   "execution_count": null,
   "id": "08f4ff73",
   "metadata": {},
   "outputs": [],
   "source": [
    "#eq.save(f\"/scratch/gpfs/rg6256/umbilic_new_idea/eq_limiota_m{m}_n{n}_L{Lres}_M{Mres}_N{Nres}_{QS_type}_init.h5\")\n",
    "eq.save(\"eq_soln\")"
   ]
  },
  {
   "cell_type": "code",
   "execution_count": null,
   "id": "237de93a",
   "metadata": {},
   "outputs": [],
   "source": []
  },
  {
   "cell_type": "code",
   "execution_count": null,
   "id": "e4459e8c",
   "metadata": {},
   "outputs": [],
   "source": []
  },
  {
   "cell_type": "code",
   "execution_count": null,
   "id": "9e5975b4",
   "metadata": {
    "execution": {
     "iopub.execute_input": "2024-10-17T22:23:58.135966Z",
     "iopub.status.busy": "2024-10-17T22:23:58.135830Z",
     "iopub.status.idle": "2024-10-17T22:24:42.917855Z",
     "shell.execute_reply": "2024-10-17T22:24:42.917306Z"
    }
   },
   "outputs": [],
   "source": [
    "test1 = eq.compute([\"H_1\"],grid = egrid)[\"H_1\"]"
   ]
  },
  {
   "cell_type": "code",
   "execution_count": null,
   "id": "fa31d24d",
   "metadata": {
    "execution": {
     "iopub.execute_input": "2024-10-17T22:24:42.920614Z",
     "iopub.status.busy": "2024-10-17T22:24:42.920461Z",
     "iopub.status.idle": "2024-10-17T22:24:48.955469Z",
     "shell.execute_reply": "2024-10-17T22:24:48.955029Z"
    }
   },
   "outputs": [],
   "source": [
    "plot_figure(dot(test1,test1)**(1/2),egrid,'$|\\mathbf{H}_1|$')"
   ]
  },
  {
   "cell_type": "code",
   "execution_count": null,
   "id": "b1eb3b93",
   "metadata": {
    "execution": {
     "iopub.execute_input": "2024-10-17T22:24:48.957776Z",
     "iopub.status.busy": "2024-10-17T22:24:48.957627Z",
     "iopub.status.idle": "2024-10-17T22:24:49.134013Z",
     "shell.execute_reply": "2024-10-17T22:24:49.133683Z"
    }
   },
   "outputs": [],
   "source": [
    "plot_figure2(dot(test1,test1)**(1/2),egrid,'$|\\mathbf{H}_1|$')"
   ]
  },
  {
   "cell_type": "code",
   "execution_count": null,
   "id": "006c3e25",
   "metadata": {},
   "outputs": [],
   "source": []
  }
 ],
 "metadata": {
  "kernelspec": {
   "display_name": "desc-env3 [~/.conda/envs/desc-env3/]",
   "language": "python",
   "name": "conda_desc-env3"
  },
  "language_info": {
   "codemirror_mode": {
    "name": "ipython",
    "version": 3
   },
   "file_extension": ".py",
   "mimetype": "text/x-python",
   "name": "python",
   "nbconvert_exporter": "python",
   "pygments_lexer": "ipython3",
   "version": "3.11.7"
  }
 },
 "nbformat": 4,
 "nbformat_minor": 5
}
