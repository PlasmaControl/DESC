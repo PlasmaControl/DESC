{
 "cells": [
  {
   "cell_type": "markdown",
   "metadata": {},
   "source": [
    "# How do we solve Equilibrium?"
   ]
  },
  {
   "cell_type": "markdown",
   "metadata": {},
   "source": [
    "In this notebook, we will give a brief overview of how we treat the 3D ideal MHD equilibrium as an optimization problem. First of all, here are the ideal MHD equations,\n",
    "\n",
    "$$\\nabla \\cdot \\mathbf{B} = 0 $$\n",
    "$$\\nabla \\times \\mathbf{B} = \\mu_0 \\mathbf{J} $$\n",
    "$$\\mathbf{J} \\times \\mathbf{B} = \\nabla p  $$\n",
    "\n",
    "We will use flux coordinates $(\\rho, \\theta, \\zeta)$ for the derivations. Then, we can write a general magnetic field in contravariant form as,\n",
    "\n",
    "$$\n",
    "    \\mathbf{B} = B^{\\rho}\\mathbf{e}_{\\rho} + B^{\\theta}\\mathbf{e}_{\\theta} + B^{\\zeta}\\mathbf{e}_{\\zeta}\n",
    "$$\n",
    "\n",
    "Assuming the flux surfaces are nested, we conclude that there is no radial component of the magnetic field, so the $B^{\\rho}$ term drops out. Applying $\\nabla \\cdot \\mathbf{B} = 0 $,\n",
    "\n",
    "$$\n",
    "    \\cfrac{1}{\\sqrt{g}}\\left(\\cfrac{\\partial(B^\\theta\\sqrt{g})}{\\partial\\theta} + \\cfrac{\\partial(B^\\zeta\\sqrt{g})}{\\partial\\zeta}\\right) = 0  \\hspace{2cm} \\text{where } \\sqrt{g} = R \\left( \\cfrac{\\partial R}{\\partial \\rho}  \\cfrac{\\partial Z}{\\partial \\theta} + \\cfrac{\\partial R}{\\partial \\theta}  \\cfrac{\\partial Z}{\\partial \\rho} \\right)\n",
    "$$\n",
    "\n",
    "$\\sqrt{g}$ is the determinant of the Jacobian matrix. Hence,\n",
    "\n",
    "$$\n",
    "    \\cfrac{\\partial(B^\\theta\\sqrt{g})}{\\partial\\theta} = - \\cfrac{\\partial(B^\\zeta\\sqrt{g})}{\\partial\\zeta}\n",
    "$$\n",
    "\n",
    "Applying the condition of total toroidal and poloidal flux (for the latter use the definition of $\\iota = \\cfrac{\\partial\\psi_P/\\partial\\rho}{\\partial\\psi_T/\\partial\\rho}$), we get,\n",
    "\n",
    "$$\n",
    "    \\mathbf{B} = \\cfrac{1}{2\\pi\\sqrt{g}}\\frac{d\\psi_T}{d\\rho}\\begin{bmatrix}\n",
    "        \\left(\\iota - \\cfrac{\\partial\\lambda(\\rho,\\theta,\\zeta)}{\\partial\\zeta}\\right)\\mathbf{e}_\\theta  +\n",
    "        \\left(1 + \\cfrac{\\partial\\lambda(\\rho,\\theta,\\zeta)}{\\partial\\theta}\\right) \\mathbf{e}_\\zeta\n",
    "    \\end{bmatrix}  \n",
    "$$\n",
    "\n",
    "The above equation states that for given functions $R(\\rho, \\theta, \\zeta), Z(\\rho, \\theta, \\zeta)$ and $\\lambda(\\rho, \\theta, \\zeta)$, the magnetic field can be found. We will use this fact and transform solving the 3D ideal MHD equations into a flux surface shape optimization problem. To describe the surfaces and $\\lambda$, we will use Fourier-Zernike basis. Then, the spectral parametrized functions become,\n",
    "\n",
    "$$\n",
    "    R(\\rho,\\theta,\\zeta) = \\sum_{m=-M,n=-N,l=0}^{M,N,L} R_{lmn} \\mathcal{Z}_l^m (\\rho,\\theta) \\mathcal{F}^n(\\zeta)\n",
    "$$\n",
    "\n",
    "$$\n",
    "    Z(\\rho,\\theta,\\zeta) = \\sum_{m=-M,n=-N,l=0}^{M,N,L} Z_{lmn} \\mathcal{Z}_l^m (\\rho,\\theta) \\mathcal{F}^n(\\zeta)\n",
    "$$\n",
    "\n",
    "$$\n",
    "    \\lambda(\\rho,\\theta,\\zeta) = \\sum_{m=-M,n=-N,l=0}^{M,N,L} \\lambda_{lmn} \\mathcal{Z}_l^m (\\rho,\\theta) \\mathcal{F}^n(\\zeta)\n",
    "$$\n",
    "\n",
    "In theory, by increasing the resolutions L, M and N, we can parametrize any surface since the chosen polynoms are orthogonal."
   ]
  },
  {
   "cell_type": "markdown",
   "metadata": {},
   "source": [
    "## Optimization Problem\n",
    "\n",
    "We can write the force error minimization as follows,\n",
    "\n",
    "$$\\text{minimize} \\hspace{1cm}    ||\\mathbf{J}\\times\\mathbf{B} - \\nabla p||_2^2 $$\n",
    "$$\\text{subject to} \\hspace{1.5cm}    \\mathbf{A}\\bar{x}=b  $$\n",
    "\n",
    "In DESC, we use $\\bar{x}$ which includes both optimization and constraint parameters since they are usefull for general stellarator optimization problem (i.e. allowing last closed flux surface, LCFS, to change to get better QA/QH etc.). \n",
    "$$\n",
    "    \\bar{x} = \\begin{bmatrix}\n",
    "        x\\\\\n",
    "        c\\\\\n",
    "    \\end{bmatrix} \\hspace{1cm} x = \\begin{bmatrix}\n",
    "        \\mathbf{R}_{lmn}\\\\\n",
    "        \\mathbf{Z}_{lmn}\\\\\n",
    "        \\mathbf{\\lambda}_{lmn}\\\\\n",
    "    \\end{bmatrix} \\hspace{1cm}   c = \\begin{bmatrix}\n",
    "        \\mathbf{R}^b_{mn}\\\\\n",
    "        \\mathbf{Z}^b_{mn}\\\\\n",
    "        \\mathbf{p}_{l}\\\\\n",
    "        \\mathbf{\\iota}_{l}\\\\\n",
    "        \\mathbf{\\psi}_{a}\\\\\n",
    "    \\end{bmatrix}\n",
    "$$\n",
    "For pure force minimization problem, all of our constraints are linear, but in general, we can have some non-linear constraints too. DESC offers different initialization methods, but we will focus on LCFS boundary condition. In addition to boundary shape, we need to give pressure profile and iota or current profile."
   ]
  },
  {
   "cell_type": "markdown",
   "metadata": {},
   "source": []
  }
 ],
 "metadata": {
  "kernelspec": {
   "display_name": "desc-env",
   "language": "python",
   "name": "python3"
  },
  "language_info": {
   "name": "python",
   "version": "3.12.0"
  }
 },
 "nbformat": 4,
 "nbformat_minor": 2
}
