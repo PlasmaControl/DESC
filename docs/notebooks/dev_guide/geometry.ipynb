{
 "cells": [
  {
   "cell_type": "markdown",
   "id": "7c68566a-292c-446e-ad12-5a609a92f7f1",
   "metadata": {},
   "source": [
    "# `geometry`"
   ]
  }
 ],
 "metadata": {
  "kernelspec": {
   "display_name": "Python 3 (ipykernel)",
   "language": "python",
   "name": "python3"
  },
  "language_info": {
   "codemirror_mode": {
    "name": "ipython",
    "version": 3
   },
   "file_extension": ".py",
   "mimetype": "text/x-python",
   "name": "python",
   "nbconvert_exporter": "python",
   "pygments_lexer": "ipython3",
   "version": "3.8.5"
  }
 },
 "nbformat": 4,
 "nbformat_minor": 5
}
