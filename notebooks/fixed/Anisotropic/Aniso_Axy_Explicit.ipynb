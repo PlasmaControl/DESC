{
 "cells": [
  {
   "cell_type": "code",
   "execution_count": null,
   "id": "57220929-5d7a-412a-a4bf-fec292eb3428",
   "metadata": {
    "scrolled": true
   },
   "outputs": [],
   "source": [
    "# import first or else jupyter crashes\n",
    "\n",
    "from desc.plotting import plot_section\n",
    "from desc.plotting import (\n",
    "    plot_grid,\n",
    "    plot_boozer_modes,\n",
    "    plot_boozer_surface,\n",
    "    plot_qs_error,\n",
    "    plot_boundaries,\n",
    "    plot_boundary,\n",
    ")\n",
    "import desc\n",
    "import matplotlib.pyplot as plt\n",
    "\n",
    "\n",
    "from desc.transform import Transform\n",
    "from desc.equilibrium import Equilibrium\n",
    "from desc.basis import ChebyshevZernikeBasis, chebyshev_z\n",
    "from desc.compute import compute\n",
    "from desc.grid import LinearGrid, ConcentricGrid, QuadratureGrid, Grid\n",
    "from desc.compute.utils import get_transforms\n",
    "from desc.objectives import (\n",
    "    FixEndCapLambda,\n",
    "    FixEndCapR,\n",
    "    FixEndCapZ,\n",
    "    FixBoundaryR,\n",
    "    FixBoundaryZ,\n",
    "    FixPsi,\n",
    "    FixPressure,\n",
    "    FixIota,\n",
    "    FixAnisotropy,\n",
    "    ForceBalance,\n",
    "    ForceBalanceAnisotropic,\n",
    "    ObjectiveFunction,\n",
    "    CurrentDensity,\n",
    "    MatchEndCapR,\n",
    "    MatchEndCapZ,\n",
    "    MatchEndCapLambda,\n",
    ")\n",
    "import numpy as np\n",
    "from desc.optimize import Optimizer\n",
    "from desc.profiles import PowerSeriesProfile\n",
    "from desc.geometry import FourierRZToroidalSurface\n",
    "from scipy.constants import mu_0\n",
    "from mayavi import mlab\n",
    "\n",
    "\n",
    "def chebygrid(N_grid):\n",
    "    return np.concatenate(\n",
    "        (\n",
    "            [0],\n",
    "            (-np.cos((2 * np.arange(N_grid) + 1) * np.pi / (2 * N_grid)) + 1) * np.pi,\n",
    "            [2 * np.pi],\n",
    "        )\n",
    "    )\n",
    "\n",
    "\n",
    "def grid_gen(L_grid, M_grid, N_grid, node_pattern=\"jacobi\"):\n",
    "    LMnodes = ConcentricGrid(L=L_grid, M=M_grid, N=0, node_pattern=node_pattern).nodes[\n",
    "        :, :2\n",
    "    ]\n",
    "    Nnodes = chebygrid(N_grid)\n",
    "    lm = np.tile(LMnodes, (Nnodes.size, 1))\n",
    "    n = np.tile(Nnodes.reshape(-1, 1), (1, LMnodes.shape[0])).reshape(-1, 1)\n",
    "    nodes = np.concatenate((lm, n), axis=1)\n",
    "\n",
    "    # RG: weights and spacing defined here\n",
    "    # just for the sake of compilation. Must be checked\n",
    "    weights = np.ones(nodes.shape[0])\n",
    "    spacing = np.ones_like(nodes)\n",
    "\n",
    "    spacing[1:, 1] = np.diff(nodes[:, 1])\n",
    "    spacing[1:, 2] = np.diff(nodes[:, 2])\n",
    "\n",
    "    return Grid(nodes, spacing=spacing, weights=weights)\n",
    "\n",
    "\n",
    "def get_lm_mode(basis, coeff, zeta, L, M, func_zeta=chebyshev_z):\n",
    "    modes = basis.modes\n",
    "    lm = 0\n",
    "    for i, (l, m, n) in enumerate(modes):\n",
    "        if l == L and m == M:\n",
    "            lm += func_zeta(zeta, n) * coeff[i]\n",
    "    return lm\n",
    "\n",
    "\n",
    "def chebygrid(N_grid):\n",
    "    return np.concatenate(\n",
    "        (\n",
    "            [0],\n",
    "            (-np.cos((2 * np.arange(N_grid) + 1) * np.pi / (2 * N_grid)) + 1) * np.pi,\n",
    "            [2 * np.pi],\n",
    "        )\n",
    "    )\n",
    "\n",
    "\n",
    "def grid_gen(L_grid, M_grid, N_grid, node_pattern=\"jacobi\"):\n",
    "    LMnodes = ConcentricGrid(L=L_grid, M=M_grid, N=0, node_pattern=node_pattern).nodes[\n",
    "        :, :2\n",
    "    ]\n",
    "    Nnodes = chebygrid(N_grid)\n",
    "    lm = np.tile(LMnodes, (Nnodes.size, 1))\n",
    "    n = np.tile(Nnodes.reshape(-1, 1), (1, LMnodes.shape[0])).reshape(-1, 1)\n",
    "    nodes = np.concatenate((lm, n), axis=1)\n",
    "\n",
    "    # RG: weights and spacing defined here\n",
    "    # just for the sake of compilation. Must be checked\n",
    "    weights = np.ones(nodes.shape[0])\n",
    "    spacing = np.ones_like(nodes)\n",
    "\n",
    "    spacing[1:, 1] = np.diff(nodes[:, 1])\n",
    "    spacing[1:, 2] = np.diff(nodes[:, 2])\n",
    "\n",
    "    return Grid(nodes, spacing=spacing, weights=weights)\n",
    "\n",
    "\n",
    "def get_lm_mode(basis, coeff, zeta, L, M, func_zeta=chebyshev_z):\n",
    "    modes = basis.modes\n",
    "    lm = 0\n",
    "    for i, (l, m, n) in enumerate(modes):\n",
    "        if l == L and m == M:\n",
    "            lm += func_zeta(zeta, n) * coeff[i]\n",
    "    return lm\n",
    "\n",
    "\n",
    "plt.rcParams.update(\n",
    "    {\n",
    "        \"font.size\": 16,  # Default text size\n",
    "        \"axes.titlesize\": 18,  # Title font\n",
    "        \"axes.labelsize\": 16,  # x/y label font\n",
    "        \"xtick.labelsize\": 14,  # Tick font\n",
    "        \"ytick.labelsize\": 14,\n",
    "        \"legend.fontsize\": 14,\n",
    "    }\n",
    ")\n",
    "\n",
    "\n",
    "## test\n",
    "surf = FourierRZToroidalSurface(\n",
    "    R_lmn=[10, 1, -0.5],\n",
    "    modes_R=[[0, 0], [1, 0], [1, 2]],\n",
    "    Z_lmn=[0, -1, 0.5],\n",
    "    modes_Z=[[0, 0], [-1, 0], [-1, 2]],\n",
    "    NFP=1,\n",
    "    sym=False,\n",
    "    mirror=True,\n",
    ")\n",
    "\n",
    "iota = PowerSeriesProfile(params=[0.0, 0])\n",
    "\n",
    "p = PowerSeriesProfile(params=[0.001 / mu_0, -0.001 / mu_0], modes=[0, 2])\n",
    "p.set_params(0, a=-1e-3)  # = array([-1000])\n",
    "p.set_params(2, a=1e-3)  # = array([-1000])"
   ]
  },
  {
   "cell_type": "code",
   "execution_count": null,
   "id": "b969f8d3-8920-4ad5-8aee-31af128522ee",
   "metadata": {},
   "outputs": [],
   "source": [
    "eq = Equilibrium(\n",
    "    surface=surf,\n",
    "    L=5,\n",
    "    M=2,\n",
    "    N=10,\n",
    "    mirror=True,\n",
    "    pressure=p,\n",
    "    iota=iota,\n",
    "    sym=False,\n",
    ")"
   ]
  },
  {
   "cell_type": "code",
   "execution_count": null,
   "id": "50089ecb-b55f-43d6-897a-a937f0ac760d",
   "metadata": {},
   "outputs": [],
   "source": [
    "from desc.profiles import PerpendicularPressureProfile, ParallelPressureProfile"
   ]
  },
  {
   "cell_type": "code",
   "execution_count": null,
   "id": "a8dcf107-1867-4c7c-865c-231dc6dabfb5",
   "metadata": {},
   "outputs": [],
   "source": [
    "psi_p_perp_profile = PowerSeriesProfile(params=[1e3, -1e3], modes=[0, 2])"
   ]
  },
  {
   "cell_type": "code",
   "execution_count": null,
   "id": "18bfac56-20f4-4ef3-a97e-b3faa4c92b11",
   "metadata": {},
   "outputs": [],
   "source": [
    "# ---- Grid for axis (rho = 0, theta = 0, zeta from 0 to 2pi) ----\n",
    "zeta_axis = np.linspace(0, 2 * np.pi, 64)\n",
    "rho_axis = np.zeros_like(zeta_axis)\n",
    "theta_axis = np.zeros_like(zeta_axis)\n",
    "grid = Grid(np.stack([rho_axis, theta_axis, zeta_axis], axis=1))"
   ]
  },
  {
   "cell_type": "code",
   "execution_count": null,
   "id": "8f1e3476-78f5-4649-bf5d-5867f7743838",
   "metadata": {},
   "outputs": [],
   "source": [
    "# ---- Grid for axis (rho = 0, theta = 0, zeta from 0 to 2pi) ----\n",
    "rho_axis = np.linspace(0, 1, 64)\n",
    "zeta_axis = np.zeros_like(rho_axis)\n",
    "theta_axis = np.zeros_like(rho_axis)\n",
    "grid = Grid(np.stack([rho_axis, theta_axis, zeta_axis], axis=1))"
   ]
  },
  {
   "cell_type": "code",
   "execution_count": null,
   "id": "c1e39f34-c9cb-4347-8751-b754ca35d4b1",
   "metadata": {},
   "outputs": [],
   "source": [
    "p_fit = psi_p_perp_profile.compute(grid)\n",
    "plt.plot(p_fit, \".\")"
   ]
  },
  {
   "cell_type": "code",
   "execution_count": null,
   "id": "566e83ae-58e8-4ac8-ad47-6ffa021b9fbd",
   "metadata": {},
   "outputs": [],
   "source": [
    "coeffs = [\n",
    "    (0, -10.0, 100.0),  # species 1\n",
    "]\n",
    "p_perp = PerpendicularPressureProfile(eq, [psi_p_perp_profile], coeffs=coeffs)\n",
    "p_para = ParallelPressureProfile(p_perp, d_coeffs=[10])"
   ]
  },
  {
   "cell_type": "code",
   "execution_count": null,
   "id": "9c60e305-65d7-4ed0-b832-3898a5466d38",
   "metadata": {},
   "outputs": [],
   "source": [
    "p_fit = p_perp.compute(grid)\n",
    "plt.plot(p_fit, \".\")\n",
    "\n",
    "p_fit = p_para.compute(grid)\n",
    "plt.plot(p_fit, \".\")"
   ]
  },
  {
   "cell_type": "code",
   "execution_count": null,
   "id": "d34da9ae-668d-4c98-b7dd-db86d6a00735",
   "metadata": {},
   "outputs": [],
   "source": [
    "p_perp.params"
   ]
  },
  {
   "cell_type": "code",
   "execution_count": null,
   "id": "481de606-c709-4426-ab46-4ed59beed9ee",
   "metadata": {},
   "outputs": [],
   "source": [
    "from desc.objectives._equilibrium import (\n",
    "    ForceBalanceAnisotropic_3D,\n",
    "    B_on_Axis,\n",
    "    ForceBalanceAnisotropic_3D,\n",
    "    ForceBalanceAnisotropic_3D_explicit,\n",
    ")"
   ]
  },
  {
   "cell_type": "code",
   "execution_count": null,
   "id": "afafb88f-d62e-4331-af22-b55e717fd68e",
   "metadata": {},
   "outputs": [],
   "source": [
    "# ok re-init pressure profiles with an empty eq"
   ]
  },
  {
   "cell_type": "code",
   "execution_count": null,
   "id": "3ab25650-e9f6-41b5-8dcd-91c759b5e13a",
   "metadata": {},
   "outputs": [],
   "source": [
    "psi_p_perp_profile = PowerSeriesProfile(params=[1e3, -1e3], modes=[0, 2])"
   ]
  },
  {
   "cell_type": "code",
   "execution_count": null,
   "id": "6d17836e-dcc7-4022-bb1a-07c1eef3b2d2",
   "metadata": {},
   "outputs": [],
   "source": [
    "p_perp = PerpendicularPressureProfile(\n",
    "    eq=None, psi_profiles=[psi_p_perp_profile], coeffs=coeffs\n",
    ")\n",
    "p_para = ParallelPressureProfile(p_perp, d_coeffs=[10])"
   ]
  },
  {
   "cell_type": "code",
   "execution_count": null,
   "id": "5bcf6eb1-d3d2-4e0e-b4c8-4f18102a56af",
   "metadata": {},
   "outputs": [],
   "source": [
    "# test\n",
    "\n",
    "surf = FourierRZToroidalSurface(\n",
    "    R_lmn=[10, 1, -0.5],\n",
    "    modes_R=[[0, 0], [1, 0], [1, 2]],\n",
    "    Z_lmn=[0, -1, 0.5],\n",
    "    modes_Z=[[0, 0], [-1, 0], [-1, 2]],\n",
    "    NFP=1,\n",
    "    sym=False,\n",
    "    mirror=True,\n",
    ")"
   ]
  },
  {
   "cell_type": "code",
   "execution_count": null,
   "id": "f8ee24bf-86fa-4f93-9bf2-8871bc3b478d",
   "metadata": {},
   "outputs": [],
   "source": [
    "grid = grid_gen(4, 10, 40)\n",
    "data = surf.compute([\"X\", \"Y\", \"Z\"], grid=grid)\n",
    "\n",
    "# 3D\n",
    "\n",
    "x = data[\"X\"]\n",
    "y = data[\"Y\"]\n",
    "z = data[\"Z\"]\n",
    "\n",
    "plt.plot(y, x, \".\")"
   ]
  },
  {
   "cell_type": "code",
   "execution_count": null,
   "id": "83f24c14-24a0-4acc-8e04-10ccba1a3351",
   "metadata": {},
   "outputs": [],
   "source": []
  },
  {
   "cell_type": "code",
   "execution_count": null,
   "id": "7160aeda-f005-47a4-9c6e-4ac5945254fe",
   "metadata": {},
   "outputs": [],
   "source": [
    "surf_init = surf.copy()"
   ]
  },
  {
   "cell_type": "code",
   "execution_count": null,
   "id": "d316a3c1-8b67-4f7e-8abc-bb18d9d61676",
   "metadata": {},
   "outputs": [],
   "source": [
    "eq = Equilibrium(\n",
    "    anisotropy=p_para,\n",
    "    surface=surf_init,\n",
    "    L=5,\n",
    "    M=2,\n",
    "    N=8,\n",
    "    mirror=True,\n",
    "    pressure=p_perp,\n",
    "    iota=iota,\n",
    "    sym=False,\n",
    ")"
   ]
  },
  {
   "cell_type": "code",
   "execution_count": null,
   "id": "8fe8a48f-54c5-4fb8-8275-975eeedc3a98",
   "metadata": {},
   "outputs": [],
   "source": [
    "### now link the eq to the pressure profiles\n",
    "p_perp.set_equilibrium(eq)\n",
    "p_para.set_equilibrium(eq)"
   ]
  },
  {
   "cell_type": "code",
   "execution_count": null,
   "id": "5d3d6b51-146a-4722-a9b7-8e4afc92f6b7",
   "metadata": {},
   "outputs": [],
   "source": [
    "## can we set params?\n",
    "eq.pressure.params = eq.pressure.params  # should silently succeed\n",
    "eq.anisotropy.params = eq.anisotropy.params"
   ]
  },
  {
   "cell_type": "code",
   "execution_count": null,
   "id": "e494dfea-452e-4139-8a03-ca3fc1f60fea",
   "metadata": {},
   "outputs": [],
   "source": [
    "eq.pressure.params"
   ]
  },
  {
   "cell_type": "code",
   "execution_count": null,
   "id": "e81f9681-eb62-4057-ad01-ea24003afa3c",
   "metadata": {},
   "outputs": [],
   "source": [
    "eq.anisotropy.params"
   ]
  },
  {
   "cell_type": "code",
   "execution_count": null,
   "id": "e8f1bcc7-dff0-4342-8eea-6de31d33d19b",
   "metadata": {},
   "outputs": [],
   "source": [
    "eq.Psi = 1"
   ]
  },
  {
   "cell_type": "code",
   "execution_count": null,
   "id": "af3f9830-2e2e-4986-b251-6ebe47667e89",
   "metadata": {},
   "outputs": [],
   "source": [
    "# ---- Grid for axis (rho = 0, theta = 0, zeta from 0 to 2pi) ----\n",
    "surface = 0\n",
    "zeta_axis = np.linspace(0, 2 * np.pi, 100)\n",
    "rho_axis = np.ones_like(zeta_axis) * surface\n",
    "theta_axis = np.zeros_like(zeta_axis)\n",
    "nodes = np.stack([rho_axis, theta_axis, zeta_axis], axis=1)\n",
    "grid = Grid(nodes, spacing=np.ones_like(nodes), weights=np.ones_like(zeta_axis))"
   ]
  },
  {
   "cell_type": "code",
   "execution_count": null,
   "id": "e921c413-1edb-4bd8-96f5-99b4361b3fdb",
   "metadata": {},
   "outputs": [],
   "source": [
    "p_eq = eq.compute([\"p_perp\", \"p_parallel\", \"|B|\"], grid=grid)\n",
    "\n",
    "plt.figure()\n",
    "plt.plot(p_eq[\"p_perp\"], label=\"eq.compute['p_perp']\")\n",
    "plt.plot(p_eq[\"p_parallel\"], label=r\"eq.compute['p_parallel']\")\n",
    "\n",
    "plt.xlabel(\"zeta\")\n",
    "plt.ylabel(\"p\")\n",
    "plt.legend()\n",
    "plt.title(r\"$\\rho$ = {}, $\\theta$ = 0 \".format(surface))"
   ]
  },
  {
   "cell_type": "code",
   "execution_count": null,
   "id": "c264a91d-3267-4b96-96e9-1342732979c6",
   "metadata": {},
   "outputs": [],
   "source": [
    "# Compute on axis\n",
    "data_axis = eq.compute([\"|B|\"], grid=grid)\n",
    "B_axis = data_axis[\"|B|\"]\n",
    "\n",
    "plt.figure()\n",
    "plt.plot(zeta_axis, B_axis)\n",
    "plt.title(\"MR = {}\".format(np.max(B_axis) / np.min(B_axis)))"
   ]
  },
  {
   "cell_type": "code",
   "execution_count": null,
   "id": "0313e608-418f-4490-98d5-3b321c99c28f",
   "metadata": {},
   "outputs": [],
   "source": []
  },
  {
   "cell_type": "code",
   "execution_count": null,
   "id": "19ab8183-6288-4471-b6d2-b4262fbd0bec",
   "metadata": {},
   "outputs": [],
   "source": []
  },
  {
   "cell_type": "code",
   "execution_count": null,
   "id": "4063a5fa-1fc4-4774-9854-1422d7735470",
   "metadata": {},
   "outputs": [],
   "source": []
  },
  {
   "cell_type": "code",
   "execution_count": null,
   "id": "3be1cfa1-82b1-4262-9920-b07f0525f0b6",
   "metadata": {},
   "outputs": [],
   "source": [
    "# what if we change eq"
   ]
  },
  {
   "cell_type": "code",
   "execution_count": null,
   "id": "f402df1f-d58f-4761-9803-67753d2a672b",
   "metadata": {},
   "outputs": [],
   "source": [
    "eq.R_lmn = eq.R_lmn.at[28].set(-0.6)"
   ]
  },
  {
   "cell_type": "code",
   "execution_count": null,
   "id": "d060c591-b767-4ace-9633-ef08ad7e6b61",
   "metadata": {},
   "outputs": [],
   "source": [
    "p_eq = eq.compute([\"p_perp\", \"p_parallel\", \"|B|\"], grid=grid)\n",
    "\n",
    "plt.figure()\n",
    "plt.plot(p_eq[\"p_perp\"], label=\"eq.compute['p_perp']\")\n",
    "plt.plot(p_eq[\"p_parallel\"], label=r\"eq.compute['p_parallel']\")\n",
    "\n",
    "plt.xlabel(\"zeta\")\n",
    "plt.ylabel(\"p\")\n",
    "plt.legend()\n",
    "plt.title(r\"$\\rho$ = {}, $\\theta$ = 0 \".format(surface))"
   ]
  },
  {
   "cell_type": "code",
   "execution_count": null,
   "id": "fda8b559-b250-4268-a80b-29c65f70262d",
   "metadata": {},
   "outputs": [],
   "source": [
    "# Compute on axis\n",
    "data_axis = eq.compute([\"|B|\"], grid=grid)\n",
    "B_axis = data_axis[\"|B|\"]\n",
    "\n",
    "plt.figure()\n",
    "plt.plot(zeta_axis, B_axis)\n",
    "plt.title(\"MR = {}\".format(np.max(B_axis) / np.min(B_axis)))"
   ]
  },
  {
   "cell_type": "code",
   "execution_count": null,
   "id": "1653837a-3bb4-40ee-ac97-6b618258102a",
   "metadata": {},
   "outputs": [],
   "source": []
  },
  {
   "cell_type": "code",
   "execution_count": null,
   "id": "83972755-0b6d-4617-86d7-24734829d2f3",
   "metadata": {},
   "outputs": [],
   "source": [
    "## Testing Objectives"
   ]
  },
  {
   "cell_type": "code",
   "execution_count": null,
   "id": "6affe9f4-d79d-4c12-8cb5-e748c686a016",
   "metadata": {},
   "outputs": [],
   "source": [
    "grid = grid_gen(20, 20, 20)\n",
    "fb = ForceBalanceAnisotropic(eq=eq, grid=grid)\n",
    "fb3 = ForceBalanceAnisotropic_3D(eq=eq, grid=grid)\n",
    "fb_e = ForceBalanceAnisotropic_3D_explicit(eq=eq, grid=grid)\n",
    "on_axis = B_on_Axis(eq=eq, monotonic=True, MR=True, MR_target=10, weight=1e10)"
   ]
  },
  {
   "cell_type": "code",
   "execution_count": null,
   "id": "5381f4c3-33c0-420f-a5ff-65ffd743174a",
   "metadata": {},
   "outputs": [],
   "source": [
    "fb.build()\n",
    "fb3.build()\n",
    "fb_e.build()\n",
    "on_axis.build()"
   ]
  },
  {
   "cell_type": "code",
   "execution_count": null,
   "id": "df9f364d-971f-4821-a887-27c36008440b",
   "metadata": {},
   "outputs": [],
   "source": [
    "plt.plot(fb.compute(eq.params_dict))"
   ]
  },
  {
   "cell_type": "code",
   "execution_count": null,
   "id": "7a92dedd-a946-401f-95e4-9b345e385b7c",
   "metadata": {},
   "outputs": [],
   "source": [
    "plt.plot(fb3.compute(eq.params_dict))"
   ]
  },
  {
   "cell_type": "code",
   "execution_count": null,
   "id": "00f46406-faa9-4c1a-a5bf-9ada80afafca",
   "metadata": {},
   "outputs": [],
   "source": [
    "plt.plot(fb_e.compute(eq.params_dict))"
   ]
  },
  {
   "cell_type": "code",
   "execution_count": null,
   "id": "03873ffe-d465-440e-86a6-09c9f095acca",
   "metadata": {},
   "outputs": [],
   "source": [
    "plt.plot(on_axis.compute(eq.params_dict))"
   ]
  },
  {
   "cell_type": "code",
   "execution_count": null,
   "id": "0a4777f4-d5f3-426e-9ca8-1e9db0f479dc",
   "metadata": {},
   "outputs": [],
   "source": []
  },
  {
   "cell_type": "code",
   "execution_count": null,
   "id": "a01d0423-2db2-4ad1-81b7-b7bf96ef7780",
   "metadata": {
    "scrolled": true
   },
   "outputs": [],
   "source": [
    "constraints = (\n",
    "    # FixEndCapLambda(0, eq=eq),\n",
    "    # FixEndCapR(0, eq=eq),\n",
    "    # FixEndCapZ(0, eq=eq),\n",
    "    # FixEndCapLambda(2*np.pi, eq=eq),\n",
    "    # FixEndCapR(2*np.pi, eq=eq),\n",
    "    # FixEndCapZ(2*np.pi, eq=eq),\n",
    "    # MatchEndCapR(eq=eq),\n",
    "    # MatchEndCapZ(eq=eq),\n",
    "    # MatchEndCapLambda(eq=eq),\n",
    "    # MatchMidplaneLambda(eq=eq),\n",
    "    # MatchMidplaneR(eq=eq),\n",
    "    # MatchMidplaneZ(eq=eq),\n",
    "    FixBoundaryR(eq=eq),\n",
    "    FixBoundaryZ(eq=eq),\n",
    "    # FixPressure(eq=eq),\n",
    "    FixIota(eq=eq),\n",
    "    FixPsi(eq=eq),\n",
    "    # FixAnisotropy(eq=eq),\n",
    ")\n",
    "optimizer = Optimizer(\"lsq-exact\")\n",
    "grid = grid_gen(20, 20, 20)\n",
    "\n",
    "objective1 = ForceBalanceAnisotropic_3D_explicit(eq=eq, grid=grid)\n",
    "# objective2 = ParallelCurrentConstraint3D(eq=eq, grid=grid, weight = 10)\n",
    "objective3 = B_on_Axis(eq=eq, Nz=100, monotonic=True, MR=True, MR_target=10, weight=1e5)\n",
    "objectives = [objective1]\n",
    "obj = ObjectiveFunction(objectives=objective1)\n",
    "\n",
    "eq.solve(\n",
    "    objective=obj,\n",
    "    constraints=constraints,\n",
    "    optimizer=optimizer,\n",
    "    ftol=1e-6,\n",
    "    xtol=1e-16,\n",
    "    gtol=1e-16,\n",
    "    maxiter=25,\n",
    "    verbose=3,\n",
    ")"
   ]
  },
  {
   "cell_type": "code",
   "execution_count": null,
   "id": "3b9ebf1a-c0ac-49f5-9ac3-9396e67bbb62",
   "metadata": {},
   "outputs": [],
   "source": []
  },
  {
   "cell_type": "code",
   "execution_count": null,
   "id": "4d6acff1-4e17-4ae9-afb6-bae3a2a0ce42",
   "metadata": {},
   "outputs": [],
   "source": [
    "f0 = (\n",
    "    eq.compute(\"<|F|>_vol\")[\"<|F|>_vol\"]\n",
    "    / eq.compute(\"<|grad(|B|^2)|/2mu0>_vol\")[\"<|grad(|B|^2)|/2mu0>_vol\"]\n",
    ")\n",
    "\n",
    "\n",
    "print(f\"Force error after solve: {f0:.4e}\")"
   ]
  },
  {
   "cell_type": "code",
   "execution_count": null,
   "id": "48c5af74-9c8c-4846-8d64-5d5f667c0b02",
   "metadata": {},
   "outputs": [],
   "source": [
    "from desc.plotting import *"
   ]
  },
  {
   "cell_type": "code",
   "execution_count": null,
   "id": "03e29725-87a6-4534-9ea2-2bdd04e2c913",
   "metadata": {},
   "outputs": [],
   "source": [
    "plot_section(eq, \"|F|\", norm_F=True, log=True)"
   ]
  },
  {
   "cell_type": "code",
   "execution_count": null,
   "id": "9a529d5a-4aa0-4296-9bb5-4090a14c9245",
   "metadata": {},
   "outputs": [],
   "source": [
    "fba_t = ForceBalanceAnisotropic_3D_explicit(eq=eq, grid=grid)\n",
    "fba_t.build()\n",
    "fba_test = fba_t.compute(eq.params_dict)\n",
    "\n",
    "plt.figure()\n",
    "plt.plot(fba_test)"
   ]
  },
  {
   "cell_type": "code",
   "execution_count": null,
   "id": "231af2e8-1975-4cfa-bd94-2156a2a74cd9",
   "metadata": {},
   "outputs": [],
   "source": [
    "fba_t = ForceBalanceAnisotropic_3D(eq=eq, grid=grid)\n",
    "fba_t.build()\n",
    "fba_test = fba_t.compute(eq.params_dict)\n",
    "\n",
    "plt.figure()\n",
    "plt.plot(fba_test)"
   ]
  },
  {
   "cell_type": "code",
   "execution_count": null,
   "id": "33c47500-528e-48f9-8629-7cf1785ad087",
   "metadata": {},
   "outputs": [],
   "source": [
    "fba_t = B_on_Axis(eq=eq, monotonic=True, MR=True, MR_target=10)\n",
    "fba_t.build()\n",
    "fba_test = fba_t.compute(eq.params_dict)\n",
    "\n",
    "plt.figure()\n",
    "plt.plot(fba_test)"
   ]
  },
  {
   "cell_type": "code",
   "execution_count": null,
   "id": "8bf2026d-33a1-4e87-a3f3-8b5f23f75dbd",
   "metadata": {},
   "outputs": [],
   "source": []
  },
  {
   "cell_type": "code",
   "execution_count": null,
   "id": "11e69ccf-406b-46f8-9954-eacaf18d3959",
   "metadata": {},
   "outputs": [],
   "source": []
  },
  {
   "cell_type": "code",
   "execution_count": null,
   "id": "8e609945-dec1-4712-acd4-c67e1035b7c7",
   "metadata": {},
   "outputs": [],
   "source": [
    "### plotting tools"
   ]
  },
  {
   "cell_type": "code",
   "execution_count": null,
   "id": "a8bcce3a-a481-4560-864d-3af18c7a1c2d",
   "metadata": {},
   "outputs": [],
   "source": [
    "### define a grid"
   ]
  },
  {
   "cell_type": "code",
   "execution_count": null,
   "id": "4ee4d72b-a8d4-4a7f-bf10-6182ea0752a1",
   "metadata": {},
   "outputs": [],
   "source": [
    "grid = grid_gen(2, 10, 40)"
   ]
  },
  {
   "cell_type": "code",
   "execution_count": null,
   "id": "af1739a7-8041-4a5a-b5b5-638d4a0b12a7",
   "metadata": {},
   "outputs": [],
   "source": [
    "data = eq.compute(\n",
    "    [\n",
    "        \"X\",\n",
    "        \"Y\",\n",
    "        \"Z\",\n",
    "        \"|B|\",\n",
    "        \"<beta>_vol\",\n",
    "        \"p_parallel\",\n",
    "        \"|F|\",\n",
    "        \"p_perp\",\n",
    "        \"grad(p)\",\n",
    "        \"J\",\n",
    "        \"|J|\",\n",
    "        \"J_rho\",\n",
    "        \"J_theta\",\n",
    "        \"J_zeta\",\n",
    "        \"J*B\",\n",
    "        \"J_parallel\",\n",
    "    ],\n",
    "    grid=grid,\n",
    ")"
   ]
  },
  {
   "cell_type": "code",
   "execution_count": null,
   "id": "39a80f13-e19f-4757-b2b7-aa12ef92869a",
   "metadata": {},
   "outputs": [],
   "source": [
    "# ---- Grid for axis (rho = 0, theta = 0, zeta from 0 to 2pi) ----\n",
    "Nz = 100\n",
    "zeta_axis = np.linspace(0, 2 * np.pi, Nz)\n",
    "rho_axis = np.ones_like(zeta_axis) * 0\n",
    "theta_axis = np.zeros_like(zeta_axis)\n",
    "grid_axis = Grid(np.stack([rho_axis, theta_axis, zeta_axis], axis=1))\n",
    "\n",
    "# Compute on axis\n",
    "data_axis = eq.compute([\"|B|\", \"p_perp\", \"p_parallel\", \"Y\"], grid=grid_axis)\n",
    "B_axis = data_axis[\"|B|\"]\n",
    "p_perp_axis = data_axis[\"p_perp\"]\n",
    "p_par_axis = data_axis[\"p_parallel\"]\n",
    "\n",
    "plt.figure()\n",
    "plt.plot(zeta_axis, B_axis, label=r\"$|B|$\")\n",
    "plt.title(\"MR = {:.2f}\".format(np.max(B_axis) / np.min(B_axis)))\n",
    "plt.legend()"
   ]
  },
  {
   "cell_type": "code",
   "execution_count": null,
   "id": "9cfd676c-91fb-49a9-9ea6-1abc8e2588a6",
   "metadata": {},
   "outputs": [],
   "source": []
  },
  {
   "cell_type": "code",
   "execution_count": null,
   "id": "a0257aca-5a12-4499-aad5-ead8f4877c31",
   "metadata": {},
   "outputs": [],
   "source": [
    "plt.figure()\n",
    "plt.plot(data_axis[\"Y\"], p_perp_axis, label=r\"$p_\\perp(z)$\")\n",
    "\n",
    "\n",
    "plt.plot(data_axis[\"Y\"], p_par_axis, label=r\"$p_\\parallel(z)$\")\n",
    "plt.legend()"
   ]
  },
  {
   "cell_type": "code",
   "execution_count": null,
   "id": "a468d199-f806-4d91-bb50-3268737d76a3",
   "metadata": {},
   "outputs": [],
   "source": []
  },
  {
   "cell_type": "code",
   "execution_count": null,
   "id": "e049278d-764d-4c51-8ab5-0f18e4cd1099",
   "metadata": {},
   "outputs": [],
   "source": [
    "### LCFS metrics ? -- ordered set of points"
   ]
  },
  {
   "cell_type": "code",
   "execution_count": null,
   "id": "82911824-229b-48fe-b6d2-30156a603908",
   "metadata": {},
   "outputs": [],
   "source": [
    "# %% Get fieldlines on the LCFS\n",
    "# assert isinstance(eq, Equilibrium)\n",
    "\n",
    "Nz = 200\n",
    "Nt = 200\n",
    "rho_surf = 0.1\n",
    "\n",
    "theta = np.linspace(0, 2 * np.pi, Nt)\n",
    "zeta = np.linspace(0, 2 * np.pi, Nz, endpoint=True)\n",
    "\n",
    "theta_mesh, zeta_mesh = np.meshgrid(theta, zeta, indexing=\"ij\")\n",
    "shape = theta_mesh.shape\n",
    "coords_sfl = np.stack(\n",
    "    [\n",
    "        np.ones_like(theta_mesh.reshape(-1)) * rho_surf,\n",
    "        theta_mesh.reshape(-1),\n",
    "        zeta_mesh.reshape(-1),\n",
    "    ],\n",
    "    axis=-1,\n",
    ")\n",
    "\n",
    "coords_geo = eq.compute_theta_coords(coords_sfl)\n",
    "coords_data = eq.compute(\n",
    "    [\"R\", \"Z\", \"zeta\", \"p\", \"|B|\"], grid=Grid(nodes=coords_geo, sort=False)\n",
    ")\n",
    "\n",
    "\n",
    "lines = np.array([coords_data[\"R\"], coords_data[\"zeta\"], coords_data[\"Z\"]])\n",
    "lines = lines.reshape(3, shape[0], shape[1])\n",
    "lines = np.moveaxis(lines, [0, 1], [1, 0])\n",
    "\n",
    "B_on_lines = coords_data[\"|B|\"]\n",
    "B_on_lines = B_on_lines.reshape(shape[0], shape[1])"
   ]
  },
  {
   "cell_type": "code",
   "execution_count": null,
   "id": "6ec5617a-2ad0-4327-87f7-f725295a5952",
   "metadata": {},
   "outputs": [],
   "source": []
  },
  {
   "cell_type": "code",
   "execution_count": null,
   "id": "78368ad7-e39a-42f5-b628-0d8f012c6116",
   "metadata": {},
   "outputs": [],
   "source": [
    "from scipy.constants import mu_0\n",
    "\n",
    "data_mesh = eq.compute(\n",
    "    [\n",
    "        \"p_parallel\",\n",
    "        \"theta\",\n",
    "        \"X\",\n",
    "        \"Y\",\n",
    "        \"Z\",\n",
    "        \"|B|\",\n",
    "        \"B\",\n",
    "        \"p_parallel\",\n",
    "        \"p_perp\",\n",
    "        \"J\",\n",
    "        \"e^theta\",\n",
    "        \"e^rho\",\n",
    "        \"e^zeta\",\n",
    "        \"grad(alpha)\",\n",
    "    ],\n",
    "    grid=Grid(nodes=coords_geo, sort=False),\n",
    ")\n",
    "p_par_mesh = data_mesh[\"p_parallel\"]\n",
    "\n",
    "### axial pressure profile\n",
    "mu0 = 4 * np.pi * 1e-7\n",
    "\n",
    "# ---- Grid for axis (rho = 0, theta = 0, zeta from 0 to 2pi) ----\n",
    "zeta_axis = np.linspace(0, 2 * np.pi, 100)\n",
    "rho_axis = np.zeros_like(zeta_axis)\n",
    "theta_axis = np.zeros_like(zeta_axis)\n",
    "grid_axis = Grid(np.stack([rho_axis, theta_axis, zeta_axis], axis=1))\n",
    "\n",
    "# Compute on axis\n",
    "data_axis = eq.compute([\"|B|\", \"p_perp\", \"p_parallel\"], grid=grid_axis)\n",
    "B_axis = data_axis[\"|B|\"]\n",
    "p_perp_axis = data_axis[\"p_perp\"]\n",
    "p_par_axis = data_axis[\"p_parallel\"]\n",
    "\n",
    "\n",
    "# ---- Grid for midplane slice (zeta = pi, theta = 0, rho from 0 to 1) ----\n",
    "rho_mid = np.linspace(0, 1, 100)\n",
    "theta_mid = np.zeros_like(rho_mid)\n",
    "zeta_mid = np.ones_like(rho_mid) * np.pi\n",
    "grid_mid = Grid(np.stack([rho_mid, theta_mid, zeta_mid], axis=1))\n",
    "\n",
    "# Compute on midplane profile\n",
    "data_mid = eq.compute([\"p_perp\", \"|B|\", \"p_parallel\"], grid=grid_mid)\n",
    "B_mid = data_mid[\"|B|\"]\n",
    "p_perp_mid = data_mid[\"p_perp\"]\n",
    "p_par_mid = data_mid[\"p_parallel\"]\n",
    "\n",
    "\n",
    "X2d = np.reshape(data_mesh[\"X\"], (Nz, Nt))\n",
    "Y2d = np.reshape(data_mesh[\"Y\"], (Nz, Nt))\n",
    "Z2d = np.reshape(data_mesh[\"Z\"], (Nz, Nt))\n",
    "B2d = np.reshape(data_mesh[\"|B|\"], (Nz, Nt))\n",
    "J2d = np.reshape(data_mesh[\"J\"], (Nz, Nt, 3))\n",
    "theta2d = np.reshape(data_mesh[\"theta\"], (Nz, Nt))\n",
    "\n",
    "etheta = np.reshape(data_mesh[\"e^theta\"], (Nz, Nt, 3))\n",
    "ezeta = np.reshape(data_mesh[\"e^zeta\"], (Nz, Nt, 3))\n",
    "erho = np.reshape(data_mesh[\"e^rho\"], (Nz, Nt, 3))\n",
    "\n",
    "e_theta_n = etheta / np.linalg.norm(etheta, axis=-1)[:, :, None]\n",
    "e_zeta_n = ezeta / np.linalg.norm(ezeta, axis=-1)[:, :, None]\n",
    "e_rho_n = erho / np.linalg.norm(erho, axis=-1)[:, :, None]\n",
    "\n",
    "J2d_n = J2d / np.linalg.norm(J2d, axis=-1)[:, :, None]\n",
    "\n",
    "comp_theta = np.sum(J2d_n * e_theta_n, axis=-1)\n",
    "comp_zeta = np.sum(J2d_n * e_zeta_n, axis=-1)\n",
    "comp_rho = np.sum(J2d_n * e_rho_n, axis=-1)\n",
    "\n",
    "Bv = np.reshape(data_mesh[\"B\"], (Nz, Nt, 3))\n",
    "B2d_n = Bv / np.linalg.norm(Bv, axis=-1)[:, :, None]\n",
    "\n",
    "JdotB = np.sum(J2d_n * B2d_n, axis=-1)\n",
    "\n",
    "# gradp = np.reshape(data_mesh['grad(p)'],(Nz,Nt,3))\n",
    "# gradp_n =  gradp / np.linalg.norm(gradp,axis = -1)[:,:,None]\n",
    "\n",
    "# Jdotgradp = np.sum(J2d_n*gradp_n,axis = -1)\n",
    "\n",
    "# Bdotgradp = np.sum(B2d_n*gradp_n,axis = -1)\n",
    "\n",
    "JdotB2d_n = np.sum(J2d_n * B2d_n, axis=-1)\n",
    "\n",
    "gradalpha = np.reshape(data_mesh[\"grad(alpha)\"], (Nz, Nt, 3))\n",
    "gradalpha_n = gradalpha / np.linalg.norm(gradalpha, axis=-1)[:, :, None]\n",
    "\n",
    "Jdotgradalpha_n = np.sum(J2d_n * gradalpha_n, axis=-1)\n",
    "\n",
    "beta = 2 * (data_mesh[\"p_perp\"] + p_par_mesh) * mu_0 / (data_mesh[\"|B|\"] ** 2 + 1e-20)\n",
    "beta_axis = (\n",
    "    2 * (data_axis[\"p_perp\"] + p_par_axis) * mu_0 / (data_axis[\"|B|\"] ** 2 + 1e-20)\n",
    ")\n",
    "beta_midplane = (\n",
    "    2 * (data_mid[\"p_perp\"] + p_par_mid) * mu_0 / (data_mid[\"|B|\"] ** 2 + 1e-20)\n",
    ")\n",
    "\n",
    "\n",
    "beta2d = np.reshape(beta, (Nz, Nt))"
   ]
  },
  {
   "cell_type": "code",
   "execution_count": null,
   "id": "682fb147-e5ab-466a-858a-8eabfea96226",
   "metadata": {},
   "outputs": [],
   "source": [
    "fig, axs = plt.subplots(3, 3, figsize=(16, 11))\n",
    "\n",
    "nlevels = 500\n",
    "cmap = \"coolwarm\"\n",
    "\n",
    "# field lines\n",
    "i = 0\n",
    "for line in lines[::10]:\n",
    "    fieldlines = axs[0, 0].scatter(line[1], line[2], c=B_on_lines[i], s=0.2)\n",
    "    i = i + 10\n",
    "fig.colorbar(fieldlines, ax=axs[0, 0], label=r\"|B|\")\n",
    "\n",
    "#\n",
    "\n",
    "axs[0, 1].plot(zeta_axis, p_par_axis, label=r\"$p_{\\parallel}$\")\n",
    "axs[0, 1].plot(zeta_axis, p_perp_axis, label=r\"$p_{\\perp}$\")\n",
    "axs[0, 1].legend()\n",
    "\n",
    "axs[0, 2].plot(rho_mid, p_par_mid, label=r\"$p_{\\parallel}$\")\n",
    "axs[0, 2].plot(rho_mid, p_perp_mid, label=r\"$p_{\\perp}$\")\n",
    "axs[0, 2].legend()\n",
    "\n",
    "\n",
    "im = axs[1, 0].contour(Y2d, theta2d, beta2d, levels=nlevels, cmap=cmap)\n",
    "fig.colorbar(im, ax=axs[1, 0])\n",
    "\n",
    "\n",
    "im = axs[1, 1].plot(zeta_axis, beta_axis)\n",
    "im = axs[1, 2].plot(rho_mid, beta_midplane)\n",
    "\n",
    "\n",
    "# J\n",
    "im = axs[2, 1].contour(Y2d, theta2d, comp_rho, levels=nlevels, cmap=cmap)\n",
    "fig.colorbar(im, ax=axs[2, 1])\n",
    "\n",
    "im = axs[2, 0].contour(Y2d, theta2d, Jdotgradalpha_n, levels=nlevels, cmap=cmap)\n",
    "fig.colorbar(im, ax=axs[2, 0])\n",
    "\n",
    "im = axs[2, 2].contour(Y2d, theta2d, JdotB2d_n, levels=nlevels, cmap=cmap)\n",
    "fig.colorbar(im, ax=axs[2, 2])\n",
    "\n",
    "\n",
    "# titles\n",
    "axs[0, 0].set_title(r\"$\\rho = {}$ Field lines\".format(rho_surf))\n",
    "axs[0, 1].set_title(\"axial profile\")\n",
    "axs[0, 2].set_title(\"radial profile (midplane)\")\n",
    "\n",
    "axs[1, 0].set_title(r\"$\\beta$ at $\\rho = {}$ \".format(rho_surf))\n",
    "axs[1, 1].set_title(r\"axial $\\beta$\")\n",
    "axs[1, 2].set_title(r\"radial $\\beta$\")\n",
    "\n",
    "axs[2, 2].set_title(r\"$J \\cdot b$\")\n",
    "axs[2, 0].set_title(r\"$J \\cdot \\nabla \\alpha$\")\n",
    "axs[2, 1].set_title(r\"$J \\cdot e^\\rho$\")\n",
    "\n",
    "axs[0, 0].set_ylabel(r\"$Z$\")\n",
    "axs[0, 1].set_ylabel(r\"$pressure(Pa)$\")\n",
    "axs[0, 2].set_ylabel(r\"$pressure(Pa)$\")\n",
    "\n",
    "axs[2, 2].set_ylabel(r\"$\\theta$\")\n",
    "axs[2, 0].set_ylabel(r\"$\\theta$\")\n",
    "axs[2, 1].set_ylabel(r\"$\\theta$\")\n",
    "\n",
    "\n",
    "axs[2, 0].set_xlabel(r\"$Y$\")\n",
    "axs[2, 1].set_xlabel(r\"$Y$\")\n",
    "axs[2, 2].set_xlabel(r\"$Y$\")\n",
    "\n",
    "\n",
    "axs[0, 0].grid()\n",
    "axs[1, 1].grid()\n",
    "axs[1, 2].grid()\n",
    "\n",
    "axs[2, 2].grid()\n",
    "axs[2, 0].grid()\n",
    "axs[2, 1].grid()\n",
    "\n",
    "fig.tight_layout()"
   ]
  },
  {
   "cell_type": "code",
   "execution_count": null,
   "id": "a22144d3-3a53-4a67-9cf4-4d5288b31d4b",
   "metadata": {},
   "outputs": [],
   "source": []
  },
  {
   "cell_type": "code",
   "execution_count": null,
   "id": "8675a3e2-5d1a-480d-a096-73731a1e3d35",
   "metadata": {},
   "outputs": [],
   "source": []
  },
  {
   "cell_type": "code",
   "execution_count": null,
   "id": "12df847a-8be3-4bb3-869d-0c828bd36b06",
   "metadata": {},
   "outputs": [],
   "source": []
  },
  {
   "cell_type": "code",
   "execution_count": null,
   "id": "36dd17e4-7eeb-4e5c-965b-fbcf763ae4b2",
   "metadata": {},
   "outputs": [],
   "source": []
  },
  {
   "cell_type": "code",
   "execution_count": null,
   "id": "a4dd28a4-9da7-44e3-9664-dfb3f6925ae8",
   "metadata": {},
   "outputs": [],
   "source": []
  },
  {
   "cell_type": "code",
   "execution_count": null,
   "id": "87945bc7-fb4b-4e55-adb5-802485291b45",
   "metadata": {},
   "outputs": [],
   "source": []
  },
  {
   "cell_type": "code",
   "execution_count": null,
   "id": "ab0668af-aed3-4b0c-902a-812f5c593c72",
   "metadata": {},
   "outputs": [],
   "source": []
  },
  {
   "cell_type": "code",
   "execution_count": null,
   "id": "3f34b275-1c02-4373-9708-9d7ec0a496f8",
   "metadata": {},
   "outputs": [],
   "source": []
  },
  {
   "cell_type": "code",
   "execution_count": null,
   "id": "71a15521-5780-4cdf-a681-2a7c018d75b5",
   "metadata": {},
   "outputs": [],
   "source": []
  },
  {
   "cell_type": "code",
   "execution_count": null,
   "id": "712009d7-30cb-48c1-bcc7-48771d03a88b",
   "metadata": {},
   "outputs": [],
   "source": []
  },
  {
   "cell_type": "code",
   "execution_count": null,
   "id": "96d3d069-4deb-4c59-86cf-efd9bcefc100",
   "metadata": {},
   "outputs": [],
   "source": [
    "# grid = grid_gen(1, 20, 80)"
   ]
  },
  {
   "cell_type": "code",
   "execution_count": null,
   "id": "0b50f319-6944-4ebd-aeb0-9f1ebffa4148",
   "metadata": {},
   "outputs": [],
   "source": [
    "# %% Get fieldlines on the LCFS\n",
    "# assert isinstance(eq, Equilibrium)\n",
    "\n",
    "Nz = 50\n",
    "Nt = 50\n",
    "Nr = 2\n",
    "\n",
    "theta = np.linspace(0, 2 * np.pi, Nt)\n",
    "zeta = np.linspace(0, 2 * np.pi, Nz, endpoint=True)\n",
    "rho = np.linspace(0, 1, Nr)\n",
    "\n",
    "full_coords = []\n",
    "for r in rho:\n",
    "\n",
    "    theta_mesh, zeta_mesh = np.meshgrid(theta, zeta, indexing=\"ij\")\n",
    "    shape = theta_mesh.shape\n",
    "    coords_sfl = np.stack(\n",
    "        [\n",
    "            np.ones_like(theta_mesh.reshape(-1)) * r,\n",
    "            theta_mesh.reshape(-1),\n",
    "            zeta_mesh.reshape(-1),\n",
    "        ],\n",
    "        axis=-1,\n",
    "    )\n",
    "\n",
    "    coords_geo = eq.compute_theta_coords(coords_sfl)\n",
    "\n",
    "    full_coords.append(coords_geo)\n",
    "\n",
    "full_coords = np.array(full_coords)"
   ]
  },
  {
   "cell_type": "code",
   "execution_count": null,
   "id": "5473e2ed-4b91-432b-b09f-06d2ba0c4627",
   "metadata": {},
   "outputs": [],
   "source": [
    "coords_geo = np.array(\n",
    "    [\n",
    "        full_coords[:, :, 0].ravel(),\n",
    "        full_coords[:, :, 1].ravel(),\n",
    "        full_coords[:, :, 2].ravel(),\n",
    "    ]\n",
    ").T"
   ]
  },
  {
   "cell_type": "code",
   "execution_count": null,
   "id": "a2313c6a-2107-4c5c-88d4-68785da07fcb",
   "metadata": {},
   "outputs": [],
   "source": [
    "grid = Grid(nodes=coords_geo, sort=False)"
   ]
  },
  {
   "cell_type": "code",
   "execution_count": null,
   "id": "dc5a29e6-f934-43b8-bf3a-86b1fd1c3490",
   "metadata": {},
   "outputs": [],
   "source": [
    "data = eq.compute(\n",
    "    [\n",
    "        \"isodynamicity\",\n",
    "        \"X\",\n",
    "        \"Y\",\n",
    "        \"Z\",\n",
    "        \"|B|\",\n",
    "        \"<beta>_vol\",\n",
    "        \"beta_a\",\n",
    "        \"|F|\",\n",
    "        \"p\",\n",
    "        \"grad(p)\",\n",
    "        \"J\",\n",
    "        \"|J|\",\n",
    "        \"J_rho\",\n",
    "        \"J_theta\",\n",
    "        \"J_zeta\",\n",
    "        \"J*B\",\n",
    "        \"J_parallel\",\n",
    "    ],\n",
    "    grid=grid,\n",
    ")"
   ]
  },
  {
   "cell_type": "code",
   "execution_count": null,
   "id": "e7e6ffda-f7f3-472a-9c48-fa969931b499",
   "metadata": {},
   "outputs": [],
   "source": [
    "data[\"<beta>_vol\"]"
   ]
  },
  {
   "cell_type": "code",
   "execution_count": null,
   "id": "dc60bcf9-a017-4fa1-8a00-f57f30876e8d",
   "metadata": {},
   "outputs": [],
   "source": [
    "# 3D\n",
    "\n",
    "x = data[\"X\"]\n",
    "y = data[\"Y\"]\n",
    "z = data[\"Z\"]\n",
    "b = data[\"|B|\"]\n",
    "b = data[\"isodynamicity\"]\n",
    "\n",
    "fig = mlab.figure(bgcolor=(1, 1, 1), fgcolor=(0.0, 0.0, 0.0))\n",
    "\n",
    "\n",
    "points = mlab.points3d(x, y, z, b, scale_factor=0.01, scale_mode=\"none\")\n",
    "# points = mlab.points3d(x,y,z,scale_factor = .05, scale_mode = 'none')\n",
    "\n",
    "mlab.colorbar()\n",
    "\n",
    "\n",
    "mlab.show()"
   ]
  },
  {
   "cell_type": "code",
   "execution_count": null,
   "id": "f2233491-19cb-4f45-8278-cc86e08e5616",
   "metadata": {},
   "outputs": [],
   "source": [
    "# 3D\n",
    "\n",
    "x = data[\"X\"]\n",
    "y = data[\"Y\"]\n",
    "z = data[\"Z\"]\n",
    "# b = data['p']\n",
    "# bv = data['grad(p)']\n",
    "bv = data[\"B\"]\n",
    "\n",
    "fig = mlab.figure(bgcolor=(1, 1, 1), fgcolor=(0.0, 0.0, 0.0))\n",
    "\n",
    "points = mlab.points3d(x, y, z, scale_factor=0.01, scale_mode=\"none\")\n",
    "arrows = mlab.quiver3d(\n",
    "    x,\n",
    "    y,\n",
    "    z,\n",
    "    bv[:, 0],\n",
    "    bv[:, 1],\n",
    "    bv[:, 2],\n",
    "    scale_factor=0.1,\n",
    "    line_width=10,\n",
    "    scale_mode=\"none\",\n",
    ")\n",
    "\n",
    "bv = data[\"J\"]\n",
    "arrows1 = mlab.quiver3d(\n",
    "    x,\n",
    "    y,\n",
    "    z,\n",
    "    bv[:, 0],\n",
    "    bv[:, 1],\n",
    "    bv[:, 2],\n",
    "    scale_factor=0.1,\n",
    "    line_width=10,\n",
    "    scale_mode=\"none\",\n",
    "    color=(1, 0, 1),\n",
    ")\n",
    "\n",
    "# bv = data['e^zeta']\n",
    "# arrows2 = mlab.quiver3d(x,y,z,bv[:,0],bv[:,1],bv[:,2], scale_factor=.1, line_width=10,scale_mode = 'none',color = (1,0,0))\n",
    "\n",
    "# bv = data['e^theta']\n",
    "# arrows3 = mlab.quiver3d(x,y,z,bv[:,0],bv[:,1],bv[:,2], scale_factor=.1, line_width=10,scale_mode = 'none',color = (0,0,1))\n",
    "\n",
    "\n",
    "# mlab.colorbar(arrows)\n",
    "\n",
    "\n",
    "mlab.show()"
   ]
  },
  {
   "cell_type": "code",
   "execution_count": null,
   "id": "83553cc1-3288-4665-b1b2-978aa79068e1",
   "metadata": {},
   "outputs": [],
   "source": []
  }
 ],
 "metadata": {
  "kernelspec": {
   "display_name": "desc_merging",
   "language": "python",
   "name": "desc_merging"
  },
  "language_info": {
   "codemirror_mode": {
    "name": "ipython",
    "version": 3
   },
   "file_extension": ".py",
   "mimetype": "text/x-python",
   "name": "python",
   "nbconvert_exporter": "python",
   "pygments_lexer": "ipython3",
   "version": "3.13.4"
  }
 },
 "nbformat": 4,
 "nbformat_minor": 5
}
