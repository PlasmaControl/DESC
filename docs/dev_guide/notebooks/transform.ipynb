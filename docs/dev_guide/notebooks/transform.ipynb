{
 "cells": [
  {
   "cell_type": "markdown",
   "id": "fbb1cce6-2f0a-49c7-a80a-212408ee20b0",
   "metadata": {
    "tags": [],
    "toc-hr-collapsed": true
   },
   "source": [
    "# Transforms"
   ]
  },
  {
   "cell_type": "markdown",
   "id": "6771767d-912b-46b7-a8fc-0a459e5fae50",
   "metadata": {},
   "source": [
    "DESC is a [pseudo-spectral](https://en.wikipedia.org/wiki/Pseudo-spectral_method) code, where the dependent variables $R$, $Z$, $\\lambda$, as well as parameters such as the plasma boundary and profiles are represented by spectral basis functions.\n",
    "These parameters are interpolated to a grid of collocation nodes in real space.\n",
    "See the section on [basis functions](https://desc-docs.readthedocs.io/en/latest/notebooks/basis_grid.html#Basis-functions) for more information.\n",
    "\n",
    "Representing the parameters as a sum of spectral basis functions simplifies finding solutions to the relevant physics equations.\n",
    "This is similar to how the Fourier transform reduces a complicated operation like differentiation in real space to multiplication by frequency in the frequency space.\n",
    "A more relevant example is solving a partial differential equation (PDE) by expressing it as a linear combination of spectral basis functions, which transforms the PDE into a system of nonlinear algebraic equations. These equations are typically easier to solve numerically than the original PDE.\n",
    "\n",
    "Once it is known which combination of basis functions in the spectral space compose the relevant parameters, such as the plasma boundary etc., these functions in the spectral space need to be transformed back to real space to better understand their behavior in real space.\n",
    "\n",
    "The `Transform` class provides methods to transform between spectral and real space.\n",
    "Each `Transform` object contains a spectral basis and a grid."
   ]
  },
  {
   "cell_type": "markdown",
   "id": "6dbcf2ef-2649-40df-9f44-c2df820ec260",
   "metadata": {
    "tags": []
   },
   "source": [
    "## `build()` and `transform(c)`\n",
    "\n",
    "The `build()` method builds the matrices for a particular grid which define the transformation from spectral to real space.\n",
    "This is done by evaluating the basis at each point of the grid.\n",
    "Generic examples of this type of transformation are the inverse Fourier transform and a change of basis matrix for finite dimensional vector spaces.\n",
    "\n",
    "The `transform(c)` method applies the resulting matrix to the given vector, $\\mathbf{c}$, which specify the coefficients of the basis associated with this `Transform` object.\n",
    "This transforms the given vector of spectral coefficients to real space values.\n",
    "\n",
    "The matrices are computed for each derivative order specified when the `Transform` object was constructed.\n",
    "The highest derivative order at which to compute the transforms is specified by an array of three integers (one for each coordinate in $\\rho, \\theta, \\zeta$) given as the `derivs` argument.\n",
    "\n",
    "Define the transform matrix as $A_{(d\\rho,d\\theta,d\\zeta)}$ for the derivative of order ${(d\\rho,d\\theta,d\\zeta)}$ (where each are integers).\n",
    "This matrix transforms a spectral basis evaluated on a certain grid with a given set of coefficients $\\mathbf{c}$ to real space values $x$.\n",
    "\n",
    "$$ A\\mathbf{c} = \\mathbf{x}$$\n",
    "\n",
    "- $\\mathbf{c}$ is a vector of length `Transform.basis.num_modes` (the number of modes in the basis)\n",
    "- $\\mathbf{x}$ is a vector of length `Transform.grid.num_nodes` (the number of nodes in the grid)\n",
    "- $A$ is a matrix of shape `(num_nodes,num_modes)`.\n",
    "\n",
    "As a simple example, if the basis is a Fourier series given by $f(\\zeta) = 2 + 4*cos(\\zeta)$, and the grid is $\\mathbf{\\zeta} =\\begin{bmatrix}0\\\\ \\pi\\end{bmatrix}$, then\n",
    "\n",
    "$$\\mathbf{c}=\\begin{bmatrix} 2\\\\ 4 \\end{bmatrix}$$\n",
    "$$A_{(0, 0, 0)} = \\begin{bmatrix} 1 & cos(0)\\\\ 1& cos(\\pi) \\end{bmatrix} = \\begin{bmatrix} 1& 1\\\\ 1& -1 \\end{bmatrix}$$\n",
    "$$A_{(0, 0, 0)}\\mathbf{c} = \\begin{bmatrix} 1& 1\\\\ 1& -1 \\end{bmatrix} \\begin{bmatrix} 2\\\\ 4 \\end{bmatrix} = \\begin{bmatrix} 6 \\\\ -2  \\end{bmatrix}$$\n",
    "\n",
    "For ``FourierZernikeBasis``, the construction of the matrix $A$ is a bit more involved but the idea is the same. We write the summation in \n",
    "\n",
    "$$\n",
    "    R(\\rho,\\theta,\\zeta) = \\sum_{m=-M,n=-N,l=0}^{M,N,L} R_{lmn} \\mathcal{Z}_l^m (\\rho,\\theta) \\mathcal{F}^n(\\zeta)\n",
    "$$\n",
    "\n",
    "as a matrix vector multiply where each row of $A$ is formed by evaluating $\\mathcal{Z}_l^m (\\rho,\\theta) \\mathcal{F}^n(\\zeta)$ for each mode $lmn$ at a given collocation point with $(\\rho, \\theta, \\zeta)$.\n",
    "\n",
    "**Improvement ideas:** As of January 22 2025, this implementation is not the most optimum. We can use more efficient ways of computing transform from spectral to real space values. Some examples of these are\n",
    "- using FFT in both toroidal and poloidal direction.\n",
    "- using partial summation\n",
    "\n",
    "For more details on these, check the issues on Github labeled as `transforms`."
   ]
  },
  {
   "cell_type": "markdown",
   "id": "6a8f43e3-9ee8-449b-b6ea-4672a966d914",
   "metadata": {
    "tags": []
   },
   "source": [
    "## `build_pinv()` and `fit(x)`"
   ]
  },
  {
   "cell_type": "markdown",
   "id": "261815bc-a394-4c11-a5c0-9dc127b37b25",
   "metadata": {},
   "source": [
    "The `build_pinv` method builds the matrix which defines the [pseudo-inverse (Moore–Penrose inverse)](https://en.wikipedia.org/wiki/Moore%E2%80%93Penrose_inverse) transformation shown by $A^{\\dagger}$ where $A^{\\dagger}A = \\mathbb{I}$ (note that $AA^{\\dagger}\\neq\\mathbb{I}$, since in the code, we calculate $A^{\\dagger}$ as the left-inverse of $A$).\n",
    "\n",
    "In particular, this is a transformation from real space values to coefficients of a spectral basis.\n",
    "Generic examples of this type of transformation are the Fourier transform and a change of basis matrix for finite dimensional vector spaces. As a continuation of the above transform, what we try to achieve is,\n",
    "\n",
    "$$ A \\mathbf{c} = \\mathbf{x} $$\n",
    "$$ A^{\\dagger}A \\mathbf{c} = A^{\\dagger}\\mathbf{x} $$\n",
    "$$ \\mathbf{c} = A^{\\dagger}\\mathbf{x} $$\n",
    "\n",
    "Any vector of values in real space can be represented as coefficients to some linear combination of a basis in spectral space.\n",
    "However, the basis of a particular `Transform` may not be able to exactly represent a given vector of real space values.\n",
    "In that case, the system $A \\mathbf{c} = \\mathbf{x}$ would be inconsistent.\n",
    "\n",
    "The `fit(x)` method applies $A^{\\dagger}$ to the vector $\\mathbf{x}$ of real space values.\n",
    "This yields the coefficients that best allow the basis of a `Transform` object to approximate $\\mathbf{x}$ in spectral space.\n",
    "The pseudo-inverse transform, $A^{\\dagger}$, applied to $\\mathbf{x}$ represents the least-squares solution for the unknown given by $\\mathbf{c}$ to the system $A \\mathbf{c} = \\mathbf{x}$.\n",
    "\n",
    "It is required from the least-squares solution, $A^{\\dagger} \\mathbf{x}$, that\n",
    "\n",
    "$$A^{\\dagger} \\mathbf{x} = \\min_{∀ \\mathbf{c}} \\lvert A \\mathbf{c} - \\mathbf{x} \\rvert \\; \\text{so that} \\; \\lvert A A^{\\dagger} \\mathbf{x} - \\mathbf{x}\\rvert \\; \\text{is minimized}$$\n",
    "\n",
    "For this to be true, $A A^{\\dagger}$ must be the orthogonal projection onto the image of the transformation $A$.\n",
    "It follows that\n",
    "\n",
    "$$A A^{\\dagger} \\mathbf{x} - \\mathbf{x} ∈ (\\text{image}(A))^{\\perp} = \\text{kernel}(A^T)$$\n",
    "\n",
    "$$\n",
    "\\begin{align*}\n",
    "    A^T (A A^{\\dagger} \\mathbf{x} - \\mathbf{x}) &= 0 \\\\\n",
    "    A^T A A^{\\dagger} \\mathbf{x} &= A^T \\mathbf{x} \\\\\n",
    "    A^{\\dagger} &= (A^T A)^{-1} A^{T} \\quad \\text{if} \\; A^TA \\; \\text{is invertible}\n",
    "\\end{align*}\n",
    "$$\n",
    "\n",
    "Equivalently, if $A = U S V^{T}$ is the singular value decomposition of the transform matrix $A$, then\n",
    "\n",
    "$$ A^{\\dagger} = V S^{+} U^{T}$$\n",
    "\n",
    "where the diagonal of $S^{+}$ has entries which are the reciprocals of the entries on the diagonal of $S$, except that any entries in the diagonal with $0$ for the singular value are kept as $0$.\n",
    "(If there are no singular values corresponding to $0$ and $S$ is a square matrix, then $S^{+}=S^{-1} \\implies A^{\\dagger}=A^{-1}$, and hence $A^{-1}$ exists because there are no eigenvectors with eigenvalue $0^{2}$)."
   ]
  },
  {
   "cell_type": "markdown",
   "id": "c17469b1-9273-421b-8da2-23364a14c9d4",
   "metadata": {},
   "source": [
    "## Transform build options\n",
    "There are three different options from which the user can choose to build the transform matrix and its pseudoinverse."
   ]
  },
  {
   "cell_type": "markdown",
   "id": "a05153d1-b6d6-413e-aea9-f08d6cd1a627",
   "metadata": {
    "jp-MarkdownHeadingCollapsed": true,
    "tags": []
   },
   "source": [
    "### Option 1: `direct1`\n",
    "\n",
    "With this option, the transformation matrix is computed by directly evaluating the basis functions on the given grid.\n",
    "The computation of the pseudo-inverse matrix as discussed above is outsourced to JAX (implementation is very similar to our own function `desc.utils.svd_inv_null`).\n",
    "This option can handle arbitrary grids and uses the full matrices for the transforms (i.e. you can still specify to throw out the less significant singular values in the singular value decomposition).\n",
    "This makes `direct1` robust.\n",
    "However, no simplifying assumptions are made, so it is likely to be the slowest.\n",
    "\n",
    "The relevant code for this option builds the matrices exactly as discussed above.\n",
    "\n",
    "To build the transform matrix for every combination of derivatives up to the given order:\n",
    "```python\n",
    "for d in self.derivatives:\n",
    "    self._matrices[\"direct1\"][d[0]][d[1]][d[2]] = self.basis.evaluate(\n",
    "        self.grid.nodes, d\n",
    "    )\n",
    "```\n",
    "\n",
    "The `transform(c)` method for a specified derivative combination:\n",
    "```python\n",
    "A = self.matrices[\"direct1\"][dr][dt][dz]\n",
    "return jnp.matmul(A, c)\n",
    "```\n",
    "To build the pseudo-inverse:\n",
    "```python\n",
    "self._matrices[\"pinv\"] = (\n",
    "    jnp.linalg.pinv(A, rcond=rcond) if A.size else np.zeros_like(A.T)\n",
    ")\n",
    "```\n",
    "The `fit(x)` method:\n",
    "```python\n",
    "Ainv = self.matrices[\"pinv\"]\n",
    "c = jnp.matmul(Ainv, x)\n",
    "```"
   ]
  },
  {
   "cell_type": "markdown",
   "id": "28b219dd-d6d6-4a2f-afe2-7ba0778328b1",
   "metadata": {},
   "source": [
    "### Option 2: `direct2` and option 3: `fft`\n",
    "Functions of the toroidal coordinate $\\zeta$ use Fourier series for their basis.\n",
    "\n",
    "So, a Discrete Fourier Transform (DFT) can be used to transform real space values to spectral space for the pseudo-inverse matrix. Both `direct2` and `fft` methods use this property. The difference is that `direct2` creates a matrix $A$ to compute DFT by direct evaluation. On the other hand, `fft` method use a Fast Fourier Transform (FFT) which is an efficient way to calculate Fourier Transform that reduces number of operations from $\\mathcal{O}(n^2)$ to $\\mathcal{O}(nlog(n))$ where n is the data size. \n",
    "\n",
    "The way we implement it is, first divide the summation such that Zernike part and Fourier part is separated,\n",
    "\n",
    "$$\n",
    "    R(\\rho,\\theta,\\zeta) = \\sum_{l=0, m=-M}^{L, M} \\mathcal{Z}_l^m (\\rho,\\theta) \\sum_{n=-N}^{N} R_{lmn} \\mathcal{F}^n(\\zeta)\n",
    "$$\n",
    "\n",
    "The inner summation can be computed using discrete Fourier transform (either FFT or direct evaluation). For the summation over `lm`, we again construct a matrix $A$ by evaluating the Zernike polynomials at all collocation points but this time only for the unique `lm` modes (whereas previously we were \"inefficiently\" calculating same `lm` for multiple values of `n`). To take the discrete Fourier transform, we make some re-ordering and re-shaping. Once we get the transform, the summation becomes,\n",
    "\n",
    "$$\n",
    "    R(\\rho,\\theta,\\zeta) = \\sum_{l=0, m=-M}^{L, M} \\mathcal{Z}_l^m (\\rho,\\theta) c_{lmn}\n",
    "$$\n",
    "\n",
    "$$\n",
    "    R(\\rho,\\theta,\\zeta) = A_{Zernike} \\mathbf{c}_{fft}\n",
    "$$"
   ]
  },
  {
   "cell_type": "markdown",
   "id": "03f53e35",
   "metadata": {},
   "source": [
    "## Future work\n",
    "\n",
    "We can use FFT in poloidal direction, too. This might require some tweaking of the grid points, especially for the stellarator symmetric grids. \n",
    "\n",
    "There are many Github issues on transforms and this notebook will be updated regularly."
   ]
  }
 ],
 "metadata": {
  "kernelspec": {
   "display_name": "desc-env",
   "language": "python",
   "name": "python3"
  },
  "language_info": {
   "codemirror_mode": {
    "name": "ipython",
    "version": 3
   },
   "file_extension": ".py",
   "mimetype": "text/x-python",
   "name": "python",
   "nbconvert_exporter": "python",
   "pygments_lexer": "ipython3",
   "version": "3.12.0"
  }
 },
 "nbformat": 4,
 "nbformat_minor": 5
}
