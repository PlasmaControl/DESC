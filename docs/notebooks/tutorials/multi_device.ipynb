{
 "cells": [
  {
   "cell_type": "markdown",
   "metadata": {
    "vscode": {
     "languageId": "plaintext"
    }
   },
   "source": [
    "# Multi-Gpu Equilibrium Solve"
   ]
  },
  {
   "cell_type": "code",
   "execution_count": 1,
   "metadata": {},
   "outputs": [],
   "source": [
    "import sys\n",
    "import os\n",
    "\n",
    "sys.path.insert(0, os.path.abspath(\".\"))\n",
    "sys.path.append(os.path.abspath(\"../../../\"))"
   ]
  },
  {
   "cell_type": "code",
   "execution_count": null,
   "metadata": {},
   "outputs": [],
   "source": [
    "num_device = 1\n",
    "# from desc import set_device\n",
    "\n",
    "# set_device(\"gpu\", num_device=num_device)"
   ]
  },
  {
   "cell_type": "code",
   "execution_count": null,
   "metadata": {},
   "outputs": [],
   "source": [
    "from desc.examples import get\n",
    "from desc.objectives import *\n",
    "from desc.objectives.getters import *\n",
    "from desc.grid import LinearGrid\n",
    "from desc.backend import jnp\n",
    "from desc.plotting import plot_grid"
   ]
  },
  {
   "cell_type": "code",
   "execution_count": 4,
   "metadata": {},
   "outputs": [],
   "source": [
    "eq = get(\"HELIOTRON\")"
   ]
  },
  {
   "cell_type": "code",
   "execution_count": null,
   "metadata": {},
   "outputs": [],
   "source": [
    "obj = get_parallel_forcebalance(eq, num_device=num_device, check_device=False)\n",
    "cons = get_fixed_boundary_constraints(eq)"
   ]
  },
  {
   "cell_type": "code",
   "execution_count": null,
   "metadata": {},
   "outputs": [],
   "source": [
    "eq.solve(objective=obj, constraints=cons, maxiter=2, ftol=0, gtol=0, xtol=0, verbose=3)"
   ]
  },
  {
   "cell_type": "code",
   "execution_count": null,
   "metadata": {},
   "outputs": [],
   "source": [
    "eq = get(\"HELIOTRON\")\n",
    "r_per_gpu = 2\n",
    "num_device = 5\n",
    "rhos = jnp.linspace(0.01, 1.0, r_per_gpu * num_device)\n",
    "for i in range(num_device):\n",
    "    grid = LinearGrid(\n",
    "        rho=rhos[i * r_per_gpu : (i + 1) * r_per_gpu],\n",
    "        # kind of experimental way of set giving\n",
    "        # less grid points to inner part, but seems\n",
    "        # to make transforms way slower\n",
    "        M=int(eq.M_grid * i / num_device),\n",
    "        N=eq.N_grid,\n",
    "        NFP=eq.NFP,\n",
    "    )\n",
    "    plot_grid(grid)"
   ]
  }
 ],
 "metadata": {
  "kernelspec": {
   "display_name": "desc-env",
   "language": "python",
   "name": "python3"
  },
  "language_info": {
   "codemirror_mode": {
    "name": "ipython",
    "version": 3
   },
   "file_extension": ".py",
   "mimetype": "text/x-python",
   "name": "python",
   "nbconvert_exporter": "python",
   "pygments_lexer": "ipython3",
   "version": "3.12.7"
  }
 },
 "nbformat": 4,
 "nbformat_minor": 2
}
