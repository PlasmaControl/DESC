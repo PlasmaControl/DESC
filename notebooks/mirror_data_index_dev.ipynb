{
 "cells": [
  {
   "cell_type": "code",
   "execution_count": 1,
   "metadata": {},
   "outputs": [
    {
     "name": "stdout",
     "output_type": "stream",
     "text": [
      "DESC version 0+untagged.5744.g265354c.dirty,using JAX backend, jax version=0.4.14, jaxlib version=0.4.14, dtype=float64\n",
      "Using device: CPU, with 1.76 GB available memory\n"
     ]
    },
    {
     "ename": "KeyError",
     "evalue": "'g_tt'",
     "output_type": "error",
     "traceback": [
      "\u001b[0;31m---------------------------------------------------------------------------\u001b[0m",
      "\u001b[0;31mKeyError\u001b[0m                                  Traceback (most recent call last)",
      "\u001b[1;32m/Users/xchu/Documents/Courses/G3F/SoftwareEngineering/SLAM/DESC/notebooks/mirror_data_index_dev.ipynb Cell 1\u001b[0m line \u001b[0;36m1\n\u001b[0;32m----> <a href='vscode-notebook-cell:/Users/xchu/Documents/Courses/G3F/SoftwareEngineering/SLAM/DESC/notebooks/mirror_data_index_dev.ipynb#W0sZmlsZQ%3D%3D?line=0'>1</a>\u001b[0m \u001b[39mfrom\u001b[39;00m \u001b[39mdesc\u001b[39;00m\u001b[39m.\u001b[39;00m\u001b[39mequilibrium\u001b[39;00m\u001b[39m.\u001b[39;00m\u001b[39mmirror_equilibrium\u001b[39;00m \u001b[39mimport\u001b[39;00m Equilibrium_mirror\n\u001b[1;32m      <a href='vscode-notebook-cell:/Users/xchu/Documents/Courses/G3F/SoftwareEngineering/SLAM/DESC/notebooks/mirror_data_index_dev.ipynb#W0sZmlsZQ%3D%3D?line=1'>2</a>\u001b[0m \u001b[39mfrom\u001b[39;00m \u001b[39mdesc\u001b[39;00m\u001b[39m.\u001b[39;00m\u001b[39mgrid\u001b[39;00m \u001b[39mimport\u001b[39;00m LinearGrid\n\u001b[1;32m      <a href='vscode-notebook-cell:/Users/xchu/Documents/Courses/G3F/SoftwareEngineering/SLAM/DESC/notebooks/mirror_data_index_dev.ipynb#W0sZmlsZQ%3D%3D?line=2'>3</a>\u001b[0m \u001b[39mfrom\u001b[39;00m \u001b[39mdesc\u001b[39;00m\u001b[39m.\u001b[39;00m\u001b[39mcompute\u001b[39;00m\u001b[39m.\u001b[39;00m\u001b[39mutils\u001b[39;00m \u001b[39mimport\u001b[39;00m get_transforms\n",
      "File \u001b[0;32m~/Documents/Courses/G3F/SoftwareEngineering/SLAM/DESC/desc/equilibrium/__init__.py:3\u001b[0m\n\u001b[1;32m      1\u001b[0m \u001b[39m\"\"\"Core class representing MHD equilibrium, and utilities for creating them.\"\"\"\u001b[39;00m\n\u001b[0;32m----> 3\u001b[0m \u001b[39mfrom\u001b[39;00m \u001b[39m.\u001b[39;00m\u001b[39mequilibrium\u001b[39;00m \u001b[39mimport\u001b[39;00m EquilibriaFamily, Equilibrium\n",
      "File \u001b[0;32m~/Documents/Courses/G3F/SoftwareEngineering/SLAM/DESC/desc/equilibrium/equilibrium.py:15\u001b[0m\n\u001b[1;32m     13\u001b[0m \u001b[39mfrom\u001b[39;00m \u001b[39mdesc\u001b[39;00m\u001b[39m.\u001b[39;00m\u001b[39mbackend\u001b[39;00m \u001b[39mimport\u001b[39;00m jnp\n\u001b[1;32m     14\u001b[0m \u001b[39mfrom\u001b[39;00m \u001b[39mdesc\u001b[39;00m\u001b[39m.\u001b[39;00m\u001b[39mbasis\u001b[39;00m \u001b[39mimport\u001b[39;00m FourierZernikeBasis, fourier, zernike_radial\n\u001b[0;32m---> 15\u001b[0m \u001b[39mfrom\u001b[39;00m \u001b[39mdesc\u001b[39;00m\u001b[39m.\u001b[39;00m\u001b[39mcompute\u001b[39;00m \u001b[39mimport\u001b[39;00m compute \u001b[39mas\u001b[39;00m compute_fun\n\u001b[1;32m     16\u001b[0m \u001b[39mfrom\u001b[39;00m \u001b[39mdesc\u001b[39;00m\u001b[39m.\u001b[39;00m\u001b[39mcompute\u001b[39;00m \u001b[39mimport\u001b[39;00m data_index\n\u001b[1;32m     17\u001b[0m \u001b[39mfrom\u001b[39;00m \u001b[39mdesc\u001b[39;00m\u001b[39m.\u001b[39;00m\u001b[39mcompute\u001b[39;00m\u001b[39m.\u001b[39;00m\u001b[39mutils\u001b[39;00m \u001b[39mimport\u001b[39;00m get_data_deps, get_params, get_profiles, get_transforms\n",
      "File \u001b[0;32m~/Documents/Courses/G3F/SoftwareEngineering/SLAM/DESC/desc/compute/__init__.py:95\u001b[0m\n\u001b[1;32m     91\u001b[0m                         full_with_axis[_key] \u001b[39m=\u001b[39m full[_key]\n\u001b[1;32m     92\u001b[0m             data_index[p][key][\u001b[39m\"\u001b[39m\u001b[39mfull_with_axis_dependencies\u001b[39m\u001b[39m\"\u001b[39m] \u001b[39m=\u001b[39m full_with_axis\n\u001b[0;32m---> 95\u001b[0m _build_data_index()\n",
      "File \u001b[0;32m~/Documents/Courses/G3F/SoftwareEngineering/SLAM/DESC/desc/compute/__init__.py:65\u001b[0m, in \u001b[0;36m_build_data_index\u001b[0;34m()\u001b[0m\n\u001b[1;32m     62\u001b[0m \u001b[39mfor\u001b[39;00m p \u001b[39min\u001b[39;00m data_index:\n\u001b[1;32m     63\u001b[0m     \u001b[39mfor\u001b[39;00m key \u001b[39min\u001b[39;00m data_index[p]:\n\u001b[1;32m     64\u001b[0m         full \u001b[39m=\u001b[39m {\n\u001b[0;32m---> 65\u001b[0m             \u001b[39m\"\u001b[39m\u001b[39mdata\u001b[39m\u001b[39m\"\u001b[39m: get_data_deps(key, p, has_axis\u001b[39m=\u001b[39m\u001b[39mFalse\u001b[39;00m),\n\u001b[1;32m     66\u001b[0m             \u001b[39m\"\u001b[39m\u001b[39mtransforms\u001b[39m\u001b[39m\"\u001b[39m: get_derivs(key, p, has_axis\u001b[39m=\u001b[39m\u001b[39mFalse\u001b[39;00m),\n\u001b[1;32m     67\u001b[0m             \u001b[39m\"\u001b[39m\u001b[39mparams\u001b[39m\u001b[39m\"\u001b[39m: get_params(key, p, has_axis\u001b[39m=\u001b[39m\u001b[39mFalse\u001b[39;00m),\n\u001b[1;32m     68\u001b[0m             \u001b[39m\"\u001b[39m\u001b[39mprofiles\u001b[39m\u001b[39m\"\u001b[39m: get_profiles(key, p, has_axis\u001b[39m=\u001b[39m\u001b[39mFalse\u001b[39;00m),\n\u001b[1;32m     69\u001b[0m         }\n\u001b[1;32m     70\u001b[0m         data_index[p][key][\u001b[39m\"\u001b[39m\u001b[39mfull_dependencies\u001b[39m\u001b[39m\"\u001b[39m] \u001b[39m=\u001b[39m full\n\u001b[1;32m     72\u001b[0m         full_with_axis_data \u001b[39m=\u001b[39m get_data_deps(key, p, has_axis\u001b[39m=\u001b[39m\u001b[39mTrue\u001b[39;00m)\n",
      "File \u001b[0;32m~/Documents/Courses/G3F/SoftwareEngineering/SLAM/DESC/desc/compute/utils.py:172\u001b[0m, in \u001b[0;36mget_data_deps\u001b[0;34m(keys, obj, has_axis)\u001b[0m\n\u001b[1;32m    170\u001b[0m out \u001b[39m=\u001b[39m []\n\u001b[1;32m    171\u001b[0m \u001b[39mfor\u001b[39;00m key \u001b[39min\u001b[39;00m keys:\n\u001b[0;32m--> 172\u001b[0m     out \u001b[39m+\u001b[39m\u001b[39m=\u001b[39m _get_deps_1_key(key)\n\u001b[1;32m    173\u001b[0m \u001b[39mreturn\u001b[39;00m \u001b[39msorted\u001b[39m(\u001b[39mlist\u001b[39m(\u001b[39mset\u001b[39m(out)))\n",
      "File \u001b[0;32m~/Documents/Courses/G3F/SoftwareEngineering/SLAM/DESC/desc/compute/utils.py:162\u001b[0m, in \u001b[0;36mget_data_deps.<locals>._get_deps_1_key\u001b[0;34m(key)\u001b[0m\n\u001b[1;32m    160\u001b[0m out \u001b[39m=\u001b[39m deps\u001b[39m.\u001b[39mcopy()  \u001b[39m# to avoid modifying the data_index\u001b[39;00m\n\u001b[1;32m    161\u001b[0m \u001b[39mfor\u001b[39;00m dep \u001b[39min\u001b[39;00m deps:\n\u001b[0;32m--> 162\u001b[0m     out \u001b[39m+\u001b[39m\u001b[39m=\u001b[39m _get_deps_1_key(dep)\n\u001b[1;32m    163\u001b[0m \u001b[39mif\u001b[39;00m has_axis:\n\u001b[1;32m    164\u001b[0m     axis_limit_deps \u001b[39m=\u001b[39m data_index[p][key][\u001b[39m\"\u001b[39m\u001b[39mdependencies\u001b[39m\u001b[39m\"\u001b[39m][\u001b[39m\"\u001b[39m\u001b[39maxis_limit_data\u001b[39m\u001b[39m\"\u001b[39m]\n",
      "File \u001b[0;32m~/Documents/Courses/G3F/SoftwareEngineering/SLAM/DESC/desc/compute/utils.py:162\u001b[0m, in \u001b[0;36mget_data_deps.<locals>._get_deps_1_key\u001b[0;34m(key)\u001b[0m\n\u001b[1;32m    160\u001b[0m out \u001b[39m=\u001b[39m deps\u001b[39m.\u001b[39mcopy()  \u001b[39m# to avoid modifying the data_index\u001b[39;00m\n\u001b[1;32m    161\u001b[0m \u001b[39mfor\u001b[39;00m dep \u001b[39min\u001b[39;00m deps:\n\u001b[0;32m--> 162\u001b[0m     out \u001b[39m+\u001b[39m\u001b[39m=\u001b[39m _get_deps_1_key(dep)\n\u001b[1;32m    163\u001b[0m \u001b[39mif\u001b[39;00m has_axis:\n\u001b[1;32m    164\u001b[0m     axis_limit_deps \u001b[39m=\u001b[39m data_index[p][key][\u001b[39m\"\u001b[39m\u001b[39mdependencies\u001b[39m\u001b[39m\"\u001b[39m][\u001b[39m\"\u001b[39m\u001b[39maxis_limit_data\u001b[39m\u001b[39m\"\u001b[39m]\n",
      "    \u001b[0;31m[... skipping similar frames: get_data_deps.<locals>._get_deps_1_key at line 162 (2 times)]\u001b[0m\n",
      "File \u001b[0;32m~/Documents/Courses/G3F/SoftwareEngineering/SLAM/DESC/desc/compute/utils.py:162\u001b[0m, in \u001b[0;36mget_data_deps.<locals>._get_deps_1_key\u001b[0;34m(key)\u001b[0m\n\u001b[1;32m    160\u001b[0m out \u001b[39m=\u001b[39m deps\u001b[39m.\u001b[39mcopy()  \u001b[39m# to avoid modifying the data_index\u001b[39;00m\n\u001b[1;32m    161\u001b[0m \u001b[39mfor\u001b[39;00m dep \u001b[39min\u001b[39;00m deps:\n\u001b[0;32m--> 162\u001b[0m     out \u001b[39m+\u001b[39m\u001b[39m=\u001b[39m _get_deps_1_key(dep)\n\u001b[1;32m    163\u001b[0m \u001b[39mif\u001b[39;00m has_axis:\n\u001b[1;32m    164\u001b[0m     axis_limit_deps \u001b[39m=\u001b[39m data_index[p][key][\u001b[39m\"\u001b[39m\u001b[39mdependencies\u001b[39m\u001b[39m\"\u001b[39m][\u001b[39m\"\u001b[39m\u001b[39maxis_limit_data\u001b[39m\u001b[39m\"\u001b[39m]\n",
      "File \u001b[0;32m~/Documents/Courses/G3F/SoftwareEngineering/SLAM/DESC/desc/compute/utils.py:155\u001b[0m, in \u001b[0;36mget_data_deps.<locals>._get_deps_1_key\u001b[0;34m(key)\u001b[0m\n\u001b[1;32m    153\u001b[0m     \u001b[39mif\u001b[39;00m \u001b[39m\"\u001b[39m\u001b[39mfull_with_axis_dependencies\u001b[39m\u001b[39m\"\u001b[39m \u001b[39min\u001b[39;00m data_index[p][key]:\n\u001b[1;32m    154\u001b[0m         \u001b[39mreturn\u001b[39;00m data_index[p][key][\u001b[39m\"\u001b[39m\u001b[39mfull_with_axis_dependencies\u001b[39m\u001b[39m\"\u001b[39m][\u001b[39m\"\u001b[39m\u001b[39mdata\u001b[39m\u001b[39m\"\u001b[39m]\n\u001b[0;32m--> 155\u001b[0m \u001b[39melif\u001b[39;00m \u001b[39m\"\u001b[39m\u001b[39mfull_dependencies\u001b[39m\u001b[39m\"\u001b[39m \u001b[39min\u001b[39;00m data_index[p][key]:\n\u001b[1;32m    156\u001b[0m     \u001b[39mreturn\u001b[39;00m data_index[p][key][\u001b[39m\"\u001b[39m\u001b[39mfull_dependencies\u001b[39m\u001b[39m\"\u001b[39m][\u001b[39m\"\u001b[39m\u001b[39mdata\u001b[39m\u001b[39m\"\u001b[39m]\n\u001b[1;32m    157\u001b[0m deps \u001b[39m=\u001b[39m data_index[p][key][\u001b[39m\"\u001b[39m\u001b[39mdependencies\u001b[39m\u001b[39m\"\u001b[39m][\u001b[39m\"\u001b[39m\u001b[39mdata\u001b[39m\u001b[39m\"\u001b[39m]\n",
      "\u001b[0;31mKeyError\u001b[0m: 'g_tt'"
     ]
    }
   ],
   "source": [
    "from desc.equilibrium.mirror_equilibrium import Equilibrium_mirror\n",
    "from desc.grid import LinearGrid\n",
    "from desc.compute.utils import get_transforms"
   ]
  },
  {
   "cell_type": "markdown",
   "metadata": {},
   "source": [
    "1. If creating a separate Equilibrium_mirror class, the class name needs to be added to all the parametrization arg in register_compute_fun, also potential errors in compute. Also need to modify compute.data_index file to register the mirror class.\n",
    "2. Switching to modifying the current Equilibrium class, so that both periodic and mirror equilibriums can be achieved."
   ]
  }
 ],
 "metadata": {
  "kernelspec": {
   "display_name": "desc-mirror",
   "language": "python",
   "name": "python3"
  },
  "language_info": {
   "codemirror_mode": {
    "name": "ipython",
    "version": 3
   },
   "file_extension": ".py",
   "mimetype": "text/x-python",
   "name": "python",
   "nbconvert_exporter": "python",
   "pygments_lexer": "ipython3",
   "version": "3.11.5"
  }
 },
 "nbformat": 4,
 "nbformat_minor": 2
}
