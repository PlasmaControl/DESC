{
 "cells": [
  {
   "cell_type": "code",
   "execution_count": 2,
   "id": "278060aa-e7f1-4ca3-abb7-99c992fd44d2",
   "metadata": {},
   "outputs": [],
   "source": [
    "### SAME imports as Xu's fixed version\n",
    "\n",
    "from desc.transform import Transform\n",
    "from desc.equilibrium import Equilibrium\n",
    "from desc.basis import ChebyshevZernikeBasis, chebyshev_z\n",
    "from desc.compute import compute\n",
    "from desc.grid import LinearGrid, ConcentricGrid, QuadratureGrid, Grid\n",
    "from desc.compute.utils import get_transforms\n",
    "from desc.objectives import (\n",
    "    FixEndCapLambda,\n",
    "    FixEndCapR,\n",
    "    FixEndCapZ,\n",
    "    FixBoundaryR,\n",
    "    FixBoundaryZ,\n",
    "    FixPsi,\n",
    "    FixPressure,\n",
    "    FixIota,\n",
    "    ForceBalance,\n",
    "    ObjectiveFunction,\n",
    "    CurrentDensity,\n",
    ")\n",
    "import numpy as np\n",
    "from desc.optimize import Optimizer\n",
    "from desc.profiles import PowerSeriesProfile\n",
    "from desc.geometry import FourierRZToroidalSurface\n",
    "from scipy.constants import mu_0\n",
    "\n",
    "\n",
    "def chebygrid(N_grid):\n",
    "    return np.concatenate(\n",
    "        (\n",
    "            [0],\n",
    "            (-np.cos((2 * np.arange(N_grid) + 1) * np.pi / (2 * N_grid)) + 1) * np.pi,\n",
    "            [2 * np.pi],\n",
    "        )\n",
    "    )\n",
    "\n",
    "\n",
    "def grid_gen(L_grid, M_grid, N_grid, node_pattern=\"jacobi\"):\n",
    "    LMnodes = ConcentricGrid(L=L_grid, M=M_grid, N=0, node_pattern=node_pattern).nodes[\n",
    "        :, :2\n",
    "    ]\n",
    "    Nnodes = chebygrid(N_grid)\n",
    "    lm = np.tile(LMnodes, (Nnodes.size, 1))\n",
    "    n = np.tile(Nnodes.reshape(-1, 1), (1, LMnodes.shape[0])).reshape(-1, 1)\n",
    "    nodes = np.concatenate((lm, n), axis=1)\n",
    "\n",
    "    # RG: weights and spacing defined here\n",
    "    # just for the sake of compilation. Must be checked\n",
    "    weights = np.ones(nodes.shape[0])\n",
    "    spacing = np.ones_like(nodes)\n",
    "\n",
    "    spacing[1:, 1] = np.diff(nodes[:, 1])\n",
    "    spacing[1:, 2] = np.diff(nodes[:, 2])\n",
    "\n",
    "    return Grid(nodes, spacing=spacing, weights=weights)\n",
    "\n",
    "\n",
    "def get_lm_mode(basis, coeff, zeta, L, M, func_zeta=chebyshev_z):\n",
    "    modes = basis.modes\n",
    "    lm = 0\n",
    "    for i, (l, m, n) in enumerate(modes):\n",
    "        if l == L and m == M:\n",
    "            lm += func_zeta(zeta, n) * coeff[i]\n",
    "    return lm"
   ]
  },
  {
   "cell_type": "code",
   "execution_count": 3,
   "id": "c976b94d-a66d-4733-b234-8eccdbf04a77",
   "metadata": {},
   "outputs": [],
   "source": [
    "# adding symmetry obj\n",
    "\n",
    "from desc.objectives import (\n",
    "    MatchEndCapR,\n",
    "    MatchEndCapZ,\n",
    "    MatchEndCapLambda,\n",
    ")"
   ]
  },
  {
   "cell_type": "code",
   "execution_count": null,
   "id": "6e59c1de-5dde-4c77-82a2-5d0e69a5544a",
   "metadata": {},
   "outputs": [],
   "source": []
  },
  {
   "cell_type": "code",
   "execution_count": null,
   "id": "5ca98d16-277a-484b-90f9-8bbbd099b5c4",
   "metadata": {},
   "outputs": [],
   "source": []
  },
  {
   "cell_type": "code",
   "execution_count": 6,
   "id": "fb31fb86-8e2b-4f2e-87e3-eb5cd155042d",
   "metadata": {},
   "outputs": [],
   "source": [
    "### from free b. stellarator example, not all needed\n",
    "import numpy as np\n",
    "import matplotlib.pyplot as plt\n",
    "\n",
    "import desc\n",
    "from desc.magnetic_fields import (\n",
    "    FourierCurrentPotentialField,\n",
    "    SplineMagneticField,\n",
    "    field_line_integrate,\n",
    ")\n",
    "from desc.grid import LinearGrid\n",
    "from desc.geometry import FourierRZToroidalSurface\n",
    "from desc.equilibrium import Equilibrium\n",
    "\n",
    "from desc.objectives import (\n",
    "    BoundaryError,\n",
    "    VacuumBoundaryError,\n",
    "    FixBoundaryR,\n",
    "    FixBoundaryZ,\n",
    "    FixIota,\n",
    "    FixCurrent,\n",
    "    FixPressure,\n",
    "    FixPsi,\n",
    "    ForceBalance,\n",
    "    ObjectiveFunction,\n",
    ")\n",
    "from desc.profiles import PowerSeriesProfile\n",
    "from desc.vmec import VMECIO"
   ]
  },
  {
   "cell_type": "code",
   "execution_count": null,
   "id": "2d9f0b21-6059-42a5-b44d-d3f7be5ac31c",
   "metadata": {},
   "outputs": [],
   "source": []
  },
  {
   "cell_type": "code",
   "execution_count": null,
   "id": "085e0a11-76f5-4f57-b543-e0e4b3016313",
   "metadata": {},
   "outputs": [],
   "source": []
  },
  {
   "cell_type": "code",
   "execution_count": 9,
   "id": "5c97af7b-3746-4bd4-b009-c76dac4fa5f2",
   "metadata": {},
   "outputs": [],
   "source": [
    "from desc.coils import MixedCoilSet"
   ]
  },
  {
   "cell_type": "code",
   "execution_count": 10,
   "id": "3b2b55a3-88fd-45cb-b021-376845d069c7",
   "metadata": {},
   "outputs": [],
   "source": [
    "ext_field = MixedCoilSet.from_makegrid_coilfile(\"simple_coils_MR_9.coils\")"
   ]
  },
  {
   "cell_type": "code",
   "execution_count": null,
   "id": "f8b4f403-f975-4a47-aa60-2677e4452a6f",
   "metadata": {},
   "outputs": [],
   "source": []
  },
  {
   "cell_type": "code",
   "execution_count": 12,
   "id": "35cc3591-68b6-4a87-be8f-912f0cad5e34",
   "metadata": {},
   "outputs": [],
   "source": [
    "# SplineMagneticField.from_field()"
   ]
  },
  {
   "cell_type": "code",
   "execution_count": 13,
   "id": "7ba7b0ab-46b4-49a5-9da0-5e1c095b5f9a",
   "metadata": {},
   "outputs": [],
   "source": [
    "# first solve fixed B as an initial guess"
   ]
  },
  {
   "cell_type": "code",
   "execution_count": 14,
   "id": "f558e43e-ab63-42ff-a0b0-be26ff479de1",
   "metadata": {},
   "outputs": [],
   "source": [
    "# 0.05,0.15\n",
    "## test\n",
    "surf = FourierRZToroidalSurface(\n",
    "    R_lmn=[10, 1, -0.5],\n",
    "    modes_R=[[0, 0], [1, 0], [1, 2]],\n",
    "    Z_lmn=[0, -1, 0.5],\n",
    "    modes_Z=[[0, 0], [-1, 0], [-1, 2]],\n",
    "    NFP=1,\n",
    "    sym=False,\n",
    "    mirror=True,\n",
    ")\n",
    "\n",
    "\n",
    "# free boundary needs zero pressure\n",
    "# p = PowerSeriesProfile(params=[0.001 / mu_0, -0.001 / mu_0], modes=[0, 2])\n",
    "p = PowerSeriesProfile(params=[0.00 / mu_0, -0.00 / mu_0], modes=[0, 2])\n",
    "\n",
    "# iota = PowerSeriesProfile(params=[0.2, 0])\n",
    "iota = PowerSeriesProfile(params=[0, 0])\n",
    "\n",
    "# free boundary says it needs a current profile, try that instead of iota\n",
    "# current = PowerSeriesProfile(params=[0, 0])\n",
    "\n",
    "# but mirror opt needs iota profile"
   ]
  },
  {
   "cell_type": "code",
   "execution_count": 15,
   "id": "7a4def32-8701-4d6f-a86c-9b6f763c6288",
   "metadata": {},
   "outputs": [],
   "source": [
    "eq = Equilibrium(\n",
    "    surface=surf,\n",
    "    L=10,\n",
    "    M=1,\n",
    "    N=4,\n",
    "    mirror=True,\n",
    "    pressure=p,\n",
    "    iota=iota,\n",
    "    sym=False,\n",
    ")"
   ]
  },
  {
   "cell_type": "code",
   "execution_count": 16,
   "id": "34a4e717-5de6-46a1-a6ed-ba07bb16809f",
   "metadata": {},
   "outputs": [],
   "source": [
    "constraints = (\n",
    "    ForceBalance(eq=eq),\n",
    "    FixIota(eq=eq),\n",
    "    FixPressure(eq=eq),\n",
    "    FixPsi(eq=eq),\n",
    "    MatchEndCapR(eq=eq),\n",
    "    MatchEndCapZ(eq=eq),\n",
    "    MatchEndCapLambda(eq=eq),\n",
    ")"
   ]
  },
  {
   "cell_type": "code",
   "execution_count": 17,
   "id": "240caccb-44f7-4e92-91eb-52c253067510",
   "metadata": {},
   "outputs": [],
   "source": [
    "grid = grid_gen(10, 40, 20)"
   ]
  },
  {
   "cell_type": "code",
   "execution_count": 18,
   "id": "624aa825-a159-4ccb-915c-87b39fa40f28",
   "metadata": {},
   "outputs": [],
   "source": [
    "eq_init = eq\n",
    "# eq_init.solve(objective='force',constraints=constraints,verbos = 3)"
   ]
  },
  {
   "cell_type": "code",
   "execution_count": 19,
   "id": "11c1d0ae-694b-4760-98bc-e68524e788aa",
   "metadata": {},
   "outputs": [
    {
     "data": {
      "text/plain": [
       "(<Figure size 1080.81x720.54 with 12 Axes>,\n",
       " array([<Axes: title={'center': '$|\\\\mathbf{J} \\\\times \\\\mathbf{B} - \\\\nabla p|$ / $\\\\langle |\\\\nabla |B|^{2}/(2\\\\mu_0)| \\\\rangle_{vol}$, $\\\\phi \\\\cdot N_{FP}/2\\\\pi = 0.000$'}, xlabel='$R ~(\\\\mathrm{m})$', ylabel='$Z ~(\\\\mathrm{m})$'>,\n",
       "        <Axes: title={'center': '$|\\\\mathbf{J} \\\\times \\\\mathbf{B} - \\\\nabla p|$ / $\\\\langle |\\\\nabla |B|^{2}/(2\\\\mu_0)| \\\\rangle_{vol}$, $\\\\phi \\\\cdot N_{FP}/2\\\\pi = 0.167$'}, xlabel='$R ~(\\\\mathrm{m})$', ylabel='$Z ~(\\\\mathrm{m})$'>,\n",
       "        <Axes: title={'center': '$|\\\\mathbf{J} \\\\times \\\\mathbf{B} - \\\\nabla p|$ / $\\\\langle |\\\\nabla |B|^{2}/(2\\\\mu_0)| \\\\rangle_{vol}$, $\\\\phi \\\\cdot N_{FP}/2\\\\pi = 0.333$'}, xlabel='$R ~(\\\\mathrm{m})$', ylabel='$Z ~(\\\\mathrm{m})$'>,\n",
       "        <Axes: title={'center': '$|\\\\mathbf{J} \\\\times \\\\mathbf{B} - \\\\nabla p|$ / $\\\\langle |\\\\nabla |B|^{2}/(2\\\\mu_0)| \\\\rangle_{vol}$, $\\\\phi \\\\cdot N_{FP}/2\\\\pi = 0.500$'}, xlabel='$R ~(\\\\mathrm{m})$', ylabel='$Z ~(\\\\mathrm{m})$'>,\n",
       "        <Axes: title={'center': '$|\\\\mathbf{J} \\\\times \\\\mathbf{B} - \\\\nabla p|$ / $\\\\langle |\\\\nabla |B|^{2}/(2\\\\mu_0)| \\\\rangle_{vol}$, $\\\\phi \\\\cdot N_{FP}/2\\\\pi = 0.667$'}, xlabel='$R ~(\\\\mathrm{m})$', ylabel='$Z ~(\\\\mathrm{m})$'>,\n",
       "        <Axes: title={'center': '$|\\\\mathbf{J} \\\\times \\\\mathbf{B} - \\\\nabla p|$ / $\\\\langle |\\\\nabla |B|^{2}/(2\\\\mu_0)| \\\\rangle_{vol}$, $\\\\phi \\\\cdot N_{FP}/2\\\\pi = 0.833$'}, xlabel='$R ~(\\\\mathrm{m})$', ylabel='$Z ~(\\\\mathrm{m})$'>],\n",
       "       dtype=object))"
      ]
     },
     "execution_count": 19,
     "metadata": {},
     "output_type": "execute_result"
    },
    {
     "data": {
      "image/png": "[encoded data removed]",
      "text/plain": [
       "<Figure size 1080.81x720.54 with 12 Axes>"
      ]
     },
     "metadata": {},
     "output_type": "display_data"
    }
   ],
   "source": [
    "from desc.plotting import *\n",
    "\n",
    "plot_section(eq_init, \"|F|\", norm_F=True, log=True)"
   ]
  },
  {
   "cell_type": "code",
   "execution_count": null,
   "id": "d33eeadc-4130-44bb-99dc-7a3fc81d375e",
   "metadata": {},
   "outputs": [],
   "source": []
  },
  {
   "cell_type": "code",
   "execution_count": 33,
   "id": "39b05cfc-be8b-4098-a123-d62a33129d91",
   "metadata": {},
   "outputs": [],
   "source": [
    "## Are coils and surface aligned?\n",
    "\n",
    "coil_data = ext_field.compute([\"X\", \"Y\", \"Z\"])\n",
    "data = eq_init.compute([\"X\", \"Y\", \"Z\"], grid=grid)"
   ]
  },
  {
   "cell_type": "code",
   "execution_count": 34,
   "id": "6596cfdc-28b9-4d65-af58-c9458665ee88",
   "metadata": {},
   "outputs": [
    {
     "data": {
      "text/plain": [
       "[<matplotlib.lines.Line2D at 0x32dd62e90>]"
      ]
     },
     "execution_count": 34,
     "metadata": {},
     "output_type": "execute_result"
    },
    {
     "data": {
      "image/png": "[encoded data removed]",
      "text/plain": [
       "<Figure size 432.324x288.216 with 1 Axes>"
      ]
     },
     "metadata": {},
     "output_type": "display_data"
    }
   ],
   "source": [
    "plt.figure()\n",
    "\n",
    "for coils in coil_data:\n",
    "    x = coils[\"X\"]\n",
    "    y = coils[\"Y\"]\n",
    "    z = coils[\"Z\"]\n",
    "    plt.plot(y, x)\n",
    "\n",
    "x = data[\"X\"]\n",
    "y = data[\"Y\"]\n",
    "z = data[\"Z\"]\n",
    "plt.plot(y, x, \".\")"
   ]
  },
  {
   "cell_type": "code",
   "execution_count": null,
   "id": "80ce2d15-fe5e-4ec7-901a-3e487caf2f67",
   "metadata": {},
   "outputs": [],
   "source": []
  },
  {
   "cell_type": "code",
   "execution_count": null,
   "id": "9aed7d8a-96d9-402f-82ef-09959fa09769",
   "metadata": {},
   "outputs": [],
   "source": []
  },
  {
   "cell_type": "code",
   "execution_count": 39,
   "id": "24671893-c9be-401d-a05a-543b045c9ace",
   "metadata": {},
   "outputs": [],
   "source": [
    "eq2 = eq_init.copy()"
   ]
  },
  {
   "cell_type": "code",
   "execution_count": null,
   "id": "3d030ca6-5d20-41f3-9341-b9b9cfa14b44",
   "metadata": {},
   "outputs": [],
   "source": []
  },
  {
   "cell_type": "code",
   "execution_count": 42,
   "id": "2a844722-27c4-4a98-945c-65b31eda8959",
   "metadata": {},
   "outputs": [],
   "source": [
    "constraints = (\n",
    "    ForceBalance(eq=eq2),\n",
    "    FixIota(eq=eq2),\n",
    "    FixPressure(eq=eq2),\n",
    "    FixPsi(eq=eq2),\n",
    "    MatchEndCapR(eq=eq2),\n",
    "    MatchEndCapZ(eq=eq2),\n",
    "    MatchEndCapLambda(eq=eq2),\n",
    ")"
   ]
  },
  {
   "cell_type": "code",
   "execution_count": null,
   "id": "f3405a7d-a485-4caa-95ff-59d9774981d1",
   "metadata": {},
   "outputs": [],
   "source": []
  },
  {
   "cell_type": "code",
   "execution_count": 44,
   "id": "d458fee4-e5ee-4b6d-aa2b-4b90f4e4041e",
   "metadata": {},
   "outputs": [],
   "source": [
    "# For a standard free boundary solve, we set field_fixed=True. For single stage optimization, we would set to False\n",
    "objective = ObjectiveFunction(BoundaryError(eq=eq2, field=ext_field, field_fixed=True))"
   ]
  },
  {
   "cell_type": "code",
   "execution_count": null,
   "id": "4f680a9c-3dc6-4dbf-9cc0-028f34909635",
   "metadata": {},
   "outputs": [],
   "source": []
  },
  {
   "cell_type": "code",
   "execution_count": 47,
   "id": "b25e7109-d1eb-40b8-837c-00b29cb8e20c",
   "metadata": {},
   "outputs": [
    {
     "name": "stdout",
     "output_type": "stream",
     "text": [
      "Precomputing transforms\n"
     ]
    },
    {
     "data": {
      "text/plain": [
       "[<matplotlib.lines.Line2D at 0x33493ed50>]"
      ]
     },
     "execution_count": 47,
     "metadata": {},
     "output_type": "execute_result"
    },
    {
     "data": {
      "image/png": "[encoded data removed]",
      "text/plain": [
       "<Figure size 432.324x288.216 with 1 Axes>"
      ]
     },
     "metadata": {},
     "output_type": "display_data"
    }
   ],
   "source": [
    "fb = BoundaryError(eq=eq2, field=ext_field, field_fixed=True)\n",
    "fb.build()\n",
    "fb_ = fb.compute(eq.params_dict)\n",
    "plt.plot(fb_)"
   ]
  },
  {
   "cell_type": "code",
   "execution_count": null,
   "id": "941f9fa8-94cc-4e26-9be9-742ec685ec9a",
   "metadata": {},
   "outputs": [],
   "source": []
  },
  {
   "cell_type": "code",
   "execution_count": 50,
   "id": "cb3c1d5b-9c43-4cf2-81b6-6ceb73169ebd",
   "metadata": {},
   "outputs": [
    {
     "name": "stdout",
     "output_type": "stream",
     "text": [
      "Building objective: Boundary error\n",
      "Precomputing transforms\n",
      "Timer: Precomputing transforms = 1.33 ms\n",
      "Timer: Objective build = 1.02 sec\n",
      "Building objective: force\n",
      "Precomputing transforms\n",
      "Timer: Precomputing transforms = 578 ms\n",
      "Timer: Objective build = 631 ms\n",
      "Timer: Objective build = 757 us\n",
      "Timer: Eq Update LinearConstraintProjection build = 2.02 sec\n",
      "Timer: Proximal projection build = 4.40 sec\n",
      "Building objective: fixed iota\n",
      "Building objective: fixed pressure\n",
      "Building objective: fixed Psi\n",
      "Building objective: MatchR at Endcaps\n",
      "Building objective: matchZ at Endcaps\n",
      "Building objective: MatchL at Endcaps\n",
      "Timer: Objective build = 351 ms\n",
      "Timer: LinearConstraintProjection build = 1.20 sec\n",
      "Number of parameters: 30\n",
      "Number of objectives: 170\n",
      "Timer: Initializing the optimization = 5.99 sec\n",
      "\n",
      "Starting optimization\n",
      "Using method: proximal-lsq-exact\n",
      "   Iteration     Total nfev        Cost      Cost reduction    Step norm     Optimality   \n",
      "       0              1          1.598e+02                                    1.752e+01   \n",
      "       1              3          9.657e+00      1.501e+02      1.385e-01      4.363e+00   \n",
      "       2              4          3.251e-01      9.332e+00      3.421e-01      6.385e-01   \n",
      "       3              6          1.419e-01      1.832e-01      1.887e-01      2.250e-01   \n",
      "       4              9          8.316e-02      5.877e-02      1.221e-02      5.158e-02   \n",
      "       5             11          8.286e-02      2.988e-04      9.094e-03      4.467e-02   \n",
      "       6             12          8.115e-02      1.713e-03      1.738e-03      1.075e-02   \n",
      "       7             14          8.095e-02      1.994e-04      9.080e-04      4.671e-03   \n",
      "       8             15          8.076e-02      1.936e-04      1.702e-03      4.372e-03   \n",
      "       9             16          8.042e-02      3.351e-04      3.928e-03      6.386e-03   \n",
      "      10             17          7.990e-02      5.218e-04      8.675e-03      9.313e-03   \n",
      "      11             20          7.971e-02      1.896e-04      9.517e-04      7.838e-03   \n",
      "      12             21          7.944e-02      2.722e-04      1.743e-03      1.511e-02   \n",
      "      13             22          7.919e-02      2.459e-04      3.533e-03      7.340e-03   \n",
      "      14             23          7.916e-02      3.032e-05      4.179e-03      1.052e-02   \n",
      "      15             24          7.907e-02      8.845e-05      1.024e-03      5.197e-03   \n",
      "      16             48          7.907e-02      0.000e+00      0.000e+00      5.197e-03   \n",
      "Warning: A bad approximation caused failure to predict improvement.\n",
      "         Current function value: 7.907e-02\n",
      "         Total delta_x: 3.765e-01\n",
      "         Iterations: 16\n",
      "         Function evaluations: 48\n",
      "         Jacobian evaluations: 16\n",
      "Timer: Solution time = 32.0 sec\n",
      "Timer: Avg time per step = 1.88 sec\n",
      "==============================================================================================================\n",
      "                                                                 Start  -->   End\n",
      "Total (sum of squares):                                      1.598e+02  -->   7.907e-02, \n",
      "Maximum absolute Boundary normal field error:                1.640e+00  -->   7.207e-01 (T*m^2)\n",
      "Minimum absolute Boundary normal field error:                4.313e-04  -->   3.501e-05 (T*m^2)\n",
      "Average absolute Boundary normal field error:                1.230e-01  -->   6.754e-02 (T*m^2)\n",
      "Maximum absolute Boundary normal field error:                4.122e-01  -->   1.811e-01 (normalized)\n",
      "Minimum absolute Boundary normal field error:                1.084e-04  -->   8.799e-06 (normalized)\n",
      "Average absolute Boundary normal field error:                3.091e-02  -->   1.698e-02 (normalized)\n",
      "Maximum absolute Boundary magnetic pressure error:           1.856e+01  -->   3.038e-01 (T^2*m^2)\n",
      "Minimum absolute Boundary magnetic pressure error:           2.193e-02  -->   8.533e-03 (T^2*m^2)\n",
      "Average absolute Boundary magnetic pressure error:           1.163e+00  -->   4.780e-02 (T^2*m^2)\n",
      "Maximum absolute Boundary magnetic pressure error:           1.172e+01  -->   1.919e-01 (normalized)\n",
      "Minimum absolute Boundary magnetic pressure error:           1.385e-02  -->   5.390e-03 (normalized)\n",
      "Average absolute Boundary magnetic pressure error:           7.344e-01  -->   3.019e-02 (normalized)\n",
      "Maximum absolute Force error:                                9.843e+05  -->   1.584e+05 (N)\n",
      "Minimum absolute Force error:                                4.778e-13  -->   9.494e-02 (N)\n",
      "Average absolute Force error:                                1.873e+04  -->   2.412e+03 (N)\n",
      "Maximum absolute Force error:                                7.916e-02  -->   1.274e-02 (normalized)\n",
      "Minimum absolute Force error:                                3.843e-20  -->   7.635e-09 (normalized)\n",
      "Average absolute Force error:                                1.506e-03  -->   1.940e-04 (normalized)\n",
      "Fixed iota profile error:                                    0.000e+00  -->   0.000e+00 (dimensionless)\n",
      "Fixed pressure profile error:                                0.000e+00  -->   0.000e+00 (Pa)\n",
      "Fixed Psi error:                                             0.000e+00  -->   0.000e+00 (Wb)\n",
      "Fixed-R sum modes error                                      0.000e+00  -->   3.259e-01 (m)\n",
      "Fixed-Z sum modes error                                      0.000e+00  -->   2.879e-01 (m)\n",
      "Fixed-L sum modes error:                                     0.000e+00  -->   1.212e+00 (m)\n",
      "==============================================================================================================\n",
      "\n"
     ]
    }
   ],
   "source": [
    "# we know this is a pretty simple shape so we'll only use |m| <= 2\n",
    "# R_modes = eq2.surface.R_basis.modes[np.max(np.abs(eq2.surface.R_basis.modes), 1) > 2, :]\n",
    "# Z_modes = eq2.surface.Z_basis.modes[np.max(np.abs(eq2.surface.Z_basis.modes), 1) > 2, :]\n",
    "# bdry_constraints = (\n",
    "#    FixBoundaryR(eq=eq2, modes=R_modes),\n",
    "#    FixBoundaryZ(eq=eq2, modes=Z_modes),\n",
    "# )\n",
    "eq2, out = eq2.optimize(\n",
    "    objective,\n",
    "    constraints,  # + bdry_constraints,\n",
    "    optimizer=\"proximal-lsq-exact\",\n",
    "    ftol=1e-8,\n",
    "    xtol=1e-16,\n",
    "    gtol=1e-16,\n",
    "    maxiter=50,\n",
    "    verbose=3,\n",
    ")"
   ]
  },
  {
   "cell_type": "code",
   "execution_count": null,
   "id": "60b855fa-7d80-439d-8bcc-a34bfe16f458",
   "metadata": {},
   "outputs": [],
   "source": []
  },
  {
   "cell_type": "code",
   "execution_count": 52,
   "id": "57d4d99f-6839-434f-8a46-4a385adfadd1",
   "metadata": {},
   "outputs": [
    {
     "data": {
      "text/plain": [
       "(<Figure size 1080.81x720.54 with 12 Axes>,\n",
       " array([<Axes: title={'center': '$|\\\\mathbf{J} \\\\times \\\\mathbf{B} - \\\\nabla p|$ / $\\\\langle |\\\\nabla |B|^{2}/(2\\\\mu_0)| \\\\rangle_{vol}$, $\\\\phi \\\\cdot N_{FP}/2\\\\pi = 0.000$'}, xlabel='$R ~(\\\\mathrm{m})$', ylabel='$Z ~(\\\\mathrm{m})$'>,\n",
       "        <Axes: title={'center': '$|\\\\mathbf{J} \\\\times \\\\mathbf{B} - \\\\nabla p|$ / $\\\\langle |\\\\nabla |B|^{2}/(2\\\\mu_0)| \\\\rangle_{vol}$, $\\\\phi \\\\cdot N_{FP}/2\\\\pi = 0.167$'}, xlabel='$R ~(\\\\mathrm{m})$', ylabel='$Z ~(\\\\mathrm{m})$'>,\n",
       "        <Axes: title={'center': '$|\\\\mathbf{J} \\\\times \\\\mathbf{B} - \\\\nabla p|$ / $\\\\langle |\\\\nabla |B|^{2}/(2\\\\mu_0)| \\\\rangle_{vol}$, $\\\\phi \\\\cdot N_{FP}/2\\\\pi = 0.333$'}, xlabel='$R ~(\\\\mathrm{m})$', ylabel='$Z ~(\\\\mathrm{m})$'>,\n",
       "        <Axes: title={'center': '$|\\\\mathbf{J} \\\\times \\\\mathbf{B} - \\\\nabla p|$ / $\\\\langle |\\\\nabla |B|^{2}/(2\\\\mu_0)| \\\\rangle_{vol}$, $\\\\phi \\\\cdot N_{FP}/2\\\\pi = 0.500$'}, xlabel='$R ~(\\\\mathrm{m})$', ylabel='$Z ~(\\\\mathrm{m})$'>,\n",
       "        <Axes: title={'center': '$|\\\\mathbf{J} \\\\times \\\\mathbf{B} - \\\\nabla p|$ / $\\\\langle |\\\\nabla |B|^{2}/(2\\\\mu_0)| \\\\rangle_{vol}$, $\\\\phi \\\\cdot N_{FP}/2\\\\pi = 0.667$'}, xlabel='$R ~(\\\\mathrm{m})$', ylabel='$Z ~(\\\\mathrm{m})$'>,\n",
       "        <Axes: title={'center': '$|\\\\mathbf{J} \\\\times \\\\mathbf{B} - \\\\nabla p|$ / $\\\\langle |\\\\nabla |B|^{2}/(2\\\\mu_0)| \\\\rangle_{vol}$, $\\\\phi \\\\cdot N_{FP}/2\\\\pi = 0.833$'}, xlabel='$R ~(\\\\mathrm{m})$', ylabel='$Z ~(\\\\mathrm{m})$'>],\n",
       "       dtype=object))"
      ]
     },
     "execution_count": 52,
     "metadata": {},
     "output_type": "execute_result"
    },
    {
     "data": {
      "image/png": "[encoded data removed]",
      "text/plain": [
       "<Figure size 1080.81x720.54 with 12 Axes>"
      ]
     },
     "metadata": {},
     "output_type": "display_data"
    }
   ],
   "source": [
    "plot_section(eq2, \"|F|\", norm_F=True, log=True)"
   ]
  },
  {
   "cell_type": "code",
   "execution_count": 55,
   "id": "891cc44c-0fb7-4d56-b0ea-6b730fca406c",
   "metadata": {},
   "outputs": [],
   "source": [
    "## Are coils and surface aligned?\n",
    "\n",
    "coil_data = ext_field.compute([\"X\", \"Y\", \"Z\"])\n",
    "data = eq2.compute([\"X\", \"Y\", \"Z\"], grid=grid)"
   ]
  },
  {
   "cell_type": "code",
   "execution_count": 57,
   "id": "0fdbc683-1b93-4e30-a5cc-582f606db8d2",
   "metadata": {},
   "outputs": [
    {
     "data": {
      "text/plain": [
       "[<matplotlib.lines.Line2D at 0x32f3c7610>]"
      ]
     },
     "execution_count": 57,
     "metadata": {},
     "output_type": "execute_result"
    },
    {
     "data": {
      "image/png": "[encoded data removed]",
      "text/plain": [
       "<Figure size 432.324x288.216 with 1 Axes>"
      ]
     },
     "metadata": {},
     "output_type": "display_data"
    }
   ],
   "source": [
    "plt.figure()\n",
    "\n",
    "for coils in coil_data:\n",
    "    x = coils[\"X\"]\n",
    "    y = coils[\"Y\"]\n",
    "    z = coils[\"Z\"]\n",
    "    plt.plot(y, x)\n",
    "\n",
    "x = data[\"X\"]\n",
    "y = data[\"Y\"]\n",
    "z = data[\"Z\"]\n",
    "plt.plot(y, x, \".\")"
   ]
  },
  {
   "cell_type": "code",
   "execution_count": null,
   "id": "c340e1e8-d7f0-411c-8dfc-bb852037cd90",
   "metadata": {},
   "outputs": [],
   "source": []
  },
  {
   "cell_type": "code",
   "execution_count": null,
   "id": "44befa8c-257b-4135-b0bf-30acbb5c1fc5",
   "metadata": {},
   "outputs": [],
   "source": []
  },
  {
   "cell_type": "code",
   "execution_count": null,
   "id": "c5320d5e-40d7-47f2-b0fe-2c7507da0f20",
   "metadata": {},
   "outputs": [],
   "source": []
  },
  {
   "cell_type": "code",
   "execution_count": null,
   "id": "61b4a09a-0c98-45b8-9062-a91b133dc594",
   "metadata": {},
   "outputs": [],
   "source": []
  },
  {
   "cell_type": "code",
   "execution_count": null,
   "id": "9c0449fe-9cb3-4072-98f2-e0a0d69e8bc8",
   "metadata": {},
   "outputs": [],
   "source": []
  },
  {
   "cell_type": "code",
   "execution_count": null,
   "id": "4fa0f2e4-949e-4c26-8b6a-4b37b1a854ad",
   "metadata": {},
   "outputs": [],
   "source": [
    "coords[\"X\"].shape"
   ]
  },
  {
   "cell_type": "code",
   "execution_count": null,
   "id": "b1ee2d0c-6135-49e0-803a-32e66244a5ca",
   "metadata": {},
   "outputs": [],
   "source": [
    "plt.figure()\n",
    "plt.plot(coords[\"Y\"], coords[\"Z\"], \".\")"
   ]
  },
  {
   "cell_type": "code",
   "execution_count": null,
   "id": "db3bcb29-7013-45d4-9dfc-9366e0495765",
   "metadata": {},
   "outputs": [],
   "source": []
  },
  {
   "cell_type": "code",
   "execution_count": 68,
   "id": "6f50ed90-266e-4c84-8d59-9097b6c2b902",
   "metadata": {},
   "outputs": [],
   "source": []
  },
  {
   "cell_type": "code",
   "execution_count": 175,
   "id": "b6d9a9d4-15ca-49eb-96bd-186c122ebe96",
   "metadata": {},
   "outputs": [],
   "source": [
    "# eq.current = eq.iota"
   ]
  },
  {
   "cell_type": "code",
   "execution_count": 176,
   "id": "200ffecd-d988-4979-b8c2-08502beb5926",
   "metadata": {},
   "outputs": [
    {
     "data": {
      "text/plain": [
       "PowerSeriesProfile at 0x3b8aeaa50 (name=, basis=PowerSeries at 0x32fc61580 (L=5, M=0, N=0, NFP=1, sym=even, spectral_indexing=linear))"
      ]
     },
     "execution_count": 176,
     "metadata": {},
     "output_type": "execute_result"
    }
   ],
   "source": [
    "eq.iota"
   ]
  },
  {
   "cell_type": "code",
   "execution_count": 177,
   "id": "250d0942-2600-427a-b160-cd1bd6198298",
   "metadata": {},
   "outputs": [],
   "source": [
    "eq.current"
   ]
  },
  {
   "cell_type": "code",
   "execution_count": null,
   "id": "a55cb641-a474-4390-9435-7622e5abfa4e",
   "metadata": {},
   "outputs": [],
   "source": []
  },
  {
   "cell_type": "code",
   "execution_count": null,
   "id": "924189af-0b8b-450c-aefa-68a5b47a13d7",
   "metadata": {},
   "outputs": [],
   "source": []
  },
  {
   "cell_type": "code",
   "execution_count": 178,
   "id": "6697882a-b7d7-47fe-9c39-6d3a76388b46",
   "metadata": {},
   "outputs": [],
   "source": [
    "eq2 = eq.copy()"
   ]
  },
  {
   "cell_type": "code",
   "execution_count": 179,
   "id": "5d14007e-483c-4f17-9c95-416d3a9554d2",
   "metadata": {},
   "outputs": [],
   "source": [
    "constraints = (\n",
    "    ForceBalance(eq=eq2),\n",
    "    FixCurrent(eq=eq2),\n",
    "    FixPressure(eq=eq2),\n",
    "    FixPsi(eq=eq2),\n",
    ")"
   ]
  },
  {
   "cell_type": "code",
   "execution_count": 193,
   "id": "a4bbf0ef-e717-4a09-b7d3-71bf2fee077a",
   "metadata": {},
   "outputs": [],
   "source": [
    "objective = ObjectiveFunction(\n",
    "    VacuumBoundaryError(eq=eq2, field=ext_field, field_fixed=True)\n",
    ")"
   ]
  },
  {
   "cell_type": "code",
   "execution_count": 190,
   "id": "906ab6a0-e11c-42ee-af0e-dea1a757409f",
   "metadata": {},
   "outputs": [
    {
     "data": {
      "text/plain": [
       "<bound method ObjectiveFunction.x of <desc.objectives.objective_funs.ObjectiveFunction object at 0x3cf1f2a80>>"
      ]
     },
     "execution_count": 190,
     "metadata": {},
     "output_type": "execute_result"
    }
   ],
   "source": [
    "objective.x"
   ]
  },
  {
   "cell_type": "code",
   "execution_count": null,
   "id": "4ff83464-6b22-47c6-8e70-0e3cd6438215",
   "metadata": {},
   "outputs": [],
   "source": []
  },
  {
   "cell_type": "code",
   "execution_count": 181,
   "id": "2abcb523-cb4e-4d68-b6a9-4fda9dc5c63c",
   "metadata": {},
   "outputs": [
    {
     "name": "stdout",
     "output_type": "stream",
     "text": [
      "Building objective: Vacuum boundary error\n"
     ]
    },
    {
     "name": "stderr",
     "output_type": "stream",
     "text": [
      "/Users/djinpatch/CODE/DESC/desc/utils.py:537: UserWarning:\n",
      "\n",
      "Current is non-zero (max 885140.1396650695 A), VacuumBoundaryError will be incorrect.\n",
      "\n"
     ]
    },
    {
     "name": "stdout",
     "output_type": "stream",
     "text": [
      "Precomputing transforms\n",
      "Timer: Precomputing transforms = 19.3 ms\n",
      "Timer: Objective build = 216 ms\n",
      "Building objective: force\n",
      "Precomputing transforms\n",
      "Timer: Precomputing transforms = 25.1 ms\n",
      "Timer: Objective build = 92.2 ms\n"
     ]
    },
    {
     "name": "stderr",
     "output_type": "stream",
     "text": [
      "/Users/djinpatch/CODE/DESC/desc/utils.py:537: UserWarning:\n",
      "\n",
      "\n",
      "Not equal to tolerance rtol=3e-14, atol=3e-14\n",
      "Incompatible constraints detected, cannot satisfy constraint <desc.objectives.linear_objectives.BoundaryRSelfConsistency object at 0x3d017b5f0>.\n",
      "Mismatched elements: 3 / 45 (6.67%)\n",
      "Max absolute difference: 4.54747351e-13\n",
      "Max relative difference: inf\n",
      " x: array([-5.697656e-14,  2.052683e-48, -4.547474e-13, -4.607426e-15,\n",
      "       -1.749857e-14,  1.282851e-14, -3.192332e-17, -8.966388e-15,\n",
      "        2.136454e-14,  5.238865e-15,  2.866845e-14,  4.989018e-15,...\n",
      " y: array([0, 0, 0, 0, 0, 0, 0, 0, 0, 0, 0, 0, 0, 0, 0, 0, 0, 0, 0, 0, 0, 0,\n",
      "       0, 0, 0, 0, 0, 0, 0, 0, 0, 0, 0, 0, 0, 0, 0, 0, 0, 0, 0, 0, 0, 0,\n",
      "       0])\n",
      " This may indicate incompatible constraints, or be due to floating point error.\n",
      "\n",
      "/Users/djinpatch/CODE/DESC/desc/utils.py:537: UserWarning:\n",
      "\n",
      "\n",
      "Not equal to tolerance rtol=3e-14, atol=3e-14\n",
      "Incompatible constraints detected, cannot satisfy constraint <desc.objectives.linear_objectives.AxisRSelfConsistency object at 0x3d0153170>.\n",
      "Mismatched elements: 1 / 9 (11.1%)\n",
      "Max absolute difference: 2.13162821e-13\n",
      "Max relative difference: inf\n",
      " x: array([-2.131628e-13,  1.118581e-14, -7.482806e-16,  2.013216e-16,\n",
      "       -3.456990e-16, -5.236861e-16, -3.863452e-16,  1.947111e-16,\n",
      "       -5.308324e-18])\n",
      " y: array([0, 0, 0, 0, 0, 0, 0, 0, 0])\n",
      " This may indicate incompatible constraints, or be due to floating point error.\n",
      "\n"
     ]
    },
    {
     "name": "stdout",
     "output_type": "stream",
     "text": [
      "Timer: Proximal projection build = 923 ms\n",
      "Building objective: lcfs R\n",
      "Building objective: lcfs Z\n",
      "Building objective: fixed-Psi\n",
      "Building objective: fixed-pressure\n",
      "Building objective: fixed-iota\n",
      "Timer: Objective build = 329 ms\n",
      "Timer: Linear constraint projection build = 362 ms\n",
      "Number of parameters: 0\n",
      "Number of objectives: 594\n",
      "Starting optimization\n",
      "Using method: proximal-lsq-exact\n"
     ]
    },
    {
     "ename": "ValueError",
     "evalue": "zero-size array to reduction operation max which has no identity",
     "output_type": "error",
     "traceback": [
      "\u001b[0;31m---------------------------------------------------------------------------\u001b[0m",
      "\u001b[0;31mValueError\u001b[0m                                Traceback (most recent call last)",
      "Cell \u001b[0;32mIn[181], line 17\u001b[0m\n\u001b[1;32m     12\u001b[0m bdry_constraints \u001b[38;5;241m=\u001b[39m (\n\u001b[1;32m     13\u001b[0m     FixBoundaryR(eq\u001b[38;5;241m=\u001b[39meq2),\u001b[38;5;66;03m#, modes=R_modes),\u001b[39;00m\n\u001b[1;32m     14\u001b[0m     FixBoundaryZ(eq\u001b[38;5;241m=\u001b[39meq2),\u001b[38;5;66;03m#, modes=Z_modes),\u001b[39;00m\n\u001b[1;32m     15\u001b[0m )\n\u001b[1;32m     16\u001b[0m \u001b[38;5;66;03m# optimize\u001b[39;00m\n\u001b[0;32m---> 17\u001b[0m eq2, out \u001b[38;5;241m=\u001b[39m eq2\u001b[38;5;241m.\u001b[39moptimize(\n\u001b[1;32m     18\u001b[0m     objective,\n\u001b[1;32m     19\u001b[0m     \u001b[38;5;66;03m#constraints ,#+ bdry_constraints,\u001b[39;00m\n\u001b[1;32m     20\u001b[0m     optimizer\u001b[38;5;241m=\u001b[39m\u001b[38;5;124m\"\u001b[39m\u001b[38;5;124mproximal-lsq-exact\u001b[39m\u001b[38;5;124m\"\u001b[39m,\n\u001b[1;32m     21\u001b[0m     verbose\u001b[38;5;241m=\u001b[39m\u001b[38;5;241m3\u001b[39m,\n\u001b[1;32m     22\u001b[0m     options\u001b[38;5;241m=\u001b[39m{},\n\u001b[1;32m     23\u001b[0m )\n",
      "File \u001b[0;32m~/CODE/DESC/desc/equilibrium/equilibrium.py:2015\u001b[0m, in \u001b[0;36mEquilibrium.optimize\u001b[0;34m(self, objective, constraints, optimizer, ftol, xtol, gtol, ctol, maxiter, x_scale, options, verbose, copy)\u001b[0m\n\u001b[1;32m   2012\u001b[0m \u001b[38;5;28;01mif\u001b[39;00m \u001b[38;5;129;01mnot\u001b[39;00m \u001b[38;5;28misinstance\u001b[39m(constraints, (\u001b[38;5;28mlist\u001b[39m, \u001b[38;5;28mtuple\u001b[39m)):\n\u001b[1;32m   2013\u001b[0m     constraints \u001b[38;5;241m=\u001b[39m \u001b[38;5;28mtuple\u001b[39m([constraints])\n\u001b[0;32m-> 2015\u001b[0m things, result \u001b[38;5;241m=\u001b[39m optimizer\u001b[38;5;241m.\u001b[39moptimize(\n\u001b[1;32m   2016\u001b[0m     \u001b[38;5;28mself\u001b[39m,\n\u001b[1;32m   2017\u001b[0m     objective,\n\u001b[1;32m   2018\u001b[0m     constraints,\n\u001b[1;32m   2019\u001b[0m     ftol\u001b[38;5;241m=\u001b[39mftol,\n\u001b[1;32m   2020\u001b[0m     xtol\u001b[38;5;241m=\u001b[39mxtol,\n\u001b[1;32m   2021\u001b[0m     gtol\u001b[38;5;241m=\u001b[39mgtol,\n\u001b[1;32m   2022\u001b[0m     ctol\u001b[38;5;241m=\u001b[39mctol,\n\u001b[1;32m   2023\u001b[0m     x_scale\u001b[38;5;241m=\u001b[39mx_scale,\n\u001b[1;32m   2024\u001b[0m     verbose\u001b[38;5;241m=\u001b[39mverbose,\n\u001b[1;32m   2025\u001b[0m     maxiter\u001b[38;5;241m=\u001b[39mmaxiter,\n\u001b[1;32m   2026\u001b[0m     options\u001b[38;5;241m=\u001b[39moptions,\n\u001b[1;32m   2027\u001b[0m     copy\u001b[38;5;241m=\u001b[39mcopy,\n\u001b[1;32m   2028\u001b[0m )\n\u001b[1;32m   2030\u001b[0m \u001b[38;5;28;01mreturn\u001b[39;00m things[\u001b[38;5;241m0\u001b[39m], result\n",
      "File \u001b[0;32m~/CODE/DESC/desc/optimize/optimizer.py:277\u001b[0m, in \u001b[0;36mOptimizer.optimize\u001b[0;34m(self, things, objective, constraints, ftol, xtol, gtol, ctol, x_scale, verbose, maxiter, options, copy)\u001b[0m\n\u001b[1;32m    273\u001b[0m     \u001b[38;5;28mprint\u001b[39m(\u001b[38;5;124m\"\u001b[39m\u001b[38;5;124mUsing method: \u001b[39m\u001b[38;5;124m\"\u001b[39m \u001b[38;5;241m+\u001b[39m \u001b[38;5;28mstr\u001b[39m(\u001b[38;5;28mself\u001b[39m\u001b[38;5;241m.\u001b[39mmethod))\n\u001b[1;32m    275\u001b[0m timer\u001b[38;5;241m.\u001b[39mstart(\u001b[38;5;124m\"\u001b[39m\u001b[38;5;124mSolution time\u001b[39m\u001b[38;5;124m\"\u001b[39m)\n\u001b[0;32m--> 277\u001b[0m result \u001b[38;5;241m=\u001b[39m optimizers[method][\u001b[38;5;124m\"\u001b[39m\u001b[38;5;124mfun\u001b[39m\u001b[38;5;124m\"\u001b[39m](\n\u001b[1;32m    278\u001b[0m     objective,\n\u001b[1;32m    279\u001b[0m     nonlinear_constraint,\n\u001b[1;32m    280\u001b[0m     x0,\n\u001b[1;32m    281\u001b[0m     method,\n\u001b[1;32m    282\u001b[0m     x_scale,\n\u001b[1;32m    283\u001b[0m     verbose,\n\u001b[1;32m    284\u001b[0m     stoptol,\n\u001b[1;32m    285\u001b[0m     options,\n\u001b[1;32m    286\u001b[0m )\n\u001b[1;32m    288\u001b[0m \u001b[38;5;28;01mif\u001b[39;00m \u001b[38;5;28misinstance\u001b[39m(objective, LinearConstraintProjection):\n\u001b[1;32m    289\u001b[0m     \u001b[38;5;66;03m# remove wrapper to get at underlying objective\u001b[39;00m\n\u001b[1;32m    290\u001b[0m     result[\u001b[38;5;124m\"\u001b[39m\u001b[38;5;124mallx\u001b[39m\u001b[38;5;124m\"\u001b[39m] \u001b[38;5;241m=\u001b[39m [objective\u001b[38;5;241m.\u001b[39mrecover(x) \u001b[38;5;28;01mfor\u001b[39;00m x \u001b[38;5;129;01min\u001b[39;00m result[\u001b[38;5;124m\"\u001b[39m\u001b[38;5;124mallx\u001b[39m\u001b[38;5;124m\"\u001b[39m]]\n",
      "File \u001b[0;32m~/CODE/DESC/desc/optimize/_desc_wrappers.py:270\u001b[0m, in \u001b[0;36m_optimize_desc_least_squares\u001b[0;34m(objective, constraint, x0, method, x_scale, verbose, stoptol, options)\u001b[0m\n\u001b[1;32m    267\u001b[0m     options\u001b[38;5;241m.\u001b[39msetdefault(\u001b[38;5;124m\"\u001b[39m\u001b[38;5;124minitial_trust_ratio\u001b[39m\u001b[38;5;124m\"\u001b[39m, \u001b[38;5;241m0.1\u001b[39m)\n\u001b[1;32m    268\u001b[0m options[\u001b[38;5;124m\"\u001b[39m\u001b[38;5;124mmax_nfev\u001b[39m\u001b[38;5;124m\"\u001b[39m] \u001b[38;5;241m=\u001b[39m stoptol[\u001b[38;5;124m\"\u001b[39m\u001b[38;5;124mmax_nfev\u001b[39m\u001b[38;5;124m\"\u001b[39m]\n\u001b[0;32m--> 270\u001b[0m result \u001b[38;5;241m=\u001b[39m lsqtr(\n\u001b[1;32m    271\u001b[0m     objective\u001b[38;5;241m.\u001b[39mcompute_scaled_error,\n\u001b[1;32m    272\u001b[0m     x0\u001b[38;5;241m=\u001b[39mx0,\n\u001b[1;32m    273\u001b[0m     jac\u001b[38;5;241m=\u001b[39mobjective\u001b[38;5;241m.\u001b[39mjac_scaled_error,\n\u001b[1;32m    274\u001b[0m     args\u001b[38;5;241m=\u001b[39m(objective\u001b[38;5;241m.\u001b[39mconstants,),\n\u001b[1;32m    275\u001b[0m     x_scale\u001b[38;5;241m=\u001b[39mx_scale,\n\u001b[1;32m    276\u001b[0m     ftol\u001b[38;5;241m=\u001b[39mstoptol[\u001b[38;5;124m\"\u001b[39m\u001b[38;5;124mftol\u001b[39m\u001b[38;5;124m\"\u001b[39m],\n\u001b[1;32m    277\u001b[0m     xtol\u001b[38;5;241m=\u001b[39mstoptol[\u001b[38;5;124m\"\u001b[39m\u001b[38;5;124mxtol\u001b[39m\u001b[38;5;124m\"\u001b[39m],\n\u001b[1;32m    278\u001b[0m     gtol\u001b[38;5;241m=\u001b[39mstoptol[\u001b[38;5;124m\"\u001b[39m\u001b[38;5;124mgtol\u001b[39m\u001b[38;5;124m\"\u001b[39m],\n\u001b[1;32m    279\u001b[0m     maxiter\u001b[38;5;241m=\u001b[39mstoptol[\u001b[38;5;124m\"\u001b[39m\u001b[38;5;124mmaxiter\u001b[39m\u001b[38;5;124m\"\u001b[39m],\n\u001b[1;32m    280\u001b[0m     verbose\u001b[38;5;241m=\u001b[39mverbose,\n\u001b[1;32m    281\u001b[0m     callback\u001b[38;5;241m=\u001b[39m\u001b[38;5;28;01mNone\u001b[39;00m,\n\u001b[1;32m    282\u001b[0m     options\u001b[38;5;241m=\u001b[39moptions,\n\u001b[1;32m    283\u001b[0m )\n\u001b[1;32m    284\u001b[0m \u001b[38;5;28;01mreturn\u001b[39;00m result\n",
      "File \u001b[0;32m~/CODE/DESC/desc/optimize/least_squares.py:198\u001b[0m, in \u001b[0;36mlsqtr\u001b[0;34m(fun, x0, jac, bounds, args, x_scale, ftol, xtol, gtol, verbose, maxiter, callback, options)\u001b[0m\n\u001b[1;32m    196\u001b[0m g_h \u001b[38;5;241m=\u001b[39m g \u001b[38;5;241m*\u001b[39m d\n\u001b[1;32m    197\u001b[0m J_h \u001b[38;5;241m=\u001b[39m J \u001b[38;5;241m*\u001b[39m d\n\u001b[0;32m--> 198\u001b[0m g_norm \u001b[38;5;241m=\u001b[39m jnp\u001b[38;5;241m.\u001b[39mlinalg\u001b[38;5;241m.\u001b[39mnorm(g \u001b[38;5;241m*\u001b[39m v, \u001b[38;5;28mord\u001b[39m\u001b[38;5;241m=\u001b[39mjnp\u001b[38;5;241m.\u001b[39minf)\n\u001b[1;32m    200\u001b[0m \u001b[38;5;66;03m# conngould : norm of the cauchy point, as recommended in ch17 of Conn & Gould\u001b[39;00m\n\u001b[1;32m    201\u001b[0m \u001b[38;5;66;03m# scipy : norm of the scaled x, as used in scipy\u001b[39;00m\n\u001b[1;32m    202\u001b[0m \u001b[38;5;66;03m# mix : geometric mean of conngould and scipy\u001b[39;00m\n\u001b[1;32m    203\u001b[0m init_tr \u001b[38;5;241m=\u001b[39m {\n\u001b[1;32m    204\u001b[0m     \u001b[38;5;124m\"\u001b[39m\u001b[38;5;124mscipy\u001b[39m\u001b[38;5;124m\"\u001b[39m: jnp\u001b[38;5;241m.\u001b[39mlinalg\u001b[38;5;241m.\u001b[39mnorm(x \u001b[38;5;241m*\u001b[39m scale_inv \u001b[38;5;241m/\u001b[39m v\u001b[38;5;241m*\u001b[39m\u001b[38;5;241m*\u001b[39m\u001b[38;5;241m0.5\u001b[39m),\n\u001b[1;32m    205\u001b[0m     \u001b[38;5;124m\"\u001b[39m\u001b[38;5;124mconngould\u001b[39m\u001b[38;5;124m\"\u001b[39m: jnp\u001b[38;5;241m.\u001b[39msum(g_h\u001b[38;5;241m*\u001b[39m\u001b[38;5;241m*\u001b[39m\u001b[38;5;241m2\u001b[39m) \u001b[38;5;241m/\u001b[39m jnp\u001b[38;5;241m.\u001b[39msum((J_h \u001b[38;5;241m@\u001b[39m g_h) \u001b[38;5;241m*\u001b[39m\u001b[38;5;241m*\u001b[39m \u001b[38;5;241m2\u001b[39m),\n\u001b[0;32m   (...)\u001b[0m\n\u001b[1;32m    210\u001b[0m     ),\n\u001b[1;32m    211\u001b[0m }\n",
      "    \u001b[0;31m[... skipping hidden 11 frame]\u001b[0m\n",
      "File \u001b[0;32m/opt/anaconda3/envs/desc-env/lib/python3.12/site-packages/jax/_src/numpy/linalg.py:1148\u001b[0m, in \u001b[0;36mnorm\u001b[0;34m(x, ord, axis, keepdims)\u001b[0m\n\u001b[1;32m   1145\u001b[0m   \u001b[38;5;28;01mreturn\u001b[39;00m ufuncs\u001b[38;5;241m.\u001b[39msqrt(reductions\u001b[38;5;241m.\u001b[39msum(ufuncs\u001b[38;5;241m.\u001b[39mreal(x \u001b[38;5;241m*\u001b[39m ufuncs\u001b[38;5;241m.\u001b[39mconj(x)), axis\u001b[38;5;241m=\u001b[39maxis,\n\u001b[1;32m   1146\u001b[0m                                     keepdims\u001b[38;5;241m=\u001b[39mkeepdims))\n\u001b[1;32m   1147\u001b[0m \u001b[38;5;28;01melif\u001b[39;00m \u001b[38;5;28mord\u001b[39m \u001b[38;5;241m==\u001b[39m jnp\u001b[38;5;241m.\u001b[39minf:\n\u001b[0;32m-> 1148\u001b[0m   \u001b[38;5;28;01mreturn\u001b[39;00m reductions\u001b[38;5;241m.\u001b[39mamax(ufuncs\u001b[38;5;241m.\u001b[39mabs(x), axis\u001b[38;5;241m=\u001b[39maxis, keepdims\u001b[38;5;241m=\u001b[39mkeepdims)\n\u001b[1;32m   1149\u001b[0m \u001b[38;5;28;01melif\u001b[39;00m \u001b[38;5;28mord\u001b[39m \u001b[38;5;241m==\u001b[39m \u001b[38;5;241m-\u001b[39mjnp\u001b[38;5;241m.\u001b[39minf:\n\u001b[1;32m   1150\u001b[0m   \u001b[38;5;28;01mreturn\u001b[39;00m reductions\u001b[38;5;241m.\u001b[39mamin(ufuncs\u001b[38;5;241m.\u001b[39mabs(x), axis\u001b[38;5;241m=\u001b[39maxis, keepdims\u001b[38;5;241m=\u001b[39mkeepdims)\n",
      "File \u001b[0;32m/opt/anaconda3/envs/desc-env/lib/python3.12/site-packages/jax/_src/numpy/reductions.py:666\u001b[0m, in \u001b[0;36mamax\u001b[0;34m(a, axis, out, keepdims, initial, where)\u001b[0m\n\u001b[1;32m    662\u001b[0m \u001b[38;5;28;01mdef\u001b[39;00m \u001b[38;5;21mamax\u001b[39m(a: ArrayLike, axis: Axis \u001b[38;5;241m=\u001b[39m \u001b[38;5;28;01mNone\u001b[39;00m, out: \u001b[38;5;28;01mNone\u001b[39;00m \u001b[38;5;241m=\u001b[39m \u001b[38;5;28;01mNone\u001b[39;00m,\n\u001b[1;32m    663\u001b[0m         keepdims: \u001b[38;5;28mbool\u001b[39m \u001b[38;5;241m=\u001b[39m \u001b[38;5;28;01mFalse\u001b[39;00m, initial: ArrayLike \u001b[38;5;241m|\u001b[39m \u001b[38;5;28;01mNone\u001b[39;00m \u001b[38;5;241m=\u001b[39m \u001b[38;5;28;01mNone\u001b[39;00m,\n\u001b[1;32m    664\u001b[0m         where: ArrayLike \u001b[38;5;241m|\u001b[39m \u001b[38;5;28;01mNone\u001b[39;00m \u001b[38;5;241m=\u001b[39m \u001b[38;5;28;01mNone\u001b[39;00m) \u001b[38;5;241m-\u001b[39m\u001b[38;5;241m>\u001b[39m Array:\n\u001b[1;32m    665\u001b[0m \u001b[38;5;250m  \u001b[39m\u001b[38;5;124;03m\"\"\"Alias of :func:`jax.numpy.max`.\"\"\"\u001b[39;00m\n\u001b[0;32m--> 666\u001b[0m   \u001b[38;5;28;01mreturn\u001b[39;00m \u001b[38;5;28mmax\u001b[39m(a, axis\u001b[38;5;241m=\u001b[39maxis, out\u001b[38;5;241m=\u001b[39mout, keepdims\u001b[38;5;241m=\u001b[39mkeepdims,\n\u001b[1;32m    667\u001b[0m              initial\u001b[38;5;241m=\u001b[39minitial, where\u001b[38;5;241m=\u001b[39mwhere)\n",
      "File \u001b[0;32m/opt/anaconda3/envs/desc-env/lib/python3.12/site-packages/jax/_src/numpy/reductions.py:459\u001b[0m, in \u001b[0;36mmax\u001b[0;34m(a, axis, out, keepdims, initial, where)\u001b[0m\n\u001b[1;32m    389\u001b[0m \u001b[38;5;28;01mdef\u001b[39;00m \u001b[38;5;21mmax\u001b[39m(a: ArrayLike, axis: Axis \u001b[38;5;241m=\u001b[39m \u001b[38;5;28;01mNone\u001b[39;00m, out: \u001b[38;5;28;01mNone\u001b[39;00m \u001b[38;5;241m=\u001b[39m \u001b[38;5;28;01mNone\u001b[39;00m,\n\u001b[1;32m    390\u001b[0m         keepdims: \u001b[38;5;28mbool\u001b[39m \u001b[38;5;241m=\u001b[39m \u001b[38;5;28;01mFalse\u001b[39;00m, initial: ArrayLike \u001b[38;5;241m|\u001b[39m \u001b[38;5;28;01mNone\u001b[39;00m \u001b[38;5;241m=\u001b[39m \u001b[38;5;28;01mNone\u001b[39;00m,\n\u001b[1;32m    391\u001b[0m         where: ArrayLike \u001b[38;5;241m|\u001b[39m \u001b[38;5;28;01mNone\u001b[39;00m \u001b[38;5;241m=\u001b[39m \u001b[38;5;28;01mNone\u001b[39;00m) \u001b[38;5;241m-\u001b[39m\u001b[38;5;241m>\u001b[39m Array:\n\u001b[1;32m    392\u001b[0m \u001b[38;5;250m  \u001b[39m\u001b[38;5;124mr\u001b[39m\u001b[38;5;124;03m\"\"\"Return the maximum of the array elements along a given axis.\u001b[39;00m\n\u001b[1;32m    393\u001b[0m \n\u001b[1;32m    394\u001b[0m \u001b[38;5;124;03m  JAX implementation of :func:`numpy.max`.\u001b[39;00m\n\u001b[0;32m   (...)\u001b[0m\n\u001b[1;32m    457\u001b[0m \u001b[38;5;124;03m    Array([[0, 0, 0, 0]], dtype=int32)\u001b[39;00m\n\u001b[1;32m    458\u001b[0m \u001b[38;5;124;03m  \"\"\"\u001b[39;00m\n\u001b[0;32m--> 459\u001b[0m   \u001b[38;5;28;01mreturn\u001b[39;00m _reduce_max(a, axis\u001b[38;5;241m=\u001b[39m_ensure_optional_axes(axis), out\u001b[38;5;241m=\u001b[39mout,\n\u001b[1;32m    460\u001b[0m                      keepdims\u001b[38;5;241m=\u001b[39mkeepdims, initial\u001b[38;5;241m=\u001b[39minitial, where\u001b[38;5;241m=\u001b[39mwhere)\n",
      "    \u001b[0;31m[... skipping hidden 11 frame]\u001b[0m\n",
      "File \u001b[0;32m/opt/anaconda3/envs/desc-env/lib/python3.12/site-packages/jax/_src/numpy/reductions.py:384\u001b[0m, in \u001b[0;36m_reduce_max\u001b[0;34m(a, axis, out, keepdims, initial, where)\u001b[0m\n\u001b[1;32m    380\u001b[0m \u001b[38;5;129m@partial\u001b[39m(api\u001b[38;5;241m.\u001b[39mjit, static_argnames\u001b[38;5;241m=\u001b[39m(\u001b[38;5;124m'\u001b[39m\u001b[38;5;124maxis\u001b[39m\u001b[38;5;124m'\u001b[39m, \u001b[38;5;124m'\u001b[39m\u001b[38;5;124mkeepdims\u001b[39m\u001b[38;5;124m'\u001b[39m), inline\u001b[38;5;241m=\u001b[39m\u001b[38;5;28;01mTrue\u001b[39;00m)\n\u001b[1;32m    381\u001b[0m \u001b[38;5;28;01mdef\u001b[39;00m \u001b[38;5;21m_reduce_max\u001b[39m(a: ArrayLike, axis: Axis \u001b[38;5;241m=\u001b[39m \u001b[38;5;28;01mNone\u001b[39;00m, out: \u001b[38;5;28;01mNone\u001b[39;00m \u001b[38;5;241m=\u001b[39m \u001b[38;5;28;01mNone\u001b[39;00m,\n\u001b[1;32m    382\u001b[0m                 keepdims: \u001b[38;5;28mbool\u001b[39m \u001b[38;5;241m=\u001b[39m \u001b[38;5;28;01mFalse\u001b[39;00m, initial: ArrayLike \u001b[38;5;241m|\u001b[39m \u001b[38;5;28;01mNone\u001b[39;00m \u001b[38;5;241m=\u001b[39m \u001b[38;5;28;01mNone\u001b[39;00m,\n\u001b[1;32m    383\u001b[0m                 where: ArrayLike \u001b[38;5;241m|\u001b[39m \u001b[38;5;28;01mNone\u001b[39;00m \u001b[38;5;241m=\u001b[39m \u001b[38;5;28;01mNone\u001b[39;00m) \u001b[38;5;241m-\u001b[39m\u001b[38;5;241m>\u001b[39m Array:\n\u001b[0;32m--> 384\u001b[0m   \u001b[38;5;28;01mreturn\u001b[39;00m _reduction(a, \u001b[38;5;124m\"\u001b[39m\u001b[38;5;124mmax\u001b[39m\u001b[38;5;124m\"\u001b[39m, np\u001b[38;5;241m.\u001b[39mmax, lax\u001b[38;5;241m.\u001b[39mmax, \u001b[38;5;241m-\u001b[39mnp\u001b[38;5;241m.\u001b[39minf, has_identity\u001b[38;5;241m=\u001b[39m\u001b[38;5;28;01mFalse\u001b[39;00m,\n\u001b[1;32m    385\u001b[0m                     axis\u001b[38;5;241m=\u001b[39maxis, out\u001b[38;5;241m=\u001b[39mout, keepdims\u001b[38;5;241m=\u001b[39mkeepdims,\n\u001b[1;32m    386\u001b[0m                     initial\u001b[38;5;241m=\u001b[39minitial, where_\u001b[38;5;241m=\u001b[39mwhere, parallel_reduce\u001b[38;5;241m=\u001b[39mlax\u001b[38;5;241m.\u001b[39mpmax)\n",
      "File \u001b[0;32m/opt/anaconda3/envs/desc-env/lib/python3.12/site-packages/jax/_src/numpy/reductions.py:116\u001b[0m, in \u001b[0;36m_reduction\u001b[0;34m(a, name, np_fun, op, init_val, has_identity, preproc, bool_op, upcast_f16_for_computation, axis, dtype, out, keepdims, initial, where_, parallel_reduce, promote_integers)\u001b[0m\n\u001b[1;32m    114\u001b[0m   shape \u001b[38;5;241m=\u001b[39m np\u001b[38;5;241m.\u001b[39mshape(a)\n\u001b[1;32m    115\u001b[0m   \u001b[38;5;28;01mif\u001b[39;00m \u001b[38;5;129;01mnot\u001b[39;00m _all(shape[d] \u001b[38;5;241m>\u001b[39m\u001b[38;5;241m=\u001b[39m \u001b[38;5;241m1\u001b[39m \u001b[38;5;28;01mfor\u001b[39;00m d \u001b[38;5;129;01min\u001b[39;00m pos_dims):\n\u001b[0;32m--> 116\u001b[0m     \u001b[38;5;28;01mraise\u001b[39;00m \u001b[38;5;167;01mValueError\u001b[39;00m(\u001b[38;5;124mf\u001b[39m\u001b[38;5;124m\"\u001b[39m\u001b[38;5;124mzero-size array to reduction operation \u001b[39m\u001b[38;5;132;01m{\u001b[39;00mname\u001b[38;5;132;01m}\u001b[39;00m\u001b[38;5;124m which has no identity\u001b[39m\u001b[38;5;124m\"\u001b[39m)\n\u001b[1;32m    118\u001b[0m result_dtype \u001b[38;5;241m=\u001b[39m dtype \u001b[38;5;129;01mor\u001b[39;00m dtypes\u001b[38;5;241m.\u001b[39mdtype(a)\n\u001b[1;32m    120\u001b[0m \u001b[38;5;28;01mif\u001b[39;00m dtype \u001b[38;5;129;01mis\u001b[39;00m \u001b[38;5;28;01mNone\u001b[39;00m \u001b[38;5;129;01mand\u001b[39;00m promote_integers:\n",
      "\u001b[0;31mValueError\u001b[0m: zero-size array to reduction operation max which has no identity"
     ]
    }
   ],
   "source": [
    "for k in [2, 4]:\n",
    "\n",
    "    # get modes where |m|, |n| > k\n",
    "    R_modes = eq2.surface.R_basis.modes[\n",
    "        np.max(np.abs(eq2.surface.R_basis.modes), 1) > k, :\n",
    "    ]\n",
    "    Z_modes = eq2.surface.Z_basis.modes[\n",
    "        np.max(np.abs(eq2.surface.Z_basis.modes), 1) > k, :\n",
    "    ]\n",
    "\n",
    "    # fix those modes\n",
    "    bdry_constraints = (\n",
    "        FixBoundaryR(eq=eq2),  # , modes=R_modes),\n",
    "        FixBoundaryZ(eq=eq2),  # , modes=Z_modes),\n",
    "    )\n",
    "    # optimize\n",
    "    eq2, out = eq2.optimize(\n",
    "        objective,\n",
    "        # constraints ,#+ bdry_constraints,\n",
    "        optimizer=\"proximal-lsq-exact\",\n",
    "        verbose=3,\n",
    "        options={},\n",
    "    )"
   ]
  },
  {
   "cell_type": "code",
   "execution_count": null,
   "id": "ee419ed3-6e44-4c01-9731-3c73b5a0ab26",
   "metadata": {},
   "outputs": [],
   "source": []
  },
  {
   "cell_type": "code",
   "execution_count": null,
   "id": "b215b996-7369-4dcd-8b82-78102fecd0e2",
   "metadata": {},
   "outputs": [],
   "source": []
  }
 ],
 "metadata": {
  "kernelspec": {
   "display_name": "desc_merging",
   "language": "python",
   "name": "desc_merging"
  },
  "language_info": {
   "codemirror_mode": {
    "name": "ipython",
    "version": 3
   },
   "file_extension": ".py",
   "mimetype": "text/x-python",
   "name": "python",
   "nbconvert_exporter": "python",
   "pygments_lexer": "ipython3",
   "version": "3.13.4"
  }
 },
 "nbformat": 4,
 "nbformat_minor": 5
}
