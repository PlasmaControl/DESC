{
 "cells": [
  {
   "cell_type": "code",
   "execution_count": null,
   "id": "48936cf4-cec0-4a62-ad46-cf2abf3ee92c",
   "metadata": {},
   "outputs": [],
   "source": []
  },
  {
   "cell_type": "code",
   "execution_count": 2,
   "id": "e6e544ab-1baa-4c94-9a7e-8e3359254a0f",
   "metadata": {},
   "outputs": [],
   "source": [
    "import numpy as np\n",
    "import matplotlib.pyplot as plt\n",
    "from desc.plotting import plot_coils\n",
    "from desc.coils import (\n",
    "    CoilSet,\n",
    "    FourierPlanarCoil,\n",
    "    SplineXYZCoil,\n",
    "    MixedCoilSet,\n",
    "    initialize_modular_coils,\n",
    "    initialize_saddle_coils,\n",
    ")"
   ]
  },
  {
   "cell_type": "code",
   "execution_count": null,
   "id": "149925a1-560b-46a4-bb39-516ee586d18d",
   "metadata": {},
   "outputs": [],
   "source": []
  },
  {
   "cell_type": "code",
   "execution_count": null,
   "id": "3fff7095-146e-4bf5-8e80-d4c609317d42",
   "metadata": {},
   "outputs": [],
   "source": []
  },
  {
   "cell_type": "code",
   "execution_count": 5,
   "id": "f2c5f898-1036-40c0-8220-09c74cb251b6",
   "metadata": {},
   "outputs": [],
   "source": [
    "### simple axisymetric coils"
   ]
  },
  {
   "cell_type": "code",
   "execution_count": 19,
   "id": "b10aaddc-5bce-437a-b779-62c65655e9e4",
   "metadata": {},
   "outputs": [],
   "source": [
    "###### Background Straight Field\n",
    "R_coil = 1.3\n",
    "I = 1e7\n",
    "N = 2\n",
    "# pos = np.array([-1,0,1])\n",
    "pos = np.linspace(0, 2 * np.pi, N)\n",
    "coils = []\n",
    "\n",
    "for p in pos:\n",
    "    c = FourierPlanarCoil(\n",
    "        current=I,\n",
    "        center=[10, p, 0],\n",
    "        normal=[0, 1, 0],\n",
    "        r_n=R_coil,\n",
    "        modes=[0],\n",
    "    )\n",
    "    c.change_resolution(N=100)\n",
    "    coils += [c]"
   ]
  },
  {
   "cell_type": "code",
   "execution_count": 21,
   "id": "f167a1f1-417e-4743-ab3d-c40d93bcbecf",
   "metadata": {},
   "outputs": [],
   "source": [
    "coilset = MixedCoilSet(coils)"
   ]
  },
  {
   "cell_type": "code",
   "execution_count": 39,
   "id": "aec39994-7709-4dc4-b818-6503668d6a06",
   "metadata": {},
   "outputs": [
    {
     "data": {
      "image/png": "[encoded data removed]",
      "text/plain": [
       "<Figure size 432.324x288.216 with 1 Axes>"
      ]
     },
     "metadata": {},
     "output_type": "display_data"
    }
   ],
   "source": [
    "## plot coils\n",
    "\n",
    "coil_data = coilset.compute([\"X\", \"Y\", \"Z\"])\n",
    "\n",
    "for i in coil_data:\n",
    "    x = i[\"X\"]\n",
    "    y = i[\"Y\"]\n",
    "    z = i[\"Z\"]\n",
    "    plt.plot(y, x, \".\", color=\"gold\")"
   ]
  },
  {
   "cell_type": "code",
   "execution_count": 25,
   "id": "23e59fde-543f-4bb2-8966-dadff49a1f20",
   "metadata": {},
   "outputs": [],
   "source": [
    "## field on axis"
   ]
  },
  {
   "cell_type": "code",
   "execution_count": 37,
   "id": "1b3287c1-d1e3-4a9f-b0c7-e550dc023d8d",
   "metadata": {},
   "outputs": [
    {
     "data": {
      "text/plain": [
       "Text(0, 0.5, '|B|')"
      ]
     },
     "execution_count": 37,
     "metadata": {},
     "output_type": "execute_result"
    },
    {
     "data": {
      "image/png": "[encoded data removed]",
      "text/plain": [
       "<Figure size 432.324x288.216 with 1 Axes>"
      ]
     },
     "metadata": {},
     "output_type": "display_data"
    }
   ],
   "source": [
    "plt.title(r\"Field on Axis\")\n",
    "yaxis = np.linspace(0, 2 * np.pi, 1000)\n",
    "zaxis = np.zeros_like(yaxis)\n",
    "xaxis = np.ones_like(zaxis) * 10\n",
    "\n",
    "B = coilset.compute_magnetic_field(np.array([xaxis, yaxis, zaxis]).T, basis=\"xyz\")\n",
    "modB = np.linalg.norm(B, axis=-1)\n",
    "plt.plot(yaxis, modB)\n",
    "plt.xlabel(\"Z\")\n",
    "plt.ylabel(\"|B|\")"
   ]
  },
  {
   "cell_type": "code",
   "execution_count": 35,
   "id": "33aa1aa0-1060-40cd-9dbd-ed46461c8d2e",
   "metadata": {},
   "outputs": [
    {
     "data": {
      "text/plain": [
       "np.float64(9.018821955886395)"
      ]
     },
     "execution_count": 35,
     "metadata": {},
     "output_type": "execute_result"
    }
   ],
   "source": [
    "modB.max() / modB.min()"
   ]
  },
  {
   "cell_type": "code",
   "execution_count": null,
   "id": "4fe79bcb-0b49-4b0d-b0e7-0beb9f96a2b9",
   "metadata": {},
   "outputs": [],
   "source": []
  },
  {
   "cell_type": "code",
   "execution_count": 141,
   "id": "f7e7602c-bb58-4207-8f59-e6d6e1f027ec",
   "metadata": {},
   "outputs": [],
   "source": [
    "from desc.grid import ConcentricGrid, Grid\n",
    "\n",
    "\n",
    "def chebygrid(N_grid):\n",
    "    return np.concatenate(\n",
    "        (\n",
    "            [0],\n",
    "            (-np.cos((2 * np.arange(N_grid) + 1) * np.pi / (2 * N_grid)) + 1) * np.pi,\n",
    "            [2 * np.pi],\n",
    "        )\n",
    "    )\n",
    "\n",
    "\n",
    "def grid_gen(L_grid, M_grid, N_grid, node_pattern=\"jacobi\"):\n",
    "    LMnodes = ConcentricGrid(L=L_grid, M=M_grid, N=0, node_pattern=node_pattern).nodes[\n",
    "        :, :2\n",
    "    ]\n",
    "    Nnodes = chebygrid(N_grid)\n",
    "    lm = np.tile(LMnodes, (Nnodes.size, 1))\n",
    "    n = np.tile(Nnodes.reshape(-1, 1), (1, LMnodes.shape[0])).reshape(-1, 1)\n",
    "    nodes = np.concatenate((lm, n), axis=1)\n",
    "\n",
    "    # RG: weights and spacing defined here\n",
    "    # just for the sake of compilation. Must be checked\n",
    "    weights = np.ones(nodes.shape[0])\n",
    "    spacing = np.ones_like(nodes)\n",
    "\n",
    "    spacing[1:, 1] = np.diff(nodes[:, 1])\n",
    "    spacing[1:, 2] = np.diff(nodes[:, 2])\n",
    "\n",
    "    return Grid(nodes, spacing=spacing, weights=weights)"
   ]
  },
  {
   "cell_type": "code",
   "execution_count": 143,
   "id": "83c02b6d-189b-47c5-831c-f412407e40c9",
   "metadata": {},
   "outputs": [],
   "source": [
    "# grid = grid_gen(10, 40, 40)"
   ]
  },
  {
   "cell_type": "code",
   "execution_count": 20,
   "id": "c4b229d9-540e-4666-9913-19a0b05fdf48",
   "metadata": {},
   "outputs": [],
   "source": [
    "### MGRID\n",
    "# coilset.save_mgrid('simple_mirror_MR_9',Rmin = 0,Rmax = 1,Zmin = 0, Zmax = 2*np.pi)"
   ]
  },
  {
   "cell_type": "code",
   "execution_count": 41,
   "id": "a9cc0162-6a75-41a8-b3d2-b123cacf7685",
   "metadata": {},
   "outputs": [],
   "source": [
    "coilset.save_in_makegrid_format(\"simple_coils_MR_9.coils\")"
   ]
  },
  {
   "cell_type": "code",
   "execution_count": 26,
   "id": "b87b3ec0-b6ed-484f-8fd1-030555319dbe",
   "metadata": {},
   "outputs": [
    {
     "data": {
      "text/plain": [
       "MixedCoilSet at 0x10801c980 (name=, with 2 submembers)"
      ]
     },
     "execution_count": 26,
     "metadata": {},
     "output_type": "execute_result"
    }
   ],
   "source": [
    "coilset"
   ]
  },
  {
   "cell_type": "code",
   "execution_count": null,
   "id": "cf09826f-261f-4648-ae7d-0704a2552183",
   "metadata": {},
   "outputs": [],
   "source": []
  },
  {
   "cell_type": "code",
   "execution_count": null,
   "id": "fdfe227e-d198-49ac-9763-a9216f7af323",
   "metadata": {},
   "outputs": [],
   "source": []
  },
  {
   "cell_type": "code",
   "execution_count": null,
   "id": "9a3d280f-b331-4ee6-9e25-413008e42300",
   "metadata": {},
   "outputs": [],
   "source": [
    "#### SMOLA Coils"
   ]
  },
  {
   "cell_type": "code",
   "execution_count": 8,
   "id": "47c2cfc4-b977-415a-957e-87066332cb39",
   "metadata": {},
   "outputs": [],
   "source": [
    "def hellical_coil(\n",
    "    N=100,\n",
    "    zrange=[0, 1],\n",
    "    radius=1,\n",
    "    twists=10,\n",
    "    handedness=\"left\",\n",
    "    leads=False,\n",
    "    lead_offset=10,\n",
    "):\n",
    "    N_lead = 1000\n",
    "\n",
    "    z_start = zrange[0]\n",
    "    z_end = zrange[1]\n",
    "\n",
    "    # Parametric coordinate\n",
    "    theta = np.linspace(0, 2 * np.pi * twists, N * twists)\n",
    "    y = np.linspace(z_start, z_end, N * twists)\n",
    "\n",
    "    # Handedness control\n",
    "    if handedness == \"right\":\n",
    "        angle = theta\n",
    "        switch = -1\n",
    "    elif handedness == \"left\":\n",
    "        angle = theta + np.pi\n",
    "        switch = 1\n",
    "\n",
    "    else:\n",
    "        raise ValueError(\"handedness must be 'right' or 'left'\")\n",
    "\n",
    "    # Helix coordinates\n",
    "    x = radius * np.cos(angle)\n",
    "    z = radius * np.sin(angle)\n",
    "\n",
    "    xyz = np.transpose([x, y, z])[::-1]\n",
    "\n",
    "    if leads:\n",
    "        # Lead 1: straight in -x from y_end\n",
    "        x_lead1 = np.linspace(x[-1], x[-1] - switch * lead_offset + radius, N_lead)\n",
    "        y_lead1 = np.full(N_lead, z_end)\n",
    "        z_lead1 = np.full(N_lead, z[-1])\n",
    "        xyz_lead1 = np.stack([x_lead1, y_lead1, z_lead1], axis=-1)\n",
    "\n",
    "        # Lead 2: straight in -x from y_start\n",
    "        x_lead2 = np.linspace(x[0], x[0] - switch * lead_offset + radius, N_lead)\n",
    "        y_lead2 = np.full(N_lead, z_start)\n",
    "        z_lead2 = np.full(N_lead, z[0])\n",
    "        xyz_lead2 = np.stack([x_lead2, y_lead2, z_lead2], axis=-1)\n",
    "\n",
    "        # Lead 3: connecting lead1 and lead2\n",
    "\n",
    "        if switch == 1:\n",
    "            theta = np.linspace(np.pi / 2, 3 * np.pi / 2, N_lead)\n",
    "        if switch == -1:\n",
    "            theta = np.linspace(-np.pi / 2, np.pi / 2, N_lead)\n",
    "\n",
    "        r_semi = (np.abs(z_end) + np.abs(z_start)) / 2\n",
    "        x_lead3 = r_semi * np.cos(theta) * 5 - switch * lead_offset\n",
    "        y_lead3 = r_semi * np.sin(theta)\n",
    "        z_lead3 = np.full(N_lead, 0)\n",
    "        xyz_lead3 = np.stack([x_lead3, y_lead3, z_lead3], axis=-1)\n",
    "\n",
    "        return np.concatenate([xyz, xyz_lead1, xyz_lead3, xyz_lead2[::-1]], axis=0)\n",
    "\n",
    "    else:\n",
    "\n",
    "        return xyz"
   ]
  },
  {
   "cell_type": "code",
   "execution_count": 10,
   "id": "74ebfbcf-d03f-4cf9-8a4d-107c586b8713",
   "metadata": {},
   "outputs": [],
   "source": [
    "hr = 0.172 / 2\n",
    "pr = 0.375 / 2\n",
    "Ih = 26 * 500  # Ampes\n",
    "Ib = 90 * 500  # Ampes\n",
    "start = 1.68 + 0.18\n",
    "\n",
    "gc_shift = 1\n",
    "\n",
    "## test\n",
    "method = \"linear\"\n",
    "X, Y, Z = hellical_coil(\n",
    "    N=1000, zrange=[start, start + 2.16], radius=hr, twists=12, handedness=\"left\"\n",
    ").T\n",
    "coil1 = SplineXYZCoil(Ih * gc_shift, X, Y, Z, method=method)\n",
    "X, Y, Z = hellical_coil(\n",
    "    N=1000, zrange=[start, start + 2.16], radius=hr, twists=12, handedness=\"right\"\n",
    ").T\n",
    "coil2 = SplineXYZCoil(-Ih * gc_shift, X, Y, Z, method=method)\n",
    "\n",
    "from desc.coils import CoilSet\n",
    "\n",
    "coilset = CoilSet([coil1, coil2])"
   ]
  },
  {
   "cell_type": "code",
   "execution_count": 12,
   "id": "97842455-766d-4255-ae77-c7e46ea15f16",
   "metadata": {},
   "outputs": [
    {
     "data": {
      "text/plain": [
       "Text(0, 0.5, '|B|')"
      ]
     },
     "execution_count": 12,
     "metadata": {},
     "output_type": "execute_result"
    },
    {
     "data": {
      "image/png": "[encoded data removed]",
      "text/plain": [
       "<Figure size 432.324x288.216 with 1 Axes>"
      ]
     },
     "metadata": {},
     "output_type": "display_data"
    }
   ],
   "source": [
    "plt.title(r\"Helical Field on Axis\")\n",
    "yaxis = np.linspace(start, start + 2.16, 1000)\n",
    "zaxis = np.zeros_like(yaxis)\n",
    "xaxis = np.ones_like(zaxis) * 0\n",
    "\n",
    "B = coilset.compute_magnetic_field(np.array([xaxis, yaxis, zaxis]).T, basis=\"xyz\")\n",
    "modB = np.linalg.norm(B, axis=-1)\n",
    "plt.plot(yaxis, modB)\n",
    "plt.xlabel(\"Z\")\n",
    "plt.ylabel(\"|B|\")"
   ]
  },
  {
   "cell_type": "code",
   "execution_count": 14,
   "id": "5c235fec-ea37-4ff5-b647-21d41ca44ef1",
   "metadata": {},
   "outputs": [],
   "source": [
    "###### Background Straight Field\n",
    "R_coil = pr\n",
    "# pos = np.array([-1,0,1])\n",
    "pos = np.linspace(start, start + 2.16, 12)\n",
    "coils = []\n",
    "\n",
    "for p in pos:\n",
    "    c = FourierPlanarCoil(\n",
    "        current=Ib * gc_shift,\n",
    "        center=[0, p, 0],\n",
    "        normal=[0, 1, 0],\n",
    "        r_n=R_coil,\n",
    "        modes=[0],\n",
    "    )\n",
    "    c.change_resolution(N=100)\n",
    "    coils += [c]"
   ]
  },
  {
   "cell_type": "code",
   "execution_count": 16,
   "id": "35484d2f-6fe4-4def-9f96-4c648a32ce17",
   "metadata": {},
   "outputs": [],
   "source": [
    "coils += [coil1, coil2]\n",
    "from desc.coils import MixedCoilSet\n",
    "\n",
    "coilset = MixedCoilSet(coils)"
   ]
  },
  {
   "cell_type": "code",
   "execution_count": 18,
   "id": "31728928-eb91-44ff-9971-6262ad709acd",
   "metadata": {},
   "outputs": [
    {
     "data": {
      "text/plain": [
       "Text(0, 0.5, '|B|')"
      ]
     },
     "execution_count": 18,
     "metadata": {},
     "output_type": "execute_result"
    },
    {
     "data": {
      "image/png": "[encoded data removed]",
      "text/plain": [
       "<Figure size 432.324x288.216 with 1 Axes>"
      ]
     },
     "metadata": {},
     "output_type": "display_data"
    }
   ],
   "source": [
    "plt.title(r\"Helical + Straight Field on Axis\")\n",
    "yaxis = np.linspace(start, start + 2.16, 1000)\n",
    "zaxis = np.zeros_like(yaxis)\n",
    "xaxis = np.ones_like(zaxis) * 0\n",
    "\n",
    "B = coilset.compute_magnetic_field(np.array([xaxis, yaxis, zaxis]).T, basis=\"xyz\")\n",
    "modB = np.linalg.norm(B, axis=-1)\n",
    "plt.plot(yaxis, modB)\n",
    "plt.xlabel(\"Z\")\n",
    "plt.ylabel(\"|B|\")"
   ]
  },
  {
   "cell_type": "code",
   "execution_count": 20,
   "id": "5992f235-cb8f-4950-b1d0-8089a395a353",
   "metadata": {},
   "outputs": [],
   "source": [
    "### Plasma formation coils\n",
    "pos_g = np.linspace(0.2, 0.4, 2)\n",
    "## 7cm VV\n",
    "Ig = 90 * 1.8 * 500 * gc_shift  # Ampes\n",
    "R_coil_g = 0.10\n",
    "\n",
    "### \"Smoothing\" coils -- lifts B - well\n",
    "pos_s = np.array([0.6, 0.8, 1.26, 1.46])\n",
    "Is = 90 * 250 * gc_shift  # Ampes\n",
    "R_coil_s = 0.375 * 1.5"
   ]
  },
  {
   "cell_type": "code",
   "execution_count": 22,
   "id": "5989b981-06ad-4caf-b077-570b2a3545f5",
   "metadata": {},
   "outputs": [],
   "source": [
    "coils_gun = []\n",
    "\n",
    "for p in pos_g:\n",
    "    c = FourierPlanarCoil(\n",
    "        current=Ig,\n",
    "        center=[0, p, 0],\n",
    "        normal=[0, 1, 0],\n",
    "        r_n=R_coil_g,\n",
    "        modes=[0],\n",
    "    )\n",
    "    c.change_resolution(N=100)\n",
    "    coils_gun += [c]\n",
    "\n",
    "coils_large = []\n",
    "\n",
    "for p in pos_s:\n",
    "    c = FourierPlanarCoil(\n",
    "        current=Is,\n",
    "        center=[0, p, 0],\n",
    "        normal=[0, 1, 0],\n",
    "        r_n=R_coil_s,\n",
    "        modes=[0],\n",
    "    )\n",
    "    c.change_resolution(N=100)\n",
    "    coils_large += [c]"
   ]
  },
  {
   "cell_type": "code",
   "execution_count": 24,
   "id": "ef1643eb-4470-4f68-ace8-3500344d8cf7",
   "metadata": {},
   "outputs": [],
   "source": [
    "coils_large += [coils_gun]\n",
    "coils_large += [coils]\n",
    "coilset = MixedCoilSet(coils_large)"
   ]
  },
  {
   "cell_type": "code",
   "execution_count": 26,
   "id": "63e8f395-3217-40d8-b546-081b6f2e6af4",
   "metadata": {},
   "outputs": [
    {
     "data": {
      "image/png": "[encoded data removed]",
      "text/plain": [
       "<Figure size 1080.81x720.54 with 2 Axes>"
      ]
     },
     "metadata": {},
     "output_type": "display_data"
    }
   ],
   "source": [
    "fig, axs = plt.subplots(2, 1, figsize=(15, 10), sharex=True)\n",
    "\n",
    "axs[0].set_title(r\"SMOLA Coils and Field on Axis\")\n",
    "\n",
    "yaxis = np.linspace(0, 4.5, 1000)\n",
    "zaxis = np.zeros_like(yaxis)\n",
    "xaxis = np.ones_like(zaxis) * 0\n",
    "\n",
    "B = coilset.compute_magnetic_field(np.array([xaxis, yaxis, zaxis]).T, basis=\"xyz\")\n",
    "modB = np.linalg.norm(B, axis=-1)\n",
    "axs[0].plot(yaxis, modB)\n",
    "\n",
    "\n",
    "### MR\n",
    "# B at end of gun\n",
    "B = coilset.compute_magnetic_field(np.array([0, 0.4, 0]).T, basis=\"xyz\")\n",
    "Bg = np.linalg.norm(B, axis=-1)\n",
    "\n",
    "# min in central chamber\n",
    "yaxis = np.linspace(0.05, 2, 1000)\n",
    "zaxis = np.zeros_like(yaxis)\n",
    "xaxis = np.ones_like(zaxis) * 0\n",
    "B = coilset.compute_magnetic_field(np.array([xaxis, yaxis, zaxis]).T, basis=\"xyz\")\n",
    "Bmod = np.linalg.norm(B, axis=-1)\n",
    "Bmin = np.min(Bmod)\n",
    "\n",
    "# max B at the start of the transport region\n",
    "B = coilset.compute_magnetic_field(np.array([0, start, 0]).T, basis=\"xyz\")\n",
    "Bt = np.linalg.norm(B, axis=-1)\n",
    "\n",
    "gun_mr = Bg / Bmin\n",
    "transport_mr = Bt / Bmin\n",
    "\n",
    "\n",
    "axs[0].set_ylabel(\"|B|\")\n",
    "axs[0].set_xlabel(\"Z\")\n",
    "axs[0].grid()\n",
    "axs[0].set_ylabel(\"|B|\")\n",
    "axs[0].vlines(\n",
    "    0.4, Bg - 0.05, Bg + 0.05, color=\"red\", label=\"MR = {:.1f}\".format((gun_mr[0]))\n",
    ")\n",
    "\n",
    "axs[0].vlines(\n",
    "    start,\n",
    "    Bt - 0.05,\n",
    "    Bt + 0.05,\n",
    "    color=\"green\",\n",
    "    label=\"MR = {:.1f}\".format((transport_mr[0])),\n",
    ")\n",
    "axs[0].legend(loc=\"upper center\")\n",
    "\n",
    "\n",
    "coil_data = coilset.compute([\"X\", \"Y\", \"Z\"])\n",
    "\n",
    "for i in coil_data:\n",
    "    x = i[\"X\"]\n",
    "    y = i[\"Y\"]\n",
    "    z = i[\"Z\"]\n",
    "    axs[1].plot(y, x, \".\", color=\"gold\")\n",
    "axs[1].set_xlabel(\"Z\")\n",
    "axs[1].set_ylabel(\"X\")\n",
    "axs[1].grid()"
   ]
  },
  {
   "cell_type": "code",
   "execution_count": 28,
   "id": "cdc91f5f-b670-49bb-a0b0-f6343bdefed2",
   "metadata": {},
   "outputs": [],
   "source": [
    "coilset.save_in_makegrid_format(\"smola_coils_unscaled.coils\")"
   ]
  },
  {
   "cell_type": "code",
   "execution_count": null,
   "id": "3c58a8b5-539a-4cb7-b582-20b77c3eca88",
   "metadata": {},
   "outputs": [],
   "source": []
  }
 ],
 "metadata": {
  "kernelspec": {
   "display_name": "desc_merging",
   "language": "python",
   "name": "desc_merging"
  },
  "language_info": {
   "codemirror_mode": {
    "name": "ipython",
    "version": 3
   },
   "file_extension": ".py",
   "mimetype": "text/x-python",
   "name": "python",
   "nbconvert_exporter": "python",
   "pygments_lexer": "ipython3",
   "version": "3.13.4"
  }
 },
 "nbformat": 4,
 "nbformat_minor": 5
}
