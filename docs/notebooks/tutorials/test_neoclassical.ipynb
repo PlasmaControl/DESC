{
 "cells": [
  {
   "cell_type": "code",
   "execution_count": 5,
   "id": "a0a0679f",
   "metadata": {},
   "outputs": [],
   "source": [
    "\"\"\"Test for neoclassical transport compute functions.\"\"\"\n",
    "\n",
    "import matplotlib.pyplot as plt\n",
    "import numpy as np\n",
    "import pytest\n",
    "from tests.test_plotting import tol_1d\n",
    "\n",
    "from desc.examples import get\n",
    "\n",
    "\n",
    "@pytest.mark.unit\n",
    "def test_field_line_average():\n",
    "    \"\"\"Test that field line average converges to surface average.\"\"\"\n",
    "    # For axisymmetric devices, one toroidal transit must be exact.\n",
    "    rho = np.array([1])\n",
    "    alpha = np.array([0])\n",
    "    eq = get(\"DSHAPE\")\n",
    "    grid = eq.get_rtz_grid(\n",
    "        rho,\n",
    "        alpha,\n",
    "        np.linspace(0, 2 * np.pi, 20),\n",
    "        coordinates=\"raz\",\n",
    "        period=(np.inf, 2 * np.pi, np.inf),\n",
    "    )\n",
    "    data = eq.compute([\"<L|r,a>\", \"<G|r,a>\", \"V_r(r)\"], grid=grid)\n",
    "    np.testing.assert_allclose(\n",
    "        data[\"<L|r,a>\"] / data[\"<G|r,a>\"], data[\"V_r(r)\"] / (4 * np.pi**2), rtol=1e-3\n",
    "    )\n",
    "    assert np.all(np.sign(data[\"<L|r,a>\"]) > 0)\n",
    "    assert np.all(np.sign(data[\"<G|r,a>\"]) > 0)\n",
    "\n",
    "    # Otherwise, many toroidal transits are necessary to sample surface.\n",
    "    eq = get(\"W7-X\")\n",
    "    grid = eq.get_rtz_grid(\n",
    "        rho,\n",
    "        alpha,\n",
    "        np.linspace(0, 40 * np.pi, 300),\n",
    "        coordinates=\"raz\",\n",
    "        period=(np.inf, 2 * np.pi, np.inf),\n",
    "    )\n",
    "    data = eq.compute([\"<L|r,a>\", \"<G|r,a>\", \"V_r(r)\"], grid=grid)\n",
    "    np.testing.assert_allclose(\n",
    "        data[\"<L|r,a>\"] / data[\"<G|r,a>\"], data[\"V_r(r)\"] / (4 * np.pi**2), rtol=1e-3\n",
    "    )\n",
    "    assert np.all(np.sign(data[\"<L|r,a>\"]) > 0)\n",
    "    assert np.all(np.sign(data[\"<G|r,a>\"]) > 0)\n",
    "\n",
    "\n",
    "@pytest.mark.unit\n",
    "@pytest.mark.mpl_image_compare(remove_text=True, tolerance=tol_1d)\n",
    "def test_effective_ripple():\n",
    "    \"\"\"Test effective ripple with W7-X.\"\"\"\n",
    "    eq = get(\"W7-X\")\n",
    "    rho = np.linspace(0, 1, 10)\n",
    "    grid = eq.get_rtz_grid(\n",
    "        rho,\n",
    "        np.array([0]),\n",
    "        np.linspace(0, 20 * np.pi, 1000),\n",
    "        coordinates=\"raz\",\n",
    "        period=(np.inf, 2 * np.pi, np.inf),\n",
    "    )\n",
    "    data = eq.compute(\"effective ripple\", grid=grid)\n",
    "    assert np.isfinite(data[\"effective ripple\"]).all()\n",
    "    fig, ax = plt.subplots()\n",
    "    ax.plot(rho, grid.compress(data[\"effective ripple\"]), marker=\"o\")\n",
    "    return fig\n",
    "\n",
    "\n",
    "@pytest.mark.unit\n",
    "@pytest.mark.mpl_image_compare(remove_text=True, tolerance=tol_1d)\n",
    "def test_Gamma_c():\n",
    "    \"\"\"Test Γ_c with W7-X.\"\"\"\n",
    "    eq = get(\"W7-X\")\n",
    "    rho = np.linspace(0, 1, 10)\n",
    "    grid = eq.get_rtz_grid(\n",
    "        rho,\n",
    "        np.array([0]),\n",
    "        np.linspace(0, 20 * np.pi, 1000),\n",
    "        coordinates=\"raz\",\n",
    "        period=(np.inf, 2 * np.pi, np.inf),\n",
    "    )\n",
    "    data = eq.compute(\"Gamma_c\", grid=grid)\n",
    "    assert np.isfinite(data[\"Gamma_c\"]).all()\n",
    "    fig, ax = plt.subplots()\n",
    "    ax.plot(rho, grid.compress(data[\"Gamma_c\"]), marker=\"o\")\n",
    "    print(Gamma_c)\n",
    "    return fig\n",
    "\n"
   ]
  },
  {
   "cell_type": "code",
   "execution_count": 7,
   "id": "048ea651",
   "metadata": {},
   "outputs": [
    {
     "ename": "NameError",
     "evalue": "name 'Gamma_c' is not defined",
     "output_type": "error",
     "traceback": [
      "\u001b[0;31m---------------------------------------------------------------------------\u001b[0m",
      "\u001b[0;31mNameError\u001b[0m                                 Traceback (most recent call last)",
      "Cell \u001b[0;32mIn[7], line 1\u001b[0m\n\u001b[0;32m----> 1\u001b[0m \u001b[43mtest_Gamma_c\u001b[49m\u001b[43m(\u001b[49m\u001b[43m)\u001b[49m\n",
      "Cell \u001b[0;32mIn[5], line 86\u001b[0m, in \u001b[0;36mtest_Gamma_c\u001b[0;34m()\u001b[0m\n\u001b[1;32m     84\u001b[0m fig, ax \u001b[38;5;241m=\u001b[39m plt\u001b[38;5;241m.\u001b[39msubplots()\n\u001b[1;32m     85\u001b[0m ax\u001b[38;5;241m.\u001b[39mplot(rho, grid\u001b[38;5;241m.\u001b[39mcompress(data[\u001b[38;5;124m\"\u001b[39m\u001b[38;5;124mGamma_c\u001b[39m\u001b[38;5;124m\"\u001b[39m]), marker\u001b[38;5;241m=\u001b[39m\u001b[38;5;124m\"\u001b[39m\u001b[38;5;124mo\u001b[39m\u001b[38;5;124m\"\u001b[39m)\n\u001b[0;32m---> 86\u001b[0m \u001b[38;5;28mprint\u001b[39m(\u001b[43mGamma_c\u001b[49m)\n\u001b[1;32m     87\u001b[0m \u001b[38;5;28;01mreturn\u001b[39;00m fig\n",
      "\u001b[0;31mNameError\u001b[0m: name 'Gamma_c' is not defined"
     ]
    },
    {
     "data": {
      "image/png": "[encoded data removed]",
      "text/plain": [
       "<Figure size 432x288 with 1 Axes>"
      ]
     },
     "metadata": {},
     "output_type": "display_data"
    }
   ],
   "source": [
    "test_Gamma_c()"
   ]
  },
  {
   "cell_type": "code",
   "execution_count": null,
   "id": "e569062e",
   "metadata": {},
   "outputs": [],
   "source": []
  }
 ],
 "metadata": {
  "kernelspec": {
   "display_name": "desc-env [~/.conda/envs/desc-env/]",
   "language": "python",
   "name": "conda_desc-env"
  },
  "language_info": {
   "codemirror_mode": {
    "name": "ipython",
    "version": 3
   },
   "file_extension": ".py",
   "mimetype": "text/x-python",
   "name": "python",
   "nbconvert_exporter": "python",
   "pygments_lexer": "ipython3",
   "version": "3.11.0"
  }
 },
 "nbformat": 4,
 "nbformat_minor": 5
}
