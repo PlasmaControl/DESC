{
 "cells": [
  {
   "cell_type": "code",
   "execution_count": null,
   "id": "a831f199-3399-4b52-a11e-cf35f73c075f",
   "metadata": {
    "scrolled": true
   },
   "outputs": [],
   "source": [
    "from desc.integrals import Bounce2D\n",
    "\n",
    "from desc.examples import get\n",
    "from desc.grid import LinearGrid\n",
    "from desc.optimize import Optimizer\n",
    "\n",
    "from desc.objectives import (\n",
    "    ForceBalance,\n",
    "    FixPsi,\n",
    "    FixBoundaryR,\n",
    "    FixBoundaryZ,\n",
    "    GenericObjective,\n",
    "    FixPressure,\n",
    "    FixIota,\n",
    "    AspectRatio,\n",
    "    EffectiveRipple,\n",
    "    ObjectiveFunction,\n",
    ")\n",
    "from matplotlib import pyplot as plt\n",
    "import numpy as np"
   ]
  },
  {
   "cell_type": "code",
   "execution_count": 2,
   "id": "6eb81b56-6b1b-45ba-903e-741c21047c7e",
   "metadata": {},
   "outputs": [],
   "source": [
    "def plot_wells(\n",
    "    eq,\n",
    "    grid,\n",
    "    theta,\n",
    "    Y_B=None,\n",
    "    num_transit=3,\n",
    "    num_well=None,\n",
    "    num_pitch=10,\n",
    "):\n",
    "    \"\"\"Plotting tool to help user set tighter upper bound on ``num_well``.\n",
    "\n",
    "    Parameters\n",
    "    ----------\n",
    "    eq : Equilibrium\n",
    "        Equilibrium to compute on.\n",
    "    grid : LinearGrid\n",
    "        Tensor-product grid in (ρ, θ, ζ) with uniformly spaced nodes\n",
    "        (θ, ζ) ∈ [0, 2π) × [0, 2π/NFP).\n",
    "    theta : jnp.ndarray\n",
    "        Shape (num rho, X, Y).\n",
    "        DESC coordinates θ sourced from the Clebsch coordinates\n",
    "        ``FourierChebyshevSeries.nodes(X,Y,rho,domain=(0,2*jnp.pi))``.\n",
    "        Use the ``Bounce2D.compute_theta`` method to obtain this.\n",
    "    Y_B : int\n",
    "        Desired resolution for |B| along field lines to compute bounce points.\n",
    "        Default is double ``Y``.\n",
    "    num_transit : int\n",
    "        Number of toroidal transits to follow field line.\n",
    "        For axisymmetric devices, one poloidal transit is sufficient. Otherwise,\n",
    "        assuming the surface is not near rational, more transits will\n",
    "        approximate surface averages better, with diminishing returns.\n",
    "    num_well : int\n",
    "        Maximum number of wells to detect for each pitch and field line.\n",
    "        Giving ``None`` will detect all wells but due to current limitations in\n",
    "        JAX this will have worse performance.\n",
    "        Specifying a number that tightly upper bounds the number of wells will\n",
    "        increase performance. In general, an upper bound on the number of wells\n",
    "        per toroidal transit is ``Aι+B`` where ``A``,``B`` are the poloidal and\n",
    "        toroidal Fourier resolution of |B|, respectively, in straight-field line\n",
    "        PEST coordinates, and ι is the rotational transform normalized by 2π.\n",
    "        A tighter upper bound than ``num_well=(Aι+B)*num_transit`` is preferable.\n",
    "        The ``check_points`` or ``plot`` methods in ``desc.integrals.Bounce2D``\n",
    "        are useful to select a reasonable value.\n",
    "    num_pitch: int\n",
    "        Number of pitch angles.\n",
    "\n",
    "    Returns\n",
    "    -------\n",
    "    plots\n",
    "        Matplotlib (fig, ax) tuples for the 1D plot of each field line.\n",
    "\n",
    "    \"\"\"\n",
    "    data = eq.compute(Bounce2D.required_names + [\"min_tz |B|\", \"max_tz |B|\"], grid=grid)\n",
    "    bounce = Bounce2D(grid, data, theta, Y_B, num_transit)\n",
    "    pitch_inv, _ = Bounce2D.get_pitch_inv_quad(\n",
    "        grid.compress(data[\"min_tz |B|\"]),\n",
    "        grid.compress(data[\"max_tz |B|\"]),\n",
    "        num_pitch,\n",
    "    )\n",
    "    points = bounce.points(pitch_inv, num_well=num_well)\n",
    "    plots = bounce.check_points(points, pitch_inv)\n",
    "    return plots"
   ]
  },
  {
   "cell_type": "markdown",
   "id": "257d4c55-3387-43bf-8258-f246c3b19e11",
   "metadata": {},
   "source": [
    "## Plotting field lines"
   ]
  },
  {
   "cell_type": "code",
   "execution_count": null,
   "id": "728efd05-7f52-4ece-af52-c031c6f61441",
   "metadata": {
    "scrolled": true
   },
   "outputs": [],
   "source": [
    "# ---------- Precise QH ----------\n",
    "# Computing at higher resolution than necessary.\n",
    "eq0 = get(\"precise_QH\")\n",
    "rho = np.linspace(0.01, 1, 10)\n",
    "grid = LinearGrid(rho=rho, M=eq0.M_grid, N=eq0.N_grid, NFP=eq0.NFP, sym=False)\n",
    "X, Y = 32, 64\n",
    "theta = Bounce2D.compute_theta(eq0, X, Y, rho=rho)\n",
    "\n",
    "# ---------- How to pick resolution? ----------\n",
    "num_transit = 3\n",
    "# Running below at few different settings, we observe Y_B = 100 sufficient,\n",
    "# and see about 3 wells per toroidal transit.\n",
    "# plot_wells(\n",
    "#     eq0,\n",
    "#     grid,\n",
    "#     theta,\n",
    "#     # Plotting for 3 toroidal transits to see by eye\n",
    "#     # if Y_B is high enough that |B|(ζ) doesn't change as Y_B is varied.\n",
    "#     Y_B=100,\n",
    "#     num_transit=num_transit,\n",
    "#     # Plot the field lines to obtain a tight upper bound on ``num_well``.\n",
    "#     num_well=15 * num_transit,\n",
    "# );"
   ]
  },
  {
   "cell_type": "markdown",
   "id": "913fb794-b3c0-4bfc-bf7c-7b6b7141250c",
   "metadata": {},
   "source": [
    "## Calculating effective ripple for Precise QH"
   ]
  },
  {
   "cell_type": "code",
   "execution_count": 4,
   "id": "066b90da-9212-4834-bb81-0488d69a5c3d",
   "metadata": {},
   "outputs": [
    {
     "data": {
      "image/png": "[encoded data removed]",
      "text/plain": [
       "<Figure size 640x480 with 1 Axes>"
      ]
     },
     "metadata": {},
     "output_type": "display_data"
    }
   ],
   "source": [
    "num_transit = 20\n",
    "num_well = 10 * num_transit\n",
    "num_pitch = 45\n",
    "data = eq0.compute(\n",
    "    \"effective ripple\",\n",
    "    grid=grid,\n",
    "    theta=theta,\n",
    "    Y_B=100,\n",
    "    num_transit=num_transit,\n",
    "    # Optional; improves performance if num well < Y_B * num transit.\n",
    "    num_well=num_well,\n",
    "    # number of quadrature points for each bounce integral\n",
    "    num_quad=32,\n",
    "    # number of pitch angles for integration over velocity coordinate\n",
    "    num_pitch=num_pitch,\n",
    "    # number of pitch angles to compute simultaneously.\n",
    "    # Reduce this if insufficient memory. If insufficient memory is detected\n",
    "    # early then the code will exit and return ε = 0 everywhere. If not detected\n",
    "    # early then typical OOM errors will occur.\n",
    "    batch_size=None,\n",
    ")\n",
    "\n",
    "eps_32 = grid.compress(data[\"effective ripple\"])\n",
    "fig, ax = plt.subplots()\n",
    "ax.plot(rho, eps_32, marker=\"o\")\n",
    "ax.set(xlabel=r\"$\\rho$\", ylabel=r\"$\\epsilon$\", title=\"Precise QH\")\n",
    "plt.tight_layout()\n",
    "plt.show()"
   ]
  },
  {
   "cell_type": "markdown",
   "id": "b6389a76-18ee-4fe8-89d5-a20ae80a2b24",
   "metadata": {},
   "source": [
    "## Calculating effective ripple for Heliotron"
   ]
  },
  {
   "cell_type": "code",
   "execution_count": 5,
   "id": "36934653-6515-4c86-854e-062adbee9dec",
   "metadata": {},
   "outputs": [
    {
     "data": {
      "image/png": "[encoded data removed]",
      "text/plain": [
       "<Figure size 640x480 with 1 Axes>"
      ]
     },
     "metadata": {},
     "output_type": "display_data"
    }
   ],
   "source": [
    "eq0 = get(\"HELIOTRON\")\n",
    "grid = LinearGrid(rho=rho, M=eq0.M_grid, N=eq0.N_grid, NFP=eq0.NFP, sym=False)\n",
    "Y_B = 150\n",
    "num_transit = 20\n",
    "num_well = 30 * num_transit\n",
    "num_quad = 64\n",
    "data = eq0.compute(\n",
    "    \"effective ripple\",\n",
    "    grid=grid,\n",
    "    theta=Bounce2D.compute_theta(eq0, X, Y, rho=rho),\n",
    "    Y_B=Y_B,\n",
    "    num_transit=num_transit,\n",
    "    num_well=num_well,\n",
    "    num_quad=num_quad,\n",
    ")\n",
    "\n",
    "eps_32 = grid.compress(data[\"effective ripple\"])\n",
    "fig, ax = plt.subplots()\n",
    "ax.plot(rho, eps_32, marker=\"o\")\n",
    "ax.set(xlabel=r\"$\\rho$\", ylabel=r\"$\\epsilon$\", title=\"Heliotron\")\n",
    "plt.tight_layout()\n",
    "plt.show()"
   ]
  },
  {
   "cell_type": "markdown",
   "id": "a4fc40f2-278b-4e67-82a3-eb2fc0419989",
   "metadata": {},
   "source": [
    "## Optimizing Heliotron"
   ]
  },
  {
   "cell_type": "code",
   "execution_count": null,
   "id": "5e65af04-7b46-4f30-b265-6467254eb2cb",
   "metadata": {},
   "outputs": [],
   "source": [
    "eq1 = eq0.copy()\n",
    "k = 2  # which modes to unfix\n",
    "print()\n",
    "print(\"---------------------------------------\")\n",
    "print(f\"Optimizing boundary modes M, N <= {k}\")\n",
    "print(\"---------------------------------------\")\n",
    "modes_R = np.vstack(\n",
    "    (\n",
    "        [0, 0, 0],\n",
    "        eq1.surface.R_basis.modes[np.max(np.abs(eq1.surface.R_basis.modes), 1) > k, :],\n",
    "    )\n",
    ")\n",
    "modes_Z = eq1.surface.Z_basis.modes[np.max(np.abs(eq1.surface.Z_basis.modes), 1) > k, :]\n",
    "constraints = (\n",
    "    ForceBalance(eq=eq1),\n",
    "    FixBoundaryR(eq=eq1, modes=modes_R),\n",
    "    FixBoundaryZ(eq=eq1, modes=modes_Z),\n",
    "    FixPressure(eq=eq1),\n",
    "    FixIota(eq=eq1),\n",
    "    FixPsi(eq=eq1),\n",
    ")\n",
    "curvature_grid = LinearGrid(\n",
    "    rho=np.array([1.0]), M=eq1.M_grid, N=eq1.N_grid, NFP=eq1.NFP, sym=eq1.sym\n",
    ")\n",
    "ripple_grid = LinearGrid(\n",
    "    rho=np.linspace(0.2, 1, 5), M=eq1.M_grid, N=eq1.N_grid, NFP=eq1.NFP, sym=False\n",
    ")\n",
    "objective = ObjectiveFunction(\n",
    "    (\n",
    "        EffectiveRipple(\n",
    "            eq1,\n",
    "            grid=ripple_grid,\n",
    "            X=16,\n",
    "            Y=32,\n",
    "            Y_B=128,\n",
    "            num_transit=10,\n",
    "            num_well=30 * 10,\n",
    "            num_quad=32,\n",
    "            num_pitch=45,\n",
    "            # FIXME: Has no effect on memory consumed by Jacobian, even though reduces compute memory....\n",
    "            batch_size=1,\n",
    "            deriv_mode=\"rev\",\n",
    "        ),\n",
    "        AspectRatio(eq1, bounds=(8, 11), weight=1e3),\n",
    "        GenericObjective(\n",
    "            \"curvature_k2_rho\", eq1, grid=curvature_grid, bounds=(-128, 10), weight=2e3\n",
    "        ),\n",
    "    )\n",
    ")\n",
    "optimizer = Optimizer(\"proximal-lsq-exact\")\n",
    "(eq1,), _ = optimizer.optimize(\n",
    "    eq1,\n",
    "    objective,\n",
    "    constraints,\n",
    "    ftol=1e-4,\n",
    "    xtol=1e-6,\n",
    "    gtol=1e-6,\n",
    "    maxiter=5,  # increase maxiter to 50 for a better result\n",
    "    verbose=3,\n",
    "    options={\"initial_trust_ratio\": 2e-3},\n",
    ")\n",
    "print(\"Optimization complete!\")"
   ]
  },
  {
   "cell_type": "code",
   "execution_count": null,
   "id": "ceced2bb-a5ef-45b7-8864-e874d78239fd",
   "metadata": {},
   "outputs": [],
   "source": [
    "data = eq1.compute(\n",
    "    \"effective ripple\",\n",
    "    grid=grid,\n",
    "    theta=Bounce2D.compute_theta(eq1, X, Y, rho=rho),\n",
    "    num_transit=num_transit,\n",
    "    num_well=num_well,\n",
    "    num_quad=num_quad,\n",
    ")\n",
    "eps_32_opt = grid.compress(data[\"effective ripple\"])\n",
    "fig, ax = plt.subplots()\n",
    "ax.plot(rho, eps_32, marker=\"o\", label=\"original\")\n",
    "ax.plot(rho, eps_32_opt, marker=\"o\", label=\"optimized\")\n",
    "ax.set(xlabel=r\"$\\rho$\", ylabel=r\"$\\epsilon$\", title=\"Heliotron\")\n",
    "plt.tight_layout()\n",
    "plt.show()"
   ]
  }
 ],
 "metadata": {
  "kernelspec": {
   "display_name": "desc-env",
   "language": "python",
   "name": "desc-env"
  },
  "language_info": {
   "codemirror_mode": {
    "name": "ipython",
    "version": 3
   },
   "file_extension": ".py",
   "mimetype": "text/x-python",
   "name": "python",
   "nbconvert_exporter": "python",
   "pygments_lexer": "ipython3",
   "version": "3.10.14"
  }
 },
 "nbformat": 4,
 "nbformat_minor": 5
}
