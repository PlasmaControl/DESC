{
 "cells": [
  {
   "cell_type": "markdown",
   "id": "cdbf1162-d1d1-4dec-8fd9-b07d084c49b2",
   "metadata": {},
   "source": [
    "# Solving Equilibria with Fixed Axis and Fixed NAE O(rho) Behavior in DESC"
   ]
  },
  {
   "cell_type": "markdown",
   "id": "cea6dc7c-303e-46c3-a8a8-b42a038261ad",
   "metadata": {},
   "source": [
    "This tutorial shows how to find equilibrium solutions in DESC which are constrained to have the same axis and near-axis behavior as a NAE solution from the pyQSC code"
   ]
  },
  {
   "cell_type": "markdown",
   "id": "2a3fc4c6-14e1-4b42-b95c-ccd69e637c72",
   "metadata": {},
   "source": [
    "# Creating a DESC Equilibrium from a pyQsc Near-Axis Equilibrium"
   ]
  },
  {
   "cell_type": "markdown",
   "id": "8a6ee32b-1a4c-47f5-9a9d-3498fb7d3f55",
   "metadata": {},
   "source": [
    "Note that you must have pyQsc installed in order to make use of the `Equilibrium.from_near_axis` method, do so with `pip install qsc`"
   ]
  },
  {
   "cell_type": "code",
   "execution_count": 1,
   "id": "a1f1791e-97bf-4a56-8968-4650d48f003d",
   "metadata": {},
   "outputs": [
    {
     "name": "stdout",
     "output_type": "stream",
     "text": [
      "DESC version 0.9.2+587.gc0b44414,using JAX backend, jax version=0.4.13, jaxlib version=0.4.13, dtype=float64\n",
      "Using device: CPU, with 14.58 GB available memory\n"
     ]
    }
   ],
   "source": [
    "# must have installed pyQsc with `pip install qsc` in order to use this!\n",
    "from qic import Qic\n",
    "import numpy as np\n",
    "import matplotlib.pyplot as plt\n",
    "from desc.equilibrium import Equilibrium\n",
    "from desc.objectives import get_fixed_boundary_constraints\n",
    "from desc.plotting import (\n",
    "    plot_comparison,\n",
    "    plot_fsa,\n",
    "    plot_section,\n",
    "    plot_surfaces,\n",
    "    plot_qs_error,\n",
    ")"
   ]
  },
  {
   "cell_type": "code",
   "execution_count": null,
   "id": "88a2349c-0d1c-4896-b233-965250bef1d4",
   "metadata": {},
   "outputs": [],
   "source": []
  },
  {
   "cell_type": "code",
   "execution_count": null,
   "id": "d49102db-c3d7-471f-b401-5a35960b6118",
   "metadata": {},
   "outputs": [],
   "source": []
  },
  {
   "cell_type": "markdown",
   "id": "90a66694-ccee-43e5-909c-927681091871",
   "metadata": {},
   "source": [
    "DESC is able to create an equilibrium based off of a `pyQsc` NAE equilibrium object. First, we'll make the NAE equilibrium using `pyQsc`"
   ]
  },
  {
   "cell_type": "code",
   "execution_count": 2,
   "id": "0403611d-9bd7-44cf-88ff-9c848ba3c1d2",
   "metadata": {},
   "outputs": [],
   "source": [
    "qsc_eq = Qic.from_paper('QI NFP2 r2' , nphi=201,order=\"r2\") # run with this one!\n",
    "# qsc_eq.lasym=False"
   ]
  },
  {
   "cell_type": "code",
   "execution_count": 3,
   "id": "e189a4e5-1220-4250-872b-bb8199230b10",
   "metadata": {},
   "outputs": [
    {
     "data": {
      "text/plain": [
       "True"
      ]
     },
     "execution_count": 3,
     "metadata": {},
     "output_type": "execute_result"
    }
   ],
   "source": [
    "qsc_eq.lasym"
   ]
  },
  {
   "cell_type": "markdown",
   "id": "ed61eac3-54f8-49a2-bb46-23e73e07ea06",
   "metadata": {},
   "source": [
    "Then, to make the DESC equilibrium, the `Equilibrium` class has a method `Equilibrium.from_near_axis`. This method creates a DESC `Equilibrium` based off of the `pyQsc` equilibrium. It requires as input the desired DESC FourierZernike resolution, as well as the radius at which you want to evaluate the qsc equilibrium at to make the DESC equilibrium's boundary. The equilibrium's initial `R_lmn`, `Z_lmn` Fourier-Zernike coefficients are fit to the `R,Z` evaluated from the `pyQsc` equilibrium, and the initial `L_lmn` are 0 (because the `pyQsc` equilibrium uses Boozer angles, so there is no poloidal stream function)"
   ]
  },
  {
   "cell_type": "code",
   "execution_count": 4,
   "id": "d490a021-dc21-421b-b985-16dcaf832974",
   "metadata": {},
   "outputs": [],
   "source": [
    "ntheta = 60\n",
    "r = 0.01\n",
    "desc_eq = Equilibrium.from_near_axis(\n",
    "    qsc_eq,  # the Qsc equilibrium object\n",
    "    r=r,  # the finite radius (m) at which to evaluate the Qsc surface to use as the DESC boundary\n",
    "    L=7,  # DESC radial resolution\n",
    "    M=7,  # DESC poloidal resolution\n",
    "    N=9,  # DESC toroidal resolution\n",
    "    ntheta=ntheta,\n",
    ")\n",
    "desc_eq.change_resolution(L_grid=12, M_grid=12, N_grid=15)\n",
    "eq_fit = desc_eq.copy()  # copy so we can see the original Qsc surfaces later"
   ]
  },
  {
   "cell_type": "code",
   "execution_count": 5,
   "id": "6c1bd32b-6439-42f9-bfbf-8cadbbb0e3c5",
   "metadata": {},
   "outputs": [],
   "source": [
    "%load_ext autoreload\n",
    "%autoreload 2"
   ]
  },
  {
   "cell_type": "code",
   "execution_count": 6,
   "id": "f0b47bcf-f7e5-40d7-b045-886342bead7c",
   "metadata": {},
   "outputs": [
    {
     "name": "stdout",
     "output_type": "stream",
     "text": [
      "Automatic pdb calling has been turned ON\n"
     ]
    }
   ],
   "source": [
    "%pdb\n",
    "from qic import Qic\n",
    "import matplotlib.pyplot as plt\n",
    "from desc.objectives.nae_utils import _calc_1st_order_NAE_coeffs\n",
    "import numpy as np\n",
    "# qsc = Qic.from_paper('QI NFP2 r2' , nphi=301,order=\"r1\") # run with this one!\n",
    "# qsc.lasym=False\n",
    "# rc      = [1.0,0.0,-0.04989452393138029,0.0,0.005104315280094349,0.0,0.0003260666764535078]\n",
    "# zs      = [0.0,0.0,-0.16444017885659307,0.0,0.005898705523953336,0.0,0.0011692891872228071]\n",
    "# B0_vals = [1.0,0.15664582522744158]\n",
    "# omn_method = \"non-zone-fourier\"\n",
    "# k_buffer = 1\n",
    "# p_buffer = 2\n",
    "# d_over_curvature_cvals = [0.4523859311745555,0.0008679779426985831,-0.002484819813388363,0.0036775832032869262,0.013309425256703433,-0.00026299410476153604]\n",
    "# delta   = 0.1\n",
    "# d_svals = []\n",
    "# nfp     = 3\n",
    "# iota    = -2.1155667891936907\n",
    "# X2s_svals = []\n",
    "# X2c_cvals = [0.0]\n",
    "# X2s_cvals = [0.0004066588899512191,0.06021894521908905,-0.4125633146872555,-0.0818377011695626,0.8415945963479472,0.18971830072842027,0.840558938779598,2.034624993033159,0.9352356722695293,1.6048050209546765,1.585922613305025,0.3859883515529046,0.26291440390429244,-0.48766371465964653,-1.1478558772733995,-1.0148962057914597,-1.058728731345739,0.016331648279707994,-0.4876961172005086,0.7474027188789079,0.4751643162543343,0.19548420651752554,0.5321064182261286,0.4511307390753144,0.1328582415680496,-0.11537707059274108,0.7234506414579371,1.139363120006459,0.09258286345339842,0.8860776402537537,0.7972098185125114,1.0589234885571917,0.004209462671819493,0.30320802234633165,1.5690263516269627,0.8501938303572988,0.45070833401041166,0.6157964001744047,-0.3870801525444373,-0.9915898964143361,0.18180959625909027,-0.14863572738786368,-0.8914080994267046,-1.6745490016858235,-0.6921642320133545,0.1593309546913136,1.560108303888641,-1.2027248590150141,0.6988908055525958,-0.27190159397058233,-0.0014903966202447932,-0.10437456640097813,-0.23282190841859718,-0.7706162363999018,1.95697384893869,0.256094408764415,-0.94967317708916,-1.3076316916144681,-1.0865590189725691,-0.26718857192560946,0.44453530342159997,-0.7098819766522084,-0.894994462752138,0.5626311905082779,0.3737435821405868,0.7746664490252777,1.4164570590540544,0.832061712027566,-0.2484649581729113,1.0222149095214341,0.5357447484163306,1.3073396851477357,0.38825340763715854,0.8563964487686905,1.6225476409724093,-0.33943062580410466,0.3464712265696533,0.9097561637745468,0.07446862537914248,0.15489720449686017,-0.07827084496674824,1.2327329280450074,-0.2575067387795579,-0.04618031541849188,-0.8051078772208673,-1.2177583764126414,-1.0089634247933637,-0.8975390869218834,0.16074245059110692,0.282887893566128,1.3075997765127094,1.6877919589007733,1.033465815337105,1.8676063446221485,1.4958552400916072,-0.11322155262523753,0.907022485213731,-0.5845985477131107,0.11424518226491291,-0.05356126020502161,-0.0015900406701586983]\n",
    "# X2c_svals = [1.8881684958601035,4.121764860322693,-1.4333739576083322,0.6615556575938264,3.3300533681581017,5.649630257985376,7.773643724752436,9.29270472395089,10.736869853145656,11.316082414347825,10.253638057079307,7.8614122275506215,3.3013825843586297,-1.6978984994568203,-5.593793437042951,-7.004657470962415,-6.462537626440397,-4.730029282221211,-1.9420570513514877,0.9410699380528759,4.538435592695207,7.608941920943227,9.882618474937246,11.333482124676962,12.107914135012486,14.344592010869103,15.113866222825056,15.832217830235376,16.24599056367518,16.183532080566742,15.512423606912535,14.522724240145514,14.121813118186541,14.451317784056425,14.536769683080312,13.91823279363297,10.858283333161104,5.15203609868177,-1.469747016398436,-7.544727677193893,-11.080570240003802,-12.659978405752435,-12.751003171345811,-12.172070392937211,-11.586404122199955,-11.444829120609466,-12.645295408795656,-11.290752250995922,-8.9391709790351,-2.822232681428341,1.0662660502795824,-5.463875949392538,6.840567732140194,9.725098581831588,13.132363128532017,11.321703529266141,11.448695721409567,11.790335499496406,12.32753564579528,12.696242946418863,11.69159113257691,9.012469778736405,3.761142311693919,-2.97015219007647,-9.077759304254315,-13.230718207789119,-14.505119895161283,-14.431228463991491,-14.06763940609863,-14.158492165633644,-14.883546995654916,-16.08059711912246,-16.138649785073785,-15.934546378270621,-15.557143900275975,-14.62512099437439,-13.080510712454187,-11.688059866486995,-10.558821029138393,-8.686272946058928,-5.792683168226752,-2.205931736819775,0.9178956266453471,3.8433109802545724,6.017190465030275,6.89491202728108,6.386076175189963,3.227956853838462,-1.6061715068950062,-6.479411782819478,-9.76792668486508,-11.152202691696687,-10.961230648089451,-9.632349296637077,-8.320398299468057,-6.517942093883308,-4.270442842737996,-1.7547299946916184,1.294615618323907,-3.356234526443786,-0.5150801075313625]\n",
    "# p2      = 0.0\n",
    "# nphi=301\n",
    "# order='r2'\n",
    "# qsc = Qic(omn_method = omn_method, delta=delta, p_buffer=p_buffer, p2=p2, k_buffer=k_buffer, rc=rc,zs=zs, nfp=nfp, B0_vals=B0_vals, d_svals=d_svals, nphi=nphi, omn=True, B2c_cvals=X2c_cvals, B2s_svals=X2s_svals, order=order, d_over_curvature_cvals=d_over_curvature_cvals, B2c_svals=X2c_svals, B2s_cvals=X2s_cvals)\n",
    "\n",
    "# coeffs,bases=_calc_1st_order_NAE_coeffs(qsc_eq,desc_eq)\n",
    "# plt.rcParams.update({\"font.size\":18})\n",
    "\n",
    "# coeffs.keys()\n",
    "\n",
    "# coeffs['R_1_1_n']\n",
    "\n",
    "# # bases.keys()\n",
    "\n",
    "# plt.figure()\n",
    "# plt.scatter(np.unique(modes[\"R_1_1_n_modes\"]),np.abs(coeffs['R_1_1_n']))\n",
    "# plt.yscale(\"log\")\n",
    "# plt.ylabel(\"R_1_1_n\")\n",
    "# plt.xlabel(\"n\")\n",
    "# plt.title(\"precise QI\")\n",
    "\n",
    "# plt.figure()\n",
    "# plt.scatter(np.unique(modes[\"R_1_neg1_n_modes\"]),np.abs(coeffs['R_1_neg1_n']))\n",
    "# plt.yscale(\"log\")\n",
    "# plt.ylabel(\"R_1_neg1_n\")\n",
    "# plt.xlabel(\"n\")\n",
    "# plt.title(\"precise QI\")\n",
    "\n",
    "# plt.figure()\n",
    "# plt.scatter(modes[\"Z_1_neg1_n_modes\"],np.abs(coeffs['Z_1_neg1_n']))\n",
    "# plt.yscale(\"log\")\n",
    "# plt.ylabel(\"Z_1_neg1_n\")\n",
    "# plt.xlabel(\"n\")\n",
    "# plt.title(\"precise QI\")\n",
    "\n",
    "# plt.figure()\n",
    "# plt.scatter(modes[\"Z_1_1_n_modes\"],np.abs(coeffs['Z_1_1_n']))\n",
    "# plt.yscale(\"log\")\n",
    "# plt.ylabel(\"Z_1_1_n\")\n",
    "# plt.xlabel(\"n\")\n",
    "# plt.title(\"precise QI\")\n"
   ]
  },
  {
   "cell_type": "code",
   "execution_count": 7,
   "id": "22b85c4a-cf24-47db-b6e2-d3a56ed4cd9d",
   "metadata": {},
   "outputs": [
    {
     "data": {
      "text/plain": [
       "True"
      ]
     },
     "execution_count": 7,
     "metadata": {},
     "output_type": "execute_result"
    }
   ],
   "source": [
    "qsc_eq.lasym"
   ]
  },
  {
   "cell_type": "markdown",
   "id": "98a3ce2e-c807-4998-9333-bf8e744e740b",
   "metadata": {},
   "source": [
    "Now we solve the equilibrium as normal in DESC"
   ]
  },
  {
   "cell_type": "code",
   "execution_count": null,
   "id": "29f5cf36-5d10-41f1-8492-e6bc636b81a7",
   "metadata": {},
   "outputs": [
    {
     "name": "stderr",
     "output_type": "stream",
     "text": [
      "/home/dpanici/DESC/desc/objectives/objective_funs.py:816: FutureWarning: Creating an Objective without specifying the Equilibrium to optimize is deprecated, in the future this will raise an error.\n",
      "  warnings.warn(\n"
     ]
    },
    {
     "name": "stdout",
     "output_type": "stream",
     "text": [
      "(<desc.objectives.linear_objectives.FixBoundaryR object at 0x7f46158fdc40>, <desc.objectives.linear_objectives.FixBoundaryZ object at 0x7f46158fd910>, <desc.objectives.linear_objectives.FixPsi object at 0x7f46158fd7c0>, <desc.objectives.linear_objectives.FixPressure object at 0x7f46158fd8b0>, <desc.objectives.linear_objectives.FixCurrent object at 0x7f46158fd7f0>)\n",
      "Building objective: force\n",
      "Precomputing transforms\n",
      "Timer: Precomputing transforms = 1.38 sec\n",
      "Timer: Objective build = 4.23 sec\n",
      "Timer: Linear constraint projection build = 10.3 sec\n",
      "Compiling objective function and derivatives: ['force']\n",
      "Timer: Objective compilation time = 2.27 sec\n",
      "Timer: Jacobian compilation time = 10.5 sec\n",
      "Timer: Total compilation time = 12.8 sec\n",
      "Number of parameters: 1474\n",
      "Number of objectives: 5642\n",
      "Starting optimization\n",
      "Using method: lsq-exact\n",
      "   Iteration     Total nfev        Cost      Cost reduction    Step norm     Optimality   \n",
      "       0              1          5.143e-02                                    2.102e+03   \n",
      "       1              4          2.356e-02      2.786e-02      4.587e+00      1.371e+03   \n",
      "       2              7          2.008e-02      3.486e-03      2.378e+00      1.324e+03   \n",
      "       3              8          1.716e-02      2.921e-03      1.184e+00      3.441e+01   \n",
      "       4              9          1.597e-02      1.183e-03      1.482e+00      9.442e+01   \n",
      "       5             10          1.447e-02      1.498e-03      1.677e+00      6.800e+02   \n",
      "       6             11          1.360e-02      8.688e-04      2.721e+00      1.199e+03   \n"
     ]
    }
   ],
   "source": [
    "# get the fixed-boundary constraints, which include also fixing the pressure and fixing the current profile (iota=False flag means fix current)\n",
    "constraints = get_fixed_boundary_constraints(iota=False)\n",
    "print(constraints)\n",
    "\n",
    "\n",
    "\n",
    "# solve the equilibrium\n",
    "desc_eq.solve(\n",
    "    verbose=3,\n",
    "    ftol=1e-2,\n",
    "    objective=\"force\",\n",
    "    maxiter=100,\n",
    "    xtol=1e-6,\n",
    "    constraints=constraints,\n",
    ")\n",
    "\n",
    "# Save equilibrium as .h5 file\n",
    "desc_eq.save(f\"QIC_NFP2_N{desc_eq.N}_M{desc_eq.M}_L{desc_eq.L}_fixed_surf.h5\")"
   ]
  },
  {
   "cell_type": "markdown",
   "id": "4191123e-e152-41da-a142-f41081876726",
   "metadata": {},
   "source": [
    "Now we have a DESC equilibrium solved with the boundary from `pyQsc`. It has zero toroidal current as its profile constraint along with zero pressure since the original Qsc equilibrium had 0 pressure and current."
   ]
  },
  {
   "cell_type": "markdown",
   "id": "2512451a-b5b5-451b-869d-f29f4cf9616d",
   "metadata": {},
   "source": [
    "However, if we plot the surfaces, we see that while the boundary matches, the interior deviates slightly from the NAE, especially near the core. This means we may have lost some of the optimized properties from the QSC equilibrium."
   ]
  },
  {
   "cell_type": "code",
   "execution_count": null,
   "id": "b2b2084a-2995-4773-8b1a-b7cd2fead41e",
   "metadata": {},
   "outputs": [],
   "source": [
    "plot_comparison(\n",
    "    eqs=[desc_eq, eq_fit],\n",
    "    labels=[\"DESC-solved equilibrium\", \"NAE surfaces\"],\n",
    "    figsize=(12, 12),\n",
    "    theta=0,\n",
    "    colors=[\"k\", \"r\"],\n",
    "    linestyles=[\"-\", \":\"],\n",
    "    lws=[1, 2],\n",
    ");"
   ]
  },
  {
   "cell_type": "markdown",
   "id": "045bca3c-967a-407b-ab5b-8884c92eb433",
   "metadata": {},
   "source": [
    "Instead of evaluating the NAE at a finite radius, fixing that boundary, and hoping the axis behavior stays the same, we can instead directly fix the axis and the $O(\\rho)$ asymptotic behavior."
   ]
  },
  {
   "cell_type": "markdown",
   "id": "da3da1ac-4802-493c-964c-02d5a488efc3",
   "metadata": {},
   "source": [
    "# Solving Equilibria with Fixed Axis and Fixed NAE $O(\\rho)$ Behavior in DESC"
   ]
  },
  {
   "cell_type": "code",
   "execution_count": null,
   "id": "29d0161a-5f8d-4d02-8872-a934c26c2a22",
   "metadata": {},
   "outputs": [],
   "source": [
    "# utility functions for getting the NAE constraints\n",
    "from desc.objectives import get_equilibrium_objective, get_NAE_constraints\n",
    "\n",
    "eq_NAE = eq_fit.copy()\n",
    "# this has all the constraints we need, iota=False specifies we want to fix current instead of iota\n",
    "constraints = get_NAE_constraints(eq_NAE, qsc_eq, iota=False, order=1)\n",
    "\n",
    "eq_NAE.solve(\n",
    "    verbose=3,\n",
    "    ftol=1e-2,\n",
    "    objective=\"force\",\n",
    "    maxiter=100,\n",
    "    xtol=1e-6,\n",
    "    constraints=constraints,\n",
    ");\n",
    "eq_NAE.save(f\"QIC_NFP2_N{desc_eq.N}_M{desc_eq.M}_L{desc_eq.L}.h5\")"
   ]
  },
  {
   "cell_type": "code",
   "execution_count": null,
   "id": "a928346a-ad88-48ca-9fd3-697fba1c9912",
   "metadata": {},
   "outputs": [],
   "source": [
    "eq_NAE.sym"
   ]
  },
  {
   "cell_type": "markdown",
   "id": "e660fc9b-020a-43ec-b47b-cfc9314e2deb",
   "metadata": {},
   "source": [
    "Again we can plot the surfaces, and we see that in this case, the near axis behavior is preserved, while the outer surfaces differ. This is expected, as the NAE from QSC is only valid asymptotically near the axis. By constraining this behavior we are able to keep all the desireable properties of the NAE where they are valid without overly constraining the problem."
   ]
  },
  {
   "cell_type": "code",
   "execution_count": null,
   "id": "f17b81f7-c273-4489-9b63-5a44f7bdd991",
   "metadata": {},
   "outputs": [],
   "source": [
    "fig, ax = plot_comparison(\n",
    "    eqs=[eq_fit, eq_NAE],\n",
    "    labels=[f\"NAE Surfaces r={r}\", f\"DESC NAE constrained\"],\n",
    "    colors=[\"k\", \"g\"],\n",
    "    linestyles=[\"-\", \"--\"],\n",
    "    figsize=(12, 12),\n",
    "    theta=0,\n",
    "    lws=[1, 2],\n",
    ")\n",
    "fig, ax = plot_comparison(\n",
    "    eqs=[desc_eq, eq_NAE],\n",
    "    labels=[f\"DESC Fixed Surface\", f\"DESC NAE constrained\"],\n",
    "    colors=[\"r\", \"g\"],\n",
    "    linestyles=[\":\", \"--\"],\n",
    "    figsize=(12, 12),\n",
    "    theta=0,\n",
    "    lws=[1, 2],\n",
    ");"
   ]
  },
  {
   "cell_type": "code",
   "execution_count": null,
   "id": "71d6d70e-c08a-4418-b07e-5d93e7af1865",
   "metadata": {},
   "outputs": [],
   "source": [
    "fig, ax = plot_comparison(\n",
    "    eqs=[eq_fit, eq_NAE],\n",
    "    labels=[f\"NAE Surfaces r={r}\", f\"DESC NAE constrained\"],\n",
    "    colors=[\"k\", \"g\"],\n",
    "    linestyles=[\"-\", \"--\"],\n",
    "    figsize=(12, 12),\n",
    "    theta=0,\n",
    "    lws=[1, 2],zeta=1.\n",
    ")\n",
    "fig, ax = plot_comparison(\n",
    "    eqs=[desc_eq, eq_NAE],\n",
    "    labels=[f\"DESC Fixed Surface\", f\"DESC NAE constrained\"],\n",
    "    colors=[\"r\", \"g\"],\n",
    "    linestyles=[\":\", \"--\"],\n",
    "    figsize=(12, 12),\n",
    "    theta=0,\n",
    "    lws=[1, 2],zeta=1.\n",
    ");"
   ]
  },
  {
   "cell_type": "markdown",
   "id": "ebed5500-9e52-449d-94f8-134fff9ac370",
   "metadata": {},
   "source": [
    "As a final comparison, we can plot the QS error for the fixed boundary and fixed NAE solves. We see that by fixing the NAE behavior, we are able to preserve the QS from the original QSC equilibrium."
   ]
  },
  {
   "cell_type": "code",
   "execution_count": null,
   "id": "f158da18-2c1b-4b3e-ae52-dbf0c4e9dcd4",
   "metadata": {},
   "outputs": [],
   "source": [
    "fix, ax = plt.subplots()\n",
    "plot_qs_error(\n",
    "    desc_eq,\n",
    "    fC=False,\n",
    "    fT=False,\n",
    "    log=True,\n",
    "    ax=ax,\n",
    "    colors=[\"r\"],\n",
    "    legend=False,\n",
    "    labels=[\"Fixed boundary\"],\n",
    ")\n",
    "plot_qs_error(\n",
    "    eq_NAE,\n",
    "    fC=False,\n",
    "    fT=False,\n",
    "    log=True,\n",
    "    ax=ax,\n",
    "    colors=[\"g\"],\n",
    "    legend=False,\n",
    "    labels=[\"Fixed NAE\"],\n",
    ")\n",
    "ax.legend()\n",
    "ax.set_ylabel(\"$\\sum |B_{mn}|$\")"
   ]
  },
  {
   "cell_type": "code",
   "execution_count": null,
   "id": "7f1898df-94fb-4541-a715-96d39c55b898",
   "metadata": {},
   "outputs": [],
   "source": [
    "from desc.plotting import *\n",
    "from desc.grid import LinearGrid\n",
    "plot_boozer_surface(eq_NAE)\n",
    "plt.title(r\"$\\rho=1$\")\n",
    "plot_boozer_surface(eq_NAE,grid_plot = LinearGrid(rho=1e-5,M=40,N=40),grid_compute = LinearGrid(rho=1e-5,M=40,N=40))\n",
    "plt.title(r\"$\\rho=10^-5$\")"
   ]
  },
  {
   "cell_type": "code",
   "execution_count": null,
   "id": "951f7c64-8ba6-446c-b446-40765c5c78ad",
   "metadata": {},
   "outputs": [],
   "source": [
    "plot_boozer_surface(desc_eq)\n",
    "plt.title(r\"$\\rho=1$\")\n",
    "plot_boozer_surface(eq_NAE,grid_plot = LinearGrid(rho=1e-5,M=40,N=40),grid_compute = LinearGrid(rho=1e-5,M=40,N=40))\n",
    "plt.title(r\"$\\rho=10^-5$\")"
   ]
  },
  {
   "cell_type": "markdown",
   "id": "6bc7d25c",
   "metadata": {},
   "source": [
    "The correct behaviour near the axis may be also checked by assessing directly other features of the equilibrium; most notably, the behaviour of |B| on axis, the rotational transform on axis, as well as the form of $\\lambda$. Starting from the rotational transform, we may compare the value obtained to that of the near-axis expansion,"
   ]
  },
  {
   "cell_type": "code",
   "execution_count": null,
   "id": "26cb572a",
   "metadata": {},
   "outputs": [],
   "source": [
    "import matplotlib.pyplot as plt\n",
    "from desc.plotting import plot_fsa\n",
    "\n",
    "rho = np.linspace(1e-3,1e-1)\n",
    "fig, ax, iota_nae = plot_fsa(eq_NAE,\"iota\",rho=rho, return_data=True)\n",
    "fig, ax, iota_surf = plot_fsa(desc_eq,\"iota\",rho=rho, ax=ax, return_data=True, linecolor='orange')\n",
    "plt.plot(rho, np.ones(np.size(rho))*qsc_eq.iota,linestyle='--')\n",
    "plt.legend(['Fixed NAE', 'Fixed boundary', 'NAE'])\n",
    "print('Relative error in the rotational transform (fixed NAE): ', (iota_nae['iota'][0]-qsc_eq.iota)/qsc_eq.iota)\n",
    "print('Relative error in the rotational transform (fixed surface): ', (iota_surf['iota'][0]-qsc_eq.iota)/qsc_eq.iota)\n",
    "# print(iota[1].yaxis)"
   ]
  },
  {
   "cell_type": "code",
   "execution_count": null,
   "id": "ffc59b85-f63e-4dd3-9102-7b572688acae",
   "metadata": {},
   "outputs": [],
   "source": [
    "import matplotlib.pyplot as plt\n",
    "from desc.plotting import plot_fsa\n",
    "\n",
    "rho = np.linspace(1e-3,1,50)\n",
    "fig, ax, iota_nae = plot_fsa(eq_NAE,\"iota\",rho=rho, return_data=True)\n",
    "fig, ax, iota_surf = plot_fsa(desc_eq,\"iota\",rho=rho, ax=ax, return_data=True, linecolor='orange')\n",
    "plt.plot(rho, np.ones(np.size(rho))*qsc_eq.iota,linestyle='--')\n",
    "plt.legend(['Fixed NAE', 'Fixed boundary', 'NAE'])\n",
    "print('Relative error in the rotational transform (fixed NAE): ', (iota_nae['iota'][0]-qsc_eq.iota)/qsc_eq.iota)\n",
    "print('Relative error in the rotational transform (fixed surface): ', (iota_surf['iota'][0]-qsc_eq.iota)/qsc_eq.iota)\n",
    "# print(iota[1].yaxis)"
   ]
  },
  {
   "cell_type": "markdown",
   "id": "03949fe2",
   "metadata": {},
   "source": [
    "This clearly shows that the constraint is working as it is intended. A similar expected behaviour can be found for other features of the equilibrium such as the magnetic field on axis."
   ]
  },
  {
   "cell_type": "code",
   "execution_count": null,
   "id": "e263e86d",
   "metadata": {},
   "outputs": [],
   "source": [
    "from desc.compute import data_index\n",
    "from desc.grid import LinearGrid\n",
    "\n",
    "grid = LinearGrid(M=desc_eq.M_grid, N=desc_eq.N_grid, NFP=desc_eq.NFP, rho=np.array(1e-6))\n",
    "# Evaluate B modes near the axis\n",
    "data_surf = desc_eq.compute([\"|B|_mn\", \"B modes\"], grid=grid)\n",
    "data_nae = eq_NAE.compute([\"|B|_mn\", \"B modes\"], grid=grid)\n",
    "modes = data_surf[\"B modes\"]\n",
    "B_mn_surf = data_surf[\"|B|_mn\"]\n",
    "B_mn_nae = data_nae[\"|B|_mn\"]\n",
    "# Evaluate B on an angular grid\n",
    "theta = np.linspace(0,2*np.pi,150)\n",
    "phi = np.linspace(0,2*np.pi,qsc_eq.nphi)\n",
    "th, ph = np.meshgrid(theta,phi)\n",
    "B_surf = np.zeros((qsc_eq.nphi,150))\n",
    "B_nae = np.zeros((qsc_eq.nphi,150))\n",
    "idx = np.where(modes[:,2] !=0)[0]\n",
    "# Print the deviation of B from QS (that is, the variation of B respect to its average along the axis)\n",
    "print('Deviation from QS (fixed surface): ', np.sqrt(np.sum(B_mn_surf[idx]*B_mn_surf[idx]))/np.sqrt(np.sum(B_mn_surf*B_mn_surf)))\n",
    "print('Deviation from QS (fixed nae): ', np.sqrt(np.sum(B_mn_nae[idx]*B_mn_nae[idx]))/np.sqrt(np.sum(B_mn_nae*B_mn_nae)))\n",
    "for i, (l,m,n) in enumerate(modes):\n",
    "    if m>=0 and n>=0:\n",
    "        B_surf += B_mn_surf[i]*np.cos(m*th)*np.cos(n*ph)\n",
    "        B_nae += B_mn_nae[i]*np.cos(m*th)*np.cos(n*ph)\n",
    "    elif m>=0 and n<0:\n",
    "        B_surf += -B_mn_surf[i]*np.cos(m*th)*np.sin(n*ph)\n",
    "        B_nae += -B_mn_nae[i]*np.cos(m*th)*np.sin(n*ph)\n",
    "    elif m<0 and n>=0:\n",
    "        B_surf += -B_mn_surf[i]*np.sin(m*th)*np.cos(n*ph)\n",
    "        B_nae += -B_mn_nae[i]*np.sin(m*th)*np.cos(n*ph)\n",
    "    elif m<0 and n<0:\n",
    "        B_surf += B_mn_surf[i]*np.sin(m*th)*np.sin(n*ph)\n",
    "        B_nae += B_mn_nae[i]*np.sin(m*th)*np.sin(n*ph)\n",
    "# Eliminate the poloidal angle to focus on the toroidal behaviour\n",
    "B_av_surf = np.mean(B_surf,axis=1)\n",
    "B_av_nae = np.mean(B_nae,axis=1)\n",
    "plt.plot(phi,B_av_surf)\n",
    "plt.plot(phi,B_av_nae)\n",
    "plt.plot(phi,np.ones(np.size(phi))*qsc_eq.B0,linestyle='--')\n",
    "plt.xlabel('$\\phi$')\n",
    "plt.ylabel('$|B|$')\n",
    "plt.legend(['Fixed surface', 'Fixed NAE','NAE'])\n",
    "plt.show()"
   ]
  },
  {
   "cell_type": "code",
   "execution_count": null,
   "id": "77ebbcfd-4f0e-4f2a-8bbd-455adf638eb8",
   "metadata": {},
   "outputs": [],
   "source": [
    "from desc.compute import data_index\n",
    "from desc.grid import LinearGrid\n",
    "\n",
    "grid = LinearGrid(M=desc_eq.M_grid, N=desc_eq.N_grid, NFP=desc_eq.NFP, rho=np.array(1e-9))\n",
    "# Evaluate B modes near the axis\n",
    "data_nae = eq_NAE.compute([\"|B|_mn\", \"B modes\"], grid=grid)\n",
    "modes = data_nae[\"B modes\"]\n",
    "B_mn_nae = data_nae[\"|B|_mn\"]\n",
    "# Evaluate B on an angular grid\n",
    "theta = np.linspace(0,2*np.pi,150)\n",
    "phi = np.linspace(0,2*np.pi,qsc_eq.nphi)\n",
    "th, ph = np.meshgrid(theta,phi)\n",
    "B_nae = np.zeros((qsc_eq.nphi,150))\n",
    "idx = np.where(modes[:,2] !=0)[0]\n",
    "# Print the deviation of B from QS (that is, the variation of B respect to its average along the axis)\n",
    "print('Deviation from QS (fixed nae): ', np.sqrt(np.sum(B_mn_nae[idx]*B_mn_nae[idx]))/np.sqrt(np.sum(B_mn_nae*B_mn_nae)))\n",
    "for i, (l,m,n) in enumerate(modes):\n",
    "    if m>=0 and n>=0:\n",
    "        B_nae += B_mn_nae[i]*np.cos(m*th)*np.cos(n*ph)\n",
    "    elif m>=0 and n<0:\n",
    "        B_nae += -B_mn_nae[i]*np.cos(m*th)*np.sin(n*ph)\n",
    "    elif m<0 and n>=0:\n",
    "        B_nae += -B_mn_nae[i]*np.sin(m*th)*np.cos(n*ph)\n",
    "    elif m<0 and n<0:\n",
    "        B_nae += B_mn_nae[i]*np.sin(m*th)*np.sin(n*ph)\n",
    "# Eliminate the poloidal angle to focus on the toroidal behaviour\n",
    "B_av_nae = np.mean(B_nae,axis=1)\n",
    "np.testing.assert_allclose(B_av_nae, np.ones(np.size(phi))*qsc_eq.B0, atol=2e-2)\n",
    "\n",
    "\n",
    "\n",
    "plt.plot(phi,B_av_nae)\n",
    "plt.plot(phi,np.ones(np.size(phi))*qsc_eq.B0,linestyle='--')\n",
    "plt.xlabel('$\\phi$')\n",
    "plt.ylabel('$|B|$')\n",
    "plt.legend(['Fixed surface', 'Fixed NAE','NAE'])\n",
    "plt.show()"
   ]
  },
  {
   "cell_type": "code",
   "execution_count": null,
   "id": "10542bcc-3266-4eed-93db-62398761713c",
   "metadata": {},
   "outputs": [],
   "source": [
    "from desc.compute import data_index\n",
    "from desc.grid import LinearGrid\n",
    "from desc.io import load\n",
    "for N in [19,15,11]:\n",
    "    eq_NAE = load(f\"QIC_NFP2_N{N}_M7_L7.h5\")\n",
    "    # eq_surf = load(f\"QIC_NFP2_N{N}_M7_L7_fixed_surf.h5\")\n",
    "    # eq_surf.change_resolution(eq_NAE)\n",
    "    grid = LinearGrid(M=eq_NAE.M_grid, N=eq_NAE.N_grid, NFP=eq_NAE.NFP, rho=np.array(1e-6))\n",
    "    # Evaluate B modes near the axis\n",
    "    # data_surf = desc_eq.compute([\"|B|_mn\", \"B modes\"], grid=grid)\n",
    "    data_nae = eq_NAE.compute([\"|B|_mn\", \"B modes\"], grid=grid)\n",
    "    modes = data_nae[\"B modes\"]\n",
    "    # B_mn_surf = data_surf[\"|B|_mn\"]\n",
    "    B_mn_nae = data_nae[\"|B|_mn\"]\n",
    "    # Evaluate B on an angular grid\n",
    "    theta = np.linspace(0,2*np.pi,150)\n",
    "    phi = np.linspace(0,2*np.pi,qsc_eq.nphi)\n",
    "    th, ph = np.meshgrid(theta,phi)\n",
    "    B_surf = np.zeros((qsc_eq.nphi,150))\n",
    "    B_nae = np.zeros((qsc_eq.nphi,150))\n",
    "    idx = np.where(modes[:,2] !=0)[0]\n",
    "    # Print the deviation of B from QS (that is, the variation of B respect to its average along the axis)\n",
    "    # print('Deviation from QS (fixed surface): ', np.sqrt(np.sum(B_mn_surf[idx]*B_mn_surf[idx]))/np.sqrt(np.sum(B_mn_surf*B_mn_surf)))\n",
    "    print('Deviation from QS (fixed nae): ', np.sqrt(np.sum(B_mn_nae[idx]*B_mn_nae[idx]))/np.sqrt(np.sum(B_mn_nae*B_mn_nae)))\n",
    "    for i, (l,m,n) in enumerate(modes):\n",
    "        if m>=0 and n>=0:\n",
    "            # B_surf += B_mn_surf[i]*np.cos(m*th)*np.cos(n*ph)\n",
    "            B_nae += B_mn_nae[i]*np.cos(m*th)*np.cos(n*ph)\n",
    "        elif m>=0 and n<0:\n",
    "            # B_surf += -B_mn_surf[i]*np.cos(m*th)*np.sin(n*ph)\n",
    "            B_nae += -B_mn_nae[i]*np.cos(m*th)*np.sin(n*ph)\n",
    "        elif m<0 and n>=0:\n",
    "            # B_surf += -B_mn_surf[i]*np.sin(m*th)*np.cos(n*ph)\n",
    "            B_nae += -B_mn_nae[i]*np.sin(m*th)*np.cos(n*ph)\n",
    "        elif m<0 and n<0:\n",
    "            # B_surf += B_mn_surf[i]*np.sin(m*th)*np.sin(n*ph)\n",
    "            B_nae += B_mn_nae[i]*np.sin(m*th)*np.sin(n*ph)\n",
    "    # Eliminate the poloidal angle to focus on the toroidal behaviour\n",
    "    # B_av_surf = np.mean(B_surf,axis=1)\n",
    "    B_av_nae = np.mean(B_nae,axis=1)\n",
    "    # plt.plot(phi,B_av_surf)\n",
    "    plt.plot(phi,B_av_nae,label=f\"N={N}\")\n",
    "plt.plot(phi,np.ones(np.size(phi))*qsc_eq.B0,linestyle='--',label=\"NAE\")\n",
    "plt.xlabel('$\\phi$')\n",
    "plt.ylabel('$|B|$')\n",
    "# plt.legend(['Fixed surface', 'Fixed NAE','NAE'])\n",
    "plt.legend()\n",
    "plt.show()\n"
   ]
  },
  {
   "cell_type": "markdown",
   "id": "4fc4693a",
   "metadata": {},
   "source": [
    "Finally, we may check $\\lambda$ on axis and compare it to $\\nu$ from within the near-axis expansion."
   ]
  },
  {
   "cell_type": "code",
   "execution_count": null,
   "id": "65420402",
   "metadata": {},
   "outputs": [],
   "source": [
    "grid_2d_05 = LinearGrid(rho=np.array(1e-6), M=50, N=50, NFP=desc_eq.NFP, endpoint=True)\n",
    "\n",
    "# Evaluate lambda near the axis\n",
    "data_surf = desc_eq.compute(\"lambda\", grid=grid_2d_05)\n",
    "data_nae = eq_NAE.compute(\"lambda\", grid=grid_2d_05)\n",
    "lam_surf = data_surf[\"lambda\"]\n",
    "lam_nae = data_nae[\"lambda\"]\n",
    "\n",
    "# Reshape to form grids on theta and phi\n",
    "zeta = (\n",
    "    grid_2d_05.nodes[:, 2]\n",
    "    .reshape((grid_2d_05.num_theta, grid_2d_05.num_rho, grid_2d_05.num_zeta), order=\"F\")\n",
    "    .squeeze()\n",
    ")\n",
    "lam_surf = lam_surf.reshape(\n",
    "    (grid_2d_05.num_theta, grid_2d_05.num_rho, grid_2d_05.num_zeta), order=\"F\"\n",
    ")\n",
    "lam_nae = lam_nae.reshape(\n",
    "    (grid_2d_05.num_theta, grid_2d_05.num_rho, grid_2d_05.num_zeta), order=\"F\"\n",
    ")\n",
    "\n",
    "phi = np.squeeze(zeta[0, :])\n",
    "lam_surf = np.squeeze(lam_surf[:, 0, :])\n",
    "lam_nae = np.squeeze(lam_nae[:, 0, :])\n",
    "\n",
    "# Eliminate the poloidal angle to focus on the toroidal behaviour\n",
    "lam_av_surf = np.mean(lam_surf,axis=0)\n",
    "lam_av_nae = np.mean(lam_nae,axis=0)\n",
    "print('Deviation of theta from Boozer angle (fixed surface)', np.mean(np.abs(lam_av_surf+qsc_eq.iota*qsc_eq.nu_spline(phi))))\n",
    "print('Deviation of theta from Boozer angle (fixed nae)', np.mean(np.abs(lam_av_nae+qsc_eq.iota*qsc_eq.nu_spline(phi))))\n",
    "plt.plot(phi,lam_av_surf)\n",
    "plt.plot(phi,lam_av_nae)\n",
    "plt.plot(phi,-qsc_eq.iota*qsc_eq.nu_spline(phi),linestyle='--')\n",
    "plt.xlabel('$\\phi$')\n",
    "plt.ylabel('$\\lambda$')\n",
    "plt.legend(['Fixed surface', 'Fixed NAE','NAE'])\n",
    "plt.show()"
   ]
  },
  {
   "cell_type": "code",
   "execution_count": null,
   "id": "8ebd9a31-f44f-488f-9818-426919b67717",
   "metadata": {},
   "outputs": [],
   "source": [
    "grid_2d_05 = LinearGrid(rho=np.array(1e-6), M=50, N=50, NFP=eq_NAE.NFP, endpoint=True)\n",
    "\n",
    "# Evaluate lambda near the axis\n",
    "data_nae = eq_NAE.compute(\"lambda\", grid=grid_2d_05)\n",
    "lam_surf = data_surf[\"lambda\"]\n",
    "lam_nae = data_nae[\"lambda\"]\n",
    "\n",
    "# Reshape to form grids on theta and phi\n",
    "zeta = (\n",
    "    grid_2d_05.nodes[:, 2]\n",
    "    .reshape((grid_2d_05.num_theta, grid_2d_05.num_rho, grid_2d_05.num_zeta), order=\"F\")\n",
    "    .squeeze()\n",
    ")\n",
    "\n",
    "lam_nae = lam_nae.reshape(\n",
    "    (grid_2d_05.num_theta, grid_2d_05.num_rho, grid_2d_05.num_zeta), order=\"F\"\n",
    ")\n",
    "\n",
    "phi = np.squeeze(zeta[0, :])\n",
    "lam_nae = np.squeeze(lam_nae[:, 0, :])\n",
    "\n",
    "lam_qsc = -qsc_eq.iota*qsc_eq.nu_spline(phi)\n",
    "lam_av_nae = np.mean(lam_nae,axis=0)\n",
    "np.testing.assert_allclose(lam_av_nae, -qsc_eq.iota*qsc_eq.nu_spline(phi), atol=4e-5)\n",
    "\n",
    "# Eliminate the poloidal angle to focus on the toroidal behaviour\n",
    "lam_av_nae = np.mean(lam_nae,axis=0)\n",
    "print('Deviation of theta from Boozer angle (fixed nae)', np.mean(np.abs(lam_av_nae+qsc_eq.iota*qsc_eq.nu_spline(phi))))\n",
    "plt.plot(phi,lam_av_nae)\n",
    "plt.plot(phi,-qsc_eq.iota*qsc_eq.nu_spline(phi),linestyle='--')\n",
    "plt.xlabel('$\\phi$')\n",
    "plt.ylabel('$\\lambda$')\n",
    "plt.legend(['Fixed surface', 'Fixed NAE','NAE'])\n",
    "plt.show()"
   ]
  },
  {
   "cell_type": "markdown",
   "id": "25c9651e",
   "metadata": {},
   "source": [
    "The above comparison shows that the DESC equilibrium constructed with the near-axis constraint is consistent with the near-axis behaviour."
   ]
  },
  {
   "cell_type": "code",
   "execution_count": null,
   "id": "58d9169a",
   "metadata": {},
   "outputs": [],
   "source": [
    "# eq_NAE.save(f\"QIC_NFP2_N{desc_eq.N}_M{desc_eq.M}_L{desc_eq.L}_r{r}.h5\")"
   ]
  },
  {
   "cell_type": "code",
   "execution_count": null,
   "id": "21589f0c-a36c-4460-8b0f-aae9303d7cba",
   "metadata": {},
   "outputs": [],
   "source": [
    "1"
   ]
  },
  {
   "cell_type": "code",
   "execution_count": null,
   "id": "74c515e6-701d-478a-8915-734d1214539d",
   "metadata": {},
   "outputs": [],
   "source": [
    "from desc.compute.utils import compress"
   ]
  },
  {
   "cell_type": "code",
   "execution_count": null,
   "id": "e35fa429-d53d-4e64-9bc1-f7354cd2c49e",
   "metadata": {},
   "outputs": [],
   "source": [
    "import os\n",
    "\n",
    "import numpy as np\n",
    "from shapely.geometry import Polygon\n",
    "\n",
    "from desc.grid import Grid, LinearGrid\n",
    "from desc.vmec import VMECIO\n",
    "\n",
    "def area_difference(Rr1, Rr2, Zr1, Zr2, Rv1, Rv2, Zv1, Zv2):\n",
    "    \"\"\"Compute area difference between coordinate curves.\n",
    "\n",
    "    Parameters\n",
    "    ----------\n",
    "    args : ndarray\n",
    "        R and Z coordinates of constant rho (r) or vartheta (v) contours.\n",
    "        Arrays should be indexed as [rho,theta,zeta]\n",
    "\n",
    "    Returns\n",
    "    -------\n",
    "    area_rho : ndarray, shape(Nz, Nr)\n",
    "        normalized area difference of rho contours, computed as the symmetric\n",
    "        difference divided by the intersection\n",
    "    area_theta : ndarray, shape(Nt, Nz)\n",
    "        normalized area difference between vartheta contours, computed as the area\n",
    "        of the polygon created by closing the two vartheta contours divided by the\n",
    "        perimeter squared\n",
    "    \"\"\"\n",
    "    assert Rr1.shape == Rr2.shape == Zr1.shape == Zr2.shape\n",
    "    assert Rv1.shape == Rv2.shape == Zv1.shape == Zv2.shape\n",
    "\n",
    "    poly_r1 = np.array(\n",
    "        [\n",
    "            [Polygon(np.array([R, Z]).T) for R, Z in zip(Rr1[:, :, i], Zr1[:, :, i])]\n",
    "            for i in range(Rr1.shape[2])\n",
    "        ]\n",
    "    )\n",
    "    poly_r2 = np.array(\n",
    "        [\n",
    "            [Polygon(np.array([R, Z]).T) for R, Z in zip(Rr2[:, :, i], Zr2[:, :, i])]\n",
    "            for i in range(Rr2.shape[2])\n",
    "        ]\n",
    "    )\n",
    "    poly_v = np.array(\n",
    "        [\n",
    "            [\n",
    "                Polygon(np.array([R, Z]).T)\n",
    "                for R, Z in zip(\n",
    "                    np.hstack([Rv1[:, :, i].T, Rv2[::-1, :, i].T]),\n",
    "                    np.hstack([Zv1[:, :, i].T, Zv2[::-1, :, i].T]),\n",
    "                )\n",
    "            ]\n",
    "            for i in range(Rv1.shape[2])\n",
    "        ]\n",
    "    )\n",
    "\n",
    "    diff_rho = np.array(\n",
    "        [\n",
    "            poly1.symmetric_difference(poly2).area\n",
    "            for poly1, poly2 in zip(poly_r1.flat, poly_r2.flat)\n",
    "        ]\n",
    "    ).reshape((Rr1.shape[2], Rr1.shape[0]))\n",
    "    intersect_rho = np.array(\n",
    "        [\n",
    "            poly1.intersection(poly2).area\n",
    "            for poly1, poly2 in zip(poly_r1.flat, poly_r2.flat)\n",
    "        ]\n",
    "    ).reshape((Rr1.shape[2], Rr1.shape[0]))\n",
    "    area_rho = np.where(\n",
    "        diff_rho > 0, diff_rho / np.where(intersect_rho != 0, intersect_rho, 1), 0\n",
    "    )\n",
    "    area_theta = np.array(\n",
    "        [poly.area / (poly.length) ** 2 for poly in poly_v.flat]\n",
    "    ).reshape((Rv1.shape[1], Rv1.shape[2]))\n",
    "    return area_rho, area_theta\n",
    "def area_difference_desc(eq1, eq2, Nr=10, Nt=8, Nz=None):\n",
    "    \"\"\"Compute average normalized area difference between two DESC equilibria.\n",
    "\n",
    "    Parameters\n",
    "    ----------\n",
    "    eq1, eq2 : Equilibrium\n",
    "        desc equilibria to compare\n",
    "    Nr : int, optional\n",
    "        Number of radial surfaces to average over\n",
    "    Nt : int, optional\n",
    "        Number of vartheta contours to compare\n",
    "    Nz : int, optional\n",
    "        Number of zeta planes to compare. If None, use 1 plane for axisymmetric cases\n",
    "        or 6 for non-axisymmetric.\n",
    "\n",
    "    Returns\n",
    "    -------\n",
    "    area_rho : ndarray, shape(Nr, Nz)\n",
    "        normalized area difference of rho contours, computed as the symmetric\n",
    "        difference divided by the intersection\n",
    "    area_theta : ndarray, shape(Nt, Nz)\n",
    "        normalized area difference between vartheta contours, computed as the area\n",
    "        of the polygon created by closing the two vartheta contours divided by the\n",
    "        perimeter squared\n",
    "\n",
    "    \"\"\"\n",
    "    Rr1, Zr1, Rv1, Zv1 = compute_coords(eq1, Nr=Nr, Nt=Nt, Nz=Nz)\n",
    "    Rr2, Zr2, Rv2, Zv2 = compute_coords(eq2, Nr=Nr, Nt=Nt, Nz=Nz)\n",
    "\n",
    "    area_rho, area_theta = area_difference(Rr1, Rr2, Zr1, Zr2, Rv1, Rv2, Zv1, Zv2)\n",
    "    return area_rho, area_theta\n",
    "\n",
    "def compute_coords(equil, Nr=10, Nt=8, Nz=None):\n",
    "    \"\"\"Computes coordinate values from a given equilibrium.\"\"\"\n",
    "    if Nz is None and equil.N == 0:\n",
    "        Nz = 1\n",
    "    elif Nz is None:\n",
    "        Nz = 6\n",
    "\n",
    "    num_theta = 1000\n",
    "    num_rho = 1000\n",
    "\n",
    "    # flux surfaces to plot\n",
    "    rr = np.linspace(1, 0, Nr, endpoint=False)[::-1]\n",
    "    rt = np.linspace(0, 2 * np.pi, num_theta)\n",
    "    rz = np.linspace(0, 2 * np.pi / equil.NFP, Nz, endpoint=False)\n",
    "    r_grid = LinearGrid(rho=rr, theta=rt, zeta=rz, NFP=equil.NFP)\n",
    "\n",
    "    # straight field-line angles to plot\n",
    "    tr = np.linspace(0, 1, num_rho)\n",
    "    tt = np.linspace(0, 2 * np.pi, Nt, endpoint=False)\n",
    "    tz = np.linspace(0, 2 * np.pi / equil.NFP, Nz, endpoint=False)\n",
    "    t_grid = LinearGrid(rho=tr, theta=tt, zeta=tz, NFP=equil.NFP)\n",
    "\n",
    "    # Note: theta* (also known as vartheta) is the poloidal straight field-line\n",
    "    # angle in PEST-like flux coordinates\n",
    "\n",
    "    # find theta angles corresponding to desired theta* angles\n",
    "    v_grid = Grid(equil.compute_theta_coords(t_grid.nodes))\n",
    "    r_coords = equil.compute([\"R\", \"Z\"], grid=r_grid)\n",
    "    v_coords = equil.compute([\"R\", \"Z\"], grid=v_grid)\n",
    "\n",
    "    # rho contours\n",
    "    Rr1 = r_coords[\"R\"].reshape(\n",
    "        (r_grid.num_theta, r_grid.num_rho, r_grid.num_zeta), order=\"F\"\n",
    "    )\n",
    "    Rr1 = np.swapaxes(Rr1, 0, 1)\n",
    "    Zr1 = r_coords[\"Z\"].reshape(\n",
    "        (r_grid.num_theta, r_grid.num_rho, r_grid.num_zeta), order=\"F\"\n",
    "    )\n",
    "    Zr1 = np.swapaxes(Zr1, 0, 1)\n",
    "\n",
    "    # vartheta contours\n",
    "    Rv1 = v_coords[\"R\"].reshape(\n",
    "        (t_grid.num_theta, t_grid.num_rho, t_grid.num_zeta), order=\"F\"\n",
    "    )\n",
    "    Rv1 = np.swapaxes(Rv1, 0, 1)\n",
    "    Zv1 = v_coords[\"Z\"].reshape(\n",
    "        (t_grid.num_theta, t_grid.num_rho, t_grid.num_zeta), order=\"F\"\n",
    "    )\n",
    "    Zv1 = np.swapaxes(Zv1, 0, 1)\n",
    "\n",
    "    return Rr1, Zr1, Rv1, Zv1"
   ]
  },
  {
   "cell_type": "code",
   "execution_count": null,
   "id": "5468f085-c24d-4459-ba54-707c1ce37751",
   "metadata": {},
   "outputs": [],
   "source": [
    "\n",
    "# qsc = Qic.from_paper(\"QI Jorge\",nphi=301)\n",
    "qsc = qsc_eq\n",
    "# ntheta = 75\n",
    "# r = 0.01\n",
    "# N = 9\n",
    "# eq = Equilibrium.from_near_axis(qsc, r=r, L=6, M=6, N=N, ntheta=ntheta)\n",
    "eq = eq_NAE\n",
    "\n",
    "orig_Rax_val = eq_fit.axis.R_n\n",
    "orig_Zax_val = eq_fit.axis.Z_n\n",
    "\n",
    "# eq_fit = eq.copy()\n",
    "\n",
    "# this has all the constraints we need,\n",
    "#  iota=False specifies we want to fix current instead of iota\n",
    "cs = get_NAE_constraints(eq, qsc, iota=False, order=1)\n",
    "\n",
    "# objectives = ForceBalance()\n",
    "# obj = ObjectiveFunction(objectives)\n",
    "\n",
    "# eq.solve(verbose=3, ftol=1e-2, objective=obj, maxiter=50, xtol=1e-6, constraints=cs)\n",
    "\n",
    "# Make sure axis is same\n",
    "np.testing.assert_almost_equal(orig_Rax_val, eq.axis.R_n)\n",
    "np.testing.assert_almost_equal(orig_Zax_val, eq.axis.Z_n)\n",
    "\n",
    "# Make sure surfaces of solved equilibrium are similar near axis as QIC\n",
    "rho_err, theta_err = area_difference_desc(eq, eq_fit)\n",
    "\n",
    "np.testing.assert_allclose(rho_err[:, 0:-6], 0, atol=1e-2)\n",
    "np.testing.assert_allclose(theta_err[:, 0:-6], 0, atol=1e-3)\n",
    "\n",
    "# Make sure iota of solved equilibrium is same near axis as QIC\n",
    "grid = LinearGrid(L=10, M=20, N=20, sym=True, axis=False)\n",
    "iota = compress(grid, eq.compute(\"iota\", grid=grid)[\"iota\"], \"rho\")\n",
    "\n",
    "np.testing.assert_allclose(iota[1], qsc.iota, atol=2e-4)\n",
    "np.testing.assert_allclose(iota[1:10], qsc.iota, atol=1e-3)"
   ]
  }
 ],
 "metadata": {
  "kernelspec": {
   "display_name": "Python 3 (ipykernel)",
   "language": "python",
   "name": "python3"
  },
  "language_info": {
   "codemirror_mode": {
    "name": "ipython",
    "version": 3
   },
   "file_extension": ".py",
   "mimetype": "text/x-python",
   "name": "python",
   "nbconvert_exporter": "python",
   "pygments_lexer": "ipython3",
   "version": "3.8.10"
  }
 },
 "nbformat": 4,
 "nbformat_minor": 5
}
